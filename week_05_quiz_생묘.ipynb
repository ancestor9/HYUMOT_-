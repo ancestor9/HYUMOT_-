{
 "cells": [
  {
   "cell_type": "markdown",
   "metadata": {},
   "source": [
    "# Week 5. Quiz"
   ]
  },
  {
   "cell_type": "code",
   "execution_count": 2,
   "metadata": {},
   "outputs": [
    {
     "data": {
      "text/html": [
       "<style>.container { width:100% !important; }</style>"
      ],
      "text/plain": [
       "<IPython.core.display.HTML object>"
      ]
     },
     "metadata": {},
     "output_type": "display_data"
    }
   ],
   "source": [
    "from IPython.core.display import display, HTML\n",
    "display(HTML(\"<style>.container { width:100% !important; }</style>\"))\n",
    "from IPython.core.interactiveshell import InteractiveShell\n",
    "InteractiveShell.ast_node_interactivity = \"all\"\n",
    "import warnings\n",
    "warnings.simplefilter(\"ignore\")\n",
    "\n",
    "import numpy as np\n",
    "import pandas as pd"
   ]
  },
  {
   "cell_type": "markdown",
   "metadata": {},
   "source": [
    "### A. 데이터 생성"
   ]
  },
  {
   "cell_type": "code",
   "execution_count": 3,
   "metadata": {},
   "outputs": [],
   "source": [
    "seed = 1384"
   ]
  },
  {
   "cell_type": "code",
   "execution_count": 5,
   "metadata": {},
   "outputs": [
    {
     "data": {
      "text/html": [
       "<div>\n",
       "<style scoped>\n",
       "    .dataframe tbody tr th:only-of-type {\n",
       "        vertical-align: middle;\n",
       "    }\n",
       "\n",
       "    .dataframe tbody tr th {\n",
       "        vertical-align: top;\n",
       "    }\n",
       "\n",
       "    .dataframe thead th {\n",
       "        text-align: right;\n",
       "    }\n",
       "</style>\n",
       "<table border=\"1\" class=\"dataframe\">\n",
       "  <thead>\n",
       "    <tr style=\"text-align: right;\">\n",
       "      <th></th>\n",
       "      <th>일자</th>\n",
       "      <th>이름</th>\n",
       "      <th>국어</th>\n",
       "      <th>영어</th>\n",
       "      <th>수학</th>\n",
       "      <th>과학</th>\n",
       "      <th>공부시간</th>\n",
       "      <th>시험명</th>\n",
       "      <th>출석</th>\n",
       "    </tr>\n",
       "  </thead>\n",
       "  <tbody>\n",
       "    <tr>\n",
       "      <th>0</th>\n",
       "      <td>2001-04-01 20:21:00</td>\n",
       "      <td>수철</td>\n",
       "      <td>76</td>\n",
       "      <td>81</td>\n",
       "      <td>26</td>\n",
       "      <td>71</td>\n",
       "      <td>3.94</td>\n",
       "      <td>A유형</td>\n",
       "      <td>0</td>\n",
       "    </tr>\n",
       "    <tr>\n",
       "      <th>1</th>\n",
       "      <td>2001-04-02 20:21:00</td>\n",
       "      <td>수철</td>\n",
       "      <td>93</td>\n",
       "      <td>48</td>\n",
       "      <td>81</td>\n",
       "      <td>84</td>\n",
       "      <td>3.02</td>\n",
       "      <td>B유형</td>\n",
       "      <td>0</td>\n",
       "    </tr>\n",
       "    <tr>\n",
       "      <th>2</th>\n",
       "      <td>2001-04-03 20:21:00</td>\n",
       "      <td>수철</td>\n",
       "      <td>30</td>\n",
       "      <td>64</td>\n",
       "      <td>26</td>\n",
       "      <td>84</td>\n",
       "      <td>2.64</td>\n",
       "      <td>C유형</td>\n",
       "      <td>1</td>\n",
       "    </tr>\n",
       "    <tr>\n",
       "      <th>3</th>\n",
       "      <td>2001-04-04 20:21:00</td>\n",
       "      <td>철수</td>\n",
       "      <td>74</td>\n",
       "      <td>72</td>\n",
       "      <td>46</td>\n",
       "      <td>65</td>\n",
       "      <td>4.75</td>\n",
       "      <td>D유형</td>\n",
       "      <td>1</td>\n",
       "    </tr>\n",
       "    <tr>\n",
       "      <th>4</th>\n",
       "      <td>2001-04-05 20:21:00</td>\n",
       "      <td>영희</td>\n",
       "      <td>42</td>\n",
       "      <td>26</td>\n",
       "      <td>79</td>\n",
       "      <td>91</td>\n",
       "      <td>4.83</td>\n",
       "      <td>E유형</td>\n",
       "      <td>1</td>\n",
       "    </tr>\n",
       "    <tr>\n",
       "      <th>...</th>\n",
       "      <td>...</td>\n",
       "      <td>...</td>\n",
       "      <td>...</td>\n",
       "      <td>...</td>\n",
       "      <td>...</td>\n",
       "      <td>...</td>\n",
       "      <td>...</td>\n",
       "      <td>...</td>\n",
       "      <td>...</td>\n",
       "    </tr>\n",
       "    <tr>\n",
       "      <th>495</th>\n",
       "      <td>2002-08-09 20:21:00</td>\n",
       "      <td>희영</td>\n",
       "      <td>83</td>\n",
       "      <td>51</td>\n",
       "      <td>81</td>\n",
       "      <td>85</td>\n",
       "      <td>1.61</td>\n",
       "      <td>A유형</td>\n",
       "      <td>1</td>\n",
       "    </tr>\n",
       "    <tr>\n",
       "      <th>496</th>\n",
       "      <td>2002-08-10 20:21:00</td>\n",
       "      <td>희영</td>\n",
       "      <td>39</td>\n",
       "      <td>51</td>\n",
       "      <td>71</td>\n",
       "      <td>96</td>\n",
       "      <td>2.25</td>\n",
       "      <td>B유형</td>\n",
       "      <td>1</td>\n",
       "    </tr>\n",
       "    <tr>\n",
       "      <th>497</th>\n",
       "      <td>2002-08-11 20:21:00</td>\n",
       "      <td>수철</td>\n",
       "      <td>37</td>\n",
       "      <td>48</td>\n",
       "      <td>65</td>\n",
       "      <td>74</td>\n",
       "      <td>4.96</td>\n",
       "      <td>C유형</td>\n",
       "      <td>1</td>\n",
       "    </tr>\n",
       "    <tr>\n",
       "      <th>498</th>\n",
       "      <td>2002-08-12 20:21:00</td>\n",
       "      <td>영희</td>\n",
       "      <td>73</td>\n",
       "      <td>82</td>\n",
       "      <td>12</td>\n",
       "      <td>71</td>\n",
       "      <td>3.96</td>\n",
       "      <td>D유형</td>\n",
       "      <td>1</td>\n",
       "    </tr>\n",
       "    <tr>\n",
       "      <th>499</th>\n",
       "      <td>2002-08-13 20:21:00</td>\n",
       "      <td>영희</td>\n",
       "      <td>93</td>\n",
       "      <td>40</td>\n",
       "      <td>46</td>\n",
       "      <td>75</td>\n",
       "      <td>2.77</td>\n",
       "      <td>E유형</td>\n",
       "      <td>1</td>\n",
       "    </tr>\n",
       "  </tbody>\n",
       "</table>\n",
       "<p>500 rows × 9 columns</p>\n",
       "</div>"
      ],
      "text/plain": [
       "                     일자  이름  국어  영어  수학  과학  공부시간  시험명  출석\n",
       "0   2001-04-01 20:21:00  수철  76  81  26  71  3.94  A유형   0\n",
       "1   2001-04-02 20:21:00  수철  93  48  81  84  3.02  B유형   0\n",
       "2   2001-04-03 20:21:00  수철  30  64  26  84  2.64  C유형   1\n",
       "3   2001-04-04 20:21:00  철수  74  72  46  65  4.75  D유형   1\n",
       "4   2001-04-05 20:21:00  영희  42  26  79  91  4.83  E유형   1\n",
       "..                  ...  ..  ..  ..  ..  ..   ...  ...  ..\n",
       "495 2002-08-09 20:21:00  희영  83  51  81  85  1.61  A유형   1\n",
       "496 2002-08-10 20:21:00  희영  39  51  71  96  2.25  B유형   1\n",
       "497 2002-08-11 20:21:00  수철  37  48  65  74  4.96  C유형   1\n",
       "498 2002-08-12 20:21:00  영희  73  82  12  71  3.96  D유형   1\n",
       "499 2002-08-13 20:21:00  영희  93  40  46  75  2.77  E유형   1\n",
       "\n",
       "[500 rows x 9 columns]"
      ]
     },
     "execution_count": 5,
     "metadata": {},
     "output_type": "execute_result"
    }
   ],
   "source": [
    "# 무작위 시드 설정\n",
    "np.random.seed(seed)\n",
    "\n",
    "# 파라미터 설정\n",
    "instance = 500\n",
    "population = [True, False]\n",
    "test = ['A유형','B유형', 'C유형', 'D유형', 'E유형']\n",
    "date = pd.to_datetime(\"1st of April, 1,2021\") # 수업시작날짜\n",
    "\n",
    "# 데이터 생성\n",
    "df = pd.DataFrame({\n",
    "    '일자' : date + pd.to_timedelta(np.arange(instance), 'D'), # pd.util.testing.makeDateIndex(instance, freq=\"W\")\n",
    "    '이름' : [np.random.choice(['영희','희영', '철수', '수철']) for i in range(instance)],\n",
    "    '국어' : np.random.randint(30,98,instance),  # 30점에서 98점사이에서 500개를 무작위추출\n",
    "    '영어' : np.random.randint(25,95,instance),\n",
    "    '수학' : np.random.randint(10,90,instance),\n",
    "    '과학' : np.random.randint(60,100,instance),\n",
    "    '공부시간' : np.random.randint(1,5,instance) + np.random.random(instance).round(2),  # 1시간에서 5시간으로 + 알파 무작위\n",
    "    '시험명' : test*int((instance/len(test))),\n",
    "    '출석' : [(np.random.choice(population, p=[0.8, 0.2]))*1 for i in range(instance)] # 출석울 80%\n",
    "})  \n",
    "    \n",
    "df"
   ]
  },
  {
   "cell_type": "markdown",
   "metadata": {},
   "source": [
    "# 오지 선답 문제"
   ]
  },
  {
   "cell_type": "markdown",
   "metadata": {},
   "source": [
    "### 문제 1. 영어 75점이상이며 국어  95점 이하인 학생은 총 몇 명인가? (8점)\n",
    "###  ① 125 ② 139 ③ 135 ④ 140 ⑤ 150"
   ]
  },
  {
   "cell_type": "markdown",
   "metadata": {},
   "source": [
    "### 문제 2. 국어과목 최고 점수를 제일 많이 받은 학생은 누구 누구인가? (10점)\n",
    "###  ① (수철, 영희) ② (영희, 희영) ③ (희영, 철수) ④ (영희, 철수) ⑤ (철수, 수철)"
   ]
  },
  {
   "cell_type": "markdown",
   "metadata": {},
   "source": [
    "### 문제 3. 'C 유형' 시험의 국 영 수 과목의 전체 평균 점수를 구하라 (10점)\n",
    "###  ① 57.69333 ② 58.69333 ③ 61.74333 ④ 63.75444 ⑤ 56.69333\t\t\t\t"
   ]
  },
  {
   "cell_type": "markdown",
   "metadata": {},
   "source": [
    "### 문제 4. 5가지 유형의 시험을 치른 첫번째 학생은 각각 누구인가? (10점)\n",
    "###  ① (수철, 영희) ② (수철, 철수, 영희) ③ (영희, 철수) ④ (희영, 철수, 수철) ⑤ (철수, 희영, 영희)\t"
   ]
  },
  {
   "cell_type": "markdown",
   "metadata": {},
   "source": [
    "### 문제 5.  수철이의  'A'와 'B' 유형 평균  영어점수가 다른 사람과 비교하여 높은 가? (12점)\n",
    "### ① 항상 높다\t② 항상 낮다\t③ 똑같다 ④ 높은 편이다\t⑤ 낮은 편이다"
   ]
  },
  {
   "cell_type": "code",
   "execution_count": null,
   "metadata": {},
   "outputs": [],
   "source": []
  },
  {
   "cell_type": "code",
   "execution_count": null,
   "metadata": {},
   "outputs": [],
   "source": []
  },
  {
   "cell_type": "markdown",
   "metadata": {},
   "source": [
    "# End. 수고하셨습니다"
   ]
  }
 ],
 "metadata": {
  "kernelspec": {
   "display_name": "Python 3",
   "language": "python",
   "name": "python3"
  },
  "language_info": {
   "codemirror_mode": {
    "name": "ipython",
    "version": 3
   },
   "file_extension": ".py",
   "mimetype": "text/x-python",
   "name": "python",
   "nbconvert_exporter": "python",
   "pygments_lexer": "ipython3",
   "version": "3.7.4"
  }
 },
 "nbformat": 4,
 "nbformat_minor": 5
}
