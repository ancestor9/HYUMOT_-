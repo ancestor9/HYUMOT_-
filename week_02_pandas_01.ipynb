{
 "cells": [
  {
   "cell_type": "markdown",
   "metadata": {},
   "source": [
    "# Python 프로그래밍 Pandas\n",
    "## 데이터프레임 Dataframe"
   ]
  },
  {
   "cell_type": "code",
   "execution_count": 60,
   "metadata": {},
   "outputs": [],
   "source": [
    "from IPython.core.interactiveshell import InteractiveShell\n",
    "InteractiveShell.ast_node_interactivity = 'all'"
   ]
  },
  {
   "cell_type": "markdown",
   "metadata": {},
   "source": [
    "## Pandas 란\n",
    "- 다른 Dataframe이나 고차원 객체로부터 컬럼을 추가 삭제\n",
    "- group by함수\n",
    "- 라벨 등을 이용한 데이터 부분 집합 추출\n",
    "- 데이터 세로 가로 합치기\n",
    "- 외부 데이터 연동의 견고함(CSV, Excel, databases, HDF5지원)\n",
    "- missing data(NaN) 처리"
   ]
  },
  {
   "cell_type": "code",
   "execution_count": 61,
   "metadata": {},
   "outputs": [],
   "source": [
    "import pandas as pd"
   ]
  },
  {
   "cell_type": "markdown",
   "metadata": {},
   "source": [
    "# 2. 외부데이터 읽기(csv, 읽고 쓰기)\n",
    "공공데이터 자료 읽기"
   ]
  },
  {
   "cell_type": "code",
   "execution_count": 62,
   "metadata": {},
   "outputs": [
    {
     "ename": "UnicodeDecodeError",
     "evalue": "'utf-8' codec can't decode byte 0xb9 in position 0: invalid start byte",
     "output_type": "error",
     "traceback": [
      "\u001b[1;31m---------------------------------------------------------------------------\u001b[0m",
      "\u001b[1;31mUnicodeDecodeError\u001b[0m                        Traceback (most recent call last)",
      "\u001b[1;32m<ipython-input-62-c0aed1c5ca1a>\u001b[0m in \u001b[0;36m<module>\u001b[1;34m\u001b[0m\n\u001b[1;32m----> 1\u001b[1;33m \u001b[0mdata\u001b[0m \u001b[1;33m=\u001b[0m \u001b[0mpd\u001b[0m\u001b[1;33m.\u001b[0m\u001b[0mread_csv\u001b[0m\u001b[1;33m(\u001b[0m\u001b[1;34m'../data/2012_2014_교통사망사고정보.csv'\u001b[0m\u001b[1;33m)\u001b[0m\u001b[1;33m\u001b[0m\u001b[1;33m\u001b[0m\u001b[0m\n\u001b[0m",
      "\u001b[1;32m~\\Anaconda3\\lib\\site-packages\\pandas\\io\\parsers.py\u001b[0m in \u001b[0;36mread_csv\u001b[1;34m(filepath_or_buffer, sep, delimiter, header, names, index_col, usecols, squeeze, prefix, mangle_dupe_cols, dtype, engine, converters, true_values, false_values, skipinitialspace, skiprows, skipfooter, nrows, na_values, keep_default_na, na_filter, verbose, skip_blank_lines, parse_dates, infer_datetime_format, keep_date_col, date_parser, dayfirst, cache_dates, iterator, chunksize, compression, thousands, decimal, lineterminator, quotechar, quoting, doublequote, escapechar, comment, encoding, dialect, error_bad_lines, warn_bad_lines, delim_whitespace, low_memory, memory_map, float_precision)\u001b[0m\n\u001b[0;32m    684\u001b[0m     )\n\u001b[0;32m    685\u001b[0m \u001b[1;33m\u001b[0m\u001b[0m\n\u001b[1;32m--> 686\u001b[1;33m     \u001b[1;32mreturn\u001b[0m \u001b[0m_read\u001b[0m\u001b[1;33m(\u001b[0m\u001b[0mfilepath_or_buffer\u001b[0m\u001b[1;33m,\u001b[0m \u001b[0mkwds\u001b[0m\u001b[1;33m)\u001b[0m\u001b[1;33m\u001b[0m\u001b[1;33m\u001b[0m\u001b[0m\n\u001b[0m\u001b[0;32m    687\u001b[0m \u001b[1;33m\u001b[0m\u001b[0m\n\u001b[0;32m    688\u001b[0m \u001b[1;33m\u001b[0m\u001b[0m\n",
      "\u001b[1;32m~\\Anaconda3\\lib\\site-packages\\pandas\\io\\parsers.py\u001b[0m in \u001b[0;36m_read\u001b[1;34m(filepath_or_buffer, kwds)\u001b[0m\n\u001b[0;32m    450\u001b[0m \u001b[1;33m\u001b[0m\u001b[0m\n\u001b[0;32m    451\u001b[0m     \u001b[1;31m# Create the parser.\u001b[0m\u001b[1;33m\u001b[0m\u001b[1;33m\u001b[0m\u001b[1;33m\u001b[0m\u001b[0m\n\u001b[1;32m--> 452\u001b[1;33m     \u001b[0mparser\u001b[0m \u001b[1;33m=\u001b[0m \u001b[0mTextFileReader\u001b[0m\u001b[1;33m(\u001b[0m\u001b[0mfp_or_buf\u001b[0m\u001b[1;33m,\u001b[0m \u001b[1;33m**\u001b[0m\u001b[0mkwds\u001b[0m\u001b[1;33m)\u001b[0m\u001b[1;33m\u001b[0m\u001b[1;33m\u001b[0m\u001b[0m\n\u001b[0m\u001b[0;32m    453\u001b[0m \u001b[1;33m\u001b[0m\u001b[0m\n\u001b[0;32m    454\u001b[0m     \u001b[1;32mif\u001b[0m \u001b[0mchunksize\u001b[0m \u001b[1;32mor\u001b[0m \u001b[0miterator\u001b[0m\u001b[1;33m:\u001b[0m\u001b[1;33m\u001b[0m\u001b[1;33m\u001b[0m\u001b[0m\n",
      "\u001b[1;32m~\\Anaconda3\\lib\\site-packages\\pandas\\io\\parsers.py\u001b[0m in \u001b[0;36m__init__\u001b[1;34m(self, f, engine, **kwds)\u001b[0m\n\u001b[0;32m    944\u001b[0m             \u001b[0mself\u001b[0m\u001b[1;33m.\u001b[0m\u001b[0moptions\u001b[0m\u001b[1;33m[\u001b[0m\u001b[1;34m\"has_index_names\"\u001b[0m\u001b[1;33m]\u001b[0m \u001b[1;33m=\u001b[0m \u001b[0mkwds\u001b[0m\u001b[1;33m[\u001b[0m\u001b[1;34m\"has_index_names\"\u001b[0m\u001b[1;33m]\u001b[0m\u001b[1;33m\u001b[0m\u001b[1;33m\u001b[0m\u001b[0m\n\u001b[0;32m    945\u001b[0m \u001b[1;33m\u001b[0m\u001b[0m\n\u001b[1;32m--> 946\u001b[1;33m         \u001b[0mself\u001b[0m\u001b[1;33m.\u001b[0m\u001b[0m_make_engine\u001b[0m\u001b[1;33m(\u001b[0m\u001b[0mself\u001b[0m\u001b[1;33m.\u001b[0m\u001b[0mengine\u001b[0m\u001b[1;33m)\u001b[0m\u001b[1;33m\u001b[0m\u001b[1;33m\u001b[0m\u001b[0m\n\u001b[0m\u001b[0;32m    947\u001b[0m \u001b[1;33m\u001b[0m\u001b[0m\n\u001b[0;32m    948\u001b[0m     \u001b[1;32mdef\u001b[0m \u001b[0mclose\u001b[0m\u001b[1;33m(\u001b[0m\u001b[0mself\u001b[0m\u001b[1;33m)\u001b[0m\u001b[1;33m:\u001b[0m\u001b[1;33m\u001b[0m\u001b[1;33m\u001b[0m\u001b[0m\n",
      "\u001b[1;32m~\\Anaconda3\\lib\\site-packages\\pandas\\io\\parsers.py\u001b[0m in \u001b[0;36m_make_engine\u001b[1;34m(self, engine)\u001b[0m\n\u001b[0;32m   1176\u001b[0m     \u001b[1;32mdef\u001b[0m \u001b[0m_make_engine\u001b[0m\u001b[1;33m(\u001b[0m\u001b[0mself\u001b[0m\u001b[1;33m,\u001b[0m \u001b[0mengine\u001b[0m\u001b[1;33m=\u001b[0m\u001b[1;34m\"c\"\u001b[0m\u001b[1;33m)\u001b[0m\u001b[1;33m:\u001b[0m\u001b[1;33m\u001b[0m\u001b[1;33m\u001b[0m\u001b[0m\n\u001b[0;32m   1177\u001b[0m         \u001b[1;32mif\u001b[0m \u001b[0mengine\u001b[0m \u001b[1;33m==\u001b[0m \u001b[1;34m\"c\"\u001b[0m\u001b[1;33m:\u001b[0m\u001b[1;33m\u001b[0m\u001b[1;33m\u001b[0m\u001b[0m\n\u001b[1;32m-> 1178\u001b[1;33m             \u001b[0mself\u001b[0m\u001b[1;33m.\u001b[0m\u001b[0m_engine\u001b[0m \u001b[1;33m=\u001b[0m \u001b[0mCParserWrapper\u001b[0m\u001b[1;33m(\u001b[0m\u001b[0mself\u001b[0m\u001b[1;33m.\u001b[0m\u001b[0mf\u001b[0m\u001b[1;33m,\u001b[0m \u001b[1;33m**\u001b[0m\u001b[0mself\u001b[0m\u001b[1;33m.\u001b[0m\u001b[0moptions\u001b[0m\u001b[1;33m)\u001b[0m\u001b[1;33m\u001b[0m\u001b[1;33m\u001b[0m\u001b[0m\n\u001b[0m\u001b[0;32m   1179\u001b[0m         \u001b[1;32melse\u001b[0m\u001b[1;33m:\u001b[0m\u001b[1;33m\u001b[0m\u001b[1;33m\u001b[0m\u001b[0m\n\u001b[0;32m   1180\u001b[0m             \u001b[1;32mif\u001b[0m \u001b[0mengine\u001b[0m \u001b[1;33m==\u001b[0m \u001b[1;34m\"python\"\u001b[0m\u001b[1;33m:\u001b[0m\u001b[1;33m\u001b[0m\u001b[1;33m\u001b[0m\u001b[0m\n",
      "\u001b[1;32m~\\Anaconda3\\lib\\site-packages\\pandas\\io\\parsers.py\u001b[0m in \u001b[0;36m__init__\u001b[1;34m(self, src, **kwds)\u001b[0m\n\u001b[0;32m   2006\u001b[0m         \u001b[0mkwds\u001b[0m\u001b[1;33m[\u001b[0m\u001b[1;34m\"usecols\"\u001b[0m\u001b[1;33m]\u001b[0m \u001b[1;33m=\u001b[0m \u001b[0mself\u001b[0m\u001b[1;33m.\u001b[0m\u001b[0musecols\u001b[0m\u001b[1;33m\u001b[0m\u001b[1;33m\u001b[0m\u001b[0m\n\u001b[0;32m   2007\u001b[0m \u001b[1;33m\u001b[0m\u001b[0m\n\u001b[1;32m-> 2008\u001b[1;33m         \u001b[0mself\u001b[0m\u001b[1;33m.\u001b[0m\u001b[0m_reader\u001b[0m \u001b[1;33m=\u001b[0m \u001b[0mparsers\u001b[0m\u001b[1;33m.\u001b[0m\u001b[0mTextReader\u001b[0m\u001b[1;33m(\u001b[0m\u001b[0msrc\u001b[0m\u001b[1;33m,\u001b[0m \u001b[1;33m**\u001b[0m\u001b[0mkwds\u001b[0m\u001b[1;33m)\u001b[0m\u001b[1;33m\u001b[0m\u001b[1;33m\u001b[0m\u001b[0m\n\u001b[0m\u001b[0;32m   2009\u001b[0m         \u001b[0mself\u001b[0m\u001b[1;33m.\u001b[0m\u001b[0munnamed_cols\u001b[0m \u001b[1;33m=\u001b[0m \u001b[0mself\u001b[0m\u001b[1;33m.\u001b[0m\u001b[0m_reader\u001b[0m\u001b[1;33m.\u001b[0m\u001b[0munnamed_cols\u001b[0m\u001b[1;33m\u001b[0m\u001b[1;33m\u001b[0m\u001b[0m\n\u001b[0;32m   2010\u001b[0m \u001b[1;33m\u001b[0m\u001b[0m\n",
      "\u001b[1;32mpandas\\_libs\\parsers.pyx\u001b[0m in \u001b[0;36mpandas._libs.parsers.TextReader.__cinit__\u001b[1;34m()\u001b[0m\n",
      "\u001b[1;32mpandas\\_libs\\parsers.pyx\u001b[0m in \u001b[0;36mpandas._libs.parsers.TextReader._get_header\u001b[1;34m()\u001b[0m\n",
      "\u001b[1;31mUnicodeDecodeError\u001b[0m: 'utf-8' codec can't decode byte 0xb9 in position 0: invalid start byte"
     ]
    }
   ],
   "source": [
    "data = pd.read_csv('../data/2012_2014_교통사망사고정보.csv')"
   ]
  },
  {
   "cell_type": "code",
   "execution_count": null,
   "metadata": {},
   "outputs": [],
   "source": [
    "df = pd.read_csv('../data/2012_2014_교통사망사고정보.csv', encoding='euc-kr')"
   ]
  },
  {
   "cell_type": "code",
   "execution_count": null,
   "metadata": {},
   "outputs": [],
   "source": [
    "df.head()"
   ]
  },
  {
   "cell_type": "code",
   "execution_count": null,
   "metadata": {},
   "outputs": [],
   "source": [
    "df.to_csv('../output/mydata.csv')"
   ]
  },
  {
   "cell_type": "markdown",
   "metadata": {},
   "source": [
    "엑셀로 읽고 쓰기를 할 경우\n",
    "- pd.read_excel('/~.xlsx')\n",
    "- data.to_excel('/~.xlsx')"
   ]
  },
  {
   "cell_type": "markdown",
   "metadata": {},
   "source": [
    "# 3. 상세 정보확인"
   ]
  },
  {
   "cell_type": "markdown",
   "metadata": {},
   "source": [
    "## 3.1 내용 확인"
   ]
  },
  {
   "cell_type": "code",
   "execution_count": null,
   "metadata": {},
   "outputs": [],
   "source": [
    "df.head()\n",
    "df.tail()"
   ]
  },
  {
   "cell_type": "markdown",
   "metadata": {},
   "source": [
    "## 3.2 크기 확인"
   ]
  },
  {
   "cell_type": "code",
   "execution_count": null,
   "metadata": {},
   "outputs": [],
   "source": [
    "df.shape\n",
    "df.index\n",
    "df.columns"
   ]
  },
  {
   "cell_type": "code",
   "execution_count": null,
   "metadata": {},
   "outputs": [],
   "source": [
    "df.values"
   ]
  },
  {
   "cell_type": "code",
   "execution_count": null,
   "metadata": {},
   "outputs": [],
   "source": [
    "len(df)\n",
    "len(df.index)\n",
    "len(df.columns)"
   ]
  },
  {
   "cell_type": "markdown",
   "metadata": {},
   "source": [
    "## 3.3 기본 속성 확인"
   ]
  },
  {
   "cell_type": "code",
   "execution_count": null,
   "metadata": {},
   "outputs": [],
   "source": [
    "df.describe()\n",
    "df.describe(include='all')"
   ]
  },
  {
   "cell_type": "code",
   "execution_count": null,
   "metadata": {},
   "outputs": [],
   "source": [
    "type(df.describe())"
   ]
  },
  {
   "cell_type": "code",
   "execution_count": null,
   "metadata": {},
   "outputs": [],
   "source": [
    "df.describe().index\n",
    "df.describe().columns"
   ]
  },
  {
   "cell_type": "code",
   "execution_count": null,
   "metadata": {},
   "outputs": [],
   "source": [
    "df.dtypes"
   ]
  },
  {
   "cell_type": "code",
   "execution_count": null,
   "metadata": {},
   "outputs": [],
   "source": [
    "df.info()"
   ]
  },
  {
   "cell_type": "code",
   "execution_count": null,
   "metadata": {},
   "outputs": [],
   "source": [
    "df.count()"
   ]
  },
  {
   "cell_type": "code",
   "execution_count": null,
   "metadata": {},
   "outputs": [],
   "source": [
    "df.nunique()"
   ]
  },
  {
   "cell_type": "markdown",
   "metadata": {},
   "source": [
    "## 3.4 결측치 확인"
   ]
  },
  {
   "cell_type": "code",
   "execution_count": null,
   "metadata": {},
   "outputs": [],
   "source": [
    "df.isnull()\n",
    "df.isnull().head(3)"
   ]
  },
  {
   "cell_type": "code",
   "execution_count": null,
   "metadata": {},
   "outputs": [],
   "source": [
    "df.notnull()\n",
    "df.notnull()*1"
   ]
  },
  {
   "cell_type": "code",
   "execution_count": null,
   "metadata": {},
   "outputs": [],
   "source": [
    "df.isnull().sum()"
   ]
  },
  {
   "cell_type": "markdown",
   "metadata": {},
   "source": [
    "## 3.5 aggregate 함수로 기본 통계 확인"
   ]
  },
  {
   "cell_type": "code",
   "execution_count": null,
   "metadata": {},
   "outputs": [],
   "source": [
    "df.sum()"
   ]
  },
  {
   "cell_type": "code",
   "execution_count": null,
   "metadata": {},
   "outputs": [],
   "source": [
    "df.columns"
   ]
  },
  {
   "cell_type": "code",
   "execution_count": null,
   "metadata": {},
   "outputs": [],
   "source": [
    "df['사망자수']\n",
    "type(df['사망자수'])  # 시리즈"
   ]
  },
  {
   "cell_type": "code",
   "execution_count": null,
   "metadata": {},
   "outputs": [],
   "source": [
    "df['사망자수'].sum()"
   ]
  },
  {
   "cell_type": "code",
   "execution_count": null,
   "metadata": {},
   "outputs": [],
   "source": [
    "df['사망자수'].mean()\n",
    "df['사망자수'].std()\n",
    "df['사망자수'].count()\n",
    "df['사망자수'].median()\n",
    "df['사망자수'].quantile([0.25, 0.5])\n",
    "df['사망자수'].max()\n",
    "df['사망자수'].min()"
   ]
  },
  {
   "cell_type": "code",
   "execution_count": null,
   "metadata": {},
   "outputs": [],
   "source": [
    "df['사망자수'].isnull()\n",
    "df['사망자수'].isnull().sum()\n",
    "df['사망자수'].notnull().sum()"
   ]
  },
  {
   "cell_type": "markdown",
   "metadata": {},
   "source": [
    "## 3.6 컬럼(변수)의 유형별 빈도 확인"
   ]
  },
  {
   "cell_type": "code",
   "execution_count": null,
   "metadata": {},
   "outputs": [],
   "source": [
    "df.columns"
   ]
  },
  {
   "cell_type": "code",
   "execution_count": null,
   "metadata": {},
   "outputs": [],
   "source": [
    "df['요일'].value_counts()\n",
    "df['요일'].value_counts().index\n",
    "df['요일'].value_counts().values"
   ]
  },
  {
   "cell_type": "code",
   "execution_count": null,
   "metadata": {},
   "outputs": [],
   "source": [
    "df['요일'].value_counts()['수']\n",
    "df['요일'].value_counts().sort_values()\n",
    "df['요일'].value_counts().sort_values(ascending=False)\n",
    "df['요일'].value_counts().sort_index()"
   ]
  },
  {
   "cell_type": "markdown",
   "metadata": {},
   "source": [
    "## 3.7 시각화"
   ]
  },
  {
   "cell_type": "code",
   "execution_count": 63,
   "metadata": {},
   "outputs": [
    {
     "data": {
      "text/plain": [
       "<matplotlib.axes._subplots.AxesSubplot at 0x187c4788b48>"
      ]
     },
     "execution_count": 63,
     "metadata": {},
     "output_type": "execute_result"
    },
    {
     "data": {
      "image/png": "[encoded data removed]",
      "text/plain": [
       "<Figure size 432x288 with 1 Axes>"
      ]
     },
     "metadata": {
      "needs_background": "light"
     },
     "output_type": "display_data"
    }
   ],
   "source": [
    "df['사망자수'].plot()"
   ]
  },
  {
   "cell_type": "code",
   "execution_count": 64,
   "metadata": {},
   "outputs": [
    {
     "data": {
      "text/plain": [
       "<matplotlib.axes._subplots.AxesSubplot at 0x187ca611b88>"
      ]
     },
     "execution_count": 64,
     "metadata": {},
     "output_type": "execute_result"
    },
    {
     "data": {
      "image/png": "[encoded data removed]",
      "text/plain": [
       "<Figure size 432x288 with 1 Axes>"
      ]
     },
     "metadata": {
      "needs_background": "light"
     },
     "output_type": "display_data"
    }
   ],
   "source": [
    "df['사망자수'].sample(frac=0.05).plot(kind='bar')"
   ]
  },
  {
   "cell_type": "code",
   "execution_count": 65,
   "metadata": {},
   "outputs": [
    {
     "data": {
      "text/plain": [
       "<matplotlib.axes._subplots.AxesSubplot at 0x187cb10cb08>"
      ]
     },
     "execution_count": 65,
     "metadata": {},
     "output_type": "execute_result"
    },
    {
     "data": {
      "image/png": "[encoded data removed]",
      "text/plain": [
       "<Figure size 432x288 with 1 Axes>"
      ]
     },
     "metadata": {
      "needs_background": "light"
     },
     "output_type": "display_data"
    }
   ],
   "source": [
    "df['사망자수'].plot(kind='hist')"
   ]
  },
  {
   "cell_type": "code",
   "execution_count": 66,
   "metadata": {},
   "outputs": [
    {
     "data": {
      "text/plain": [
       "<matplotlib.axes._subplots.AxesSubplot at 0x187cc7e9948>"
      ]
     },
     "execution_count": 66,
     "metadata": {},
     "output_type": "execute_result"
    },
    {
     "data": {
      "image/png": "[encoded data removed]",
      "text/plain": [
       "<Figure size 864x360 with 1 Axes>"
      ]
     },
     "metadata": {
      "needs_background": "light"
     },
     "output_type": "display_data"
    }
   ],
   "source": [
    "df['사망자수'].plot(kind='hist', figsize=(12,5))"
   ]
  },
  {
   "cell_type": "code",
   "execution_count": 67,
   "metadata": {},
   "outputs": [],
   "source": [
    "import warnings\n",
    "warnings.filterwarnings(action='ignore')"
   ]
  },
  {
   "cell_type": "code",
   "execution_count": 68,
   "metadata": {},
   "outputs": [
    {
     "data": {
      "text/plain": [
       "월    2181\n",
       "토    2176\n",
       "화    2163\n",
       "금    2121\n",
       "목    2095\n",
       "수    2042\n",
       "일    1846\n",
       "Name: 요일, dtype: int64"
      ]
     },
     "execution_count": 68,
     "metadata": {},
     "output_type": "execute_result"
    },
    {
     "data": {
      "text/plain": [
       "<matplotlib.axes._subplots.AxesSubplot at 0x187cc786308>"
      ]
     },
     "execution_count": 68,
     "metadata": {},
     "output_type": "execute_result"
    },
    {
     "data": {
      "image/png": "[encoded data removed]",
      "text/plain": [
       "<Figure size 864x360 with 1 Axes>"
      ]
     },
     "metadata": {
      "needs_background": "light"
     },
     "output_type": "display_data"
    }
   ],
   "source": [
    "df['요일'].value_counts()\n",
    "df['요일'].value_counts().plot(kind='bar', rot='45', figsize=(12,5))"
   ]
  },
  {
   "cell_type": "code",
   "execution_count": 69,
   "metadata": {},
   "outputs": [],
   "source": [
    "import matplotlib.pylab as plt\n",
    "%matplotlib inline\n",
    "plt.rcParams['font.family'] = 'Malgun Gothic' # 한글 안깨지기"
   ]
  },
  {
   "cell_type": "code",
   "execution_count": 70,
   "metadata": {
    "scrolled": true
   },
   "outputs": [
    {
     "data": {
      "text/plain": [
       "<matplotlib.axes._subplots.AxesSubplot at 0x187ccc32848>"
      ]
     },
     "execution_count": 70,
     "metadata": {},
     "output_type": "execute_result"
    },
    {
     "data": {
      "image/png": "[encoded data removed]",
      "text/plain": [
       "<Figure size 864x360 with 1 Axes>"
      ]
     },
     "metadata": {
      "needs_background": "light"
     },
     "output_type": "display_data"
    }
   ],
   "source": [
    "df['요일'].value_counts().plot(kind='bar', rot='45', figsize=(12,5))"
   ]
  },
  {
   "cell_type": "markdown",
   "metadata": {},
   "source": [
    "# 4. groupby"
   ]
  },
  {
   "cell_type": "markdown",
   "metadata": {},
   "source": [
    "deep copy"
   ]
  },
  {
   "cell_type": "code",
   "execution_count": 38,
   "metadata": {},
   "outputs": [],
   "source": [
    "import numpy as np"
   ]
  },
  {
   "cell_type": "code",
   "execution_count": 75,
   "metadata": {},
   "outputs": [
    {
     "data": {
      "text/plain": [
       "140708343619984"
      ]
     },
     "execution_count": 75,
     "metadata": {},
     "output_type": "execute_result"
    }
   ],
   "source": [
    "x =1\n",
    "id(x)"
   ]
  },
  {
   "cell_type": "code",
   "execution_count": 79,
   "metadata": {},
   "outputs": [
    {
     "data": {
      "text/html": [
       "<div>\n",
       "<style scoped>\n",
       "    .dataframe tbody tr th:only-of-type {\n",
       "        vertical-align: middle;\n",
       "    }\n",
       "\n",
       "    .dataframe tbody tr th {\n",
       "        vertical-align: top;\n",
       "    }\n",
       "\n",
       "    .dataframe thead th {\n",
       "        text-align: right;\n",
       "    }\n",
       "</style>\n",
       "<table border=\"1\" class=\"dataframe\">\n",
       "  <thead>\n",
       "    <tr style=\"text-align: right;\">\n",
       "      <th></th>\n",
       "      <th>학생</th>\n",
       "      <th>국어</th>\n",
       "      <th>수학</th>\n",
       "    </tr>\n",
       "  </thead>\n",
       "  <tbody>\n",
       "    <tr>\n",
       "      <th>0</th>\n",
       "      <td>18</td>\n",
       "      <td>90</td>\n",
       "      <td>68</td>\n",
       "    </tr>\n",
       "    <tr>\n",
       "      <th>1</th>\n",
       "      <td>17</td>\n",
       "      <td>78</td>\n",
       "      <td>85</td>\n",
       "    </tr>\n",
       "    <tr>\n",
       "      <th>2</th>\n",
       "      <td>12</td>\n",
       "      <td>79</td>\n",
       "      <td>68</td>\n",
       "    </tr>\n",
       "    <tr>\n",
       "      <th>3</th>\n",
       "      <td>19</td>\n",
       "      <td>93</td>\n",
       "      <td>83</td>\n",
       "    </tr>\n",
       "    <tr>\n",
       "      <th>4</th>\n",
       "      <td>10</td>\n",
       "      <td>91</td>\n",
       "      <td>76</td>\n",
       "    </tr>\n",
       "  </tbody>\n",
       "</table>\n",
       "</div>"
      ],
      "text/plain": [
       "   학생  국어  수학\n",
       "0  18  90  68\n",
       "1  17  78  85\n",
       "2  12  79  68\n",
       "3  19  93  83\n",
       "4  10  91  76"
      ]
     },
     "execution_count": 79,
     "metadata": {},
     "output_type": "execute_result"
    }
   ],
   "source": [
    "tf = pd.DataFrame({'학생':np.random.choice(np.arange(10,20), 5, replace=False),\n",
    "                   '국어':np.random.randint(70,101,5),\n",
    "                   '수학': np.random.randint(60, 101, 5)})\n",
    "tf"
   ]
  },
  {
   "cell_type": "code",
   "execution_count": 81,
   "metadata": {},
   "outputs": [
    {
     "data": {
      "text/html": [
       "<div>\n",
       "<style scoped>\n",
       "    .dataframe tbody tr th:only-of-type {\n",
       "        vertical-align: middle;\n",
       "    }\n",
       "\n",
       "    .dataframe tbody tr th {\n",
       "        vertical-align: top;\n",
       "    }\n",
       "\n",
       "    .dataframe thead th {\n",
       "        text-align: right;\n",
       "    }\n",
       "</style>\n",
       "<table border=\"1\" class=\"dataframe\">\n",
       "  <thead>\n",
       "    <tr style=\"text-align: right;\">\n",
       "      <th></th>\n",
       "      <th>학생</th>\n",
       "      <th>국어</th>\n",
       "      <th>수학</th>\n",
       "    </tr>\n",
       "  </thead>\n",
       "  <tbody>\n",
       "    <tr>\n",
       "      <th>0</th>\n",
       "      <td>18</td>\n",
       "      <td>90</td>\n",
       "      <td>68</td>\n",
       "    </tr>\n",
       "    <tr>\n",
       "      <th>1</th>\n",
       "      <td>17</td>\n",
       "      <td>78</td>\n",
       "      <td>85</td>\n",
       "    </tr>\n",
       "    <tr>\n",
       "      <th>2</th>\n",
       "      <td>12</td>\n",
       "      <td>79</td>\n",
       "      <td>68</td>\n",
       "    </tr>\n",
       "    <tr>\n",
       "      <th>3</th>\n",
       "      <td>19</td>\n",
       "      <td>93</td>\n",
       "      <td>83</td>\n",
       "    </tr>\n",
       "    <tr>\n",
       "      <th>4</th>\n",
       "      <td>10</td>\n",
       "      <td>91</td>\n",
       "      <td>76</td>\n",
       "    </tr>\n",
       "  </tbody>\n",
       "</table>\n",
       "</div>"
      ],
      "text/plain": [
       "   학생  국어  수학\n",
       "0  18  90  68\n",
       "1  17  78  85\n",
       "2  12  79  68\n",
       "3  19  93  83\n",
       "4  10  91  76"
      ]
     },
     "execution_count": 81,
     "metadata": {},
     "output_type": "execute_result"
    },
    {
     "data": {
      "text/html": [
       "<div>\n",
       "<style scoped>\n",
       "    .dataframe tbody tr th:only-of-type {\n",
       "        vertical-align: middle;\n",
       "    }\n",
       "\n",
       "    .dataframe tbody tr th {\n",
       "        vertical-align: top;\n",
       "    }\n",
       "\n",
       "    .dataframe thead th {\n",
       "        text-align: right;\n",
       "    }\n",
       "</style>\n",
       "<table border=\"1\" class=\"dataframe\">\n",
       "  <thead>\n",
       "    <tr style=\"text-align: right;\">\n",
       "      <th></th>\n",
       "      <th>학생</th>\n",
       "      <th>국어</th>\n",
       "      <th>수학</th>\n",
       "    </tr>\n",
       "  </thead>\n",
       "  <tbody>\n",
       "    <tr>\n",
       "      <th>0</th>\n",
       "      <td>18</td>\n",
       "      <td>90</td>\n",
       "      <td>100</td>\n",
       "    </tr>\n",
       "    <tr>\n",
       "      <th>1</th>\n",
       "      <td>17</td>\n",
       "      <td>78</td>\n",
       "      <td>85</td>\n",
       "    </tr>\n",
       "    <tr>\n",
       "      <th>2</th>\n",
       "      <td>12</td>\n",
       "      <td>79</td>\n",
       "      <td>68</td>\n",
       "    </tr>\n",
       "    <tr>\n",
       "      <th>3</th>\n",
       "      <td>19</td>\n",
       "      <td>93</td>\n",
       "      <td>83</td>\n",
       "    </tr>\n",
       "    <tr>\n",
       "      <th>4</th>\n",
       "      <td>10</td>\n",
       "      <td>91</td>\n",
       "      <td>76</td>\n",
       "    </tr>\n",
       "  </tbody>\n",
       "</table>\n",
       "</div>"
      ],
      "text/plain": [
       "   학생  국어   수학\n",
       "0  18  90  100\n",
       "1  17  78   85\n",
       "2  12  79   68\n",
       "3  19  93   83\n",
       "4  10  91   76"
      ]
     },
     "execution_count": 81,
     "metadata": {},
     "output_type": "execute_result"
    }
   ],
   "source": [
    "new_tf = tf.copy()             # 메모리 주소를 복사하여서 같이 변동됨, new_tf = tf.copy() 하면 값 자체를 복사(deep copy)\n",
    "new_tf\n",
    "new_tf.iloc[0,2] =100\n",
    "new_tf"
   ]
  },
  {
   "cell_type": "code",
   "execution_count": 82,
   "metadata": {},
   "outputs": [
    {
     "data": {
      "text/html": [
       "<div>\n",
       "<style scoped>\n",
       "    .dataframe tbody tr th:only-of-type {\n",
       "        vertical-align: middle;\n",
       "    }\n",
       "\n",
       "    .dataframe tbody tr th {\n",
       "        vertical-align: top;\n",
       "    }\n",
       "\n",
       "    .dataframe thead th {\n",
       "        text-align: right;\n",
       "    }\n",
       "</style>\n",
       "<table border=\"1\" class=\"dataframe\">\n",
       "  <thead>\n",
       "    <tr style=\"text-align: right;\">\n",
       "      <th></th>\n",
       "      <th>학생</th>\n",
       "      <th>국어</th>\n",
       "      <th>수학</th>\n",
       "    </tr>\n",
       "  </thead>\n",
       "  <tbody>\n",
       "    <tr>\n",
       "      <th>0</th>\n",
       "      <td>18</td>\n",
       "      <td>90</td>\n",
       "      <td>68</td>\n",
       "    </tr>\n",
       "    <tr>\n",
       "      <th>1</th>\n",
       "      <td>17</td>\n",
       "      <td>78</td>\n",
       "      <td>85</td>\n",
       "    </tr>\n",
       "    <tr>\n",
       "      <th>2</th>\n",
       "      <td>12</td>\n",
       "      <td>79</td>\n",
       "      <td>68</td>\n",
       "    </tr>\n",
       "    <tr>\n",
       "      <th>3</th>\n",
       "      <td>19</td>\n",
       "      <td>93</td>\n",
       "      <td>83</td>\n",
       "    </tr>\n",
       "    <tr>\n",
       "      <th>4</th>\n",
       "      <td>10</td>\n",
       "      <td>91</td>\n",
       "      <td>76</td>\n",
       "    </tr>\n",
       "  </tbody>\n",
       "</table>\n",
       "</div>"
      ],
      "text/plain": [
       "   학생  국어  수학\n",
       "0  18  90  68\n",
       "1  17  78  85\n",
       "2  12  79  68\n",
       "3  19  93  83\n",
       "4  10  91  76"
      ]
     },
     "execution_count": 82,
     "metadata": {},
     "output_type": "execute_result"
    }
   ],
   "source": [
    "tf"
   ]
  },
  {
   "cell_type": "markdown",
   "metadata": {},
   "source": [
    "## 객체(변수)가 mutable or not"
   ]
  },
  {
   "cell_type": "code",
   "execution_count": 76,
   "metadata": {},
   "outputs": [
    {
     "data": {
      "text/plain": [
       "[1, 2, 3, 4]"
      ]
     },
     "execution_count": 76,
     "metadata": {},
     "output_type": "execute_result"
    },
    {
     "data": {
      "text/plain": [
       "[1, 2, 3, 4]"
      ]
     },
     "execution_count": 76,
     "metadata": {},
     "output_type": "execute_result"
    }
   ],
   "source": [
    "a = [1,2,3,4]\n",
    "b = a\n",
    "a\n",
    "b"
   ]
  },
  {
   "cell_type": "code",
   "execution_count": 77,
   "metadata": {},
   "outputs": [
    {
     "data": {
      "text/plain": [
       "[1, 2, 4]"
      ]
     },
     "execution_count": 77,
     "metadata": {},
     "output_type": "execute_result"
    }
   ],
   "source": [
    "b.remove(3)\n",
    "b"
   ]
  },
  {
   "cell_type": "code",
   "execution_count": 78,
   "metadata": {},
   "outputs": [
    {
     "data": {
      "text/plain": [
       "[1, 2, 4]"
      ]
     },
     "execution_count": 78,
     "metadata": {},
     "output_type": "execute_result"
    }
   ],
   "source": [
    "a"
   ]
  },
  {
   "cell_type": "markdown",
   "metadata": {},
   "source": [
    "## <font color='red'> Deep copy (중간에 데이터 확보)"
   ]
  },
  {
   "cell_type": "code",
   "execution_count": 45,
   "metadata": {},
   "outputs": [],
   "source": [
    "data = df.copy()"
   ]
  },
  {
   "cell_type": "code",
   "execution_count": 46,
   "metadata": {},
   "outputs": [
    {
     "data": {
      "text/plain": [
       "Index(['발생년', '발생년월일시', '발생분', '주야', '요일', '사망자수', '사상자수', '중상자수', '경상자수',\n",
       "       '부상신고자수', '발생지시도', '발생지시군구', '사고유형_대분류', '사고유형_중분류', '사고유형', '법규위반_대분류',\n",
       "       '법규위반', '도로형태_대분류', '도로형태', '당사자종별_1당_대분류', '당사자종별_1당', '당사자종별_2당_대분류',\n",
       "       '당사자종별_2당', '발생위치X_UTMK', '발생위치Y_UTMK', '경도', '위도'],\n",
       "      dtype='object')"
      ]
     },
     "execution_count": 46,
     "metadata": {},
     "output_type": "execute_result"
    }
   ],
   "source": [
    "data.columns"
   ]
  },
  {
   "cell_type": "markdown",
   "metadata": {},
   "source": [
    "## unstack()"
   ]
  },
  {
   "cell_type": "code",
   "execution_count": 47,
   "metadata": {},
   "outputs": [
    {
     "data": {
      "text/plain": [
       "발생년\n",
       "2012    5165\n",
       "2013    4876\n",
       "2014    4583\n",
       "Name: 사고유형, dtype: int64"
      ]
     },
     "execution_count": 47,
     "metadata": {},
     "output_type": "execute_result"
    }
   ],
   "source": [
    "data.groupby('발생년').사고유형.count()"
   ]
  },
  {
   "cell_type": "code",
   "execution_count": 48,
   "metadata": {},
   "outputs": [
    {
     "data": {
      "text/plain": [
       "발생년   사고유형      \n",
       "2012  기타            1216\n",
       "      횡단중            998\n",
       "      측면직각충돌         745\n",
       "      공작물충돌          580\n",
       "      진행중 추돌         334\n",
       "      정면충돌           298\n",
       "      전도전복           257\n",
       "      주정차중 추돌        216\n",
       "      차도통행중          173\n",
       "      도로이탈 추락        116\n",
       "      길가장자리구역통행중      90\n",
       "      보도통행중           81\n",
       "      도로이탈 기타         56\n",
       "      주/정차차량 충돌        3\n",
       "      경보기 무시           1\n",
       "      차단기돌파            1\n",
       "2013  기타            1359\n",
       "      횡단중            919\n",
       "      측면직각충돌         565\n",
       "      공작물충돌          539\n",
       "      진행중 추돌         320\n",
       "      정면충돌           256\n",
       "      전도전복           253\n",
       "      주정차중 추돌        179\n",
       "      차도통행중          162\n",
       "      도로이탈 추락        129\n",
       "      길가장자리구역통행중      83\n",
       "      보도통행중           57\n",
       "      도로이탈 기타         52\n",
       "      주/정차차량 충돌        2\n",
       "      직전진행             1\n",
       "2014  기타            1410\n",
       "      횡단중            874\n",
       "      측면직각충돌         538\n",
       "      공작물충돌          436\n",
       "      진행중 추돌         294\n",
       "      정면충돌           230\n",
       "      전도전복           218\n",
       "      주정차중 추돌        177\n",
       "      차도통행중          142\n",
       "      도로이탈 추락         96\n",
       "      길가장자리구역통행중      79\n",
       "      보도통행중           45\n",
       "      도로이탈 기타         41\n",
       "      주/정차차량 충돌        3\n",
       "Name: 사고유형, dtype: int64"
      ]
     },
     "execution_count": 48,
     "metadata": {},
     "output_type": "execute_result"
    }
   ],
   "source": [
    "data.groupby('발생년').사고유형.value_counts()"
   ]
  },
  {
   "cell_type": "code",
   "execution_count": 49,
   "metadata": {},
   "outputs": [
    {
     "data": {
      "text/html": [
       "<div>\n",
       "<style scoped>\n",
       "    .dataframe tbody tr th:only-of-type {\n",
       "        vertical-align: middle;\n",
       "    }\n",
       "\n",
       "    .dataframe tbody tr th {\n",
       "        vertical-align: top;\n",
       "    }\n",
       "\n",
       "    .dataframe thead th {\n",
       "        text-align: right;\n",
       "    }\n",
       "</style>\n",
       "<table border=\"1\" class=\"dataframe\">\n",
       "  <thead>\n",
       "    <tr style=\"text-align: right;\">\n",
       "      <th>사고유형</th>\n",
       "      <th>경보기 무시</th>\n",
       "      <th>공작물충돌</th>\n",
       "      <th>기타</th>\n",
       "      <th>길가장자리구역통행중</th>\n",
       "      <th>도로이탈 기타</th>\n",
       "      <th>도로이탈 추락</th>\n",
       "      <th>보도통행중</th>\n",
       "      <th>전도전복</th>\n",
       "      <th>정면충돌</th>\n",
       "      <th>주/정차차량 충돌</th>\n",
       "      <th>주정차중 추돌</th>\n",
       "      <th>직전진행</th>\n",
       "      <th>진행중 추돌</th>\n",
       "      <th>차단기돌파</th>\n",
       "      <th>차도통행중</th>\n",
       "      <th>측면직각충돌</th>\n",
       "      <th>횡단중</th>\n",
       "    </tr>\n",
       "    <tr>\n",
       "      <th>발생년</th>\n",
       "      <th></th>\n",
       "      <th></th>\n",
       "      <th></th>\n",
       "      <th></th>\n",
       "      <th></th>\n",
       "      <th></th>\n",
       "      <th></th>\n",
       "      <th></th>\n",
       "      <th></th>\n",
       "      <th></th>\n",
       "      <th></th>\n",
       "      <th></th>\n",
       "      <th></th>\n",
       "      <th></th>\n",
       "      <th></th>\n",
       "      <th></th>\n",
       "      <th></th>\n",
       "    </tr>\n",
       "  </thead>\n",
       "  <tbody>\n",
       "    <tr>\n",
       "      <th>2012</th>\n",
       "      <td>1.0</td>\n",
       "      <td>580.0</td>\n",
       "      <td>1216.0</td>\n",
       "      <td>90.0</td>\n",
       "      <td>56.0</td>\n",
       "      <td>116.0</td>\n",
       "      <td>81.0</td>\n",
       "      <td>257.0</td>\n",
       "      <td>298.0</td>\n",
       "      <td>3.0</td>\n",
       "      <td>216.0</td>\n",
       "      <td>NaN</td>\n",
       "      <td>334.0</td>\n",
       "      <td>1.0</td>\n",
       "      <td>173.0</td>\n",
       "      <td>745.0</td>\n",
       "      <td>998.0</td>\n",
       "    </tr>\n",
       "    <tr>\n",
       "      <th>2013</th>\n",
       "      <td>NaN</td>\n",
       "      <td>539.0</td>\n",
       "      <td>1359.0</td>\n",
       "      <td>83.0</td>\n",
       "      <td>52.0</td>\n",
       "      <td>129.0</td>\n",
       "      <td>57.0</td>\n",
       "      <td>253.0</td>\n",
       "      <td>256.0</td>\n",
       "      <td>2.0</td>\n",
       "      <td>179.0</td>\n",
       "      <td>1.0</td>\n",
       "      <td>320.0</td>\n",
       "      <td>NaN</td>\n",
       "      <td>162.0</td>\n",
       "      <td>565.0</td>\n",
       "      <td>919.0</td>\n",
       "    </tr>\n",
       "    <tr>\n",
       "      <th>2014</th>\n",
       "      <td>NaN</td>\n",
       "      <td>436.0</td>\n",
       "      <td>1410.0</td>\n",
       "      <td>79.0</td>\n",
       "      <td>41.0</td>\n",
       "      <td>96.0</td>\n",
       "      <td>45.0</td>\n",
       "      <td>218.0</td>\n",
       "      <td>230.0</td>\n",
       "      <td>3.0</td>\n",
       "      <td>177.0</td>\n",
       "      <td>NaN</td>\n",
       "      <td>294.0</td>\n",
       "      <td>NaN</td>\n",
       "      <td>142.0</td>\n",
       "      <td>538.0</td>\n",
       "      <td>874.0</td>\n",
       "    </tr>\n",
       "  </tbody>\n",
       "</table>\n",
       "</div>"
      ],
      "text/plain": [
       "사고유형  경보기 무시  공작물충돌      기타  길가장자리구역통행중  도로이탈 기타  도로이탈 추락  보도통행중   전도전복  \\\n",
       "발생년                                                                       \n",
       "2012     1.0  580.0  1216.0        90.0     56.0    116.0   81.0  257.0   \n",
       "2013     NaN  539.0  1359.0        83.0     52.0    129.0   57.0  253.0   \n",
       "2014     NaN  436.0  1410.0        79.0     41.0     96.0   45.0  218.0   \n",
       "\n",
       "사고유형   정면충돌  주/정차차량 충돌  주정차중 추돌  직전진행  진행중 추돌  차단기돌파  차도통행중  측면직각충돌    횡단중  \n",
       "발생년                                                                         \n",
       "2012  298.0        3.0    216.0   NaN   334.0    1.0  173.0   745.0  998.0  \n",
       "2013  256.0        2.0    179.0   1.0   320.0    NaN  162.0   565.0  919.0  \n",
       "2014  230.0        3.0    177.0   NaN   294.0    NaN  142.0   538.0  874.0  "
      ]
     },
     "execution_count": 49,
     "metadata": {},
     "output_type": "execute_result"
    }
   ],
   "source": [
    "data.groupby('발생년').사고유형.value_counts().unstack()"
   ]
  },
  {
   "cell_type": "code",
   "execution_count": 50,
   "metadata": {},
   "outputs": [
    {
     "data": {
      "text/html": [
       "<div>\n",
       "<style scoped>\n",
       "    .dataframe tbody tr th:only-of-type {\n",
       "        vertical-align: middle;\n",
       "    }\n",
       "\n",
       "    .dataframe tbody tr th {\n",
       "        vertical-align: top;\n",
       "    }\n",
       "\n",
       "    .dataframe thead th {\n",
       "        text-align: right;\n",
       "    }\n",
       "</style>\n",
       "<table border=\"1\" class=\"dataframe\">\n",
       "  <thead>\n",
       "    <tr style=\"text-align: right;\">\n",
       "      <th>사고유형</th>\n",
       "      <th>경보기 무시</th>\n",
       "      <th>공작물충돌</th>\n",
       "      <th>기타</th>\n",
       "      <th>길가장자리구역통행중</th>\n",
       "      <th>도로이탈 기타</th>\n",
       "      <th>도로이탈 추락</th>\n",
       "      <th>보도통행중</th>\n",
       "      <th>전도전복</th>\n",
       "      <th>정면충돌</th>\n",
       "      <th>주/정차차량 충돌</th>\n",
       "      <th>주정차중 추돌</th>\n",
       "      <th>직전진행</th>\n",
       "      <th>진행중 추돌</th>\n",
       "      <th>차단기돌파</th>\n",
       "      <th>차도통행중</th>\n",
       "      <th>측면직각충돌</th>\n",
       "      <th>횡단중</th>\n",
       "    </tr>\n",
       "    <tr>\n",
       "      <th>발생년</th>\n",
       "      <th></th>\n",
       "      <th></th>\n",
       "      <th></th>\n",
       "      <th></th>\n",
       "      <th></th>\n",
       "      <th></th>\n",
       "      <th></th>\n",
       "      <th></th>\n",
       "      <th></th>\n",
       "      <th></th>\n",
       "      <th></th>\n",
       "      <th></th>\n",
       "      <th></th>\n",
       "      <th></th>\n",
       "      <th></th>\n",
       "      <th></th>\n",
       "      <th></th>\n",
       "    </tr>\n",
       "  </thead>\n",
       "  <tbody>\n",
       "    <tr>\n",
       "      <th>2012</th>\n",
       "      <td>1.0</td>\n",
       "      <td>580.0</td>\n",
       "      <td>1216.0</td>\n",
       "      <td>90.0</td>\n",
       "      <td>56.0</td>\n",
       "      <td>116.0</td>\n",
       "      <td>81.0</td>\n",
       "      <td>257.0</td>\n",
       "      <td>298.0</td>\n",
       "      <td>3.0</td>\n",
       "      <td>216.0</td>\n",
       "      <td>0.0</td>\n",
       "      <td>334.0</td>\n",
       "      <td>1.0</td>\n",
       "      <td>173.0</td>\n",
       "      <td>745.0</td>\n",
       "      <td>998.0</td>\n",
       "    </tr>\n",
       "    <tr>\n",
       "      <th>2013</th>\n",
       "      <td>0.0</td>\n",
       "      <td>539.0</td>\n",
       "      <td>1359.0</td>\n",
       "      <td>83.0</td>\n",
       "      <td>52.0</td>\n",
       "      <td>129.0</td>\n",
       "      <td>57.0</td>\n",
       "      <td>253.0</td>\n",
       "      <td>256.0</td>\n",
       "      <td>2.0</td>\n",
       "      <td>179.0</td>\n",
       "      <td>1.0</td>\n",
       "      <td>320.0</td>\n",
       "      <td>0.0</td>\n",
       "      <td>162.0</td>\n",
       "      <td>565.0</td>\n",
       "      <td>919.0</td>\n",
       "    </tr>\n",
       "    <tr>\n",
       "      <th>2014</th>\n",
       "      <td>0.0</td>\n",
       "      <td>436.0</td>\n",
       "      <td>1410.0</td>\n",
       "      <td>79.0</td>\n",
       "      <td>41.0</td>\n",
       "      <td>96.0</td>\n",
       "      <td>45.0</td>\n",
       "      <td>218.0</td>\n",
       "      <td>230.0</td>\n",
       "      <td>3.0</td>\n",
       "      <td>177.0</td>\n",
       "      <td>0.0</td>\n",
       "      <td>294.0</td>\n",
       "      <td>0.0</td>\n",
       "      <td>142.0</td>\n",
       "      <td>538.0</td>\n",
       "      <td>874.0</td>\n",
       "    </tr>\n",
       "  </tbody>\n",
       "</table>\n",
       "</div>"
      ],
      "text/plain": [
       "사고유형  경보기 무시  공작물충돌      기타  길가장자리구역통행중  도로이탈 기타  도로이탈 추락  보도통행중   전도전복  \\\n",
       "발생년                                                                       \n",
       "2012     1.0  580.0  1216.0        90.0     56.0    116.0   81.0  257.0   \n",
       "2013     0.0  539.0  1359.0        83.0     52.0    129.0   57.0  253.0   \n",
       "2014     0.0  436.0  1410.0        79.0     41.0     96.0   45.0  218.0   \n",
       "\n",
       "사고유형   정면충돌  주/정차차량 충돌  주정차중 추돌  직전진행  진행중 추돌  차단기돌파  차도통행중  측면직각충돌    횡단중  \n",
       "발생년                                                                         \n",
       "2012  298.0        3.0    216.0   0.0   334.0    1.0  173.0   745.0  998.0  \n",
       "2013  256.0        2.0    179.0   1.0   320.0    0.0  162.0   565.0  919.0  \n",
       "2014  230.0        3.0    177.0   0.0   294.0    0.0  142.0   538.0  874.0  "
      ]
     },
     "execution_count": 50,
     "metadata": {},
     "output_type": "execute_result"
    }
   ],
   "source": [
    "data.groupby('발생년').사고유형.value_counts().unstack().fillna(0)"
   ]
  },
  {
   "cell_type": "markdown",
   "metadata": {},
   "source": [
    "## 5. 컬럼명 바꾸기"
   ]
  },
  {
   "cell_type": "code",
   "execution_count": 88,
   "metadata": {},
   "outputs": [
    {
     "data": {
      "text/plain": [
       "Index(['사고년도', '발생년월일시', '발생분', '주야', '요일', '사망자수', '사상자수', '중상자수', '경상자수',\n",
       "       '부상신고자수', '발생지시도', '발생지시군구', '사고유형_대분류', '사고유형_중분류', '사고유형구분',\n",
       "       '법규위반_대분류', '법규위반', '도로형태_대분류', '도로형태', '당사자종별_1당_대분류', '당사자종별_1당',\n",
       "       '당사자종별_2당_대분류', '당사자종별_2당', '발생위치X_UTMK', '발생위치Y_UTMK', '경도', '위도'],\n",
       "      dtype='object')"
      ]
     },
     "execution_count": 88,
     "metadata": {},
     "output_type": "execute_result"
    }
   ],
   "source": [
    "data.columns"
   ]
  },
  {
   "cell_type": "code",
   "execution_count": 87,
   "metadata": {},
   "outputs": [],
   "source": [
    "data.rename(columns = {'발생년' : '사고년도', '사고유형':'사고유형구분'}, inplace = True)"
   ]
  },
  {
   "cell_type": "code",
   "execution_count": 52,
   "metadata": {},
   "outputs": [
    {
     "data": {
      "text/html": [
       "<div>\n",
       "<style scoped>\n",
       "    .dataframe tbody tr th:only-of-type {\n",
       "        vertical-align: middle;\n",
       "    }\n",
       "\n",
       "    .dataframe tbody tr th {\n",
       "        vertical-align: top;\n",
       "    }\n",
       "\n",
       "    .dataframe thead th {\n",
       "        text-align: right;\n",
       "    }\n",
       "</style>\n",
       "<table border=\"1\" class=\"dataframe\">\n",
       "  <thead>\n",
       "    <tr style=\"text-align: right;\">\n",
       "      <th>사고유형구분</th>\n",
       "      <th>경보기 무시</th>\n",
       "      <th>공작물충돌</th>\n",
       "      <th>기타</th>\n",
       "      <th>길가장자리구역통행중</th>\n",
       "      <th>도로이탈 기타</th>\n",
       "      <th>도로이탈 추락</th>\n",
       "      <th>보도통행중</th>\n",
       "      <th>전도전복</th>\n",
       "      <th>정면충돌</th>\n",
       "      <th>주/정차차량 충돌</th>\n",
       "      <th>주정차중 추돌</th>\n",
       "      <th>직전진행</th>\n",
       "      <th>진행중 추돌</th>\n",
       "      <th>차단기돌파</th>\n",
       "      <th>차도통행중</th>\n",
       "      <th>측면직각충돌</th>\n",
       "      <th>횡단중</th>\n",
       "    </tr>\n",
       "    <tr>\n",
       "      <th>사고년도</th>\n",
       "      <th></th>\n",
       "      <th></th>\n",
       "      <th></th>\n",
       "      <th></th>\n",
       "      <th></th>\n",
       "      <th></th>\n",
       "      <th></th>\n",
       "      <th></th>\n",
       "      <th></th>\n",
       "      <th></th>\n",
       "      <th></th>\n",
       "      <th></th>\n",
       "      <th></th>\n",
       "      <th></th>\n",
       "      <th></th>\n",
       "      <th></th>\n",
       "      <th></th>\n",
       "    </tr>\n",
       "  </thead>\n",
       "  <tbody>\n",
       "    <tr>\n",
       "      <th>2012</th>\n",
       "      <td>1</td>\n",
       "      <td>580</td>\n",
       "      <td>1216</td>\n",
       "      <td>90</td>\n",
       "      <td>56</td>\n",
       "      <td>116</td>\n",
       "      <td>81</td>\n",
       "      <td>257</td>\n",
       "      <td>298</td>\n",
       "      <td>3</td>\n",
       "      <td>216</td>\n",
       "      <td>0</td>\n",
       "      <td>334</td>\n",
       "      <td>1</td>\n",
       "      <td>173</td>\n",
       "      <td>745</td>\n",
       "      <td>998</td>\n",
       "    </tr>\n",
       "    <tr>\n",
       "      <th>2013</th>\n",
       "      <td>0</td>\n",
       "      <td>539</td>\n",
       "      <td>1359</td>\n",
       "      <td>83</td>\n",
       "      <td>52</td>\n",
       "      <td>129</td>\n",
       "      <td>57</td>\n",
       "      <td>253</td>\n",
       "      <td>256</td>\n",
       "      <td>2</td>\n",
       "      <td>179</td>\n",
       "      <td>1</td>\n",
       "      <td>320</td>\n",
       "      <td>0</td>\n",
       "      <td>162</td>\n",
       "      <td>565</td>\n",
       "      <td>919</td>\n",
       "    </tr>\n",
       "    <tr>\n",
       "      <th>2014</th>\n",
       "      <td>0</td>\n",
       "      <td>436</td>\n",
       "      <td>1410</td>\n",
       "      <td>79</td>\n",
       "      <td>41</td>\n",
       "      <td>96</td>\n",
       "      <td>45</td>\n",
       "      <td>218</td>\n",
       "      <td>230</td>\n",
       "      <td>3</td>\n",
       "      <td>177</td>\n",
       "      <td>0</td>\n",
       "      <td>294</td>\n",
       "      <td>0</td>\n",
       "      <td>142</td>\n",
       "      <td>538</td>\n",
       "      <td>874</td>\n",
       "    </tr>\n",
       "  </tbody>\n",
       "</table>\n",
       "</div>"
      ],
      "text/plain": [
       "사고유형구분  경보기 무시  공작물충돌    기타  길가장자리구역통행중  도로이탈 기타  도로이탈 추락  보도통행중  전도전복  정면충돌  \\\n",
       "사고년도                                                                           \n",
       "2012         1    580  1216          90       56      116     81   257   298   \n",
       "2013         0    539  1359          83       52      129     57   253   256   \n",
       "2014         0    436  1410          79       41       96     45   218   230   \n",
       "\n",
       "사고유형구분  주/정차차량 충돌  주정차중 추돌  직전진행  진행중 추돌  차단기돌파  차도통행중  측면직각충돌  횡단중  \n",
       "사고년도                                                                 \n",
       "2012            3      216     0     334      1    173     745  998  \n",
       "2013            2      179     1     320      0    162     565  919  \n",
       "2014            3      177     0     294      0    142     538  874  "
      ]
     },
     "execution_count": 52,
     "metadata": {},
     "output_type": "execute_result"
    }
   ],
   "source": [
    "pd.crosstab(data.사고년도, data.사고유형구분)"
   ]
  },
  {
   "cell_type": "code",
   "execution_count": 53,
   "metadata": {},
   "outputs": [
    {
     "data": {
      "text/html": [
       "<div>\n",
       "<style scoped>\n",
       "    .dataframe tbody tr th:only-of-type {\n",
       "        vertical-align: middle;\n",
       "    }\n",
       "\n",
       "    .dataframe tbody tr th {\n",
       "        vertical-align: top;\n",
       "    }\n",
       "\n",
       "    .dataframe thead th {\n",
       "        text-align: right;\n",
       "    }\n",
       "</style>\n",
       "<table border=\"1\" class=\"dataframe\">\n",
       "  <thead>\n",
       "    <tr style=\"text-align: right;\">\n",
       "      <th>사고유형구분</th>\n",
       "      <th>경보기 무시</th>\n",
       "      <th>공작물충돌</th>\n",
       "      <th>기타</th>\n",
       "      <th>길가장자리구역통행중</th>\n",
       "      <th>도로이탈 기타</th>\n",
       "      <th>도로이탈 추락</th>\n",
       "      <th>보도통행중</th>\n",
       "      <th>전도전복</th>\n",
       "      <th>정면충돌</th>\n",
       "      <th>주/정차차량 충돌</th>\n",
       "      <th>주정차중 추돌</th>\n",
       "      <th>직전진행</th>\n",
       "      <th>진행중 추돌</th>\n",
       "      <th>차단기돌파</th>\n",
       "      <th>차도통행중</th>\n",
       "      <th>측면직각충돌</th>\n",
       "      <th>횡단중</th>\n",
       "    </tr>\n",
       "    <tr>\n",
       "      <th>사고년도</th>\n",
       "      <th></th>\n",
       "      <th></th>\n",
       "      <th></th>\n",
       "      <th></th>\n",
       "      <th></th>\n",
       "      <th></th>\n",
       "      <th></th>\n",
       "      <th></th>\n",
       "      <th></th>\n",
       "      <th></th>\n",
       "      <th></th>\n",
       "      <th></th>\n",
       "      <th></th>\n",
       "      <th></th>\n",
       "      <th></th>\n",
       "      <th></th>\n",
       "      <th></th>\n",
       "    </tr>\n",
       "  </thead>\n",
       "  <tbody>\n",
       "    <tr>\n",
       "      <th>2012</th>\n",
       "      <td>1.0</td>\n",
       "      <td>580.0</td>\n",
       "      <td>1216.0</td>\n",
       "      <td>90.0</td>\n",
       "      <td>56.0</td>\n",
       "      <td>116.0</td>\n",
       "      <td>81.0</td>\n",
       "      <td>257.0</td>\n",
       "      <td>298.0</td>\n",
       "      <td>3.0</td>\n",
       "      <td>216.0</td>\n",
       "      <td>NaN</td>\n",
       "      <td>334.0</td>\n",
       "      <td>1.0</td>\n",
       "      <td>173.0</td>\n",
       "      <td>745.0</td>\n",
       "      <td>998.0</td>\n",
       "    </tr>\n",
       "    <tr>\n",
       "      <th>2013</th>\n",
       "      <td>NaN</td>\n",
       "      <td>539.0</td>\n",
       "      <td>1359.0</td>\n",
       "      <td>83.0</td>\n",
       "      <td>52.0</td>\n",
       "      <td>129.0</td>\n",
       "      <td>57.0</td>\n",
       "      <td>253.0</td>\n",
       "      <td>256.0</td>\n",
       "      <td>2.0</td>\n",
       "      <td>179.0</td>\n",
       "      <td>1.0</td>\n",
       "      <td>320.0</td>\n",
       "      <td>NaN</td>\n",
       "      <td>162.0</td>\n",
       "      <td>565.0</td>\n",
       "      <td>919.0</td>\n",
       "    </tr>\n",
       "    <tr>\n",
       "      <th>2014</th>\n",
       "      <td>NaN</td>\n",
       "      <td>436.0</td>\n",
       "      <td>1410.0</td>\n",
       "      <td>79.0</td>\n",
       "      <td>41.0</td>\n",
       "      <td>96.0</td>\n",
       "      <td>45.0</td>\n",
       "      <td>218.0</td>\n",
       "      <td>230.0</td>\n",
       "      <td>3.0</td>\n",
       "      <td>177.0</td>\n",
       "      <td>NaN</td>\n",
       "      <td>294.0</td>\n",
       "      <td>NaN</td>\n",
       "      <td>142.0</td>\n",
       "      <td>538.0</td>\n",
       "      <td>874.0</td>\n",
       "    </tr>\n",
       "  </tbody>\n",
       "</table>\n",
       "</div>"
      ],
      "text/plain": [
       "사고유형구분  경보기 무시  공작물충돌      기타  길가장자리구역통행중  도로이탈 기타  도로이탈 추락  보도통행중   전도전복  \\\n",
       "사고년도                                                                        \n",
       "2012       1.0  580.0  1216.0        90.0     56.0    116.0   81.0  257.0   \n",
       "2013       NaN  539.0  1359.0        83.0     52.0    129.0   57.0  253.0   \n",
       "2014       NaN  436.0  1410.0        79.0     41.0     96.0   45.0  218.0   \n",
       "\n",
       "사고유형구분   정면충돌  주/정차차량 충돌  주정차중 추돌  직전진행  진행중 추돌  차단기돌파  차도통행중  측면직각충돌    횡단중  \n",
       "사고년도                                                                          \n",
       "2012    298.0        3.0    216.0   NaN   334.0    1.0  173.0   745.0  998.0  \n",
       "2013    256.0        2.0    179.0   1.0   320.0    NaN  162.0   565.0  919.0  \n",
       "2014    230.0        3.0    177.0   NaN   294.0    NaN  142.0   538.0  874.0  "
      ]
     },
     "execution_count": 53,
     "metadata": {},
     "output_type": "execute_result"
    }
   ],
   "source": [
    "data.pivot_table(values='경상자수', index=['사고년도'], columns =['사고유형구분'], aggfunc='count')"
   ]
  },
  {
   "cell_type": "code",
   "execution_count": 54,
   "metadata": {},
   "outputs": [
    {
     "data": {
      "text/html": [
       "<div>\n",
       "<style scoped>\n",
       "    .dataframe tbody tr th:only-of-type {\n",
       "        vertical-align: middle;\n",
       "    }\n",
       "\n",
       "    .dataframe tbody tr th {\n",
       "        vertical-align: top;\n",
       "    }\n",
       "\n",
       "    .dataframe thead th {\n",
       "        text-align: right;\n",
       "    }\n",
       "</style>\n",
       "<table border=\"1\" class=\"dataframe\">\n",
       "  <thead>\n",
       "    <tr style=\"text-align: right;\">\n",
       "      <th>법규위반_대분류</th>\n",
       "      <th>보행자과실</th>\n",
       "      <th>운전자법규위반</th>\n",
       "      <th>정비불량</th>\n",
       "    </tr>\n",
       "    <tr>\n",
       "      <th>사고년도</th>\n",
       "      <th></th>\n",
       "      <th></th>\n",
       "      <th></th>\n",
       "    </tr>\n",
       "  </thead>\n",
       "  <tbody>\n",
       "    <tr>\n",
       "      <th>2012</th>\n",
       "      <td>NaN</td>\n",
       "      <td>0.260070</td>\n",
       "      <td>4.0</td>\n",
       "    </tr>\n",
       "    <tr>\n",
       "      <th>2013</th>\n",
       "      <td>NaN</td>\n",
       "      <td>0.253486</td>\n",
       "      <td>NaN</td>\n",
       "    </tr>\n",
       "    <tr>\n",
       "      <th>2014</th>\n",
       "      <td>1.0</td>\n",
       "      <td>0.220912</td>\n",
       "      <td>0.0</td>\n",
       "    </tr>\n",
       "  </tbody>\n",
       "</table>\n",
       "</div>"
      ],
      "text/plain": [
       "법규위반_대분류  보행자과실   운전자법규위반  정비불량\n",
       "사고년도                           \n",
       "2012        NaN  0.260070   4.0\n",
       "2013        NaN  0.253486   NaN\n",
       "2014        1.0  0.220912   0.0"
      ]
     },
     "execution_count": 54,
     "metadata": {},
     "output_type": "execute_result"
    }
   ],
   "source": [
    "data.pivot_table(values='경상자수', index=['사고년도'], columns =['법규위반_대분류'])"
   ]
  },
  {
   "cell_type": "markdown",
   "metadata": {},
   "source": [
    "### groupby, pivot, crosstab 동일한 결과"
   ]
  },
  {
   "cell_type": "code",
   "execution_count": 55,
   "metadata": {},
   "outputs": [
    {
     "data": {
      "text/plain": [
       "<matplotlib.axes._subplots.AxesSubplot at 0x187c8e48788>"
      ]
     },
     "execution_count": 55,
     "metadata": {},
     "output_type": "execute_result"
    },
    {
     "data": {
      "image/png": "[encoded data removed]",
      "text/plain": [
       "<Figure size 1440x216 with 1 Axes>"
      ]
     },
     "metadata": {
      "needs_background": "light"
     },
     "output_type": "display_data"
    }
   ],
   "source": [
    "data.groupby('사고년도').사고유형구분.value_counts().unstack().plot(kind='bar', figsize=(20,3))"
   ]
  },
  {
   "cell_type": "code",
   "execution_count": 56,
   "metadata": {},
   "outputs": [
    {
     "data": {
      "text/plain": [
       "<matplotlib.axes._subplots.AxesSubplot at 0x187c8c1bc48>"
      ]
     },
     "execution_count": 56,
     "metadata": {},
     "output_type": "execute_result"
    },
    {
     "data": {
      "image/png": "[encoded data removed]",
      "text/plain": [
       "<Figure size 1440x216 with 1 Axes>"
      ]
     },
     "metadata": {
      "needs_background": "light"
     },
     "output_type": "display_data"
    }
   ],
   "source": [
    "pd.crosstab(data.사고년도, data.사고유형구분).plot(kind='bar', figsize=(20,3))"
   ]
  },
  {
   "cell_type": "code",
   "execution_count": 57,
   "metadata": {},
   "outputs": [
    {
     "data": {
      "text/plain": [
       "<matplotlib.axes._subplots.AxesSubplot at 0x187ca348688>"
      ]
     },
     "execution_count": 57,
     "metadata": {},
     "output_type": "execute_result"
    },
    {
     "data": {
      "image/png": "[encoded data removed]",
      "text/plain": [
       "<Figure size 1440x216 with 1 Axes>"
      ]
     },
     "metadata": {
      "needs_background": "light"
     },
     "output_type": "display_data"
    }
   ],
   "source": [
    "data.pivot_table(values='경상자수', index=['사고년도'], columns =['사고유형구분'], aggfunc='count').plot(kind='bar', figsize=(20,3))"
   ]
  },
  {
   "cell_type": "code",
   "execution_count": 58,
   "metadata": {},
   "outputs": [
    {
     "data": {
      "text/html": [
       "<div>\n",
       "<style scoped>\n",
       "    .dataframe tbody tr th:only-of-type {\n",
       "        vertical-align: middle;\n",
       "    }\n",
       "\n",
       "    .dataframe tbody tr th {\n",
       "        vertical-align: top;\n",
       "    }\n",
       "\n",
       "    .dataframe thead th {\n",
       "        text-align: right;\n",
       "    }\n",
       "</style>\n",
       "<table border=\"1\" class=\"dataframe\">\n",
       "  <thead>\n",
       "    <tr style=\"text-align: right;\">\n",
       "      <th></th>\n",
       "      <th>count</th>\n",
       "      <th>median</th>\n",
       "      <th>min</th>\n",
       "      <th>max</th>\n",
       "      <th>mean</th>\n",
       "      <th>var</th>\n",
       "      <th>std</th>\n",
       "    </tr>\n",
       "    <tr>\n",
       "      <th>사고유형구분</th>\n",
       "      <th></th>\n",
       "      <th></th>\n",
       "      <th></th>\n",
       "      <th></th>\n",
       "      <th></th>\n",
       "      <th></th>\n",
       "      <th></th>\n",
       "    </tr>\n",
       "  </thead>\n",
       "  <tbody>\n",
       "    <tr>\n",
       "      <th>경보기 무시</th>\n",
       "      <td>1</td>\n",
       "      <td>1</td>\n",
       "      <td>1</td>\n",
       "      <td>1</td>\n",
       "      <td>1.000000</td>\n",
       "      <td>NaN</td>\n",
       "      <td>NaN</td>\n",
       "    </tr>\n",
       "    <tr>\n",
       "      <th>공작물충돌</th>\n",
       "      <td>1555</td>\n",
       "      <td>1</td>\n",
       "      <td>1</td>\n",
       "      <td>27</td>\n",
       "      <td>1.508682</td>\n",
       "      <td>1.645195</td>\n",
       "      <td>1.282651</td>\n",
       "    </tr>\n",
       "    <tr>\n",
       "      <th>기타</th>\n",
       "      <td>3985</td>\n",
       "      <td>1</td>\n",
       "      <td>1</td>\n",
       "      <td>57</td>\n",
       "      <td>1.481305</td>\n",
       "      <td>2.989171</td>\n",
       "      <td>1.728922</td>\n",
       "    </tr>\n",
       "    <tr>\n",
       "      <th>길가장자리구역통행중</th>\n",
       "      <td>252</td>\n",
       "      <td>1</td>\n",
       "      <td>1</td>\n",
       "      <td>6</td>\n",
       "      <td>1.190476</td>\n",
       "      <td>0.465566</td>\n",
       "      <td>0.682324</td>\n",
       "    </tr>\n",
       "    <tr>\n",
       "      <th>도로이탈 기타</th>\n",
       "      <td>149</td>\n",
       "      <td>1</td>\n",
       "      <td>1</td>\n",
       "      <td>8</td>\n",
       "      <td>1.543624</td>\n",
       "      <td>1.182206</td>\n",
       "      <td>1.087293</td>\n",
       "    </tr>\n",
       "    <tr>\n",
       "      <th>도로이탈 추락</th>\n",
       "      <td>341</td>\n",
       "      <td>1</td>\n",
       "      <td>1</td>\n",
       "      <td>10</td>\n",
       "      <td>1.384164</td>\n",
       "      <td>0.813748</td>\n",
       "      <td>0.902080</td>\n",
       "    </tr>\n",
       "    <tr>\n",
       "      <th>보도통행중</th>\n",
       "      <td>183</td>\n",
       "      <td>1</td>\n",
       "      <td>1</td>\n",
       "      <td>7</td>\n",
       "      <td>1.267760</td>\n",
       "      <td>0.570768</td>\n",
       "      <td>0.755492</td>\n",
       "    </tr>\n",
       "    <tr>\n",
       "      <th>전도전복</th>\n",
       "      <td>728</td>\n",
       "      <td>1</td>\n",
       "      <td>1</td>\n",
       "      <td>26</td>\n",
       "      <td>1.641484</td>\n",
       "      <td>3.149143</td>\n",
       "      <td>1.774583</td>\n",
       "    </tr>\n",
       "    <tr>\n",
       "      <th>정면충돌</th>\n",
       "      <td>784</td>\n",
       "      <td>2</td>\n",
       "      <td>1</td>\n",
       "      <td>40</td>\n",
       "      <td>2.772959</td>\n",
       "      <td>7.700622</td>\n",
       "      <td>2.774999</td>\n",
       "    </tr>\n",
       "    <tr>\n",
       "      <th>주/정차차량 충돌</th>\n",
       "      <td>8</td>\n",
       "      <td>1</td>\n",
       "      <td>1</td>\n",
       "      <td>6</td>\n",
       "      <td>1.750000</td>\n",
       "      <td>3.071429</td>\n",
       "      <td>1.752549</td>\n",
       "    </tr>\n",
       "    <tr>\n",
       "      <th>주정차중 추돌</th>\n",
       "      <td>572</td>\n",
       "      <td>2</td>\n",
       "      <td>1</td>\n",
       "      <td>47</td>\n",
       "      <td>2.718531</td>\n",
       "      <td>15.547607</td>\n",
       "      <td>3.943045</td>\n",
       "    </tr>\n",
       "    <tr>\n",
       "      <th>직전진행</th>\n",
       "      <td>1</td>\n",
       "      <td>3</td>\n",
       "      <td>3</td>\n",
       "      <td>3</td>\n",
       "      <td>3.000000</td>\n",
       "      <td>NaN</td>\n",
       "      <td>NaN</td>\n",
       "    </tr>\n",
       "    <tr>\n",
       "      <th>진행중 추돌</th>\n",
       "      <td>948</td>\n",
       "      <td>2</td>\n",
       "      <td>1</td>\n",
       "      <td>100</td>\n",
       "      <td>2.320675</td>\n",
       "      <td>17.079741</td>\n",
       "      <td>4.132764</td>\n",
       "    </tr>\n",
       "    <tr>\n",
       "      <th>차단기돌파</th>\n",
       "      <td>1</td>\n",
       "      <td>3</td>\n",
       "      <td>3</td>\n",
       "      <td>3</td>\n",
       "      <td>3.000000</td>\n",
       "      <td>NaN</td>\n",
       "      <td>NaN</td>\n",
       "    </tr>\n",
       "    <tr>\n",
       "      <th>차도통행중</th>\n",
       "      <td>477</td>\n",
       "      <td>1</td>\n",
       "      <td>1</td>\n",
       "      <td>7</td>\n",
       "      <td>1.067086</td>\n",
       "      <td>0.146751</td>\n",
       "      <td>0.383080</td>\n",
       "    </tr>\n",
       "    <tr>\n",
       "      <th>측면직각충돌</th>\n",
       "      <td>1848</td>\n",
       "      <td>1</td>\n",
       "      <td>1</td>\n",
       "      <td>37</td>\n",
       "      <td>2.023268</td>\n",
       "      <td>5.639415</td>\n",
       "      <td>2.374745</td>\n",
       "    </tr>\n",
       "    <tr>\n",
       "      <th>횡단중</th>\n",
       "      <td>2791</td>\n",
       "      <td>1</td>\n",
       "      <td>1</td>\n",
       "      <td>12</td>\n",
       "      <td>1.103189</td>\n",
       "      <td>0.225191</td>\n",
       "      <td>0.474542</td>\n",
       "    </tr>\n",
       "  </tbody>\n",
       "</table>\n",
       "</div>"
      ],
      "text/plain": [
       "            count  median  min  max      mean        var       std\n",
       "사고유형구분                                                            \n",
       "경보기 무시          1       1    1    1  1.000000        NaN       NaN\n",
       "공작물충돌        1555       1    1   27  1.508682   1.645195  1.282651\n",
       "기타           3985       1    1   57  1.481305   2.989171  1.728922\n",
       "길가장자리구역통행중    252       1    1    6  1.190476   0.465566  0.682324\n",
       "도로이탈 기타       149       1    1    8  1.543624   1.182206  1.087293\n",
       "도로이탈 추락       341       1    1   10  1.384164   0.813748  0.902080\n",
       "보도통행중         183       1    1    7  1.267760   0.570768  0.755492\n",
       "전도전복          728       1    1   26  1.641484   3.149143  1.774583\n",
       "정면충돌          784       2    1   40  2.772959   7.700622  2.774999\n",
       "주/정차차량 충돌       8       1    1    6  1.750000   3.071429  1.752549\n",
       "주정차중 추돌       572       2    1   47  2.718531  15.547607  3.943045\n",
       "직전진행            1       3    3    3  3.000000        NaN       NaN\n",
       "진행중 추돌        948       2    1  100  2.320675  17.079741  4.132764\n",
       "차단기돌파           1       3    3    3  3.000000        NaN       NaN\n",
       "차도통행중         477       1    1    7  1.067086   0.146751  0.383080\n",
       "측면직각충돌       1848       1    1   37  2.023268   5.639415  2.374745\n",
       "횡단중          2791       1    1   12  1.103189   0.225191  0.474542"
      ]
     },
     "execution_count": 58,
     "metadata": {},
     "output_type": "execute_result"
    }
   ],
   "source": [
    "data.groupby('사고유형구분').사상자수.agg(['count', 'median', 'min', 'max', 'mean', 'var', 'std'])"
   ]
  },
  {
   "cell_type": "code",
   "execution_count": 59,
   "metadata": {
    "scrolled": true
   },
   "outputs": [
    {
     "data": {
      "text/html": [
       "<div>\n",
       "<style scoped>\n",
       "    .dataframe tbody tr th:only-of-type {\n",
       "        vertical-align: middle;\n",
       "    }\n",
       "\n",
       "    .dataframe tbody tr th {\n",
       "        vertical-align: top;\n",
       "    }\n",
       "\n",
       "    .dataframe thead th {\n",
       "        text-align: right;\n",
       "    }\n",
       "</style>\n",
       "<table border=\"1\" class=\"dataframe\">\n",
       "  <thead>\n",
       "    <tr style=\"text-align: right;\">\n",
       "      <th></th>\n",
       "      <th>count</th>\n",
       "      <th>mean</th>\n",
       "      <th>std</th>\n",
       "      <th>min</th>\n",
       "      <th>25%</th>\n",
       "      <th>50%</th>\n",
       "      <th>75%</th>\n",
       "      <th>max</th>\n",
       "    </tr>\n",
       "    <tr>\n",
       "      <th>사고유형구분</th>\n",
       "      <th></th>\n",
       "      <th></th>\n",
       "      <th></th>\n",
       "      <th></th>\n",
       "      <th></th>\n",
       "      <th></th>\n",
       "      <th></th>\n",
       "      <th></th>\n",
       "    </tr>\n",
       "  </thead>\n",
       "  <tbody>\n",
       "    <tr>\n",
       "      <th>경보기 무시</th>\n",
       "      <td>1.0</td>\n",
       "      <td>1.000000</td>\n",
       "      <td>NaN</td>\n",
       "      <td>1.0</td>\n",
       "      <td>1.0</td>\n",
       "      <td>1.0</td>\n",
       "      <td>1.00</td>\n",
       "      <td>1.0</td>\n",
       "    </tr>\n",
       "    <tr>\n",
       "      <th>공작물충돌</th>\n",
       "      <td>1555.0</td>\n",
       "      <td>1.508682</td>\n",
       "      <td>1.282651</td>\n",
       "      <td>1.0</td>\n",
       "      <td>1.0</td>\n",
       "      <td>1.0</td>\n",
       "      <td>2.00</td>\n",
       "      <td>27.0</td>\n",
       "    </tr>\n",
       "    <tr>\n",
       "      <th>기타</th>\n",
       "      <td>3985.0</td>\n",
       "      <td>1.481305</td>\n",
       "      <td>1.728922</td>\n",
       "      <td>1.0</td>\n",
       "      <td>1.0</td>\n",
       "      <td>1.0</td>\n",
       "      <td>1.00</td>\n",
       "      <td>57.0</td>\n",
       "    </tr>\n",
       "    <tr>\n",
       "      <th>길가장자리구역통행중</th>\n",
       "      <td>252.0</td>\n",
       "      <td>1.190476</td>\n",
       "      <td>0.682324</td>\n",
       "      <td>1.0</td>\n",
       "      <td>1.0</td>\n",
       "      <td>1.0</td>\n",
       "      <td>1.00</td>\n",
       "      <td>6.0</td>\n",
       "    </tr>\n",
       "    <tr>\n",
       "      <th>도로이탈 기타</th>\n",
       "      <td>149.0</td>\n",
       "      <td>1.543624</td>\n",
       "      <td>1.087293</td>\n",
       "      <td>1.0</td>\n",
       "      <td>1.0</td>\n",
       "      <td>1.0</td>\n",
       "      <td>2.00</td>\n",
       "      <td>8.0</td>\n",
       "    </tr>\n",
       "    <tr>\n",
       "      <th>도로이탈 추락</th>\n",
       "      <td>341.0</td>\n",
       "      <td>1.384164</td>\n",
       "      <td>0.902080</td>\n",
       "      <td>1.0</td>\n",
       "      <td>1.0</td>\n",
       "      <td>1.0</td>\n",
       "      <td>1.00</td>\n",
       "      <td>10.0</td>\n",
       "    </tr>\n",
       "    <tr>\n",
       "      <th>보도통행중</th>\n",
       "      <td>183.0</td>\n",
       "      <td>1.267760</td>\n",
       "      <td>0.755492</td>\n",
       "      <td>1.0</td>\n",
       "      <td>1.0</td>\n",
       "      <td>1.0</td>\n",
       "      <td>1.00</td>\n",
       "      <td>7.0</td>\n",
       "    </tr>\n",
       "    <tr>\n",
       "      <th>전도전복</th>\n",
       "      <td>728.0</td>\n",
       "      <td>1.641484</td>\n",
       "      <td>1.774583</td>\n",
       "      <td>1.0</td>\n",
       "      <td>1.0</td>\n",
       "      <td>1.0</td>\n",
       "      <td>2.00</td>\n",
       "      <td>26.0</td>\n",
       "    </tr>\n",
       "    <tr>\n",
       "      <th>정면충돌</th>\n",
       "      <td>784.0</td>\n",
       "      <td>2.772959</td>\n",
       "      <td>2.774999</td>\n",
       "      <td>1.0</td>\n",
       "      <td>1.0</td>\n",
       "      <td>2.0</td>\n",
       "      <td>3.00</td>\n",
       "      <td>40.0</td>\n",
       "    </tr>\n",
       "    <tr>\n",
       "      <th>주/정차차량 충돌</th>\n",
       "      <td>8.0</td>\n",
       "      <td>1.750000</td>\n",
       "      <td>1.752549</td>\n",
       "      <td>1.0</td>\n",
       "      <td>1.0</td>\n",
       "      <td>1.0</td>\n",
       "      <td>1.25</td>\n",
       "      <td>6.0</td>\n",
       "    </tr>\n",
       "    <tr>\n",
       "      <th>주정차중 추돌</th>\n",
       "      <td>572.0</td>\n",
       "      <td>2.718531</td>\n",
       "      <td>3.943045</td>\n",
       "      <td>1.0</td>\n",
       "      <td>1.0</td>\n",
       "      <td>2.0</td>\n",
       "      <td>3.00</td>\n",
       "      <td>47.0</td>\n",
       "    </tr>\n",
       "    <tr>\n",
       "      <th>직전진행</th>\n",
       "      <td>1.0</td>\n",
       "      <td>3.000000</td>\n",
       "      <td>NaN</td>\n",
       "      <td>3.0</td>\n",
       "      <td>3.0</td>\n",
       "      <td>3.0</td>\n",
       "      <td>3.00</td>\n",
       "      <td>3.0</td>\n",
       "    </tr>\n",
       "    <tr>\n",
       "      <th>진행중 추돌</th>\n",
       "      <td>948.0</td>\n",
       "      <td>2.320675</td>\n",
       "      <td>4.132764</td>\n",
       "      <td>1.0</td>\n",
       "      <td>1.0</td>\n",
       "      <td>2.0</td>\n",
       "      <td>2.00</td>\n",
       "      <td>100.0</td>\n",
       "    </tr>\n",
       "    <tr>\n",
       "      <th>차단기돌파</th>\n",
       "      <td>1.0</td>\n",
       "      <td>3.000000</td>\n",
       "      <td>NaN</td>\n",
       "      <td>3.0</td>\n",
       "      <td>3.0</td>\n",
       "      <td>3.0</td>\n",
       "      <td>3.00</td>\n",
       "      <td>3.0</td>\n",
       "    </tr>\n",
       "    <tr>\n",
       "      <th>차도통행중</th>\n",
       "      <td>477.0</td>\n",
       "      <td>1.067086</td>\n",
       "      <td>0.383080</td>\n",
       "      <td>1.0</td>\n",
       "      <td>1.0</td>\n",
       "      <td>1.0</td>\n",
       "      <td>1.00</td>\n",
       "      <td>7.0</td>\n",
       "    </tr>\n",
       "    <tr>\n",
       "      <th>측면직각충돌</th>\n",
       "      <td>1848.0</td>\n",
       "      <td>2.023268</td>\n",
       "      <td>2.374745</td>\n",
       "      <td>1.0</td>\n",
       "      <td>1.0</td>\n",
       "      <td>1.0</td>\n",
       "      <td>2.00</td>\n",
       "      <td>37.0</td>\n",
       "    </tr>\n",
       "    <tr>\n",
       "      <th>횡단중</th>\n",
       "      <td>2791.0</td>\n",
       "      <td>1.103189</td>\n",
       "      <td>0.474542</td>\n",
       "      <td>1.0</td>\n",
       "      <td>1.0</td>\n",
       "      <td>1.0</td>\n",
       "      <td>1.00</td>\n",
       "      <td>12.0</td>\n",
       "    </tr>\n",
       "  </tbody>\n",
       "</table>\n",
       "</div>"
      ],
      "text/plain": [
       "             count      mean       std  min  25%  50%   75%    max\n",
       "사고유형구분                                                            \n",
       "경보기 무시         1.0  1.000000       NaN  1.0  1.0  1.0  1.00    1.0\n",
       "공작물충돌       1555.0  1.508682  1.282651  1.0  1.0  1.0  2.00   27.0\n",
       "기타          3985.0  1.481305  1.728922  1.0  1.0  1.0  1.00   57.0\n",
       "길가장자리구역통행중   252.0  1.190476  0.682324  1.0  1.0  1.0  1.00    6.0\n",
       "도로이탈 기타      149.0  1.543624  1.087293  1.0  1.0  1.0  2.00    8.0\n",
       "도로이탈 추락      341.0  1.384164  0.902080  1.0  1.0  1.0  1.00   10.0\n",
       "보도통행중        183.0  1.267760  0.755492  1.0  1.0  1.0  1.00    7.0\n",
       "전도전복         728.0  1.641484  1.774583  1.0  1.0  1.0  2.00   26.0\n",
       "정면충돌         784.0  2.772959  2.774999  1.0  1.0  2.0  3.00   40.0\n",
       "주/정차차량 충돌      8.0  1.750000  1.752549  1.0  1.0  1.0  1.25    6.0\n",
       "주정차중 추돌      572.0  2.718531  3.943045  1.0  1.0  2.0  3.00   47.0\n",
       "직전진행           1.0  3.000000       NaN  3.0  3.0  3.0  3.00    3.0\n",
       "진행중 추돌       948.0  2.320675  4.132764  1.0  1.0  2.0  2.00  100.0\n",
       "차단기돌파          1.0  3.000000       NaN  3.0  3.0  3.0  3.00    3.0\n",
       "차도통행중        477.0  1.067086  0.383080  1.0  1.0  1.0  1.00    7.0\n",
       "측면직각충돌      1848.0  2.023268  2.374745  1.0  1.0  1.0  2.00   37.0\n",
       "횡단중         2791.0  1.103189  0.474542  1.0  1.0  1.0  1.00   12.0"
      ]
     },
     "execution_count": 59,
     "metadata": {},
     "output_type": "execute_result"
    }
   ],
   "source": [
    "data.groupby('사고유형구분').사상자수.describe()"
   ]
  },
  {
   "cell_type": "markdown",
   "metadata": {},
   "source": [
    "# 6. reset_index(), set_index"
   ]
  },
  {
   "cell_type": "code",
   "execution_count": 94,
   "metadata": {},
   "outputs": [
    {
     "name": "stdout",
     "output_type": "stream",
     "text": [
      "<class 'pandas.core.frame.DataFrame'>\n",
      "RangeIndex: 14624 entries, 0 to 14623\n",
      "Data columns (total 27 columns):\n",
      " #   Column        Non-Null Count  Dtype         \n",
      "---  ------        --------------  -----         \n",
      " 0   사고년도          14624 non-null  int64         \n",
      " 1   발생년월일시        14624 non-null  datetime64[ns]\n",
      " 2   발생분           14624 non-null  int64         \n",
      " 3   주야            14624 non-null  object        \n",
      " 4   요일            14624 non-null  object        \n",
      " 5   사망자수          14624 non-null  int64         \n",
      " 6   사상자수          14624 non-null  int64         \n",
      " 7   중상자수          14624 non-null  int64         \n",
      " 8   경상자수          14624 non-null  int64         \n",
      " 9   부상신고자수        14624 non-null  int64         \n",
      " 10  발생지시도         14624 non-null  object        \n",
      " 11  발생지시군구        14624 non-null  object        \n",
      " 12  사고유형_대분류      14624 non-null  object        \n",
      " 13  사고유형_중분류      14624 non-null  object        \n",
      " 14  사고유형구분        14624 non-null  object        \n",
      " 15  법규위반_대분류      14624 non-null  object        \n",
      " 16  법규위반          14624 non-null  object        \n",
      " 17  도로형태_대분류      14624 non-null  object        \n",
      " 18  도로형태          14624 non-null  object        \n",
      " 19  당사자종별_1당_대분류  14624 non-null  object        \n",
      " 20  당사자종별_1당      14624 non-null  object        \n",
      " 21  당사자종별_2당_대분류  14624 non-null  object        \n",
      " 22  당사자종별_2당      14624 non-null  object        \n",
      " 23  발생위치X_UTMK    14624 non-null  int64         \n",
      " 24  발생위치Y_UTMK    14624 non-null  int64         \n",
      " 25  경도            14624 non-null  float64       \n",
      " 26  위도            14624 non-null  float64       \n",
      "dtypes: datetime64[ns](1), float64(2), int64(9), object(15)\n",
      "memory usage: 3.0+ MB\n"
     ]
    }
   ],
   "source": [
    "data.info()"
   ]
  },
  {
   "cell_type": "code",
   "execution_count": 91,
   "metadata": {},
   "outputs": [
    {
     "data": {
      "text/plain": [
       "dtype('O')"
      ]
     },
     "execution_count": 91,
     "metadata": {},
     "output_type": "execute_result"
    }
   ],
   "source": [
    "data['발생년월일시'].dtypes"
   ]
  },
  {
   "cell_type": "markdown",
   "metadata": {},
   "source": [
    "날짜형태의 자료로 변경"
   ]
  },
  {
   "cell_type": "code",
   "execution_count": 92,
   "metadata": {},
   "outputs": [],
   "source": [
    "data['발생년월일시'] = pd.to_datetime(data['발생년월일시'])"
   ]
  },
  {
   "cell_type": "code",
   "execution_count": 93,
   "metadata": {},
   "outputs": [
    {
     "data": {
      "text/plain": [
       "dtype('<M8[ns]')"
      ]
     },
     "execution_count": 93,
     "metadata": {},
     "output_type": "execute_result"
    }
   ],
   "source": [
    "data['발생년월일시'].dtypes "
   ]
  },
  {
   "cell_type": "code",
   "execution_count": 188,
   "metadata": {},
   "outputs": [
    {
     "data": {
      "text/plain": [
       "Index(['사고년도', '발생년월일시', '발생분', '주야', '요일', '사망자수', '사상자수', '중상자수', '경상자수',\n",
       "       '부상신고자수', '발생지시도', '발생지시군구', '사고유형_대분류', '사고유형_중분류', '사고유형구분',\n",
       "       '법규위반_대분류', '법규위반', '도로형태_대분류', '도로형태', '당사자종별_1당_대분류', '당사자종별_1당',\n",
       "       '당사자종별_2당_대분류', '당사자종별_2당', '발생위치X_UTMK', '발생위치Y_UTMK', '경도', '위도'],\n",
       "      dtype='object')"
      ]
     },
     "execution_count": 188,
     "metadata": {},
     "output_type": "execute_result"
    }
   ],
   "source": [
    "data.columns"
   ]
  },
  {
   "cell_type": "markdown",
   "metadata": {},
   "source": [
    "컬럼 줄이기"
   ]
  },
  {
   "cell_type": "code",
   "execution_count": null,
   "metadata": {},
   "outputs": [],
   "source": []
  },
  {
   "cell_type": "code",
   "execution_count": 95,
   "metadata": {},
   "outputs": [
    {
     "data": {
      "text/html": [
       "<div>\n",
       "<style scoped>\n",
       "    .dataframe tbody tr th:only-of-type {\n",
       "        vertical-align: middle;\n",
       "    }\n",
       "\n",
       "    .dataframe tbody tr th {\n",
       "        vertical-align: top;\n",
       "    }\n",
       "\n",
       "    .dataframe thead th {\n",
       "        text-align: right;\n",
       "    }\n",
       "</style>\n",
       "<table border=\"1\" class=\"dataframe\">\n",
       "  <thead>\n",
       "    <tr style=\"text-align: right;\">\n",
       "      <th></th>\n",
       "      <th>사고년도</th>\n",
       "      <th>발생년월일시</th>\n",
       "      <th>주야</th>\n",
       "      <th>요일</th>\n",
       "      <th>사망자수</th>\n",
       "      <th>사상자수</th>\n",
       "      <th>중상자수</th>\n",
       "      <th>경상자수</th>\n",
       "      <th>부상신고자수</th>\n",
       "      <th>발생지시도</th>\n",
       "      <th>발생지시군구</th>\n",
       "      <th>사고유형_대분류</th>\n",
       "      <th>사고유형_중분류</th>\n",
       "      <th>사고유형구분</th>\n",
       "    </tr>\n",
       "  </thead>\n",
       "  <tbody>\n",
       "    <tr>\n",
       "      <th>0</th>\n",
       "      <td>2012</td>\n",
       "      <td>2012-05-09 01:00:00</td>\n",
       "      <td>야간</td>\n",
       "      <td>수</td>\n",
       "      <td>1</td>\n",
       "      <td>1</td>\n",
       "      <td>0</td>\n",
       "      <td>0</td>\n",
       "      <td>0</td>\n",
       "      <td>경남</td>\n",
       "      <td>거창군</td>\n",
       "      <td>차대차</td>\n",
       "      <td>추돌</td>\n",
       "      <td>진행중 추돌</td>\n",
       "    </tr>\n",
       "    <tr>\n",
       "      <th>1</th>\n",
       "      <td>2012</td>\n",
       "      <td>2012-03-30 13:00:00</td>\n",
       "      <td>주간</td>\n",
       "      <td>금</td>\n",
       "      <td>1</td>\n",
       "      <td>1</td>\n",
       "      <td>0</td>\n",
       "      <td>0</td>\n",
       "      <td>0</td>\n",
       "      <td>경기</td>\n",
       "      <td>용인시</td>\n",
       "      <td>차대차</td>\n",
       "      <td>추돌</td>\n",
       "      <td>주정차중 추돌</td>\n",
       "    </tr>\n",
       "    <tr>\n",
       "      <th>2</th>\n",
       "      <td>2012</td>\n",
       "      <td>2012-10-26 20:00:00</td>\n",
       "      <td>야간</td>\n",
       "      <td>금</td>\n",
       "      <td>1</td>\n",
       "      <td>2</td>\n",
       "      <td>1</td>\n",
       "      <td>0</td>\n",
       "      <td>0</td>\n",
       "      <td>경북</td>\n",
       "      <td>김천시</td>\n",
       "      <td>차대차</td>\n",
       "      <td>측면직각충돌</td>\n",
       "      <td>측면직각충돌</td>\n",
       "    </tr>\n",
       "    <tr>\n",
       "      <th>3</th>\n",
       "      <td>2012</td>\n",
       "      <td>2012-06-28 14:00:00</td>\n",
       "      <td>주간</td>\n",
       "      <td>목</td>\n",
       "      <td>1</td>\n",
       "      <td>1</td>\n",
       "      <td>0</td>\n",
       "      <td>0</td>\n",
       "      <td>0</td>\n",
       "      <td>경기</td>\n",
       "      <td>이천시</td>\n",
       "      <td>차대차</td>\n",
       "      <td>추돌</td>\n",
       "      <td>주정차중 추돌</td>\n",
       "    </tr>\n",
       "    <tr>\n",
       "      <th>4</th>\n",
       "      <td>2012</td>\n",
       "      <td>2012-06-18 04:00:00</td>\n",
       "      <td>야간</td>\n",
       "      <td>월</td>\n",
       "      <td>1</td>\n",
       "      <td>1</td>\n",
       "      <td>0</td>\n",
       "      <td>0</td>\n",
       "      <td>0</td>\n",
       "      <td>전남</td>\n",
       "      <td>광양시</td>\n",
       "      <td>차대차</td>\n",
       "      <td>추돌</td>\n",
       "      <td>진행중 추돌</td>\n",
       "    </tr>\n",
       "    <tr>\n",
       "      <th>...</th>\n",
       "      <td>...</td>\n",
       "      <td>...</td>\n",
       "      <td>...</td>\n",
       "      <td>...</td>\n",
       "      <td>...</td>\n",
       "      <td>...</td>\n",
       "      <td>...</td>\n",
       "      <td>...</td>\n",
       "      <td>...</td>\n",
       "      <td>...</td>\n",
       "      <td>...</td>\n",
       "      <td>...</td>\n",
       "      <td>...</td>\n",
       "      <td>...</td>\n",
       "    </tr>\n",
       "    <tr>\n",
       "      <th>14619</th>\n",
       "      <td>2014</td>\n",
       "      <td>2014-07-05 16:00:00</td>\n",
       "      <td>주간</td>\n",
       "      <td>토</td>\n",
       "      <td>1</td>\n",
       "      <td>1</td>\n",
       "      <td>0</td>\n",
       "      <td>0</td>\n",
       "      <td>0</td>\n",
       "      <td>경북</td>\n",
       "      <td>의성군</td>\n",
       "      <td>차대사람</td>\n",
       "      <td>기타</td>\n",
       "      <td>기타</td>\n",
       "    </tr>\n",
       "    <tr>\n",
       "      <th>14620</th>\n",
       "      <td>2014</td>\n",
       "      <td>2014-07-12 18:00:00</td>\n",
       "      <td>야간</td>\n",
       "      <td>토</td>\n",
       "      <td>1</td>\n",
       "      <td>8</td>\n",
       "      <td>2</td>\n",
       "      <td>5</td>\n",
       "      <td>0</td>\n",
       "      <td>전북</td>\n",
       "      <td>익산시</td>\n",
       "      <td>차대차</td>\n",
       "      <td>측면직각충돌</td>\n",
       "      <td>측면직각충돌</td>\n",
       "    </tr>\n",
       "    <tr>\n",
       "      <th>14621</th>\n",
       "      <td>2014</td>\n",
       "      <td>2014-07-15 04:00:00</td>\n",
       "      <td>야간</td>\n",
       "      <td>화</td>\n",
       "      <td>2</td>\n",
       "      <td>6</td>\n",
       "      <td>2</td>\n",
       "      <td>2</td>\n",
       "      <td>0</td>\n",
       "      <td>경북</td>\n",
       "      <td>경산시</td>\n",
       "      <td>차대차</td>\n",
       "      <td>기타</td>\n",
       "      <td>기타</td>\n",
       "    </tr>\n",
       "    <tr>\n",
       "      <th>14622</th>\n",
       "      <td>2014</td>\n",
       "      <td>2014-07-10 20:00:00</td>\n",
       "      <td>야간</td>\n",
       "      <td>목</td>\n",
       "      <td>1</td>\n",
       "      <td>3</td>\n",
       "      <td>0</td>\n",
       "      <td>2</td>\n",
       "      <td>0</td>\n",
       "      <td>경남</td>\n",
       "      <td>합천군</td>\n",
       "      <td>차대차</td>\n",
       "      <td>추돌</td>\n",
       "      <td>진행중 추돌</td>\n",
       "    </tr>\n",
       "    <tr>\n",
       "      <th>14623</th>\n",
       "      <td>2014</td>\n",
       "      <td>2014-07-20 10:00:00</td>\n",
       "      <td>주간</td>\n",
       "      <td>일</td>\n",
       "      <td>1</td>\n",
       "      <td>1</td>\n",
       "      <td>0</td>\n",
       "      <td>0</td>\n",
       "      <td>0</td>\n",
       "      <td>경남</td>\n",
       "      <td>통영시</td>\n",
       "      <td>차량단독</td>\n",
       "      <td>전도전복</td>\n",
       "      <td>전도전복</td>\n",
       "    </tr>\n",
       "  </tbody>\n",
       "</table>\n",
       "<p>14624 rows × 14 columns</p>\n",
       "</div>"
      ],
      "text/plain": [
       "       사고년도              발생년월일시  주야 요일  사망자수  사상자수  중상자수  경상자수  부상신고자수 발생지시도  \\\n",
       "0      2012 2012-05-09 01:00:00  야간  수     1     1     0     0       0    경남   \n",
       "1      2012 2012-03-30 13:00:00  주간  금     1     1     0     0       0    경기   \n",
       "2      2012 2012-10-26 20:00:00  야간  금     1     2     1     0       0    경북   \n",
       "3      2012 2012-06-28 14:00:00  주간  목     1     1     0     0       0    경기   \n",
       "4      2012 2012-06-18 04:00:00  야간  월     1     1     0     0       0    전남   \n",
       "...     ...                 ...  .. ..   ...   ...   ...   ...     ...   ...   \n",
       "14619  2014 2014-07-05 16:00:00  주간  토     1     1     0     0       0    경북   \n",
       "14620  2014 2014-07-12 18:00:00  야간  토     1     8     2     5       0    전북   \n",
       "14621  2014 2014-07-15 04:00:00  야간  화     2     6     2     2       0    경북   \n",
       "14622  2014 2014-07-10 20:00:00  야간  목     1     3     0     2       0    경남   \n",
       "14623  2014 2014-07-20 10:00:00  주간  일     1     1     0     0       0    경남   \n",
       "\n",
       "      발생지시군구 사고유형_대분류 사고유형_중분류   사고유형구분  \n",
       "0        거창군      차대차       추돌   진행중 추돌  \n",
       "1        용인시      차대차       추돌  주정차중 추돌  \n",
       "2        김천시      차대차   측면직각충돌   측면직각충돌  \n",
       "3        이천시      차대차       추돌  주정차중 추돌  \n",
       "4        광양시      차대차       추돌   진행중 추돌  \n",
       "...      ...      ...      ...      ...  \n",
       "14619    의성군     차대사람       기타       기타  \n",
       "14620    익산시      차대차   측면직각충돌   측면직각충돌  \n",
       "14621    경산시      차대차       기타       기타  \n",
       "14622    합천군      차대차       추돌   진행중 추돌  \n",
       "14623    통영시     차량단독     전도전복     전도전복  \n",
       "\n",
       "[14624 rows x 14 columns]"
      ]
     },
     "execution_count": 95,
     "metadata": {},
     "output_type": "execute_result"
    }
   ],
   "source": [
    "data = data[['사고년도', '발생년월일시', '주야', '요일', '사망자수',\n",
    "             '사상자수', '중상자수', '경상자수', '부상신고자수', '발생지시도', \n",
    "             '발생지시군구', '사고유형_대분류', '사고유형_중분류', '사고유형구분']]\n",
    "data"
   ]
  },
  {
   "cell_type": "code",
   "execution_count": 97,
   "metadata": {},
   "outputs": [
    {
     "data": {
      "text/html": [
       "<div>\n",
       "<style scoped>\n",
       "    .dataframe tbody tr th:only-of-type {\n",
       "        vertical-align: middle;\n",
       "    }\n",
       "\n",
       "    .dataframe tbody tr th {\n",
       "        vertical-align: top;\n",
       "    }\n",
       "\n",
       "    .dataframe thead th {\n",
       "        text-align: right;\n",
       "    }\n",
       "</style>\n",
       "<table border=\"1\" class=\"dataframe\">\n",
       "  <thead>\n",
       "    <tr style=\"text-align: right;\">\n",
       "      <th></th>\n",
       "      <th>사고년도</th>\n",
       "      <th>발생년월일시</th>\n",
       "      <th>주야</th>\n",
       "      <th>요일</th>\n",
       "      <th>사망자수</th>\n",
       "      <th>사상자수</th>\n",
       "      <th>중상자수</th>\n",
       "      <th>경상자수</th>\n",
       "      <th>부상신고자수</th>\n",
       "      <th>발생지시도</th>\n",
       "      <th>발생지시군구</th>\n",
       "      <th>사고유형_대분류</th>\n",
       "      <th>사고유형_중분류</th>\n",
       "      <th>사고유형구분</th>\n",
       "    </tr>\n",
       "  </thead>\n",
       "  <tbody>\n",
       "    <tr>\n",
       "      <th>0</th>\n",
       "      <td>2012</td>\n",
       "      <td>2012-05-09 01:00:00</td>\n",
       "      <td>야간</td>\n",
       "      <td>수</td>\n",
       "      <td>1</td>\n",
       "      <td>1</td>\n",
       "      <td>0</td>\n",
       "      <td>0</td>\n",
       "      <td>0</td>\n",
       "      <td>경남</td>\n",
       "      <td>거창군</td>\n",
       "      <td>차대차</td>\n",
       "      <td>추돌</td>\n",
       "      <td>진행중 추돌</td>\n",
       "    </tr>\n",
       "    <tr>\n",
       "      <th>1</th>\n",
       "      <td>2012</td>\n",
       "      <td>2012-03-30 13:00:00</td>\n",
       "      <td>주간</td>\n",
       "      <td>금</td>\n",
       "      <td>1</td>\n",
       "      <td>1</td>\n",
       "      <td>0</td>\n",
       "      <td>0</td>\n",
       "      <td>0</td>\n",
       "      <td>경기</td>\n",
       "      <td>용인시</td>\n",
       "      <td>차대차</td>\n",
       "      <td>추돌</td>\n",
       "      <td>주정차중 추돌</td>\n",
       "    </tr>\n",
       "  </tbody>\n",
       "</table>\n",
       "</div>"
      ],
      "text/plain": [
       "   사고년도              발생년월일시  주야 요일  사망자수  사상자수  중상자수  경상자수  부상신고자수 발생지시도  \\\n",
       "0  2012 2012-05-09 01:00:00  야간  수     1     1     0     0       0    경남   \n",
       "1  2012 2012-03-30 13:00:00  주간  금     1     1     0     0       0    경기   \n",
       "\n",
       "  발생지시군구 사고유형_대분류 사고유형_중분류   사고유형구분  \n",
       "0    거창군      차대차       추돌   진행중 추돌  \n",
       "1    용인시      차대차       추돌  주정차중 추돌  "
      ]
     },
     "execution_count": 97,
     "metadata": {},
     "output_type": "execute_result"
    }
   ],
   "source": [
    "data.head(2)"
   ]
  },
  {
   "cell_type": "code",
   "execution_count": 98,
   "metadata": {},
   "outputs": [
    {
     "data": {
      "text/html": [
       "<div>\n",
       "<style scoped>\n",
       "    .dataframe tbody tr th:only-of-type {\n",
       "        vertical-align: middle;\n",
       "    }\n",
       "\n",
       "    .dataframe tbody tr th {\n",
       "        vertical-align: top;\n",
       "    }\n",
       "\n",
       "    .dataframe thead th {\n",
       "        text-align: right;\n",
       "    }\n",
       "</style>\n",
       "<table border=\"1\" class=\"dataframe\">\n",
       "  <thead>\n",
       "    <tr style=\"text-align: right;\">\n",
       "      <th></th>\n",
       "      <th>사고년도</th>\n",
       "      <th>주야</th>\n",
       "      <th>요일</th>\n",
       "      <th>사망자수</th>\n",
       "      <th>사상자수</th>\n",
       "      <th>중상자수</th>\n",
       "      <th>경상자수</th>\n",
       "      <th>부상신고자수</th>\n",
       "      <th>발생지시도</th>\n",
       "      <th>발생지시군구</th>\n",
       "      <th>사고유형_대분류</th>\n",
       "      <th>사고유형_중분류</th>\n",
       "      <th>사고유형구분</th>\n",
       "    </tr>\n",
       "    <tr>\n",
       "      <th>발생년월일시</th>\n",
       "      <th></th>\n",
       "      <th></th>\n",
       "      <th></th>\n",
       "      <th></th>\n",
       "      <th></th>\n",
       "      <th></th>\n",
       "      <th></th>\n",
       "      <th></th>\n",
       "      <th></th>\n",
       "      <th></th>\n",
       "      <th></th>\n",
       "      <th></th>\n",
       "      <th></th>\n",
       "    </tr>\n",
       "  </thead>\n",
       "  <tbody>\n",
       "    <tr>\n",
       "      <th>2012-05-09 01:00:00</th>\n",
       "      <td>2012</td>\n",
       "      <td>야간</td>\n",
       "      <td>수</td>\n",
       "      <td>1</td>\n",
       "      <td>1</td>\n",
       "      <td>0</td>\n",
       "      <td>0</td>\n",
       "      <td>0</td>\n",
       "      <td>경남</td>\n",
       "      <td>거창군</td>\n",
       "      <td>차대차</td>\n",
       "      <td>추돌</td>\n",
       "      <td>진행중 추돌</td>\n",
       "    </tr>\n",
       "    <tr>\n",
       "      <th>2012-03-30 13:00:00</th>\n",
       "      <td>2012</td>\n",
       "      <td>주간</td>\n",
       "      <td>금</td>\n",
       "      <td>1</td>\n",
       "      <td>1</td>\n",
       "      <td>0</td>\n",
       "      <td>0</td>\n",
       "      <td>0</td>\n",
       "      <td>경기</td>\n",
       "      <td>용인시</td>\n",
       "      <td>차대차</td>\n",
       "      <td>추돌</td>\n",
       "      <td>주정차중 추돌</td>\n",
       "    </tr>\n",
       "    <tr>\n",
       "      <th>2012-10-26 20:00:00</th>\n",
       "      <td>2012</td>\n",
       "      <td>야간</td>\n",
       "      <td>금</td>\n",
       "      <td>1</td>\n",
       "      <td>2</td>\n",
       "      <td>1</td>\n",
       "      <td>0</td>\n",
       "      <td>0</td>\n",
       "      <td>경북</td>\n",
       "      <td>김천시</td>\n",
       "      <td>차대차</td>\n",
       "      <td>측면직각충돌</td>\n",
       "      <td>측면직각충돌</td>\n",
       "    </tr>\n",
       "    <tr>\n",
       "      <th>2012-06-28 14:00:00</th>\n",
       "      <td>2012</td>\n",
       "      <td>주간</td>\n",
       "      <td>목</td>\n",
       "      <td>1</td>\n",
       "      <td>1</td>\n",
       "      <td>0</td>\n",
       "      <td>0</td>\n",
       "      <td>0</td>\n",
       "      <td>경기</td>\n",
       "      <td>이천시</td>\n",
       "      <td>차대차</td>\n",
       "      <td>추돌</td>\n",
       "      <td>주정차중 추돌</td>\n",
       "    </tr>\n",
       "    <tr>\n",
       "      <th>2012-06-18 04:00:00</th>\n",
       "      <td>2012</td>\n",
       "      <td>야간</td>\n",
       "      <td>월</td>\n",
       "      <td>1</td>\n",
       "      <td>1</td>\n",
       "      <td>0</td>\n",
       "      <td>0</td>\n",
       "      <td>0</td>\n",
       "      <td>전남</td>\n",
       "      <td>광양시</td>\n",
       "      <td>차대차</td>\n",
       "      <td>추돌</td>\n",
       "      <td>진행중 추돌</td>\n",
       "    </tr>\n",
       "    <tr>\n",
       "      <th>...</th>\n",
       "      <td>...</td>\n",
       "      <td>...</td>\n",
       "      <td>...</td>\n",
       "      <td>...</td>\n",
       "      <td>...</td>\n",
       "      <td>...</td>\n",
       "      <td>...</td>\n",
       "      <td>...</td>\n",
       "      <td>...</td>\n",
       "      <td>...</td>\n",
       "      <td>...</td>\n",
       "      <td>...</td>\n",
       "      <td>...</td>\n",
       "    </tr>\n",
       "    <tr>\n",
       "      <th>2014-07-05 16:00:00</th>\n",
       "      <td>2014</td>\n",
       "      <td>주간</td>\n",
       "      <td>토</td>\n",
       "      <td>1</td>\n",
       "      <td>1</td>\n",
       "      <td>0</td>\n",
       "      <td>0</td>\n",
       "      <td>0</td>\n",
       "      <td>경북</td>\n",
       "      <td>의성군</td>\n",
       "      <td>차대사람</td>\n",
       "      <td>기타</td>\n",
       "      <td>기타</td>\n",
       "    </tr>\n",
       "    <tr>\n",
       "      <th>2014-07-12 18:00:00</th>\n",
       "      <td>2014</td>\n",
       "      <td>야간</td>\n",
       "      <td>토</td>\n",
       "      <td>1</td>\n",
       "      <td>8</td>\n",
       "      <td>2</td>\n",
       "      <td>5</td>\n",
       "      <td>0</td>\n",
       "      <td>전북</td>\n",
       "      <td>익산시</td>\n",
       "      <td>차대차</td>\n",
       "      <td>측면직각충돌</td>\n",
       "      <td>측면직각충돌</td>\n",
       "    </tr>\n",
       "    <tr>\n",
       "      <th>2014-07-15 04:00:00</th>\n",
       "      <td>2014</td>\n",
       "      <td>야간</td>\n",
       "      <td>화</td>\n",
       "      <td>2</td>\n",
       "      <td>6</td>\n",
       "      <td>2</td>\n",
       "      <td>2</td>\n",
       "      <td>0</td>\n",
       "      <td>경북</td>\n",
       "      <td>경산시</td>\n",
       "      <td>차대차</td>\n",
       "      <td>기타</td>\n",
       "      <td>기타</td>\n",
       "    </tr>\n",
       "    <tr>\n",
       "      <th>2014-07-10 20:00:00</th>\n",
       "      <td>2014</td>\n",
       "      <td>야간</td>\n",
       "      <td>목</td>\n",
       "      <td>1</td>\n",
       "      <td>3</td>\n",
       "      <td>0</td>\n",
       "      <td>2</td>\n",
       "      <td>0</td>\n",
       "      <td>경남</td>\n",
       "      <td>합천군</td>\n",
       "      <td>차대차</td>\n",
       "      <td>추돌</td>\n",
       "      <td>진행중 추돌</td>\n",
       "    </tr>\n",
       "    <tr>\n",
       "      <th>2014-07-20 10:00:00</th>\n",
       "      <td>2014</td>\n",
       "      <td>주간</td>\n",
       "      <td>일</td>\n",
       "      <td>1</td>\n",
       "      <td>1</td>\n",
       "      <td>0</td>\n",
       "      <td>0</td>\n",
       "      <td>0</td>\n",
       "      <td>경남</td>\n",
       "      <td>통영시</td>\n",
       "      <td>차량단독</td>\n",
       "      <td>전도전복</td>\n",
       "      <td>전도전복</td>\n",
       "    </tr>\n",
       "  </tbody>\n",
       "</table>\n",
       "<p>14624 rows × 13 columns</p>\n",
       "</div>"
      ],
      "text/plain": [
       "                     사고년도  주야 요일  사망자수  사상자수  중상자수  경상자수  부상신고자수 발생지시도 발생지시군구  \\\n",
       "발생년월일시                                                                          \n",
       "2012-05-09 01:00:00  2012  야간  수     1     1     0     0       0    경남    거창군   \n",
       "2012-03-30 13:00:00  2012  주간  금     1     1     0     0       0    경기    용인시   \n",
       "2012-10-26 20:00:00  2012  야간  금     1     2     1     0       0    경북    김천시   \n",
       "2012-06-28 14:00:00  2012  주간  목     1     1     0     0       0    경기    이천시   \n",
       "2012-06-18 04:00:00  2012  야간  월     1     1     0     0       0    전남    광양시   \n",
       "...                   ...  .. ..   ...   ...   ...   ...     ...   ...    ...   \n",
       "2014-07-05 16:00:00  2014  주간  토     1     1     0     0       0    경북    의성군   \n",
       "2014-07-12 18:00:00  2014  야간  토     1     8     2     5       0    전북    익산시   \n",
       "2014-07-15 04:00:00  2014  야간  화     2     6     2     2       0    경북    경산시   \n",
       "2014-07-10 20:00:00  2014  야간  목     1     3     0     2       0    경남    합천군   \n",
       "2014-07-20 10:00:00  2014  주간  일     1     1     0     0       0    경남    통영시   \n",
       "\n",
       "                    사고유형_대분류 사고유형_중분류   사고유형구분  \n",
       "발생년월일시                                          \n",
       "2012-05-09 01:00:00      차대차       추돌   진행중 추돌  \n",
       "2012-03-30 13:00:00      차대차       추돌  주정차중 추돌  \n",
       "2012-10-26 20:00:00      차대차   측면직각충돌   측면직각충돌  \n",
       "2012-06-28 14:00:00      차대차       추돌  주정차중 추돌  \n",
       "2012-06-18 04:00:00      차대차       추돌   진행중 추돌  \n",
       "...                      ...      ...      ...  \n",
       "2014-07-05 16:00:00     차대사람       기타       기타  \n",
       "2014-07-12 18:00:00      차대차   측면직각충돌   측면직각충돌  \n",
       "2014-07-15 04:00:00      차대차       기타       기타  \n",
       "2014-07-10 20:00:00      차대차       추돌   진행중 추돌  \n",
       "2014-07-20 10:00:00     차량단독     전도전복     전도전복  \n",
       "\n",
       "[14624 rows x 13 columns]"
      ]
     },
     "execution_count": 98,
     "metadata": {},
     "output_type": "execute_result"
    }
   ],
   "source": [
    "data.set_index('발생년월일시')"
   ]
  },
  {
   "cell_type": "code",
   "execution_count": 99,
   "metadata": {},
   "outputs": [
    {
     "data": {
      "text/html": [
       "<div>\n",
       "<style scoped>\n",
       "    .dataframe tbody tr th:only-of-type {\n",
       "        vertical-align: middle;\n",
       "    }\n",
       "\n",
       "    .dataframe tbody tr th {\n",
       "        vertical-align: top;\n",
       "    }\n",
       "\n",
       "    .dataframe thead th {\n",
       "        text-align: right;\n",
       "    }\n",
       "</style>\n",
       "<table border=\"1\" class=\"dataframe\">\n",
       "  <thead>\n",
       "    <tr style=\"text-align: right;\">\n",
       "      <th></th>\n",
       "      <th>발생년월일시</th>\n",
       "      <th>사고년도</th>\n",
       "      <th>주야</th>\n",
       "      <th>요일</th>\n",
       "      <th>사망자수</th>\n",
       "      <th>사상자수</th>\n",
       "      <th>중상자수</th>\n",
       "      <th>경상자수</th>\n",
       "      <th>부상신고자수</th>\n",
       "      <th>발생지시도</th>\n",
       "      <th>발생지시군구</th>\n",
       "      <th>사고유형_대분류</th>\n",
       "      <th>사고유형_중분류</th>\n",
       "      <th>사고유형구분</th>\n",
       "    </tr>\n",
       "  </thead>\n",
       "  <tbody>\n",
       "    <tr>\n",
       "      <th>0</th>\n",
       "      <td>2012-05-09 01:00:00</td>\n",
       "      <td>2012</td>\n",
       "      <td>야간</td>\n",
       "      <td>수</td>\n",
       "      <td>1</td>\n",
       "      <td>1</td>\n",
       "      <td>0</td>\n",
       "      <td>0</td>\n",
       "      <td>0</td>\n",
       "      <td>경남</td>\n",
       "      <td>거창군</td>\n",
       "      <td>차대차</td>\n",
       "      <td>추돌</td>\n",
       "      <td>진행중 추돌</td>\n",
       "    </tr>\n",
       "    <tr>\n",
       "      <th>1</th>\n",
       "      <td>2012-03-30 13:00:00</td>\n",
       "      <td>2012</td>\n",
       "      <td>주간</td>\n",
       "      <td>금</td>\n",
       "      <td>1</td>\n",
       "      <td>1</td>\n",
       "      <td>0</td>\n",
       "      <td>0</td>\n",
       "      <td>0</td>\n",
       "      <td>경기</td>\n",
       "      <td>용인시</td>\n",
       "      <td>차대차</td>\n",
       "      <td>추돌</td>\n",
       "      <td>주정차중 추돌</td>\n",
       "    </tr>\n",
       "    <tr>\n",
       "      <th>2</th>\n",
       "      <td>2012-10-26 20:00:00</td>\n",
       "      <td>2012</td>\n",
       "      <td>야간</td>\n",
       "      <td>금</td>\n",
       "      <td>1</td>\n",
       "      <td>2</td>\n",
       "      <td>1</td>\n",
       "      <td>0</td>\n",
       "      <td>0</td>\n",
       "      <td>경북</td>\n",
       "      <td>김천시</td>\n",
       "      <td>차대차</td>\n",
       "      <td>측면직각충돌</td>\n",
       "      <td>측면직각충돌</td>\n",
       "    </tr>\n",
       "    <tr>\n",
       "      <th>3</th>\n",
       "      <td>2012-06-28 14:00:00</td>\n",
       "      <td>2012</td>\n",
       "      <td>주간</td>\n",
       "      <td>목</td>\n",
       "      <td>1</td>\n",
       "      <td>1</td>\n",
       "      <td>0</td>\n",
       "      <td>0</td>\n",
       "      <td>0</td>\n",
       "      <td>경기</td>\n",
       "      <td>이천시</td>\n",
       "      <td>차대차</td>\n",
       "      <td>추돌</td>\n",
       "      <td>주정차중 추돌</td>\n",
       "    </tr>\n",
       "    <tr>\n",
       "      <th>4</th>\n",
       "      <td>2012-06-18 04:00:00</td>\n",
       "      <td>2012</td>\n",
       "      <td>야간</td>\n",
       "      <td>월</td>\n",
       "      <td>1</td>\n",
       "      <td>1</td>\n",
       "      <td>0</td>\n",
       "      <td>0</td>\n",
       "      <td>0</td>\n",
       "      <td>전남</td>\n",
       "      <td>광양시</td>\n",
       "      <td>차대차</td>\n",
       "      <td>추돌</td>\n",
       "      <td>진행중 추돌</td>\n",
       "    </tr>\n",
       "    <tr>\n",
       "      <th>...</th>\n",
       "      <td>...</td>\n",
       "      <td>...</td>\n",
       "      <td>...</td>\n",
       "      <td>...</td>\n",
       "      <td>...</td>\n",
       "      <td>...</td>\n",
       "      <td>...</td>\n",
       "      <td>...</td>\n",
       "      <td>...</td>\n",
       "      <td>...</td>\n",
       "      <td>...</td>\n",
       "      <td>...</td>\n",
       "      <td>...</td>\n",
       "      <td>...</td>\n",
       "    </tr>\n",
       "    <tr>\n",
       "      <th>14619</th>\n",
       "      <td>2014-07-05 16:00:00</td>\n",
       "      <td>2014</td>\n",
       "      <td>주간</td>\n",
       "      <td>토</td>\n",
       "      <td>1</td>\n",
       "      <td>1</td>\n",
       "      <td>0</td>\n",
       "      <td>0</td>\n",
       "      <td>0</td>\n",
       "      <td>경북</td>\n",
       "      <td>의성군</td>\n",
       "      <td>차대사람</td>\n",
       "      <td>기타</td>\n",
       "      <td>기타</td>\n",
       "    </tr>\n",
       "    <tr>\n",
       "      <th>14620</th>\n",
       "      <td>2014-07-12 18:00:00</td>\n",
       "      <td>2014</td>\n",
       "      <td>야간</td>\n",
       "      <td>토</td>\n",
       "      <td>1</td>\n",
       "      <td>8</td>\n",
       "      <td>2</td>\n",
       "      <td>5</td>\n",
       "      <td>0</td>\n",
       "      <td>전북</td>\n",
       "      <td>익산시</td>\n",
       "      <td>차대차</td>\n",
       "      <td>측면직각충돌</td>\n",
       "      <td>측면직각충돌</td>\n",
       "    </tr>\n",
       "    <tr>\n",
       "      <th>14621</th>\n",
       "      <td>2014-07-15 04:00:00</td>\n",
       "      <td>2014</td>\n",
       "      <td>야간</td>\n",
       "      <td>화</td>\n",
       "      <td>2</td>\n",
       "      <td>6</td>\n",
       "      <td>2</td>\n",
       "      <td>2</td>\n",
       "      <td>0</td>\n",
       "      <td>경북</td>\n",
       "      <td>경산시</td>\n",
       "      <td>차대차</td>\n",
       "      <td>기타</td>\n",
       "      <td>기타</td>\n",
       "    </tr>\n",
       "    <tr>\n",
       "      <th>14622</th>\n",
       "      <td>2014-07-10 20:00:00</td>\n",
       "      <td>2014</td>\n",
       "      <td>야간</td>\n",
       "      <td>목</td>\n",
       "      <td>1</td>\n",
       "      <td>3</td>\n",
       "      <td>0</td>\n",
       "      <td>2</td>\n",
       "      <td>0</td>\n",
       "      <td>경남</td>\n",
       "      <td>합천군</td>\n",
       "      <td>차대차</td>\n",
       "      <td>추돌</td>\n",
       "      <td>진행중 추돌</td>\n",
       "    </tr>\n",
       "    <tr>\n",
       "      <th>14623</th>\n",
       "      <td>2014-07-20 10:00:00</td>\n",
       "      <td>2014</td>\n",
       "      <td>주간</td>\n",
       "      <td>일</td>\n",
       "      <td>1</td>\n",
       "      <td>1</td>\n",
       "      <td>0</td>\n",
       "      <td>0</td>\n",
       "      <td>0</td>\n",
       "      <td>경남</td>\n",
       "      <td>통영시</td>\n",
       "      <td>차량단독</td>\n",
       "      <td>전도전복</td>\n",
       "      <td>전도전복</td>\n",
       "    </tr>\n",
       "  </tbody>\n",
       "</table>\n",
       "<p>14624 rows × 14 columns</p>\n",
       "</div>"
      ],
      "text/plain": [
       "                   발생년월일시  사고년도  주야 요일  사망자수  사상자수  중상자수  경상자수  부상신고자수 발생지시도  \\\n",
       "0     2012-05-09 01:00:00  2012  야간  수     1     1     0     0       0    경남   \n",
       "1     2012-03-30 13:00:00  2012  주간  금     1     1     0     0       0    경기   \n",
       "2     2012-10-26 20:00:00  2012  야간  금     1     2     1     0       0    경북   \n",
       "3     2012-06-28 14:00:00  2012  주간  목     1     1     0     0       0    경기   \n",
       "4     2012-06-18 04:00:00  2012  야간  월     1     1     0     0       0    전남   \n",
       "...                   ...   ...  .. ..   ...   ...   ...   ...     ...   ...   \n",
       "14619 2014-07-05 16:00:00  2014  주간  토     1     1     0     0       0    경북   \n",
       "14620 2014-07-12 18:00:00  2014  야간  토     1     8     2     5       0    전북   \n",
       "14621 2014-07-15 04:00:00  2014  야간  화     2     6     2     2       0    경북   \n",
       "14622 2014-07-10 20:00:00  2014  야간  목     1     3     0     2       0    경남   \n",
       "14623 2014-07-20 10:00:00  2014  주간  일     1     1     0     0       0    경남   \n",
       "\n",
       "      발생지시군구 사고유형_대분류 사고유형_중분류   사고유형구분  \n",
       "0        거창군      차대차       추돌   진행중 추돌  \n",
       "1        용인시      차대차       추돌  주정차중 추돌  \n",
       "2        김천시      차대차   측면직각충돌   측면직각충돌  \n",
       "3        이천시      차대차       추돌  주정차중 추돌  \n",
       "4        광양시      차대차       추돌   진행중 추돌  \n",
       "...      ...      ...      ...      ...  \n",
       "14619    의성군     차대사람       기타       기타  \n",
       "14620    익산시      차대차   측면직각충돌   측면직각충돌  \n",
       "14621    경산시      차대차       기타       기타  \n",
       "14622    합천군      차대차       추돌   진행중 추돌  \n",
       "14623    통영시     차량단독     전도전복     전도전복  \n",
       "\n",
       "[14624 rows x 14 columns]"
      ]
     },
     "execution_count": 99,
     "metadata": {},
     "output_type": "execute_result"
    }
   ],
   "source": [
    "data.set_index('발생년월일시').reset_index()"
   ]
  },
  {
   "cell_type": "code",
   "execution_count": 103,
   "metadata": {},
   "outputs": [
    {
     "data": {
      "text/plain": [
       "Index(['기타', '횡단중', '측면직각충돌', '공작물충돌', '진행중 추돌', '정면충돌', '전도전복', '주정차중 추돌',\n",
       "       '차도통행중', '도로이탈 추락', '길가장자리구역통행중', '보도통행중', '도로이탈 기타', '주/정차차량 충돌',\n",
       "       '차단기돌파', '경보기 무시', '직전진행'],\n",
       "      dtype='object')"
      ]
     },
     "execution_count": 103,
     "metadata": {},
     "output_type": "execute_result"
    }
   ],
   "source": [
    "data.사고유형구분.value_counts().index"
   ]
  },
  {
   "cell_type": "code",
   "execution_count": 105,
   "metadata": {},
   "outputs": [
    {
     "data": {
      "text/plain": [
       "['기타',\n",
       " '횡단중',\n",
       " '측면직각충돌',\n",
       " '공작물충돌',\n",
       " '진행중 추돌',\n",
       " '정면충돌',\n",
       " '전도전복',\n",
       " '주정차중 추돌',\n",
       " '차도통행중',\n",
       " '도로이탈 추락',\n",
       " '길가장자리구역통행중',\n",
       " '보도통행중',\n",
       " '도로이탈 기타',\n",
       " '주/정차차량 충돌',\n",
       " '차단기돌파',\n",
       " '경보기 무시',\n",
       " '직전진행']"
      ]
     },
     "execution_count": 105,
     "metadata": {},
     "output_type": "execute_result"
    }
   ],
   "source": [
    "data.사고유형구분.value_counts().reset_index()['index'].to_list()"
   ]
  },
  {
   "cell_type": "code",
   "execution_count": 107,
   "metadata": {},
   "outputs": [
    {
     "data": {
      "text/html": [
       "<div>\n",
       "<style scoped>\n",
       "    .dataframe tbody tr th:only-of-type {\n",
       "        vertical-align: middle;\n",
       "    }\n",
       "\n",
       "    .dataframe tbody tr th {\n",
       "        vertical-align: top;\n",
       "    }\n",
       "\n",
       "    .dataframe thead th {\n",
       "        text-align: right;\n",
       "    }\n",
       "</style>\n",
       "<table border=\"1\" class=\"dataframe\">\n",
       "  <thead>\n",
       "    <tr style=\"text-align: right;\">\n",
       "      <th></th>\n",
       "      <th>index</th>\n",
       "      <th>사고유형구분</th>\n",
       "    </tr>\n",
       "  </thead>\n",
       "  <tbody>\n",
       "    <tr>\n",
       "      <th>0</th>\n",
       "      <td>기타</td>\n",
       "      <td>3985</td>\n",
       "    </tr>\n",
       "    <tr>\n",
       "      <th>1</th>\n",
       "      <td>횡단중</td>\n",
       "      <td>2791</td>\n",
       "    </tr>\n",
       "    <tr>\n",
       "      <th>2</th>\n",
       "      <td>측면직각충돌</td>\n",
       "      <td>1848</td>\n",
       "    </tr>\n",
       "    <tr>\n",
       "      <th>3</th>\n",
       "      <td>공작물충돌</td>\n",
       "      <td>1555</td>\n",
       "    </tr>\n",
       "    <tr>\n",
       "      <th>4</th>\n",
       "      <td>진행중 추돌</td>\n",
       "      <td>948</td>\n",
       "    </tr>\n",
       "    <tr>\n",
       "      <th>5</th>\n",
       "      <td>정면충돌</td>\n",
       "      <td>784</td>\n",
       "    </tr>\n",
       "    <tr>\n",
       "      <th>6</th>\n",
       "      <td>전도전복</td>\n",
       "      <td>728</td>\n",
       "    </tr>\n",
       "    <tr>\n",
       "      <th>7</th>\n",
       "      <td>주정차중 추돌</td>\n",
       "      <td>572</td>\n",
       "    </tr>\n",
       "    <tr>\n",
       "      <th>8</th>\n",
       "      <td>차도통행중</td>\n",
       "      <td>477</td>\n",
       "    </tr>\n",
       "    <tr>\n",
       "      <th>9</th>\n",
       "      <td>도로이탈 추락</td>\n",
       "      <td>341</td>\n",
       "    </tr>\n",
       "    <tr>\n",
       "      <th>10</th>\n",
       "      <td>길가장자리구역통행중</td>\n",
       "      <td>252</td>\n",
       "    </tr>\n",
       "    <tr>\n",
       "      <th>11</th>\n",
       "      <td>보도통행중</td>\n",
       "      <td>183</td>\n",
       "    </tr>\n",
       "    <tr>\n",
       "      <th>12</th>\n",
       "      <td>도로이탈 기타</td>\n",
       "      <td>149</td>\n",
       "    </tr>\n",
       "    <tr>\n",
       "      <th>13</th>\n",
       "      <td>주/정차차량 충돌</td>\n",
       "      <td>8</td>\n",
       "    </tr>\n",
       "    <tr>\n",
       "      <th>14</th>\n",
       "      <td>차단기돌파</td>\n",
       "      <td>1</td>\n",
       "    </tr>\n",
       "    <tr>\n",
       "      <th>15</th>\n",
       "      <td>경보기 무시</td>\n",
       "      <td>1</td>\n",
       "    </tr>\n",
       "    <tr>\n",
       "      <th>16</th>\n",
       "      <td>직전진행</td>\n",
       "      <td>1</td>\n",
       "    </tr>\n",
       "  </tbody>\n",
       "</table>\n",
       "</div>"
      ],
      "text/plain": [
       "         index  사고유형구분\n",
       "0           기타    3985\n",
       "1          횡단중    2791\n",
       "2       측면직각충돌    1848\n",
       "3        공작물충돌    1555\n",
       "4       진행중 추돌     948\n",
       "5         정면충돌     784\n",
       "6         전도전복     728\n",
       "7      주정차중 추돌     572\n",
       "8        차도통행중     477\n",
       "9      도로이탈 추락     341\n",
       "10  길가장자리구역통행중     252\n",
       "11       보도통행중     183\n",
       "12     도로이탈 기타     149\n",
       "13   주/정차차량 충돌       8\n",
       "14       차단기돌파       1\n",
       "15      경보기 무시       1\n",
       "16        직전진행       1"
      ]
     },
     "execution_count": 107,
     "metadata": {},
     "output_type": "execute_result"
    }
   ],
   "source": [
    "data_sum = data.사고유형구분.value_counts().reset_index()\n",
    "data_sum"
   ]
  },
  {
   "cell_type": "markdown",
   "metadata": {},
   "source": [
    "### 컬럼명을 변경"
   ]
  },
  {
   "cell_type": "code",
   "execution_count": 108,
   "metadata": {},
   "outputs": [
    {
     "data": {
      "text/html": [
       "<div>\n",
       "<style scoped>\n",
       "    .dataframe tbody tr th:only-of-type {\n",
       "        vertical-align: middle;\n",
       "    }\n",
       "\n",
       "    .dataframe tbody tr th {\n",
       "        vertical-align: top;\n",
       "    }\n",
       "\n",
       "    .dataframe thead th {\n",
       "        text-align: right;\n",
       "    }\n",
       "</style>\n",
       "<table border=\"1\" class=\"dataframe\">\n",
       "  <thead>\n",
       "    <tr style=\"text-align: right;\">\n",
       "      <th></th>\n",
       "      <th>사고유형</th>\n",
       "      <th>사고건수</th>\n",
       "    </tr>\n",
       "  </thead>\n",
       "  <tbody>\n",
       "    <tr>\n",
       "      <th>0</th>\n",
       "      <td>기타</td>\n",
       "      <td>3985</td>\n",
       "    </tr>\n",
       "    <tr>\n",
       "      <th>1</th>\n",
       "      <td>횡단중</td>\n",
       "      <td>2791</td>\n",
       "    </tr>\n",
       "    <tr>\n",
       "      <th>2</th>\n",
       "      <td>측면직각충돌</td>\n",
       "      <td>1848</td>\n",
       "    </tr>\n",
       "    <tr>\n",
       "      <th>3</th>\n",
       "      <td>공작물충돌</td>\n",
       "      <td>1555</td>\n",
       "    </tr>\n",
       "    <tr>\n",
       "      <th>4</th>\n",
       "      <td>진행중 추돌</td>\n",
       "      <td>948</td>\n",
       "    </tr>\n",
       "    <tr>\n",
       "      <th>5</th>\n",
       "      <td>정면충돌</td>\n",
       "      <td>784</td>\n",
       "    </tr>\n",
       "    <tr>\n",
       "      <th>6</th>\n",
       "      <td>전도전복</td>\n",
       "      <td>728</td>\n",
       "    </tr>\n",
       "    <tr>\n",
       "      <th>7</th>\n",
       "      <td>주정차중 추돌</td>\n",
       "      <td>572</td>\n",
       "    </tr>\n",
       "    <tr>\n",
       "      <th>8</th>\n",
       "      <td>차도통행중</td>\n",
       "      <td>477</td>\n",
       "    </tr>\n",
       "    <tr>\n",
       "      <th>9</th>\n",
       "      <td>도로이탈 추락</td>\n",
       "      <td>341</td>\n",
       "    </tr>\n",
       "    <tr>\n",
       "      <th>10</th>\n",
       "      <td>길가장자리구역통행중</td>\n",
       "      <td>252</td>\n",
       "    </tr>\n",
       "    <tr>\n",
       "      <th>11</th>\n",
       "      <td>보도통행중</td>\n",
       "      <td>183</td>\n",
       "    </tr>\n",
       "    <tr>\n",
       "      <th>12</th>\n",
       "      <td>도로이탈 기타</td>\n",
       "      <td>149</td>\n",
       "    </tr>\n",
       "    <tr>\n",
       "      <th>13</th>\n",
       "      <td>주/정차차량 충돌</td>\n",
       "      <td>8</td>\n",
       "    </tr>\n",
       "    <tr>\n",
       "      <th>14</th>\n",
       "      <td>차단기돌파</td>\n",
       "      <td>1</td>\n",
       "    </tr>\n",
       "    <tr>\n",
       "      <th>15</th>\n",
       "      <td>경보기 무시</td>\n",
       "      <td>1</td>\n",
       "    </tr>\n",
       "    <tr>\n",
       "      <th>16</th>\n",
       "      <td>직전진행</td>\n",
       "      <td>1</td>\n",
       "    </tr>\n",
       "  </tbody>\n",
       "</table>\n",
       "</div>"
      ],
      "text/plain": [
       "          사고유형  사고건수\n",
       "0           기타  3985\n",
       "1          횡단중  2791\n",
       "2       측면직각충돌  1848\n",
       "3        공작물충돌  1555\n",
       "4       진행중 추돌   948\n",
       "5         정면충돌   784\n",
       "6         전도전복   728\n",
       "7      주정차중 추돌   572\n",
       "8        차도통행중   477\n",
       "9      도로이탈 추락   341\n",
       "10  길가장자리구역통행중   252\n",
       "11       보도통행중   183\n",
       "12     도로이탈 기타   149\n",
       "13   주/정차차량 충돌     8\n",
       "14       차단기돌파     1\n",
       "15      경보기 무시     1\n",
       "16        직전진행     1"
      ]
     },
     "execution_count": 108,
     "metadata": {},
     "output_type": "execute_result"
    }
   ],
   "source": [
    "data_sum.columns = ['사고유형', '사고건수'] # 컬럼의 개수가 동일하여야 함\n",
    "data_sum"
   ]
  },
  {
   "cell_type": "markdown",
   "metadata": {},
   "source": [
    "### 컬럼명 변경 - rename 메소드 이용"
   ]
  },
  {
   "cell_type": "code",
   "execution_count": 195,
   "metadata": {},
   "outputs": [
    {
     "data": {
      "text/plain": [
       "Index(['유형', '건수'], dtype='object')"
      ]
     },
     "execution_count": 195,
     "metadata": {},
     "output_type": "execute_result"
    }
   ],
   "source": [
    "data_col = data_col.rename(columns ={'사고유형구분':'유형', '발생건수':'건수'})\n",
    "data_col.columns"
   ]
  },
  {
   "cell_type": "code",
   "execution_count": 196,
   "metadata": {},
   "outputs": [
    {
     "data": {
      "text/plain": [
       "Index(['사고유형구분', '발생건수'], dtype='object')"
      ]
     },
     "execution_count": 196,
     "metadata": {},
     "output_type": "execute_result"
    }
   ],
   "source": [
    "data_col = data_col.rename(columns ={'유형':'사고유형구분', '건수':'발생건수'})\n",
    "data_col.columns"
   ]
  },
  {
   "cell_type": "markdown",
   "metadata": {},
   "source": [
    "### 컬럼명 변경 - columns 값 치환"
   ]
  },
  {
   "cell_type": "code",
   "execution_count": 197,
   "metadata": {
    "scrolled": true
   },
   "outputs": [
    {
     "data": {
      "text/plain": [
       "Index(['유형', '건수'], dtype='object')"
      ]
     },
     "execution_count": 197,
     "metadata": {},
     "output_type": "execute_result"
    },
    {
     "data": {
      "text/html": [
       "<div>\n",
       "<style scoped>\n",
       "    .dataframe tbody tr th:only-of-type {\n",
       "        vertical-align: middle;\n",
       "    }\n",
       "\n",
       "    .dataframe tbody tr th {\n",
       "        vertical-align: top;\n",
       "    }\n",
       "\n",
       "    .dataframe thead th {\n",
       "        text-align: right;\n",
       "    }\n",
       "</style>\n",
       "<table border=\"1\" class=\"dataframe\">\n",
       "  <thead>\n",
       "    <tr style=\"text-align: right;\">\n",
       "      <th></th>\n",
       "      <th>유형</th>\n",
       "      <th>건수</th>\n",
       "    </tr>\n",
       "  </thead>\n",
       "  <tbody>\n",
       "    <tr>\n",
       "      <th>0</th>\n",
       "      <td>진행중 추돌</td>\n",
       "      <td>거창군</td>\n",
       "    </tr>\n",
       "    <tr>\n",
       "      <th>1</th>\n",
       "      <td>주정차중 추돌</td>\n",
       "      <td>용인시</td>\n",
       "    </tr>\n",
       "    <tr>\n",
       "      <th>2</th>\n",
       "      <td>측면직각충돌</td>\n",
       "      <td>김천시</td>\n",
       "    </tr>\n",
       "    <tr>\n",
       "      <th>3</th>\n",
       "      <td>주정차중 추돌</td>\n",
       "      <td>이천시</td>\n",
       "    </tr>\n",
       "    <tr>\n",
       "      <th>4</th>\n",
       "      <td>진행중 추돌</td>\n",
       "      <td>광양시</td>\n",
       "    </tr>\n",
       "    <tr>\n",
       "      <th>...</th>\n",
       "      <td>...</td>\n",
       "      <td>...</td>\n",
       "    </tr>\n",
       "    <tr>\n",
       "      <th>14619</th>\n",
       "      <td>기타</td>\n",
       "      <td>의성군</td>\n",
       "    </tr>\n",
       "    <tr>\n",
       "      <th>14620</th>\n",
       "      <td>측면직각충돌</td>\n",
       "      <td>익산시</td>\n",
       "    </tr>\n",
       "    <tr>\n",
       "      <th>14621</th>\n",
       "      <td>기타</td>\n",
       "      <td>경산시</td>\n",
       "    </tr>\n",
       "    <tr>\n",
       "      <th>14622</th>\n",
       "      <td>진행중 추돌</td>\n",
       "      <td>합천군</td>\n",
       "    </tr>\n",
       "    <tr>\n",
       "      <th>14623</th>\n",
       "      <td>전도전복</td>\n",
       "      <td>통영시</td>\n",
       "    </tr>\n",
       "  </tbody>\n",
       "</table>\n",
       "<p>14624 rows × 2 columns</p>\n",
       "</div>"
      ],
      "text/plain": [
       "            유형   건수\n",
       "0       진행중 추돌  거창군\n",
       "1      주정차중 추돌  용인시\n",
       "2       측면직각충돌  김천시\n",
       "3      주정차중 추돌  이천시\n",
       "4       진행중 추돌  광양시\n",
       "...        ...  ...\n",
       "14619       기타  의성군\n",
       "14620   측면직각충돌  익산시\n",
       "14621       기타  경산시\n",
       "14622   진행중 추돌  합천군\n",
       "14623     전도전복  통영시\n",
       "\n",
       "[14624 rows x 2 columns]"
      ]
     },
     "execution_count": 197,
     "metadata": {},
     "output_type": "execute_result"
    }
   ],
   "source": [
    "data_col.columns = ['유형', '건수']\n",
    "data_col.columns\n",
    "data_col"
   ]
  },
  {
   "cell_type": "markdown",
   "metadata": {},
   "source": [
    "## 7. 전체 테이블에 대해 - sort"
   ]
  },
  {
   "cell_type": "code",
   "execution_count": 200,
   "metadata": {},
   "outputs": [
    {
     "data": {
      "text/html": [
       "<div>\n",
       "<style scoped>\n",
       "    .dataframe tbody tr th:only-of-type {\n",
       "        vertical-align: middle;\n",
       "    }\n",
       "\n",
       "    .dataframe tbody tr th {\n",
       "        vertical-align: top;\n",
       "    }\n",
       "\n",
       "    .dataframe thead th {\n",
       "        text-align: right;\n",
       "    }\n",
       "</style>\n",
       "<table border=\"1\" class=\"dataframe\">\n",
       "  <thead>\n",
       "    <tr style=\"text-align: right;\">\n",
       "      <th></th>\n",
       "      <th>사고년도</th>\n",
       "      <th>발생년월일시</th>\n",
       "      <th>주야</th>\n",
       "      <th>요일</th>\n",
       "      <th>사망자수</th>\n",
       "      <th>사상자수</th>\n",
       "      <th>중상자수</th>\n",
       "      <th>경상자수</th>\n",
       "      <th>부상신고자수</th>\n",
       "      <th>발생지시도</th>\n",
       "      <th>발생지시군구</th>\n",
       "      <th>사고유형_대분류</th>\n",
       "      <th>사고유형_중분류</th>\n",
       "      <th>사고유형구분</th>\n",
       "    </tr>\n",
       "  </thead>\n",
       "  <tbody>\n",
       "    <tr>\n",
       "      <th>0</th>\n",
       "      <td>2012</td>\n",
       "      <td>2012-05-09 01:00:00</td>\n",
       "      <td>야간</td>\n",
       "      <td>수</td>\n",
       "      <td>1</td>\n",
       "      <td>1</td>\n",
       "      <td>0</td>\n",
       "      <td>0</td>\n",
       "      <td>0</td>\n",
       "      <td>경남</td>\n",
       "      <td>거창군</td>\n",
       "      <td>차대차</td>\n",
       "      <td>추돌</td>\n",
       "      <td>진행중 추돌</td>\n",
       "    </tr>\n",
       "    <tr>\n",
       "      <th>1</th>\n",
       "      <td>2012</td>\n",
       "      <td>2012-03-30 13:00:00</td>\n",
       "      <td>주간</td>\n",
       "      <td>금</td>\n",
       "      <td>1</td>\n",
       "      <td>1</td>\n",
       "      <td>0</td>\n",
       "      <td>0</td>\n",
       "      <td>0</td>\n",
       "      <td>경기</td>\n",
       "      <td>용인시</td>\n",
       "      <td>차대차</td>\n",
       "      <td>추돌</td>\n",
       "      <td>주정차중 추돌</td>\n",
       "    </tr>\n",
       "    <tr>\n",
       "      <th>2</th>\n",
       "      <td>2012</td>\n",
       "      <td>2012-10-26 20:00:00</td>\n",
       "      <td>야간</td>\n",
       "      <td>금</td>\n",
       "      <td>1</td>\n",
       "      <td>2</td>\n",
       "      <td>1</td>\n",
       "      <td>0</td>\n",
       "      <td>0</td>\n",
       "      <td>경북</td>\n",
       "      <td>김천시</td>\n",
       "      <td>차대차</td>\n",
       "      <td>측면직각충돌</td>\n",
       "      <td>측면직각충돌</td>\n",
       "    </tr>\n",
       "    <tr>\n",
       "      <th>3</th>\n",
       "      <td>2012</td>\n",
       "      <td>2012-06-28 14:00:00</td>\n",
       "      <td>주간</td>\n",
       "      <td>목</td>\n",
       "      <td>1</td>\n",
       "      <td>1</td>\n",
       "      <td>0</td>\n",
       "      <td>0</td>\n",
       "      <td>0</td>\n",
       "      <td>경기</td>\n",
       "      <td>이천시</td>\n",
       "      <td>차대차</td>\n",
       "      <td>추돌</td>\n",
       "      <td>주정차중 추돌</td>\n",
       "    </tr>\n",
       "    <tr>\n",
       "      <th>4</th>\n",
       "      <td>2012</td>\n",
       "      <td>2012-06-18 04:00:00</td>\n",
       "      <td>야간</td>\n",
       "      <td>월</td>\n",
       "      <td>1</td>\n",
       "      <td>1</td>\n",
       "      <td>0</td>\n",
       "      <td>0</td>\n",
       "      <td>0</td>\n",
       "      <td>전남</td>\n",
       "      <td>광양시</td>\n",
       "      <td>차대차</td>\n",
       "      <td>추돌</td>\n",
       "      <td>진행중 추돌</td>\n",
       "    </tr>\n",
       "    <tr>\n",
       "      <th>...</th>\n",
       "      <td>...</td>\n",
       "      <td>...</td>\n",
       "      <td>...</td>\n",
       "      <td>...</td>\n",
       "      <td>...</td>\n",
       "      <td>...</td>\n",
       "      <td>...</td>\n",
       "      <td>...</td>\n",
       "      <td>...</td>\n",
       "      <td>...</td>\n",
       "      <td>...</td>\n",
       "      <td>...</td>\n",
       "      <td>...</td>\n",
       "      <td>...</td>\n",
       "    </tr>\n",
       "    <tr>\n",
       "      <th>14619</th>\n",
       "      <td>2014</td>\n",
       "      <td>2014-07-05 16:00:00</td>\n",
       "      <td>주간</td>\n",
       "      <td>토</td>\n",
       "      <td>1</td>\n",
       "      <td>1</td>\n",
       "      <td>0</td>\n",
       "      <td>0</td>\n",
       "      <td>0</td>\n",
       "      <td>경북</td>\n",
       "      <td>의성군</td>\n",
       "      <td>차대사람</td>\n",
       "      <td>기타</td>\n",
       "      <td>기타</td>\n",
       "    </tr>\n",
       "    <tr>\n",
       "      <th>14620</th>\n",
       "      <td>2014</td>\n",
       "      <td>2014-07-12 18:00:00</td>\n",
       "      <td>야간</td>\n",
       "      <td>토</td>\n",
       "      <td>1</td>\n",
       "      <td>8</td>\n",
       "      <td>2</td>\n",
       "      <td>5</td>\n",
       "      <td>0</td>\n",
       "      <td>전북</td>\n",
       "      <td>익산시</td>\n",
       "      <td>차대차</td>\n",
       "      <td>측면직각충돌</td>\n",
       "      <td>측면직각충돌</td>\n",
       "    </tr>\n",
       "    <tr>\n",
       "      <th>14621</th>\n",
       "      <td>2014</td>\n",
       "      <td>2014-07-15 04:00:00</td>\n",
       "      <td>야간</td>\n",
       "      <td>화</td>\n",
       "      <td>2</td>\n",
       "      <td>6</td>\n",
       "      <td>2</td>\n",
       "      <td>2</td>\n",
       "      <td>0</td>\n",
       "      <td>경북</td>\n",
       "      <td>경산시</td>\n",
       "      <td>차대차</td>\n",
       "      <td>기타</td>\n",
       "      <td>기타</td>\n",
       "    </tr>\n",
       "    <tr>\n",
       "      <th>14622</th>\n",
       "      <td>2014</td>\n",
       "      <td>2014-07-10 20:00:00</td>\n",
       "      <td>야간</td>\n",
       "      <td>목</td>\n",
       "      <td>1</td>\n",
       "      <td>3</td>\n",
       "      <td>0</td>\n",
       "      <td>2</td>\n",
       "      <td>0</td>\n",
       "      <td>경남</td>\n",
       "      <td>합천군</td>\n",
       "      <td>차대차</td>\n",
       "      <td>추돌</td>\n",
       "      <td>진행중 추돌</td>\n",
       "    </tr>\n",
       "    <tr>\n",
       "      <th>14623</th>\n",
       "      <td>2014</td>\n",
       "      <td>2014-07-20 10:00:00</td>\n",
       "      <td>주간</td>\n",
       "      <td>일</td>\n",
       "      <td>1</td>\n",
       "      <td>1</td>\n",
       "      <td>0</td>\n",
       "      <td>0</td>\n",
       "      <td>0</td>\n",
       "      <td>경남</td>\n",
       "      <td>통영시</td>\n",
       "      <td>차량단독</td>\n",
       "      <td>전도전복</td>\n",
       "      <td>전도전복</td>\n",
       "    </tr>\n",
       "  </tbody>\n",
       "</table>\n",
       "<p>14624 rows × 14 columns</p>\n",
       "</div>"
      ],
      "text/plain": [
       "       사고년도              발생년월일시  주야 요일  사망자수  사상자수  중상자수  경상자수  부상신고자수 발생지시도  \\\n",
       "0      2012 2012-05-09 01:00:00  야간  수     1     1     0     0       0    경남   \n",
       "1      2012 2012-03-30 13:00:00  주간  금     1     1     0     0       0    경기   \n",
       "2      2012 2012-10-26 20:00:00  야간  금     1     2     1     0       0    경북   \n",
       "3      2012 2012-06-28 14:00:00  주간  목     1     1     0     0       0    경기   \n",
       "4      2012 2012-06-18 04:00:00  야간  월     1     1     0     0       0    전남   \n",
       "...     ...                 ...  .. ..   ...   ...   ...   ...     ...   ...   \n",
       "14619  2014 2014-07-05 16:00:00  주간  토     1     1     0     0       0    경북   \n",
       "14620  2014 2014-07-12 18:00:00  야간  토     1     8     2     5       0    전북   \n",
       "14621  2014 2014-07-15 04:00:00  야간  화     2     6     2     2       0    경북   \n",
       "14622  2014 2014-07-10 20:00:00  야간  목     1     3     0     2       0    경남   \n",
       "14623  2014 2014-07-20 10:00:00  주간  일     1     1     0     0       0    경남   \n",
       "\n",
       "      발생지시군구 사고유형_대분류 사고유형_중분류   사고유형구분  \n",
       "0        거창군      차대차       추돌   진행중 추돌  \n",
       "1        용인시      차대차       추돌  주정차중 추돌  \n",
       "2        김천시      차대차   측면직각충돌   측면직각충돌  \n",
       "3        이천시      차대차       추돌  주정차중 추돌  \n",
       "4        광양시      차대차       추돌   진행중 추돌  \n",
       "...      ...      ...      ...      ...  \n",
       "14619    의성군     차대사람       기타       기타  \n",
       "14620    익산시      차대차   측면직각충돌   측면직각충돌  \n",
       "14621    경산시      차대차       기타       기타  \n",
       "14622    합천군      차대차       추돌   진행중 추돌  \n",
       "14623    통영시     차량단독     전도전복     전도전복  \n",
       "\n",
       "[14624 rows x 14 columns]"
      ]
     },
     "execution_count": 200,
     "metadata": {},
     "output_type": "execute_result"
    }
   ],
   "source": [
    "data"
   ]
  },
  {
   "cell_type": "code",
   "execution_count": 203,
   "metadata": {},
   "outputs": [
    {
     "data": {
      "text/plain": [
       "0         0\n",
       "9703      0\n",
       "9704      0\n",
       "9705      0\n",
       "9706      0\n",
       "         ..\n",
       "6602      9\n",
       "10919    14\n",
       "4275     16\n",
       "8729     30\n",
       "1571     67\n",
       "Name: 부상신고자수, Length: 14624, dtype: int64"
      ]
     },
     "execution_count": 203,
     "metadata": {},
     "output_type": "execute_result"
    }
   ],
   "source": [
    "data['부상신고자수'].sort_values() # '사고유형' 컬럼만 소트"
   ]
  },
  {
   "cell_type": "code",
   "execution_count": 205,
   "metadata": {
    "scrolled": false
   },
   "outputs": [
    {
     "data": {
      "text/html": [
       "<div>\n",
       "<style scoped>\n",
       "    .dataframe tbody tr th:only-of-type {\n",
       "        vertical-align: middle;\n",
       "    }\n",
       "\n",
       "    .dataframe tbody tr th {\n",
       "        vertical-align: top;\n",
       "    }\n",
       "\n",
       "    .dataframe thead th {\n",
       "        text-align: right;\n",
       "    }\n",
       "</style>\n",
       "<table border=\"1\" class=\"dataframe\">\n",
       "  <thead>\n",
       "    <tr style=\"text-align: right;\">\n",
       "      <th></th>\n",
       "      <th>사고년도</th>\n",
       "      <th>발생년월일시</th>\n",
       "      <th>주야</th>\n",
       "      <th>요일</th>\n",
       "      <th>사망자수</th>\n",
       "      <th>사상자수</th>\n",
       "      <th>중상자수</th>\n",
       "      <th>경상자수</th>\n",
       "      <th>부상신고자수</th>\n",
       "      <th>발생지시도</th>\n",
       "      <th>발생지시군구</th>\n",
       "      <th>사고유형_대분류</th>\n",
       "      <th>사고유형_중분류</th>\n",
       "      <th>사고유형구분</th>\n",
       "    </tr>\n",
       "  </thead>\n",
       "  <tbody>\n",
       "    <tr>\n",
       "      <th>1571</th>\n",
       "      <td>2012</td>\n",
       "      <td>2012-02-24 15:00:00</td>\n",
       "      <td>주간</td>\n",
       "      <td>금</td>\n",
       "      <td>4</td>\n",
       "      <td>100</td>\n",
       "      <td>6</td>\n",
       "      <td>23</td>\n",
       "      <td>67</td>\n",
       "      <td>강원</td>\n",
       "      <td>고성군</td>\n",
       "      <td>차대차</td>\n",
       "      <td>추돌</td>\n",
       "      <td>진행중 추돌</td>\n",
       "    </tr>\n",
       "    <tr>\n",
       "      <th>8729</th>\n",
       "      <td>2014</td>\n",
       "      <td>2014-12-31 19:00:00</td>\n",
       "      <td>야간</td>\n",
       "      <td>수</td>\n",
       "      <td>1</td>\n",
       "      <td>34</td>\n",
       "      <td>3</td>\n",
       "      <td>0</td>\n",
       "      <td>30</td>\n",
       "      <td>경기</td>\n",
       "      <td>화성시</td>\n",
       "      <td>차대차</td>\n",
       "      <td>기타</td>\n",
       "      <td>기타</td>\n",
       "    </tr>\n",
       "    <tr>\n",
       "      <th>4275</th>\n",
       "      <td>2013</td>\n",
       "      <td>2013-09-12 19:00:00</td>\n",
       "      <td>야간</td>\n",
       "      <td>목</td>\n",
       "      <td>2</td>\n",
       "      <td>25</td>\n",
       "      <td>3</td>\n",
       "      <td>4</td>\n",
       "      <td>16</td>\n",
       "      <td>경기</td>\n",
       "      <td>의정부시</td>\n",
       "      <td>차대차</td>\n",
       "      <td>추돌</td>\n",
       "      <td>주정차중 추돌</td>\n",
       "    </tr>\n",
       "    <tr>\n",
       "      <th>10919</th>\n",
       "      <td>2014</td>\n",
       "      <td>2014-11-04 07:00:00</td>\n",
       "      <td>주간</td>\n",
       "      <td>화</td>\n",
       "      <td>3</td>\n",
       "      <td>20</td>\n",
       "      <td>3</td>\n",
       "      <td>0</td>\n",
       "      <td>14</td>\n",
       "      <td>제주</td>\n",
       "      <td>서귀포시</td>\n",
       "      <td>차대차</td>\n",
       "      <td>정면충돌</td>\n",
       "      <td>정면충돌</td>\n",
       "    </tr>\n",
       "    <tr>\n",
       "      <th>6602</th>\n",
       "      <td>2013</td>\n",
       "      <td>2013-10-23 16:00:00</td>\n",
       "      <td>주간</td>\n",
       "      <td>수</td>\n",
       "      <td>1</td>\n",
       "      <td>13</td>\n",
       "      <td>3</td>\n",
       "      <td>0</td>\n",
       "      <td>9</td>\n",
       "      <td>경기</td>\n",
       "      <td>동두천시</td>\n",
       "      <td>차대차</td>\n",
       "      <td>기타</td>\n",
       "      <td>기타</td>\n",
       "    </tr>\n",
       "    <tr>\n",
       "      <th>...</th>\n",
       "      <td>...</td>\n",
       "      <td>...</td>\n",
       "      <td>...</td>\n",
       "      <td>...</td>\n",
       "      <td>...</td>\n",
       "      <td>...</td>\n",
       "      <td>...</td>\n",
       "      <td>...</td>\n",
       "      <td>...</td>\n",
       "      <td>...</td>\n",
       "      <td>...</td>\n",
       "      <td>...</td>\n",
       "      <td>...</td>\n",
       "      <td>...</td>\n",
       "    </tr>\n",
       "    <tr>\n",
       "      <th>4934</th>\n",
       "      <td>2013</td>\n",
       "      <td>2013-12-24 09:00:00</td>\n",
       "      <td>주간</td>\n",
       "      <td>화</td>\n",
       "      <td>2</td>\n",
       "      <td>3</td>\n",
       "      <td>1</td>\n",
       "      <td>0</td>\n",
       "      <td>0</td>\n",
       "      <td>전남</td>\n",
       "      <td>나주시</td>\n",
       "      <td>차량단독</td>\n",
       "      <td>도로이탈</td>\n",
       "      <td>도로이탈 기타</td>\n",
       "    </tr>\n",
       "    <tr>\n",
       "      <th>4935</th>\n",
       "      <td>2013</td>\n",
       "      <td>2013-12-28 10:00:00</td>\n",
       "      <td>주간</td>\n",
       "      <td>토</td>\n",
       "      <td>1</td>\n",
       "      <td>1</td>\n",
       "      <td>0</td>\n",
       "      <td>0</td>\n",
       "      <td>0</td>\n",
       "      <td>전북</td>\n",
       "      <td>완주군</td>\n",
       "      <td>차량단독</td>\n",
       "      <td>공작물충돌</td>\n",
       "      <td>공작물충돌</td>\n",
       "    </tr>\n",
       "    <tr>\n",
       "      <th>4936</th>\n",
       "      <td>2013</td>\n",
       "      <td>2013-12-28 01:00:00</td>\n",
       "      <td>야간</td>\n",
       "      <td>토</td>\n",
       "      <td>1</td>\n",
       "      <td>5</td>\n",
       "      <td>1</td>\n",
       "      <td>3</td>\n",
       "      <td>0</td>\n",
       "      <td>전북</td>\n",
       "      <td>익산시</td>\n",
       "      <td>차대차</td>\n",
       "      <td>기타</td>\n",
       "      <td>기타</td>\n",
       "    </tr>\n",
       "    <tr>\n",
       "      <th>4937</th>\n",
       "      <td>2013</td>\n",
       "      <td>2013-12-21 00:00:00</td>\n",
       "      <td>야간</td>\n",
       "      <td>토</td>\n",
       "      <td>1</td>\n",
       "      <td>1</td>\n",
       "      <td>0</td>\n",
       "      <td>0</td>\n",
       "      <td>0</td>\n",
       "      <td>대구</td>\n",
       "      <td>중구</td>\n",
       "      <td>차대사람</td>\n",
       "      <td>기타</td>\n",
       "      <td>기타</td>\n",
       "    </tr>\n",
       "    <tr>\n",
       "      <th>14623</th>\n",
       "      <td>2014</td>\n",
       "      <td>2014-07-20 10:00:00</td>\n",
       "      <td>주간</td>\n",
       "      <td>일</td>\n",
       "      <td>1</td>\n",
       "      <td>1</td>\n",
       "      <td>0</td>\n",
       "      <td>0</td>\n",
       "      <td>0</td>\n",
       "      <td>경남</td>\n",
       "      <td>통영시</td>\n",
       "      <td>차량단독</td>\n",
       "      <td>전도전복</td>\n",
       "      <td>전도전복</td>\n",
       "    </tr>\n",
       "  </tbody>\n",
       "</table>\n",
       "<p>14624 rows × 14 columns</p>\n",
       "</div>"
      ],
      "text/plain": [
       "       사고년도              발생년월일시  주야 요일  사망자수  사상자수  중상자수  경상자수  부상신고자수 발생지시도  \\\n",
       "1571   2012 2012-02-24 15:00:00  주간  금     4   100     6    23      67    강원   \n",
       "8729   2014 2014-12-31 19:00:00  야간  수     1    34     3     0      30    경기   \n",
       "4275   2013 2013-09-12 19:00:00  야간  목     2    25     3     4      16    경기   \n",
       "10919  2014 2014-11-04 07:00:00  주간  화     3    20     3     0      14    제주   \n",
       "6602   2013 2013-10-23 16:00:00  주간  수     1    13     3     0       9    경기   \n",
       "...     ...                 ...  .. ..   ...   ...   ...   ...     ...   ...   \n",
       "4934   2013 2013-12-24 09:00:00  주간  화     2     3     1     0       0    전남   \n",
       "4935   2013 2013-12-28 10:00:00  주간  토     1     1     0     0       0    전북   \n",
       "4936   2013 2013-12-28 01:00:00  야간  토     1     5     1     3       0    전북   \n",
       "4937   2013 2013-12-21 00:00:00  야간  토     1     1     0     0       0    대구   \n",
       "14623  2014 2014-07-20 10:00:00  주간  일     1     1     0     0       0    경남   \n",
       "\n",
       "      발생지시군구 사고유형_대분류 사고유형_중분류   사고유형구분  \n",
       "1571     고성군      차대차       추돌   진행중 추돌  \n",
       "8729     화성시      차대차       기타       기타  \n",
       "4275    의정부시      차대차       추돌  주정차중 추돌  \n",
       "10919   서귀포시      차대차     정면충돌     정면충돌  \n",
       "6602    동두천시      차대차       기타       기타  \n",
       "...      ...      ...      ...      ...  \n",
       "4934     나주시     차량단독     도로이탈  도로이탈 기타  \n",
       "4935     완주군     차량단독    공작물충돌    공작물충돌  \n",
       "4936     익산시      차대차       기타       기타  \n",
       "4937      중구     차대사람       기타       기타  \n",
       "14623    통영시     차량단독     전도전복     전도전복  \n",
       "\n",
       "[14624 rows x 14 columns]"
      ]
     },
     "execution_count": 205,
     "metadata": {},
     "output_type": "execute_result"
    }
   ],
   "source": [
    "data.sort_values('부상신고자수', ascending=False)"
   ]
  },
  {
   "cell_type": "markdown",
   "metadata": {},
   "source": [
    "## 8. DataFrame 자료 형태 변환"
   ]
  },
  {
   "cell_type": "code",
   "execution_count": 109,
   "metadata": {},
   "outputs": [
    {
     "data": {
      "text/plain": [
       "사고년도                 int64\n",
       "발생년월일시      datetime64[ns]\n",
       "주야                  object\n",
       "요일                  object\n",
       "사망자수                 int64\n",
       "사상자수                 int64\n",
       "중상자수                 int64\n",
       "경상자수                 int64\n",
       "부상신고자수               int64\n",
       "발생지시도               object\n",
       "발생지시군구              object\n",
       "사고유형_대분류            object\n",
       "사고유형_중분류            object\n",
       "사고유형구분              object\n",
       "dtype: object"
      ]
     },
     "execution_count": 109,
     "metadata": {},
     "output_type": "execute_result"
    }
   ],
   "source": [
    "data.dtypes"
   ]
  },
  {
   "cell_type": "markdown",
   "metadata": {},
   "source": [
    "각 컬럼의 개별 변경"
   ]
  },
  {
   "cell_type": "code",
   "execution_count": 207,
   "metadata": {},
   "outputs": [],
   "source": [
    "data['사고년도'] = data['사고년도'].astype(float)"
   ]
  },
  {
   "cell_type": "markdown",
   "metadata": {},
   "source": [
    "각 컬럼의 동시 변경"
   ]
  },
  {
   "cell_type": "code",
   "execution_count": 208,
   "metadata": {},
   "outputs": [],
   "source": [
    "data = data.astype({'중상자수': float, '사상자수': float})"
   ]
  },
  {
   "cell_type": "code",
   "execution_count": 209,
   "metadata": {},
   "outputs": [],
   "source": [
    "data['사고유형구분'] = data['사고유형구분'].astype('category')"
   ]
  },
  {
   "cell_type": "code",
   "execution_count": 210,
   "metadata": {},
   "outputs": [],
   "source": [
    "data['요일'] = data['요일'].astype('category')"
   ]
  },
  {
   "cell_type": "code",
   "execution_count": 211,
   "metadata": {},
   "outputs": [
    {
     "data": {
      "text/plain": [
       "0     진행중 추돌\n",
       "1    주정차중 추돌\n",
       "2     측면직각충돌\n",
       "3    주정차중 추돌\n",
       "4     진행중 추돌\n",
       "Name: 사고유형구분, dtype: category\n",
       "Categories (17, object): ['경보기 무시', '공작물충돌', '기타', '길가장자리구역통행중', ..., '차단기돌파', '차도통행중', '측면직각충돌', '횡단중']"
      ]
     },
     "execution_count": 211,
     "metadata": {},
     "output_type": "execute_result"
    }
   ],
   "source": [
    "data['사고유형구분'].head()"
   ]
  },
  {
   "cell_type": "code",
   "execution_count": 212,
   "metadata": {},
   "outputs": [
    {
     "data": {
      "text/plain": [
       "['진행중 추돌', '주정차중 추돌', '측면직각충돌', '전도전복', '공작물충돌', ..., '보도통행중', '경보기 무시', '주/정차차량 충돌', '차단기돌파', '직전진행']\n",
       "Length: 17\n",
       "Categories (17, object): ['진행중 추돌', '주정차중 추돌', '측면직각충돌', '전도전복', ..., '경보기 무시', '주/정차차량 충돌', '차단기돌파', '직전진행']"
      ]
     },
     "execution_count": 212,
     "metadata": {},
     "output_type": "execute_result"
    },
    {
     "data": {
      "text/plain": [
       "['경보기 무시',\n",
       " '공작물충돌',\n",
       " '기타',\n",
       " '길가장자리구역통행중',\n",
       " '도로이탈 기타',\n",
       " '도로이탈 추락',\n",
       " '보도통행중',\n",
       " '전도전복',\n",
       " '정면충돌',\n",
       " '주/정차차량 충돌',\n",
       " '주정차중 추돌',\n",
       " '직전진행',\n",
       " '진행중 추돌',\n",
       " '차단기돌파',\n",
       " '차도통행중',\n",
       " '측면직각충돌',\n",
       " '횡단중']"
      ]
     },
     "execution_count": 212,
     "metadata": {},
     "output_type": "execute_result"
    }
   ],
   "source": [
    "data['사고유형구분'].unique()\n",
    "sorted(data['사고유형구분'].unique())"
   ]
  },
  {
   "cell_type": "markdown",
   "metadata": {},
   "source": [
    "# End "
   ]
  },
  {
   "cell_type": "code",
   "execution_count": null,
   "metadata": {},
   "outputs": [],
   "source": []
  }
 ],
 "metadata": {
  "kernelspec": {
   "display_name": "Python 3",
   "language": "python",
   "name": "python3"
  },
  "language_info": {
   "codemirror_mode": {
    "name": "ipython",
    "version": 3
   },
   "file_extension": ".py",
   "mimetype": "text/x-python",
   "name": "python",
   "nbconvert_exporter": "python",
   "pygments_lexer": "ipython3",
   "version": "3.7.4"
  }
 },
 "nbformat": 4,
 "nbformat_minor": 2
}
