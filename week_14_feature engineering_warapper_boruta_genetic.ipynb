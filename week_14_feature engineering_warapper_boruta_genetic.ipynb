{
 "cells": [
  {
   "cell_type": "markdown",
   "metadata": {},
   "source": [
    "# Feature Selection: Wrapper Methods\n",
    "- 5 Wrapper-based methods to choose relevant features\n",
    "- https://medium.com/analytics-vidhya/feature-selection-85539d6a2a88"
   ]
  },
  {
   "cell_type": "code",
   "execution_count": 45,
   "metadata": {},
   "outputs": [
    {
     "data": {
      "text/html": [
       "<style>.container { width:100% !important; }</style>"
      ],
      "text/plain": [
       "<IPython.core.display.HTML object>"
      ]
     },
     "metadata": {},
     "output_type": "display_data"
    }
   ],
   "source": [
    "# 명령 결과 모두 보기\n",
    "from IPython.core.interactiveshell import InteractiveShell\n",
    "InteractiveShell.ast_node_interactivity = 'all'\n",
    "from IPython.core.display import display, HTML\n",
    "display(HTML(\"<style>.container { width:100% !important; }</style>\"))\n",
    "\n",
    "# 버전 경고 무시\n",
    "import warnings\n",
    "warnings.filterwarnings('ignore')\n",
    "\n",
    "# 판다스와 넘피\n",
    "import pandas as pd\n",
    "import numpy as np\n",
    "\n",
    "# 그림 그리기\n",
    "import matplotlib.pyplot as plt\n",
    "import seaborn as sns; sns.set()\n",
    "get_ipython().run_line_magic('matplotlib', 'inline')\n",
    "plt.rcParams['font.family']='Malgun Gothic' # 한글폰트"
   ]
  },
  {
   "cell_type": "code",
   "execution_count": 46,
   "metadata": {},
   "outputs": [],
   "source": [
    "def summary(df) :\n",
    "    tf = pd.DataFrame({'데이터형태(dtypes)' : df.dtypes,\n",
    "                       '비 결측치 수(notnull': df.notnull().sum(),\n",
    "                       '결측치 수(null)' : df.isnull().sum(),\n",
    "                       '고유값 수(nunique)' : df.nunique()})\n",
    "    return tf"
   ]
  },
  {
   "cell_type": "markdown",
   "metadata": {},
   "source": [
    "## Obtaining the Data\n",
    "- dataset containstransactions made by credit cards; they are labeled as fraudulent or genuine. \n",
    "- Thedataset includes 30 features, which are the result of PCA. Due to confidentiality issues,the original features are not provided. \n",
    "- This is a classification task with a quiteimbalanced dataset and therefore, I will use f1-score (macro avg) as an evaluationmetric."
   ]
  },
  {
   "cell_type": "code",
   "execution_count": 55,
   "metadata": {},
   "outputs": [
    {
     "data": {
      "text/html": [
       "<div>\n",
       "<style scoped>\n",
       "    .dataframe tbody tr th:only-of-type {\n",
       "        vertical-align: middle;\n",
       "    }\n",
       "\n",
       "    .dataframe tbody tr th {\n",
       "        vertical-align: top;\n",
       "    }\n",
       "\n",
       "    .dataframe thead th {\n",
       "        text-align: right;\n",
       "    }\n",
       "</style>\n",
       "<table border=\"1\" class=\"dataframe\">\n",
       "  <thead>\n",
       "    <tr style=\"text-align: right;\">\n",
       "      <th></th>\n",
       "      <th>Time</th>\n",
       "      <th>V1</th>\n",
       "      <th>V2</th>\n",
       "      <th>V3</th>\n",
       "      <th>V4</th>\n",
       "      <th>V5</th>\n",
       "      <th>V6</th>\n",
       "      <th>V7</th>\n",
       "      <th>V8</th>\n",
       "      <th>V9</th>\n",
       "      <th>...</th>\n",
       "      <th>V21</th>\n",
       "      <th>V22</th>\n",
       "      <th>V23</th>\n",
       "      <th>V24</th>\n",
       "      <th>V25</th>\n",
       "      <th>V26</th>\n",
       "      <th>V27</th>\n",
       "      <th>V28</th>\n",
       "      <th>Amount</th>\n",
       "      <th>Class</th>\n",
       "    </tr>\n",
       "  </thead>\n",
       "  <tbody>\n",
       "    <tr>\n",
       "      <th>0</th>\n",
       "      <td>0.0</td>\n",
       "      <td>-1.359807</td>\n",
       "      <td>-0.072781</td>\n",
       "      <td>2.536347</td>\n",
       "      <td>1.378155</td>\n",
       "      <td>-0.338321</td>\n",
       "      <td>0.462388</td>\n",
       "      <td>0.239599</td>\n",
       "      <td>0.098698</td>\n",
       "      <td>0.363787</td>\n",
       "      <td>...</td>\n",
       "      <td>-0.018307</td>\n",
       "      <td>0.277838</td>\n",
       "      <td>-0.110474</td>\n",
       "      <td>0.066928</td>\n",
       "      <td>0.128539</td>\n",
       "      <td>-0.189115</td>\n",
       "      <td>0.133558</td>\n",
       "      <td>-0.021053</td>\n",
       "      <td>149.62</td>\n",
       "      <td>0</td>\n",
       "    </tr>\n",
       "    <tr>\n",
       "      <th>1</th>\n",
       "      <td>0.0</td>\n",
       "      <td>1.191857</td>\n",
       "      <td>0.266151</td>\n",
       "      <td>0.166480</td>\n",
       "      <td>0.448154</td>\n",
       "      <td>0.060018</td>\n",
       "      <td>-0.082361</td>\n",
       "      <td>-0.078803</td>\n",
       "      <td>0.085102</td>\n",
       "      <td>-0.255425</td>\n",
       "      <td>...</td>\n",
       "      <td>-0.225775</td>\n",
       "      <td>-0.638672</td>\n",
       "      <td>0.101288</td>\n",
       "      <td>-0.339846</td>\n",
       "      <td>0.167170</td>\n",
       "      <td>0.125895</td>\n",
       "      <td>-0.008983</td>\n",
       "      <td>0.014724</td>\n",
       "      <td>2.69</td>\n",
       "      <td>0</td>\n",
       "    </tr>\n",
       "    <tr>\n",
       "      <th>2</th>\n",
       "      <td>1.0</td>\n",
       "      <td>-1.358354</td>\n",
       "      <td>-1.340163</td>\n",
       "      <td>1.773209</td>\n",
       "      <td>0.379780</td>\n",
       "      <td>-0.503198</td>\n",
       "      <td>1.800499</td>\n",
       "      <td>0.791461</td>\n",
       "      <td>0.247676</td>\n",
       "      <td>-1.514654</td>\n",
       "      <td>...</td>\n",
       "      <td>0.247998</td>\n",
       "      <td>0.771679</td>\n",
       "      <td>0.909412</td>\n",
       "      <td>-0.689281</td>\n",
       "      <td>-0.327642</td>\n",
       "      <td>-0.139097</td>\n",
       "      <td>-0.055353</td>\n",
       "      <td>-0.059752</td>\n",
       "      <td>378.66</td>\n",
       "      <td>0</td>\n",
       "    </tr>\n",
       "    <tr>\n",
       "      <th>3</th>\n",
       "      <td>1.0</td>\n",
       "      <td>-0.966272</td>\n",
       "      <td>-0.185226</td>\n",
       "      <td>1.792993</td>\n",
       "      <td>-0.863291</td>\n",
       "      <td>-0.010309</td>\n",
       "      <td>1.247203</td>\n",
       "      <td>0.237609</td>\n",
       "      <td>0.377436</td>\n",
       "      <td>-1.387024</td>\n",
       "      <td>...</td>\n",
       "      <td>-0.108300</td>\n",
       "      <td>0.005274</td>\n",
       "      <td>-0.190321</td>\n",
       "      <td>-1.175575</td>\n",
       "      <td>0.647376</td>\n",
       "      <td>-0.221929</td>\n",
       "      <td>0.062723</td>\n",
       "      <td>0.061458</td>\n",
       "      <td>123.50</td>\n",
       "      <td>0</td>\n",
       "    </tr>\n",
       "    <tr>\n",
       "      <th>4</th>\n",
       "      <td>2.0</td>\n",
       "      <td>-1.158233</td>\n",
       "      <td>0.877737</td>\n",
       "      <td>1.548718</td>\n",
       "      <td>0.403034</td>\n",
       "      <td>-0.407193</td>\n",
       "      <td>0.095921</td>\n",
       "      <td>0.592941</td>\n",
       "      <td>-0.270533</td>\n",
       "      <td>0.817739</td>\n",
       "      <td>...</td>\n",
       "      <td>-0.009431</td>\n",
       "      <td>0.798278</td>\n",
       "      <td>-0.137458</td>\n",
       "      <td>0.141267</td>\n",
       "      <td>-0.206010</td>\n",
       "      <td>0.502292</td>\n",
       "      <td>0.219422</td>\n",
       "      <td>0.215153</td>\n",
       "      <td>69.99</td>\n",
       "      <td>0</td>\n",
       "    </tr>\n",
       "  </tbody>\n",
       "</table>\n",
       "<p>5 rows × 31 columns</p>\n",
       "</div>"
      ],
      "text/plain": [
       "   Time        V1        V2        V3        V4        V5        V6        V7  \\\n",
       "0   0.0 -1.359807 -0.072781  2.536347  1.378155 -0.338321  0.462388  0.239599   \n",
       "1   0.0  1.191857  0.266151  0.166480  0.448154  0.060018 -0.082361 -0.078803   \n",
       "2   1.0 -1.358354 -1.340163  1.773209  0.379780 -0.503198  1.800499  0.791461   \n",
       "3   1.0 -0.966272 -0.185226  1.792993 -0.863291 -0.010309  1.247203  0.237609   \n",
       "4   2.0 -1.158233  0.877737  1.548718  0.403034 -0.407193  0.095921  0.592941   \n",
       "\n",
       "         V8        V9  ...       V21       V22       V23       V24       V25  \\\n",
       "0  0.098698  0.363787  ... -0.018307  0.277838 -0.110474  0.066928  0.128539   \n",
       "1  0.085102 -0.255425  ... -0.225775 -0.638672  0.101288 -0.339846  0.167170   \n",
       "2  0.247676 -1.514654  ...  0.247998  0.771679  0.909412 -0.689281 -0.327642   \n",
       "3  0.377436 -1.387024  ... -0.108300  0.005274 -0.190321 -1.175575  0.647376   \n",
       "4 -0.270533  0.817739  ... -0.009431  0.798278 -0.137458  0.141267 -0.206010   \n",
       "\n",
       "        V26       V27       V28  Amount  Class  \n",
       "0 -0.189115  0.133558 -0.021053  149.62      0  \n",
       "1  0.125895 -0.008983  0.014724    2.69      0  \n",
       "2 -0.139097 -0.055353 -0.059752  378.66      0  \n",
       "3 -0.221929  0.062723  0.061458  123.50      0  \n",
       "4  0.502292  0.219422  0.215153   69.99      0  \n",
       "\n",
       "[5 rows x 31 columns]"
      ]
     },
     "execution_count": 55,
     "metadata": {},
     "output_type": "execute_result"
    }
   ],
   "source": [
    "credit = pd.read_csv('../../data/creditcard.csv')\n",
    "credit.head()"
   ]
  },
  {
   "cell_type": "code",
   "execution_count": 56,
   "metadata": {},
   "outputs": [],
   "source": [
    "X = credit.loc[:, credit.columns != 'Class']\n",
    "y = credit['Class']"
   ]
  },
  {
   "cell_type": "markdown",
   "metadata": {},
   "source": [
    "Build full model with selected features"
   ]
  },
  {
   "cell_type": "code",
   "execution_count": 58,
   "metadata": {},
   "outputs": [
    {
     "data": {
      "text/html": [
       "<div>\n",
       "<style scoped>\n",
       "    .dataframe tbody tr th:only-of-type {\n",
       "        vertical-align: middle;\n",
       "    }\n",
       "\n",
       "    .dataframe tbody tr th {\n",
       "        vertical-align: top;\n",
       "    }\n",
       "\n",
       "    .dataframe thead th {\n",
       "        text-align: right;\n",
       "    }\n",
       "</style>\n",
       "<table border=\"1\" class=\"dataframe\">\n",
       "  <thead>\n",
       "    <tr style=\"text-align: right;\">\n",
       "      <th></th>\n",
       "      <th>Time</th>\n",
       "      <th>V1</th>\n",
       "      <th>V2</th>\n",
       "      <th>V3</th>\n",
       "      <th>V4</th>\n",
       "      <th>V5</th>\n",
       "      <th>V6</th>\n",
       "      <th>V7</th>\n",
       "      <th>V8</th>\n",
       "      <th>V9</th>\n",
       "      <th>...</th>\n",
       "      <th>V20</th>\n",
       "      <th>V21</th>\n",
       "      <th>V22</th>\n",
       "      <th>V23</th>\n",
       "      <th>V24</th>\n",
       "      <th>V25</th>\n",
       "      <th>V26</th>\n",
       "      <th>V27</th>\n",
       "      <th>V28</th>\n",
       "      <th>Amount</th>\n",
       "    </tr>\n",
       "  </thead>\n",
       "  <tbody>\n",
       "    <tr>\n",
       "      <th>265518</th>\n",
       "      <td>161919.0</td>\n",
       "      <td>1.946747</td>\n",
       "      <td>-0.752526</td>\n",
       "      <td>-1.355130</td>\n",
       "      <td>-0.661630</td>\n",
       "      <td>1.502822</td>\n",
       "      <td>4.024933</td>\n",
       "      <td>-1.479661</td>\n",
       "      <td>1.139880</td>\n",
       "      <td>1.406819</td>\n",
       "      <td>...</td>\n",
       "      <td>-0.134435</td>\n",
       "      <td>0.076197</td>\n",
       "      <td>0.297537</td>\n",
       "      <td>0.307915</td>\n",
       "      <td>0.690980</td>\n",
       "      <td>-0.350316</td>\n",
       "      <td>-0.388907</td>\n",
       "      <td>0.077641</td>\n",
       "      <td>-0.032248</td>\n",
       "      <td>7.32</td>\n",
       "    </tr>\n",
       "    <tr>\n",
       "      <th>180305</th>\n",
       "      <td>124477.0</td>\n",
       "      <td>2.035149</td>\n",
       "      <td>-0.048880</td>\n",
       "      <td>-3.058693</td>\n",
       "      <td>0.247945</td>\n",
       "      <td>2.943487</td>\n",
       "      <td>3.298697</td>\n",
       "      <td>-0.002192</td>\n",
       "      <td>0.674782</td>\n",
       "      <td>0.045826</td>\n",
       "      <td>...</td>\n",
       "      <td>-0.227279</td>\n",
       "      <td>0.038628</td>\n",
       "      <td>0.228197</td>\n",
       "      <td>0.035542</td>\n",
       "      <td>0.707090</td>\n",
       "      <td>0.512885</td>\n",
       "      <td>-0.471198</td>\n",
       "      <td>0.002520</td>\n",
       "      <td>-0.069002</td>\n",
       "      <td>2.99</td>\n",
       "    </tr>\n",
       "    <tr>\n",
       "      <th>42664</th>\n",
       "      <td>41191.0</td>\n",
       "      <td>-0.991920</td>\n",
       "      <td>0.603193</td>\n",
       "      <td>0.711976</td>\n",
       "      <td>-0.992425</td>\n",
       "      <td>-0.825838</td>\n",
       "      <td>1.956261</td>\n",
       "      <td>-2.212603</td>\n",
       "      <td>-5.037523</td>\n",
       "      <td>0.000772</td>\n",
       "      <td>...</td>\n",
       "      <td>1.280856</td>\n",
       "      <td>-2.798352</td>\n",
       "      <td>0.109526</td>\n",
       "      <td>-0.436530</td>\n",
       "      <td>-0.932803</td>\n",
       "      <td>0.826684</td>\n",
       "      <td>0.913773</td>\n",
       "      <td>0.038049</td>\n",
       "      <td>0.185340</td>\n",
       "      <td>175.10</td>\n",
       "    </tr>\n",
       "    <tr>\n",
       "      <th>198723</th>\n",
       "      <td>132624.0</td>\n",
       "      <td>2.285718</td>\n",
       "      <td>-1.500239</td>\n",
       "      <td>-0.747565</td>\n",
       "      <td>-1.668119</td>\n",
       "      <td>-1.394143</td>\n",
       "      <td>-0.350339</td>\n",
       "      <td>-1.427984</td>\n",
       "      <td>0.010010</td>\n",
       "      <td>-1.118447</td>\n",
       "      <td>...</td>\n",
       "      <td>-0.490642</td>\n",
       "      <td>-0.139670</td>\n",
       "      <td>0.077013</td>\n",
       "      <td>0.208310</td>\n",
       "      <td>-0.538236</td>\n",
       "      <td>-0.278032</td>\n",
       "      <td>-0.162068</td>\n",
       "      <td>0.018045</td>\n",
       "      <td>-0.063005</td>\n",
       "      <td>6.10</td>\n",
       "    </tr>\n",
       "    <tr>\n",
       "      <th>82325</th>\n",
       "      <td>59359.0</td>\n",
       "      <td>-0.448747</td>\n",
       "      <td>-1.011440</td>\n",
       "      <td>0.115903</td>\n",
       "      <td>-3.454854</td>\n",
       "      <td>0.715771</td>\n",
       "      <td>-0.147490</td>\n",
       "      <td>0.504347</td>\n",
       "      <td>-0.113817</td>\n",
       "      <td>-0.044782</td>\n",
       "      <td>...</td>\n",
       "      <td>-0.275297</td>\n",
       "      <td>-0.243245</td>\n",
       "      <td>-0.173298</td>\n",
       "      <td>-0.006692</td>\n",
       "      <td>-1.362383</td>\n",
       "      <td>-0.292234</td>\n",
       "      <td>-0.144622</td>\n",
       "      <td>-0.032580</td>\n",
       "      <td>-0.064194</td>\n",
       "      <td>86.10</td>\n",
       "    </tr>\n",
       "  </tbody>\n",
       "</table>\n",
       "<p>5 rows × 30 columns</p>\n",
       "</div>"
      ],
      "text/plain": [
       "            Time        V1        V2        V3        V4        V5        V6  \\\n",
       "265518  161919.0  1.946747 -0.752526 -1.355130 -0.661630  1.502822  4.024933   \n",
       "180305  124477.0  2.035149 -0.048880 -3.058693  0.247945  2.943487  3.298697   \n",
       "42664    41191.0 -0.991920  0.603193  0.711976 -0.992425 -0.825838  1.956261   \n",
       "198723  132624.0  2.285718 -1.500239 -0.747565 -1.668119 -1.394143 -0.350339   \n",
       "82325    59359.0 -0.448747 -1.011440  0.115903 -3.454854  0.715771 -0.147490   \n",
       "\n",
       "              V7        V8        V9  ...       V20       V21       V22  \\\n",
       "265518 -1.479661  1.139880  1.406819  ... -0.134435  0.076197  0.297537   \n",
       "180305 -0.002192  0.674782  0.045826  ... -0.227279  0.038628  0.228197   \n",
       "42664  -2.212603 -5.037523  0.000772  ...  1.280856 -2.798352  0.109526   \n",
       "198723 -1.427984  0.010010 -1.118447  ... -0.490642 -0.139670  0.077013   \n",
       "82325   0.504347 -0.113817 -0.044782  ... -0.275297 -0.243245 -0.173298   \n",
       "\n",
       "             V23       V24       V25       V26       V27       V28  Amount  \n",
       "265518  0.307915  0.690980 -0.350316 -0.388907  0.077641 -0.032248    7.32  \n",
       "180305  0.035542  0.707090  0.512885 -0.471198  0.002520 -0.069002    2.99  \n",
       "42664  -0.436530 -0.932803  0.826684  0.913773  0.038049  0.185340  175.10  \n",
       "198723  0.208310 -0.538236 -0.278032 -0.162068  0.018045 -0.063005    6.10  \n",
       "82325  -0.006692 -1.362383 -0.292234 -0.144622 -0.032580 -0.064194   86.10  \n",
       "\n",
       "[5 rows x 30 columns]"
      ]
     },
     "execution_count": 58,
     "metadata": {},
     "output_type": "execute_result"
    }
   ],
   "source": [
    "from sklearn.model_selection import StratifiedKFold, train_test_split\n",
    "X_train, X_test, y_train, y_test = train_test_split(X,y,test_size=0.2,stratify=y,random_state=42)\n",
    "scv = StratifiedKFold(n_splits=5)\n",
    "X_train.head()"
   ]
  },
  {
   "cell_type": "markdown",
   "metadata": {},
   "source": [
    "## 1. Forward Selection\n",
    "- 사이킷런의 API와 동일(default = forward)\n",
    "- https://scikit-learn.org/stable/modules/generated/sklearn.feature_selection.SequentialFeatureSelector.html"
   ]
  },
  {
   "cell_type": "code",
   "execution_count": 49,
   "metadata": {},
   "outputs": [],
   "source": [
    "from mlxtend.feature_selection import SequentialFeatureSelector\n",
    "from sklearn.linear_model import LogisticRegression\n",
    "from sklearn.model_selection import StratifiedShuffleSplit\n",
    "scv = StratifiedShuffleSplit(n_splits=5, test_size=0.2, random_state=0)"
   ]
  },
  {
   "cell_type": "markdown",
   "metadata": {},
   "source": [
    "create the SequentialFeatureSelector object"
   ]
  },
  {
   "cell_type": "code",
   "execution_count": 13,
   "metadata": {},
   "outputs": [],
   "source": [
    "sfs = SequentialFeatureSelector(LogisticRegression(C=10, max_iter=100), \n",
    "                                k_features=8,\n",
    "                                forward=True,\n",
    "                                floating=False,\n",
    "                                verbose=2,\n",
    "                                scoring='f1_macro',\n",
    "                                cv=scv,\n",
    "                                n_jobs=-1)"
   ]
  },
  {
   "cell_type": "markdown",
   "metadata": {},
   "source": [
    "fit the object to the training data"
   ]
  },
  {
   "cell_type": "code",
   "execution_count": 14,
   "metadata": {},
   "outputs": [
    {
     "name": "stderr",
     "output_type": "stream",
     "text": [
      "[Parallel(n_jobs=-1)]: Using backend LokyBackend with 12 concurrent workers.\n",
      "[Parallel(n_jobs=-1)]: Done  23 out of  30 | elapsed:   15.8s remaining:    4.8s\n",
      "[Parallel(n_jobs=-1)]: Done  30 out of  30 | elapsed:   21.5s finished\n",
      "\n",
      "[2021-05-31 14:57:11] Features: 1/8 -- score: 0.7873248473688205[Parallel(n_jobs=-1)]: Using backend LokyBackend with 12 concurrent workers.\n",
      "[Parallel(n_jobs=-1)]: Done  21 out of  29 | elapsed:   21.0s remaining:    7.9s\n",
      "[Parallel(n_jobs=-1)]: Done  29 out of  29 | elapsed:   28.2s finished\n",
      "\n",
      "[2021-05-31 14:57:39] Features: 2/8 -- score: 0.8408637090351931[Parallel(n_jobs=-1)]: Using backend LokyBackend with 12 concurrent workers.\n",
      "[Parallel(n_jobs=-1)]: Done  20 out of  28 | elapsed:   20.7s remaining:    8.2s\n",
      "[Parallel(n_jobs=-1)]: Done  28 out of  28 | elapsed:   29.5s finished\n",
      "\n",
      "[2021-05-31 14:58:09] Features: 3/8 -- score: 0.846319046192335[Parallel(n_jobs=-1)]: Using backend LokyBackend with 12 concurrent workers.\n",
      "[Parallel(n_jobs=-1)]: Done  18 out of  27 | elapsed:  1.5min remaining:   45.1s\n",
      "[Parallel(n_jobs=-1)]: Done  27 out of  27 | elapsed:  1.7min finished\n",
      "\n",
      "[2021-05-31 14:59:51] Features: 4/8 -- score: 0.8524408274747906[Parallel(n_jobs=-1)]: Using backend LokyBackend with 12 concurrent workers.\n",
      "[Parallel(n_jobs=-1)]: Done  17 out of  26 | elapsed:  2.1min remaining:  1.1min\n",
      "[Parallel(n_jobs=-1)]: Done  26 out of  26 | elapsed:  2.3min finished\n",
      "\n",
      "[2021-05-31 15:02:12] Features: 5/8 -- score: 0.8657101961866825[Parallel(n_jobs=-1)]: Using backend LokyBackend with 12 concurrent workers.\n",
      "[Parallel(n_jobs=-1)]: Done  15 out of  25 | elapsed:  2.2min remaining:  1.5min\n",
      "[Parallel(n_jobs=-1)]: Done  25 out of  25 | elapsed:  2.5min finished\n",
      "\n",
      "[2021-05-31 15:04:39] Features: 6/8 -- score: 0.8791875844419209[Parallel(n_jobs=-1)]: Using backend LokyBackend with 12 concurrent workers.\n",
      "[Parallel(n_jobs=-1)]: Done  14 out of  24 | elapsed:  2.2min remaining:  1.6min\n",
      "[Parallel(n_jobs=-1)]: Done  24 out of  24 | elapsed:  2.4min finished\n",
      "\n",
      "[2021-05-31 15:07:04] Features: 7/8 -- score: 0.8786500104095788[Parallel(n_jobs=-1)]: Using backend LokyBackend with 12 concurrent workers.\n",
      "[Parallel(n_jobs=-1)]: Done  12 out of  23 | elapsed:  1.1min remaining:   58.8s\n",
      "[Parallel(n_jobs=-1)]: Done  23 out of  23 | elapsed:  1.9min finished\n",
      "\n",
      "[2021-05-31 15:08:56] Features: 8/8 -- score: 0.8811058537550792"
     ]
    }
   ],
   "source": [
    "sfs = sfs.fit(X, y)"
   ]
  },
  {
   "cell_type": "code",
   "execution_count": 15,
   "metadata": {},
   "outputs": [
    {
     "name": "stdout",
     "output_type": "stream",
     "text": [
      "Index(['Time', 'V1', 'V12', 'V14', 'V15', 'V16', 'V27', 'V28'], dtype='object')\n"
     ]
    }
   ],
   "source": [
    "selected_features = X.columns[list(sfs.k_feature_idx_)]\n",
    "print(selected_features)\n",
    "X = X.loc[:, selected_features]"
   ]
  },
  {
   "cell_type": "code",
   "execution_count": 17,
   "metadata": {
    "scrolled": false
   },
   "outputs": [
    {
     "data": {
      "text/plain": [
       "LogisticRegression(C=10, max_iter=10000)"
      ]
     },
     "execution_count": 17,
     "metadata": {},
     "output_type": "execute_result"
    },
    {
     "name": "stdout",
     "output_type": "stream",
     "text": [
      "              precision    recall  f1-score   support\n",
      "\n",
      "           0       1.00      1.00      1.00     56864\n",
      "           1       0.81      0.74      0.78        98\n",
      "\n",
      "    accuracy                           1.00     56962\n",
      "   macro avg       0.91      0.87      0.89     56962\n",
      "weighted avg       1.00      1.00      1.00     56962\n",
      "\n"
     ]
    },
    {
     "data": {
      "text/plain": [
       "<sklearn.metrics._plot.confusion_matrix.ConfusionMatrixDisplay at 0x27639549b08>"
      ]
     },
     "execution_count": 17,
     "metadata": {},
     "output_type": "execute_result"
    },
    {
     "data": {
      "image/png": "[encoded data removed]",
      "text/plain": [
       "<Figure size 432x288 with 2 Axes>"
      ]
     },
     "metadata": {},
     "output_type": "display_data"
    }
   ],
   "source": [
    "from sklearn.metrics import plot_confusion_matrix, classification_report\n",
    "clf = LogisticRegression(C=10, max_iter=10000)\n",
    "clf.fit(X_train.loc[:, selected_features], y_train)\n",
    "y_predict = clf.predict(X_test.loc[:, selected_features])\n",
    "print(classification_report(y_test, y_predict))\n",
    "sns.set_style(\"whitegrid\", {'axes.grid' : False})\n",
    "plot_confusion_matrix(clf, X_test, y_test)"
   ]
  },
  {
   "cell_type": "markdown",
   "metadata": {},
   "source": [
    "## 2. Backward Selection\n",
    "- https://scikit-learn.org/stable/modules/generated/sklearn.feature_selection.SequentialFeatureSelector.html((default = forward)\n",
    "- Recursive Feature Elimination(RFE와 동일)\n",
    "   * 인스턴스보다 변수가 많을 경우에는 backward selection은 사용 못함"
   ]
  },
  {
   "cell_type": "markdown",
   "metadata": {},
   "source": [
    "## 3. Boruta algorithm\n",
    "- https://github.com/scikit-learn-contrib/boruta_py\n",
    "- Random forest와 같이 적용, R 패키지에서 차용\n",
    "- 설명 : https://www.datacamp.com/community/tutorials/feature-selection-R-boruta"
   ]
  },
  {
   "cell_type": "code",
   "execution_count": 18,
   "metadata": {},
   "outputs": [
    {
     "data": {
      "text/plain": [
       "BorutaPy(estimator=RandomForestClassifier(class_weight='balanced', max_depth=4,\n",
       "                                          n_jobs=-1,\n",
       "                                          random_state=RandomState(MT19937) at 0x2761E1C7E18),\n",
       "         n_estimators='auto',\n",
       "         random_state=RandomState(MT19937) at 0x2761E1C7E18)"
      ]
     },
     "execution_count": 18,
     "metadata": {},
     "output_type": "execute_result"
    }
   ],
   "source": [
    "from boruta import BorutaPy\n",
    "from sklearn.ensemble import RandomForestClassifier\n",
    "\n",
    "X_train, X_test, y_train, y_test = train_test_split(X,y,test_size=0.2,stratify=y,random_state=42)\n",
    "\n",
    "clf = RandomForestClassifier(n_estimators=200, class_weight='balanced', max_depth=4, n_jobs=-1)\n",
    "boruta = BorutaPy(estimator = clf, n_estimators = 'auto', max_iter = 100) # number of trials to perform\n",
    "\n",
    "boruta.fit(X_train.to_numpy(), y_train)\n",
    "\n",
    "green_area = X.columns[boruta.support_].to_list()\n",
    "blue_area = X.columns[boruta.support_weak_].to_list()"
   ]
  },
  {
   "cell_type": "code",
   "execution_count": 19,
   "metadata": {},
   "outputs": [
    {
     "name": "stdout",
     "output_type": "stream",
     "text": [
      "Green area: ['Time', 'V1', 'V12', 'V14', 'V15', 'V16', 'V27', 'V28']\n",
      "Blue area: []\n"
     ]
    }
   ],
   "source": [
    "print('Green area:', green_area)\n",
    "print('Blue area:', blue_area)"
   ]
  },
  {
   "cell_type": "code",
   "execution_count": 20,
   "metadata": {},
   "outputs": [
    {
     "data": {
      "text/plain": [
       "RandomForestClassifier(class_weight='balanced', max_depth=4, n_estimators=200,\n",
       "                       n_jobs=-1)"
      ]
     },
     "execution_count": 20,
     "metadata": {},
     "output_type": "execute_result"
    },
    {
     "name": "stdout",
     "output_type": "stream",
     "text": [
      "              precision    recall  f1-score   support\n",
      "\n",
      "           0       1.00      0.99      1.00     56864\n",
      "           1       0.17      0.89      0.28        98\n",
      "\n",
      "    accuracy                           0.99     56962\n",
      "   macro avg       0.58      0.94      0.64     56962\n",
      "weighted avg       1.00      0.99      0.99     56962\n",
      "\n"
     ]
    },
    {
     "data": {
      "text/plain": [
       "<sklearn.metrics._plot.confusion_matrix.ConfusionMatrixDisplay at 0x27637d519c8>"
      ]
     },
     "execution_count": 20,
     "metadata": {},
     "output_type": "execute_result"
    },
    {
     "data": {
      "image/png": "[encoded data removed]",
      "text/plain": [
       "<Figure size 432x288 with 2 Axes>"
      ]
     },
     "metadata": {},
     "output_type": "display_data"
    }
   ],
   "source": [
    "clf = RandomForestClassifier(n_estimators=200, class_weight='balanced', max_depth=4, n_jobs=-1)\n",
    "clf.fit(X_train[green_area].to_numpy(), y_train)\n",
    "y_predict = clf.predict(X_test.loc[:, selected_features])\n",
    "print(classification_report(y_test, y_predict))\n",
    "sns.set_style(\"whitegrid\", {'axes.grid' : False})\n",
    "plot_confusion_matrix(clf, X_test, y_test)"
   ]
  },
  {
   "cell_type": "markdown",
   "metadata": {},
   "source": [
    "## 4. Genetic algorithm\n",
    "- https://pypi.org/project/sklearn-genetic/\n",
    "- >pip install sklearn-genetic\n",
    "- > poplulation\n",
    "- > Fitness Calculation\n",
    "- > Mating Pool\n",
    "- > parents selection\n",
    "- > Mating (Cross-over, Mutation)\n",
    "- > Offsprings"
   ]
  },
  {
   "cell_type": "markdown",
   "metadata": {},
   "source": [
    "## 시간이 많이 아주 많이 걸림"
   ]
  },
  {
   "cell_type": "code",
   "execution_count": 60,
   "metadata": {},
   "outputs": [
    {
     "data": {
      "text/html": [
       "<div>\n",
       "<style scoped>\n",
       "    .dataframe tbody tr th:only-of-type {\n",
       "        vertical-align: middle;\n",
       "    }\n",
       "\n",
       "    .dataframe tbody tr th {\n",
       "        vertical-align: top;\n",
       "    }\n",
       "\n",
       "    .dataframe thead th {\n",
       "        text-align: right;\n",
       "    }\n",
       "</style>\n",
       "<table border=\"1\" class=\"dataframe\">\n",
       "  <thead>\n",
       "    <tr style=\"text-align: right;\">\n",
       "      <th></th>\n",
       "      <th>Time</th>\n",
       "      <th>V1</th>\n",
       "      <th>V2</th>\n",
       "      <th>V3</th>\n",
       "      <th>V4</th>\n",
       "      <th>V5</th>\n",
       "      <th>V6</th>\n",
       "      <th>V7</th>\n",
       "      <th>V8</th>\n",
       "      <th>V9</th>\n",
       "      <th>...</th>\n",
       "      <th>V20</th>\n",
       "      <th>V21</th>\n",
       "      <th>V22</th>\n",
       "      <th>V23</th>\n",
       "      <th>V24</th>\n",
       "      <th>V25</th>\n",
       "      <th>V26</th>\n",
       "      <th>V27</th>\n",
       "      <th>V28</th>\n",
       "      <th>Amount</th>\n",
       "    </tr>\n",
       "  </thead>\n",
       "  <tbody>\n",
       "    <tr>\n",
       "      <th>265518</th>\n",
       "      <td>161919.0</td>\n",
       "      <td>1.946747</td>\n",
       "      <td>-0.752526</td>\n",
       "      <td>-1.355130</td>\n",
       "      <td>-0.661630</td>\n",
       "      <td>1.502822</td>\n",
       "      <td>4.024933</td>\n",
       "      <td>-1.479661</td>\n",
       "      <td>1.139880</td>\n",
       "      <td>1.406819</td>\n",
       "      <td>...</td>\n",
       "      <td>-0.134435</td>\n",
       "      <td>0.076197</td>\n",
       "      <td>0.297537</td>\n",
       "      <td>0.307915</td>\n",
       "      <td>0.69098</td>\n",
       "      <td>-0.350316</td>\n",
       "      <td>-0.388907</td>\n",
       "      <td>0.077641</td>\n",
       "      <td>-0.032248</td>\n",
       "      <td>7.32</td>\n",
       "    </tr>\n",
       "    <tr>\n",
       "      <th>180305</th>\n",
       "      <td>124477.0</td>\n",
       "      <td>2.035149</td>\n",
       "      <td>-0.048880</td>\n",
       "      <td>-3.058693</td>\n",
       "      <td>0.247945</td>\n",
       "      <td>2.943487</td>\n",
       "      <td>3.298697</td>\n",
       "      <td>-0.002192</td>\n",
       "      <td>0.674782</td>\n",
       "      <td>0.045826</td>\n",
       "      <td>...</td>\n",
       "      <td>-0.227279</td>\n",
       "      <td>0.038628</td>\n",
       "      <td>0.228197</td>\n",
       "      <td>0.035542</td>\n",
       "      <td>0.70709</td>\n",
       "      <td>0.512885</td>\n",
       "      <td>-0.471198</td>\n",
       "      <td>0.002520</td>\n",
       "      <td>-0.069002</td>\n",
       "      <td>2.99</td>\n",
       "    </tr>\n",
       "  </tbody>\n",
       "</table>\n",
       "<p>2 rows × 30 columns</p>\n",
       "</div>"
      ],
      "text/plain": [
       "            Time        V1        V2        V3        V4        V5        V6  \\\n",
       "265518  161919.0  1.946747 -0.752526 -1.355130 -0.661630  1.502822  4.024933   \n",
       "180305  124477.0  2.035149 -0.048880 -3.058693  0.247945  2.943487  3.298697   \n",
       "\n",
       "              V7        V8        V9  ...       V20       V21       V22  \\\n",
       "265518 -1.479661  1.139880  1.406819  ... -0.134435  0.076197  0.297537   \n",
       "180305 -0.002192  0.674782  0.045826  ... -0.227279  0.038628  0.228197   \n",
       "\n",
       "             V23      V24       V25       V26       V27       V28  Amount  \n",
       "265518  0.307915  0.69098 -0.350316 -0.388907  0.077641 -0.032248    7.32  \n",
       "180305  0.035542  0.70709  0.512885 -0.471198  0.002520 -0.069002    2.99  \n",
       "\n",
       "[2 rows x 30 columns]"
      ]
     },
     "execution_count": 60,
     "metadata": {},
     "output_type": "execute_result"
    }
   ],
   "source": [
    "X_train.head(2)"
   ]
  },
  {
   "cell_type": "code",
   "execution_count": 61,
   "metadata": {},
   "outputs": [
    {
     "name": "stdout",
     "output_type": "stream",
     "text": [
      "Selecting features with genetic algorithm.\n",
      "gen\tnevals\tavg                    \tstd                    \tmin                    \tmax                    \n",
      "0  \t50    \t[0.68212798 3.48      ]\t[0.11945842 1.37462722]\t[0.49954863 1.        ]\t[0.84357876 5.        ]\n",
      "1  \t24    \t[-1599.35022035     4.48      ]\t[3.66634414e+03 1.43164241e+00]\t[-1.e+04  1.e+00]      \t[0.8439416 8.       ]  \n",
      "2  \t26    \t[-1199.28381291     4.44      ]\t[3.24987983e+03 1.51208465e+00]\t[-1.e+04  1.e+00]      \t[0.85200198 9.        ]\n",
      "3  \t37    \t[-1999.34586596     4.56      ]\t[4.00032707e+03 1.51208465e+00]\t[-1.e+04  1.e+00]      \t[0.85556775 9.        ]\n",
      "4  \t20    \t[-1399.27591309     4.58      ]\t[3.47016246e+03 1.07870292e+00]\t[-1.e+04  3.e+00]      \t[0.85556775 8.        ]\n",
      "5  \t30    \t[-1599.28716329     4.64      ]\t[3.66637166e+03 1.01508620e+00]\t[-1.e+04  3.e+00]      \t[0.8611715 8.       ]  \n",
      "6  \t27    \t[-1199.24999869     4.62      ]\t[3.24989232e+03 9.14111591e-01]\t[-1.e+04  3.e+00]      \t[0.8611715 7.       ]  \n",
      "7  \t27    \t[-1599.28229416     4.84      ]\t[3.66637379e+03 8.80000000e-01]\t[-1.e+04  3.e+00]      \t[0.8611715 7.       ]  \n",
      "8  \t26    \t[-1199.24805865     4.62      ]\t[3.24989303e+03 1.05621967e+00]\t[-1.e+04  3.e+00]      \t[0.86156988 9.        ]\n",
      "9  \t24    \t[-799.21117232    4.54      ]  \t[2.71316461e+03 8.29698741e-01]\t[-1.e+04  3.e+00]      \t[0.86156988 8.        ]\n",
      "10 \t18    \t[-599.190856    4.66    ]      \t[2.37507284e+03 8.15107355e-01]\t[-1.e+04  3.e+00]      \t[0.86302497 8.        ]\n",
      "11 \t23    \t[-1399.25931864     4.96      ]\t[3.47016916e+03 7.20000000e-01]\t[-1.e+04  4.e+00]      \t[0.86302497 8.        ]\n",
      "12 \t32    \t[-1799.29367776     5.14      ]\t[3.84220547e+03 7.48598691e-01]\t[-1.e+04  4.e+00]      \t[0.86302497 8.        ]\n",
      "13 \t30    \t[-999.22559064    5.12      ]  \t[3.00025814e+03 9.08625335e-01]\t[-1.e+04  4.e+00]      \t[0.86302497 9.        ]\n",
      "14 \t21    \t[-599.1895944    5.02     ]    \t[2.37507316e+03 4.23792402e-01]\t[-1.e+04  4.e+00]      \t[0.86302497 7.        ]\n",
      "15 \t38    \t[-1399.25931605     5.14      ]\t[3.47016916e+03 6.93108938e-01]\t[-1.e+04  4.e+00]      \t[0.86302497 8.        ]\n",
      "16 \t27    \t[-1399.25779852     5.26      ]\t[3.47016977e+03 6.87313611e-01]\t[-1.e+04  5.e+00]      \t[0.86302497 8.        ]\n",
      "17 \t26    \t[-599.19007641    5.04      ]  \t[2.37507304e+03 2.80000000e-01]\t[-1.e+04  4.e+00]      \t[0.86302497 6.        ]\n",
      "18 \t33    \t[-799.20618865    5.12      ]  \t[2.71316608e+03 4.74973683e-01]\t[-1.e+04  5.e+00]      \t[0.86316569 8.        ]\n",
      "19 \t25    \t[-2199.32711334     5.4       ]\t[4.14282040e+03 9.38083152e-01]\t[-1.e+04  5.e+00]      \t[ 0.86316569 10.        ]\n",
      "20 \t26    \t[-1399.2590606     5.06     ]  \t[3.47016926e+03 4.65188134e-01]\t[-1.e+04  4.e+00]      \t[0.86316569 6.        ]  \n",
      "21 \t23    \t[-1399.25783045     5.16      ]\t[3.47016976e+03 6.11882342e-01]\t[-1.e+04  4.e+00]      \t[0.86316569 8.        ]  \n",
      "22 \t26    \t[-1799.29263345     5.14      ]\t[3.84220596e+03 5.29528092e-01]\t[-1.e+04  4.e+00]      \t[0.86316569 7.        ]  \n",
      "23 \t33    \t[-1999.30992856     5.26      ]\t[4.00034504e+03 6.26418391e-01]\t[-1.e+04  4.e+00]      \t[0.86316569 7.        ]  \n",
      "24 \t26    \t[-1799.29220413     5.34      ]\t[3.84220616e+03 8.62786184e-01]\t[-1.e+04  4.e+00]      \t[0.86316569 8.        ]  \n",
      "25 \t26    \t[-1399.2576988     5.12     ]  \t[3.47016981e+03 5.52810998e-01]\t[-1.e+04  4.e+00]      \t[0.86316569 7.        ]  \n",
      "26 \t24    \t[-1399.25820193     5.12      ]\t[3.47016961e+03 6.52380257e-01]\t[-1.e+04  4.e+00]      \t[0.86316569 8.        ]  \n",
      "27 \t22    \t[-199.15536103    4.74      ]  \t[1.40012066e+03 5.58927544e-01]\t[-1.e+04  4.e+00]      \t[0.86562177 7.        ]  \n",
      "28 \t27    \t[-399.17226778    4.58      ]  \t[1.95976075e+03 6.66033032e-01]\t[-1.e+04  3.e+00]      \t[0.86562177 7.        ]  \n",
      "29 \t34    \t[-1599.27576922     4.7       ]\t[3.66637664e+03 1.00498756e+00]\t[-1.e+04  4.e+00]      \t[0.86562177 8.        ]  \n",
      "30 \t30    \t[-1599.27542546     4.64      ]\t[3.66637679e+03 8.66256313e-01]\t[-1.e+04  3.e+00]      \t[0.86562177 7.        ]  \n",
      "31 \t36    \t[-999.22184807    4.8       ]  \t[3.00025938e+03 6.00000000e-01]\t[-1.e+04  4.e+00]      \t[0.86562177 6.        ]  \n",
      "32 \t28    \t[-999.22341225    5.1       ]  \t[3.00025886e+03 9.21954446e-01]\t[-1.e+04  3.e+00]      \t[0.86562177 9.        ]  \n",
      "33 \t32    \t[-1199.23873603     5.14      ]\t[3.24989648e+03 6.32771681e-01]\t[-1.e+04  3.e+00]      \t[0.86562177 8.        ]  \n",
      "34 \t28    \t[-599.18646391    5.1       ]  \t[2.37507395e+03 4.58257569e-01]\t[-1.e+04  5.e+00]      \t[0.86562177 8.        ]  \n",
      "35 \t25    \t[-599.18727863    5.08      ]  \t[2.37507375e+03 4.40000000e-01]\t[-1.e+04  4.e+00]      \t[0.86562177 7.        ]  \n",
      "36 \t30    \t[-1199.23830196     5.14      ]\t[3.24989664e+03 5.29528092e-01]\t[-1.e+04  4.e+00]      \t[0.86562177 8.        ]  \n",
      "37 \t40    \t[-1399.25622504     5.16      ]\t[3.47017041e+03 4.17612260e-01]\t[-1.e+04  5.e+00]      \t[0.86562177 7.        ]  \n"
     ]
    }
   ],
   "source": [
    "selector = GeneticSelectionCV(LogisticRegression(C=10, max_iter=10000, random_state=42),\n",
    "                              cv= 2, # cv=scv,\n",
    "                              verbose=2,\n",
    "                              scoring=\"f1_macro\",\n",
    "                              max_features=5,\n",
    "                              n_population=50,\n",
    "                              crossover_proba=0.5,\n",
    "                              mutation_proba=0.2,\n",
    "                              n_generations=40,\n",
    "                              crossover_independent_proba=0.5,\n",
    "                              mutation_independent_proba=0.05,\n",
    "                              tournament_size=3,\n",
    "                              n_gen_no_change=10,\n",
    "                              caching=True,\n",
    "                              n_jobs=-1)\n",
    "\n",
    "selector = selector.fit(X_train, y_train)"
   ]
  },
  {
   "cell_type": "code",
   "execution_count": 62,
   "metadata": {},
   "outputs": [
    {
     "data": {
      "text/plain": [
       "array([False, False,  True, False, False, False, False, False, False,\n",
       "       False,  True, False, False, False,  True, False,  True, False,\n",
       "       False, False, False, False, False, False, False, False, False,\n",
       "       False,  True, False])"
      ]
     },
     "execution_count": 62,
     "metadata": {},
     "output_type": "execute_result"
    }
   ],
   "source": [
    "selector.support_"
   ]
  },
  {
   "cell_type": "code",
   "execution_count": 63,
   "metadata": {},
   "outputs": [
    {
     "data": {
      "text/plain": [
       "LogisticRegression(C=10, max_iter=10000, random_state=42)"
      ]
     },
     "execution_count": 63,
     "metadata": {},
     "output_type": "execute_result"
    },
    {
     "name": "stdout",
     "output_type": "stream",
     "text": [
      "              precision    recall  f1-score   support\n",
      "\n",
      "           0       1.00      1.00      1.00     56864\n",
      "           1       0.83      0.60      0.70        98\n",
      "\n",
      "    accuracy                           1.00     56962\n",
      "   macro avg       0.92      0.80      0.85     56962\n",
      "weighted avg       1.00      1.00      1.00     56962\n",
      "\n"
     ]
    }
   ],
   "source": [
    "# get the selected features\n",
    "cols = X.columns.tolist()\n",
    "selected_feats = [cols[i] for i in np.where(selector.support_)[0]]\n",
    "\n",
    "# train and test\n",
    "clf = LogisticRegression(C=10, max_iter=10000, random_state=42)\n",
    "clf.fit(X_train[selected_feats], y_train)\n",
    "preds = clf.predict(X_test[selected_feats])\n",
    "print(classification_report(y_test, preds))"
   ]
  },
  {
   "cell_type": "code",
   "execution_count": 64,
   "metadata": {},
   "outputs": [
    {
     "data": {
      "text/plain": [
       "<sklearn.metrics._plot.confusion_matrix.ConfusionMatrixDisplay at 0x2763c0caf88>"
      ]
     },
     "execution_count": 64,
     "metadata": {},
     "output_type": "execute_result"
    },
    {
     "data": {
      "image/png": "[encoded data removed]",
      "text/plain": [
       "<Figure size 432x288 with 2 Axes>"
      ]
     },
     "metadata": {
      "needs_background": "light"
     },
     "output_type": "display_data"
    }
   ],
   "source": [
    "plot_confusion_matrix(clf, X_test[selected_feats], y_test)"
   ]
  },
  {
   "cell_type": "markdown",
   "metadata": {},
   "source": [
    "## 예제"
   ]
  },
  {
   "cell_type": "code",
   "execution_count": 65,
   "metadata": {},
   "outputs": [
    {
     "name": "stdout",
     "output_type": "stream",
     "text": [
      "(150, 24)\n"
     ]
    }
   ],
   "source": [
    "from sklearn import datasets, linear_model\n",
    "iris = datasets.load_iris()\n",
    "\n",
    "# Some noisy data not correlated\n",
    "E = np.random.uniform(0, 0.1, size=(len(iris.data), 20))\n",
    "\n",
    "X = np.hstack((iris.data, E))\n",
    "y = iris.target\n",
    "print(X.shape)"
   ]
  },
  {
   "cell_type": "markdown",
   "metadata": {},
   "source": [
    "## n_generations가 길면 최적화"
   ]
  },
  {
   "cell_type": "code",
   "execution_count": 66,
   "metadata": {},
   "outputs": [
    {
     "name": "stdout",
     "output_type": "stream",
     "text": [
      "Selecting features with genetic algorithm.\n",
      "gen\tnevals\tavg                    \tstd                    \tmin                    \tmax        \n",
      "0  \t50    \t[0.44306667 3.08      ]\t[0.22215194 1.45382255]\t[0.16666667 1.        ]\t[0.92 5.  ]\n",
      "1  \t27    \t[-799.396    3.78 ]    \t[2.71311011e+03 1.57848028e+00]\t[-10000.      0.]      \t[0.92 6.  ]\n",
      "2  \t29    \t[-2199.35813333     4.88      ]\t[4.14280392e+03 1.21061968e+00]\t[-1.e+04  1.e+00]      \t[0.92 8.  ]\n",
      "3  \t27    \t[-999.21826667    4.66      ]  \t[3.00026058e+03 8.62786184e-01]\t[-1.e+04  3.e+00]      \t[0.92 7.  ]\n",
      "4  \t22    \t[-199.10693333    4.4       ]  \t[1.40012758e+03 7.74596669e-01]\t[-1.e+04  2.e+00]      \t[0.92 6.  ]\n",
      "5  \t34    \t[-399.1168    3.98  ]          \t[1.95977208e+03 1.14000000e+00]\t[-1.e+04  2.e+00]      \t[0.92 8.  ]\n",
      "6  \t34    \t[-599.1352    3.52  ]          \t[2.37508691e+03 1.11785509e+00]\t[-1.e+04  2.e+00]      \t[0.92 6.  ]\n",
      "7  \t26    \t[-199.1036    2.9   ]          \t[1.40012806e+03 1.00498756e+00]\t[-1.e+04  2.e+00]      \t[0.93333333 6.        ]\n",
      "8  \t36    \t[0.91786667 2.38      ]        \t[0.01892394 0.84593144]        \t[0.78666667 1.        ]\t[0.93333333 5.        ]\n",
      "9  \t31    \t[-199.09626667    2.7       ]  \t[1.40012910e+03 1.36014705e+00]\t[-1.e+04  2.e+00]      \t[0.93333333 9.        ]\n",
      "10 \t31    \t[0.9256 3.18  ]                \t[0.00658078 1.29135588]        \t[0.92 2.  ]            \t[0.93333333 5.        ]\n",
      "11 \t31    \t[-799.14773333    4.16      ]  \t[2.71318331e+03 1.28623482e+00]\t[-1.e+04  2.e+00]      \t[0.93333333 8.        ]\n",
      "12 \t26    \t[-599.1244    3.86  ]          \t[2.37508963e+03 1.09562767e+00]\t[-1.e+04  2.e+00]      \t[0.93333333 7.        ]\n",
      "13 \t23    \t[-199.0856    3.4   ]          \t[1.40013063e+03 7.48331477e-01]\t[-1.e+04  3.e+00]      \t[0.96 6.  ]            \n",
      "14 \t26    \t[0.93413333 3.06      ]        \t[0.00860388 0.31048349]        \t[0.89333333 2.        ]\t[0.96 4.  ]            \n",
      "15 \t27    \t[-199.07946667    3.44      ]  \t[1.40013150e+03 7.78716893e-01]\t[-1.e+04  3.e+00]      \t[0.96 7.  ]            \n",
      "16 \t38    \t[-199.0736    3.76  ]          \t[1.40013234e+03 8.84533775e-01]\t[-1.e+04  3.e+00]      \t[0.96 7.  ]            \n",
      "17 \t29    \t[-999.14453333    4.2       ]  \t[3.00028516e+03 1.03923048e+00]\t[-1.e+04  3.e+00]      \t[0.96 8.  ]            \n",
      "18 \t17    \t[-599.1024    4.2   ]          \t[2.37509519e+03 6.00000000e-01]\t[-1.e+04  3.e+00]      \t[0.96 6.  ]            \n",
      "19 \t32    \t[-399.08026667    4.12      ]  \t[1.95977953e+03 5.52810998e-01]\t[-1.e+04  3.e+00]      \t[0.96 7.  ]            \n",
      "20 \t33    \t[-399.0792    4.14  ]          \t[1.95977975e+03 4.47660586e-01]\t[-1.e+04  4.e+00]      \t[0.96 6.  ]            \n",
      "21 \t26    \t[-799.1168    4.28  ]          \t[2.71319243e+03 6.01331855e-01]\t[-1.e+04  4.e+00]      \t[0.96 6.  ]            \n",
      "22 \t28    \t[0.95813333 4.02      ]        \t[0.01306667 0.37363083]        \t[0.86666667 2.        ]\t[0.96 5.  ]            \n",
      "23 \t25    \t[-599.09933333    4.14      ]  \t[2.37509597e+03 6.32771681e-01]\t[-1.e+04  3.e+00]      \t[0.96 7.  ]            \n",
      "[ True  True  True  True False False False False False False False False\n",
      " False False False False False False False False False False False False]\n"
     ]
    }
   ],
   "source": [
    "from genetic_selection import GeneticSelectionCV\n",
    "\n",
    "estimator = linear_model.LogisticRegression(solver=\"liblinear\", multi_class=\"ovr\")\n",
    "\n",
    "selector = GeneticSelectionCV(estimator, cv=5,\n",
    "                              verbose=1, scoring=\"accuracy\",\n",
    "                              \n",
    "                              max_features=5, n_population=50,\n",
    "                              \n",
    "                              crossover_proba=0.5, mutation_proba=0.2, n_generations=100,\n",
    "                              n_gen_no_change=10, caching=True, \n",
    "                              n_jobs=-1)\n",
    "selector = selector.fit(X, y)\n",
    "print(selector.support_)"
   ]
  },
  {
   "cell_type": "markdown",
   "metadata": {},
   "source": [
    "# End"
   ]
  },
  {
   "cell_type": "code",
   "execution_count": null,
   "metadata": {},
   "outputs": [],
   "source": []
  }
 ],
 "metadata": {
  "kernelspec": {
   "display_name": "Python 3",
   "language": "python",
   "name": "python3"
  },
  "language_info": {
   "codemirror_mode": {
    "name": "ipython",
    "version": 3
   },
   "file_extension": ".py",
   "mimetype": "text/x-python",
   "name": "python",
   "nbconvert_exporter": "python",
   "pygments_lexer": "ipython3",
   "version": "3.7.4"
  }
 },
 "nbformat": 4,
 "nbformat_minor": 2
}
