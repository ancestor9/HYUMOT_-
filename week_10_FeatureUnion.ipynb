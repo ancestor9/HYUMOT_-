{
 "cells": [
  {
   "cell_type": "markdown",
   "metadata": {},
   "source": [
    "# 데이터 전처리 및 특성공학에 유용한 사이킷런 모듈"
   ]
  },
  {
   "cell_type": "code",
   "execution_count": 1,
   "metadata": {},
   "outputs": [],
   "source": [
    "# 명령 결과 모두 보기\n",
    "from IPython.core.interactiveshell import InteractiveShell\n",
    "InteractiveShell.ast_node_interactivity = 'all'\n",
    "\n",
    "# 버전 경고 무시\n",
    "import warnings\n",
    "warnings.filterwarnings('ignore')\n",
    "\n",
    "# 판다스와 넘피\n",
    "import pandas as pd\n",
    "import numpy as np\n",
    "\n",
    "# 그림 그리기\n",
    "import matplotlib.pyplot as plt\n",
    "import seaborn as sns; sns.set()\n",
    "get_ipython().run_line_magic('matplotlib', 'inline')\n",
    "plt.rcParams['font.family']='Malgun Gothic' # 한글폰트"
   ]
  },
  {
   "cell_type": "code",
   "execution_count": 2,
   "metadata": {},
   "outputs": [],
   "source": [
    "def summary(df) :\n",
    "    tf = pd.DataFrame({'데이터형태(dtypes)' : df.dtypes,\n",
    "                       '비 결측치 수(notnull': df.notnull().sum(),\n",
    "                       '결측치 수(null)' : df.isnull().sum(),\n",
    "                       '고유값 수(nunique)' : df.nunique()})\n",
    "    return tf"
   ]
  },
  {
   "cell_type": "markdown",
   "metadata": {},
   "source": [
    "# <font color='purple'> 1. sklearn.pipeline.FeatureUnion\n",
    "\n",
    "### Concatenates results of multiple transformer objects.\n",
    "\n",
    "This estimator applies a list of transformer objects in parallel to the input data, then concatenates the results. This is useful to combine several feature extraction mechanisms into a single transformer.\n",
    "\n",
    "Parameters of the transformers may be set using its name and the parameter name separated by a ‘__’. A transformer may be replaced entirely by setting the parameter with its name to another transformer, or removed by setting to ‘drop’\n",
    "  * https://scikit-learn.org/stable/modules/generated/sklearn.pipeline.FeatureUnion.html"
   ]
  },
  {
   "cell_type": "code",
   "execution_count": 3,
   "metadata": {},
   "outputs": [
    {
     "data": {
      "text/plain": [
       "array([[ 1.5       ,  3.03954967,  0.87243213],\n",
       "       [-1.5       ,  5.72586357, -0.46312679]])"
      ]
     },
     "execution_count": 3,
     "metadata": {},
     "output_type": "execute_result"
    }
   ],
   "source": [
    "from sklearn.pipeline import FeatureUnion\n",
    "from sklearn.decomposition import PCA, TruncatedSVD\n",
    "union = FeatureUnion([(\"pca\", PCA(n_components=1)),\n",
    "                      (\"svd\", TruncatedSVD(n_components=2))])\n",
    "X = [[0., 1., 3], [2., 2., 5]]\n",
    "union.fit_transform(X)"
   ]
  },
  {
   "cell_type": "markdown",
   "metadata": {},
   "source": [
    "- FeatureUnion combines several transformer objects into a new transformer that combines their output. \n",
    "- A FeatureUnion takes a list of transformer objects. During fitting, each of these is fit to the data independently. \n",
    "- The transformers are applied in parallel, and the feature matrices they output are concatenated side-by-side into a larger matrix.\n",
    "\n",
    "When you want to apply different transformations to each field of the data, see the related class ColumnTransformer.\n",
    "\n",
    "<font color='red'> FeatureUnion serves the same purposes as Pipeline - convenience and joint parameter estimation and validation.\n",
    "     * FeatureUnion and Pipeline can be combined to create complex models.\n",
    "\n",
    "<font color='green'> (A FeatureUnion has no way of checking whether two transformers might produce identical features. It only produces a union when the feature sets are disjoint, and making sure they are is the caller’s responsibility.)"
   ]
  },
  {
   "cell_type": "markdown",
   "metadata": {},
   "source": [
    "A FeatureUnion is built using a list of (key, value) pairs, where the key is the name you want to give to a given transformation (an arbitrary string; it only serves as an identifier) and value is an estimator object:\n",
    "\n",
    "* https://scikit-learn.org/stable/modules/compose.html#feature-union"
   ]
  },
  {
   "cell_type": "code",
   "execution_count": 4,
   "metadata": {},
   "outputs": [
    {
     "data": {
      "text/plain": [
       "FeatureUnion(transformer_list=[('linear_pca', PCA()),\n",
       "                               ('kernel_pca', KernelPCA())])"
      ]
     },
     "execution_count": 4,
     "metadata": {},
     "output_type": "execute_result"
    }
   ],
   "source": [
    "from sklearn.pipeline import FeatureUnion\n",
    "from sklearn.decomposition import PCA\n",
    "from sklearn.decomposition import KernelPCA\n",
    "estimators = [('linear_pca', PCA()), ('kernel_pca', KernelPCA())]\n",
    "combined = FeatureUnion(estimators)\n",
    "combined"
   ]
  },
  {
   "cell_type": "markdown",
   "metadata": {},
   "source": [
    "Like pipelines, feature unions have a shorthand constructor called make_union that does not require explicit naming of the components.\n",
    "\n",
    "Like Pipeline, individual steps may be replaced using set_params, and ignored by setting to 'drop':"
   ]
  },
  {
   "cell_type": "code",
   "execution_count": 5,
   "metadata": {},
   "outputs": [
    {
     "data": {
      "text/plain": [
       "FeatureUnion(transformer_list=[('linear_pca', PCA()), ('kernel_pca', 'drop')])"
      ]
     },
     "execution_count": 5,
     "metadata": {},
     "output_type": "execute_result"
    }
   ],
   "source": [
    "combined.set_params(kernel_pca='drop')"
   ]
  },
  {
   "cell_type": "markdown",
   "metadata": {},
   "source": [
    "## 예제. Concatenating multiple feature extraction methods\n",
    "In many real-world examples, there are many ways to extract features from a dataset. Often it is beneficial to combine several methods to obtain good performance. This example shows how to use FeatureUnion to combine features obtained by PCA and univariate selection.\n",
    "\n",
    "Combining features using this transformer has the benefit that it allows cross validation and grid searches over the whole process.\n",
    "\n",
    "The combination used in this example is not particularly helpful on this dataset and is only used to illustrate the usage of FeatureUnion.\n",
    "https://scikit-learn.org/stable/auto_examples/compose/plot_feature_union.html#sphx-glr-auto-examples-compose-plot-feature-union-py"
   ]
  },
  {
   "cell_type": "code",
   "execution_count": 6,
   "metadata": {},
   "outputs": [],
   "source": [
    "# Author: Andreas Mueller <amueller@ais.uni-bonn.de>\n",
    "#\n",
    "# License: BSD 3 clause\n",
    "\n",
    "from sklearn.pipeline import Pipeline, FeatureUnion\n",
    "from sklearn.model_selection import GridSearchCV\n",
    "from sklearn.svm import SVC\n",
    "from sklearn.datasets import load_iris\n",
    "from sklearn.decomposition import PCA\n",
    "from sklearn.feature_selection import SelectKBest\n",
    "\n",
    "iris = load_iris()\n",
    "\n",
    "X, y = iris.data, iris.target"
   ]
  },
  {
   "cell_type": "code",
   "execution_count": 14,
   "metadata": {},
   "outputs": [],
   "source": [
    "# This dataset is way too high-dimensional. Better do PCA:\n",
    "pca = PCA(n_components=2)\n",
    "\n",
    "# Maybe some original features were good, too?\n",
    "selection = SelectKBest(k=1)\n",
    "\n",
    "# Build estimator from PCA and Univariate selection:\n",
    "\n",
    "combined_features = FeatureUnion([(\"pca\", pca), (\"univ_select\", selection)])"
   ]
  },
  {
   "cell_type": "code",
   "execution_count": 15,
   "metadata": {},
   "outputs": [
    {
     "name": "stdout",
     "output_type": "stream",
     "text": [
      "Combined space has 3 features\n"
     ]
    }
   ],
   "source": [
    "# Use combined features to transform dataset:\n",
    "X_features = combined_features.fit(X, y).transform(X)\n",
    "print(\"Combined space has\", X_features.shape[1], \"features\")"
   ]
  },
  {
   "cell_type": "code",
   "execution_count": 16,
   "metadata": {},
   "outputs": [
    {
     "name": "stdout",
     "output_type": "stream",
     "text": [
      "Fitting 5 folds for each of 18 candidates, totalling 90 fits\n",
      "[CV] features__pca__n_components=1, features__univ_select__k=1, svm__C=0.1 \n",
      "[CV]  features__pca__n_components=1, features__univ_select__k=1, svm__C=0.1, score=0.933, total=   0.0s\n",
      "[CV] features__pca__n_components=1, features__univ_select__k=1, svm__C=0.1 \n",
      "[CV]  features__pca__n_components=1, features__univ_select__k=1, svm__C=0.1, score=0.933, total=   0.0s\n",
      "[CV] features__pca__n_components=1, features__univ_select__k=1, svm__C=0.1 \n",
      "[CV]  features__pca__n_components=1, features__univ_select__k=1, svm__C=0.1, score=0.867, total=   0.0s\n",
      "[CV] features__pca__n_components=1, features__univ_select__k=1, svm__C=0.1 \n",
      "[CV]  features__pca__n_components=1, features__univ_select__k=1, svm__C=0.1, score=0.933, total=   0.0s\n",
      "[CV] features__pca__n_components=1, features__univ_select__k=1, svm__C=0.1 \n",
      "[CV]  features__pca__n_components=1, features__univ_select__k=1, svm__C=0.1, score=1.000, total=   0.0s\n",
      "[CV] features__pca__n_components=1, features__univ_select__k=1, svm__C=1 \n",
      "[CV]  features__pca__n_components=1, features__univ_select__k=1, svm__C=1, score=0.900, total=   0.0s\n",
      "[CV] features__pca__n_components=1, features__univ_select__k=1, svm__C=1 \n",
      "[CV]  features__pca__n_components=1, features__univ_select__k=1, svm__C=1, score=1.000, total=   0.0s\n",
      "[CV] features__pca__n_components=1, features__univ_select__k=1, svm__C=1 \n",
      "[CV]  features__pca__n_components=1, features__univ_select__k=1, svm__C=1, score=0.867, total=   0.0s\n",
      "[CV] features__pca__n_components=1, features__univ_select__k=1, svm__C=1 \n",
      "[CV]  features__pca__n_components=1, features__univ_select__k=1, svm__C=1, score=0.933, total=   0.0s\n",
      "[CV] features__pca__n_components=1, features__univ_select__k=1, svm__C=1 \n",
      "[CV]  features__pca__n_components=1, features__univ_select__k=1, svm__C=1, score=1.000, total=   0.0s\n",
      "[CV] features__pca__n_components=1, features__univ_select__k=1, svm__C=10 \n",
      "[CV]  features__pca__n_components=1, features__univ_select__k=1, svm__C=10, score=0.933, total=   0.0s\n",
      "[CV] features__pca__n_components=1, features__univ_select__k=1, svm__C=10 \n",
      "[CV]  features__pca__n_components=1, features__univ_select__k=1, svm__C=10, score=1.000, total=   0.0s\n",
      "[CV] features__pca__n_components=1, features__univ_select__k=1, svm__C=10 \n",
      "[CV]  features__pca__n_components=1, features__univ_select__k=1, svm__C=10, score=0.900, total=   0.0s\n",
      "[CV] features__pca__n_components=1, features__univ_select__k=1, svm__C=10 \n",
      "[CV]  features__pca__n_components=1, features__univ_select__k=1, svm__C=10, score=0.933, total=   0.0s\n",
      "[CV] features__pca__n_components=1, features__univ_select__k=1, svm__C=10 \n",
      "[CV]  features__pca__n_components=1, features__univ_select__k=1, svm__C=10, score=1.000, total=   0.0s\n",
      "[CV] features__pca__n_components=1, features__univ_select__k=2, svm__C=0.1 \n",
      "[CV]  features__pca__n_components=1, features__univ_select__k=2, svm__C=0.1, score=0.933, total=   0.0s\n",
      "[CV] features__pca__n_components=1, features__univ_select__k=2, svm__C=0.1 \n",
      "[CV]  features__pca__n_components=1, features__univ_select__k=2, svm__C=0.1, score=0.967, total=   0.0s\n",
      "[CV] features__pca__n_components=1, features__univ_select__k=2, svm__C=0.1 \n",
      "[CV]  features__pca__n_components=1, features__univ_select__k=2, svm__C=0.1, score=0.933, total=   0.0s\n",
      "[CV] features__pca__n_components=1, features__univ_select__k=2, svm__C=0.1 \n",
      "[CV]  features__pca__n_components=1, features__univ_select__k=2, svm__C=0.1, score=0.933, total=   0.0s\n",
      "[CV] features__pca__n_components=1, features__univ_select__k=2, svm__C=0.1 \n",
      "[CV]  features__pca__n_components=1, features__univ_select__k=2, svm__C=0.1, score=1.000, total=   0.0s\n",
      "[CV] features__pca__n_components=1, features__univ_select__k=2, svm__C=1 \n",
      "[CV]  features__pca__n_components=1, features__univ_select__k=2, svm__C=1, score=0.933, total=   0.0s\n",
      "[CV] features__pca__n_components=1, features__univ_select__k=2, svm__C=1 \n",
      "[CV]  features__pca__n_components=1, features__univ_select__k=2, svm__C=1, score=0.967, total=   0.0s\n",
      "[CV] features__pca__n_components=1, features__univ_select__k=2, svm__C=1 \n",
      "[CV]  features__pca__n_components=1, features__univ_select__k=2, svm__C=1, score=0.933, total=   0.0s\n",
      "[CV] features__pca__n_components=1, features__univ_select__k=2, svm__C=1 \n",
      "[CV]  features__pca__n_components=1, features__univ_select__k=2, svm__C=1, score=0.933, total=   0.0s\n",
      "[CV] features__pca__n_components=1, features__univ_select__k=2, svm__C=1 \n",
      "[CV]  features__pca__n_components=1, features__univ_select__k=2, svm__C=1, score=1.000, total=   0.0s\n",
      "[CV] features__pca__n_components=1, features__univ_select__k=2, svm__C=10 \n",
      "[CV]  features__pca__n_components=1, features__univ_select__k=2, svm__C=10, score=0.967, total=   0.0s\n",
      "[CV] features__pca__n_components=1, features__univ_select__k=2, svm__C=10 \n",
      "[CV]  features__pca__n_components=1, features__univ_select__k=2, svm__C=10, score=0.967, total=   0.0s\n",
      "[CV] features__pca__n_components=1, features__univ_select__k=2, svm__C=10 \n",
      "[CV]  features__pca__n_components=1, features__univ_select__k=2, svm__C=10, score=0.933, total=   0.0s\n",
      "[CV] features__pca__n_components=1, features__univ_select__k=2, svm__C=10 \n",
      "[CV]  features__pca__n_components=1, features__univ_select__k=2, svm__C=10, score=0.933, total=   0.0s\n",
      "[CV] features__pca__n_components=1, features__univ_select__k=2, svm__C=10 \n",
      "[CV]  features__pca__n_components=1, features__univ_select__k=2, svm__C=10, score=1.000, total=   0.0s\n",
      "[CV] features__pca__n_components=2, features__univ_select__k=1, svm__C=0.1 \n",
      "[CV]  features__pca__n_components=2, features__univ_select__k=1, svm__C=0.1, score=0.933, total=   0.0s\n",
      "[CV] features__pca__n_components=2, features__univ_select__k=1, svm__C=0.1 \n",
      "[CV]  features__pca__n_components=2, features__univ_select__k=1, svm__C=0.1, score=1.000, total=   0.0s\n",
      "[CV] features__pca__n_components=2, features__univ_select__k=1, svm__C=0.1 \n",
      "[CV]  features__pca__n_components=2, features__univ_select__k=1, svm__C=0.1, score=0.867, total=   0.0s\n",
      "[CV] features__pca__n_components=2, features__univ_select__k=1, svm__C=0.1 \n",
      "[CV]  features__pca__n_components=2, features__univ_select__k=1, svm__C=0.1, score=0.933, total=   0.0s\n",
      "[CV] features__pca__n_components=2, features__univ_select__k=1, svm__C=0.1 \n",
      "[CV]  features__pca__n_components=2, features__univ_select__k=1, svm__C=0.1, score=1.000, total=   0.0s\n",
      "[CV] features__pca__n_components=2, features__univ_select__k=1, svm__C=1 \n",
      "[CV]  features__pca__n_components=2, features__univ_select__k=1, svm__C=1, score=0.967, total=   0.0s\n",
      "[CV] features__pca__n_components=2, features__univ_select__k=1, svm__C=1 \n",
      "[CV]  features__pca__n_components=2, features__univ_select__k=1, svm__C=1, score=1.000, total=   0.0s\n",
      "[CV] features__pca__n_components=2, features__univ_select__k=1, svm__C=1 \n",
      "[CV]  features__pca__n_components=2, features__univ_select__k=1, svm__C=1, score=0.933, total=   0.0s\n",
      "[CV] features__pca__n_components=2, features__univ_select__k=1, svm__C=1 \n",
      "[CV]  features__pca__n_components=2, features__univ_select__k=1, svm__C=1, score=0.933, total=   0.0s\n",
      "[CV] features__pca__n_components=2, features__univ_select__k=1, svm__C=1 \n",
      "[CV]  features__pca__n_components=2, features__univ_select__k=1, svm__C=1, score=1.000, total=   0.0s\n",
      "[CV] features__pca__n_components=2, features__univ_select__k=1, svm__C=10 \n",
      "[CV]  features__pca__n_components=2, features__univ_select__k=1, svm__C=10, score=0.967, total=   0.0s\n",
      "[CV] features__pca__n_components=2, features__univ_select__k=1, svm__C=10 \n",
      "[CV]  features__pca__n_components=2, features__univ_select__k=1, svm__C=10, score=0.967, total=   0.0s\n",
      "[CV] features__pca__n_components=2, features__univ_select__k=1, svm__C=10 \n",
      "[CV]  features__pca__n_components=2, features__univ_select__k=1, svm__C=10, score=0.900, total=   0.0s\n",
      "[CV] features__pca__n_components=2, features__univ_select__k=1, svm__C=10 \n",
      "[CV]  features__pca__n_components=2, features__univ_select__k=1, svm__C=10, score=0.933, total=   0.0s\n",
      "[CV] features__pca__n_components=2, features__univ_select__k=1, svm__C=10 \n",
      "[CV]  features__pca__n_components=2, features__univ_select__k=1, svm__C=10, score=1.000, total=   0.0s\n",
      "[CV] features__pca__n_components=2, features__univ_select__k=2, svm__C=0.1 \n",
      "[CV]  features__pca__n_components=2, features__univ_select__k=2, svm__C=0.1, score=0.967, total=   0.0s\n",
      "[CV] features__pca__n_components=2, features__univ_select__k=2, svm__C=0.1 \n",
      "[CV]  features__pca__n_components=2, features__univ_select__k=2, svm__C=0.1, score=1.000, total=   0.0s\n",
      "[CV] features__pca__n_components=2, features__univ_select__k=2, svm__C=0.1 \n",
      "[CV]  features__pca__n_components=2, features__univ_select__k=2, svm__C=0.1, score=0.933, total=   0.0s\n",
      "[CV] features__pca__n_components=2, features__univ_select__k=2, svm__C=0.1 \n",
      "[CV]  features__pca__n_components=2, features__univ_select__k=2, svm__C=0.1, score=0.933, total=   0.0s\n",
      "[CV] features__pca__n_components=2, features__univ_select__k=2, svm__C=0.1 \n",
      "[CV]  features__pca__n_components=2, features__univ_select__k=2, svm__C=0.1, score=1.000, total=   0.0s\n",
      "[CV] features__pca__n_components=2, features__univ_select__k=2, svm__C=1 \n",
      "[CV]  features__pca__n_components=2, features__univ_select__k=2, svm__C=1, score=0.967, total=   0.0s\n",
      "[CV] features__pca__n_components=2, features__univ_select__k=2, svm__C=1 \n",
      "[CV]  features__pca__n_components=2, features__univ_select__k=2, svm__C=1, score=1.000, total=   0.0s\n",
      "[CV] features__pca__n_components=2, features__univ_select__k=2, svm__C=1 \n",
      "[CV]  features__pca__n_components=2, features__univ_select__k=2, svm__C=1, score=0.933, total=   0.0s\n",
      "[CV] features__pca__n_components=2, features__univ_select__k=2, svm__C=1 \n",
      "[CV]  features__pca__n_components=2, features__univ_select__k=2, svm__C=1, score=0.967, total=   0.0s\n",
      "[CV] features__pca__n_components=2, features__univ_select__k=2, svm__C=1 \n",
      "[CV]  features__pca__n_components=2, features__univ_select__k=2, svm__C=1, score=1.000, total=   0.0s\n",
      "[CV] features__pca__n_components=2, features__univ_select__k=2, svm__C=10 \n",
      "[CV]  features__pca__n_components=2, features__univ_select__k=2, svm__C=10, score=0.967, total=   0.0s\n",
      "[CV] features__pca__n_components=2, features__univ_select__k=2, svm__C=10 \n",
      "[CV]  features__pca__n_components=2, features__univ_select__k=2, svm__C=10, score=1.000, total=   0.0s\n",
      "[CV] features__pca__n_components=2, features__univ_select__k=2, svm__C=10 \n"
     ]
    },
    {
     "name": "stderr",
     "output_type": "stream",
     "text": [
      "[Parallel(n_jobs=1)]: Using backend SequentialBackend with 1 concurrent workers.\n",
      "[Parallel(n_jobs=1)]: Done   1 out of   1 | elapsed:    0.0s remaining:    0.0s\n",
      "[Parallel(n_jobs=1)]: Done   2 out of   2 | elapsed:    0.0s remaining:    0.0s\n",
      "[Parallel(n_jobs=1)]: Done   3 out of   3 | elapsed:    0.0s remaining:    0.0s\n",
      "[Parallel(n_jobs=1)]: Done   4 out of   4 | elapsed:    0.0s remaining:    0.0s\n",
      "[Parallel(n_jobs=1)]: Done   5 out of   5 | elapsed:    0.0s remaining:    0.0s\n",
      "[Parallel(n_jobs=1)]: Done   6 out of   6 | elapsed:    0.0s remaining:    0.0s\n",
      "[Parallel(n_jobs=1)]: Done   7 out of   7 | elapsed:    0.0s remaining:    0.0s\n",
      "[Parallel(n_jobs=1)]: Done   8 out of   8 | elapsed:    0.0s remaining:    0.0s\n",
      "[Parallel(n_jobs=1)]: Done   9 out of   9 | elapsed:    0.0s remaining:    0.0s\n"
     ]
    },
    {
     "name": "stdout",
     "output_type": "stream",
     "text": [
      "[CV]  features__pca__n_components=2, features__univ_select__k=2, svm__C=10, score=0.900, total=   0.0s\n",
      "[CV] features__pca__n_components=2, features__univ_select__k=2, svm__C=10 \n",
      "[CV]  features__pca__n_components=2, features__univ_select__k=2, svm__C=10, score=0.933, total=   0.0s\n",
      "[CV] features__pca__n_components=2, features__univ_select__k=2, svm__C=10 \n",
      "[CV]  features__pca__n_components=2, features__univ_select__k=2, svm__C=10, score=1.000, total=   0.0s\n",
      "[CV] features__pca__n_components=3, features__univ_select__k=1, svm__C=0.1 \n",
      "[CV]  features__pca__n_components=3, features__univ_select__k=1, svm__C=0.1, score=0.967, total=   0.0s\n",
      "[CV] features__pca__n_components=3, features__univ_select__k=1, svm__C=0.1 \n",
      "[CV]  features__pca__n_components=3, features__univ_select__k=1, svm__C=0.1, score=1.000, total=   0.0s\n",
      "[CV] features__pca__n_components=3, features__univ_select__k=1, svm__C=0.1 \n",
      "[CV]  features__pca__n_components=3, features__univ_select__k=1, svm__C=0.1, score=0.933, total=   0.0s\n",
      "[CV] features__pca__n_components=3, features__univ_select__k=1, svm__C=0.1 \n",
      "[CV]  features__pca__n_components=3, features__univ_select__k=1, svm__C=0.1, score=0.967, total=   0.0s\n",
      "[CV] features__pca__n_components=3, features__univ_select__k=1, svm__C=0.1 \n",
      "[CV]  features__pca__n_components=3, features__univ_select__k=1, svm__C=0.1, score=1.000, total=   0.0s\n",
      "[CV] features__pca__n_components=3, features__univ_select__k=1, svm__C=1 \n",
      "[CV]  features__pca__n_components=3, features__univ_select__k=1, svm__C=1, score=0.967, total=   0.0s\n",
      "[CV] features__pca__n_components=3, features__univ_select__k=1, svm__C=1 \n",
      "[CV]  features__pca__n_components=3, features__univ_select__k=1, svm__C=1, score=1.000, total=   0.0s\n",
      "[CV] features__pca__n_components=3, features__univ_select__k=1, svm__C=1 \n",
      "[CV]  features__pca__n_components=3, features__univ_select__k=1, svm__C=1, score=0.933, total=   0.0s\n",
      "[CV] features__pca__n_components=3, features__univ_select__k=1, svm__C=1 \n",
      "[CV]  features__pca__n_components=3, features__univ_select__k=1, svm__C=1, score=0.967, total=   0.0s\n",
      "[CV] features__pca__n_components=3, features__univ_select__k=1, svm__C=1 \n",
      "[CV]  features__pca__n_components=3, features__univ_select__k=1, svm__C=1, score=1.000, total=   0.0s\n",
      "[CV] features__pca__n_components=3, features__univ_select__k=1, svm__C=10 \n",
      "[CV]  features__pca__n_components=3, features__univ_select__k=1, svm__C=10, score=1.000, total=   0.0s\n",
      "[CV] features__pca__n_components=3, features__univ_select__k=1, svm__C=10 \n",
      "[CV]  features__pca__n_components=3, features__univ_select__k=1, svm__C=10, score=1.000, total=   0.0s\n",
      "[CV] features__pca__n_components=3, features__univ_select__k=1, svm__C=10 \n",
      "[CV]  features__pca__n_components=3, features__univ_select__k=1, svm__C=10, score=0.933, total=   0.0s\n",
      "[CV] features__pca__n_components=3, features__univ_select__k=1, svm__C=10 \n",
      "[CV]  features__pca__n_components=3, features__univ_select__k=1, svm__C=10, score=0.967, total=   0.0s\n",
      "[CV] features__pca__n_components=3, features__univ_select__k=1, svm__C=10 \n",
      "[CV]  features__pca__n_components=3, features__univ_select__k=1, svm__C=10, score=1.000, total=   0.0s\n",
      "[CV] features__pca__n_components=3, features__univ_select__k=2, svm__C=0.1 \n",
      "[CV]  features__pca__n_components=3, features__univ_select__k=2, svm__C=0.1, score=0.967, total=   0.0s\n",
      "[CV] features__pca__n_components=3, features__univ_select__k=2, svm__C=0.1 \n",
      "[CV]  features__pca__n_components=3, features__univ_select__k=2, svm__C=0.1, score=1.000, total=   0.0s\n",
      "[CV] features__pca__n_components=3, features__univ_select__k=2, svm__C=0.1 \n",
      "[CV]  features__pca__n_components=3, features__univ_select__k=2, svm__C=0.1, score=0.933, total=   0.0s\n",
      "[CV] features__pca__n_components=3, features__univ_select__k=2, svm__C=0.1 \n",
      "[CV]  features__pca__n_components=3, features__univ_select__k=2, svm__C=0.1, score=0.967, total=   0.0s\n",
      "[CV] features__pca__n_components=3, features__univ_select__k=2, svm__C=0.1 \n",
      "[CV]  features__pca__n_components=3, features__univ_select__k=2, svm__C=0.1, score=1.000, total=   0.0s\n",
      "[CV] features__pca__n_components=3, features__univ_select__k=2, svm__C=1 \n",
      "[CV]  features__pca__n_components=3, features__univ_select__k=2, svm__C=1, score=0.967, total=   0.0s\n",
      "[CV] features__pca__n_components=3, features__univ_select__k=2, svm__C=1 \n",
      "[CV]  features__pca__n_components=3, features__univ_select__k=2, svm__C=1, score=1.000, total=   0.0s\n",
      "[CV] features__pca__n_components=3, features__univ_select__k=2, svm__C=1 \n",
      "[CV]  features__pca__n_components=3, features__univ_select__k=2, svm__C=1, score=0.967, total=   0.0s\n",
      "[CV] features__pca__n_components=3, features__univ_select__k=2, svm__C=1 \n",
      "[CV]  features__pca__n_components=3, features__univ_select__k=2, svm__C=1, score=0.967, total=   0.0s\n",
      "[CV] features__pca__n_components=3, features__univ_select__k=2, svm__C=1 \n",
      "[CV]  features__pca__n_components=3, features__univ_select__k=2, svm__C=1, score=1.000, total=   0.0s\n",
      "[CV] features__pca__n_components=3, features__univ_select__k=2, svm__C=10 \n",
      "[CV]  features__pca__n_components=3, features__univ_select__k=2, svm__C=10, score=1.000, total=   0.0s\n",
      "[CV] features__pca__n_components=3, features__univ_select__k=2, svm__C=10 \n",
      "[CV]  features__pca__n_components=3, features__univ_select__k=2, svm__C=10, score=1.000, total=   0.0s\n",
      "[CV] features__pca__n_components=3, features__univ_select__k=2, svm__C=10 \n",
      "[CV]  features__pca__n_components=3, features__univ_select__k=2, svm__C=10, score=0.900, total=   0.0s\n",
      "[CV] features__pca__n_components=3, features__univ_select__k=2, svm__C=10 \n",
      "[CV]  features__pca__n_components=3, features__univ_select__k=2, svm__C=10, score=0.967, total=   0.0s\n",
      "[CV] features__pca__n_components=3, features__univ_select__k=2, svm__C=10 \n",
      "[CV]  features__pca__n_components=3, features__univ_select__k=2, svm__C=10, score=1.000, total=   0.0s\n"
     ]
    },
    {
     "name": "stderr",
     "output_type": "stream",
     "text": [
      "[Parallel(n_jobs=1)]: Done  90 out of  90 | elapsed:    0.2s finished\n"
     ]
    },
    {
     "data": {
      "text/plain": [
       "GridSearchCV(estimator=Pipeline(steps=[('features',\n",
       "                                        FeatureUnion(transformer_list=[('pca',\n",
       "                                                                        PCA(n_components=2)),\n",
       "                                                                       ('univ_select',\n",
       "                                                                        SelectKBest(k=1))])),\n",
       "                                       ('svm', SVC(kernel='linear'))]),\n",
       "             param_grid={'features__pca__n_components': [1, 2, 3],\n",
       "                         'features__univ_select__k': [1, 2],\n",
       "                         'svm__C': [0.1, 1, 10]},\n",
       "             verbose=10)"
      ]
     },
     "execution_count": 16,
     "metadata": {},
     "output_type": "execute_result"
    },
    {
     "name": "stdout",
     "output_type": "stream",
     "text": [
      "Pipeline(steps=[('features',\n",
      "                 FeatureUnion(transformer_list=[('pca', PCA(n_components=3)),\n",
      "                                                ('univ_select',\n",
      "                                                 SelectKBest(k=1))])),\n",
      "                ('svm', SVC(C=10, kernel='linear'))])\n"
     ]
    }
   ],
   "source": [
    "svm = SVC(kernel=\"linear\")\n",
    "\n",
    "# Do grid search over k, n_components and C:\n",
    "\n",
    "pipeline = Pipeline([(\"features\", combined_features), (\"svm\", svm)])\n",
    "\n",
    "param_grid = dict(features__pca__n_components=[1, 2, 3],\n",
    "                  features__univ_select__k=[1, 2],\n",
    "                  svm__C=[0.1, 1, 10])\n",
    "\n",
    "grid_search = GridSearchCV(pipeline, param_grid=param_grid, verbose=10)\n",
    "grid_search.fit(X, y)\n",
    "print(grid_search.best_estimator_)"
   ]
  },
  {
   "cell_type": "code",
   "execution_count": null,
   "metadata": {},
   "outputs": [],
   "source": []
  },
  {
   "cell_type": "code",
   "execution_count": null,
   "metadata": {},
   "outputs": [],
   "source": []
  },
  {
   "cell_type": "code",
   "execution_count": null,
   "metadata": {},
   "outputs": [],
   "source": []
  },
  {
   "cell_type": "code",
   "execution_count": null,
   "metadata": {},
   "outputs": [],
   "source": []
  },
  {
   "cell_type": "markdown",
   "metadata": {},
   "source": [
    "# End"
   ]
  },
  {
   "cell_type": "code",
   "execution_count": null,
   "metadata": {},
   "outputs": [],
   "source": []
  }
 ],
 "metadata": {
  "kernelspec": {
   "display_name": "Python 3",
   "language": "python",
   "name": "python3"
  },
  "language_info": {
   "codemirror_mode": {
    "name": "ipython",
    "version": 3
   },
   "file_extension": ".py",
   "mimetype": "text/x-python",
   "name": "python",
   "nbconvert_exporter": "python",
   "pygments_lexer": "ipython3",
   "version": "3.7.4"
  }
 },
 "nbformat": 4,
 "nbformat_minor": 2
}
