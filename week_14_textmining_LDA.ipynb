{
 "cells": [
  {
   "cell_type": "markdown",
   "metadata": {},
   "source": [
    "# 텍스트마이닝 예측과 LDA 모델"
   ]
  },
  {
   "cell_type": "code",
   "execution_count": 46,
   "metadata": {},
   "outputs": [
    {
     "data": {
      "text/plain": [
       "'d:\\\\자료\\\\text mining'"
      ]
     },
     "execution_count": 46,
     "metadata": {},
     "output_type": "execute_result"
    }
   ],
   "source": [
    "pwd"
   ]
  },
  {
   "cell_type": "code",
   "execution_count": 43,
   "metadata": {},
   "outputs": [],
   "source": [
    "from IPython.core.interactiveshell import InteractiveShell\n",
    "InteractiveShell.ast_node_interactivity = \"all\"\n",
    "import pandas as pd\n",
    "%matplotlib inline\n",
    "import numpy as np\n",
    "import matplotlib.pyplot as plt\n",
    "import seaborn as sns; sns.set()\n",
    "import warnings\n",
    "warnings.filterwarnings(action='ignore') "
   ]
  },
  {
   "cell_type": "markdown",
   "metadata": {},
   "source": [
    "https://wikidocs.net/30708"
   ]
  },
  {
   "cell_type": "markdown",
   "metadata": {},
   "source": [
    "The previous sections outline the fundamental ideas of machine learning, but all of the examples assume that you have numerical data in a tidy, ``[n_samples, n_features]`` format.\n",
    "In the real world, data rarely comes in such a form.\n",
    "With this in mind, one of the more important steps in using machine learning in practice is *feature engineering*: that is, taking whatever information you have about your problem and turning it into numbers that you can use to build your feature matrix.\n",
    "\n",
    "In this section, we will cover a few common examples of feature engineering tasks: features for representing *categorical data*, features for representing *text*, and features for representing *images*.\n",
    "Additionally, we will discuss *derived features* for increasing model complexity and *imputation* of missing data.\n",
    "Often this process is known as *vectorization*, as it involves converting arbitrary data into well-behaved vectors."
   ]
  },
  {
   "cell_type": "markdown",
   "metadata": {},
   "source": [
    "## Categorical Features\n",
    "\n",
    "One common type of non-numerical data is *categorical* data.\n",
    "For example, imagine you are exploring some data on housing prices, and along with numerical features like \"price\" and \"rooms\", you also have \"neighborhood\" information.\n",
    "For example, your data might look something like this:"
   ]
  },
  {
   "cell_type": "code",
   "execution_count": 3,
   "metadata": {},
   "outputs": [
    {
     "data": {
      "text/plain": [
       "[{'price': 850000, 'rooms': 4, 'neighborhood': 'Queen Anne'},\n",
       " {'price': 700000, 'rooms': 3, 'neighborhood': 'Fremont'},\n",
       " {'price': 650000, 'rooms': 3, 'neighborhood': 'Wallingford'},\n",
       " {'price': 600000, 'rooms': 2, 'neighborhood': 'Fremont'}]"
      ]
     },
     "execution_count": 3,
     "metadata": {},
     "output_type": "execute_result"
    },
    {
     "data": {
      "text/html": [
       "<div>\n",
       "<style scoped>\n",
       "    .dataframe tbody tr th:only-of-type {\n",
       "        vertical-align: middle;\n",
       "    }\n",
       "\n",
       "    .dataframe tbody tr th {\n",
       "        vertical-align: top;\n",
       "    }\n",
       "\n",
       "    .dataframe thead th {\n",
       "        text-align: right;\n",
       "    }\n",
       "</style>\n",
       "<table border=\"1\" class=\"dataframe\">\n",
       "  <thead>\n",
       "    <tr style=\"text-align: right;\">\n",
       "      <th></th>\n",
       "      <th>neighborhood</th>\n",
       "      <th>price</th>\n",
       "      <th>rooms</th>\n",
       "    </tr>\n",
       "  </thead>\n",
       "  <tbody>\n",
       "    <tr>\n",
       "      <th>0</th>\n",
       "      <td>Queen Anne</td>\n",
       "      <td>850000</td>\n",
       "      <td>4</td>\n",
       "    </tr>\n",
       "    <tr>\n",
       "      <th>1</th>\n",
       "      <td>Fremont</td>\n",
       "      <td>700000</td>\n",
       "      <td>3</td>\n",
       "    </tr>\n",
       "    <tr>\n",
       "      <th>2</th>\n",
       "      <td>Wallingford</td>\n",
       "      <td>650000</td>\n",
       "      <td>3</td>\n",
       "    </tr>\n",
       "    <tr>\n",
       "      <th>3</th>\n",
       "      <td>Fremont</td>\n",
       "      <td>600000</td>\n",
       "      <td>2</td>\n",
       "    </tr>\n",
       "  </tbody>\n",
       "</table>\n",
       "</div>"
      ],
      "text/plain": [
       "  neighborhood   price  rooms\n",
       "0   Queen Anne  850000      4\n",
       "1      Fremont  700000      3\n",
       "2  Wallingford  650000      3\n",
       "3      Fremont  600000      2"
      ]
     },
     "execution_count": 3,
     "metadata": {},
     "output_type": "execute_result"
    }
   ],
   "source": [
    "data = [\n",
    "    {'price': 850000, 'rooms': 4, 'neighborhood': 'Queen Anne'},\n",
    "    {'price': 700000, 'rooms': 3, 'neighborhood': 'Fremont'},\n",
    "    {'price': 650000, 'rooms': 3, 'neighborhood': 'Wallingford'},\n",
    "    {'price': 600000, 'rooms': 2, 'neighborhood': 'Fremont'}\n",
    "]\n",
    "data\n",
    "pd.DataFrame(data)"
   ]
  },
  {
   "cell_type": "markdown",
   "metadata": {},
   "source": [
    "You might be tempted to encode this data with a straightforward numerical mapping:"
   ]
  },
  {
   "cell_type": "code",
   "execution_count": 4,
   "metadata": {},
   "outputs": [],
   "source": [
    "{'Queen Anne': 1, 'Fremont': 2, 'Wallingford': 3};"
   ]
  },
  {
   "cell_type": "markdown",
   "metadata": {},
   "source": [
    "It turns out that this is not generally a useful approach in Scikit-Learn: the package's models make the fundamental assumption that numerical features reflect algebraic quantities.\n",
    "Thus such a mapping would imply, for example, that *Queen Anne < Fremont < Wallingford*, or even that *Wallingford - Queen Anne = Fremont*, which (niche demographic jokes aside) does not make much sense.\n",
    "\n",
    "In this case, one proven technique is to use *one-hot encoding*, which effectively creates extra columns indicating the presence or absence of a category with a value of 1 or 0, respectively.\n",
    "When your data comes as a list of dictionaries, Scikit-Learn's ``DictVectorizer`` will do this for you:"
   ]
  },
  {
   "cell_type": "code",
   "execution_count": 5,
   "metadata": {},
   "outputs": [
    {
     "data": {
      "text/plain": [
       "neighborhood    object\n",
       "price            int64\n",
       "rooms            int64\n",
       "dtype: object"
      ]
     },
     "execution_count": 5,
     "metadata": {},
     "output_type": "execute_result"
    }
   ],
   "source": [
    "pd.DataFrame(data).dtypes"
   ]
  },
  {
   "cell_type": "code",
   "execution_count": 6,
   "metadata": {},
   "outputs": [
    {
     "data": {
      "text/plain": [
       "array([[     0,      1,      0, 850000,      4],\n",
       "       [     1,      0,      0, 700000,      3],\n",
       "       [     0,      0,      1, 650000,      3],\n",
       "       [     1,      0,      0, 600000,      2]], dtype=int32)"
      ]
     },
     "execution_count": 6,
     "metadata": {},
     "output_type": "execute_result"
    }
   ],
   "source": [
    "from sklearn.feature_extraction import DictVectorizer\n",
    "vec = DictVectorizer(sparse=False, dtype=int)\n",
    "vec.fit_transform(data)"
   ]
  },
  {
   "cell_type": "markdown",
   "metadata": {},
   "source": [
    "Notice that the 'neighborhood' column has been expanded into three separate columns, representing the three neighborhood labels, and that each row has a 1 in the column associated with its neighborhood.\n",
    "With these categorical features thus encoded, you can proceed as normal with fitting a Scikit-Learn model.\n",
    "\n",
    "To see the meaning of each column, you can inspect the feature names:"
   ]
  },
  {
   "cell_type": "code",
   "execution_count": 7,
   "metadata": {},
   "outputs": [
    {
     "data": {
      "text/plain": [
       "['neighborhood=Fremont',\n",
       " 'neighborhood=Queen Anne',\n",
       " 'neighborhood=Wallingford',\n",
       " 'price',\n",
       " 'rooms']"
      ]
     },
     "execution_count": 7,
     "metadata": {},
     "output_type": "execute_result"
    }
   ],
   "source": [
    "vec.get_feature_names()"
   ]
  },
  {
   "cell_type": "markdown",
   "metadata": {},
   "source": [
    "There is one clear disadvantage of this approach: if your category has many possible values, this can *greatly* increase the size of your dataset.\n",
    "However, because the encoded data contains mostly zeros, a sparse output can be a very efficient solution:"
   ]
  },
  {
   "cell_type": "code",
   "execution_count": 8,
   "metadata": {},
   "outputs": [
    {
     "data": {
      "text/plain": [
       "<4x5 sparse matrix of type '<class 'numpy.int32'>'\n",
       "\twith 12 stored elements in Compressed Sparse Row format>"
      ]
     },
     "execution_count": 8,
     "metadata": {},
     "output_type": "execute_result"
    }
   ],
   "source": [
    "vec = DictVectorizer(sparse=True, dtype=int)\n",
    "vec.fit_transform(data)"
   ]
  },
  {
   "cell_type": "markdown",
   "metadata": {},
   "source": [
    "Many (though not yet all) of the Scikit-Learn estimators accept such sparse inputs when fitting and evaluating models. ``sklearn.preprocessing.OneHotEncoder`` and ``sklearn.feature_extraction.FeatureHasher`` are two additional tools that Scikit-Learn includes to support this type of encoding."
   ]
  },
  {
   "cell_type": "markdown",
   "metadata": {},
   "source": [
    "## Text Features\n",
    "\n",
    "Another common need in feature engineering is to convert text to a set of representative numerical values.\n",
    "For example, most automatic mining of social media data relies on some form of encoding the text as numbers.\n",
    "One of the simplest methods of encoding data is by *word counts*: you take each snippet of text, count the occurrences of each word within it, and put the results in a table.\n",
    "\n",
    "For example, consider the following set of three phrases:"
   ]
  },
  {
   "cell_type": "code",
   "execution_count": 9,
   "metadata": {},
   "outputs": [],
   "source": [
    "sample_kor = ['아버지가 가방에 들어가신다.', '어머니는 시장에 가신다', '붙여쓰면모르지']"
   ]
  },
  {
   "cell_type": "markdown",
   "metadata": {},
   "source": [
    "For a vectorization of this data based on word count, we could construct a column representing the word \"problem,\" the word \"evil,\" the word \"horizon,\" and so on.\n",
    "While doing this by hand would be possible, the tedium can be avoided by using Scikit-Learn's ``CountVectorizer``:"
   ]
  },
  {
   "cell_type": "code",
   "execution_count": 10,
   "metadata": {
    "scrolled": true
   },
   "outputs": [
    {
     "data": {
      "text/plain": [
       "<3x7 sparse matrix of type '<class 'numpy.int64'>'\n",
       "\twith 7 stored elements in Compressed Sparse Row format>"
      ]
     },
     "execution_count": 10,
     "metadata": {},
     "output_type": "execute_result"
    },
    {
     "data": {
      "text/html": [
       "<div>\n",
       "<style scoped>\n",
       "    .dataframe tbody tr th:only-of-type {\n",
       "        vertical-align: middle;\n",
       "    }\n",
       "\n",
       "    .dataframe tbody tr th {\n",
       "        vertical-align: top;\n",
       "    }\n",
       "\n",
       "    .dataframe thead th {\n",
       "        text-align: right;\n",
       "    }\n",
       "</style>\n",
       "<table border=\"1\" class=\"dataframe\">\n",
       "  <thead>\n",
       "    <tr style=\"text-align: right;\">\n",
       "      <th></th>\n",
       "      <th>가방에</th>\n",
       "      <th>가신다</th>\n",
       "      <th>들어가신다</th>\n",
       "      <th>붙여쓰면모르지</th>\n",
       "      <th>시장에</th>\n",
       "      <th>아버지가</th>\n",
       "      <th>어머니는</th>\n",
       "    </tr>\n",
       "  </thead>\n",
       "  <tbody>\n",
       "    <tr>\n",
       "      <th>0</th>\n",
       "      <td>1</td>\n",
       "      <td>0</td>\n",
       "      <td>1</td>\n",
       "      <td>0</td>\n",
       "      <td>0</td>\n",
       "      <td>1</td>\n",
       "      <td>0</td>\n",
       "    </tr>\n",
       "    <tr>\n",
       "      <th>1</th>\n",
       "      <td>0</td>\n",
       "      <td>1</td>\n",
       "      <td>0</td>\n",
       "      <td>0</td>\n",
       "      <td>1</td>\n",
       "      <td>0</td>\n",
       "      <td>1</td>\n",
       "    </tr>\n",
       "    <tr>\n",
       "      <th>2</th>\n",
       "      <td>0</td>\n",
       "      <td>0</td>\n",
       "      <td>0</td>\n",
       "      <td>1</td>\n",
       "      <td>0</td>\n",
       "      <td>0</td>\n",
       "      <td>0</td>\n",
       "    </tr>\n",
       "  </tbody>\n",
       "</table>\n",
       "</div>"
      ],
      "text/plain": [
       "   가방에  가신다  들어가신다  붙여쓰면모르지  시장에  아버지가  어머니는\n",
       "0    1    0      1        0    0     1     0\n",
       "1    0    1      0        0    1     0     1\n",
       "2    0    0      0        1    0     0     0"
      ]
     },
     "execution_count": 10,
     "metadata": {},
     "output_type": "execute_result"
    }
   ],
   "source": [
    "from sklearn.feature_extraction.text import CountVectorizer\n",
    "\n",
    "vec = CountVectorizer()\n",
    "X = vec.fit_transform(sample_kor)\n",
    "X\n",
    "pd.DataFrame(X.toarray(), columns=vec.get_feature_names())"
   ]
  },
  {
   "cell_type": "code",
   "execution_count": 11,
   "metadata": {},
   "outputs": [],
   "source": [
    "sample = ['problem of evil', 'evil queen', 'horizon problem']"
   ]
  },
  {
   "cell_type": "code",
   "execution_count": 12,
   "metadata": {},
   "outputs": [
    {
     "data": {
      "text/plain": [
       "<3x5 sparse matrix of type '<class 'numpy.int64'>'\n",
       "\twith 7 stored elements in Compressed Sparse Row format>"
      ]
     },
     "execution_count": 12,
     "metadata": {},
     "output_type": "execute_result"
    }
   ],
   "source": [
    "from sklearn.feature_extraction.text import CountVectorizer\n",
    "\n",
    "vec = CountVectorizer()\n",
    "X = vec.fit_transform(sample)\n",
    "X"
   ]
  },
  {
   "cell_type": "markdown",
   "metadata": {},
   "source": [
    "The result is a sparse matrix recording the number of times each word appears; it is easier to inspect if we convert this to a ``DataFrame`` with labeled columns:"
   ]
  },
  {
   "cell_type": "code",
   "execution_count": 13,
   "metadata": {},
   "outputs": [
    {
     "data": {
      "text/html": [
       "<div>\n",
       "<style scoped>\n",
       "    .dataframe tbody tr th:only-of-type {\n",
       "        vertical-align: middle;\n",
       "    }\n",
       "\n",
       "    .dataframe tbody tr th {\n",
       "        vertical-align: top;\n",
       "    }\n",
       "\n",
       "    .dataframe thead th {\n",
       "        text-align: right;\n",
       "    }\n",
       "</style>\n",
       "<table border=\"1\" class=\"dataframe\">\n",
       "  <thead>\n",
       "    <tr style=\"text-align: right;\">\n",
       "      <th></th>\n",
       "      <th>evil</th>\n",
       "      <th>horizon</th>\n",
       "      <th>of</th>\n",
       "      <th>problem</th>\n",
       "      <th>queen</th>\n",
       "    </tr>\n",
       "  </thead>\n",
       "  <tbody>\n",
       "    <tr>\n",
       "      <th>0</th>\n",
       "      <td>1</td>\n",
       "      <td>0</td>\n",
       "      <td>1</td>\n",
       "      <td>1</td>\n",
       "      <td>0</td>\n",
       "    </tr>\n",
       "    <tr>\n",
       "      <th>1</th>\n",
       "      <td>1</td>\n",
       "      <td>0</td>\n",
       "      <td>0</td>\n",
       "      <td>0</td>\n",
       "      <td>1</td>\n",
       "    </tr>\n",
       "    <tr>\n",
       "      <th>2</th>\n",
       "      <td>0</td>\n",
       "      <td>1</td>\n",
       "      <td>0</td>\n",
       "      <td>1</td>\n",
       "      <td>0</td>\n",
       "    </tr>\n",
       "  </tbody>\n",
       "</table>\n",
       "</div>"
      ],
      "text/plain": [
       "   evil  horizon  of  problem  queen\n",
       "0     1        0   1        1      0\n",
       "1     1        0   0        0      1\n",
       "2     0        1   0        1      0"
      ]
     },
     "execution_count": 13,
     "metadata": {},
     "output_type": "execute_result"
    }
   ],
   "source": [
    "pd.DataFrame(X.toarray(), columns=vec.get_feature_names())"
   ]
  },
  {
   "cell_type": "markdown",
   "metadata": {},
   "source": [
    "There are some issues with this approach, however: the raw word counts lead to features which put too much weight on words that appear very frequently, and this can be sub-optimal in some classification algorithms.\n",
    "One approach to fix this is known as *term frequency-inverse document frequency* (*TF–IDF*) which weights the word counts by a measure of how often they appear in the documents.\n",
    "The syntax for computing these features is similar to the previous example:"
   ]
  },
  {
   "cell_type": "code",
   "execution_count": 14,
   "metadata": {
    "scrolled": true
   },
   "outputs": [
    {
     "data": {
      "text/html": [
       "<div>\n",
       "<style scoped>\n",
       "    .dataframe tbody tr th:only-of-type {\n",
       "        vertical-align: middle;\n",
       "    }\n",
       "\n",
       "    .dataframe tbody tr th {\n",
       "        vertical-align: top;\n",
       "    }\n",
       "\n",
       "    .dataframe thead th {\n",
       "        text-align: right;\n",
       "    }\n",
       "</style>\n",
       "<table border=\"1\" class=\"dataframe\">\n",
       "  <thead>\n",
       "    <tr style=\"text-align: right;\">\n",
       "      <th></th>\n",
       "      <th>evil</th>\n",
       "      <th>horizon</th>\n",
       "      <th>of</th>\n",
       "      <th>problem</th>\n",
       "      <th>queen</th>\n",
       "    </tr>\n",
       "  </thead>\n",
       "  <tbody>\n",
       "    <tr>\n",
       "      <th>0</th>\n",
       "      <td>0.517856</td>\n",
       "      <td>0.000000</td>\n",
       "      <td>0.680919</td>\n",
       "      <td>0.517856</td>\n",
       "      <td>0.000000</td>\n",
       "    </tr>\n",
       "    <tr>\n",
       "      <th>1</th>\n",
       "      <td>0.605349</td>\n",
       "      <td>0.000000</td>\n",
       "      <td>0.000000</td>\n",
       "      <td>0.000000</td>\n",
       "      <td>0.795961</td>\n",
       "    </tr>\n",
       "    <tr>\n",
       "      <th>2</th>\n",
       "      <td>0.000000</td>\n",
       "      <td>0.795961</td>\n",
       "      <td>0.000000</td>\n",
       "      <td>0.605349</td>\n",
       "      <td>0.000000</td>\n",
       "    </tr>\n",
       "  </tbody>\n",
       "</table>\n",
       "</div>"
      ],
      "text/plain": [
       "       evil   horizon        of   problem     queen\n",
       "0  0.517856  0.000000  0.680919  0.517856  0.000000\n",
       "1  0.605349  0.000000  0.000000  0.000000  0.795961\n",
       "2  0.000000  0.795961  0.000000  0.605349  0.000000"
      ]
     },
     "execution_count": 14,
     "metadata": {},
     "output_type": "execute_result"
    }
   ],
   "source": [
    "from sklearn.feature_extraction.text import TfidfVectorizer\n",
    "vec = TfidfVectorizer()\n",
    "X = vec.fit_transform(sample)\n",
    "pd.DataFrame(X.toarray(), columns=vec.get_feature_names())"
   ]
  },
  {
   "cell_type": "markdown",
   "metadata": {},
   "source": [
    "For an example of using TF-IDF in a classification problem, see [In Depth: Naive Bayes Classification](05.05-Naive-Bayes.ipynb)."
   ]
  },
  {
   "cell_type": "markdown",
   "metadata": {},
   "source": [
    "# Example: Classifying Text\n",
    "\n",
    "One place where multinomial naive Bayes is often used is in text classification, where the features are related to word counts or frequencies within the documents to be classified.\n",
    "We discussed the extraction of such features from text in [Feature Engineering](05.04-Feature-Engineering.ipynb); here we will use the sparse word count features from the 20 Newsgroups corpus to show how we might classify these short documents into categories.\n",
    "\n",
    "Let's download the data and take a look at the target names:"
   ]
  },
  {
   "cell_type": "code",
   "execution_count": 12,
   "metadata": {},
   "outputs": [
    {
     "data": {
      "text/plain": [
       "sklearn.utils.Bunch"
      ]
     },
     "execution_count": 12,
     "metadata": {},
     "output_type": "execute_result"
    }
   ],
   "source": [
    "from sklearn.datasets import fetch_20newsgroups\n",
    "\n",
    "data = fetch_20newsgroups()\n",
    "type(data)"
   ]
  },
  {
   "cell_type": "code",
   "execution_count": 13,
   "metadata": {},
   "outputs": [
    {
     "data": {
      "text/html": [
       "<div>\n",
       "<style scoped>\n",
       "    .dataframe tbody tr th:only-of-type {\n",
       "        vertical-align: middle;\n",
       "    }\n",
       "\n",
       "    .dataframe tbody tr th {\n",
       "        vertical-align: top;\n",
       "    }\n",
       "\n",
       "    .dataframe thead th {\n",
       "        text-align: right;\n",
       "    }\n",
       "</style>\n",
       "<table border=\"1\" class=\"dataframe\">\n",
       "  <thead>\n",
       "    <tr style=\"text-align: right;\">\n",
       "      <th></th>\n",
       "      <th>content</th>\n",
       "      <th>target</th>\n",
       "    </tr>\n",
       "  </thead>\n",
       "  <tbody>\n",
       "    <tr>\n",
       "      <th>0</th>\n",
       "      <td>From: lerxst@wam.umd.edu (where's my thing)\\nS...</td>\n",
       "      <td>7</td>\n",
       "    </tr>\n",
       "    <tr>\n",
       "      <th>1</th>\n",
       "      <td>From: guykuo@carson.u.washington.edu (Guy Kuo)...</td>\n",
       "      <td>4</td>\n",
       "    </tr>\n",
       "    <tr>\n",
       "      <th>2</th>\n",
       "      <td>From: twillis@ec.ecn.purdue.edu (Thomas E Will...</td>\n",
       "      <td>4</td>\n",
       "    </tr>\n",
       "    <tr>\n",
       "      <th>3</th>\n",
       "      <td>From: jgreen@amber (Joe Green)\\nSubject: Re: W...</td>\n",
       "      <td>1</td>\n",
       "    </tr>\n",
       "    <tr>\n",
       "      <th>4</th>\n",
       "      <td>From: jcm@head-cfa.harvard.edu (Jonathan McDow...</td>\n",
       "      <td>14</td>\n",
       "    </tr>\n",
       "  </tbody>\n",
       "</table>\n",
       "</div>"
      ],
      "text/plain": [
       "                                             content  target\n",
       "0  From: lerxst@wam.umd.edu (where's my thing)\\nS...       7\n",
       "1  From: guykuo@carson.u.washington.edu (Guy Kuo)...       4\n",
       "2  From: twillis@ec.ecn.purdue.edu (Thomas E Will...       4\n",
       "3  From: jgreen@amber (Joe Green)\\nSubject: Re: W...       1\n",
       "4  From: jcm@head-cfa.harvard.edu (Jonathan McDow...      14"
      ]
     },
     "execution_count": 13,
     "metadata": {},
     "output_type": "execute_result"
    }
   ],
   "source": [
    "df = pd.DataFrame(data['data'], columns= ['content'])\n",
    "df['target'] = pd.Series(data.target)\n",
    "df.head()"
   ]
  },
  {
   "cell_type": "markdown",
   "metadata": {},
   "source": [
    "For simplicity here, we will select just a few of these categories, and download the training and testing set:"
   ]
  },
  {
   "cell_type": "code",
   "execution_count": 14,
   "metadata": {},
   "outputs": [
    {
     "data": {
      "text/plain": [
       "['alt.atheism',\n",
       " 'comp.graphics',\n",
       " 'comp.os.ms-windows.misc',\n",
       " 'comp.sys.ibm.pc.hardware',\n",
       " 'comp.sys.mac.hardware',\n",
       " 'comp.windows.x',\n",
       " 'misc.forsale',\n",
       " 'rec.autos',\n",
       " 'rec.motorcycles',\n",
       " 'rec.sport.baseball',\n",
       " 'rec.sport.hockey',\n",
       " 'sci.crypt',\n",
       " 'sci.electronics',\n",
       " 'sci.med',\n",
       " 'sci.space',\n",
       " 'soc.religion.christian',\n",
       " 'talk.politics.guns',\n",
       " 'talk.politics.mideast',\n",
       " 'talk.politics.misc',\n",
       " 'talk.religion.misc']"
      ]
     },
     "execution_count": 14,
     "metadata": {},
     "output_type": "execute_result"
    }
   ],
   "source": [
    "data.target_names"
   ]
  },
  {
   "cell_type": "code",
   "execution_count": 15,
   "metadata": {},
   "outputs": [],
   "source": [
    "categories = ['talk.religion.misc', 'soc.religion.christian','sci.space', 'comp.graphics']\n",
    "train = fetch_20newsgroups(subset='train', categories=categories)\n",
    "test = fetch_20newsgroups(subset='test', categories=categories)"
   ]
  },
  {
   "cell_type": "markdown",
   "metadata": {},
   "source": [
    "Here is a representative entry from the data:"
   ]
  },
  {
   "cell_type": "code",
   "execution_count": 16,
   "metadata": {},
   "outputs": [
    {
     "name": "stdout",
     "output_type": "stream",
     "text": [
      "From: dmcgee@uluhe.soest.hawaii.edu (Don McGee)\n",
      "Subject: Federal Hearing\n",
      "Originator: dmcgee@uluhe\n",
      "Organization: School of Ocean and Earth Science and Technology\n",
      "Distribution: usa\n",
      "Lines: 10\n",
      "\n",
      "\n",
      "Fact or rumor....?  Madalyn Murray O'Hare an atheist who eliminated the\n",
      "use of the bible reading and prayer in public schools 15 years ago is now\n",
      "going to appear before the FCC with a petition to stop the reading of the\n",
      "Gospel on the airways of America.  And she is also campaigning to remove\n",
      "Christmas programs, songs, etc from the public schools.  If it is true\n",
      "then mail to Federal Communications Commission 1919 H Street Washington DC\n",
      "20054 expressing your opposition to her request.  Reference Petition number\n",
      "\n",
      "2493.\n",
      "\n"
     ]
    }
   ],
   "source": [
    "print(train.data[5])"
   ]
  },
  {
   "cell_type": "markdown",
   "metadata": {},
   "source": [
    "In order to use this data for machine learning, we need to be able to convert the content of each string into a vector of numbers.\n",
    "For this we will use the TF-IDF vectorizer (discussed in [Feature Engineering](05.04-Feature-Engineering.ipynb)), and create a pipeline that attaches it to a multinomial naive Bayes classifier:"
   ]
  },
  {
   "cell_type": "code",
   "execution_count": 17,
   "metadata": {},
   "outputs": [],
   "source": [
    "from sklearn.feature_extraction.text import TfidfVectorizer\n",
    "from sklearn.naive_bayes import MultinomialNB\n",
    "from sklearn.pipeline import make_pipeline\n",
    "\n",
    "model = make_pipeline(TfidfVectorizer(), MultinomialNB())"
   ]
  },
  {
   "cell_type": "markdown",
   "metadata": {},
   "source": [
    "With this pipeline, we can apply the model to the training data, and predict labels for the test data:"
   ]
  },
  {
   "cell_type": "code",
   "execution_count": 18,
   "metadata": {},
   "outputs": [
    {
     "data": {
      "text/plain": [
       "Pipeline(steps=[('tfidfvectorizer', TfidfVectorizer()),\n",
       "                ('multinomialnb', MultinomialNB())])"
      ]
     },
     "execution_count": 18,
     "metadata": {},
     "output_type": "execute_result"
    }
   ],
   "source": [
    "model.fit(train.data, train.target)\n",
    "labels = model.predict(test.data)"
   ]
  },
  {
   "cell_type": "markdown",
   "metadata": {},
   "source": [
    "Now that we have predicted the labels for the test data, we can evaluate them to learn about the performance of the estimator.\n",
    "For example, here is the confusion matrix between the true and predicted labels for the test data:"
   ]
  },
  {
   "cell_type": "code",
   "execution_count": 19,
   "metadata": {},
   "outputs": [
    {
     "data": {
      "image/png": "[encoded data removed]",
      "text/plain": [
       "<Figure size 432x288 with 1 Axes>"
      ]
     },
     "metadata": {},
     "output_type": "display_data"
    }
   ],
   "source": [
    "from sklearn.metrics import confusion_matrix\n",
    "mat = confusion_matrix(test.target, labels)\n",
    "sns.heatmap(mat.T, square=True, annot=True, fmt='d', cbar=False,\n",
    "            xticklabels=train.target_names, yticklabels=train.target_names)\n",
    "plt.xlabel('true label')\n",
    "plt.ylabel('predicted label');"
   ]
  },
  {
   "cell_type": "markdown",
   "metadata": {},
   "source": [
    "Evidently, even this very simple classifier can successfully separate space talk from computer talk, but it gets confused between talk about religion and talk about Christianity.\n",
    "This is perhaps an expected area of confusion!\n",
    "\n",
    "The very cool thing here is that we now have the tools to determine the category for *any* string, using the ``predict()`` method of this pipeline.\n",
    "Here's a quick utility function that will return the prediction for a single string:"
   ]
  },
  {
   "cell_type": "code",
   "execution_count": 20,
   "metadata": {},
   "outputs": [],
   "source": [
    "def predict_category(s, train=train, model=model):\n",
    "    pred = model.predict([s])\n",
    "    return train.target_names[pred[0]]"
   ]
  },
  {
   "cell_type": "markdown",
   "metadata": {},
   "source": [
    "Let's try it out:"
   ]
  },
  {
   "cell_type": "code",
   "execution_count": 21,
   "metadata": {},
   "outputs": [
    {
     "data": {
      "text/plain": [
       "'sci.space'"
      ]
     },
     "execution_count": 21,
     "metadata": {},
     "output_type": "execute_result"
    }
   ],
   "source": [
    "predict_category('sending a payload to the ISS')"
   ]
  },
  {
   "cell_type": "code",
   "execution_count": 22,
   "metadata": {},
   "outputs": [
    {
     "data": {
      "text/plain": [
       "'soc.religion.christian'"
      ]
     },
     "execution_count": 22,
     "metadata": {},
     "output_type": "execute_result"
    }
   ],
   "source": [
    "predict_category('discussing islam vs atheism')"
   ]
  },
  {
   "cell_type": "code",
   "execution_count": 23,
   "metadata": {},
   "outputs": [
    {
     "data": {
      "text/plain": [
       "'comp.graphics'"
      ]
     },
     "execution_count": 23,
     "metadata": {},
     "output_type": "execute_result"
    }
   ],
   "source": [
    "predict_category('determining the screen resolution')"
   ]
  },
  {
   "cell_type": "code",
   "execution_count": 24,
   "metadata": {},
   "outputs": [
    {
     "data": {
      "text/plain": [
       "'comp.graphics'"
      ]
     },
     "execution_count": 24,
     "metadata": {},
     "output_type": "execute_result"
    }
   ],
   "source": [
    "predict_category('scrip a code to run data')"
   ]
  },
  {
   "cell_type": "markdown",
   "metadata": {},
   "source": [
    "Remember that this is nothing more sophisticated than a simple probability model for the (weighted) frequency of each word in the string; nevertheless, the result is striking.\n",
    "Even a very naive algorithm, when used carefully and trained on a large set of high-dimensional data, can be surprisingly effective."
   ]
  },
  {
   "cell_type": "markdown",
   "metadata": {},
   "source": [
    "# Example LDA"
   ]
  },
  {
   "cell_type": "markdown",
   "metadata": {},
   "source": [
    "LDA는 문서의 집합으로부터 어떤 토픽이 존재하는지를 알아내기 위한 알고리즘입니다. LDA는 앞서 배운 빈도수 기반의 표현 방법인 BoW의 행렬 DTM 또는 TF-IDF 행렬을 입력으로 하는데, 이로부터 알 수 있는 사실은 LDA는 단어의 순서는 신경쓰지 않겠다는 겁니다."
   ]
  },
  {
   "cell_type": "markdown",
   "metadata": {},
   "source": [
    "LDA는 문서들로부터 토픽을 뽑아내기 위해서 이러한 가정을 염두해두고 있습니다. 모든 문서 하나, 하나가 작성될 때 그 문서의 작성자는 이러한 생각을 했습니다. '나는 이 문서를 작성하기 위해서 이런 주제들을 넣을거고, 이런 주제들을 위해서는 이런 단어들을 넣을 거야.' 조금 더 구체적으로 알아보겠습니다. 각각의 문서는 다음과 같은 과정을 거쳐서 작성되었다고 가정합니다.\n",
    "\n",
    "### 1) 문서에 사용할 단어의 개수 N을 정합니다.\n",
    "- Ex) 5개의 단어를 정하였습니다.\n",
    "### 2) 문서에 사용할 토픽의 혼합을 확률 분포에 기반하여 결정합니다.\n",
    "- Ex) 위 예제와 같이 토픽이 2개라고 하였을 때 강아지 토픽을 60%, 과일 토픽을 40%와 같이 선택할 수 있습니다.\n",
    "### 3) 문서에 사용할 각 단어를 (아래와 같이) 정합니다.\n",
    "#### 3-1) 토픽 분포에서 토픽 T를 확률적으로 고릅니다.\n",
    "- Ex) 60% 확률로 강아지 토픽을 선택하고, 40% 확률로 과일 토픽을 선택할 수 있습니다.\n",
    "####  3-2) 선택한 토픽 T에서 단어의 출현 확률 분포에 기반해 문서에 사용할 단어를 고릅니다.\n",
    "- Ex) 강아지 토픽을 선택하였다면, 33% 확률로 강아지란 단어를 선택할 수 있습니다. 이제 3)을 반복하면서 문서를 완성합니다.\n",
    "\n",
    "이러한 과정을 통해 문서가 작성되었다는 가정 하에 LDA는 토픽을 뽑아내기 위하여 위 과정을 역으로 추적하는 역공학(reverse engneering)을 수행합니다."
   ]
  },
  {
   "cell_type": "markdown",
   "metadata": {},
   "source": [
    "### 1. 데이터 불러오기"
   ]
  },
  {
   "cell_type": "code",
   "execution_count": 25,
   "metadata": {},
   "outputs": [
    {
     "data": {
      "text/plain": [
       "11314"
      ]
     },
     "execution_count": 25,
     "metadata": {},
     "output_type": "execute_result"
    }
   ],
   "source": [
    "dataset = fetch_20newsgroups(shuffle=True, random_state=1, remove=('headers', 'footers', 'quotes'))\n",
    "documents = dataset.data\n",
    "len(documents)"
   ]
  },
  {
   "cell_type": "code",
   "execution_count": 26,
   "metadata": {},
   "outputs": [
    {
     "data": {
      "text/plain": [
       "[\"Well i'm not sure about the story nad it did seem biased. What\\nI disagree with is your statement that the U.S. Media is out to\\nruin Israels reputation. That is rediculous. The U.S. media is\\nthe most pro-israeli media in the world. Having lived in Europe\\nI realize that incidences such as the one described in the\\nletter have occured. The U.S. media as a whole seem to try to\\nignore them. The U.S. is subsidizing Israels existance and the\\nEuropeans are not (at least not to the same degree). So I think\\nthat might be a reason they report more clearly on the\\natrocities.\\n\\tWhat is a shame is that in Austria, daily reports of\\nthe inhuman acts commited by Israeli soldiers and the blessing\\nreceived from the Government makes some of the Holocaust guilt\\ngo away. After all, look how the Jews are treating other races\\nwhen they got power. It is unfortunate.\\n\",\n",
       " \"\\n\\n\\n\\n\\n\\n\\nYeah, do you expect people to read the FAQ, etc. and actually accept hard\\natheism?  No, you need a little leap of faith, Jimmy.  Your logic runs out\\nof steam!\\n\\n\\n\\n\\n\\n\\n\\nJim,\\n\\nSorry I can't pity you, Jim.  And I'm sorry that you have these feelings of\\ndenial about the faith you need to get by.  Oh well, just pretend that it will\\nall end happily ever after anyway.  Maybe if you start a new newsgroup,\\nalt.atheist.hard, you won't be bummin' so much?\\n\\n\\n\\n\\n\\n\\nBye-Bye, Big Jim.  Don't forget your Flintstone's Chewables!  :) \\n--\\nBake Timmons, III\"]"
      ]
     },
     "execution_count": 26,
     "metadata": {},
     "output_type": "execute_result"
    }
   ],
   "source": [
    "documents[0:2]"
   ]
  },
  {
   "cell_type": "markdown",
   "metadata": {},
   "source": [
    "### 2. 텍스트 전처리"
   ]
  },
  {
   "cell_type": "code",
   "execution_count": 27,
   "metadata": {},
   "outputs": [
    {
     "data": {
      "text/html": [
       "<div>\n",
       "<style scoped>\n",
       "    .dataframe tbody tr th:only-of-type {\n",
       "        vertical-align: middle;\n",
       "    }\n",
       "\n",
       "    .dataframe tbody tr th {\n",
       "        vertical-align: top;\n",
       "    }\n",
       "\n",
       "    .dataframe thead th {\n",
       "        text-align: right;\n",
       "    }\n",
       "</style>\n",
       "<table border=\"1\" class=\"dataframe\">\n",
       "  <thead>\n",
       "    <tr style=\"text-align: right;\">\n",
       "      <th></th>\n",
       "      <th>document</th>\n",
       "    </tr>\n",
       "  </thead>\n",
       "  <tbody>\n",
       "    <tr>\n",
       "      <th>0</th>\n",
       "      <td>Well i'm not sure about the story nad it did s...</td>\n",
       "    </tr>\n",
       "    <tr>\n",
       "      <th>1</th>\n",
       "      <td>\\n\\n\\n\\n\\n\\n\\nYeah, do you expect people to re...</td>\n",
       "    </tr>\n",
       "    <tr>\n",
       "      <th>2</th>\n",
       "      <td>Although I realize that principle is not one o...</td>\n",
       "    </tr>\n",
       "    <tr>\n",
       "      <th>3</th>\n",
       "      <td>Notwithstanding all the legitimate fuss about ...</td>\n",
       "    </tr>\n",
       "    <tr>\n",
       "      <th>4</th>\n",
       "      <td>Well, I will have to change the scoring on my ...</td>\n",
       "    </tr>\n",
       "  </tbody>\n",
       "</table>\n",
       "</div>"
      ],
      "text/plain": [
       "                                            document\n",
       "0  Well i'm not sure about the story nad it did s...\n",
       "1  \\n\\n\\n\\n\\n\\n\\nYeah, do you expect people to re...\n",
       "2  Although I realize that principle is not one o...\n",
       "3  Notwithstanding all the legitimate fuss about ...\n",
       "4  Well, I will have to change the scoring on my ..."
      ]
     },
     "execution_count": 27,
     "metadata": {},
     "output_type": "execute_result"
    }
   ],
   "source": [
    "news_df = pd.DataFrame({'document':documents})\n",
    "news_df.head()"
   ]
  },
  {
   "cell_type": "code",
   "execution_count": 28,
   "metadata": {},
   "outputs": [],
   "source": [
    "# 특수 문자 제거\n",
    "news_df['clean_doc'] = news_df['document'].str.replace(\"[^a-zA-Z]\", \" \")\n",
    "# 길이가 3이하인 단어는 제거 (길이가 짧은 단어 제거)\n",
    "news_df['clean_doc'] = news_df['clean_doc'].apply(lambda x: ' '.join([w for w in x.split() if len(w)>3]))\n",
    "# 전체 단어에 대한 소문자 변환\n",
    "news_df['clean_doc'] = news_df['clean_doc'].apply(lambda x: x.lower())"
   ]
  },
  {
   "cell_type": "code",
   "execution_count": 29,
   "metadata": {},
   "outputs": [
    {
     "data": {
      "text/html": [
       "<div>\n",
       "<style scoped>\n",
       "    .dataframe tbody tr th:only-of-type {\n",
       "        vertical-align: middle;\n",
       "    }\n",
       "\n",
       "    .dataframe tbody tr th {\n",
       "        vertical-align: top;\n",
       "    }\n",
       "\n",
       "    .dataframe thead th {\n",
       "        text-align: right;\n",
       "    }\n",
       "</style>\n",
       "<table border=\"1\" class=\"dataframe\">\n",
       "  <thead>\n",
       "    <tr style=\"text-align: right;\">\n",
       "      <th></th>\n",
       "      <th>document</th>\n",
       "      <th>clean_doc</th>\n",
       "    </tr>\n",
       "  </thead>\n",
       "  <tbody>\n",
       "    <tr>\n",
       "      <th>0</th>\n",
       "      <td>Well i'm not sure about the story nad it did s...</td>\n",
       "      <td>well sure about story seem biased what disagre...</td>\n",
       "    </tr>\n",
       "    <tr>\n",
       "      <th>1</th>\n",
       "      <td>\\n\\n\\n\\n\\n\\n\\nYeah, do you expect people to re...</td>\n",
       "      <td>yeah expect people read actually accept hard a...</td>\n",
       "    </tr>\n",
       "    <tr>\n",
       "      <th>2</th>\n",
       "      <td>Although I realize that principle is not one o...</td>\n",
       "      <td>although realize that principle your strongest...</td>\n",
       "    </tr>\n",
       "    <tr>\n",
       "      <th>3</th>\n",
       "      <td>Notwithstanding all the legitimate fuss about ...</td>\n",
       "      <td>notwithstanding legitimate fuss about this pro...</td>\n",
       "    </tr>\n",
       "    <tr>\n",
       "      <th>4</th>\n",
       "      <td>Well, I will have to change the scoring on my ...</td>\n",
       "      <td>well will have change scoring playoff pool unf...</td>\n",
       "    </tr>\n",
       "  </tbody>\n",
       "</table>\n",
       "</div>"
      ],
      "text/plain": [
       "                                            document  \\\n",
       "0  Well i'm not sure about the story nad it did s...   \n",
       "1  \\n\\n\\n\\n\\n\\n\\nYeah, do you expect people to re...   \n",
       "2  Although I realize that principle is not one o...   \n",
       "3  Notwithstanding all the legitimate fuss about ...   \n",
       "4  Well, I will have to change the scoring on my ...   \n",
       "\n",
       "                                           clean_doc  \n",
       "0  well sure about story seem biased what disagre...  \n",
       "1  yeah expect people read actually accept hard a...  \n",
       "2  although realize that principle your strongest...  \n",
       "3  notwithstanding legitimate fuss about this pro...  \n",
       "4  well will have change scoring playoff pool unf...  "
      ]
     },
     "execution_count": 29,
     "metadata": {},
     "output_type": "execute_result"
    }
   ],
   "source": [
    "news_df.head()"
   ]
  },
  {
   "cell_type": "code",
   "execution_count": 30,
   "metadata": {},
   "outputs": [],
   "source": [
    "from nltk.corpus import stopwords\n",
    "stop_words = stopwords.words('english') # NLTK로부터 불용어를 받아옵니다.\n",
    "tokenized_doc = news_df['clean_doc'].apply(lambda x: x.split()) # 토큰화\n",
    "tokenized_doc = tokenized_doc.apply(lambda x: [item for item in x if item not in stop_words]) # 불용어를 제거합니다."
   ]
  },
  {
   "cell_type": "code",
   "execution_count": 31,
   "metadata": {},
   "outputs": [
    {
     "data": {
      "text/plain": [
       "pandas.core.series.Series"
      ]
     },
     "execution_count": 31,
     "metadata": {},
     "output_type": "execute_result"
    },
    {
     "data": {
      "text/plain": [
       "0    [well, sure, story, seem, biased, disagree, st...\n",
       "1    [yeah, expect, people, read, actually, accept,...\n",
       "Name: clean_doc, dtype: object"
      ]
     },
     "execution_count": 31,
     "metadata": {},
     "output_type": "execute_result"
    }
   ],
   "source": [
    "type(tokenized_doc)\n",
    "tokenized_doc[0:2]"
   ]
  },
  {
   "cell_type": "markdown",
   "metadata": {},
   "source": [
    "### 3. TF-IDF 행렬 만들기\n",
    "불용어 제거를 위해 토큰화 작업을 수행하였지만, TfidfVectorizer(TF-IDF 챕터 참고)는 기본적으로 토큰화가 되어있지 않은 텍스트 데이터를 입력으로 사용합니다. 그렇기 때문에 TfidfVectorizer를 사용해서 TF-IDF 행렬을 만들기 위해서 news_df['clean_doc']컬럼을 사용\n"
   ]
  },
  {
   "cell_type": "code",
   "execution_count": 32,
   "metadata": {},
   "outputs": [
    {
     "data": {
      "text/plain": [
       "(11314, 1000)"
      ]
     },
     "execution_count": 32,
     "metadata": {},
     "output_type": "execute_result"
    }
   ],
   "source": [
    "from sklearn.feature_extraction.text import TfidfVectorizer\n",
    "\n",
    "vectorizer = TfidfVectorizer(stop_words='english', \n",
    "max_features= 1000, # 상위 1,000개의 단어를 보존 \n",
    "max_df = 0.5, \n",
    "smooth_idf=True)\n",
    "\n",
    "X = vectorizer.fit_transform(news_df['clean_doc'])\n",
    "X.shape # TF-IDF 행렬의 크기 확인"
   ]
  },
  {
   "cell_type": "code",
   "execution_count": 33,
   "metadata": {},
   "outputs": [
    {
     "data": {
      "text/plain": [
       "<11314x1000 sparse matrix of type '<class 'numpy.float64'>'\n",
       "\twith 257747 stored elements in Compressed Sparse Row format>"
      ]
     },
     "execution_count": 33,
     "metadata": {},
     "output_type": "execute_result"
    }
   ],
   "source": [
    "X"
   ]
  },
  {
   "cell_type": "markdown",
   "metadata": {},
   "source": [
    "### 4. 토픽 모델링(Topic Modeling), ㅣLDA(Latent Dirichlet Allocation, LDA)\n",
    "- 원래 기존 뉴스 데이터가 20개의 뉴스 카테고리를 갖고있었기 때문에, 20개의 토픽을 가졌다고 가정하고 토픽 모델링을 시도해보겠습니다.\n",
    "- LDA는 문서의 집합으로부터 어떤 토픽이 존재하는지를 알아내기 위한 알고리즘입니다. LDA는 앞서 배운 빈도수 기반의 표현 방법인 BoW의 행렬 DTM 또는 TF-IDF 행렬을 입력으로 하는데, 이로부터 알 수 있는 사실은 LDA는 단어의 순서는 신경쓰지 않겠다는 겁니다."
   ]
  },
  {
   "cell_type": "markdown",
   "metadata": {},
   "source": [
    "LDA는 문서들로부터 토픽을 뽑아내기 위해서 이러한 가정을 염두해두고 있습니다. 모든 문서 하나, 하나가 작성될 때 그 문서의 작성자는 이러한 생각을 했습니다. '나는 이 문서를 작성하기 위해서 이런 주제들을 넣을거고, 이런 주제들을 위해서는 이런 단어들을 넣을 거야.' 조금 더 구체적으로 알아보겠습니다. 각각의 문서는 다음과 같은 과정을 거쳐서 작성되었다고 가정합니다.\n",
    "https://wikidocs.net/30708\n",
    "\n",
    "(1) 문서에 사용할 단어의 개수 N을 정합니다.\n",
    "- Ex) 5개의 단어를 정하였습니다.\n",
    "\n",
    "(2) 문서에 사용할 토픽의 혼합을 확률 분포에 기반하여 결정합니다.\n",
    "- Ex) 위 예제와 같이 토픽이 2개라고 하였을 때 강아지 토픽을 60%, 과일 토픽을 40%와 같이 선택할 수 있습니다.\n",
    "\n",
    "(3) 문서에 사용할 각 단어를 (아래와 같이) 정합니다.\n",
    "\n",
    "(3-1) 토픽 분포에서 토픽 T를 확률적으로 고릅니다.\n",
    "- Ex) 60% 확률로 강아지 토픽을 선택하고, 40% 확률로 과일 토픽을 선택할 수 있습니다.\n",
    "\n",
    "(3-2) 선택한 토픽 T에서 단어의 출현 확률 분포에 기반해 문서에 사용할 단어를 고릅니다.\n",
    "- Ex) 강아지 토픽을 선택하였다면, 33% 확률로 강아지란 단어를 선택할 수 있습니다. 이제 3)을 반복하면서 문서를 완성합니다.\n",
    "\n",
    "이러한 과정을 통해 문서가 작성되었다는 가정 하에 LDA는 토픽을 뽑아내기 위하여 위 과정을 역으로 추적하는 역공학(reverse engneering)을 수행합니다."
   ]
  },
  {
   "cell_type": "code",
   "execution_count": 34,
   "metadata": {},
   "outputs": [
    {
     "data": {
      "text/plain": [
       "0    [well, sure, story, seem, biased, disagree, st...\n",
       "1    [yeah, expect, people, read, actually, accept,...\n",
       "2    [although, realize, principle, strongest, poin...\n",
       "3    [notwithstanding, legitimate, fuss, proposal, ...\n",
       "4    [well, change, scoring, playoff, pool, unfortu...\n",
       "Name: clean_doc, dtype: object"
      ]
     },
     "execution_count": 34,
     "metadata": {},
     "output_type": "execute_result"
    }
   ],
   "source": [
    "tokenized_doc[:5]"
   ]
  },
  {
   "cell_type": "markdown",
   "metadata": {},
   "source": [
    "이제 각 단어에 정수 인코딩을 하는 동시에, 각 뉴스에서의 단어의 빈도수를 기록해보겠습니다. 여기서는 각 단어를 (word_id, word_frequency)의 형태로 바꾸고자 합니다. word_id는 단어가 정수 인코딩된 값이고, word_frequency는 해당 뉴스에서의 해당 단어의 빈도수를 의미합니다. 이는 gensim의 corpora.Dictionary()를 사용하여 손쉽게 구할 수 있습니다. 전체 뉴스에 대해서 정수 인코딩을 수행하고, 두번째 뉴스를 출력해봅시다."
   ]
  },
  {
   "cell_type": "code",
   "execution_count": 35,
   "metadata": {},
   "outputs": [
    {
     "name": "stdout",
     "output_type": "stream",
     "text": [
      "[(52, 1), (55, 1), (56, 1), (57, 1), (58, 1), (59, 1), (60, 1), (61, 1), (62, 1), (63, 1), (64, 1), (65, 1), (66, 2), (67, 1), (68, 1), (69, 1), (70, 1), (71, 2), (72, 1), (73, 1), (74, 1), (75, 1), (76, 1), (77, 1), (78, 2), (79, 1), (80, 1), (81, 1), (82, 1), (83, 1), (84, 1), (85, 2), (86, 1), (87, 1), (88, 1), (89, 1)]\n"
     ]
    }
   ],
   "source": [
    "from gensim import corpora\n",
    "dictionary = corpora.Dictionary(tokenized_doc)\n",
    "corpus = [dictionary.doc2bow(text) for text in tokenized_doc]\n",
    "print(corpus[1]) # 수행된 결과에서 두번째 뉴스 출력. 첫번째 문서의 인덱스는 0"
   ]
  },
  {
   "cell_type": "markdown",
   "metadata": {},
   "source": [
    "두번째 뉴스의 출력 결과를 봅시다. 위의 출력 결과 중에서 (66, 2)는 정수 인코딩이 66으로 할당된 단어가 두번째 뉴스에서는 두 번 등장하였음을 의미합니다. 66이라는 값을 가지는 단어가 정수 인코딩이 되기 전에는 어떤 단어였는지 확인하여봅시다. 이는 dictionary[]에 기존 단어가 무엇인지 알고자하는 정수값을 입력하여 확인할 수 있습니다."
   ]
  },
  {
   "cell_type": "code",
   "execution_count": 36,
   "metadata": {},
   "outputs": [
    {
     "name": "stdout",
     "output_type": "stream",
     "text": [
      "faith\n"
     ]
    }
   ],
   "source": [
    "print(dictionary[66])"
   ]
  },
  {
   "cell_type": "code",
   "execution_count": 37,
   "metadata": {},
   "outputs": [
    {
     "data": {
      "text/plain": [
       "64281"
      ]
     },
     "execution_count": 37,
     "metadata": {},
     "output_type": "execute_result"
    }
   ],
   "source": [
    "len(dictionary)"
   ]
  },
  {
   "cell_type": "markdown",
   "metadata": {},
   "source": [
    "기존의 뉴스 데이터가 총 20개의 카테고리를 가지고 있었으므로 토픽의 개수를 20으로 하여 LDA 모델을 학습시켜보도록 하겠습니다."
   ]
  },
  {
   "cell_type": "code",
   "execution_count": 38,
   "metadata": {},
   "outputs": [
    {
     "data": {
      "application/vnd.jupyter.widget-view+json": {
       "model_id": "71aa3663cd734e369b4c76519e0f42c6",
       "version_major": 2,
       "version_minor": 0
      },
      "text/plain": [
       "HBox(children=(FloatProgress(value=0.0, max=20.0), HTML(value='')))"
      ]
     },
     "metadata": {},
     "output_type": "display_data"
    },
    {
     "name": "stdout",
     "output_type": "stream",
     "text": [
      "(0, '0.013*\"allocation\" + 0.013*\"width\" + 0.011*\"temp\" + 0.011*\"column\"')\n",
      "(1, '0.018*\"would\" + 0.012*\"like\" + 0.011*\"think\" + 0.011*\"know\"')\n",
      "(2, '0.013*\"people\" + 0.007*\"would\" + 0.005*\"true\" + 0.005*\"right\"')\n",
      "(3, '0.031*\"wire\" + 0.026*\"ground\" + 0.020*\"picture\" + 0.018*\"neutral\"')\n",
      "(4, '0.018*\"windows\" + 0.013*\"thanks\" + 0.012*\"system\" + 0.011*\"card\"')\n",
      "(5, '0.019*\"output\" + 0.017*\"window\" + 0.014*\"program\" + 0.011*\"file\"')\n",
      "(6, '0.016*\"space\" + 0.007*\"research\" + 0.006*\"national\" + 0.006*\"university\"')\n",
      "(7, '0.020*\"chip\" + 0.017*\"encryption\" + 0.016*\"clipper\" + 0.015*\"government\"')\n",
      "(8, '0.033*\"church\" + 0.015*\"catholic\" + 0.011*\"pope\" + 0.008*\"easter\"')\n",
      "(9, '0.010*\"said\" + 0.009*\"people\" + 0.009*\"armenian\" + 0.008*\"armenians\"')\n",
      "(10, '0.016*\"file\" + 0.012*\"available\" + 0.010*\"information\" + 0.008*\"list\"')\n",
      "(11, '0.009*\"price\" + 0.009*\"power\" + 0.008*\"used\" + 0.008*\"drive\"')\n",
      "(12, '0.006*\"doctor\" + 0.006*\"treatment\" + 0.006*\"radar\" + 0.006*\"food\"')\n",
      "(13, '0.010*\"believe\" + 0.009*\"truth\" + 0.009*\"science\" + 0.008*\"exist\"')\n",
      "(14, '0.021*\"cubs\" + 0.020*\"lost\" + 0.012*\"baltimore\" + 0.010*\"houston\"')\n",
      "(15, '0.015*\"doug\" + 0.015*\"mask\" + 0.013*\"symbol\" + 0.009*\"ctrl\"')\n",
      "(16, '0.013*\"public\" + 0.011*\"guns\" + 0.010*\"number\" + 0.008*\"ripem\"')\n",
      "(17, '0.021*\"game\" + 0.019*\"team\" + 0.014*\"games\" + 0.013*\"year\"')\n",
      "(18, '0.046*\"jesus\" + 0.018*\"christ\" + 0.015*\"bible\" + 0.012*\"john\"')\n",
      "(19, '0.016*\"printer\" + 0.015*\"print\" + 0.013*\"font\" + 0.011*\"fonts\"')\n",
      "\n"
     ]
    }
   ],
   "source": [
    "import gensim\n",
    "from tqdm import tqdm_notebook\n",
    "\n",
    "NUM_TOPICS = 20 #20개의 토픽, k=20\n",
    "ldamodel = gensim.models.ldamodel.LdaModel(corpus, num_topics = NUM_TOPICS, id2word=dictionary, passes=15)\n",
    "topics = ldamodel.print_topics(num_words=4)\n",
    "for topic in tqdm_notebook(topics):\n",
    "    print(topic)"
   ]
  },
  {
   "cell_type": "code",
   "execution_count": 39,
   "metadata": {},
   "outputs": [
    {
     "data": {
      "text/plain": [
       "'alt.atheism, comp.graphics, comp.os.ms-windows.misc, comp.sys.ibm.pc.hardware, comp.sys.mac.hardware, comp.windows.x, misc.forsale, rec.autos, rec.motorcycles, rec.sport.baseball, rec.sport.hockey, sci.crypt, sci.electronics, sci.med, sci.space, soc.religion.christian, talk.politics.guns, talk.politics.mideast, talk.politics.misc, talk.religion.misc'"
      ]
     },
     "execution_count": 39,
     "metadata": {},
     "output_type": "execute_result"
    }
   ],
   "source": [
    "', '.join(data.target_names)"
   ]
  },
  {
   "cell_type": "code",
   "execution_count": 40,
   "metadata": {},
   "outputs": [
    {
     "name": "stdout",
     "output_type": "stream",
     "text": [
      "[(0, '0.013*\"allocation\" + 0.013*\"width\" + 0.011*\"temp\" + 0.011*\"column\" + 0.010*\"cluster\" + 0.009*\"height\" + 0.008*\"erzurum\" + 0.007*\"technician\" + 0.007*\"lamp\" + 0.006*\"debugger\"'), (1, '0.018*\"would\" + 0.012*\"like\" + 0.011*\"think\" + 0.011*\"know\" + 0.009*\"people\" + 0.009*\"time\" + 0.007*\"could\" + 0.007*\"well\" + 0.007*\"good\" + 0.007*\"much\"'), (2, '0.013*\"people\" + 0.007*\"would\" + 0.005*\"true\" + 0.005*\"right\" + 0.005*\"life\" + 0.004*\"state\" + 0.004*\"must\" + 0.004*\"human\" + 0.004*\"also\" + 0.004*\"government\"'), (3, '0.031*\"wire\" + 0.026*\"ground\" + 0.020*\"picture\" + 0.018*\"neutral\" + 0.012*\"sleeve\" + 0.009*\"connected\" + 0.008*\"grounded\" + 0.007*\"patent\" + 0.007*\"outlet\" + 0.006*\"neck\"'), (4, '0.018*\"windows\" + 0.013*\"thanks\" + 0.012*\"system\" + 0.011*\"card\" + 0.011*\"know\" + 0.010*\"would\" + 0.010*\"anyone\" + 0.010*\"disk\" + 0.010*\"drive\" + 0.009*\"scsi\"'), (5, '0.019*\"output\" + 0.017*\"window\" + 0.014*\"program\" + 0.011*\"file\" + 0.010*\"line\" + 0.009*\"display\" + 0.009*\"using\" + 0.009*\"problem\" + 0.007*\"input\" + 0.007*\"screen\"'), (6, '0.016*\"space\" + 0.007*\"research\" + 0.006*\"national\" + 0.006*\"university\" + 0.006*\"health\" + 0.006*\"nasa\" + 0.005*\"center\" + 0.005*\"april\" + 0.005*\"president\" + 0.005*\"program\"'), (7, '0.020*\"chip\" + 0.017*\"encryption\" + 0.016*\"clipper\" + 0.015*\"government\" + 0.011*\"privacy\" + 0.009*\"security\" + 0.009*\"technology\" + 0.008*\"phone\" + 0.008*\"keys\" + 0.008*\"escrow\"'), (8, '0.033*\"church\" + 0.015*\"catholic\" + 0.011*\"pope\" + 0.008*\"easter\" + 0.007*\"orthodox\" + 0.006*\"liar\" + 0.006*\"holy\" + 0.005*\"council\" + 0.004*\"ingr\" + 0.004*\"canon\"'), (9, '0.010*\"said\" + 0.009*\"people\" + 0.009*\"armenian\" + 0.008*\"armenians\" + 0.007*\"israel\" + 0.006*\"turkish\" + 0.006*\"jews\" + 0.005*\"killed\" + 0.005*\"israeli\" + 0.005*\"went\"'), (10, '0.016*\"file\" + 0.012*\"available\" + 0.010*\"information\" + 0.008*\"list\" + 0.008*\"files\" + 0.008*\"mail\" + 0.007*\"also\" + 0.007*\"send\" + 0.007*\"version\" + 0.007*\"info\"'), (11, '0.009*\"price\" + 0.009*\"power\" + 0.008*\"used\" + 0.008*\"drive\" + 0.007*\"sale\" + 0.007*\"bike\" + 0.006*\"good\" + 0.006*\"offer\" + 0.005*\"shipping\" + 0.005*\"sell\"'), (12, '0.006*\"doctor\" + 0.006*\"treatment\" + 0.006*\"radar\" + 0.006*\"food\" + 0.006*\"blood\" + 0.005*\"medical\" + 0.005*\"disease\" + 0.005*\"david\" + 0.005*\"body\" + 0.004*\"diet\"'), (13, '0.010*\"believe\" + 0.009*\"truth\" + 0.009*\"science\" + 0.008*\"exist\" + 0.007*\"many\" + 0.007*\"evidence\" + 0.007*\"theory\" + 0.007*\"book\" + 0.006*\"water\" + 0.006*\"objective\"'), (14, '0.021*\"cubs\" + 0.020*\"lost\" + 0.012*\"baltimore\" + 0.010*\"houston\" + 0.010*\"mydisplay\" + 0.009*\"reds\" + 0.008*\"west\" + 0.008*\"cincinnati\" + 0.008*\"east\" + 0.008*\"indians\"'), (15, '0.015*\"doug\" + 0.015*\"mask\" + 0.013*\"symbol\" + 0.009*\"ctrl\" + 0.008*\"runner\" + 0.007*\"wanna\" + 0.006*\"warned\" + 0.006*\"ireland\" + 0.006*\"methanol\" + 0.005*\"unclear\"'), (16, '0.013*\"public\" + 0.011*\"guns\" + 0.010*\"number\" + 0.008*\"ripem\" + 0.007*\"used\" + 0.007*\"crime\" + 0.007*\"control\" + 0.007*\"police\" + 0.007*\"firearms\" + 0.006*\"part\"'), (17, '0.021*\"game\" + 0.019*\"team\" + 0.014*\"games\" + 0.013*\"year\" + 0.013*\"play\" + 0.011*\"season\" + 0.009*\"players\" + 0.009*\"league\" + 0.009*\"hockey\" + 0.008*\"period\"'), (18, '0.046*\"jesus\" + 0.018*\"christ\" + 0.015*\"bible\" + 0.012*\"john\" + 0.011*\"paul\" + 0.010*\"lord\" + 0.010*\"matthew\" + 0.010*\"faith\" + 0.009*\"christian\" + 0.008*\"spirit\"'), (19, '0.016*\"printer\" + 0.015*\"print\" + 0.013*\"font\" + 0.011*\"fonts\" + 0.010*\"copies\" + 0.010*\"cover\" + 0.008*\"printing\" + 0.006*\"laser\" + 0.006*\"appears\" + 0.006*\"copy\"')]\n"
     ]
    }
   ],
   "source": [
    "print(ldamodel.print_topics())"
   ]
  },
  {
   "cell_type": "markdown",
   "metadata": {},
   "source": [
    "## LDA 시각화 하기"
   ]
  },
  {
   "cell_type": "code",
   "execution_count": 44,
   "metadata": {},
   "outputs": [
    {
     "data": {
      "text/html": [
       "\n",
       "<link rel=\"stylesheet\" type=\"text/css\" href=\"https://cdn.rawgit.com/bmabey/pyLDAvis/files/ldavis.v1.0.0.css\">\n",
       "\n",
       "\n",
       "<div id=\"ldavis_el1325221191605061847992748868\"></div>\n",
       "<script type=\"text/javascript\">\n",
       "\n",
       "var ldavis_el1325221191605061847992748868_data = {\"mdsDat\": {\"x\": [-0.2755791735565725, -0.1956979266178415, -0.20104396159752405, -0.13382801608271105, -0.1349917855199139, -0.2177592256638486, -0.14852184002041935, -0.15713559320801682, -0.0161658640236445, -0.04576795654340304, -0.0645033985152667, -0.02172606119731367, 0.12772867535760965, 0.12259350325323957, 0.17497329280169988, 0.21458492073591032, 0.23122825008987427, 0.24849085216272304, 0.24465077178659306, 0.24847053635882652], \"y\": [0.08536686558232853, 0.2107297510789623, -0.13349174932662222, 0.16588863141159219, -0.0347838742353546, -0.14836875103939026, -0.15872700969966957, -0.09638818614596324, -0.0022091685443670593, -0.032434532505075706, 0.1949129488032568, -0.08623885952734048, -0.0004412131827898353, 0.1558309957531207, -0.0553936927350175, 0.011401911160189872, -0.030069261375150536, -0.01516987588313716, -0.0155815589658395, -0.01483337062373212], \"topics\": [1, 2, 3, 4, 5, 6, 7, 8, 9, 10, 11, 12, 13, 14, 15, 16, 17, 18, 19, 20], \"cluster\": [1, 1, 1, 1, 1, 1, 1, 1, 1, 1, 1, 1, 1, 1, 1, 1, 1, 1, 1, 1], \"Freq\": [27.21281256659856, 10.180595843198068, 9.022647415774854, 8.002026719413156, 7.6569412319450025, 7.206264187377803, 5.590108632964515, 4.6378416412586105, 4.295207931686804, 3.6642317384598546, 3.202446228269993, 2.5586171390959347, 1.979630611185933, 1.7983558325942415, 0.9143525896575757, 0.7564629802348701, 0.456580813706472, 0.3388211894717617, 0.2759967048350741, 0.2500580022709152]}, \"tinfo\": {\"Term\": [\"people\", \"file\", \"would\", \"jesus\", \"know\", \"windows\", \"said\", \"game\", \"program\", \"think\", \"output\", \"space\", \"government\", \"team\", \"window\", \"believe\", \"anyone\", \"like\", \"drive\", \"thanks\", \"year\", \"chip\", \"problem\", \"system\", \"card\", \"available\", \"good\", \"software\", \"information\", \"church\", \"pain\", \"myers\", \"damn\", \"paying\", \"surprised\", \"talked\", \"glad\", \"spending\", \"bother\", \"treat\", \"sport\", \"accident\", \"shit\", \"weaver\", \"listening\", \"homosexual\", \"homosexuals\", \"harder\", \"republicans\", \"criticism\", \"alcohol\", \"feels\", \"crack\", \"liked\", \"creative\", \"fool\", \"blow\", \"conductor\", \"taste\", \"consumer\", \"stupid\", \"really\", \"kids\", \"enough\", \"think\", \"going\", \"guess\", \"yeah\", \"worse\", \"maybe\", \"thing\", \"flame\", \"kind\", \"much\", \"anyway\", \"money\", \"would\", \"know\", \"something\", \"little\", \"like\", \"sure\", \"pretty\", \"probably\", \"remember\", \"better\", \"thought\", \"course\", \"time\", \"things\", \"take\", \"could\", \"good\", \"well\", \"want\", \"even\", \"actually\", \"make\", \"might\", \"someone\", \"back\", \"people\", \"still\", \"right\", \"many\", \"since\", \"also\", \"work\", \"said\", \"militia\", \"evil\", \"resurrection\", \"candida\", \"testament\", \"marriage\", \"gospel\", \"intent\", \"followers\", \"luke\", \"gaza\", \"mormon\", \"hawks\", \"fallacy\", \"constitution\", \"implies\", \"disciples\", \"liberty\", \"cult\", \"mankind\", \"mormons\", \"vitamin\", \"immoral\", \"commandments\", \"paranoid\", \"kidney\", \"unto\", \"reactions\", \"gospels\", \"baptism\", \"revelation\", \"supreme\", \"consequences\", \"moral\", \"shall\", \"punishment\", \"rights\", \"human\", \"koresh\", \"society\", \"freedom\", \"authority\", \"death\", \"context\", \"argument\", \"views\", \"laws\", \"therefore\", \"acts\", \"individual\", \"bear\", \"life\", \"religion\", \"christian\", \"upon\", \"people\", \"evidence\", \"true\", \"justice\", \"state\", \"civil\", \"person\", \"fact\", \"must\", \"government\", \"cannot\", \"question\", \"right\", \"would\", \"world\", \"case\", \"however\", \"others\", \"believe\", \"also\", \"even\", \"many\", \"first\", \"point\", \"anonymous\", \"contrib\", \"entries\", \"uuencode\", \"widgets\", \"toolkit\", \"binaries\", \"compile\", \"comp\", \"ansi\", \"tiff\", \"interactive\", \"anon\", \"functionality\", \"script\", \"shar\", \"directories\", \"layout\", \"listing\", \"password\", \"ciphertext\", \"handler\", \"isbn\", \"digest\", \"paradox\", \"digit\", \"siggraph\", \"athena\", \"toolkits\", \"sender\", \"directory\", \"archive\", \"guidelines\", \"libraries\", \"requests\", \"export\", \"distribution\", \"linked\", \"platforms\", \"server\", \"request\", \"motif\", \"usenet\", \"file\", \"available\", \"header\", \"files\", \"entry\", \"library\", \"list\", \"user\", \"sites\", \"internet\", \"send\", \"info\", \"information\", \"version\", \"email\", \"mail\", \"source\", \"unix\", \"graphics\", \"subject\", \"address\", \"code\", \"image\", \"software\", \"name\", \"program\", \"based\", \"also\", \"data\", \"number\", \"armenian\", \"armenians\", \"turkish\", \"turkey\", \"arab\", \"armenia\", \"turks\", \"soldiers\", \"genocide\", \"apartment\", \"azerbaijan\", \"nazi\", \"henrik\", \"tobacco\", \"azerbaijani\", \"troops\", \"palestinian\", \"villages\", \"sumgait\", \"karina\", \"arabs\", \"greece\", \"karabakh\", \"nazis\", \"republic\", \"argic\", \"civilians\", \"victims\", \"ottoman\", \"serdar\", \"burned\", \"israeli\", \"israel\", \"killed\", \"army\", \"jews\", \"greek\", \"soviet\", \"said\", \"went\", \"women\", \"children\", \"russian\", \"military\", \"population\", \"people\", \"muslim\", \"came\", \"government\", \"started\", \"city\", \"told\", \"first\", \"years\", \"left\", \"launch\", \"satellite\", \"shuttle\", \"orbit\", \"patients\", \"lunar\", \"gordon\", \"cancer\", \"satellites\", \"spacecraft\", \"skepticism\", \"launched\", \"funding\", \"mars\", \"centers\", \"intellect\", \"missions\", \"shameful\", \"cadre\", \"planetary\", \"telescope\", \"chastity\", \"newsletter\", \"astronomy\", \"materials\", \"hicnet\", \"terminals\", \"propulsion\", \"orbital\", \"payload\", \"moon\", \"mission\", \"space\", \"flight\", \"health\", \"funds\", \"nasa\", \"research\", \"center\", \"university\", \"national\", \"billion\", \"washington\", \"april\", \"senior\", \"congress\", \"president\", \"earth\", \"solar\", \"united\", \"medical\", \"states\", \"office\", \"department\", \"program\", \"american\", \"science\", \"report\", \"among\", \"year\", \"information\", \"years\", \"data\", \"also\", \"general\", \"high\", \"system\", \"scsi\", \"modem\", \"jpeg\", \"microsoft\", \"bios\", \"simms\", \"cache\", \"gateway\", \"ports\", \"intel\", \"vesa\", \"adaptec\", \"nubus\", \"quadra\", \"svga\", \"diamond\", \"slots\", \"vram\", \"workstation\", \"eisa\", \"linux\", \"centris\", \"ethernet\", \"docs\", \"config\", \"animation\", \"baud\", \"megs\", \"bandwidth\", \"simm\", \"disk\", \"port\", \"card\", \"controller\", \"windows\", \"floppy\", \"video\", \"memory\", \"motherboard\", \"monitor\", \"cards\", \"processor\", \"graphic\", \"apple\", \"thanks\", \"advance\", \"drivers\", \"drives\", \"hardware\", \"drive\", \"appreciated\", \"driver\", \"software\", \"board\", \"color\", \"anyone\", \"system\", \"mode\", \"please\", \"help\", \"know\", \"need\", \"would\", \"using\", \"like\", \"work\", \"problem\", \"also\", \"hard\", \"computer\", \"could\", \"version\", \"data\", \"sale\", \"bike\", \"brand\", \"wiring\", \"plastic\", \"bikes\", \"honda\", \"battery\", \"stereo\", \"helmet\", \"ford\", \"macs\", \"tapes\", \"inch\", \"sabbath\", \"tires\", \"circuits\", \"wires\", \"jumper\", \"warranty\", \"gear\", \"accelerator\", \"exhaust\", \"jumpers\", \"brake\", \"steering\", \"repair\", \"engine\", \"factory\", \"buyer\", \"electronics\", \"shipping\", \"cable\", \"motorcycle\", \"wheel\", \"prices\", \"price\", \"offer\", \"condition\", \"supply\", \"sell\", \"selling\", \"miles\", \"audio\", \"cars\", \"asking\", \"model\", \"power\", \"excellent\", \"unit\", \"drive\", \"used\", \"front\", \"interested\", \"company\", \"good\", \"best\", \"sold\", \"please\", \"email\", \"also\", \"mail\", \"high\", \"like\", \"make\", \"back\", \"printf\", \"char\", \"null\", \"filename\", \"output\", \"voltage\", \"menu\", \"colormap\", \"pixmap\", \"analog\", \"argv\", \"offset\", \"polygon\", \"exit\", \"sync\", \"click\", \"pixels\", \"chipset\", \"adobe\", \"static\", \"rows\", \"wrap\", \"interrupt\", \"argc\", \"timer\", \"reset\", \"joystick\", \"toplevel\", \"sphere\", \"mpeg\", \"string\", \"window\", \"xterm\", \"input\", \"stream\", \"bytes\", \"display\", \"icon\", \"button\", \"screen\", \"function\", \"default\", \"error\", \"shell\", \"keyboard\", \"define\", \"errors\", \"application\", \"mouse\", \"line\", \"program\", \"return\", \"size\", \"manager\", \"file\", \"widget\", \"using\", \"check\", \"build\", \"open\", \"problem\", \"value\", \"lines\", \"time\", \"read\", \"color\", \"season\", \"players\", \"hockey\", \"detroit\", \"montreal\", \"fans\", \"minnesota\", \"puck\", \"rangers\", \"calgary\", \"scorer\", \"scoring\", \"score\", \"playoffs\", \"scored\", \"flyers\", \"leafs\", \"islanders\", \"hartford\", \"pens\", \"espn\", \"playoff\", \"league\", \"winnipeg\", \"sharks\", \"lemieux\", \"jets\", \"stanley\", \"bruins\", \"lindros\", \"game\", \"teams\", \"games\", \"team\", \"philadelphia\", \"toronto\", \"play\", \"player\", \"jose\", \"kings\", \"chicago\", \"pittsburgh\", \"boston\", \"played\", \"period\", \"year\", \"goal\", \"division\", \"last\", \"first\", \"second\", \"third\", \"power\", \"series\", \"points\", \"ripem\", \"firearms\", \"crypt\", \"cipher\", \"firearm\", \"handgun\", \"cryptographic\", \"handguns\", \"homicide\", \"plaintext\", \"outlets\", \"financial\", \"rkba\", \"decrypt\", \"cryptology\", \"cryptanalysis\", \"homicides\", \"ieee\", \"alomar\", \"accidents\", \"compress\", \"cryptosystem\", \"encrypt\", \"suck\", \"decryption\", \"cryptosystems\", \"skipjack\", \"coding\", \"pistol\", \"brute\", \"weapon\", \"guns\", \"criminals\", \"insurance\", \"random\", \"cryptography\", \"crime\", \"warrant\", \"rates\", \"license\", \"weapons\", \"public\", \"encrypted\", \"police\", \"block\", \"keys\", \"criminal\", \"private\", \"rate\", \"security\", \"number\", \"control\", \"federal\", \"carry\", \"canada\", \"part\", \"used\", \"serial\", \"defense\", \"using\", \"system\", \"atheism\", \"atheists\", \"atheist\", \"gods\", \"universe\", \"yankees\", \"allah\", \"temple\", \"subjects\", \"patents\", \"deity\", \"pagan\", \"plants\", \"wwii\", \"certainty\", \"corn\", \"yassin\", \"tigers\", \"trees\", \"invented\", \"gifs\", \"fighters\", \"amongst\", \"theists\", \"darkness\", \"steam\", \"volvo\", \"lips\", \"forty\", \"execution\", \"absolute\", \"objective\", \"evolution\", \"theory\", \"morality\", \"observations\", \"belief\", \"truth\", \"water\", \"religions\", \"exist\", \"christianity\", \"science\", \"existence\", \"beliefs\", \"exists\", \"evidence\", \"religion\", \"book\", \"believe\", \"christians\", \"scientific\", \"faith\", \"books\", \"religious\", \"bible\", \"many\", \"true\", \"world\", \"must\", \"something\", \"clipper\", \"escrow\", \"nist\", \"pitching\", \"phones\", \"wiretap\", \"compass\", \"ncsl\", \"rockefeller\", \"pitcher\", \"mets\", \"clemens\", \"cmos\", \"innings\", \"inning\", \"pitched\", \"rings\", \"fuse\", \"bolt\", \"escrowed\", \"batting\", \"losses\", \"symmetric\", \"restraint\", \"pace\", \"bullpen\", \"viola\", \"nissan\", \"cpsr\", \"dorothy\", \"denning\", \"privacy\", \"encryption\", \"chip\", \"morris\", \"cellular\", \"agencies\", \"rotation\", \"secret\", \"secure\", \"enforcement\", \"algorithm\", \"technology\", \"crypto\", \"security\", \"government\", \"keys\", \"phone\", \"communications\", \"administration\", \"chips\", \"voice\", \"protect\", \"system\", \"strong\", \"devices\", \"information\", \"access\", \"data\", \"diet\", \"syndrome\", \"infection\", \"decenso\", \"chronic\", \"theories\", \"accelerators\", \"protein\", \"seagate\", \"powerpc\", \"detector\", \"genes\", \"believer\", \"profile\", \"ssto\", \"robinson\", \"tissue\", \"intrinsics\", \"premises\", \"winfield\", \"scores\", \"simpler\", \"projected\", \"evans\", \"anecdotal\", \"streak\", \"diagnosis\", \"practically\", \"concentrate\", \"diarrhea\", \"risc\", \"symptoms\", \"radar\", \"netcom\", \"surgery\", \"gene\", \"hanging\", \"treatment\", \"stephen\", \"patient\", \"acid\", \"doctor\", \"infections\", \"nolan\", \"instruction\", \"disease\", \"blood\", \"food\", \"medicine\", \"medical\", \"frank\", \"body\", \"david\", \"brian\", \"dave\", \"cause\", \"article\", \"studies\", \"prophecy\", \"messiah\", \"scripture\", \"hebrew\", \"gift\", \"romans\", \"verse\", \"prophet\", \"darren\", \"conscience\", \"grace\", \"carson\", \"gentiles\", \"bone\", \"arafat\", \"hong\", \"documentary\", \"blessed\", \"wright\", \"psalm\", \"nerve\", \"wealth\", \"deaf\", \"bronx\", \"hussein\", \"apostles\", \"gangs\", \"rushdie\", \"abraham\", \"logos\", \"matthew\", \"jesus\", \"verses\", \"lord\", \"salvation\", \"christ\", \"heaven\", \"satan\", \"spirit\", \"passages\", \"holy\", \"scriptures\", \"paul\", \"islam\", \"peter\", \"bible\", \"professor\", \"faith\", \"john\", \"saved\", \"father\", \"christian\", \"christians\", \"muslims\", \"book\", \"eternal\", \"james\", \"word\", \"name\", \"said\", \"says\", \"dead\", \"pointer\", \"cica\", \"tyre\", \"hulk\", \"freeware\", \"wolverine\", \"comics\", \"packard\", \"truetype\", \"outline\", \"hewlett\", \"configure\", \"emulation\", \"deskjet\", \"impulse\", \"prints\", \"hawk\", \"archer\", \"downloaded\", \"toner\", \"appletalk\", \"udel\", \"printing\", \"batman\", \"restaurants\", \"punisher\", \"laserwriter\", \"assure\", \"infinity\", \"upload\", \"print\", \"printers\", \"font\", \"printer\", \"expose\", \"radius\", \"laser\", \"fonts\", \"photography\", \"copies\", \"restore\", \"ghost\", \"formatted\", \"cover\", \"chinese\", \"annual\", \"rider\", \"appears\", \"copy\", \"pictures\", \"issue\", \"double\", \"panel\", \"object\", \"catholic\", \"pope\", \"easter\", \"ingr\", \"ceremonial\", \"exclusively\", \"bishop\", \"catbyte\", \"dtmedin\", \"schism\", \"souls\", \"qemm\", \"summaries\", \"sect\", \"objection\", \"huntsville\", \"declined\", \"lunatic\", \"intergraph\", \"jerk\", \"carrier\", \"thumbs\", \"heresy\", \"vatican\", \"fundamentalist\", \"pains\", \"godhead\", \"archbishop\", \"combustion\", \"heretical\", \"liar\", \"catholics\", \"church\", \"orthodox\", \"austria\", \"canon\", \"churches\", \"mandate\", \"holy\", \"council\", \"priest\", \"divine\", \"worship\", \"father\", \"mass\", \"sunday\", \"spirit\", \"sleeve\", \"grounded\", \"patent\", \"neck\", \"creed\", \"plugs\", \"programmers\", \"targa\", \"uniforms\", \"transformer\", \"fractal\", \"flavor\", \"thief\", \"helper\", \"pliers\", \"compounds\", \"cubic\", \"thee\", \"measuring\", \"nambla\", \"cyberspace\", \"quicker\", \"netland\", \"circumcision\", \"genetics\", \"occurring\", \"wire\", \"doit\", \"insulated\", \"nicene\", \"neutral\", \"outlet\", \"init\", \"ground\", \"deciding\", \"picture\", \"stones\", \"connected\", \"electrical\", \"allocated\", \"motors\", \"panel\", \"circuit\", \"screw\", \"subject\", \"current\", \"allocation\", \"temp\", \"cluster\", \"erzurum\", \"lamp\", \"debugger\", \"auth\", \"chars\", \"offenses\", \"saab\", \"theta\", \"rtrace\", \"lamps\", \"arrow\", \"graeme\", \"smartdrv\", \"programmable\", \"mathcad\", \"notebook\", \"induce\", \"metallic\", \"optimistic\", \"marker\", \"rectangle\", \"finishes\", \"xfig\", \"refund\", \"workgroups\", \"osmanli\", \"mopar\", \"width\", \"technician\", \"accessed\", \"variant\", \"transfers\", \"column\", \"height\", \"attributes\", \"backing\", \"rebuild\", \"lights\", \"cubs\", \"mydisplay\", \"cincinnati\", \"indians\", \"jacket\", \"orioles\", \"erase\", \"phils\", \"pennant\", \"compaq\", \"hats\", \"brewers\", \"fade\", \"geez\", \"drawindex\", \"baseman\", \"chevrolet\", \"charger\", \"billy\", \"chrome\", \"offhand\", \"buick\", \"utopian\", \"mussina\", \"lyrics\", \"sutcliffe\", \"deficits\", \"xlock\", \"consistantly\", \"sturdy\", \"reds\", \"baltimore\", \"smiley\", \"idle\", \"houston\", \"pants\", \"cleveland\", \"lost\", \"pack\", \"jays\", \"palette\", \"west\", \"east\", \"seal\", \"mack\", \"francisco\", \"oakland\", \"jack\", \"phillies\", \"ctrl\", \"runner\", \"warned\", \"methanol\", \"quantization\", \"passion\", \"bass\", \"shine\", \"awarded\", \"imprisoned\", \"pour\", \"poly\", \"drawings\", \"heal\", \"chunks\", \"aspartame\", \"langley\", \"xservers\", \"omar\", \"vent\", \"iftccu\", \"pathfinder\", \"rlogin\", \"wanna\", \"stty\", \"debris\", \"cages\", \"symbol\", \"graphite\", \"framemaker\", \"mask\", \"damaging\", \"ireland\", \"doug\", \"unclear\", \"capitals\", \"coffee\", \"progressive\", \"suspicious\", \"label\"], \"Freq\": [4380.0, 1934.0, 6515.0, 902.0, 3715.0, 1322.0, 1905.0, 871.0, 1666.0, 3240.0, 857.0, 1356.0, 1241.0, 801.0, 850.0, 1417.0, 1692.0, 4237.0, 1098.0, 1306.0, 1616.0, 662.0, 1676.0, 2082.0, 789.0, 1496.0, 2633.0, 1081.0, 1587.0, 417.0, 271.0552059903688, 172.67904167488476, 114.39257190463078, 110.56926093847648, 110.95185071034244, 107.53979557451983, 98.18453284918118, 89.63823537007002, 88.93932055937721, 88.88359192645491, 88.75757472326295, 85.62286937579914, 83.59229891351401, 78.46318469361326, 77.8104003025992, 76.9085842559165, 72.57021456064852, 64.03188155635647, 63.54758400396578, 62.81125204519118, 62.60310923175624, 61.95025676830783, 61.145190559847926, 58.0298669471647, 57.479119353441384, 55.047768652110854, 54.37310653705666, 53.40887184987569, 53.4024919500562, 53.30873351714296, 179.71184690304355, 1449.0445375853699, 135.58646296008683, 874.6458875254449, 2886.280897909589, 1294.7309243734164, 389.7581925105606, 188.3696772840375, 194.4734148009616, 682.0568084705741, 922.9945609315968, 137.43062084270275, 535.3086748491825, 1809.7242434412774, 395.1025744586917, 519.4180878095284, 4743.969765209616, 2790.3920700908875, 1360.6157224656085, 871.4993073199887, 3099.9513745403483, 1023.7515662021226, 462.29390947420063, 884.4198184128558, 556.040391893412, 995.1784493000938, 599.7462832414806, 785.4742054932113, 2255.4669002096325, 1020.0980430144482, 1096.5699501676047, 1900.7066522272564, 1848.4129845967454, 1870.344410223983, 1360.6891801858776, 1688.790205576032, 734.4231472065571, 1458.1001681455054, 964.812213714005, 822.4109134605523, 1077.2020416547928, 2294.813614388333, 1000.0161908101594, 1154.8293044181753, 1154.4575381633713, 960.5891209045091, 1247.5963606519397, 908.3813153045264, 905.0885457644988, 155.74391897765264, 176.2599402802116, 91.49505938288458, 89.15388611055654, 85.0497673159714, 81.79584263261714, 80.65420303720335, 77.09842551718533, 76.51538740843645, 72.59795014527407, 67.06201960133049, 66.6645368341492, 66.65119233325203, 65.35253131209912, 173.28501074093262, 60.20773952112746, 58.35196539487703, 56.6244354309806, 55.377913038651094, 55.968557173356636, 51.9430509580601, 49.6820012835701, 49.31388434130628, 48.714168436058685, 47.07023684673943, 46.9947198747412, 46.963548750508124, 42.870507928996005, 42.76519502942204, 42.231429141649066, 83.76921022118405, 73.76699746666115, 53.75032535034584, 233.4652010549492, 206.93343573768098, 83.04498525561475, 362.7431038295929, 421.21193830336193, 159.9766271485675, 252.34747741009517, 183.76651065638939, 177.8916931732074, 286.73552052018226, 181.38910689434817, 281.82895466867893, 119.17858302652681, 239.53999363724162, 226.84189176147905, 145.52998818959964, 199.3560002893088, 130.4259939099314, 439.0953804641285, 264.2089164306256, 332.52671694992927, 234.83591558985225, 1282.8477309973175, 299.4516867075919, 452.6066706447748, 141.65246558497319, 428.91068533834635, 142.4814092293386, 319.5150928732748, 392.35988232967344, 427.9366160022901, 395.0413686711068, 274.54072930251573, 361.77514647868037, 450.5791214397577, 708.5391216224403, 344.83227092058956, 339.0992062187783, 336.5279167057884, 276.9535146674446, 329.2154471318884, 412.42258674891394, 364.5413177698276, 319.3154799658766, 269.5428005916045, 258.2670934806826, 426.0273804048956, 262.7342484474983, 257.67776271279683, 154.03586497061346, 143.03520981584114, 116.92846402652884, 112.02695905797782, 108.00280572371935, 371.3311872325981, 86.70219906840839, 82.35238048732411, 81.69650589742227, 66.18733988192163, 65.32820475710021, 64.11810089143262, 63.43898420216697, 60.73585883144614, 60.37229100695692, 57.103240077406824, 56.46134384981117, 55.154153812934034, 52.26485090048161, 51.749968683306506, 48.578520527519785, 47.54203524441095, 44.36104248027522, 44.153172646841334, 43.40741924368975, 43.27487307194027, 42.386462130548615, 371.31381333700114, 270.02578754579355, 103.91190533328191, 122.50721989648119, 153.40836841226113, 305.7091810735703, 224.7170752971989, 88.481378263816, 100.43448802997918, 560.6127981033909, 353.0984674754857, 391.1071743625727, 191.3875637515155, 1370.8602283077175, 1054.3977293448102, 99.02220699008744, 695.2579611380152, 550.4479456940182, 251.9060984212367, 698.3872685689735, 386.6005944919728, 200.30368246153478, 340.33760196859316, 602.2462693794755, 576.6002728814786, 879.8579691991922, 597.505362602903, 502.03624766691695, 688.478450403952, 463.97457647916485, 278.2246211642687, 397.1517653004385, 467.5435277301131, 392.2534502272684, 421.2159348097102, 396.58131570759406, 480.9737496488949, 466.96208403243367, 538.0712719892981, 415.5638815638186, 624.3927700844416, 444.22230291107894, 372.12745734373243, 684.990545546844, 603.635692801309, 482.93666693165824, 304.17429483049716, 250.05978523068393, 234.94563766594948, 226.07624391373025, 213.81053465737472, 202.6541201454169, 179.84508433937336, 179.82563676289368, 174.16350956687222, 158.5170357504273, 155.9516281822703, 134.58789604837452, 134.01511777001573, 130.36237182468514, 128.4752540888893, 127.8954654307199, 127.37896591210978, 118.26223386103942, 112.06423074129678, 104.96991319779869, 104.67103793163429, 104.47350179798599, 99.881791986245, 99.43260278952205, 97.7999760751252, 96.8639658205132, 95.71276893283125, 99.75298070543552, 356.51902159213154, 558.5979881147614, 360.49454748706705, 199.9085066718744, 446.82271313012546, 254.93199919906024, 175.14432219804038, 768.871483679365, 347.5064132533752, 252.35230397864962, 327.7946130676187, 223.97170654317353, 234.66516909499848, 193.23617306943825, 725.5179426745276, 164.79876308894873, 269.0983220619891, 322.7730815678447, 221.8583261300638, 201.25884104899893, 213.6483529010962, 245.20497266193902, 229.01008786447196, 208.87029865342487, 272.55610994694996, 229.80129230413877, 200.99886252596082, 192.91871619652952, 191.57061769780285, 175.24013784007602, 135.44740489826594, 126.49876925298179, 118.27359094540671, 114.13706815268326, 97.10699223768033, 96.00428270426285, 95.33867811782834, 91.18534261413265, 89.8712781500728, 88.794277167104, 86.17898548867853, 85.21797944227059, 84.399511133847, 82.96670211011539, 82.96210521698882, 82.74791553558505, 126.66255485252903, 78.65816187404208, 74.11468634814003, 72.82901195551938, 70.20768898305653, 69.20301245194602, 68.98159968939798, 65.18596631668855, 166.77996465331685, 182.94109156315423, 1156.9118748347246, 164.38695829585697, 434.0957866912598, 129.3500858551623, 425.246120452438, 480.39412791346484, 400.008325910976, 460.0726935453564, 468.52733343483357, 149.9234129410775, 311.247597550931, 394.0266783193613, 115.40377610477422, 218.5310553746277, 386.8761599843665, 265.040564246644, 121.21930559921816, 257.4591467703871, 228.9592436365288, 303.01153141685796, 219.09383427203252, 178.67481720555037, 380.9878122976914, 240.18220066895645, 216.034159232507, 185.8829839854586, 210.90678463911297, 289.49666562469514, 287.8653133817203, 269.715604556382, 255.42151430267256, 274.75829416306624, 205.30232064129973, 206.45433610988238, 209.69094045819116, 618.3825859559952, 290.76437962739294, 284.21287948420854, 160.8717999976527, 169.67199636969758, 145.6249608134504, 119.40676640988903, 102.78407534172723, 110.59691592079893, 99.55929580344751, 96.3453160575138, 91.06008355518175, 86.36372014574499, 86.28717621690699, 82.73015084139557, 80.95221499714796, 78.67621484223761, 78.51363310182423, 77.17330516390487, 76.7799539733921, 73.50651928754768, 71.25388129471516, 69.89666466075326, 69.73498824417896, 65.03763939374922, 61.96523867633346, 61.85291042070512, 60.050162293894054, 60.02073926912353, 55.416150059481545, 690.1810796277902, 272.65066025482207, 767.5923247270687, 302.31916398489733, 1204.7124137286523, 234.69036758793337, 449.07433748844363, 527.7152847595336, 164.7181604627659, 334.8193604493474, 245.50313891285876, 116.14558964859162, 94.40194630217388, 351.36047623140615, 908.4290517907028, 296.381617615495, 306.805564369103, 266.3385181206354, 384.3957270964756, 686.3721819438416, 238.46492705971957, 306.7856632680738, 576.4208099906082, 267.0325249545963, 347.60695552423465, 712.236178410002, 795.6967813786686, 262.94595723865405, 529.8746663852241, 438.99736210495445, 728.2014120898131, 505.8379499183995, 716.1249368729602, 432.45422619263746, 568.137465401816, 420.43437778016255, 410.35743444353494, 474.6223839464761, 341.83368136719304, 332.8757503425458, 366.9073381335408, 329.01673136711605, 323.0016956864597, 358.47117289962875, 349.8326073566146, 130.76774548146784, 126.83690767401, 109.9703218094972, 106.78783501498452, 96.1903762348161, 103.0444951455191, 93.09791256443152, 93.21740684179504, 87.57637205780496, 83.98104052117422, 83.5214968660635, 82.30401257560308, 79.16176739163438, 77.55755967011632, 75.60063034785504, 74.12051594490553, 73.66148812820025, 73.17576101282363, 71.31224816130928, 61.18116944885365, 59.32357320170037, 57.86351434735709, 56.215640594073484, 54.84751905938686, 50.91936609760547, 258.12889413348626, 49.78368880630956, 44.698199555124816, 110.67407455259472, 289.47854439388186, 252.04306991576485, 109.69010347185915, 78.02982526758743, 126.99224339816999, 490.0532967099366, 311.27123787214316, 258.6278030953438, 176.04927126424457, 262.91893227677144, 131.62603843889528, 164.93217054727273, 119.91593486297938, 194.03416993204405, 214.8188032975283, 223.7804204105927, 455.272413675042, 174.50103511717575, 190.5533545214184, 404.2536834277258, 432.3259823463743, 164.3958601935614, 204.43856842033017, 165.9883341450861, 328.7113490346047, 227.71553408338713, 126.37144741453822, 214.6958721691021, 177.6088309965506, 246.65227269269246, 193.98972082028953, 175.8466399947194, 211.26859208407117, 169.82908046428983, 165.17174330453125, 244.44665132096503, 240.5549444182123, 225.15255890342092, 152.87856637555493, 851.1098027976627, 102.5458272040984, 99.53645228131157, 85.3117468987327, 80.85563008953407, 65.65420300500911, 62.97111869713708, 52.72684325599297, 52.66428802235023, 90.11370154430504, 50.60697776826851, 49.86038322035383, 48.691334596640985, 45.72346207045739, 45.10313298260235, 45.037391206395206, 44.094875852947794, 43.52787752519553, 41.70581712747164, 41.534323903490375, 41.20178395267259, 40.20956781641258, 33.3521720456899, 32.787968387953654, 31.302717289337707, 26.851720604356633, 166.55132958618742, 764.7106508269399, 185.43547175595705, 322.7593895068071, 225.59927298369396, 145.03482482247122, 415.3507464879357, 68.88917792265012, 107.01447362240944, 297.44361851201205, 223.49471115022698, 125.53392682374157, 279.0734790640451, 126.57840122681407, 237.88889109754123, 186.64590418326506, 161.98145630117062, 281.4125869301482, 199.3098430802914, 458.4140745756895, 613.3498377685358, 232.33816082394947, 265.05854924407106, 173.6043651485759, 490.9694021534626, 204.69724500069594, 396.8999019198751, 252.76402241093365, 225.04522707490895, 256.7823247716815, 381.81544879103916, 200.96523647384026, 198.89612879356545, 269.97830284017107, 224.73723587675957, 193.10014817930576, 451.2037386348047, 387.6077200258229, 374.7630370287365, 183.39751523172328, 150.8601959122987, 140.53068550742032, 139.06860707354662, 137.3153220557, 133.26808441562218, 127.16269785139757, 121.3367897649795, 117.97320138842038, 115.04096473417722, 110.21036027644145, 103.59066569498144, 97.34130421181709, 95.40414197245494, 94.40830351156961, 89.67924076780845, 86.71842879300358, 84.74106818323895, 84.5997387735892, 378.12029337403476, 81.42025683234691, 77.88474377895238, 76.76911245516416, 76.71409636756533, 69.42108624479512, 68.27371836010231, 62.5394480413278, 857.162888626976, 272.14472493058247, 578.1290473926589, 760.4654555335775, 155.5035899978251, 189.95362208447344, 531.0086112025103, 252.59328430984334, 134.23866160548954, 151.77670729678513, 200.88524849363412, 194.59724538380112, 169.72962996842844, 167.59360565529096, 328.1227273477049, 547.0551053853154, 172.15087265497993, 168.95513563499568, 296.5356520438576, 303.4163065380944, 226.22395557412267, 177.45302720543415, 211.1418784602751, 154.32952825585622, 152.6728186529561, 271.77587173741756, 236.41719732287592, 117.57339757412329, 101.16387591622484, 100.34093845152239, 94.25267266441065, 83.63489402135373, 80.59238656861415, 79.53687663222809, 79.5155870239426, 76.46340025446243, 70.06125736456073, 67.90738533152168, 66.62202013905218, 65.69336791449356, 58.994038225121, 57.86465831800385, 57.76452464566223, 57.35103938899005, 54.72627429982244, 52.34413171365116, 47.29866564902368, 46.966203932188876, 46.03056108998427, 43.51894949483459, 42.755802994695124, 38.907154299021386, 36.959762135088724, 36.01958516850185, 32.05840423125249, 172.70170979053327, 387.0552793915941, 198.16287545917146, 175.1095946336422, 161.56669876983088, 159.9639570919619, 249.07342540586959, 92.98276749173515, 140.99686337954202, 133.65613637357765, 206.81835187968016, 448.0259147561163, 122.26949570791199, 243.16928662130042, 150.75408721329103, 213.3586857554717, 124.85968249720833, 179.784166879528, 174.63107137538603, 200.78761610562, 336.15507686262373, 244.1561369598978, 148.13798299423726, 138.9918434316816, 130.43022705229373, 215.89093515306575, 251.6704317137786, 137.24581853478907, 136.95998537831318, 164.65402602172028, 135.28445328313745, 178.18055322589498, 168.49855135349472, 120.78456912354734, 73.31203808335385, 163.17857870478997, 60.842153672752865, 60.39382976963543, 58.74826172536892, 58.48519898787103, 53.49065993224558, 52.828328300661006, 47.55744626485478, 45.6097188758784, 40.2799480427599, 38.54023625130286, 37.699543483675, 35.75585357330515, 35.42963669513464, 35.052769754656715, 33.918786565783606, 32.29760717094812, 32.03728949165626, 30.674177611668775, 30.216482770550986, 29.45874167427622, 28.282578583241165, 27.750558887933988, 27.486055973984293, 26.502009573310303, 26.110918887653263, 124.22498510891889, 190.54079196527294, 44.80598292300879, 207.11098868827375, 129.2078745790059, 57.2159816279996, 164.45991918164137, 285.7365052748488, 197.27005115009234, 104.50682969128569, 243.9045810750623, 164.43308810688046, 281.6431143543459, 159.0278228325159, 130.06270920291698, 130.2225990523547, 218.34372414271502, 169.34573826660613, 200.52232205655397, 300.4089731204002, 153.1300706174365, 115.25474015735888, 138.5060097905222, 125.57274816150533, 117.70308285006487, 135.83154693352947, 229.2455430084385, 147.10360329954975, 132.7972429056324, 134.70041205407895, 123.62790824620612, 382.1906716202602, 187.60495928080232, 125.43224546510005, 109.41447172297252, 93.91216727301585, 96.48600919125136, 84.93243106946079, 75.84916293964422, 73.26659380001706, 69.08709675391788, 59.7100899228809, 54.84239969839808, 49.89731369828817, 45.23333923650507, 43.233351949118244, 41.57221581538015, 40.53340907772379, 38.29990888158852, 38.242001435086, 35.62045279261344, 35.54559155227317, 31.74671286702398, 30.700276922140638, 29.703592966220754, 28.119758736432455, 27.140133824412736, 26.552118793274744, 26.312782995938065, 26.20600822991563, 26.1431654088647, 48.58790051637259, 264.3799415938017, 409.1228995916506, 477.7488076396412, 81.08166694803703, 60.647776951922445, 132.34447788852685, 42.943351047411745, 173.90616869766544, 153.3149782163764, 136.9709065239904, 156.78949327683856, 222.5113757378147, 97.90875108902195, 223.54728667645648, 372.44874859984714, 194.31721658563956, 195.42235361938796, 111.2617525481795, 139.58730929178975, 118.46623879356775, 111.10359299492804, 102.73473384282539, 185.7271730050725, 107.11361433148758, 90.95659760138055, 129.03375468195355, 104.16170849986287, 101.21519602278786, 82.07302657442752, 69.05827539148223, 63.000938985987, 52.00445332693164, 48.72770234345149, 45.9516683740802, 42.79899509574805, 39.82639911689102, 39.12421209552291, 38.56911094465005, 76.50458397046745, 35.91192975364903, 35.60113904800027, 33.896626635590096, 33.31567816370727, 33.22877579057387, 33.00136382378255, 32.73440175834092, 31.543320935437652, 30.834579646190814, 78.51720639736577, 30.247572107998344, 29.958292958510306, 29.857943111656624, 29.761101492807875, 29.70830640285665, 29.671822152142898, 29.160146877534327, 28.845852345672366, 28.647111449282686, 42.400483283705015, 72.95749694818836, 112.42625929099592, 68.89185244993845, 53.91251119139947, 36.24318218813205, 70.17681468675534, 113.6701352038504, 61.094879534962374, 68.46886227411197, 49.652307498898764, 121.41220897243066, 53.819056751283206, 37.42994045156125, 44.32933081049064, 102.78285799749557, 106.33916237164708, 106.34809800884909, 70.37899338248234, 102.88394074267148, 60.908032279814, 92.81028191520645, 94.56625347377927, 60.65785644711617, 65.86864026803414, 78.96095102117626, 64.23429461661843, 53.828062817152826, 65.76622629664999, 57.09690612829841, 124.56525942050834, 55.08401063777539, 54.52441381521264, 54.9643969369142, 58.976440319806876, 65.34295382436169, 38.26079726639189, 37.59698981105597, 79.25427155628972, 33.286220077423266, 33.15812509218649, 32.77872257316762, 32.66503497482627, 32.586352168292464, 32.04152861547302, 31.527583175783327, 31.341274829896086, 30.264967453006342, 29.587152482739896, 28.721515651199056, 45.21885736350515, 27.757146432804213, 26.84725377154782, 34.7851141461815, 25.017117763223542, 24.074971429278136, 23.713785077620386, 24.62156441554227, 172.44500879238018, 789.8609502379627, 57.350496931000094, 177.67215111246054, 59.70044849945883, 301.8778056749323, 118.83622979983994, 74.214413269691, 142.65573102818135, 74.14871430585755, 127.74595299349073, 51.13230793438645, 197.03729458265232, 129.67240016392154, 120.07344165668668, 264.1975185348676, 74.61603667379947, 170.07591135424195, 205.21974664141757, 73.84777066507215, 129.46938516734068, 161.619019168525, 121.18862058728457, 84.64343399910915, 124.58930772047756, 73.5907809506688, 77.28330264128671, 107.06295148857072, 112.25628063529892, 103.37090964431067, 78.44599435875429, 73.99173256987625, 47.38048760893094, 40.58088993993881, 40.00505871151015, 34.66795216577514, 32.147010183136125, 31.31235092147076, 31.09003942153516, 30.03553684496997, 29.284169679305936, 27.751125873090444, 27.51155537581655, 27.471584603326164, 26.238575728457008, 25.917809262670975, 25.77135887331187, 25.344029433501873, 22.524308976149232, 21.764280798745165, 21.29804186534814, 20.576429137903677, 20.448191270414807, 20.372435881108384, 66.95404884519, 20.206364030645272, 19.69745639926982, 19.429861633023013, 18.9341549286964, 18.91208764667144, 18.820203664375892, 18.64121958725528, 135.19271684295356, 35.643731025066664, 114.96776619979012, 135.78349543248848, 45.7389778458303, 44.26774438677924, 55.44852094377113, 93.0098081004865, 24.024337249583876, 88.93740038032297, 30.66490776428173, 30.845957472371328, 27.056722140978582, 84.6025924678553, 34.011583693670914, 43.64092297655715, 41.81969112054678, 52.58615008635219, 52.52370541156736, 36.84475718263947, 50.00346078269051, 40.180686138306164, 37.17354220013975, 30.19878065145881, 110.30418672935933, 77.63999270090157, 59.36168595817472, 31.73103562761532, 31.328264128121592, 30.656189985562158, 29.03284537352743, 27.620139342735598, 27.620139342735598, 25.35810041745226, 24.899399832324153, 24.694271572110342, 24.467019608448545, 22.82074560194845, 22.159328783577145, 22.002298090465526, 20.761081458391555, 20.31930711273711, 20.043352052189704, 18.709706344758757, 18.666049329401613, 18.60214911697943, 18.519279002064554, 18.227455697137284, 17.964753328710813, 17.13151407024077, 17.009427491713804, 16.493334457308066, 15.903511443662682, 15.844539570866635, 45.95184540222388, 21.04021891435625, 239.37286679265918, 48.843647076450445, 23.057697816335143, 31.410659911372793, 30.21699250554159, 21.72470641747572, 40.03729960216134, 32.56821419373192, 21.63416121255604, 28.401657947566004, 27.42537236992691, 30.51810564656277, 22.916007211070074, 22.241608506953188, 22.03271586991914, 53.43507931790236, 33.999573233608956, 32.206963266815016, 27.105660786774852, 26.047465739854424, 25.641265456801133, 23.942714203715298, 17.90263168993579, 15.554950642438008, 15.312110471019839, 15.27509530931319, 14.477950553271496, 13.121156044575956, 11.822468030128356, 11.497212778836795, 11.325880092739734, 11.259194933751772, 10.995818758740569, 10.312567198421862, 10.146135011105876, 9.86617104873524, 9.558654851763487, 9.231883867163422, 9.184998672486067, 9.152028173539685, 9.010183759163176, 135.2705460228478, 8.786519187698795, 8.594837299702448, 8.53677242974496, 78.68322873202527, 29.5379102097571, 21.58174384006995, 115.32529060356939, 13.893857189854872, 86.63328140714859, 20.974772345302277, 37.6742833612209, 26.031392672379393, 14.619812226500146, 14.286158005576135, 25.606199530159675, 24.721701632079444, 15.600899798193433, 18.133875943169286, 13.188898054450824, 41.757070676966485, 34.9094177089778, 31.87723443211106, 26.8080206967379, 23.0299579848373, 19.817554915667028, 19.317049352873465, 16.748796394555587, 16.74400789137483, 13.926894403686292, 12.130353634581779, 11.938275591796009, 11.71968072294777, 11.705029681198848, 10.98641744182595, 10.799396106615578, 10.318895879483092, 9.72406900883537, 9.689179836037889, 9.011510202920208, 8.166460686200946, 8.040807680693975, 7.924192259226704, 19.653205892401534, 7.0261422392402695, 6.9876986048306415, 6.968656092811011, 6.7769532348244885, 6.446184891449466, 6.420359671101273, 40.84463028579446, 23.454988118799132, 14.46647192242075, 10.38560192866976, 17.2380117577477, 34.08946564450217, 28.03717431559266, 13.96209095680123, 13.55171261797145, 9.45756349315312, 10.888861860190323, 54.39338006687748, 25.643130702081255, 21.245541719660753, 20.69825766116037, 17.801032111548217, 16.986688465456094, 10.998685597197714, 9.173279280581365, 7.612883439800504, 7.400148327133985, 7.338107310961945, 6.916496583632827, 7.963427608400163, 6.1848888164394245, 6.05209729201845, 5.938959197964057, 5.760365515167455, 5.7563943255374115, 5.613058988871995, 5.328886034872684, 5.262902058822259, 4.8389071448585055, 4.794384530661311, 4.650624520340511, 4.636816489637995, 4.46126210782158, 4.355117627895448, 4.3207236644862395, 3.956670025492364, 3.939648712622809, 24.37575722875438, 31.763443961601908, 10.926380611536803, 17.704618917970965, 26.268854194015987, 10.422108875519886, 18.852384160901373, 53.782252583930685, 17.90851627729762, 12.749043119029997, 11.232769152710828, 21.555352197687988, 20.786290300636573, 9.070140041826356, 8.152360130896556, 15.434655995449184, 9.688569211408637, 9.75645685462525, 9.150040671754157, 21.52703169758906, 18.68253289028421, 14.824494228409783, 14.266027744681288, 10.22028416126894, 10.215876078630378, 10.095314351248316, 9.860686257405444, 9.724570581520458, 9.514629529699816, 8.644690417675207, 8.567143080944577, 7.753320840320359, 7.412880414674786, 6.568932754595472, 6.562382904257142, 6.32873951202286, 6.226004164241578, 5.866745429198657, 5.84136336910148, 5.735410921654869, 5.712014945208669, 5.620106310991729, 15.625400809143589, 5.17838062327645, 5.058979298072325, 4.6558610303988335, 31.74453133844252, 4.5171621113328735, 4.337867464516309, 36.29788943510434, 9.898786592259748, 14.633141852014525, 36.75197532426453, 10.84093307814153, 8.046114162834112, 8.013089127970325, 6.691512258452729, 6.041482981501389, 6.006446286321465], \"Total\": [4380.0, 1934.0, 6515.0, 902.0, 3715.0, 1322.0, 1905.0, 871.0, 1666.0, 3240.0, 857.0, 1356.0, 1241.0, 801.0, 850.0, 1417.0, 1692.0, 4237.0, 1098.0, 1306.0, 1616.0, 662.0, 1676.0, 2082.0, 789.0, 1496.0, 2633.0, 1081.0, 1587.0, 417.0, 271.94034475191626, 173.5641806215554, 115.27771069629962, 111.45439972925524, 111.85700153974301, 108.42516917806525, 99.06997093629242, 90.52337638507912, 89.82461746093745, 89.76918496648119, 89.64271351314274, 86.50800816967451, 84.47743929417814, 79.3483760815613, 78.69554434692051, 77.79372300293389, 73.45535497670122, 64.9170204144909, 64.43272275098319, 63.69639083399983, 63.488306676821765, 62.835395519669184, 62.030329306865326, 58.9176250771728, 58.36425890934347, 55.93290740347221, 55.25849168176693, 54.29401063062751, 54.28764408497228, 54.19387228569881, 183.91403953159522, 1560.8165668810773, 139.3344498708425, 942.4458163521367, 3240.235403881346, 1478.4727201400758, 424.1187220220843, 198.92872630720183, 206.29018914264506, 763.1967263222035, 1061.0760569248612, 144.80472668938515, 607.7422948138989, 2226.551375647727, 446.3365127129966, 601.3607967433574, 6515.495560045639, 3715.665124132033, 1704.0854946880268, 1066.50946668873, 4237.731754522936, 1272.7907184300043, 538.4970172519947, 1095.3952988223564, 659.5487168107963, 1260.774656708924, 724.3557988387096, 980.6420184968741, 3195.6587168398864, 1320.4022901325563, 1432.6189282967396, 2691.4718173164592, 2633.6060814307443, 2669.9016592761486, 1889.4732885384346, 2442.853357331471, 926.1495365936454, 2173.3037730356846, 1308.3175331928724, 1072.5338759337394, 1572.8768700563342, 4380.047054140325, 1502.754575018687, 1946.1302684969185, 2275.2525851446876, 1614.5452896410127, 3609.3947886579617, 1770.482237061172, 1905.3211250805537, 156.62953542294727, 177.68582668558355, 92.3806758281792, 90.03950256444841, 85.93561087890575, 82.68339126459735, 81.53981949811798, 77.98412702800718, 77.40100389021914, 73.48356659937171, 67.94763605096908, 67.55015328334883, 67.53680892615887, 66.2381520080115, 175.74282778628492, 61.09335598333819, 59.237581844076665, 57.51005234319184, 56.26352948394573, 56.865706651793374, 52.828667403354736, 50.5676177494684, 50.19959294586344, 49.59978488525832, 47.95585332215276, 47.88033634894918, 47.84916521361553, 43.75612521749754, 43.650811603581666, 43.11704559803891, 88.11806143067624, 77.84379137449936, 55.70104534035736, 272.69764487864046, 242.79073291527843, 89.4510926135842, 475.5728788806252, 600.009530728126, 197.79500182759705, 346.96192634017905, 238.953346481845, 230.90928480009086, 414.73681974874887, 238.58319248219428, 412.21564549430815, 142.61213025540746, 348.849856430986, 331.0573587677218, 188.6142545829921, 288.21069141612463, 164.94199939903572, 841.1264424414603, 434.3889134190942, 601.1650239661117, 375.2669781662891, 4380.047054140325, 552.1301289033174, 1033.984959634605, 186.3025212529507, 973.8357850851648, 189.75599942779465, 751.3159098079136, 1064.7363344984765, 1428.2681540675549, 1241.5750055970348, 646.3823334685961, 1146.9042351274945, 1946.1302684969185, 6515.495560045639, 1189.0037970171766, 1202.432946351979, 1192.9646732845717, 761.8711908557198, 1417.7362904414947, 3609.3947886579617, 2442.853357331471, 2275.2525851446876, 2319.0163843441183, 1376.542770746866, 426.91413553723345, 263.6210035632097, 258.5645178322014, 154.9226200913603, 143.92196493658798, 117.81521914224032, 112.9137141736893, 108.88956086011409, 374.6714379669124, 87.58898173221546, 83.24007594292178, 82.58327264342176, 67.07409499763311, 66.21495987281169, 65.00485976565217, 64.32573932291383, 61.62264848488704, 61.25904612658038, 57.98999527996724, 57.34809896552266, 56.040908942157984, 53.151636577872395, 52.65668966617788, 49.46527564752989, 48.4287903651578, 45.247800523605264, 45.03992776255282, 44.29417436443661, 44.16162818765176, 43.273217268442444, 380.4603251412555, 283.2618021784846, 107.07031055360048, 126.79761090454522, 159.68100349143708, 328.40316119493093, 241.14037923535628, 92.96015419743094, 106.41376189688238, 663.0733546108215, 407.22015014577477, 471.67207276913587, 217.35343813317613, 1934.7300296800263, 1496.0778281255855, 105.56707592183216, 945.1200750325925, 730.8664866647852, 303.1552883308237, 1009.4505876181871, 511.61390074795645, 237.56053939078026, 449.03683128690193, 886.7566966487224, 868.8927165091244, 1587.6334163015035, 980.0259421380657, 796.9464312867932, 1232.6158042383167, 749.7920509174608, 376.0683503250815, 646.0526678970529, 838.2566653626654, 642.82391708711, 734.4993743126328, 703.8412795695705, 1081.099343161279, 1157.9193721068443, 1666.843611170422, 998.6587994977825, 3609.3947886579617, 1320.3416632161163, 1477.8991232401863, 685.8772584799541, 604.5224057344191, 483.82337986476796, 305.0610077636069, 250.95259253564117, 235.83235059905928, 226.96295684684006, 214.69724759048452, 203.5408330785267, 180.73179727248316, 180.71234969600349, 175.08833852981695, 159.40374868353712, 156.83834297344052, 135.47460898148432, 134.90183070312554, 131.2593792016961, 129.3619670219991, 128.7821783638297, 128.26567899125106, 119.17842571555107, 112.9509436744066, 105.85662613090851, 105.5577509623691, 105.36021474065718, 100.76850491935483, 100.31931572263187, 98.68668906944426, 97.75067875362302, 96.59948186594107, 100.80010662466152, 379.4079136985909, 618.5735274755781, 396.10119855017894, 225.66146670402617, 616.6463049485221, 334.2335604826102, 211.7333422895444, 1905.3211250805537, 624.6124151988384, 394.02226983806946, 635.2745770099242, 359.7628883970174, 411.6496846234756, 286.62543011925493, 4380.047054140325, 209.2210377825489, 618.9087660265817, 1241.5750055970348, 501.2706041454783, 429.21043176298826, 639.92118427558, 2319.0163843441183, 1505.4825299539584, 742.8676050317347, 273.4386167960038, 230.68379914829475, 201.8813693750148, 193.8012230406855, 192.4531247310983, 176.122644684232, 136.3299639407555, 127.38127609713777, 119.1560977895627, 115.01957499683924, 97.9895012810991, 96.88678955308221, 96.22128344764008, 92.06784945828863, 90.75378500323612, 89.67678401495314, 87.06149233283452, 86.10048628642657, 85.28201797800298, 83.84920895916937, 83.84461215420693, 83.63042237974103, 128.07989861936485, 79.54079830475911, 74.99719334245914, 73.71151879967536, 71.09019588805373, 70.08551930113738, 69.86410653355397, 66.06847316084453, 172.93700656698118, 194.26838215352223, 1356.4650570556505, 175.051381074761, 493.9437505703091, 135.8149297854609, 489.55889205268846, 585.2164724823458, 530.8929780057806, 643.2904002529403, 667.5583354333378, 169.92740198627942, 425.40266792922523, 599.9786926681344, 125.90155937496704, 292.32958083750907, 679.9215088462871, 402.7480288271981, 134.9598220733227, 404.82095115417707, 348.11937729270164, 649.0685070452085, 403.2626741659423, 280.3626431693347, 1666.843611170422, 617.6508725014417, 498.5086388626011, 329.37333328464626, 512.0555402173217, 1616.385959686964, 1587.6334163015035, 1505.4825299539584, 1320.3416632161163, 3609.3947886579617, 740.1599689534934, 895.2822259862191, 2082.348003114678, 619.2694946605691, 291.6512864555318, 285.0997871439129, 161.76311331948148, 170.70421828710812, 146.51186760620772, 120.29367323285857, 103.67159118920848, 111.55224499326017, 100.46895751222849, 97.23222285996987, 91.94699064533272, 87.25062693850231, 87.1740830096643, 83.61705763415289, 81.83912179494065, 79.56312163499493, 79.40053989458154, 78.060577317856, 77.66686076614941, 74.3934468870371, 72.14078808747247, 70.78359210719672, 70.62189504790355, 65.92455848096687, 62.85214546909078, 62.73981721346244, 60.93706908665137, 60.907646094494766, 56.30305685223886, 708.2965147593014, 277.21177352280966, 789.0962813964943, 309.34877664904513, 1322.8705374941094, 246.11428294108265, 482.5169221708186, 575.6953025908804, 171.51864221303987, 376.0834980006802, 278.42200407298805, 123.26913156523037, 97.66714765668429, 436.41365505841276, 1306.1614033698688, 361.2695038433488, 375.9181918201247, 329.25867394160264, 520.5268099467975, 1098.093563578822, 299.8680946170635, 424.0101898114185, 1081.099343161279, 381.8904975441099, 564.8737779781794, 1692.2015352058115, 2082.348003114678, 413.5684057422218, 1561.6793738352128, 1258.059868540394, 3715.665124132033, 1747.4512115287268, 6515.495560045639, 1578.7013636951085, 4237.731754522936, 1770.482237061172, 1676.20825977656, 3609.3947886579617, 846.918946043241, 799.8695841711246, 2691.4718173164592, 980.0259421380657, 1320.3416632161163, 359.3580717038067, 351.2399766010615, 131.65449689224815, 127.72365908987945, 110.85707321636554, 107.67459168092114, 97.07712766384344, 104.01052970444847, 93.98466397129987, 94.11237911044742, 88.46312519177292, 84.86779195584712, 84.40824839211096, 83.19076453104816, 80.04851883934452, 78.44431109545049, 76.48925020784569, 75.00903843093262, 74.54823953506859, 74.06251249018713, 72.1990135105298, 62.067920868581304, 60.210335440050024, 58.7502657581374, 57.10247865738712, 55.73428555283801, 51.80611752114359, 262.6873600663599, 50.67044021752177, 45.584951036195314, 113.34473359529173, 304.1065784766218, 266.6006433451872, 113.80687455732155, 80.6054662467275, 137.71060855577474, 623.2419060145428, 392.26547689557464, 344.51416399849944, 220.66237048061018, 377.85501861637925, 159.153794659321, 214.83990410748746, 145.20669090281055, 288.0090053781378, 338.0392467113988, 373.58734535431546, 1145.0002446523142, 272.33488600022025, 315.3715639492547, 1098.093563578822, 2059.8869849884, 316.3958347471838, 554.7039457535627, 342.75811014811586, 2633.6060814307443, 1027.1695556249203, 182.92329650309682, 1561.6793738352128, 796.9464312867932, 3609.3947886579617, 1232.6158042383167, 895.2822259862191, 4237.731754522936, 2173.3037730356846, 1572.8768700563342, 245.33558422231442, 241.4438773195617, 226.04150894363372, 153.76749927690432, 857.054811333662, 103.43476011496936, 100.42554209179391, 86.200679812821, 81.74456299479543, 66.54313591191435, 63.86005159848647, 53.61577615734236, 53.553220928597625, 91.64258067098191, 51.4959106696179, 50.749316121703224, 49.58026750190235, 46.61239498683045, 45.99206588825036, 45.92632432982542, 44.983808759853034, 44.41681046133623, 42.594750032733, 42.4232568137035, 42.09071732330156, 41.09850071776197, 34.24110495702052, 33.67690129326878, 32.19176036624177, 27.740653509617992, 177.03557573084086, 850.7841663437198, 205.34868752650095, 387.52299764546285, 264.01847682512255, 166.8811997146661, 598.2223542142312, 76.43514984957774, 128.6072398063351, 435.4310279384483, 314.82053175273984, 157.60730199104538, 412.9392459435578, 162.66483754836196, 362.30187608934494, 267.16658004607353, 224.48027323014682, 465.6600849007977, 328.8081708360362, 1053.1288755315015, 1666.843611170422, 435.8653202674823, 545.2622565025393, 296.80570811183173, 1934.7300296800263, 409.5028074916231, 1578.7013636951085, 643.4518959228254, 516.3100859323446, 682.8131822438776, 1676.20825977656, 417.4811149896881, 430.0066228926093, 3195.6587168398864, 1209.4765733177244, 564.8737779781794, 452.0919195942923, 388.4959009991796, 375.65121798822406, 184.28569619121086, 151.7483768717863, 141.41888746162888, 139.9567880496607, 138.20350301518758, 134.15626537510977, 128.05087881088517, 122.2249707244671, 118.86138234790798, 115.92914874382762, 111.09854123592905, 104.47884665446904, 98.22948517130469, 96.29232293194254, 95.29648447105721, 90.56742172729605, 87.60660975249118, 85.62924914272655, 85.4879197330768, 382.20569574204654, 82.3084377918345, 78.77292473843998, 77.65729341465176, 77.60227732705293, 70.30926741968581, 69.1618993195899, 63.427629000815394, 871.772020287124, 278.3332751753927, 601.1006433894506, 801.5415233811029, 162.85670989414893, 204.88039452609212, 631.9600271850126, 283.63579588229607, 144.0491303425177, 167.44976167873153, 240.41696840767045, 232.59081171562002, 199.0811801425393, 202.74013696853532, 531.3548990040817, 1616.385959686964, 269.330417598816, 271.88778748778094, 1422.5811146923309, 2319.0163843441183, 1027.9364560442089, 472.34476730817016, 1145.0002446523142, 363.14802605007503, 360.37658148108426, 272.6845047617547, 237.29553802423828, 118.45173536467121, 102.04221370677276, 101.2192766452628, 95.13101045865174, 84.51324172056904, 81.47072435916206, 80.415214422776, 80.39392481449052, 77.34173805690753, 70.93959518480652, 68.78574579043038, 67.5003579296001, 66.57170570504148, 59.87237601566892, 58.742996108551765, 58.642862458618026, 58.22937718420133, 55.604612110643345, 53.222469520987325, 48.1770034395716, 47.84454172273679, 46.90889888519555, 44.397287285382504, 43.63414078524304, 39.785492461811394, 37.83809997040411, 36.8979351014872, 32.93674205817434, 179.1279687907811, 425.2583150153522, 224.25984926040005, 203.63518283850186, 194.10472208659087, 200.09482560632972, 349.1756783144581, 111.68630107597238, 191.42189396992134, 180.35026509392847, 321.2600518247879, 969.0134177604721, 164.62618115896072, 428.8292985293398, 244.36273551366403, 463.46895819433774, 195.03209826143163, 394.2172078155059, 392.39721640193983, 518.451887708778, 1477.8991232401863, 804.8916893430445, 331.60033044261235, 297.70204492980105, 285.9590294666872, 1222.413867031051, 2059.8869849884, 347.813706183213, 382.18806881095264, 1578.7013636951085, 2082.348003114678, 179.0680917167589, 169.38608980629726, 121.67210761689587, 74.1995763961578, 165.18185091014473, 61.72969205440949, 61.281368071359864, 59.635800030998354, 59.3727373109812, 54.37820184082871, 53.71586660895586, 48.44498457929603, 46.49725718591608, 41.16748635715055, 39.427774569845226, 38.587081789698054, 36.64339187937354, 36.31717502852224, 35.94030807384988, 34.80632544979731, 33.18514553166945, 32.92482781845506, 31.56171595608638, 31.104021072275415, 30.346280000324725, 29.170116884965594, 28.638097189658417, 28.373594297476473, 27.38954787901304, 26.998457279879922, 143.62778392300513, 231.23292873764657, 48.458929174139335, 275.87827095364946, 163.18442609445106, 64.75073514310264, 221.37532075327798, 436.96570634595423, 286.2032375733538, 140.0572456774717, 399.66878686670043, 250.8532947598728, 498.5086388626011, 241.93122691081788, 189.68093575729335, 220.31667480427842, 552.1301289033174, 434.3889134190942, 660.0232302696178, 1417.7362904414947, 433.72753417560887, 262.347816946257, 382.3857485060231, 333.9696748851948, 317.43217522065584, 532.620113530786, 2275.2525851446876, 1033.984959634605, 1189.0037970171766, 1428.2681540675549, 1704.0854946880268, 383.07940957843215, 188.49431151346593, 126.32096957876325, 110.30319584129909, 94.80271164917409, 97.41265925078285, 85.82115519305736, 76.73788705330742, 74.15531793049408, 69.97582087224444, 60.59881404360468, 55.73112381672464, 50.78603782481067, 46.122063354831624, 44.1220760674448, 42.460939933706705, 41.42213319970023, 39.18966676820993, 39.1307255808331, 36.50917690627663, 36.43431567059973, 32.635437094576176, 31.589001052570417, 30.592317181401924, 29.008482854759013, 28.028857942739293, 27.440842906937934, 27.201507109601256, 27.09473234357882, 27.031889528054496, 52.29900929759415, 326.4278364479602, 531.4955135591756, 662.3288472004831, 94.80772146123026, 69.75313751196217, 180.3481668020407, 47.43409615164807, 272.94200455553397, 237.78211001246268, 220.40062331494863, 289.046099561979, 485.4887281708278, 151.7463884709054, 518.451887708778, 1241.5750055970348, 463.46895819433774, 493.08051248350176, 206.37306079069387, 348.34038514433354, 258.7542672292177, 261.28558598885445, 252.284799812318, 2082.348003114678, 373.31567169336097, 207.04233275413708, 1587.6334163015035, 531.293602696594, 1320.3416632161163, 82.96191814629826, 69.94600607894245, 63.89287974543594, 52.892184008203465, 49.61543333535172, 46.83940036995986, 43.68672577870754, 40.71413013373099, 40.011942775187066, 39.45684162431421, 78.30863304913176, 36.79966093808884, 36.48886974175258, 34.78435733322475, 34.20350669851306, 34.11670048948891, 33.88909461446815, 33.62213246389324, 32.431051632455066, 31.72231033291362, 80.79470338492013, 31.135303950343182, 30.846023652861298, 30.745673806927318, 30.648832164648095, 30.596037091215283, 30.55955575852066, 30.047877570821985, 29.73358305422675, 29.53484213359278, 44.605938132363676, 80.3782506851879, 138.68717013411705, 80.29772399135373, 61.02728205452425, 38.74069024408429, 85.32530428837336, 159.4683236614541, 74.10010698369693, 85.31901138089505, 58.15298418514777, 213.6390055431338, 67.82819998585046, 41.1027152888786, 54.840338211350186, 224.17656800765835, 244.95172166393178, 311.0738852167268, 142.54650691284513, 348.11937729270164, 125.19390427795179, 384.8774656049543, 473.2497608650786, 140.00648269452407, 222.68097483026688, 492.74113426591254, 624.4842827655112, 197.20409016016407, 66.65642655931468, 57.9871065885606, 126.50973984910512, 55.974210976498846, 55.414614114482134, 55.89681853673834, 60.07141794762265, 66.69312446221427, 39.15099752352996, 38.48719008154154, 81.30830600022374, 34.17642038955153, 34.04832539906402, 33.668922833998856, 33.5552352418349, 33.47655242543053, 32.93172888248165, 32.4177834329214, 32.23147514057938, 31.15547907365264, 30.4773527743305, 29.611715918761742, 46.63770772267933, 28.647346698255532, 27.737454054222745, 35.969579331668285, 25.907318046876703, 24.965171695635984, 24.60398533475846, 25.56391823905907, 183.58776089074289, 902.9353069551823, 61.02761022895665, 196.5558787886383, 63.720779246236724, 375.99240129424237, 155.4404294229444, 89.79136531992263, 195.2499139812601, 90.3103077748139, 177.6811765568902, 58.78282005688431, 319.2457151614317, 191.57973712114466, 183.51451530295634, 532.620113530786, 111.4811251818017, 382.3857485060231, 546.9256914917593, 114.70260322550041, 302.8016374671554, 601.1650239661117, 433.72753417560887, 193.1479975861728, 660.0232302696178, 141.99700816146213, 171.71910668818228, 644.2824016173896, 1157.9193721068443, 1905.3211250805537, 727.6302359122369, 389.130519543749, 48.27636800466211, 41.476770325736595, 40.90094034380126, 35.56383254766096, 33.0428905837653, 32.20823130335658, 31.98591980808435, 30.931417231753798, 30.18005006119176, 28.647006301752395, 28.40743576260038, 28.367464994159327, 27.134456129086185, 26.8136896445568, 26.667239255197693, 26.239909838160326, 23.420189358035056, 22.660161223510514, 22.193922272313802, 21.4723095197895, 21.344071656212602, 21.268316275890083, 69.90414798419981, 21.102244412531096, 20.593336802268094, 20.325742014908837, 19.8300353307237, 19.807969068755515, 19.716084290010667, 19.53709999056295, 158.44477433349425, 40.116886227888195, 167.99044205667, 205.44519041488618, 58.892531907866584, 58.17833434992986, 79.66779253778967, 163.61160223831635, 26.6935245402947, 169.7737240051708, 38.972164439250264, 40.45268058232409, 32.63824779273397, 288.0104640538944, 54.20952567368017, 110.03277592719994, 98.73171717265849, 236.30219474889023, 410.89431777401114, 117.88133575158707, 568.6271823273468, 207.17609121834028, 141.24073283077325, 223.76182811396876, 111.2019809940207, 78.5377869660019, 60.25948022262426, 32.62882989267032, 32.226058398309576, 31.5539843762809, 29.930639634283807, 28.517933603491976, 28.517933603491976, 26.255894678208637, 25.797194105989078, 25.592065854536006, 25.364813919933084, 23.718539946422634, 23.057123053337072, 22.900092373487787, 21.65887575273927, 21.217130594473087, 20.94114631784409, 19.60750066433728, 19.56384365326429, 19.49994342745534, 19.41707326282093, 19.12524995789366, 18.86254759847074, 18.029308342893938, 17.907221756375183, 17.391128718064444, 16.801305708112228, 16.742333835528015, 56.67866448220653, 23.303895762694093, 417.45824791994664, 65.87721329860794, 28.122040443810963, 53.2286770836037, 62.24104439852502, 30.474669438293795, 177.6811765568902, 106.76065345449355, 31.37170368065461, 85.79927635557348, 92.85124945296693, 302.8016374671554, 191.52604163926918, 150.3857205218597, 195.2499139812601, 54.34000577443143, 34.90449973996296, 33.11188975436644, 28.01058724728224, 26.952392209100317, 26.54619191333021, 24.847640893918964, 18.807558169120192, 16.459877098967088, 16.217036927548918, 16.180021792898867, 15.382877009800575, 14.026082543590935, 12.727394523037711, 12.402139235365874, 12.230806553567438, 12.164121402572405, 11.900745611734067, 11.217498409203442, 11.051061476446773, 10.771097543332353, 10.463581318225943, 10.136810330547375, 10.089925169856944, 10.05695466411774, 9.915110278471154, 149.0990191157425, 9.691445649263244, 9.499763756231527, 9.44169888627404, 100.76969799296094, 46.47093029202756, 31.200965625592296, 293.67316123860365, 17.6136536592929, 214.733641884551, 37.82285378720874, 127.10135783383689, 109.58269149650624, 27.8833287739994, 26.89377089004441, 141.24073283077325, 133.02197959861368, 43.97259652376953, 838.2566653626654, 716.2712949610466, 42.6626544434223, 35.81500164760183, 32.782818258036045, 27.713604454845107, 23.9355417599421, 20.723139743607383, 20.222633122296873, 17.654380163978995, 17.64959167245524, 14.832478153105589, 13.035937393007345, 12.843859346113312, 12.625264550792265, 12.610613462816897, 11.892001201178621, 11.704979856034875, 11.224479642747735, 10.629652762166636, 10.594763642779377, 9.917093967749834, 9.07204447128443, 8.946391446521414, 8.829776075979078, 22.101641825996506, 7.931726019185342, 7.893282418964102, 7.874239842230306, 7.682537005176326, 7.3517686408687615, 7.325943430081941, 47.438985501005774, 27.499510460753612, 16.78559922055399, 12.428974919367036, 26.849164222238546, 72.45858054534898, 71.47536947139324, 29.00903739457177, 29.291880338427806, 15.23793098418999, 58.092335530637506, 55.30502040579967, 26.554770996556627, 22.15718202711274, 21.610012786480702, 18.71312869084895, 17.89832876548732, 11.910325899922043, 10.08491957505674, 8.524523738939244, 8.311788647963924, 8.249747613066484, 7.8281368781082, 9.073090238751472, 7.096529110914798, 6.963737586493823, 6.850599519292114, 6.672005809642828, 6.668034620012785, 6.524699300302289, 6.240526333646682, 6.174542362107609, 5.750547444231886, 5.706024875442696, 5.5622648194792506, 5.54845681869115, 5.372902402296953, 5.266757922370822, 5.23236396385962, 4.868310397511485, 4.851289018662077, 30.053679771996414, 45.583751444630366, 16.5671890456389, 32.89604943252797, 55.397793371644156, 18.266879956349168, 50.27051108847847, 314.79414797565164, 50.61456538491329, 28.772180841209025, 24.470267883506562, 199.00556734730165, 209.50739703390428, 22.921303518821567, 17.978365819266045, 133.47030388511845, 31.008489007779275, 78.8355810366007, 55.66449737193104, 22.440259411275676, 19.595760607346364, 15.737722715199276, 15.179255444463628, 11.133511887618575, 11.129103778412718, 11.008542051030656, 10.773913976955699, 10.63779832359458, 10.427857256144492, 9.557918171989032, 9.480370814146793, 8.666548585082836, 8.326108142593004, 7.482160457320715, 7.475610604039483, 7.241967255630295, 7.139231877731902, 6.779973136610162, 6.754591094296765, 6.648638625415516, 6.625242644991008, 6.53333409115562, 18.34989659367594, 6.091608332992165, 5.972207033992886, 5.569088734093144, 37.98456541083349, 5.430389811115214, 5.251095250746923, 50.81263443385596, 13.473007025622257, 22.385739218989457, 87.24609118255879, 19.65146769708338, 15.286109227751357, 20.96896516234631, 15.213968535269457, 9.588361690919346, 43.758117113367575], \"Category\": [\"Default\", \"Default\", \"Default\", \"Default\", \"Default\", \"Default\", \"Default\", \"Default\", \"Default\", \"Default\", \"Default\", \"Default\", \"Default\", \"Default\", \"Default\", \"Default\", \"Default\", \"Default\", \"Default\", \"Default\", \"Default\", \"Default\", \"Default\", \"Default\", \"Default\", \"Default\", \"Default\", \"Default\", \"Default\", \"Default\", \"Topic1\", \"Topic1\", \"Topic1\", \"Topic1\", \"Topic1\", \"Topic1\", \"Topic1\", \"Topic1\", \"Topic1\", \"Topic1\", \"Topic1\", \"Topic1\", \"Topic1\", \"Topic1\", \"Topic1\", \"Topic1\", \"Topic1\", \"Topic1\", \"Topic1\", \"Topic1\", \"Topic1\", \"Topic1\", \"Topic1\", \"Topic1\", \"Topic1\", \"Topic1\", \"Topic1\", \"Topic1\", \"Topic1\", \"Topic1\", \"Topic1\", \"Topic1\", \"Topic1\", \"Topic1\", \"Topic1\", \"Topic1\", \"Topic1\", \"Topic1\", \"Topic1\", \"Topic1\", \"Topic1\", \"Topic1\", \"Topic1\", \"Topic1\", \"Topic1\", \"Topic1\", \"Topic1\", \"Topic1\", \"Topic1\", \"Topic1\", \"Topic1\", \"Topic1\", \"Topic1\", \"Topic1\", \"Topic1\", \"Topic1\", \"Topic1\", \"Topic1\", \"Topic1\", \"Topic1\", \"Topic1\", \"Topic1\", \"Topic1\", \"Topic1\", \"Topic1\", \"Topic1\", \"Topic1\", \"Topic1\", \"Topic1\", \"Topic1\", \"Topic1\", \"Topic1\", \"Topic1\", \"Topic1\", \"Topic1\", \"Topic1\", \"Topic1\", \"Topic1\", \"Topic1\", \"Topic2\", \"Topic2\", \"Topic2\", \"Topic2\", \"Topic2\", \"Topic2\", \"Topic2\", \"Topic2\", \"Topic2\", \"Topic2\", \"Topic2\", \"Topic2\", \"Topic2\", \"Topic2\", \"Topic2\", \"Topic2\", \"Topic2\", \"Topic2\", \"Topic2\", \"Topic2\", \"Topic2\", \"Topic2\", \"Topic2\", \"Topic2\", \"Topic2\", \"Topic2\", \"Topic2\", \"Topic2\", \"Topic2\", \"Topic2\", \"Topic2\", \"Topic2\", \"Topic2\", \"Topic2\", \"Topic2\", \"Topic2\", \"Topic2\", \"Topic2\", \"Topic2\", \"Topic2\", \"Topic2\", \"Topic2\", \"Topic2\", \"Topic2\", \"Topic2\", \"Topic2\", \"Topic2\", \"Topic2\", \"Topic2\", \"Topic2\", \"Topic2\", \"Topic2\", \"Topic2\", \"Topic2\", \"Topic2\", \"Topic2\", \"Topic2\", \"Topic2\", \"Topic2\", \"Topic2\", \"Topic2\", \"Topic2\", \"Topic2\", \"Topic2\", \"Topic2\", \"Topic2\", \"Topic2\", \"Topic2\", \"Topic2\", \"Topic2\", \"Topic2\", \"Topic2\", \"Topic2\", \"Topic2\", \"Topic2\", \"Topic2\", \"Topic2\", \"Topic2\", \"Topic2\", \"Topic3\", \"Topic3\", \"Topic3\", \"Topic3\", \"Topic3\", \"Topic3\", \"Topic3\", \"Topic3\", \"Topic3\", \"Topic3\", \"Topic3\", \"Topic3\", \"Topic3\", \"Topic3\", \"Topic3\", \"Topic3\", \"Topic3\", \"Topic3\", \"Topic3\", \"Topic3\", \"Topic3\", \"Topic3\", \"Topic3\", \"Topic3\", \"Topic3\", \"Topic3\", \"Topic3\", \"Topic3\", \"Topic3\", \"Topic3\", \"Topic3\", \"Topic3\", \"Topic3\", \"Topic3\", \"Topic3\", \"Topic3\", \"Topic3\", \"Topic3\", \"Topic3\", \"Topic3\", \"Topic3\", \"Topic3\", \"Topic3\", \"Topic3\", \"Topic3\", \"Topic3\", \"Topic3\", \"Topic3\", \"Topic3\", \"Topic3\", \"Topic3\", \"Topic3\", \"Topic3\", \"Topic3\", \"Topic3\", \"Topic3\", \"Topic3\", \"Topic3\", \"Topic3\", \"Topic3\", \"Topic3\", \"Topic3\", \"Topic3\", \"Topic3\", \"Topic3\", \"Topic3\", \"Topic3\", \"Topic3\", \"Topic3\", \"Topic3\", \"Topic3\", \"Topic3\", \"Topic3\", \"Topic4\", \"Topic4\", \"Topic4\", \"Topic4\", \"Topic4\", \"Topic4\", \"Topic4\", \"Topic4\", \"Topic4\", \"Topic4\", \"Topic4\", \"Topic4\", \"Topic4\", \"Topic4\", \"Topic4\", \"Topic4\", \"Topic4\", \"Topic4\", \"Topic4\", \"Topic4\", \"Topic4\", \"Topic4\", \"Topic4\", \"Topic4\", \"Topic4\", \"Topic4\", \"Topic4\", \"Topic4\", \"Topic4\", \"Topic4\", \"Topic4\", \"Topic4\", \"Topic4\", \"Topic4\", \"Topic4\", \"Topic4\", \"Topic4\", \"Topic4\", \"Topic4\", \"Topic4\", \"Topic4\", \"Topic4\", \"Topic4\", \"Topic4\", \"Topic4\", \"Topic4\", \"Topic4\", \"Topic4\", \"Topic4\", \"Topic4\", \"Topic4\", \"Topic4\", \"Topic4\", \"Topic4\", \"Topic4\", \"Topic5\", \"Topic5\", \"Topic5\", \"Topic5\", \"Topic5\", \"Topic5\", \"Topic5\", \"Topic5\", \"Topic5\", \"Topic5\", \"Topic5\", \"Topic5\", \"Topic5\", \"Topic5\", \"Topic5\", \"Topic5\", \"Topic5\", \"Topic5\", \"Topic5\", \"Topic5\", \"Topic5\", \"Topic5\", \"Topic5\", \"Topic5\", \"Topic5\", \"Topic5\", \"Topic5\", \"Topic5\", \"Topic5\", \"Topic5\", \"Topic5\", \"Topic5\", \"Topic5\", \"Topic5\", \"Topic5\", \"Topic5\", \"Topic5\", \"Topic5\", \"Topic5\", \"Topic5\", \"Topic5\", \"Topic5\", \"Topic5\", \"Topic5\", \"Topic5\", \"Topic5\", \"Topic5\", \"Topic5\", \"Topic5\", \"Topic5\", \"Topic5\", \"Topic5\", \"Topic5\", \"Topic5\", \"Topic5\", \"Topic5\", \"Topic5\", \"Topic5\", \"Topic5\", \"Topic5\", \"Topic5\", \"Topic5\", \"Topic5\", \"Topic5\", \"Topic5\", \"Topic5\", \"Topic5\", \"Topic6\", \"Topic6\", \"Topic6\", \"Topic6\", \"Topic6\", \"Topic6\", \"Topic6\", \"Topic6\", \"Topic6\", \"Topic6\", \"Topic6\", \"Topic6\", \"Topic6\", \"Topic6\", \"Topic6\", \"Topic6\", \"Topic6\", \"Topic6\", \"Topic6\", \"Topic6\", \"Topic6\", \"Topic6\", \"Topic6\", \"Topic6\", \"Topic6\", \"Topic6\", \"Topic6\", \"Topic6\", \"Topic6\", \"Topic6\", \"Topic6\", \"Topic6\", \"Topic6\", \"Topic6\", \"Topic6\", \"Topic6\", \"Topic6\", \"Topic6\", \"Topic6\", \"Topic6\", \"Topic6\", \"Topic6\", \"Topic6\", \"Topic6\", \"Topic6\", \"Topic6\", \"Topic6\", \"Topic6\", \"Topic6\", \"Topic6\", \"Topic6\", \"Topic6\", \"Topic6\", \"Topic6\", \"Topic6\", \"Topic6\", \"Topic6\", \"Topic6\", \"Topic6\", \"Topic6\", \"Topic6\", \"Topic6\", \"Topic6\", \"Topic6\", \"Topic6\", \"Topic6\", \"Topic6\", \"Topic6\", \"Topic6\", \"Topic6\", \"Topic6\", \"Topic6\", \"Topic6\", \"Topic7\", \"Topic7\", \"Topic7\", \"Topic7\", \"Topic7\", \"Topic7\", \"Topic7\", \"Topic7\", \"Topic7\", \"Topic7\", \"Topic7\", \"Topic7\", \"Topic7\", \"Topic7\", \"Topic7\", \"Topic7\", \"Topic7\", \"Topic7\", \"Topic7\", \"Topic7\", \"Topic7\", \"Topic7\", \"Topic7\", \"Topic7\", \"Topic7\", \"Topic7\", \"Topic7\", \"Topic7\", \"Topic7\", \"Topic7\", \"Topic7\", \"Topic7\", \"Topic7\", \"Topic7\", \"Topic7\", \"Topic7\", \"Topic7\", \"Topic7\", \"Topic7\", \"Topic7\", \"Topic7\", \"Topic7\", \"Topic7\", \"Topic7\", \"Topic7\", \"Topic7\", \"Topic7\", \"Topic7\", \"Topic7\", \"Topic7\", \"Topic7\", \"Topic7\", \"Topic7\", \"Topic7\", \"Topic7\", \"Topic7\", \"Topic7\", \"Topic7\", \"Topic7\", \"Topic7\", \"Topic7\", \"Topic7\", \"Topic7\", \"Topic7\", \"Topic7\", \"Topic7\", \"Topic8\", \"Topic8\", \"Topic8\", \"Topic8\", \"Topic8\", \"Topic8\", \"Topic8\", \"Topic8\", \"Topic8\", \"Topic8\", \"Topic8\", \"Topic8\", \"Topic8\", \"Topic8\", \"Topic8\", \"Topic8\", \"Topic8\", \"Topic8\", \"Topic8\", \"Topic8\", \"Topic8\", \"Topic8\", \"Topic8\", \"Topic8\", \"Topic8\", \"Topic8\", \"Topic8\", \"Topic8\", \"Topic8\", \"Topic8\", \"Topic8\", \"Topic8\", \"Topic8\", \"Topic8\", \"Topic8\", \"Topic8\", \"Topic8\", \"Topic8\", \"Topic8\", \"Topic8\", \"Topic8\", \"Topic8\", \"Topic8\", \"Topic8\", \"Topic8\", \"Topic8\", \"Topic8\", \"Topic8\", \"Topic8\", \"Topic8\", \"Topic8\", \"Topic8\", \"Topic8\", \"Topic8\", \"Topic8\", \"Topic8\", \"Topic8\", \"Topic8\", \"Topic8\", \"Topic8\", \"Topic8\", \"Topic8\", \"Topic8\", \"Topic8\", \"Topic8\", \"Topic8\", \"Topic9\", \"Topic9\", \"Topic9\", \"Topic9\", \"Topic9\", \"Topic9\", \"Topic9\", \"Topic9\", \"Topic9\", \"Topic9\", \"Topic9\", \"Topic9\", \"Topic9\", \"Topic9\", \"Topic9\", \"Topic9\", \"Topic9\", \"Topic9\", \"Topic9\", \"Topic9\", \"Topic9\", \"Topic9\", \"Topic9\", \"Topic9\", \"Topic9\", \"Topic9\", \"Topic9\", \"Topic9\", \"Topic9\", \"Topic9\", \"Topic9\", \"Topic9\", \"Topic9\", \"Topic9\", \"Topic9\", \"Topic9\", \"Topic9\", \"Topic9\", \"Topic9\", \"Topic9\", \"Topic9\", \"Topic9\", \"Topic9\", \"Topic9\", \"Topic9\", \"Topic9\", \"Topic9\", \"Topic9\", \"Topic9\", \"Topic9\", \"Topic9\", \"Topic9\", \"Topic9\", \"Topic9\", \"Topic9\", \"Topic10\", \"Topic10\", \"Topic10\", \"Topic10\", \"Topic10\", \"Topic10\", \"Topic10\", \"Topic10\", \"Topic10\", \"Topic10\", \"Topic10\", \"Topic10\", \"Topic10\", \"Topic10\", \"Topic10\", \"Topic10\", \"Topic10\", \"Topic10\", \"Topic10\", \"Topic10\", \"Topic10\", \"Topic10\", \"Topic10\", \"Topic10\", \"Topic10\", \"Topic10\", \"Topic10\", \"Topic10\", \"Topic10\", \"Topic10\", \"Topic10\", \"Topic10\", \"Topic10\", \"Topic10\", \"Topic10\", \"Topic10\", \"Topic10\", \"Topic10\", \"Topic10\", \"Topic10\", \"Topic10\", \"Topic10\", \"Topic10\", \"Topic10\", \"Topic10\", \"Topic10\", \"Topic10\", \"Topic10\", \"Topic10\", \"Topic10\", \"Topic10\", \"Topic10\", \"Topic10\", \"Topic10\", \"Topic10\", \"Topic10\", \"Topic10\", \"Topic10\", \"Topic10\", \"Topic10\", \"Topic10\", \"Topic11\", \"Topic11\", \"Topic11\", \"Topic11\", \"Topic11\", \"Topic11\", \"Topic11\", \"Topic11\", \"Topic11\", \"Topic11\", \"Topic11\", \"Topic11\", \"Topic11\", \"Topic11\", \"Topic11\", \"Topic11\", \"Topic11\", \"Topic11\", \"Topic11\", \"Topic11\", \"Topic11\", \"Topic11\", \"Topic11\", \"Topic11\", \"Topic11\", \"Topic11\", \"Topic11\", \"Topic11\", \"Topic11\", \"Topic11\", \"Topic11\", \"Topic11\", \"Topic11\", \"Topic11\", \"Topic11\", \"Topic11\", \"Topic11\", \"Topic11\", \"Topic11\", \"Topic11\", \"Topic11\", \"Topic11\", \"Topic11\", \"Topic11\", \"Topic11\", \"Topic11\", \"Topic11\", \"Topic11\", \"Topic11\", \"Topic11\", \"Topic11\", \"Topic11\", \"Topic11\", \"Topic11\", \"Topic11\", \"Topic11\", \"Topic11\", \"Topic11\", \"Topic11\", \"Topic11\", \"Topic11\", \"Topic12\", \"Topic12\", \"Topic12\", \"Topic12\", \"Topic12\", \"Topic12\", \"Topic12\", \"Topic12\", \"Topic12\", \"Topic12\", \"Topic12\", \"Topic12\", \"Topic12\", \"Topic12\", \"Topic12\", \"Topic12\", \"Topic12\", \"Topic12\", \"Topic12\", \"Topic12\", \"Topic12\", \"Topic12\", \"Topic12\", \"Topic12\", \"Topic12\", \"Topic12\", \"Topic12\", \"Topic12\", \"Topic12\", \"Topic12\", \"Topic12\", \"Topic12\", \"Topic12\", \"Topic12\", \"Topic12\", \"Topic12\", \"Topic12\", \"Topic12\", \"Topic12\", \"Topic12\", \"Topic12\", \"Topic12\", \"Topic12\", \"Topic12\", \"Topic12\", \"Topic12\", \"Topic12\", \"Topic12\", \"Topic12\", \"Topic12\", \"Topic12\", \"Topic12\", \"Topic12\", \"Topic12\", \"Topic12\", \"Topic12\", \"Topic12\", \"Topic12\", \"Topic12\", \"Topic13\", \"Topic13\", \"Topic13\", \"Topic13\", \"Topic13\", \"Topic13\", \"Topic13\", \"Topic13\", \"Topic13\", \"Topic13\", \"Topic13\", \"Topic13\", \"Topic13\", \"Topic13\", \"Topic13\", \"Topic13\", \"Topic13\", \"Topic13\", \"Topic13\", \"Topic13\", \"Topic13\", \"Topic13\", \"Topic13\", \"Topic13\", \"Topic13\", \"Topic13\", \"Topic13\", \"Topic13\", \"Topic13\", \"Topic13\", \"Topic13\", \"Topic13\", \"Topic13\", \"Topic13\", \"Topic13\", \"Topic13\", \"Topic13\", \"Topic13\", \"Topic13\", \"Topic13\", \"Topic13\", \"Topic13\", \"Topic13\", \"Topic13\", \"Topic13\", \"Topic13\", \"Topic13\", \"Topic13\", \"Topic13\", \"Topic13\", \"Topic13\", \"Topic13\", \"Topic13\", \"Topic13\", \"Topic13\", \"Topic13\", \"Topic13\", \"Topic13\", \"Topic14\", \"Topic14\", \"Topic14\", \"Topic14\", \"Topic14\", \"Topic14\", \"Topic14\", \"Topic14\", \"Topic14\", \"Topic14\", \"Topic14\", \"Topic14\", \"Topic14\", \"Topic14\", \"Topic14\", \"Topic14\", \"Topic14\", \"Topic14\", \"Topic14\", \"Topic14\", \"Topic14\", \"Topic14\", \"Topic14\", \"Topic14\", \"Topic14\", \"Topic14\", \"Topic14\", \"Topic14\", \"Topic14\", \"Topic14\", \"Topic14\", \"Topic14\", \"Topic14\", \"Topic14\", \"Topic14\", \"Topic14\", \"Topic14\", \"Topic14\", \"Topic14\", \"Topic14\", \"Topic14\", \"Topic14\", \"Topic14\", \"Topic14\", \"Topic14\", \"Topic14\", \"Topic14\", \"Topic14\", \"Topic14\", \"Topic14\", \"Topic14\", \"Topic14\", \"Topic14\", \"Topic14\", \"Topic14\", \"Topic14\", \"Topic14\", \"Topic14\", \"Topic14\", \"Topic14\", \"Topic14\", \"Topic14\", \"Topic15\", \"Topic15\", \"Topic15\", \"Topic15\", \"Topic15\", \"Topic15\", \"Topic15\", \"Topic15\", \"Topic15\", \"Topic15\", \"Topic15\", \"Topic15\", \"Topic15\", \"Topic15\", \"Topic15\", \"Topic15\", \"Topic15\", \"Topic15\", \"Topic15\", \"Topic15\", \"Topic15\", \"Topic15\", \"Topic15\", \"Topic15\", \"Topic15\", \"Topic15\", \"Topic15\", \"Topic15\", \"Topic15\", \"Topic15\", \"Topic15\", \"Topic15\", \"Topic15\", \"Topic15\", \"Topic15\", \"Topic15\", \"Topic15\", \"Topic15\", \"Topic15\", \"Topic15\", \"Topic15\", \"Topic15\", \"Topic15\", \"Topic15\", \"Topic15\", \"Topic15\", \"Topic15\", \"Topic15\", \"Topic15\", \"Topic15\", \"Topic15\", \"Topic15\", \"Topic15\", \"Topic15\", \"Topic16\", \"Topic16\", \"Topic16\", \"Topic16\", \"Topic16\", \"Topic16\", \"Topic16\", \"Topic16\", \"Topic16\", \"Topic16\", \"Topic16\", \"Topic16\", \"Topic16\", \"Topic16\", \"Topic16\", \"Topic16\", \"Topic16\", \"Topic16\", \"Topic16\", \"Topic16\", \"Topic16\", \"Topic16\", \"Topic16\", \"Topic16\", \"Topic16\", \"Topic16\", \"Topic16\", \"Topic16\", \"Topic16\", \"Topic16\", \"Topic16\", \"Topic16\", \"Topic16\", \"Topic16\", \"Topic16\", \"Topic16\", \"Topic16\", \"Topic16\", \"Topic16\", \"Topic16\", \"Topic16\", \"Topic16\", \"Topic16\", \"Topic16\", \"Topic16\", \"Topic16\", \"Topic16\", \"Topic17\", \"Topic17\", \"Topic17\", \"Topic17\", \"Topic17\", \"Topic17\", \"Topic17\", \"Topic17\", \"Topic17\", \"Topic17\", \"Topic17\", \"Topic17\", \"Topic17\", \"Topic17\", \"Topic17\", \"Topic17\", \"Topic17\", \"Topic17\", \"Topic17\", \"Topic17\", \"Topic17\", \"Topic17\", \"Topic17\", \"Topic17\", \"Topic17\", \"Topic17\", \"Topic17\", \"Topic17\", \"Topic17\", \"Topic17\", \"Topic17\", \"Topic17\", \"Topic17\", \"Topic17\", \"Topic17\", \"Topic17\", \"Topic17\", \"Topic17\", \"Topic17\", \"Topic17\", \"Topic17\", \"Topic17\", \"Topic17\", \"Topic17\", \"Topic17\", \"Topic17\", \"Topic18\", \"Topic18\", \"Topic18\", \"Topic18\", \"Topic18\", \"Topic18\", \"Topic18\", \"Topic18\", \"Topic18\", \"Topic18\", \"Topic18\", \"Topic18\", \"Topic18\", \"Topic18\", \"Topic18\", \"Topic18\", \"Topic18\", \"Topic18\", \"Topic18\", \"Topic18\", \"Topic18\", \"Topic18\", \"Topic18\", \"Topic18\", \"Topic18\", \"Topic18\", \"Topic18\", \"Topic18\", \"Topic18\", \"Topic18\", \"Topic18\", \"Topic18\", \"Topic18\", \"Topic18\", \"Topic18\", \"Topic18\", \"Topic18\", \"Topic18\", \"Topic18\", \"Topic18\", \"Topic18\", \"Topic19\", \"Topic19\", \"Topic19\", \"Topic19\", \"Topic19\", \"Topic19\", \"Topic19\", \"Topic19\", \"Topic19\", \"Topic19\", \"Topic19\", \"Topic19\", \"Topic19\", \"Topic19\", \"Topic19\", \"Topic19\", \"Topic19\", \"Topic19\", \"Topic19\", \"Topic19\", \"Topic19\", \"Topic19\", \"Topic19\", \"Topic19\", \"Topic19\", \"Topic19\", \"Topic19\", \"Topic19\", \"Topic19\", \"Topic19\", \"Topic19\", \"Topic19\", \"Topic19\", \"Topic19\", \"Topic19\", \"Topic19\", \"Topic19\", \"Topic19\", \"Topic19\", \"Topic19\", \"Topic19\", \"Topic19\", \"Topic19\", \"Topic19\", \"Topic19\", \"Topic19\", \"Topic19\", \"Topic19\", \"Topic19\", \"Topic20\", \"Topic20\", \"Topic20\", \"Topic20\", \"Topic20\", \"Topic20\", \"Topic20\", \"Topic20\", \"Topic20\", \"Topic20\", \"Topic20\", \"Topic20\", \"Topic20\", \"Topic20\", \"Topic20\", \"Topic20\", \"Topic20\", \"Topic20\", \"Topic20\", \"Topic20\", \"Topic20\", \"Topic20\", \"Topic20\", \"Topic20\", \"Topic20\", \"Topic20\", \"Topic20\", \"Topic20\", \"Topic20\", \"Topic20\", \"Topic20\", \"Topic20\", \"Topic20\", \"Topic20\", \"Topic20\", \"Topic20\", \"Topic20\", \"Topic20\", \"Topic20\", \"Topic20\"], \"logprob\": [30.0, 29.0, 28.0, 27.0, 26.0, 25.0, 24.0, 23.0, 22.0, 21.0, 20.0, 19.0, 18.0, 17.0, 16.0, 15.0, 14.0, 13.0, 12.0, 11.0, 10.0, 9.0, 8.0, 7.0, 6.0, 5.0, 4.0, 3.0, 2.0, 1.0, -6.865699768066406, -7.3165998458862305, -7.728400230407715, -7.76230001449585, -7.758900165557861, -7.79010009765625, -7.881100177764893, -7.9721999168396, -7.980000019073486, -7.9807000160217285, -7.982100009918213, -8.017999649047852, -8.041999816894531, -8.105400085449219, -8.113699913024902, -8.125399589538574, -8.18340015411377, -8.308600425720215, -8.316200256347656, -8.327899932861328, -8.331199645996094, -8.341699600219727, -8.354700088500977, -8.406999588012695, -8.416600227355957, -8.459799766540527, -8.472100257873535, -8.489999771118164, -8.490099906921387, -8.491900444030762, -7.276599884033203, -5.189300060272217, -7.5584001541137695, -5.694200038909912, -4.50029993057251, -5.3018999099731445, -6.502500057220459, -7.229599952697754, -7.197700023651123, -5.94290018081665, -5.640399932861328, -7.544899940490723, -6.185100078582764, -4.967100143432617, -6.488800048828125, -6.2153000831604, -4.003399848937988, -4.53410005569458, -5.252299785614014, -5.697800159454346, -4.428800106048584, -5.536799907684326, -6.3317999839782715, -5.68310022354126, -6.14709997177124, -5.565100193023682, -6.071499824523926, -5.801700115203857, -4.7469000816345215, -5.540299892425537, -5.4679999351501465, -4.918000221252441, -4.945899963378906, -4.934100151062012, -5.252200126647949, -5.036200046539307, -5.868899822235107, -5.18310022354126, -5.596099853515625, -5.75570011138916, -5.485899925231934, -4.729599952697754, -5.560200214385986, -5.416299819946289, -5.416600227355957, -5.600399971008301, -5.339000225067139, -5.656300067901611, -5.659999847412109, -6.436600208282471, -6.31279993057251, -6.968500137329102, -6.9944000244140625, -7.041500091552734, -7.080599784851074, -7.094600200653076, -7.139699935913086, -7.147299766540527, -7.19980001449585, -7.279200077056885, -7.285099983215332, -7.285299777984619, -7.304999828338623, -6.329800128936768, -7.38700008392334, -7.418300151824951, -7.448299884796143, -7.470600128173828, -7.460000038146973, -7.534599781036377, -7.579100131988525, -7.586599826812744, -7.598800182342529, -7.6331000328063965, -7.634699821472168, -7.63539981842041, -7.726600170135498, -7.729100227355957, -7.741600036621094, -7.056700229644775, -7.183899879455566, -7.500400066375732, -6.031799793243408, -6.152400016784668, -7.065400123596191, -5.591100215911865, -5.4415998458862305, -6.409800052642822, -5.953999996185303, -6.271100044250488, -6.303599834442139, -5.826200008392334, -6.28410005569458, -5.843500137329102, -6.70419979095459, -6.006100177764893, -6.060500144958496, -6.50439977645874, -6.189700126647949, -6.613999843597412, -5.400100231170654, -5.9079999923706055, -5.678100109100342, -6.025899887084961, -4.327899932861328, -5.782800197601318, -5.369800090789795, -6.531400203704834, -5.423500061035156, -6.525599956512451, -5.7179999351501465, -5.512599945068359, -5.42579984664917, -5.505799770355225, -5.869699954986572, -5.593800067901611, -5.374300003051758, -4.921599864959717, -5.64169979095459, -5.6585001945495605, -5.666100025177002, -5.860899925231934, -5.6880998611450195, -5.462699890136719, -5.586100101470947, -5.718599796295166, -5.8881001472473145, -5.930799961090088, -5.309500217437744, -5.792900085449219, -5.812300205230713, -6.326900005340576, -6.400899887084961, -6.602499961853027, -6.645299911499023, -6.6819000244140625, -5.446899890899658, -6.901599884033203, -6.953000068664551, -6.960999965667725, -7.171500205993652, -7.184599876403809, -7.2032999992370605, -7.214000225067139, -7.257500171661377, -7.263500213623047, -7.319200038909912, -7.33050012588501, -7.353899955749512, -7.407700061798096, -7.417600154876709, -7.480899810791016, -7.502399921417236, -7.571700096130371, -7.576399803161621, -7.593400001525879, -7.596499919891357, -7.617199897766113, -5.447000026702881, -5.765500068664551, -6.7204999923706055, -6.5559000968933105, -6.330900192260742, -5.64139986038208, -5.94920015335083, -6.881199836730957, -6.754499912261963, -5.034999847412109, -5.497300148010254, -5.395100116729736, -6.1097002029418945, -4.1407999992370605, -4.403299808502197, -6.768700122833252, -4.819799900054932, -5.053299903869629, -5.835000038146973, -4.815299987792969, -5.406599998474121, -6.064199924468994, -5.53410005569458, -4.963399887084961, -5.006899833679199, -4.5843000411987305, -4.97130012512207, -5.145400047302246, -4.829599857330322, -5.2241997718811035, -5.735599994659424, -5.379700183868408, -5.2164998054504395, -5.392099857330322, -5.320899963378906, -5.381199836730957, -5.188199996948242, -5.217800140380859, -5.076000213623047, -5.334400177001953, -4.927299976348877, -5.2677001953125, -5.444799900054932, -4.714600086212158, -4.841000080108643, -5.0640997886657715, -5.526400089263916, -5.722300052642822, -5.784599781036377, -5.8231000900268555, -5.878900051116943, -5.932499885559082, -6.0518999099731445, -6.052000045776367, -6.084000110626221, -6.178100109100342, -6.194399833679199, -6.341800212860107, -6.3460001945495605, -6.373700141906738, -6.388299942016602, -6.3927998542785645, -6.3968000411987305, -6.471099853515625, -6.524899959564209, -6.5903000831604, -6.593200206756592, -6.595099925994873, -6.639999866485596, -6.644499778747559, -6.661099910736084, -6.6707000732421875, -6.682600021362305, -6.641300201416016, -5.367599964141846, -4.918600082397461, -5.356500148773193, -5.946100234985352, -5.1417999267578125, -5.703000068664551, -6.078400135040283, -4.599100112915039, -5.393199920654297, -5.713200092315674, -5.451600074768066, -5.832499980926514, -5.785799980163574, -5.980100154876709, -4.657100200653076, -6.1392998695373535, -5.648900032043457, -5.4670000076293945, -5.8420000076293945, -5.9394001960754395, -5.879700183868408, -5.7418999671936035, -5.810200214385986, -5.902299880981445, -5.592100143432617, -5.762700080871582, -5.896599769592285, -5.937600135803223, -5.944699764251709, -6.03380012512207, -6.291299819946289, -6.3597002029418945, -6.4268999099731445, -6.462500095367432, -6.624100208282471, -6.635499954223633, -6.642499923706055, -6.686999797821045, -6.701499938964844, -6.713600158691406, -6.743500232696533, -6.754700183868408, -6.764400005340576, -6.781499862670898, -6.781499862670898, -6.78410005569458, -6.358399868011475, -6.834799766540527, -6.8942999839782715, -6.911799907684326, -6.948500156402588, -6.962900161743164, -6.966100215911865, -7.02269983291626, -6.083199977874756, -5.990699768066406, -4.146399974822998, -6.097700119018555, -5.1265997886657715, -6.337399959564209, -5.147200107574463, -5.025300025939941, -5.208399772644043, -5.06850004196167, -5.050300121307373, -6.189799785614014, -5.4593000411987305, -5.223499774932861, -6.451499938964844, -5.813000202178955, -5.241799831390381, -5.619999885559082, -6.402299880981445, -5.649099826812744, -5.76639986038208, -5.486100196838379, -5.810400009155273, -6.0142998695373535, -5.2571001052856445, -5.718500137329102, -5.82450008392334, -5.974800109863281, -5.848499774932861, -5.531799793243408, -5.537399768829346, -5.602499961853027, -5.6570000648498535, -5.584000110626221, -5.875400066375732, -5.869800090789795, -5.854300022125244, -4.712100028991699, -5.466700077056885, -5.489500045776367, -6.058599948883057, -6.00540018081665, -6.158199787139893, -6.3566999435424805, -6.5065999031066895, -6.4334001541137695, -6.53849983215332, -6.571300029754639, -6.627699851989746, -6.680699825286865, -6.681600093841553, -6.723700046539307, -6.7453999519348145, -6.773900032043457, -6.776000022888184, -6.7932000160217285, -6.798299789428711, -6.841899871826172, -6.873000144958496, -6.892199993133545, -6.894499778747559, -6.964300155639648, -7.012700080871582, -7.014500141143799, -7.044099807739258, -7.044600009918213, -7.1244001388549805, -4.60230016708374, -5.531099796295166, -4.495999813079834, -5.427800178527832, -4.045300006866455, -5.681000232696533, -5.032100200653076, -4.870699882507324, -6.034999847412109, -5.325699806213379, -5.635900020599365, -6.384399890899658, -6.591700077056885, -5.277400016784668, -4.327499866485596, -5.4475998878479, -5.413000106811523, -5.554500102996826, -5.187600135803223, -4.607800006866455, -5.664999961853027, -5.413099765777588, -4.782400131225586, -5.5518999099731445, -5.2881999015808105, -4.570799827575684, -4.460000038146973, -5.567299842834473, -4.866600036621094, -5.054800033569336, -4.548699855804443, -4.913000106811523, -4.565400123596191, -5.069799900054932, -4.796899795532227, -5.0980000495910645, -5.122200012207031, -4.9766998291015625, -5.304900169372559, -5.331500053405762, -5.234099864959717, -5.343100070953369, -5.361599922180176, -5.003499984741211, -5.0278000831604, -6.011899948120117, -6.042399883270264, -6.185100078582764, -6.2144999504089355, -6.318999767303467, -6.250100135803223, -6.351600170135498, -6.350399971008301, -6.412799835205078, -6.454699993133545, -6.46019983291626, -6.474899768829346, -6.513800144195557, -6.534299850463867, -6.559800148010254, -6.579599857330322, -6.5858001708984375, -6.592400074005127, -6.618199825286865, -6.771500110626221, -6.802299976348877, -6.827199935913086, -6.856100082397461, -6.88070011138916, -6.955100059509277, -5.3317999839782715, -6.97760009765625, -7.085400104522705, -6.178699970245361, -5.217199802398682, -5.3557000160217285, -6.187600135803223, -6.528200149536133, -6.041200160980225, -4.690800189971924, -5.144599914550781, -5.329899787902832, -5.7144999504089355, -5.313499927520752, -6.005300045013428, -5.779799938201904, -6.098499774932861, -5.617300033569336, -5.515500068664551, -5.474599838256836, -4.764400005340576, -5.723400115966797, -5.63539981842041, -4.883299827575684, -4.816100120544434, -5.7829999923706055, -5.565000057220459, -5.773399829864502, -5.090099811553955, -5.457200050354004, -6.04610013961792, -5.51609992980957, -5.705699920654297, -5.377299785614014, -5.617499828338623, -5.715700149536133, -5.532199859619141, -5.750500202178955, -5.778299808502197, -5.1996002197265625, -5.21560001373291, -5.281799793243408, -5.668900012969971, -3.9519999027252197, -6.06820011138916, -6.0980000495910645, -6.252200126647949, -6.3059000968933105, -6.514100074768066, -6.5559000968933105, -6.733399868011475, -6.734600067138672, -6.197500228881836, -6.774499893188477, -6.789299964904785, -6.813000202178955, -6.875899791717529, -6.889599800109863, -6.89109992980957, -6.912199974060059, -6.925099849700928, -6.967899799346924, -6.9720001220703125, -6.980100154876709, -7.00439977645874, -7.191400051116943, -7.208499908447266, -7.254799842834473, -7.408199787139893, -5.583199977874756, -4.059100151062012, -5.475800037384033, -4.921599864959717, -5.279799938201904, -5.72160005569458, -4.669400215148926, -6.466100215911865, -6.025599956512451, -5.003300189971924, -5.2891998291015625, -5.866000175476074, -5.0671000480651855, -5.857699871063232, -5.2266998291015625, -5.469299793243408, -5.611100196838379, -5.058700084686279, -5.40369987487793, -4.570799827575684, -4.279600143432617, -5.250400066375732, -5.118599891662598, -5.541800022125244, -4.502200126647949, -5.376999855041504, -4.714900016784668, -5.166100025177002, -5.282199859619141, -5.150300025939941, -4.753600120544434, -5.395400047302246, -5.405799865722656, -5.100200176239014, -5.283599853515625, -5.435299873352051, -4.509900093078613, -4.661799907684326, -4.695499897003174, -5.410099983215332, -5.605400085449219, -5.676400184631348, -5.686800003051758, -5.69950008392334, -5.729400157928467, -5.776299953460693, -5.823200225830078, -5.85129976272583, -5.876500129699707, -5.919400215148926, -5.981400012969971, -6.043600082397461, -6.063700199127197, -6.07420015335083, -6.1255998611450195, -6.15910005569458, -6.182199954986572, -6.183899879455566, -4.686600208282471, -6.2221999168396, -6.266600131988525, -6.281000137329102, -6.281700134277344, -6.3815999031066895, -6.3983001708984375, -6.486000061035156, -3.8682000637054443, -5.015500068664551, -4.26200008392334, -3.9879000186920166, -5.575099945068359, -5.375, -4.3470001220703125, -5.090000152587891, -5.7221999168396, -5.599400043487549, -5.3190999031066895, -5.350900173187256, -5.487599849700928, -5.50029993057251, -4.828400135040283, -4.317299842834473, -5.473400115966797, -5.492199897766113, -4.929599761962891, -4.906700134277344, -5.200300216674805, -5.4430999755859375, -5.2692999839782715, -5.582699775695801, -5.593500137329102, -4.857900142669678, -4.997300148010254, -5.695899963378906, -5.846199989318848, -5.854300022125244, -5.916900157928467, -6.036499977111816, -6.073500156402588, -6.086699962615967, -6.086999893188477, -6.126100063323975, -6.213500022888184, -6.244800090789795, -6.263899803161621, -6.277900218963623, -6.385499954223633, -6.404799938201904, -6.406499862670898, -6.413700103759766, -6.460599899291992, -6.505099773406982, -6.606400012969971, -6.613500118255615, -6.633600234985352, -6.689700126647949, -6.707399845123291, -6.801700115203857, -6.853099822998047, -6.878900051116943, -6.9953999519348145, -5.311399936676025, -4.50439977645874, -5.173799991607666, -5.297500133514404, -5.377999782562256, -5.388000011444092, -4.945199966430664, -5.930500030517578, -5.514200210571289, -5.567599773406982, -5.131100177764893, -4.358099937438965, -5.656700134277344, -4.969200134277344, -5.447299957275391, -5.099899768829346, -5.635700225830078, -5.271200180053711, -5.30019998550415, -5.160699844360352, -4.645299911499023, -4.965099811553955, -5.464799880981445, -5.528500080108643, -5.592100143432617, -5.088099956512451, -4.934800148010254, -5.541100025177002, -5.5432000160217285, -5.359099864959717, -5.555500030517578, -5.145400047302246, -5.201300144195557, -5.534200191497803, -6.0335001945495605, -5.233399868011475, -6.219900131225586, -6.22730016708374, -6.255000114440918, -6.259399890899658, -6.348700046539307, -6.361199855804443, -6.466300010681152, -6.5081000328063965, -6.632400035858154, -6.676499843597412, -6.698599815368652, -6.751500129699707, -6.760700225830078, -6.771399974822998, -6.804200172424316, -6.8531999588012695, -6.861299991607666, -6.904799938201904, -6.9197998046875, -6.945199966430664, -6.986000061035156, -7.005000114440918, -7.014500141143799, -7.051000118255615, -7.065899848937988, -5.506100177764893, -5.0782999992370605, -6.525899887084961, -4.994999885559082, -5.466800212860107, -6.281400203704834, -5.225500106811523, -4.673099994659424, -5.043600082397461, -5.678999900817871, -4.831399917602539, -5.2256999015808105, -4.687600135803223, -5.259099960327148, -5.46019983291626, -5.459000110626221, -4.9421000480651855, -5.196300029754639, -5.027299880981445, -4.6230998039245605, -5.296899795532227, -5.581099987030029, -5.397299766540527, -5.495299816131592, -5.560100078582764, -5.416800022125244, -4.893400192260742, -5.337100028991699, -5.4394001960754395, -5.42519998550415, -5.510900020599365, -4.157800197601318, -4.8694000244140625, -5.271999835968018, -5.408599853515625, -5.561399936676025, -5.53439998626709, -5.661900043487549, -5.775000095367432, -5.809700012207031, -5.8684000968933105, -6.0142998695373535, -6.099299907684326, -6.19379997253418, -6.291900157928467, -6.337200164794922, -6.376299858093262, -6.401599884033203, -6.4583001136779785, -6.459799766540527, -6.530799865722656, -6.5329999923706055, -6.645999908447266, -6.679500102996826, -6.712500095367432, -6.767300128936768, -6.802800178527832, -6.824699878692627, -6.833700180053711, -6.837800025939941, -6.840199947357178, -6.220399856567383, -4.526400089263916, -4.089799880981445, -3.9347000122070312, -5.7083001136779785, -5.998700141906738, -5.218400001525879, -6.343900203704834, -4.945300102233887, -5.071300029754639, -5.184000015258789, -5.048900127410889, -4.698800086975098, -5.519700050354004, -4.6940999031066895, -4.183700084686279, -4.8343000411987305, -4.82859992980957, -5.391900062561035, -5.16510009765625, -5.329100131988525, -5.3933000564575195, -5.47160005569458, -4.879499912261963, -5.429900169372559, -5.593400001525879, -5.24370002746582, -5.457799911499023, -5.486499786376953, -5.439599990844727, -5.612299919128418, -5.704100131988525, -5.895899772644043, -5.960999965667725, -6.019599914550781, -6.090700149536133, -6.162700176239014, -6.180500030517578, -6.194799900054932, -5.509900093078613, -6.26609992980957, -6.274799823760986, -6.32390022277832, -6.34119987487793, -6.343800067901611, -6.3506999015808105, -6.358799934387207, -6.3958001136779785, -6.418600082397461, -5.48390007019043, -6.43779993057251, -6.447400093078613, -6.450799942016602, -6.453999996185303, -6.4558000564575195, -6.456999778747559, -6.474400043487549, -6.485199928283691, -6.492199897766113, -6.100100040435791, -5.557300090789795, -5.124899864196777, -5.614699840545654, -5.859799861907959, -6.256999969482422, -5.596199989318848, -5.113900184631348, -5.734799861907959, -5.620800018310547, -5.942200183868408, -5.047999858856201, -5.861599922180176, -6.224699974060059, -6.055600166320801, -5.214600086212158, -5.180600166320801, -5.180500030517578, -5.593299865722656, -5.213600158691406, -5.737800121307373, -5.316699981689453, -5.297900199890137, -5.742000102996826, -5.6595001220703125, -5.478300094604492, -5.684700012207031, -5.861400127410889, -5.565100193023682, -5.706399917602539, -4.926300048828125, -5.742300033569336, -5.752500057220459, -5.744500160217285, -5.673999786376953, -5.571499824523926, -6.1066999435424805, -6.124199867248535, -5.378499984741211, -6.245999813079834, -6.249899864196777, -6.26140022277832, -6.264900207519531, -6.267300128936768, -6.28410005569458, -6.300300121307373, -6.30620002746582, -6.34119987487793, -6.363800048828125, -6.393499851226807, -5.939700126647949, -6.427700042724609, -6.460999965667725, -6.202000141143799, -6.531599998474121, -6.570000171661377, -6.585100173950195, -6.547599792480469, -4.601099967956543, -3.0792999267578125, -5.702000141143799, -4.571199893951416, -5.661799907684326, -4.041200160980225, -4.973400115966797, -5.444200038909912, -4.7906999588012695, -5.445099830627441, -4.901100158691406, -5.816800117492676, -4.467800140380859, -4.886199951171875, -4.963099956512451, -4.174499988555908, -5.438799858093262, -4.6149001121521, -4.42710018157959, -5.44920015335083, -4.887700080871582, -4.665900230407715, -4.953800201416016, -5.312699794769287, -4.926199913024902, -5.452700138092041, -5.40369987487793, -5.0777997970581055, -5.030399799346924, -5.112800121307373, -5.388800144195557, -5.447199821472168, -5.216599941253662, -5.371500015258789, -5.385799884796143, -5.528900146484375, -5.604400157928467, -5.63070011138916, -5.637899875640869, -5.672399997711182, -5.697700023651123, -5.751500129699707, -5.760200023651123, -5.761600017547607, -5.807499885559082, -5.819799900054932, -5.825500011444092, -5.842199802398682, -5.96019983291626, -5.994500160217285, -6.01609992980957, -6.050600051879883, -6.0569000244140625, -6.0605998039245605, -4.870800018310547, -6.06879997253418, -6.094299793243408, -6.107999801635742, -6.133800029754639, -6.135000228881836, -6.139800071716309, -6.149400234222412, -4.168099880218506, -5.501200199127197, -4.330100059509277, -4.163700103759766, -5.251800060272217, -5.2845001220703125, -5.059299945831299, -4.542099952697754, -5.895699977874756, -4.5868000984191895, -5.651599884033203, -5.6458001136779785, -5.776800155639648, -4.6367998123168945, -5.548099994659424, -5.298799991607666, -5.341400146484375, -5.112299919128418, -5.113500118255615, -5.4679999351501465, -5.162700176239014, -5.381400108337402, -5.459199905395508, -5.666999816894531, -4.182000160217285, -4.533100128173828, -4.801599979400635, -5.4278998374938965, -5.440700054168701, -5.462399959564209, -5.5167999267578125, -5.566699981689453, -5.566699981689453, -5.652100086212158, -5.670400142669678, -5.678599834442139, -5.687900066375732, -5.757500171661377, -5.786900043487549, -5.794099807739258, -5.852099895477295, -5.873600006103516, -5.88730001449585, -5.956200122833252, -5.958499908447266, -5.961900234222412, -5.966400146484375, -5.9822998046875, -5.996799945831299, -6.044300079345703, -6.051400184631348, -6.082200050354004, -6.11870002746582, -6.122399806976318, -5.057600021362305, -5.838799953460693, -3.4072000980377197, -4.996600151062012, -5.747200012207031, -5.4380998611450195, -5.476799964904785, -5.806700229644775, -5.195400238037109, -5.401899814605713, -5.8109002113342285, -5.53879976272583, -5.573699951171875, -5.466899871826172, -5.753399848937988, -5.783199787139893, -5.792699813842773, -4.401800155639648, -4.854000091552734, -4.908100128173828, -5.080599784851074, -5.1203999519348145, -5.136099815368652, -5.204599857330322, -5.4953999519348145, -5.635900020599365, -5.651700019836426, -5.654099941253662, -5.707699775695801, -5.806099891662598, -5.910299777984619, -5.938199996948242, -5.953199863433838, -5.959099769592285, -5.982800006866455, -6.046899795532227, -6.063199996948242, -6.09119987487793, -6.122900009155273, -6.157599925994873, -6.162700176239014, -6.166299819946289, -6.182000160217285, -3.4730000495910645, -6.207099914550781, -6.229100227355957, -6.235899925231934, -4.014900207519531, -4.99459981918335, -5.308499813079834, -3.6326000690460205, -5.748899936676025, -3.918600082397461, -5.336999893188477, -4.751299858093262, -5.120999813079834, -5.69789981842041, -5.7210001945495605, -5.137499809265137, -5.172599792480469, -5.632999897003174, -5.482500076293945, -5.800899982452393, -4.350100040435791, -4.529300212860107, -4.620100021362305, -4.793300151824951, -4.945199966430664, -5.095399856567383, -5.120999813079834, -5.263700008392334, -5.263999938964844, -5.448200225830078, -5.586299896240234, -5.60230016708374, -5.620699882507324, -5.622000217437744, -5.685400009155273, -5.702499866485596, -5.748000144958496, -5.807400226593018, -5.810999870300293, -5.883500099182129, -5.98199987411499, -5.997499942779541, -6.0121002197265625, -5.103799819946289, -6.132400035858154, -6.137899875640869, -6.140600204467773, -6.168499946594238, -6.218500137329102, -6.222499847412109, -4.372200012207031, -4.9268999099731445, -5.410200119018555, -5.741600036621094, -5.234899997711182, -4.552999973297119, -4.748499870300293, -5.445700168609619, -5.475500106811523, -5.83519983291626, -5.694300174713135, -3.88070011138916, -4.632699966430664, -4.820799827575684, -4.84689998626709, -4.997700214385986, -5.04449987411499, -5.4791998863220215, -5.660600185394287, -5.847099781036377, -5.875400066375732, -5.883900165557861, -5.942999839782715, -5.80210018157959, -6.054800033569336, -6.076499938964844, -6.095399856567383, -6.125899791717529, -6.1265997886657715, -6.151800155639648, -6.203800201416016, -6.216300010681152, -6.30019998550415, -6.309500217437744, -6.339900016784668, -6.342899799346924, -6.381499767303467, -6.405600070953369, -6.41349983215332, -6.501500129699707, -6.505799770355225, -4.683300018310547, -4.418600082397461, -5.485799789428711, -5.0030999183654785, -4.60860013961792, -5.5329999923706055, -4.940299987792969, -3.8919999599456787, -4.991700172424316, -5.331500053405762, -5.458099842071533, -4.806300163269043, -4.842599868774414, -5.671899795532227, -5.778600215911865, -5.1402997970581055, -5.605999946594238, -5.598999977111816, -5.6631999015808105, -4.708899974822998, -4.850599765777588, -5.081999778747559, -5.1203999519348145, -5.45389986038208, -5.4542999267578125, -5.46619987487793, -5.489699840545654, -5.503600120544434, -5.525400161743164, -5.621300220489502, -5.630300045013428, -5.730100154876709, -5.775000095367432, -5.895899772644043, -5.896900177001953, -5.93310022354126, -5.94950008392334, -6.008900165557861, -6.013299942016602, -6.031599998474121, -6.035699844360352, -6.0518999099731445, -5.029300212860107, -6.133699893951416, -6.157100200653076, -6.240099906921387, -4.320499897003174, -6.270400047302246, -6.3109002113342285, -4.186500072479248, -5.485799789428711, -5.094900131225586, -4.173999786376953, -5.394899845123291, -5.692999839782715, -5.697199821472168, -5.877399921417236, -5.979599952697754, -5.985400199890137], \"loglift\": [30.0, 29.0, 28.0, 27.0, 26.0, 25.0, 24.0, 23.0, 22.0, 21.0, 20.0, 19.0, 18.0, 17.0, 16.0, 15.0, 14.0, 13.0, 12.0, 11.0, 10.0, 9.0, 8.0, 7.0, 6.0, 5.0, 4.0, 3.0, 2.0, 1.0, 1.2982, 1.2964, 1.2938, 1.2935, 1.2934, 1.2933, 1.2925, 1.2917, 1.2916, 1.2916, 1.2916, 1.2912, 1.2909, 1.2903, 1.2902, 1.29, 1.2894, 1.2878, 1.2876, 1.2875, 1.2874, 1.2873, 1.2871, 1.2863, 1.2862, 1.2855, 1.2853, 1.285, 1.285, 1.285, 1.2784, 1.2272, 1.2742, 1.2268, 1.1858, 1.1688, 1.217, 1.2469, 1.2425, 1.1891, 1.1621, 1.2492, 1.1746, 1.0942, 1.1796, 1.155, 0.9842, 1.0151, 1.0764, 1.0996, 0.9888, 1.0837, 1.1489, 1.0875, 1.1308, 1.0649, 1.1127, 1.0796, 0.953, 1.0434, 1.0342, 0.9536, 0.9475, 0.9456, 0.9732, 0.9323, 1.0695, 0.9024, 0.9969, 1.0359, 0.9229, 0.6551, 0.8942, 0.7796, 0.623, 0.7822, 0.2392, 0.6341, 0.5571, 2.279, 2.2766, 2.2751, 2.2748, 2.2743, 2.2739, 2.2738, 2.2733, 2.2732, 2.2726, 2.2716, 2.2715, 2.2715, 2.2712, 2.2706, 2.2701, 2.2696, 2.2692, 2.2688, 2.2688, 2.2678, 2.267, 2.2669, 2.2667, 2.266, 2.266, 2.266, 2.2642, 2.2642, 2.2639, 2.2341, 2.2309, 2.249, 2.1294, 2.1249, 2.2104, 2.0139, 1.9309, 2.0725, 1.9663, 2.0221, 2.0238, 1.9156, 2.0106, 1.9044, 2.1052, 1.9088, 1.9066, 2.0254, 1.9161, 2.0499, 1.6347, 1.7875, 1.6925, 1.8159, 1.0567, 1.6729, 1.4585, 2.0107, 1.4647, 1.9982, 1.4297, 1.2864, 1.0794, 1.1395, 1.4284, 1.1309, 0.8216, 0.066, 1.0469, 1.0189, 1.0192, 1.2728, 0.8246, 0.1154, 0.3824, 0.321, 0.1325, 0.6114, 2.4034, 2.4021, 2.402, 2.3997, 2.3993, 2.3979, 2.3975, 2.3973, 2.3965, 2.3953, 2.3947, 2.3946, 2.3921, 2.3919, 2.3917, 2.3916, 2.3909, 2.3909, 2.39, 2.3898, 2.3895, 2.3886, 2.3881, 2.3873, 2.387, 2.3856, 2.3855, 2.3852, 2.3851, 2.3847, 2.3811, 2.3576, 2.3755, 2.371, 2.3654, 2.3338, 2.3349, 2.3561, 2.3476, 2.2376, 2.2628, 2.2181, 2.2782, 2.0609, 2.0556, 2.3414, 2.0984, 2.1219, 2.2202, 2.037, 2.1253, 2.2348, 2.1283, 2.0185, 1.9954, 1.8152, 1.9106, 1.9433, 1.823, 1.9255, 2.1041, 1.9189, 1.8216, 1.9115, 1.8494, 1.8318, 1.5955, 1.4973, 1.2747, 1.5287, 0.6509, 1.3161, 1.0263, 2.5242, 2.524, 2.5236, 2.5226, 2.5219, 2.5217, 2.5216, 2.5213, 2.5211, 2.5206, 2.5206, 2.5202, 2.5199, 2.5198, 2.5189, 2.5189, 2.5186, 2.5186, 2.5186, 2.5185, 2.5178, 2.5176, 2.5171, 2.517, 2.517, 2.5166, 2.5166, 2.5164, 2.5164, 2.5163, 2.515, 2.4633, 2.4235, 2.4313, 2.4043, 2.2033, 2.2546, 2.3358, 1.618, 1.9391, 2.0799, 1.8638, 2.0515, 1.9635, 2.1312, 0.7275, 2.2868, 1.6926, 1.1783, 1.7104, 1.7681, 1.4285, 0.2787, 0.6424, 1.2567, 2.5663, 2.5657, 2.5652, 2.565, 2.565, 2.5645, 2.5631, 2.5626, 2.5621, 2.5619, 2.5605, 2.5604, 2.5603, 2.5599, 2.5598, 2.5597, 2.5594, 2.5593, 2.5592, 2.559, 2.559, 2.5589, 2.5584, 2.5584, 2.5577, 2.5575, 2.5571, 2.5569, 2.5568, 2.5561, 2.5333, 2.5095, 2.4104, 2.5067, 2.4404, 2.5208, 2.4287, 2.3722, 2.2865, 2.2343, 2.2155, 2.4443, 2.2571, 2.1491, 2.4825, 2.2786, 2.0057, 2.1511, 2.4622, 2.117, 2.1506, 1.8078, 1.9595, 2.119, 1.0936, 1.625, 1.7334, 1.9975, 1.6825, 0.8498, 0.8621, 0.8501, 0.9268, -0.0058, 1.2872, 1.1025, 0.2739, 2.6288, 2.6272, 2.6271, 2.6247, 2.6242, 2.6241, 2.6228, 2.6216, 2.6216, 2.6211, 2.6211, 2.6205, 2.62, 2.62, 2.6196, 2.6193, 2.619, 2.619, 2.6188, 2.6187, 2.6182, 2.6178, 2.6176, 2.6176, 2.6167, 2.616, 2.616, 2.6156, 2.6156, 2.6143, 2.6043, 2.6136, 2.6026, 2.6072, 2.5367, 2.5827, 2.5584, 2.5432, 2.5898, 2.514, 2.5044, 2.5707, 2.5962, 2.4134, 2.2671, 2.4322, 2.4271, 2.4181, 2.3271, 2.1603, 2.4011, 2.3066, 2.0013, 2.2725, 2.1447, 1.7648, 1.6682, 2.1773, 1.5493, 1.5774, 1.0005, 1.3905, 0.4221, 1.3353, 0.6208, 1.1925, 1.223, 0.6014, 1.7229, 1.7535, 0.6375, 1.5387, 1.2222, 2.8817, 2.8802, 2.8774, 2.8772, 2.8761, 2.8759, 2.875, 2.8748, 2.8747, 2.8746, 2.8741, 2.8737, 2.8736, 2.8735, 2.873, 2.8728, 2.8725, 2.8723, 2.8722, 2.8721, 2.8718, 2.8698, 2.8693, 2.869, 2.8685, 2.8681, 2.8669, 2.8667, 2.8665, 2.8645, 2.8603, 2.8349, 2.828, 2.8473, 2.8517, 2.8031, 2.6438, 2.6529, 2.5974, 2.6583, 2.5215, 2.6943, 2.6198, 2.6928, 2.4892, 2.4308, 2.3717, 1.9619, 2.4391, 2.3804, 1.8849, 1.3229, 2.2295, 1.886, 2.1591, 0.8032, 1.3777, 2.5143, 0.8999, 1.383, 0.2009, 1.0351, 1.2566, -0.1145, 0.335, 0.6305, 3.0673, 3.0672, 3.067, 3.0651, 3.064, 3.0623, 3.062, 3.0606, 3.06, 3.0575, 3.0569, 3.0542, 3.0542, 3.0541, 3.0535, 3.0532, 3.0528, 3.0517, 3.0514, 3.0514, 3.051, 3.0507, 3.0498, 3.0497, 3.0496, 3.0491, 3.0446, 3.0442, 3.0429, 3.0384, 3.0099, 2.9643, 2.9689, 2.8881, 2.9137, 2.9306, 2.7061, 2.967, 2.8871, 2.6898, 2.7283, 2.8434, 2.6791, 2.8201, 2.6502, 2.7123, 2.7446, 2.5673, 2.5703, 2.2392, 2.0712, 2.4418, 2.3496, 2.5346, 1.6996, 2.3775, 1.6902, 2.1365, 2.2405, 2.0929, 1.5916, 2.3398, 2.2999, 0.5997, 1.3879, 1.9975, 3.1457, 3.1454, 3.1453, 3.1428, 3.1418, 3.1414, 3.1413, 3.1412, 3.141, 3.1407, 3.1404, 3.1402, 3.14, 3.1396, 3.1391, 3.1386, 3.1384, 3.1383, 3.1378, 3.1375, 3.1372, 3.1372, 3.1369, 3.1368, 3.1363, 3.1362, 3.1362, 3.135, 3.1347, 3.1336, 3.1308, 3.1252, 3.1087, 3.0951, 3.1015, 3.072, 2.9736, 3.0318, 3.0771, 3.0494, 2.968, 2.9693, 2.9882, 2.9573, 2.6656, 2.0643, 2.7001, 2.6719, 1.5796, 1.1139, 1.6339, 2.1687, 1.457, 2.2919, 2.2888, 3.3032, 3.3028, 3.2991, 3.2979, 3.2978, 3.2973, 3.2961, 3.2957, 3.2956, 3.2956, 3.2951, 3.2941, 3.2937, 3.2935, 3.2933, 3.2918, 3.2915, 3.2915, 3.2914, 3.2906, 3.2899, 3.2882, 3.288, 3.2876, 3.2866, 3.2862, 3.2842, 3.2831, 3.2825, 3.2795, 3.27, 3.2124, 3.1828, 3.1556, 3.1231, 3.0827, 2.9687, 3.1233, 3.0008, 3.0069, 2.8661, 2.5351, 3.0091, 2.7393, 2.8235, 2.5308, 2.8606, 2.5214, 2.497, 2.358, 1.8257, 2.1137, 2.5008, 2.5449, 2.5215, 1.5727, 1.2043, 2.3767, 2.2803, 1.046, 0.5727, 3.4363, 3.436, 3.4339, 3.4292, 3.4291, 3.4268, 3.4267, 3.4263, 3.4262, 3.4248, 3.4246, 3.4228, 3.422, 3.4195, 3.4185, 3.418, 3.4167, 3.4165, 3.4163, 3.4154, 3.4141, 3.4139, 3.4127, 3.4123, 3.4116, 3.4104, 3.4098, 3.4095, 3.4083, 3.4078, 3.2961, 3.2477, 3.3629, 3.1546, 3.2078, 3.3175, 3.1441, 3.0165, 3.0691, 3.1485, 2.9474, 3.0189, 2.8703, 3.0217, 3.0639, 2.9154, 2.5135, 2.4993, 2.2499, 1.8896, 2.4001, 2.6187, 2.4257, 2.4631, 2.4492, 2.0749, 1.1462, 1.4912, 1.2492, 1.0801, 0.8177, 3.6634, 3.661, 3.6586, 3.6576, 3.6563, 3.6561, 3.6553, 3.6541, 3.6536, 3.6529, 3.6509, 3.6496, 3.648, 3.6462, 3.6454, 3.6446, 3.644, 3.6427, 3.6427, 3.6411, 3.641, 3.6381, 3.6372, 3.6362, 3.6346, 3.6335, 3.6328, 3.6325, 3.6324, 3.6323, 3.5921, 3.4549, 3.404, 3.339, 3.5093, 3.5258, 3.3562, 3.5662, 3.215, 3.2268, 3.19, 3.054, 2.8855, 3.2275, 2.8245, 2.4617, 2.7965, 2.7402, 3.0479, 2.7512, 2.8845, 2.8106, 2.7673, 1.2487, 2.4172, 2.8432, 1.1558, 2.0363, 1.0973, 3.9115, 3.9095, 3.9082, 3.9053, 3.9042, 3.9031, 3.9017, 3.9002, 3.8998, 3.8995, 3.899, 3.8978, 3.8976, 3.8964, 3.896, 3.8959, 3.8957, 3.8955, 3.8945, 3.8939, 3.8937, 3.8933, 3.8931, 3.893, 3.8929, 3.8928, 3.8928, 3.8923, 3.8919, 3.8917, 3.8716, 3.8254, 3.7123, 3.7691, 3.7983, 3.8556, 3.7268, 3.5837, 3.7293, 3.7022, 3.7642, 3.3572, 3.6909, 3.8287, 3.7095, 3.1424, 3.0878, 2.8489, 3.2165, 2.7033, 3.2018, 2.4999, 2.3119, 3.0858, 2.7042, 2.0912, 1.6479, 2.6238, 4.0049, 4.0028, 4.0028, 4.0023, 4.0021, 4.0015, 3.9999, 3.9978, 3.9953, 3.9949, 3.9927, 3.9919, 3.9918, 3.9915, 3.9914, 3.9913, 3.9909, 3.9905, 3.9903, 3.9893, 3.9887, 3.9878, 3.9874, 3.9867, 3.9857, 3.9848, 3.9833, 3.982, 3.9814, 3.9807, 3.9557, 3.8845, 3.9562, 3.9173, 3.9531, 3.7988, 3.7498, 3.8278, 3.7045, 3.8211, 3.6884, 3.8789, 3.5357, 3.628, 3.5941, 3.3172, 3.6168, 3.2081, 3.0381, 3.578, 3.1687, 2.7047, 2.7432, 3.1933, 2.351, 3.361, 3.2199, 2.2236, 1.6847, 1.1042, 1.7909, 2.3583, 4.676, 4.6729, 4.6726, 4.6692, 4.6672, 4.6665, 4.6663, 4.6653, 4.6646, 4.6629, 4.6627, 4.6626, 4.6611, 4.6607, 4.6605, 4.66, 4.6557, 4.6544, 4.6535, 4.6521, 4.6518, 4.6517, 4.6516, 4.6513, 4.6502, 4.6496, 4.6485, 4.6484, 4.6482, 4.6478, 4.536, 4.5765, 4.3155, 4.2806, 4.4419, 4.4215, 4.3323, 4.1299, 4.5894, 4.0482, 4.455, 4.4236, 4.5072, 3.4697, 4.2286, 3.7699, 3.8357, 3.1921, 2.6376, 3.5317, 2.2636, 3.0545, 3.3598, 2.6919, 4.8762, 4.8728, 4.8693, 4.8564, 4.856, 4.8554, 4.8538, 4.8523, 4.8523, 4.8495, 4.8488, 4.8486, 4.8482, 4.8457, 4.8446, 4.8443, 4.8419, 4.841, 4.8405, 4.8374, 4.8373, 4.8371, 4.8369, 4.8362, 4.8355, 4.8332, 4.8328, 4.8313, 4.8294, 4.8292, 4.6745, 4.7821, 4.3281, 4.5851, 4.6857, 4.3568, 4.1617, 4.5458, 3.3941, 3.697, 4.5126, 3.7787, 3.6647, 2.5895, 2.7611, 2.973, 2.7025, 5.3724, 5.3629, 5.3615, 5.3563, 5.355, 5.3545, 5.3521, 5.3398, 5.3326, 5.3317, 5.3316, 5.3285, 5.3225, 5.3154, 5.3134, 5.3123, 5.3119, 5.3101, 5.305, 5.3037, 5.3014, 5.2987, 5.2956, 5.2952, 5.2949, 5.2935, 5.2918, 5.2911, 5.2891, 5.2884, 5.1418, 4.936, 5.0206, 4.4544, 5.1519, 4.4814, 4.7996, 4.1732, 3.9518, 4.7435, 4.7566, 3.6815, 3.7063, 4.3529, 1.5556, 1.3945, 5.666, 5.6618, 5.6594, 5.6542, 5.6489, 5.6428, 5.6416, 5.6348, 5.6348, 5.6245, 5.6155, 5.6143, 5.613, 5.6129, 5.6082, 5.6069, 5.6033, 5.5984, 5.5981, 5.5917, 5.5823, 5.5807, 5.5792, 5.57, 5.5662, 5.5656, 5.5653, 5.562, 5.556, 5.5555, 5.5378, 5.5284, 5.5388, 5.5078, 5.2443, 4.9334, 4.7516, 4.9562, 4.9167, 5.2105, 4.0132, 5.8759, 5.8576, 5.8505, 5.8494, 5.8426, 5.8403, 5.8129, 5.7978, 5.7794, 5.7764, 5.7754, 5.7687, 5.7621, 5.755, 5.7522, 5.7497, 5.7456, 5.7455, 5.742, 5.7346, 5.7328, 5.7199, 5.7185, 5.7135, 5.713, 5.7066, 5.7025, 5.7011, 5.6852, 5.6844, 5.6831, 5.5313, 5.4763, 5.273, 5.1464, 5.3314, 4.9118, 4.1256, 4.8536, 5.0786, 5.1139, 3.6698, 3.5821, 4.9655, 5.1017, 3.7353, 4.7292, 3.8031, 4.087, 5.9497, 5.9435, 5.9315, 5.9292, 5.9056, 5.9056, 5.9046, 5.9027, 5.9015, 5.8996, 5.8908, 5.8899, 5.8799, 5.8751, 5.8611, 5.8609, 5.8564, 5.8544, 5.8466, 5.846, 5.8435, 5.8429, 5.8407, 5.8305, 5.8288, 5.8253, 5.8121, 5.8118, 5.8071, 5.8002, 5.6548, 5.683, 5.5661, 5.1267, 5.3964, 5.3495, 5.0293, 5.1699, 5.5293, 4.0054]}, \"token.table\": {\"Topic\": [14, 1, 11, 7, 13, 1, 3, 5, 6, 7, 8, 10, 12, 18, 20, 1, 10, 5, 13, 15, 2, 4, 14, 1, 2, 3, 6, 7, 8, 10, 11, 6, 1, 2, 3, 4, 5, 6, 7, 15, 1, 4, 5, 12, 8, 4, 6, 7, 8, 9, 11, 12, 5, 10, 12, 1, 3, 8, 10, 12, 11, 5, 17, 18, 10, 1, 2, 3, 4, 5, 6, 7, 8, 9, 10, 11, 12, 14, 1, 2, 4, 5, 10, 12, 19, 1, 2, 3, 4, 5, 6, 10, 14, 11, 8, 13, 6, 3, 5, 10, 15, 3, 3, 3, 1, 2, 6, 7, 8, 11, 1, 4, 6, 7, 4, 14, 1, 2, 3, 5, 6, 8, 13, 15, 16, 3, 6, 7, 15, 3, 5, 6, 8, 1, 6, 7, 8, 4, 5, 6, 9, 12, 13, 4, 4, 14, 16, 15, 3, 4, 5, 10, 8, 4, 1, 2, 8, 11, 8, 4, 4, 4, 3, 4, 5, 7, 18, 1, 2, 3, 4, 5, 6, 12, 13, 1, 2, 3, 4, 7, 11, 20, 15, 5, 11, 11, 11, 3, 2, 18, 5, 6, 7, 14, 16, 18, 2, 5, 10, 11, 12, 16, 1, 3, 5, 6, 7, 10, 12, 20, 4, 4, 1, 4, 5, 6, 7, 8, 9, 12, 2, 5, 18, 13, 19, 6, 2, 1, 2, 3, 5, 6, 7, 10, 11, 12, 19, 20, 15, 7, 12, 6, 1, 2, 2, 11, 2, 11, 1, 2, 6, 11, 14, 16, 13, 1, 2, 3, 6, 7, 8, 9, 11, 1, 3, 6, 7, 8, 9, 11, 12, 2, 11, 14, 1, 7, 7, 1, 5, 19, 3, 6, 16, 14, 1, 3, 4, 6, 7, 8, 10, 1, 2, 4, 5, 13, 14, 1, 4, 5, 6, 7, 9, 1, 2, 3, 4, 7, 13, 16, 12, 14, 1, 2, 3, 4, 5, 6, 7, 11, 14, 15, 1, 2, 3, 4, 5, 7, 11, 13, 14, 15, 4, 5, 9, 13, 1, 7, 7, 19, 3, 9, 13, 14, 14, 9, 10, 19, 1, 3, 5, 6, 8, 12, 12, 4, 6, 7, 8, 7, 6, 8, 7, 15, 6, 5, 20, 9, 1, 4, 6, 7, 9, 11, 14, 1, 3, 4, 5, 7, 9, 10, 5, 2, 1, 2, 3, 4, 6, 8, 10, 11, 14, 2, 15, 16, 2, 20, 6, 15, 2, 4, 6, 12, 19, 16, 1, 2, 3, 4, 5, 10, 1, 7, 14, 1, 2, 3, 4, 5, 6, 7, 8, 10, 12, 16, 16, 11, 16, 1, 2, 4, 8, 10, 11, 13, 7, 10, 12, 4, 5, 7, 8, 9, 5, 6, 16, 11, 8, 19, 18, 5, 1, 3, 6, 7, 8, 10, 13, 19, 1, 5, 9, 10, 1, 2, 4, 5, 14, 15, 17, 6, 12, 6, 7, 12, 8, 2, 14, 16, 2, 11, 14, 2, 11, 2, 11, 14, 19, 13, 20, 2, 14, 16, 2, 16, 15, 19, 10, 3, 7, 8, 17, 7, 17, 1, 2, 4, 5, 9, 10, 1, 2, 4, 5, 10, 4, 12, 5, 9, 19, 8, 12, 18, 12, 2, 3, 5, 6, 8, 10, 11, 16, 17, 10, 2, 4, 20, 3, 6, 8, 8, 5, 7, 18, 16, 15, 2, 5, 6, 10, 12, 3, 6, 1, 3, 4, 5, 6, 7, 10, 12, 19, 12, 3, 17, 10, 3, 5, 6, 7, 10, 12, 13, 1, 2, 4, 7, 10, 13, 15, 1, 6, 15, 1, 4, 5, 12, 2, 6, 7, 8, 10, 12, 17, 14, 1, 2, 19, 2, 4, 1, 1, 2, 3, 8, 3, 1, 2, 3, 4, 5, 6, 7, 8, 10, 6, 7, 1, 3, 6, 15, 1, 2, 3, 5, 6, 7, 15, 11, 1, 2, 4, 5, 6, 7, 8, 9, 10, 11, 12, 14, 4, 5, 12, 16, 1, 2, 3, 4, 5, 6, 7, 8, 10, 11, 1, 4, 5, 7, 10, 11, 15, 12, 1, 1, 17, 2, 4, 10, 2, 4, 10, 4, 10, 1, 10, 10, 10, 12, 10, 10, 12, 10, 10, 10, 20, 17, 19, 2, 1, 2, 3, 5, 6, 7, 8, 11, 12, 13, 17, 17, 10, 20, 1, 11, 14, 3, 5, 6, 8, 10, 12, 1, 3, 6, 7, 9, 13, 16, 1, 2, 3, 5, 7, 9, 12, 13, 14, 17, 1, 2, 4, 7, 14, 1, 14, 2, 4, 11, 20, 18, 13, 9, 17, 16, 10, 10, 3, 8, 1, 2, 4, 5, 9, 10, 19, 2, 3, 8, 11, 10, 12, 3, 4, 5, 7, 10, 12, 15, 5, 13, 9, 6, 7, 10, 12, 13, 6, 13, 13, 3, 3, 3, 3, 6, 2, 5, 11, 13, 6, 7, 10, 3, 6, 8, 3, 5, 10, 17, 2, 11, 16, 4, 5, 9, 19, 6, 1, 4, 13, 14, 17, 12, 1, 3, 6, 7, 9, 10, 15, 3, 9, 20, 15, 19, 20, 4, 6, 7, 1, 4, 6, 7, 9, 1, 6, 7, 10, 6, 7, 16, 1, 2, 5, 11, 14, 3, 4, 5, 9, 11, 13, 16, 19, 16, 6, 5, 7, 11, 17, 7, 12, 3, 6, 7, 8, 15, 15, 10, 10, 12, 10, 12, 10, 12, 1, 7, 1, 2, 3, 6, 8, 15, 3, 3, 8, 9, 19, 1, 2, 6, 8, 9, 11, 1, 3, 8, 11, 18, 12, 12, 9, 2, 11, 14, 6, 13, 1, 2, 4, 6, 8, 9, 10, 11, 12, 1, 2, 11, 1, 2, 11, 13, 1, 2, 5, 7, 9, 15, 16, 11, 7, 1, 2, 3, 6, 10, 11, 15, 2, 4, 11, 1, 2, 3, 6, 8, 11, 3, 8, 3, 12, 4, 15, 1, 2, 3, 4, 10, 11, 12, 7, 19, 2, 11, 14, 16, 2, 9, 2, 4, 11, 14, 16, 1, 2, 5, 10, 12, 1, 11, 3, 6, 8, 8, 3, 6, 12, 10, 18, 10, 10, 1, 2, 3, 4, 5, 6, 7, 8, 9, 10, 11, 12, 13, 15, 1, 7, 9, 17, 4, 5, 15, 6, 7, 9, 2, 3, 15, 3, 6, 15, 1, 4, 5, 13, 1, 7, 10, 15, 11, 17, 20, 3, 5, 19, 1, 9, 13, 15, 16, 1, 2, 4, 5, 15, 1, 4, 7, 8, 9, 1, 3, 8, 10, 3, 16, 5, 1, 5, 10, 12, 3, 9, 7, 9, 14, 6, 2, 7, 19, 6, 13, 1, 2, 3, 4, 5, 6, 10, 11, 12, 13, 17, 13, 17, 4, 14, 7, 15, 11, 14, 1, 1, 2, 5, 9, 10, 16, 11, 1, 4, 6, 7, 9, 12, 1, 2, 3, 5, 6, 7, 9, 11, 5, 2, 2, 1, 2, 4, 5, 10, 12, 1, 2, 14, 18, 4, 6, 3, 6, 15, 20, 4, 2, 4, 11, 14, 4, 5, 7, 11, 17, 17, 1, 2, 6, 7, 3, 5, 1, 2, 4, 10, 10, 10, 3, 1, 6, 13, 1, 2, 4, 6, 7, 9, 11, 1, 3, 5, 6, 7, 12, 9, 19, 15, 2, 3, 4, 20, 1, 5, 10, 13, 1, 2, 14, 14, 2, 5, 7, 18, 7, 1, 3, 4, 6, 7, 8, 12, 15, 17, 4, 16, 16, 15, 5, 1, 2, 4, 5, 6, 7, 8, 9, 10, 11, 12, 15, 9, 4, 14, 16, 10, 10, 1, 1, 7, 14, 5, 19, 1, 2, 3, 4, 5, 6, 7, 8, 10, 11, 12, 15, 1, 2, 4, 5, 11, 13, 16, 14, 6, 8, 8, 19, 10, 20, 3, 4, 5, 6, 8, 17, 2, 2, 20, 15, 7, 19, 1, 2, 3, 5, 7, 10, 18, 13, 5, 13, 15, 1, 3, 6, 7, 8, 1, 2, 3, 4, 5, 6, 7, 8, 10, 12, 16, 6, 17, 12, 12, 3, 7, 8, 6, 13, 17, 7, 10, 6, 5, 2, 3, 1, 2, 3, 5, 6, 7, 16, 2, 3, 5, 6, 7, 12, 13, 16, 8, 13, 11, 3, 20, 3, 2, 11, 14, 9, 2, 4, 2, 4, 1, 2, 3, 4, 5, 6, 10, 12, 15, 1, 8, 17, 19, 19, 1, 2, 5, 13, 14, 12, 19, 16, 2, 14, 9, 2, 4, 14, 1, 2, 3, 5, 7, 9, 13, 14, 4, 9, 13, 8, 6, 7, 7, 2, 4, 10, 12, 15, 4, 4, 7, 8, 4, 8, 10, 12, 2, 1, 4, 2, 4, 10, 1, 6, 7, 8, 9, 14, 1, 2, 4, 6, 7, 8, 11, 2, 4, 2, 7, 9, 20, 18, 18, 20, 7, 15, 15, 1, 2, 3, 4, 5, 6, 7, 8, 9, 10, 15, 5, 5, 2, 10, 3, 9, 9, 15, 1, 4, 7, 8, 9, 10, 15, 9, 1, 16, 2, 3, 5, 3, 4, 5, 10, 1, 3, 10, 1, 2, 4, 5, 11, 14, 1, 4, 18, 1, 2, 3, 4, 6, 7, 8, 10, 11, 12, 1, 9, 1, 2, 3, 4, 6, 7, 8, 9, 10, 11, 1, 3, 4, 6, 8, 9, 12, 2, 3, 6, 11, 1, 3, 4, 5, 6, 7, 9, 13, 15, 1, 3, 1, 2, 4, 5, 6, 7, 8, 9, 12, 14, 2, 14, 16, 12, 1, 2, 4, 5, 6, 8, 9, 19, 2, 5, 16, 19, 2, 19, 7, 1, 3, 5, 6, 7, 9, 10, 12, 13, 1, 2, 3, 4, 6, 7, 8, 9, 10, 11, 12, 3, 6, 7, 8, 9, 16, 14, 16, 2, 1, 2, 3, 4, 5, 6, 7, 10, 11, 12, 13, 14, 18, 2, 5, 3, 15, 20, 1, 2, 4, 5, 7, 12, 13, 16, 5, 18, 2, 14, 1, 4, 6, 17, 4, 5, 13, 1, 5, 10, 11, 13, 6, 1, 6, 7, 8, 11, 8, 14, 18, 20, 12, 6, 1, 2, 3, 4, 6, 7, 8, 10, 11, 1, 4, 7, 12, 1, 4, 5, 10, 2, 9, 2, 5, 5, 6, 8, 10, 3, 5, 7, 8, 11, 15, 6, 1, 5, 6, 7, 5, 6, 7, 9, 1, 5, 18, 2, 11, 2, 11, 2, 2, 12, 13, 6, 7, 3, 8, 1, 7, 1, 17, 6, 8, 8, 1, 2, 3, 5, 6, 7, 8, 9, 11, 4, 14, 4, 14, 19, 1, 2, 3, 4, 5, 6, 7, 8, 10, 11, 12, 19, 1, 17, 1, 2, 3, 4, 7, 8, 9, 14, 3, 5, 1, 2, 4, 5, 9, 10, 12, 4, 4, 12, 17, 1, 2, 3, 4, 5, 6, 7, 8, 12, 14, 7, 13, 17, 4, 9, 17, 5, 16, 17, 12, 12, 13, 14, 18, 6, 8, 1, 2, 3, 4, 5, 6, 7, 8, 9, 10, 11, 3, 9, 19, 1, 2, 3, 5, 8, 11, 15, 16, 1, 2, 11, 3, 11, 14, 17, 18, 1, 2, 3, 7, 19, 1, 3, 4, 5, 7, 16, 8, 20, 1, 2, 3, 4, 7, 8, 10, 11, 12, 18, 5, 5, 19, 11, 16, 18, 1, 2, 3, 4, 6, 7, 11, 12, 4, 7, 17, 10, 15, 3, 8, 12, 3, 8, 10, 15, 19, 15, 11, 1, 16, 4, 6, 19, 5, 6, 7, 15, 17, 11, 19, 3, 2, 1, 2, 3, 4, 5, 6, 7, 8, 10, 11, 2, 11, 14, 20, 3, 17, 11, 20, 1, 5, 13, 5, 1, 2, 3, 9, 13, 14, 16, 1, 5, 19, 9, 1, 2, 3, 4, 6, 10, 11, 1, 2, 4, 5, 8, 9, 10, 1, 2, 3, 4, 5, 7, 10, 11, 13, 3, 5, 6, 9, 14, 5, 9, 9, 19, 19, 1, 3, 4, 5, 6, 7, 10, 12, 16, 12, 5, 15, 1, 3, 4, 6, 7, 8, 11, 15, 17, 3, 4, 6, 13, 15, 10, 12, 12, 12, 5, 9, 8, 8, 10, 5, 11, 7, 3, 6, 1, 2, 6, 9, 11, 12, 2, 4, 9, 1, 7, 9, 9, 9, 9, 1, 2, 3, 5, 6, 7, 8, 11, 17, 17, 1, 2, 3, 4, 5, 6, 8, 9, 11, 12, 15, 1, 2, 3, 5, 7, 8, 9, 11, 17, 1, 4, 10, 20, 8, 16, 1, 2, 4, 10, 4, 6, 6, 20, 1, 2, 4, 5, 6, 7, 9, 13, 13, 13, 1, 4, 5, 12, 1, 6, 7, 8, 1, 4, 6, 7, 14, 15, 7, 15, 1, 11, 16, 8, 15, 6, 15, 6, 15, 8, 10, 15, 15, 3, 10, 12, 1, 2, 3, 5, 10, 12, 1, 2, 3, 4, 6, 7, 8, 9, 10, 11, 12, 1, 2, 4, 6, 7, 8, 10, 11, 12, 6, 7, 10, 2, 4, 13, 14, 13, 3, 5, 6, 8, 18, 17, 4, 20, 13, 14, 11, 14, 5, 2, 4, 7, 10, 12, 13, 14, 1, 2, 3, 4, 5, 10, 12, 9, 15, 2, 4, 16, 6, 20, 1, 2, 6, 8, 11, 12, 17, 1, 5, 13, 5, 8, 15, 8, 10, 13, 9, 1, 5, 6, 7, 10, 5, 6, 10, 2, 1, 2, 3, 6, 8, 10, 11, 14, 1, 2, 4, 6, 7, 11, 3, 18, 7, 18, 9, 19, 18, 2, 11, 2, 11, 2, 4, 11, 1, 4, 6, 8, 14, 7, 1, 3, 4, 5, 6, 8, 10, 4, 1, 1, 2, 3, 8, 1, 3, 2, 3, 5, 11, 13, 8, 15, 14, 15, 12, 2, 1, 2, 3, 4, 5, 8, 9, 15, 2, 14, 1, 7, 15, 1, 2, 4, 6, 7, 8, 9, 12, 1, 2, 3, 4, 10, 12, 12, 10, 13, 15, 10, 20, 13, 12, 14, 6, 12, 8, 18, 20, 14, 4, 5, 18, 7, 1, 2, 4, 5, 6, 11, 14, 7, 2, 14, 2, 14, 5, 5, 1, 2, 4, 8, 9, 14, 1, 2, 4, 6, 11, 14, 16, 5, 11, 3, 5, 11, 9, 9, 9, 4, 13, 9, 6, 8, 20, 1, 7, 17, 3, 2, 14, 2, 11, 14, 6, 13, 4, 19, 9, 1, 2, 4, 5, 6, 7, 8, 9, 10, 12, 2, 4, 10, 12, 16, 2, 10, 12, 2, 3, 4, 10, 12, 1, 7, 9, 10, 12, 1, 7, 10, 1, 2, 3, 4, 5, 6, 7, 9, 15, 3, 1, 5, 4, 6, 8, 10, 1, 3, 5, 6, 7, 8, 9, 10, 15, 3, 6, 8, 2, 14, 5, 3, 9, 3, 4, 8, 20, 3, 7, 15, 1, 5, 3, 6, 6, 13, 1, 2, 3, 4, 5, 6, 7, 8, 9, 10, 11, 12, 3, 5, 6, 1, 3, 6, 7, 8, 10, 15, 5, 10, 17, 6, 18, 9, 19, 1, 2, 5, 15, 3, 5, 6, 5, 7, 1, 4, 7, 15, 4, 1, 2, 4, 6, 7, 8, 11, 1, 4, 6, 8, 11, 16, 1, 2, 3, 4, 5, 6, 7, 8, 11, 4, 5, 3, 4, 5, 6, 7, 8, 15, 5, 1, 8, 2, 11, 14, 16, 1, 13, 9, 1, 3, 4, 8, 9, 1, 2, 3, 4, 5, 8, 10, 12, 1, 2, 4, 5, 6, 10, 8, 11, 7, 6, 13, 14, 7, 1, 2, 3, 4, 6, 7, 8, 9, 11, 1, 4, 17, 13, 3, 8, 10, 3, 8, 1, 2, 4, 5, 9, 10, 11, 12, 20, 5, 10, 11, 13, 14, 1, 12, 19, 1, 2, 3, 4, 7, 8, 9, 10, 11, 17, 11, 10, 4, 16, 1, 2, 4, 9, 16, 4, 5, 7, 8, 2, 4, 1, 2, 3, 4, 6, 7, 8, 12, 9, 13, 1, 18, 20, 19, 6, 15, 16, 20, 12, 5, 13, 8, 13, 1, 2, 3, 5, 6, 7, 8, 10, 11, 12, 13, 1, 2, 4, 6, 7, 8, 9, 10, 11, 1, 7, 17, 1, 5, 9, 5, 9, 5, 18, 3, 5, 6, 7, 12, 5, 18, 11, 5, 2, 1, 3, 5, 6, 7, 8, 9, 15, 17, 11, 13, 1, 3, 7, 10, 11, 13, 1, 2, 3, 6, 8, 11, 13, 18, 17, 1, 2, 6, 7, 8, 11, 15, 1, 2, 3, 4, 6, 8, 11, 1, 2, 6, 7, 9, 11, 1, 2, 3, 4, 5, 6, 7, 8, 9, 10, 11, 12, 1, 2, 4, 6, 7, 8, 11, 16, 3, 11, 1, 2, 3, 4, 5, 6, 7, 8, 9, 10, 11, 12, 8, 7, 13, 4, 1, 4, 6, 11, 15, 3, 3, 8, 9, 13, 1, 18, 17, 1, 1, 2, 4, 5, 13, 11, 4, 1, 2, 6, 8, 11, 12, 15, 1, 2, 11, 4, 4, 4, 15, 15, 4, 20, 17, 4, 5, 7, 8, 10, 2, 4, 5, 10, 5, 11, 3, 4, 5, 6, 9, 16, 17, 3, 6, 2, 15, 1, 2, 3, 4, 5, 7, 11, 1, 2, 3, 4, 5, 6, 7, 8, 10, 11, 12, 2, 3, 4, 13, 3, 6, 7, 8, 10, 1, 2, 3, 4, 5, 6, 7, 8, 10, 11, 12, 19, 3, 1, 2, 3, 7, 8, 10, 11, 5, 18, 16, 20, 14, 11, 14, 1, 2, 3, 6, 11, 6, 4, 4, 5, 6, 7, 9, 12, 1, 2, 3, 11, 4, 12, 2, 1, 2, 4, 5, 6, 7, 11, 12, 8, 11, 6, 9, 20, 1, 2, 3, 4, 6, 7, 8, 20, 1, 10, 7, 3, 4, 5, 9, 1, 5, 7, 11, 14, 10, 15, 2, 4, 10, 1, 1, 2, 3, 4, 5, 6, 7, 8, 9, 11, 1, 4, 6, 9, 2, 4, 5, 9, 13, 15, 16, 19, 1, 7, 3, 8, 3, 3, 15, 18, 3, 4, 8, 3, 4, 6, 8, 13, 9, 7, 17, 7, 12, 7, 15, 1, 2, 4, 11, 13, 1, 2, 3, 4, 5, 6, 7, 11, 14, 1, 2, 3, 4, 5, 6, 7, 8, 11, 18, 6, 1, 2, 3, 4, 5, 6, 9, 11, 14, 1, 4, 10, 2, 11, 16, 1, 2, 4, 5, 6, 7, 8, 9, 10, 11, 12, 8, 14, 11, 18, 19, 20, 3, 8, 11, 11, 1, 9, 1, 3, 4, 5, 7, 8, 9, 10, 1, 2, 4, 5, 7, 9, 11, 12], \"Freq\": [0.975451727574183, 0.13228638276689816, 0.863342708583967, 0.9827943186490418, 0.9842806764190545, 0.07905233525649084, 0.36891089786362397, 0.035761770711269666, 0.2691543795637665, 0.018821984584878774, 0.005646595375463632, 0.024468579960342407, 0.19574863968273926, 0.8340482705471116, 0.05957487646765083, 0.9941276168481638, 0.9891265834308802, 0.0859801103943518, 0.859801103943518, 0.05158806623661108, 0.7740666277996427, 0.08482921948489236, 0.13784748166295008, 0.7925286047214724, 0.012956870921876933, 0.0064784354609384665, 0.033471916548182074, 0.0064784354609384665, 0.07342226855730262, 0.0032392177304692332, 0.07018305082683339, 0.9897006890743651, 0.04666907873612092, 0.054447258525474405, 0.6098092954853134, 0.009333815747224184, 0.08089306980927626, 0.15089668791345764, 0.03889089894676743, 0.007778179789353486, 0.0028707552803148386, 0.0746396372881858, 0.5196067057369858, 0.40190573924407735, 0.9784296297830839, 0.038752233031190436, 0.8193329269451691, 0.047056282966445526, 0.04152024967627546, 0.022144133160680247, 0.013840083225425156, 0.016608099870510186, 0.18297940359007073, 0.08317245617730487, 0.7319176143602829, 0.992308714747939, 0.08303173796972055, 0.11416863970836576, 0.25947418115537674, 0.5431659525519219, 0.9790904134211273, 0.43036468483597057, 0.5379558560449632, 0.984467575867763, 0.9788873375665285, 0.34576433808838875, 0.11414656033046168, 0.17288216904419437, 0.03851061137362664, 0.07619005847300234, 0.1316010100897313, 0.06843252524666028, 0.013852737904182242, 0.0033246570970037383, 0.0016623285485018692, 0.010805135565262148, 0.013298628388014953, 0.00914280701676028, 0.16999895033703674, 0.223427191871534, 0.10038033257996457, 0.3885690293417983, 0.05504727915675476, 0.04857112866772479, 0.01133326335580245, 0.08788109192393766, 0.22067918638677678, 0.06054030776982372, 0.1562330523092225, 0.41206467546557435, 0.013670392077056968, 0.007811652615461125, 0.03905826307730562, 0.9822026167123509, 0.9918378371492242, 0.9788301178602006, 0.986442062355535, 0.05452920686077874, 0.42714545374276675, 0.10905841372155747, 0.3998808503123774, 0.9839864407015702, 0.9978587367783381, 0.9932756184560274, 0.5218054597099786, 0.017728384814608558, 0.4207536662667098, 0.01831933097509551, 0.01831933097509551, 0.0029547308024347597, 0.8849824935877316, 0.02240462009082865, 0.07393524629973454, 0.015683234063580055, 0.9959509212904033, 0.9730444628576834, 0.18197037926666124, 0.2962308499689834, 0.038086823567440725, 0.025391215711627148, 0.07194177784961026, 0.12695607855813573, 0.012695607855813574, 0.22428907211937316, 0.021159346426355956, 0.0710335243654343, 0.8042828081376593, 0.12144441262477476, 0.9370283384603713, 0.3092384438118143, 0.06227718660099038, 0.021474891931375993, 0.6034444632716653, 0.11004838658191211, 0.7936823032271236, 0.010004398780173828, 0.0833699898347819, 0.13333806846412513, 0.6566899871858163, 0.03500124297183285, 0.12833789089672046, 0.036667968827634415, 0.010000355134809385, 0.9962040936655959, 0.9901120885892244, 0.9834530964294161, 0.9200092909082171, 0.9708668787923018, 0.9531818195164619, 0.017651515176230776, 0.0035303030352461548, 0.02118181821147693, 0.9900230004602857, 0.9923735603701785, 0.13585122401855376, 0.6841079495220029, 0.026685061860787347, 0.15040671230625596, 0.9865322439152734, 0.9964705834592034, 0.9987209687023327, 0.9991358372668017, 0.07976550123024992, 0.8862833470027769, 0.017725666940055538, 0.017725666940055538, 0.9515794005884547, 0.3586959771157446, 0.23379291365579782, 0.2161783790652925, 0.00800660663204787, 0.006405285305638296, 0.06405285305638296, 0.009607927958457444, 0.10248456489021274, 0.2514500929312767, 0.032540600261694634, 0.02958236387426785, 0.02958236387426785, 0.6360208232967587, 0.017749418324560708, 0.9363783603465803, 0.9592098985034271, 0.9932009947563382, 0.9940352761537866, 0.9944760748370357, 0.9918169797302581, 0.9707822894769726, 0.4826082234159107, 0.4826082234159107, 0.11018775994770852, 0.05509387997385426, 0.826408199607814, 0.14223718965173138, 0.8178638404974554, 0.9395413487994877, 0.7708654944477571, 0.06929128039979839, 0.06062987034982359, 0.004330705024987399, 0.06062987034982359, 0.030314935174911795, 0.01604194618007892, 0.7045088030751325, 0.08555704629375423, 0.07686765877954481, 0.0608257125994659, 0.018047189452588784, 0.03676279332934752, 0.9400441421999939, 0.9960581017445581, 0.9964966942141226, 0.684732556313468, 0.0743859880117695, 0.0006357776753142692, 0.026702662363199306, 0.10490331642685442, 0.03051732841508492, 0.06866398893394107, 0.008265109779085499, 0.34139153528089056, 0.1365566141123562, 0.47794814939324676, 0.2851893402365277, 0.7020045298129912, 0.9850979942142797, 0.9740927147826262, 0.13417996223273407, 0.19526188533868016, 0.41655868872251767, 0.07209669612505114, 0.11515444519973446, 0.003004029005210464, 0.0050067150086841065, 0.05707655109899882, 0.002002686003473643, 0.8758357546815102, 0.9083855022440295, 0.9477664844088076, 0.990284351908216, 0.9880794887290776, 0.9882081707228231, 0.20613306570720985, 0.7881558394687436, 0.25296406035436897, 0.7408233196092234, 0.31104865528232933, 0.6853614438424206, 0.5184320983778408, 0.2320600821310335, 0.019044444430206395, 0.2116049381134044, 0.014812345667938308, 0.0028213991748453917, 0.9866022229459963, 0.39526093601264634, 0.05062455338093007, 0.08956651752010705, 0.05743939710528604, 0.22196919559330877, 0.03018002220786216, 0.14603236552191368, 0.009735491034794245, 0.7891973357057385, 0.007931631514630538, 0.10549069914458616, 0.007138468363167484, 0.0103111209690197, 0.06583254157143346, 0.011897447271945806, 0.0015863263029261075, 0.24783142177068807, 0.2553414648546483, 0.49566284354137613, 0.002847056333612618, 0.9964697167644163, 0.99373490374665, 0.11181245507145535, 0.882729908458858, 0.9195826081551406, 0.9919078547687858, 0.9958746286754104, 0.9689067909789066, 0.987112523168468, 0.15959880264893841, 0.004092276990998421, 0.08184553981996842, 0.04092276990998421, 0.06138415486497631, 0.03273821592798737, 0.6179338256407615, 0.03674193403852779, 0.14696773615411116, 0.3184300950005742, 0.004082437115391977, 0.4327383342315495, 0.05715411961548767, 0.9772253703735787, 0.028804068367083303, 0.16235020352356044, 0.6991532958192038, 0.09426786011045445, 0.013092758348674228, 0.21565305173047677, 0.2987963969759618, 0.09873272247901346, 0.062357508934113764, 0.04936636123950673, 0.24163534711969084, 0.028580524928135474, 0.9711038943426352, 0.980132336359648, 0.11666256045040369, 0.012120785501340643, 0.17272119339410416, 0.02878686556568403, 0.009090589126005482, 0.03484725831635435, 0.09545118582305756, 0.30453473572118367, 0.18938727345844755, 0.03484725831635435, 0.002994283838326816, 0.011977135353307264, 0.24553127474279893, 0.01497141919163408, 0.06886852828151677, 0.02994283838326816, 0.3772797636291788, 0.008982851514980449, 0.2036113010062235, 0.035931406059921796, 0.04520768861002395, 0.07534614768337325, 0.8539230070782302, 0.020092306048899534, 0.9908196941523736, 0.9806929807022573, 0.9950286780345694, 0.894210220004695, 0.21427579225353513, 0.26427347711269333, 0.4356941109155214, 0.07856779049296288, 0.9774029090695875, 0.983200297692507, 0.9715593589517802, 0.8694824359749043, 0.1723770316035667, 0.25566031653562704, 0.07166236145316818, 0.0309891292770457, 0.4357846304584551, 0.03486277043667641, 0.9632929053034852, 0.9920624426753754, 0.031102448089419015, 0.13218540438003082, 0.8319904863919587, 0.9871678915322109, 0.1258380215141421, 0.8688815771214574, 0.9452340280879116, 0.05251300156043953, 0.9892457084558858, 0.9849673118859165, 0.8978129526632846, 0.9917932713883426, 0.25205653654176857, 0.4346359508316394, 0.07917160442658117, 0.06139838710632825, 0.08078735145569506, 0.04039367572784753, 0.05008815790253094, 0.0489580623703681, 0.0979161247407362, 0.017485022275131462, 0.02447903118518405, 0.04546105791534181, 0.30773639204231373, 0.45461057915341807, 0.9891563647385315, 0.988455038790287, 0.09127724714163535, 0.4254447959991478, 0.041770943607189054, 0.0015470719854514465, 0.10829503898160125, 0.12221868685066427, 0.027847295738126037, 0.17791327832691634, 0.003094143970902893, 0.09393432777122646, 0.30058984886792467, 0.582392832181604, 0.39251322299249475, 0.523350963989993, 0.9732652631955642, 0.025345449562384485, 0.028733361167470113, 0.032325031313403876, 0.883550855899706, 0.04669171189713893, 0.007183340291867528, 0.97117930079296, 0.379574147791446, 0.030231569293124018, 0.01343625301916623, 0.05038594882187336, 0.060463138586248036, 0.4669097924160265, 0.32290656980637406, 0.6735900488434039, 0.9655780103316148, 0.38754759790454996, 0.28192840276747305, 0.042414007495991515, 0.013306355292860084, 0.016632944116075105, 0.024949416174112657, 0.10478754793127316, 0.10146095910805814, 0.016632944116075105, 0.010811413675448819, 0.9818383193294007, 0.9891910109579313, 0.04291128016461712, 0.9011368834569595, 0.5337488220702709, 0.14206242412516715, 0.02638302162324533, 0.05073658004470256, 0.02638302162324533, 0.05885443285185496, 0.16032759294126006, 0.08601763610950178, 0.028672545369833928, 0.8745126337799348, 0.08664646530604353, 0.7534475244003785, 0.013185331677006624, 0.04143961384202082, 0.1017154157940511, 0.9916941755849716, 0.9841866422904996, 0.9619544412426843, 0.9891504256957887, 0.9981615714405787, 0.8998153641842513, 0.9629338352351698, 0.9924618056228572, 0.21757648223137938, 0.21913059996160353, 0.0015541177302241384, 0.14608706664106902, 0.39319178574670705, 0.0046623531906724155, 0.018649412762689662, 0.899279792491847, 0.06655104298989872, 0.037434961681818035, 0.8360474775606027, 0.05823216261616138, 0.009444734949477238, 0.35575168309697597, 0.516312177238089, 0.11648506437688594, 0.20291636688016115, 0.6271960430841345, 0.1475755395492081, 0.27780761894597694, 0.7216958796531358, 0.5140011850787444, 0.02705269395151286, 0.4560311266112168, 0.9868619712202414, 0.1888336034334831, 0.8032077216466464, 0.005319256434746003, 0.5539244412508795, 0.17632429661439408, 0.2694767552031306, 0.3388434665821931, 0.6537685708174079, 0.3665895924781746, 0.3527560229506963, 0.2789769854708121, 0.8012144701708559, 0.987595929452193, 0.9355586584822625, 0.37369006547911143, 0.050304431891418845, 0.5725123439071003, 0.4980636218362466, 0.48199705338991605, 0.9885051241455809, 0.9477739531273991, 0.9897864455413752, 0.9814259090045747, 0.6991325815524791, 0.11276331960523857, 0.18793886600873097, 0.9936036736336644, 0.8919788649064484, 0.08853466082805683, 0.00465971899095036, 0.46830175859051115, 0.15377072670136188, 0.2236665115656173, 0.06057634688235468, 0.02634962802271021, 0.7483294358449699, 0.15282784253171922, 0.015809776813626126, 0.04215940483633633, 0.9868488365064253, 0.9868812296136538, 0.33817042301557665, 0.25860091171779387, 0.377955178664468, 0.9852349513458217, 0.9971822824421182, 0.9761210811140634, 0.9845225605604014, 0.0190606016691323, 0.5731795216217642, 0.004084414643385493, 0.0190606016691323, 0.2545951794376958, 0.11708655311038414, 0.004084414643385493, 0.002722943095590329, 0.002722943095590329, 0.9778503685158704, 0.3338266788944743, 0.23844762778176734, 0.38151620445082773, 0.04071706086680566, 0.6160668339847117, 0.3416692498823258, 0.9860711097008957, 0.49683556770021203, 0.013800987991672557, 0.4692335917168669, 0.9523069383991192, 0.9691764434476209, 0.9879075103521954, 0.23743409053615003, 0.1162942484258694, 0.10175746737263572, 0.537860898969646, 0.9902009131338253, 0.00800701547008484, 0.22173071256332394, 0.1546279969191601, 0.026257584382498887, 0.03792762188583172, 0.011670037503332838, 0.48430655638831277, 0.04084513126166493, 0.023340075006665677, 0.8421773334810115, 0.9904317858317084, 0.9918306139441881, 0.8993683247153933, 0.9770309507997319, 0.3300538053007397, 0.03875631804667777, 0.41631786804979665, 0.10876773129228921, 0.006251019039786736, 0.10001630463658778, 0.9753281313964458, 0.002902638278768578, 0.07546859524798302, 0.06385804213290872, 0.7517833142010617, 0.017415829672611467, 0.08707914836305734, 0.005805276557537156, 0.9761666044634111, 0.9859755074243873, 0.9517946001011764, 0.08209911542732434, 0.044470354189800686, 0.7491544282743346, 0.12314867314098651, 0.06294189248913155, 0.3147094624456578, 0.10228057529483878, 0.07080962905027299, 0.01573547312228289, 0.13375152153940456, 0.2989739893233749, 0.9873415003665025, 0.017952984434844436, 0.9694611594815996, 0.8216402968152285, 0.9843929460972348, 0.011380265272800403, 0.9779703454404409, 0.14250794302091274, 0.7586452260819179, 0.008382820177700749, 0.08382820177700749, 0.9976443319962524, 0.08572581990046145, 0.11057388363972565, 0.004969612747852838, 0.0397569019828227, 0.183875671670555, 0.08199861033957183, 0.11430109320061527, 0.07578659440475577, 0.3031463776190231, 0.9762443649247649, 0.01939558340910129, 0.0471215439661107, 0.4064233167077048, 0.02356077198305535, 0.5242271766229816, 0.041373168877331314, 0.02677087397944967, 0.46483972091589887, 0.03163830561207689, 0.24337158163136066, 0.06571032704046738, 0.12898693826462115, 0.9847855354054063, 0.706304999283031, 0.0390121120066903, 0.06687790629718338, 0.0007430878477464819, 0.13635662006147942, 0.00037154392387324093, 0.017091020498169084, 0.0014861756954929637, 0.01597638872654936, 0.0018577196193662047, 0.007430878477464819, 0.005944702781971855, 0.44960384230375544, 0.1686014408639083, 0.065567227002631, 0.3091026415838319, 0.8004959864999933, 0.07138180771337521, 0.019375062093630414, 0.02549350275477686, 0.019375062093630414, 0.017335581873248265, 0.0020394802203821485, 0.009177660991719669, 0.0020394802203821485, 0.032631683526114376, 0.14582803488744314, 0.15277222702494042, 0.06249772923747563, 0.14582803488744314, 0.14582803488744314, 0.05555353709997834, 0.29512816584363494, 0.9595961189172529, 0.9833899107359519, 0.9766250966801008, 0.9646639080601258, 0.13173884338694877, 0.154649946584679, 0.7131080870293531, 0.17433027846741694, 0.18458500073020617, 0.640920141424327, 0.1114778239727218, 0.8829043658639566, 0.9890670283687705, 0.9961863339251175, 0.9854294071202283, 0.34926696136930985, 0.6458143813998559, 0.993927085151153, 0.7996208773273676, 0.19490758884854587, 0.9914121818122773, 0.975569185388462, 0.9854668666821209, 0.9803808234474127, 0.9042987681521969, 0.9764032198844861, 0.9775426551527261, 0.13961190501908688, 0.06422147630877996, 0.20941785752863032, 0.12425459546698732, 0.04607192865629867, 0.18149547652481296, 0.1828915955750038, 0.006980595250954344, 0.0223379048030539, 0.0013961190501908687, 0.018149547652481293, 0.9284104948237437, 0.22266744122486967, 0.7422248040828989, 0.9889162381124503, 0.9556360779538606, 0.9706010677547052, 0.3362765959520624, 0.19313182875625207, 0.24463364975791926, 0.09240032591475589, 0.05604609932534373, 0.07649535178188807, 0.03592583518236259, 0.06736094096692985, 0.06287021156913453, 0.026944376386771943, 0.42212856339276045, 0.29638814025449134, 0.08083312916031582, 0.10565245697874695, 0.24300065105111798, 0.17115698030557006, 0.09086111300172238, 0.01690439311659951, 0.029582687954049145, 0.01690439311659951, 0.2007396682596192, 0.12044380095577152, 0.004226098279149878, 0.24413402503454726, 0.04882680500690945, 0.4882680500690945, 0.025698318424689184, 0.19016755634269997, 0.021441877159706812, 0.9648844721868066, 0.6920051134448759, 0.2628172730504929, 0.04340101756797131, 0.8372114314759631, 0.9651047209759585, 0.983132025554757, 0.17032241339758664, 0.7948379291887376, 0.9695794112187037, 0.9925873292387286, 0.9910515414415126, 0.1966913944238529, 0.7994553450775956, 0.034014667282641894, 0.041864205886328484, 0.06802933456528379, 0.2067045165637469, 0.2904329283364039, 0.35846226290168764, 0.7594805113426225, 0.25077986920536877, 0.048658780592086476, 0.6999378439015516, 0.9866730883415273, 0.05736246327209119, 0.9369202334441561, 0.07133618007703084, 0.09273703410014009, 0.638458811689426, 0.06063575306547621, 0.04636851705007004, 0.09273703410014009, 0.969653947094074, 0.012769984113662005, 0.9832887767519743, 0.9930233533161638, 0.47333315219344574, 0.03380951087096041, 0.048299301244229154, 0.43952364132248534, 0.98168966319595, 0.9897466911113344, 0.9818911463561049, 0.9884053048942049, 0.990593893565958, 0.9724229573776896, 0.9898957850693525, 0.9751345291056482, 0.021027159657264653, 0.9791081640142876, 0.49514541589470673, 0.04460769512564926, 0.45945925979418734, 0.974168283511152, 0.021177571380677218, 0.0028236761840902957, 0.11534172789419066, 0.18889297466729774, 0.6937219866099873, 0.933066459932855, 0.029028734309022152, 0.02073481022073011, 0.016587848176584086, 0.5711003878043428, 0.0815857696863347, 0.3263430787453388, 0.025745915492120405, 0.33837488932501103, 0.6215799597383355, 0.011033963782337317, 0.991194019255902, 0.26212441804637393, 0.16382776127898369, 0.5663759747073437, 0.9717072588017907, 0.9286540239416389, 0.9618269552713447, 0.2799550839043224, 0.009653623582907668, 0.14480435374361503, 0.038614494331630674, 0.18824565986669953, 0.14480435374361503, 0.19307247165815336, 0.18338930470272496, 0.37824044094937026, 0.42408776712505153, 0.9462049899218048, 0.8616062747161821, 0.9230894999850202, 0.006374684482428016, 0.6247190792779457, 0.3679103615572741, 0.09197892158522304, 0.04245180996241063, 0.7240392032477814, 0.09905422324562481, 0.04009337607561004, 0.06384367801887039, 0.8166670479913838, 0.047882758514152794, 0.06916398452044292, 0.8078754518922038, 0.18830179705758132, 0.9818383193294007, 0.01738059406618077, 0.17628888267126208, 0.6579796325054148, 0.06207355023635989, 0.08442002832144944, 0.04295791044811436, 0.3245708789413085, 0.2100164510796702, 0.13364683250524467, 0.07636961857442552, 0.06682341625262234, 0.03818480928721276, 0.1002351243789335, 0.9790990526640587, 0.9914138313358989, 0.06387870113797284, 0.6570380688477206, 0.03650211493598448, 0.2372637470838991, 0.9793132550501744, 0.017645283874777918, 0.6299043201554255, 0.13426247461480184, 0.22335252786387597, 0.003764368447143977, 0.00878352637666928, 0.9581913076241786, 0.9823482116804256, 0.7410728909650071, 0.2551234542666418, 0.22954097802824966, 0.7695267214225747, 0.37658695675009257, 0.6215953382501528, 0.015227226764887063, 0.9821561263352155, 0.928435337945268, 0.018038172280079492, 0.00424427583060694, 0.018038172280079492, 0.02864886185659684, 0.0031832068729552043, 0.9978167235128227, 0.752531426786107, 0.2326006228247967, 0.013682389577929218, 0.9235683466958698, 0.06780658480649028, 0.09686654972355754, 0.118661523411358, 0.6756441843218138, 0.0024216637430889386, 0.03874661988942302, 0.16482517357801862, 0.07127575073644049, 0.7216669762064599, 0.04009260978924778, 0.9742507526941213, 0.9973775786149885, 0.9860534542429223, 0.9926514695734664, 0.39437450637215854, 0.08450882279403397, 0.5211377405632095, 0.9889297493406377, 0.9757470331725399, 0.6914045801934804, 0.14941543621706355, 0.048304168420858905, 0.05198838465634814, 0.009415219268472498, 0.0008187147189976085, 0.0053216456734844556, 0.03192987404090673, 0.010643291346968911, 0.06157968605613566, 0.5415390038466048, 0.3948344576540463, 0.005627910895614132, 0.9905123176280873, 0.9286214278134476, 0.06190809518756317, 0.05507924533762402, 0.0954706919185483, 0.06976704409432376, 0.6425911956056135, 0.11383044036442297, 0.02203169813504961, 0.9824432829250771, 0.9630179876750216, 0.9798982113086694, 0.04753936415439161, 0.13761394886797573, 0.12260151808237837, 0.06755593853518808, 0.005004143595199117, 0.6105055186142923, 0.005004143595199117, 0.305872048618504, 0.03306724849929772, 0.6572115639235423, 0.07262273731306919, 0.1497843957082052, 0.06354489514893553, 0.09077842164133648, 0.027233526492400944, 0.5900597406686872, 0.01091195809500642, 0.9820762285505779, 0.9317815300150748, 0.06699082895533218, 0.20376097972444443, 0.7810837556103704, 0.44705903666207714, 0.36816626548641646, 0.0065743975979717225, 0.09110236671475101, 0.024419191078180684, 0.03756798627412413, 0.024419191078180684, 0.9867686127327164, 0.8817282523909805, 0.16998541460803465, 0.36350727123872023, 0.44457723820562906, 0.020921281797911955, 0.9813075701770523, 0.9970379666454204, 0.026419936387787047, 0.4359289503984863, 0.006604984096946762, 0.42602147425306613, 0.1023772535026748, 0.018094071233256435, 0.23220724749345759, 0.1869720694103165, 0.4463204237536587, 0.11459578447729075, 0.9867050169293884, 0.9719109292369125, 0.7086259989600419, 0.03721449447492561, 0.2537821775998399, 0.9950087028760076, 0.735356298485177, 0.2571101878156806, 0.007406466315678042, 0.9867549965240321, 0.8825317444233861, 0.987954106315777, 0.9945404029295066, 0.3609288859063955, 0.1164286728730308, 0.03147886340641203, 0.10564824019960202, 0.08624346138743022, 0.01207408459424023, 0.026735473030103367, 0.07330694217931569, 0.1306588440019568, 0.014661388435863138, 0.004312173069371511, 0.03147886340641203, 0.0012936519208114534, 0.004743390376308662, 0.9461017131980315, 0.020717555763460543, 0.02762340768461406, 0.9101028364902397, 0.02285043382943479, 0.9368677870068265, 0.03427565074415219, 0.9548409673414066, 0.04469468357768286, 0.9874835425518055, 0.9948191383823922, 0.309541420115189, 0.6845627560239756, 0.3728341949194258, 0.05500832384057102, 0.5684193463525672, 0.5047032472385693, 0.10286945166645999, 0.04822005546865312, 0.3407550586451487, 0.9833209563604002, 0.994764765649315, 0.15319449842258737, 0.8272502914819718, 0.9857774987475596, 0.9270692086819835, 0.7617458471032371, 0.08241533644418762, 0.7941841511894444, 0.11238454969661948, 0.14377696824628886, 0.20767784302241724, 0.4872441701679789, 0.047925656082096285, 0.11182653085822467, 0.050219007922166624, 0.7700247881398883, 0.0878832638637916, 0.0878832638637916, 0.9684382762724247, 0.23388424205751546, 0.18015407834159974, 0.5183380499653045, 0.0031605978656421008, 0.060051359447199915, 0.02541130324461558, 0.16517347109000127, 0.7083400779436593, 0.09846880007288537, 0.9816512782738911, 0.954271945824504, 0.9873075539643508, 0.007362960770068821, 0.9498219393388779, 0.03681480385034411, 0.9696433558558611, 0.016059244474706823, 0.9830551796302677, 0.036599528285226425, 0.9615694249482215, 0.9649783105593948, 0.9935219361301904, 0.9860534360568742, 0.9833929377670109, 0.8454837437039068, 0.05162530629679218, 0.9292555133422592, 0.17428664803689956, 0.15131864015606783, 0.19590359663062354, 0.06485084578117192, 0.2769671538570884, 0.03782966003901696, 0.05134025291009444, 0.00945741500975424, 0.03242542289058596, 0.002702118574215497, 0.002702118574215497, 0.9782698829906564, 0.894903109398628, 0.9973428767567338, 0.9692106619994639, 0.22248216608746996, 0.7663274609679521, 0.964286866527723, 0.9925179644195379, 0.9891998460665697, 0.04826784926819625, 0.13737772484025085, 0.12623899039374403, 0.638620774933058, 0.04826784926819625, 0.949337660039185, 0.9838331099122027, 0.8759038853806562, 0.06831373932312454, 0.03922967208654676, 0.004058241939987596, 0.0027054946266583976, 0.010145604849968992, 0.7016994732166048, 0.02088391289335133, 0.014808592778921853, 0.0015188300286073696, 0.07328354888030558, 0.12492376985295615, 0.04176782578670266, 0.02088391289335133, 0.9902445221702438, 0.9933796824491322, 0.9850905039408645, 0.029800857647104335, 0.31814429109746517, 0.2601534329733703, 0.07168314407006178, 0.020135714626421847, 0.2996194336411571, 0.012298866489694771, 0.012298866489694771, 0.9716104526858869, 0.9249914975546576, 0.020477714850753306, 0.9624525979854054, 0.6145009837855219, 0.3807739093482075, 0.0030957228402293292, 0.9207442143040507, 0.9915809143025153, 0.03590303733315359, 0.7629395433295136, 0.011967679111051194, 0.1884909459990563, 0.13620584132133473, 0.11918011115616789, 0.2860322667748029, 0.064697774627634, 0.39159179379883735, 0.9740864431032834, 0.9195538412937411, 0.021220473260624796, 0.056587928694999456, 0.0023578303622916437, 0.971324351842022, 0.018679314458500424, 0.0023515119274361493, 0.0023515119274361493, 0.08465442938770137, 0.9100351159177897, 0.9881110223343698, 0.9942221655341263, 0.9783329987180144, 0.14063823270343906, 0.035159558175859765, 0.8203896907700612, 0.3884669265424631, 0.014169006439238777, 0.0070845032196193885, 0.40381668351830513, 0.142870814928991, 0.011807505366032313, 0.03188026448828725, 0.9858739601935549, 0.1556115812906523, 0.026895828865051017, 0.737714163155685, 0.011526783799307579, 0.06723957216262755, 0.9937348141696626, 0.8485108064291503, 0.9820586694833491, 0.9920516095638189, 0.93779238588843, 0.05683590217505636, 0.8407289312266831, 0.05871113859931724, 0.8786425569690924, 0.032392352330657785, 0.028343308289325565, 0.01929999814808266, 0.21229997962890926, 0.7655665932072788, 0.9825953602649643, 0.041972500767564376, 0.111926668713505, 0.43371584126483187, 0.3917433404972675, 0.9881803103804021, 0.38471936996252704, 0.12082095916178535, 0.0675643521628405, 0.34895000705278795, 0.0023846241939826057, 0.05484635646159993, 0.019076993551860846, 0.0007948747313275352, 0.9428481201143672, 0.9974671318154589, 0.9785202817553598, 0.955661269042865, 0.985657425541492, 0.9903472508603568, 0.27924155394083316, 0.00446786486305333, 0.007818763510343328, 0.23009504044724652, 0.1195153850866766, 0.19658605397434656, 0.02569022296255665, 0.04356168241476997, 0.018988425667976656, 0.00446786486305333, 0.06255010808274662, 0.00446786486305333, 0.9982664291847325, 0.05065252366290116, 0.7203914476501498, 0.22512232739067184, 0.9948366185956671, 0.9873517498634429, 0.9897970816629518, 0.9938009287839444, 0.9889044135342231, 0.9857645907089131, 0.5054352943655702, 0.4693327733394581, 0.3772115051496217, 0.2824895049676056, 0.04442713282873322, 0.007544230102992434, 0.03855939830418355, 0.09975148691734441, 0.010058973470656579, 0.06538332755926776, 0.03939764609340493, 0.03269166377963388, 0.0016764955784427632, 0.9841459002792982, 0.013333121542739175, 0.7016555211866491, 0.10833161253475579, 0.07833208906359265, 0.07333216848506546, 0.023332962699793555, 0.9606948147279155, 0.9734130590074659, 0.09158090242219458, 0.9027260381616323, 0.42558301806771515, 0.5471781660870623, 0.9890376691780407, 0.9024403848727787, 0.564047621990547, 0.004262324599424788, 0.018470073264174082, 0.18896305724116563, 0.2173785545706642, 0.005683099465899718, 0.9761035324099717, 0.9821035206571991, 0.958969782033372, 0.9749790651813482, 0.9856863374467036, 0.9717717526357815, 0.024287787401659065, 0.690467098990022, 0.17348419572613616, 0.06592399437593174, 0.01040905174356817, 0.03122715523070451, 0.9075239207441008, 0.9860253638747638, 0.1916606957388212, 0.7961290438381803, 0.9636801973719763, 0.031074031910953957, 0.6640635708377938, 0.2716100567031531, 0.031074031910953957, 0.0011508900707760724, 0.0018896049737909255, 0.031493416229848754, 0.5542841256453381, 0.027084337957669933, 0.18140207748392884, 0.08818156544357653, 0.02078565471170018, 0.0025194732983879007, 0.010077893193551603, 0.08125301387300979, 0.9807277829226853, 0.28845261098643166, 0.7051063824112773, 0.9745688288617789, 0.9756718743001752, 0.0954782044544633, 0.06967328433163537, 0.8334989199673417, 0.18234752603933288, 0.8023291145730647, 0.9473919805738644, 0.13750079730675088, 0.859379983167193, 0.9953323143402637, 0.9924530744229154, 0.9873804187401657, 0.9929371575531982, 0.23976753909568846, 0.019830397970320098, 0.15503765685886622, 0.08112435533312767, 0.13520725888854612, 0.36776374417684543, 0.9550575549418642, 0.024496876945427664, 0.757176196495037, 0.073490630836283, 0.04008579863797254, 0.033404832198310454, 0.011134944066103485, 0.031177843385089755, 0.024496876945427664, 0.9860370108457979, 0.9814963412995489, 0.9768339392516365, 0.31269907736895347, 0.6700694515049003, 0.9875288463756262, 0.21401010678949736, 0.10961493274584011, 0.6785686312837721, 0.9863952539461099, 0.09538073871473489, 0.9036920837548611, 0.05798508466925978, 0.9409397830420791, 0.29368979392874256, 0.38689673451690637, 0.09144831906763241, 0.005275864561594178, 0.04572415953381621, 0.0017586215205313927, 0.06506899625966153, 0.021103458246376713, 0.08793107602656963, 0.7483930380700599, 0.07610776658339592, 0.03805388329169796, 0.1268462776389932, 0.9618915306665057, 0.19799776888974396, 0.040764246536123754, 0.22711508784411807, 0.07570502928137268, 0.4484067118973613, 0.5213369150841779, 0.45182532640628753, 0.9690169249647294, 0.12403989426183683, 0.8749242541683133, 0.9922389220033498, 0.25946802683485937, 0.7248887999698883, 0.014595076509460838, 0.009142009742424647, 0.1992958123848573, 0.12067452860000534, 0.012798813639394505, 0.03473963702121366, 0.18832540069394774, 0.05850886235151774, 0.37482239943941054, 0.0069420759266107055, 0.9302381741658345, 0.055536607412885644, 0.9637539454822397, 0.996142448386474, 0.9926458419610206, 0.9872295767779827, 0.7622011717554841, 0.059043752741622005, 0.059043752741622005, 0.08051420828403001, 0.037573297199214005, 0.9919076758610353, 0.9901323643144057, 0.3422560251093515, 0.6569107578711747, 0.004315283612071766, 0.1143550157199018, 0.4595777046856431, 0.4185825103709613, 0.9816138227907729, 0.9760687333682848, 0.02153092794194746, 0.02777068092765818, 0.9088586485415404, 0.060590576569436026, 0.8803073351408366, 0.098726056277477, 0.0016454342712912834, 0.016454342712912833, 0.9077349437595893, 0.08957910629206474, 0.750874986521218, 0.005382616390833104, 0.02018481146562414, 0.195927236626325, 0.004306093112666483, 0.007535662947166346, 0.015071325894332691, 0.8089183170536327, 0.18706236081865255, 0.20567612579588368, 0.617028377387651, 0.022852902866209297, 0.1371174171972558, 0.9609141180373114, 0.9504751327564833, 0.828504160293638, 0.2886988488991981, 0.690366812585039, 0.9581425188165105, 0.4780043773792591, 0.007732423751723309, 0.06185939001378647, 0.12090698957240083, 0.044285699668960773, 0.016167795117239647, 0.030226747393100207, 0.006326528524137253, 0.20877544129652933, 0.019682533186204786, 0.006326528524137253, 0.9983959222689783, 0.9908471572112898, 0.6879750573940108, 0.3095887758273048, 0.9794471803563706, 0.9865791696306265, 0.9889962504774261, 0.007849176591090684, 0.39980206161677007, 0.28134219150809747, 0.0821142281435117, 0.06865287926752617, 0.1305750840970596, 0.008076809325591315, 0.029614967527168152, 0.9915359731745718, 0.17643323270503947, 0.8115928704431816, 0.9911310749615024, 0.9700498228834602, 0.02365975177764537, 0.8312571467498217, 0.016493197356147255, 0.1352442183204075, 0.013194557884917805, 0.08317148850426047, 0.16634297700852094, 0.7429986306380602, 0.2972204740994089, 0.521919152518562, 0.02734428361714562, 0.013077700860373992, 0.13909918187852335, 0.0011888818963976355, 0.7746288660793695, 0.017213974801763766, 0.18935372281940144, 0.7315234138383975, 0.005191456485304756, 0.03114873891182854, 0.023833504773444564, 0.13403396743877735, 0.049790787199968344, 0.01345059180283505, 0.0007079258843597395, 0.004011580011371857, 0.005899382369664496, 0.9844252874081252, 0.9932580011652352, 0.11774437381884405, 0.05412442990059767, 0.19940579437062297, 0.023738785044121784, 0.017091925231767686, 0.07216590653413023, 0.43489454200831107, 0.07881276634648432, 0.0009495514017648713, 0.0009495514017648713, 0.14418382578140895, 0.21860128424923295, 0.05581309385086798, 0.06046418500510698, 0.4627835698467804, 0.05116200269662898, 0.006976636731358498, 0.043029188522049, 0.9466421474850779, 0.9947112695606841, 0.9515889921074032, 0.09906378898243193, 0.6914652470973749, 0.06538210072840507, 0.010897016788067511, 0.005943827338945916, 0.06340082494875643, 0.03962551559297277, 0.01386893045754047, 0.009906378898243192, 0.9911615790615249, 0.9829281710545468, 0.8166828586193964, 0.027191507347832947, 0.02437859279460885, 0.0018752763688160653, 0.018752763688160652, 0.08907562751876309, 0.011251658212896391, 0.0018752763688160653, 0.009376381844080326, 0.9779408526585937, 0.08648939988348324, 0.905594892897648, 0.005087611757851955, 0.9805292298450086, 0.43838171988722574, 0.047650186944263664, 0.09212369475890975, 0.02541343303694062, 0.04447350781464609, 0.009530037388852733, 0.1715406729993492, 0.1715406729993492, 0.9934193912768539, 0.993625778864241, 0.9426345334938863, 0.9011514666846541, 0.5006016726145035, 0.4449792645462253, 0.989774778678128, 0.004867696795196978, 0.5581625658492535, 0.013791807586391437, 0.21498994178786654, 0.1573888630447023, 0.022715918377585898, 0.00892411079119446, 0.007301545192795467, 0.010546676389593453, 0.6708680204256289, 0.0961669521734955, 0.06717882783411648, 0.0032209027043754476, 0.04003121932580913, 0.07822192282054657, 0.026227350592771502, 0.0013803868733037632, 0.011963352901965948, 0.0018405158310716842, 0.0032209027043754476, 0.21899848359893745, 0.033692074399836534, 0.026953659519869225, 0.5862420945571557, 0.12802988271937882, 0.003369207439983653, 0.26251310178109355, 0.7219110298980073, 0.9847762965983282, 0.5071964350395914, 0.140204213845433, 0.12086570159089051, 0.07207990931238561, 0.0026370698528921563, 0.03911653615123365, 0.0021975582107434635, 0.006592674632230391, 0.10064816605205064, 0.007911209558676469, 0.00043951164214869274, 0.00043951164214869274, 0.9060252413154125, 0.9917348423408227, 0.9884014945002878, 0.17712130261058434, 0.09840072367254686, 0.7084852104423374, 0.08353955348868584, 0.07309710930260012, 0.14097299651215736, 0.4229189895364721, 0.05743344302347152, 0.06265466511651438, 0.03654855465130006, 0.1200881081399859, 0.986703591187664, 0.9407645032011098, 0.05446986199668953, 0.9368816263430599, 0.8936097030794597, 0.03275695392520014, 0.0707550204784323, 0.8914643564197396, 0.04308866721713074, 0.6578203195148626, 0.2958755148909644, 0.02104576299322607, 0.39285424254021994, 0.04910678031752749, 0.03507627165537678, 0.49106780317527493, 0.9846223472724152, 0.022581389741229987, 0.9171518294899564, 0.013896239840756917, 0.03647762958198691, 0.008685149900473072, 0.995762610956036, 0.9829771367010174, 0.881829892404325, 0.9223113776049048, 0.990118386753018, 0.9952825257636188, 0.7375885253520787, 0.08637046980806724, 0.04280306468364394, 0.011465106611690342, 0.0680262992293627, 0.0007643404407793561, 0.0022930213223380687, 0.016815489697145837, 0.033630979394291674, 0.09309257553007338, 0.1210203481890954, 0.7680137481231054, 0.013963886329511009, 0.007287750026443032, 0.5708737520713708, 0.30851475111942167, 0.11417475041427416, 0.9959807361922683, 0.9931636895716611, 0.051475180310594316, 0.941995799683876, 0.9878075564248721, 0.6359286549657968, 0.34335311408799674, 0.019343837413408265, 0.024090751766402244, 0.12313050902827813, 0.5995920439637892, 0.12313050902827813, 0.11777700863574429, 0.010707000785067663, 0.9977669001105842, 0.8630426240131073, 0.07649318054836789, 0.003325790458624691, 0.0548755425673074, 0.026589839897686533, 0.8907596365724989, 0.07976951969305959, 0.9950683039435828, 0.028912261749271244, 0.9656695424256596, 0.8190071432114361, 0.8544261542988124, 0.1393484715165445, 0.20222518036678094, 0.7905166141610528, 0.9918556323471075, 0.9843140581792886, 0.8543607920492357, 0.13711963329185264, 0.9619945556416941, 0.03498162020515251, 0.8289657636596569, 0.16960936340862545, 0.026360446253086218, 0.9665496959464946, 0.44619997876319323, 0.520566641890392, 0.39232601693565355, 0.605216103644923, 0.9733007908641662, 0.8129163421946426, 0.0215580024449408, 0.0031438753565538663, 0.00044912505093626663, 0.11138301263219412, 0.021108877394004532, 0.011677251324342932, 0.0013473751528088, 0.0161685018337056, 0.7886396212769509, 0.2103038990071869, 0.5591567158329762, 0.4400770448685461, 0.8989144102757964, 0.2653563330671825, 0.2996636162341797, 0.1274270517631325, 0.007001486360611675, 0.016103418629406854, 0.02240475635395736, 0.06301337724550507, 0.07001486360611675, 0.015403269993345686, 0.09452006586825762, 0.018203864537590354, 0.9791084247486613, 0.9967494409299488, 0.9048904506877543, 0.19085957565239503, 0.06908943915018824, 0.40330960103922386, 0.09672521481026354, 0.03281748359633942, 0.09413436084213149, 0.01640874179816971, 0.09672521481026354, 0.1286872754692395, 0.8681284456258219, 0.0014979964250627798, 0.010485974975439459, 0.08538579622857845, 0.7025603233544437, 0.014979964250627798, 0.1108517354546457, 0.07340182482807621, 0.9937840604408293, 0.9947161534109614, 0.9903843188594074, 0.9639212402667391, 0.44579213133996776, 0.03605250869630035, 0.05379263202305131, 0.002861310213992091, 0.010872978813169946, 0.2895645936559996, 0.06867144513581018, 0.04807001159506713, 0.0440641772954782, 0.9843374594288073, 0.13699018419481546, 0.8593020644947514, 0.8878532503344188, 0.05954170866344283, 0.14885427165860707, 0.7839658307353305, 0.9915685550113202, 0.00780762641741197, 0.9532182828965067, 0.9558293919244951, 0.9895427530110936, 0.9001838379765462, 0.0729878787548551, 0.9438624906762574, 0.98566626988957, 0.9953923996150043, 0.1705123144315211, 0.021652357388129664, 0.2517086546370073, 0.06360379982763088, 0.08119634020548623, 0.04330471477625933, 0.025712174398403974, 0.10081878908847874, 0.010826178694064832, 0.22734975257536147, 0.002706544673516208, 0.16124616709784284, 0.5159877347130971, 0.3224923341956857, 0.08938074991867419, 0.0938497874146079, 0.3977443371381001, 0.044690374959337094, 0.1876995748292158, 0.0491594124552708, 0.1340711248780113, 0.9541519967217214, 0.12541466372595647, 0.04757107934432831, 0.8260069231606099, 0.0617753604057125, 0.8802988857814031, 0.046331520304284377, 0.9077054865987574, 0.9631950877668732, 0.09942246334969271, 0.04588729077678125, 0.058633760436998264, 0.7928304128654983, 0.8097766128684082, 0.22813914079769768, 0.08679206443390673, 0.10167070405114788, 0.5430703460293022, 0.004959546539080385, 0.03471682577356269, 0.9885150192447968, 0.8849592585553913, 0.22260847322908126, 0.043935882874160774, 0.18453070807147526, 0.09226535403573763, 0.04832947116157685, 0.37638406328864393, 0.013180764862248232, 0.00585811771655477, 0.01171623543310954, 0.8942152875627418, 0.9958657482748843, 0.9876316097574517, 0.9498093493947024, 0.24287609021157697, 0.7438080262729545, 0.8161301440643509, 0.345202710322467, 0.36357851999742724, 0.09975439537835548, 0.06431533386236077, 0.05381487119095493, 0.00787534700355438, 0.04462696635347482, 0.01837580967496022, 0.9923204752826824, 0.3443012631650484, 0.6455648684344657, 0.9826518243497413, 0.9774145230067961, 0.0058339325955355245, 0.9929353277601463, 0.9652348983637534, 0.11854295210027474, 0.15805726946703297, 0.27660022156730774, 0.05927147605013737, 0.3556288563008242, 0.9698876638992922, 0.9908146409135982, 0.9965420917857035, 0.942909160833137, 0.9904054155264522, 0.4903910352402899, 0.44952511563693237, 0.20532320541515584, 0.20532320541515584, 0.13452210009958485, 0.2619640896676126, 0.18408287382048452, 0.38320720433524025, 0.5474388633360575, 0.9911459616908727, 0.9800680572665107, 0.3157686691967108, 0.14234131720266238, 0.16361070942834757, 0.05971790894134686, 0.03190408833852778, 0.02699576705567735, 0.0368124096213782, 0.0032722141885669514, 0.17669956618261537, 0.04335683799851211, 0.07751053199214308, 0.0885834651338778, 0.8193970524883697, 0.8985449501690462, 0.9764927000224868, 0.9664202266130155, 0.9746552516601622, 0.905627208165165, 0.046882868604074035, 0.1406486058122221, 0.7970087662692587, 0.9976455319614507, 0.018794300800453984, 0.10650103786923924, 0.11589818826946623, 0.09710388746901225, 0.034456218134165634, 0.6170795429482391, 0.009397150400226992, 0.9959229987298925, 0.9838277909307315, 0.9384688511636998, 0.9930757535966179, 0.5239669737864132, 0.2929192276113151, 0.014611715173128734, 0.16575164399517908, 0.00045661609916027295, 0.001369848297480819, 0.0011415402479006823, 0.09409906654425315, 0.07716123456628758, 0.04328557061035645, 0.09598104787513821, 0.028229719963275945, 0.6172898765303007, 0.04140358927947139, 0.4285813674334737, 0.42591937136245833, 0.0372679449942151, 0.04126093910073815, 0.0066549901775384114, 0.0026619960710153644, 0.03992994106523047, 0.007985988213046094, 0.010647984284061458, 0.16892396739747487, 0.021796640954512888, 0.04904244214765399, 0.1035340445339362, 0.6538992286353866, 0.04298257041143562, 0.9578972834548509, 0.8263795088751779, 0.16168294738862174, 0.8924215937487399, 0.006084199079152167, 0.24539602952580405, 0.03447712811519561, 0.002028066359717389, 0.024336796316608667, 0.26770475948269534, 0.002028066359717389, 0.39547294014489087, 0.02028066359717389, 0.9915328197346865, 0.07492453823326846, 0.8990944587992215, 0.2654451323963731, 0.06054011791496228, 0.013970796441914372, 0.004656932147304791, 0.1024525072407054, 0.07916784650418145, 0.06985398220957185, 0.004656932147304791, 0.4051530968155168, 0.44960467797622866, 0.14421282123765825, 0.06786485705301565, 0.016966214263253912, 0.31387496387019737, 0.9756643536008873, 0.9891443775284683, 0.9860548849576769, 0.9881853301587554, 0.15907765112079533, 0.8383822153663538, 0.9882964023564398, 0.990891590002838, 0.9951000673819632, 0.9898721887813766, 0.9893056662691344, 0.9922686645831543, 0.9397280785628321, 0.04698640392814161, 0.06487752110308212, 0.0015823785634898077, 0.05063611403167385, 0.8402430172130879, 0.018988542761877693, 0.023735678452347114, 0.02466211217355538, 0.14797267304133227, 0.8286469690314607, 0.003525648082920333, 0.10224379440468966, 0.8919889649788443, 0.9987235360838965, 0.994292530048687, 0.990112010259467, 0.18057483803955038, 0.10117313620655659, 0.2081092991590563, 0.01408739871230535, 0.33937824170553793, 0.13767230559752955, 0.01408739871230535, 0.00448235413573352, 0.8869437595598394, 0.9794248487649959, 0.6283858506849591, 0.18742606875921325, 0.04649328837437848, 0.0007264576308496638, 0.008717491570195964, 0.021793728925489912, 0.042134542589280496, 0.018161440771241592, 0.03850225443503218, 0.007264576308496637, 0.9735612255557657, 0.19701613159268705, 0.09157087806420665, 0.01942412564998323, 0.024973875835692723, 0.008324625278564242, 0.20534075687125128, 0.4245558892067763, 0.02774875092854747, 0.002774875092854747, 0.08394948788121794, 0.3474576026194854, 0.5666590431982211, 0.9493299551711654, 0.9896696983112326, 0.993152506751499, 0.08373297508882736, 0.1430438324434134, 0.6733526746726534, 0.09768847093696525, 0.014429401569666269, 0.9848066571297228, 0.995049449759675, 0.941627647156041, 0.11179036912683624, 0.1842794366075191, 0.044541475198973814, 0.07248906748068287, 0.0034934490352136324, 0.39737982775555064, 0.1842794366075191, 0.9884217386514613, 0.9651264030761518, 0.9867086754589328, 0.33239130849601173, 0.035298192052673816, 0.5691833468493652, 0.06177183609217918, 0.8579434708062695, 0.10399314797651753, 0.03342636899245206, 0.00185702049958067, 0.03690380858225428, 0.04332186224873329, 0.09145726474732582, 0.7862115741436781, 0.012836107332958011, 0.027276728082535773, 0.9222237947526258, 0.07261604683091542, 0.06375171780145629, 0.223131012305097, 0.7012688958160191, 0.1388496407820585, 0.8520318866171772, 0.33585600062312476, 0.6619770447064488, 0.0997086358417146, 0.8973777225754315, 0.9945560925189549, 0.02861060548870509, 0.9584552838716206, 0.9527471761218804, 0.15317321140279377, 0.03369810650861463, 0.8087545562067512, 0.1445903397161599, 0.07863685142457819, 0.005073345253198592, 0.16234704810235495, 0.4566010727878733, 0.1522003575959578, 0.8070146009850285, 0.0073032995564255975, 0.05386183422863878, 0.004564562222765999, 0.03560358533757479, 0.037429410226681184, 0.02190989866927679, 0.014606599112851195, 0.002738737333659599, 0.014606599112851195, 0.0009129124445531997, 0.43669991227556426, 0.06443113459803407, 0.0017897537388342798, 0.2445996776406849, 0.01730095280873137, 0.22789530941156497, 0.002982922898057133, 0.0017897537388342798, 0.0023863383184457064, 0.9410303985034262, 0.0405616551079063, 0.01622466204316252, 0.0538207700201742, 0.09867141170365269, 0.1704324383972183, 0.6727596252521775, 0.9774508602901352, 0.3227657330265242, 0.22857573286822627, 0.08039146510326069, 0.3677609560320806, 0.8909098967862724, 0.9658864639287986, 0.5258325585105669, 0.460103488696746, 0.9725726835204959, 0.9901520889552854, 0.014994049357614983, 0.9746132082449739, 0.9845115037747924, 0.08323925981915085, 0.18233361674671142, 0.09116680837335571, 0.2338626823490429, 0.40826875054154943, 0.9824598946020624, 0.9629124921840859, 0.0030959323627668925, 0.12177333960216444, 0.16511639268090092, 0.0268314138106464, 0.15582859559260026, 0.4623258995065226, 0.06398260216384911, 0.9912918052803964, 0.9347752217883898, 0.9278813435912742, 0.06707575977768247, 0.9768652574629466, 0.9865317423581715, 0.8981891878267865, 0.5231474273292761, 0.31563228115532993, 0.0906788874037412, 0.03487649515528508, 0.02790119612422806, 0.007847211409939143, 0.9556957313058335, 0.014420944619937846, 0.17305133543925416, 0.8075728987165194, 0.15469676298855486, 0.06875411688380216, 0.7562952857218238, 0.09273344721603491, 0.8346010249443142, 0.07212601450136048, 0.9913812048071197, 0.1427125312291669, 0.15545472151748538, 0.21406879684375035, 0.040775008922619115, 0.44597666009114656, 0.05746469106469326, 0.1985143873143949, 0.7365928581928863, 0.9827195572336653, 0.41009475581607885, 0.10004327712448699, 0.13063502302205737, 0.07606596277233721, 0.18603088721495514, 0.007441235488598205, 0.0421670011020565, 0.04712782476112197, 0.9283602126901329, 0.013454495836088882, 0.0006406902779089944, 0.05189591251062855, 0.0025627611116359776, 0.0025627611116359776, 0.32812853695083116, 0.5906313665114961, 0.0904910149094693, 0.9049101490946929, 0.16636897837245634, 0.7985710961877904, 0.8889746998127142, 0.6077503173873486, 0.38905228650932544, 0.2498978173581902, 0.7496934520745706, 0.5702005471694289, 0.05670502679032995, 0.3717329534032741, 0.8430006545816673, 0.08945510543222727, 0.04245327037461634, 0.006064752910659476, 0.01667807050431356, 0.9844397233432018, 0.10322632880123604, 0.0030360684941540014, 0.12447880826031406, 0.5647087399126443, 0.04857709590646402, 0.06375743837723404, 0.08804598633046604, 0.9870898636263666, 0.9932841150814694, 0.019645393277165184, 0.054024831512204254, 0.8668529783549137, 0.0564805056718499, 0.03131242847098043, 0.9581603112120012, 0.047845543173504354, 0.07518585355836399, 0.8202093115457889, 0.03930169617823572, 0.015378924591483543, 0.9732715135935063, 0.9711879231634406, 0.17961537678800435, 0.7954395257754477, 0.9806383681925862, 0.985054495263196, 0.08947718064852335, 0.07112288718215959, 0.057357167082386765, 0.1628943545139784, 0.057357167082386765, 0.5322745105245492, 0.022942866832954708, 0.004588573366590941, 0.9532665453164109, 0.04539364501506718, 0.2633398946615314, 0.3038537246094593, 0.4253952144532431, 0.5934854509467432, 0.23174193798872827, 0.038024176077973156, 0.005138402172699075, 0.030316572818924543, 0.05087018150972084, 0.03288577390527408, 0.017470567387176856, 0.04415726996339349, 0.7632899522243731, 0.02312999855225373, 0.10934181133792674, 0.016821817128911804, 0.04415726996339349, 0.9898089941996691, 0.9974897555607249, 0.9415786722245183, 0.022418539814869482, 0.9885769096285687, 0.918367240414414, 0.96726821546436, 0.9844202956344013, 0.9839558214543301, 0.08432752649511636, 0.906520909822501, 0.978129714068786, 0.9342986151301421, 0.9695974747148618, 0.9613392726714273, 0.622632314850675, 0.37524715403946934, 0.9438746415459047, 0.9869014585835264, 0.47498554867581083, 0.03201560051848007, 0.40360650489690447, 0.009447226382502316, 0.011021764112919368, 0.014170839573753473, 0.054059128744318806, 0.996220839850994, 0.04708040352750671, 0.9416080705501343, 0.16705392491311016, 0.8241326962380102, 0.99703577298961, 0.9902976195846525, 0.09590017742120875, 0.008718197947382614, 0.14820936510550442, 0.04359098973691307, 0.05230918768429568, 0.6451466481063134, 0.4975054390725767, 0.12231487314215284, 0.20202568934715132, 0.06734189644905043, 0.00274864883465512, 0.10719730455154967, 0.9521671345196635, 0.4332923908657356, 0.5656872880747104, 0.05336427100084448, 0.5031488408651051, 0.43834936893550824, 0.9919852017038373, 0.9954168076141511, 0.989977737632447, 0.01237704896614107, 0.9777868683251445, 0.9927530512358782, 0.3146307709136567, 0.682082766141285, 0.002296574970172677, 0.4548287247306157, 0.18193148989224628, 0.36386297978449256, 0.9845417747338465, 0.007904529731803679, 0.9880662164754598, 0.08505886575638061, 0.03402354630255224, 0.8676004307150822, 0.9979500126011134, 0.9747089817439555, 0.5671579711566228, 0.39264782618535427, 0.9975847398571684, 0.23347746700568253, 0.18094503692940395, 0.06809759454332406, 0.03404879727166203, 0.0642063034265627, 0.0398857339468041, 0.07490735399765648, 0.21985794809701772, 0.07685299955603717, 0.006809759454332407, 0.02931025590226544, 0.10258589565792904, 0.22715448324255716, 0.6374980658742733, 0.9697055574227701, 0.07149402450465678, 0.281770567165412, 0.643446220541911, 0.052078120728468236, 0.04243402429727042, 0.08679686788078039, 0.38769267653415246, 0.4320555201176624, 0.19054927539046043, 0.6960341587179318, 0.013232588568781973, 0.06880946055766626, 0.02911169485132034, 0.11938138227034253, 0.8293864452465902, 0.050265845166460016, 0.07555623797735042, 0.01353246053325679, 0.6788784367517157, 0.004510820177752264, 0.020298690799885187, 0.08232246824397882, 0.1093873893104924, 0.01127705044438066, 0.004510820177752264, 0.9705772450302429, 0.07942713378328733, 0.9134120385078043, 0.9937941502960335, 0.5376441372942807, 0.06612735378485805, 0.39388902037067625, 0.022029584153369093, 0.08536463859430524, 0.1266701088818723, 0.06058135642176501, 0.18725146530363732, 0.013768490095855684, 0.4240694949523551, 0.019275886134197957, 0.05782765840259387, 0.8460602376780295, 0.11160152867767234, 0.04071947667969126, 0.852586083144419, 0.1441570671983317, 0.9872185822183903, 0.9793902202000563, 0.9901879390538509, 0.09836176177437876, 0.11680459210707478, 0.7807464840841314, 0.9281677969017553, 0.03288320841362118, 0.9503247231536521, 0.013153283365448474, 0.9943483218931917, 0.9956342213363059, 0.9769109806739645, 0.9768563746785793, 0.9965063061813975, 0.9635364423564373, 0.5952140247571961, 0.12077703936280253, 0.0012387388652595132, 0.027871624468339046, 0.03220721049674734, 0.09352478432709324, 0.02911036333359856, 0.0371621659577854, 0.01672297468100343, 0.01981982184415221, 0.008671172056816593, 0.017961713546262942, 0.8418906629564674, 0.1473308660173818, 0.008418906629564675, 0.1412164496657058, 0.1393824697999174, 0.08436307382626579, 0.11370675167887997, 0.4860046644339225, 0.01650581879209548, 0.01650581879209548, 0.9899019663518794, 0.9802568118877664, 0.9753403453802734, 0.9929223285433884, 0.9397709466649445, 0.3018013488121683, 0.6639629673867703, 0.02305728494300667, 0.7263044757047101, 0.23921933128369421, 0.008646481853627501, 0.44491748426512934, 0.02127464061974631, 0.5327909998684293, 0.896563126278142, 0.09632496398029625, 0.16946993954635614, 0.10933544486861688, 0.6888133026722862, 0.021867088973723376, 0.996752414861813, 0.7664093586641946, 0.04568620264543252, 0.005594228895359084, 0.1613002664828536, 0.006526600377918932, 0.0037294859302393893, 0.010256086308158321, 0.7986688486243839, 0.009976025295087822, 0.06924535204825664, 0.04929330145808101, 0.07276630215240529, 0.9690976428400017, 0.026674062462422207, 0.017338140600574436, 0.6188382491281952, 0.11736587483465771, 0.03600998432426998, 0.004001109369363331, 0.016004437477453323, 0.08002218738726662, 0.08268959363350885, 0.8265113000515917, 0.17002518172489886, 0.058976823312830766, 0.004423261748462307, 0.8529523071618149, 0.03170004253064654, 0.013269785245386922, 0.03538609398769846, 0.0022116308742311536, 0.9911356393303726, 0.9942183289446395, 0.9629793353117923, 0.13828431188241871, 0.01536492354249097, 0.7323946888587362, 0.1126761059782671, 0.9928302760151442, 0.9648133535218663, 0.981378451692995, 0.41494553696117886, 0.04987326165398784, 0.44287456348741205, 0.007979721864638054, 0.08179214911254006, 0.14786887297164455, 0.4405260173946911, 0.043128421283396334, 0.10679418603507664, 0.16532561491968595, 0.010268671734141983, 0.07188070213899389, 0.014376140427798778, 0.04159807432795289, 0.2973491979738855, 0.10168418169055152, 0.4668228341248047, 0.010784685936876676, 0.08011480981679817, 0.9798302097251914, 0.9598864519610932, 0.9868252450793169, 0.09446680018343427, 0.8232106873127844, 0.0674762858453102, 0.9895231420777272, 0.6654446551843403, 0.0545664617251159, 0.005323557241474722, 0.08850413913951725, 0.05989001896659062, 0.07386435672546177, 0.015305227069239825, 0.02528689689700493, 0.011978003793318124, 0.07931712442635848, 0.34370753918088676, 0.5552198709845094, 0.9805191407815878, 0.0037876137004697902, 0.8560006963061726, 0.14014170691738223, 0.05648582189606723, 0.9433132256643229, 0.14464970022569865, 0.17947277620595944, 0.024108283370949776, 0.013393490761638763, 0.05625266119888281, 0.12054141685474888, 0.17411537990130393, 0.28662070229906955, 0.8208012936288087, 0.5020179851218844, 0.04056710990883915, 0.141984884680937, 0.2738279918846642, 0.03549622117023425, 0.9787181036229547, 0.01631196839371591, 0.8245231287216008, 0.14434719698608095, 0.2195031755821396, 0.5583015552850072, 0.004771808164829122, 0.007157712247243683, 0.004771808164829122, 0.005964760206036403, 0.005964760206036403, 0.028630848988974732, 0.02147313674173105, 0.9768793326170713, 0.9806241692558169, 0.9939263462245534, 0.9461926303011221, 0.05319654001881874, 0.13299135004704685, 0.14629048505175155, 0.5120166976811303, 0.14629048505175155, 0.08610439541013427, 0.08157258512539037, 0.797598610114928, 0.031722671993207364, 0.9506217348021085, 0.038538718978463865, 0.8045313225281142, 0.003142700478625446, 0.05735428373491439, 0.001571350239312723, 0.07856751196563616, 0.006285400957250892, 0.04006943110247444, 0.007856751196563615, 0.09831668391588137, 0.8848501552429323, 0.9923384184454603, 0.31287931105489575, 0.6257586221097915, 0.7444765790441257, 0.9926204335381822, 0.1053059303624195, 0.026326482590604876, 0.842447442899356, 0.9813542361915718, 0.08708823519208486, 0.908205881288885, 0.9903699019364953, 0.9864751951973532, 0.0220904478651961, 0.0936442898633313, 0.14887040952632155, 0.10084769677589525, 0.3822607934933934, 0.07299452338064799, 0.008644088295076735, 0.06483066221307551, 0.014887040952632156, 0.08932224571579293, 0.0014406813825127893, 0.7657304942244749, 0.08027256776282098, 0.03908925038885196, 0.04467342901583081, 0.016752535880936552, 0.01884660286605362, 0.01326242423907477, 0.004886156298606495, 0.016054513552564195, 0.9960786855922079, 0.9951634064219117, 0.9570620405978003, 0.9762810837221665, 0.04990384007963802, 0.9481729615131224, 0.017964075609893326, 0.977245713178197, 0.10909285109934957, 0.8363785250950134, 0.06385318175521493, 0.40577667115410776, 0.04943472135887607, 0.020597800566198362, 0.4593309526262235, 0.9899264588086648, 0.9772441264802677, 0.989338618234888, 0.9846646098743282, 0.9891126522597932, 0.12785556177754412, 0.011484032494988994, 0.006124817330660797, 0.6951667670300005, 0.09340346429257715, 0.05588895814227977, 0.0030624086653303984, 0.006124817330660797, 0.9243118338025865, 0.9645055194082451, 0.9820791819850408, 0.09786925192283916, 0.06887095505681275, 0.010874361324759907, 0.04349744529903963, 0.7503309314084335, 0.025373509757773114, 0.08759811323314258, 0.6856817828939091, 0.018123747565477775, 0.030206245942462958, 0.012082498376985183, 0.15103122971231478, 0.018123747565477775, 0.920532190223387, 0.9268446809433764, 0.8698716684598238, 0.021676108748186294, 0.07728003988483809, 0.0028273185323721252, 0.0018848790215814167, 0.018848790215814166, 0.008481955597116375, 0.7724918440558001, 0.06816104506374707, 0.012117519122443923, 0.004544069670916471, 0.05074211132523393, 0.008330794396680196, 0.08406528891195471, 0.890676028211709, 0.04320673733528734, 0.03394815076344005, 0.0006172391047898191, 0.0024689564191592763, 0.029010237925121498, 0.06563002735621454, 0.10797198048925619, 0.014819683596564574, 0.22441235160512069, 0.04022485547638956, 0.06351292969956246, 0.023288074223172903, 0.012702585939912492, 0.3747262852274185, 0.046576148446345805, 0.004234195313304164, 0.02117097656652082, 0.8283222153559379, 0.045557721844576585, 0.0648852402028818, 0.019327518358305217, 0.0013805370255932298, 0.0069026851279661485, 0.031752351588644284, 0.9743618011346928, 0.985102416968335, 0.9637313467391728, 0.7056448137334007, 0.020027169879794963, 0.02127886799728215, 0.04881622658200023, 0.038802641642102745, 0.0422448114651925, 0.006884339646179519, 0.084489622930385, 0.010326509469269279, 0.005319716999320537, 0.013455754762987241, 0.002816320764346167, 0.9740865114052657, 0.9943359679083694, 0.9737645804769133, 0.9946547320154837, 0.6078873610667629, 0.33441618320896466, 0.04844346579195283, 0.00781346222450852, 0.9780037857895907, 0.9930805277265912, 0.9736959837006969, 0.9799001313281732, 0.9273703344797247, 0.06833255096166392, 0.3352059649046918, 0.6331668225977511, 0.9249531876269296, 0.9914315255644974, 0.0564375406560785, 0.10033340561080621, 0.08152089205878005, 0.04389586495472772, 0.7148755149769943, 0.9738369500918651, 0.9933149113067993, 0.2678955795429439, 0.438110821418605, 0.0715677721522666, 0.07253490420837833, 0.1421684122484215, 0.006769924392781976, 0.9608996652159575, 0.009154036442468833, 0.3364108392607296, 0.6545136056365216, 0.9965219817131494, 0.9982981809084999, 0.995757206989994, 0.9779726251712498, 0.940365929327097, 0.40709427526308073, 0.559754628486736, 0.9720607209761034, 0.04439208096216528, 0.012683451703475793, 0.6056348188409691, 0.03170862925868948, 0.30440284088341907, 0.18279686312929222, 0.10869002672552511, 0.6348485651922716, 0.07163660852364155, 0.006053933858290388, 0.9867912189013331, 0.13524218605748164, 0.06684383908588173, 0.7150736274303627, 0.027981141942927237, 0.01865409462861816, 0.026426634057209058, 0.01088155520002726, 0.7392273233301629, 0.2579318358382223, 0.9822532909440623, 0.9725087146596789, 0.14922709233207607, 0.6262208338935336, 0.03997154258894895, 0.045301081600808805, 0.09326693270754755, 0.031977234071159155, 0.013323847529649649, 0.21360395167625074, 0.09515085120123896, 0.08301426303781563, 0.0014563905796108004, 0.006311025844980135, 0.1548628649652818, 0.20972024346395526, 0.053400987919062684, 0.12233680868730724, 0.02233132222069894, 0.037866155069880815, 0.08281442499644794, 0.8787530652400863, 0.02300400694345776, 0.009201602777383104, 0.7564297987881554, 0.031273583412430195, 0.019545989632768872, 0.14464032328248966, 0.04691037511864529, 0.11655149240470002, 0.029137873101175004, 0.12035208454833154, 0.0012668640478771742, 0.04180651357994675, 0.2736426343414696, 0.02787100905329783, 0.25147251350361904, 0.10451628394986687, 0.0012668640478771742, 0.031671601196929355, 0.876266772253088, 0.9940446392475404, 0.2179739315926847, 0.12455653233867696, 0.011976589647949709, 0.01437190757753965, 0.4814589038475783, 0.06467358409892843, 0.08144080960605801, 0.08045715809127456, 0.8045715809127455, 0.9411641698607327, 0.888284711278244, 0.9821642640672001, 0.04915807761019859, 0.9340034745937732, 0.015305717282621489, 0.026529909956543914, 0.61018792900051, 0.335705399065498, 0.01224457382609719, 0.9873270113165625, 0.9930417255263165, 0.01865219557380385, 0.020724661748670947, 0.9305373125153255, 0.004144932349734189, 0.004144932349734189, 0.01865219557380385, 0.02804810497421436, 0.8344311229828771, 0.09816836740975025, 0.02804810497421436, 0.9894716580664896, 0.9839347898884522, 0.9887750743513251, 0.0650629078357394, 0.042099528599596085, 0.11864412605340714, 0.053581218217667745, 0.10716243643533549, 0.179879804016456, 0.003827229872690553, 0.4248225158686514, 0.995796769727255, 0.9777185898409185, 0.9949554512461335, 0.10899243980967581, 0.8719395184774065, 0.7203065575236447, 0.008467968347081788, 0.03704736151848283, 0.024874657019552753, 0.10584960433852236, 0.04075209767033111, 0.06245126655972819, 0.9531239221487368, 0.1611656920015272, 0.8326894086745572, 0.9856538422143334, 0.011753569916096192, 0.06817070551335791, 0.7310720487811831, 0.18570640467431984, 0.1712070080529446, 0.06988041145018146, 0.06988041145018146, 0.6883220527842874, 0.9793420982276084, 0.9657899945377124, 0.03349560674697269, 0.031127430700452922, 0.32061253621466507, 0.6443378154993754, 0.98300688497802, 0.7004003287922543, 0.08427276683329264, 0.03520728925479781, 0.04606911253553331, 0.01535637084517777, 0.05393457077330729, 0.02958910479924497, 0.0026218194125913266, 0.019101827148879664, 0.013109097062956633, 0.29458268123188946, 0.5571455058081387, 0.012807942662256062, 0.13608439078647067, 0.10049970092091086, 0.2663242074404138, 0.33164901303900585, 0.09547471587486532, 0.0703497906446376, 0.01507495513813663, 0.005024985046045543, 0.11054967101300195, 0.024812213031286796, 0.967676308220185, 0.4981650827978098, 0.5006070684977991, 0.9935939942385152, 0.08431883518915459, 0.021079708797288647, 0.8642680606888345, 0.054067766914007, 0.04701544949044087, 0.8991704715046817, 0.030993206695543757, 0.00982711431809924, 0.9108979041007372, 0.048379639719873184, 0.9772302103682473, 0.9841032362302433, 0.08719037909906281, 0.9054385521825753, 0.9865477754142692, 0.9854981964187421, 0.9943341813487334, 0.9624868782151766, 0.10659295987828468, 0.06344819040374089, 0.6395577592697081, 0.11166881511058395, 0.07359990086833942, 0.11796069520013522, 0.3740595729372709, 0.09778320786326998, 0.0031042288210561897, 0.02793805938950571, 0.09002263581062951, 0.020177487336865235, 0.10088743668432618, 0.16607624192650616, 0.5128546228778841, 0.002824089333027996, 0.04349097572863114, 0.016944535998167976, 0.04123170426220874, 0.23722350397435168, 0.0728615047921223, 0.06269478319322151, 0.009037085865689588, 0.9111573423315179, 0.9864134066862276, 0.2396964590987617, 0.29015887154060627, 0.050462412441844566, 0.14549995587398515, 0.09335546301741245, 0.031118487672470815, 0.026072246428286358, 0.11185834757942212, 0.01093352269573299, 0.9404228131559534, 0.0484754027399976, 0.00484754027399976, 0.656964772788535, 0.03230974292402631, 0.2907876863162368, 0.7281103879636087, 0.10881750949962027, 0.02179419795337952, 0.00015348026727732056, 0.10989187137056151, 0.004450927751042296, 0.009976217373025837, 0.00015348026727732056, 0.001995243474605167, 0.0012278421382185645, 0.013506263520404209, 0.9906159299371787, 0.9617927775502602, 0.9716405721976327, 0.8868300446442997, 0.7644728133647312, 0.840426547667502, 0.09252554875739337, 0.900906658953567, 0.9881792370879425, 0.9824418033818615, 0.945062100833417, 0.05026926068262857, 0.2647882440669605, 0.04887446561049037, 0.03959450378571372, 0.1787939311573635, 0.03773851142075839, 0.06062908392187413, 0.33840927454352193, 0.030314541960937066, 0.5705811810557977, 0.00797086632441161, 0.15211069902418822, 0.17934449229926122, 0.04649672022573439, 0.037197376180587514, 0.0006642388603676342, 0.005978149743308707], \"Term\": [\"abraham\", \"absolute\", \"absolute\", \"accelerator\", \"accelerators\", \"access\", \"access\", \"access\", \"access\", \"access\", \"access\", \"access\", \"access\", \"accessed\", \"accessed\", \"accident\", \"accidents\", \"acid\", \"acid\", \"acid\", \"acts\", \"acts\", \"acts\", \"actually\", \"actually\", \"actually\", \"actually\", \"actually\", \"actually\", \"actually\", \"actually\", \"adaptec\", \"address\", \"address\", \"address\", \"address\", \"address\", \"address\", \"address\", \"address\", \"administration\", \"administration\", \"administration\", \"administration\", \"adobe\", \"advance\", \"advance\", \"advance\", \"advance\", \"advance\", \"advance\", \"advance\", \"agencies\", \"agencies\", \"agencies\", \"alcohol\", \"algorithm\", \"algorithm\", \"algorithm\", \"algorithm\", \"allah\", \"allocated\", \"allocated\", \"allocation\", \"alomar\", \"also\", \"also\", \"also\", \"also\", \"also\", \"also\", \"also\", \"also\", \"also\", \"also\", \"also\", \"also\", \"also\", \"american\", \"american\", \"american\", \"american\", \"american\", \"american\", \"american\", \"among\", \"among\", \"among\", \"among\", \"among\", \"among\", \"among\", \"among\", \"amongst\", \"analog\", \"anecdotal\", \"animation\", \"annual\", \"annual\", \"annual\", \"annual\", \"anon\", \"anonymous\", \"ansi\", \"anyone\", \"anyone\", \"anyone\", \"anyone\", \"anyone\", \"anyone\", \"anyway\", \"anyway\", \"anyway\", \"anyway\", \"apartment\", \"apostles\", \"appears\", \"appears\", \"appears\", \"appears\", \"appears\", \"appears\", \"appears\", \"appears\", \"appears\", \"apple\", \"apple\", \"apple\", \"appletalk\", \"application\", \"application\", \"application\", \"application\", \"appreciated\", \"appreciated\", \"appreciated\", \"appreciated\", \"april\", \"april\", \"april\", \"april\", \"april\", \"april\", \"arab\", \"arabs\", \"arafat\", \"archbishop\", \"archer\", \"archive\", \"archive\", \"archive\", \"archive\", \"argc\", \"argic\", \"argument\", \"argument\", \"argument\", \"argument\", \"argv\", \"armenia\", \"armenian\", \"armenians\", \"army\", \"army\", \"army\", \"army\", \"arrow\", \"article\", \"article\", \"article\", \"article\", \"article\", \"article\", \"article\", \"article\", \"asking\", \"asking\", \"asking\", \"asking\", \"asking\", \"asking\", \"aspartame\", \"assure\", \"astronomy\", \"atheism\", \"atheist\", \"atheists\", \"athena\", \"attributes\", \"attributes\", \"audio\", \"audio\", \"audio\", \"austria\", \"austria\", \"auth\", \"authority\", \"authority\", \"authority\", \"authority\", \"authority\", \"authority\", \"available\", \"available\", \"available\", \"available\", \"available\", \"available\", \"available\", \"awarded\", \"azerbaijan\", \"azerbaijani\", \"back\", \"back\", \"back\", \"back\", \"back\", \"back\", \"back\", \"back\", \"backing\", \"backing\", \"backing\", \"baltimore\", \"baltimore\", \"bandwidth\", \"baptism\", \"based\", \"based\", \"based\", \"based\", \"based\", \"based\", \"based\", \"based\", \"based\", \"baseman\", \"bass\", \"batman\", \"battery\", \"batting\", \"baud\", \"bear\", \"bear\", \"belief\", \"belief\", \"beliefs\", \"beliefs\", \"believe\", \"believe\", \"believe\", \"believe\", \"believe\", \"believe\", \"believer\", \"best\", \"best\", \"best\", \"best\", \"best\", \"best\", \"best\", \"best\", \"better\", \"better\", \"better\", \"better\", \"better\", \"better\", \"better\", \"better\", \"bible\", \"bible\", \"bible\", \"bike\", \"bike\", \"bikes\", \"billion\", \"billion\", \"billy\", \"binaries\", \"bios\", \"bishop\", \"blessed\", \"block\", \"block\", \"block\", \"block\", \"block\", \"block\", \"block\", \"blood\", \"blood\", \"blood\", \"blood\", \"blood\", \"blood\", \"blow\", \"board\", \"board\", \"board\", \"board\", \"board\", \"body\", \"body\", \"body\", \"body\", \"body\", \"body\", \"body\", \"bolt\", \"bone\", \"book\", \"book\", \"book\", \"book\", \"book\", \"book\", \"book\", \"book\", \"book\", \"book\", \"books\", \"books\", \"books\", \"books\", \"books\", \"books\", \"books\", \"books\", \"books\", \"books\", \"boston\", \"boston\", \"boston\", \"boston\", \"bother\", \"brake\", \"brand\", \"brewers\", \"brian\", \"brian\", \"brian\", \"brian\", \"bronx\", \"bruins\", \"brute\", \"buick\", \"build\", \"build\", \"build\", \"build\", \"build\", \"build\", \"bullpen\", \"burned\", \"button\", \"button\", \"button\", \"buyer\", \"bytes\", \"bytes\", \"cable\", \"cable\", \"cache\", \"cadre\", \"cages\", \"calgary\", \"came\", \"came\", \"came\", \"came\", \"came\", \"came\", \"came\", \"canada\", \"canada\", \"canada\", \"canada\", \"canada\", \"canada\", \"canada\", \"cancer\", \"candida\", \"cannot\", \"cannot\", \"cannot\", \"cannot\", \"cannot\", \"cannot\", \"cannot\", \"cannot\", \"cannot\", \"canon\", \"canon\", \"canon\", \"capitals\", \"capitals\", \"card\", \"card\", \"cards\", \"cards\", \"cards\", \"cards\", \"cards\", \"carrier\", \"carry\", \"carry\", \"carry\", \"carry\", \"carry\", \"carry\", \"cars\", \"cars\", \"carson\", \"case\", \"case\", \"case\", \"case\", \"case\", \"case\", \"case\", \"case\", \"case\", \"case\", \"catbyte\", \"catholic\", \"catholics\", \"catholics\", \"cause\", \"cause\", \"cause\", \"cause\", \"cause\", \"cause\", \"cause\", \"cellular\", \"cellular\", \"cellular\", \"center\", \"center\", \"center\", \"center\", \"center\", \"centers\", \"centris\", \"ceremonial\", \"certainty\", \"char\", \"charger\", \"chars\", \"chastity\", \"check\", \"check\", \"check\", \"check\", \"check\", \"check\", \"check\", \"chevrolet\", \"chicago\", \"chicago\", \"chicago\", \"chicago\", \"children\", \"children\", \"children\", \"children\", \"chinese\", \"chinese\", \"chinese\", \"chip\", \"chip\", \"chips\", \"chips\", \"chips\", \"chipset\", \"christ\", \"christ\", \"christ\", \"christian\", \"christian\", \"christian\", \"christianity\", \"christianity\", \"christians\", \"christians\", \"christians\", \"chrome\", \"chronic\", \"chunks\", \"church\", \"church\", \"church\", \"churches\", \"churches\", \"cica\", \"cincinnati\", \"cipher\", \"ciphertext\", \"circuit\", \"circuit\", \"circuit\", \"circuits\", \"circumcision\", \"city\", \"city\", \"city\", \"city\", \"city\", \"city\", \"civil\", \"civil\", \"civil\", \"civil\", \"civil\", \"civilians\", \"clemens\", \"cleveland\", \"cleveland\", \"cleveland\", \"click\", \"clipper\", \"cluster\", \"cmos\", \"code\", \"code\", \"code\", \"code\", \"code\", \"code\", \"code\", \"code\", \"code\", \"coding\", \"coffee\", \"coffee\", \"coffee\", \"color\", \"color\", \"color\", \"colormap\", \"column\", \"column\", \"column\", \"combustion\", \"comics\", \"commandments\", \"communications\", \"communications\", \"communications\", \"communications\", \"comp\", \"comp\", \"company\", \"company\", \"company\", \"company\", \"company\", \"company\", \"company\", \"company\", \"compaq\", \"compass\", \"compile\", \"compounds\", \"compress\", \"computer\", \"computer\", \"computer\", \"computer\", \"computer\", \"computer\", \"concentrate\", \"condition\", \"condition\", \"condition\", \"condition\", \"condition\", \"condition\", \"condition\", \"conductor\", \"config\", \"configure\", \"congress\", \"congress\", \"congress\", \"congress\", \"connected\", \"connected\", \"connected\", \"connected\", \"connected\", \"connected\", \"connected\", \"conscience\", \"consequences\", \"consequences\", \"consistantly\", \"constitution\", \"constitution\", \"consumer\", \"context\", \"context\", \"context\", \"context\", \"contrib\", \"control\", \"control\", \"control\", \"control\", \"control\", \"control\", \"control\", \"control\", \"control\", \"controller\", \"controller\", \"copies\", \"copies\", \"copies\", \"copies\", \"copy\", \"copy\", \"copy\", \"copy\", \"copy\", \"copy\", \"copy\", \"corn\", \"could\", \"could\", \"could\", \"could\", \"could\", \"could\", \"could\", \"could\", \"could\", \"could\", \"could\", \"could\", \"council\", \"council\", \"council\", \"council\", \"course\", \"course\", \"course\", \"course\", \"course\", \"course\", \"course\", \"course\", \"course\", \"course\", \"cover\", \"cover\", \"cover\", \"cover\", \"cover\", \"cover\", \"cover\", \"cpsr\", \"crack\", \"creative\", \"creed\", \"crime\", \"crime\", \"crime\", \"criminal\", \"criminal\", \"criminal\", \"criminals\", \"criminals\", \"criticism\", \"crypt\", \"cryptanalysis\", \"crypto\", \"crypto\", \"cryptographic\", \"cryptography\", \"cryptography\", \"cryptology\", \"cryptosystem\", \"cryptosystems\", \"ctrl\", \"cubic\", \"cubs\", \"cult\", \"current\", \"current\", \"current\", \"current\", \"current\", \"current\", \"current\", \"current\", \"current\", \"current\", \"current\", \"cyberspace\", \"damaging\", \"damaging\", \"damn\", \"darkness\", \"darren\", \"data\", \"data\", \"data\", \"data\", \"data\", \"data\", \"dave\", \"dave\", \"dave\", \"dave\", \"dave\", \"dave\", \"dave\", \"david\", \"david\", \"david\", \"david\", \"david\", \"david\", \"david\", \"david\", \"david\", \"david\", \"dead\", \"dead\", \"dead\", \"dead\", \"dead\", \"deaf\", \"deaf\", \"death\", \"death\", \"death\", \"debris\", \"debugger\", \"decenso\", \"deciding\", \"deciding\", \"declined\", \"decrypt\", \"decryption\", \"default\", \"default\", \"defense\", \"defense\", \"defense\", \"defense\", \"defense\", \"defense\", \"deficits\", \"define\", \"define\", \"define\", \"deity\", \"denning\", \"denning\", \"department\", \"department\", \"department\", \"department\", \"department\", \"department\", \"deskjet\", \"detector\", \"detector\", \"detroit\", \"devices\", \"devices\", \"devices\", \"devices\", \"diagnosis\", \"diamond\", \"diarrhea\", \"diet\", \"digest\", \"digit\", \"directories\", \"directory\", \"directory\", \"disciples\", \"disease\", \"disease\", \"disease\", \"disk\", \"disk\", \"disk\", \"display\", \"display\", \"display\", \"distribution\", \"distribution\", \"distribution\", \"distribution\", \"divine\", \"divine\", \"divine\", \"division\", \"division\", \"division\", \"division\", \"docs\", \"doctor\", \"doctor\", \"doctor\", \"documentary\", \"doit\", \"dorothy\", \"double\", \"double\", \"double\", \"double\", \"double\", \"double\", \"double\", \"doug\", \"doug\", \"doug\", \"downloaded\", \"drawindex\", \"drawings\", \"drive\", \"drive\", \"drive\", \"driver\", \"driver\", \"driver\", \"driver\", \"driver\", \"drivers\", \"drivers\", \"drivers\", \"drivers\", \"drives\", \"drives\", \"dtmedin\", \"earth\", \"earth\", \"earth\", \"earth\", \"earth\", \"east\", \"east\", \"east\", \"east\", \"east\", \"east\", \"east\", \"east\", \"easter\", \"eisa\", \"electrical\", \"electrical\", \"electrical\", \"electrical\", \"electronics\", \"electronics\", \"email\", \"email\", \"email\", \"email\", \"email\", \"emulation\", \"encrypt\", \"encrypted\", \"encrypted\", \"encryption\", \"encryption\", \"enforcement\", \"enforcement\", \"engine\", \"engine\", \"enough\", \"enough\", \"enough\", \"enough\", \"enough\", \"enough\", \"entries\", \"entry\", \"entry\", \"entry\", \"erase\", \"error\", \"error\", \"error\", \"error\", \"error\", \"error\", \"errors\", \"errors\", \"errors\", \"errors\", \"erzurum\", \"escrow\", \"escrowed\", \"espn\", \"eternal\", \"eternal\", \"eternal\", \"ethernet\", \"evans\", \"even\", \"even\", \"even\", \"even\", \"even\", \"even\", \"even\", \"even\", \"even\", \"evidence\", \"evidence\", \"evidence\", \"evil\", \"evil\", \"evolution\", \"evolution\", \"excellent\", \"excellent\", \"excellent\", \"excellent\", \"excellent\", \"excellent\", \"exclusively\", \"execution\", \"exhaust\", \"exist\", \"exist\", \"exist\", \"exist\", \"exist\", \"exist\", \"exist\", \"existence\", \"existence\", \"existence\", \"exists\", \"exists\", \"exists\", \"exists\", \"exists\", \"exists\", \"exit\", \"exit\", \"export\", \"export\", \"expose\", \"expose\", \"fact\", \"fact\", \"fact\", \"fact\", \"fact\", \"fact\", \"fact\", \"factory\", \"fade\", \"faith\", \"faith\", \"faith\", \"faith\", \"fallacy\", \"fans\", \"father\", \"father\", \"father\", \"father\", \"father\", \"federal\", \"federal\", \"federal\", \"federal\", \"federal\", \"feels\", \"fighters\", \"file\", \"file\", \"file\", \"filename\", \"files\", \"files\", \"files\", \"financial\", \"finishes\", \"firearm\", \"firearms\", \"first\", \"first\", \"first\", \"first\", \"first\", \"first\", \"first\", \"first\", \"first\", \"first\", \"first\", \"first\", \"first\", \"first\", \"flame\", \"flame\", \"flame\", \"flavor\", \"flight\", \"flight\", \"flight\", \"floppy\", \"floppy\", \"flyers\", \"followers\", \"font\", \"font\", \"fonts\", \"fonts\", \"fonts\", \"food\", \"food\", \"food\", \"food\", \"fool\", \"ford\", \"formatted\", \"formatted\", \"forty\", \"fractal\", \"framemaker\", \"francisco\", \"francisco\", \"francisco\", \"frank\", \"frank\", \"frank\", \"frank\", \"frank\", \"freedom\", \"freedom\", \"freedom\", \"freedom\", \"freeware\", \"front\", \"front\", \"front\", \"front\", \"front\", \"function\", \"function\", \"function\", \"function\", \"functionality\", \"fundamentalist\", \"funding\", \"funds\", \"funds\", \"funds\", \"fuse\", \"game\", \"game\", \"games\", \"games\", \"gangs\", \"gateway\", \"gaza\", \"gear\", \"geez\", \"gene\", \"gene\", \"general\", \"general\", \"general\", \"general\", \"general\", \"general\", \"general\", \"general\", \"general\", \"general\", \"general\", \"genes\", \"genetics\", \"genocide\", \"gentiles\", \"ghost\", \"ghost\", \"gifs\", \"gift\", \"glad\", \"goal\", \"goal\", \"goal\", \"goal\", \"goal\", \"godhead\", \"gods\", \"going\", \"going\", \"going\", \"going\", \"going\", \"going\", \"good\", \"good\", \"good\", \"good\", \"good\", \"good\", \"good\", \"good\", \"gordon\", \"gospel\", \"gospels\", \"government\", \"government\", \"government\", \"government\", \"government\", \"government\", \"grace\", \"grace\", \"grace\", \"graeme\", \"graphic\", \"graphic\", \"graphics\", \"graphics\", \"graphics\", \"graphite\", \"greece\", \"greek\", \"greek\", \"greek\", \"greek\", \"ground\", \"ground\", \"ground\", \"ground\", \"ground\", \"grounded\", \"guess\", \"guess\", \"guess\", \"guess\", \"guidelines\", \"guidelines\", \"guns\", \"guns\", \"guns\", \"guns\", \"handgun\", \"handguns\", \"handler\", \"hanging\", \"hanging\", \"hanging\", \"hard\", \"hard\", \"hard\", \"hard\", \"hard\", \"hard\", \"hard\", \"harder\", \"hardware\", \"hardware\", \"hardware\", \"hardware\", \"hardware\", \"hartford\", \"hats\", \"hawk\", \"hawks\", \"header\", \"header\", \"heal\", \"health\", \"health\", \"health\", \"health\", \"heaven\", \"heaven\", \"heaven\", \"hebrew\", \"height\", \"height\", \"height\", \"height\", \"helmet\", \"help\", \"help\", \"help\", \"help\", \"help\", \"help\", \"help\", \"help\", \"helper\", \"henrik\", \"heresy\", \"heretical\", \"hewlett\", \"hicnet\", \"high\", \"high\", \"high\", \"high\", \"high\", \"high\", \"high\", \"high\", \"high\", \"high\", \"high\", \"high\", \"hockey\", \"holy\", \"holy\", \"holy\", \"homicide\", \"homicides\", \"homosexual\", \"homosexuals\", \"honda\", \"hong\", \"houston\", \"houston\", \"however\", \"however\", \"however\", \"however\", \"however\", \"however\", \"however\", \"however\", \"however\", \"however\", \"however\", \"hulk\", \"human\", \"human\", \"human\", \"human\", \"human\", \"human\", \"huntsville\", \"hussein\", \"icon\", \"icon\", \"idle\", \"idle\", \"ieee\", \"iftccu\", \"image\", \"image\", \"image\", \"image\", \"image\", \"image\", \"immoral\", \"implies\", \"imprisoned\", \"impulse\", \"inch\", \"indians\", \"individual\", \"individual\", \"individual\", \"individual\", \"individual\", \"individual\", \"induce\", \"infection\", \"infections\", \"infections\", \"infinity\", \"info\", \"info\", \"info\", \"info\", \"info\", \"information\", \"information\", \"information\", \"information\", \"information\", \"information\", \"information\", \"information\", \"information\", \"information\", \"ingr\", \"init\", \"init\", \"inning\", \"innings\", \"input\", \"input\", \"input\", \"instruction\", \"instruction\", \"insulated\", \"insurance\", \"insurance\", \"intel\", \"intellect\", \"intent\", \"interactive\", \"interested\", \"interested\", \"interested\", \"interested\", \"interested\", \"interested\", \"intergraph\", \"internet\", \"internet\", \"internet\", \"internet\", \"internet\", \"internet\", \"internet\", \"internet\", \"interrupt\", \"intrinsics\", \"invented\", \"ireland\", \"ireland\", \"isbn\", \"islam\", \"islam\", \"islam\", \"islanders\", \"israel\", \"israel\", \"israeli\", \"israeli\", \"issue\", \"issue\", \"issue\", \"issue\", \"issue\", \"issue\", \"issue\", \"issue\", \"issue\", \"jack\", \"jack\", \"jack\", \"jack\", \"jacket\", \"james\", \"james\", \"james\", \"james\", \"james\", \"jays\", \"jays\", \"jerk\", \"jesus\", \"jesus\", \"jets\", \"jews\", \"jews\", \"jews\", \"john\", \"john\", \"john\", \"john\", \"john\", \"john\", \"john\", \"john\", \"jose\", \"jose\", \"jose\", \"joystick\", \"jpeg\", \"jumper\", \"jumpers\", \"justice\", \"justice\", \"justice\", \"justice\", \"justice\", \"karabakh\", \"karina\", \"keyboard\", \"keyboard\", \"keys\", \"keys\", \"keys\", \"keys\", \"kidney\", \"kids\", \"kids\", \"killed\", \"killed\", \"killed\", \"kind\", \"kind\", \"kind\", \"kind\", \"kings\", \"kings\", \"know\", \"know\", \"know\", \"know\", \"know\", \"know\", \"know\", \"koresh\", \"koresh\", \"label\", \"label\", \"label\", \"label\", \"lamp\", \"lamps\", \"langley\", \"laser\", \"laser\", \"laserwriter\", \"last\", \"last\", \"last\", \"last\", \"last\", \"last\", \"last\", \"last\", \"last\", \"last\", \"last\", \"launch\", \"launched\", \"laws\", \"laws\", \"layout\", \"leafs\", \"league\", \"league\", \"left\", \"left\", \"left\", \"left\", \"left\", \"left\", \"left\", \"lemieux\", \"liar\", \"liar\", \"liberty\", \"libraries\", \"libraries\", \"library\", \"library\", \"library\", \"library\", \"license\", \"license\", \"license\", \"life\", \"life\", \"life\", \"life\", \"life\", \"life\", \"lights\", \"lights\", \"lights\", \"like\", \"like\", \"like\", \"like\", \"like\", \"like\", \"like\", \"like\", \"like\", \"like\", \"liked\", \"lindros\", \"line\", \"line\", \"line\", \"line\", \"line\", \"line\", \"line\", \"line\", \"line\", \"line\", \"lines\", \"lines\", \"lines\", \"lines\", \"lines\", \"lines\", \"lines\", \"linked\", \"linked\", \"linux\", \"lips\", \"list\", \"list\", \"list\", \"list\", \"list\", \"list\", \"list\", \"list\", \"list\", \"listening\", \"listing\", \"little\", \"little\", \"little\", \"little\", \"little\", \"little\", \"little\", \"little\", \"little\", \"logos\", \"lord\", \"lord\", \"lord\", \"losses\", \"lost\", \"lost\", \"lost\", \"lost\", \"lost\", \"lost\", \"lost\", \"lost\", \"luke\", \"lunar\", \"lunatic\", \"lyrics\", \"mack\", \"mack\", \"macs\", \"mail\", \"mail\", \"mail\", \"mail\", \"mail\", \"mail\", \"mail\", \"mail\", \"mail\", \"make\", \"make\", \"make\", \"make\", \"make\", \"make\", \"make\", \"make\", \"make\", \"make\", \"make\", \"manager\", \"manager\", \"manager\", \"manager\", \"manager\", \"manager\", \"mandate\", \"mandate\", \"mankind\", \"many\", \"many\", \"many\", \"many\", \"many\", \"many\", \"many\", \"many\", \"many\", \"many\", \"many\", \"many\", \"marker\", \"marriage\", \"mars\", \"mask\", \"mask\", \"mask\", \"mass\", \"mass\", \"mass\", \"mass\", \"mass\", \"mass\", \"mass\", \"mass\", \"materials\", \"mathcad\", \"matthew\", \"matthew\", \"maybe\", \"maybe\", \"maybe\", \"measuring\", \"medical\", \"medical\", \"medical\", \"medicine\", \"medicine\", \"medicine\", \"medicine\", \"medicine\", \"megs\", \"memory\", \"memory\", \"memory\", \"memory\", \"memory\", \"menu\", \"messiah\", \"metallic\", \"methanol\", \"mets\", \"microsoft\", \"might\", \"might\", \"might\", \"might\", \"might\", \"might\", \"might\", \"might\", \"might\", \"miles\", \"miles\", \"miles\", \"miles\", \"military\", \"military\", \"military\", \"military\", \"militia\", \"minnesota\", \"mission\", \"mission\", \"missions\", \"mode\", \"mode\", \"mode\", \"model\", \"model\", \"model\", \"model\", \"model\", \"model\", \"modem\", \"money\", \"money\", \"money\", \"money\", \"monitor\", \"monitor\", \"monitor\", \"montreal\", \"moon\", \"moon\", \"mopar\", \"moral\", \"moral\", \"morality\", \"morality\", \"mormon\", \"mormons\", \"morris\", \"morris\", \"motherboard\", \"motherboard\", \"motif\", \"motif\", \"motorcycle\", \"motorcycle\", \"motors\", \"motors\", \"mouse\", \"mouse\", \"mpeg\", \"much\", \"much\", \"much\", \"much\", \"much\", \"much\", \"much\", \"much\", \"much\", \"muslim\", \"muslim\", \"muslims\", \"muslims\", \"mussina\", \"must\", \"must\", \"must\", \"must\", \"must\", \"must\", \"must\", \"must\", \"must\", \"must\", \"must\", \"mydisplay\", \"myers\", \"nambla\", \"name\", \"name\", \"name\", \"name\", \"name\", \"name\", \"name\", \"name\", \"nasa\", \"nasa\", \"national\", \"national\", \"national\", \"national\", \"national\", \"national\", \"national\", \"nazi\", \"nazis\", \"ncsl\", \"neck\", \"need\", \"need\", \"need\", \"need\", \"need\", \"need\", \"need\", \"need\", \"need\", \"nerve\", \"netcom\", \"netcom\", \"netland\", \"neutral\", \"neutral\", \"neutral\", \"newsletter\", \"newsletter\", \"nicene\", \"nissan\", \"nist\", \"nolan\", \"nolan\", \"notebook\", \"nubus\", \"null\", \"number\", \"number\", \"number\", \"number\", \"number\", \"number\", \"number\", \"number\", \"number\", \"number\", \"number\", \"oakland\", \"oakland\", \"oakland\", \"object\", \"object\", \"object\", \"object\", \"object\", \"object\", \"object\", \"objection\", \"objective\", \"objective\", \"objective\", \"observations\", \"observations\", \"observations\", \"occurring\", \"offenses\", \"offer\", \"offer\", \"offer\", \"offer\", \"offhand\", \"office\", \"office\", \"office\", \"office\", \"office\", \"office\", \"offset\", \"omar\", \"open\", \"open\", \"open\", \"open\", \"open\", \"open\", \"open\", \"open\", \"open\", \"optimistic\", \"orbit\", \"orbital\", \"orioles\", \"orthodox\", \"orthodox\", \"osmanli\", \"others\", \"others\", \"others\", \"others\", \"others\", \"others\", \"others\", \"others\", \"ottoman\", \"outlet\", \"outlet\", \"outlets\", \"outline\", \"output\", \"output\", \"pace\", \"pack\", \"pack\", \"pack\", \"pack\", \"pack\", \"packard\", \"pagan\", \"pain\", \"pains\", \"palestinian\", \"palette\", \"palette\", \"panel\", \"panel\", \"panel\", \"panel\", \"panel\", \"pants\", \"pants\", \"paradox\", \"paranoid\", \"part\", \"part\", \"part\", \"part\", \"part\", \"part\", \"part\", \"part\", \"part\", \"part\", \"passages\", \"passages\", \"passages\", \"passion\", \"password\", \"patent\", \"patents\", \"pathfinder\", \"patient\", \"patient\", \"patient\", \"patients\", \"paul\", \"paul\", \"paul\", \"paul\", \"paul\", \"paul\", \"paul\", \"paying\", \"payload\", \"pennant\", \"pens\", \"people\", \"people\", \"people\", \"people\", \"people\", \"people\", \"people\", \"period\", \"period\", \"period\", \"period\", \"period\", \"period\", \"period\", \"person\", \"person\", \"person\", \"person\", \"person\", \"person\", \"person\", \"person\", \"person\", \"peter\", \"peter\", \"peter\", \"peter\", \"peter\", \"philadelphia\", \"philadelphia\", \"phillies\", \"phillies\", \"phils\", \"phone\", \"phone\", \"phone\", \"phone\", \"phone\", \"phone\", \"phone\", \"phone\", \"phone\", \"phones\", \"photography\", \"photography\", \"picture\", \"picture\", \"picture\", \"picture\", \"picture\", \"picture\", \"picture\", \"picture\", \"picture\", \"pictures\", \"pictures\", \"pictures\", \"pictures\", \"pictures\", \"pistol\", \"pitched\", \"pitcher\", \"pitching\", \"pittsburgh\", \"pittsburgh\", \"pixels\", \"pixmap\", \"plaintext\", \"planetary\", \"plants\", \"plastic\", \"platforms\", \"platforms\", \"play\", \"play\", \"play\", \"play\", \"play\", \"play\", \"played\", \"played\", \"played\", \"player\", \"player\", \"player\", \"players\", \"playoff\", \"playoffs\", \"please\", \"please\", \"please\", \"please\", \"please\", \"please\", \"please\", \"please\", \"pliers\", \"plugs\", \"point\", \"point\", \"point\", \"point\", \"point\", \"point\", \"point\", \"point\", \"point\", \"point\", \"pointer\", \"points\", \"points\", \"points\", \"points\", \"points\", \"points\", \"points\", \"points\", \"points\", \"police\", \"police\", \"police\", \"poly\", \"polygon\", \"pope\", \"population\", \"population\", \"population\", \"population\", \"port\", \"port\", \"ports\", \"pour\", \"power\", \"power\", \"power\", \"power\", \"power\", \"power\", \"power\", \"powerpc\", \"practically\", \"premises\", \"president\", \"president\", \"president\", \"president\", \"pretty\", \"pretty\", \"pretty\", \"pretty\", \"price\", \"price\", \"price\", \"price\", \"price\", \"price\", \"prices\", \"prices\", \"priest\", \"priest\", \"priest\", \"print\", \"print\", \"printer\", \"printer\", \"printers\", \"printers\", \"printf\", \"printing\", \"printing\", \"prints\", \"privacy\", \"privacy\", \"privacy\", \"private\", \"private\", \"private\", \"private\", \"private\", \"private\", \"probably\", \"probably\", \"probably\", \"probably\", \"probably\", \"probably\", \"probably\", \"probably\", \"probably\", \"probably\", \"probably\", \"problem\", \"problem\", \"problem\", \"problem\", \"problem\", \"problem\", \"problem\", \"problem\", \"problem\", \"processor\", \"processor\", \"processor\", \"professor\", \"professor\", \"professor\", \"professor\", \"profile\", \"program\", \"program\", \"program\", \"program\", \"programmable\", \"programmers\", \"progressive\", \"progressive\", \"projected\", \"prophecy\", \"prophet\", \"prophet\", \"propulsion\", \"protect\", \"protect\", \"protect\", \"protect\", \"protect\", \"protein\", \"psalm\", \"public\", \"public\", \"public\", \"public\", \"public\", \"public\", \"public\", \"puck\", \"punisher\", \"punishment\", \"punishment\", \"qemm\", \"quadra\", \"quantization\", \"question\", \"question\", \"question\", \"question\", \"question\", \"question\", \"quicker\", \"radar\", \"radar\", \"radar\", \"radius\", \"radius\", \"radius\", \"random\", \"random\", \"random\", \"rangers\", \"rate\", \"rate\", \"rate\", \"rate\", \"rate\", \"rates\", \"rates\", \"rates\", \"reactions\", \"read\", \"read\", \"read\", \"read\", \"read\", \"read\", \"read\", \"read\", \"really\", \"really\", \"really\", \"really\", \"really\", \"really\", \"rebuild\", \"rebuild\", \"rectangle\", \"rectangle\", \"reds\", \"reds\", \"refund\", \"religion\", \"religion\", \"religions\", \"religions\", \"religious\", \"religious\", \"religious\", \"remember\", \"remember\", \"remember\", \"remember\", \"remember\", \"repair\", \"report\", \"report\", \"report\", \"report\", \"report\", \"report\", \"report\", \"republic\", \"republicans\", \"request\", \"request\", \"request\", \"request\", \"requests\", \"requests\", \"research\", \"research\", \"research\", \"research\", \"research\", \"reset\", \"restaurants\", \"restore\", \"restore\", \"restraint\", \"resurrection\", \"return\", \"return\", \"return\", \"return\", \"return\", \"return\", \"return\", \"return\", \"revelation\", \"revelation\", \"rider\", \"rider\", \"rider\", \"right\", \"right\", \"right\", \"right\", \"right\", \"right\", \"right\", \"right\", \"rights\", \"rights\", \"rights\", \"rights\", \"rights\", \"rights\", \"rings\", \"ripem\", \"risc\", \"risc\", \"rkba\", \"rlogin\", \"robinson\", \"rockefeller\", \"romans\", \"rotation\", \"rotation\", \"rows\", \"rtrace\", \"runner\", \"rushdie\", \"russian\", \"russian\", \"saab\", \"sabbath\", \"said\", \"said\", \"said\", \"said\", \"said\", \"said\", \"said\", \"sale\", \"salvation\", \"salvation\", \"satan\", \"satan\", \"satellite\", \"satellites\", \"saved\", \"saved\", \"saved\", \"saved\", \"saved\", \"saved\", \"says\", \"says\", \"says\", \"says\", \"says\", \"says\", \"schism\", \"science\", \"science\", \"scientific\", \"scientific\", \"scientific\", \"score\", \"scored\", \"scorer\", \"scores\", \"scores\", \"scoring\", \"screen\", \"screen\", \"screen\", \"screw\", \"screw\", \"screw\", \"script\", \"scripture\", \"scripture\", \"scriptures\", \"scriptures\", \"scriptures\", \"scsi\", \"seagate\", \"seal\", \"seal\", \"season\", \"second\", \"second\", \"second\", \"second\", \"second\", \"second\", \"second\", \"second\", \"second\", \"second\", \"secret\", \"secret\", \"secret\", \"secret\", \"sect\", \"secure\", \"secure\", \"secure\", \"security\", \"security\", \"security\", \"security\", \"security\", \"sell\", \"sell\", \"sell\", \"sell\", \"sell\", \"selling\", \"selling\", \"selling\", \"send\", \"send\", \"send\", \"send\", \"send\", \"send\", \"send\", \"send\", \"send\", \"sender\", \"senior\", \"senior\", \"serdar\", \"serial\", \"serial\", \"serial\", \"series\", \"series\", \"series\", \"series\", \"series\", \"series\", \"series\", \"series\", \"series\", \"server\", \"server\", \"server\", \"shall\", \"shall\", \"shameful\", \"shar\", \"sharks\", \"shell\", \"shell\", \"shell\", \"shine\", \"shipping\", \"shipping\", \"shipping\", \"shit\", \"shuttle\", \"siggraph\", \"simm\", \"simms\", \"simpler\", \"since\", \"since\", \"since\", \"since\", \"since\", \"since\", \"since\", \"since\", \"since\", \"since\", \"since\", \"since\", \"sites\", \"sites\", \"sites\", \"size\", \"size\", \"size\", \"size\", \"size\", \"size\", \"size\", \"skepticism\", \"skipjack\", \"sleeve\", \"slots\", \"smartdrv\", \"smiley\", \"smiley\", \"society\", \"society\", \"society\", \"society\", \"software\", \"software\", \"software\", \"solar\", \"solar\", \"sold\", \"sold\", \"sold\", \"sold\", \"soldiers\", \"someone\", \"someone\", \"someone\", \"someone\", \"someone\", \"someone\", \"someone\", \"something\", \"something\", \"something\", \"something\", \"something\", \"souls\", \"source\", \"source\", \"source\", \"source\", \"source\", \"source\", \"source\", \"source\", \"source\", \"soviet\", \"soviet\", \"space\", \"space\", \"space\", \"space\", \"space\", \"space\", \"space\", \"spacecraft\", \"spending\", \"sphere\", \"spirit\", \"spirit\", \"spirit\", \"spirit\", \"sport\", \"ssto\", \"stanley\", \"started\", \"started\", \"started\", \"started\", \"started\", \"state\", \"state\", \"state\", \"state\", \"state\", \"state\", \"state\", \"state\", \"states\", \"states\", \"states\", \"states\", \"states\", \"states\", \"static\", \"steam\", \"steering\", \"stephen\", \"stephen\", \"stephen\", \"stereo\", \"still\", \"still\", \"still\", \"still\", \"still\", \"still\", \"still\", \"still\", \"still\", \"stones\", \"stones\", \"stones\", \"streak\", \"stream\", \"stream\", \"stream\", \"string\", \"string\", \"strong\", \"strong\", \"strong\", \"strong\", \"strong\", \"strong\", \"strong\", \"strong\", \"stty\", \"studies\", \"studies\", \"studies\", \"studies\", \"studies\", \"stupid\", \"stupid\", \"sturdy\", \"subject\", \"subject\", \"subject\", \"subject\", \"subject\", \"subject\", \"subject\", \"subject\", \"subject\", \"subject\", \"subjects\", \"suck\", \"sumgait\", \"summaries\", \"sunday\", \"sunday\", \"sunday\", \"sunday\", \"sunday\", \"supply\", \"supply\", \"supply\", \"supply\", \"supreme\", \"supreme\", \"sure\", \"sure\", \"sure\", \"sure\", \"sure\", \"sure\", \"sure\", \"sure\", \"surgery\", \"surgery\", \"surprised\", \"suspicious\", \"suspicious\", \"sutcliffe\", \"svga\", \"symbol\", \"symbol\", \"symbol\", \"symmetric\", \"symptoms\", \"symptoms\", \"sync\", \"syndrome\", \"system\", \"system\", \"system\", \"system\", \"system\", \"system\", \"system\", \"system\", \"system\", \"system\", \"system\", \"take\", \"take\", \"take\", \"take\", \"take\", \"take\", \"take\", \"take\", \"take\", \"talked\", \"tapes\", \"targa\", \"taste\", \"team\", \"team\", \"teams\", \"teams\", \"technician\", \"technician\", \"technology\", \"technology\", \"technology\", \"technology\", \"technology\", \"telescope\", \"temp\", \"temple\", \"terminals\", \"testament\", \"thanks\", \"thanks\", \"thanks\", \"thanks\", \"thanks\", \"thanks\", \"thanks\", \"thanks\", \"thee\", \"theists\", \"theories\", \"theory\", \"theory\", \"theory\", \"theory\", \"theory\", \"theory\", \"therefore\", \"therefore\", \"therefore\", \"therefore\", \"therefore\", \"therefore\", \"therefore\", \"theta\", \"thief\", \"thing\", \"thing\", \"thing\", \"thing\", \"thing\", \"thing\", \"thing\", \"things\", \"things\", \"things\", \"things\", \"things\", \"things\", \"things\", \"think\", \"think\", \"think\", \"think\", \"think\", \"think\", \"third\", \"third\", \"third\", \"third\", \"third\", \"third\", \"third\", \"third\", \"third\", \"third\", \"third\", \"third\", \"thought\", \"thought\", \"thought\", \"thought\", \"thought\", \"thought\", \"thought\", \"thumbs\", \"tiff\", \"tigers\", \"time\", \"time\", \"time\", \"time\", \"time\", \"time\", \"time\", \"time\", \"time\", \"time\", \"time\", \"time\", \"timer\", \"tires\", \"tissue\", \"tobacco\", \"told\", \"told\", \"told\", \"told\", \"toner\", \"toolkit\", \"toolkits\", \"toplevel\", \"toronto\", \"toronto\", \"transfers\", \"transfers\", \"transformer\", \"treat\", \"treatment\", \"treatment\", \"treatment\", \"treatment\", \"treatment\", \"trees\", \"troops\", \"true\", \"true\", \"true\", \"true\", \"true\", \"true\", \"truetype\", \"truth\", \"truth\", \"truth\", \"turkey\", \"turkish\", \"turks\", \"tyre\", \"udel\", \"unclear\", \"unclear\", \"uniforms\", \"unit\", \"unit\", \"unit\", \"unit\", \"unit\", \"united\", \"united\", \"united\", \"united\", \"universe\", \"universe\", \"university\", \"university\", \"university\", \"university\", \"university\", \"university\", \"university\", \"unix\", \"unix\", \"unto\", \"upload\", \"upon\", \"upon\", \"upon\", \"upon\", \"upon\", \"upon\", \"upon\", \"used\", \"used\", \"used\", \"used\", \"used\", \"used\", \"used\", \"used\", \"used\", \"used\", \"used\", \"usenet\", \"usenet\", \"usenet\", \"usenet\", \"user\", \"user\", \"user\", \"user\", \"user\", \"using\", \"using\", \"using\", \"using\", \"using\", \"using\", \"using\", \"using\", \"using\", \"using\", \"using\", \"utopian\", \"uuencode\", \"value\", \"value\", \"value\", \"value\", \"value\", \"value\", \"value\", \"variant\", \"variant\", \"vatican\", \"vent\", \"verse\", \"verses\", \"verses\", \"version\", \"version\", \"version\", \"version\", \"version\", \"vesa\", \"victims\", \"video\", \"video\", \"video\", \"video\", \"video\", \"video\", \"views\", \"views\", \"views\", \"views\", \"villages\", \"viola\", \"vitamin\", \"voice\", \"voice\", \"voice\", \"voice\", \"voice\", \"voice\", \"voice\", \"voice\", \"voltage\", \"volvo\", \"vram\", \"wanna\", \"wanna\", \"want\", \"want\", \"want\", \"want\", \"want\", \"want\", \"want\", \"warned\", \"warrant\", \"warrant\", \"warranty\", \"washington\", \"washington\", \"washington\", \"washington\", \"water\", \"water\", \"water\", \"water\", \"wealth\", \"weapon\", \"weapon\", \"weapons\", \"weapons\", \"weapons\", \"weaver\", \"well\", \"well\", \"well\", \"well\", \"well\", \"well\", \"well\", \"well\", \"well\", \"well\", \"went\", \"went\", \"went\", \"went\", \"west\", \"west\", \"west\", \"west\", \"west\", \"west\", \"west\", \"west\", \"wheel\", \"wheel\", \"widget\", \"widget\", \"widgets\", \"width\", \"width\", \"width\", \"window\", \"window\", \"window\", \"windows\", \"windows\", \"windows\", \"windows\", \"winfield\", \"winnipeg\", \"wire\", \"wire\", \"wires\", \"wiretap\", \"wiring\", \"wolverine\", \"women\", \"women\", \"women\", \"women\", \"women\", \"word\", \"word\", \"word\", \"word\", \"word\", \"word\", \"word\", \"word\", \"word\", \"work\", \"work\", \"work\", \"work\", \"work\", \"work\", \"work\", \"work\", \"work\", \"workgroups\", \"workstation\", \"world\", \"world\", \"world\", \"world\", \"world\", \"world\", \"world\", \"world\", \"world\", \"worse\", \"worse\", \"worse\", \"worship\", \"worship\", \"worship\", \"would\", \"would\", \"would\", \"would\", \"would\", \"would\", \"would\", \"would\", \"would\", \"would\", \"would\", \"wrap\", \"wright\", \"wwii\", \"xfig\", \"xlock\", \"xservers\", \"xterm\", \"xterm\", \"yankees\", \"yassin\", \"yeah\", \"yeah\", \"year\", \"year\", \"year\", \"year\", \"year\", \"year\", \"year\", \"year\", \"years\", \"years\", \"years\", \"years\", \"years\", \"years\", \"years\", \"years\"]}, \"R\": 30, \"lambda.step\": 0.01, \"plot.opts\": {\"xlab\": \"PC1\", \"ylab\": \"PC2\"}, \"topic.order\": [2, 3, 11, 10, 7, 5, 12, 6, 18, 17, 14, 8, 13, 19, 20, 9, 4, 1, 15, 16]};\n",
       "\n",
       "function LDAvis_load_lib(url, callback){\n",
       "  var s = document.createElement('script');\n",
       "  s.src = url;\n",
       "  s.async = true;\n",
       "  s.onreadystatechange = s.onload = callback;\n",
       "  s.onerror = function(){console.warn(\"failed to load library \" + url);};\n",
       "  document.getElementsByTagName(\"head\")[0].appendChild(s);\n",
       "}\n",
       "\n",
       "if(typeof(LDAvis) !== \"undefined\"){\n",
       "   // already loaded: just create the visualization\n",
       "   !function(LDAvis){\n",
       "       new LDAvis(\"#\" + \"ldavis_el1325221191605061847992748868\", ldavis_el1325221191605061847992748868_data);\n",
       "   }(LDAvis);\n",
       "}else if(typeof define === \"function\" && define.amd){\n",
       "   // require.js is available: use it to load d3/LDAvis\n",
       "   require.config({paths: {d3: \"https://cdnjs.cloudflare.com/ajax/libs/d3/3.5.5/d3.min\"}});\n",
       "   require([\"d3\"], function(d3){\n",
       "      window.d3 = d3;\n",
       "      LDAvis_load_lib(\"https://cdn.rawgit.com/bmabey/pyLDAvis/files/ldavis.v1.0.0.js\", function(){\n",
       "        new LDAvis(\"#\" + \"ldavis_el1325221191605061847992748868\", ldavis_el1325221191605061847992748868_data);\n",
       "      });\n",
       "    });\n",
       "}else{\n",
       "    // require.js not available: dynamically load d3 & LDAvis\n",
       "    LDAvis_load_lib(\"https://cdnjs.cloudflare.com/ajax/libs/d3/3.5.5/d3.min.js\", function(){\n",
       "         LDAvis_load_lib(\"https://cdn.rawgit.com/bmabey/pyLDAvis/files/ldavis.v1.0.0.js\", function(){\n",
       "                 new LDAvis(\"#\" + \"ldavis_el1325221191605061847992748868\", ldavis_el1325221191605061847992748868_data);\n",
       "            })\n",
       "         });\n",
       "}\n",
       "</script>"
      ],
      "text/plain": [
       "<IPython.core.display.HTML object>"
      ]
     },
     "execution_count": 44,
     "metadata": {},
     "output_type": "execute_result"
    }
   ],
   "source": [
    "import pyLDAvis.gensim\n",
    "pyLDAvis.enable_notebook()\n",
    "vis = pyLDAvis.gensim.prepare(ldamodel, corpus, dictionary)\n",
    "pyLDAvis.display(vis)"
   ]
  },
  {
   "cell_type": "code",
   "execution_count": null,
   "metadata": {},
   "outputs": [],
   "source": []
  },
  {
   "cell_type": "code",
   "execution_count": null,
   "metadata": {},
   "outputs": [],
   "source": []
  },
  {
   "cell_type": "code",
   "execution_count": null,
   "metadata": {},
   "outputs": [],
   "source": []
  },
  {
   "cell_type": "code",
   "execution_count": null,
   "metadata": {},
   "outputs": [],
   "source": []
  },
  {
   "cell_type": "code",
   "execution_count": null,
   "metadata": {},
   "outputs": [],
   "source": []
  }
 ],
 "metadata": {
  "anaconda-cloud": {},
  "kernelspec": {
   "display_name": "Python 3",
   "language": "python",
   "name": "python3"
  },
  "language_info": {
   "codemirror_mode": {
    "name": "ipython",
    "version": 3
   },
   "file_extension": ".py",
   "mimetype": "text/x-python",
   "name": "python",
   "nbconvert_exporter": "python",
   "pygments_lexer": "ipython3",
   "version": "3.7.4"
  }
 },
 "nbformat": 4,
 "nbformat_minor": 1
}
