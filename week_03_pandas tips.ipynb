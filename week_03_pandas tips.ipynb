{
 "cells": [
  {
   "cell_type": "code",
   "execution_count": 1,
   "metadata": {},
   "outputs": [],
   "source": [
    "from IPython.core.interactiveshell import InteractiveShell\n",
    "InteractiveShell.ast_node_interactivity = \"all\""
   ]
  },
  {
   "cell_type": "code",
   "execution_count": 2,
   "metadata": {},
   "outputs": [],
   "source": [
    "x =10"
   ]
  },
  {
   "cell_type": "code",
   "execution_count": 3,
   "metadata": {},
   "outputs": [
    {
     "data": {
      "text/plain": [
       "10"
      ]
     },
     "execution_count": 3,
     "metadata": {},
     "output_type": "execute_result"
    }
   ],
   "source": [
    "x "
   ]
  },
  {
   "cell_type": "code",
   "execution_count": 4,
   "metadata": {},
   "outputs": [
    {
     "data": {
      "text/plain": [
       "140730453238448"
      ]
     },
     "execution_count": 4,
     "metadata": {},
     "output_type": "execute_result"
    }
   ],
   "source": [
    "id(x)"
   ]
  },
  {
   "cell_type": "code",
   "execution_count": 5,
   "metadata": {},
   "outputs": [],
   "source": [
    "x = '노래가사'"
   ]
  },
  {
   "cell_type": "code",
   "execution_count": 6,
   "metadata": {},
   "outputs": [
    {
     "data": {
      "text/plain": [
       "'노래가사'"
      ]
     },
     "execution_count": 6,
     "metadata": {},
     "output_type": "execute_result"
    }
   ],
   "source": [
    "x"
   ]
  },
  {
   "cell_type": "code",
   "execution_count": 7,
   "metadata": {},
   "outputs": [
    {
     "data": {
      "text/plain": [
       "2490235414928"
      ]
     },
     "execution_count": 7,
     "metadata": {},
     "output_type": "execute_result"
    }
   ],
   "source": [
    "id(x)"
   ]
  },
  {
   "cell_type": "code",
   "execution_count": 8,
   "metadata": {},
   "outputs": [
    {
     "data": {
      "text/plain": [
       "[1, 2, 3, 4, 5, 6, 7, 8, 9, 10]"
      ]
     },
     "execution_count": 8,
     "metadata": {},
     "output_type": "execute_result"
    }
   ],
   "source": [
    "[1,2,3,4,5,6,7,8,9,10]"
   ]
  },
  {
   "cell_type": "code",
   "execution_count": 9,
   "metadata": {},
   "outputs": [
    {
     "data": {
      "text/plain": [
       "list"
      ]
     },
     "execution_count": 9,
     "metadata": {},
     "output_type": "execute_result"
    }
   ],
   "source": [
    "type([1,2,3,4,5,6,7,8,9,10])"
   ]
  },
  {
   "cell_type": "code",
   "execution_count": 10,
   "metadata": {},
   "outputs": [
    {
     "data": {
      "text/plain": [
       "2490202548808"
      ]
     },
     "execution_count": 10,
     "metadata": {},
     "output_type": "execute_result"
    }
   ],
   "source": [
    "id([1,2,3,4,5,6,7,8,9,10])"
   ]
  },
  {
   "cell_type": "code",
   "execution_count": 11,
   "metadata": {},
   "outputs": [],
   "source": [
    "import numpy as np"
   ]
  },
  {
   "cell_type": "code",
   "execution_count": 12,
   "metadata": {},
   "outputs": [
    {
     "data": {
      "text/plain": [
       "array([ 1,  2,  3,  4,  5,  6,  7,  8,  9, 10])"
      ]
     },
     "execution_count": 12,
     "metadata": {},
     "output_type": "execute_result"
    }
   ],
   "source": [
    "np.array([1,2,3,4,5,6,7,8,9,10])"
   ]
  },
  {
   "cell_type": "code",
   "execution_count": 13,
   "metadata": {},
   "outputs": [
    {
     "data": {
      "text/plain": [
       "numpy.ndarray"
      ]
     },
     "execution_count": 13,
     "metadata": {},
     "output_type": "execute_result"
    }
   ],
   "source": [
    "type(np.array([1,2,3,4,5,6,7,8,9,10]))"
   ]
  },
  {
   "cell_type": "code",
   "execution_count": 14,
   "metadata": {},
   "outputs": [
    {
     "data": {
      "text/plain": [
       "55"
      ]
     },
     "execution_count": 14,
     "metadata": {},
     "output_type": "execute_result"
    }
   ],
   "source": [
    "np.array([1,2,3,4,5,6,7,8,9,10]).sum()"
   ]
  },
  {
   "cell_type": "code",
   "execution_count": 15,
   "metadata": {},
   "outputs": [],
   "source": [
    "import pandas as pd"
   ]
  },
  {
   "cell_type": "code",
   "execution_count": 16,
   "metadata": {},
   "outputs": [
    {
     "data": {
      "text/plain": [
       "array([ 1.,  2.,  3.,  4.,  5.,  6.,  7.,  8.,  9., 10.])"
      ]
     },
     "execution_count": 16,
     "metadata": {},
     "output_type": "execute_result"
    }
   ],
   "source": [
    "np.linspace(1, 10, 10)"
   ]
  },
  {
   "cell_type": "code",
   "execution_count": 17,
   "metadata": {},
   "outputs": [
    {
     "data": {
      "text/html": [
       "<div>\n",
       "<style scoped>\n",
       "    .dataframe tbody tr th:only-of-type {\n",
       "        vertical-align: middle;\n",
       "    }\n",
       "\n",
       "    .dataframe tbody tr th {\n",
       "        vertical-align: top;\n",
       "    }\n",
       "\n",
       "    .dataframe thead th {\n",
       "        text-align: right;\n",
       "    }\n",
       "</style>\n",
       "<table border=\"1\" class=\"dataframe\">\n",
       "  <thead>\n",
       "    <tr style=\"text-align: right;\">\n",
       "      <th></th>\n",
       "      <th>0</th>\n",
       "    </tr>\n",
       "  </thead>\n",
       "  <tbody>\n",
       "    <tr>\n",
       "      <th>0</th>\n",
       "      <td>1.0</td>\n",
       "    </tr>\n",
       "    <tr>\n",
       "      <th>1</th>\n",
       "      <td>2.0</td>\n",
       "    </tr>\n",
       "    <tr>\n",
       "      <th>2</th>\n",
       "      <td>3.0</td>\n",
       "    </tr>\n",
       "    <tr>\n",
       "      <th>3</th>\n",
       "      <td>4.0</td>\n",
       "    </tr>\n",
       "    <tr>\n",
       "      <th>4</th>\n",
       "      <td>5.0</td>\n",
       "    </tr>\n",
       "    <tr>\n",
       "      <th>5</th>\n",
       "      <td>6.0</td>\n",
       "    </tr>\n",
       "    <tr>\n",
       "      <th>6</th>\n",
       "      <td>7.0</td>\n",
       "    </tr>\n",
       "    <tr>\n",
       "      <th>7</th>\n",
       "      <td>8.0</td>\n",
       "    </tr>\n",
       "    <tr>\n",
       "      <th>8</th>\n",
       "      <td>9.0</td>\n",
       "    </tr>\n",
       "    <tr>\n",
       "      <th>9</th>\n",
       "      <td>10.0</td>\n",
       "    </tr>\n",
       "  </tbody>\n",
       "</table>\n",
       "</div>"
      ],
      "text/plain": [
       "      0\n",
       "0   1.0\n",
       "1   2.0\n",
       "2   3.0\n",
       "3   4.0\n",
       "4   5.0\n",
       "5   6.0\n",
       "6   7.0\n",
       "7   8.0\n",
       "8   9.0\n",
       "9  10.0"
      ]
     },
     "execution_count": 17,
     "metadata": {},
     "output_type": "execute_result"
    }
   ],
   "source": [
    "pd.DataFrame(np.linspace(1, 10, 10))"
   ]
  },
  {
   "cell_type": "code",
   "execution_count": 18,
   "metadata": {},
   "outputs": [
    {
     "data": {
      "text/plain": [
       "0    55.0\n",
       "dtype: float64"
      ]
     },
     "execution_count": 18,
     "metadata": {},
     "output_type": "execute_result"
    }
   ],
   "source": [
    "pd.DataFrame(np.linspace(1, 10, 10)).sum()"
   ]
  },
  {
   "cell_type": "code",
   "execution_count": 19,
   "metadata": {},
   "outputs": [
    {
     "data": {
      "text/plain": [
       "0     1.0\n",
       "1     2.0\n",
       "2     3.0\n",
       "3     4.0\n",
       "4     5.0\n",
       "5     6.0\n",
       "6     7.0\n",
       "7     8.0\n",
       "8     9.0\n",
       "9    10.0\n",
       "dtype: float64"
      ]
     },
     "execution_count": 19,
     "metadata": {},
     "output_type": "execute_result"
    }
   ],
   "source": [
    "pd.DataFrame(np.linspace(1, 10, 10)).sum(1)"
   ]
  },
  {
   "cell_type": "markdown",
   "metadata": {},
   "source": [
    "# 1부터 n까지 더하기"
   ]
  },
  {
   "cell_type": "markdown",
   "metadata": {},
   "source": [
    "## 방법 1"
   ]
  },
  {
   "cell_type": "code",
   "execution_count": 20,
   "metadata": {},
   "outputs": [
    {
     "data": {
      "text/plain": [
       "55"
      ]
     },
     "execution_count": 20,
     "metadata": {},
     "output_type": "execute_result"
    }
   ],
   "source": [
    "1+2+3+4+5+6+7+8+9+10"
   ]
  },
  {
   "cell_type": "markdown",
   "metadata": {},
   "source": [
    "## 방법 2"
   ]
  },
  {
   "cell_type": "code",
   "execution_count": 21,
   "metadata": {},
   "outputs": [],
   "source": [
    "mylist =[]\n",
    "\n",
    "for i in range(11):\n",
    "    mylist.append(i)"
   ]
  },
  {
   "cell_type": "code",
   "execution_count": 22,
   "metadata": {},
   "outputs": [
    {
     "data": {
      "text/plain": [
       "[0, 1, 2, 3, 4, 5, 6, 7, 8, 9, 10]"
      ]
     },
     "execution_count": 22,
     "metadata": {},
     "output_type": "execute_result"
    }
   ],
   "source": [
    "mylist"
   ]
  },
  {
   "cell_type": "code",
   "execution_count": 23,
   "metadata": {},
   "outputs": [
    {
     "ename": "AttributeError",
     "evalue": "'list' object has no attribute 'sum'",
     "output_type": "error",
     "traceback": [
      "\u001b[1;31m---------------------------------------------------------------------------\u001b[0m",
      "\u001b[1;31mAttributeError\u001b[0m                            Traceback (most recent call last)",
      "\u001b[1;32m<ipython-input-23-f33ab3563213>\u001b[0m in \u001b[0;36m<module>\u001b[1;34m\u001b[0m\n\u001b[1;32m----> 1\u001b[1;33m \u001b[0mmylist\u001b[0m\u001b[1;33m.\u001b[0m\u001b[0msum\u001b[0m\u001b[1;33m(\u001b[0m\u001b[1;33m)\u001b[0m\u001b[1;33m\u001b[0m\u001b[1;33m\u001b[0m\u001b[0m\n\u001b[0m",
      "\u001b[1;31mAttributeError\u001b[0m: 'list' object has no attribute 'sum'"
     ]
    }
   ],
   "source": [
    "mylist.sum()"
   ]
  },
  {
   "cell_type": "code",
   "execution_count": 24,
   "metadata": {},
   "outputs": [
    {
     "data": {
      "text/plain": [
       "55"
      ]
     },
     "execution_count": 24,
     "metadata": {},
     "output_type": "execute_result"
    }
   ],
   "source": [
    "sum(mylist)"
   ]
  },
  {
   "cell_type": "code",
   "execution_count": 25,
   "metadata": {
    "scrolled": true
   },
   "outputs": [
    {
     "data": {
      "text/plain": [
       "array([ 0,  1,  2,  3,  4,  5,  6,  7,  8,  9, 10])"
      ]
     },
     "execution_count": 25,
     "metadata": {},
     "output_type": "execute_result"
    }
   ],
   "source": [
    "np.array(mylist)"
   ]
  },
  {
   "cell_type": "code",
   "execution_count": 26,
   "metadata": {},
   "outputs": [
    {
     "data": {
      "text/plain": [
       "55"
      ]
     },
     "execution_count": 26,
     "metadata": {},
     "output_type": "execute_result"
    }
   ],
   "source": [
    "np.array(mylist).sum()"
   ]
  },
  {
   "cell_type": "markdown",
   "metadata": {},
   "source": [
    "## 방법3"
   ]
  },
  {
   "cell_type": "code",
   "execution_count": 27,
   "metadata": {},
   "outputs": [
    {
     "name": "stdout",
     "output_type": "stream",
     "text": [
      "[0, 1, 2, 3, 4, 5, 6, 7, 8, 9, 10]\n"
     ]
    }
   ],
   "source": [
    "print([i for i in range(11)])"
   ]
  },
  {
   "cell_type": "code",
   "execution_count": 28,
   "metadata": {},
   "outputs": [
    {
     "name": "stdout",
     "output_type": "stream",
     "text": [
      "[ 0  1  2  3  4  5  6  7  8  9 10]\n"
     ]
    }
   ],
   "source": [
    "print(np.array([i for i in range(11)]))"
   ]
  },
  {
   "cell_type": "code",
   "execution_count": 29,
   "metadata": {},
   "outputs": [
    {
     "name": "stdout",
     "output_type": "stream",
     "text": [
      "<built-in method sum of numpy.ndarray object at 0x00000243E5D3E8A0>\n"
     ]
    }
   ],
   "source": [
    "print(np.array([i for i in range(11)]).sum)"
   ]
  },
  {
   "cell_type": "code",
   "execution_count": 30,
   "metadata": {},
   "outputs": [
    {
     "name": "stdout",
     "output_type": "stream",
     "text": [
      "55\n"
     ]
    }
   ],
   "source": [
    "print(np.array([i for i in range(11)]).sum())"
   ]
  },
  {
   "cell_type": "code",
   "execution_count": 31,
   "metadata": {},
   "outputs": [
    {
     "ename": "ValueError",
     "evalue": "cannot reshape array of size 11 into shape (2,5)",
     "output_type": "error",
     "traceback": [
      "\u001b[1;31m---------------------------------------------------------------------------\u001b[0m",
      "\u001b[1;31mValueError\u001b[0m                                Traceback (most recent call last)",
      "\u001b[1;32m<ipython-input-31-7563ef51e69b>\u001b[0m in \u001b[0;36m<module>\u001b[1;34m\u001b[0m\n\u001b[1;32m----> 1\u001b[1;33m \u001b[0mnp\u001b[0m\u001b[1;33m.\u001b[0m\u001b[0marray\u001b[0m\u001b[1;33m(\u001b[0m\u001b[1;33m[\u001b[0m\u001b[0mi\u001b[0m \u001b[1;32mfor\u001b[0m \u001b[0mi\u001b[0m \u001b[1;32min\u001b[0m \u001b[0mrange\u001b[0m\u001b[1;33m(\u001b[0m\u001b[1;36m11\u001b[0m\u001b[1;33m)\u001b[0m\u001b[1;33m]\u001b[0m\u001b[1;33m)\u001b[0m\u001b[1;33m.\u001b[0m\u001b[0mreshape\u001b[0m\u001b[1;33m(\u001b[0m\u001b[1;36m2\u001b[0m\u001b[1;33m,\u001b[0m\u001b[1;36m5\u001b[0m\u001b[1;33m)\u001b[0m\u001b[1;33m\u001b[0m\u001b[1;33m\u001b[0m\u001b[0m\n\u001b[0m",
      "\u001b[1;31mValueError\u001b[0m: cannot reshape array of size 11 into shape (2,5)"
     ]
    }
   ],
   "source": [
    "np.array([i for i in range(11)]).reshape(2,5)"
   ]
  },
  {
   "cell_type": "code",
   "execution_count": 32,
   "metadata": {},
   "outputs": [
    {
     "data": {
      "text/plain": [
       "array([[0, 1, 2, 3, 4],\n",
       "       [5, 6, 7, 8, 9]])"
      ]
     },
     "execution_count": 32,
     "metadata": {},
     "output_type": "execute_result"
    }
   ],
   "source": [
    "np.array([i for i in range(10)]).reshape(2,5)"
   ]
  },
  {
   "cell_type": "code",
   "execution_count": 33,
   "metadata": {},
   "outputs": [
    {
     "data": {
      "text/plain": [
       "55"
      ]
     },
     "execution_count": 33,
     "metadata": {},
     "output_type": "execute_result"
    }
   ],
   "source": [
    "np.array([i for i in range(11)]).sum()"
   ]
  },
  {
   "cell_type": "code",
   "execution_count": 34,
   "metadata": {},
   "outputs": [
    {
     "data": {
      "text/plain": [
       "array([1, 2, 3, 4, 5])"
      ]
     },
     "execution_count": 34,
     "metadata": {},
     "output_type": "execute_result"
    }
   ],
   "source": [
    "np.array([1,2,3,4,5])"
   ]
  },
  {
   "cell_type": "code",
   "execution_count": 35,
   "metadata": {},
   "outputs": [
    {
     "data": {
      "text/plain": [
       "numpy.ndarray"
      ]
     },
     "execution_count": 35,
     "metadata": {},
     "output_type": "execute_result"
    }
   ],
   "source": [
    "type(np.array([1,2,3,4,5]))"
   ]
  },
  {
   "cell_type": "code",
   "execution_count": 36,
   "metadata": {},
   "outputs": [
    {
     "name": "stdout",
     "output_type": "stream",
     "text": [
      "[1 2 3 4 5]\n"
     ]
    }
   ],
   "source": [
    "print(np.array([1,2,3,4,5]))"
   ]
  },
  {
   "cell_type": "code",
   "execution_count": 37,
   "metadata": {},
   "outputs": [
    {
     "name": "stdout",
     "output_type": "stream",
     "text": [
      "[1 2 3 4 5]\n"
     ]
    },
    {
     "data": {
      "text/plain": [
       "NoneType"
      ]
     },
     "execution_count": 37,
     "metadata": {},
     "output_type": "execute_result"
    }
   ],
   "source": [
    "type(print(np.array([1,2,3,4,5])))"
   ]
  },
  {
   "cell_type": "markdown",
   "metadata": {},
   "source": [
    "## 방법4"
   ]
  },
  {
   "cell_type": "code",
   "execution_count": 38,
   "metadata": {},
   "outputs": [
    {
     "name": "stdout",
     "output_type": "stream",
     "text": [
      "0\n",
      "1\n",
      "2\n",
      "3\n",
      "4\n",
      "5\n",
      "6\n",
      "7\n",
      "8\n",
      "9\n"
     ]
    }
   ],
   "source": [
    "sum = 0\n",
    "i = 0\n",
    "for i in range(10):\n",
    "    print(i)\n",
    "    sum =+ i"
   ]
  },
  {
   "cell_type": "code",
   "execution_count": 39,
   "metadata": {},
   "outputs": [
    {
     "data": {
      "text/plain": [
       "9"
      ]
     },
     "execution_count": 39,
     "metadata": {},
     "output_type": "execute_result"
    }
   ],
   "source": [
    "sum"
   ]
  },
  {
   "cell_type": "code",
   "execution_count": 40,
   "metadata": {
    "scrolled": true
   },
   "outputs": [
    {
     "name": "stdout",
     "output_type": "stream",
     "text": [
      "0\n",
      "0\n",
      "****************************************************************************************************\n",
      "1\n",
      "1\n",
      "****************************************************************************************************\n",
      "2\n",
      "3\n",
      "****************************************************************************************************\n",
      "3\n",
      "6\n",
      "****************************************************************************************************\n",
      "4\n",
      "10\n",
      "****************************************************************************************************\n",
      "5\n",
      "15\n",
      "****************************************************************************************************\n",
      "6\n",
      "21\n",
      "****************************************************************************************************\n",
      "7\n",
      "28\n",
      "****************************************************************************************************\n",
      "8\n",
      "36\n",
      "****************************************************************************************************\n",
      "9\n",
      "45\n",
      "****************************************************************************************************\n",
      "10\n",
      "55\n",
      "****************************************************************************************************\n"
     ]
    }
   ],
   "source": [
    "sum = 0\n",
    "\n",
    "for i in range(11):\n",
    "    print(i)\n",
    "    sum = sum +i\n",
    "    print(sum)\n",
    "    print('*'*100)"
   ]
  },
  {
   "cell_type": "markdown",
   "metadata": {},
   "source": [
    "## 방법5"
   ]
  },
  {
   "cell_type": "code",
   "execution_count": 41,
   "metadata": {},
   "outputs": [],
   "source": [
    "def add(x):\n",
    "    sum=0\n",
    "    for i in range(x):\n",
    "        sum = sum + i \n",
    "        \n",
    "    return sum"
   ]
  },
  {
   "cell_type": "code",
   "execution_count": 42,
   "metadata": {},
   "outputs": [
    {
     "data": {
      "text/plain": [
       "55"
      ]
     },
     "execution_count": 42,
     "metadata": {},
     "output_type": "execute_result"
    }
   ],
   "source": [
    "add(11)"
   ]
  },
  {
   "cell_type": "code",
   "execution_count": 43,
   "metadata": {},
   "outputs": [
    {
     "data": {
      "text/plain": [
       "4950"
      ]
     },
     "execution_count": 43,
     "metadata": {},
     "output_type": "execute_result"
    }
   ],
   "source": [
    "add(100)"
   ]
  },
  {
   "cell_type": "code",
   "execution_count": 44,
   "metadata": {},
   "outputs": [
    {
     "data": {
      "text/plain": [
       "1999999000000"
      ]
     },
     "execution_count": 44,
     "metadata": {},
     "output_type": "execute_result"
    }
   ],
   "source": [
    "add(2000000)"
   ]
  },
  {
   "cell_type": "markdown",
   "metadata": {},
   "source": [
    "# 짝수만 더할때 - if"
   ]
  },
  {
   "cell_type": "code",
   "execution_count": 45,
   "metadata": {},
   "outputs": [
    {
     "name": "stdout",
     "output_type": "stream",
     "text": [
      "0\n",
      "2\n",
      "4\n",
      "6\n",
      "8\n",
      "10\n"
     ]
    }
   ],
   "source": [
    "sum = 0\n",
    "\n",
    "for i in range(11):\n",
    "    if i %2 == 0:\n",
    "        print(i)\n",
    "        sum = sum +i"
   ]
  },
  {
   "cell_type": "code",
   "execution_count": 46,
   "metadata": {
    "scrolled": true
   },
   "outputs": [
    {
     "data": {
      "text/plain": [
       "30"
      ]
     },
     "execution_count": 46,
     "metadata": {},
     "output_type": "execute_result"
    }
   ],
   "source": [
    "sum"
   ]
  },
  {
   "cell_type": "code",
   "execution_count": 47,
   "metadata": {},
   "outputs": [
    {
     "data": {
      "text/plain": [
       "[0, 2, 4, 6, 8, 10]"
      ]
     },
     "execution_count": 47,
     "metadata": {},
     "output_type": "execute_result"
    }
   ],
   "source": [
    "[i for i in range(11) if i %2 == 0]"
   ]
  },
  {
   "cell_type": "code",
   "execution_count": 48,
   "metadata": {},
   "outputs": [
    {
     "data": {
      "text/plain": [
       "array([ 0,  2,  4,  6,  8, 10])"
      ]
     },
     "execution_count": 48,
     "metadata": {},
     "output_type": "execute_result"
    }
   ],
   "source": [
    "np.array([i for i in range(11) if i %2 == 0])"
   ]
  },
  {
   "cell_type": "code",
   "execution_count": 49,
   "metadata": {},
   "outputs": [
    {
     "data": {
      "text/plain": [
       "30"
      ]
     },
     "execution_count": 49,
     "metadata": {},
     "output_type": "execute_result"
    }
   ],
   "source": [
    "np.array([i for i in range(11) if i %2 == 0]).sum()"
   ]
  },
  {
   "cell_type": "markdown",
   "metadata": {},
   "source": [
    "## 형태가 같은 여러 파일을 합칠 경우"
   ]
  },
  {
   "cell_type": "code",
   "execution_count": 51,
   "metadata": {},
   "outputs": [
    {
     "data": {
      "text/plain": [
       "'d:\\\\HMOT강의\\\\scripts'"
      ]
     },
     "execution_count": 51,
     "metadata": {},
     "output_type": "execute_result"
    }
   ],
   "source": [
    "pwd"
   ]
  },
  {
   "cell_type": "code",
   "execution_count": 53,
   "metadata": {},
   "outputs": [
    {
     "data": {
      "text/plain": [
       "['etc',\n",
       " 'feature engineering',\n",
       " 'pandas-100-tricks.ipynb',\n",
       " 'pandas_Groupby Function.ipynb',\n",
       " 'script_future',\n",
       " 'script_past',\n",
       " 'summation_code.ipynb',\n",
       " 'week_02_pandas groupby love.ipynb',\n",
       " 'week_02_pandas merge.ipynb',\n",
       " 'week_02_pandas.ipynb',\n",
       " 'week_02_pandas_01.ipynb',\n",
       " 'week_02_pandas_02.ipynb',\n",
       " 'week_02_pandas_03.ipynb',\n",
       " 'week_02_pandas_04.ipynb',\n",
       " 'week_03_03.08-Aggregation-and-Grouping.ipynb',\n",
       " 'week_03_basic EDA.ipynb',\n",
       " 'week_03_case by case 01_이상치탐색.ipynb',\n",
       " 'week_03_case by case 02_이상치탐색(가우시안프로세스).ipynb',\n",
       " 'week_03_case by case 03_monte_carlo.ipynb',\n",
       " 'week_03_case by case 04_통계적 추론.ipynb',\n",
       " 'week_03_case by case 05_text mining.ipynb',\n",
       " 'week_03_pandas merge.ipynb',\n",
       " 'week_03_statistics_01.ipynb',\n",
       " 'week_03_statistics_02.ipynb',\n",
       " 'week_03_statistics_03.ipynb',\n",
       " 'whirlwind',\n",
       " '__pycache__']"
      ]
     },
     "execution_count": 53,
     "metadata": {},
     "output_type": "execute_result"
    }
   ],
   "source": [
    "from glob import glob\n",
    "glob('*')"
   ]
  },
  {
   "cell_type": "code",
   "execution_count": 58,
   "metadata": {},
   "outputs": [
    {
     "data": {
      "text/plain": [
       "['../data\\\\2015년_자전거사고다발지.csv',\n",
       " '../data\\\\2016년_자전거사고다발지.csv',\n",
       " '../data\\\\2017년_자전거사고다발지.csv']"
      ]
     },
     "execution_count": 58,
     "metadata": {},
     "output_type": "execute_result"
    }
   ],
   "source": [
    "glob('../data/*자전거*.*')"
   ]
  },
  {
   "cell_type": "code",
   "execution_count": 63,
   "metadata": {},
   "outputs": [
    {
     "data": {
      "text/plain": [
       "'../data\\\\2015년_자전거사고다발지.csv'"
      ]
     },
     "execution_count": 63,
     "metadata": {},
     "output_type": "execute_result"
    },
    {
     "data": {
      "text/plain": [
       "['../data', '2015년_자전거사고다발지.csv']"
      ]
     },
     "execution_count": 63,
     "metadata": {},
     "output_type": "execute_result"
    },
    {
     "data": {
      "text/plain": [
       "'2015년_자전거사고다발지.csv'"
      ]
     },
     "execution_count": 63,
     "metadata": {},
     "output_type": "execute_result"
    },
    {
     "data": {
      "text/plain": [
       "'2015년_자전거사고다발지'"
      ]
     },
     "execution_count": 63,
     "metadata": {},
     "output_type": "execute_result"
    },
    {
     "data": {
      "text/plain": [
       "'../data\\\\2016년_자전거사고다발지.csv'"
      ]
     },
     "execution_count": 63,
     "metadata": {},
     "output_type": "execute_result"
    },
    {
     "data": {
      "text/plain": [
       "['../data', '2016년_자전거사고다발지.csv']"
      ]
     },
     "execution_count": 63,
     "metadata": {},
     "output_type": "execute_result"
    },
    {
     "data": {
      "text/plain": [
       "'2016년_자전거사고다발지.csv'"
      ]
     },
     "execution_count": 63,
     "metadata": {},
     "output_type": "execute_result"
    },
    {
     "data": {
      "text/plain": [
       "'2016년_자전거사고다발지'"
      ]
     },
     "execution_count": 63,
     "metadata": {},
     "output_type": "execute_result"
    },
    {
     "data": {
      "text/plain": [
       "'../data\\\\2017년_자전거사고다발지.csv'"
      ]
     },
     "execution_count": 63,
     "metadata": {},
     "output_type": "execute_result"
    },
    {
     "data": {
      "text/plain": [
       "['../data', '2017년_자전거사고다발지.csv']"
      ]
     },
     "execution_count": 63,
     "metadata": {},
     "output_type": "execute_result"
    },
    {
     "data": {
      "text/plain": [
       "'2017년_자전거사고다발지.csv'"
      ]
     },
     "execution_count": 63,
     "metadata": {},
     "output_type": "execute_result"
    },
    {
     "data": {
      "text/plain": [
       "'2017년_자전거사고다발지'"
      ]
     },
     "execution_count": 63,
     "metadata": {},
     "output_type": "execute_result"
    }
   ],
   "source": [
    "for i in glob('../data/*자전거*.*'):\n",
    "    i\n",
    "    i.split('\\\\')\n",
    "    i.split('\\\\')[1]\n",
    "    i.split('\\\\')[1].split('.')[0]"
   ]
  },
  {
   "cell_type": "code",
   "execution_count": 71,
   "metadata": {},
   "outputs": [
    {
     "data": {
      "text/html": [
       "<div>\n",
       "<style scoped>\n",
       "    .dataframe tbody tr th:only-of-type {\n",
       "        vertical-align: middle;\n",
       "    }\n",
       "\n",
       "    .dataframe tbody tr th {\n",
       "        vertical-align: top;\n",
       "    }\n",
       "\n",
       "    .dataframe thead th {\n",
       "        text-align: right;\n",
       "    }\n",
       "</style>\n",
       "<table border=\"1\" class=\"dataframe\">\n",
       "  <thead>\n",
       "    <tr style=\"text-align: right;\">\n",
       "      <th></th>\n",
       "      <th>다발지식별자</th>\n",
       "      <th>다발지그룹식별자</th>\n",
       "      <th>법정동코드</th>\n",
       "      <th>스팟코드</th>\n",
       "      <th>관할경찰서</th>\n",
       "      <th>다발지명</th>\n",
       "      <th>발생건수</th>\n",
       "      <th>사상자수</th>\n",
       "      <th>사망자수</th>\n",
       "      <th>중상자수</th>\n",
       "      <th>경상자수</th>\n",
       "      <th>부상신고자수</th>\n",
       "      <th>경도</th>\n",
       "      <th>위도</th>\n",
       "      <th>다발지역폴리곤</th>\n",
       "    </tr>\n",
       "  </thead>\n",
       "  <tbody>\n",
       "    <tr>\n",
       "      <th>0</th>\n",
       "      <td>6193264</td>\n",
       "      <td>2016047</td>\n",
       "      <td>1121510500</td>\n",
       "      <td>11215011</td>\n",
       "      <td>서울특별시 광진구11</td>\n",
       "      <td>서울특별시 광진구 자양동(신자초교입구 부근)</td>\n",
       "      <td>4</td>\n",
       "      <td>4</td>\n",
       "      <td>0</td>\n",
       "      <td>3</td>\n",
       "      <td>1</td>\n",
       "      <td>0</td>\n",
       "      <td>127.076086</td>\n",
       "      <td>37.534282</td>\n",
       "      <td>{ \"type\": \"Polygon\", \"coordinates\": [ [ [ 128....</td>\n",
       "    </tr>\n",
       "    <tr>\n",
       "      <th>1</th>\n",
       "      <td>6193269</td>\n",
       "      <td>2016047</td>\n",
       "      <td>1121510500</td>\n",
       "      <td>11215012</td>\n",
       "      <td>서울특별시 광진구12</td>\n",
       "      <td>서울특별시 광진구 자양동(동부간선도로-강변북로램프(4) 부근)</td>\n",
       "      <td>4</td>\n",
       "      <td>4</td>\n",
       "      <td>0</td>\n",
       "      <td>3</td>\n",
       "      <td>1</td>\n",
       "      <td>0</td>\n",
       "      <td>127.064597</td>\n",
       "      <td>37.529759</td>\n",
       "      <td>{ \"type\": \"Polygon\", \"coordinates\": [ [ [ 126....</td>\n",
       "    </tr>\n",
       "    <tr>\n",
       "      <th>2</th>\n",
       "      <td>6176261</td>\n",
       "      <td>2016047</td>\n",
       "      <td>1121510300</td>\n",
       "      <td>11215013</td>\n",
       "      <td>서울특별시 광진구13</td>\n",
       "      <td>서울특별시 광진구 구의동(어린이대공원후문 부근)</td>\n",
       "      <td>4</td>\n",
       "      <td>4</td>\n",
       "      <td>0</td>\n",
       "      <td>3</td>\n",
       "      <td>1</td>\n",
       "      <td>0</td>\n",
       "      <td>127.090115</td>\n",
       "      <td>37.551393</td>\n",
       "      <td>{ \"type\": \"Polygon\", \"coordinates\": [ [ [ 129....</td>\n",
       "    </tr>\n",
       "    <tr>\n",
       "      <th>3</th>\n",
       "      <td>6193267</td>\n",
       "      <td>2016047</td>\n",
       "      <td>1121510400</td>\n",
       "      <td>11215014</td>\n",
       "      <td>서울특별시 광진구14</td>\n",
       "      <td>서울특별시 광진구 광장동(광장사거리 부근)</td>\n",
       "      <td>4</td>\n",
       "      <td>4</td>\n",
       "      <td>0</td>\n",
       "      <td>3</td>\n",
       "      <td>1</td>\n",
       "      <td>0</td>\n",
       "      <td>127.103341</td>\n",
       "      <td>37.545383</td>\n",
       "      <td>{ \"type\": \"Polygon\", \"coordinates\": [ [ [ 128....</td>\n",
       "    </tr>\n",
       "    <tr>\n",
       "      <th>4</th>\n",
       "      <td>6176982</td>\n",
       "      <td>2016047</td>\n",
       "      <td>1121510300</td>\n",
       "      <td>11215015</td>\n",
       "      <td>서울특별시 광진구15</td>\n",
       "      <td>서울특별시 광진구 구의동(강변북로-광나룻길램프(4) 부근)</td>\n",
       "      <td>4</td>\n",
       "      <td>4</td>\n",
       "      <td>0</td>\n",
       "      <td>1</td>\n",
       "      <td>2</td>\n",
       "      <td>1</td>\n",
       "      <td>127.098297</td>\n",
       "      <td>37.539388</td>\n",
       "      <td>{ \"type\": \"Polygon\", \"coordinates\": [ [ [ 127....</td>\n",
       "    </tr>\n",
       "  </tbody>\n",
       "</table>\n",
       "</div>"
      ],
      "text/plain": [
       "    다발지식별자  다발지그룹식별자       법정동코드      스팟코드        관할경찰서  \\\n",
       "0  6193264   2016047  1121510500  11215011  서울특별시 광진구11   \n",
       "1  6193269   2016047  1121510500  11215012  서울특별시 광진구12   \n",
       "2  6176261   2016047  1121510300  11215013  서울특별시 광진구13   \n",
       "3  6193267   2016047  1121510400  11215014  서울특별시 광진구14   \n",
       "4  6176982   2016047  1121510300  11215015  서울특별시 광진구15   \n",
       "\n",
       "                                 다발지명  발생건수  사상자수  사망자수  중상자수  경상자수  부상신고자수  \\\n",
       "0            서울특별시 광진구 자양동(신자초교입구 부근)     4     4     0     3     1       0   \n",
       "1  서울특별시 광진구 자양동(동부간선도로-강변북로램프(4) 부근)     4     4     0     3     1       0   \n",
       "2          서울특별시 광진구 구의동(어린이대공원후문 부근)     4     4     0     3     1       0   \n",
       "3             서울특별시 광진구 광장동(광장사거리 부근)     4     4     0     3     1       0   \n",
       "4    서울특별시 광진구 구의동(강변북로-광나룻길램프(4) 부근)     4     4     0     1     2       1   \n",
       "\n",
       "           경도         위도                                            다발지역폴리곤  \n",
       "0  127.076086  37.534282  { \"type\": \"Polygon\", \"coordinates\": [ [ [ 128....  \n",
       "1  127.064597  37.529759  { \"type\": \"Polygon\", \"coordinates\": [ [ [ 126....  \n",
       "2  127.090115  37.551393  { \"type\": \"Polygon\", \"coordinates\": [ [ [ 129....  \n",
       "3  127.103341  37.545383  { \"type\": \"Polygon\", \"coordinates\": [ [ [ 128....  \n",
       "4  127.098297  37.539388  { \"type\": \"Polygon\", \"coordinates\": [ [ [ 127....  "
      ]
     },
     "execution_count": 71,
     "metadata": {},
     "output_type": "execute_result"
    },
    {
     "data": {
      "text/plain": [
       "(597, 15)"
      ]
     },
     "execution_count": 71,
     "metadata": {},
     "output_type": "execute_result"
    },
    {
     "data": {
      "text/html": [
       "<div>\n",
       "<style scoped>\n",
       "    .dataframe tbody tr th:only-of-type {\n",
       "        vertical-align: middle;\n",
       "    }\n",
       "\n",
       "    .dataframe tbody tr th {\n",
       "        vertical-align: top;\n",
       "    }\n",
       "\n",
       "    .dataframe thead th {\n",
       "        text-align: right;\n",
       "    }\n",
       "</style>\n",
       "<table border=\"1\" class=\"dataframe\">\n",
       "  <thead>\n",
       "    <tr style=\"text-align: right;\">\n",
       "      <th></th>\n",
       "      <th>다발지식별자</th>\n",
       "      <th>다발지그룹식별자</th>\n",
       "      <th>법정동코드</th>\n",
       "      <th>스팟코드</th>\n",
       "      <th>관할경찰서</th>\n",
       "      <th>다발지명</th>\n",
       "      <th>발생건수</th>\n",
       "      <th>사상자수</th>\n",
       "      <th>사망자수</th>\n",
       "      <th>중상자수</th>\n",
       "      <th>경상자수</th>\n",
       "      <th>부상신고자수</th>\n",
       "      <th>경도</th>\n",
       "      <th>위도</th>\n",
       "      <th>다발지역폴리곤</th>\n",
       "    </tr>\n",
       "  </thead>\n",
       "  <tbody>\n",
       "    <tr>\n",
       "      <th>0</th>\n",
       "      <td>6302989</td>\n",
       "      <td>2017050</td>\n",
       "      <td>4729010900</td>\n",
       "      <td>47290002</td>\n",
       "      <td>경상북도 경산시2</td>\n",
       "      <td>경상북도 경산시 옥산동(카페벙커 부근)</td>\n",
       "      <td>4</td>\n",
       "      <td>4</td>\n",
       "      <td>0</td>\n",
       "      <td>2</td>\n",
       "      <td>1</td>\n",
       "      <td>1</td>\n",
       "      <td>128.729484</td>\n",
       "      <td>35.824647</td>\n",
       "      <td>{\"type\":\"Polygon\",\"coordinates\":[[[128.7316980...</td>\n",
       "    </tr>\n",
       "    <tr>\n",
       "      <th>1</th>\n",
       "      <td>6319031</td>\n",
       "      <td>2017050</td>\n",
       "      <td>4311110100</td>\n",
       "      <td>43111002</td>\n",
       "      <td>충청북도 청주시 상당구2</td>\n",
       "      <td>충청북도 청주시 상당구 영동(파리바게트 부근)</td>\n",
       "      <td>4</td>\n",
       "      <td>4</td>\n",
       "      <td>1</td>\n",
       "      <td>2</td>\n",
       "      <td>0</td>\n",
       "      <td>1</td>\n",
       "      <td>127.487318</td>\n",
       "      <td>36.636664</td>\n",
       "      <td>{\"type\":\"Polygon\",\"coordinates\":[[[127.4895554...</td>\n",
       "    </tr>\n",
       "    <tr>\n",
       "      <th>2</th>\n",
       "      <td>6315518</td>\n",
       "      <td>2017050</td>\n",
       "      <td>2720010200</td>\n",
       "      <td>27200001</td>\n",
       "      <td>대구광역시 남구1</td>\n",
       "      <td>대구광역시 남구 봉덕동(영대네거리 부근)</td>\n",
       "      <td>6</td>\n",
       "      <td>6</td>\n",
       "      <td>0</td>\n",
       "      <td>2</td>\n",
       "      <td>2</td>\n",
       "      <td>2</td>\n",
       "      <td>128.590625</td>\n",
       "      <td>35.845414</td>\n",
       "      <td>{\"type\":\"Polygon\",\"coordinates\":[[[128.5928396...</td>\n",
       "    </tr>\n",
       "    <tr>\n",
       "      <th>3</th>\n",
       "      <td>6315519</td>\n",
       "      <td>2017050</td>\n",
       "      <td>2720010300</td>\n",
       "      <td>27200002</td>\n",
       "      <td>대구광역시 남구2</td>\n",
       "      <td>대구광역시 남구 대명동(+갓바위 산골 순두부보쌈 부근)</td>\n",
       "      <td>4</td>\n",
       "      <td>4</td>\n",
       "      <td>0</td>\n",
       "      <td>2</td>\n",
       "      <td>0</td>\n",
       "      <td>2</td>\n",
       "      <td>128.590535</td>\n",
       "      <td>35.853810</td>\n",
       "      <td>{\"type\":\"Polygon\",\"coordinates\":[[[128.5927492...</td>\n",
       "    </tr>\n",
       "    <tr>\n",
       "      <th>4</th>\n",
       "      <td>6315828</td>\n",
       "      <td>2017050</td>\n",
       "      <td>2723010100</td>\n",
       "      <td>27230005</td>\n",
       "      <td>대구광역시 북구5</td>\n",
       "      <td>대구광역시 북구 칠성동1가(금강장어 부근)</td>\n",
       "      <td>6</td>\n",
       "      <td>6</td>\n",
       "      <td>0</td>\n",
       "      <td>2</td>\n",
       "      <td>4</td>\n",
       "      <td>0</td>\n",
       "      <td>128.602507</td>\n",
       "      <td>35.876505</td>\n",
       "      <td>{\"type\":\"Polygon\",\"coordinates\":[[[128.6047219...</td>\n",
       "    </tr>\n",
       "  </tbody>\n",
       "</table>\n",
       "</div>"
      ],
      "text/plain": [
       "    다발지식별자  다발지그룹식별자       법정동코드      스팟코드          관할경찰서  \\\n",
       "0  6302989   2017050  4729010900  47290002      경상북도 경산시2   \n",
       "1  6319031   2017050  4311110100  43111002  충청북도 청주시 상당구2   \n",
       "2  6315518   2017050  2720010200  27200001      대구광역시 남구1   \n",
       "3  6315519   2017050  2720010300  27200002      대구광역시 남구2   \n",
       "4  6315828   2017050  2723010100  27230005      대구광역시 북구5   \n",
       "\n",
       "                             다발지명  발생건수  사상자수  사망자수  중상자수  경상자수  부상신고자수  \\\n",
       "0           경상북도 경산시 옥산동(카페벙커 부근)     4     4     0     2     1       1   \n",
       "1       충청북도 청주시 상당구 영동(파리바게트 부근)     4     4     1     2     0       1   \n",
       "2          대구광역시 남구 봉덕동(영대네거리 부근)     6     6     0     2     2       2   \n",
       "3  대구광역시 남구 대명동(+갓바위 산골 순두부보쌈 부근)     4     4     0     2     0       2   \n",
       "4         대구광역시 북구 칠성동1가(금강장어 부근)     6     6     0     2     4       0   \n",
       "\n",
       "           경도         위도                                            다발지역폴리곤  \n",
       "0  128.729484  35.824647  {\"type\":\"Polygon\",\"coordinates\":[[[128.7316980...  \n",
       "1  127.487318  36.636664  {\"type\":\"Polygon\",\"coordinates\":[[[127.4895554...  \n",
       "2  128.590625  35.845414  {\"type\":\"Polygon\",\"coordinates\":[[[128.5928396...  \n",
       "3  128.590535  35.853810  {\"type\":\"Polygon\",\"coordinates\":[[[128.5927492...  \n",
       "4  128.602507  35.876505  {\"type\":\"Polygon\",\"coordinates\":[[[128.6047219...  "
      ]
     },
     "execution_count": 71,
     "metadata": {},
     "output_type": "execute_result"
    },
    {
     "data": {
      "text/plain": [
       "(492, 15)"
      ]
     },
     "execution_count": 71,
     "metadata": {},
     "output_type": "execute_result"
    },
    {
     "data": {
      "text/html": [
       "<div>\n",
       "<style scoped>\n",
       "    .dataframe tbody tr th:only-of-type {\n",
       "        vertical-align: middle;\n",
       "    }\n",
       "\n",
       "    .dataframe tbody tr th {\n",
       "        vertical-align: top;\n",
       "    }\n",
       "\n",
       "    .dataframe thead th {\n",
       "        text-align: right;\n",
       "    }\n",
       "</style>\n",
       "<table border=\"1\" class=\"dataframe\">\n",
       "  <thead>\n",
       "    <tr style=\"text-align: right;\">\n",
       "      <th></th>\n",
       "      <th>다발지식별자</th>\n",
       "      <th>다발지그룹식별자</th>\n",
       "      <th>법정동코드</th>\n",
       "      <th>스팟코드</th>\n",
       "      <th>관할경찰서</th>\n",
       "      <th>다발지명</th>\n",
       "      <th>발생건수</th>\n",
       "      <th>사상자수</th>\n",
       "      <th>사망자수</th>\n",
       "      <th>중상자수</th>\n",
       "      <th>경상자수</th>\n",
       "      <th>부상신고자수</th>\n",
       "      <th>경도</th>\n",
       "      <th>위도</th>\n",
       "      <th>다발지역폴리곤</th>\n",
       "    </tr>\n",
       "  </thead>\n",
       "  <tbody>\n",
       "    <tr>\n",
       "      <th>0</th>\n",
       "      <td>6411461</td>\n",
       "      <td>2018032</td>\n",
       "      <td>1130510300</td>\n",
       "      <td>11305001</td>\n",
       "      <td>서울특별시 강북구1</td>\n",
       "      <td>서울특별시 강북구 수유동(수유사거리 부근)</td>\n",
       "      <td>6</td>\n",
       "      <td>6</td>\n",
       "      <td>0</td>\n",
       "      <td>3</td>\n",
       "      <td>3</td>\n",
       "      <td>0</td>\n",
       "      <td>127.024359</td>\n",
       "      <td>37.635531</td>\n",
       "      <td>{\"type\":\"Polygon\",\"coordinates\":[[[127.0266252...</td>\n",
       "    </tr>\n",
       "    <tr>\n",
       "      <th>1</th>\n",
       "      <td>6411839</td>\n",
       "      <td>2018032</td>\n",
       "      <td>1130510300</td>\n",
       "      <td>11305002</td>\n",
       "      <td>서울특별시 강북구2</td>\n",
       "      <td>서울특별시 강북구 수유동(선아트빌 부근)</td>\n",
       "      <td>6</td>\n",
       "      <td>7</td>\n",
       "      <td>0</td>\n",
       "      <td>1</td>\n",
       "      <td>6</td>\n",
       "      <td>0</td>\n",
       "      <td>127.010603</td>\n",
       "      <td>37.645888</td>\n",
       "      <td>{\"type\":\"Polygon\",\"coordinates\":[[[127.0128703...</td>\n",
       "    </tr>\n",
       "    <tr>\n",
       "      <th>2</th>\n",
       "      <td>6411840</td>\n",
       "      <td>2018032</td>\n",
       "      <td>1130510200</td>\n",
       "      <td>11305003</td>\n",
       "      <td>서울특별시 강북구3</td>\n",
       "      <td>서울특별시 강북구 번동(모아한의원 수유점 부근)</td>\n",
       "      <td>5</td>\n",
       "      <td>6</td>\n",
       "      <td>0</td>\n",
       "      <td>0</td>\n",
       "      <td>6</td>\n",
       "      <td>0</td>\n",
       "      <td>127.031468</td>\n",
       "      <td>37.635410</td>\n",
       "      <td>{\"type\":\"Polygon\",\"coordinates\":[[[127.0337346...</td>\n",
       "    </tr>\n",
       "    <tr>\n",
       "      <th>3</th>\n",
       "      <td>6411836</td>\n",
       "      <td>2018032</td>\n",
       "      <td>1130510100</td>\n",
       "      <td>11305004</td>\n",
       "      <td>서울특별시 강북구4</td>\n",
       "      <td>서울특별시 강북구 미아동(한국전력공사 강북성북지사 부근)</td>\n",
       "      <td>5</td>\n",
       "      <td>5</td>\n",
       "      <td>0</td>\n",
       "      <td>0</td>\n",
       "      <td>4</td>\n",
       "      <td>1</td>\n",
       "      <td>127.024925</td>\n",
       "      <td>37.630355</td>\n",
       "      <td>{\"type\":\"Polygon\",\"coordinates\":[[[127.0271910...</td>\n",
       "    </tr>\n",
       "    <tr>\n",
       "      <th>4</th>\n",
       "      <td>6411835</td>\n",
       "      <td>2018032</td>\n",
       "      <td>1130510300</td>\n",
       "      <td>11305005</td>\n",
       "      <td>서울특별시 강북구5</td>\n",
       "      <td>서울특별시 강북구 수유동(한신대사거리 부근)</td>\n",
       "      <td>4</td>\n",
       "      <td>7</td>\n",
       "      <td>0</td>\n",
       "      <td>3</td>\n",
       "      <td>4</td>\n",
       "      <td>0</td>\n",
       "      <td>127.015626</td>\n",
       "      <td>37.634032</td>\n",
       "      <td>{\"type\":\"Polygon\",\"coordinates\":[[[127.0178929...</td>\n",
       "    </tr>\n",
       "  </tbody>\n",
       "</table>\n",
       "</div>"
      ],
      "text/plain": [
       "    다발지식별자  다발지그룹식별자       법정동코드      스팟코드       관할경찰서  \\\n",
       "0  6411461   2018032  1130510300  11305001  서울특별시 강북구1   \n",
       "1  6411839   2018032  1130510300  11305002  서울특별시 강북구2   \n",
       "2  6411840   2018032  1130510200  11305003  서울특별시 강북구3   \n",
       "3  6411836   2018032  1130510100  11305004  서울특별시 강북구4   \n",
       "4  6411835   2018032  1130510300  11305005  서울특별시 강북구5   \n",
       "\n",
       "                              다발지명  발생건수  사상자수  사망자수  중상자수  경상자수  부상신고자수  \\\n",
       "0          서울특별시 강북구 수유동(수유사거리 부근)     6     6     0     3     3       0   \n",
       "1           서울특별시 강북구 수유동(선아트빌 부근)     6     7     0     1     6       0   \n",
       "2       서울특별시 강북구 번동(모아한의원 수유점 부근)     5     6     0     0     6       0   \n",
       "3  서울특별시 강북구 미아동(한국전력공사 강북성북지사 부근)     5     5     0     0     4       1   \n",
       "4         서울특별시 강북구 수유동(한신대사거리 부근)     4     7     0     3     4       0   \n",
       "\n",
       "           경도         위도                                            다발지역폴리곤  \n",
       "0  127.024359  37.635531  {\"type\":\"Polygon\",\"coordinates\":[[[127.0266252...  \n",
       "1  127.010603  37.645888  {\"type\":\"Polygon\",\"coordinates\":[[[127.0128703...  \n",
       "2  127.031468  37.635410  {\"type\":\"Polygon\",\"coordinates\":[[[127.0337346...  \n",
       "3  127.024925  37.630355  {\"type\":\"Polygon\",\"coordinates\":[[[127.0271910...  \n",
       "4  127.015626  37.634032  {\"type\":\"Polygon\",\"coordinates\":[[[127.0178929...  "
      ]
     },
     "execution_count": 71,
     "metadata": {},
     "output_type": "execute_result"
    },
    {
     "data": {
      "text/plain": [
       "(386, 15)"
      ]
     },
     "execution_count": 71,
     "metadata": {},
     "output_type": "execute_result"
    }
   ],
   "source": [
    "for i in glob('../data/*자전거*.*'):\n",
    "    pd.read_csv(i, encoding='euc-kr').head()\n",
    "    pd.read_csv(i, encoding='euc-kr').shape"
   ]
  },
  {
   "cell_type": "markdown",
   "metadata": {},
   "source": [
    "## 데이터프레임을 계속 쌓는다"
   ]
  },
  {
   "cell_type": "code",
   "execution_count": 69,
   "metadata": {},
   "outputs": [],
   "source": [
    "df =pd.DataFrame()\n",
    "for i in glob('../data/*자전거*.*'):\n",
    "    df = df.append(pd.read_csv(i, encoding='euc-kr'))"
   ]
  },
  {
   "cell_type": "code",
   "execution_count": 70,
   "metadata": {},
   "outputs": [
    {
     "data": {
      "text/plain": [
       "(1475, 15)"
      ]
     },
     "execution_count": 70,
     "metadata": {},
     "output_type": "execute_result"
    }
   ],
   "source": [
    "df.shape"
   ]
  },
  {
   "cell_type": "code",
   "execution_count": 72,
   "metadata": {},
   "outputs": [],
   "source": [
    "dir_path = 'D:/HMOT강의/output/'\n",
    "df.to_csv(dir_path + '자전거.csv')"
   ]
  },
  {
   "cell_type": "code",
   "execution_count": 73,
   "metadata": {},
   "outputs": [
    {
     "name": "stdout",
     "output_type": "stream",
     "text": [
      "Wall time: 34.9 ms\n"
     ]
    },
    {
     "data": {
      "text/html": [
       "<div>\n",
       "<style scoped>\n",
       "    .dataframe tbody tr th:only-of-type {\n",
       "        vertical-align: middle;\n",
       "    }\n",
       "\n",
       "    .dataframe tbody tr th {\n",
       "        vertical-align: top;\n",
       "    }\n",
       "\n",
       "    .dataframe thead th {\n",
       "        text-align: right;\n",
       "    }\n",
       "</style>\n",
       "<table border=\"1\" class=\"dataframe\">\n",
       "  <thead>\n",
       "    <tr style=\"text-align: right;\">\n",
       "      <th></th>\n",
       "      <th>Unnamed: 0</th>\n",
       "      <th>다발지식별자</th>\n",
       "      <th>다발지그룹식별자</th>\n",
       "      <th>법정동코드</th>\n",
       "      <th>스팟코드</th>\n",
       "      <th>관할경찰서</th>\n",
       "      <th>다발지명</th>\n",
       "      <th>발생건수</th>\n",
       "      <th>사상자수</th>\n",
       "      <th>사망자수</th>\n",
       "      <th>중상자수</th>\n",
       "      <th>경상자수</th>\n",
       "      <th>부상신고자수</th>\n",
       "      <th>경도</th>\n",
       "      <th>위도</th>\n",
       "      <th>다발지역폴리곤</th>\n",
       "    </tr>\n",
       "  </thead>\n",
       "  <tbody>\n",
       "    <tr>\n",
       "      <th>0</th>\n",
       "      <td>0</td>\n",
       "      <td>6193264</td>\n",
       "      <td>2016047</td>\n",
       "      <td>1121510500</td>\n",
       "      <td>11215011</td>\n",
       "      <td>서울특별시 광진구11</td>\n",
       "      <td>서울특별시 광진구 자양동(신자초교입구 부근)</td>\n",
       "      <td>4</td>\n",
       "      <td>4</td>\n",
       "      <td>0</td>\n",
       "      <td>3</td>\n",
       "      <td>1</td>\n",
       "      <td>0</td>\n",
       "      <td>127.076086</td>\n",
       "      <td>37.534282</td>\n",
       "      <td>{ \"type\": \"Polygon\", \"coordinates\": [ [ [ 128....</td>\n",
       "    </tr>\n",
       "    <tr>\n",
       "      <th>1</th>\n",
       "      <td>1</td>\n",
       "      <td>6193269</td>\n",
       "      <td>2016047</td>\n",
       "      <td>1121510500</td>\n",
       "      <td>11215012</td>\n",
       "      <td>서울특별시 광진구12</td>\n",
       "      <td>서울특별시 광진구 자양동(동부간선도로-강변북로램프(4) 부근)</td>\n",
       "      <td>4</td>\n",
       "      <td>4</td>\n",
       "      <td>0</td>\n",
       "      <td>3</td>\n",
       "      <td>1</td>\n",
       "      <td>0</td>\n",
       "      <td>127.064597</td>\n",
       "      <td>37.529759</td>\n",
       "      <td>{ \"type\": \"Polygon\", \"coordinates\": [ [ [ 126....</td>\n",
       "    </tr>\n",
       "    <tr>\n",
       "      <th>2</th>\n",
       "      <td>2</td>\n",
       "      <td>6176261</td>\n",
       "      <td>2016047</td>\n",
       "      <td>1121510300</td>\n",
       "      <td>11215013</td>\n",
       "      <td>서울특별시 광진구13</td>\n",
       "      <td>서울특별시 광진구 구의동(어린이대공원후문 부근)</td>\n",
       "      <td>4</td>\n",
       "      <td>4</td>\n",
       "      <td>0</td>\n",
       "      <td>3</td>\n",
       "      <td>1</td>\n",
       "      <td>0</td>\n",
       "      <td>127.090115</td>\n",
       "      <td>37.551393</td>\n",
       "      <td>{ \"type\": \"Polygon\", \"coordinates\": [ [ [ 129....</td>\n",
       "    </tr>\n",
       "    <tr>\n",
       "      <th>3</th>\n",
       "      <td>3</td>\n",
       "      <td>6193267</td>\n",
       "      <td>2016047</td>\n",
       "      <td>1121510400</td>\n",
       "      <td>11215014</td>\n",
       "      <td>서울특별시 광진구14</td>\n",
       "      <td>서울특별시 광진구 광장동(광장사거리 부근)</td>\n",
       "      <td>4</td>\n",
       "      <td>4</td>\n",
       "      <td>0</td>\n",
       "      <td>3</td>\n",
       "      <td>1</td>\n",
       "      <td>0</td>\n",
       "      <td>127.103341</td>\n",
       "      <td>37.545383</td>\n",
       "      <td>{ \"type\": \"Polygon\", \"coordinates\": [ [ [ 128....</td>\n",
       "    </tr>\n",
       "    <tr>\n",
       "      <th>4</th>\n",
       "      <td>4</td>\n",
       "      <td>6176982</td>\n",
       "      <td>2016047</td>\n",
       "      <td>1121510300</td>\n",
       "      <td>11215015</td>\n",
       "      <td>서울특별시 광진구15</td>\n",
       "      <td>서울특별시 광진구 구의동(강변북로-광나룻길램프(4) 부근)</td>\n",
       "      <td>4</td>\n",
       "      <td>4</td>\n",
       "      <td>0</td>\n",
       "      <td>1</td>\n",
       "      <td>2</td>\n",
       "      <td>1</td>\n",
       "      <td>127.098297</td>\n",
       "      <td>37.539388</td>\n",
       "      <td>{ \"type\": \"Polygon\", \"coordinates\": [ [ [ 127....</td>\n",
       "    </tr>\n",
       "    <tr>\n",
       "      <th>...</th>\n",
       "      <td>...</td>\n",
       "      <td>...</td>\n",
       "      <td>...</td>\n",
       "      <td>...</td>\n",
       "      <td>...</td>\n",
       "      <td>...</td>\n",
       "      <td>...</td>\n",
       "      <td>...</td>\n",
       "      <td>...</td>\n",
       "      <td>...</td>\n",
       "      <td>...</td>\n",
       "      <td>...</td>\n",
       "      <td>...</td>\n",
       "      <td>...</td>\n",
       "      <td>...</td>\n",
       "      <td>...</td>\n",
       "    </tr>\n",
       "    <tr>\n",
       "      <th>1470</th>\n",
       "      <td>381</td>\n",
       "      <td>6411408</td>\n",
       "      <td>2018032</td>\n",
       "      <td>3114010100</td>\n",
       "      <td>31140002</td>\n",
       "      <td>울산광역시 남구2</td>\n",
       "      <td>울산광역시 남구 무거동(신복로터리 부근)</td>\n",
       "      <td>4</td>\n",
       "      <td>4</td>\n",
       "      <td>0</td>\n",
       "      <td>2</td>\n",
       "      <td>2</td>\n",
       "      <td>0</td>\n",
       "      <td>129.263182</td>\n",
       "      <td>35.549777</td>\n",
       "      <td>{\"type\":\"Polygon\",\"coordinates\":[[[129.2653878...</td>\n",
       "    </tr>\n",
       "    <tr>\n",
       "      <th>1471</th>\n",
       "      <td>382</td>\n",
       "      <td>6412798</td>\n",
       "      <td>2018032</td>\n",
       "      <td>3114010400</td>\n",
       "      <td>31140003</td>\n",
       "      <td>울산광역시 남구3</td>\n",
       "      <td>울산광역시 남구 신정동(신정공원 부근)</td>\n",
       "      <td>4</td>\n",
       "      <td>4</td>\n",
       "      <td>0</td>\n",
       "      <td>0</td>\n",
       "      <td>4</td>\n",
       "      <td>0</td>\n",
       "      <td>129.316606</td>\n",
       "      <td>35.548264</td>\n",
       "      <td>{\"type\":\"Polygon\",\"coordinates\":[[[129.3188113...</td>\n",
       "    </tr>\n",
       "    <tr>\n",
       "      <th>1472</th>\n",
       "      <td>383</td>\n",
       "      <td>6411434</td>\n",
       "      <td>2018032</td>\n",
       "      <td>2723012600</td>\n",
       "      <td>27230012</td>\n",
       "      <td>대구광역시 북구12</td>\n",
       "      <td>대구광역시 북구 태전동(태전삼거리 부근)</td>\n",
       "      <td>5</td>\n",
       "      <td>6</td>\n",
       "      <td>0</td>\n",
       "      <td>1</td>\n",
       "      <td>4</td>\n",
       "      <td>1</td>\n",
       "      <td>128.546768</td>\n",
       "      <td>35.919590</td>\n",
       "      <td>{\"type\":\"Polygon\",\"coordinates\":[[[128.5489839...</td>\n",
       "    </tr>\n",
       "    <tr>\n",
       "      <th>1473</th>\n",
       "      <td>384</td>\n",
       "      <td>6411769</td>\n",
       "      <td>2018032</td>\n",
       "      <td>2723012400</td>\n",
       "      <td>27230013</td>\n",
       "      <td>대구광역시 북구13</td>\n",
       "      <td>대구광역시 북구 동천동(ABC마트 ST 대구칠곡점 부근)</td>\n",
       "      <td>5</td>\n",
       "      <td>6</td>\n",
       "      <td>0</td>\n",
       "      <td>1</td>\n",
       "      <td>4</td>\n",
       "      <td>1</td>\n",
       "      <td>128.560578</td>\n",
       "      <td>35.942891</td>\n",
       "      <td>{\"type\":\"Polygon\",\"coordinates\":[[[128.5627955...</td>\n",
       "    </tr>\n",
       "    <tr>\n",
       "      <th>1474</th>\n",
       "      <td>385</td>\n",
       "      <td>6411214</td>\n",
       "      <td>2018032</td>\n",
       "      <td>2723011000</td>\n",
       "      <td>27230014</td>\n",
       "      <td>대구광역시 북구14</td>\n",
       "      <td>대구광역시 북구 대현동(경대교사거리 부근)</td>\n",
       "      <td>4</td>\n",
       "      <td>4</td>\n",
       "      <td>0</td>\n",
       "      <td>2</td>\n",
       "      <td>2</td>\n",
       "      <td>0</td>\n",
       "      <td>128.602258</td>\n",
       "      <td>35.886520</td>\n",
       "      <td>{\"type\":\"Polygon\",\"coordinates\":[[[128.6044739...</td>\n",
       "    </tr>\n",
       "  </tbody>\n",
       "</table>\n",
       "<p>1475 rows × 16 columns</p>\n",
       "</div>"
      ],
      "text/plain": [
       "      Unnamed: 0   다발지식별자  다발지그룹식별자       법정동코드      스팟코드        관할경찰서  \\\n",
       "0              0  6193264   2016047  1121510500  11215011  서울특별시 광진구11   \n",
       "1              1  6193269   2016047  1121510500  11215012  서울특별시 광진구12   \n",
       "2              2  6176261   2016047  1121510300  11215013  서울특별시 광진구13   \n",
       "3              3  6193267   2016047  1121510400  11215014  서울특별시 광진구14   \n",
       "4              4  6176982   2016047  1121510300  11215015  서울특별시 광진구15   \n",
       "...          ...      ...       ...         ...       ...          ...   \n",
       "1470         381  6411408   2018032  3114010100  31140002    울산광역시 남구2   \n",
       "1471         382  6412798   2018032  3114010400  31140003    울산광역시 남구3   \n",
       "1472         383  6411434   2018032  2723012600  27230012   대구광역시 북구12   \n",
       "1473         384  6411769   2018032  2723012400  27230013   대구광역시 북구13   \n",
       "1474         385  6411214   2018032  2723011000  27230014   대구광역시 북구14   \n",
       "\n",
       "                                    다발지명  발생건수  사상자수  사망자수  중상자수  경상자수  \\\n",
       "0               서울특별시 광진구 자양동(신자초교입구 부근)     4     4     0     3     1   \n",
       "1     서울특별시 광진구 자양동(동부간선도로-강변북로램프(4) 부근)     4     4     0     3     1   \n",
       "2             서울특별시 광진구 구의동(어린이대공원후문 부근)     4     4     0     3     1   \n",
       "3                서울특별시 광진구 광장동(광장사거리 부근)     4     4     0     3     1   \n",
       "4       서울특별시 광진구 구의동(강변북로-광나룻길램프(4) 부근)     4     4     0     1     2   \n",
       "...                                  ...   ...   ...   ...   ...   ...   \n",
       "1470              울산광역시 남구 무거동(신복로터리 부근)     4     4     0     2     2   \n",
       "1471               울산광역시 남구 신정동(신정공원 부근)     4     4     0     0     4   \n",
       "1472              대구광역시 북구 태전동(태전삼거리 부근)     5     6     0     1     4   \n",
       "1473     대구광역시 북구 동천동(ABC마트 ST 대구칠곡점 부근)     5     6     0     1     4   \n",
       "1474             대구광역시 북구 대현동(경대교사거리 부근)     4     4     0     2     2   \n",
       "\n",
       "      부상신고자수          경도         위도  \\\n",
       "0          0  127.076086  37.534282   \n",
       "1          0  127.064597  37.529759   \n",
       "2          0  127.090115  37.551393   \n",
       "3          0  127.103341  37.545383   \n",
       "4          1  127.098297  37.539388   \n",
       "...      ...         ...        ...   \n",
       "1470       0  129.263182  35.549777   \n",
       "1471       0  129.316606  35.548264   \n",
       "1472       1  128.546768  35.919590   \n",
       "1473       1  128.560578  35.942891   \n",
       "1474       0  128.602258  35.886520   \n",
       "\n",
       "                                                다발지역폴리곤  \n",
       "0     { \"type\": \"Polygon\", \"coordinates\": [ [ [ 128....  \n",
       "1     { \"type\": \"Polygon\", \"coordinates\": [ [ [ 126....  \n",
       "2     { \"type\": \"Polygon\", \"coordinates\": [ [ [ 129....  \n",
       "3     { \"type\": \"Polygon\", \"coordinates\": [ [ [ 128....  \n",
       "4     { \"type\": \"Polygon\", \"coordinates\": [ [ [ 127....  \n",
       "...                                                 ...  \n",
       "1470  {\"type\":\"Polygon\",\"coordinates\":[[[129.2653878...  \n",
       "1471  {\"type\":\"Polygon\",\"coordinates\":[[[129.3188113...  \n",
       "1472  {\"type\":\"Polygon\",\"coordinates\":[[[128.5489839...  \n",
       "1473  {\"type\":\"Polygon\",\"coordinates\":[[[128.5627955...  \n",
       "1474  {\"type\":\"Polygon\",\"coordinates\":[[[128.6044739...  \n",
       "\n",
       "[1475 rows x 16 columns]"
      ]
     },
     "execution_count": 73,
     "metadata": {},
     "output_type": "execute_result"
    }
   ],
   "source": [
    "%time pd.read_csv(dir_path + '자전거.csv')"
   ]
  },
  {
   "cell_type": "markdown",
   "metadata": {},
   "source": [
    "## pickle : 압축형태 판다 파일, 대용량 데이터 처리"
   ]
  },
  {
   "cell_type": "code",
   "execution_count": 77,
   "metadata": {},
   "outputs": [],
   "source": [
    "df.to_pickle(dir_path + '자전거.pkl')"
   ]
  },
  {
   "cell_type": "code",
   "execution_count": 78,
   "metadata": {},
   "outputs": [
    {
     "name": "stdout",
     "output_type": "stream",
     "text": [
      "Wall time: 6.98 ms\n"
     ]
    },
    {
     "data": {
      "text/html": [
       "<div>\n",
       "<style scoped>\n",
       "    .dataframe tbody tr th:only-of-type {\n",
       "        vertical-align: middle;\n",
       "    }\n",
       "\n",
       "    .dataframe tbody tr th {\n",
       "        vertical-align: top;\n",
       "    }\n",
       "\n",
       "    .dataframe thead th {\n",
       "        text-align: right;\n",
       "    }\n",
       "</style>\n",
       "<table border=\"1\" class=\"dataframe\">\n",
       "  <thead>\n",
       "    <tr style=\"text-align: right;\">\n",
       "      <th></th>\n",
       "      <th>다발지식별자</th>\n",
       "      <th>다발지그룹식별자</th>\n",
       "      <th>법정동코드</th>\n",
       "      <th>스팟코드</th>\n",
       "      <th>관할경찰서</th>\n",
       "      <th>다발지명</th>\n",
       "      <th>발생건수</th>\n",
       "      <th>사상자수</th>\n",
       "      <th>사망자수</th>\n",
       "      <th>중상자수</th>\n",
       "      <th>경상자수</th>\n",
       "      <th>부상신고자수</th>\n",
       "      <th>경도</th>\n",
       "      <th>위도</th>\n",
       "      <th>다발지역폴리곤</th>\n",
       "    </tr>\n",
       "  </thead>\n",
       "  <tbody>\n",
       "    <tr>\n",
       "      <th>0</th>\n",
       "      <td>6193264</td>\n",
       "      <td>2016047</td>\n",
       "      <td>1121510500</td>\n",
       "      <td>11215011</td>\n",
       "      <td>서울특별시 광진구11</td>\n",
       "      <td>서울특별시 광진구 자양동(신자초교입구 부근)</td>\n",
       "      <td>4</td>\n",
       "      <td>4</td>\n",
       "      <td>0</td>\n",
       "      <td>3</td>\n",
       "      <td>1</td>\n",
       "      <td>0</td>\n",
       "      <td>127.076086</td>\n",
       "      <td>37.534282</td>\n",
       "      <td>{ \"type\": \"Polygon\", \"coordinates\": [ [ [ 128....</td>\n",
       "    </tr>\n",
       "    <tr>\n",
       "      <th>1</th>\n",
       "      <td>6193269</td>\n",
       "      <td>2016047</td>\n",
       "      <td>1121510500</td>\n",
       "      <td>11215012</td>\n",
       "      <td>서울특별시 광진구12</td>\n",
       "      <td>서울특별시 광진구 자양동(동부간선도로-강변북로램프(4) 부근)</td>\n",
       "      <td>4</td>\n",
       "      <td>4</td>\n",
       "      <td>0</td>\n",
       "      <td>3</td>\n",
       "      <td>1</td>\n",
       "      <td>0</td>\n",
       "      <td>127.064597</td>\n",
       "      <td>37.529759</td>\n",
       "      <td>{ \"type\": \"Polygon\", \"coordinates\": [ [ [ 126....</td>\n",
       "    </tr>\n",
       "    <tr>\n",
       "      <th>2</th>\n",
       "      <td>6176261</td>\n",
       "      <td>2016047</td>\n",
       "      <td>1121510300</td>\n",
       "      <td>11215013</td>\n",
       "      <td>서울특별시 광진구13</td>\n",
       "      <td>서울특별시 광진구 구의동(어린이대공원후문 부근)</td>\n",
       "      <td>4</td>\n",
       "      <td>4</td>\n",
       "      <td>0</td>\n",
       "      <td>3</td>\n",
       "      <td>1</td>\n",
       "      <td>0</td>\n",
       "      <td>127.090115</td>\n",
       "      <td>37.551393</td>\n",
       "      <td>{ \"type\": \"Polygon\", \"coordinates\": [ [ [ 129....</td>\n",
       "    </tr>\n",
       "    <tr>\n",
       "      <th>3</th>\n",
       "      <td>6193267</td>\n",
       "      <td>2016047</td>\n",
       "      <td>1121510400</td>\n",
       "      <td>11215014</td>\n",
       "      <td>서울특별시 광진구14</td>\n",
       "      <td>서울특별시 광진구 광장동(광장사거리 부근)</td>\n",
       "      <td>4</td>\n",
       "      <td>4</td>\n",
       "      <td>0</td>\n",
       "      <td>3</td>\n",
       "      <td>1</td>\n",
       "      <td>0</td>\n",
       "      <td>127.103341</td>\n",
       "      <td>37.545383</td>\n",
       "      <td>{ \"type\": \"Polygon\", \"coordinates\": [ [ [ 128....</td>\n",
       "    </tr>\n",
       "    <tr>\n",
       "      <th>4</th>\n",
       "      <td>6176982</td>\n",
       "      <td>2016047</td>\n",
       "      <td>1121510300</td>\n",
       "      <td>11215015</td>\n",
       "      <td>서울특별시 광진구15</td>\n",
       "      <td>서울특별시 광진구 구의동(강변북로-광나룻길램프(4) 부근)</td>\n",
       "      <td>4</td>\n",
       "      <td>4</td>\n",
       "      <td>0</td>\n",
       "      <td>1</td>\n",
       "      <td>2</td>\n",
       "      <td>1</td>\n",
       "      <td>127.098297</td>\n",
       "      <td>37.539388</td>\n",
       "      <td>{ \"type\": \"Polygon\", \"coordinates\": [ [ [ 127....</td>\n",
       "    </tr>\n",
       "    <tr>\n",
       "      <th>...</th>\n",
       "      <td>...</td>\n",
       "      <td>...</td>\n",
       "      <td>...</td>\n",
       "      <td>...</td>\n",
       "      <td>...</td>\n",
       "      <td>...</td>\n",
       "      <td>...</td>\n",
       "      <td>...</td>\n",
       "      <td>...</td>\n",
       "      <td>...</td>\n",
       "      <td>...</td>\n",
       "      <td>...</td>\n",
       "      <td>...</td>\n",
       "      <td>...</td>\n",
       "      <td>...</td>\n",
       "    </tr>\n",
       "    <tr>\n",
       "      <th>381</th>\n",
       "      <td>6411408</td>\n",
       "      <td>2018032</td>\n",
       "      <td>3114010100</td>\n",
       "      <td>31140002</td>\n",
       "      <td>울산광역시 남구2</td>\n",
       "      <td>울산광역시 남구 무거동(신복로터리 부근)</td>\n",
       "      <td>4</td>\n",
       "      <td>4</td>\n",
       "      <td>0</td>\n",
       "      <td>2</td>\n",
       "      <td>2</td>\n",
       "      <td>0</td>\n",
       "      <td>129.263182</td>\n",
       "      <td>35.549777</td>\n",
       "      <td>{\"type\":\"Polygon\",\"coordinates\":[[[129.2653878...</td>\n",
       "    </tr>\n",
       "    <tr>\n",
       "      <th>382</th>\n",
       "      <td>6412798</td>\n",
       "      <td>2018032</td>\n",
       "      <td>3114010400</td>\n",
       "      <td>31140003</td>\n",
       "      <td>울산광역시 남구3</td>\n",
       "      <td>울산광역시 남구 신정동(신정공원 부근)</td>\n",
       "      <td>4</td>\n",
       "      <td>4</td>\n",
       "      <td>0</td>\n",
       "      <td>0</td>\n",
       "      <td>4</td>\n",
       "      <td>0</td>\n",
       "      <td>129.316606</td>\n",
       "      <td>35.548264</td>\n",
       "      <td>{\"type\":\"Polygon\",\"coordinates\":[[[129.3188113...</td>\n",
       "    </tr>\n",
       "    <tr>\n",
       "      <th>383</th>\n",
       "      <td>6411434</td>\n",
       "      <td>2018032</td>\n",
       "      <td>2723012600</td>\n",
       "      <td>27230012</td>\n",
       "      <td>대구광역시 북구12</td>\n",
       "      <td>대구광역시 북구 태전동(태전삼거리 부근)</td>\n",
       "      <td>5</td>\n",
       "      <td>6</td>\n",
       "      <td>0</td>\n",
       "      <td>1</td>\n",
       "      <td>4</td>\n",
       "      <td>1</td>\n",
       "      <td>128.546768</td>\n",
       "      <td>35.919590</td>\n",
       "      <td>{\"type\":\"Polygon\",\"coordinates\":[[[128.5489839...</td>\n",
       "    </tr>\n",
       "    <tr>\n",
       "      <th>384</th>\n",
       "      <td>6411769</td>\n",
       "      <td>2018032</td>\n",
       "      <td>2723012400</td>\n",
       "      <td>27230013</td>\n",
       "      <td>대구광역시 북구13</td>\n",
       "      <td>대구광역시 북구 동천동(ABC마트 ST 대구칠곡점 부근)</td>\n",
       "      <td>5</td>\n",
       "      <td>6</td>\n",
       "      <td>0</td>\n",
       "      <td>1</td>\n",
       "      <td>4</td>\n",
       "      <td>1</td>\n",
       "      <td>128.560578</td>\n",
       "      <td>35.942891</td>\n",
       "      <td>{\"type\":\"Polygon\",\"coordinates\":[[[128.5627955...</td>\n",
       "    </tr>\n",
       "    <tr>\n",
       "      <th>385</th>\n",
       "      <td>6411214</td>\n",
       "      <td>2018032</td>\n",
       "      <td>2723011000</td>\n",
       "      <td>27230014</td>\n",
       "      <td>대구광역시 북구14</td>\n",
       "      <td>대구광역시 북구 대현동(경대교사거리 부근)</td>\n",
       "      <td>4</td>\n",
       "      <td>4</td>\n",
       "      <td>0</td>\n",
       "      <td>2</td>\n",
       "      <td>2</td>\n",
       "      <td>0</td>\n",
       "      <td>128.602258</td>\n",
       "      <td>35.886520</td>\n",
       "      <td>{\"type\":\"Polygon\",\"coordinates\":[[[128.6044739...</td>\n",
       "    </tr>\n",
       "  </tbody>\n",
       "</table>\n",
       "<p>1475 rows × 15 columns</p>\n",
       "</div>"
      ],
      "text/plain": [
       "      다발지식별자  다발지그룹식별자       법정동코드      스팟코드        관할경찰서  \\\n",
       "0    6193264   2016047  1121510500  11215011  서울특별시 광진구11   \n",
       "1    6193269   2016047  1121510500  11215012  서울특별시 광진구12   \n",
       "2    6176261   2016047  1121510300  11215013  서울특별시 광진구13   \n",
       "3    6193267   2016047  1121510400  11215014  서울특별시 광진구14   \n",
       "4    6176982   2016047  1121510300  11215015  서울특별시 광진구15   \n",
       "..       ...       ...         ...       ...          ...   \n",
       "381  6411408   2018032  3114010100  31140002    울산광역시 남구2   \n",
       "382  6412798   2018032  3114010400  31140003    울산광역시 남구3   \n",
       "383  6411434   2018032  2723012600  27230012   대구광역시 북구12   \n",
       "384  6411769   2018032  2723012400  27230013   대구광역시 북구13   \n",
       "385  6411214   2018032  2723011000  27230014   대구광역시 북구14   \n",
       "\n",
       "                                   다발지명  발생건수  사상자수  사망자수  중상자수  경상자수  부상신고자수  \\\n",
       "0              서울특별시 광진구 자양동(신자초교입구 부근)     4     4     0     3     1       0   \n",
       "1    서울특별시 광진구 자양동(동부간선도로-강변북로램프(4) 부근)     4     4     0     3     1       0   \n",
       "2            서울특별시 광진구 구의동(어린이대공원후문 부근)     4     4     0     3     1       0   \n",
       "3               서울특별시 광진구 광장동(광장사거리 부근)     4     4     0     3     1       0   \n",
       "4      서울특별시 광진구 구의동(강변북로-광나룻길램프(4) 부근)     4     4     0     1     2       1   \n",
       "..                                  ...   ...   ...   ...   ...   ...     ...   \n",
       "381              울산광역시 남구 무거동(신복로터리 부근)     4     4     0     2     2       0   \n",
       "382               울산광역시 남구 신정동(신정공원 부근)     4     4     0     0     4       0   \n",
       "383              대구광역시 북구 태전동(태전삼거리 부근)     5     6     0     1     4       1   \n",
       "384     대구광역시 북구 동천동(ABC마트 ST 대구칠곡점 부근)     5     6     0     1     4       1   \n",
       "385             대구광역시 북구 대현동(경대교사거리 부근)     4     4     0     2     2       0   \n",
       "\n",
       "             경도         위도                                            다발지역폴리곤  \n",
       "0    127.076086  37.534282  { \"type\": \"Polygon\", \"coordinates\": [ [ [ 128....  \n",
       "1    127.064597  37.529759  { \"type\": \"Polygon\", \"coordinates\": [ [ [ 126....  \n",
       "2    127.090115  37.551393  { \"type\": \"Polygon\", \"coordinates\": [ [ [ 129....  \n",
       "3    127.103341  37.545383  { \"type\": \"Polygon\", \"coordinates\": [ [ [ 128....  \n",
       "4    127.098297  37.539388  { \"type\": \"Polygon\", \"coordinates\": [ [ [ 127....  \n",
       "..          ...        ...                                                ...  \n",
       "381  129.263182  35.549777  {\"type\":\"Polygon\",\"coordinates\":[[[129.2653878...  \n",
       "382  129.316606  35.548264  {\"type\":\"Polygon\",\"coordinates\":[[[129.3188113...  \n",
       "383  128.546768  35.919590  {\"type\":\"Polygon\",\"coordinates\":[[[128.5489839...  \n",
       "384  128.560578  35.942891  {\"type\":\"Polygon\",\"coordinates\":[[[128.5627955...  \n",
       "385  128.602258  35.886520  {\"type\":\"Polygon\",\"coordinates\":[[[128.6044739...  \n",
       "\n",
       "[1475 rows x 15 columns]"
      ]
     },
     "execution_count": 78,
     "metadata": {},
     "output_type": "execute_result"
    }
   ],
   "source": [
    "%time pd.read_pickle(dir_path + '자전거.pkl')"
   ]
  },
  {
   "cell_type": "markdown",
   "metadata": {},
   "source": [
    "# End"
   ]
  },
  {
   "cell_type": "code",
   "execution_count": null,
   "metadata": {},
   "outputs": [],
   "source": []
  }
 ],
 "metadata": {
  "kernelspec": {
   "display_name": "Python 3",
   "language": "python",
   "name": "python3"
  },
  "language_info": {
   "codemirror_mode": {
    "name": "ipython",
    "version": 3
   },
   "file_extension": ".py",
   "mimetype": "text/x-python",
   "name": "python",
   "nbconvert_exporter": "python",
   "pygments_lexer": "ipython3",
   "version": "3.7.4"
  }
 },
 "nbformat": 4,
 "nbformat_minor": 2
}
