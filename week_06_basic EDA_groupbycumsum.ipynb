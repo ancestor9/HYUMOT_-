{
 "cells": [
  {
   "cell_type": "markdown",
   "metadata": {},
   "source": [
    "# 데이터전처리의 방법(학습 목표)\n",
    "### 1. 확보한 자료에서 파생되는 변수를 어떻게 만들까하는 로직을 생각(로직을 최소단위로 decompose)\n",
    "### 2. 사칙연산과 반복문과 조건문을 고려하여 구현해보고(자료의 데이터 형태를 확인하면서)\n",
    "### 3. 되도록이면 파이썬에 내장된 함수를 활용(여러분이 상상하는 로직은 모두 이미 구현이 되어 있을 것임)\n",
    "### 4. 구글링을 통해 예제 검색하여 비슷한 코드로 응용하라\n",
    "### 5. 팀내에서 협의하여 해결하라(master에게 자문)"
   ]
  },
  {
   "cell_type": "code",
   "execution_count": 2,
   "metadata": {},
   "outputs": [
    {
     "name": "stderr",
     "output_type": "stream",
     "text": [
      "C:\\Users\\NFSI291\\Anaconda3\\lib\\site-packages\\statsmodels\\tools\\_testing.py:19: FutureWarning: pandas.util.testing is deprecated. Use the functions in the public API at pandas.testing instead.\n",
      "  import pandas.util.testing as tm\n"
     ]
    }
   ],
   "source": [
    "import numpy as np\n",
    "import pandas as pd\n",
    "import matplotlib.pyplot as plt\n",
    "import seaborn as sns\n",
    "\n",
    "# 명령 결과 모두 보기\n",
    "from IPython.core.interactiveshell import InteractiveShell\n",
    "InteractiveShell.ast_node_interactivity = 'all'"
   ]
  },
  {
   "cell_type": "markdown",
   "metadata": {},
   "source": [
    "### Kaggle에서 'reddit_wsb.cvs'데이터를 다운로드"
   ]
  },
  {
   "cell_type": "code",
   "execution_count": 181,
   "metadata": {
    "collapsed": true
   },
   "outputs": [
    {
     "data": {
      "text/html": [
       "<div>\n",
       "<style scoped>\n",
       "    .dataframe tbody tr th:only-of-type {\n",
       "        vertical-align: middle;\n",
       "    }\n",
       "\n",
       "    .dataframe tbody tr th {\n",
       "        vertical-align: top;\n",
       "    }\n",
       "\n",
       "    .dataframe thead th {\n",
       "        text-align: right;\n",
       "    }\n",
       "</style>\n",
       "<table border=\"1\" class=\"dataframe\">\n",
       "  <thead>\n",
       "    <tr style=\"text-align: right;\">\n",
       "      <th></th>\n",
       "      <th>title</th>\n",
       "      <th>score</th>\n",
       "      <th>id</th>\n",
       "      <th>url</th>\n",
       "      <th>comms_num</th>\n",
       "      <th>created</th>\n",
       "      <th>body</th>\n",
       "      <th>timestamp</th>\n",
       "    </tr>\n",
       "  </thead>\n",
       "  <tbody>\n",
       "    <tr>\n",
       "      <th>0</th>\n",
       "      <td>It's not about the money, it's about sending a...</td>\n",
       "      <td>55</td>\n",
       "      <td>l6ulcx</td>\n",
       "      <td>https://v.redd.it/6j75regs72e61</td>\n",
       "      <td>6</td>\n",
       "      <td>1.611863e+09</td>\n",
       "      <td>NaN</td>\n",
       "      <td>2021-01-28 21:37:41</td>\n",
       "    </tr>\n",
       "    <tr>\n",
       "      <th>1</th>\n",
       "      <td>Math Professor Scott Steiner says the numbers ...</td>\n",
       "      <td>110</td>\n",
       "      <td>l6uibd</td>\n",
       "      <td>https://v.redd.it/ah50lyny62e61</td>\n",
       "      <td>23</td>\n",
       "      <td>1.611862e+09</td>\n",
       "      <td>NaN</td>\n",
       "      <td>2021-01-28 21:32:10</td>\n",
       "    </tr>\n",
       "    <tr>\n",
       "      <th>2</th>\n",
       "      <td>Exit the system</td>\n",
       "      <td>0</td>\n",
       "      <td>l6uhhn</td>\n",
       "      <td>https://www.reddit.com/r/wallstreetbets/commen...</td>\n",
       "      <td>47</td>\n",
       "      <td>1.611862e+09</td>\n",
       "      <td>The CEO of NASDAQ pushed to halt trading “to g...</td>\n",
       "      <td>2021-01-28 21:30:35</td>\n",
       "    </tr>\n",
       "  </tbody>\n",
       "</table>\n",
       "</div>"
      ],
      "text/plain": [
       "                                               title  score      id  \\\n",
       "0  It's not about the money, it's about sending a...     55  l6ulcx   \n",
       "1  Math Professor Scott Steiner says the numbers ...    110  l6uibd   \n",
       "2                                    Exit the system      0  l6uhhn   \n",
       "\n",
       "                                                 url  comms_num       created  \\\n",
       "0                    https://v.redd.it/6j75regs72e61          6  1.611863e+09   \n",
       "1                    https://v.redd.it/ah50lyny62e61         23  1.611862e+09   \n",
       "2  https://www.reddit.com/r/wallstreetbets/commen...         47  1.611862e+09   \n",
       "\n",
       "                                                body            timestamp  \n",
       "0                                                NaN  2021-01-28 21:37:41  \n",
       "1                                                NaN  2021-01-28 21:32:10  \n",
       "2  The CEO of NASDAQ pushed to halt trading “to g...  2021-01-28 21:30:35  "
      ]
     },
     "execution_count": 181,
     "metadata": {},
     "output_type": "execute_result"
    }
   ],
   "source": [
    "df =pd.read_csv('../data/reddit_wsb.csv')\n",
    "df.head(3)"
   ]
  },
  {
   "cell_type": "markdown",
   "metadata": {},
   "source": [
    "# 1. 데이터전처리 (pandas tricks!)"
   ]
  },
  {
   "cell_type": "markdown",
   "metadata": {},
   "source": [
    "## (1) select_dtypes"
   ]
  },
  {
   "cell_type": "code",
   "execution_count": 182,
   "metadata": {
    "collapsed": true
   },
   "outputs": [
    {
     "data": {
      "text/plain": [
       "title         object\n",
       "score          int64\n",
       "id            object\n",
       "url           object\n",
       "comms_num      int64\n",
       "created      float64\n",
       "body          object\n",
       "timestamp     object\n",
       "dtype: object"
      ]
     },
     "execution_count": 182,
     "metadata": {},
     "output_type": "execute_result"
    },
    {
     "data": {
      "text/plain": [
       "object     5\n",
       "int64      2\n",
       "float64    1\n",
       "dtype: int64"
      ]
     },
     "execution_count": 182,
     "metadata": {},
     "output_type": "execute_result"
    }
   ],
   "source": [
    "df.dtypes\n",
    "df.dtypes.value_counts()"
   ]
  },
  {
   "cell_type": "code",
   "execution_count": 183,
   "metadata": {
    "collapsed": true
   },
   "outputs": [
    {
     "data": {
      "text/html": [
       "<div>\n",
       "<style scoped>\n",
       "    .dataframe tbody tr th:only-of-type {\n",
       "        vertical-align: middle;\n",
       "    }\n",
       "\n",
       "    .dataframe tbody tr th {\n",
       "        vertical-align: top;\n",
       "    }\n",
       "\n",
       "    .dataframe thead th {\n",
       "        text-align: right;\n",
       "    }\n",
       "</style>\n",
       "<table border=\"1\" class=\"dataframe\">\n",
       "  <thead>\n",
       "    <tr style=\"text-align: right;\">\n",
       "      <th></th>\n",
       "      <th>score</th>\n",
       "      <th>comms_num</th>\n",
       "      <th>created</th>\n",
       "    </tr>\n",
       "  </thead>\n",
       "  <tbody>\n",
       "    <tr>\n",
       "      <th>0</th>\n",
       "      <td>55</td>\n",
       "      <td>6</td>\n",
       "      <td>1.611863e+09</td>\n",
       "    </tr>\n",
       "    <tr>\n",
       "      <th>1</th>\n",
       "      <td>110</td>\n",
       "      <td>23</td>\n",
       "      <td>1.611862e+09</td>\n",
       "    </tr>\n",
       "    <tr>\n",
       "      <th>2</th>\n",
       "      <td>0</td>\n",
       "      <td>47</td>\n",
       "      <td>1.611862e+09</td>\n",
       "    </tr>\n",
       "    <tr>\n",
       "      <th>3</th>\n",
       "      <td>29</td>\n",
       "      <td>74</td>\n",
       "      <td>1.611862e+09</td>\n",
       "    </tr>\n",
       "    <tr>\n",
       "      <th>4</th>\n",
       "      <td>71</td>\n",
       "      <td>156</td>\n",
       "      <td>1.611862e+09</td>\n",
       "    </tr>\n",
       "    <tr>\n",
       "      <th>...</th>\n",
       "      <td>...</td>\n",
       "      <td>...</td>\n",
       "      <td>...</td>\n",
       "    </tr>\n",
       "    <tr>\n",
       "      <th>39332</th>\n",
       "      <td>24</td>\n",
       "      <td>10</td>\n",
       "      <td>1.614923e+09</td>\n",
       "    </tr>\n",
       "    <tr>\n",
       "      <th>39333</th>\n",
       "      <td>6</td>\n",
       "      <td>6</td>\n",
       "      <td>1.614923e+09</td>\n",
       "    </tr>\n",
       "    <tr>\n",
       "      <th>39334</th>\n",
       "      <td>82</td>\n",
       "      <td>7</td>\n",
       "      <td>1.614923e+09</td>\n",
       "    </tr>\n",
       "    <tr>\n",
       "      <th>39335</th>\n",
       "      <td>107</td>\n",
       "      <td>31</td>\n",
       "      <td>1.614923e+09</td>\n",
       "    </tr>\n",
       "    <tr>\n",
       "      <th>39336</th>\n",
       "      <td>16</td>\n",
       "      <td>6</td>\n",
       "      <td>1.614923e+09</td>\n",
       "    </tr>\n",
       "  </tbody>\n",
       "</table>\n",
       "<p>39337 rows × 3 columns</p>\n",
       "</div>"
      ],
      "text/plain": [
       "       score  comms_num       created\n",
       "0         55          6  1.611863e+09\n",
       "1        110         23  1.611862e+09\n",
       "2          0         47  1.611862e+09\n",
       "3         29         74  1.611862e+09\n",
       "4         71        156  1.611862e+09\n",
       "...      ...        ...           ...\n",
       "39332     24         10  1.614923e+09\n",
       "39333      6          6  1.614923e+09\n",
       "39334     82          7  1.614923e+09\n",
       "39335    107         31  1.614923e+09\n",
       "39336     16          6  1.614923e+09\n",
       "\n",
       "[39337 rows x 3 columns]"
      ]
     },
     "execution_count": 183,
     "metadata": {},
     "output_type": "execute_result"
    }
   ],
   "source": [
    "df.select_dtypes(include=['float64', 'int64'])"
   ]
  },
  {
   "cell_type": "markdown",
   "metadata": {},
   "source": [
    "## (2) copy"
   ]
  },
  {
   "cell_type": "code",
   "execution_count": 184,
   "metadata": {
    "collapsed": true
   },
   "outputs": [
    {
     "data": {
      "text/html": [
       "<div>\n",
       "<style scoped>\n",
       "    .dataframe tbody tr th:only-of-type {\n",
       "        vertical-align: middle;\n",
       "    }\n",
       "\n",
       "    .dataframe tbody tr th {\n",
       "        vertical-align: top;\n",
       "    }\n",
       "\n",
       "    .dataframe thead th {\n",
       "        text-align: right;\n",
       "    }\n",
       "</style>\n",
       "<table border=\"1\" class=\"dataframe\">\n",
       "  <thead>\n",
       "    <tr style=\"text-align: right;\">\n",
       "      <th></th>\n",
       "      <th>a</th>\n",
       "      <th>b</th>\n",
       "    </tr>\n",
       "  </thead>\n",
       "  <tbody>\n",
       "    <tr>\n",
       "      <th>0</th>\n",
       "      <td>0</td>\n",
       "      <td>1</td>\n",
       "    </tr>\n",
       "    <tr>\n",
       "      <th>1</th>\n",
       "      <td>0</td>\n",
       "      <td>1</td>\n",
       "    </tr>\n",
       "    <tr>\n",
       "      <th>2</th>\n",
       "      <td>0</td>\n",
       "      <td>1</td>\n",
       "    </tr>\n",
       "  </tbody>\n",
       "</table>\n",
       "</div>"
      ],
      "text/plain": [
       "   a  b\n",
       "0  0  1\n",
       "1  0  1\n",
       "2  0  1"
      ]
     },
     "execution_count": 184,
     "metadata": {},
     "output_type": "execute_result"
    },
    {
     "data": {
      "text/html": [
       "<div>\n",
       "<style scoped>\n",
       "    .dataframe tbody tr th:only-of-type {\n",
       "        vertical-align: middle;\n",
       "    }\n",
       "\n",
       "    .dataframe tbody tr th {\n",
       "        vertical-align: top;\n",
       "    }\n",
       "\n",
       "    .dataframe thead th {\n",
       "        text-align: right;\n",
       "    }\n",
       "</style>\n",
       "<table border=\"1\" class=\"dataframe\">\n",
       "  <thead>\n",
       "    <tr style=\"text-align: right;\">\n",
       "      <th></th>\n",
       "      <th>a</th>\n",
       "      <th>b</th>\n",
       "    </tr>\n",
       "  </thead>\n",
       "  <tbody>\n",
       "    <tr>\n",
       "      <th>0</th>\n",
       "      <td>1</td>\n",
       "      <td>1</td>\n",
       "    </tr>\n",
       "    <tr>\n",
       "      <th>1</th>\n",
       "      <td>1</td>\n",
       "      <td>1</td>\n",
       "    </tr>\n",
       "    <tr>\n",
       "      <th>2</th>\n",
       "      <td>1</td>\n",
       "      <td>1</td>\n",
       "    </tr>\n",
       "  </tbody>\n",
       "</table>\n",
       "</div>"
      ],
      "text/plain": [
       "   a  b\n",
       "0  1  1\n",
       "1  1  1\n",
       "2  1  1"
      ]
     },
     "execution_count": 184,
     "metadata": {},
     "output_type": "execute_result"
    }
   ],
   "source": [
    "df1 = pd.DataFrame({ 'a':[0,0,0], 'b': [1,1,1]})\n",
    "df1\n",
    "df2 = df1\n",
    "df2['a'] = df2['a'] + 1\n",
    "df1"
   ]
  },
  {
   "cell_type": "markdown",
   "metadata": {},
   "source": [
    "because df2 = df1 is not making a copy of df1 and assign it to df2, but setting up a pointer pointing to df1. So any changes in df2 would result in changes in df1. To fix this, you can do either\n",
    "\n",
    "- from copy import deepcopy\n",
    "- df2 = deepcopy(df1)"
   ]
  },
  {
   "cell_type": "code",
   "execution_count": 185,
   "metadata": {
    "collapsed": true
   },
   "outputs": [
    {
     "data": {
      "text/html": [
       "<div>\n",
       "<style scoped>\n",
       "    .dataframe tbody tr th:only-of-type {\n",
       "        vertical-align: middle;\n",
       "    }\n",
       "\n",
       "    .dataframe tbody tr th {\n",
       "        vertical-align: top;\n",
       "    }\n",
       "\n",
       "    .dataframe thead th {\n",
       "        text-align: right;\n",
       "    }\n",
       "</style>\n",
       "<table border=\"1\" class=\"dataframe\">\n",
       "  <thead>\n",
       "    <tr style=\"text-align: right;\">\n",
       "      <th></th>\n",
       "      <th>a</th>\n",
       "      <th>b</th>\n",
       "      <th>c</th>\n",
       "    </tr>\n",
       "  </thead>\n",
       "  <tbody>\n",
       "    <tr>\n",
       "      <th>0</th>\n",
       "      <td>0</td>\n",
       "      <td>1</td>\n",
       "      <td>1</td>\n",
       "    </tr>\n",
       "    <tr>\n",
       "      <th>1</th>\n",
       "      <td>0</td>\n",
       "      <td>1</td>\n",
       "      <td>3</td>\n",
       "    </tr>\n",
       "    <tr>\n",
       "      <th>2</th>\n",
       "      <td>0</td>\n",
       "      <td>1</td>\n",
       "      <td>2</td>\n",
       "    </tr>\n",
       "  </tbody>\n",
       "</table>\n",
       "</div>"
      ],
      "text/plain": [
       "   a  b  c\n",
       "0  0  1  1\n",
       "1  0  1  3\n",
       "2  0  1  2"
      ]
     },
     "execution_count": 185,
     "metadata": {},
     "output_type": "execute_result"
    },
    {
     "data": {
      "text/html": [
       "<div>\n",
       "<style scoped>\n",
       "    .dataframe tbody tr th:only-of-type {\n",
       "        vertical-align: middle;\n",
       "    }\n",
       "\n",
       "    .dataframe tbody tr th {\n",
       "        vertical-align: top;\n",
       "    }\n",
       "\n",
       "    .dataframe thead th {\n",
       "        text-align: right;\n",
       "    }\n",
       "</style>\n",
       "<table border=\"1\" class=\"dataframe\">\n",
       "  <thead>\n",
       "    <tr style=\"text-align: right;\">\n",
       "      <th></th>\n",
       "      <th>a</th>\n",
       "      <th>b</th>\n",
       "      <th>c</th>\n",
       "    </tr>\n",
       "  </thead>\n",
       "  <tbody>\n",
       "    <tr>\n",
       "      <th>0</th>\n",
       "      <td>0</td>\n",
       "      <td>1</td>\n",
       "      <td>1</td>\n",
       "    </tr>\n",
       "    <tr>\n",
       "      <th>1</th>\n",
       "      <td>0</td>\n",
       "      <td>1</td>\n",
       "      <td>3</td>\n",
       "    </tr>\n",
       "    <tr>\n",
       "      <th>2</th>\n",
       "      <td>0</td>\n",
       "      <td>1</td>\n",
       "      <td>2</td>\n",
       "    </tr>\n",
       "  </tbody>\n",
       "</table>\n",
       "</div>"
      ],
      "text/plain": [
       "   a  b  c\n",
       "0  0  1  1\n",
       "1  0  1  3\n",
       "2  0  1  2"
      ]
     },
     "execution_count": 185,
     "metadata": {},
     "output_type": "execute_result"
    }
   ],
   "source": [
    "df1 = pd.DataFrame({ 'a':[0,0,0], 'b': [1,1,1], 'c':[1,3,2]})\n",
    "df1\n",
    "df2 = df1.copy()\n",
    "df2['a'] = df2['a'] + 1\n",
    "df1"
   ]
  },
  {
   "cell_type": "markdown",
   "metadata": {},
   "source": [
    "## (3) map\n",
    "define a dictionary with ‘keys’ being the old values and ‘values’ being the new values.\n",
    "- easy data transformations"
   ]
  },
  {
   "cell_type": "code",
   "execution_count": 186,
   "metadata": {
    "collapsed": true
   },
   "outputs": [
    {
     "data": {
      "text/html": [
       "<div>\n",
       "<style scoped>\n",
       "    .dataframe tbody tr th:only-of-type {\n",
       "        vertical-align: middle;\n",
       "    }\n",
       "\n",
       "    .dataframe tbody tr th {\n",
       "        vertical-align: top;\n",
       "    }\n",
       "\n",
       "    .dataframe thead th {\n",
       "        text-align: right;\n",
       "    }\n",
       "</style>\n",
       "<table border=\"1\" class=\"dataframe\">\n",
       "  <thead>\n",
       "    <tr style=\"text-align: right;\">\n",
       "      <th></th>\n",
       "      <th>a</th>\n",
       "      <th>b</th>\n",
       "      <th>c</th>\n",
       "      <th>c_level</th>\n",
       "    </tr>\n",
       "  </thead>\n",
       "  <tbody>\n",
       "    <tr>\n",
       "      <th>0</th>\n",
       "      <td>0</td>\n",
       "      <td>1</td>\n",
       "      <td>1</td>\n",
       "      <td>high</td>\n",
       "    </tr>\n",
       "    <tr>\n",
       "      <th>1</th>\n",
       "      <td>0</td>\n",
       "      <td>1</td>\n",
       "      <td>3</td>\n",
       "      <td>low</td>\n",
       "    </tr>\n",
       "    <tr>\n",
       "      <th>2</th>\n",
       "      <td>0</td>\n",
       "      <td>1</td>\n",
       "      <td>2</td>\n",
       "      <td>medium</td>\n",
       "    </tr>\n",
       "  </tbody>\n",
       "</table>\n",
       "</div>"
      ],
      "text/plain": [
       "   a  b  c c_level\n",
       "0  0  1  1    high\n",
       "1  0  1  3     low\n",
       "2  0  1  2  medium"
      ]
     },
     "execution_count": 186,
     "metadata": {},
     "output_type": "execute_result"
    }
   ],
   "source": [
    "level_map = {1: 'high', 2: 'medium', 3: 'low'}\n",
    "df1['c_level'] = df1['c'].map(level_map)\n",
    "df1"
   ]
  },
  {
   "cell_type": "markdown",
   "metadata": {},
   "source": [
    "## (4) apply"
   ]
  },
  {
   "cell_type": "code",
   "execution_count": 187,
   "metadata": {
    "collapsed": true
   },
   "outputs": [
    {
     "data": {
      "text/html": [
       "<div>\n",
       "<style scoped>\n",
       "    .dataframe tbody tr th:only-of-type {\n",
       "        vertical-align: middle;\n",
       "    }\n",
       "\n",
       "    .dataframe tbody tr th {\n",
       "        vertical-align: top;\n",
       "    }\n",
       "\n",
       "    .dataframe thead th {\n",
       "        text-align: right;\n",
       "    }\n",
       "</style>\n",
       "<table border=\"1\" class=\"dataframe\">\n",
       "  <thead>\n",
       "    <tr style=\"text-align: right;\">\n",
       "      <th></th>\n",
       "      <th>c1</th>\n",
       "      <th>c2</th>\n",
       "    </tr>\n",
       "  </thead>\n",
       "  <tbody>\n",
       "    <tr>\n",
       "      <th>0</th>\n",
       "      <td>high</td>\n",
       "      <td>0</td>\n",
       "    </tr>\n",
       "    <tr>\n",
       "      <th>1</th>\n",
       "      <td>high</td>\n",
       "      <td>23</td>\n",
       "    </tr>\n",
       "    <tr>\n",
       "      <th>2</th>\n",
       "      <td>low</td>\n",
       "      <td>17</td>\n",
       "    </tr>\n",
       "    <tr>\n",
       "      <th>3</th>\n",
       "      <td>low</td>\n",
       "      <td>4</td>\n",
       "    </tr>\n",
       "  </tbody>\n",
       "</table>\n",
       "</div>"
      ],
      "text/plain": [
       "     c1  c2\n",
       "0  high   0\n",
       "1  high  23\n",
       "2   low  17\n",
       "3   low   4"
      ]
     },
     "execution_count": 187,
     "metadata": {},
     "output_type": "execute_result"
    }
   ],
   "source": [
    "df = pd.DataFrame({ 'c1':[ 'high' ,'high', 'low', 'low'], 'c2': [0, 23, 17, 4]})\n",
    "df"
   ]
  },
  {
   "cell_type": "code",
   "execution_count": 188,
   "metadata": {
    "collapsed": true
   },
   "outputs": [],
   "source": [
    "def rule(x, y):\n",
    "    if x == 'high' and y > 10:\n",
    "         return 1\n",
    "    else:\n",
    "         return 0"
   ]
  },
  {
   "cell_type": "code",
   "execution_count": 189,
   "metadata": {
    "collapsed": true
   },
   "outputs": [
    {
     "data": {
      "text/html": [
       "<div>\n",
       "<style scoped>\n",
       "    .dataframe tbody tr th:only-of-type {\n",
       "        vertical-align: middle;\n",
       "    }\n",
       "\n",
       "    .dataframe tbody tr th {\n",
       "        vertical-align: top;\n",
       "    }\n",
       "\n",
       "    .dataframe thead th {\n",
       "        text-align: right;\n",
       "    }\n",
       "</style>\n",
       "<table border=\"1\" class=\"dataframe\">\n",
       "  <thead>\n",
       "    <tr style=\"text-align: right;\">\n",
       "      <th></th>\n",
       "      <th>c1</th>\n",
       "      <th>c2</th>\n",
       "      <th>new</th>\n",
       "    </tr>\n",
       "  </thead>\n",
       "  <tbody>\n",
       "    <tr>\n",
       "      <th>0</th>\n",
       "      <td>high</td>\n",
       "      <td>0</td>\n",
       "      <td>0</td>\n",
       "    </tr>\n",
       "    <tr>\n",
       "      <th>1</th>\n",
       "      <td>high</td>\n",
       "      <td>23</td>\n",
       "      <td>1</td>\n",
       "    </tr>\n",
       "    <tr>\n",
       "      <th>2</th>\n",
       "      <td>low</td>\n",
       "      <td>17</td>\n",
       "      <td>0</td>\n",
       "    </tr>\n",
       "    <tr>\n",
       "      <th>3</th>\n",
       "      <td>low</td>\n",
       "      <td>4</td>\n",
       "      <td>0</td>\n",
       "    </tr>\n",
       "  </tbody>\n",
       "</table>\n",
       "</div>"
      ],
      "text/plain": [
       "     c1  c2  new\n",
       "0  high   0    0\n",
       "1  high  23    1\n",
       "2   low  17    0\n",
       "3   low   4    0"
      ]
     },
     "execution_count": 189,
     "metadata": {},
     "output_type": "execute_result"
    }
   ],
   "source": [
    "df['new'] = df.apply(lambda x: rule(x['c1'], x['c2']), axis = 1)\n",
    "df.head()"
   ]
  },
  {
   "cell_type": "markdown",
   "metadata": {},
   "source": [
    "## (6) number of missing values"
   ]
  },
  {
   "cell_type": "code",
   "execution_count": 190,
   "metadata": {
    "collapsed": true
   },
   "outputs": [
    {
     "data": {
      "text/html": [
       "<div>\n",
       "<style scoped>\n",
       "    .dataframe tbody tr th:only-of-type {\n",
       "        vertical-align: middle;\n",
       "    }\n",
       "\n",
       "    .dataframe tbody tr th {\n",
       "        vertical-align: top;\n",
       "    }\n",
       "\n",
       "    .dataframe thead th {\n",
       "        text-align: right;\n",
       "    }\n",
       "</style>\n",
       "<table border=\"1\" class=\"dataframe\">\n",
       "  <thead>\n",
       "    <tr style=\"text-align: right;\">\n",
       "      <th></th>\n",
       "      <th>id</th>\n",
       "      <th>c1</th>\n",
       "      <th>c2</th>\n",
       "    </tr>\n",
       "  </thead>\n",
       "  <tbody>\n",
       "    <tr>\n",
       "      <th>0</th>\n",
       "      <td>1</td>\n",
       "      <td>0.0</td>\n",
       "      <td>NaN</td>\n",
       "    </tr>\n",
       "    <tr>\n",
       "      <th>1</th>\n",
       "      <td>2</td>\n",
       "      <td>0.0</td>\n",
       "      <td>1.0</td>\n",
       "    </tr>\n",
       "    <tr>\n",
       "      <th>2</th>\n",
       "      <td>3</td>\n",
       "      <td>NaN</td>\n",
       "      <td>1.0</td>\n",
       "    </tr>\n",
       "  </tbody>\n",
       "</table>\n",
       "</div>"
      ],
      "text/plain": [
       "   id   c1   c2\n",
       "0   1  0.0  NaN\n",
       "1   2  0.0  1.0\n",
       "2   3  NaN  1.0"
      ]
     },
     "execution_count": 190,
     "metadata": {},
     "output_type": "execute_result"
    }
   ],
   "source": [
    "df = pd.DataFrame({ 'id': [1,2,3], 'c1':[0,0,np.nan], 'c2': [np.nan,1,1]})\n",
    "df"
   ]
  },
  {
   "cell_type": "code",
   "execution_count": 191,
   "metadata": {
    "collapsed": true
   },
   "outputs": [
    {
     "data": {
      "text/html": [
       "<div>\n",
       "<style scoped>\n",
       "    .dataframe tbody tr th:only-of-type {\n",
       "        vertical-align: middle;\n",
       "    }\n",
       "\n",
       "    .dataframe tbody tr th {\n",
       "        vertical-align: top;\n",
       "    }\n",
       "\n",
       "    .dataframe thead th {\n",
       "        text-align: right;\n",
       "    }\n",
       "</style>\n",
       "<table border=\"1\" class=\"dataframe\">\n",
       "  <thead>\n",
       "    <tr style=\"text-align: right;\">\n",
       "      <th></th>\n",
       "      <th>id</th>\n",
       "      <th>c1</th>\n",
       "      <th>c2</th>\n",
       "    </tr>\n",
       "  </thead>\n",
       "  <tbody>\n",
       "    <tr>\n",
       "      <th>0</th>\n",
       "      <td>1</td>\n",
       "      <td>0.0</td>\n",
       "      <td>NaN</td>\n",
       "    </tr>\n",
       "    <tr>\n",
       "      <th>1</th>\n",
       "      <td>2</td>\n",
       "      <td>0.0</td>\n",
       "      <td>1.0</td>\n",
       "    </tr>\n",
       "    <tr>\n",
       "      <th>2</th>\n",
       "      <td>3</td>\n",
       "      <td>NaN</td>\n",
       "      <td>1.0</td>\n",
       "    </tr>\n",
       "  </tbody>\n",
       "</table>\n",
       "</div>"
      ],
      "text/plain": [
       "   id   c1   c2\n",
       "0   1  0.0  NaN\n",
       "1   2  0.0  1.0\n",
       "2   3  NaN  1.0"
      ]
     },
     "execution_count": 191,
     "metadata": {},
     "output_type": "execute_result"
    }
   ],
   "source": [
    "df = df[df.columns]\n",
    "df"
   ]
  },
  {
   "cell_type": "code",
   "execution_count": 192,
   "metadata": {
    "collapsed": true
   },
   "outputs": [
    {
     "data": {
      "text/html": [
       "<div>\n",
       "<style scoped>\n",
       "    .dataframe tbody tr th:only-of-type {\n",
       "        vertical-align: middle;\n",
       "    }\n",
       "\n",
       "    .dataframe tbody tr th {\n",
       "        vertical-align: top;\n",
       "    }\n",
       "\n",
       "    .dataframe thead th {\n",
       "        text-align: right;\n",
       "    }\n",
       "</style>\n",
       "<table border=\"1\" class=\"dataframe\">\n",
       "  <thead>\n",
       "    <tr style=\"text-align: right;\">\n",
       "      <th></th>\n",
       "      <th>id</th>\n",
       "      <th>c1</th>\n",
       "      <th>c2</th>\n",
       "      <th>num_nulls</th>\n",
       "    </tr>\n",
       "  </thead>\n",
       "  <tbody>\n",
       "    <tr>\n",
       "      <th>0</th>\n",
       "      <td>1</td>\n",
       "      <td>0.0</td>\n",
       "      <td>NaN</td>\n",
       "      <td>1</td>\n",
       "    </tr>\n",
       "    <tr>\n",
       "      <th>1</th>\n",
       "      <td>2</td>\n",
       "      <td>0.0</td>\n",
       "      <td>1.0</td>\n",
       "      <td>0</td>\n",
       "    </tr>\n",
       "    <tr>\n",
       "      <th>2</th>\n",
       "      <td>3</td>\n",
       "      <td>NaN</td>\n",
       "      <td>1.0</td>\n",
       "      <td>1</td>\n",
       "    </tr>\n",
       "  </tbody>\n",
       "</table>\n",
       "</div>"
      ],
      "text/plain": [
       "   id   c1   c2  num_nulls\n",
       "0   1  0.0  NaN          1\n",
       "1   2  0.0  1.0          0\n",
       "2   3  NaN  1.0          1"
      ]
     },
     "execution_count": 192,
     "metadata": {},
     "output_type": "execute_result"
    }
   ],
   "source": [
    "df['num_nulls'] = df[['c1', 'c2']].isnull().sum(axis=1)\n",
    "df.head()"
   ]
  },
  {
   "cell_type": "markdown",
   "metadata": {},
   "source": [
    "## (5) select rows with specific values of column\n",
    "In SQL we can do this using SELECT * FROM … WHERE ID in (‘A001’, ‘C022’, …) to get records with specific IDs. If you want to do the same thing with pandas, you can do"
   ]
  },
  {
   "cell_type": "code",
   "execution_count": 193,
   "metadata": {
    "collapsed": true
   },
   "outputs": [
    {
     "data": {
      "text/plain": [
       "0     True\n",
       "1     True\n",
       "2    False\n",
       "Name: id, dtype: bool"
      ]
     },
     "execution_count": 193,
     "metadata": {},
     "output_type": "execute_result"
    },
    {
     "data": {
      "text/html": [
       "<div>\n",
       "<style scoped>\n",
       "    .dataframe tbody tr th:only-of-type {\n",
       "        vertical-align: middle;\n",
       "    }\n",
       "\n",
       "    .dataframe tbody tr th {\n",
       "        vertical-align: top;\n",
       "    }\n",
       "\n",
       "    .dataframe thead th {\n",
       "        text-align: right;\n",
       "    }\n",
       "</style>\n",
       "<table border=\"1\" class=\"dataframe\">\n",
       "  <thead>\n",
       "    <tr style=\"text-align: right;\">\n",
       "      <th></th>\n",
       "      <th>id</th>\n",
       "      <th>c1</th>\n",
       "      <th>c2</th>\n",
       "      <th>num_nulls</th>\n",
       "    </tr>\n",
       "  </thead>\n",
       "  <tbody>\n",
       "    <tr>\n",
       "      <th>0</th>\n",
       "      <td>1</td>\n",
       "      <td>0.0</td>\n",
       "      <td>NaN</td>\n",
       "      <td>1</td>\n",
       "    </tr>\n",
       "    <tr>\n",
       "      <th>1</th>\n",
       "      <td>2</td>\n",
       "      <td>0.0</td>\n",
       "      <td>1.0</td>\n",
       "      <td>0</td>\n",
       "    </tr>\n",
       "  </tbody>\n",
       "</table>\n",
       "</div>"
      ],
      "text/plain": [
       "   id   c1   c2  num_nulls\n",
       "0   1  0.0  NaN          1\n",
       "1   2  0.0  1.0          0"
      ]
     },
     "execution_count": 193,
     "metadata": {},
     "output_type": "execute_result"
    }
   ],
   "source": [
    "df_filter = df['id'].isin([1, 2])\n",
    "df_filter\n",
    "df[df_filter]"
   ]
  },
  {
   "cell_type": "markdown",
   "metadata": {},
   "source": [
    "# Pandas Ufuncs\n",
    "- 판다의 내장함수를 이용하여 데이터프레임의 개별 컬럼의 변수를 전처리, 새로운 변수(파생변수)를 생성하는 내용 (효율성과 효과성)\n",
    "- 참고로 for in 반복문 보다는 파이썬의 내장함수를 사용할 것을 권장(속도 차이)\n",
    "- 유용한 내장함수 예: ufuncs we will mention are: .diff, .shift, .cumsum, .cumcount, .str commands (works on strings), .dt commands 등등"
   ]
  },
  {
   "cell_type": "markdown",
   "metadata": {},
   "source": [
    "## (6) 특정컬럼(title)에서 맨 앞의 문자만 컬럼으로 만들 경우 (예, Mr. Nrs. Junior 등)"
   ]
  },
  {
   "cell_type": "code",
   "execution_count": 194,
   "metadata": {
    "collapsed": true
   },
   "outputs": [
    {
     "data": {
      "text/html": [
       "<div>\n",
       "<style scoped>\n",
       "    .dataframe tbody tr th:only-of-type {\n",
       "        vertical-align: middle;\n",
       "    }\n",
       "\n",
       "    .dataframe tbody tr th {\n",
       "        vertical-align: top;\n",
       "    }\n",
       "\n",
       "    .dataframe thead th {\n",
       "        text-align: right;\n",
       "    }\n",
       "</style>\n",
       "<table border=\"1\" class=\"dataframe\">\n",
       "  <thead>\n",
       "    <tr style=\"text-align: right;\">\n",
       "      <th></th>\n",
       "      <th>title</th>\n",
       "      <th>score</th>\n",
       "      <th>id</th>\n",
       "      <th>url</th>\n",
       "      <th>comms_num</th>\n",
       "      <th>created</th>\n",
       "      <th>body</th>\n",
       "      <th>timestamp</th>\n",
       "    </tr>\n",
       "  </thead>\n",
       "  <tbody>\n",
       "    <tr>\n",
       "      <th>2</th>\n",
       "      <td>Exit the system</td>\n",
       "      <td>0</td>\n",
       "      <td>l6uhhn</td>\n",
       "      <td>https://www.reddit.com/r/wallstreetbets/commen...</td>\n",
       "      <td>47</td>\n",
       "      <td>1.611862e+09</td>\n",
       "      <td>The CEO of NASDAQ pushed to halt trading “to g...</td>\n",
       "      <td>2021-01-28 21:30:35</td>\n",
       "    </tr>\n",
       "    <tr>\n",
       "      <th>6</th>\n",
       "      <td>SHORT STOCK DOESN'T HAVE AN EXPIRATION DATE</td>\n",
       "      <td>317</td>\n",
       "      <td>l6uf6d</td>\n",
       "      <td>https://www.reddit.com/r/wallstreetbets/commen...</td>\n",
       "      <td>53</td>\n",
       "      <td>1.611862e+09</td>\n",
       "      <td>Hedgefund whales are spreading disinfo saying ...</td>\n",
       "      <td>2021-01-28 21:26:27</td>\n",
       "    </tr>\n",
       "    <tr>\n",
       "      <th>7</th>\n",
       "      <td>THIS IS THE MOMENT</td>\n",
       "      <td>405</td>\n",
       "      <td>l6ub9l</td>\n",
       "      <td>https://www.reddit.com/r/wallstreetbets/commen...</td>\n",
       "      <td>178</td>\n",
       "      <td>1.611862e+09</td>\n",
       "      <td>Life isn't fair. My mother always told me that...</td>\n",
       "      <td>2021-01-28 21:19:31</td>\n",
       "    </tr>\n",
       "  </tbody>\n",
       "</table>\n",
       "</div>"
      ],
      "text/plain": [
       "                                         title  score      id  \\\n",
       "2                              Exit the system      0  l6uhhn   \n",
       "6  SHORT STOCK DOESN'T HAVE AN EXPIRATION DATE    317  l6uf6d   \n",
       "7                           THIS IS THE MOMENT    405  l6ub9l   \n",
       "\n",
       "                                                 url  comms_num       created  \\\n",
       "2  https://www.reddit.com/r/wallstreetbets/commen...         47  1.611862e+09   \n",
       "6  https://www.reddit.com/r/wallstreetbets/commen...         53  1.611862e+09   \n",
       "7  https://www.reddit.com/r/wallstreetbets/commen...        178  1.611862e+09   \n",
       "\n",
       "                                                body            timestamp  \n",
       "2  The CEO of NASDAQ pushed to halt trading “to g...  2021-01-28 21:30:35  \n",
       "6  Hedgefund whales are spreading disinfo saying ...  2021-01-28 21:26:27  \n",
       "7  Life isn't fair. My mother always told me that...  2021-01-28 21:19:31  "
      ]
     },
     "execution_count": 194,
     "metadata": {},
     "output_type": "execute_result"
    }
   ],
   "source": [
    "df =pd.read_csv('../data/reddit_wsb.csv')\n",
    "df.dropna(inplace=True) # 모든 결측치 제거\n",
    "df.head(3)"
   ]
  },
  {
   "cell_type": "markdown",
   "metadata": {},
   "source": [
    "title 컬럼에서 글자수가 제일 긴 글자의 수"
   ]
  },
  {
   "cell_type": "code",
   "execution_count": 195,
   "metadata": {
    "collapsed": true
   },
   "outputs": [
    {
     "data": {
      "text/plain": [
       "64"
      ]
     },
     "execution_count": 195,
     "metadata": {},
     "output_type": "execute_result"
    }
   ],
   "source": [
    "df.title.str.split(' ').apply(lambda x: len(x)).max()"
   ]
  },
  {
   "cell_type": "code",
   "execution_count": 196,
   "metadata": {
    "collapsed": true
   },
   "outputs": [
    {
     "data": {
      "text/html": [
       "<div>\n",
       "<style scoped>\n",
       "    .dataframe tbody tr th:only-of-type {\n",
       "        vertical-align: middle;\n",
       "    }\n",
       "\n",
       "    .dataframe tbody tr th {\n",
       "        vertical-align: top;\n",
       "    }\n",
       "\n",
       "    .dataframe thead th {\n",
       "        text-align: right;\n",
       "    }\n",
       "</style>\n",
       "<table border=\"1\" class=\"dataframe\">\n",
       "  <thead>\n",
       "    <tr style=\"text-align: right;\">\n",
       "      <th></th>\n",
       "      <th>0</th>\n",
       "      <th>1</th>\n",
       "      <th>2</th>\n",
       "      <th>3</th>\n",
       "      <th>4</th>\n",
       "      <th>5</th>\n",
       "      <th>6</th>\n",
       "      <th>7</th>\n",
       "      <th>8</th>\n",
       "      <th>9</th>\n",
       "      <th>...</th>\n",
       "      <th>54</th>\n",
       "      <th>55</th>\n",
       "      <th>56</th>\n",
       "      <th>57</th>\n",
       "      <th>58</th>\n",
       "      <th>59</th>\n",
       "      <th>60</th>\n",
       "      <th>61</th>\n",
       "      <th>62</th>\n",
       "      <th>63</th>\n",
       "    </tr>\n",
       "  </thead>\n",
       "  <tbody>\n",
       "    <tr>\n",
       "      <th>2</th>\n",
       "      <td>Exit</td>\n",
       "      <td>the</td>\n",
       "      <td>system</td>\n",
       "      <td>None</td>\n",
       "      <td>None</td>\n",
       "      <td>None</td>\n",
       "      <td>None</td>\n",
       "      <td>None</td>\n",
       "      <td>None</td>\n",
       "      <td>None</td>\n",
       "      <td>...</td>\n",
       "      <td>None</td>\n",
       "      <td>None</td>\n",
       "      <td>None</td>\n",
       "      <td>None</td>\n",
       "      <td>None</td>\n",
       "      <td>None</td>\n",
       "      <td>None</td>\n",
       "      <td>None</td>\n",
       "      <td>None</td>\n",
       "      <td>None</td>\n",
       "    </tr>\n",
       "    <tr>\n",
       "      <th>6</th>\n",
       "      <td>SHORT</td>\n",
       "      <td>STOCK</td>\n",
       "      <td>DOESN'T</td>\n",
       "      <td>HAVE</td>\n",
       "      <td>AN</td>\n",
       "      <td>EXPIRATION</td>\n",
       "      <td>DATE</td>\n",
       "      <td>None</td>\n",
       "      <td>None</td>\n",
       "      <td>None</td>\n",
       "      <td>...</td>\n",
       "      <td>None</td>\n",
       "      <td>None</td>\n",
       "      <td>None</td>\n",
       "      <td>None</td>\n",
       "      <td>None</td>\n",
       "      <td>None</td>\n",
       "      <td>None</td>\n",
       "      <td>None</td>\n",
       "      <td>None</td>\n",
       "      <td>None</td>\n",
       "    </tr>\n",
       "    <tr>\n",
       "      <th>7</th>\n",
       "      <td>THIS</td>\n",
       "      <td>IS</td>\n",
       "      <td>THE</td>\n",
       "      <td>MOMENT</td>\n",
       "      <td>None</td>\n",
       "      <td>None</td>\n",
       "      <td>None</td>\n",
       "      <td>None</td>\n",
       "      <td>None</td>\n",
       "      <td>None</td>\n",
       "      <td>...</td>\n",
       "      <td>None</td>\n",
       "      <td>None</td>\n",
       "      <td>None</td>\n",
       "      <td>None</td>\n",
       "      <td>None</td>\n",
       "      <td>None</td>\n",
       "      <td>None</td>\n",
       "      <td>None</td>\n",
       "      <td>None</td>\n",
       "      <td>None</td>\n",
       "    </tr>\n",
       "    <tr>\n",
       "      <th>10</th>\n",
       "      <td>We</td>\n",
       "      <td>need</td>\n",
       "      <td>to</td>\n",
       "      <td>keep</td>\n",
       "      <td>this</td>\n",
       "      <td>movement</td>\n",
       "      <td>going,</td>\n",
       "      <td>we</td>\n",
       "      <td>all</td>\n",
       "      <td>can</td>\n",
       "      <td>...</td>\n",
       "      <td>None</td>\n",
       "      <td>None</td>\n",
       "      <td>None</td>\n",
       "      <td>None</td>\n",
       "      <td>None</td>\n",
       "      <td>None</td>\n",
       "      <td>None</td>\n",
       "      <td>None</td>\n",
       "      <td>None</td>\n",
       "      <td>None</td>\n",
       "    </tr>\n",
       "    <tr>\n",
       "      <th>12</th>\n",
       "      <td>Once</td>\n",
       "      <td>you're</td>\n",
       "      <td>done</td>\n",
       "      <td>with</td>\n",
       "      <td>GME</td>\n",
       "      <td>-</td>\n",
       "      <td>$AG</td>\n",
       "      <td>and</td>\n",
       "      <td>$SLV,</td>\n",
       "      <td>the</td>\n",
       "      <td>...</td>\n",
       "      <td>None</td>\n",
       "      <td>None</td>\n",
       "      <td>None</td>\n",
       "      <td>None</td>\n",
       "      <td>None</td>\n",
       "      <td>None</td>\n",
       "      <td>None</td>\n",
       "      <td>None</td>\n",
       "      <td>None</td>\n",
       "      <td>None</td>\n",
       "    </tr>\n",
       "    <tr>\n",
       "      <th>...</th>\n",
       "      <td>...</td>\n",
       "      <td>...</td>\n",
       "      <td>...</td>\n",
       "      <td>...</td>\n",
       "      <td>...</td>\n",
       "      <td>...</td>\n",
       "      <td>...</td>\n",
       "      <td>...</td>\n",
       "      <td>...</td>\n",
       "      <td>...</td>\n",
       "      <td>...</td>\n",
       "      <td>...</td>\n",
       "      <td>...</td>\n",
       "      <td>...</td>\n",
       "      <td>...</td>\n",
       "      <td>...</td>\n",
       "      <td>...</td>\n",
       "      <td>...</td>\n",
       "      <td>...</td>\n",
       "      <td>...</td>\n",
       "      <td>...</td>\n",
       "    </tr>\n",
       "    <tr>\n",
       "      <th>39325</th>\n",
       "      <td>My</td>\n",
       "      <td>strategy</td>\n",
       "      <td>to</td>\n",
       "      <td>pressure</td>\n",
       "      <td>naked</td>\n",
       "      <td>calls</td>\n",
       "      <td>to</td>\n",
       "      <td>squeeze</td>\n",
       "      <td>None</td>\n",
       "      <td>None</td>\n",
       "      <td>...</td>\n",
       "      <td>None</td>\n",
       "      <td>None</td>\n",
       "      <td>None</td>\n",
       "      <td>None</td>\n",
       "      <td>None</td>\n",
       "      <td>None</td>\n",
       "      <td>None</td>\n",
       "      <td>None</td>\n",
       "      <td>None</td>\n",
       "      <td>None</td>\n",
       "    </tr>\n",
       "    <tr>\n",
       "      <th>39327</th>\n",
       "      <td>Siover</td>\n",
       "      <td>Shorts</td>\n",
       "      <td>None</td>\n",
       "      <td>None</td>\n",
       "      <td>None</td>\n",
       "      <td>None</td>\n",
       "      <td>None</td>\n",
       "      <td>None</td>\n",
       "      <td>None</td>\n",
       "      <td>None</td>\n",
       "      <td>...</td>\n",
       "      <td>None</td>\n",
       "      <td>None</td>\n",
       "      <td>None</td>\n",
       "      <td>None</td>\n",
       "      <td>None</td>\n",
       "      <td>None</td>\n",
       "      <td>None</td>\n",
       "      <td>None</td>\n",
       "      <td>None</td>\n",
       "      <td>None</td>\n",
       "    </tr>\n",
       "    <tr>\n",
       "      <th>39328</th>\n",
       "      <td>GME</td>\n",
       "      <td>GME</td>\n",
       "      <td>GME</td>\n",
       "      <td>GME</td>\n",
       "      <td>None</td>\n",
       "      <td>None</td>\n",
       "      <td>None</td>\n",
       "      <td>None</td>\n",
       "      <td>None</td>\n",
       "      <td>None</td>\n",
       "      <td>...</td>\n",
       "      <td>None</td>\n",
       "      <td>None</td>\n",
       "      <td>None</td>\n",
       "      <td>None</td>\n",
       "      <td>None</td>\n",
       "      <td>None</td>\n",
       "      <td>None</td>\n",
       "      <td>None</td>\n",
       "      <td>None</td>\n",
       "      <td>None</td>\n",
       "    </tr>\n",
       "    <tr>\n",
       "      <th>39329</th>\n",
       "      <td>Latest</td>\n",
       "      <td>Ryan</td>\n",
       "      <td>Cohen</td>\n",
       "      <td>Tweet</td>\n",
       "      <td>None</td>\n",
       "      <td>None</td>\n",
       "      <td>None</td>\n",
       "      <td>None</td>\n",
       "      <td>None</td>\n",
       "      <td>None</td>\n",
       "      <td>...</td>\n",
       "      <td>None</td>\n",
       "      <td>None</td>\n",
       "      <td>None</td>\n",
       "      <td>None</td>\n",
       "      <td>None</td>\n",
       "      <td>None</td>\n",
       "      <td>None</td>\n",
       "      <td>None</td>\n",
       "      <td>None</td>\n",
       "      <td>None</td>\n",
       "    </tr>\n",
       "    <tr>\n",
       "      <th>39336</th>\n",
       "      <td>TSEM</td>\n",
       "      <td>DD</td>\n",
       "      <td>(My</td>\n",
       "      <td>friend</td>\n",
       "      <td>wanted</td>\n",
       "      <td>me</td>\n",
       "      <td>to</td>\n",
       "      <td>post</td>\n",
       "      <td>this)</td>\n",
       "      <td>None</td>\n",
       "      <td>...</td>\n",
       "      <td>None</td>\n",
       "      <td>None</td>\n",
       "      <td>None</td>\n",
       "      <td>None</td>\n",
       "      <td>None</td>\n",
       "      <td>None</td>\n",
       "      <td>None</td>\n",
       "      <td>None</td>\n",
       "      <td>None</td>\n",
       "      <td>None</td>\n",
       "    </tr>\n",
       "  </tbody>\n",
       "</table>\n",
       "<p>19529 rows × 64 columns</p>\n",
       "</div>"
      ],
      "text/plain": [
       "           0         1        2         3       4           5       6   \\\n",
       "2        Exit       the   system      None    None        None    None   \n",
       "6       SHORT     STOCK  DOESN'T      HAVE      AN  EXPIRATION    DATE   \n",
       "7        THIS        IS      THE    MOMENT    None        None    None   \n",
       "10         We      need       to      keep    this    movement  going,   \n",
       "12       Once    you're     done      with     GME           -     $AG   \n",
       "...       ...       ...      ...       ...     ...         ...     ...   \n",
       "39325      My  strategy       to  pressure   naked       calls      to   \n",
       "39327  Siover    Shorts     None      None    None        None    None   \n",
       "39328     GME       GME      GME       GME    None        None    None   \n",
       "39329  Latest      Ryan    Cohen     Tweet    None        None    None   \n",
       "39336    TSEM        DD      (My    friend  wanted          me      to   \n",
       "\n",
       "            7      8     9   ...    54    55    56    57    58    59    60  \\\n",
       "2         None   None  None  ...  None  None  None  None  None  None  None   \n",
       "6         None   None  None  ...  None  None  None  None  None  None  None   \n",
       "7         None   None  None  ...  None  None  None  None  None  None  None   \n",
       "10          we    all   can  ...  None  None  None  None  None  None  None   \n",
       "12         and  $SLV,   the  ...  None  None  None  None  None  None  None   \n",
       "...        ...    ...   ...  ...   ...   ...   ...   ...   ...   ...   ...   \n",
       "39325  squeeze   None  None  ...  None  None  None  None  None  None  None   \n",
       "39327     None   None  None  ...  None  None  None  None  None  None  None   \n",
       "39328     None   None  None  ...  None  None  None  None  None  None  None   \n",
       "39329     None   None  None  ...  None  None  None  None  None  None  None   \n",
       "39336     post  this)  None  ...  None  None  None  None  None  None  None   \n",
       "\n",
       "         61    62    63  \n",
       "2      None  None  None  \n",
       "6      None  None  None  \n",
       "7      None  None  None  \n",
       "10     None  None  None  \n",
       "12     None  None  None  \n",
       "...     ...   ...   ...  \n",
       "39325  None  None  None  \n",
       "39327  None  None  None  \n",
       "39328  None  None  None  \n",
       "39329  None  None  None  \n",
       "39336  None  None  None  \n",
       "\n",
       "[19529 rows x 64 columns]"
      ]
     },
     "execution_count": 196,
     "metadata": {},
     "output_type": "execute_result"
    }
   ],
   "source": [
    "df.title.str.split(' ', expand=True)"
   ]
  },
  {
   "cell_type": "code",
   "execution_count": 197,
   "metadata": {
    "collapsed": true
   },
   "outputs": [
    {
     "data": {
      "text/html": [
       "<div>\n",
       "<style scoped>\n",
       "    .dataframe tbody tr th:only-of-type {\n",
       "        vertical-align: middle;\n",
       "    }\n",
       "\n",
       "    .dataframe tbody tr th {\n",
       "        vertical-align: top;\n",
       "    }\n",
       "\n",
       "    .dataframe thead th {\n",
       "        text-align: right;\n",
       "    }\n",
       "</style>\n",
       "<table border=\"1\" class=\"dataframe\">\n",
       "  <thead>\n",
       "    <tr style=\"text-align: right;\">\n",
       "      <th></th>\n",
       "      <th>title</th>\n",
       "      <th>score</th>\n",
       "      <th>id</th>\n",
       "      <th>url</th>\n",
       "      <th>comms_num</th>\n",
       "      <th>created</th>\n",
       "      <th>body</th>\n",
       "      <th>timestamp</th>\n",
       "    </tr>\n",
       "  </thead>\n",
       "  <tbody>\n",
       "    <tr>\n",
       "      <th>2</th>\n",
       "      <td>Exit</td>\n",
       "      <td>0</td>\n",
       "      <td>l6uhhn</td>\n",
       "      <td>https://www.reddit.com/r/wallstreetbets/commen...</td>\n",
       "      <td>47</td>\n",
       "      <td>1.611862e+09</td>\n",
       "      <td>The CEO of NASDAQ pushed to halt trading “to g...</td>\n",
       "      <td>2021-01-28 21:30:35</td>\n",
       "    </tr>\n",
       "    <tr>\n",
       "      <th>6</th>\n",
       "      <td>SHORT</td>\n",
       "      <td>317</td>\n",
       "      <td>l6uf6d</td>\n",
       "      <td>https://www.reddit.com/r/wallstreetbets/commen...</td>\n",
       "      <td>53</td>\n",
       "      <td>1.611862e+09</td>\n",
       "      <td>Hedgefund whales are spreading disinfo saying ...</td>\n",
       "      <td>2021-01-28 21:26:27</td>\n",
       "    </tr>\n",
       "    <tr>\n",
       "      <th>7</th>\n",
       "      <td>THIS</td>\n",
       "      <td>405</td>\n",
       "      <td>l6ub9l</td>\n",
       "      <td>https://www.reddit.com/r/wallstreetbets/commen...</td>\n",
       "      <td>178</td>\n",
       "      <td>1.611862e+09</td>\n",
       "      <td>Life isn't fair. My mother always told me that...</td>\n",
       "      <td>2021-01-28 21:19:31</td>\n",
       "    </tr>\n",
       "    <tr>\n",
       "      <th>10</th>\n",
       "      <td>We</td>\n",
       "      <td>222</td>\n",
       "      <td>l6uao1</td>\n",
       "      <td>https://www.reddit.com/r/wallstreetbets/commen...</td>\n",
       "      <td>70</td>\n",
       "      <td>1.611862e+09</td>\n",
       "      <td>I believe right now is one of those rare oppo...</td>\n",
       "      <td>2021-01-28 21:18:25</td>\n",
       "    </tr>\n",
       "    <tr>\n",
       "      <th>12</th>\n",
       "      <td>Once</td>\n",
       "      <td>0</td>\n",
       "      <td>l6u9wu</td>\n",
       "      <td>https://www.reddit.com/r/wallstreetbets/commen...</td>\n",
       "      <td>16</td>\n",
       "      <td>1.611861e+09</td>\n",
       "      <td>You guys are champs. GME... who would have tho...</td>\n",
       "      <td>2021-01-28 21:17:10</td>\n",
       "    </tr>\n",
       "    <tr>\n",
       "      <th>...</th>\n",
       "      <td>...</td>\n",
       "      <td>...</td>\n",
       "      <td>...</td>\n",
       "      <td>...</td>\n",
       "      <td>...</td>\n",
       "      <td>...</td>\n",
       "      <td>...</td>\n",
       "      <td>...</td>\n",
       "    </tr>\n",
       "    <tr>\n",
       "      <th>39325</th>\n",
       "      <td>My</td>\n",
       "      <td>4</td>\n",
       "      <td>lxwaif</td>\n",
       "      <td>https://www.reddit.com/r/wallstreetbets/commen...</td>\n",
       "      <td>21</td>\n",
       "      <td>1.614923e+09</td>\n",
       "      <td>I'm not a financial advisor, I'm just a dude o...</td>\n",
       "      <td>2021-03-05 07:46:14</td>\n",
       "    </tr>\n",
       "    <tr>\n",
       "      <th>39327</th>\n",
       "      <td>Siover</td>\n",
       "      <td>0</td>\n",
       "      <td>lxw9t2</td>\n",
       "      <td>https://www.reddit.com/r/wallstreetbets/commen...</td>\n",
       "      <td>1</td>\n",
       "      <td>1.614923e+09</td>\n",
       "      <td>Mike Maloney (youtube)  had a guest on the oth...</td>\n",
       "      <td>2021-03-05 07:45:15</td>\n",
       "    </tr>\n",
       "    <tr>\n",
       "      <th>39328</th>\n",
       "      <td>GME</td>\n",
       "      <td>60</td>\n",
       "      <td>lxw8mt</td>\n",
       "      <td>https://www.reddit.com/r/wallstreetbets/commen...</td>\n",
       "      <td>16</td>\n",
       "      <td>1.614923e+09</td>\n",
       "      <td>To the moon Lets go.\\n\\n&amp;#x200B;\\n\\n&amp;#x200B;\\n...</td>\n",
       "      <td>2021-03-05 07:43:43</td>\n",
       "    </tr>\n",
       "    <tr>\n",
       "      <th>39329</th>\n",
       "      <td>Latest</td>\n",
       "      <td>12</td>\n",
       "      <td>lxw7qa</td>\n",
       "      <td>https://www.reddit.com/r/wallstreetbets/commen...</td>\n",
       "      <td>14</td>\n",
       "      <td>1.614923e+09</td>\n",
       "      <td>So i went on youtube to find the [pets.com](ht...</td>\n",
       "      <td>2021-03-05 07:42:36</td>\n",
       "    </tr>\n",
       "    <tr>\n",
       "      <th>39336</th>\n",
       "      <td>TSEM</td>\n",
       "      <td>16</td>\n",
       "      <td>lxw48w</td>\n",
       "      <td>https://www.reddit.com/r/wallstreetbets/commen...</td>\n",
       "      <td>6</td>\n",
       "      <td>1.614923e+09</td>\n",
       "      <td>TSEM - Tower Semiconductor - Semiconductor Sho...</td>\n",
       "      <td>2021-03-05 07:37:52</td>\n",
       "    </tr>\n",
       "  </tbody>\n",
       "</table>\n",
       "<p>19529 rows × 8 columns</p>\n",
       "</div>"
      ],
      "text/plain": [
       "        title  score      id  \\\n",
       "2        Exit      0  l6uhhn   \n",
       "6       SHORT    317  l6uf6d   \n",
       "7        THIS    405  l6ub9l   \n",
       "10         We    222  l6uao1   \n",
       "12       Once      0  l6u9wu   \n",
       "...       ...    ...     ...   \n",
       "39325      My      4  lxwaif   \n",
       "39327  Siover      0  lxw9t2   \n",
       "39328     GME     60  lxw8mt   \n",
       "39329  Latest     12  lxw7qa   \n",
       "39336    TSEM     16  lxw48w   \n",
       "\n",
       "                                                     url  comms_num  \\\n",
       "2      https://www.reddit.com/r/wallstreetbets/commen...         47   \n",
       "6      https://www.reddit.com/r/wallstreetbets/commen...         53   \n",
       "7      https://www.reddit.com/r/wallstreetbets/commen...        178   \n",
       "10     https://www.reddit.com/r/wallstreetbets/commen...         70   \n",
       "12     https://www.reddit.com/r/wallstreetbets/commen...         16   \n",
       "...                                                  ...        ...   \n",
       "39325  https://www.reddit.com/r/wallstreetbets/commen...         21   \n",
       "39327  https://www.reddit.com/r/wallstreetbets/commen...          1   \n",
       "39328  https://www.reddit.com/r/wallstreetbets/commen...         16   \n",
       "39329  https://www.reddit.com/r/wallstreetbets/commen...         14   \n",
       "39336  https://www.reddit.com/r/wallstreetbets/commen...          6   \n",
       "\n",
       "            created                                               body  \\\n",
       "2      1.611862e+09  The CEO of NASDAQ pushed to halt trading “to g...   \n",
       "6      1.611862e+09  Hedgefund whales are spreading disinfo saying ...   \n",
       "7      1.611862e+09  Life isn't fair. My mother always told me that...   \n",
       "10     1.611862e+09   I believe right now is one of those rare oppo...   \n",
       "12     1.611861e+09  You guys are champs. GME... who would have tho...   \n",
       "...             ...                                                ...   \n",
       "39325  1.614923e+09  I'm not a financial advisor, I'm just a dude o...   \n",
       "39327  1.614923e+09  Mike Maloney (youtube)  had a guest on the oth...   \n",
       "39328  1.614923e+09  To the moon Lets go.\\n\\n&#x200B;\\n\\n&#x200B;\\n...   \n",
       "39329  1.614923e+09  So i went on youtube to find the [pets.com](ht...   \n",
       "39336  1.614923e+09  TSEM - Tower Semiconductor - Semiconductor Sho...   \n",
       "\n",
       "                 timestamp  \n",
       "2      2021-01-28 21:30:35  \n",
       "6      2021-01-28 21:26:27  \n",
       "7      2021-01-28 21:19:31  \n",
       "10     2021-01-28 21:18:25  \n",
       "12     2021-01-28 21:17:10  \n",
       "...                    ...  \n",
       "39325  2021-03-05 07:46:14  \n",
       "39327  2021-03-05 07:45:15  \n",
       "39328  2021-03-05 07:43:43  \n",
       "39329  2021-03-05 07:42:36  \n",
       "39336  2021-03-05 07:37:52  \n",
       "\n",
       "[19529 rows x 8 columns]"
      ]
     },
     "execution_count": 197,
     "metadata": {},
     "output_type": "execute_result"
    }
   ],
   "source": [
    "df['title'] = df.title.str.split(' ', expand=True)[0]\n",
    "df"
   ]
  },
  {
   "cell_type": "markdown",
   "metadata": {},
   "source": [
    "## (7) 가상의 국가와 이름 컬럼을 생성하여 인별 방문국가 회수를 조회 - fake country and name "
   ]
  },
  {
   "cell_type": "code",
   "execution_count": 198,
   "metadata": {
    "collapsed": true
   },
   "outputs": [
    {
     "data": {
      "text/plain": [
       "['Sudan',\n",
       " 'San Marino',\n",
       " 'Singapore',\n",
       " 'Saint Helena',\n",
       " 'New Caledonia',\n",
       " 'Denmark',\n",
       " 'Azerbaijan']"
      ]
     },
     "execution_count": 198,
     "metadata": {},
     "output_type": "execute_result"
    },
    {
     "data": {
      "text/plain": [
       "['Luis Farrell',\n",
       " 'Michele Robertson',\n",
       " 'Anna Eaton',\n",
       " 'Kathryn Torres',\n",
       " 'Amanda Sanchez',\n",
       " 'Mr. Joshua Harrington',\n",
       " 'Adam Johnson',\n",
       " 'Adam Price',\n",
       " 'Johnny Long',\n",
       " 'Daniel Patel']"
      ]
     },
     "execution_count": 198,
     "metadata": {},
     "output_type": "execute_result"
    }
   ],
   "source": [
    "from faker import Faker\n",
    "\n",
    "fake=Faker()\n",
    "country = [fake.country() for i in range(7)]\n",
    "name = [fake.name() for i in range(10)]\n",
    "country\n",
    "name"
   ]
  },
  {
   "cell_type": "markdown",
   "metadata": {},
   "source": [
    "구글에서 mutilple list to dataframe으로 검색해서 해결책 찾아보기"
   ]
  },
  {
   "cell_type": "code",
   "execution_count": 199,
   "metadata": {
    "collapsed": true
   },
   "outputs": [
    {
     "data": {
      "text/html": [
       "<div>\n",
       "<style scoped>\n",
       "    .dataframe tbody tr th:only-of-type {\n",
       "        vertical-align: middle;\n",
       "    }\n",
       "\n",
       "    .dataframe tbody tr th {\n",
       "        vertical-align: top;\n",
       "    }\n",
       "\n",
       "    .dataframe thead th {\n",
       "        text-align: right;\n",
       "    }\n",
       "</style>\n",
       "<table border=\"1\" class=\"dataframe\">\n",
       "  <thead>\n",
       "    <tr style=\"text-align: right;\">\n",
       "      <th></th>\n",
       "      <th>0</th>\n",
       "    </tr>\n",
       "  </thead>\n",
       "  <tbody>\n",
       "    <tr>\n",
       "      <th>Sudan</th>\n",
       "      <td>Luis Farrell</td>\n",
       "    </tr>\n",
       "    <tr>\n",
       "      <th>San Marino</th>\n",
       "      <td>Michele Robertson</td>\n",
       "    </tr>\n",
       "    <tr>\n",
       "      <th>Singapore</th>\n",
       "      <td>Anna Eaton</td>\n",
       "    </tr>\n",
       "    <tr>\n",
       "      <th>Saint Helena</th>\n",
       "      <td>Kathryn Torres</td>\n",
       "    </tr>\n",
       "    <tr>\n",
       "      <th>New Caledonia</th>\n",
       "      <td>Amanda Sanchez</td>\n",
       "    </tr>\n",
       "    <tr>\n",
       "      <th>Denmark</th>\n",
       "      <td>Mr. Joshua Harrington</td>\n",
       "    </tr>\n",
       "    <tr>\n",
       "      <th>Azerbaijan</th>\n",
       "      <td>Adam Johnson</td>\n",
       "    </tr>\n",
       "  </tbody>\n",
       "</table>\n",
       "</div>"
      ],
      "text/plain": [
       "                                   0\n",
       "Sudan                   Luis Farrell\n",
       "San Marino         Michele Robertson\n",
       "Singapore                 Anna Eaton\n",
       "Saint Helena          Kathryn Torres\n",
       "New Caledonia         Amanda Sanchez\n",
       "Denmark        Mr. Joshua Harrington\n",
       "Azerbaijan              Adam Johnson"
      ]
     },
     "execution_count": 199,
     "metadata": {},
     "output_type": "execute_result"
    },
    {
     "data": {
      "text/html": [
       "<div>\n",
       "<style scoped>\n",
       "    .dataframe tbody tr th:only-of-type {\n",
       "        vertical-align: middle;\n",
       "    }\n",
       "\n",
       "    .dataframe tbody tr th {\n",
       "        vertical-align: top;\n",
       "    }\n",
       "\n",
       "    .dataframe thead th {\n",
       "        text-align: right;\n",
       "    }\n",
       "</style>\n",
       "<table border=\"1\" class=\"dataframe\">\n",
       "  <thead>\n",
       "    <tr style=\"text-align: right;\">\n",
       "      <th></th>\n",
       "      <th>index</th>\n",
       "      <th>0</th>\n",
       "    </tr>\n",
       "  </thead>\n",
       "  <tbody>\n",
       "    <tr>\n",
       "      <th>0</th>\n",
       "      <td>Sudan</td>\n",
       "      <td>Luis Farrell</td>\n",
       "    </tr>\n",
       "    <tr>\n",
       "      <th>1</th>\n",
       "      <td>San Marino</td>\n",
       "      <td>Michele Robertson</td>\n",
       "    </tr>\n",
       "    <tr>\n",
       "      <th>2</th>\n",
       "      <td>Singapore</td>\n",
       "      <td>Anna Eaton</td>\n",
       "    </tr>\n",
       "    <tr>\n",
       "      <th>3</th>\n",
       "      <td>Saint Helena</td>\n",
       "      <td>Kathryn Torres</td>\n",
       "    </tr>\n",
       "    <tr>\n",
       "      <th>4</th>\n",
       "      <td>New Caledonia</td>\n",
       "      <td>Amanda Sanchez</td>\n",
       "    </tr>\n",
       "    <tr>\n",
       "      <th>5</th>\n",
       "      <td>Denmark</td>\n",
       "      <td>Mr. Joshua Harrington</td>\n",
       "    </tr>\n",
       "    <tr>\n",
       "      <th>6</th>\n",
       "      <td>Azerbaijan</td>\n",
       "      <td>Adam Johnson</td>\n",
       "    </tr>\n",
       "  </tbody>\n",
       "</table>\n",
       "</div>"
      ],
      "text/plain": [
       "           index                      0\n",
       "0          Sudan           Luis Farrell\n",
       "1     San Marino      Michele Robertson\n",
       "2      Singapore             Anna Eaton\n",
       "3   Saint Helena         Kathryn Torres\n",
       "4  New Caledonia         Amanda Sanchez\n",
       "5        Denmark  Mr. Joshua Harrington\n",
       "6     Azerbaijan           Adam Johnson"
      ]
     },
     "execution_count": 199,
     "metadata": {},
     "output_type": "execute_result"
    }
   ],
   "source": [
    "pd.DataFrame(name[0:7], country)\n",
    "pd.DataFrame(name[0:7], country).reset_index()"
   ]
  },
  {
   "cell_type": "code",
   "execution_count": 200,
   "metadata": {
    "collapsed": true
   },
   "outputs": [
    {
     "data": {
      "text/html": [
       "<div>\n",
       "<style scoped>\n",
       "    .dataframe tbody tr th:only-of-type {\n",
       "        vertical-align: middle;\n",
       "    }\n",
       "\n",
       "    .dataframe tbody tr th {\n",
       "        vertical-align: top;\n",
       "    }\n",
       "\n",
       "    .dataframe thead th {\n",
       "        text-align: right;\n",
       "    }\n",
       "</style>\n",
       "<table border=\"1\" class=\"dataframe\">\n",
       "  <thead>\n",
       "    <tr style=\"text-align: right;\">\n",
       "      <th></th>\n",
       "      <th>country</th>\n",
       "      <th>name</th>\n",
       "    </tr>\n",
       "  </thead>\n",
       "  <tbody>\n",
       "    <tr>\n",
       "      <th>0</th>\n",
       "      <td>Sudan</td>\n",
       "      <td>Luis Farrell</td>\n",
       "    </tr>\n",
       "    <tr>\n",
       "      <th>1</th>\n",
       "      <td>San Marino</td>\n",
       "      <td>Michele Robertson</td>\n",
       "    </tr>\n",
       "    <tr>\n",
       "      <th>2</th>\n",
       "      <td>Singapore</td>\n",
       "      <td>Anna Eaton</td>\n",
       "    </tr>\n",
       "    <tr>\n",
       "      <th>3</th>\n",
       "      <td>Saint Helena</td>\n",
       "      <td>Kathryn Torres</td>\n",
       "    </tr>\n",
       "    <tr>\n",
       "      <th>4</th>\n",
       "      <td>New Caledonia</td>\n",
       "      <td>Amanda Sanchez</td>\n",
       "    </tr>\n",
       "    <tr>\n",
       "      <th>5</th>\n",
       "      <td>Denmark</td>\n",
       "      <td>Mr. Joshua Harrington</td>\n",
       "    </tr>\n",
       "    <tr>\n",
       "      <th>6</th>\n",
       "      <td>Azerbaijan</td>\n",
       "      <td>Adam Johnson</td>\n",
       "    </tr>\n",
       "  </tbody>\n",
       "</table>\n",
       "</div>"
      ],
      "text/plain": [
       "         country                   name\n",
       "0          Sudan           Luis Farrell\n",
       "1     San Marino      Michele Robertson\n",
       "2      Singapore             Anna Eaton\n",
       "3   Saint Helena         Kathryn Torres\n",
       "4  New Caledonia         Amanda Sanchez\n",
       "5        Denmark  Mr. Joshua Harrington\n",
       "6     Azerbaijan           Adam Johnson"
      ]
     },
     "execution_count": 200,
     "metadata": {},
     "output_type": "execute_result"
    }
   ],
   "source": [
    "data = pd.DataFrame(name[0:7], country).reset_index()\n",
    "data.columns =['country', 'name']\n",
    "data"
   ]
  },
  {
   "cell_type": "markdown",
   "metadata": {},
   "source": [
    "join(list---> str)과 split(str---> list)의 관계를 이용하여 파생변수를 생성할 떄 tip"
   ]
  },
  {
   "cell_type": "code",
   "execution_count": 201,
   "metadata": {
    "collapsed": true
   },
   "outputs": [
    {
     "data": {
      "text/plain": [
       "'Luis Farrell**Michele Robertson**Anna Eaton**Kathryn Torres**Amanda Sanchez**Mr. Joshua Harrington**Adam Johnson**Adam Price**Johnny Long**Daniel Patel'"
      ]
     },
     "execution_count": 201,
     "metadata": {},
     "output_type": "execute_result"
    }
   ],
   "source": [
    "'**'.join(name)\n",
    "jj = '**'.join(name)"
   ]
  },
  {
   "cell_type": "code",
   "execution_count": 202,
   "metadata": {
    "collapsed": true
   },
   "outputs": [
    {
     "data": {
      "text/plain": [
       "['Luis Farrell',\n",
       " 'Michele Robertson',\n",
       " 'Anna Eaton',\n",
       " 'Kathryn Torres',\n",
       " 'Amanda Sanchez',\n",
       " 'Mr. Joshua Harrington',\n",
       " 'Adam Johnson',\n",
       " 'Adam Price',\n",
       " 'Johnny Long',\n",
       " 'Daniel Patel']"
      ]
     },
     "execution_count": 202,
     "metadata": {},
     "output_type": "execute_result"
    }
   ],
   "source": [
    "jj.split('**')"
   ]
  },
  {
   "cell_type": "markdown",
   "metadata": {},
   "source": [
    "fake columns 생성"
   ]
  },
  {
   "cell_type": "code",
   "execution_count": 203,
   "metadata": {
    "collapsed": true
   },
   "outputs": [
    {
     "data": {
      "text/plain": [
       "array(['Daniel Patel'], dtype='<U21')"
      ]
     },
     "execution_count": 203,
     "metadata": {},
     "output_type": "execute_result"
    },
    {
     "data": {
      "text/plain": [
       "['Luis Farrell']"
      ]
     },
     "execution_count": 203,
     "metadata": {},
     "output_type": "execute_result"
    },
    {
     "data": {
      "text/plain": [
       "'Michele Robertson'"
      ]
     },
     "execution_count": 203,
     "metadata": {},
     "output_type": "execute_result"
    }
   ],
   "source": [
    "np.random.seed(11)\n",
    "np.random.choice(name, 1)\n",
    "np.random.choice(name, 1).tolist()\n",
    "np.random.choice(name, 1).tolist()[0]"
   ]
  },
  {
   "cell_type": "code",
   "execution_count": 204,
   "metadata": {
    "collapsed": true
   },
   "outputs": [],
   "source": [
    "df['country'] = [np.random.choice(country, 1).tolist()[0] for i in range(len(df))]\n",
    "df['name'] = [np.random.choice(name, 1).tolist()[0] for i in range(len(df))]"
   ]
  },
  {
   "cell_type": "code",
   "execution_count": 205,
   "metadata": {
    "collapsed": true
   },
   "outputs": [],
   "source": [
    "df = df.drop(['title', 'id', 'url', 'comms_num'], axis=1)"
   ]
  },
  {
   "cell_type": "code",
   "execution_count": 206,
   "metadata": {
    "collapsed": true
   },
   "outputs": [
    {
     "data": {
      "text/html": [
       "<div>\n",
       "<style scoped>\n",
       "    .dataframe tbody tr th:only-of-type {\n",
       "        vertical-align: middle;\n",
       "    }\n",
       "\n",
       "    .dataframe tbody tr th {\n",
       "        vertical-align: top;\n",
       "    }\n",
       "\n",
       "    .dataframe thead th {\n",
       "        text-align: right;\n",
       "    }\n",
       "</style>\n",
       "<table border=\"1\" class=\"dataframe\">\n",
       "  <thead>\n",
       "    <tr style=\"text-align: right;\">\n",
       "      <th></th>\n",
       "      <th>score</th>\n",
       "      <th>created</th>\n",
       "      <th>body</th>\n",
       "      <th>timestamp</th>\n",
       "      <th>country</th>\n",
       "      <th>name</th>\n",
       "    </tr>\n",
       "  </thead>\n",
       "  <tbody>\n",
       "    <tr>\n",
       "      <th>2</th>\n",
       "      <td>0</td>\n",
       "      <td>1.611862e+09</td>\n",
       "      <td>The CEO of NASDAQ pushed to halt trading “to g...</td>\n",
       "      <td>2021-01-28 21:30:35</td>\n",
       "      <td>Denmark</td>\n",
       "      <td>Anna Eaton</td>\n",
       "    </tr>\n",
       "    <tr>\n",
       "      <th>6</th>\n",
       "      <td>317</td>\n",
       "      <td>1.611862e+09</td>\n",
       "      <td>Hedgefund whales are spreading disinfo saying ...</td>\n",
       "      <td>2021-01-28 21:26:27</td>\n",
       "      <td>New Caledonia</td>\n",
       "      <td>Daniel Patel</td>\n",
       "    </tr>\n",
       "    <tr>\n",
       "      <th>7</th>\n",
       "      <td>405</td>\n",
       "      <td>1.611862e+09</td>\n",
       "      <td>Life isn't fair. My mother always told me that...</td>\n",
       "      <td>2021-01-28 21:19:31</td>\n",
       "      <td>San Marino</td>\n",
       "      <td>Daniel Patel</td>\n",
       "    </tr>\n",
       "    <tr>\n",
       "      <th>10</th>\n",
       "      <td>222</td>\n",
       "      <td>1.611862e+09</td>\n",
       "      <td>I believe right now is one of those rare oppo...</td>\n",
       "      <td>2021-01-28 21:18:25</td>\n",
       "      <td>Singapore</td>\n",
       "      <td>Michele Robertson</td>\n",
       "    </tr>\n",
       "    <tr>\n",
       "      <th>12</th>\n",
       "      <td>0</td>\n",
       "      <td>1.611861e+09</td>\n",
       "      <td>You guys are champs. GME... who would have tho...</td>\n",
       "      <td>2021-01-28 21:17:10</td>\n",
       "      <td>Sudan</td>\n",
       "      <td>Anna Eaton</td>\n",
       "    </tr>\n",
       "  </tbody>\n",
       "</table>\n",
       "</div>"
      ],
      "text/plain": [
       "    score       created                                               body  \\\n",
       "2       0  1.611862e+09  The CEO of NASDAQ pushed to halt trading “to g...   \n",
       "6     317  1.611862e+09  Hedgefund whales are spreading disinfo saying ...   \n",
       "7     405  1.611862e+09  Life isn't fair. My mother always told me that...   \n",
       "10    222  1.611862e+09   I believe right now is one of those rare oppo...   \n",
       "12      0  1.611861e+09  You guys are champs. GME... who would have tho...   \n",
       "\n",
       "              timestamp        country               name  \n",
       "2   2021-01-28 21:30:35        Denmark         Anna Eaton  \n",
       "6   2021-01-28 21:26:27  New Caledonia       Daniel Patel  \n",
       "7   2021-01-28 21:19:31     San Marino       Daniel Patel  \n",
       "10  2021-01-28 21:18:25      Singapore  Michele Robertson  \n",
       "12  2021-01-28 21:17:10          Sudan         Anna Eaton  "
      ]
     },
     "execution_count": 206,
     "metadata": {},
     "output_type": "execute_result"
    }
   ],
   "source": [
    "df.head()"
   ]
  },
  {
   "cell_type": "markdown",
   "metadata": {},
   "source": [
    "인별로 어떤 나라를 몇 번 방문했는지를 확인하기 위해 groupby기능 이용"
   ]
  },
  {
   "cell_type": "code",
   "execution_count": 207,
   "metadata": {
    "collapsed": true
   },
   "outputs": [
    {
     "data": {
      "text/plain": [
       "name                   country      \n",
       "Adam Johnson           Azerbaijan       293\n",
       "                       Denmark          285\n",
       "                       San Marino       283\n",
       "                       Sudan            280\n",
       "                       Singapore        274\n",
       "                                       ... \n",
       "Mr. Joshua Harrington  New Caledonia    290\n",
       "                       Azerbaijan       275\n",
       "                       San Marino       269\n",
       "                       Sudan            266\n",
       "                       Denmark          259\n",
       "Name: country, Length: 70, dtype: int64"
      ]
     },
     "execution_count": 207,
     "metadata": {},
     "output_type": "execute_result"
    },
    {
     "data": {
      "text/html": [
       "<div>\n",
       "<style scoped>\n",
       "    .dataframe tbody tr th:only-of-type {\n",
       "        vertical-align: middle;\n",
       "    }\n",
       "\n",
       "    .dataframe tbody tr th {\n",
       "        vertical-align: top;\n",
       "    }\n",
       "\n",
       "    .dataframe thead th {\n",
       "        text-align: right;\n",
       "    }\n",
       "</style>\n",
       "<table border=\"1\" class=\"dataframe\">\n",
       "  <thead>\n",
       "    <tr style=\"text-align: right;\">\n",
       "      <th>country</th>\n",
       "      <th>Azerbaijan</th>\n",
       "      <th>Denmark</th>\n",
       "      <th>New Caledonia</th>\n",
       "      <th>Saint Helena</th>\n",
       "      <th>San Marino</th>\n",
       "      <th>Singapore</th>\n",
       "      <th>Sudan</th>\n",
       "    </tr>\n",
       "    <tr>\n",
       "      <th>name</th>\n",
       "      <th></th>\n",
       "      <th></th>\n",
       "      <th></th>\n",
       "      <th></th>\n",
       "      <th></th>\n",
       "      <th></th>\n",
       "      <th></th>\n",
       "    </tr>\n",
       "  </thead>\n",
       "  <tbody>\n",
       "    <tr>\n",
       "      <th>Adam Johnson</th>\n",
       "      <td>293</td>\n",
       "      <td>285</td>\n",
       "      <td>271</td>\n",
       "      <td>273</td>\n",
       "      <td>283</td>\n",
       "      <td>274</td>\n",
       "      <td>280</td>\n",
       "    </tr>\n",
       "    <tr>\n",
       "      <th>Adam Price</th>\n",
       "      <td>251</td>\n",
       "      <td>270</td>\n",
       "      <td>290</td>\n",
       "      <td>292</td>\n",
       "      <td>296</td>\n",
       "      <td>292</td>\n",
       "      <td>266</td>\n",
       "    </tr>\n",
       "    <tr>\n",
       "      <th>Amanda Sanchez</th>\n",
       "      <td>308</td>\n",
       "      <td>259</td>\n",
       "      <td>279</td>\n",
       "      <td>299</td>\n",
       "      <td>279</td>\n",
       "      <td>288</td>\n",
       "      <td>281</td>\n",
       "    </tr>\n",
       "    <tr>\n",
       "      <th>Anna Eaton</th>\n",
       "      <td>282</td>\n",
       "      <td>303</td>\n",
       "      <td>253</td>\n",
       "      <td>303</td>\n",
       "      <td>264</td>\n",
       "      <td>266</td>\n",
       "      <td>259</td>\n",
       "    </tr>\n",
       "    <tr>\n",
       "      <th>Daniel Patel</th>\n",
       "      <td>309</td>\n",
       "      <td>280</td>\n",
       "      <td>273</td>\n",
       "      <td>254</td>\n",
       "      <td>281</td>\n",
       "      <td>291</td>\n",
       "      <td>269</td>\n",
       "    </tr>\n",
       "    <tr>\n",
       "      <th>Johnny Long</th>\n",
       "      <td>308</td>\n",
       "      <td>289</td>\n",
       "      <td>280</td>\n",
       "      <td>281</td>\n",
       "      <td>287</td>\n",
       "      <td>278</td>\n",
       "      <td>271</td>\n",
       "    </tr>\n",
       "    <tr>\n",
       "      <th>Kathryn Torres</th>\n",
       "      <td>281</td>\n",
       "      <td>284</td>\n",
       "      <td>254</td>\n",
       "      <td>288</td>\n",
       "      <td>253</td>\n",
       "      <td>290</td>\n",
       "      <td>267</td>\n",
       "    </tr>\n",
       "    <tr>\n",
       "      <th>Luis Farrell</th>\n",
       "      <td>251</td>\n",
       "      <td>243</td>\n",
       "      <td>258</td>\n",
       "      <td>285</td>\n",
       "      <td>306</td>\n",
       "      <td>284</td>\n",
       "      <td>266</td>\n",
       "    </tr>\n",
       "    <tr>\n",
       "      <th>Michele Robertson</th>\n",
       "      <td>310</td>\n",
       "      <td>288</td>\n",
       "      <td>287</td>\n",
       "      <td>257</td>\n",
       "      <td>278</td>\n",
       "      <td>267</td>\n",
       "      <td>283</td>\n",
       "    </tr>\n",
       "    <tr>\n",
       "      <th>Mr. Joshua Harrington</th>\n",
       "      <td>275</td>\n",
       "      <td>259</td>\n",
       "      <td>290</td>\n",
       "      <td>304</td>\n",
       "      <td>269</td>\n",
       "      <td>296</td>\n",
       "      <td>266</td>\n",
       "    </tr>\n",
       "  </tbody>\n",
       "</table>\n",
       "</div>"
      ],
      "text/plain": [
       "country                Azerbaijan  Denmark  New Caledonia  Saint Helena  \\\n",
       "name                                                                      \n",
       "Adam Johnson                  293      285            271           273   \n",
       "Adam Price                    251      270            290           292   \n",
       "Amanda Sanchez                308      259            279           299   \n",
       "Anna Eaton                    282      303            253           303   \n",
       "Daniel Patel                  309      280            273           254   \n",
       "Johnny Long                   308      289            280           281   \n",
       "Kathryn Torres                281      284            254           288   \n",
       "Luis Farrell                  251      243            258           285   \n",
       "Michele Robertson             310      288            287           257   \n",
       "Mr. Joshua Harrington         275      259            290           304   \n",
       "\n",
       "country                San Marino  Singapore  Sudan  \n",
       "name                                                 \n",
       "Adam Johnson                  283        274    280  \n",
       "Adam Price                    296        292    266  \n",
       "Amanda Sanchez                279        288    281  \n",
       "Anna Eaton                    264        266    259  \n",
       "Daniel Patel                  281        291    269  \n",
       "Johnny Long                   287        278    271  \n",
       "Kathryn Torres                253        290    267  \n",
       "Luis Farrell                  306        284    266  \n",
       "Michele Robertson             278        267    283  \n",
       "Mr. Joshua Harrington         269        296    266  "
      ]
     },
     "execution_count": 207,
     "metadata": {},
     "output_type": "execute_result"
    },
    {
     "data": {
      "text/html": [
       "<div>\n",
       "<style scoped>\n",
       "    .dataframe tbody tr th:only-of-type {\n",
       "        vertical-align: middle;\n",
       "    }\n",
       "\n",
       "    .dataframe tbody tr th {\n",
       "        vertical-align: top;\n",
       "    }\n",
       "\n",
       "    .dataframe thead th {\n",
       "        text-align: right;\n",
       "    }\n",
       "</style>\n",
       "<table border=\"1\" class=\"dataframe\">\n",
       "  <thead>\n",
       "    <tr style=\"text-align: right;\">\n",
       "      <th>country</th>\n",
       "      <th>Azerbaijan</th>\n",
       "      <th>Denmark</th>\n",
       "      <th>New Caledonia</th>\n",
       "      <th>Saint Helena</th>\n",
       "      <th>San Marino</th>\n",
       "      <th>Singapore</th>\n",
       "      <th>Sudan</th>\n",
       "    </tr>\n",
       "    <tr>\n",
       "      <th>name</th>\n",
       "      <th></th>\n",
       "      <th></th>\n",
       "      <th></th>\n",
       "      <th></th>\n",
       "      <th></th>\n",
       "      <th></th>\n",
       "      <th></th>\n",
       "    </tr>\n",
       "  </thead>\n",
       "  <tbody>\n",
       "    <tr>\n",
       "      <th>Adam Johnson</th>\n",
       "      <td>293</td>\n",
       "      <td>285</td>\n",
       "      <td>271</td>\n",
       "      <td>273</td>\n",
       "      <td>283</td>\n",
       "      <td>274</td>\n",
       "      <td>280</td>\n",
       "    </tr>\n",
       "    <tr>\n",
       "      <th>Adam Price</th>\n",
       "      <td>251</td>\n",
       "      <td>270</td>\n",
       "      <td>290</td>\n",
       "      <td>292</td>\n",
       "      <td>296</td>\n",
       "      <td>292</td>\n",
       "      <td>266</td>\n",
       "    </tr>\n",
       "    <tr>\n",
       "      <th>Amanda Sanchez</th>\n",
       "      <td>308</td>\n",
       "      <td>259</td>\n",
       "      <td>279</td>\n",
       "      <td>299</td>\n",
       "      <td>279</td>\n",
       "      <td>288</td>\n",
       "      <td>281</td>\n",
       "    </tr>\n",
       "    <tr>\n",
       "      <th>Anna Eaton</th>\n",
       "      <td>282</td>\n",
       "      <td>303</td>\n",
       "      <td>253</td>\n",
       "      <td>303</td>\n",
       "      <td>264</td>\n",
       "      <td>266</td>\n",
       "      <td>259</td>\n",
       "    </tr>\n",
       "    <tr>\n",
       "      <th>Daniel Patel</th>\n",
       "      <td>309</td>\n",
       "      <td>280</td>\n",
       "      <td>273</td>\n",
       "      <td>254</td>\n",
       "      <td>281</td>\n",
       "      <td>291</td>\n",
       "      <td>269</td>\n",
       "    </tr>\n",
       "    <tr>\n",
       "      <th>Johnny Long</th>\n",
       "      <td>308</td>\n",
       "      <td>289</td>\n",
       "      <td>280</td>\n",
       "      <td>281</td>\n",
       "      <td>287</td>\n",
       "      <td>278</td>\n",
       "      <td>271</td>\n",
       "    </tr>\n",
       "    <tr>\n",
       "      <th>Kathryn Torres</th>\n",
       "      <td>281</td>\n",
       "      <td>284</td>\n",
       "      <td>254</td>\n",
       "      <td>288</td>\n",
       "      <td>253</td>\n",
       "      <td>290</td>\n",
       "      <td>267</td>\n",
       "    </tr>\n",
       "    <tr>\n",
       "      <th>Luis Farrell</th>\n",
       "      <td>251</td>\n",
       "      <td>243</td>\n",
       "      <td>258</td>\n",
       "      <td>285</td>\n",
       "      <td>306</td>\n",
       "      <td>284</td>\n",
       "      <td>266</td>\n",
       "    </tr>\n",
       "    <tr>\n",
       "      <th>Michele Robertson</th>\n",
       "      <td>310</td>\n",
       "      <td>288</td>\n",
       "      <td>287</td>\n",
       "      <td>257</td>\n",
       "      <td>278</td>\n",
       "      <td>267</td>\n",
       "      <td>283</td>\n",
       "    </tr>\n",
       "    <tr>\n",
       "      <th>Mr. Joshua Harrington</th>\n",
       "      <td>275</td>\n",
       "      <td>259</td>\n",
       "      <td>290</td>\n",
       "      <td>304</td>\n",
       "      <td>269</td>\n",
       "      <td>296</td>\n",
       "      <td>266</td>\n",
       "    </tr>\n",
       "  </tbody>\n",
       "</table>\n",
       "</div>"
      ],
      "text/plain": [
       "country                Azerbaijan  Denmark  New Caledonia  Saint Helena  \\\n",
       "name                                                                      \n",
       "Adam Johnson                  293      285            271           273   \n",
       "Adam Price                    251      270            290           292   \n",
       "Amanda Sanchez                308      259            279           299   \n",
       "Anna Eaton                    282      303            253           303   \n",
       "Daniel Patel                  309      280            273           254   \n",
       "Johnny Long                   308      289            280           281   \n",
       "Kathryn Torres                281      284            254           288   \n",
       "Luis Farrell                  251      243            258           285   \n",
       "Michele Robertson             310      288            287           257   \n",
       "Mr. Joshua Harrington         275      259            290           304   \n",
       "\n",
       "country                San Marino  Singapore  Sudan  \n",
       "name                                                 \n",
       "Adam Johnson                  283        274    280  \n",
       "Adam Price                    296        292    266  \n",
       "Amanda Sanchez                279        288    281  \n",
       "Anna Eaton                    264        266    259  \n",
       "Daniel Patel                  281        291    269  \n",
       "Johnny Long                   287        278    271  \n",
       "Kathryn Torres                253        290    267  \n",
       "Luis Farrell                  306        284    266  \n",
       "Michele Robertson             278        267    283  \n",
       "Mr. Joshua Harrington         269        296    266  "
      ]
     },
     "execution_count": 207,
     "metadata": {},
     "output_type": "execute_result"
    }
   ],
   "source": [
    "df.groupby('name')['country'].value_counts()\n",
    "df.groupby('name')['country'].value_counts().unstack()\n",
    "df.groupby('name')['country'].value_counts().unstack().fillna(0)"
   ]
  },
  {
   "cell_type": "markdown",
   "metadata": {},
   "source": [
    "## (8) 파생변수 생성 예 (groupby, diff, shift, and loc)"
   ]
  },
  {
   "cell_type": "code",
   "execution_count": 208,
   "metadata": {
    "collapsed": true
   },
   "outputs": [
    {
     "data": {
      "text/html": [
       "<div>\n",
       "<style scoped>\n",
       "    .dataframe tbody tr th:only-of-type {\n",
       "        vertical-align: middle;\n",
       "    }\n",
       "\n",
       "    .dataframe tbody tr th {\n",
       "        vertical-align: top;\n",
       "    }\n",
       "\n",
       "    .dataframe thead th {\n",
       "        text-align: right;\n",
       "    }\n",
       "</style>\n",
       "<table border=\"1\" class=\"dataframe\">\n",
       "  <thead>\n",
       "    <tr style=\"text-align: right;\">\n",
       "      <th></th>\n",
       "      <th>score</th>\n",
       "      <th>created</th>\n",
       "      <th>body</th>\n",
       "      <th>timestamp</th>\n",
       "      <th>country</th>\n",
       "      <th>name</th>\n",
       "    </tr>\n",
       "  </thead>\n",
       "  <tbody>\n",
       "    <tr>\n",
       "      <th>2</th>\n",
       "      <td>0</td>\n",
       "      <td>1.611862e+09</td>\n",
       "      <td>The CEO of NASDAQ pushed to halt trading “to g...</td>\n",
       "      <td>2021-01-28 21:30:35</td>\n",
       "      <td>Denmark</td>\n",
       "      <td>Anna Eaton</td>\n",
       "    </tr>\n",
       "    <tr>\n",
       "      <th>6</th>\n",
       "      <td>317</td>\n",
       "      <td>1.611862e+09</td>\n",
       "      <td>Hedgefund whales are spreading disinfo saying ...</td>\n",
       "      <td>2021-01-28 21:26:27</td>\n",
       "      <td>New Caledonia</td>\n",
       "      <td>Daniel Patel</td>\n",
       "    </tr>\n",
       "    <tr>\n",
       "      <th>7</th>\n",
       "      <td>405</td>\n",
       "      <td>1.611862e+09</td>\n",
       "      <td>Life isn't fair. My mother always told me that...</td>\n",
       "      <td>2021-01-28 21:19:31</td>\n",
       "      <td>San Marino</td>\n",
       "      <td>Daniel Patel</td>\n",
       "    </tr>\n",
       "    <tr>\n",
       "      <th>10</th>\n",
       "      <td>222</td>\n",
       "      <td>1.611862e+09</td>\n",
       "      <td>I believe right now is one of those rare oppo...</td>\n",
       "      <td>2021-01-28 21:18:25</td>\n",
       "      <td>Singapore</td>\n",
       "      <td>Michele Robertson</td>\n",
       "    </tr>\n",
       "    <tr>\n",
       "      <th>12</th>\n",
       "      <td>0</td>\n",
       "      <td>1.611861e+09</td>\n",
       "      <td>You guys are champs. GME... who would have tho...</td>\n",
       "      <td>2021-01-28 21:17:10</td>\n",
       "      <td>Sudan</td>\n",
       "      <td>Anna Eaton</td>\n",
       "    </tr>\n",
       "  </tbody>\n",
       "</table>\n",
       "</div>"
      ],
      "text/plain": [
       "    score       created                                               body  \\\n",
       "2       0  1.611862e+09  The CEO of NASDAQ pushed to halt trading “to g...   \n",
       "6     317  1.611862e+09  Hedgefund whales are spreading disinfo saying ...   \n",
       "7     405  1.611862e+09  Life isn't fair. My mother always told me that...   \n",
       "10    222  1.611862e+09   I believe right now is one of those rare oppo...   \n",
       "12      0  1.611861e+09  You guys are champs. GME... who would have tho...   \n",
       "\n",
       "              timestamp        country               name  \n",
       "2   2021-01-28 21:30:35        Denmark         Anna Eaton  \n",
       "6   2021-01-28 21:26:27  New Caledonia       Daniel Patel  \n",
       "7   2021-01-28 21:19:31     San Marino       Daniel Patel  \n",
       "10  2021-01-28 21:18:25      Singapore  Michele Robertson  \n",
       "12  2021-01-28 21:17:10          Sudan         Anna Eaton  "
      ]
     },
     "execution_count": 208,
     "metadata": {},
     "output_type": "execute_result"
    },
    {
     "name": "stdout",
     "output_type": "stream",
     "text": [
      "<class 'pandas.core.frame.DataFrame'>\n",
      "Int64Index: 19529 entries, 2 to 39336\n",
      "Data columns (total 6 columns):\n",
      " #   Column     Non-Null Count  Dtype  \n",
      "---  ------     --------------  -----  \n",
      " 0   score      19529 non-null  int64  \n",
      " 1   created    19529 non-null  float64\n",
      " 2   body       19529 non-null  object \n",
      " 3   timestamp  19529 non-null  object \n",
      " 4   country    19529 non-null  object \n",
      " 5   name       19529 non-null  object \n",
      "dtypes: float64(1), int64(1), object(4)\n",
      "memory usage: 1.0+ MB\n"
     ]
    }
   ],
   "source": [
    "df.head()\n",
    "df.info()"
   ]
  },
  {
   "cell_type": "markdown",
   "metadata": {},
   "source": [
    "'timestamp'컬럼의 object자료형태를 날짜자료 형태로 변경하기 "
   ]
  },
  {
   "cell_type": "code",
   "execution_count": 209,
   "metadata": {
    "collapsed": true
   },
   "outputs": [
    {
     "name": "stdout",
     "output_type": "stream",
     "text": [
      "<class 'pandas.core.frame.DataFrame'>\n",
      "Int64Index: 19529 entries, 2 to 39336\n",
      "Data columns (total 6 columns):\n",
      " #   Column     Non-Null Count  Dtype         \n",
      "---  ------     --------------  -----         \n",
      " 0   score      19529 non-null  int64         \n",
      " 1   created    19529 non-null  float64       \n",
      " 2   body       19529 non-null  object        \n",
      " 3   timestamp  19529 non-null  datetime64[ns]\n",
      " 4   country    19529 non-null  object        \n",
      " 5   name       19529 non-null  object        \n",
      "dtypes: datetime64[ns](1), float64(1), int64(1), object(3)\n",
      "memory usage: 1.0+ MB\n"
     ]
    }
   ],
   "source": [
    "df['timestamp'] =pd.to_datetime(df['timestamp'])\n",
    "df.info()"
   ]
  },
  {
   "cell_type": "markdown",
   "metadata": {},
   "source": [
    "- 인당 각 나라별 방문 시기의 차이를 계산 (groupby와 diff() 사용)\n",
    "- calculate the time differences would be to groupby the person name and them calculate the difference on the timestamp field using diff():"
   ]
  },
  {
   "cell_type": "code",
   "execution_count": 210,
   "metadata": {
    "collapsed": true
   },
   "outputs": [
    {
     "data": {
      "text/html": [
       "<div>\n",
       "<style scoped>\n",
       "    .dataframe tbody tr th:only-of-type {\n",
       "        vertical-align: middle;\n",
       "    }\n",
       "\n",
       "    .dataframe tbody tr th {\n",
       "        vertical-align: top;\n",
       "    }\n",
       "\n",
       "    .dataframe thead th {\n",
       "        text-align: right;\n",
       "    }\n",
       "</style>\n",
       "<table border=\"1\" class=\"dataframe\">\n",
       "  <thead>\n",
       "    <tr style=\"text-align: right;\">\n",
       "      <th></th>\n",
       "      <th>score</th>\n",
       "      <th>created</th>\n",
       "      <th>body</th>\n",
       "      <th>timestamp</th>\n",
       "      <th>country</th>\n",
       "      <th>name</th>\n",
       "      <th>time_diff</th>\n",
       "    </tr>\n",
       "  </thead>\n",
       "  <tbody>\n",
       "    <tr>\n",
       "      <th>32591</th>\n",
       "      <td>4</td>\n",
       "      <td>1.601340e+09</td>\n",
       "      <td>$CBAT is going to be a great play further yet:...</td>\n",
       "      <td>2020-09-29 03:46:56</td>\n",
       "      <td>Sudan</td>\n",
       "      <td>Adam Johnson</td>\n",
       "      <td>NaT</td>\n",
       "    </tr>\n",
       "    <tr>\n",
       "      <th>245</th>\n",
       "      <td>36</td>\n",
       "      <td>1.611818e+09</td>\n",
       "      <td>Hey Gang,\\n\\nLong time user that recently got ...</td>\n",
       "      <td>2021-01-28 09:08:59</td>\n",
       "      <td>Denmark</td>\n",
       "      <td>Adam Johnson</td>\n",
       "      <td>121 days 05:22:03</td>\n",
       "    </tr>\n",
       "    <tr>\n",
       "      <th>236</th>\n",
       "      <td>43</td>\n",
       "      <td>1.611818e+09</td>\n",
       "      <td>I might not be able to read letters, but numbe...</td>\n",
       "      <td>2021-01-28 09:10:11</td>\n",
       "      <td>Denmark</td>\n",
       "      <td>Adam Johnson</td>\n",
       "      <td>0 days 00:01:12</td>\n",
       "    </tr>\n",
       "    <tr>\n",
       "      <th>228</th>\n",
       "      <td>35</td>\n",
       "      <td>1.611818e+09</td>\n",
       "      <td>https://youtu.be/cRNypdYQoWk ELON MUSK SPEAKS ...</td>\n",
       "      <td>2021-01-28 09:11:24</td>\n",
       "      <td>Sudan</td>\n",
       "      <td>Adam Johnson</td>\n",
       "      <td>0 days 00:01:13</td>\n",
       "    </tr>\n",
       "    <tr>\n",
       "      <th>227</th>\n",
       "      <td>164</td>\n",
       "      <td>1.611818e+09</td>\n",
       "      <td>Hedge Fund Manipulation (BlackBerry) \\n\\nJim C...</td>\n",
       "      <td>2021-01-28 09:11:44</td>\n",
       "      <td>New Caledonia</td>\n",
       "      <td>Adam Johnson</td>\n",
       "      <td>0 days 00:00:20</td>\n",
       "    </tr>\n",
       "  </tbody>\n",
       "</table>\n",
       "</div>"
      ],
      "text/plain": [
       "       score       created                                               body  \\\n",
       "32591      4  1.601340e+09  $CBAT is going to be a great play further yet:...   \n",
       "245       36  1.611818e+09  Hey Gang,\\n\\nLong time user that recently got ...   \n",
       "236       43  1.611818e+09  I might not be able to read letters, but numbe...   \n",
       "228       35  1.611818e+09  https://youtu.be/cRNypdYQoWk ELON MUSK SPEAKS ...   \n",
       "227      164  1.611818e+09  Hedge Fund Manipulation (BlackBerry) \\n\\nJim C...   \n",
       "\n",
       "                timestamp        country          name         time_diff  \n",
       "32591 2020-09-29 03:46:56          Sudan  Adam Johnson               NaT  \n",
       "245   2021-01-28 09:08:59        Denmark  Adam Johnson 121 days 05:22:03  \n",
       "236   2021-01-28 09:10:11        Denmark  Adam Johnson   0 days 00:01:12  \n",
       "228   2021-01-28 09:11:24          Sudan  Adam Johnson   0 days 00:01:13  \n",
       "227   2021-01-28 09:11:44  New Caledonia  Adam Johnson   0 days 00:00:20  "
      ]
     },
     "execution_count": 210,
     "metadata": {},
     "output_type": "execute_result"
    }
   ],
   "source": [
    "df = df.sort_values(by=['name','timestamp'])\n",
    "df['time_diff'] = df.groupby('name')['timestamp'].diff()\n",
    "df.head()"
   ]
  },
  {
   "cell_type": "markdown",
   "metadata": {},
   "source": [
    "groupby대신 sort_values()를 사용하는 코드의 예(참고만)"
   ]
  },
  {
   "cell_type": "code",
   "execution_count": 211,
   "metadata": {
    "collapsed": true
   },
   "outputs": [
    {
     "data": {
      "text/plain": [
       "\"\\ndf = df.sort_values(by=['name','timestamp'])\\ndf['time_diff'] = df['timestamp'].diff()\\ndf.loc[df.name != df.name.shift(), 'time_diff'] = None\\n\""
      ]
     },
     "execution_count": 211,
     "metadata": {},
     "output_type": "execute_result"
    }
   ],
   "source": [
    "'''\n",
    "df = df.sort_values(by=['name','timestamp'])\n",
    "df['time_diff'] = df['timestamp'].diff()\n",
    "df.loc[df.name != df.name.shift(), 'time_diff'] = None\n",
    "'''"
   ]
  },
  {
   "cell_type": "markdown",
   "metadata": {},
   "source": [
    "time_diff컬럼을 총 시간(seconds units)으로 변경"
   ]
  },
  {
   "cell_type": "code",
   "execution_count": 212,
   "metadata": {
    "collapsed": true
   },
   "outputs": [
    {
     "data": {
      "text/plain": [
       "32591           NaN\n",
       "245      10473723.0\n",
       "236            72.0\n",
       "228            73.0\n",
       "227            20.0\n",
       "            ...    \n",
       "38619        2396.0\n",
       "38618         303.0\n",
       "38601        7204.0\n",
       "38580       13155.0\n",
       "38539       24525.0\n",
       "Name: time_diff, Length: 19529, dtype: float64"
      ]
     },
     "execution_count": 212,
     "metadata": {},
     "output_type": "execute_result"
    }
   ],
   "source": [
    "df.time_diff.dt.total_seconds()\n",
    "df['time_diff'] = df.time_diff.dt.total_seconds()"
   ]
  },
  {
   "cell_type": "code",
   "execution_count": 213,
   "metadata": {
    "collapsed": true
   },
   "outputs": [
    {
     "data": {
      "text/html": [
       "<div>\n",
       "<style scoped>\n",
       "    .dataframe tbody tr th:only-of-type {\n",
       "        vertical-align: middle;\n",
       "    }\n",
       "\n",
       "    .dataframe tbody tr th {\n",
       "        vertical-align: top;\n",
       "    }\n",
       "\n",
       "    .dataframe thead th {\n",
       "        text-align: right;\n",
       "    }\n",
       "</style>\n",
       "<table border=\"1\" class=\"dataframe\">\n",
       "  <thead>\n",
       "    <tr style=\"text-align: right;\">\n",
       "      <th></th>\n",
       "      <th>score</th>\n",
       "      <th>created</th>\n",
       "      <th>body</th>\n",
       "      <th>timestamp</th>\n",
       "      <th>country</th>\n",
       "      <th>name</th>\n",
       "      <th>time_diff</th>\n",
       "    </tr>\n",
       "  </thead>\n",
       "  <tbody>\n",
       "    <tr>\n",
       "      <th>32591</th>\n",
       "      <td>4</td>\n",
       "      <td>1.601340e+09</td>\n",
       "      <td>$CBAT is going to be a great play further yet:...</td>\n",
       "      <td>2020-09-29 03:46:56</td>\n",
       "      <td>Sudan</td>\n",
       "      <td>Adam Johnson</td>\n",
       "      <td>NaN</td>\n",
       "    </tr>\n",
       "    <tr>\n",
       "      <th>245</th>\n",
       "      <td>36</td>\n",
       "      <td>1.611818e+09</td>\n",
       "      <td>Hey Gang,\\n\\nLong time user that recently got ...</td>\n",
       "      <td>2021-01-28 09:08:59</td>\n",
       "      <td>Denmark</td>\n",
       "      <td>Adam Johnson</td>\n",
       "      <td>10473723.0</td>\n",
       "    </tr>\n",
       "    <tr>\n",
       "      <th>236</th>\n",
       "      <td>43</td>\n",
       "      <td>1.611818e+09</td>\n",
       "      <td>I might not be able to read letters, but numbe...</td>\n",
       "      <td>2021-01-28 09:10:11</td>\n",
       "      <td>Denmark</td>\n",
       "      <td>Adam Johnson</td>\n",
       "      <td>72.0</td>\n",
       "    </tr>\n",
       "    <tr>\n",
       "      <th>228</th>\n",
       "      <td>35</td>\n",
       "      <td>1.611818e+09</td>\n",
       "      <td>https://youtu.be/cRNypdYQoWk ELON MUSK SPEAKS ...</td>\n",
       "      <td>2021-01-28 09:11:24</td>\n",
       "      <td>Sudan</td>\n",
       "      <td>Adam Johnson</td>\n",
       "      <td>73.0</td>\n",
       "    </tr>\n",
       "    <tr>\n",
       "      <th>227</th>\n",
       "      <td>164</td>\n",
       "      <td>1.611818e+09</td>\n",
       "      <td>Hedge Fund Manipulation (BlackBerry) \\n\\nJim C...</td>\n",
       "      <td>2021-01-28 09:11:44</td>\n",
       "      <td>New Caledonia</td>\n",
       "      <td>Adam Johnson</td>\n",
       "      <td>20.0</td>\n",
       "    </tr>\n",
       "    <tr>\n",
       "      <th>...</th>\n",
       "      <td>...</td>\n",
       "      <td>...</td>\n",
       "      <td>...</td>\n",
       "      <td>...</td>\n",
       "      <td>...</td>\n",
       "      <td>...</td>\n",
       "      <td>...</td>\n",
       "    </tr>\n",
       "    <tr>\n",
       "      <th>38619</th>\n",
       "      <td>15988</td>\n",
       "      <td>1.615166e+09</td>\n",
       "      <td>So my fiancée has been talking to her friend l...</td>\n",
       "      <td>2021-03-08 03:05:58</td>\n",
       "      <td>Singapore</td>\n",
       "      <td>Mr. Joshua Harrington</td>\n",
       "      <td>2396.0</td>\n",
       "    </tr>\n",
       "    <tr>\n",
       "      <th>38618</th>\n",
       "      <td>1424</td>\n",
       "      <td>1.615166e+09</td>\n",
       "      <td>Since jumping in feetfirst into WSB's mad bull...</td>\n",
       "      <td>2021-03-08 03:11:01</td>\n",
       "      <td>Singapore</td>\n",
       "      <td>Mr. Joshua Harrington</td>\n",
       "      <td>303.0</td>\n",
       "    </tr>\n",
       "    <tr>\n",
       "      <th>38601</th>\n",
       "      <td>200</td>\n",
       "      <td>1.615173e+09</td>\n",
       "      <td># Last night after some random clicking on the...</td>\n",
       "      <td>2021-03-08 05:11:05</td>\n",
       "      <td>New Caledonia</td>\n",
       "      <td>Mr. Joshua Harrington</td>\n",
       "      <td>7204.0</td>\n",
       "    </tr>\n",
       "    <tr>\n",
       "      <th>38580</th>\n",
       "      <td>191</td>\n",
       "      <td>1.615186e+09</td>\n",
       "      <td>In the past 3 weeks I'm down over 270k (about ...</td>\n",
       "      <td>2021-03-08 08:50:20</td>\n",
       "      <td>Sudan</td>\n",
       "      <td>Mr. Joshua Harrington</td>\n",
       "      <td>13155.0</td>\n",
       "    </tr>\n",
       "    <tr>\n",
       "      <th>38539</th>\n",
       "      <td>67</td>\n",
       "      <td>1.615211e+09</td>\n",
       "      <td>When Melvin Capital published news that they c...</td>\n",
       "      <td>2021-03-08 15:39:05</td>\n",
       "      <td>New Caledonia</td>\n",
       "      <td>Mr. Joshua Harrington</td>\n",
       "      <td>24525.0</td>\n",
       "    </tr>\n",
       "  </tbody>\n",
       "</table>\n",
       "<p>19529 rows × 7 columns</p>\n",
       "</div>"
      ],
      "text/plain": [
       "       score       created                                               body  \\\n",
       "32591      4  1.601340e+09  $CBAT is going to be a great play further yet:...   \n",
       "245       36  1.611818e+09  Hey Gang,\\n\\nLong time user that recently got ...   \n",
       "236       43  1.611818e+09  I might not be able to read letters, but numbe...   \n",
       "228       35  1.611818e+09  https://youtu.be/cRNypdYQoWk ELON MUSK SPEAKS ...   \n",
       "227      164  1.611818e+09  Hedge Fund Manipulation (BlackBerry) \\n\\nJim C...   \n",
       "...      ...           ...                                                ...   \n",
       "38619  15988  1.615166e+09  So my fiancée has been talking to her friend l...   \n",
       "38618   1424  1.615166e+09  Since jumping in feetfirst into WSB's mad bull...   \n",
       "38601    200  1.615173e+09  # Last night after some random clicking on the...   \n",
       "38580    191  1.615186e+09  In the past 3 weeks I'm down over 270k (about ...   \n",
       "38539     67  1.615211e+09  When Melvin Capital published news that they c...   \n",
       "\n",
       "                timestamp        country                   name   time_diff  \n",
       "32591 2020-09-29 03:46:56          Sudan           Adam Johnson         NaN  \n",
       "245   2021-01-28 09:08:59        Denmark           Adam Johnson  10473723.0  \n",
       "236   2021-01-28 09:10:11        Denmark           Adam Johnson        72.0  \n",
       "228   2021-01-28 09:11:24          Sudan           Adam Johnson        73.0  \n",
       "227   2021-01-28 09:11:44  New Caledonia           Adam Johnson        20.0  \n",
       "...                   ...            ...                    ...         ...  \n",
       "38619 2021-03-08 03:05:58      Singapore  Mr. Joshua Harrington      2396.0  \n",
       "38618 2021-03-08 03:11:01      Singapore  Mr. Joshua Harrington       303.0  \n",
       "38601 2021-03-08 05:11:05  New Caledonia  Mr. Joshua Harrington      7204.0  \n",
       "38580 2021-03-08 08:50:20          Sudan  Mr. Joshua Harrington     13155.0  \n",
       "38539 2021-03-08 15:39:05  New Caledonia  Mr. Joshua Harrington     24525.0  \n",
       "\n",
       "[19529 rows x 7 columns]"
      ]
     },
     "execution_count": 213,
     "metadata": {},
     "output_type": "execute_result"
    }
   ],
   "source": [
    "df"
   ]
  },
  {
   "cell_type": "code",
   "execution_count": 214,
   "metadata": {
    "collapsed": true
   },
   "outputs": [
    {
     "data": {
      "text/html": [
       "<div>\n",
       "<style scoped>\n",
       "    .dataframe tbody tr th:only-of-type {\n",
       "        vertical-align: middle;\n",
       "    }\n",
       "\n",
       "    .dataframe tbody tr th {\n",
       "        vertical-align: top;\n",
       "    }\n",
       "\n",
       "    .dataframe thead th {\n",
       "        text-align: right;\n",
       "    }\n",
       "</style>\n",
       "<table border=\"1\" class=\"dataframe\">\n",
       "  <thead>\n",
       "    <tr style=\"text-align: right;\">\n",
       "      <th></th>\n",
       "      <th>score</th>\n",
       "      <th>created</th>\n",
       "      <th>body</th>\n",
       "      <th>timestamp</th>\n",
       "      <th>country</th>\n",
       "      <th>name</th>\n",
       "      <th>time_diff</th>\n",
       "      <th>row_duration</th>\n",
       "    </tr>\n",
       "  </thead>\n",
       "  <tbody>\n",
       "    <tr>\n",
       "      <th>32591</th>\n",
       "      <td>4</td>\n",
       "      <td>1.601340e+09</td>\n",
       "      <td>$CBAT is going to be a great play further yet:...</td>\n",
       "      <td>2020-09-29 03:46:56</td>\n",
       "      <td>Sudan</td>\n",
       "      <td>Adam Johnson</td>\n",
       "      <td>NaN</td>\n",
       "      <td>10473723.0</td>\n",
       "    </tr>\n",
       "    <tr>\n",
       "      <th>245</th>\n",
       "      <td>36</td>\n",
       "      <td>1.611818e+09</td>\n",
       "      <td>Hey Gang,\\n\\nLong time user that recently got ...</td>\n",
       "      <td>2021-01-28 09:08:59</td>\n",
       "      <td>Denmark</td>\n",
       "      <td>Adam Johnson</td>\n",
       "      <td>10473723.0</td>\n",
       "      <td>72.0</td>\n",
       "    </tr>\n",
       "    <tr>\n",
       "      <th>236</th>\n",
       "      <td>43</td>\n",
       "      <td>1.611818e+09</td>\n",
       "      <td>I might not be able to read letters, but numbe...</td>\n",
       "      <td>2021-01-28 09:10:11</td>\n",
       "      <td>Denmark</td>\n",
       "      <td>Adam Johnson</td>\n",
       "      <td>72.0</td>\n",
       "      <td>73.0</td>\n",
       "    </tr>\n",
       "    <tr>\n",
       "      <th>228</th>\n",
       "      <td>35</td>\n",
       "      <td>1.611818e+09</td>\n",
       "      <td>https://youtu.be/cRNypdYQoWk ELON MUSK SPEAKS ...</td>\n",
       "      <td>2021-01-28 09:11:24</td>\n",
       "      <td>Sudan</td>\n",
       "      <td>Adam Johnson</td>\n",
       "      <td>73.0</td>\n",
       "      <td>20.0</td>\n",
       "    </tr>\n",
       "    <tr>\n",
       "      <th>227</th>\n",
       "      <td>164</td>\n",
       "      <td>1.611818e+09</td>\n",
       "      <td>Hedge Fund Manipulation (BlackBerry) \\n\\nJim C...</td>\n",
       "      <td>2021-01-28 09:11:44</td>\n",
       "      <td>New Caledonia</td>\n",
       "      <td>Adam Johnson</td>\n",
       "      <td>20.0</td>\n",
       "      <td>5934.0</td>\n",
       "    </tr>\n",
       "    <tr>\n",
       "      <th>...</th>\n",
       "      <td>...</td>\n",
       "      <td>...</td>\n",
       "      <td>...</td>\n",
       "      <td>...</td>\n",
       "      <td>...</td>\n",
       "      <td>...</td>\n",
       "      <td>...</td>\n",
       "      <td>...</td>\n",
       "    </tr>\n",
       "    <tr>\n",
       "      <th>38619</th>\n",
       "      <td>15988</td>\n",
       "      <td>1.615166e+09</td>\n",
       "      <td>So my fiancée has been talking to her friend l...</td>\n",
       "      <td>2021-03-08 03:05:58</td>\n",
       "      <td>Singapore</td>\n",
       "      <td>Mr. Joshua Harrington</td>\n",
       "      <td>2396.0</td>\n",
       "      <td>303.0</td>\n",
       "    </tr>\n",
       "    <tr>\n",
       "      <th>38618</th>\n",
       "      <td>1424</td>\n",
       "      <td>1.615166e+09</td>\n",
       "      <td>Since jumping in feetfirst into WSB's mad bull...</td>\n",
       "      <td>2021-03-08 03:11:01</td>\n",
       "      <td>Singapore</td>\n",
       "      <td>Mr. Joshua Harrington</td>\n",
       "      <td>303.0</td>\n",
       "      <td>7204.0</td>\n",
       "    </tr>\n",
       "    <tr>\n",
       "      <th>38601</th>\n",
       "      <td>200</td>\n",
       "      <td>1.615173e+09</td>\n",
       "      <td># Last night after some random clicking on the...</td>\n",
       "      <td>2021-03-08 05:11:05</td>\n",
       "      <td>New Caledonia</td>\n",
       "      <td>Mr. Joshua Harrington</td>\n",
       "      <td>7204.0</td>\n",
       "      <td>13155.0</td>\n",
       "    </tr>\n",
       "    <tr>\n",
       "      <th>38580</th>\n",
       "      <td>191</td>\n",
       "      <td>1.615186e+09</td>\n",
       "      <td>In the past 3 weeks I'm down over 270k (about ...</td>\n",
       "      <td>2021-03-08 08:50:20</td>\n",
       "      <td>Sudan</td>\n",
       "      <td>Mr. Joshua Harrington</td>\n",
       "      <td>13155.0</td>\n",
       "      <td>24525.0</td>\n",
       "    </tr>\n",
       "    <tr>\n",
       "      <th>38539</th>\n",
       "      <td>67</td>\n",
       "      <td>1.615211e+09</td>\n",
       "      <td>When Melvin Capital published news that they c...</td>\n",
       "      <td>2021-03-08 15:39:05</td>\n",
       "      <td>New Caledonia</td>\n",
       "      <td>Mr. Joshua Harrington</td>\n",
       "      <td>24525.0</td>\n",
       "      <td>NaN</td>\n",
       "    </tr>\n",
       "  </tbody>\n",
       "</table>\n",
       "<p>19529 rows × 8 columns</p>\n",
       "</div>"
      ],
      "text/plain": [
       "       score       created                                               body  \\\n",
       "32591      4  1.601340e+09  $CBAT is going to be a great play further yet:...   \n",
       "245       36  1.611818e+09  Hey Gang,\\n\\nLong time user that recently got ...   \n",
       "236       43  1.611818e+09  I might not be able to read letters, but numbe...   \n",
       "228       35  1.611818e+09  https://youtu.be/cRNypdYQoWk ELON MUSK SPEAKS ...   \n",
       "227      164  1.611818e+09  Hedge Fund Manipulation (BlackBerry) \\n\\nJim C...   \n",
       "...      ...           ...                                                ...   \n",
       "38619  15988  1.615166e+09  So my fiancée has been talking to her friend l...   \n",
       "38618   1424  1.615166e+09  Since jumping in feetfirst into WSB's mad bull...   \n",
       "38601    200  1.615173e+09  # Last night after some random clicking on the...   \n",
       "38580    191  1.615186e+09  In the past 3 weeks I'm down over 270k (about ...   \n",
       "38539     67  1.615211e+09  When Melvin Capital published news that they c...   \n",
       "\n",
       "                timestamp        country                   name   time_diff  \\\n",
       "32591 2020-09-29 03:46:56          Sudan           Adam Johnson         NaN   \n",
       "245   2021-01-28 09:08:59        Denmark           Adam Johnson  10473723.0   \n",
       "236   2021-01-28 09:10:11        Denmark           Adam Johnson        72.0   \n",
       "228   2021-01-28 09:11:24          Sudan           Adam Johnson        73.0   \n",
       "227   2021-01-28 09:11:44  New Caledonia           Adam Johnson        20.0   \n",
       "...                   ...            ...                    ...         ...   \n",
       "38619 2021-03-08 03:05:58      Singapore  Mr. Joshua Harrington      2396.0   \n",
       "38618 2021-03-08 03:11:01      Singapore  Mr. Joshua Harrington       303.0   \n",
       "38601 2021-03-08 05:11:05  New Caledonia  Mr. Joshua Harrington      7204.0   \n",
       "38580 2021-03-08 08:50:20          Sudan  Mr. Joshua Harrington     13155.0   \n",
       "38539 2021-03-08 15:39:05  New Caledonia  Mr. Joshua Harrington     24525.0   \n",
       "\n",
       "       row_duration  \n",
       "32591    10473723.0  \n",
       "245            72.0  \n",
       "236            73.0  \n",
       "228            20.0  \n",
       "227          5934.0  \n",
       "...             ...  \n",
       "38619         303.0  \n",
       "38618        7204.0  \n",
       "38601       13155.0  \n",
       "38580       24525.0  \n",
       "38539           NaN  \n",
       "\n",
       "[19529 rows x 8 columns]"
      ]
     },
     "execution_count": 214,
     "metadata": {},
     "output_type": "execute_result"
    }
   ],
   "source": [
    "df['row_duration'] = df['time_diff'].shift(-1)\n",
    "df"
   ]
  },
  {
   "cell_type": "markdown",
   "metadata": {},
   "source": [
    "어떤 사람이 어느 나랑에 가장 체류하는 기간이 많은지 확인 가능(해당 국가의 여행 유료 쿠폰을 보낸다, recommendation)"
   ]
  },
  {
   "cell_type": "code",
   "execution_count": 215,
   "metadata": {
    "collapsed": true
   },
   "outputs": [
    {
     "name": "stderr",
     "output_type": "stream",
     "text": [
      "C:\\Users\\NFSI291\\Anaconda3\\lib\\site-packages\\ipykernel_launcher.py:1: UserWarning: Boolean Series key will be reindexed to match DataFrame index.\n",
      "  \"\"\"Entry point for launching an IPython kernel.\n"
     ]
    },
    {
     "data": {
      "text/html": [
       "<div>\n",
       "<style scoped>\n",
       "    .dataframe tbody tr th:only-of-type {\n",
       "        vertical-align: middle;\n",
       "    }\n",
       "\n",
       "    .dataframe tbody tr th {\n",
       "        vertical-align: top;\n",
       "    }\n",
       "\n",
       "    .dataframe thead th {\n",
       "        text-align: right;\n",
       "    }\n",
       "</style>\n",
       "<table border=\"1\" class=\"dataframe\">\n",
       "  <thead>\n",
       "    <tr style=\"text-align: right;\">\n",
       "      <th></th>\n",
       "      <th>score</th>\n",
       "      <th>created</th>\n",
       "      <th>body</th>\n",
       "      <th>timestamp</th>\n",
       "      <th>country</th>\n",
       "      <th>name</th>\n",
       "      <th>time_diff</th>\n",
       "      <th>row_duration</th>\n",
       "    </tr>\n",
       "  </thead>\n",
       "  <tbody>\n",
       "    <tr>\n",
       "      <th>32591</th>\n",
       "      <td>4</td>\n",
       "      <td>1.601340e+09</td>\n",
       "      <td>$CBAT is going to be a great play further yet:...</td>\n",
       "      <td>2020-09-29 03:46:56</td>\n",
       "      <td>Sudan</td>\n",
       "      <td>Adam Johnson</td>\n",
       "      <td>NaN</td>\n",
       "      <td>10473723.0</td>\n",
       "    </tr>\n",
       "    <tr>\n",
       "      <th>34350</th>\n",
       "      <td>15</td>\n",
       "      <td>1.614052e+09</td>\n",
       "      <td>With the current vaccine deficit crisis, this ...</td>\n",
       "      <td>2021-02-23 05:47:41</td>\n",
       "      <td>Sudan</td>\n",
       "      <td>Adam Johnson</td>\n",
       "      <td>16960.0</td>\n",
       "      <td>94341.0</td>\n",
       "    </tr>\n",
       "  </tbody>\n",
       "</table>\n",
       "</div>"
      ],
      "text/plain": [
       "       score       created                                               body  \\\n",
       "32591      4  1.601340e+09  $CBAT is going to be a great play further yet:...   \n",
       "34350     15  1.614052e+09  With the current vaccine deficit crisis, this ...   \n",
       "\n",
       "                timestamp country          name  time_diff  row_duration  \n",
       "32591 2020-09-29 03:46:56   Sudan  Adam Johnson        NaN    10473723.0  \n",
       "34350 2021-02-23 05:47:41   Sudan  Adam Johnson    16960.0       94341.0  "
      ]
     },
     "execution_count": 215,
     "metadata": {},
     "output_type": "execute_result"
    }
   ],
   "source": [
    "df[df['name'] == 'Adam Johnson'][df['row_duration'] > 50000].sort_values(by = 'row_duration', ascending=False)"
   ]
  },
  {
   "cell_type": "markdown",
   "metadata": {},
   "source": [
    "## (9) groupby.cumcount and Cumsum"
   ]
  },
  {
   "cell_type": "markdown",
   "metadata": {},
   "source": [
    "- 아주 유용한 내장함수 2개 \n",
    "- Cumcount는 누적합계 카운트(Cumcount creat a cumulative count) \n",
    "For example we can take only the second activity for each person by grouping by the person name and then applying cumcount. This will just give a count for the activities by their order. Than we can take only the second activity for each person by doing ==1 (or the third activity by doing ==2) and applying the indices on the original sorted dataframe."
   ]
  },
  {
   "cell_type": "code",
   "execution_count": 174,
   "metadata": {
    "collapsed": true
   },
   "outputs": [
    {
     "data": {
      "text/html": [
       "<div>\n",
       "<style scoped>\n",
       "    .dataframe tbody tr th:only-of-type {\n",
       "        vertical-align: middle;\n",
       "    }\n",
       "\n",
       "    .dataframe tbody tr th {\n",
       "        vertical-align: top;\n",
       "    }\n",
       "\n",
       "    .dataframe thead th {\n",
       "        text-align: right;\n",
       "    }\n",
       "</style>\n",
       "<table border=\"1\" class=\"dataframe\">\n",
       "  <thead>\n",
       "    <tr style=\"text-align: right;\">\n",
       "      <th></th>\n",
       "      <th>score</th>\n",
       "      <th>created</th>\n",
       "      <th>body</th>\n",
       "      <th>timestamp</th>\n",
       "      <th>country</th>\n",
       "      <th>name</th>\n",
       "      <th>time_diff</th>\n",
       "      <th>row_duration</th>\n",
       "    </tr>\n",
       "  </thead>\n",
       "  <tbody>\n",
       "    <tr>\n",
       "      <th>238</th>\n",
       "      <td>106</td>\n",
       "      <td>1.611818e+09</td>\n",
       "      <td>When you do cash out remember to spend a bit o...</td>\n",
       "      <td>2021-01-28 09:09:33</td>\n",
       "      <td>Falkland Islands (Malvinas)</td>\n",
       "      <td>Ashley Taylor</td>\n",
       "      <td>NaN</td>\n",
       "      <td>6073.0</td>\n",
       "    </tr>\n",
       "    <tr>\n",
       "      <th>198</th>\n",
       "      <td>229</td>\n",
       "      <td>1.611824e+09</td>\n",
       "      <td>We are battling against a fund that tried to b...</td>\n",
       "      <td>2021-01-28 10:50:46</td>\n",
       "      <td>Peru</td>\n",
       "      <td>Ashley Taylor</td>\n",
       "      <td>6073.0</td>\n",
       "      <td>9214.0</td>\n",
       "    </tr>\n",
       "    <tr>\n",
       "      <th>157</th>\n",
       "      <td>21757</td>\n",
       "      <td>1.611833e+09</td>\n",
       "      <td>I just want you to know that years from now, w...</td>\n",
       "      <td>2021-01-28 13:24:20</td>\n",
       "      <td>Peru</td>\n",
       "      <td>Ashley Taylor</td>\n",
       "      <td>9214.0</td>\n",
       "      <td>2192.0</td>\n",
       "    </tr>\n",
       "    <tr>\n",
       "      <th>148</th>\n",
       "      <td>2825</td>\n",
       "      <td>1.611835e+09</td>\n",
       "      <td>I tried unloading AMC at open today to go ball...</td>\n",
       "      <td>2021-01-28 14:00:52</td>\n",
       "      <td>Barbados</td>\n",
       "      <td>Ashley Taylor</td>\n",
       "      <td>2192.0</td>\n",
       "      <td>824.0</td>\n",
       "    </tr>\n",
       "    <tr>\n",
       "      <th>145</th>\n",
       "      <td>5093</td>\n",
       "      <td>1.611836e+09</td>\n",
       "      <td>Here is the longer DD for the short squeeze ca...</td>\n",
       "      <td>2021-01-28 14:14:36</td>\n",
       "      <td>Barbados</td>\n",
       "      <td>Ashley Taylor</td>\n",
       "      <td>824.0</td>\n",
       "      <td>5434.0</td>\n",
       "    </tr>\n",
       "    <tr>\n",
       "      <th>...</th>\n",
       "      <td>...</td>\n",
       "      <td>...</td>\n",
       "      <td>...</td>\n",
       "      <td>...</td>\n",
       "      <td>...</td>\n",
       "      <td>...</td>\n",
       "      <td>...</td>\n",
       "      <td>...</td>\n",
       "    </tr>\n",
       "    <tr>\n",
       "      <th>38619</th>\n",
       "      <td>15988</td>\n",
       "      <td>1.615166e+09</td>\n",
       "      <td>So my fiancée has been talking to her friend l...</td>\n",
       "      <td>2021-03-08 03:05:58</td>\n",
       "      <td>Barbados</td>\n",
       "      <td>Todd Chan</td>\n",
       "      <td>2396.0</td>\n",
       "      <td>303.0</td>\n",
       "    </tr>\n",
       "    <tr>\n",
       "      <th>38618</th>\n",
       "      <td>1424</td>\n",
       "      <td>1.615166e+09</td>\n",
       "      <td>Since jumping in feetfirst into WSB's mad bull...</td>\n",
       "      <td>2021-03-08 03:11:01</td>\n",
       "      <td>Barbados</td>\n",
       "      <td>Todd Chan</td>\n",
       "      <td>303.0</td>\n",
       "      <td>7204.0</td>\n",
       "    </tr>\n",
       "    <tr>\n",
       "      <th>38601</th>\n",
       "      <td>200</td>\n",
       "      <td>1.615173e+09</td>\n",
       "      <td># Last night after some random clicking on the...</td>\n",
       "      <td>2021-03-08 05:11:05</td>\n",
       "      <td>Slovenia</td>\n",
       "      <td>Todd Chan</td>\n",
       "      <td>7204.0</td>\n",
       "      <td>13155.0</td>\n",
       "    </tr>\n",
       "    <tr>\n",
       "      <th>38580</th>\n",
       "      <td>191</td>\n",
       "      <td>1.615186e+09</td>\n",
       "      <td>In the past 3 weeks I'm down over 270k (about ...</td>\n",
       "      <td>2021-03-08 08:50:20</td>\n",
       "      <td>Aruba</td>\n",
       "      <td>Todd Chan</td>\n",
       "      <td>13155.0</td>\n",
       "      <td>24525.0</td>\n",
       "    </tr>\n",
       "    <tr>\n",
       "      <th>38539</th>\n",
       "      <td>67</td>\n",
       "      <td>1.615211e+09</td>\n",
       "      <td>When Melvin Capital published news that they c...</td>\n",
       "      <td>2021-03-08 15:39:05</td>\n",
       "      <td>Slovenia</td>\n",
       "      <td>Todd Chan</td>\n",
       "      <td>24525.0</td>\n",
       "      <td>NaN</td>\n",
       "    </tr>\n",
       "  </tbody>\n",
       "</table>\n",
       "<p>19529 rows × 8 columns</p>\n",
       "</div>"
      ],
      "text/plain": [
       "       score       created                                               body  \\\n",
       "238      106  1.611818e+09  When you do cash out remember to spend a bit o...   \n",
       "198      229  1.611824e+09  We are battling against a fund that tried to b...   \n",
       "157    21757  1.611833e+09  I just want you to know that years from now, w...   \n",
       "148     2825  1.611835e+09  I tried unloading AMC at open today to go ball...   \n",
       "145     5093  1.611836e+09  Here is the longer DD for the short squeeze ca...   \n",
       "...      ...           ...                                                ...   \n",
       "38619  15988  1.615166e+09  So my fiancée has been talking to her friend l...   \n",
       "38618   1424  1.615166e+09  Since jumping in feetfirst into WSB's mad bull...   \n",
       "38601    200  1.615173e+09  # Last night after some random clicking on the...   \n",
       "38580    191  1.615186e+09  In the past 3 weeks I'm down over 270k (about ...   \n",
       "38539     67  1.615211e+09  When Melvin Capital published news that they c...   \n",
       "\n",
       "                timestamp                      country           name  \\\n",
       "238   2021-01-28 09:09:33  Falkland Islands (Malvinas)  Ashley Taylor   \n",
       "198   2021-01-28 10:50:46                         Peru  Ashley Taylor   \n",
       "157   2021-01-28 13:24:20                         Peru  Ashley Taylor   \n",
       "148   2021-01-28 14:00:52                     Barbados  Ashley Taylor   \n",
       "145   2021-01-28 14:14:36                     Barbados  Ashley Taylor   \n",
       "...                   ...                          ...            ...   \n",
       "38619 2021-03-08 03:05:58                     Barbados      Todd Chan   \n",
       "38618 2021-03-08 03:11:01                     Barbados      Todd Chan   \n",
       "38601 2021-03-08 05:11:05                     Slovenia      Todd Chan   \n",
       "38580 2021-03-08 08:50:20                        Aruba      Todd Chan   \n",
       "38539 2021-03-08 15:39:05                     Slovenia      Todd Chan   \n",
       "\n",
       "       time_diff  row_duration  \n",
       "238          NaN        6073.0  \n",
       "198       6073.0        9214.0  \n",
       "157       9214.0        2192.0  \n",
       "148       2192.0         824.0  \n",
       "145        824.0        5434.0  \n",
       "...          ...           ...  \n",
       "38619     2396.0         303.0  \n",
       "38618      303.0        7204.0  \n",
       "38601     7204.0       13155.0  \n",
       "38580    13155.0       24525.0  \n",
       "38539    24525.0           NaN  \n",
       "\n",
       "[19529 rows x 8 columns]"
      ]
     },
     "execution_count": 174,
     "metadata": {},
     "output_type": "execute_result"
    }
   ],
   "source": [
    "df = df.sort_values(by=['name','timestamp'])\n",
    "df"
   ]
  },
  {
   "cell_type": "code",
   "execution_count": 232,
   "metadata": {
    "collapsed": true
   },
   "outputs": [
    {
     "data": {
      "text/html": [
       "<div>\n",
       "<style scoped>\n",
       "    .dataframe tbody tr th:only-of-type {\n",
       "        vertical-align: middle;\n",
       "    }\n",
       "\n",
       "    .dataframe tbody tr th {\n",
       "        vertical-align: top;\n",
       "    }\n",
       "\n",
       "    .dataframe thead th {\n",
       "        text-align: right;\n",
       "    }\n",
       "</style>\n",
       "<table border=\"1\" class=\"dataframe\">\n",
       "  <thead>\n",
       "    <tr style=\"text-align: right;\">\n",
       "      <th></th>\n",
       "      <th>A</th>\n",
       "    </tr>\n",
       "  </thead>\n",
       "  <tbody>\n",
       "    <tr>\n",
       "      <th>0</th>\n",
       "      <td>a</td>\n",
       "    </tr>\n",
       "    <tr>\n",
       "      <th>1</th>\n",
       "      <td>a</td>\n",
       "    </tr>\n",
       "    <tr>\n",
       "      <th>2</th>\n",
       "      <td>a</td>\n",
       "    </tr>\n",
       "    <tr>\n",
       "      <th>3</th>\n",
       "      <td>b</td>\n",
       "    </tr>\n",
       "    <tr>\n",
       "      <th>4</th>\n",
       "      <td>b</td>\n",
       "    </tr>\n",
       "    <tr>\n",
       "      <th>5</th>\n",
       "      <td>a</td>\n",
       "    </tr>\n",
       "  </tbody>\n",
       "</table>\n",
       "</div>"
      ],
      "text/plain": [
       "   A\n",
       "0  a\n",
       "1  a\n",
       "2  a\n",
       "3  b\n",
       "4  b\n",
       "5  a"
      ]
     },
     "execution_count": 232,
     "metadata": {},
     "output_type": "execute_result"
    },
    {
     "data": {
      "text/html": [
       "<div>\n",
       "<style scoped>\n",
       "    .dataframe tbody tr th:only-of-type {\n",
       "        vertical-align: middle;\n",
       "    }\n",
       "\n",
       "    .dataframe tbody tr th {\n",
       "        vertical-align: top;\n",
       "    }\n",
       "\n",
       "    .dataframe thead th {\n",
       "        text-align: right;\n",
       "    }\n",
       "</style>\n",
       "<table border=\"1\" class=\"dataframe\">\n",
       "  <thead>\n",
       "    <tr style=\"text-align: right;\">\n",
       "      <th></th>\n",
       "      <th>A</th>\n",
       "    </tr>\n",
       "  </thead>\n",
       "  <tbody>\n",
       "    <tr>\n",
       "      <th>0</th>\n",
       "      <td>a</td>\n",
       "    </tr>\n",
       "    <tr>\n",
       "      <th>1</th>\n",
       "      <td>a</td>\n",
       "    </tr>\n",
       "    <tr>\n",
       "      <th>2</th>\n",
       "      <td>a</td>\n",
       "    </tr>\n",
       "    <tr>\n",
       "      <th>5</th>\n",
       "      <td>a</td>\n",
       "    </tr>\n",
       "  </tbody>\n",
       "</table>\n",
       "</div>"
      ],
      "text/plain": [
       "   A\n",
       "0  a\n",
       "1  a\n",
       "2  a\n",
       "5  a"
      ]
     },
     "execution_count": 232,
     "metadata": {},
     "output_type": "execute_result"
    },
    {
     "data": {
      "text/html": [
       "<div>\n",
       "<style scoped>\n",
       "    .dataframe tbody tr th:only-of-type {\n",
       "        vertical-align: middle;\n",
       "    }\n",
       "\n",
       "    .dataframe tbody tr th {\n",
       "        vertical-align: top;\n",
       "    }\n",
       "\n",
       "    .dataframe thead th {\n",
       "        text-align: right;\n",
       "    }\n",
       "</style>\n",
       "<table border=\"1\" class=\"dataframe\">\n",
       "  <thead>\n",
       "    <tr style=\"text-align: right;\">\n",
       "      <th></th>\n",
       "      <th>A</th>\n",
       "    </tr>\n",
       "  </thead>\n",
       "  <tbody>\n",
       "    <tr>\n",
       "      <th>3</th>\n",
       "      <td>b</td>\n",
       "    </tr>\n",
       "    <tr>\n",
       "      <th>4</th>\n",
       "      <td>b</td>\n",
       "    </tr>\n",
       "  </tbody>\n",
       "</table>\n",
       "</div>"
      ],
      "text/plain": [
       "   A\n",
       "3  b\n",
       "4  b"
      ]
     },
     "execution_count": 232,
     "metadata": {},
     "output_type": "execute_result"
    },
    {
     "data": {
      "text/plain": [
       "0    0\n",
       "1    1\n",
       "2    2\n",
       "3    0\n",
       "4    1\n",
       "5    3\n",
       "dtype: int64"
      ]
     },
     "execution_count": 232,
     "metadata": {},
     "output_type": "execute_result"
    }
   ],
   "source": [
    "data = pd.DataFrame([['a'], ['a'], ['a'], ['b'], ['b'], ['a']], columns=['A'])\n",
    "data\n",
    "for i , j in data.groupby(['A']):\n",
    "    j\n",
    "data.groupby(['A']).cumcount()"
   ]
  },
  {
   "cell_type": "code",
   "execution_count": 233,
   "metadata": {
    "collapsed": true
   },
   "outputs": [
    {
     "data": {
      "text/html": [
       "<div>\n",
       "<style scoped>\n",
       "    .dataframe tbody tr th:only-of-type {\n",
       "        vertical-align: middle;\n",
       "    }\n",
       "\n",
       "    .dataframe tbody tr th {\n",
       "        vertical-align: top;\n",
       "    }\n",
       "\n",
       "    .dataframe thead th {\n",
       "        text-align: right;\n",
       "    }\n",
       "</style>\n",
       "<table border=\"1\" class=\"dataframe\">\n",
       "  <thead>\n",
       "    <tr style=\"text-align: right;\">\n",
       "      <th></th>\n",
       "      <th>score</th>\n",
       "      <th>created</th>\n",
       "      <th>body</th>\n",
       "      <th>timestamp</th>\n",
       "      <th>country</th>\n",
       "      <th>name</th>\n",
       "      <th>time_diff</th>\n",
       "      <th>row_duration</th>\n",
       "    </tr>\n",
       "  </thead>\n",
       "  <tbody>\n",
       "    <tr>\n",
       "      <th>245</th>\n",
       "      <td>36</td>\n",
       "      <td>1.611818e+09</td>\n",
       "      <td>Hey Gang,\\n\\nLong time user that recently got ...</td>\n",
       "      <td>2021-01-28 09:08:59</td>\n",
       "      <td>Denmark</td>\n",
       "      <td>Adam Johnson</td>\n",
       "      <td>10473723.0</td>\n",
       "      <td>72.0</td>\n",
       "    </tr>\n",
       "    <tr>\n",
       "      <th>232</th>\n",
       "      <td>24</td>\n",
       "      <td>1.611818e+09</td>\n",
       "      <td>What am I missing people? $AMC has seen over b...</td>\n",
       "      <td>2021-01-28 09:10:44</td>\n",
       "      <td>New Caledonia</td>\n",
       "      <td>Adam Price</td>\n",
       "      <td>83.0</td>\n",
       "      <td>5118.0</td>\n",
       "    </tr>\n",
       "    <tr>\n",
       "      <th>192</th>\n",
       "      <td>260</td>\n",
       "      <td>1.611824e+09</td>\n",
       "      <td>There is a LOT of bad data flying around and i...</td>\n",
       "      <td>2021-01-28 11:00:42</td>\n",
       "      <td>Singapore</td>\n",
       "      <td>Amanda Sanchez</td>\n",
       "      <td>549.0</td>\n",
       "      <td>2748.0</td>\n",
       "    </tr>\n",
       "    <tr>\n",
       "      <th>244</th>\n",
       "      <td>37</td>\n",
       "      <td>1.611818e+09</td>\n",
       "      <td>Did I fall for a pump and dump is my money gon...</td>\n",
       "      <td>2021-01-28 09:09:01</td>\n",
       "      <td>Singapore</td>\n",
       "      <td>Anna Eaton</td>\n",
       "      <td>42.0</td>\n",
       "      <td>119.0</td>\n",
       "    </tr>\n",
       "    <tr>\n",
       "      <th>234</th>\n",
       "      <td>28</td>\n",
       "      <td>1.611818e+09</td>\n",
       "      <td>All the current options are deep ITM. Will thi...</td>\n",
       "      <td>2021-01-28 09:10:32</td>\n",
       "      <td>Sudan</td>\n",
       "      <td>Daniel Patel</td>\n",
       "      <td>134.0</td>\n",
       "      <td>328.0</td>\n",
       "    </tr>\n",
       "    <tr>\n",
       "      <th>250</th>\n",
       "      <td>50</td>\n",
       "      <td>1.611818e+09</td>\n",
       "      <td>Value goes up, kids play video games</td>\n",
       "      <td>2021-01-28 09:08:41</td>\n",
       "      <td>Denmark</td>\n",
       "      <td>Johnny Long</td>\n",
       "      <td>1.0</td>\n",
       "      <td>531.0</td>\n",
       "    </tr>\n",
       "    <tr>\n",
       "      <th>230</th>\n",
       "      <td>16</td>\n",
       "      <td>1.611818e+09</td>\n",
       "      <td>I mean my title says everything needed to be s...</td>\n",
       "      <td>2021-01-28 09:11:03</td>\n",
       "      <td>Singapore</td>\n",
       "      <td>Kathryn Torres</td>\n",
       "      <td>162.0</td>\n",
       "      <td>65.0</td>\n",
       "    </tr>\n",
       "    <tr>\n",
       "      <th>198</th>\n",
       "      <td>229</td>\n",
       "      <td>1.611824e+09</td>\n",
       "      <td>We are battling against a fund that tried to b...</td>\n",
       "      <td>2021-01-28 10:50:46</td>\n",
       "      <td>San Marino</td>\n",
       "      <td>Luis Farrell</td>\n",
       "      <td>6073.0</td>\n",
       "      <td>9214.0</td>\n",
       "    </tr>\n",
       "    <tr>\n",
       "      <th>237</th>\n",
       "      <td>48</td>\n",
       "      <td>1.611818e+09</td>\n",
       "      <td>Missed the train and couldn’t invest at this p...</td>\n",
       "      <td>2021-01-28 09:09:33</td>\n",
       "      <td>Denmark</td>\n",
       "      <td>Michele Robertson</td>\n",
       "      <td>9.0</td>\n",
       "      <td>100.0</td>\n",
       "    </tr>\n",
       "    <tr>\n",
       "      <th>211</th>\n",
       "      <td>341</td>\n",
       "      <td>1.611819e+09</td>\n",
       "      <td>I foresee this as being their last hope if the...</td>\n",
       "      <td>2021-01-28 09:28:19</td>\n",
       "      <td>Saint Helena</td>\n",
       "      <td>Mr. Joshua Harrington</td>\n",
       "      <td>1198.0</td>\n",
       "      <td>4879.0</td>\n",
       "    </tr>\n",
       "  </tbody>\n",
       "</table>\n",
       "</div>"
      ],
      "text/plain": [
       "     score       created                                               body  \\\n",
       "245     36  1.611818e+09  Hey Gang,\\n\\nLong time user that recently got ...   \n",
       "232     24  1.611818e+09  What am I missing people? $AMC has seen over b...   \n",
       "192    260  1.611824e+09  There is a LOT of bad data flying around and i...   \n",
       "244     37  1.611818e+09  Did I fall for a pump and dump is my money gon...   \n",
       "234     28  1.611818e+09  All the current options are deep ITM. Will thi...   \n",
       "250     50  1.611818e+09               Value goes up, kids play video games   \n",
       "230     16  1.611818e+09  I mean my title says everything needed to be s...   \n",
       "198    229  1.611824e+09  We are battling against a fund that tried to b...   \n",
       "237     48  1.611818e+09  Missed the train and couldn’t invest at this p...   \n",
       "211    341  1.611819e+09  I foresee this as being their last hope if the...   \n",
       "\n",
       "              timestamp        country                   name   time_diff  \\\n",
       "245 2021-01-28 09:08:59        Denmark           Adam Johnson  10473723.0   \n",
       "232 2021-01-28 09:10:44  New Caledonia             Adam Price        83.0   \n",
       "192 2021-01-28 11:00:42      Singapore         Amanda Sanchez       549.0   \n",
       "244 2021-01-28 09:09:01      Singapore             Anna Eaton        42.0   \n",
       "234 2021-01-28 09:10:32          Sudan           Daniel Patel       134.0   \n",
       "250 2021-01-28 09:08:41        Denmark            Johnny Long         1.0   \n",
       "230 2021-01-28 09:11:03      Singapore         Kathryn Torres       162.0   \n",
       "198 2021-01-28 10:50:46     San Marino           Luis Farrell      6073.0   \n",
       "237 2021-01-28 09:09:33        Denmark      Michele Robertson         9.0   \n",
       "211 2021-01-28 09:28:19   Saint Helena  Mr. Joshua Harrington      1198.0   \n",
       "\n",
       "     row_duration  \n",
       "245          72.0  \n",
       "232        5118.0  \n",
       "192        2748.0  \n",
       "244         119.0  \n",
       "234         328.0  \n",
       "250         531.0  \n",
       "230          65.0  \n",
       "198        9214.0  \n",
       "237         100.0  \n",
       "211        4879.0  "
      ]
     },
     "execution_count": 233,
     "metadata": {},
     "output_type": "execute_result"
    }
   ],
   "source": [
    "df[df.groupby('name').cumcount()==1]"
   ]
  },
  {
   "cell_type": "code",
   "execution_count": 109,
   "metadata": {
    "collapsed": true
   },
   "outputs": [
    {
     "data": {
      "text/html": [
       "<div>\n",
       "<style scoped>\n",
       "    .dataframe tbody tr th:only-of-type {\n",
       "        vertical-align: middle;\n",
       "    }\n",
       "\n",
       "    .dataframe tbody tr th {\n",
       "        vertical-align: top;\n",
       "    }\n",
       "\n",
       "    .dataframe thead th {\n",
       "        text-align: right;\n",
       "    }\n",
       "</style>\n",
       "<table border=\"1\" class=\"dataframe\">\n",
       "  <thead>\n",
       "    <tr style=\"text-align: right;\">\n",
       "      <th></th>\n",
       "      <th>score</th>\n",
       "      <th>created</th>\n",
       "      <th>body</th>\n",
       "      <th>timestamp</th>\n",
       "      <th>country</th>\n",
       "      <th>name</th>\n",
       "      <th>time_diff</th>\n",
       "      <th>row_duration</th>\n",
       "    </tr>\n",
       "  </thead>\n",
       "  <tbody>\n",
       "    <tr>\n",
       "      <th>230</th>\n",
       "      <td>16</td>\n",
       "      <td>1.611818e+09</td>\n",
       "      <td>I mean my title says everything needed to be s...</td>\n",
       "      <td>2021-01-28 09:11:03</td>\n",
       "      <td>Vietnam</td>\n",
       "      <td>Barry Richardson</td>\n",
       "      <td>162.0</td>\n",
       "      <td>65.0</td>\n",
       "    </tr>\n",
       "    <tr>\n",
       "      <th>237</th>\n",
       "      <td>48</td>\n",
       "      <td>1.611818e+09</td>\n",
       "      <td>Missed the train and couldn’t invest at this p...</td>\n",
       "      <td>2021-01-28 09:09:33</td>\n",
       "      <td>Mauritania</td>\n",
       "      <td>Carla Mcbride</td>\n",
       "      <td>9.0</td>\n",
       "      <td>100.0</td>\n",
       "    </tr>\n",
       "    <tr>\n",
       "      <th>232</th>\n",
       "      <td>24</td>\n",
       "      <td>1.611818e+09</td>\n",
       "      <td>What am I missing people? $AMC has seen over b...</td>\n",
       "      <td>2021-01-28 09:10:44</td>\n",
       "      <td>Samoa</td>\n",
       "      <td>Daniel Mendoza</td>\n",
       "      <td>83.0</td>\n",
       "      <td>5118.0</td>\n",
       "    </tr>\n",
       "    <tr>\n",
       "      <th>198</th>\n",
       "      <td>229</td>\n",
       "      <td>1.611824e+09</td>\n",
       "      <td>We are battling against a fund that tried to b...</td>\n",
       "      <td>2021-01-28 10:50:46</td>\n",
       "      <td>Kiribati</td>\n",
       "      <td>Gregory Cochran</td>\n",
       "      <td>6073.0</td>\n",
       "      <td>9214.0</td>\n",
       "    </tr>\n",
       "    <tr>\n",
       "      <th>234</th>\n",
       "      <td>28</td>\n",
       "      <td>1.611818e+09</td>\n",
       "      <td>All the current options are deep ITM. Will thi...</td>\n",
       "      <td>2021-01-28 09:10:32</td>\n",
       "      <td>Croatia</td>\n",
       "      <td>Laura Greer</td>\n",
       "      <td>134.0</td>\n",
       "      <td>328.0</td>\n",
       "    </tr>\n",
       "  </tbody>\n",
       "</table>\n",
       "</div>"
      ],
      "text/plain": [
       "     score       created                                               body  \\\n",
       "230     16  1.611818e+09  I mean my title says everything needed to be s...   \n",
       "237     48  1.611818e+09  Missed the train and couldn’t invest at this p...   \n",
       "232     24  1.611818e+09  What am I missing people? $AMC has seen over b...   \n",
       "198    229  1.611824e+09  We are battling against a fund that tried to b...   \n",
       "234     28  1.611818e+09  All the current options are deep ITM. Will thi...   \n",
       "\n",
       "              timestamp     country              name  time_diff  row_duration  \n",
       "230 2021-01-28 09:11:03     Vietnam  Barry Richardson      162.0          65.0  \n",
       "237 2021-01-28 09:09:33  Mauritania     Carla Mcbride        9.0         100.0  \n",
       "232 2021-01-28 09:10:44       Samoa    Daniel Mendoza       83.0        5118.0  \n",
       "198 2021-01-28 10:50:46    Kiribati   Gregory Cochran     6073.0        9214.0  \n",
       "234 2021-01-28 09:10:32     Croatia       Laura Greer      134.0         328.0  "
      ]
     },
     "execution_count": 109,
     "metadata": {},
     "output_type": "execute_result"
    }
   ],
   "source": [
    "df2 = df[df.groupby('name').cumcount()==1]\n",
    "df2.head()"
   ]
  },
  {
   "cell_type": "code",
   "execution_count": 319,
   "metadata": {
    "collapsed": true
   },
   "outputs": [],
   "source": [
    "df = df.sort_values(by=['name', 'timestamp'])\n",
    "df2 = df[df.groupby('name').cumcount()==2]"
   ]
  },
  {
   "cell_type": "markdown",
   "metadata": {},
   "source": [
    "Cumsum is just a cummulative summary of a numeric cell. For example you can add the money the person spend in each activity as an additional cell and then summarize the money spent by a person at each time of the day using:"
   ]
  },
  {
   "cell_type": "code",
   "execution_count": 321,
   "metadata": {
    "collapsed": true
   },
   "outputs": [
    {
     "data": {
      "text/html": [
       "<div>\n",
       "<style scoped>\n",
       "    .dataframe tbody tr th:only-of-type {\n",
       "        vertical-align: middle;\n",
       "    }\n",
       "\n",
       "    .dataframe tbody tr th {\n",
       "        vertical-align: top;\n",
       "    }\n",
       "\n",
       "    .dataframe thead th {\n",
       "        text-align: right;\n",
       "    }\n",
       "</style>\n",
       "<table border=\"1\" class=\"dataframe\">\n",
       "  <thead>\n",
       "    <tr style=\"text-align: right;\">\n",
       "      <th></th>\n",
       "      <th>score</th>\n",
       "      <th>created</th>\n",
       "      <th>body</th>\n",
       "      <th>timestamp</th>\n",
       "      <th>country</th>\n",
       "      <th>name</th>\n",
       "      <th>time_diff</th>\n",
       "      <th>row_duration</th>\n",
       "    </tr>\n",
       "  </thead>\n",
       "  <tbody>\n",
       "    <tr>\n",
       "      <th>229</th>\n",
       "      <td>38</td>\n",
       "      <td>1.611818e+09</td>\n",
       "      <td>I saw a post like a month ago talking about bu...</td>\n",
       "      <td>2021-01-28 09:11:13</td>\n",
       "      <td>Cape Verde</td>\n",
       "      <td>Ashley Burnett</td>\n",
       "      <td>NaN</td>\n",
       "      <td>33.0</td>\n",
       "    </tr>\n",
       "    <tr>\n",
       "      <th>226</th>\n",
       "      <td>51</td>\n",
       "      <td>1.611818e+09</td>\n",
       "      <td>Down heavy on amc, 49k shares @18.90 please he...</td>\n",
       "      <td>2021-01-28 09:11:46</td>\n",
       "      <td>Slovakia (Slovak Republic)</td>\n",
       "      <td>Ashley Burnett</td>\n",
       "      <td>33.0</td>\n",
       "      <td>5876.0</td>\n",
       "    </tr>\n",
       "    <tr>\n",
       "      <th>201</th>\n",
       "      <td>3500</td>\n",
       "      <td>1.611824e+09</td>\n",
       "      <td>Wall Street and the media are showing their re...</td>\n",
       "      <td>2021-01-28 10:49:42</td>\n",
       "      <td>Slovakia (Slovak Republic)</td>\n",
       "      <td>Ashley Burnett</td>\n",
       "      <td>5876.0</td>\n",
       "      <td>104.0</td>\n",
       "    </tr>\n",
       "    <tr>\n",
       "      <th>197</th>\n",
       "      <td>1373</td>\n",
       "      <td>1.611824e+09</td>\n",
       "      <td>Mods\\n\\nThis job has not been easy, we know. W...</td>\n",
       "      <td>2021-01-28 10:51:26</td>\n",
       "      <td>Slovakia (Slovak Republic)</td>\n",
       "      <td>Ashley Burnett</td>\n",
       "      <td>104.0</td>\n",
       "      <td>124.0</td>\n",
       "    </tr>\n",
       "    <tr>\n",
       "      <th>195</th>\n",
       "      <td>795</td>\n",
       "      <td>1.611824e+09</td>\n",
       "      <td>We need their scare tactics to have the total ...</td>\n",
       "      <td>2021-01-28 10:53:30</td>\n",
       "      <td>Saint Vincent and the Grenadines</td>\n",
       "      <td>Ashley Burnett</td>\n",
       "      <td>124.0</td>\n",
       "      <td>599.0</td>\n",
       "    </tr>\n",
       "  </tbody>\n",
       "</table>\n",
       "</div>"
      ],
      "text/plain": [
       "     score       created                                               body  \\\n",
       "229     38  1.611818e+09  I saw a post like a month ago talking about bu...   \n",
       "226     51  1.611818e+09  Down heavy on amc, 49k shares @18.90 please he...   \n",
       "201   3500  1.611824e+09  Wall Street and the media are showing their re...   \n",
       "197   1373  1.611824e+09  Mods\\n\\nThis job has not been easy, we know. W...   \n",
       "195    795  1.611824e+09  We need their scare tactics to have the total ...   \n",
       "\n",
       "              timestamp                           country            name  \\\n",
       "229 2021-01-28 09:11:13                        Cape Verde  Ashley Burnett   \n",
       "226 2021-01-28 09:11:46        Slovakia (Slovak Republic)  Ashley Burnett   \n",
       "201 2021-01-28 10:49:42        Slovakia (Slovak Republic)  Ashley Burnett   \n",
       "197 2021-01-28 10:51:26        Slovakia (Slovak Republic)  Ashley Burnett   \n",
       "195 2021-01-28 10:53:30  Saint Vincent and the Grenadines  Ashley Burnett   \n",
       "\n",
       "     time_diff  row_duration  \n",
       "229        NaN          33.0  \n",
       "226       33.0        5876.0  \n",
       "201     5876.0         104.0  \n",
       "197      104.0         124.0  \n",
       "195      124.0         599.0  "
      ]
     },
     "execution_count": 321,
     "metadata": {},
     "output_type": "execute_result"
    }
   ],
   "source": [
    "df.head()"
   ]
  },
  {
   "cell_type": "code",
   "execution_count": 322,
   "metadata": {
    "collapsed": true
   },
   "outputs": [],
   "source": [
    "df = df.sort_values(by=['name', 'timestamp'])\n",
    "df['score_so_far'] = df.groupby('name')['score'].cumsum()"
   ]
  },
  {
   "cell_type": "markdown",
   "metadata": {},
   "source": [
    "# 2. EDA(Explanatory Data Analysis)"
   ]
  },
  {
   "cell_type": "code",
   "execution_count": 3,
   "metadata": {
    "collapsed": true
   },
   "outputs": [
    {
     "data": {
      "text/html": [
       "<div>\n",
       "<style scoped>\n",
       "    .dataframe tbody tr th:only-of-type {\n",
       "        vertical-align: middle;\n",
       "    }\n",
       "\n",
       "    .dataframe tbody tr th {\n",
       "        vertical-align: top;\n",
       "    }\n",
       "\n",
       "    .dataframe thead th {\n",
       "        text-align: right;\n",
       "    }\n",
       "</style>\n",
       "<table border=\"1\" class=\"dataframe\">\n",
       "  <thead>\n",
       "    <tr style=\"text-align: right;\">\n",
       "      <th></th>\n",
       "      <th>title</th>\n",
       "      <th>score</th>\n",
       "      <th>id</th>\n",
       "      <th>url</th>\n",
       "      <th>comms_num</th>\n",
       "      <th>created</th>\n",
       "      <th>body</th>\n",
       "      <th>timestamp</th>\n",
       "    </tr>\n",
       "  </thead>\n",
       "  <tbody>\n",
       "    <tr>\n",
       "      <th>2</th>\n",
       "      <td>Exit the system</td>\n",
       "      <td>0</td>\n",
       "      <td>l6uhhn</td>\n",
       "      <td>https://www.reddit.com/r/wallstreetbets/commen...</td>\n",
       "      <td>47</td>\n",
       "      <td>1.611862e+09</td>\n",
       "      <td>The CEO of NASDAQ pushed to halt trading “to g...</td>\n",
       "      <td>2021-01-28 21:30:35</td>\n",
       "    </tr>\n",
       "    <tr>\n",
       "      <th>6</th>\n",
       "      <td>SHORT STOCK DOESN'T HAVE AN EXPIRATION DATE</td>\n",
       "      <td>317</td>\n",
       "      <td>l6uf6d</td>\n",
       "      <td>https://www.reddit.com/r/wallstreetbets/commen...</td>\n",
       "      <td>53</td>\n",
       "      <td>1.611862e+09</td>\n",
       "      <td>Hedgefund whales are spreading disinfo saying ...</td>\n",
       "      <td>2021-01-28 21:26:27</td>\n",
       "    </tr>\n",
       "    <tr>\n",
       "      <th>7</th>\n",
       "      <td>THIS IS THE MOMENT</td>\n",
       "      <td>405</td>\n",
       "      <td>l6ub9l</td>\n",
       "      <td>https://www.reddit.com/r/wallstreetbets/commen...</td>\n",
       "      <td>178</td>\n",
       "      <td>1.611862e+09</td>\n",
       "      <td>Life isn't fair. My mother always told me that...</td>\n",
       "      <td>2021-01-28 21:19:31</td>\n",
       "    </tr>\n",
       "  </tbody>\n",
       "</table>\n",
       "</div>"
      ],
      "text/plain": [
       "                                         title  score      id  \\\n",
       "2                              Exit the system      0  l6uhhn   \n",
       "6  SHORT STOCK DOESN'T HAVE AN EXPIRATION DATE    317  l6uf6d   \n",
       "7                           THIS IS THE MOMENT    405  l6ub9l   \n",
       "\n",
       "                                                 url  comms_num       created  \\\n",
       "2  https://www.reddit.com/r/wallstreetbets/commen...         47  1.611862e+09   \n",
       "6  https://www.reddit.com/r/wallstreetbets/commen...         53  1.611862e+09   \n",
       "7  https://www.reddit.com/r/wallstreetbets/commen...        178  1.611862e+09   \n",
       "\n",
       "                                                body            timestamp  \n",
       "2  The CEO of NASDAQ pushed to halt trading “to g...  2021-01-28 21:30:35  \n",
       "6  Hedgefund whales are spreading disinfo saying ...  2021-01-28 21:26:27  \n",
       "7  Life isn't fair. My mother always told me that...  2021-01-28 21:19:31  "
      ]
     },
     "execution_count": 3,
     "metadata": {},
     "output_type": "execute_result"
    }
   ],
   "source": [
    "df =pd.read_csv('../data/reddit_wsb.csv')\n",
    "df.dropna(inplace=True) # 모든 결측치 제거\n",
    "df.head(3)"
   ]
  },
  {
   "cell_type": "code",
   "execution_count": 5,
   "metadata": {
    "collapsed": true
   },
   "outputs": [
    {
     "data": {
      "text/html": [
       "<div>\n",
       "<style scoped>\n",
       "    .dataframe tbody tr th:only-of-type {\n",
       "        vertical-align: middle;\n",
       "    }\n",
       "\n",
       "    .dataframe tbody tr th {\n",
       "        vertical-align: top;\n",
       "    }\n",
       "\n",
       "    .dataframe thead th {\n",
       "        text-align: right;\n",
       "    }\n",
       "</style>\n",
       "<table border=\"1\" class=\"dataframe\">\n",
       "  <thead>\n",
       "    <tr style=\"text-align: right;\">\n",
       "      <th></th>\n",
       "      <th>title</th>\n",
       "      <th>score</th>\n",
       "      <th>id</th>\n",
       "      <th>url</th>\n",
       "      <th>comms_num</th>\n",
       "      <th>created</th>\n",
       "      <th>body</th>\n",
       "      <th>timestamp</th>\n",
       "    </tr>\n",
       "  </thead>\n",
       "  <tbody>\n",
       "    <tr>\n",
       "      <th>39325</th>\n",
       "      <td>My strategy to pressure naked calls to squeeze</td>\n",
       "      <td>4</td>\n",
       "      <td>lxwaif</td>\n",
       "      <td>https://www.reddit.com/r/wallstreetbets/commen...</td>\n",
       "      <td>21</td>\n",
       "      <td>1.614923e+09</td>\n",
       "      <td>I'm not a financial advisor, I'm just a dude o...</td>\n",
       "      <td>2021-03-05 07:46:14</td>\n",
       "    </tr>\n",
       "    <tr>\n",
       "      <th>39327</th>\n",
       "      <td>Siover Shorts</td>\n",
       "      <td>0</td>\n",
       "      <td>lxw9t2</td>\n",
       "      <td>https://www.reddit.com/r/wallstreetbets/commen...</td>\n",
       "      <td>1</td>\n",
       "      <td>1.614923e+09</td>\n",
       "      <td>Mike Maloney (youtube)  had a guest on the oth...</td>\n",
       "      <td>2021-03-05 07:45:15</td>\n",
       "    </tr>\n",
       "    <tr>\n",
       "      <th>39328</th>\n",
       "      <td>GME GME GME GME</td>\n",
       "      <td>60</td>\n",
       "      <td>lxw8mt</td>\n",
       "      <td>https://www.reddit.com/r/wallstreetbets/commen...</td>\n",
       "      <td>16</td>\n",
       "      <td>1.614923e+09</td>\n",
       "      <td>To the moon Lets go.\\n\\n&amp;#x200B;\\n\\n&amp;#x200B;\\n...</td>\n",
       "      <td>2021-03-05 07:43:43</td>\n",
       "    </tr>\n",
       "    <tr>\n",
       "      <th>39329</th>\n",
       "      <td>Latest Ryan Cohen Tweet</td>\n",
       "      <td>12</td>\n",
       "      <td>lxw7qa</td>\n",
       "      <td>https://www.reddit.com/r/wallstreetbets/commen...</td>\n",
       "      <td>14</td>\n",
       "      <td>1.614923e+09</td>\n",
       "      <td>So i went on youtube to find the [pets.com](ht...</td>\n",
       "      <td>2021-03-05 07:42:36</td>\n",
       "    </tr>\n",
       "    <tr>\n",
       "      <th>39336</th>\n",
       "      <td>TSEM DD (My friend wanted me to post this)</td>\n",
       "      <td>16</td>\n",
       "      <td>lxw48w</td>\n",
       "      <td>https://www.reddit.com/r/wallstreetbets/commen...</td>\n",
       "      <td>6</td>\n",
       "      <td>1.614923e+09</td>\n",
       "      <td>TSEM - Tower Semiconductor - Semiconductor Sho...</td>\n",
       "      <td>2021-03-05 07:37:52</td>\n",
       "    </tr>\n",
       "  </tbody>\n",
       "</table>\n",
       "</div>"
      ],
      "text/plain": [
       "                                                title  score      id  \\\n",
       "39325  My strategy to pressure naked calls to squeeze      4  lxwaif   \n",
       "39327                                   Siover Shorts      0  lxw9t2   \n",
       "39328                                 GME GME GME GME     60  lxw8mt   \n",
       "39329                         Latest Ryan Cohen Tweet     12  lxw7qa   \n",
       "39336      TSEM DD (My friend wanted me to post this)     16  lxw48w   \n",
       "\n",
       "                                                     url  comms_num  \\\n",
       "39325  https://www.reddit.com/r/wallstreetbets/commen...         21   \n",
       "39327  https://www.reddit.com/r/wallstreetbets/commen...          1   \n",
       "39328  https://www.reddit.com/r/wallstreetbets/commen...         16   \n",
       "39329  https://www.reddit.com/r/wallstreetbets/commen...         14   \n",
       "39336  https://www.reddit.com/r/wallstreetbets/commen...          6   \n",
       "\n",
       "            created                                               body  \\\n",
       "39325  1.614923e+09  I'm not a financial advisor, I'm just a dude o...   \n",
       "39327  1.614923e+09  Mike Maloney (youtube)  had a guest on the oth...   \n",
       "39328  1.614923e+09  To the moon Lets go.\\n\\n&#x200B;\\n\\n&#x200B;\\n...   \n",
       "39329  1.614923e+09  So i went on youtube to find the [pets.com](ht...   \n",
       "39336  1.614923e+09  TSEM - Tower Semiconductor - Semiconductor Sho...   \n",
       "\n",
       "                 timestamp  \n",
       "39325  2021-03-05 07:46:14  \n",
       "39327  2021-03-05 07:45:15  \n",
       "39328  2021-03-05 07:43:43  \n",
       "39329  2021-03-05 07:42:36  \n",
       "39336  2021-03-05 07:37:52  "
      ]
     },
     "execution_count": 5,
     "metadata": {},
     "output_type": "execute_result"
    },
    {
     "data": {
      "text/html": [
       "<div>\n",
       "<style scoped>\n",
       "    .dataframe tbody tr th:only-of-type {\n",
       "        vertical-align: middle;\n",
       "    }\n",
       "\n",
       "    .dataframe tbody tr th {\n",
       "        vertical-align: top;\n",
       "    }\n",
       "\n",
       "    .dataframe thead th {\n",
       "        text-align: right;\n",
       "    }\n",
       "</style>\n",
       "<table border=\"1\" class=\"dataframe\">\n",
       "  <thead>\n",
       "    <tr style=\"text-align: right;\">\n",
       "      <th></th>\n",
       "      <th>title</th>\n",
       "      <th>score</th>\n",
       "      <th>id</th>\n",
       "      <th>url</th>\n",
       "      <th>comms_num</th>\n",
       "      <th>created</th>\n",
       "      <th>body</th>\n",
       "      <th>timestamp</th>\n",
       "    </tr>\n",
       "  </thead>\n",
       "  <tbody>\n",
       "    <tr>\n",
       "      <th>26239</th>\n",
       "      <td>Retard here - how to read stock charts</td>\n",
       "      <td>1</td>\n",
       "      <td>lcmbxj</td>\n",
       "      <td>https://www.reddit.com/r/wallstreetbets/commen...</td>\n",
       "      <td>11</td>\n",
       "      <td>1.612492e+09</td>\n",
       "      <td>Could someone link a resource (or even what to...</td>\n",
       "      <td>2021-02-05 04:28:37</td>\n",
       "    </tr>\n",
       "    <tr>\n",
       "      <th>36466</th>\n",
       "      <td>Was a wild little ride - 12,500% of realized g...</td>\n",
       "      <td>38</td>\n",
       "      <td>lv462m</td>\n",
       "      <td>https://www.reddit.com/r/wallstreetbets/commen...</td>\n",
       "      <td>15</td>\n",
       "      <td>1.614617e+09</td>\n",
       "      <td>&amp;#x200B;\\n\\nhttps://preview.redd.it/fsdi6f93pd...</td>\n",
       "      <td>2021-03-01 18:43:27</td>\n",
       "    </tr>\n",
       "    <tr>\n",
       "      <th>2726</th>\n",
       "      <td>What brokers to buy GME in europe?</td>\n",
       "      <td>2</td>\n",
       "      <td>l6yybu</td>\n",
       "      <td>https://www.reddit.com/r/wallstreetbets/commen...</td>\n",
       "      <td>3</td>\n",
       "      <td>1.611875e+09</td>\n",
       "      <td>Hello fellow retards from the other side of th...</td>\n",
       "      <td>2021-01-29 01:03:24</td>\n",
       "    </tr>\n",
       "    <tr>\n",
       "      <th>22614</th>\n",
       "      <td>Bought $10,000 GME at open yesterday. My only ...</td>\n",
       "      <td>516</td>\n",
       "      <td>lb2bev</td>\n",
       "      <td>https://www.reddit.com/r/wallstreetbets/commen...</td>\n",
       "      <td>50</td>\n",
       "      <td>1.612318e+09</td>\n",
       "      <td>I have no idea how this is going to turn out, ...</td>\n",
       "      <td>2021-02-03 04:13:16</td>\n",
       "    </tr>\n",
       "    <tr>\n",
       "      <th>32420</th>\n",
       "      <td>Why I am GME</td>\n",
       "      <td>228</td>\n",
       "      <td>ljkpgj</td>\n",
       "      <td>https://www.reddit.com/r/wallstreetbets/commen...</td>\n",
       "      <td>87</td>\n",
       "      <td>1.613320e+09</td>\n",
       "      <td>GME is me. I am GME. This is a serious post. \\...</td>\n",
       "      <td>2021-02-14 18:28:54</td>\n",
       "    </tr>\n",
       "  </tbody>\n",
       "</table>\n",
       "</div>"
      ],
      "text/plain": [
       "                                                   title  score      id  \\\n",
       "26239             Retard here - how to read stock charts      1  lcmbxj   \n",
       "36466  Was a wild little ride - 12,500% of realized g...     38  lv462m   \n",
       "2726                  What brokers to buy GME in europe?      2  l6yybu   \n",
       "22614  Bought $10,000 GME at open yesterday. My only ...    516  lb2bev   \n",
       "32420                                       Why I am GME    228  ljkpgj   \n",
       "\n",
       "                                                     url  comms_num  \\\n",
       "26239  https://www.reddit.com/r/wallstreetbets/commen...         11   \n",
       "36466  https://www.reddit.com/r/wallstreetbets/commen...         15   \n",
       "2726   https://www.reddit.com/r/wallstreetbets/commen...          3   \n",
       "22614  https://www.reddit.com/r/wallstreetbets/commen...         50   \n",
       "32420  https://www.reddit.com/r/wallstreetbets/commen...         87   \n",
       "\n",
       "            created                                               body  \\\n",
       "26239  1.612492e+09  Could someone link a resource (or even what to...   \n",
       "36466  1.614617e+09  &#x200B;\\n\\nhttps://preview.redd.it/fsdi6f93pd...   \n",
       "2726   1.611875e+09  Hello fellow retards from the other side of th...   \n",
       "22614  1.612318e+09  I have no idea how this is going to turn out, ...   \n",
       "32420  1.613320e+09  GME is me. I am GME. This is a serious post. \\...   \n",
       "\n",
       "                 timestamp  \n",
       "26239  2021-02-05 04:28:37  \n",
       "36466  2021-03-01 18:43:27  \n",
       "2726   2021-01-29 01:03:24  \n",
       "22614  2021-02-03 04:13:16  \n",
       "32420  2021-02-14 18:28:54  "
      ]
     },
     "execution_count": 5,
     "metadata": {},
     "output_type": "execute_result"
    }
   ],
   "source": [
    "df.tail()\n",
    "df.sample(5)"
   ]
  },
  {
   "cell_type": "code",
   "execution_count": 4,
   "metadata": {
    "collapsed": true
   },
   "outputs": [
    {
     "data": {
      "text/plain": [
       "title         object\n",
       "score          int64\n",
       "id            object\n",
       "url           object\n",
       "comms_num      int64\n",
       "created      float64\n",
       "body          object\n",
       "timestamp     object\n",
       "dtype: object"
      ]
     },
     "execution_count": 4,
     "metadata": {},
     "output_type": "execute_result"
    }
   ],
   "source": [
    "df.dtypes"
   ]
  },
  {
   "cell_type": "code",
   "execution_count": 236,
   "metadata": {
    "collapsed": true
   },
   "outputs": [
    {
     "data": {
      "text/html": [
       "<div>\n",
       "<style scoped>\n",
       "    .dataframe tbody tr th:only-of-type {\n",
       "        vertical-align: middle;\n",
       "    }\n",
       "\n",
       "    .dataframe tbody tr th {\n",
       "        vertical-align: top;\n",
       "    }\n",
       "\n",
       "    .dataframe thead th {\n",
       "        text-align: right;\n",
       "    }\n",
       "</style>\n",
       "<table border=\"1\" class=\"dataframe\">\n",
       "  <thead>\n",
       "    <tr style=\"text-align: right;\">\n",
       "      <th></th>\n",
       "      <th>title</th>\n",
       "      <th>score</th>\n",
       "      <th>id</th>\n",
       "      <th>url</th>\n",
       "      <th>comms_num</th>\n",
       "      <th>created</th>\n",
       "      <th>body</th>\n",
       "      <th>timestamp</th>\n",
       "    </tr>\n",
       "  </thead>\n",
       "  <tbody>\n",
       "    <tr>\n",
       "      <th>2</th>\n",
       "      <td>Exit the system</td>\n",
       "      <td>0</td>\n",
       "      <td>l6uhhn</td>\n",
       "      <td>https://www.reddit.com/r/wallstreetbets/commen...</td>\n",
       "      <td>47</td>\n",
       "      <td>1.611862e+09</td>\n",
       "      <td>The CEO of NASDAQ pushed to halt trading “to g...</td>\n",
       "      <td>2021-01-28 21:30:35</td>\n",
       "    </tr>\n",
       "    <tr>\n",
       "      <th>7</th>\n",
       "      <td>THIS IS THE MOMENT</td>\n",
       "      <td>405</td>\n",
       "      <td>l6ub9l</td>\n",
       "      <td>https://www.reddit.com/r/wallstreetbets/commen...</td>\n",
       "      <td>178</td>\n",
       "      <td>1.611862e+09</td>\n",
       "      <td>Life isn't fair. My mother always told me that...</td>\n",
       "      <td>2021-01-28 21:19:31</td>\n",
       "    </tr>\n",
       "    <tr>\n",
       "      <th>12</th>\n",
       "      <td>Once you're done with GME - $AG and $SLV, the ...</td>\n",
       "      <td>0</td>\n",
       "      <td>l6u9wu</td>\n",
       "      <td>https://www.reddit.com/r/wallstreetbets/commen...</td>\n",
       "      <td>16</td>\n",
       "      <td>1.611861e+09</td>\n",
       "      <td>You guys are champs. GME... who would have tho...</td>\n",
       "      <td>2021-01-28 21:17:10</td>\n",
       "    </tr>\n",
       "  </tbody>\n",
       "</table>\n",
       "</div>"
      ],
      "text/plain": [
       "                                                title  score      id  \\\n",
       "2                                     Exit the system      0  l6uhhn   \n",
       "7                                  THIS IS THE MOMENT    405  l6ub9l   \n",
       "12  Once you're done with GME - $AG and $SLV, the ...      0  l6u9wu   \n",
       "\n",
       "                                                  url  comms_num  \\\n",
       "2   https://www.reddit.com/r/wallstreetbets/commen...         47   \n",
       "7   https://www.reddit.com/r/wallstreetbets/commen...        178   \n",
       "12  https://www.reddit.com/r/wallstreetbets/commen...         16   \n",
       "\n",
       "         created                                               body  \\\n",
       "2   1.611862e+09  The CEO of NASDAQ pushed to halt trading “to g...   \n",
       "7   1.611862e+09  Life isn't fair. My mother always told me that...   \n",
       "12  1.611861e+09  You guys are champs. GME... who would have tho...   \n",
       "\n",
       "              timestamp  \n",
       "2   2021-01-28 21:30:35  \n",
       "7   2021-01-28 21:19:31  \n",
       "12  2021-01-28 21:17:10  "
      ]
     },
     "execution_count": 236,
     "metadata": {},
     "output_type": "execute_result"
    },
    {
     "data": {
      "text/html": [
       "<div>\n",
       "<style scoped>\n",
       "    .dataframe tbody tr th:only-of-type {\n",
       "        vertical-align: middle;\n",
       "    }\n",
       "\n",
       "    .dataframe tbody tr th {\n",
       "        vertical-align: top;\n",
       "    }\n",
       "\n",
       "    .dataframe thead th {\n",
       "        text-align: right;\n",
       "    }\n",
       "</style>\n",
       "<table border=\"1\" class=\"dataframe\">\n",
       "  <thead>\n",
       "    <tr style=\"text-align: right;\">\n",
       "      <th></th>\n",
       "      <th>title</th>\n",
       "      <th>score</th>\n",
       "      <th>id</th>\n",
       "      <th>url</th>\n",
       "      <th>comms_num</th>\n",
       "      <th>created</th>\n",
       "      <th>body</th>\n",
       "      <th>timestamp</th>\n",
       "    </tr>\n",
       "  </thead>\n",
       "  <tbody>\n",
       "    <tr>\n",
       "      <th>6</th>\n",
       "      <td>SHORT STOCK DOESN'T HAVE AN EXPIRATION DATE</td>\n",
       "      <td>317</td>\n",
       "      <td>l6uf6d</td>\n",
       "      <td>https://www.reddit.com/r/wallstreetbets/commen...</td>\n",
       "      <td>53</td>\n",
       "      <td>1.611862e+09</td>\n",
       "      <td>Hedgefund whales are spreading disinfo saying ...</td>\n",
       "      <td>2021-01-28 21:26:27</td>\n",
       "    </tr>\n",
       "    <tr>\n",
       "      <th>10</th>\n",
       "      <td>We need to keep this movement going, we all ca...</td>\n",
       "      <td>222</td>\n",
       "      <td>l6uao1</td>\n",
       "      <td>https://www.reddit.com/r/wallstreetbets/commen...</td>\n",
       "      <td>70</td>\n",
       "      <td>1.611862e+09</td>\n",
       "      <td>I believe right now is one of those rare oppo...</td>\n",
       "      <td>2021-01-28 21:18:25</td>\n",
       "    </tr>\n",
       "    <tr>\n",
       "      <th>13</th>\n",
       "      <td>$GME price has nothing to do with fundamentals...</td>\n",
       "      <td>382</td>\n",
       "      <td>l6u96y</td>\n",
       "      <td>https://www.reddit.com/r/wallstreetbets/commen...</td>\n",
       "      <td>61</td>\n",
       "      <td>1.611861e+09</td>\n",
       "      <td>Firstly, all of you diamond hands and smooth-b...</td>\n",
       "      <td>2021-01-28 21:15:58</td>\n",
       "    </tr>\n",
       "  </tbody>\n",
       "</table>\n",
       "</div>"
      ],
      "text/plain": [
       "                                                title  score      id  \\\n",
       "6         SHORT STOCK DOESN'T HAVE AN EXPIRATION DATE    317  l6uf6d   \n",
       "10  We need to keep this movement going, we all ca...    222  l6uao1   \n",
       "13  $GME price has nothing to do with fundamentals...    382  l6u96y   \n",
       "\n",
       "                                                  url  comms_num  \\\n",
       "6   https://www.reddit.com/r/wallstreetbets/commen...         53   \n",
       "10  https://www.reddit.com/r/wallstreetbets/commen...         70   \n",
       "13  https://www.reddit.com/r/wallstreetbets/commen...         61   \n",
       "\n",
       "         created                                               body  \\\n",
       "6   1.611862e+09  Hedgefund whales are spreading disinfo saying ...   \n",
       "10  1.611862e+09   I believe right now is one of those rare oppo...   \n",
       "13  1.611861e+09  Firstly, all of you diamond hands and smooth-b...   \n",
       "\n",
       "              timestamp  \n",
       "6   2021-01-28 21:26:27  \n",
       "10  2021-01-28 21:18:25  \n",
       "13  2021-01-28 21:15:58  "
      ]
     },
     "execution_count": 236,
     "metadata": {},
     "output_type": "execute_result"
    }
   ],
   "source": [
    "df[::2].head(3) # even rows\n",
    "df[1::2].head(3) # odds rows"
   ]
  },
  {
   "cell_type": "markdown",
   "metadata": {},
   "source": [
    "## info()"
   ]
  },
  {
   "cell_type": "code",
   "execution_count": 237,
   "metadata": {
    "collapsed": true
   },
   "outputs": [
    {
     "name": "stdout",
     "output_type": "stream",
     "text": [
      "<class 'pandas.core.frame.DataFrame'>\n",
      "Int64Index: 19529 entries, 2 to 39336\n",
      "Data columns (total 8 columns):\n",
      " #   Column     Non-Null Count  Dtype  \n",
      "---  ------     --------------  -----  \n",
      " 0   title      19529 non-null  object \n",
      " 1   score      19529 non-null  int64  \n",
      " 2   id         19529 non-null  object \n",
      " 3   url        19529 non-null  object \n",
      " 4   comms_num  19529 non-null  int64  \n",
      " 5   created    19529 non-null  float64\n",
      " 6   body       19529 non-null  object \n",
      " 7   timestamp  19529 non-null  object \n",
      "dtypes: float64(1), int64(2), object(5)\n",
      "memory usage: 1.3+ MB\n"
     ]
    }
   ],
   "source": [
    "df.info()"
   ]
  },
  {
   "cell_type": "markdown",
   "metadata": {},
   "source": [
    "## describe()"
   ]
  },
  {
   "cell_type": "code",
   "execution_count": 239,
   "metadata": {
    "collapsed": true
   },
   "outputs": [
    {
     "data": {
      "text/html": [
       "<div>\n",
       "<style scoped>\n",
       "    .dataframe tbody tr th:only-of-type {\n",
       "        vertical-align: middle;\n",
       "    }\n",
       "\n",
       "    .dataframe tbody tr th {\n",
       "        vertical-align: top;\n",
       "    }\n",
       "\n",
       "    .dataframe thead th {\n",
       "        text-align: right;\n",
       "    }\n",
       "</style>\n",
       "<table border=\"1\" class=\"dataframe\">\n",
       "  <thead>\n",
       "    <tr style=\"text-align: right;\">\n",
       "      <th></th>\n",
       "      <th>score</th>\n",
       "      <th>comms_num</th>\n",
       "      <th>created</th>\n",
       "    </tr>\n",
       "  </thead>\n",
       "  <tbody>\n",
       "    <tr>\n",
       "      <th>count</th>\n",
       "      <td>19529.000000</td>\n",
       "      <td>19529.000000</td>\n",
       "      <td>1.952900e+04</td>\n",
       "    </tr>\n",
       "    <tr>\n",
       "      <th>mean</th>\n",
       "      <td>505.208818</td>\n",
       "      <td>235.358492</td>\n",
       "      <td>1.612384e+09</td>\n",
       "    </tr>\n",
       "    <tr>\n",
       "      <th>std</th>\n",
       "      <td>3608.714136</td>\n",
       "      <td>2836.759728</td>\n",
       "      <td>7.983578e+05</td>\n",
       "    </tr>\n",
       "    <tr>\n",
       "      <th>min</th>\n",
       "      <td>0.000000</td>\n",
       "      <td>0.000000</td>\n",
       "      <td>1.601340e+09</td>\n",
       "    </tr>\n",
       "    <tr>\n",
       "      <th>25%</th>\n",
       "      <td>1.000000</td>\n",
       "      <td>1.000000</td>\n",
       "      <td>1.611878e+09</td>\n",
       "    </tr>\n",
       "    <tr>\n",
       "      <th>50%</th>\n",
       "      <td>6.000000</td>\n",
       "      <td>7.000000</td>\n",
       "      <td>1.611951e+09</td>\n",
       "    </tr>\n",
       "    <tr>\n",
       "      <th>75%</th>\n",
       "      <td>67.000000</td>\n",
       "      <td>38.000000</td>\n",
       "      <td>1.612558e+09</td>\n",
       "    </tr>\n",
       "    <tr>\n",
       "      <th>max</th>\n",
       "      <td>111559.000000</td>\n",
       "      <td>89050.000000</td>\n",
       "      <td>1.615214e+09</td>\n",
       "    </tr>\n",
       "  </tbody>\n",
       "</table>\n",
       "</div>"
      ],
      "text/plain": [
       "               score     comms_num       created\n",
       "count   19529.000000  19529.000000  1.952900e+04\n",
       "mean      505.208818    235.358492  1.612384e+09\n",
       "std      3608.714136   2836.759728  7.983578e+05\n",
       "min         0.000000      0.000000  1.601340e+09\n",
       "25%         1.000000      1.000000  1.611878e+09\n",
       "50%         6.000000      7.000000  1.611951e+09\n",
       "75%        67.000000     38.000000  1.612558e+09\n",
       "max    111559.000000  89050.000000  1.615214e+09"
      ]
     },
     "execution_count": 239,
     "metadata": {},
     "output_type": "execute_result"
    },
    {
     "data": {
      "text/html": [
       "<div>\n",
       "<style scoped>\n",
       "    .dataframe tbody tr th:only-of-type {\n",
       "        vertical-align: middle;\n",
       "    }\n",
       "\n",
       "    .dataframe tbody tr th {\n",
       "        vertical-align: top;\n",
       "    }\n",
       "\n",
       "    .dataframe thead th {\n",
       "        text-align: right;\n",
       "    }\n",
       "</style>\n",
       "<table border=\"1\" class=\"dataframe\">\n",
       "  <thead>\n",
       "    <tr style=\"text-align: right;\">\n",
       "      <th></th>\n",
       "      <th>title</th>\n",
       "      <th>score</th>\n",
       "      <th>id</th>\n",
       "      <th>url</th>\n",
       "      <th>comms_num</th>\n",
       "      <th>created</th>\n",
       "      <th>body</th>\n",
       "      <th>timestamp</th>\n",
       "    </tr>\n",
       "  </thead>\n",
       "  <tbody>\n",
       "    <tr>\n",
       "      <th>count</th>\n",
       "      <td>19529</td>\n",
       "      <td>19529.000000</td>\n",
       "      <td>19529</td>\n",
       "      <td>19529</td>\n",
       "      <td>19529.000000</td>\n",
       "      <td>1.952900e+04</td>\n",
       "      <td>19529</td>\n",
       "      <td>19529</td>\n",
       "    </tr>\n",
       "    <tr>\n",
       "      <th>unique</th>\n",
       "      <td>19037</td>\n",
       "      <td>NaN</td>\n",
       "      <td>19529</td>\n",
       "      <td>19529</td>\n",
       "      <td>NaN</td>\n",
       "      <td>NaN</td>\n",
       "      <td>19276</td>\n",
       "      <td>15309</td>\n",
       "    </tr>\n",
       "    <tr>\n",
       "      <th>top</th>\n",
       "      <td>AMC</td>\n",
       "      <td>NaN</td>\n",
       "      <td>l71em3</td>\n",
       "      <td>https://www.reddit.com/r/wallstreetbets/commen...</td>\n",
       "      <td>NaN</td>\n",
       "      <td>NaN</td>\n",
       "      <td>Your daily trading discussion thread. Please k...</td>\n",
       "      <td>2021-01-29 01:03:59</td>\n",
       "    </tr>\n",
       "    <tr>\n",
       "      <th>freq</th>\n",
       "      <td>38</td>\n",
       "      <td>NaN</td>\n",
       "      <td>1</td>\n",
       "      <td>1</td>\n",
       "      <td>NaN</td>\n",
       "      <td>NaN</td>\n",
       "      <td>17</td>\n",
       "      <td>12</td>\n",
       "    </tr>\n",
       "    <tr>\n",
       "      <th>mean</th>\n",
       "      <td>NaN</td>\n",
       "      <td>505.208818</td>\n",
       "      <td>NaN</td>\n",
       "      <td>NaN</td>\n",
       "      <td>235.358492</td>\n",
       "      <td>1.612384e+09</td>\n",
       "      <td>NaN</td>\n",
       "      <td>NaN</td>\n",
       "    </tr>\n",
       "    <tr>\n",
       "      <th>std</th>\n",
       "      <td>NaN</td>\n",
       "      <td>3608.714136</td>\n",
       "      <td>NaN</td>\n",
       "      <td>NaN</td>\n",
       "      <td>2836.759728</td>\n",
       "      <td>7.983578e+05</td>\n",
       "      <td>NaN</td>\n",
       "      <td>NaN</td>\n",
       "    </tr>\n",
       "    <tr>\n",
       "      <th>min</th>\n",
       "      <td>NaN</td>\n",
       "      <td>0.000000</td>\n",
       "      <td>NaN</td>\n",
       "      <td>NaN</td>\n",
       "      <td>0.000000</td>\n",
       "      <td>1.601340e+09</td>\n",
       "      <td>NaN</td>\n",
       "      <td>NaN</td>\n",
       "    </tr>\n",
       "    <tr>\n",
       "      <th>25%</th>\n",
       "      <td>NaN</td>\n",
       "      <td>1.000000</td>\n",
       "      <td>NaN</td>\n",
       "      <td>NaN</td>\n",
       "      <td>1.000000</td>\n",
       "      <td>1.611878e+09</td>\n",
       "      <td>NaN</td>\n",
       "      <td>NaN</td>\n",
       "    </tr>\n",
       "    <tr>\n",
       "      <th>50%</th>\n",
       "      <td>NaN</td>\n",
       "      <td>6.000000</td>\n",
       "      <td>NaN</td>\n",
       "      <td>NaN</td>\n",
       "      <td>7.000000</td>\n",
       "      <td>1.611951e+09</td>\n",
       "      <td>NaN</td>\n",
       "      <td>NaN</td>\n",
       "    </tr>\n",
       "    <tr>\n",
       "      <th>75%</th>\n",
       "      <td>NaN</td>\n",
       "      <td>67.000000</td>\n",
       "      <td>NaN</td>\n",
       "      <td>NaN</td>\n",
       "      <td>38.000000</td>\n",
       "      <td>1.612558e+09</td>\n",
       "      <td>NaN</td>\n",
       "      <td>NaN</td>\n",
       "    </tr>\n",
       "    <tr>\n",
       "      <th>max</th>\n",
       "      <td>NaN</td>\n",
       "      <td>111559.000000</td>\n",
       "      <td>NaN</td>\n",
       "      <td>NaN</td>\n",
       "      <td>89050.000000</td>\n",
       "      <td>1.615214e+09</td>\n",
       "      <td>NaN</td>\n",
       "      <td>NaN</td>\n",
       "    </tr>\n",
       "  </tbody>\n",
       "</table>\n",
       "</div>"
      ],
      "text/plain": [
       "        title          score      id  \\\n",
       "count   19529   19529.000000   19529   \n",
       "unique  19037            NaN   19529   \n",
       "top       AMC            NaN  l71em3   \n",
       "freq       38            NaN       1   \n",
       "mean      NaN     505.208818     NaN   \n",
       "std       NaN    3608.714136     NaN   \n",
       "min       NaN       0.000000     NaN   \n",
       "25%       NaN       1.000000     NaN   \n",
       "50%       NaN       6.000000     NaN   \n",
       "75%       NaN      67.000000     NaN   \n",
       "max       NaN  111559.000000     NaN   \n",
       "\n",
       "                                                      url     comms_num  \\\n",
       "count                                               19529  19529.000000   \n",
       "unique                                              19529           NaN   \n",
       "top     https://www.reddit.com/r/wallstreetbets/commen...           NaN   \n",
       "freq                                                    1           NaN   \n",
       "mean                                                  NaN    235.358492   \n",
       "std                                                   NaN   2836.759728   \n",
       "min                                                   NaN      0.000000   \n",
       "25%                                                   NaN      1.000000   \n",
       "50%                                                   NaN      7.000000   \n",
       "75%                                                   NaN     38.000000   \n",
       "max                                                   NaN  89050.000000   \n",
       "\n",
       "             created                                               body  \\\n",
       "count   1.952900e+04                                              19529   \n",
       "unique           NaN                                              19276   \n",
       "top              NaN  Your daily trading discussion thread. Please k...   \n",
       "freq             NaN                                                 17   \n",
       "mean    1.612384e+09                                                NaN   \n",
       "std     7.983578e+05                                                NaN   \n",
       "min     1.601340e+09                                                NaN   \n",
       "25%     1.611878e+09                                                NaN   \n",
       "50%     1.611951e+09                                                NaN   \n",
       "75%     1.612558e+09                                                NaN   \n",
       "max     1.615214e+09                                                NaN   \n",
       "\n",
       "                  timestamp  \n",
       "count                 19529  \n",
       "unique                15309  \n",
       "top     2021-01-29 01:03:59  \n",
       "freq                     12  \n",
       "mean                    NaN  \n",
       "std                     NaN  \n",
       "min                     NaN  \n",
       "25%                     NaN  \n",
       "50%                     NaN  \n",
       "75%                     NaN  \n",
       "max                     NaN  "
      ]
     },
     "execution_count": 239,
     "metadata": {},
     "output_type": "execute_result"
    }
   ],
   "source": [
    "df.describe() # show only numeric columns\n",
    "df.describe(include='all')"
   ]
  },
  {
   "cell_type": "code",
   "execution_count": 10,
   "metadata": {
    "collapsed": true
   },
   "outputs": [
    {
     "data": {
      "text/plain": [
       "array([[<matplotlib.axes._subplots.AxesSubplot object at 0x00000275932A8348>,\n",
       "        <matplotlib.axes._subplots.AxesSubplot object at 0x00000275937A7A08>],\n",
       "       [<matplotlib.axes._subplots.AxesSubplot object at 0x00000275937D9E48>,\n",
       "        <matplotlib.axes._subplots.AxesSubplot object at 0x00000275939854C8>]],\n",
       "      dtype=object)"
      ]
     },
     "execution_count": 10,
     "metadata": {},
     "output_type": "execute_result"
    },
    {
     "data": {
      "image/png": "[encoded data removed]",
      "text/plain": [
       "<Figure size 1440x576 with 4 Axes>"
      ]
     },
     "metadata": {
      "needs_background": "light"
     },
     "output_type": "display_data"
    }
   ],
   "source": [
    "df.hist(figsize=(20, 8), xrot=45)"
   ]
  },
  {
   "cell_type": "markdown",
   "metadata": {},
   "source": [
    "## Missing values"
   ]
  },
  {
   "cell_type": "code",
   "execution_count": 240,
   "metadata": {
    "collapsed": true
   },
   "outputs": [
    {
     "data": {
      "text/html": [
       "<div>\n",
       "<style scoped>\n",
       "    .dataframe tbody tr th:only-of-type {\n",
       "        vertical-align: middle;\n",
       "    }\n",
       "\n",
       "    .dataframe tbody tr th {\n",
       "        vertical-align: top;\n",
       "    }\n",
       "\n",
       "    .dataframe thead th {\n",
       "        text-align: right;\n",
       "    }\n",
       "</style>\n",
       "<table border=\"1\" class=\"dataframe\">\n",
       "  <thead>\n",
       "    <tr style=\"text-align: right;\">\n",
       "      <th></th>\n",
       "      <th>title</th>\n",
       "      <th>score</th>\n",
       "      <th>id</th>\n",
       "      <th>url</th>\n",
       "      <th>comms_num</th>\n",
       "      <th>created</th>\n",
       "      <th>body</th>\n",
       "      <th>timestamp</th>\n",
       "    </tr>\n",
       "  </thead>\n",
       "  <tbody>\n",
       "    <tr>\n",
       "      <th>2</th>\n",
       "      <td>False</td>\n",
       "      <td>False</td>\n",
       "      <td>False</td>\n",
       "      <td>False</td>\n",
       "      <td>False</td>\n",
       "      <td>False</td>\n",
       "      <td>False</td>\n",
       "      <td>False</td>\n",
       "    </tr>\n",
       "    <tr>\n",
       "      <th>6</th>\n",
       "      <td>False</td>\n",
       "      <td>False</td>\n",
       "      <td>False</td>\n",
       "      <td>False</td>\n",
       "      <td>False</td>\n",
       "      <td>False</td>\n",
       "      <td>False</td>\n",
       "      <td>False</td>\n",
       "    </tr>\n",
       "    <tr>\n",
       "      <th>7</th>\n",
       "      <td>False</td>\n",
       "      <td>False</td>\n",
       "      <td>False</td>\n",
       "      <td>False</td>\n",
       "      <td>False</td>\n",
       "      <td>False</td>\n",
       "      <td>False</td>\n",
       "      <td>False</td>\n",
       "    </tr>\n",
       "    <tr>\n",
       "      <th>10</th>\n",
       "      <td>False</td>\n",
       "      <td>False</td>\n",
       "      <td>False</td>\n",
       "      <td>False</td>\n",
       "      <td>False</td>\n",
       "      <td>False</td>\n",
       "      <td>False</td>\n",
       "      <td>False</td>\n",
       "    </tr>\n",
       "    <tr>\n",
       "      <th>12</th>\n",
       "      <td>False</td>\n",
       "      <td>False</td>\n",
       "      <td>False</td>\n",
       "      <td>False</td>\n",
       "      <td>False</td>\n",
       "      <td>False</td>\n",
       "      <td>False</td>\n",
       "      <td>False</td>\n",
       "    </tr>\n",
       "    <tr>\n",
       "      <th>...</th>\n",
       "      <td>...</td>\n",
       "      <td>...</td>\n",
       "      <td>...</td>\n",
       "      <td>...</td>\n",
       "      <td>...</td>\n",
       "      <td>...</td>\n",
       "      <td>...</td>\n",
       "      <td>...</td>\n",
       "    </tr>\n",
       "    <tr>\n",
       "      <th>39325</th>\n",
       "      <td>False</td>\n",
       "      <td>False</td>\n",
       "      <td>False</td>\n",
       "      <td>False</td>\n",
       "      <td>False</td>\n",
       "      <td>False</td>\n",
       "      <td>False</td>\n",
       "      <td>False</td>\n",
       "    </tr>\n",
       "    <tr>\n",
       "      <th>39327</th>\n",
       "      <td>False</td>\n",
       "      <td>False</td>\n",
       "      <td>False</td>\n",
       "      <td>False</td>\n",
       "      <td>False</td>\n",
       "      <td>False</td>\n",
       "      <td>False</td>\n",
       "      <td>False</td>\n",
       "    </tr>\n",
       "    <tr>\n",
       "      <th>39328</th>\n",
       "      <td>False</td>\n",
       "      <td>False</td>\n",
       "      <td>False</td>\n",
       "      <td>False</td>\n",
       "      <td>False</td>\n",
       "      <td>False</td>\n",
       "      <td>False</td>\n",
       "      <td>False</td>\n",
       "    </tr>\n",
       "    <tr>\n",
       "      <th>39329</th>\n",
       "      <td>False</td>\n",
       "      <td>False</td>\n",
       "      <td>False</td>\n",
       "      <td>False</td>\n",
       "      <td>False</td>\n",
       "      <td>False</td>\n",
       "      <td>False</td>\n",
       "      <td>False</td>\n",
       "    </tr>\n",
       "    <tr>\n",
       "      <th>39336</th>\n",
       "      <td>False</td>\n",
       "      <td>False</td>\n",
       "      <td>False</td>\n",
       "      <td>False</td>\n",
       "      <td>False</td>\n",
       "      <td>False</td>\n",
       "      <td>False</td>\n",
       "      <td>False</td>\n",
       "    </tr>\n",
       "  </tbody>\n",
       "</table>\n",
       "<p>19529 rows × 8 columns</p>\n",
       "</div>"
      ],
      "text/plain": [
       "       title  score     id    url  comms_num  created   body  timestamp\n",
       "2      False  False  False  False      False    False  False      False\n",
       "6      False  False  False  False      False    False  False      False\n",
       "7      False  False  False  False      False    False  False      False\n",
       "10     False  False  False  False      False    False  False      False\n",
       "12     False  False  False  False      False    False  False      False\n",
       "...      ...    ...    ...    ...        ...      ...    ...        ...\n",
       "39325  False  False  False  False      False    False  False      False\n",
       "39327  False  False  False  False      False    False  False      False\n",
       "39328  False  False  False  False      False    False  False      False\n",
       "39329  False  False  False  False      False    False  False      False\n",
       "39336  False  False  False  False      False    False  False      False\n",
       "\n",
       "[19529 rows x 8 columns]"
      ]
     },
     "execution_count": 240,
     "metadata": {},
     "output_type": "execute_result"
    }
   ],
   "source": [
    "df.isnull()"
   ]
  },
  {
   "cell_type": "code",
   "execution_count": 241,
   "metadata": {
    "collapsed": true
   },
   "outputs": [
    {
     "data": {
      "text/html": [
       "<div>\n",
       "<style scoped>\n",
       "    .dataframe tbody tr th:only-of-type {\n",
       "        vertical-align: middle;\n",
       "    }\n",
       "\n",
       "    .dataframe tbody tr th {\n",
       "        vertical-align: top;\n",
       "    }\n",
       "\n",
       "    .dataframe thead th {\n",
       "        text-align: right;\n",
       "    }\n",
       "</style>\n",
       "<table border=\"1\" class=\"dataframe\">\n",
       "  <thead>\n",
       "    <tr style=\"text-align: right;\">\n",
       "      <th></th>\n",
       "      <th>title</th>\n",
       "      <th>score</th>\n",
       "      <th>id</th>\n",
       "      <th>url</th>\n",
       "      <th>comms_num</th>\n",
       "      <th>created</th>\n",
       "      <th>body</th>\n",
       "      <th>timestamp</th>\n",
       "    </tr>\n",
       "  </thead>\n",
       "  <tbody>\n",
       "    <tr>\n",
       "      <th>2</th>\n",
       "      <td>0</td>\n",
       "      <td>0</td>\n",
       "      <td>0</td>\n",
       "      <td>0</td>\n",
       "      <td>0</td>\n",
       "      <td>0</td>\n",
       "      <td>0</td>\n",
       "      <td>0</td>\n",
       "    </tr>\n",
       "    <tr>\n",
       "      <th>6</th>\n",
       "      <td>0</td>\n",
       "      <td>0</td>\n",
       "      <td>0</td>\n",
       "      <td>0</td>\n",
       "      <td>0</td>\n",
       "      <td>0</td>\n",
       "      <td>0</td>\n",
       "      <td>0</td>\n",
       "    </tr>\n",
       "    <tr>\n",
       "      <th>7</th>\n",
       "      <td>0</td>\n",
       "      <td>0</td>\n",
       "      <td>0</td>\n",
       "      <td>0</td>\n",
       "      <td>0</td>\n",
       "      <td>0</td>\n",
       "      <td>0</td>\n",
       "      <td>0</td>\n",
       "    </tr>\n",
       "    <tr>\n",
       "      <th>10</th>\n",
       "      <td>0</td>\n",
       "      <td>0</td>\n",
       "      <td>0</td>\n",
       "      <td>0</td>\n",
       "      <td>0</td>\n",
       "      <td>0</td>\n",
       "      <td>0</td>\n",
       "      <td>0</td>\n",
       "    </tr>\n",
       "    <tr>\n",
       "      <th>12</th>\n",
       "      <td>0</td>\n",
       "      <td>0</td>\n",
       "      <td>0</td>\n",
       "      <td>0</td>\n",
       "      <td>0</td>\n",
       "      <td>0</td>\n",
       "      <td>0</td>\n",
       "      <td>0</td>\n",
       "    </tr>\n",
       "    <tr>\n",
       "      <th>...</th>\n",
       "      <td>...</td>\n",
       "      <td>...</td>\n",
       "      <td>...</td>\n",
       "      <td>...</td>\n",
       "      <td>...</td>\n",
       "      <td>...</td>\n",
       "      <td>...</td>\n",
       "      <td>...</td>\n",
       "    </tr>\n",
       "    <tr>\n",
       "      <th>39325</th>\n",
       "      <td>0</td>\n",
       "      <td>0</td>\n",
       "      <td>0</td>\n",
       "      <td>0</td>\n",
       "      <td>0</td>\n",
       "      <td>0</td>\n",
       "      <td>0</td>\n",
       "      <td>0</td>\n",
       "    </tr>\n",
       "    <tr>\n",
       "      <th>39327</th>\n",
       "      <td>0</td>\n",
       "      <td>0</td>\n",
       "      <td>0</td>\n",
       "      <td>0</td>\n",
       "      <td>0</td>\n",
       "      <td>0</td>\n",
       "      <td>0</td>\n",
       "      <td>0</td>\n",
       "    </tr>\n",
       "    <tr>\n",
       "      <th>39328</th>\n",
       "      <td>0</td>\n",
       "      <td>0</td>\n",
       "      <td>0</td>\n",
       "      <td>0</td>\n",
       "      <td>0</td>\n",
       "      <td>0</td>\n",
       "      <td>0</td>\n",
       "      <td>0</td>\n",
       "    </tr>\n",
       "    <tr>\n",
       "      <th>39329</th>\n",
       "      <td>0</td>\n",
       "      <td>0</td>\n",
       "      <td>0</td>\n",
       "      <td>0</td>\n",
       "      <td>0</td>\n",
       "      <td>0</td>\n",
       "      <td>0</td>\n",
       "      <td>0</td>\n",
       "    </tr>\n",
       "    <tr>\n",
       "      <th>39336</th>\n",
       "      <td>0</td>\n",
       "      <td>0</td>\n",
       "      <td>0</td>\n",
       "      <td>0</td>\n",
       "      <td>0</td>\n",
       "      <td>0</td>\n",
       "      <td>0</td>\n",
       "      <td>0</td>\n",
       "    </tr>\n",
       "  </tbody>\n",
       "</table>\n",
       "<p>19529 rows × 8 columns</p>\n",
       "</div>"
      ],
      "text/plain": [
       "       title  score  id  url  comms_num  created  body  timestamp\n",
       "2          0      0   0    0          0        0     0          0\n",
       "6          0      0   0    0          0        0     0          0\n",
       "7          0      0   0    0          0        0     0          0\n",
       "10         0      0   0    0          0        0     0          0\n",
       "12         0      0   0    0          0        0     0          0\n",
       "...      ...    ...  ..  ...        ...      ...   ...        ...\n",
       "39325      0      0   0    0          0        0     0          0\n",
       "39327      0      0   0    0          0        0     0          0\n",
       "39328      0      0   0    0          0        0     0          0\n",
       "39329      0      0   0    0          0        0     0          0\n",
       "39336      0      0   0    0          0        0     0          0\n",
       "\n",
       "[19529 rows x 8 columns]"
      ]
     },
     "execution_count": 241,
     "metadata": {},
     "output_type": "execute_result"
    }
   ],
   "source": [
    "df.isnull()*1"
   ]
  },
  {
   "cell_type": "code",
   "execution_count": 242,
   "metadata": {
    "collapsed": true
   },
   "outputs": [
    {
     "data": {
      "text/plain": [
       "title        0\n",
       "score        0\n",
       "id           0\n",
       "url          0\n",
       "comms_num    0\n",
       "created      0\n",
       "body         0\n",
       "timestamp    0\n",
       "dtype: int64"
      ]
     },
     "execution_count": 242,
     "metadata": {},
     "output_type": "execute_result"
    }
   ],
   "source": [
    "df.isnull().sum()"
   ]
  },
  {
   "cell_type": "code",
   "execution_count": 243,
   "metadata": {
    "collapsed": true
   },
   "outputs": [],
   "source": [
    "missing_count = df.isnull().sum() # 결측치 개수\n",
    "missing_percent = missing_count/len(df)"
   ]
  },
  {
   "cell_type": "code",
   "execution_count": 244,
   "metadata": {
    "collapsed": true
   },
   "outputs": [
    {
     "data": {
      "text/plain": [
       "title        0.0\n",
       "score        0.0\n",
       "id           0.0\n",
       "url          0.0\n",
       "comms_num    0.0\n",
       "created      0.0\n",
       "body         0.0\n",
       "timestamp    0.0\n",
       "dtype: float64"
      ]
     },
     "execution_count": 244,
     "metadata": {},
     "output_type": "execute_result"
    }
   ],
   "source": [
    "missing_percent"
   ]
  },
  {
   "cell_type": "code",
   "execution_count": 245,
   "metadata": {
    "collapsed": true
   },
   "outputs": [
    {
     "data": {
      "text/plain": [
       "pandas.core.series.Series"
      ]
     },
     "execution_count": 245,
     "metadata": {},
     "output_type": "execute_result"
    }
   ],
   "source": [
    "type(missing_percent)"
   ]
  },
  {
   "cell_type": "code",
   "execution_count": 246,
   "metadata": {
    "collapsed": true
   },
   "outputs": [
    {
     "data": {
      "text/html": [
       "<div>\n",
       "<style scoped>\n",
       "    .dataframe tbody tr th:only-of-type {\n",
       "        vertical-align: middle;\n",
       "    }\n",
       "\n",
       "    .dataframe tbody tr th {\n",
       "        vertical-align: top;\n",
       "    }\n",
       "\n",
       "    .dataframe thead th {\n",
       "        text-align: right;\n",
       "    }\n",
       "</style>\n",
       "<table border=\"1\" class=\"dataframe\">\n",
       "  <thead>\n",
       "    <tr style=\"text-align: right;\">\n",
       "      <th></th>\n",
       "      <th>0</th>\n",
       "    </tr>\n",
       "  </thead>\n",
       "  <tbody>\n",
       "    <tr>\n",
       "      <th>title</th>\n",
       "      <td>0.0</td>\n",
       "    </tr>\n",
       "    <tr>\n",
       "      <th>score</th>\n",
       "      <td>0.0</td>\n",
       "    </tr>\n",
       "    <tr>\n",
       "      <th>id</th>\n",
       "      <td>0.0</td>\n",
       "    </tr>\n",
       "    <tr>\n",
       "      <th>url</th>\n",
       "      <td>0.0</td>\n",
       "    </tr>\n",
       "    <tr>\n",
       "      <th>comms_num</th>\n",
       "      <td>0.0</td>\n",
       "    </tr>\n",
       "    <tr>\n",
       "      <th>created</th>\n",
       "      <td>0.0</td>\n",
       "    </tr>\n",
       "    <tr>\n",
       "      <th>body</th>\n",
       "      <td>0.0</td>\n",
       "    </tr>\n",
       "    <tr>\n",
       "      <th>timestamp</th>\n",
       "      <td>0.0</td>\n",
       "    </tr>\n",
       "  </tbody>\n",
       "</table>\n",
       "</div>"
      ],
      "text/plain": [
       "             0\n",
       "title      0.0\n",
       "score      0.0\n",
       "id         0.0\n",
       "url        0.0\n",
       "comms_num  0.0\n",
       "created    0.0\n",
       "body       0.0\n",
       "timestamp  0.0"
      ]
     },
     "execution_count": 246,
     "metadata": {},
     "output_type": "execute_result"
    }
   ],
   "source": [
    "pd.DataFrame(missing_percent)"
   ]
  },
  {
   "cell_type": "code",
   "execution_count": 247,
   "metadata": {
    "collapsed": true
   },
   "outputs": [
    {
     "data": {
      "text/html": [
       "<div>\n",
       "<style scoped>\n",
       "    .dataframe tbody tr th:only-of-type {\n",
       "        vertical-align: middle;\n",
       "    }\n",
       "\n",
       "    .dataframe tbody tr th {\n",
       "        vertical-align: top;\n",
       "    }\n",
       "\n",
       "    .dataframe thead th {\n",
       "        text-align: right;\n",
       "    }\n",
       "</style>\n",
       "<table border=\"1\" class=\"dataframe\">\n",
       "  <thead>\n",
       "    <tr style=\"text-align: right;\">\n",
       "      <th></th>\n",
       "      <th>count</th>\n",
       "      <th>percent</th>\n",
       "    </tr>\n",
       "  </thead>\n",
       "  <tbody>\n",
       "    <tr>\n",
       "      <th>title</th>\n",
       "      <td>0</td>\n",
       "      <td>0.0</td>\n",
       "    </tr>\n",
       "    <tr>\n",
       "      <th>score</th>\n",
       "      <td>0</td>\n",
       "      <td>0.0</td>\n",
       "    </tr>\n",
       "    <tr>\n",
       "      <th>id</th>\n",
       "      <td>0</td>\n",
       "      <td>0.0</td>\n",
       "    </tr>\n",
       "    <tr>\n",
       "      <th>url</th>\n",
       "      <td>0</td>\n",
       "      <td>0.0</td>\n",
       "    </tr>\n",
       "    <tr>\n",
       "      <th>comms_num</th>\n",
       "      <td>0</td>\n",
       "      <td>0.0</td>\n",
       "    </tr>\n",
       "    <tr>\n",
       "      <th>created</th>\n",
       "      <td>0</td>\n",
       "      <td>0.0</td>\n",
       "    </tr>\n",
       "    <tr>\n",
       "      <th>body</th>\n",
       "      <td>0</td>\n",
       "      <td>0.0</td>\n",
       "    </tr>\n",
       "    <tr>\n",
       "      <th>timestamp</th>\n",
       "      <td>0</td>\n",
       "      <td>0.0</td>\n",
       "    </tr>\n",
       "  </tbody>\n",
       "</table>\n",
       "</div>"
      ],
      "text/plain": [
       "           count  percent\n",
       "title          0      0.0\n",
       "score          0      0.0\n",
       "id             0      0.0\n",
       "url            0      0.0\n",
       "comms_num      0      0.0\n",
       "created        0      0.0\n",
       "body           0      0.0\n",
       "timestamp      0      0.0"
      ]
     },
     "execution_count": 247,
     "metadata": {},
     "output_type": "execute_result"
    }
   ],
   "source": [
    "pd.DataFrame({'count' : missing_count, 'percent': missing_percent})\n",
    "missing_df = pd.DataFrame({'count' : missing_count, 'percent': missing_percent})"
   ]
  },
  {
   "cell_type": "code",
   "execution_count": 253,
   "metadata": {
    "collapsed": true
   },
   "outputs": [
    {
     "data": {
      "text/plain": [
       "<matplotlib.axes._subplots.AxesSubplot at 0x15aa399ca48>"
      ]
     },
     "execution_count": 253,
     "metadata": {},
     "output_type": "execute_result"
    },
    {
     "data": {
      "image/png": "[encoded data removed]",
      "text/plain": [
       "<Figure size 864x288 with 3 Axes>"
      ]
     },
     "metadata": {
      "needs_background": "light"
     },
     "output_type": "display_data"
    }
   ],
   "source": [
    "import missingno as msn\n",
    "msn.bar(df, figsize=(12,4))"
   ]
  },
  {
   "cell_type": "markdown",
   "metadata": {},
   "source": [
    "# 2. Feature Engineering"
   ]
  },
  {
   "cell_type": "code",
   "execution_count": 67,
   "metadata": {
    "collapsed": true
   },
   "outputs": [
    {
     "data": {
      "text/html": [
       "<div>\n",
       "<style scoped>\n",
       "    .dataframe tbody tr th:only-of-type {\n",
       "        vertical-align: middle;\n",
       "    }\n",
       "\n",
       "    .dataframe tbody tr th {\n",
       "        vertical-align: top;\n",
       "    }\n",
       "\n",
       "    .dataframe thead th {\n",
       "        text-align: right;\n",
       "    }\n",
       "</style>\n",
       "<table border=\"1\" class=\"dataframe\">\n",
       "  <thead>\n",
       "    <tr style=\"text-align: right;\">\n",
       "      <th></th>\n",
       "      <th>title</th>\n",
       "      <th>score</th>\n",
       "      <th>id</th>\n",
       "      <th>url</th>\n",
       "      <th>comms_num</th>\n",
       "      <th>created</th>\n",
       "      <th>body</th>\n",
       "      <th>timestamp</th>\n",
       "    </tr>\n",
       "  </thead>\n",
       "  <tbody>\n",
       "    <tr>\n",
       "      <th>2</th>\n",
       "      <td>Exit the system</td>\n",
       "      <td>0</td>\n",
       "      <td>l6uhhn</td>\n",
       "      <td>https://www.reddit.com/r/wallstreetbets/commen...</td>\n",
       "      <td>47</td>\n",
       "      <td>1.611862e+09</td>\n",
       "      <td>The CEO of NASDAQ pushed to halt trading “to g...</td>\n",
       "      <td>2021-01-28 21:30:35</td>\n",
       "    </tr>\n",
       "    <tr>\n",
       "      <th>6</th>\n",
       "      <td>SHORT STOCK DOESN'T HAVE AN EXPIRATION DATE</td>\n",
       "      <td>317</td>\n",
       "      <td>l6uf6d</td>\n",
       "      <td>https://www.reddit.com/r/wallstreetbets/commen...</td>\n",
       "      <td>53</td>\n",
       "      <td>1.611862e+09</td>\n",
       "      <td>Hedgefund whales are spreading disinfo saying ...</td>\n",
       "      <td>2021-01-28 21:26:27</td>\n",
       "    </tr>\n",
       "    <tr>\n",
       "      <th>7</th>\n",
       "      <td>THIS IS THE MOMENT</td>\n",
       "      <td>405</td>\n",
       "      <td>l6ub9l</td>\n",
       "      <td>https://www.reddit.com/r/wallstreetbets/commen...</td>\n",
       "      <td>178</td>\n",
       "      <td>1.611862e+09</td>\n",
       "      <td>Life isn't fair. My mother always told me that...</td>\n",
       "      <td>2021-01-28 21:19:31</td>\n",
       "    </tr>\n",
       "    <tr>\n",
       "      <th>10</th>\n",
       "      <td>We need to keep this movement going, we all ca...</td>\n",
       "      <td>222</td>\n",
       "      <td>l6uao1</td>\n",
       "      <td>https://www.reddit.com/r/wallstreetbets/commen...</td>\n",
       "      <td>70</td>\n",
       "      <td>1.611862e+09</td>\n",
       "      <td>I believe right now is one of those rare oppo...</td>\n",
       "      <td>2021-01-28 21:18:25</td>\n",
       "    </tr>\n",
       "    <tr>\n",
       "      <th>12</th>\n",
       "      <td>Once you're done with GME - $AG and $SLV, the ...</td>\n",
       "      <td>0</td>\n",
       "      <td>l6u9wu</td>\n",
       "      <td>https://www.reddit.com/r/wallstreetbets/commen...</td>\n",
       "      <td>16</td>\n",
       "      <td>1.611861e+09</td>\n",
       "      <td>You guys are champs. GME... who would have tho...</td>\n",
       "      <td>2021-01-28 21:17:10</td>\n",
       "    </tr>\n",
       "  </tbody>\n",
       "</table>\n",
       "</div>"
      ],
      "text/plain": [
       "                                                title  score      id  \\\n",
       "2                                     Exit the system      0  l6uhhn   \n",
       "6         SHORT STOCK DOESN'T HAVE AN EXPIRATION DATE    317  l6uf6d   \n",
       "7                                  THIS IS THE MOMENT    405  l6ub9l   \n",
       "10  We need to keep this movement going, we all ca...    222  l6uao1   \n",
       "12  Once you're done with GME - $AG and $SLV, the ...      0  l6u9wu   \n",
       "\n",
       "                                                  url  comms_num  \\\n",
       "2   https://www.reddit.com/r/wallstreetbets/commen...         47   \n",
       "6   https://www.reddit.com/r/wallstreetbets/commen...         53   \n",
       "7   https://www.reddit.com/r/wallstreetbets/commen...        178   \n",
       "10  https://www.reddit.com/r/wallstreetbets/commen...         70   \n",
       "12  https://www.reddit.com/r/wallstreetbets/commen...         16   \n",
       "\n",
       "         created                                               body  \\\n",
       "2   1.611862e+09  The CEO of NASDAQ pushed to halt trading “to g...   \n",
       "6   1.611862e+09  Hedgefund whales are spreading disinfo saying ...   \n",
       "7   1.611862e+09  Life isn't fair. My mother always told me that...   \n",
       "10  1.611862e+09   I believe right now is one of those rare oppo...   \n",
       "12  1.611861e+09  You guys are champs. GME... who would have tho...   \n",
       "\n",
       "              timestamp  \n",
       "2   2021-01-28 21:30:35  \n",
       "6   2021-01-28 21:26:27  \n",
       "7   2021-01-28 21:19:31  \n",
       "10  2021-01-28 21:18:25  \n",
       "12  2021-01-28 21:17:10  "
      ]
     },
     "execution_count": 67,
     "metadata": {},
     "output_type": "execute_result"
    }
   ],
   "source": [
    "df.head()"
   ]
  },
  {
   "cell_type": "markdown",
   "metadata": {},
   "source": [
    "## title --> title_lenght"
   ]
  },
  {
   "cell_type": "code",
   "execution_count": 68,
   "metadata": {
    "collapsed": true
   },
   "outputs": [
    {
     "data": {
      "text/plain": [
       "<function len(obj, /)>"
      ]
     },
     "execution_count": 68,
     "metadata": {},
     "output_type": "execute_result"
    }
   ],
   "source": [
    "len"
   ]
  },
  {
   "cell_type": "code",
   "execution_count": 73,
   "metadata": {
    "collapsed": true
   },
   "outputs": [
    {
     "data": {
      "text/plain": [
       "'Exit the system'"
      ]
     },
     "execution_count": 73,
     "metadata": {},
     "output_type": "execute_result"
    }
   ],
   "source": [
    "df['title'][2]"
   ]
  },
  {
   "cell_type": "code",
   "execution_count": 74,
   "metadata": {
    "collapsed": true
   },
   "outputs": [
    {
     "data": {
      "text/plain": [
       "'Exit the system'"
      ]
     },
     "execution_count": 74,
     "metadata": {},
     "output_type": "execute_result"
    },
    {
     "data": {
      "text/plain": [
       "15"
      ]
     },
     "execution_count": 74,
     "metadata": {},
     "output_type": "execute_result"
    }
   ],
   "source": [
    "df['title'][2]\n",
    "len(df['title'][2])"
   ]
  },
  {
   "cell_type": "code",
   "execution_count": 75,
   "metadata": {
    "collapsed": true
   },
   "outputs": [
    {
     "data": {
      "text/plain": [
       "2         15\n",
       "6         43\n",
       "7         18\n",
       "10        61\n",
       "12       101\n",
       "        ... \n",
       "39637    296\n",
       "39645     47\n",
       "39647     64\n",
       "39652     71\n",
       "39660     36\n",
       "Name: title, Length: 19613, dtype: int64"
      ]
     },
     "execution_count": 75,
     "metadata": {},
     "output_type": "execute_result"
    }
   ],
   "source": [
    "df['title'].apply(len)"
   ]
  },
  {
   "cell_type": "markdown",
   "metadata": {},
   "source": [
    "## body --> with_body\n",
    "body 컬럼에 결측치가 많아 결측치 데이터를 버리지 않고 결측치 우무에 따라 'Yes', 'No' 범주형자료(categorical type data) 변경"
   ]
  },
  {
   "cell_type": "code",
   "execution_count": 76,
   "metadata": {
    "collapsed": true
   },
   "outputs": [
    {
     "name": "stdout",
     "output_type": "stream",
     "text": [
      "<class 'pandas.core.frame.DataFrame'>\n",
      "Int64Index: 19613 entries, 2 to 39660\n",
      "Data columns (total 8 columns):\n",
      " #   Column     Non-Null Count  Dtype  \n",
      "---  ------     --------------  -----  \n",
      " 0   title      19613 non-null  object \n",
      " 1   score      19613 non-null  int64  \n",
      " 2   id         19613 non-null  object \n",
      " 3   url        19613 non-null  object \n",
      " 4   comms_num  19613 non-null  int64  \n",
      " 5   created    19613 non-null  float64\n",
      " 6   body       19613 non-null  object \n",
      " 7   timestamp  19613 non-null  object \n",
      "dtypes: float64(1), int64(2), object(5)\n",
      "memory usage: 2.0+ MB\n"
     ]
    }
   ],
   "source": [
    "df.info()"
   ]
  },
  {
   "cell_type": "code",
   "execution_count": 77,
   "metadata": {
    "collapsed": true
   },
   "outputs": [
    {
     "data": {
      "text/plain": [
       "2        False\n",
       "6        False\n",
       "7        False\n",
       "10       False\n",
       "12       False\n",
       "         ...  \n",
       "39637    False\n",
       "39645    False\n",
       "39647    False\n",
       "39652    False\n",
       "39660    False\n",
       "Name: body, Length: 19613, dtype: bool"
      ]
     },
     "execution_count": 77,
     "metadata": {},
     "output_type": "execute_result"
    }
   ],
   "source": [
    "df['body'].isnull()"
   ]
  },
  {
   "cell_type": "code",
   "execution_count": 78,
   "metadata": {
    "collapsed": true
   },
   "outputs": [
    {
     "data": {
      "text/plain": [
       "(array([], dtype=int64),)"
      ]
     },
     "execution_count": 78,
     "metadata": {},
     "output_type": "execute_result"
    },
    {
     "data": {
      "text/plain": [
       "(array([    0,     1,     2, ..., 19610, 19611, 19612], dtype=int64),)"
      ]
     },
     "execution_count": 78,
     "metadata": {},
     "output_type": "execute_result"
    }
   ],
   "source": [
    "np.where(df['body'].isnull())\n",
    "np.where(df['body'].notnull())"
   ]
  },
  {
   "cell_type": "code",
   "execution_count": 79,
   "metadata": {
    "collapsed": true
   },
   "outputs": [
    {
     "data": {
      "text/plain": [
       "array(['No', 'No', 'No', ..., 'No', 'No', 'No'], dtype='<U3')"
      ]
     },
     "execution_count": 79,
     "metadata": {},
     "output_type": "execute_result"
    },
    {
     "data": {
      "text/html": [
       "<div>\n",
       "<style scoped>\n",
       "    .dataframe tbody tr th:only-of-type {\n",
       "        vertical-align: middle;\n",
       "    }\n",
       "\n",
       "    .dataframe tbody tr th {\n",
       "        vertical-align: top;\n",
       "    }\n",
       "\n",
       "    .dataframe thead th {\n",
       "        text-align: right;\n",
       "    }\n",
       "</style>\n",
       "<table border=\"1\" class=\"dataframe\">\n",
       "  <thead>\n",
       "    <tr style=\"text-align: right;\">\n",
       "      <th></th>\n",
       "      <th>title</th>\n",
       "      <th>score</th>\n",
       "      <th>id</th>\n",
       "      <th>url</th>\n",
       "      <th>comms_num</th>\n",
       "      <th>created</th>\n",
       "      <th>body</th>\n",
       "      <th>timestamp</th>\n",
       "      <th>with_body</th>\n",
       "    </tr>\n",
       "  </thead>\n",
       "  <tbody>\n",
       "    <tr>\n",
       "      <th>2</th>\n",
       "      <td>Exit the system</td>\n",
       "      <td>0</td>\n",
       "      <td>l6uhhn</td>\n",
       "      <td>https://www.reddit.com/r/wallstreetbets/commen...</td>\n",
       "      <td>47</td>\n",
       "      <td>1.611862e+09</td>\n",
       "      <td>The CEO of NASDAQ pushed to halt trading “to g...</td>\n",
       "      <td>2021-01-28 21:30:35</td>\n",
       "      <td>No</td>\n",
       "    </tr>\n",
       "    <tr>\n",
       "      <th>6</th>\n",
       "      <td>SHORT STOCK DOESN'T HAVE AN EXPIRATION DATE</td>\n",
       "      <td>317</td>\n",
       "      <td>l6uf6d</td>\n",
       "      <td>https://www.reddit.com/r/wallstreetbets/commen...</td>\n",
       "      <td>53</td>\n",
       "      <td>1.611862e+09</td>\n",
       "      <td>Hedgefund whales are spreading disinfo saying ...</td>\n",
       "      <td>2021-01-28 21:26:27</td>\n",
       "      <td>No</td>\n",
       "    </tr>\n",
       "    <tr>\n",
       "      <th>7</th>\n",
       "      <td>THIS IS THE MOMENT</td>\n",
       "      <td>405</td>\n",
       "      <td>l6ub9l</td>\n",
       "      <td>https://www.reddit.com/r/wallstreetbets/commen...</td>\n",
       "      <td>178</td>\n",
       "      <td>1.611862e+09</td>\n",
       "      <td>Life isn't fair. My mother always told me that...</td>\n",
       "      <td>2021-01-28 21:19:31</td>\n",
       "      <td>No</td>\n",
       "    </tr>\n",
       "    <tr>\n",
       "      <th>10</th>\n",
       "      <td>We need to keep this movement going, we all ca...</td>\n",
       "      <td>222</td>\n",
       "      <td>l6uao1</td>\n",
       "      <td>https://www.reddit.com/r/wallstreetbets/commen...</td>\n",
       "      <td>70</td>\n",
       "      <td>1.611862e+09</td>\n",
       "      <td>I believe right now is one of those rare oppo...</td>\n",
       "      <td>2021-01-28 21:18:25</td>\n",
       "      <td>No</td>\n",
       "    </tr>\n",
       "    <tr>\n",
       "      <th>12</th>\n",
       "      <td>Once you're done with GME - $AG and $SLV, the ...</td>\n",
       "      <td>0</td>\n",
       "      <td>l6u9wu</td>\n",
       "      <td>https://www.reddit.com/r/wallstreetbets/commen...</td>\n",
       "      <td>16</td>\n",
       "      <td>1.611861e+09</td>\n",
       "      <td>You guys are champs. GME... who would have tho...</td>\n",
       "      <td>2021-01-28 21:17:10</td>\n",
       "      <td>No</td>\n",
       "    </tr>\n",
       "  </tbody>\n",
       "</table>\n",
       "</div>"
      ],
      "text/plain": [
       "                                                title  score      id  \\\n",
       "2                                     Exit the system      0  l6uhhn   \n",
       "6         SHORT STOCK DOESN'T HAVE AN EXPIRATION DATE    317  l6uf6d   \n",
       "7                                  THIS IS THE MOMENT    405  l6ub9l   \n",
       "10  We need to keep this movement going, we all ca...    222  l6uao1   \n",
       "12  Once you're done with GME - $AG and $SLV, the ...      0  l6u9wu   \n",
       "\n",
       "                                                  url  comms_num  \\\n",
       "2   https://www.reddit.com/r/wallstreetbets/commen...         47   \n",
       "6   https://www.reddit.com/r/wallstreetbets/commen...         53   \n",
       "7   https://www.reddit.com/r/wallstreetbets/commen...        178   \n",
       "10  https://www.reddit.com/r/wallstreetbets/commen...         70   \n",
       "12  https://www.reddit.com/r/wallstreetbets/commen...         16   \n",
       "\n",
       "         created                                               body  \\\n",
       "2   1.611862e+09  The CEO of NASDAQ pushed to halt trading “to g...   \n",
       "6   1.611862e+09  Hedgefund whales are spreading disinfo saying ...   \n",
       "7   1.611862e+09  Life isn't fair. My mother always told me that...   \n",
       "10  1.611862e+09   I believe right now is one of those rare oppo...   \n",
       "12  1.611861e+09  You guys are champs. GME... who would have tho...   \n",
       "\n",
       "              timestamp with_body  \n",
       "2   2021-01-28 21:30:35        No  \n",
       "6   2021-01-28 21:26:27        No  \n",
       "7   2021-01-28 21:19:31        No  \n",
       "10  2021-01-28 21:18:25        No  \n",
       "12  2021-01-28 21:17:10        No  "
      ]
     },
     "execution_count": 79,
     "metadata": {},
     "output_type": "execute_result"
    }
   ],
   "source": [
    "np.where(df['body'].isnull(), 'Yes', 'No')\n",
    "df['with_body'] = np.where(df['body'].isnull(), 'Yes', 'No')\n",
    "df.head()"
   ]
  },
  {
   "cell_type": "markdown",
   "metadata": {},
   "source": [
    "## timestamp --> month"
   ]
  },
  {
   "cell_type": "code",
   "execution_count": 80,
   "metadata": {
    "collapsed": true
   },
   "outputs": [
    {
     "data": {
      "text/plain": [
       "2        2021-01-28 21:30:35\n",
       "6        2021-01-28 21:26:27\n",
       "7        2021-01-28 21:19:31\n",
       "10       2021-01-28 21:18:25\n",
       "12       2021-01-28 21:17:10\n",
       "                ...         \n",
       "39637    2021-03-06 05:38:41\n",
       "39645    2021-03-06 05:27:30\n",
       "39647    2021-03-06 05:16:45\n",
       "39652    2021-03-06 05:04:44\n",
       "39660    2021-03-06 04:29:59\n",
       "Name: timestamp, Length: 19613, dtype: object"
      ]
     },
     "execution_count": 80,
     "metadata": {},
     "output_type": "execute_result"
    },
    {
     "data": {
      "text/plain": [
       "dtype('O')"
      ]
     },
     "execution_count": 80,
     "metadata": {},
     "output_type": "execute_result"
    },
    {
     "data": {
      "text/plain": [
       "pandas.core.series.Series"
      ]
     },
     "execution_count": 80,
     "metadata": {},
     "output_type": "execute_result"
    }
   ],
   "source": [
    "df['timestamp']\n",
    "df['timestamp'].dtype\n",
    "type(df['timestamp'])"
   ]
  },
  {
   "cell_type": "code",
   "execution_count": 81,
   "metadata": {
    "collapsed": true
   },
   "outputs": [
    {
     "data": {
      "text/plain": [
       "2       2021-01-28 21:30:35\n",
       "6       2021-01-28 21:26:27\n",
       "7       2021-01-28 21:19:31\n",
       "10      2021-01-28 21:18:25\n",
       "12      2021-01-28 21:17:10\n",
       "                ...        \n",
       "39637   2021-03-06 05:38:41\n",
       "39645   2021-03-06 05:27:30\n",
       "39647   2021-03-06 05:16:45\n",
       "39652   2021-03-06 05:04:44\n",
       "39660   2021-03-06 04:29:59\n",
       "Name: timestamp, Length: 19613, dtype: datetime64[ns]"
      ]
     },
     "execution_count": 81,
     "metadata": {},
     "output_type": "execute_result"
    },
    {
     "data": {
      "text/plain": [
       "dtype('<M8[ns]')"
      ]
     },
     "execution_count": 81,
     "metadata": {},
     "output_type": "execute_result"
    },
    {
     "data": {
      "text/plain": [
       "pandas.core.series.Series"
      ]
     },
     "execution_count": 81,
     "metadata": {},
     "output_type": "execute_result"
    }
   ],
   "source": [
    "pd.to_datetime(df['timestamp'])\n",
    "pd.to_datetime(df['timestamp']).dtype\n",
    "type(pd.to_datetime(df['timestamp']))"
   ]
  },
  {
   "cell_type": "code",
   "execution_count": 82,
   "metadata": {
    "collapsed": true
   },
   "outputs": [
    {
     "data": {
      "text/plain": [
       "2        1\n",
       "6        1\n",
       "7        1\n",
       "10       1\n",
       "12       1\n",
       "        ..\n",
       "39637    3\n",
       "39645    3\n",
       "39647    3\n",
       "39652    3\n",
       "39660    3\n",
       "Name: timestamp, Length: 19613, dtype: int64"
      ]
     },
     "execution_count": 82,
     "metadata": {},
     "output_type": "execute_result"
    },
    {
     "data": {
      "text/plain": [
       "array([1, 2, 9, 3], dtype=int64)"
      ]
     },
     "execution_count": 82,
     "metadata": {},
     "output_type": "execute_result"
    }
   ],
   "source": [
    "pd.to_datetime(df['timestamp']).dt.month\n",
    "pd.to_datetime(df['timestamp']).dt.month.unique() # 1,2,9,3월만 존재"
   ]
  },
  {
   "cell_type": "code",
   "execution_count": 83,
   "metadata": {
    "collapsed": true
   },
   "outputs": [
    {
     "data": {
      "text/plain": [
       "2        1\n",
       "6        1\n",
       "7        1\n",
       "10       1\n",
       "12       1\n",
       "        ..\n",
       "39637    3\n",
       "39645    3\n",
       "39647    3\n",
       "39652    3\n",
       "39660    3\n",
       "Name: timestamp, Length: 19613, dtype: object"
      ]
     },
     "execution_count": 83,
     "metadata": {},
     "output_type": "execute_result"
    }
   ],
   "source": [
    "pd.to_datetime(df['timestamp']).dt.month.apply(str)"
   ]
  },
  {
   "cell_type": "code",
   "execution_count": 84,
   "metadata": {
    "collapsed": true
   },
   "outputs": [],
   "source": [
    "df['month'] = pd.to_datetime(df['timestamp']).dt.month.apply(str)"
   ]
  },
  {
   "cell_type": "code",
   "execution_count": 85,
   "metadata": {
    "collapsed": true
   },
   "outputs": [
    {
     "data": {
      "text/html": [
       "<div>\n",
       "<style scoped>\n",
       "    .dataframe tbody tr th:only-of-type {\n",
       "        vertical-align: middle;\n",
       "    }\n",
       "\n",
       "    .dataframe tbody tr th {\n",
       "        vertical-align: top;\n",
       "    }\n",
       "\n",
       "    .dataframe thead th {\n",
       "        text-align: right;\n",
       "    }\n",
       "</style>\n",
       "<table border=\"1\" class=\"dataframe\">\n",
       "  <thead>\n",
       "    <tr style=\"text-align: right;\">\n",
       "      <th></th>\n",
       "      <th>title</th>\n",
       "      <th>score</th>\n",
       "      <th>id</th>\n",
       "      <th>url</th>\n",
       "      <th>comms_num</th>\n",
       "      <th>created</th>\n",
       "      <th>body</th>\n",
       "      <th>timestamp</th>\n",
       "      <th>with_body</th>\n",
       "      <th>month</th>\n",
       "    </tr>\n",
       "  </thead>\n",
       "  <tbody>\n",
       "    <tr>\n",
       "      <th>2</th>\n",
       "      <td>Exit the system</td>\n",
       "      <td>0</td>\n",
       "      <td>l6uhhn</td>\n",
       "      <td>https://www.reddit.com/r/wallstreetbets/commen...</td>\n",
       "      <td>47</td>\n",
       "      <td>1.611862e+09</td>\n",
       "      <td>The CEO of NASDAQ pushed to halt trading “to g...</td>\n",
       "      <td>2021-01-28 21:30:35</td>\n",
       "      <td>No</td>\n",
       "      <td>1</td>\n",
       "    </tr>\n",
       "    <tr>\n",
       "      <th>6</th>\n",
       "      <td>SHORT STOCK DOESN'T HAVE AN EXPIRATION DATE</td>\n",
       "      <td>317</td>\n",
       "      <td>l6uf6d</td>\n",
       "      <td>https://www.reddit.com/r/wallstreetbets/commen...</td>\n",
       "      <td>53</td>\n",
       "      <td>1.611862e+09</td>\n",
       "      <td>Hedgefund whales are spreading disinfo saying ...</td>\n",
       "      <td>2021-01-28 21:26:27</td>\n",
       "      <td>No</td>\n",
       "      <td>1</td>\n",
       "    </tr>\n",
       "    <tr>\n",
       "      <th>7</th>\n",
       "      <td>THIS IS THE MOMENT</td>\n",
       "      <td>405</td>\n",
       "      <td>l6ub9l</td>\n",
       "      <td>https://www.reddit.com/r/wallstreetbets/commen...</td>\n",
       "      <td>178</td>\n",
       "      <td>1.611862e+09</td>\n",
       "      <td>Life isn't fair. My mother always told me that...</td>\n",
       "      <td>2021-01-28 21:19:31</td>\n",
       "      <td>No</td>\n",
       "      <td>1</td>\n",
       "    </tr>\n",
       "    <tr>\n",
       "      <th>10</th>\n",
       "      <td>We need to keep this movement going, we all ca...</td>\n",
       "      <td>222</td>\n",
       "      <td>l6uao1</td>\n",
       "      <td>https://www.reddit.com/r/wallstreetbets/commen...</td>\n",
       "      <td>70</td>\n",
       "      <td>1.611862e+09</td>\n",
       "      <td>I believe right now is one of those rare oppo...</td>\n",
       "      <td>2021-01-28 21:18:25</td>\n",
       "      <td>No</td>\n",
       "      <td>1</td>\n",
       "    </tr>\n",
       "    <tr>\n",
       "      <th>12</th>\n",
       "      <td>Once you're done with GME - $AG and $SLV, the ...</td>\n",
       "      <td>0</td>\n",
       "      <td>l6u9wu</td>\n",
       "      <td>https://www.reddit.com/r/wallstreetbets/commen...</td>\n",
       "      <td>16</td>\n",
       "      <td>1.611861e+09</td>\n",
       "      <td>You guys are champs. GME... who would have tho...</td>\n",
       "      <td>2021-01-28 21:17:10</td>\n",
       "      <td>No</td>\n",
       "      <td>1</td>\n",
       "    </tr>\n",
       "  </tbody>\n",
       "</table>\n",
       "</div>"
      ],
      "text/plain": [
       "                                                title  score      id  \\\n",
       "2                                     Exit the system      0  l6uhhn   \n",
       "6         SHORT STOCK DOESN'T HAVE AN EXPIRATION DATE    317  l6uf6d   \n",
       "7                                  THIS IS THE MOMENT    405  l6ub9l   \n",
       "10  We need to keep this movement going, we all ca...    222  l6uao1   \n",
       "12  Once you're done with GME - $AG and $SLV, the ...      0  l6u9wu   \n",
       "\n",
       "                                                  url  comms_num  \\\n",
       "2   https://www.reddit.com/r/wallstreetbets/commen...         47   \n",
       "6   https://www.reddit.com/r/wallstreetbets/commen...         53   \n",
       "7   https://www.reddit.com/r/wallstreetbets/commen...        178   \n",
       "10  https://www.reddit.com/r/wallstreetbets/commen...         70   \n",
       "12  https://www.reddit.com/r/wallstreetbets/commen...         16   \n",
       "\n",
       "         created                                               body  \\\n",
       "2   1.611862e+09  The CEO of NASDAQ pushed to halt trading “to g...   \n",
       "6   1.611862e+09  Hedgefund whales are spreading disinfo saying ...   \n",
       "7   1.611862e+09  Life isn't fair. My mother always told me that...   \n",
       "10  1.611862e+09   I believe right now is one of those rare oppo...   \n",
       "12  1.611861e+09  You guys are champs. GME... who would have tho...   \n",
       "\n",
       "              timestamp with_body month  \n",
       "2   2021-01-28 21:30:35        No     1  \n",
       "6   2021-01-28 21:26:27        No     1  \n",
       "7   2021-01-28 21:19:31        No     1  \n",
       "10  2021-01-28 21:18:25        No     1  \n",
       "12  2021-01-28 21:17:10        No     1  "
      ]
     },
     "execution_count": 85,
     "metadata": {},
     "output_type": "execute_result"
    }
   ],
   "source": [
    "df.head()"
   ]
  },
  {
   "cell_type": "code",
   "execution_count": 86,
   "metadata": {
    "collapsed": true
   },
   "outputs": [
    {
     "data": {
      "text/plain": [
       "Index(['title', 'score', 'id', 'url', 'comms_num', 'created', 'body',\n",
       "       'timestamp', 'with_body', 'month'],\n",
       "      dtype='object')"
      ]
     },
     "execution_count": 86,
     "metadata": {},
     "output_type": "execute_result"
    }
   ],
   "source": [
    "df.columns"
   ]
  },
  {
   "cell_type": "code",
   "execution_count": 87,
   "metadata": {
    "collapsed": true
   },
   "outputs": [
    {
     "data": {
      "text/html": [
       "<div>\n",
       "<style scoped>\n",
       "    .dataframe tbody tr th:only-of-type {\n",
       "        vertical-align: middle;\n",
       "    }\n",
       "\n",
       "    .dataframe tbody tr th {\n",
       "        vertical-align: top;\n",
       "    }\n",
       "\n",
       "    .dataframe thead th {\n",
       "        text-align: right;\n",
       "    }\n",
       "</style>\n",
       "<table border=\"1\" class=\"dataframe\">\n",
       "  <thead>\n",
       "    <tr style=\"text-align: right;\">\n",
       "      <th></th>\n",
       "      <th>score</th>\n",
       "      <th>comms_num</th>\n",
       "      <th>created</th>\n",
       "      <th>timestamp</th>\n",
       "      <th>with_body</th>\n",
       "      <th>month</th>\n",
       "    </tr>\n",
       "  </thead>\n",
       "  <tbody>\n",
       "    <tr>\n",
       "      <th>2</th>\n",
       "      <td>0</td>\n",
       "      <td>47</td>\n",
       "      <td>1.611862e+09</td>\n",
       "      <td>2021-01-28 21:30:35</td>\n",
       "      <td>No</td>\n",
       "      <td>1</td>\n",
       "    </tr>\n",
       "    <tr>\n",
       "      <th>6</th>\n",
       "      <td>317</td>\n",
       "      <td>53</td>\n",
       "      <td>1.611862e+09</td>\n",
       "      <td>2021-01-28 21:26:27</td>\n",
       "      <td>No</td>\n",
       "      <td>1</td>\n",
       "    </tr>\n",
       "    <tr>\n",
       "      <th>7</th>\n",
       "      <td>405</td>\n",
       "      <td>178</td>\n",
       "      <td>1.611862e+09</td>\n",
       "      <td>2021-01-28 21:19:31</td>\n",
       "      <td>No</td>\n",
       "      <td>1</td>\n",
       "    </tr>\n",
       "    <tr>\n",
       "      <th>10</th>\n",
       "      <td>222</td>\n",
       "      <td>70</td>\n",
       "      <td>1.611862e+09</td>\n",
       "      <td>2021-01-28 21:18:25</td>\n",
       "      <td>No</td>\n",
       "      <td>1</td>\n",
       "    </tr>\n",
       "    <tr>\n",
       "      <th>12</th>\n",
       "      <td>0</td>\n",
       "      <td>16</td>\n",
       "      <td>1.611861e+09</td>\n",
       "      <td>2021-01-28 21:17:10</td>\n",
       "      <td>No</td>\n",
       "      <td>1</td>\n",
       "    </tr>\n",
       "    <tr>\n",
       "      <th>...</th>\n",
       "      <td>...</td>\n",
       "      <td>...</td>\n",
       "      <td>...</td>\n",
       "      <td>...</td>\n",
       "      <td>...</td>\n",
       "      <td>...</td>\n",
       "    </tr>\n",
       "    <tr>\n",
       "      <th>39637</th>\n",
       "      <td>75</td>\n",
       "      <td>44</td>\n",
       "      <td>1.615002e+09</td>\n",
       "      <td>2021-03-06 05:38:41</td>\n",
       "      <td>No</td>\n",
       "      <td>3</td>\n",
       "    </tr>\n",
       "    <tr>\n",
       "      <th>39645</th>\n",
       "      <td>305</td>\n",
       "      <td>133</td>\n",
       "      <td>1.615001e+09</td>\n",
       "      <td>2021-03-06 05:27:30</td>\n",
       "      <td>No</td>\n",
       "      <td>3</td>\n",
       "    </tr>\n",
       "    <tr>\n",
       "      <th>39647</th>\n",
       "      <td>13</td>\n",
       "      <td>13</td>\n",
       "      <td>1.615001e+09</td>\n",
       "      <td>2021-03-06 05:16:45</td>\n",
       "      <td>No</td>\n",
       "      <td>3</td>\n",
       "    </tr>\n",
       "    <tr>\n",
       "      <th>39652</th>\n",
       "      <td>93</td>\n",
       "      <td>27</td>\n",
       "      <td>1.615000e+09</td>\n",
       "      <td>2021-03-06 05:04:44</td>\n",
       "      <td>No</td>\n",
       "      <td>3</td>\n",
       "    </tr>\n",
       "    <tr>\n",
       "      <th>39660</th>\n",
       "      <td>19</td>\n",
       "      <td>31</td>\n",
       "      <td>1.614998e+09</td>\n",
       "      <td>2021-03-06 04:29:59</td>\n",
       "      <td>No</td>\n",
       "      <td>3</td>\n",
       "    </tr>\n",
       "  </tbody>\n",
       "</table>\n",
       "<p>19613 rows × 6 columns</p>\n",
       "</div>"
      ],
      "text/plain": [
       "       score  comms_num       created            timestamp with_body month\n",
       "2          0         47  1.611862e+09  2021-01-28 21:30:35        No     1\n",
       "6        317         53  1.611862e+09  2021-01-28 21:26:27        No     1\n",
       "7        405        178  1.611862e+09  2021-01-28 21:19:31        No     1\n",
       "10       222         70  1.611862e+09  2021-01-28 21:18:25        No     1\n",
       "12         0         16  1.611861e+09  2021-01-28 21:17:10        No     1\n",
       "...      ...        ...           ...                  ...       ...   ...\n",
       "39637     75         44  1.615002e+09  2021-03-06 05:38:41        No     3\n",
       "39645    305        133  1.615001e+09  2021-03-06 05:27:30        No     3\n",
       "39647     13         13  1.615001e+09  2021-03-06 05:16:45        No     3\n",
       "39652     93         27  1.615000e+09  2021-03-06 05:04:44        No     3\n",
       "39660     19         31  1.614998e+09  2021-03-06 04:29:59        No     3\n",
       "\n",
       "[19613 rows x 6 columns]"
      ]
     },
     "execution_count": 87,
     "metadata": {},
     "output_type": "execute_result"
    }
   ],
   "source": [
    "df.drop(['title', 'id', 'url', 'body'], axis=1)"
   ]
  },
  {
   "cell_type": "code",
   "execution_count": 88,
   "metadata": {
    "collapsed": true
   },
   "outputs": [],
   "source": [
    "df = df.drop(['title', 'id', 'url', 'body'], axis=1) #  df.drop(['title', 'id', 'url', 'body'], axis=1, inplace=True)"
   ]
  },
  {
   "cell_type": "markdown",
   "metadata": {},
   "source": [
    "# 3. Data visualization"
   ]
  },
  {
   "cell_type": "code",
   "execution_count": 89,
   "metadata": {
    "collapsed": true
   },
   "outputs": [
    {
     "data": {
      "text/plain": [
       "score          int64\n",
       "comms_num      int64\n",
       "created      float64\n",
       "timestamp     object\n",
       "with_body     object\n",
       "month         object\n",
       "dtype: object"
      ]
     },
     "execution_count": 89,
     "metadata": {},
     "output_type": "execute_result"
    },
    {
     "data": {
      "text/plain": [
       "Index(['score', 'comms_num', 'created', 'timestamp', 'with_body', 'month'], dtype='object')"
      ]
     },
     "execution_count": 89,
     "metadata": {},
     "output_type": "execute_result"
    }
   ],
   "source": [
    "df.dtypes\n",
    "df.columns"
   ]
  },
  {
   "cell_type": "markdown",
   "metadata": {},
   "source": [
    "# Univariates\n",
    "## Numeric columns"
   ]
  },
  {
   "cell_type": "code",
   "execution_count": 90,
   "metadata": {
    "collapsed": true
   },
   "outputs": [
    {
     "data": {
      "text/plain": [
       "<AxesSubplot:ylabel='Frequency'>"
      ]
     },
     "execution_count": 90,
     "metadata": {},
     "output_type": "execute_result"
    },
    {
     "data": {
      "image/png": "[encoded data removed]",
      "text/plain": [
       "<Figure size 432x288 with 1 Axes>"
      ]
     },
     "metadata": {
      "needs_background": "light"
     },
     "output_type": "display_data"
    }
   ],
   "source": [
    "df[['score', 'comms_num', 'created']].plot(kind='hist')"
   ]
  },
  {
   "cell_type": "code",
   "execution_count": 91,
   "metadata": {
    "collapsed": true
   },
   "outputs": [
    {
     "data": {
      "text/plain": [
       "<AxesSubplot:ylabel='Frequency'>"
      ]
     },
     "execution_count": 91,
     "metadata": {},
     "output_type": "execute_result"
    },
    {
     "data": {
      "image/png": "[encoded data removed]",
      "text/plain": [
       "<Figure size 432x288 with 1 Axes>"
      ]
     },
     "metadata": {
      "needs_background": "light"
     },
     "output_type": "display_data"
    },
    {
     "data": {
      "text/plain": [
       "<AxesSubplot:ylabel='Frequency'>"
      ]
     },
     "execution_count": 91,
     "metadata": {},
     "output_type": "execute_result"
    },
    {
     "data": {
      "image/png": "[encoded data removed]",
      "text/plain": [
       "<Figure size 432x288 with 1 Axes>"
      ]
     },
     "metadata": {
      "needs_background": "light"
     },
     "output_type": "display_data"
    },
    {
     "data": {
      "text/plain": [
       "<AxesSubplot:ylabel='Frequency'>"
      ]
     },
     "execution_count": 91,
     "metadata": {},
     "output_type": "execute_result"
    },
    {
     "data": {
      "image/png": "[encoded data removed]",
      "text/plain": [
       "<Figure size 432x288 with 1 Axes>"
      ]
     },
     "metadata": {
      "needs_background": "light"
     },
     "output_type": "display_data"
    }
   ],
   "source": [
    "for i in ['score', 'comms_num', 'created']:\n",
    "    df[i].plot(kind='hist'); plt.show()"
   ]
  },
  {
   "cell_type": "markdown",
   "metadata": {},
   "source": [
    "## Categorical columns"
   ]
  },
  {
   "cell_type": "code",
   "execution_count": 92,
   "metadata": {
    "collapsed": true
   },
   "outputs": [
    {
     "data": {
      "text/plain": [
       "Index(['score', 'comms_num', 'created', 'timestamp', 'with_body', 'month'], dtype='object')"
      ]
     },
     "execution_count": 92,
     "metadata": {},
     "output_type": "execute_result"
    }
   ],
   "source": [
    "df.columns"
   ]
  },
  {
   "cell_type": "code",
   "execution_count": 93,
   "metadata": {
    "collapsed": true
   },
   "outputs": [
    {
     "name": "stdout",
     "output_type": "stream",
     "text": [
      "<class 'pandas.core.frame.DataFrame'>\n",
      "Int64Index: 19613 entries, 2 to 39660\n",
      "Data columns (total 6 columns):\n",
      " #   Column     Non-Null Count  Dtype  \n",
      "---  ------     --------------  -----  \n",
      " 0   score      19613 non-null  int64  \n",
      " 1   comms_num  19613 non-null  int64  \n",
      " 2   created    19613 non-null  float64\n",
      " 3   timestamp  19613 non-null  object \n",
      " 4   with_body  19613 non-null  object \n",
      " 5   month      19613 non-null  object \n",
      "dtypes: float64(1), int64(2), object(3)\n",
      "memory usage: 1.7+ MB\n"
     ]
    }
   ],
   "source": [
    "df.info()"
   ]
  },
  {
   "cell_type": "code",
   "execution_count": 94,
   "metadata": {
    "collapsed": true
   },
   "outputs": [
    {
     "data": {
      "text/plain": [
       "<AxesSubplot:>"
      ]
     },
     "execution_count": 94,
     "metadata": {},
     "output_type": "execute_result"
    },
    {
     "data": {
      "image/png": "[encoded data removed]",
      "text/plain": [
       "<Figure size 432x288 with 1 Axes>"
      ]
     },
     "metadata": {
      "needs_background": "light"
     },
     "output_type": "display_data"
    }
   ],
   "source": [
    "df['month'].value_counts().plot(kind='bar')"
   ]
  },
  {
   "cell_type": "markdown",
   "metadata": {},
   "source": [
    "# Multivariates\n",
    "## Numerical vs. Numerical --> heat map/pairplot"
   ]
  },
  {
   "cell_type": "code",
   "execution_count": 95,
   "metadata": {
    "collapsed": true
   },
   "outputs": [
    {
     "data": {
      "text/plain": [
       "<seaborn.axisgrid.PairGrid at 0x1cacc9cbf70>"
      ]
     },
     "execution_count": 95,
     "metadata": {},
     "output_type": "execute_result"
    },
    {
     "data": {
      "image/png": "[encoded data removed]",
      "text/plain": [
       "<Figure size 540x540 with 12 Axes>"
      ]
     },
     "metadata": {
      "needs_background": "light"
     },
     "output_type": "display_data"
    }
   ],
   "source": [
    "import seaborn as sns\n",
    "sns.pairplot(df[['score', 'comms_num', 'created']])"
   ]
  },
  {
   "cell_type": "code",
   "execution_count": 96,
   "metadata": {
    "collapsed": true
   },
   "outputs": [
    {
     "data": {
      "text/plain": [
       "<AxesSubplot:>"
      ]
     },
     "execution_count": 96,
     "metadata": {},
     "output_type": "execute_result"
    },
    {
     "data": {
      "image/png": "[encoded data removed]",
      "text/plain": [
       "<Figure size 432x288 with 2 Axes>"
      ]
     },
     "metadata": {
      "needs_background": "light"
     },
     "output_type": "display_data"
    }
   ],
   "source": [
    "sns.heatmap(data= df[['score', 'comms_num', 'created']].corr())"
   ]
  },
  {
   "cell_type": "markdown",
   "metadata": {},
   "source": [
    "## Categorica vs. Categorical  --> countplot with hue"
   ]
  },
  {
   "cell_type": "code",
   "execution_count": 97,
   "metadata": {
    "collapsed": true
   },
   "outputs": [
    {
     "name": "stdout",
     "output_type": "stream",
     "text": [
      "<class 'pandas.core.frame.DataFrame'>\n",
      "Int64Index: 19613 entries, 2 to 39660\n",
      "Data columns (total 6 columns):\n",
      " #   Column     Non-Null Count  Dtype  \n",
      "---  ------     --------------  -----  \n",
      " 0   score      19613 non-null  int64  \n",
      " 1   comms_num  19613 non-null  int64  \n",
      " 2   created    19613 non-null  float64\n",
      " 3   timestamp  19613 non-null  object \n",
      " 4   with_body  19613 non-null  object \n",
      " 5   month      19613 non-null  object \n",
      "dtypes: float64(1), int64(2), object(3)\n",
      "memory usage: 1.7+ MB\n"
     ]
    },
    {
     "data": {
      "text/plain": [
       "score         1786\n",
       "comms_num      947\n",
       "created      15391\n",
       "timestamp    15391\n",
       "with_body        1\n",
       "month            4\n",
       "dtype: int64"
      ]
     },
     "execution_count": 97,
     "metadata": {},
     "output_type": "execute_result"
    }
   ],
   "source": [
    "df.info()\n",
    "df.nunique()"
   ]
  },
  {
   "cell_type": "code",
   "execution_count": 98,
   "metadata": {
    "collapsed": true
   },
   "outputs": [
    {
     "data": {
      "text/plain": [
       "<AxesSubplot:xlabel='month', ylabel='count'>"
      ]
     },
     "execution_count": 98,
     "metadata": {},
     "output_type": "execute_result"
    },
    {
     "data": {
      "image/png": "[encoded data removed]",
      "text/plain": [
       "<Figure size 432x288 with 1 Axes>"
      ]
     },
     "metadata": {
      "needs_background": "light"
     },
     "output_type": "display_data"
    }
   ],
   "source": [
    "sns.countplot(x='month',hue='with_body',data=df ,palette='viridis')"
   ]
  },
  {
   "cell_type": "markdown",
   "metadata": {},
   "source": [
    "## Categorica vs. Numerical  --> boxplo/pairplot with hue"
   ]
  },
  {
   "cell_type": "code",
   "execution_count": 99,
   "metadata": {
    "collapsed": true
   },
   "outputs": [
    {
     "name": "stdout",
     "output_type": "stream",
     "text": [
      "<class 'pandas.core.frame.DataFrame'>\n",
      "RangeIndex: 100 entries, 0 to 99\n",
      "Data columns (total 7 columns):\n",
      " #   Column         Non-Null Count  Dtype  \n",
      "---  ------         --------------  -----  \n",
      " 0   Rank           100 non-null    int64  \n",
      " 1   Restaurant     100 non-null    object \n",
      " 2   Sales          100 non-null    float64\n",
      " 3   Average Check  100 non-null    int64  \n",
      " 4   City           100 non-null    object \n",
      " 5   State          100 non-null    object \n",
      " 6   Meals Served   100 non-null    float64\n",
      "dtypes: float64(2), int64(2), object(3)\n",
      "memory usage: 5.6+ KB\n"
     ]
    }
   ],
   "source": [
    "tf.info()"
   ]
  },
  {
   "cell_type": "code",
   "execution_count": 100,
   "metadata": {
    "collapsed": true
   },
   "outputs": [
    {
     "data": {
      "text/plain": [
       "<Figure size 2500x400 with 0 Axes>"
      ]
     },
     "execution_count": 100,
     "metadata": {},
     "output_type": "execute_result"
    },
    {
     "data": {
      "text/plain": [
       "[Text(0, 0, 'New York'),\n",
       " Text(1, 0, 'Orlando '),\n",
       " Text(2, 0, 'Washington'),\n",
       " Text(3, 0, 'Chicago'),\n",
       " Text(4, 0, 'Las Vegas'),\n",
       " Text(5, 0, 'Raleigh'),\n",
       " Text(6, 0, 'Miami Beach'),\n",
       " Text(7, 0, 'Miami'),\n",
       " Text(8, 0, 'Indianapolis'),\n",
       " Text(9, 0, 'Oak Brook'),\n",
       " Text(10, 0, 'Houston'),\n",
       " Text(11, 0, 'Philadelphia'),\n",
       " Text(12, 0, 'Wheeling'),\n",
       " Text(13, 0, 'Ft. Lauderdale'),\n",
       " Text(14, 0, 'Los Angeles'),\n",
       " Text(15, 0, 'Rosemont'),\n",
       " Text(16, 0, 'Bal Harbour'),\n",
       " Text(17, 0, 'Daly City'),\n",
       " Text(18, 0, 'Atlanta'),\n",
       " Text(19, 0, 'Coalinga'),\n",
       " Text(20, 0, 'Frankenmuth'),\n",
       " Text(21, 0, 'Boston'),\n",
       " Text(22, 0, 'Portland'),\n",
       " Text(23, 0, 'Cape May'),\n",
       " Text(24, 0, 'San Francisco'),\n",
       " Text(25, 0, 'Fort Lauderdale'),\n",
       " Text(26, 0, 'Nashville'),\n",
       " Text(27, 0, 'Burbank'),\n",
       " Text(28, 0, 'Austin'),\n",
       " Text(29, 0, 'Denver'),\n",
       " Text(30, 0, 'Atlantic City'),\n",
       " Text(31, 0, 'Malibu'),\n",
       " Text(32, 0, 'West Hollywood'),\n",
       " Text(33, 0, 'McLean'),\n",
       " Text(34, 0, 'Amarillo'),\n",
       " Text(35, 0, 'La Jolla')]"
      ]
     },
     "execution_count": 100,
     "metadata": {},
     "output_type": "execute_result"
    },
    {
     "data": {
      "image/png": "[encoded data removed]",
      "text/plain": [
       "<Figure size 2500x400 with 1 Axes>"
      ]
     },
     "metadata": {
      "needs_background": "light"
     },
     "output_type": "display_data"
    }
   ],
   "source": [
    "plt.figure(figsize=(25,4), dpi=100)\n",
    "ax = sns.boxplot(x='City', y = 'Average Check', data=tf ,palette='viridis')\n",
    "ax.set_xticklabels(ax.get_xticklabels(),rotation=30)"
   ]
  },
  {
   "cell_type": "code",
   "execution_count": 101,
   "metadata": {
    "collapsed": true
   },
   "outputs": [
    {
     "data": {
      "text/plain": [
       "Index(['score', 'comms_num', 'created', 'timestamp', 'with_body', 'month'], dtype='object')"
      ]
     },
     "execution_count": 101,
     "metadata": {},
     "output_type": "execute_result"
    }
   ],
   "source": [
    "df.columns"
   ]
  },
  {
   "cell_type": "code",
   "execution_count": 102,
   "metadata": {
    "collapsed": true
   },
   "outputs": [],
   "source": [
    "import warnings\n",
    "warnings.filterwarnings('ignore')  #버젼이 다른데 따른 에러는 나타내지 말기\n",
    "plt.rcParams['font.family']='Malgun Gothic'# 그림에 한글이 깨지지 않게 표시"
   ]
  },
  {
   "cell_type": "code",
   "execution_count": 103,
   "metadata": {
    "collapsed": true
   },
   "outputs": [
    {
     "data": {
      "text/plain": [
       "<seaborn.axisgrid.PairGrid at 0x1caf1d4e250>"
      ]
     },
     "execution_count": 103,
     "metadata": {},
     "output_type": "execute_result"
    },
    {
     "data": {
      "text/plain": [
       "Text(0.5, 1.0, 'Pair Plot, Hue로 월을 시각화')"
      ]
     },
     "execution_count": 103,
     "metadata": {},
     "output_type": "execute_result"
    },
    {
     "data": {
      "image/png": "[encoded data removed]",
      "text/plain": [
       "<Figure size 581.5x540 with 12 Axes>"
      ]
     },
     "metadata": {
      "needs_background": "light"
     },
     "output_type": "display_data"
    }
   ],
   "source": [
    "sns.pairplot(df[['score', 'comms_num', 'created','month']], hue='month')\n",
    "\n",
    "plt.title(\"Pair Plot, Hue로 월을 시각화\")\n",
    "plt.show()"
   ]
  },
  {
   "cell_type": "markdown",
   "metadata": {},
   "source": [
    "# End"
   ]
  },
  {
   "cell_type": "code",
   "execution_count": null,
   "metadata": {},
   "outputs": [],
   "source": []
  }
 ],
 "metadata": {
  "kernelspec": {
   "display_name": "Python 3",
   "language": "python",
   "name": "python3"
  },
  "language_info": {
   "codemirror_mode": {
    "name": "ipython",
    "version": 3
   },
   "file_extension": ".py",
   "mimetype": "text/x-python",
   "name": "python",
   "nbconvert_exporter": "python",
   "pygments_lexer": "ipython3",
   "version": "3.7.4"
  }
 },
 "nbformat": 4,
 "nbformat_minor": 2
}
