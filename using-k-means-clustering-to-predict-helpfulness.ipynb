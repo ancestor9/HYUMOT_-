{
 "cells": [
  {
   "cell_type": "markdown",
   "metadata": {
    "_cell_guid": "361275c7-da9d-2ce0-ff4f-bb6cbb8130b5"
   },
   "source": [
    "## Predicting the Helpfulness of Amazon Fine Food Reviews\n",
    "https://www.kaggle.com/ameeamin/using-k-means-clustering-to-predict-helpfulness?select=Reviews.csv"
   ]
  },
  {
   "cell_type": "markdown",
   "metadata": {
    "_cell_guid": "953efcc7-c5ce-3a2a-0a1d-ab72f32a4fec"
   },
   "source": [
    "### Purpose\n",
    "Build a model to predict the helpfulness of Amazon Fine Food Reviews. This will improve Amazon's selection of helpful reviews at the top of the review section and improve customer's purchasing decisions. It could also help other reviewers as a guide to writing helpful reviews.\n",
    "\n",
    "This dataset comes from over 568,0454 Amazon Fine Food Reviews. "
   ]
  },
  {
   "cell_type": "markdown",
   "metadata": {
    "_cell_guid": "36cbb209-3bef-864a-d0a0-1598b5161921"
   },
   "source": [
    "Variable: Description | Type of Variable\n",
    "\n",
    "HelpfulnessNumerator: number of users who found the review helpful | continuous\n",
    "\n",
    "HelpfulnessDenominator: number of users who indicated whether they found the review helpful or not helpful | continuous\n",
    "\n",
    "Score: rating between 1 and 5 | categorical\n",
    "\n",
    "Text: text of the review | text"
   ]
  },
  {
   "cell_type": "markdown",
   "metadata": {
    "_cell_guid": "bca8bd20-bb38-be10-6afd-708d4bae5a7f"
   },
   "source": [
    "## Load the Data"
   ]
  },
  {
   "cell_type": "code",
   "execution_count": 1,
   "metadata": {},
   "outputs": [
    {
     "data": {
      "text/html": [
       "<style>.container { width:100% !important; }</style>"
      ],
      "text/plain": [
       "<IPython.core.display.HTML object>"
      ]
     },
     "metadata": {},
     "output_type": "display_data"
    }
   ],
   "source": [
    "from IPython.core.interactiveshell import InteractiveShell\n",
    "InteractiveShell.ast_node_interactivity = 'all'\n",
    "from IPython.core.display import display, HTML\n",
    "display(HTML(\"<style>.container { width:100% !important; }</style>\"))\n",
    "import warnings\n",
    "warnings.filterwarnings(action='ignore') "
   ]
  },
  {
   "cell_type": "code",
   "execution_count": 2,
   "metadata": {
    "_cell_guid": "f4bad00e-affa-5f32-4d26-7aaa58519369"
   },
   "outputs": [],
   "source": [
    "#imports\n",
    "import pandas as pd \n",
    "import numpy as np\n",
    "import matplotlib.pyplot as plt\n",
    "%matplotlib inline"
   ]
  },
  {
   "cell_type": "code",
   "execution_count": 3,
   "metadata": {
    "_cell_guid": "c30e2a97-2f73-04ee-cd0b-009f3af9ab73"
   },
   "outputs": [
    {
     "data": {
      "text/html": [
       "<div>\n",
       "<style scoped>\n",
       "    .dataframe tbody tr th:only-of-type {\n",
       "        vertical-align: middle;\n",
       "    }\n",
       "\n",
       "    .dataframe tbody tr th {\n",
       "        vertical-align: top;\n",
       "    }\n",
       "\n",
       "    .dataframe thead th {\n",
       "        text-align: right;\n",
       "    }\n",
       "</style>\n",
       "<table border=\"1\" class=\"dataframe\">\n",
       "  <thead>\n",
       "    <tr style=\"text-align: right;\">\n",
       "      <th></th>\n",
       "      <th>HelpfulnessNumerator</th>\n",
       "      <th>HelpfulnessDenominator</th>\n",
       "      <th>Score</th>\n",
       "      <th>Text</th>\n",
       "    </tr>\n",
       "  </thead>\n",
       "  <tbody>\n",
       "    <tr>\n",
       "      <th>0</th>\n",
       "      <td>1</td>\n",
       "      <td>1</td>\n",
       "      <td>5</td>\n",
       "      <td>I have bought several of the Vitality canned d...</td>\n",
       "    </tr>\n",
       "    <tr>\n",
       "      <th>1</th>\n",
       "      <td>0</td>\n",
       "      <td>0</td>\n",
       "      <td>1</td>\n",
       "      <td>Product arrived labeled as Jumbo Salted Peanut...</td>\n",
       "    </tr>\n",
       "    <tr>\n",
       "      <th>2</th>\n",
       "      <td>1</td>\n",
       "      <td>1</td>\n",
       "      <td>4</td>\n",
       "      <td>This is a confection that has been around a fe...</td>\n",
       "    </tr>\n",
       "    <tr>\n",
       "      <th>3</th>\n",
       "      <td>3</td>\n",
       "      <td>3</td>\n",
       "      <td>2</td>\n",
       "      <td>If you are looking for the secret ingredient i...</td>\n",
       "    </tr>\n",
       "    <tr>\n",
       "      <th>4</th>\n",
       "      <td>0</td>\n",
       "      <td>0</td>\n",
       "      <td>5</td>\n",
       "      <td>Great taffy at a great price.  There was a wid...</td>\n",
       "    </tr>\n",
       "  </tbody>\n",
       "</table>\n",
       "</div>"
      ],
      "text/plain": [
       "   HelpfulnessNumerator  HelpfulnessDenominator  Score  \\\n",
       "0                     1                       1      5   \n",
       "1                     0                       0      1   \n",
       "2                     1                       1      4   \n",
       "3                     3                       3      2   \n",
       "4                     0                       0      5   \n",
       "\n",
       "                                                Text  \n",
       "0  I have bought several of the Vitality canned d...  \n",
       "1  Product arrived labeled as Jumbo Salted Peanut...  \n",
       "2  This is a confection that has been around a fe...  \n",
       "3  If you are looking for the secret ingredient i...  \n",
       "4  Great taffy at a great price.  There was a wid...  "
      ]
     },
     "execution_count": 3,
     "metadata": {},
     "output_type": "execute_result"
    }
   ],
   "source": [
    "# read data into a DataFrame\n",
    "data = pd.read_csv(\"../data/Reviews.csv\")\n",
    "\n",
    "#make a copy of columns I need from raw data\n",
    "df1 = data.iloc[:, [4,5,6,9]]\n",
    "df1.head()"
   ]
  },
  {
   "cell_type": "code",
   "execution_count": 4,
   "metadata": {},
   "outputs": [
    {
     "name": "stdout",
     "output_type": "stream",
     "text": [
      "<class 'pandas.core.frame.DataFrame'>\n",
      "RangeIndex: 568454 entries, 0 to 568453\n",
      "Data columns (total 4 columns):\n",
      " #   Column                  Non-Null Count   Dtype \n",
      "---  ------                  --------------   ----- \n",
      " 0   HelpfulnessNumerator    568454 non-null  int64 \n",
      " 1   HelpfulnessDenominator  568454 non-null  int64 \n",
      " 2   Score                   568454 non-null  int64 \n",
      " 3   Text                    568454 non-null  object\n",
      "dtypes: int64(3), object(1)\n",
      "memory usage: 17.3+ MB\n"
     ]
    }
   ],
   "source": [
    "df1.info()"
   ]
  },
  {
   "cell_type": "code",
   "execution_count": 7,
   "metadata": {
    "_cell_guid": "382082a3-13be-9193-5a82-d2634b07240e"
   },
   "outputs": [],
   "source": [
    "#change data type of non-Text features from string to integer\n",
    "df1.iloc[:, 1:3] = df1.iloc[:, 1:3].apply(pd.to_numeric)"
   ]
  },
  {
   "cell_type": "code",
   "execution_count": 5,
   "metadata": {
    "_cell_guid": "c33f28ec-5cf7-94a5-30c8-2c9121915c06"
   },
   "outputs": [],
   "source": [
    "#include reviews that have more than 10 helpfulness data point only\n",
    "df1 = df1[(df1.HelpfulnessDenominator > 10)]"
   ]
  },
  {
   "cell_type": "code",
   "execution_count": 6,
   "metadata": {
    "_cell_guid": "0114e255-abba-7649-87c1-f0a20486a32e"
   },
   "outputs": [
    {
     "data": {
      "text/plain": [
       "(21463,)"
      ]
     },
     "execution_count": 6,
     "metadata": {},
     "output_type": "execute_result"
    }
   ],
   "source": [
    "df1['Score'].shape"
   ]
  },
  {
   "cell_type": "markdown",
   "metadata": {
    "_cell_guid": "833004d2-7d3c-a472-a390-a5593ff3c1a6"
   },
   "source": [
    "## Notes\n",
    "I have only included reviews that have more than 10 votes from users on whether the review was helpful or not. With this filter, the dataset is significantly reduce from 560,000+ reviews to 21,463 reviews."
   ]
  },
  {
   "cell_type": "markdown",
   "metadata": {
    "_cell_guid": "60bbfbc4-2831-9a26-33b5-fd7d9f64fa06"
   },
   "source": [
    "# Clean the Data"
   ]
  },
  {
   "cell_type": "code",
   "execution_count": 10,
   "metadata": {
    "_cell_guid": "ce9ce1c5-033c-cee0-80a8-e77a7f2bd532"
   },
   "outputs": [
    {
     "data": {
      "text/plain": [
       "HelpfulnessNumerator      0\n",
       "HelpfulnessDenominator    0\n",
       "Score                     0\n",
       "Text                      0\n",
       "dtype: int64"
      ]
     },
     "execution_count": 10,
     "metadata": {},
     "output_type": "execute_result"
    }
   ],
   "source": [
    "#check for missing values\n",
    "df1.isnull().sum()"
   ]
  },
  {
   "cell_type": "code",
   "execution_count": 11,
   "metadata": {
    "_cell_guid": "a24ac696-221c-7651-6257-a61c362b4ed5"
   },
   "outputs": [
    {
     "data": {
      "text/plain": [
       "32     mccann's instant oatmeal is great if you must ...\n",
       "33     this is a good instant oatmeal from the best o...\n",
       "82     i know the product title says molecular gastro...\n",
       "158    <span class=\"tiny\"> length:: 0:26 mins<br /><b...\n",
       "287    this is a fantastic product, and i wish it was...\n",
       "324    so we cancelled the order.  it was cancelled w...\n",
       "381    these condiments are overpriced and terrible. ...\n",
       "522    i first discovered kettle chips with sea salt ...\n",
       "523    you don't need salt to hide the taste of potat...\n",
       "524    these potato chips are excellent.there are no ...\n",
       "Name: Text, dtype: object"
      ]
     },
     "execution_count": 11,
     "metadata": {},
     "output_type": "execute_result"
    }
   ],
   "source": [
    "# convert text to lowercase\n",
    "df1.loc[:, 'Text'] = df1['Text'].str.lower()\n",
    "df1[\"Text\"].head(10)"
   ]
  },
  {
   "cell_type": "code",
   "execution_count": 8,
   "metadata": {
    "_cell_guid": "51e3e58b-8e24-ad43-97fc-ced1f60a1b57"
   },
   "outputs": [],
   "source": [
    "#remove html tags\n",
    "#import bleach\n",
    "#df1[\"Text\"] = df1['Text'].apply(lambda x: bleach.clean(x, tags=[], strip=True))\n",
    "#df1[\"Text\"].head(4)"
   ]
  },
  {
   "cell_type": "code",
   "execution_count": 15,
   "metadata": {
    "_cell_guid": "9db67830-1522-e487-019f-07b7561278cb"
   },
   "outputs": [
    {
     "data": {
      "text/plain": [
       "32     mccanns instant oatmeal is great if you must h...\n",
       "33     this is a good instant oatmeal from the best o...\n",
       "82     i know the product title says molecular gastro...\n",
       "158    <span class=tiny> length 026 mins<br ><br ><sp...\n",
       "Name: Text, dtype: object"
      ]
     },
     "execution_count": 15,
     "metadata": {},
     "output_type": "execute_result"
    }
   ],
   "source": [
    "#remove punctuation\n",
    "import unicodedata\n",
    "import sys\n",
    "\n",
    "tbl = dict.fromkeys(i for i in range(sys.maxunicode)\n",
    "                      if unicodedata.category(chr(i)).startswith('P'))\n",
    "\n",
    "def remove_punctuation(text):\n",
    "    return text.translate(tbl)\n",
    "\n",
    "df1['Text']=df1['Text'].apply( lambda x: remove_punctuation(x))\n",
    "df1[\"Text\"].head(4)"
   ]
  },
  {
   "cell_type": "code",
   "execution_count": 16,
   "metadata": {
    "_cell_guid": "be8e207d-cf2c-9696-b674-073d9c327126"
   },
   "outputs": [
    {
     "data": {
      "text/plain": [
       "(21463,)"
      ]
     },
     "execution_count": 16,
     "metadata": {},
     "output_type": "execute_result"
    }
   ],
   "source": [
    "df1['Score'].shape"
   ]
  },
  {
   "cell_type": "markdown",
   "metadata": {
    "_cell_guid": "e22cddae-1a69-908e-ea25-d43eb66c2560"
   },
   "source": [
    "#### Notes\n",
    "I chose not to use the Porter Stemmer method after reviewing other kernels on Kaggle where the method generated less accurate predictions."
   ]
  },
  {
   "cell_type": "markdown",
   "metadata": {
    "_cell_guid": "d5fd5461-ee21-f4b0-e6e5-ae7366383067"
   },
   "source": [
    "## Exploratory Data Analysis"
   ]
  },
  {
   "cell_type": "code",
   "execution_count": 18,
   "metadata": {
    "_cell_guid": "45605253-c0a8-f172-a398-501ec5d57113"
   },
   "outputs": [
    {
     "data": {
      "text/html": [
       "<div>\n",
       "<style scoped>\n",
       "    .dataframe tbody tr th:only-of-type {\n",
       "        vertical-align: middle;\n",
       "    }\n",
       "\n",
       "    .dataframe tbody tr th {\n",
       "        vertical-align: top;\n",
       "    }\n",
       "\n",
       "    .dataframe thead th {\n",
       "        text-align: right;\n",
       "    }\n",
       "</style>\n",
       "<table border=\"1\" class=\"dataframe\">\n",
       "  <thead>\n",
       "    <tr style=\"text-align: right;\">\n",
       "      <th></th>\n",
       "      <th>HelpfulnessNumerator</th>\n",
       "      <th>HelpfulnessDenominator</th>\n",
       "      <th>Score</th>\n",
       "      <th>Text</th>\n",
       "      <th>Helpful</th>\n",
       "    </tr>\n",
       "  </thead>\n",
       "  <tbody>\n",
       "    <tr>\n",
       "      <th>32</th>\n",
       "      <td>19</td>\n",
       "      <td>19</td>\n",
       "      <td>4</td>\n",
       "      <td>mccanns instant oatmeal is great if you must h...</td>\n",
       "      <td>1</td>\n",
       "    </tr>\n",
       "    <tr>\n",
       "      <th>33</th>\n",
       "      <td>13</td>\n",
       "      <td>13</td>\n",
       "      <td>4</td>\n",
       "      <td>this is a good instant oatmeal from the best o...</td>\n",
       "      <td>1</td>\n",
       "    </tr>\n",
       "    <tr>\n",
       "      <th>82</th>\n",
       "      <td>15</td>\n",
       "      <td>15</td>\n",
       "      <td>5</td>\n",
       "      <td>i know the product title says molecular gastro...</td>\n",
       "      <td>1</td>\n",
       "    </tr>\n",
       "    <tr>\n",
       "      <th>158</th>\n",
       "      <td>17</td>\n",
       "      <td>19</td>\n",
       "      <td>5</td>\n",
       "      <td>&lt;span class=tiny&gt; length 026 mins&lt;br &gt;&lt;br &gt;&lt;sp...</td>\n",
       "      <td>1</td>\n",
       "    </tr>\n",
       "    <tr>\n",
       "      <th>287</th>\n",
       "      <td>13</td>\n",
       "      <td>13</td>\n",
       "      <td>5</td>\n",
       "      <td>this is a fantastic product and i wish it was ...</td>\n",
       "      <td>1</td>\n",
       "    </tr>\n",
       "  </tbody>\n",
       "</table>\n",
       "</div>"
      ],
      "text/plain": [
       "     HelpfulnessNumerator  HelpfulnessDenominator  Score  \\\n",
       "32                     19                      19      4   \n",
       "33                     13                      13      4   \n",
       "82                     15                      15      5   \n",
       "158                    17                      19      5   \n",
       "287                    13                      13      5   \n",
       "\n",
       "                                                  Text  Helpful  \n",
       "32   mccanns instant oatmeal is great if you must h...        1  \n",
       "33   this is a good instant oatmeal from the best o...        1  \n",
       "82   i know the product title says molecular gastro...        1  \n",
       "158  <span class=tiny> length 026 mins<br ><br ><sp...        1  \n",
       "287  this is a fantastic product and i wish it was ...        1  "
      ]
     },
     "execution_count": 18,
     "metadata": {},
     "output_type": "execute_result"
    }
   ],
   "source": [
    "#transform Helpfulness into a binary variable with 0.50 ratio\n",
    "df1.loc[:, 'Helpful'] = np.where(df1.loc[:, 'HelpfulnessNumerator'] / df1.loc[:, 'HelpfulnessDenominator'] > 0.50, 1, 0)\n",
    "df1.head()"
   ]
  },
  {
   "cell_type": "code",
   "execution_count": 19,
   "metadata": {
    "_cell_guid": "c6f66c98-2186-0de7-f7f4-fd0d8c101281"
   },
   "outputs": [
    {
     "data": {
      "text/html": [
       "<div>\n",
       "<style scoped>\n",
       "    .dataframe tbody tr th:only-of-type {\n",
       "        vertical-align: middle;\n",
       "    }\n",
       "\n",
       "    .dataframe tbody tr th {\n",
       "        vertical-align: top;\n",
       "    }\n",
       "\n",
       "    .dataframe thead th {\n",
       "        text-align: right;\n",
       "    }\n",
       "</style>\n",
       "<table border=\"1\" class=\"dataframe\">\n",
       "  <thead>\n",
       "    <tr style=\"text-align: right;\">\n",
       "      <th></th>\n",
       "      <th>HelpfulnessNumerator</th>\n",
       "      <th>HelpfulnessDenominator</th>\n",
       "      <th>Score</th>\n",
       "      <th>Text</th>\n",
       "    </tr>\n",
       "    <tr>\n",
       "      <th>Helpful</th>\n",
       "      <th></th>\n",
       "      <th></th>\n",
       "      <th></th>\n",
       "      <th></th>\n",
       "    </tr>\n",
       "  </thead>\n",
       "  <tbody>\n",
       "    <tr>\n",
       "      <th>0</th>\n",
       "      <td>4100</td>\n",
       "      <td>4100</td>\n",
       "      <td>4100</td>\n",
       "      <td>4100</td>\n",
       "    </tr>\n",
       "    <tr>\n",
       "      <th>1</th>\n",
       "      <td>17363</td>\n",
       "      <td>17363</td>\n",
       "      <td>17363</td>\n",
       "      <td>17363</td>\n",
       "    </tr>\n",
       "  </tbody>\n",
       "</table>\n",
       "</div>"
      ],
      "text/plain": [
       "         HelpfulnessNumerator  HelpfulnessDenominator  Score   Text\n",
       "Helpful                                                            \n",
       "0                        4100                    4100   4100   4100\n",
       "1                       17363                   17363  17363  17363"
      ]
     },
     "execution_count": 19,
     "metadata": {},
     "output_type": "execute_result"
    }
   ],
   "source": [
    "df1.groupby('Helpful').count()"
   ]
  },
  {
   "cell_type": "code",
   "execution_count": 20,
   "metadata": {
    "_cell_guid": "f0c079a4-61d8-2768-27e9-c7d37d1888bf"
   },
   "outputs": [
    {
     "data": {
      "text/html": [
       "<div>\n",
       "<style scoped>\n",
       "    .dataframe tbody tr th:only-of-type {\n",
       "        vertical-align: middle;\n",
       "    }\n",
       "\n",
       "    .dataframe tbody tr th {\n",
       "        vertical-align: top;\n",
       "    }\n",
       "\n",
       "    .dataframe thead th {\n",
       "        text-align: right;\n",
       "    }\n",
       "</style>\n",
       "<table border=\"1\" class=\"dataframe\">\n",
       "  <thead>\n",
       "    <tr style=\"text-align: right;\">\n",
       "      <th></th>\n",
       "      <th>HelpfulnessNumerator</th>\n",
       "      <th>HelpfulnessDenominator</th>\n",
       "      <th>Score</th>\n",
       "      <th>Helpful</th>\n",
       "    </tr>\n",
       "  </thead>\n",
       "  <tbody>\n",
       "    <tr>\n",
       "      <th>HelpfulnessNumerator</th>\n",
       "      <td>1.000000</td>\n",
       "      <td>0.975746</td>\n",
       "      <td>0.145338</td>\n",
       "      <td>0.228370</td>\n",
       "    </tr>\n",
       "    <tr>\n",
       "      <th>HelpfulnessDenominator</th>\n",
       "      <td>0.975746</td>\n",
       "      <td>1.000000</td>\n",
       "      <td>0.048775</td>\n",
       "      <td>0.080156</td>\n",
       "    </tr>\n",
       "    <tr>\n",
       "      <th>Score</th>\n",
       "      <td>0.145338</td>\n",
       "      <td>0.048775</td>\n",
       "      <td>1.000000</td>\n",
       "      <td>0.457537</td>\n",
       "    </tr>\n",
       "    <tr>\n",
       "      <th>Helpful</th>\n",
       "      <td>0.228370</td>\n",
       "      <td>0.080156</td>\n",
       "      <td>0.457537</td>\n",
       "      <td>1.000000</td>\n",
       "    </tr>\n",
       "  </tbody>\n",
       "</table>\n",
       "</div>"
      ],
      "text/plain": [
       "                        HelpfulnessNumerator  HelpfulnessDenominator  \\\n",
       "HelpfulnessNumerator                1.000000                0.975746   \n",
       "HelpfulnessDenominator              0.975746                1.000000   \n",
       "Score                               0.145338                0.048775   \n",
       "Helpful                             0.228370                0.080156   \n",
       "\n",
       "                           Score   Helpful  \n",
       "HelpfulnessNumerator    0.145338  0.228370  \n",
       "HelpfulnessDenominator  0.048775  0.080156  \n",
       "Score                   1.000000  0.457537  \n",
       "Helpful                 0.457537  1.000000  "
      ]
     },
     "execution_count": 20,
     "metadata": {},
     "output_type": "execute_result"
    }
   ],
   "source": [
    "df1.corr()"
   ]
  },
  {
   "cell_type": "markdown",
   "metadata": {
    "_cell_guid": "1cb38ca4-fbdc-5713-fc7e-a853225fec96"
   },
   "source": [
    "### (Bag of Words model)"
   ]
  },
  {
   "cell_type": "code",
   "execution_count": 92,
   "metadata": {
    "_cell_guid": "61608f06-bc19-8190-a29e-3488aed98ebc"
   },
   "outputs": [],
   "source": [
    "#make a copy\n",
    "df2 = df1.copy(deep = True)"
   ]
  },
  {
   "cell_type": "code",
   "execution_count": 93,
   "metadata": {
    "_cell_guid": "0d026b5f-675b-bee2-c335-4b3ed936e295"
   },
   "outputs": [
    {
     "data": {
      "text/plain": [
       "TfidfVectorizer(max_df=0.9, min_df=0.1, ngram_range=(1, 4),\n",
       "                stop_words='english')"
      ]
     },
     "execution_count": 93,
     "metadata": {},
     "output_type": "execute_result"
    }
   ],
   "source": [
    "#tokenize text with Tfidf\n",
    "from sklearn.feature_extraction.text import TfidfVectorizer\n",
    "\n",
    "vectorizer = TfidfVectorizer(min_df = 0.1, max_df=0.9,\n",
    "                             ngram_range=(1, 4), \n",
    "                             stop_words='english')\n",
    "vectorizer.fit(df2['Text'])"
   ]
  },
  {
   "cell_type": "code",
   "execution_count": 94,
   "metadata": {
    "_cell_guid": "844b94f2-38f1-0ea0-85c4-cc2901a600ee"
   },
   "outputs": [],
   "source": [
    "X_train = vectorizer.transform(df2['Text'])\n",
    "vocab = vectorizer.get_feature_names()"
   ]
  },
  {
   "cell_type": "code",
   "execution_count": 96,
   "metadata": {},
   "outputs": [
    {
     "data": {
      "text/plain": [
       "(21463, 39)"
      ]
     },
     "execution_count": 96,
     "metadata": {},
     "output_type": "execute_result"
    },
    {
     "data": {
      "text/html": [
       "<div>\n",
       "<style scoped>\n",
       "    .dataframe tbody tr th:only-of-type {\n",
       "        vertical-align: middle;\n",
       "    }\n",
       "\n",
       "    .dataframe tbody tr th {\n",
       "        vertical-align: top;\n",
       "    }\n",
       "\n",
       "    .dataframe thead th {\n",
       "        text-align: right;\n",
       "    }\n",
       "</style>\n",
       "<table border=\"1\" class=\"dataframe\">\n",
       "  <thead>\n",
       "    <tr style=\"text-align: right;\">\n",
       "      <th></th>\n",
       "      <th>amazon</th>\n",
       "      <th>best</th>\n",
       "      <th>better</th>\n",
       "      <th>bought</th>\n",
       "      <th>br</th>\n",
       "      <th>br br</th>\n",
       "      <th>buy</th>\n",
       "      <th>coffee</th>\n",
       "      <th>day</th>\n",
       "      <th>did</th>\n",
       "      <th>...</th>\n",
       "      <th>taste</th>\n",
       "      <th>think</th>\n",
       "      <th>time</th>\n",
       "      <th>tried</th>\n",
       "      <th>try</th>\n",
       "      <th>use</th>\n",
       "      <th>used</th>\n",
       "      <th>want</th>\n",
       "      <th>water</th>\n",
       "      <th>way</th>\n",
       "    </tr>\n",
       "  </thead>\n",
       "  <tbody>\n",
       "    <tr>\n",
       "      <th>0</th>\n",
       "      <td>0.000000</td>\n",
       "      <td>0.188065</td>\n",
       "      <td>0.370888</td>\n",
       "      <td>0.000000</td>\n",
       "      <td>0.233798</td>\n",
       "      <td>0.127876</td>\n",
       "      <td>0.177571</td>\n",
       "      <td>0.000000</td>\n",
       "      <td>0.000000</td>\n",
       "      <td>0.0</td>\n",
       "      <td>...</td>\n",
       "      <td>0.153356</td>\n",
       "      <td>0.000000</td>\n",
       "      <td>0.177886</td>\n",
       "      <td>0.186661</td>\n",
       "      <td>0.000000</td>\n",
       "      <td>0.348169</td>\n",
       "      <td>0.000000</td>\n",
       "      <td>0.0</td>\n",
       "      <td>0.412522</td>\n",
       "      <td>0.000000</td>\n",
       "    </tr>\n",
       "    <tr>\n",
       "      <th>1</th>\n",
       "      <td>0.000000</td>\n",
       "      <td>0.485839</td>\n",
       "      <td>0.479068</td>\n",
       "      <td>0.000000</td>\n",
       "      <td>0.000000</td>\n",
       "      <td>0.000000</td>\n",
       "      <td>0.000000</td>\n",
       "      <td>0.000000</td>\n",
       "      <td>0.000000</td>\n",
       "      <td>0.0</td>\n",
       "      <td>...</td>\n",
       "      <td>0.000000</td>\n",
       "      <td>0.000000</td>\n",
       "      <td>0.229771</td>\n",
       "      <td>0.000000</td>\n",
       "      <td>0.000000</td>\n",
       "      <td>0.000000</td>\n",
       "      <td>0.000000</td>\n",
       "      <td>0.0</td>\n",
       "      <td>0.000000</td>\n",
       "      <td>0.000000</td>\n",
       "    </tr>\n",
       "    <tr>\n",
       "      <th>2</th>\n",
       "      <td>0.067134</td>\n",
       "      <td>0.000000</td>\n",
       "      <td>0.067184</td>\n",
       "      <td>0.150553</td>\n",
       "      <td>0.508213</td>\n",
       "      <td>0.277968</td>\n",
       "      <td>0.000000</td>\n",
       "      <td>0.373135</td>\n",
       "      <td>0.075655</td>\n",
       "      <td>0.0</td>\n",
       "      <td>...</td>\n",
       "      <td>0.000000</td>\n",
       "      <td>0.145361</td>\n",
       "      <td>0.064446</td>\n",
       "      <td>0.000000</td>\n",
       "      <td>0.069508</td>\n",
       "      <td>0.378412</td>\n",
       "      <td>0.000000</td>\n",
       "      <td>0.0</td>\n",
       "      <td>0.074726</td>\n",
       "      <td>0.070345</td>\n",
       "    </tr>\n",
       "    <tr>\n",
       "      <th>3</th>\n",
       "      <td>0.196298</td>\n",
       "      <td>0.000000</td>\n",
       "      <td>0.000000</td>\n",
       "      <td>0.220106</td>\n",
       "      <td>0.743000</td>\n",
       "      <td>0.270924</td>\n",
       "      <td>0.000000</td>\n",
       "      <td>0.000000</td>\n",
       "      <td>0.221212</td>\n",
       "      <td>0.0</td>\n",
       "      <td>...</td>\n",
       "      <td>0.000000</td>\n",
       "      <td>0.000000</td>\n",
       "      <td>0.000000</td>\n",
       "      <td>0.000000</td>\n",
       "      <td>0.000000</td>\n",
       "      <td>0.000000</td>\n",
       "      <td>0.000000</td>\n",
       "      <td>0.0</td>\n",
       "      <td>0.000000</td>\n",
       "      <td>0.000000</td>\n",
       "    </tr>\n",
       "    <tr>\n",
       "      <th>4</th>\n",
       "      <td>0.000000</td>\n",
       "      <td>0.000000</td>\n",
       "      <td>0.263627</td>\n",
       "      <td>0.000000</td>\n",
       "      <td>0.000000</td>\n",
       "      <td>0.000000</td>\n",
       "      <td>0.000000</td>\n",
       "      <td>0.292832</td>\n",
       "      <td>0.593728</td>\n",
       "      <td>0.0</td>\n",
       "      <td>...</td>\n",
       "      <td>0.436019</td>\n",
       "      <td>0.000000</td>\n",
       "      <td>0.000000</td>\n",
       "      <td>0.000000</td>\n",
       "      <td>0.000000</td>\n",
       "      <td>0.000000</td>\n",
       "      <td>0.270538</td>\n",
       "      <td>0.0</td>\n",
       "      <td>0.000000</td>\n",
       "      <td>0.000000</td>\n",
       "    </tr>\n",
       "  </tbody>\n",
       "</table>\n",
       "<p>5 rows × 39 columns</p>\n",
       "</div>"
      ],
      "text/plain": [
       "     amazon      best    better    bought        br     br br       buy  \\\n",
       "0  0.000000  0.188065  0.370888  0.000000  0.233798  0.127876  0.177571   \n",
       "1  0.000000  0.485839  0.479068  0.000000  0.000000  0.000000  0.000000   \n",
       "2  0.067134  0.000000  0.067184  0.150553  0.508213  0.277968  0.000000   \n",
       "3  0.196298  0.000000  0.000000  0.220106  0.743000  0.270924  0.000000   \n",
       "4  0.000000  0.000000  0.263627  0.000000  0.000000  0.000000  0.000000   \n",
       "\n",
       "     coffee       day  did  ...     taste     think      time     tried  \\\n",
       "0  0.000000  0.000000  0.0  ...  0.153356  0.000000  0.177886  0.186661   \n",
       "1  0.000000  0.000000  0.0  ...  0.000000  0.000000  0.229771  0.000000   \n",
       "2  0.373135  0.075655  0.0  ...  0.000000  0.145361  0.064446  0.000000   \n",
       "3  0.000000  0.221212  0.0  ...  0.000000  0.000000  0.000000  0.000000   \n",
       "4  0.292832  0.593728  0.0  ...  0.436019  0.000000  0.000000  0.000000   \n",
       "\n",
       "        try       use      used  want     water       way  \n",
       "0  0.000000  0.348169  0.000000   0.0  0.412522  0.000000  \n",
       "1  0.000000  0.000000  0.000000   0.0  0.000000  0.000000  \n",
       "2  0.069508  0.378412  0.000000   0.0  0.074726  0.070345  \n",
       "3  0.000000  0.000000  0.000000   0.0  0.000000  0.000000  \n",
       "4  0.000000  0.000000  0.270538   0.0  0.000000  0.000000  \n",
       "\n",
       "[5 rows x 39 columns]"
      ]
     },
     "execution_count": 96,
     "metadata": {},
     "output_type": "execute_result"
    }
   ],
   "source": [
    "pd.DataFrame(X_train.toarray(), columns = vocab).shape\n",
    "pd.DataFrame(X_train.toarray(), columns = vocab).head()"
   ]
  },
  {
   "cell_type": "code",
   "execution_count": 30,
   "metadata": {
    "_cell_guid": "6dba1aac-1c34-3433-6e09-853634f7d928"
   },
   "outputs": [
    {
     "data": {
      "text/plain": [
       "StratifiedKFold(n_splits=2, random_state=None, shuffle=False)"
      ]
     },
     "execution_count": 30,
     "metadata": {},
     "output_type": "execute_result"
    }
   ],
   "source": [
    "#find best logistic regression parameters\n",
    "#from sklearn import GridSearchCV, cross_validation\n",
    "from sklearn.model_selection import GridSearchCV, StratifiedKFold\n",
    "from sklearn.linear_model import LogisticRegression\n",
    "StratifiedKFold(n_splits=2)"
   ]
  },
  {
   "cell_type": "code",
   "execution_count": 36,
   "metadata": {
    "_cell_guid": "6dba1aac-1c34-3433-6e09-853634f7d928"
   },
   "outputs": [
    {
     "data": {
      "text/plain": [
       "GridSearchCV(cv=StratifiedKFold(n_splits=5, random_state=None, shuffle=False),\n",
       "             estimator=LogisticRegression(),\n",
       "             param_grid={'C': [100000, 10000, 1000, 100, 10, 1, 0.1, 0.01,\n",
       "                               0.001, 0.0001],\n",
       "                         'class_weight': [None, 'balanced']},\n",
       "             scoring='roc_auc')"
      ]
     },
     "execution_count": 36,
     "metadata": {},
     "output_type": "execute_result"
    }
   ],
   "source": [
    "#find best logistic regression parameters\n",
    "#from sklearn import GridSearchCV, cross_validation\n",
    "from sklearn.model_selection import GridSearchCV, StratifiedKFold\n",
    "\n",
    "from sklearn.linear_model import LogisticRegression\n",
    "feature_set = X_train\n",
    "gs = GridSearchCV(\n",
    "    estimator=LogisticRegression(),\n",
    "    param_grid={'C': [10**-i for i in range(-5, 5)], 'class_weight': [None, 'balanced']},\n",
    "    cv=StratifiedKFold(n_splits=5),\n",
    "    scoring='roc_auc'\n",
    ")\n",
    "\n",
    "\n",
    "gs.fit(X_train, df2.Helpful)"
   ]
  },
  {
   "cell_type": "code",
   "execution_count": 37,
   "metadata": {},
   "outputs": [
    {
     "data": {
      "text/plain": [
       "0.7197665495032068"
      ]
     },
     "execution_count": 37,
     "metadata": {},
     "output_type": "execute_result"
    }
   ],
   "source": [
    "gs.best_score_"
   ]
  },
  {
   "cell_type": "code",
   "execution_count": 38,
   "metadata": {
    "_cell_guid": "1edf4443-68df-f86f-02d2-b8b5a099671d"
   },
   "outputs": [
    {
     "data": {
      "text/plain": [
       "[<matplotlib.lines.Line2D at 0x1d1a8ab4ca0>]"
      ]
     },
     "execution_count": 38,
     "metadata": {},
     "output_type": "execute_result"
    },
    {
     "data": {
      "image/png": "[encoded data removed]",
      "text/plain": [
       "<Figure size 432x288 with 1 Axes>"
      ]
     },
     "metadata": {
      "needs_background": "light"
     },
     "output_type": "display_data"
    }
   ],
   "source": [
    "#plot ROC/AUC curve\n",
    "from sklearn.metrics import roc_auc_score, roc_curve\n",
    "actuals = gs.predict(feature_set) \n",
    "probas = gs.predict_proba(feature_set)\n",
    "plt.plot(roc_curve(df2[['Helpful']], probas[:,1])[0], roc_curve(df2[['Helpful']], probas[:,1])[1])"
   ]
  },
  {
   "cell_type": "code",
   "execution_count": 39,
   "metadata": {
    "_cell_guid": "843cbcc5-bcb0-369c-059d-2c03ea613fda"
   },
   "outputs": [
    {
     "data": {
      "text/plain": [
       "0.7233579183657989"
      ]
     },
     "execution_count": 39,
     "metadata": {},
     "output_type": "execute_result"
    }
   ],
   "source": [
    "# ROC/AUC score\n",
    "y_score = probas\n",
    "test2 = np.array(list(df2.Helpful))\n",
    "test2 = test2.reshape(21463,1)\n",
    "y_true = test2\n",
    "roc_auc_score(y_true, y_score[:,1].T)"
   ]
  },
  {
   "cell_type": "markdown",
   "metadata": {
    "_cell_guid": "850f03df-2df1-6143-4c43-4711ee23c71e"
   },
   "source": [
    "#### Notes\n",
    "The Bag of Words model performs poorly with only 72% accuracy."
   ]
  },
  {
   "cell_type": "markdown",
   "metadata": {
    "_cell_guid": "0073e3cd-6ccb-e38d-3b5b-cd80fd73401f"
   },
   "source": [
    "## Improving Prediction with K-Means Clustering of Reviews\n",
    "Hypothesis: There's a natural clustering to review vocabulary. I can use the most descriptive clusters to simplify the model."
   ]
  },
  {
   "cell_type": "code",
   "execution_count": 40,
   "metadata": {
    "_cell_guid": "f41ef3ab-5326-f34c-2ac1-fe70c7dbb3a4"
   },
   "outputs": [],
   "source": [
    "#Apply TfidfVectorizer to review text\n",
    "from sklearn.feature_extraction.text import TfidfVectorizer\n",
    "from sklearn.cluster import KMeans\n",
    "from sklearn import metrics"
   ]
  },
  {
   "cell_type": "code",
   "execution_count": 41,
   "metadata": {
    "_cell_guid": "767adc00-48a7-e9b3-a570-b4817d1a3c97"
   },
   "outputs": [
    {
     "data": {
      "text/plain": [
       "TfidfVectorizer(max_df=0.95, min_df=0.05, ngram_range=(1, 2),\n",
       "                stop_words='english')"
      ]
     },
     "execution_count": 41,
     "metadata": {},
     "output_type": "execute_result"
    }
   ],
   "source": [
    "model = KMeans(n_clusters=4, init='k-means++', max_iter=100, n_init=1,random_state=5)\n",
    "\n",
    "vectorizer = TfidfVectorizer(min_df = 0.05, max_df=0.95,\n",
    "                             ngram_range=(1, 2), \n",
    "                             stop_words='english')\n",
    "vectorizer.fit(df1['Text'])"
   ]
  },
  {
   "cell_type": "markdown",
   "metadata": {
    "_cell_guid": "b5f9d609-aa6e-9754-2215-e49a469d73f7"
   },
   "source": [
    "### Select Top 10 words per cluster"
   ]
  },
  {
   "cell_type": "code",
   "execution_count": 102,
   "metadata": {
    "_cell_guid": "fad223cf-02dd-b6f9-5465-c931293d09b0"
   },
   "outputs": [],
   "source": [
    "X_train = vectorizer.transform(df1['Text'])\n",
    "vocab = vectorizer.get_feature_names()\n",
    "sse_err = []\n",
    "res = model.fit(X_train)\n",
    "vocab = np.array(vocab)\n",
    "cluster_centers = np.array(res.cluster_centers_)\n",
    "sorted_vals = [res.cluster_centers_[i].argsort() for i in range(0,np.shape(res.cluster_centers_)[0])]\n",
    "words=set()\n",
    "for i in range(len(res.cluster_centers_)):\n",
    "    words = words.union(set(vocab[sorted_vals[i][-10:]]))\n",
    "words=list(words)"
   ]
  },
  {
   "cell_type": "code",
   "execution_count": 111,
   "metadata": {
    "scrolled": false
   },
   "outputs": [
    {
     "data": {
      "text/html": [
       "<div>\n",
       "<style scoped>\n",
       "    .dataframe tbody tr th:only-of-type {\n",
       "        vertical-align: middle;\n",
       "    }\n",
       "\n",
       "    .dataframe tbody tr th {\n",
       "        vertical-align: top;\n",
       "    }\n",
       "\n",
       "    .dataframe thead th {\n",
       "        text-align: right;\n",
       "    }\n",
       "</style>\n",
       "<table border=\"1\" class=\"dataframe\">\n",
       "  <thead>\n",
       "    <tr style=\"text-align: right;\">\n",
       "      <th></th>\n",
       "      <th>amazon</th>\n",
       "      <th>best</th>\n",
       "      <th>better</th>\n",
       "      <th>bought</th>\n",
       "      <th>br</th>\n",
       "      <th>br br</th>\n",
       "      <th>buy</th>\n",
       "      <th>coffee</th>\n",
       "      <th>day</th>\n",
       "      <th>did</th>\n",
       "      <th>...</th>\n",
       "      <th>taste</th>\n",
       "      <th>think</th>\n",
       "      <th>time</th>\n",
       "      <th>tried</th>\n",
       "      <th>try</th>\n",
       "      <th>use</th>\n",
       "      <th>used</th>\n",
       "      <th>want</th>\n",
       "      <th>water</th>\n",
       "      <th>way</th>\n",
       "    </tr>\n",
       "  </thead>\n",
       "  <tbody>\n",
       "    <tr>\n",
       "      <th>0</th>\n",
       "      <td>0.000000</td>\n",
       "      <td>0.188065</td>\n",
       "      <td>0.370888</td>\n",
       "      <td>0.000000</td>\n",
       "      <td>0.233798</td>\n",
       "      <td>0.127876</td>\n",
       "      <td>0.177571</td>\n",
       "      <td>0.000000</td>\n",
       "      <td>0.000000</td>\n",
       "      <td>0.0</td>\n",
       "      <td>...</td>\n",
       "      <td>0.153356</td>\n",
       "      <td>0.000000</td>\n",
       "      <td>0.177886</td>\n",
       "      <td>0.186661</td>\n",
       "      <td>0.000000</td>\n",
       "      <td>0.348169</td>\n",
       "      <td>0.000000</td>\n",
       "      <td>0.0</td>\n",
       "      <td>0.412522</td>\n",
       "      <td>0.000000</td>\n",
       "    </tr>\n",
       "    <tr>\n",
       "      <th>1</th>\n",
       "      <td>0.000000</td>\n",
       "      <td>0.485839</td>\n",
       "      <td>0.479068</td>\n",
       "      <td>0.000000</td>\n",
       "      <td>0.000000</td>\n",
       "      <td>0.000000</td>\n",
       "      <td>0.000000</td>\n",
       "      <td>0.000000</td>\n",
       "      <td>0.000000</td>\n",
       "      <td>0.0</td>\n",
       "      <td>...</td>\n",
       "      <td>0.000000</td>\n",
       "      <td>0.000000</td>\n",
       "      <td>0.229771</td>\n",
       "      <td>0.000000</td>\n",
       "      <td>0.000000</td>\n",
       "      <td>0.000000</td>\n",
       "      <td>0.000000</td>\n",
       "      <td>0.0</td>\n",
       "      <td>0.000000</td>\n",
       "      <td>0.000000</td>\n",
       "    </tr>\n",
       "    <tr>\n",
       "      <th>2</th>\n",
       "      <td>0.067134</td>\n",
       "      <td>0.000000</td>\n",
       "      <td>0.067184</td>\n",
       "      <td>0.150553</td>\n",
       "      <td>0.508213</td>\n",
       "      <td>0.277968</td>\n",
       "      <td>0.000000</td>\n",
       "      <td>0.373135</td>\n",
       "      <td>0.075655</td>\n",
       "      <td>0.0</td>\n",
       "      <td>...</td>\n",
       "      <td>0.000000</td>\n",
       "      <td>0.145361</td>\n",
       "      <td>0.064446</td>\n",
       "      <td>0.000000</td>\n",
       "      <td>0.069508</td>\n",
       "      <td>0.378412</td>\n",
       "      <td>0.000000</td>\n",
       "      <td>0.0</td>\n",
       "      <td>0.074726</td>\n",
       "      <td>0.070345</td>\n",
       "    </tr>\n",
       "    <tr>\n",
       "      <th>3</th>\n",
       "      <td>0.196298</td>\n",
       "      <td>0.000000</td>\n",
       "      <td>0.000000</td>\n",
       "      <td>0.220106</td>\n",
       "      <td>0.743000</td>\n",
       "      <td>0.270924</td>\n",
       "      <td>0.000000</td>\n",
       "      <td>0.000000</td>\n",
       "      <td>0.221212</td>\n",
       "      <td>0.0</td>\n",
       "      <td>...</td>\n",
       "      <td>0.000000</td>\n",
       "      <td>0.000000</td>\n",
       "      <td>0.000000</td>\n",
       "      <td>0.000000</td>\n",
       "      <td>0.000000</td>\n",
       "      <td>0.000000</td>\n",
       "      <td>0.000000</td>\n",
       "      <td>0.0</td>\n",
       "      <td>0.000000</td>\n",
       "      <td>0.000000</td>\n",
       "    </tr>\n",
       "    <tr>\n",
       "      <th>4</th>\n",
       "      <td>0.000000</td>\n",
       "      <td>0.000000</td>\n",
       "      <td>0.263627</td>\n",
       "      <td>0.000000</td>\n",
       "      <td>0.000000</td>\n",
       "      <td>0.000000</td>\n",
       "      <td>0.000000</td>\n",
       "      <td>0.292832</td>\n",
       "      <td>0.593728</td>\n",
       "      <td>0.0</td>\n",
       "      <td>...</td>\n",
       "      <td>0.436019</td>\n",
       "      <td>0.000000</td>\n",
       "      <td>0.000000</td>\n",
       "      <td>0.000000</td>\n",
       "      <td>0.000000</td>\n",
       "      <td>0.000000</td>\n",
       "      <td>0.270538</td>\n",
       "      <td>0.0</td>\n",
       "      <td>0.000000</td>\n",
       "      <td>0.000000</td>\n",
       "    </tr>\n",
       "  </tbody>\n",
       "</table>\n",
       "<p>5 rows × 39 columns</p>\n",
       "</div>"
      ],
      "text/plain": [
       "     amazon      best    better    bought        br     br br       buy  \\\n",
       "0  0.000000  0.188065  0.370888  0.000000  0.233798  0.127876  0.177571   \n",
       "1  0.000000  0.485839  0.479068  0.000000  0.000000  0.000000  0.000000   \n",
       "2  0.067134  0.000000  0.067184  0.150553  0.508213  0.277968  0.000000   \n",
       "3  0.196298  0.000000  0.000000  0.220106  0.743000  0.270924  0.000000   \n",
       "4  0.000000  0.000000  0.263627  0.000000  0.000000  0.000000  0.000000   \n",
       "\n",
       "     coffee       day  did  ...     taste     think      time     tried  \\\n",
       "0  0.000000  0.000000  0.0  ...  0.153356  0.000000  0.177886  0.186661   \n",
       "1  0.000000  0.000000  0.0  ...  0.000000  0.000000  0.229771  0.000000   \n",
       "2  0.373135  0.075655  0.0  ...  0.000000  0.145361  0.064446  0.000000   \n",
       "3  0.000000  0.221212  0.0  ...  0.000000  0.000000  0.000000  0.000000   \n",
       "4  0.292832  0.593728  0.0  ...  0.436019  0.000000  0.000000  0.000000   \n",
       "\n",
       "        try       use      used  want     water       way  \n",
       "0  0.000000  0.348169  0.000000   0.0  0.412522  0.000000  \n",
       "1  0.000000  0.000000  0.000000   0.0  0.000000  0.000000  \n",
       "2  0.069508  0.378412  0.000000   0.0  0.074726  0.070345  \n",
       "3  0.000000  0.000000  0.000000   0.0  0.000000  0.000000  \n",
       "4  0.000000  0.000000  0.270538   0.0  0.000000  0.000000  \n",
       "\n",
       "[5 rows x 39 columns]"
      ]
     },
     "execution_count": 111,
     "metadata": {},
     "output_type": "execute_result"
    },
    {
     "data": {
      "text/plain": [
       "array(['amazon', 'best', 'better', 'bought', 'br', 'br br', 'buy',\n",
       "       'coffee', 'day', 'did'], dtype='<U7')"
      ]
     },
     "execution_count": 111,
     "metadata": {},
     "output_type": "execute_result"
    },
    {
     "data": {
      "text/plain": [
       "39"
      ]
     },
     "execution_count": 111,
     "metadata": {},
     "output_type": "execute_result"
    },
    {
     "data": {
      "text/plain": [
       "17"
      ]
     },
     "execution_count": 111,
     "metadata": {},
     "output_type": "execute_result"
    }
   ],
   "source": [
    "pd.DataFrame(X_train.toarray(), columns = vocab).head()\n",
    "np.array(vocab)[0:10]\n",
    "len(vocab)\n",
    "len(words)"
   ]
  },
  {
   "cell_type": "code",
   "execution_count": 141,
   "metadata": {},
   "outputs": [
    {
     "data": {
      "text/plain": [
       "array([[ 1,  2],\n",
       "       [ 1,  4],\n",
       "       [ 1,  0],\n",
       "       [10,  2],\n",
       "       [10,  4],\n",
       "       [10,  0]])"
      ]
     },
     "execution_count": 141,
     "metadata": {},
     "output_type": "execute_result"
    },
    {
     "data": {
      "text/plain": [
       "<matplotlib.collections.PathCollection at 0x1d1cff0cb20>"
      ]
     },
     "execution_count": 141,
     "metadata": {},
     "output_type": "execute_result"
    },
    {
     "data": {
      "text/plain": [
       "array([1, 1, 1, 0, 0, 0])"
      ]
     },
     "execution_count": 141,
     "metadata": {},
     "output_type": "execute_result"
    },
    {
     "data": {
      "text/plain": [
       "array([[10.,  2.],\n",
       "       [ 1.,  2.]])"
      ]
     },
     "execution_count": 141,
     "metadata": {},
     "output_type": "execute_result"
    },
    {
     "data": {
      "image/png": "[encoded data removed]",
      "text/plain": [
       "<Figure size 432x288 with 1 Axes>"
      ]
     },
     "metadata": {
      "needs_background": "light"
     },
     "output_type": "display_data"
    }
   ],
   "source": [
    "X = np.array([[1, 2], [1, 4], [1, 0],\n",
    "              [10, 2], [10, 4], [10, 0]])\n",
    "X\n",
    "plt.scatter(X[:, 0], X[:, 1])\n",
    "kmeans = KMeans(n_clusters=2, random_state=0).fit(X)\n",
    "kmeans.labels_\n",
    "kmeans.cluster_centers_"
   ]
  },
  {
   "cell_type": "code",
   "execution_count": 134,
   "metadata": {},
   "outputs": [
    {
     "data": {
      "text/plain": [
       "(4, 39)"
      ]
     },
     "execution_count": 134,
     "metadata": {},
     "output_type": "execute_result"
    },
    {
     "data": {
      "text/plain": [
       "array([[0.56, 0.04, 0.03, 0.05, 0.07, 0.02, 0.09, 0.04, 0.02, 0.03, 0.02,\n",
       "        0.04, 0.02, 0.03, 0.06, 0.05, 0.07, 0.04, 0.03, 0.06, 0.03, 0.07,\n",
       "        0.02, 0.05, 0.04, 0.02, 0.11, 0.09, 0.03, 0.03, 0.02, 0.04, 0.03,\n",
       "        0.02, 0.03, 0.04, 0.01, 0.01, 0.04],\n",
       "       [0.01, 0.05, 0.05, 0.04, 0.03, 0.01, 0.05, 0.09, 0.03, 0.04, 0.03,\n",
       "        0.06, 0.04, 0.07, 0.08, 0.08, 0.08, 0.05, 0.05, 0.09, 0.03, 0.11,\n",
       "        0.05, 0.06, 0.05, 0.03, 0.05, 0.02, 0.06, 0.09, 0.03, 0.05, 0.05,\n",
       "        0.04, 0.06, 0.04, 0.03, 0.04, 0.03],\n",
       "       [0.03, 0.03, 0.04, 0.05, 0.06, 0.02, 0.07, 0.02, 0.02, 0.04, 0.04,\n",
       "        0.04, 0.02, 0.03, 0.04, 0.06, 0.07, 0.04, 0.02, 0.06, 0.03, 0.07,\n",
       "        0.03, 0.03, 0.04, 0.02, 0.05, 0.55, 0.04, 0.06, 0.03, 0.04, 0.03,\n",
       "        0.03, 0.07, 0.04, 0.03, 0.02, 0.03],\n",
       "       [0.04, 0.03, 0.04, 0.02, 0.64, 0.3 , 0.04, 0.04, 0.04, 0.03, 0.03,\n",
       "        0.05, 0.04, 0.05, 0.08, 0.07, 0.05, 0.04, 0.04, 0.07, 0.03, 0.09,\n",
       "        0.04, 0.03, 0.04, 0.03, 0.03, 0.06, 0.05, 0.06, 0.03, 0.05, 0.03,\n",
       "        0.03, 0.05, 0.04, 0.03, 0.05, 0.04]])"
      ]
     },
     "execution_count": 134,
     "metadata": {},
     "output_type": "execute_result"
    },
    {
     "data": {
      "text/plain": [
       "[array([37, 36, 25, 12,  5, 10,  8, 33, 22, 30, 32, 20, 34, 18,  2, 29, 13,\n",
       "         9, 28, 17,  7, 24, 11, 38,  1, 35, 31,  3, 23, 15, 14, 19,  4, 16,\n",
       "        21, 27,  6, 26,  0], dtype=int64),\n",
       " array([ 0,  5, 27, 10, 25, 36, 30, 20,  4,  8, 38,  9, 37, 35, 12, 33,  3,\n",
       "        31, 17,  2, 32, 24, 26, 18,  1, 22,  6, 34, 23, 28, 11, 13, 16, 14,\n",
       "        15, 19, 29,  7, 21], dtype=int64),\n",
       " array([ 7,  5, 37, 25, 18,  8, 12,  1, 30, 32,  0, 33, 36, 23, 13, 20, 38,\n",
       "        22, 24, 28, 17, 10,  2, 35,  9, 11, 14, 31,  3, 26,  4, 19, 29, 15,\n",
       "         6, 21, 16, 34, 27], dtype=int64),\n",
       " array([ 3,  9, 25, 36, 26, 30, 33, 20,  1, 10, 23, 32,  0, 35,  8, 38,  6,\n",
       "        12,  2,  7, 24, 22, 18, 17, 31, 28, 37, 16, 34, 11, 13, 29, 27, 15,\n",
       "        19, 14, 21,  5,  4], dtype=int64)]"
      ]
     },
     "execution_count": 134,
     "metadata": {},
     "output_type": "execute_result"
    },
    {
     "data": {
      "text/plain": [
       "39"
      ]
     },
     "execution_count": 134,
     "metadata": {},
     "output_type": "execute_result"
    },
    {
     "data": {
      "text/plain": [
       "array(['water', 'want', 'people', 'eat', 'br br', 'does', 'day', 'try',\n",
       "       'little', 'think', 'tried', 'know', 'use', 'ive', 'better',\n",
       "       'taste', 'flavor', 'did', 'really', 'im', 'coffee', 'make', 'dont',\n",
       "       'way', 'best', 'used', 'time', 'bought', 'love', 'good', 'food',\n",
       "       'just', 'br', 'great', 'like', 'product', 'buy', 'price', 'amazon'],\n",
       "      dtype='<U7')"
      ]
     },
     "execution_count": 134,
     "metadata": {},
     "output_type": "execute_result"
    }
   ],
   "source": [
    "res.cluster_centers_.shape # center에 있는 벡터 array\n",
    "res.cluster_centers_\n",
    "sorted_vals\n",
    "len(vocab[sorted_vals[0]])\n",
    "vocab[sorted_vals[0]]"
   ]
  },
  {
   "cell_type": "markdown",
   "metadata": {},
   "source": [
    "### cluster_centers_ndarray of shape (n_clusters, n_features)\n",
    "Coordinates of cluster centers. "
   ]
  },
  {
   "cell_type": "code",
   "execution_count": 126,
   "metadata": {},
   "outputs": [
    {
     "data": {
      "text/plain": [
       "[0, 1, 2, 3]"
      ]
     },
     "execution_count": 126,
     "metadata": {},
     "output_type": "execute_result"
    },
    {
     "data": {
      "text/plain": [
       "array([0.56, 0.04, 0.03, 0.05, 0.07, 0.02, 0.09, 0.04, 0.02, 0.03, 0.02,\n",
       "       0.04, 0.02, 0.03, 0.06, 0.05, 0.07, 0.04, 0.03, 0.06, 0.03, 0.07,\n",
       "       0.02, 0.05, 0.04, 0.02, 0.11, 0.09, 0.03, 0.03, 0.02, 0.04, 0.03,\n",
       "       0.02, 0.03, 0.04, 0.01, 0.01, 0.04])"
      ]
     },
     "execution_count": 126,
     "metadata": {},
     "output_type": "execute_result"
    },
    {
     "data": {
      "text/plain": [
       "array([37, 36, 25, 12,  5, 10,  8, 33, 22, 30, 32, 20, 34, 18,  2, 29, 13,\n",
       "        9, 28, 17,  7, 24, 11, 38,  1, 35, 31,  3, 23, 15, 14, 19,  4, 16,\n",
       "       21, 27,  6, 26,  0], dtype=int64)"
      ]
     },
     "execution_count": 126,
     "metadata": {},
     "output_type": "execute_result"
    }
   ],
   "source": [
    "[i for i in range(0,np.shape(res.cluster_centers_)[0])]\n",
    "res.cluster_centers_[0]\n",
    "res.cluster_centers_[0].argsort()"
   ]
  },
  {
   "cell_type": "code",
   "execution_count": 144,
   "metadata": {},
   "outputs": [
    {
     "data": {
      "text/plain": [
       "17"
      ]
     },
     "execution_count": 144,
     "metadata": {},
     "output_type": "execute_result"
    },
    {
     "data": {
      "text/plain": [
       "'br:price:amazon:buy:just:good:coffee:like:taste:really:product:flavor:use:dont:br br:great:food'"
      ]
     },
     "execution_count": 144,
     "metadata": {},
     "output_type": "execute_result"
    }
   ],
   "source": [
    "len(words)\n",
    "#top 10 words for each cluster\n",
    "':'.join(words)"
   ]
  },
  {
   "cell_type": "code",
   "execution_count": 142,
   "metadata": {},
   "outputs": [
    {
     "data": {
      "text/plain": [
       "(21463, 39)"
      ]
     },
     "execution_count": 142,
     "metadata": {},
     "output_type": "execute_result"
    }
   ],
   "source": [
    "X_train.shape"
   ]
  },
  {
   "cell_type": "code",
   "execution_count": 150,
   "metadata": {},
   "outputs": [
    {
     "data": {
      "text/plain": [
       "39"
      ]
     },
     "execution_count": 150,
     "metadata": {},
     "output_type": "execute_result"
    },
    {
     "data": {
      "text/plain": [
       "17"
      ]
     },
     "execution_count": 150,
     "metadata": {},
     "output_type": "execute_result"
    },
    {
     "data": {
      "text/plain": [
       "[4, 26, 0, 6, 19, 15, 7, 21, 29, 28, 27, 13, 34, 11, 5, 16, 14]"
      ]
     },
     "execution_count": 150,
     "metadata": {},
     "output_type": "execute_result"
    }
   ],
   "source": [
    "len(vocab)\n",
    "len(words)\n",
    "[np.argwhere(vocab==i)[0][0] for i in words]"
   ]
  },
  {
   "cell_type": "code",
   "execution_count": 147,
   "metadata": {
    "_cell_guid": "c84fe455-2f62-16da-7dc6-adeb5caac9a1"
   },
   "outputs": [
    {
     "data": {
      "text/html": [
       "<div>\n",
       "<style scoped>\n",
       "    .dataframe tbody tr th:only-of-type {\n",
       "        vertical-align: middle;\n",
       "    }\n",
       "\n",
       "    .dataframe tbody tr th {\n",
       "        vertical-align: top;\n",
       "    }\n",
       "\n",
       "    .dataframe thead th {\n",
       "        text-align: right;\n",
       "    }\n",
       "</style>\n",
       "<table border=\"1\" class=\"dataframe\">\n",
       "  <thead>\n",
       "    <tr style=\"text-align: right;\">\n",
       "      <th></th>\n",
       "      <th>br</th>\n",
       "      <th>price</th>\n",
       "      <th>amazon</th>\n",
       "      <th>buy</th>\n",
       "      <th>just</th>\n",
       "      <th>good</th>\n",
       "      <th>coffee</th>\n",
       "      <th>like</th>\n",
       "      <th>taste</th>\n",
       "      <th>really</th>\n",
       "      <th>product</th>\n",
       "      <th>flavor</th>\n",
       "      <th>use</th>\n",
       "      <th>dont</th>\n",
       "      <th>br br</th>\n",
       "      <th>great</th>\n",
       "      <th>food</th>\n",
       "    </tr>\n",
       "  </thead>\n",
       "  <tbody>\n",
       "    <tr>\n",
       "      <th>0</th>\n",
       "      <td>0.233798</td>\n",
       "      <td>0.0</td>\n",
       "      <td>0.000000</td>\n",
       "      <td>0.177571</td>\n",
       "      <td>0.000000</td>\n",
       "      <td>0.433066</td>\n",
       "      <td>0.000000</td>\n",
       "      <td>0.127957</td>\n",
       "      <td>0.153356</td>\n",
       "      <td>0.000000</td>\n",
       "      <td>0.286521</td>\n",
       "      <td>0.0</td>\n",
       "      <td>0.348169</td>\n",
       "      <td>0.000000</td>\n",
       "      <td>0.127876</td>\n",
       "      <td>0.161078</td>\n",
       "      <td>0.000000</td>\n",
       "    </tr>\n",
       "    <tr>\n",
       "      <th>1</th>\n",
       "      <td>0.000000</td>\n",
       "      <td>0.0</td>\n",
       "      <td>0.000000</td>\n",
       "      <td>0.000000</td>\n",
       "      <td>0.000000</td>\n",
       "      <td>0.372921</td>\n",
       "      <td>0.000000</td>\n",
       "      <td>0.000000</td>\n",
       "      <td>0.000000</td>\n",
       "      <td>0.000000</td>\n",
       "      <td>0.000000</td>\n",
       "      <td>0.0</td>\n",
       "      <td>0.000000</td>\n",
       "      <td>0.421841</td>\n",
       "      <td>0.000000</td>\n",
       "      <td>0.208060</td>\n",
       "      <td>0.000000</td>\n",
       "    </tr>\n",
       "    <tr>\n",
       "      <th>2</th>\n",
       "      <td>0.508213</td>\n",
       "      <td>0.0</td>\n",
       "      <td>0.067134</td>\n",
       "      <td>0.000000</td>\n",
       "      <td>0.102979</td>\n",
       "      <td>0.156894</td>\n",
       "      <td>0.373135</td>\n",
       "      <td>0.139072</td>\n",
       "      <td>0.000000</td>\n",
       "      <td>0.063456</td>\n",
       "      <td>0.051901</td>\n",
       "      <td>0.0</td>\n",
       "      <td>0.378412</td>\n",
       "      <td>0.236634</td>\n",
       "      <td>0.277968</td>\n",
       "      <td>0.116713</td>\n",
       "      <td>0.192352</td>\n",
       "    </tr>\n",
       "    <tr>\n",
       "      <th>3</th>\n",
       "      <td>0.743000</td>\n",
       "      <td>0.0</td>\n",
       "      <td>0.196298</td>\n",
       "      <td>0.000000</td>\n",
       "      <td>0.000000</td>\n",
       "      <td>0.152918</td>\n",
       "      <td>0.000000</td>\n",
       "      <td>0.271094</td>\n",
       "      <td>0.000000</td>\n",
       "      <td>0.000000</td>\n",
       "      <td>0.303516</td>\n",
       "      <td>0.0</td>\n",
       "      <td>0.000000</td>\n",
       "      <td>0.000000</td>\n",
       "      <td>0.270924</td>\n",
       "      <td>0.000000</td>\n",
       "      <td>0.000000</td>\n",
       "    </tr>\n",
       "    <tr>\n",
       "      <th>4</th>\n",
       "      <td>0.000000</td>\n",
       "      <td>0.0</td>\n",
       "      <td>0.000000</td>\n",
       "      <td>0.000000</td>\n",
       "      <td>0.000000</td>\n",
       "      <td>0.000000</td>\n",
       "      <td>0.292832</td>\n",
       "      <td>0.181903</td>\n",
       "      <td>0.436019</td>\n",
       "      <td>0.000000</td>\n",
       "      <td>0.203658</td>\n",
       "      <td>0.0</td>\n",
       "      <td>0.000000</td>\n",
       "      <td>0.000000</td>\n",
       "      <td>0.000000</td>\n",
       "      <td>0.000000</td>\n",
       "      <td>0.000000</td>\n",
       "    </tr>\n",
       "    <tr>\n",
       "      <th>...</th>\n",
       "      <td>...</td>\n",
       "      <td>...</td>\n",
       "      <td>...</td>\n",
       "      <td>...</td>\n",
       "      <td>...</td>\n",
       "      <td>...</td>\n",
       "      <td>...</td>\n",
       "      <td>...</td>\n",
       "      <td>...</td>\n",
       "      <td>...</td>\n",
       "      <td>...</td>\n",
       "      <td>...</td>\n",
       "      <td>...</td>\n",
       "      <td>...</td>\n",
       "      <td>...</td>\n",
       "      <td>...</td>\n",
       "      <td>...</td>\n",
       "    </tr>\n",
       "    <tr>\n",
       "      <th>21458</th>\n",
       "      <td>0.845626</td>\n",
       "      <td>0.0</td>\n",
       "      <td>0.000000</td>\n",
       "      <td>0.093989</td>\n",
       "      <td>0.125377</td>\n",
       "      <td>0.000000</td>\n",
       "      <td>0.145374</td>\n",
       "      <td>0.045152</td>\n",
       "      <td>0.054114</td>\n",
       "      <td>0.030903</td>\n",
       "      <td>0.000000</td>\n",
       "      <td>0.0</td>\n",
       "      <td>0.122858</td>\n",
       "      <td>0.028810</td>\n",
       "      <td>0.428674</td>\n",
       "      <td>0.085259</td>\n",
       "      <td>0.031225</td>\n",
       "    </tr>\n",
       "    <tr>\n",
       "      <th>21459</th>\n",
       "      <td>0.000000</td>\n",
       "      <td>0.0</td>\n",
       "      <td>0.000000</td>\n",
       "      <td>0.000000</td>\n",
       "      <td>0.227121</td>\n",
       "      <td>0.230688</td>\n",
       "      <td>0.000000</td>\n",
       "      <td>0.408965</td>\n",
       "      <td>0.245071</td>\n",
       "      <td>0.000000</td>\n",
       "      <td>0.228938</td>\n",
       "      <td>0.0</td>\n",
       "      <td>0.278197</td>\n",
       "      <td>0.000000</td>\n",
       "      <td>0.000000</td>\n",
       "      <td>0.000000</td>\n",
       "      <td>0.000000</td>\n",
       "    </tr>\n",
       "    <tr>\n",
       "      <th>21460</th>\n",
       "      <td>0.000000</td>\n",
       "      <td>0.0</td>\n",
       "      <td>0.000000</td>\n",
       "      <td>0.239693</td>\n",
       "      <td>0.191845</td>\n",
       "      <td>0.000000</td>\n",
       "      <td>0.000000</td>\n",
       "      <td>0.518167</td>\n",
       "      <td>0.000000</td>\n",
       "      <td>0.236429</td>\n",
       "      <td>0.000000</td>\n",
       "      <td>0.0</td>\n",
       "      <td>0.000000</td>\n",
       "      <td>0.000000</td>\n",
       "      <td>0.000000</td>\n",
       "      <td>0.217430</td>\n",
       "      <td>0.000000</td>\n",
       "    </tr>\n",
       "    <tr>\n",
       "      <th>21461</th>\n",
       "      <td>0.599921</td>\n",
       "      <td>0.0</td>\n",
       "      <td>0.000000</td>\n",
       "      <td>0.000000</td>\n",
       "      <td>0.437622</td>\n",
       "      <td>0.000000</td>\n",
       "      <td>0.000000</td>\n",
       "      <td>0.131334</td>\n",
       "      <td>0.000000</td>\n",
       "      <td>0.000000</td>\n",
       "      <td>0.294082</td>\n",
       "      <td>0.0</td>\n",
       "      <td>0.357357</td>\n",
       "      <td>0.000000</td>\n",
       "      <td>0.131251</td>\n",
       "      <td>0.000000</td>\n",
       "      <td>0.181650</td>\n",
       "    </tr>\n",
       "    <tr>\n",
       "      <th>21462</th>\n",
       "      <td>0.000000</td>\n",
       "      <td>0.0</td>\n",
       "      <td>0.000000</td>\n",
       "      <td>0.000000</td>\n",
       "      <td>0.000000</td>\n",
       "      <td>0.000000</td>\n",
       "      <td>0.000000</td>\n",
       "      <td>0.000000</td>\n",
       "      <td>0.000000</td>\n",
       "      <td>0.000000</td>\n",
       "      <td>0.000000</td>\n",
       "      <td>0.0</td>\n",
       "      <td>0.729354</td>\n",
       "      <td>0.684136</td>\n",
       "      <td>0.000000</td>\n",
       "      <td>0.000000</td>\n",
       "      <td>0.000000</td>\n",
       "    </tr>\n",
       "  </tbody>\n",
       "</table>\n",
       "<p>21463 rows × 17 columns</p>\n",
       "</div>"
      ],
      "text/plain": [
       "             br  price    amazon       buy      just      good    coffee  \\\n",
       "0      0.233798    0.0  0.000000  0.177571  0.000000  0.433066  0.000000   \n",
       "1      0.000000    0.0  0.000000  0.000000  0.000000  0.372921  0.000000   \n",
       "2      0.508213    0.0  0.067134  0.000000  0.102979  0.156894  0.373135   \n",
       "3      0.743000    0.0  0.196298  0.000000  0.000000  0.152918  0.000000   \n",
       "4      0.000000    0.0  0.000000  0.000000  0.000000  0.000000  0.292832   \n",
       "...         ...    ...       ...       ...       ...       ...       ...   \n",
       "21458  0.845626    0.0  0.000000  0.093989  0.125377  0.000000  0.145374   \n",
       "21459  0.000000    0.0  0.000000  0.000000  0.227121  0.230688  0.000000   \n",
       "21460  0.000000    0.0  0.000000  0.239693  0.191845  0.000000  0.000000   \n",
       "21461  0.599921    0.0  0.000000  0.000000  0.437622  0.000000  0.000000   \n",
       "21462  0.000000    0.0  0.000000  0.000000  0.000000  0.000000  0.000000   \n",
       "\n",
       "           like     taste    really   product  flavor       use      dont  \\\n",
       "0      0.127957  0.153356  0.000000  0.286521     0.0  0.348169  0.000000   \n",
       "1      0.000000  0.000000  0.000000  0.000000     0.0  0.000000  0.421841   \n",
       "2      0.139072  0.000000  0.063456  0.051901     0.0  0.378412  0.236634   \n",
       "3      0.271094  0.000000  0.000000  0.303516     0.0  0.000000  0.000000   \n",
       "4      0.181903  0.436019  0.000000  0.203658     0.0  0.000000  0.000000   \n",
       "...         ...       ...       ...       ...     ...       ...       ...   \n",
       "21458  0.045152  0.054114  0.030903  0.000000     0.0  0.122858  0.028810   \n",
       "21459  0.408965  0.245071  0.000000  0.228938     0.0  0.278197  0.000000   \n",
       "21460  0.518167  0.000000  0.236429  0.000000     0.0  0.000000  0.000000   \n",
       "21461  0.131334  0.000000  0.000000  0.294082     0.0  0.357357  0.000000   \n",
       "21462  0.000000  0.000000  0.000000  0.000000     0.0  0.729354  0.684136   \n",
       "\n",
       "          br br     great      food  \n",
       "0      0.127876  0.161078  0.000000  \n",
       "1      0.000000  0.208060  0.000000  \n",
       "2      0.277968  0.116713  0.192352  \n",
       "3      0.270924  0.000000  0.000000  \n",
       "4      0.000000  0.000000  0.000000  \n",
       "...         ...       ...       ...  \n",
       "21458  0.428674  0.085259  0.031225  \n",
       "21459  0.000000  0.000000  0.000000  \n",
       "21460  0.000000  0.217430  0.000000  \n",
       "21461  0.131251  0.000000  0.181650  \n",
       "21462  0.000000  0.000000  0.000000  \n",
       "\n",
       "[21463 rows x 17 columns]"
      ]
     },
     "execution_count": 147,
     "metadata": {},
     "output_type": "execute_result"
    }
   ],
   "source": [
    "#add top words to train set\n",
    "train_set=X_train[:,[np.argwhere(vocab==i)[0][0] for i in words]]\n",
    "pd.DataFrame(train_set.toarray(), columns=words)"
   ]
  },
  {
   "cell_type": "code",
   "execution_count": 154,
   "metadata": {},
   "outputs": [
    {
     "data": {
      "text/html": [
       "<div>\n",
       "<style scoped>\n",
       "    .dataframe tbody tr th:only-of-type {\n",
       "        vertical-align: middle;\n",
       "    }\n",
       "\n",
       "    .dataframe tbody tr th {\n",
       "        vertical-align: top;\n",
       "    }\n",
       "\n",
       "    .dataframe thead th {\n",
       "        text-align: right;\n",
       "    }\n",
       "</style>\n",
       "<table border=\"1\" class=\"dataframe\">\n",
       "  <thead>\n",
       "    <tr style=\"text-align: right;\">\n",
       "      <th></th>\n",
       "      <th>HelpfulnessNumerator</th>\n",
       "      <th>HelpfulnessDenominator</th>\n",
       "      <th>Score</th>\n",
       "      <th>Text</th>\n",
       "      <th>Helpful</th>\n",
       "      <th>cluster</th>\n",
       "    </tr>\n",
       "  </thead>\n",
       "  <tbody>\n",
       "    <tr>\n",
       "      <th>32</th>\n",
       "      <td>19</td>\n",
       "      <td>19</td>\n",
       "      <td>4</td>\n",
       "      <td>mccanns instant oatmeal is great if you must h...</td>\n",
       "      <td>1</td>\n",
       "      <td>2</td>\n",
       "    </tr>\n",
       "    <tr>\n",
       "      <th>33</th>\n",
       "      <td>13</td>\n",
       "      <td>13</td>\n",
       "      <td>4</td>\n",
       "      <td>this is a good instant oatmeal from the best o...</td>\n",
       "      <td>1</td>\n",
       "      <td>0</td>\n",
       "    </tr>\n",
       "    <tr>\n",
       "      <th>82</th>\n",
       "      <td>15</td>\n",
       "      <td>15</td>\n",
       "      <td>5</td>\n",
       "      <td>i know the product title says molecular gastro...</td>\n",
       "      <td>1</td>\n",
       "      <td>2</td>\n",
       "    </tr>\n",
       "    <tr>\n",
       "      <th>158</th>\n",
       "      <td>17</td>\n",
       "      <td>19</td>\n",
       "      <td>5</td>\n",
       "      <td>&lt;span class=tiny&gt; length 026 mins&lt;br &gt;&lt;br &gt;&lt;sp...</td>\n",
       "      <td>1</td>\n",
       "      <td>3</td>\n",
       "    </tr>\n",
       "    <tr>\n",
       "      <th>287</th>\n",
       "      <td>13</td>\n",
       "      <td>13</td>\n",
       "      <td>5</td>\n",
       "      <td>this is a fantastic product and i wish it was ...</td>\n",
       "      <td>1</td>\n",
       "      <td>0</td>\n",
       "    </tr>\n",
       "  </tbody>\n",
       "</table>\n",
       "</div>"
      ],
      "text/plain": [
       "     HelpfulnessNumerator  HelpfulnessDenominator  Score  \\\n",
       "32                     19                      19      4   \n",
       "33                     13                      13      4   \n",
       "82                     15                      15      5   \n",
       "158                    17                      19      5   \n",
       "287                    13                      13      5   \n",
       "\n",
       "                                                  Text  Helpful  cluster  \n",
       "32   mccanns instant oatmeal is great if you must h...        1        2  \n",
       "33   this is a good instant oatmeal from the best o...        1        0  \n",
       "82   i know the product title says molecular gastro...        1        2  \n",
       "158  <span class=tiny> length 026 mins<br ><br ><sp...        1        3  \n",
       "287  this is a fantastic product and i wish it was ...        1        0  "
      ]
     },
     "execution_count": 154,
     "metadata": {},
     "output_type": "execute_result"
    },
    {
     "data": {
      "text/plain": [
       "(21463, 6)"
      ]
     },
     "execution_count": 154,
     "metadata": {},
     "output_type": "execute_result"
    },
    {
     "data": {
      "text/plain": [
       "array([1, 1, 3, ..., 1, 3, 1])"
      ]
     },
     "execution_count": 154,
     "metadata": {},
     "output_type": "execute_result"
    },
    {
     "data": {
      "text/plain": [
       "21463"
      ]
     },
     "execution_count": 154,
     "metadata": {},
     "output_type": "execute_result"
    }
   ],
   "source": [
    "df1.head(); df1.shape\n",
    "model.labels_; len(model.labels_)"
   ]
  },
  {
   "cell_type": "code",
   "execution_count": 71,
   "metadata": {
    "_cell_guid": "ca6771db-01d8-e494-6ee5-b614281f799b"
   },
   "outputs": [
    {
     "data": {
      "text/html": [
       "<div>\n",
       "<style scoped>\n",
       "    .dataframe tbody tr th:only-of-type {\n",
       "        vertical-align: middle;\n",
       "    }\n",
       "\n",
       "    .dataframe tbody tr th {\n",
       "        vertical-align: top;\n",
       "    }\n",
       "\n",
       "    .dataframe thead th {\n",
       "        text-align: right;\n",
       "    }\n",
       "</style>\n",
       "<table border=\"1\" class=\"dataframe\">\n",
       "  <thead>\n",
       "    <tr style=\"text-align: right;\">\n",
       "      <th></th>\n",
       "      <th>HelpfulnessNumerator</th>\n",
       "      <th>HelpfulnessDenominator</th>\n",
       "      <th>Score</th>\n",
       "      <th>Text</th>\n",
       "      <th>Helpful</th>\n",
       "    </tr>\n",
       "    <tr>\n",
       "      <th>cluster</th>\n",
       "      <th></th>\n",
       "      <th></th>\n",
       "      <th></th>\n",
       "      <th></th>\n",
       "      <th></th>\n",
       "    </tr>\n",
       "  </thead>\n",
       "  <tbody>\n",
       "    <tr>\n",
       "      <th>0</th>\n",
       "      <td>11459</td>\n",
       "      <td>11459</td>\n",
       "      <td>11459</td>\n",
       "      <td>11459</td>\n",
       "      <td>11459</td>\n",
       "    </tr>\n",
       "    <tr>\n",
       "      <th>1</th>\n",
       "      <td>2501</td>\n",
       "      <td>2501</td>\n",
       "      <td>2501</td>\n",
       "      <td>2501</td>\n",
       "      <td>2501</td>\n",
       "    </tr>\n",
       "    <tr>\n",
       "      <th>2</th>\n",
       "      <td>4423</td>\n",
       "      <td>4423</td>\n",
       "      <td>4423</td>\n",
       "      <td>4423</td>\n",
       "      <td>4423</td>\n",
       "    </tr>\n",
       "    <tr>\n",
       "      <th>3</th>\n",
       "      <td>3080</td>\n",
       "      <td>3080</td>\n",
       "      <td>3080</td>\n",
       "      <td>3080</td>\n",
       "      <td>3080</td>\n",
       "    </tr>\n",
       "  </tbody>\n",
       "</table>\n",
       "</div>"
      ],
      "text/plain": [
       "         HelpfulnessNumerator  HelpfulnessDenominator  Score   Text  Helpful\n",
       "cluster                                                                     \n",
       "0                       11459                   11459  11459  11459    11459\n",
       "1                        2501                    2501   2501   2501     2501\n",
       "2                        4423                    4423   4423   4423     4423\n",
       "3                        3080                    3080   3080   3080     3080"
      ]
     },
     "execution_count": 71,
     "metadata": {},
     "output_type": "execute_result"
    }
   ],
   "source": [
    "# how many observations are in each cluster\n",
    "df1['cluster'] = model.labels_\n",
    "df1.groupby('cluster').count()"
   ]
  },
  {
   "cell_type": "code",
   "execution_count": 72,
   "metadata": {
    "_cell_guid": "bf618b80-1bde-a2e8-7a2a-c601b056a9f7"
   },
   "outputs": [
    {
     "data": {
      "text/html": [
       "<div>\n",
       "<style scoped>\n",
       "    .dataframe tbody tr th:only-of-type {\n",
       "        vertical-align: middle;\n",
       "    }\n",
       "\n",
       "    .dataframe tbody tr th {\n",
       "        vertical-align: top;\n",
       "    }\n",
       "\n",
       "    .dataframe thead th {\n",
       "        text-align: right;\n",
       "    }\n",
       "</style>\n",
       "<table border=\"1\" class=\"dataframe\">\n",
       "  <thead>\n",
       "    <tr style=\"text-align: right;\">\n",
       "      <th></th>\n",
       "      <th>HelpfulnessNumerator</th>\n",
       "      <th>HelpfulnessDenominator</th>\n",
       "      <th>Score</th>\n",
       "      <th>Helpful</th>\n",
       "    </tr>\n",
       "    <tr>\n",
       "      <th>cluster</th>\n",
       "      <th></th>\n",
       "      <th></th>\n",
       "      <th></th>\n",
       "      <th></th>\n",
       "    </tr>\n",
       "  </thead>\n",
       "  <tbody>\n",
       "    <tr>\n",
       "      <th>0</th>\n",
       "      <td>15.774500</td>\n",
       "      <td>21.019635</td>\n",
       "      <td>3.205952</td>\n",
       "      <td>0.770137</td>\n",
       "    </tr>\n",
       "    <tr>\n",
       "      <th>1</th>\n",
       "      <td>27.302679</td>\n",
       "      <td>30.828069</td>\n",
       "      <td>3.830068</td>\n",
       "      <td>0.862855</td>\n",
       "    </tr>\n",
       "    <tr>\n",
       "      <th>2</th>\n",
       "      <td>22.440877</td>\n",
       "      <td>26.650916</td>\n",
       "      <td>3.548044</td>\n",
       "      <td>0.855754</td>\n",
       "    </tr>\n",
       "    <tr>\n",
       "      <th>3</th>\n",
       "      <td>25.928247</td>\n",
       "      <td>31.241558</td>\n",
       "      <td>3.598377</td>\n",
       "      <td>0.842532</td>\n",
       "    </tr>\n",
       "  </tbody>\n",
       "</table>\n",
       "</div>"
      ],
      "text/plain": [
       "         HelpfulnessNumerator  HelpfulnessDenominator     Score   Helpful\n",
       "cluster                                                                  \n",
       "0                   15.774500               21.019635  3.205952  0.770137\n",
       "1                   27.302679               30.828069  3.830068  0.862855\n",
       "2                   22.440877               26.650916  3.548044  0.855754\n",
       "3                   25.928247               31.241558  3.598377  0.842532"
      ]
     },
     "execution_count": 72,
     "metadata": {},
     "output_type": "execute_result"
    }
   ],
   "source": [
    "# what does each cluster look like\n",
    "df1.groupby('cluster').mean()"
   ]
  },
  {
   "cell_type": "code",
   "execution_count": 73,
   "metadata": {
    "_cell_guid": "12aa1cee-2b7b-6b12-abf7-11e552f09221"
   },
   "outputs": [
    {
     "data": {
      "text/html": [
       "<div>\n",
       "<style scoped>\n",
       "    .dataframe tbody tr th:only-of-type {\n",
       "        vertical-align: middle;\n",
       "    }\n",
       "\n",
       "    .dataframe tbody tr th {\n",
       "        vertical-align: top;\n",
       "    }\n",
       "\n",
       "    .dataframe thead th {\n",
       "        text-align: right;\n",
       "    }\n",
       "</style>\n",
       "<table border=\"1\" class=\"dataframe\">\n",
       "  <thead>\n",
       "    <tr style=\"text-align: right;\">\n",
       "      <th></th>\n",
       "      <th>HelpfulnessNumerator</th>\n",
       "      <th>HelpfulnessDenominator</th>\n",
       "      <th>Score</th>\n",
       "      <th>Helpful</th>\n",
       "      <th>cluster</th>\n",
       "    </tr>\n",
       "  </thead>\n",
       "  <tbody>\n",
       "    <tr>\n",
       "      <th>HelpfulnessNumerator</th>\n",
       "      <td>1.000000</td>\n",
       "      <td>0.975746</td>\n",
       "      <td>0.145338</td>\n",
       "      <td>0.228370</td>\n",
       "      <td>0.115878</td>\n",
       "    </tr>\n",
       "    <tr>\n",
       "      <th>HelpfulnessDenominator</th>\n",
       "      <td>0.975746</td>\n",
       "      <td>1.000000</td>\n",
       "      <td>0.048775</td>\n",
       "      <td>0.080156</td>\n",
       "      <td>0.107569</td>\n",
       "    </tr>\n",
       "    <tr>\n",
       "      <th>Score</th>\n",
       "      <td>0.145338</td>\n",
       "      <td>0.048775</td>\n",
       "      <td>1.000000</td>\n",
       "      <td>0.457537</td>\n",
       "      <td>0.095538</td>\n",
       "    </tr>\n",
       "    <tr>\n",
       "      <th>Helpful</th>\n",
       "      <td>0.228370</td>\n",
       "      <td>0.080156</td>\n",
       "      <td>0.457537</td>\n",
       "      <td>1.000000</td>\n",
       "      <td>0.088838</td>\n",
       "    </tr>\n",
       "    <tr>\n",
       "      <th>cluster</th>\n",
       "      <td>0.115878</td>\n",
       "      <td>0.107569</td>\n",
       "      <td>0.095538</td>\n",
       "      <td>0.088838</td>\n",
       "      <td>1.000000</td>\n",
       "    </tr>\n",
       "  </tbody>\n",
       "</table>\n",
       "</div>"
      ],
      "text/plain": [
       "                        HelpfulnessNumerator  HelpfulnessDenominator  \\\n",
       "HelpfulnessNumerator                1.000000                0.975746   \n",
       "HelpfulnessDenominator              0.975746                1.000000   \n",
       "Score                               0.145338                0.048775   \n",
       "Helpful                             0.228370                0.080156   \n",
       "cluster                             0.115878                0.107569   \n",
       "\n",
       "                           Score   Helpful   cluster  \n",
       "HelpfulnessNumerator    0.145338  0.228370  0.115878  \n",
       "HelpfulnessDenominator  0.048775  0.080156  0.107569  \n",
       "Score                   1.000000  0.457537  0.095538  \n",
       "Helpful                 0.457537  1.000000  0.088838  \n",
       "cluster                 0.095538  0.088838  1.000000  "
      ]
     },
     "execution_count": 73,
     "metadata": {},
     "output_type": "execute_result"
    }
   ],
   "source": [
    "# correlation matrix\n",
    "df1.corr()"
   ]
  },
  {
   "cell_type": "markdown",
   "metadata": {
    "_cell_guid": "6976443a-b746-e87f-45ab-c068231b68d5"
   },
   "source": [
    "#### Notes\n",
    "There doesn't seem to be a clear trend to the clusters. I cannot make a silhoute coefficient plot due to computer storage capacity, so I chose 4 clusters. With more clusters, the number of overlapping \"top words\" from each cluster seems to increase. In total there are only 30 \"top words\" instead of 40, because some top words overlapped among clusters. There may be some common words that I should consider removing in further analysis, like \"food\"\" or \"coffee\"."
   ]
  },
  {
   "cell_type": "markdown",
   "metadata": {
    "_cell_guid": "eaae8a36-e155-9b28-70e7-0975dade39c3"
   },
   "source": [
    "## Logistic Regression to Predict Review Helpfulness with Top Cluster Words "
   ]
  },
  {
   "cell_type": "code",
   "execution_count": 155,
   "metadata": {
    "_cell_guid": "da9a1ccd-d446-f524-40eb-b48e21ba60a1"
   },
   "outputs": [
    {
     "name": "stdout",
     "output_type": "stream",
     "text": [
      "(21463, 17)\n"
     ]
    }
   ],
   "source": [
    "print(train_set.shape)"
   ]
  },
  {
   "cell_type": "code",
   "execution_count": 156,
   "metadata": {
    "_cell_guid": "5cb8548c-3b16-53f8-afd8-95280367c40d"
   },
   "outputs": [],
   "source": [
    "#add Score column to top words\n",
    "import scipy as scipy\n",
    "\n",
    "score = np.array(list(df1.Score))\n",
    "score = score.reshape(21463, 1)\n",
    "features = scipy.sparse.hstack((train_set,scipy.sparse.csr_matrix(score)))\n",
    "features = scipy.sparse.csr_matrix(features)"
   ]
  },
  {
   "cell_type": "code",
   "execution_count": 157,
   "metadata": {
    "_cell_guid": "a86a96bd-5317-fd29-9240-4f72a9a6924b"
   },
   "outputs": [
    {
     "data": {
      "text/plain": [
       "(21463, 18)"
      ]
     },
     "execution_count": 157,
     "metadata": {},
     "output_type": "execute_result"
    },
    {
     "data": {
      "text/plain": [
       "array([[0.23, 0.  , 0.  , ..., 0.16, 0.  , 4.  ],\n",
       "       [0.  , 0.  , 0.  , ..., 0.21, 0.  , 4.  ],\n",
       "       [0.51, 0.  , 0.07, ..., 0.12, 0.19, 5.  ],\n",
       "       ...,\n",
       "       [0.  , 0.  , 0.  , ..., 0.22, 0.  , 1.  ],\n",
       "       [0.6 , 0.  , 0.  , ..., 0.  , 0.18, 2.  ],\n",
       "       [0.  , 0.  , 0.  , ..., 0.  , 0.  , 1.  ]])"
      ]
     },
     "execution_count": 157,
     "metadata": {},
     "output_type": "execute_result"
    }
   ],
   "source": [
    "features.shape\n",
    "features.toarray()"
   ]
  },
  {
   "cell_type": "code",
   "execution_count": 158,
   "metadata": {
    "_cell_guid": "ace5bef7-54c6-3cd6-ea36-f4b89bb43df9"
   },
   "outputs": [
    {
     "data": {
      "text/plain": [
       "GridSearchCV(cv=StratifiedKFold(n_splits=5, random_state=None, shuffle=False),\n",
       "             estimator=LogisticRegression(),\n",
       "             param_grid={'C': [100000, 10000, 1000, 100, 10, 1, 0.1, 0.01,\n",
       "                               0.001, 0.0001],\n",
       "                         'class_weight': [None, 'balanced']},\n",
       "             scoring='roc_auc')"
      ]
     },
     "execution_count": 158,
     "metadata": {},
     "output_type": "execute_result"
    },
    {
     "data": {
      "text/plain": [
       "0.8284704575731066"
      ]
     },
     "execution_count": 158,
     "metadata": {},
     "output_type": "execute_result"
    }
   ],
   "source": [
    "#find best logistic regression parameters\n",
    "from sklearn.linear_model import LogisticRegression\n",
    "feature_set = features\n",
    "gs = GridSearchCV(\n",
    "    estimator=LogisticRegression(),\n",
    "    param_grid={'C': [10**-i for i in range(-5, 5)], 'class_weight': [None, 'balanced']},\n",
    "    cv=StratifiedKFold(n_splits=5),\n",
    "    scoring='roc_auc'\n",
    ")\n",
    "\n",
    "\n",
    "gs.fit(features, df1.Helpful)\n",
    "gs.best_score_"
   ]
  },
  {
   "cell_type": "code",
   "execution_count": 159,
   "metadata": {
    "_cell_guid": "b94e703b-2fa5-1bdc-658d-658a6406af51"
   },
   "outputs": [
    {
     "name": "stdout",
     "output_type": "stream",
     "text": [
      "LogisticRegression(C=100, class_weight='balanced')\n"
     ]
    }
   ],
   "source": [
    "print(gs.best_estimator_)"
   ]
  },
  {
   "cell_type": "code",
   "execution_count": 160,
   "metadata": {
    "_cell_guid": "1d815355-6790-9d5a-e9a3-3f2fa9eda535"
   },
   "outputs": [],
   "source": [
    "y_pred = gs.predict(feature_set)"
   ]
  },
  {
   "cell_type": "code",
   "execution_count": 161,
   "metadata": {
    "_cell_guid": "d9db7230-5d1e-375a-12c7-ef8914677fe4"
   },
   "outputs": [
    {
     "name": "stdout",
     "output_type": "stream",
     "text": [
      "[[0.08 1.04 0.65 0.23 0.33 0.21 1.12 0.11 0.46 0.82 0.26 1.11 0.72 0.14\n",
      "  1.7  0.99 1.16 0.77]]\n",
      "[-2.79]\n"
     ]
    }
   ],
   "source": [
    "# Coefficients represent the log-odds\n",
    "print(gs.best_estimator_.coef_)\n",
    "print(gs.best_estimator_.intercept_)"
   ]
  },
  {
   "cell_type": "code",
   "execution_count": 162,
   "metadata": {
    "_cell_guid": "9981ce0a-9aa3-041f-10fe-548178b523dc"
   },
   "outputs": [
    {
     "data": {
      "text/plain": [
       "[<matplotlib.lines.Line2D at 0x1d1cfa9a700>]"
      ]
     },
     "execution_count": 162,
     "metadata": {},
     "output_type": "execute_result"
    },
    {
     "data": {
      "image/png": "[encoded data removed]",
      "text/plain": [
       "<Figure size 432x288 with 1 Axes>"
      ]
     },
     "metadata": {
      "needs_background": "light"
     },
     "output_type": "display_data"
    }
   ],
   "source": [
    "#roc curve\n",
    "from sklearn.metrics import roc_auc_score, roc_curve\n",
    "actuals = gs.predict(feature_set) \n",
    "probas = gs.predict_proba(feature_set)\n",
    "plt.plot(roc_curve(df1[['Helpful']], probas[:,1])[0], roc_curve(df1[['Helpful']], probas[:,1])[1])"
   ]
  },
  {
   "cell_type": "code",
   "execution_count": 87,
   "metadata": {
    "_cell_guid": "0017275c-bd8d-5c6b-a4b1-7e84e683499c"
   },
   "outputs": [
    {
     "data": {
      "text/plain": [
       "0.8259733902902583"
      ]
     },
     "execution_count": 87,
     "metadata": {},
     "output_type": "execute_result"
    }
   ],
   "source": [
    "#roc auc score\n",
    "y_score = probas\n",
    "test2 = np.array(list(df1.Helpful))\n",
    "test2 = test2.reshape(21463,1)\n",
    "y_true = test2\n",
    "\n",
    "roc_auc_score(y_true, y_score[:,1].T)"
   ]
  },
  {
   "cell_type": "code",
   "execution_count": 88,
   "metadata": {
    "_cell_guid": "0b7c5393-9716-773f-74ae-d181ca3e5c80"
   },
   "outputs": [
    {
     "name": "stdout",
     "output_type": "stream",
     "text": [
      "Confusion matrix, without normalization\n",
      "[[ 3353   747]\n",
      " [ 4652 12711]]\n"
     ]
    },
    {
     "data": {
      "text/plain": [
       "<Figure size 432x288 with 0 Axes>"
      ]
     },
     "execution_count": 88,
     "metadata": {},
     "output_type": "execute_result"
    },
    {
     "name": "stdout",
     "output_type": "stream",
     "text": [
      "Normalized confusion matrix\n",
      "[[0.82 0.18]\n",
      " [0.27 0.73]]\n"
     ]
    },
    {
     "data": {
      "text/plain": [
       "<Figure size 432x288 with 0 Axes>"
      ]
     },
     "execution_count": 88,
     "metadata": {},
     "output_type": "execute_result"
    },
    {
     "data": {
      "image/png": "[encoded data removed]",
      "text/plain": [
       "<Figure size 432x288 with 2 Axes>"
      ]
     },
     "metadata": {
      "needs_background": "light"
     },
     "output_type": "display_data"
    },
    {
     "data": {
      "image/png": "[encoded data removed]",
      "text/plain": [
       "<Figure size 432x288 with 2 Axes>"
      ]
     },
     "metadata": {
      "needs_background": "light"
     },
     "output_type": "display_data"
    }
   ],
   "source": [
    "#plot a confusion matrix\n",
    "from sklearn.metrics import confusion_matrix\n",
    "def plot_confusion_matrix(cm, title='Confusion matrix', cmap=plt.cm.Blues):\n",
    "    plt.imshow(cm, interpolation='nearest', cmap=cmap)\n",
    "    plt.title(title)\n",
    "    plt.colorbar()\n",
    "    plt.tight_layout()\n",
    "    plt.ylabel('True Helpfulness')\n",
    "    plt.xlabel('Predicted Helpfulness')\n",
    "\n",
    "\n",
    "# Compute confusion matrix\n",
    "cm = confusion_matrix(y_true, y_pred)\n",
    "np.set_printoptions(precision=2)\n",
    "print('Confusion matrix, without normalization')\n",
    "print(cm)\n",
    "plt.figure()\n",
    "plot_confusion_matrix(cm)\n",
    "\n",
    "# Normalize the confusion matrix by row (i.e by the number of samples\n",
    "# in each class)\n",
    "cm_normalized = cm.astype('float') / cm.sum(axis=1)[:, np.newaxis]\n",
    "print('Normalized confusion matrix')\n",
    "print(cm_normalized)\n",
    "plt.figure()\n",
    "plot_confusion_matrix(cm_normalized, title='Normalized confusion matrix')\n",
    "\n",
    "plt.show()"
   ]
  },
  {
   "cell_type": "code",
   "execution_count": 89,
   "metadata": {
    "_cell_guid": "d96ee379-52b4-efc8-9cb3-31e603303967"
   },
   "outputs": [
    {
     "data": {
      "text/plain": [
       "[('dont', -0.2823005005436938),\n",
       " ('like', -0.26760460054050395),\n",
       " ('br', -0.25653059862495864),\n",
       " ('product', -0.07150251691408084),\n",
       " ('good', -0.0035581846286520335),\n",
       " ('buy', 0.025649926822248818),\n",
       " ('just', 0.06550647795808039),\n",
       " ('taste', 0.3228607722833471),\n",
       " ('tea', 0.32984481568220486),\n",
       " ('amazon', 0.6942353210824066),\n",
       " ('score', 0.7581424631897834),\n",
       " ('really', 0.84362371903142),\n",
       " ('water', 0.8446781893361152),\n",
       " ('use', 0.8592851791688694),\n",
       " ('coffee', 0.8994378325846745),\n",
       " ('price', 1.187411384959265),\n",
       " ('great', 1.3326997224069992),\n",
       " ('cup', 1.386776386673741),\n",
       " ('food', 1.4448050595218023),\n",
       " ('flavor', 1.4982957560962367),\n",
       " ('br br', 2.13090010386843)]"
      ]
     },
     "execution_count": 89,
     "metadata": {},
     "output_type": "execute_result"
    }
   ],
   "source": [
    "#view top parameters\n",
    "words.extend(['score'])\n",
    "sorted(zip(words,gs.best_estimator_.coef_[0]),key=lambda x:x[1])"
   ]
  },
  {
   "cell_type": "markdown",
   "metadata": {
    "_cell_guid": "2c954a07-521a-a53a-693d-fbe594b8e20e"
   },
   "source": [
    "#### Notes\n",
    "There seem to be common words that I should remove from the text in further analysis, like food, product, or Amazon.\n",
    "\n",
    "My model is 82% accurate, which is 10% increase in accuracy over the Bag of Words model."
   ]
  },
  {
   "cell_type": "markdown",
   "metadata": {
    "_cell_guid": "021bf756-d347-f1df-2226-49caab4f2fcd"
   },
   "source": [
    "## Recommendations\n",
    "Price, Flavor, and Great are the top indicators of a helpful review. This indicates a possible bias among customers to mark a review as helpful when the review is positive. Eating, Like, Don't, Order, Good, and Eat are all negatively correlated with a helpful review, which is difficult to interpret. These may be more common words to remove.\n",
    "\n",
    "Moving forward, I would explore the following methods to improve this analysis:\n",
    "\n",
    "1) I would explore alternative definitions of an \"unhelpful\" review. For example, reviews that are not market as \"helpful\" could be classified as unhelpful. This may help counter consumer-bias if consumers are less likely to mark a negative review as helpful, because it did not enable them to buy the product. This problem requires more domain expertise on consumer behavior.\n",
    "\n",
    "2) I would make Score into dummy variables to further explore potential biases related to Score. For example, consumers may find that reviews with a score of 1 or 5 are more helpful than scores of 2, 3, and 4.\n",
    "\n",
    "3) I would explore curating a domain-specific dictionary for this project to avoid common food words and Amazon words in reviews.\n",
    "\n",
    "4) I would explore using these findings as a guide for reviewers. For example, when writing a review, Amazon could show \"Tips for writing a helpful review\": \"Describe the flavor of this product\" (\"Flavor\" is the most highly correlated parameter with \"helpfulness\"), \"Describe the value of this product compared to its price\", etc."
   ]
  }
 ],
 "metadata": {
  "_change_revision": 5,
  "_is_fork": false,
  "kernelspec": {
   "display_name": "Python 3",
   "language": "python",
   "name": "python3"
  },
  "language_info": {
   "codemirror_mode": {
    "name": "ipython",
    "version": 3
   },
   "file_extension": ".py",
   "mimetype": "text/x-python",
   "name": "python",
   "nbconvert_exporter": "python",
   "pygments_lexer": "ipython3",
   "version": "3.8.8"
  }
 },
 "nbformat": 4,
 "nbformat_minor": 1
}
