{
 "cells": [
  {
   "cell_type": "markdown",
   "id": "4727c761",
   "metadata": {},
   "source": [
    "# Go Go Sing"
   ]
  },
  {
   "cell_type": "code",
   "execution_count": 1,
   "id": "b71672c4",
   "metadata": {},
   "outputs": [
    {
     "name": "stdout",
     "output_type": "stream",
     "text": [
      "3130.208611\n"
     ]
    }
   ],
   "source": [
    "import os\n",
    "import time\n",
    "import numpy as np\n",
    "from datetime import datetime\n",
    "\n",
    "# sleeping during (go time minus now time) & shut down\n",
    "now = datetime.now()\n",
    "go = datetime(2022, now.month, now.day, \n",
    "              18, \n",
    "              (10 + np.random.randint(1, 11)), \n",
    "              np.random.randint(1, 59))\n",
    "\n",
    "sleeping = (go - now).total_seconds()\n",
    "\n",
    "print(sleeping)"
   ]
  },
  {
   "cell_type": "code",
   "execution_count": null,
   "id": "0d00b354",
   "metadata": {},
   "outputs": [],
   "source": [
    "shutdown = True\n",
    "\n",
    "if shutdown:\n",
    "    time.sleep(sleeping)\n",
    "    os.system(\"shutdown /s /t 1\")\n",
    "else:\n",
    "    print('Shutdown is not requested')"
   ]
  },
  {
   "cell_type": "markdown",
   "id": "2e27c2fa",
   "metadata": {},
   "source": [
    "# Happy end~"
   ]
  }
 ],
 "metadata": {
  "kernelspec": {
   "display_name": "Python 3",
   "language": "python",
   "name": "python3"
  },
  "language_info": {
   "codemirror_mode": {
    "name": "ipython",
    "version": 3
   },
   "file_extension": ".py",
   "mimetype": "text/x-python",
   "name": "python",
   "nbconvert_exporter": "python",
   "pygments_lexer": "ipython3",
   "version": "3.8.8"
  }
 },
 "nbformat": 4,
 "nbformat_minor": 5
}
