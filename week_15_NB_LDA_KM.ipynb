{
 "cells": [
  {
   "cell_type": "markdown",
   "metadata": {},
   "source": [
    "# 분류와 군집(Classfication & Clustering)"
   ]
  },
  {
   "cell_type": "code",
   "execution_count": 181,
   "metadata": {},
   "outputs": [
    {
     "data": {
      "text/html": [
       "<style>.container { width:100% !important; }</style>"
      ],
      "text/plain": [
       "<IPython.core.display.HTML object>"
      ]
     },
     "metadata": {},
     "output_type": "display_data"
    }
   ],
   "source": [
    "from IPython.core.display import display, HTML\n",
    "display(HTML(\"<style>.container { width:100% !important; }</style>\"))\n",
    "import warnings\n",
    "warnings.filterwarnings(action='ignore') "
   ]
  },
  {
   "cell_type": "code",
   "execution_count": 2,
   "metadata": {},
   "outputs": [],
   "source": [
    "from IPython.core.interactiveshell import InteractiveShell\n",
    "InteractiveShell.ast_node_interactivity = \"all\"\n",
    "import pandas as pd\n",
    "%matplotlib inline\n",
    "import numpy as np\n",
    "import matplotlib.pyplot as plt\n",
    "import seaborn as sns; sns.set()\n",
    "import warnings\n",
    "warnings.filterwarnings(action='ignore') "
   ]
  },
  {
   "cell_type": "markdown",
   "metadata": {},
   "source": [
    "# 1. 분류(Multinomial naive Bayes, tfidf)\n",
    "- Naive Bayes는 고차원(High dimensionality)이 text classification에 적합\n",
    "- Corpus에서 추출된 단어를 특성변수로 해당 단어의 출현빈도를 변수(컬럼)의 데이터로 vetorization \n",
    "- 20 Newsgroups corpus를 사용하여 3개의 그룹으로 분류하는 예제"
   ]
  },
  {
   "cell_type": "markdown",
   "metadata": {},
   "source": [
    "## 1.1 데이터 불러오기"
   ]
  },
  {
   "cell_type": "code",
   "execution_count": 3,
   "metadata": {},
   "outputs": [
    {
     "data": {
      "text/plain": [
       "sklearn.utils.Bunch"
      ]
     },
     "execution_count": 3,
     "metadata": {},
     "output_type": "execute_result"
    }
   ],
   "source": [
    "from sklearn.datasets import fetch_20newsgroups\n",
    "data = fetch_20newsgroups()\n",
    "type(data)"
   ]
  },
  {
   "cell_type": "markdown",
   "metadata": {},
   "source": [
    "실습을 위해 20개의 기사그룹에서 3개(종교, 우주, 컴퓨터그래픽) topic만을 데이터로 추출"
   ]
  },
  {
   "cell_type": "code",
   "execution_count": 7,
   "metadata": {},
   "outputs": [
    {
     "data": {
      "text/plain": [
       "'alt.atheism//comp.graphics//comp.os.ms-windows.misc//comp.sys.ibm.pc.hardware//comp.sys.mac.hardware//comp.windows.x//misc.forsale//rec.autos//rec.motorcycles//rec.sport.baseball//rec.sport.hockey//sci.crypt//sci.electronics//sci.med//sci.space//soc.religion.christian//talk.politics.guns//talk.politics.mideast//talk.politics.misc//talk.religion.misc'"
      ]
     },
     "execution_count": 7,
     "metadata": {},
     "output_type": "execute_result"
    }
   ],
   "source": [
    "'//'.join(data.target_names)"
   ]
  },
  {
   "cell_type": "code",
   "execution_count": 81,
   "metadata": {},
   "outputs": [],
   "source": [
    "categories = ['soc.religion.christian','sci.space', 'comp.graphics', 'rec.autos']\n",
    "train = fetch_20newsgroups(subset='train', categories=categories)\n",
    "test = fetch_20newsgroups(subset='test', categories=categories)"
   ]
  },
  {
   "cell_type": "code",
   "execution_count": 82,
   "metadata": {},
   "outputs": [
    {
     "data": {
      "text/plain": [
       "dict_keys(['data', 'filenames', 'target_names', 'target', 'DESCR'])"
      ]
     },
     "execution_count": 82,
     "metadata": {},
     "output_type": "execute_result"
    },
    {
     "data": {
      "text/plain": [
       "['comp.graphics', 'rec.autos', 'sci.space', 'soc.religion.christian']"
      ]
     },
     "execution_count": 82,
     "metadata": {},
     "output_type": "execute_result"
    }
   ],
   "source": [
    "data = fetch_20newsgroups(categories=categories)\n",
    "data.keys()\n",
    "data.target_names"
   ]
  },
  {
   "cell_type": "code",
   "execution_count": 83,
   "metadata": {},
   "outputs": [
    {
     "data": {
      "text/plain": [
       "(2370, 2)"
      ]
     },
     "execution_count": 83,
     "metadata": {},
     "output_type": "execute_result"
    },
    {
     "data": {
      "text/html": [
       "<div>\n",
       "<style scoped>\n",
       "    .dataframe tbody tr th:only-of-type {\n",
       "        vertical-align: middle;\n",
       "    }\n",
       "\n",
       "    .dataframe tbody tr th {\n",
       "        vertical-align: top;\n",
       "    }\n",
       "\n",
       "    .dataframe thead th {\n",
       "        text-align: right;\n",
       "    }\n",
       "</style>\n",
       "<table border=\"1\" class=\"dataframe\">\n",
       "  <thead>\n",
       "    <tr style=\"text-align: right;\">\n",
       "      <th></th>\n",
       "      <th>contents</th>\n",
       "      <th>target</th>\n",
       "    </tr>\n",
       "  </thead>\n",
       "  <tbody>\n",
       "    <tr>\n",
       "      <th>0</th>\n",
       "      <td>From: henry@zoo.toronto.edu (Henry Spencer)\\nS...</td>\n",
       "      <td>2</td>\n",
       "    </tr>\n",
       "    <tr>\n",
       "      <th>1</th>\n",
       "      <td>From: jchen@wind.bellcore.com (Jason Chen)\\nSu...</td>\n",
       "      <td>1</td>\n",
       "    </tr>\n",
       "    <tr>\n",
       "      <th>2</th>\n",
       "      <td>From: jasons@atlastele.com (Jason Smith)\\nSubj...</td>\n",
       "      <td>3</td>\n",
       "    </tr>\n",
       "    <tr>\n",
       "      <th>3</th>\n",
       "      <td>From: ak296@yfn.ysu.edu (John R. Daker)\\nSubje...</td>\n",
       "      <td>1</td>\n",
       "    </tr>\n",
       "    <tr>\n",
       "      <th>4</th>\n",
       "      <td>From: lorenzo@rintintin.Colorado.EDU (Eric Lor...</td>\n",
       "      <td>1</td>\n",
       "    </tr>\n",
       "  </tbody>\n",
       "</table>\n",
       "</div>"
      ],
      "text/plain": [
       "                                            contents  target\n",
       "0  From: henry@zoo.toronto.edu (Henry Spencer)\\nS...       2\n",
       "1  From: jchen@wind.bellcore.com (Jason Chen)\\nSu...       1\n",
       "2  From: jasons@atlastele.com (Jason Smith)\\nSubj...       3\n",
       "3  From: ak296@yfn.ysu.edu (John R. Daker)\\nSubje...       1\n",
       "4  From: lorenzo@rintintin.Colorado.EDU (Eric Lor...       1"
      ]
     },
     "execution_count": 83,
     "metadata": {},
     "output_type": "execute_result"
    }
   ],
   "source": [
    "df = pd.DataFrame(data.data, columns=['contents'])\n",
    "df['target'] = data.target\n",
    "df.shape\n",
    "df.head()"
   ]
  },
  {
   "cell_type": "code",
   "execution_count": 84,
   "metadata": {
    "scrolled": true
   },
   "outputs": [
    {
     "data": {
      "text/plain": [
       "\"From: henry@zoo.toronto.edu (Henry Spencer)\\nSubject: Re: Command Loss Timer (Re: Galileo Update - 04/22/93)\\nOrganization: U of Toronto Zoology\\nLines: 17\\n\\nIn article <1993Apr23.103038.27467@bnr.ca> agc@bmdhh286.bnr.ca (Alan Carter) writes:\\n>|> ... a NO-OP command was sent to reset the command loss timer ...\\n>\\n>This activity is regularly reported in Ron's interesting posts. Could\\n>someone explain what the Command Loss Timer is?\\n\\nIf I'm not mistaken, this is the usual sort of precaution against loss of\\ncommunications.  That timer is counting down continuously; if it ever hits\\nzero, that means Galileo hasn't heard from Earth in a suspiciously long\\ntime and it may be Galileo's fault... so it's time to go into a fallback\\nmode that minimizes chances of spacecraft damage and maximizes chances\\nof restoring contact.  I don't know exactly what-all Galileo does in such\\na situation, but a common example is to switch receivers, on the theory\\nthat maybe the one you're listening with has died.\\n-- \\nAll work is one man's work.             | Henry Spencer @ U of Toronto Zoology\\n                    - Kipling           |  henry@zoo.toronto.edu  utzoo!henry\\n\""
      ]
     },
     "execution_count": 84,
     "metadata": {},
     "output_type": "execute_result"
    }
   ],
   "source": [
    "df['contents'][0]"
   ]
  },
  {
   "cell_type": "markdown",
   "metadata": {},
   "source": [
    "## 1.2 데이터 전처리"
   ]
  },
  {
   "cell_type": "markdown",
   "metadata": {},
   "source": [
    "특수 문자 제거"
   ]
  },
  {
   "cell_type": "code",
   "execution_count": 85,
   "metadata": {},
   "outputs": [],
   "source": [
    "df['contents'] = df['contents'].str.replace(\"[^a-zA-Z]\", \" \")"
   ]
  },
  {
   "cell_type": "markdown",
   "metadata": {},
   "source": [
    "단어의 길이가 2이하는 제거"
   ]
  },
  {
   "cell_type": "code",
   "execution_count": 86,
   "metadata": {},
   "outputs": [],
   "source": [
    "df['contents'] = df['contents'].apply(lambda x: ' '.join([w for w in x.split() if len(w)>2]))"
   ]
  },
  {
   "cell_type": "markdown",
   "metadata": {},
   "source": [
    "전체 단어를 소문자로 변환"
   ]
  },
  {
   "cell_type": "code",
   "execution_count": 87,
   "metadata": {},
   "outputs": [],
   "source": [
    "df['contents'] = df['contents'].apply(lambda x: x.lower())"
   ]
  },
  {
   "cell_type": "code",
   "execution_count": 88,
   "metadata": {
    "scrolled": true
   },
   "outputs": [
    {
     "data": {
      "text/plain": [
       "'from henry zoo toronto edu henry spencer subject command loss timer galileo update organization toronto zoology lines article apr bnr agc bmdhh bnr alan carter writes command was sent reset the command loss timer this activity regularly reported ron interesting posts could someone explain what the command loss timer not mistaken this the usual sort precaution against loss communications that timer counting down continuously ever hits zero that means galileo hasn heard from earth suspiciously long time and may galileo fault time into fallback mode that minimizes chances spacecraft damage and maximizes chances restoring contact don know exactly what all galileo does such situation but common example switch receivers the theory that maybe the one you listening with has died all work one man work henry spencer toronto zoology kipling henry zoo toronto edu utzoo henry'"
      ]
     },
     "execution_count": 88,
     "metadata": {},
     "output_type": "execute_result"
    }
   ],
   "source": [
    "df['contents'][0]"
   ]
  },
  {
   "cell_type": "markdown",
   "metadata": {},
   "source": [
    "## 1.3 불용어 처리(Stopwords)"
   ]
  },
  {
   "cell_type": "code",
   "execution_count": 46,
   "metadata": {},
   "outputs": [],
   "source": [
    "from nltk.corpus import stopwords\n",
    "stop_words = stopwords.words('english') # NLTK로부터 불용어를 다운\n",
    "\n",
    "tokenized_doc = df['contents'].apply(lambda x: x.split()) # 토큰화\n",
    "tokenized_doc = tokenized_doc.apply(lambda x: [item for item in x if item not in stop_words])"
   ]
  },
  {
   "cell_type": "code",
   "execution_count": 48,
   "metadata": {},
   "outputs": [
    {
     "data": {
      "text/plain": [
       "0    [pyron, skndiv, dseg, dillon, pyron, subject, ...\n",
       "1    [nusunix, ling, siew, subject, online, bible, ...\n",
       "Name: contents, dtype: object"
      ]
     },
     "execution_count": 48,
     "metadata": {},
     "output_type": "execute_result"
    }
   ],
   "source": [
    "tokenized_doc[0:2]"
   ]
  },
  {
   "cell_type": "markdown",
   "metadata": {},
   "source": [
    "불용어 제거를 위해 토큰화 작업을 수행하였지만, TfidfVectorizer 토큰화가 되어있지 않은 텍스트 데이터를 입력으로 사용하기 위해\n",
    " * 토큰화 작업을 역으로 취소하는 작업을 수행: 역토큰화(Detokenization)"
   ]
  },
  {
   "cell_type": "code",
   "execution_count": 52,
   "metadata": {},
   "outputs": [],
   "source": [
    "detokenized_doc = []\n",
    "for i in range(len(df)):\n",
    "    t = ' '.join(tokenized_doc[i])\n",
    "    detokenized_doc.append(t)\n",
    "\n",
    "df['contents'] = detokenized_doc"
   ]
  },
  {
   "cell_type": "code",
   "execution_count": 53,
   "metadata": {
    "scrolled": true
   },
   "outputs": [
    {
     "data": {
      "text/plain": [
       "'pyron skndiv dseg dillon pyron subject give billion first year long moon residents lines nntp posting host skndiv dseg reply pyron skndiv dseg organization dseg support article kinnpas schaefer peter schaefer writes article aurora alaska nsmca aurora alaska writes article theporch raider gene theporch raider gene wright writes continuin talk space complaints government large cost something read might work announce reward billion would first corporation successfully keeps least person alive moon year inexpensive popular technologies begin developed different kind space race gene theporch raider gene wright theporch raider macinteresteds nashville true friends could pool resources maybe make prize kind liek solar race australia anybody game contest michael adams nsmca acad alaska high jacked billion dollars enough cover cost feasability study happy happy feasability study wimp studying others would damn many engineers little engineering sits arse sits fortune richard francis burton dillon pyron opinions expressed dseg lewisville support sender unless otherwise stated home texans vote robin hood need pyron skndiv dseg solutions gestures padi'"
      ]
     },
     "execution_count": 53,
     "metadata": {},
     "output_type": "execute_result"
    }
   ],
   "source": [
    "df['contents'][0]"
   ]
  },
  {
   "cell_type": "markdown",
   "metadata": {},
   "source": [
    "## 1.3 훈련과 검증데이터 구분"
   ]
  },
  {
   "cell_type": "code",
   "execution_count": 89,
   "metadata": {},
   "outputs": [],
   "source": [
    "X = df['contents']\n",
    "y = df['target']"
   ]
  },
  {
   "cell_type": "code",
   "execution_count": 90,
   "metadata": {},
   "outputs": [],
   "source": [
    "from sklearn.model_selection import train_test_split\n",
    "X_train, X_test, y_train, y_test = train_test_split(X, y, test_size=0.33, random_state=42)"
   ]
  },
  {
   "cell_type": "markdown",
   "metadata": {},
   "source": [
    "## 1.4 문자를 vectorization하는 방법"
   ]
  },
  {
   "cell_type": "markdown",
   "metadata": {},
   "source": [
    "#### 1.4.1 CountVectorizer : 각 문서에 나타난 단어의  출현 빈도"
   ]
  },
  {
   "cell_type": "code",
   "execution_count": 91,
   "metadata": {},
   "outputs": [
    {
     "data": {
      "text/plain": [
       "<2370x30309 sparse matrix of type '<class 'numpy.int64'>'\n",
       "\twith 314057 stored elements in Compressed Sparse Row format>"
      ]
     },
     "execution_count": 91,
     "metadata": {},
     "output_type": "execute_result"
    },
    {
     "data": {
      "text/plain": [
       "array([[0, 0, 0, ..., 0, 0, 0],\n",
       "       [0, 0, 0, ..., 0, 0, 0],\n",
       "       [0, 0, 0, ..., 0, 0, 0],\n",
       "       ...,\n",
       "       [0, 0, 0, ..., 0, 0, 0],\n",
       "       [0, 0, 0, ..., 0, 0, 0],\n",
       "       [0, 0, 0, ..., 0, 0, 0]], dtype=int64)"
      ]
     },
     "execution_count": 91,
     "metadata": {},
     "output_type": "execute_result"
    }
   ],
   "source": [
    "from sklearn.feature_extraction.text import CountVectorizer\n",
    "vec = CountVectorizer()\n",
    "X = vec.fit_transform(df['contents'])\n",
    "X\n",
    "X.toarray()"
   ]
  },
  {
   "cell_type": "code",
   "execution_count": 92,
   "metadata": {
    "scrolled": true
   },
   "outputs": [
    {
     "data": {
      "text/html": [
       "<div>\n",
       "<style scoped>\n",
       "    .dataframe tbody tr th:only-of-type {\n",
       "        vertical-align: middle;\n",
       "    }\n",
       "\n",
       "    .dataframe tbody tr th {\n",
       "        vertical-align: top;\n",
       "    }\n",
       "\n",
       "    .dataframe thead th {\n",
       "        text-align: right;\n",
       "    }\n",
       "</style>\n",
       "<table border=\"1\" class=\"dataframe\">\n",
       "  <thead>\n",
       "    <tr style=\"text-align: right;\">\n",
       "      <th></th>\n",
       "      <th>aaa</th>\n",
       "      <th>aaaa</th>\n",
       "      <th>aacc</th>\n",
       "      <th>aad</th>\n",
       "      <th>aalborg</th>\n",
       "      <th>aamir</th>\n",
       "      <th>aamrl</th>\n",
       "      <th>aams</th>\n",
       "      <th>aan</th>\n",
       "      <th>aangeboden</th>\n",
       "      <th>...</th>\n",
       "      <th>zwaartepunten</th>\n",
       "      <th>zwak</th>\n",
       "      <th>zwakke</th>\n",
       "      <th>zware</th>\n",
       "      <th>zwart</th>\n",
       "      <th>zwarte</th>\n",
       "      <th>zxa</th>\n",
       "      <th>zyeh</th>\n",
       "      <th>zyxel</th>\n",
       "      <th>zzpn</th>\n",
       "    </tr>\n",
       "  </thead>\n",
       "  <tbody>\n",
       "    <tr>\n",
       "      <th>0</th>\n",
       "      <td>0</td>\n",
       "      <td>0</td>\n",
       "      <td>0</td>\n",
       "      <td>0</td>\n",
       "      <td>0</td>\n",
       "      <td>0</td>\n",
       "      <td>0</td>\n",
       "      <td>0</td>\n",
       "      <td>0</td>\n",
       "      <td>0</td>\n",
       "      <td>...</td>\n",
       "      <td>0</td>\n",
       "      <td>0</td>\n",
       "      <td>0</td>\n",
       "      <td>0</td>\n",
       "      <td>0</td>\n",
       "      <td>0</td>\n",
       "      <td>0</td>\n",
       "      <td>0</td>\n",
       "      <td>0</td>\n",
       "      <td>0</td>\n",
       "    </tr>\n",
       "    <tr>\n",
       "      <th>1</th>\n",
       "      <td>0</td>\n",
       "      <td>0</td>\n",
       "      <td>0</td>\n",
       "      <td>0</td>\n",
       "      <td>0</td>\n",
       "      <td>0</td>\n",
       "      <td>0</td>\n",
       "      <td>0</td>\n",
       "      <td>0</td>\n",
       "      <td>0</td>\n",
       "      <td>...</td>\n",
       "      <td>0</td>\n",
       "      <td>0</td>\n",
       "      <td>0</td>\n",
       "      <td>0</td>\n",
       "      <td>0</td>\n",
       "      <td>0</td>\n",
       "      <td>0</td>\n",
       "      <td>0</td>\n",
       "      <td>0</td>\n",
       "      <td>0</td>\n",
       "    </tr>\n",
       "    <tr>\n",
       "      <th>2</th>\n",
       "      <td>0</td>\n",
       "      <td>0</td>\n",
       "      <td>0</td>\n",
       "      <td>0</td>\n",
       "      <td>0</td>\n",
       "      <td>0</td>\n",
       "      <td>0</td>\n",
       "      <td>0</td>\n",
       "      <td>0</td>\n",
       "      <td>0</td>\n",
       "      <td>...</td>\n",
       "      <td>0</td>\n",
       "      <td>0</td>\n",
       "      <td>0</td>\n",
       "      <td>0</td>\n",
       "      <td>0</td>\n",
       "      <td>0</td>\n",
       "      <td>0</td>\n",
       "      <td>0</td>\n",
       "      <td>0</td>\n",
       "      <td>0</td>\n",
       "    </tr>\n",
       "  </tbody>\n",
       "</table>\n",
       "<p>3 rows × 30309 columns</p>\n",
       "</div>"
      ],
      "text/plain": [
       "   aaa  aaaa  aacc  aad  aalborg  aamir  aamrl  aams  aan  aangeboden  ...  \\\n",
       "0    0     0     0    0        0      0      0     0    0           0  ...   \n",
       "1    0     0     0    0        0      0      0     0    0           0  ...   \n",
       "2    0     0     0    0        0      0      0     0    0           0  ...   \n",
       "\n",
       "   zwaartepunten  zwak  zwakke  zware  zwart  zwarte  zxa  zyeh  zyxel  zzpn  \n",
       "0              0     0       0      0      0       0    0     0      0     0  \n",
       "1              0     0       0      0      0       0    0     0      0     0  \n",
       "2              0     0       0      0      0       0    0     0      0     0  \n",
       "\n",
       "[3 rows x 30309 columns]"
      ]
     },
     "execution_count": 92,
     "metadata": {},
     "output_type": "execute_result"
    }
   ],
   "source": [
    "pd.DataFrame(X.toarray(), columns=vec.get_feature_names()).head(3)"
   ]
  },
  {
   "cell_type": "markdown",
   "metadata": {},
   "source": [
    "#### 1.4.2. TF–IDF\n",
    "- CountVectorizer 방식의 단점은 너무 자주 나오는 단어에 가중치가 높아져 sub-optimal in some classification algorithms.\n",
    "- 이러한 점을 보완하기 위해 *term frequency-inverse document frequency* (*TF–IDF*) "
   ]
  },
  {
   "cell_type": "code",
   "execution_count": 93,
   "metadata": {
    "scrolled": false
   },
   "outputs": [
    {
     "data": {
      "text/html": [
       "<div>\n",
       "<style scoped>\n",
       "    .dataframe tbody tr th:only-of-type {\n",
       "        vertical-align: middle;\n",
       "    }\n",
       "\n",
       "    .dataframe tbody tr th {\n",
       "        vertical-align: top;\n",
       "    }\n",
       "\n",
       "    .dataframe thead th {\n",
       "        text-align: right;\n",
       "    }\n",
       "</style>\n",
       "<table border=\"1\" class=\"dataframe\">\n",
       "  <thead>\n",
       "    <tr style=\"text-align: right;\">\n",
       "      <th></th>\n",
       "      <th>aaa</th>\n",
       "      <th>aaaa</th>\n",
       "      <th>aacc</th>\n",
       "      <th>aad</th>\n",
       "      <th>aalborg</th>\n",
       "      <th>aamir</th>\n",
       "      <th>aamrl</th>\n",
       "      <th>aams</th>\n",
       "      <th>aan</th>\n",
       "      <th>aangeboden</th>\n",
       "      <th>...</th>\n",
       "      <th>zwaartepunten</th>\n",
       "      <th>zwak</th>\n",
       "      <th>zwakke</th>\n",
       "      <th>zware</th>\n",
       "      <th>zwart</th>\n",
       "      <th>zwarte</th>\n",
       "      <th>zxa</th>\n",
       "      <th>zyeh</th>\n",
       "      <th>zyxel</th>\n",
       "      <th>zzpn</th>\n",
       "    </tr>\n",
       "  </thead>\n",
       "  <tbody>\n",
       "    <tr>\n",
       "      <th>0</th>\n",
       "      <td>0.0</td>\n",
       "      <td>0.0</td>\n",
       "      <td>0.0</td>\n",
       "      <td>0.0</td>\n",
       "      <td>0.0</td>\n",
       "      <td>0.0</td>\n",
       "      <td>0.0</td>\n",
       "      <td>0.0</td>\n",
       "      <td>0.0</td>\n",
       "      <td>0.0</td>\n",
       "      <td>...</td>\n",
       "      <td>0.0</td>\n",
       "      <td>0.0</td>\n",
       "      <td>0.0</td>\n",
       "      <td>0.0</td>\n",
       "      <td>0.0</td>\n",
       "      <td>0.0</td>\n",
       "      <td>0.0</td>\n",
       "      <td>0.0</td>\n",
       "      <td>0.0</td>\n",
       "      <td>0.0</td>\n",
       "    </tr>\n",
       "    <tr>\n",
       "      <th>1</th>\n",
       "      <td>0.0</td>\n",
       "      <td>0.0</td>\n",
       "      <td>0.0</td>\n",
       "      <td>0.0</td>\n",
       "      <td>0.0</td>\n",
       "      <td>0.0</td>\n",
       "      <td>0.0</td>\n",
       "      <td>0.0</td>\n",
       "      <td>0.0</td>\n",
       "      <td>0.0</td>\n",
       "      <td>...</td>\n",
       "      <td>0.0</td>\n",
       "      <td>0.0</td>\n",
       "      <td>0.0</td>\n",
       "      <td>0.0</td>\n",
       "      <td>0.0</td>\n",
       "      <td>0.0</td>\n",
       "      <td>0.0</td>\n",
       "      <td>0.0</td>\n",
       "      <td>0.0</td>\n",
       "      <td>0.0</td>\n",
       "    </tr>\n",
       "    <tr>\n",
       "      <th>2</th>\n",
       "      <td>0.0</td>\n",
       "      <td>0.0</td>\n",
       "      <td>0.0</td>\n",
       "      <td>0.0</td>\n",
       "      <td>0.0</td>\n",
       "      <td>0.0</td>\n",
       "      <td>0.0</td>\n",
       "      <td>0.0</td>\n",
       "      <td>0.0</td>\n",
       "      <td>0.0</td>\n",
       "      <td>...</td>\n",
       "      <td>0.0</td>\n",
       "      <td>0.0</td>\n",
       "      <td>0.0</td>\n",
       "      <td>0.0</td>\n",
       "      <td>0.0</td>\n",
       "      <td>0.0</td>\n",
       "      <td>0.0</td>\n",
       "      <td>0.0</td>\n",
       "      <td>0.0</td>\n",
       "      <td>0.0</td>\n",
       "    </tr>\n",
       "  </tbody>\n",
       "</table>\n",
       "<p>3 rows × 30309 columns</p>\n",
       "</div>"
      ],
      "text/plain": [
       "   aaa  aaaa  aacc  aad  aalborg  aamir  aamrl  aams  aan  aangeboden  ...  \\\n",
       "0  0.0   0.0   0.0  0.0      0.0    0.0    0.0   0.0  0.0         0.0  ...   \n",
       "1  0.0   0.0   0.0  0.0      0.0    0.0    0.0   0.0  0.0         0.0  ...   \n",
       "2  0.0   0.0   0.0  0.0      0.0    0.0    0.0   0.0  0.0         0.0  ...   \n",
       "\n",
       "   zwaartepunten  zwak  zwakke  zware  zwart  zwarte  zxa  zyeh  zyxel  zzpn  \n",
       "0            0.0   0.0     0.0    0.0    0.0     0.0  0.0   0.0    0.0   0.0  \n",
       "1            0.0   0.0     0.0    0.0    0.0     0.0  0.0   0.0    0.0   0.0  \n",
       "2            0.0   0.0     0.0    0.0    0.0     0.0  0.0   0.0    0.0   0.0  \n",
       "\n",
       "[3 rows x 30309 columns]"
      ]
     },
     "execution_count": 93,
     "metadata": {},
     "output_type": "execute_result"
    }
   ],
   "source": [
    "from sklearn.feature_extraction.text import TfidfVectorizer\n",
    "vec = TfidfVectorizer()\n",
    "X = vec.fit_transform(df['contents'])\n",
    "pd.DataFrame(X.toarray(), columns=vec.get_feature_names()).head(3)"
   ]
  },
  {
   "cell_type": "markdown",
   "metadata": {},
   "source": [
    "## 1.5 TF-IDF와 multinomial naive Bayes로 pipeline 구성"
   ]
  },
  {
   "cell_type": "code",
   "execution_count": 94,
   "metadata": {},
   "outputs": [],
   "source": [
    "from sklearn.feature_extraction.text import TfidfVectorizer\n",
    "from sklearn.naive_bayes import MultinomialNB\n",
    "from sklearn.pipeline import make_pipeline\n",
    "\n",
    "model = make_pipeline(TfidfVectorizer(), MultinomialNB())"
   ]
  },
  {
   "cell_type": "markdown",
   "metadata": {},
   "source": [
    "파이프라인을 데이터에 적용하여 예측하면"
   ]
  },
  {
   "cell_type": "code",
   "execution_count": 95,
   "metadata": {},
   "outputs": [
    {
     "data": {
      "text/plain": [
       "Pipeline(steps=[('tfidfvectorizer', TfidfVectorizer()),\n",
       "                ('multinomialnb', MultinomialNB())])"
      ]
     },
     "execution_count": 95,
     "metadata": {},
     "output_type": "execute_result"
    }
   ],
   "source": [
    "model.fit(X_train, y_train)\n",
    "y_predict = model.predict(test.data)"
   ]
  },
  {
   "cell_type": "code",
   "execution_count": 96,
   "metadata": {},
   "outputs": [
    {
     "data": {
      "text/plain": [
       "<sklearn.metrics._plot.confusion_matrix.ConfusionMatrixDisplay at 0x1b770224c40>"
      ]
     },
     "execution_count": 96,
     "metadata": {},
     "output_type": "execute_result"
    },
    {
     "data": {
      "image/png": "[encoded data removed]",
      "text/plain": [
       "<Figure size 432x288 with 2 Axes>"
      ]
     },
     "metadata": {},
     "output_type": "display_data"
    }
   ],
   "source": [
    "sns.set_style(\"whitegrid\", {'axes.grid' : False})\n",
    "from sklearn.metrics import plot_confusion_matrix\n",
    "plot_confusion_matrix(model, X_test, y_test)"
   ]
  },
  {
   "cell_type": "markdown",
   "metadata": {},
   "source": [
    "새로운 기사를 받아 분류를 예측해보자"
   ]
  },
  {
   "cell_type": "code",
   "execution_count": 106,
   "metadata": {},
   "outputs": [
    {
     "data": {
      "text/plain": [
       "array([3], dtype=int64)"
      ]
     },
     "execution_count": 106,
     "metadata": {},
     "output_type": "execute_result"
    }
   ],
   "source": [
    "y_pred = model.predict(['Repent, for the kindom of heaven os near'])\n",
    "y_pred"
   ]
  },
  {
   "cell_type": "code",
   "execution_count": 107,
   "metadata": {},
   "outputs": [
    {
     "data": {
      "text/plain": [
       "['comp.graphics', 'rec.autos', 'sci.space', 'soc.religion.christian']"
      ]
     },
     "execution_count": 107,
     "metadata": {},
     "output_type": "execute_result"
    }
   ],
   "source": [
    "train.target_names"
   ]
  },
  {
   "cell_type": "code",
   "execution_count": 108,
   "metadata": {},
   "outputs": [
    {
     "data": {
      "text/plain": [
       "'soc.religion.christian'"
      ]
     },
     "execution_count": 108,
     "metadata": {},
     "output_type": "execute_result"
    }
   ],
   "source": [
    "train.target_names[y_pred[0]]"
   ]
  },
  {
   "cell_type": "markdown",
   "metadata": {},
   "source": [
    "####  <font color='blue'> 각 단어의 빈도로 예측이 거의 완벽하게 분류한다.  naive algorithm은 대용량 high-dimensional text 자료에 잘 사용할 경우 언비리버블하게 잘 예측한다"
   ]
  },
  {
   "cell_type": "markdown",
   "metadata": {},
   "source": [
    "# 2. LDA, Topic modeling\n",
    "\n",
    "- LDA는 문서의 집합으로부터 어떤 토픽이 존재하는지를 알아내기 위한 알고리즘\n",
    "- LDA는 빈도수 기반의 표현 방법인 Countvecot 또는 TF-IDF 행렬을 입력\n",
    "   * LDA는 문서의 단어 출현 순서와는 무관"
   ]
  },
  {
   "cell_type": "markdown",
   "metadata": {},
   "source": [
    "모든 문서(기사)가 작성될 때 문서 작성자는 '나는 이 문서를 작성하기 위해서 이런 주제들을 넣을거고, 이런 주제들을 위해서는 이런 단어들을 넣을 거야.'이런 과정을 거쳐서 작성되었다고 가정\n",
    "\n",
    "- (1) 문서에 사용할 단어의 개수 N을 설정\n",
    "- (2) 문서에 사용할 토픽의 혼합을 확률 분포에 기반하여 결정하여 문서 작성\n",
    "- (3) 문서에 사용할 각 단어를 작가는 정한다고 가정\n",
    "       * 3-1) 토픽 분포에서 토픽 T를 확률적으로 고릅니다.\n",
    "            * 60% 확률로 종교 토픽을 선택하고, 40% 확률로 다른 토픽을 선택\n",
    "       * 3-2) 선택한 토픽 T에서 단어의 출현 확률 분포에 기반해 문서에 사용할 단어를 고릅니다.\n",
    "            * 종교 토픽을 선택하였다면, 80% 확률로 예수 단어를 선택하여 (3)을 반복하면서 문서를 완성하였을 것이다.\n",
    "\n",
    "이런한 문서 작성 가정을 전제로 LDA는 토픽을 뽑아내기 위하여 위 과정을 역으로 추적하는 역공학(reverse engneering)"
   ]
  },
  {
   "cell_type": "markdown",
   "metadata": {},
   "source": [
    "### 2.1. 데이터 불러오기\n",
    "- 20개의 뉴스그룹에서 7개의 뉴스토픽을 추출"
   ]
  },
  {
   "cell_type": "code",
   "execution_count": 201,
   "metadata": {},
   "outputs": [
    {
     "data": {
      "text/plain": [
       "dict_keys(['data', 'filenames', 'target_names', 'target', 'DESCR'])"
      ]
     },
     "execution_count": 201,
     "metadata": {},
     "output_type": "execute_result"
    }
   ],
   "source": [
    "data = fetch_20newsgroups(shuffle=True, random_state=1, remove=('headers', 'footers', 'quotes'))\n",
    "data.keys()"
   ]
  },
  {
   "cell_type": "code",
   "execution_count": 202,
   "metadata": {},
   "outputs": [
    {
     "data": {
      "text/plain": [
       "['comp.graphics',\n",
       " 'comp.sys.mac.hardware',\n",
       " 'rec.autos',\n",
       " 'rec.sport.hockey',\n",
       " 'sci.med',\n",
       " 'talk.politics.guns',\n",
       " 'talk.religion.misc']"
      ]
     },
     "execution_count": 202,
     "metadata": {},
     "output_type": "execute_result"
    }
   ],
   "source": [
    "topics = data.target_names[1::3]\n",
    "topics"
   ]
  },
  {
   "cell_type": "code",
   "execution_count": 203,
   "metadata": {},
   "outputs": [
    {
     "data": {
      "text/plain": [
       "2370"
      ]
     },
     "execution_count": 203,
     "metadata": {},
     "output_type": "execute_result"
    }
   ],
   "source": [
    "dataset = fetch_20newsgroups(shuffle=True, categories=categories, \n",
    "                             random_state=1, remove=('headers', 'footers', 'quotes'))\n",
    "documents = dataset.data\n",
    "len(documents)"
   ]
  },
  {
   "cell_type": "markdown",
   "metadata": {},
   "source": [
    "### 2.2. 텍스트 전처리"
   ]
  },
  {
   "cell_type": "code",
   "execution_count": 204,
   "metadata": {},
   "outputs": [
    {
     "data": {
      "text/html": [
       "<div>\n",
       "<style scoped>\n",
       "    .dataframe tbody tr th:only-of-type {\n",
       "        vertical-align: middle;\n",
       "    }\n",
       "\n",
       "    .dataframe tbody tr th {\n",
       "        vertical-align: top;\n",
       "    }\n",
       "\n",
       "    .dataframe thead th {\n",
       "        text-align: right;\n",
       "    }\n",
       "</style>\n",
       "<table border=\"1\" class=\"dataframe\">\n",
       "  <thead>\n",
       "    <tr style=\"text-align: right;\">\n",
       "      <th></th>\n",
       "      <th>document</th>\n",
       "    </tr>\n",
       "  </thead>\n",
       "  <tbody>\n",
       "    <tr>\n",
       "      <th>0</th>\n",
       "      <td>I am presently doing a masters thesis to do wi...</td>\n",
       "    </tr>\n",
       "    <tr>\n",
       "      <th>1</th>\n",
       "      <td>\\n\\n     TRIAD, the first drag-free satellite,...</td>\n",
       "    </tr>\n",
       "    <tr>\n",
       "      <th>2</th>\n",
       "      <td>Les Bartel's comments:\\n\\nLet me add my .02 in...</td>\n",
       "    </tr>\n",
       "    <tr>\n",
       "      <th>3</th>\n",
       "      <td>\\n\\nRumor has it that a guy at Dell Computer h...</td>\n",
       "    </tr>\n",
       "    <tr>\n",
       "      <th>4</th>\n",
       "      <td>Biblical basis for the Immaculate Conception:\\...</td>\n",
       "    </tr>\n",
       "  </tbody>\n",
       "</table>\n",
       "</div>"
      ],
      "text/plain": [
       "                                            document\n",
       "0  I am presently doing a masters thesis to do wi...\n",
       "1  \\n\\n     TRIAD, the first drag-free satellite,...\n",
       "2  Les Bartel's comments:\\n\\nLet me add my .02 in...\n",
       "3  \\n\\nRumor has it that a guy at Dell Computer h...\n",
       "4  Biblical basis for the Immaculate Conception:\\..."
      ]
     },
     "execution_count": 204,
     "metadata": {},
     "output_type": "execute_result"
    }
   ],
   "source": [
    "news_df = pd.DataFrame({'document':documents})\n",
    "news_df.head()"
   ]
  },
  {
   "cell_type": "code",
   "execution_count": 205,
   "metadata": {},
   "outputs": [],
   "source": [
    "# 특수 문자 제거\n",
    "news_df['clean_doc'] = news_df['document'].str.replace(\"[^a-zA-Z]\", \" \")\n",
    "# 길이가 3이하인 단어는 제거 (길이가 짧은 단어 제거)\n",
    "news_df['clean_doc'] = news_df['clean_doc'].apply(lambda x: ' '.join([w for w in x.split() if len(w)>3]))\n",
    "# 전체 단어에 대한 소문자 변환\n",
    "news_df['clean_doc'] = news_df['clean_doc'].apply(lambda x: x.lower())"
   ]
  },
  {
   "cell_type": "code",
   "execution_count": 206,
   "metadata": {},
   "outputs": [
    {
     "data": {
      "text/html": [
       "<div>\n",
       "<style scoped>\n",
       "    .dataframe tbody tr th:only-of-type {\n",
       "        vertical-align: middle;\n",
       "    }\n",
       "\n",
       "    .dataframe tbody tr th {\n",
       "        vertical-align: top;\n",
       "    }\n",
       "\n",
       "    .dataframe thead th {\n",
       "        text-align: right;\n",
       "    }\n",
       "</style>\n",
       "<table border=\"1\" class=\"dataframe\">\n",
       "  <thead>\n",
       "    <tr style=\"text-align: right;\">\n",
       "      <th></th>\n",
       "      <th>document</th>\n",
       "      <th>clean_doc</th>\n",
       "    </tr>\n",
       "  </thead>\n",
       "  <tbody>\n",
       "    <tr>\n",
       "      <th>0</th>\n",
       "      <td>I am presently doing a masters thesis to do wi...</td>\n",
       "      <td>presently doing masters thesis with traffic in...</td>\n",
       "    </tr>\n",
       "    <tr>\n",
       "      <th>1</th>\n",
       "      <td>\\n\\n     TRIAD, the first drag-free satellite,...</td>\n",
       "      <td>triad first drag free satellite designed built...</td>\n",
       "    </tr>\n",
       "    <tr>\n",
       "      <th>2</th>\n",
       "      <td>Les Bartel's comments:\\n\\nLet me add my .02 in...</td>\n",
       "      <td>bartel comments installed ford garage work wel...</td>\n",
       "    </tr>\n",
       "    <tr>\n",
       "      <th>3</th>\n",
       "      <td>\\n\\nRumor has it that a guy at Dell Computer h...</td>\n",
       "      <td>rumor that dell computer miata totalled that w...</td>\n",
       "    </tr>\n",
       "    <tr>\n",
       "      <th>4</th>\n",
       "      <td>Biblical basis for the Immaculate Conception:\\...</td>\n",
       "      <td>biblical basis immaculate conception will enmi...</td>\n",
       "    </tr>\n",
       "  </tbody>\n",
       "</table>\n",
       "</div>"
      ],
      "text/plain": [
       "                                            document  \\\n",
       "0  I am presently doing a masters thesis to do wi...   \n",
       "1  \\n\\n     TRIAD, the first drag-free satellite,...   \n",
       "2  Les Bartel's comments:\\n\\nLet me add my .02 in...   \n",
       "3  \\n\\nRumor has it that a guy at Dell Computer h...   \n",
       "4  Biblical basis for the Immaculate Conception:\\...   \n",
       "\n",
       "                                           clean_doc  \n",
       "0  presently doing masters thesis with traffic in...  \n",
       "1  triad first drag free satellite designed built...  \n",
       "2  bartel comments installed ford garage work wel...  \n",
       "3  rumor that dell computer miata totalled that w...  \n",
       "4  biblical basis immaculate conception will enmi...  "
      ]
     },
     "execution_count": 206,
     "metadata": {},
     "output_type": "execute_result"
    }
   ],
   "source": [
    "news_df.head()"
   ]
  },
  {
   "cell_type": "code",
   "execution_count": 207,
   "metadata": {},
   "outputs": [],
   "source": [
    "from nltk.corpus import stopwords\n",
    "stop_words = stopwords.words('english') # NLTK의 불용어\n",
    "tokenized_doc = news_df['clean_doc'].apply(lambda x: x.split()) # 토큰화\n",
    "tokenized_doc = tokenized_doc.apply(lambda x: [item for item in x if item not in stop_words]) # 불용어를 제거"
   ]
  },
  {
   "cell_type": "code",
   "execution_count": 208,
   "metadata": {},
   "outputs": [
    {
     "data": {
      "text/plain": [
       "pandas.core.series.Series"
      ]
     },
     "execution_count": 208,
     "metadata": {},
     "output_type": "execute_result"
    },
    {
     "data": {
      "text/plain": [
       "0    [presently, masters, thesis, traffic, intersec...\n",
       "1    [triad, first, drag, free, satellite, designed...\n",
       "Name: clean_doc, dtype: object"
      ]
     },
     "execution_count": 208,
     "metadata": {},
     "output_type": "execute_result"
    }
   ],
   "source": [
    "type(tokenized_doc)\n",
    "tokenized_doc[0:2]"
   ]
  },
  {
   "cell_type": "markdown",
   "metadata": {},
   "source": [
    "### 2.3. TF-IDF 행렬 만들기\n",
    "불용어 제거를 위해 토큰화 작업을 수행하였지만, TfidfVectorizer(TF-IDF 챕터 참고)는 기본적으로 토큰화가 되어있지 않은 텍스트 데이터를 입력으로 사용합니다. 그렇기 때문에 TfidfVectorizer를 사용해서 TF-IDF 행렬을 만들기 위해서 news_df['clean_doc']컬럼을 사용\n"
   ]
  },
  {
   "cell_type": "code",
   "execution_count": 209,
   "metadata": {},
   "outputs": [
    {
     "data": {
      "text/plain": [
       "(2370, 1000)"
      ]
     },
     "execution_count": 209,
     "metadata": {},
     "output_type": "execute_result"
    }
   ],
   "source": [
    "from sklearn.feature_extraction.text import TfidfVectorizer\n",
    "\n",
    "vectorizer = TfidfVectorizer(stop_words='english', \n",
    "max_features= 1000, # 상위 1,000개의 단어를 보존 \n",
    "max_df = 0.5, \n",
    "smooth_idf=True)\n",
    "\n",
    "X = vectorizer.fit_transform(news_df['clean_doc'])\n",
    "X.shape # TF-IDF 행렬의 크기 확인"
   ]
  },
  {
   "cell_type": "markdown",
   "metadata": {},
   "source": [
    "### 2.4. 토픽 모델링(Topic Modeling), ㅣLDA(Latent Dirichlet Allocation, LDA)"
   ]
  },
  {
   "cell_type": "code",
   "execution_count": 210,
   "metadata": {},
   "outputs": [
    {
     "data": {
      "text/plain": [
       "0    [presently, masters, thesis, traffic, intersec...\n",
       "1    [triad, first, drag, free, satellite, designed...\n",
       "2    [bartel, comments, installed, ford, garage, wo...\n",
       "3      [rumor, dell, computer, miata, totalled, would]\n",
       "4    [biblical, basis, immaculate, conception, enmi...\n",
       "Name: clean_doc, dtype: object"
      ]
     },
     "execution_count": 210,
     "metadata": {},
     "output_type": "execute_result"
    }
   ],
   "source": [
    "tokenized_doc[:5]  # 불용어 처리된 기사"
   ]
  },
  {
   "cell_type": "markdown",
   "metadata": {},
   "source": [
    "이제 각 단어에 정수 인코딩을 하는 동시에, 각 뉴스에서의 단어의 빈도수를 기록해보겠습니다. 여기서는 각 단어를 (word_id, word_frequency)의 형태로 바꾸고자 합니다. word_id는 단어가 정수 인코딩된 값이고, word_frequency는 해당 뉴스에서의 해당 단어의 빈도수를 의미합니다. 이는 gensim의 corpora.Dictionary()를 사용하여 손쉽게 구할 수 있습니다. 전체 뉴스에 대해서 정수 인코딩을 수행하고, 두번째 뉴스를 출력해봅시다."
   ]
  },
  {
   "cell_type": "code",
   "execution_count": 211,
   "metadata": {},
   "outputs": [
    {
     "name": "stdout",
     "output_type": "stream",
     "text": [
      "[(25, 1), (26, 1), (27, 1), (28, 1), (29, 1), (30, 1), (31, 1), (32, 1), (33, 1), (34, 1), (35, 1), (36, 1), (37, 1), (38, 1), (39, 1), (40, 2), (41, 1), (42, 3), (43, 1), (44, 3), (45, 1), (46, 2), (47, 2), (48, 2), (49, 1), (50, 3), (51, 1), (52, 1), (53, 2), (54, 2), (55, 1), (56, 1), (57, 2), (58, 1), (59, 1), (60, 1), (61, 1), (62, 3), (63, 1), (64, 2), (65, 1), (66, 1), (67, 1), (68, 1), (69, 1), (70, 1), (71, 1), (72, 1), (73, 1), (74, 3), (75, 1), (76, 5), (77, 2), (78, 1), (79, 1), (80, 1), (81, 1), (82, 1), (83, 1), (84, 2), (85, 1), (86, 1), (87, 1), (88, 1), (89, 1), (90, 1), (91, 1), (92, 1), (93, 1), (94, 1), (95, 4), (96, 1), (97, 1), (98, 1)]\n"
     ]
    }
   ],
   "source": [
    "from gensim import corpora\n",
    "dictionary = corpora.Dictionary(tokenized_doc)\n",
    "corpus = [dictionary.doc2bow(text) for text in tokenized_doc]\n",
    "print(corpus[1]) # 수행된 결과에서 두번째 뉴스 출력. 첫번째 문서의 인덱스는 0"
   ]
  },
  {
   "cell_type": "markdown",
   "metadata": {},
   "source": [
    "두번째 뉴스의 출력 결과를 봅시다. 위의 출력 결과 중에서 (66, 2)는 정수 인코딩이 66으로 할당된 단어가 두번째 뉴스에서는 두 번 등장하였음을 의미합니다. 66이라는 값을 가지는 단어가 정수 인코딩이 되기 전에는 어떤 단어였는지 확인하여봅시다. 이는 dictionary[]에 기존 단어가 무엇인지 알고자하는 정수값을 입력하여 확인할 수 있습니다."
   ]
  },
  {
   "cell_type": "code",
   "execution_count": 212,
   "metadata": {},
   "outputs": [
    {
     "name": "stdout",
     "output_type": "stream",
     "text": [
      "nova\n"
     ]
    }
   ],
   "source": [
    "print(dictionary[66])"
   ]
  },
  {
   "cell_type": "code",
   "execution_count": 213,
   "metadata": {},
   "outputs": [
    {
     "data": {
      "text/plain": [
       "23308"
      ]
     },
     "execution_count": 213,
     "metadata": {},
     "output_type": "execute_result"
    }
   ],
   "source": [
    "len(dictionary)"
   ]
  },
  {
   "cell_type": "markdown",
   "metadata": {},
   "source": [
    "뉴스 토픽의 개수를 7개로 하여 LDA 모델을 학습"
   ]
  },
  {
   "cell_type": "code",
   "execution_count": 214,
   "metadata": {},
   "outputs": [
    {
     "data": {
      "application/vnd.jupyter.widget-view+json": {
       "model_id": "1e2e82437769481c921c97f07768dc08",
       "version_major": 2,
       "version_minor": 0
      },
      "text/plain": [
       "  0%|          | 0/7 [00:00<?, ?it/s]"
      ]
     },
     "metadata": {},
     "output_type": "display_data"
    },
    {
     "name": "stdout",
     "output_type": "stream",
     "text": [
      "(0, '0.013*\"data\" + 0.009*\"image\" + 0.006*\"nasa\" + 0.006*\"images\"')\n",
      "(1, '0.008*\"would\" + 0.007*\"graphics\" + 0.006*\"like\" + 0.005*\"search\"')\n",
      "(2, '0.023*\"space\" + 0.015*\"launch\" + 0.008*\"satellite\" + 0.007*\"commercial\"')\n",
      "(3, '0.008*\"would\" + 0.005*\"jesus\" + 0.005*\"radius\" + 0.004*\"body\"')\n",
      "(4, '0.010*\"would\" + 0.008*\"people\" + 0.006*\"think\" + 0.006*\"jesus\"')\n",
      "(5, '0.009*\"thanks\" + 0.009*\"know\" + 0.008*\"would\" + 0.007*\"anyone\"')\n",
      "(6, '0.006*\"like\" + 0.005*\"first\" + 0.005*\"would\" + 0.005*\"time\"')\n"
     ]
    }
   ],
   "source": [
    "import gensim\n",
    "from tqdm import tqdm_notebook\n",
    "\n",
    "NUM_TOPICS = 7 #20개의 토픽, k=20\n",
    "ldamodel = gensim.models.ldamodel.LdaModel(corpus, num_topics = NUM_TOPICS, id2word=dictionary, passes=15)\n",
    "topics = ldamodel.print_topics(num_words=4)\n",
    "for topic in tqdm_notebook(topics):\n",
    "    print(topic)"
   ]
  },
  {
   "cell_type": "code",
   "execution_count": 215,
   "metadata": {},
   "outputs": [
    {
     "data": {
      "text/plain": [
       "'alt.atheism, comp.graphics, comp.os.ms-windows.misc, comp.sys.ibm.pc.hardware, comp.sys.mac.hardware, comp.windows.x, misc.forsale, rec.autos, rec.motorcycles, rec.sport.baseball, rec.sport.hockey, sci.crypt, sci.electronics, sci.med, sci.space, soc.religion.christian, talk.politics.guns, talk.politics.mideast, talk.politics.misc, talk.religion.misc'"
      ]
     },
     "execution_count": 215,
     "metadata": {},
     "output_type": "execute_result"
    }
   ],
   "source": [
    "', '.join(data.target_names)"
   ]
  },
  {
   "cell_type": "code",
   "execution_count": 216,
   "metadata": {},
   "outputs": [
    {
     "name": "stdout",
     "output_type": "stream",
     "text": [
      "[(0, '0.013*\"data\" + 0.009*\"image\" + 0.006*\"nasa\" + 0.006*\"images\" + 0.006*\"software\" + 0.006*\"space\" + 0.005*\"graphics\" + 0.005*\"available\" + 0.005*\"information\" + 0.004*\"also\"'), (1, '0.008*\"would\" + 0.007*\"graphics\" + 0.006*\"like\" + 0.005*\"search\" + 0.004*\"find\" + 0.004*\"could\" + 0.003*\"know\" + 0.003*\"also\" + 0.003*\"thanks\" + 0.003*\"black\"'), (2, '0.023*\"space\" + 0.015*\"launch\" + 0.008*\"satellite\" + 0.007*\"commercial\" + 0.005*\"year\" + 0.005*\"market\" + 0.004*\"satellites\" + 0.004*\"technology\" + 0.004*\"also\" + 0.004*\"system\"'), (3, '0.008*\"would\" + 0.005*\"jesus\" + 0.005*\"radius\" + 0.004*\"body\" + 0.004*\"good\" + 0.004*\"like\" + 0.004*\"tomb\" + 0.003*\"even\" + 0.003*\"think\" + 0.003*\"point\"'), (4, '0.010*\"would\" + 0.008*\"people\" + 0.006*\"think\" + 0.006*\"jesus\" + 0.005*\"know\" + 0.005*\"christ\" + 0.005*\"also\" + 0.005*\"church\" + 0.005*\"faith\" + 0.004*\"like\"'), (5, '0.009*\"thanks\" + 0.009*\"know\" + 0.008*\"would\" + 0.007*\"anyone\" + 0.007*\"like\" + 0.006*\"files\" + 0.006*\"program\" + 0.006*\"graphics\" + 0.006*\"file\" + 0.006*\"please\"'), (6, '0.006*\"like\" + 0.005*\"first\" + 0.005*\"would\" + 0.005*\"time\" + 0.005*\"space\" + 0.004*\"much\" + 0.004*\"earth\" + 0.004*\"moon\" + 0.004*\"also\" + 0.004*\"orbit\"')]\n"
     ]
    }
   ],
   "source": [
    "print(ldamodel.print_topics())"
   ]
  },
  {
   "cell_type": "markdown",
   "metadata": {},
   "source": [
    "## LDA 시각화 하기"
   ]
  },
  {
   "cell_type": "code",
   "execution_count": 217,
   "metadata": {
    "scrolled": true
   },
   "outputs": [
    {
     "data": {
      "text/html": [
       "\n",
       "<link rel=\"stylesheet\" type=\"text/css\" href=\"https://cdn.jsdelivr.net/gh/bmabey/pyLDAvis@3.2.2/pyLDAvis/js/ldavis.v1.0.0.css\">\n",
       "\n",
       "\n",
       "<div id=\"ldavis_el91218908407078082692552016\"></div>\n",
       "<script type=\"text/javascript\">\n",
       "\n",
       "var ldavis_el91218908407078082692552016_data = {\"mdsDat\": {\"x\": [0.18208229614551313, 0.02454469368062104, -0.20804055936975135, -0.0061856185255469405, -0.15266172372482797, 0.15504368750079775, 0.0052172242931944335], \"y\": [0.030022088726428472, 0.09434787826011835, -0.07071381646688094, -0.16561708364011984, 0.17716072464812974, 0.025815245179206997, -0.0910150367068827], \"topics\": [1, 2, 3, 4, 5, 6, 7], \"cluster\": [1, 1, 1, 1, 1, 1, 1], \"Freq\": [29.760898409665675, 17.386387860248, 16.942307694177316, 11.159210757055785, 10.271976198530847, 8.313010811143966, 6.166208269178398]}, \"tinfo\": {\"Term\": [\"space\", \"launch\", \"data\", \"graphics\", \"jesus\", \"image\", \"satellite\", \"would\", \"thanks\", \"know\", \"christ\", \"faith\", \"software\", \"files\", \"commercial\", \"nasa\", \"like\", \"anyone\", \"program\", \"church\", \"file\", \"images\", \"bible\", \"christians\", \"moon\", \"color\", \"research\", \"christian\", \"version\", \"market\", \"faith\", \"christians\", \"christian\", \"scripture\", \"holy\", \"belief\", \"catholic\", \"beliefs\", \"mother\", \"peace\", \"pope\", \"sabbath\", \"revelation\", \"infallible\", \"gospel\", \"marriage\", \"reasoning\", \"interpretation\", \"judgement\", \"evil\", \"religions\", \"lives\", \"arrogant\", \"salvation\", \"arrogance\", \"matters\", \"prayer\", \"doctrines\", \"married\", \"divine\", \"bible\", \"church\", \"spirit\", \"grace\", \"exist\", \"absolute\", \"heaven\", \"hell\", \"eternal\", \"lord\", \"christianity\", \"christ\", \"paul\", \"jesus\", \"life\", \"people\", \"truth\", \"love\", \"believe\", \"word\", \"reason\", \"person\", \"think\", \"question\", \"would\", \"things\", \"must\", \"others\", \"mean\", \"know\", \"even\", \"something\", \"good\", \"also\", \"like\", \"time\", \"many\", \"true\", \"well\", \"much\", \"find\", \"brake\", \"braking\", \"fluids\", \"mariner\", \"mars\", \"ranger\", \"lander\", \"probes\", \"ether\", \"luna\", \"pedal\", \"temperature\", \"belt\", \"tires\", \"martian\", \"fluid\", \"viscosity\", \"additives\", \"flyby\", \"designation\", \"motor\", \"oils\", \"sensor\", \"landing\", \"sensors\", \"intervals\", \"boiling\", \"snow\", \"spin\", \"silicone\", \"venus\", \"wheels\", \"probe\", \"saturn\", \"moon\", \"jupiter\", \"pioneer\", \"fuel\", \"missions\", \"voyager\", \"venera\", \"spacecraft\", \"tire\", \"lunar\", \"orbit\", \"front\", \"brakes\", \"manufacturers\", \"surface\", \"mercury\", \"mission\", \"planet\", \"earth\", \"engine\", \"first\", \"cars\", \"like\", \"time\", \"much\", \"long\", \"space\", \"would\", \"could\", \"also\", \"better\", \"system\", \"year\", \"good\", \"well\", \"years\", \"sphinx\", \"server\", \"astronomical\", \"visualization\", \"linux\", \"exponent\", \"requests\", \"debris\", \"plutonium\", \"visual\", \"instruments\", \"uars\", \"macintosh\", \"infrared\", \"computing\", \"database\", \"beta\", \"magellan\", \"workstations\", \"accessible\", \"rows\", \"cols\", \"abstracts\", \"client\", \"ansi\", \"molecular\", \"nasda\", \"functionality\", \"jfif\", \"papers\", \"user\", \"formats\", \"tracking\", \"interactive\", \"archive\", \"compass\", \"data\", \"optical\", \"antenna\", \"users\", \"tools\", \"processing\", \"request\", \"analysis\", \"images\", \"image\", \"objects\", \"internet\", \"anonymous\", \"available\", \"software\", \"nasa\", \"research\", \"package\", \"send\", \"information\", \"jpeg\", \"developed\", \"flight\", \"graphics\", \"contact\", \"list\", \"satellite\", \"space\", \"system\", \"mail\", \"also\", \"science\", \"program\", \"center\", \"using\", \"computer\", \"vesa\", \"quicktime\", \"colors\", \"cview\", \"printer\", \"graeme\", \"viewer\", \"bugs\", \"targa\", \"svga\", \"trident\", \"postscript\", \"lockup\", \"cards\", \"movies\", \"scsi\", \"temp\", \"polygons\", \"tseng\", \"liverpool\", \"centris\", \"diamond\", \"incoming\", \"apple\", \"bios\", \"grafsys\", \"speedstar\", \"filter\", \"diesel\", \"drawing\", \"card\", \"radiosity\", \"routines\", \"insurance\", \"windows\", \"screen\", \"video\", \"thanks\", \"file\", \"mode\", \"files\", \"anybody\", \"color\", \"advance\", \"memory\", \"code\", \"hello\", \"anyone\", \"help\", \"version\", \"looking\", \"program\", \"quality\", \"format\", \"know\", \"please\", \"graphics\", \"need\", \"image\", \"computer\", \"like\", \"would\", \"using\", \"mail\", \"want\", \"software\", \"could\", \"also\", \"much\", \"work\", \"good\", \"venture\", \"scrolls\", \"pacastro\", \"contracts\", \"revenues\", \"firms\", \"symposium\", \"schwartz\", \"sigkids\", \"usaf\", \"arianespace\", \"ariane\", \"telecommunications\", \"mobile\", \"iridium\", \"pegasus\", \"funded\", \"korea\", \"mcdonnell\", \"ntsb\", \"aerospace\", \"launching\", \"taiwan\", \"payloads\", \"condor\", \"qumran\", \"projected\", \"decade\", \"predicts\", \"diane\", \"launches\", \"services\", \"launch\", \"delta\", \"ventures\", \"russian\", \"abort\", \"demand\", \"commercial\", \"space\", \"communications\", \"sales\", \"satellites\", \"market\", \"satellite\", \"technology\", \"funding\", \"commentary\", \"year\", \"small\", \"development\", \"april\", \"station\", \"system\", \"program\", \"nasa\", \"national\", \"site\", \"research\", \"also\", \"data\", \"university\", \"first\", \"systems\", \"vehicle\", \"would\", \"tomb\", \"rtheta\", \"theta\", \"throttle\", \"sqrt\", \"struct\", \"ntheta\", \"subdivide\", \"oversteer\", \"trunk\", \"understeer\", \"asleep\", \"stolen\", \"freq\", \"northy\", \"southy\", \"thisy\", \"xorg\", \"yorg\", \"zorg\", \"proselytism\", \"declutch\", \"creed\", \"rise\", \"caste\", \"norm\", \"soldiers\", \"volvo\", \"stealing\", \"static\", \"buried\", \"radius\", \"porsche\", \"joseph\", \"buying\", \"disciples\", \"empty\", \"double\", \"appeared\", \"door\", \"knew\", \"ford\", \"sphere\", \"body\", \"raised\", \"left\", \"cars\", \"auto\", \"jesus\", \"radar\", \"would\", \"dead\", \"never\", \"good\", \"right\", \"point\", \"even\", \"like\", \"many\", \"back\", \"problem\", \"think\", \"first\", \"christ\", \"also\", \"know\", \"said\", \"could\", \"find\", \"something\", \"reston\", \"wrap\", \"larson\", \"bursts\", \"grbs\", \"odometer\", \"jeep\", \"sprites\", \"gopher\", \"searches\", \"incredibly\", \"sampling\", \"ribbons\", \"paintbrush\", \"egerter\", \"burst\", \"overhead\", \"geez\", \"dennis\", \"germans\", \"awfully\", \"inflammatory\", \"targets\", \"pleasure\", \"representations\", \"christopher\", \"resupply\", \"wilkerson\", \"welch\", \"doll\", \"faces\", \"clockwise\", \"babylon\", \"supernova\", \"leadership\", \"nick\", \"speeding\", \"search\", \"neutron\", \"europe\", \"black\", \"allen\", \"comp\", \"white\", \"edge\", \"graphics\", \"listing\", \"tracing\", \"stars\", \"pictures\", \"mark\", \"article\", \"would\", \"like\", \"find\", \"project\", \"thanks\", \"could\", \"disk\", \"work\", \"anyone\", \"know\", \"universe\", \"also\", \"problem\", \"true\", \"well\", \"never\", \"point\", \"ever\", \"think\", \"good\", \"time\", \"people\", \"please\"], \"Freq\": [835.0, 376.0, 548.0, 415.0, 444.0, 459.0, 310.0, 1265.0, 284.0, 670.0, 322.0, 272.0, 313.0, 202.0, 195.0, 337.0, 816.0, 329.0, 343.0, 280.0, 192.0, 275.0, 249.0, 207.0, 159.0, 159.0, 212.0, 192.0, 187.0, 147.0, 272.16980974436365, 206.88013621907254, 191.12937394739112, 107.3798073212899, 102.81395045799044, 97.05150959572998, 91.16609378336773, 80.19328285184153, 76.06969369608126, 72.26812178285623, 67.45428749555944, 64.41590933036707, 64.58936117491756, 57.98502273735955, 58.30229501101637, 54.78004970044698, 61.87014904692549, 53.320310009088175, 52.065149580523226, 50.984215397957755, 50.2291352651067, 48.350768230442846, 44.27066875605729, 43.374492679197765, 42.8626942815578, 42.24868193266253, 41.637654549352504, 41.45430796628771, 42.87011445544189, 41.20590110148684, 243.24363465980753, 272.97380740874564, 91.95599734137784, 59.84165373135251, 99.51283900119064, 70.60938907915617, 93.48044179380749, 166.72930781176103, 83.38983603299948, 133.8054894071053, 116.3438490541532, 276.5505001811932, 131.61183538249935, 361.93101961901476, 232.29658313648048, 466.4178532071825, 156.05204367324052, 130.04063116257623, 259.0919996741161, 144.66210492121508, 153.80523754918022, 103.59057655115673, 389.02428503396357, 220.82267110733034, 602.5071369675578, 229.78633971949546, 188.28758815004812, 158.97355057975187, 133.44008456338634, 303.02706044220815, 219.46628584936084, 183.4307253022394, 229.60753746493367, 274.8246268718645, 269.32066009324194, 226.59538334880986, 183.68619330025257, 144.1512674853732, 163.3003849158098, 157.65287226859462, 150.7423249380808, 100.15223866177996, 63.7133331302009, 63.33938158557144, 59.16164809915245, 112.7998899105309, 43.70296898614651, 42.985336049635734, 94.10760173020378, 42.9781180988106, 40.60504505596042, 39.85829354859952, 50.33328401988949, 33.41448542882707, 96.89747338987503, 32.68878113704888, 34.1021977999516, 32.084116328338354, 31.714419467542854, 30.061739044966217, 29.44987890578927, 33.12184996097208, 29.088364445658506, 27.201826529139943, 30.092035930865574, 25.14418616293321, 24.53279899489295, 24.17345197640597, 23.23724673925334, 22.154416336934364, 21.541416954236865, 77.57238273099684, 37.92896202619176, 124.85144124093789, 65.7042290434357, 147.97927741789738, 39.98310034959074, 59.40009135672402, 64.24083989534734, 75.64620572043117, 38.24427748824916, 37.32709597277269, 86.48921297678326, 62.75420113129629, 123.88128284535966, 138.9472889823082, 57.37589004988126, 41.466033487605635, 43.49768306165314, 107.17706920261719, 48.91305862901468, 93.59577293004048, 60.609137191463056, 149.99406865551626, 78.04824927360173, 191.93084825907306, 93.06277147412347, 218.45947851819236, 179.18066509347275, 155.47298275410148, 93.74394861797668, 158.98028993624382, 184.32914099200397, 121.19163171315674, 142.79306253545082, 90.4298357503984, 104.16655445128387, 89.02428069034596, 104.7237226758895, 91.75330769787644, 81.3192765270238, 96.82594674234088, 64.35269000918721, 36.27577241138521, 36.27466627397344, 30.102569806683537, 27.787586517482428, 42.28310049337961, 26.943844136953572, 26.330236450365277, 32.75775447391309, 26.483859298913888, 24.306906729274043, 21.787326092465072, 20.717182231760393, 21.721991845773985, 35.04155550901163, 20.281991303495854, 18.442003858406167, 18.44067128344452, 18.390638604282973, 18.440392745219455, 18.42570837030373, 17.56952995938091, 16.743282384419974, 16.49575708626188, 16.113296049036148, 15.67742380424986, 15.481158556928513, 19.457828757478673, 18.4400360559816, 109.98855712156185, 80.61961491838834, 49.59966644228019, 55.525998013071856, 80.9814661308313, 40.320576267981984, 438.3416404496507, 42.89491872216226, 48.28111457774733, 70.96939961146296, 59.302423276264825, 95.93278085977579, 90.65677793222235, 87.42425967157105, 202.08229572205207, 304.78737883894894, 67.04548936003346, 64.41628489487573, 53.52632600626215, 184.2229697840191, 200.9055418566713, 212.0364262906066, 141.43954650676827, 107.27363101473588, 130.52899182047676, 159.2312217219362, 107.61509883994593, 53.68594644407424, 72.46465692752673, 184.27194441869983, 73.14216609223833, 84.56560784061088, 122.11518965977153, 193.17837048658055, 124.11523037905184, 96.24349325564542, 153.7332538870868, 85.1451036120531, 102.89242111391121, 82.92924586514951, 92.16143741628619, 80.54488651918567, 73.50693566471226, 47.67518281097055, 42.75115179167945, 39.79679600588221, 39.75455754939061, 34.1632164638327, 27.427295303221467, 24.134136994124038, 21.663266481522356, 19.65784126888559, 18.542737834318086, 57.87086673933868, 18.48711854313142, 18.257944361690853, 17.933046661187333, 17.611034194915757, 17.185607331324352, 16.248673049991016, 15.140260032771044, 14.207856862653745, 14.207742034026948, 14.05946396023047, 13.170749782936376, 21.918127958764416, 12.200585152903308, 11.918713870847679, 11.595488444713725, 14.81991456139194, 11.436929909145702, 25.512352408762457, 69.93650977758529, 22.48660225422129, 40.695196703774755, 47.149631984158226, 93.90945905654843, 55.46492455590989, 81.69402669418714, 198.21887556919108, 137.3964696450849, 62.97512326819212, 140.300424902803, 65.58293681726917, 102.84500571522692, 58.081692098138596, 39.68118073699784, 94.88160085075324, 30.550528362567206, 155.4468751224669, 116.57667222215991, 100.88842094518796, 91.0779171066534, 139.7129774865391, 51.84176725156674, 74.04085446271877, 194.23314489593142, 129.14803637125328, 138.03863356195237, 126.74930595353509, 125.53215418634585, 78.1991342858459, 150.4383091159446, 174.52747552418083, 89.34186665379045, 81.22875165735852, 91.75863176526221, 91.31180850087756, 103.10987708103944, 103.12165031495935, 81.9219100434782, 75.50769381959782, 74.30990717438985, 44.78842345500066, 39.20669488101002, 36.693059515437405, 46.81086969965091, 31.829957486161987, 31.719532450913793, 29.467731622105173, 26.245198875446636, 26.245198875446636, 26.484518319755804, 25.053058019059687, 34.2876185726725, 23.16169305841206, 23.158915727236163, 21.00980568596543, 38.44163855142248, 20.785376430147867, 29.10745855463428, 18.537691785951644, 18.395892384873882, 31.310338990998144, 17.57405992207896, 15.781964504616056, 16.932984822516808, 16.10755859523444, 23.67637407592986, 36.99066403666369, 14.484999442692587, 13.886028975340377, 13.171553848222722, 60.43822052772641, 65.54432081093506, 322.1184368166733, 41.38616603605402, 32.527845166847214, 33.69703841551309, 32.908181596977236, 54.167609338088056, 142.60060402027514, 482.177466101696, 52.74000765673343, 49.50160062785955, 92.9519044643959, 100.67606339164105, 167.21753599958222, 80.69363940395851, 33.80239962034084, 41.82681161735272, 100.87109375865967, 62.81537788791262, 56.13463045227266, 49.73923617846365, 44.403951401369866, 74.67886828388298, 71.98382678217824, 71.17840560088989, 53.68028126636823, 45.468823425735806, 55.70889935807603, 75.52814359733459, 66.99297480839465, 47.81075752019514, 60.574176112987864, 50.51042061760991, 45.011066762949206, 49.40375012352586, 60.4999765291755, 33.427247764855316, 31.046010521155743, 29.86430194316602, 28.239568915555118, 26.28353013436759, 19.139800705101855, 19.139800705101855, 17.38440800981538, 15.904816666655028, 14.701059122260327, 12.641501795744745, 12.21107254164855, 11.996061443521112, 11.996061443521112, 11.996061443521112, 11.996061443521112, 11.996061443521112, 11.996061443521112, 11.996061443521112, 11.994664271558506, 11.99207247332245, 10.941145483714395, 37.456377070935154, 10.593028437937448, 10.592695122458684, 10.592486677380519, 10.49316751379229, 10.569896933650112, 10.261247783545949, 17.915278294642196, 77.69817032505827, 16.86837468833533, 33.636333909959056, 17.195891067707947, 37.50130681759477, 31.408463082214055, 45.35876202681327, 22.17774416756099, 19.67791347316341, 36.94333473968047, 28.131163709668186, 21.67033771926878, 73.69443592218056, 26.790999509475856, 46.14177219769995, 55.912973468331444, 27.183476027641966, 82.26148143965955, 44.837417288766005, 130.72453735706753, 38.17524908456299, 49.048283172523895, 71.36214787551579, 50.762979915993114, 55.96934802966013, 58.69465337181644, 71.01708867970626, 54.157873776032204, 44.25953280649792, 47.03708707060565, 58.10447849578862, 53.48847797152358, 45.65093909958487, 54.76840154412616, 51.385597498620655, 43.15578465420499, 46.07776382699921, 41.742798396138944, 38.461880731670206, 28.06395274876087, 23.405232136939038, 19.787796548285183, 17.746520363093417, 14.327658507204847, 14.200112841144465, 12.54714918976479, 12.324003348739703, 11.943358841350607, 11.922332666557482, 9.794790090133318, 9.540123219813788, 8.415931034032813, 8.416457600047403, 8.415863207662513, 8.294731874148281, 23.4071954550987, 8.723672403770314, 7.801496321376324, 7.538299373346756, 7.153098830094576, 6.7832839331634425, 6.776617257347142, 6.402874994780872, 6.400759978932795, 6.385358287663935, 6.025457709849616, 6.023713551090762, 6.023812738040879, 6.022020444438586, 27.958537441629467, 10.93012913874947, 21.11458099694279, 7.311816912492376, 20.257694724463132, 11.470141548922795, 7.634343701639555, 63.21083977083007, 8.705947841647617, 18.81564628798018, 37.409962731301384, 30.950377597791277, 26.12587183337583, 29.881104351110956, 23.067674148954318, 89.9474931739717, 15.418430525322966, 15.147060864330104, 16.399689940090894, 20.27005662743724, 27.82156609804476, 32.6615741993108, 100.40279542030139, 68.98253423264835, 48.15672583054905, 26.099047597895737, 40.535048885892046, 47.513603480518725, 19.98472056868897, 36.735033460179224, 35.40099231921528, 41.111176285645, 22.09812754608988, 40.600162201380435, 29.958583945468305, 28.12676726081714, 31.54474956183923, 27.438961189759237, 28.347113987764665, 25.082031287610732, 30.046764061385307, 29.21460305348548, 28.799164347448084, 28.609460553560144, 26.51980447481733], \"Total\": [835.0, 376.0, 548.0, 415.0, 444.0, 459.0, 310.0, 1265.0, 284.0, 670.0, 322.0, 272.0, 313.0, 202.0, 195.0, 337.0, 816.0, 329.0, 343.0, 280.0, 192.0, 275.0, 249.0, 207.0, 159.0, 159.0, 212.0, 192.0, 187.0, 147.0, 272.885542002134, 207.595683864532, 192.32128349349534, 108.09474524827199, 103.56500555210869, 97.76642101542217, 91.88768887725539, 80.90813747466956, 76.81054966959749, 73.0357147630779, 68.17234713129201, 65.13058845982759, 65.3116737613094, 58.70008147769658, 59.022540353165475, 55.49676910652844, 62.70208398394893, 54.03967867879449, 52.78028006266899, 51.699177965506664, 50.94463407869861, 49.065924020238114, 44.98559496525971, 44.08910775565764, 43.577301634144355, 42.96352217767742, 42.35268152273915, 42.168867901998766, 43.6156408852233, 41.922650089740166, 249.60807725629843, 280.61547378004593, 94.56001420729491, 61.25151386277706, 103.19086999958051, 72.64540542862775, 97.11276798706497, 177.02853356721522, 86.99851813307075, 143.7920043551872, 124.78722938231458, 322.824978997897, 144.1156736346904, 444.81603641141766, 278.7408182511384, 614.3820206706698, 180.41690058325779, 147.9100420370726, 331.83523820595093, 171.14910197193345, 185.62140273996067, 116.2307305398514, 624.4985114748963, 309.1225801338842, 1265.321023281101, 343.4416631391249, 273.0941727954887, 215.56437054996786, 171.41190294515357, 670.1045156473276, 418.92114020071966, 322.39640891456355, 535.7874474371001, 845.3693009522026, 816.6782470214232, 574.5037473190087, 418.9051539345034, 214.7426027100706, 446.53057914359874, 472.60198736681787, 362.05628232635956, 101.1971101822501, 64.45872036936599, 64.1016739589938, 59.9098871561002, 114.58923707895492, 44.449969647443744, 43.734679001693806, 95.76517621031164, 43.73562097236406, 41.350418717335295, 40.63482626427632, 51.387430599159245, 34.161046293882926, 99.07271519917396, 33.44243233914548, 34.8933303439637, 32.83122990848917, 32.4689749600082, 30.807635085565778, 30.195183485381932, 33.961776913248244, 29.834397586745645, 27.94993582566185, 30.93681581034754, 25.8913407695872, 25.279246895996252, 24.923278964877387, 23.98275605012098, 22.900004979003704, 22.288642161675565, 80.76974153052718, 39.36049885506969, 131.92101520124365, 68.80643737103091, 159.4332629106786, 41.66575618733616, 62.68025463772065, 68.44814517913039, 86.62169801139513, 40.39431704042527, 39.37327406845667, 103.45720525580512, 71.96227638164447, 162.67949353741162, 199.00794534610753, 67.32441937858378, 44.93744929627356, 48.01960282196169, 160.53121894744243, 56.73307282477148, 145.3818083549987, 77.64555147747082, 304.49213518625584, 115.03449964170183, 493.6439690646368, 156.75253402823014, 816.6782470214232, 574.5037473190087, 472.60198736681787, 200.84384646761643, 835.3953413882143, 1265.321023281101, 486.53945925761695, 845.3693009522026, 225.58143973086868, 381.1153470093487, 244.95489282962234, 535.7874474371001, 446.53057914359874, 271.0123691572958, 97.49480590062791, 65.04434536859955, 36.94619220998277, 36.945309380398065, 30.773384881111916, 28.45643111277282, 43.32918204967339, 27.621709719160794, 26.999498783933557, 33.60190630031198, 27.16995124992821, 25.052742436515416, 22.456624906772948, 21.38695084190162, 22.425011678897853, 36.19081605590175, 20.950962269226046, 19.11140590958731, 19.11139217659515, 19.059661269043417, 19.11503007202117, 19.107514645821347, 18.238659570716017, 17.41304891297443, 17.165598989118134, 16.783135929461586, 16.346532510521104, 16.15084271057852, 20.30880963130927, 19.246759208078238, 116.14568289454546, 85.69630415798488, 53.36587132947573, 59.98285442572623, 90.52785416773497, 43.760068240890284, 548.3501000571475, 46.74426353988703, 53.05564039121249, 80.71927283884665, 67.08991497570074, 113.12781651310578, 110.42291288810102, 106.30338828460582, 275.57861351998315, 459.6909757161584, 80.72690991709908, 78.44477525701089, 63.30628818971395, 282.1849722078124, 313.88377193354455, 337.57594451879964, 212.45096399370183, 153.41449468977268, 204.00866043012167, 273.4584892476635, 165.32336782259114, 64.376425348754, 99.69262882636994, 415.32714545379883, 103.09586522792445, 148.29859210325426, 310.31738192912445, 835.3953413882143, 381.1153470093487, 217.91281888389483, 845.3693009522026, 170.8039334218513, 343.6033886941237, 160.39892620529164, 274.7430391518672, 182.7726037946164, 74.22256584856221, 48.39277304205792, 43.48619155586098, 40.512342589600514, 40.470206430262834, 34.8785911025165, 28.155801300993446, 24.849964331189785, 22.37904709114273, 20.373579985334317, 19.258312178483315, 60.11136445247846, 19.20837209833176, 18.974011278265102, 18.649420072761288, 18.326643075109867, 17.901788382587746, 16.965901930744046, 15.855690023303453, 14.923264954892531, 14.9235705303167, 14.77740865464203, 13.887443891834222, 23.156806013809312, 12.916413690411364, 12.634735065261356, 12.310965610932975, 15.749287667989144, 12.154565298408858, 27.121846645780195, 75.60106950633289, 24.046376860178743, 44.13297566559191, 51.503579719785954, 105.27663191818871, 61.872201164130736, 101.93647350656417, 284.52185804073554, 192.49173139119569, 80.16732256491105, 202.4291836253415, 86.57490017900635, 159.4957023282548, 81.59803672745237, 50.88974944105408, 164.7824269017644, 37.13906182175564, 329.2062903020459, 226.1134042793098, 187.9232356335338, 174.3802193566331, 343.6033886941237, 81.10829851609233, 144.71882911754955, 670.1045156473276, 351.48688802460623, 415.32714545379883, 361.8779837857617, 459.6909757161584, 182.7726037946164, 816.6782470214232, 1265.321023281101, 274.7430391518672, 217.91281888389483, 311.8930479719515, 313.88377193354455, 486.53945925761695, 845.3693009522026, 472.60198736681787, 326.20753304404025, 535.7874474371001, 45.54252138100545, 39.95386249141913, 37.45075644933654, 47.80098227452597, 32.57933017547993, 32.46914103393408, 30.21396192883835, 26.991882604990924, 26.991882604990924, 27.240830624030774, 25.808797630009284, 35.3360287636067, 23.91039990302947, 23.907819610694766, 21.7621098443652, 39.83993599405682, 21.54183861594726, 30.22612385749754, 19.287648215573714, 19.147329592445818, 32.62910330950124, 18.32171745433115, 16.53254653248657, 17.74281441004643, 16.89069361615272, 24.829219691993874, 38.851606860766196, 15.239399875297712, 14.633664032871899, 13.91786997068415, 65.08911776002562, 72.15564106791665, 376.4994940997684, 45.099096020542476, 35.67347017404034, 37.171345299482454, 36.26009863064791, 64.6906009816285, 195.07627672885098, 835.3953413882143, 63.68878461819645, 59.894230625219485, 133.30029988384183, 147.43123645635433, 310.31738192912445, 124.66333359473784, 38.36617495334903, 51.89650414388849, 244.95489282962234, 139.57189560480992, 117.31198193122718, 107.24206705222363, 83.26015047641172, 381.1153470093487, 343.6033886941237, 337.57594451879964, 152.50213845248675, 98.940552856556, 212.45096399370183, 845.3693009522026, 548.3501000571475, 125.66094146857029, 493.6439690646368, 181.27060019503546, 102.02384658465775, 1265.321023281101, 61.25515965848336, 34.18230636276937, 31.801068187838816, 30.62372485605467, 28.994701474290473, 27.038585954654312, 19.894853814339207, 19.894853814339207, 18.167638042733863, 16.66331110540449, 15.456686358815489, 13.401657708997412, 12.969675601738995, 12.751111924352642, 12.751111924352642, 12.751111924352642, 12.751111924352642, 12.751111924352642, 12.751111924352642, 12.751111924352642, 12.749913124314407, 12.749468529282039, 11.697682795747118, 40.05265025341832, 11.348084496487049, 11.347821094819759, 11.347700176612506, 11.248378565291485, 11.347669922103343, 11.018851747188217, 19.33874225685493, 90.67553152451538, 19.652398327399172, 45.217947548113386, 20.40580512203541, 55.01755435160957, 44.51059156001069, 76.12722936655429, 29.479559362660233, 25.20261092558539, 61.79839189800456, 42.13423188437771, 29.645202216652287, 179.7688666184264, 43.52137411708412, 106.68410315226028, 156.75253402823014, 49.11548606901818, 444.81603641141766, 140.35455727028304, 1265.321023281101, 116.39017877555303, 216.34036543429022, 535.7874474371001, 250.07954251299648, 350.60815341443157, 418.92114020071966, 816.6782470214232, 418.9051539345034, 227.55744793633045, 277.1068692719347, 624.4985114748963, 493.6439690646368, 322.824978997897, 845.3693009522026, 670.1045156473276, 242.49842971662318, 486.53945925761695, 362.05628232635956, 322.39640891456355, 28.806394669828396, 24.145579621614864, 20.564228673861773, 18.48923416039879, 15.0690959411867, 14.94307003724281, 13.293136472408204, 13.064281480095978, 12.684139389889166, 12.680024284398062, 10.554070010934911, 10.285397260411386, 9.15604732369031, 9.156676025060422, 9.156061732937454, 9.036145727294313, 25.537361688972872, 9.520803538388565, 8.543117364556629, 8.278792525761377, 7.894833526387847, 7.523660242211463, 7.517554725462171, 7.143035358321624, 7.1433864986214495, 7.148050801075756, 6.765444861468918, 6.763857357157644, 6.764281050071956, 6.762888863414318, 31.415156318595113, 12.304023105260962, 24.07111894182975, 8.26237443664993, 23.966882069225722, 13.668703245497852, 8.705176375774506, 97.45568446910079, 10.113214235735375, 25.145484190006947, 66.56610240635679, 53.080343091213265, 49.857529095777956, 64.30649997373683, 44.85685044459823, 415.32714545379883, 25.391360052361897, 24.906449847138845, 29.300291043446407, 45.762692502127656, 83.84551490868121, 116.84959044229109, 1265.321023281101, 816.6782470214232, 362.05628232635956, 92.71704356204168, 284.52185804073554, 486.53945925761695, 50.904345033465205, 326.20753304404025, 329.2062903020459, 670.1045156473276, 76.4827551927058, 845.3693009522026, 277.1068692719347, 214.7426027100706, 446.53057914359874, 216.34036543429022, 350.60815341443157, 135.77701431267172, 624.4985114748963, 535.7874474371001, 574.5037473190087, 614.3820206706698, 351.48688802460623], \"Category\": [\"Default\", \"Default\", \"Default\", \"Default\", \"Default\", \"Default\", \"Default\", \"Default\", \"Default\", \"Default\", \"Default\", \"Default\", \"Default\", \"Default\", \"Default\", \"Default\", \"Default\", \"Default\", \"Default\", \"Default\", \"Default\", \"Default\", \"Default\", \"Default\", \"Default\", \"Default\", \"Default\", \"Default\", \"Default\", \"Default\", \"Topic1\", \"Topic1\", \"Topic1\", \"Topic1\", \"Topic1\", \"Topic1\", \"Topic1\", \"Topic1\", \"Topic1\", \"Topic1\", \"Topic1\", \"Topic1\", \"Topic1\", \"Topic1\", \"Topic1\", \"Topic1\", \"Topic1\", \"Topic1\", \"Topic1\", \"Topic1\", \"Topic1\", \"Topic1\", \"Topic1\", \"Topic1\", \"Topic1\", \"Topic1\", \"Topic1\", \"Topic1\", \"Topic1\", \"Topic1\", \"Topic1\", \"Topic1\", \"Topic1\", \"Topic1\", \"Topic1\", \"Topic1\", \"Topic1\", \"Topic1\", \"Topic1\", \"Topic1\", \"Topic1\", \"Topic1\", \"Topic1\", \"Topic1\", \"Topic1\", \"Topic1\", \"Topic1\", \"Topic1\", \"Topic1\", \"Topic1\", \"Topic1\", \"Topic1\", \"Topic1\", \"Topic1\", \"Topic1\", \"Topic1\", \"Topic1\", \"Topic1\", \"Topic1\", \"Topic1\", \"Topic1\", \"Topic1\", \"Topic1\", \"Topic1\", \"Topic1\", \"Topic1\", \"Topic1\", \"Topic1\", \"Topic1\", \"Topic1\", \"Topic1\", \"Topic2\", \"Topic2\", \"Topic2\", \"Topic2\", \"Topic2\", \"Topic2\", \"Topic2\", \"Topic2\", \"Topic2\", \"Topic2\", \"Topic2\", \"Topic2\", \"Topic2\", \"Topic2\", \"Topic2\", \"Topic2\", \"Topic2\", \"Topic2\", \"Topic2\", \"Topic2\", \"Topic2\", \"Topic2\", \"Topic2\", \"Topic2\", \"Topic2\", \"Topic2\", \"Topic2\", \"Topic2\", \"Topic2\", \"Topic2\", \"Topic2\", \"Topic2\", \"Topic2\", \"Topic2\", \"Topic2\", \"Topic2\", \"Topic2\", \"Topic2\", \"Topic2\", \"Topic2\", \"Topic2\", \"Topic2\", \"Topic2\", \"Topic2\", \"Topic2\", \"Topic2\", \"Topic2\", \"Topic2\", \"Topic2\", \"Topic2\", \"Topic2\", \"Topic2\", \"Topic2\", \"Topic2\", \"Topic2\", \"Topic2\", \"Topic2\", \"Topic2\", \"Topic2\", \"Topic2\", \"Topic2\", \"Topic2\", \"Topic2\", \"Topic2\", \"Topic2\", \"Topic2\", \"Topic2\", \"Topic2\", \"Topic2\", \"Topic2\", \"Topic3\", \"Topic3\", \"Topic3\", \"Topic3\", \"Topic3\", \"Topic3\", \"Topic3\", \"Topic3\", \"Topic3\", \"Topic3\", \"Topic3\", \"Topic3\", \"Topic3\", \"Topic3\", \"Topic3\", \"Topic3\", \"Topic3\", \"Topic3\", \"Topic3\", \"Topic3\", \"Topic3\", \"Topic3\", \"Topic3\", \"Topic3\", \"Topic3\", \"Topic3\", \"Topic3\", \"Topic3\", \"Topic3\", \"Topic3\", \"Topic3\", \"Topic3\", \"Topic3\", \"Topic3\", \"Topic3\", \"Topic3\", \"Topic3\", \"Topic3\", \"Topic3\", \"Topic3\", \"Topic3\", \"Topic3\", \"Topic3\", \"Topic3\", \"Topic3\", \"Topic3\", \"Topic3\", \"Topic3\", \"Topic3\", \"Topic3\", \"Topic3\", \"Topic3\", \"Topic3\", \"Topic3\", \"Topic3\", \"Topic3\", \"Topic3\", \"Topic3\", \"Topic3\", \"Topic3\", \"Topic3\", \"Topic3\", \"Topic3\", \"Topic3\", \"Topic3\", \"Topic3\", \"Topic3\", \"Topic3\", \"Topic3\", \"Topic3\", \"Topic3\", \"Topic3\", \"Topic4\", \"Topic4\", \"Topic4\", \"Topic4\", \"Topic4\", \"Topic4\", \"Topic4\", \"Topic4\", \"Topic4\", \"Topic4\", \"Topic4\", \"Topic4\", \"Topic4\", \"Topic4\", \"Topic4\", \"Topic4\", \"Topic4\", \"Topic4\", \"Topic4\", \"Topic4\", \"Topic4\", \"Topic4\", \"Topic4\", \"Topic4\", \"Topic4\", \"Topic4\", \"Topic4\", \"Topic4\", \"Topic4\", \"Topic4\", \"Topic4\", \"Topic4\", \"Topic4\", \"Topic4\", \"Topic4\", \"Topic4\", \"Topic4\", \"Topic4\", \"Topic4\", \"Topic4\", \"Topic4\", \"Topic4\", \"Topic4\", \"Topic4\", \"Topic4\", \"Topic4\", \"Topic4\", \"Topic4\", \"Topic4\", \"Topic4\", \"Topic4\", \"Topic4\", \"Topic4\", \"Topic4\", \"Topic4\", \"Topic4\", \"Topic4\", \"Topic4\", \"Topic4\", \"Topic4\", \"Topic4\", \"Topic4\", \"Topic4\", \"Topic4\", \"Topic4\", \"Topic4\", \"Topic4\", \"Topic4\", \"Topic4\", \"Topic4\", \"Topic4\", \"Topic5\", \"Topic5\", \"Topic5\", \"Topic5\", \"Topic5\", \"Topic5\", \"Topic5\", \"Topic5\", \"Topic5\", \"Topic5\", \"Topic5\", \"Topic5\", \"Topic5\", \"Topic5\", \"Topic5\", \"Topic5\", \"Topic5\", \"Topic5\", \"Topic5\", \"Topic5\", \"Topic5\", \"Topic5\", \"Topic5\", \"Topic5\", \"Topic5\", \"Topic5\", \"Topic5\", \"Topic5\", \"Topic5\", \"Topic5\", \"Topic5\", \"Topic5\", \"Topic5\", \"Topic5\", \"Topic5\", \"Topic5\", \"Topic5\", \"Topic5\", \"Topic5\", \"Topic5\", \"Topic5\", \"Topic5\", \"Topic5\", \"Topic5\", \"Topic5\", \"Topic5\", \"Topic5\", \"Topic5\", \"Topic5\", \"Topic5\", \"Topic5\", \"Topic5\", \"Topic5\", \"Topic5\", \"Topic5\", \"Topic5\", \"Topic5\", \"Topic5\", \"Topic5\", \"Topic5\", \"Topic5\", \"Topic5\", \"Topic5\", \"Topic5\", \"Topic5\", \"Topic5\", \"Topic6\", \"Topic6\", \"Topic6\", \"Topic6\", \"Topic6\", \"Topic6\", \"Topic6\", \"Topic6\", \"Topic6\", \"Topic6\", \"Topic6\", \"Topic6\", \"Topic6\", \"Topic6\", \"Topic6\", \"Topic6\", \"Topic6\", \"Topic6\", \"Topic6\", \"Topic6\", \"Topic6\", \"Topic6\", \"Topic6\", \"Topic6\", \"Topic6\", \"Topic6\", \"Topic6\", \"Topic6\", \"Topic6\", \"Topic6\", \"Topic6\", \"Topic6\", \"Topic6\", \"Topic6\", \"Topic6\", \"Topic6\", \"Topic6\", \"Topic6\", \"Topic6\", \"Topic6\", \"Topic6\", \"Topic6\", \"Topic6\", \"Topic6\", \"Topic6\", \"Topic6\", \"Topic6\", \"Topic6\", \"Topic6\", \"Topic6\", \"Topic6\", \"Topic6\", \"Topic6\", \"Topic6\", \"Topic6\", \"Topic6\", \"Topic6\", \"Topic6\", \"Topic6\", \"Topic6\", \"Topic6\", \"Topic6\", \"Topic6\", \"Topic6\", \"Topic6\", \"Topic6\", \"Topic6\", \"Topic6\", \"Topic6\", \"Topic6\", \"Topic7\", \"Topic7\", \"Topic7\", \"Topic7\", \"Topic7\", \"Topic7\", \"Topic7\", \"Topic7\", \"Topic7\", \"Topic7\", \"Topic7\", \"Topic7\", \"Topic7\", \"Topic7\", \"Topic7\", \"Topic7\", \"Topic7\", \"Topic7\", \"Topic7\", \"Topic7\", \"Topic7\", \"Topic7\", \"Topic7\", \"Topic7\", \"Topic7\", \"Topic7\", \"Topic7\", \"Topic7\", \"Topic7\", \"Topic7\", \"Topic7\", \"Topic7\", \"Topic7\", \"Topic7\", \"Topic7\", \"Topic7\", \"Topic7\", \"Topic7\", \"Topic7\", \"Topic7\", \"Topic7\", \"Topic7\", \"Topic7\", \"Topic7\", \"Topic7\", \"Topic7\", \"Topic7\", \"Topic7\", \"Topic7\", \"Topic7\", \"Topic7\", \"Topic7\", \"Topic7\", \"Topic7\", \"Topic7\", \"Topic7\", \"Topic7\", \"Topic7\", \"Topic7\", \"Topic7\", \"Topic7\", \"Topic7\", \"Topic7\", \"Topic7\", \"Topic7\", \"Topic7\", \"Topic7\", \"Topic7\", \"Topic7\", \"Topic7\", \"Topic7\", \"Topic7\", \"Topic7\", \"Topic7\", \"Topic7\"], \"logprob\": [30.0, 29.0, 28.0, 27.0, 26.0, 25.0, 24.0, 23.0, 22.0, 21.0, 20.0, 19.0, 18.0, 17.0, 16.0, 15.0, 14.0, 13.0, 12.0, 11.0, 10.0, 9.0, 8.0, 7.0, 6.0, 5.0, 4.0, 3.0, 2.0, 1.0, -5.4035, -5.6778, -5.757, -6.3336, -6.377, -6.4347, -6.4973, -6.6255, -6.6783, -6.7296, -6.7985, -6.8446, -6.8419, -6.9498, -6.9443, -7.0066, -6.8849, -7.0336, -7.0575, -7.0784, -7.0934, -7.1315, -7.2196, -7.2401, -7.252, -7.2664, -7.281, -7.2854, -7.2518, -7.2914, -5.5159, -5.4006, -6.4886, -6.9183, -6.4097, -6.7528, -6.4722, -5.8936, -6.5864, -6.1136, -6.2534, -5.3876, -6.1301, -5.1185, -5.5619, -4.8649, -5.9598, -6.1421, -5.4528, -6.0356, -5.9743, -6.3695, -5.0463, -5.6126, -4.6089, -5.5728, -5.772, -5.9412, -6.1163, -5.2961, -5.6188, -5.7981, -5.5736, -5.3938, -5.4141, -5.5868, -5.7967, -6.0391, -5.9144, -5.9496, -5.9944, -5.8658, -6.3181, -6.3239, -6.3922, -5.7468, -6.695, -6.7116, -5.928, -6.7118, -6.7686, -6.7871, -6.5538, -6.9635, -5.8988, -6.9854, -6.9431, -7.0041, -7.0157, -7.0692, -7.0898, -6.9723, -7.1021, -7.1692, -7.0682, -7.2478, -7.2724, -7.2872, -7.3267, -7.3744, -7.4025, -6.1212, -6.8367, -5.6453, -6.2873, -5.4754, -6.784, -6.3882, -6.3098, -6.1464, -6.8285, -6.8527, -6.0124, -6.3332, -5.6531, -5.5384, -6.4228, -6.7476, -6.6997, -5.798, -6.5824, -5.9335, -6.368, -5.4619, -6.1151, -5.2153, -5.9392, -5.0858, -5.2841, -5.426, -5.9319, -5.4037, -5.2557, -5.6751, -5.5111, -5.9679, -5.8265, -5.9835, -5.8211, -5.9533, -6.0741, -5.8737, -6.2822, -6.8554, -6.8555, -7.042, -7.122, -6.7022, -7.1528, -7.1759, -6.9574, -7.17, -7.2558, -7.3652, -7.4156, -7.3682, -6.89, -7.4368, -7.5319, -7.532, -7.5347, -7.532, -7.5328, -7.5804, -7.6286, -7.6435, -7.6669, -7.6944, -7.707, -7.4783, -7.5321, -5.7462, -6.0568, -6.5426, -6.4297, -6.0524, -6.7497, -4.3636, -6.6878, -6.5695, -6.1843, -6.3639, -5.8829, -5.9395, -5.9758, -5.1379, -4.727, -6.2412, -6.2812, -6.4664, -5.2304, -5.1437, -5.0898, -5.4947, -5.7712, -5.575, -5.3762, -5.768, -6.4634, -6.1635, -5.2302, -6.1542, -6.009, -5.6416, -5.183, -5.6254, -5.8797, -5.4114, -6.0022, -5.8129, -6.0286, -5.923, -6.0578, -5.7316, -6.1646, -6.2736, -6.3452, -6.3463, -6.4979, -6.7175, -6.8454, -6.9534, -7.0505, -7.1089, -5.9708, -7.112, -7.1244, -7.1424, -7.1605, -7.185, -7.241, -7.3117, -7.3752, -7.3752, -7.3857, -7.451, -6.9417, -7.5275, -7.5509, -7.5784, -7.3331, -7.5922, -6.7899, -5.7814, -6.9161, -6.3229, -6.1757, -5.4867, -6.0133, -5.626, -4.7397, -5.1062, -5.8863, -5.0852, -5.8457, -5.3958, -5.9672, -6.3481, -5.4764, -6.6096, -4.9827, -5.2705, -5.415, -5.5173, -5.0894, -6.0808, -5.7244, -4.76, -5.1681, -5.1015, -5.1868, -5.1965, -5.6698, -5.0155, -4.8669, -5.5366, -5.6318, -5.5099, -5.5147, -5.3932, -5.3931, -5.6233, -5.7048, -5.7208, -6.1442, -6.2773, -6.3436, -6.1001, -6.4858, -6.4892, -6.5629, -6.6787, -6.6787, -6.6696, -6.7252, -6.4114, -6.8037, -6.8038, -6.9012, -6.297, -6.9119, -6.5752, -7.0264, -7.0341, -6.5022, -7.0798, -7.1873, -7.1169, -7.1669, -6.7817, -6.3355, -7.2731, -7.3153, -7.3681, -5.8446, -5.7635, -4.1713, -6.2232, -6.4641, -6.4288, -6.4525, -5.9541, -4.9861, -3.7679, -5.9808, -6.0442, -5.4141, -5.3343, -4.8269, -5.5555, -6.4256, -6.2126, -5.3323, -5.806, -5.9184, -6.0394, -6.1529, -5.633, -5.6697, -5.681, -5.9631, -6.1292, -5.926, -5.6217, -5.7416, -6.0789, -5.8423, -6.024, -6.1393, -6.0462, -5.6319, -6.2252, -6.2991, -6.3379, -6.3939, -6.4656, -6.7828, -6.7828, -6.879, -6.968, -7.0467, -7.1976, -7.2322, -7.25, -7.25, -7.25, -7.25, -7.25, -7.25, -7.25, -7.2501, -7.2503, -7.3421, -6.1114, -7.3744, -7.3744, -7.3744, -7.3839, -7.3766, -7.4062, -6.8489, -5.3818, -6.9091, -6.219, -6.8899, -6.1102, -6.2875, -5.92, -6.6355, -6.7551, -6.1252, -6.3977, -6.6586, -5.4347, -6.4465, -5.9029, -5.7108, -6.432, -5.3247, -5.9315, -4.8615, -6.0924, -5.8418, -5.4668, -5.8074, -5.7098, -5.6622, -5.4717, -5.7427, -5.9445, -5.8836, -5.6723, -5.7551, -5.9136, -5.7315, -5.7952, -5.9698, -5.9043, -6.0031, -6.0849, -6.1014, -6.2829, -6.4508, -6.5597, -6.7737, -6.7826, -6.9064, -6.9243, -6.9557, -6.9574, -7.154, -7.1803, -7.3057, -7.3057, -7.3057, -7.3202, -6.2828, -7.2698, -7.3815, -7.4158, -7.4683, -7.5214, -7.5224, -7.5791, -7.5794, -7.5818, -7.6399, -7.6401, -7.6401, -7.6404, -6.1051, -7.0443, -6.3859, -7.4464, -6.4273, -6.9961, -7.4032, -5.2894, -7.2718, -6.5012, -5.8139, -6.0035, -6.1729, -6.0386, -6.2974, -4.9366, -6.7003, -6.718, -6.6386, -6.4267, -6.11, -5.9496, -4.8267, -5.202, -5.5614, -6.1739, -5.7337, -5.5748, -6.4409, -5.8321, -5.8691, -5.7196, -6.3404, -5.7321, -6.036, -6.0991, -5.9844, -6.1239, -6.0913, -6.2137, -6.0331, -6.0612, -6.0755, -6.0821, -6.158], \"loglift\": [30.0, 29.0, 28.0, 27.0, 26.0, 25.0, 24.0, 23.0, 22.0, 21.0, 20.0, 19.0, 18.0, 17.0, 16.0, 15.0, 14.0, 13.0, 12.0, 11.0, 10.0, 9.0, 8.0, 7.0, 6.0, 5.0, 4.0, 3.0, 2.0, 1.0, 1.2093, 1.2085, 1.2058, 1.2053, 1.2047, 1.2046, 1.2041, 1.2031, 1.2023, 1.2014, 1.2014, 1.2009, 1.2009, 1.1997, 1.1997, 1.199, 1.1986, 1.1986, 1.1983, 1.198, 1.1978, 1.1973, 1.196, 1.1956, 1.1954, 1.1952, 1.1949, 1.1949, 1.1947, 1.1947, 1.1861, 1.1844, 1.1841, 1.1887, 1.1757, 1.1835, 1.1739, 1.152, 1.1696, 1.14, 1.1419, 1.0573, 1.1212, 1.0058, 1.0297, 0.9364, 1.0669, 1.0832, 0.9645, 1.0438, 1.024, 1.0968, 0.7387, 0.8756, 0.47, 0.8101, 0.8401, 0.9075, 0.9616, 0.4184, 0.5655, 0.648, 0.3646, 0.0883, 0.1026, 0.2816, 0.3876, 0.8134, 0.2061, 0.1141, 0.3357, 1.7391, 1.7379, 1.7375, 1.7369, 1.7337, 1.7325, 1.7322, 1.732, 1.732, 1.7313, 1.7302, 1.7288, 1.7274, 1.7273, 1.7267, 1.7265, 1.7265, 1.726, 1.725, 1.7245, 1.7244, 1.7242, 1.7224, 1.7218, 1.7202, 1.7195, 1.7189, 1.7179, 1.7164, 1.7154, 1.7091, 1.7124, 1.6944, 1.7033, 1.6749, 1.7083, 1.6957, 1.686, 1.614, 1.6948, 1.6961, 1.5703, 1.6126, 1.477, 1.3902, 1.5896, 1.6691, 1.6506, 1.3455, 1.6012, 1.3091, 1.5018, 1.0414, 1.3616, 0.8048, 1.2281, 0.4308, 0.5844, 0.6377, 0.9875, 0.0904, -0.1769, 0.3595, -0.0289, 0.8354, 0.4524, 0.7373, 0.1171, 0.1671, 0.5457, 1.7685, 1.7647, 1.757, 1.757, 1.7533, 1.7516, 1.7509, 1.7505, 1.7503, 1.7499, 1.7498, 1.7451, 1.7451, 1.7435, 1.7435, 1.7431, 1.7429, 1.7397, 1.7396, 1.7396, 1.7394, 1.739, 1.738, 1.7361, 1.7356, 1.7346, 1.7336, 1.733, 1.7326, 1.7325, 1.7209, 1.7143, 1.7022, 1.6981, 1.6639, 1.6935, 1.5514, 1.6894, 1.6811, 1.6466, 1.652, 1.6105, 1.5781, 1.5798, 1.4652, 1.3644, 1.5897, 1.5783, 1.6075, 1.3489, 1.3292, 1.3103, 1.3685, 1.4176, 1.3288, 1.2346, 1.346, 1.5938, 1.4564, 0.9627, 1.4321, 1.2137, 0.8427, 0.3111, 0.6535, 0.9581, 0.0708, 1.0792, 0.5696, 1.1157, 0.6831, 0.9559, 2.1832, 2.178, 2.1759, 2.1751, 2.1751, 2.1722, 2.1667, 2.1637, 2.1604, 2.1571, 2.155, 2.1549, 2.1546, 2.1544, 2.1537, 2.1531, 2.1521, 2.1497, 2.1467, 2.1438, 2.1438, 2.1431, 2.1399, 2.1379, 2.1359, 2.1346, 2.133, 2.1321, 2.132, 2.1317, 2.115, 2.1258, 2.1118, 2.1046, 2.0786, 2.0836, 1.9715, 1.8315, 1.8557, 1.9515, 1.8263, 1.9152, 1.7541, 1.853, 1.9441, 1.6409, 1.9976, 1.4425, 1.5304, 1.5709, 1.5434, 1.293, 1.7453, 1.5227, 0.9545, 1.1917, 1.0914, 1.1438, 0.8949, 1.3439, 0.5012, 0.2119, 1.0695, 1.2061, 0.9694, 0.9582, 0.6414, 0.089, 0.4404, 0.7296, 0.2174, 2.2591, 2.2569, 2.2553, 2.2548, 2.2525, 2.2524, 2.2507, 2.2477, 2.2477, 2.2476, 2.246, 2.2456, 2.2439, 2.2439, 2.2406, 2.24, 2.24, 2.238, 2.2361, 2.2357, 2.2345, 2.2341, 2.2293, 2.229, 2.2283, 2.2282, 2.2267, 2.225, 2.2233, 2.2206, 2.2016, 2.1797, 2.1198, 2.1898, 2.1834, 2.1776, 2.1788, 2.0982, 1.9624, 1.7262, 2.0871, 2.0852, 1.9152, 1.8943, 1.6575, 1.8408, 2.1491, 2.06, 1.3885, 1.4774, 1.5387, 1.5075, 1.6471, 0.6458, 0.7127, 0.7191, 1.2316, 1.4983, 0.9372, -0.1395, 0.1734, 1.3094, 0.1778, 0.9979, 1.4575, -0.9673, 2.4749, 2.465, 2.4633, 2.4622, 2.461, 2.459, 2.4487, 2.4487, 2.4433, 2.4408, 2.4372, 2.429, 2.4271, 2.4263, 2.4263, 2.4263, 2.4263, 2.4263, 2.4263, 2.4263, 2.4263, 2.4261, 2.4205, 2.4203, 2.4185, 2.4185, 2.4185, 2.4178, 2.4163, 2.4161, 2.4109, 2.3329, 2.3346, 2.1915, 2.3162, 2.1041, 2.1387, 1.9695, 2.2027, 2.2399, 1.9729, 2.0834, 2.174, 1.5956, 2.0022, 1.6492, 1.4565, 1.8958, 0.7996, 1.3462, 0.2174, 1.3726, 1.0033, 0.4714, 0.8927, 0.6525, 0.522, 0.045, 0.4416, 0.85, 0.7139, 0.1126, 0.265, 0.5313, -0.2493, -0.0807, 0.7612, 0.1304, 0.3271, 0.3612, 2.76, 2.7549, 2.7476, 2.7451, 2.7356, 2.7351, 2.7283, 2.7278, 2.7259, 2.7245, 2.7114, 2.7109, 2.7018, 2.7018, 2.7018, 2.7005, 2.699, 2.6986, 2.6953, 2.6924, 2.6874, 2.6825, 2.6823, 2.6767, 2.6763, 2.6733, 2.6703, 2.6702, 2.6702, 2.6701, 2.6695, 2.6677, 2.655, 2.6639, 2.6179, 2.6107, 2.6548, 2.3532, 2.6362, 2.4961, 2.2098, 2.2467, 2.1398, 2.0197, 2.121, 1.2562, 2.2872, 2.2888, 2.2058, 1.9718, 1.6829, 1.5114, 0.2522, 0.3147, 0.7687, 1.5184, 0.8374, 0.4598, 1.8511, 0.6023, 0.5561, -0.0051, 1.5445, -0.2499, 0.5615, 0.7534, 0.136, 0.7212, 0.2709, 1.0972, -0.2481, -0.123, -0.2071, -0.2808, 0.2018]}, \"token.table\": {\"Topic\": [5, 6, 1, 3, 3, 3, 2, 1, 3, 4, 7, 3, 5, 2, 3, 5, 7, 1, 2, 3, 4, 5, 6, 7, 2, 3, 3, 4, 5, 3, 2, 3, 1, 4, 6, 7, 1, 2, 3, 4, 6, 7, 1, 6, 1, 4, 2, 3, 5, 7, 2, 3, 5, 5, 1, 1, 1, 2, 3, 4, 7, 6, 3, 2, 4, 6, 1, 2, 3, 4, 5, 6, 7, 7, 1, 7, 1, 2, 3, 4, 5, 6, 7, 1, 1, 1, 2, 4, 5, 6, 7, 2, 3, 1, 2, 4, 5, 6, 7, 1, 5, 4, 1, 2, 3, 4, 7, 1, 2, 3, 6, 7, 2, 2, 2, 4, 7, 2, 4, 1, 6, 7, 7, 2, 5, 6, 7, 2, 4, 4, 2, 6, 7, 6, 1, 2, 3, 5, 6, 7, 4, 1, 6, 1, 4, 1, 5, 6, 1, 7, 1, 6, 3, 4, 7, 1, 2, 3, 4, 7, 2, 3, 4, 4, 3, 1, 5, 3, 4, 5, 7, 2, 3, 5, 3, 4, 7, 2, 3, 2, 3, 4, 5, 7, 3, 5, 1, 2, 3, 4, 5, 6, 7, 5, 1, 2, 4, 5, 6, 7, 6, 4, 2, 3, 4, 5, 7, 3, 7, 1, 2, 5, 6, 3, 5, 6, 2, 3, 5, 2, 3, 5, 6, 7, 2, 1, 2, 3, 5, 1, 2, 3, 5, 4, 5, 4, 1, 6, 2, 3, 4, 7, 1, 1, 7, 1, 5, 6, 1, 2, 4, 5, 6, 3, 4, 1, 2, 3, 5, 6, 7, 2, 3, 5, 6, 7, 7, 1, 4, 6, 2, 4, 6, 7, 1, 6, 2, 2, 3, 7, 1, 2, 3, 4, 5, 6, 7, 1, 2, 4, 5, 6, 7, 1, 1, 3, 3, 5, 7, 1, 2, 3, 4, 5, 3, 4, 4, 1, 2, 3, 4, 5, 6, 7, 5, 1, 2, 3, 4, 5, 6, 7, 2, 3, 5, 7, 2, 2, 2, 2, 6, 3, 4, 3, 4, 6, 1, 2, 4, 2, 4, 3, 5, 2, 5, 7, 7, 1, 2, 3, 4, 5, 6, 7, 7, 1, 1, 6, 4, 4, 3, 4, 6, 7, 7, 1, 7, 1, 2, 7, 1, 4, 1, 2, 3, 4, 5, 6, 7, 1, 1, 2, 3, 4, 7, 2, 3, 4, 5, 4, 7, 1, 7, 1, 2, 3, 4, 5, 7, 3, 3, 2, 4, 5, 3, 5, 1, 3, 4, 6, 1, 2, 5, 7, 1, 6, 3, 1, 5, 6, 3, 4, 1, 2, 3, 1, 4, 6, 7, 1, 2, 3, 4, 5, 6, 7, 5, 2, 2, 7, 1, 2, 3, 4, 5, 2, 5, 5, 5, 7, 1, 2, 3, 4, 5, 6, 7, 1, 2, 5, 6, 7, 1, 2, 3, 4, 5, 6, 7, 3, 1, 2, 3, 4, 5, 6, 7, 3, 5, 7, 4, 1, 4, 1, 2, 3, 4, 5, 6, 7, 1, 2, 4, 5, 6, 7, 1, 6, 1, 2, 4, 7, 2, 2, 3, 5, 3, 3, 1, 3, 4, 5, 7, 2, 4, 7, 1, 2, 3, 4, 5, 6, 7, 2, 1, 2, 5, 6, 7, 2, 4, 5, 6, 1, 1, 2, 3, 2, 1, 5, 1, 2, 3, 4, 5, 6, 1, 3, 4, 2, 4, 2, 3, 5, 2, 3, 5, 5, 2, 3, 4, 3, 1, 2, 3, 5, 1, 2, 4, 1, 2, 3, 4, 5, 6, 7, 1, 2, 3, 4, 5, 6, 7, 2, 3, 5, 7, 3, 1, 2, 3, 5, 6, 7, 1, 2, 3, 4, 5, 6, 7, 7, 1, 2, 4, 6, 7, 3, 7, 6, 6, 6, 5, 3, 4, 5, 7, 7, 2, 2, 3, 2, 3, 5, 1, 2, 3, 4, 5, 6, 7, 4, 7, 6, 5, 3, 4, 5, 7, 7, 3, 1, 3, 7, 5, 1, 2, 3, 5, 1, 2, 3, 4, 5, 6, 7, 1, 3, 6, 3, 4, 6, 7, 2, 3, 1, 2, 3, 1, 2, 3, 4, 5, 6, 7, 7, 3, 1, 2, 3, 4, 5, 6, 7, 4, 1, 6, 7, 3, 4, 1, 5, 4, 2, 6, 2, 3, 1, 2, 4, 5, 6, 7, 3, 4, 5, 2, 3, 4, 5, 7, 2, 3, 4, 5, 7, 3, 5, 6, 1, 3, 4, 5, 1, 2, 3, 4, 5, 6, 7, 4, 1, 5, 2, 3, 6, 4, 7, 2, 5, 6, 1, 6, 2, 1, 2, 5, 6, 1, 1, 7, 1, 3, 5, 6, 3, 1, 2, 3, 5, 7, 7, 7, 1, 5, 7, 1, 2, 3, 4, 5, 6, 7, 1, 6, 3, 4, 3, 6, 2, 5, 1, 1, 2, 4, 5, 6, 7, 2, 4, 5, 1, 7, 2, 3, 5, 2, 3, 5, 2, 3, 5, 1, 2, 3, 5, 7, 3, 4, 1, 5, 4, 1, 2, 3, 4, 5, 6, 7, 7, 1, 2, 3, 4, 5, 6, 7, 2, 2, 3, 1, 3, 5, 5, 2, 2, 3, 4, 5, 7, 1, 2, 3, 4, 5, 2, 2, 3, 4, 6, 7, 6, 1, 2, 4, 5, 6, 7, 6, 2, 3, 4, 5, 2, 3, 5, 7, 4, 3, 5, 6, 3, 2, 1, 3, 7, 6, 2, 3, 7, 6, 2, 3, 4, 5, 7, 6, 6, 6, 6, 7, 2, 3, 5, 7, 4, 5, 2, 3, 4, 5, 7, 1, 2, 3, 4, 5, 5, 4, 7, 1, 2, 3, 5, 5, 4, 2, 1, 2, 3, 4, 6, 7, 6, 1, 2, 3, 4, 6, 7, 1, 2, 4, 5, 6, 7, 6, 6, 1, 2, 3, 4, 5, 6, 7, 2, 6, 2, 7, 6, 2, 3, 7, 4, 6, 7, 2, 3, 4, 1, 2, 4, 6, 7, 6, 1, 2, 4, 6, 4, 3, 6, 1, 2, 7, 2, 3, 4, 5, 6, 7, 5, 2, 3, 5, 3, 5, 1, 2, 3, 4, 5, 7, 2, 5, 6, 2, 3, 5, 5, 6, 2, 3, 1, 2, 3, 4, 4, 3, 4, 5, 4, 2, 3, 3, 6, 2, 3, 1, 2, 3, 4, 6, 7, 7, 1, 2, 3, 4, 5, 6, 7, 2, 6, 1, 2, 3, 4, 5, 7, 7, 3, 4, 1, 3, 1, 2, 3, 4, 5, 6, 7, 3, 1, 2, 3, 4, 5, 6, 7, 7, 6, 1, 2, 3, 4, 5, 6, 7, 1, 2, 3, 4, 5, 6, 7, 6, 6], \"Freq\": [0.9100912917017717, 0.08273557197288833, 0.9773501790110549, 0.013765495479028944, 0.9869146320873707, 0.9444029327654153, 0.985556212951415, 0.11029677135567764, 0.012255196817297516, 0.7108014154032559, 0.15931755862486768, 0.03064748640238639, 0.9500720784739781, 0.1318755605624327, 0.1318755605624327, 0.15071492635706593, 0.5840203396336304, 0.3253016163353069, 0.16915684049435958, 0.18216890514777187, 0.12184024175467859, 0.0899015376053939, 0.06506032326706138, 0.04849951370817303, 0.1693266817780882, 0.8184122952607598, 0.8529958325494427, 0.09477731472771585, 0.047388657363857924, 0.9320968065339842, 0.0753925496046319, 0.9047105952555828, 0.1501589949641361, 0.7623456667409987, 0.04620276768127265, 0.04620276768127265, 0.25515915848063, 0.08201544379734535, 0.02430087223625047, 0.4708293995773529, 0.05771457156109487, 0.10631631603359581, 0.23745266724937644, 0.7462798113551831, 0.04318384838581196, 0.9500446644878632, 0.14919518468632728, 0.3356891655442364, 0.4662349521447728, 0.04662349521447728, 0.0994169151886038, 0.8947522366974341, 0.9621907494884455, 0.9686619407225368, 0.986752239985139, 0.9780908762900471, 0.265298319683115, 0.11125413406066113, 0.13692816499773677, 0.20539224749660517, 0.2824143403078321, 0.9700292517747447, 0.9743899938427996, 0.36648318973584004, 0.06108053162264001, 0.5497247846037601, 0.03189397340894552, 0.13466344328221444, 0.6520545674717751, 0.11694456916613359, 0.0035437748232161692, 0.0070875496464323385, 0.05315662234824254, 0.8866558080804442, 0.08308712215801844, 0.8724147826591937, 0.2812476611088858, 0.2636696822895805, 0.004394494704826341, 0.18896327230753268, 0.04394494704826341, 0.19335776701235902, 0.021972473524131706, 0.9921606927259691, 0.9887756966973331, 0.7805078249081362, 0.05123024333373866, 0.024108349804112313, 0.03616252470616847, 0.07835213686336502, 0.027121893529626354, 0.9660125663630265, 0.9546100910781137, 0.25268036265751387, 0.3989689936697587, 0.21721645210909085, 0.02216494409276437, 0.031030921729870122, 0.07536080991539887, 0.9735261882190085, 0.024037683659728606, 0.9290504537577894, 0.2854305616996073, 0.015022661142084595, 0.10515862799459216, 0.03004532228416919, 0.55583846225713, 0.4005142901235823, 0.07231508016120236, 0.11125396947877286, 0.4116396870714596, 0.005562698473938643, 0.9629551566558117, 0.988170510204351, 0.9123793326516181, 0.022253154454917514, 0.04450630890983503, 0.992883501770786, 0.9657961548812779, 0.05170967101780023, 0.9307740783204043, 0.885333220759758, 0.9735395119043568, 0.04900566255629581, 0.04900566255629581, 0.8330962634570288, 0.04900566255629581, 0.06613663050866184, 0.9259128271212658, 0.9486660325020023, 0.5932918442214866, 0.35725100297207796, 0.044656375371509745, 0.969326585769184, 0.9903394144732363, 0.043641189910715666, 0.5174598232270572, 0.23690931665817075, 0.18703367104592428, 0.012468911403061618, 0.9381133001354803, 0.8580500829268372, 0.14249207153297658, 0.9931298113786765, 0.005199632520307207, 0.9295823024053779, 0.024040921613932186, 0.04006820268988698, 0.9971305575653456, 0.839389669572161, 0.972861532981552, 0.024945167512347488, 0.9762793457344127, 0.081274229692597, 0.894016526618567, 0.006068608278212539, 0.024274433112850154, 0.32163623874526454, 0.5765177864301911, 0.07282329933855046, 0.056427852717167805, 0.29467878641187634, 0.6457854255409204, 0.988819633578709, 0.9420377445026032, 0.17342208590864922, 0.8093030675736963, 0.17941699824755597, 0.08201919919888273, 0.7330465928400144, 0.005126199949930171, 0.06280540638323258, 0.109909461170657, 0.8321716345778316, 0.4212001753969457, 0.060171453628135106, 0.5214859314438376, 0.0685556517756236, 0.9140753570083147, 0.07112663347844103, 0.443173639365671, 0.42675980087064613, 0.03829895648839132, 0.021885117993366468, 0.9810474266420207, 0.9472671971682121, 0.009699710049371998, 0.009699710049371998, 0.7080788336041559, 0.06789797034560399, 0.16489507083932398, 0.03879884019748799, 0.009699710049371998, 0.9832433929929337, 0.2877464455064304, 0.24869514218770059, 0.21169917062258808, 0.05754928910128609, 0.09454526066639857, 0.09865592417363328, 0.9403571794577322, 0.9873534198012032, 0.05835687820001318, 0.7987597703626804, 0.00911826221875206, 0.1221847137312776, 0.00911826221875206, 0.9670961811399232, 0.027631319461140665, 0.3436716089004043, 0.09450969244761119, 0.22338654578526282, 0.3264880284553841, 0.9774919899788274, 0.9186713462840019, 0.941215704202829, 0.022173393443285505, 0.04434678688657101, 0.9091091311747057, 0.04637458849473312, 0.030916392329822077, 0.834742592905196, 0.07729098082455518, 0.9364263252650731, 0.9604180750893418, 0.04660090994098766, 0.07766818323497943, 0.8388163789377778, 0.03106727329399177, 0.144912733722, 0.05966994917964706, 0.3153983028067059, 0.4773595934371765, 0.9473920852559069, 0.9340509738474708, 0.9050097416021944, 0.30899228801330125, 0.6906886437944381, 0.039289376941893134, 0.31431501553514507, 0.2357362616513588, 0.39289376941893134, 0.9779916086467547, 0.9722812596080304, 0.8871948247528697, 0.11903528602087952, 0.039678428673626503, 0.7935685734725302, 0.10508723444379965, 0.052543617221899826, 0.17076675597117444, 0.06567952152737479, 0.5911156937463731, 0.036870645758760937, 0.9586367897277842, 0.20361773863904567, 0.49262356122349754, 0.16420785374116587, 0.0952405551698762, 0.009852471224469951, 0.03284157074823317, 0.08917255581597994, 0.33439708430992476, 0.04458627790798997, 0.022293138953994984, 0.5127421959418846, 0.8737381019637833, 0.2021990650891686, 0.08986625115074161, 0.6964634464182474, 0.6780574544414654, 0.008693044287711095, 0.2694843729190439, 0.03477217715084438, 0.9540392386114587, 0.03448334597390815, 0.9831802783175552, 0.11930571618072991, 0.11930571618072991, 0.7556028691446228, 0.5227714215975577, 0.11935420584419126, 0.03341917763637355, 0.13606379466237803, 0.021483757051954426, 0.1408379628961457, 0.023870841168838253, 0.4050759274566475, 0.14730033725696273, 0.03682508431424068, 0.051555118039936954, 0.16939538784550714, 0.1841254215712034, 0.9864760332171403, 0.9690779814183804, 0.029072339442551415, 0.9839603529000533, 0.0954953070924003, 0.8912895328624029, 0.9967548958598654, 0.015585085023227216, 0.23897130368948397, 0.7117188827273762, 0.03117017004645443, 0.3062799488178068, 0.6915998844273056, 0.9524240280713082, 0.41706222863960074, 0.03866802119837358, 0.04143002271254312, 0.1878161029635288, 0.06628803634006898, 0.11600406359512073, 0.13257607268013796, 0.9855511720053274, 0.24511592885308095, 0.38894428379993007, 0.028360520693744902, 0.0627982958218637, 0.12357084016560278, 0.1073648283406057, 0.044566532518741986, 0.14043164639968672, 0.7222198957698175, 0.05015415942845955, 0.08024665508553527, 0.9743982493170579, 0.9828136475858876, 0.9737845802404944, 0.30853772380789657, 0.664542789740085, 0.4836965613033097, 0.5113363648063559, 0.9451982882560834, 0.05834557334914096, 0.9410943979780982, 0.05941380611850355, 0.8466467371886756, 0.08912070917775532, 0.9350143796082495, 0.058438398725515595, 0.9287441075861176, 0.9748471509044664, 0.10425850387388788, 0.886197282928047, 0.9452983630752754, 0.9663244941947936, 0.42927470790924294, 0.195973236219437, 0.02799617660277671, 0.1381144712403651, 0.02239694128222137, 0.13251523591980977, 0.054125941432034974, 0.94606339706149, 0.9826754262516145, 0.979567625616881, 0.016326127093614685, 0.9748100174134295, 0.9497626929268559, 0.4430242569359537, 0.3322681927019653, 0.0072232215804775065, 0.2166966474143252, 0.9290537438105588, 0.9576495648068359, 0.030891921445381804, 0.9433507504969105, 0.022595227556812227, 0.033892841335218346, 0.16155496950343717, 0.8347006757677587, 0.19901518064985263, 0.10614142967992139, 0.04422559569996725, 0.5174394696896168, 0.04422559569996725, 0.013267678709990174, 0.0707609531199476, 0.9945444356508589, 0.013052246654728265, 0.043507488849094215, 0.6634892049486868, 0.27409717974929354, 0.006526123327364132, 0.1560353303573099, 0.7330031798180605, 0.10523312977586016, 0.0036287286129606956, 0.936097391374086, 0.9475017684778624, 0.9880735859291341, 0.9303982070756639, 0.0585097944628417, 0.1279901753874662, 0.5814410824744894, 0.054852932308914096, 0.10239214030997297, 0.07679410523247973, 0.981907152414476, 0.95693951604233, 0.05824837839082281, 0.9125579281228907, 0.01941612613027427, 0.9336001185028965, 0.0666857227502069, 0.02549564318907591, 0.8158605820504291, 0.11473039435084159, 0.03824346478361386, 0.9807608278914052, 0.9889535120589182, 0.9649799651864853, 0.9779482838368018, 0.8138195801582573, 0.18434587174855552, 0.9355545866513254, 0.15480578795735409, 0.08846045026134519, 0.7519138272214342, 0.6532651821846204, 0.3447788461529941, 0.9852164470945868, 0.9600209779021737, 0.02400052444755434, 0.24272476255946626, 0.14563485753567976, 0.5987210809800168, 0.01618165083729775, 0.4521682706574496, 0.10296901212991426, 0.016415349759841404, 0.2895070775826575, 0.0014923045236219458, 0.07610753070471923, 0.06118448546849978, 0.9594349621778115, 0.9832014543500971, 0.9697184152341173, 0.972562614294455, 0.01062418426235665, 0.08233742803326403, 0.0212483685247133, 0.029216506721480788, 0.8552468331197103, 0.06145420521364931, 0.9218130782047397, 0.9824406497298593, 0.12517272757193978, 0.8344848504795986, 0.23433669367140697, 0.24371016141826327, 0.01874693549371256, 0.01874693549371256, 0.01874693549371256, 0.4311795163553888, 0.03749387098742512, 0.8323144111278811, 0.07175124233861044, 0.003587562116930522, 0.08968905292326304, 0.003587562116930522, 0.3293830844412629, 0.2669349903650383, 0.026938393523077264, 0.18367086493007226, 0.02081603135874152, 0.08693754273356753, 0.08448859786783323, 0.9748683843490157, 0.02697260940424143, 0.10114728526590537, 0.5731679498401304, 0.09440413291484501, 0.047202066457422504, 0.1416061993722675, 0.020229457053181073, 0.2756843266987135, 0.11815042572802006, 0.5907521286401003, 0.9381325093615093, 0.9782756762147503, 0.9370913843117029, 0.1991596989577149, 0.46802529255063, 0.11949581937462894, 0.029873954843657236, 0.014936977421828618, 0.07966387958308596, 0.09460085700491458, 0.1490994798373673, 0.10322271681048505, 0.5218481794307855, 0.0860189306754042, 0.0573459537836028, 0.08028433529704393, 0.9319016074704716, 0.06259040647189734, 0.878912602617045, 0.020282598521931806, 0.06084779556579542, 0.033804330869886344, 0.9915256307383318, 0.762234976908651, 0.043029393857746435, 0.19670580049255512, 0.9796663608770867, 0.941845936670218, 0.06424587627155279, 0.440543151576362, 0.37170828414255547, 0.027533946973522624, 0.09636881440732918, 0.8954676314051897, 0.020824828637329994, 0.06247448591198998, 0.4392402391610793, 0.15277921362124497, 0.11935876064159763, 0.10264853415177395, 0.03342045297964734, 0.12890746149292542, 0.023871752128319525, 0.9848124041073653, 0.21468053502449555, 0.10734026751224778, 0.07156017834149851, 0.2623873205854946, 0.33394749892699305, 0.24418163250402822, 0.04747976187578327, 0.6850651356363014, 0.020348469375335684, 0.9910486841932209, 0.9858848598179862, 0.9861310091639768, 0.008726823089946698, 0.9867703301405023, 0.9775734826001292, 0.9850864028439997, 0.7759087771317481, 0.07584070753919342, 0.005833900579937956, 0.08167460811913138, 0.005833900579937956, 0.0525051052194416, 0.039300645453493786, 0.15720258181397515, 0.7860129090698758, 0.8636937426489091, 0.12338482037841558, 0.6465733303472695, 0.15820411274454466, 0.19259631116727177, 0.8773783214224473, 0.11544451597663781, 0.01154445159766378, 0.9620283394522239, 0.18710865624649722, 0.024947820832866296, 0.7858563562352883, 0.953337926073348, 0.0062722168620499424, 0.9282880955833915, 0.0062722168620499424, 0.05644995175844948, 0.989447417404457, 0.9716806068273459, 0.9651774655604541, 0.33431937279892493, 0.32797153660654027, 0.025391344769538603, 0.17350752259184712, 0.014811617782230852, 0.06982619811623116, 0.05501458033400031, 0.6884072189295194, 0.04760262684087103, 0.014646962104883391, 0.04394088631465018, 0.06957306999819611, 0.058587848419533566, 0.0768965510506378, 0.09183118792480667, 0.6280068335502907, 0.210323043311654, 0.0681328168474372, 0.9788008551478384, 0.03934371059242128, 0.1049165615797901, 0.439338101615371, 0.35409339533179157, 0.01967185529621064, 0.045900995691158165, 0.35371038232538154, 0.17409182880077373, 0.03592371070492156, 0.3509470199634645, 0.030396985981087477, 0.05250388487642382, 0.0027633623619170433, 0.8899247845653465, 0.4992133566160736, 0.12018099325942512, 0.027734075367559643, 0.2264949488350704, 0.1248033391540184, 0.14631965915704204, 0.8047581253637311, 0.969349085439976, 0.9410943979780982, 0.9550208399272458, 0.9400788717347576, 0.8299586850135146, 0.08671210141932242, 0.012387443059903202, 0.06193721529951601, 0.9368891375806723, 0.9720323635052602, 0.06417899808048298, 0.9198989724869227, 0.6984645751618417, 0.18592222504308015, 0.11054835002561522, 0.7375987023938345, 0.05566782659576109, 0.07422376879434812, 0.03711188439717406, 0.027833913297880545, 0.04175086994682082, 0.023194927748233788, 0.07831662582684129, 0.9006411970086747, 0.9357297828156116, 0.9879640228376609, 0.6974569138096774, 0.241176689822038, 0.03910973348465481, 0.019554866742327405, 0.87367948566764, 0.935222382396983, 0.9159309093235642, 0.055510964201428134, 0.027755482100714067, 0.9581343527086756, 0.9858190644613025, 0.984377286120344, 0.025100441932165162, 0.9538167934222761, 0.7584857374102623, 0.056967812895620557, 0.04231894672246098, 0.03255303594035461, 0.011393562579124111, 0.052084857504567365, 0.047201902113514174, 0.8947719722396659, 0.04301788328075317, 0.051621459936903806, 0.15296302768187311, 0.37148163865597755, 0.021851861097410444, 0.43703722194820893, 0.9412852634535104, 0.04786196254848358, 0.10303230317478308, 0.785621311707721, 0.10303230317478308, 0.1934638312745242, 0.0028450563422724147, 0.22191439469724836, 0.3670122681531415, 0.04267584513408622, 0.09388685929498969, 0.0768165212413552, 0.839979042384273, 0.9629808393136422, 0.39360179920539096, 0.19680089960269548, 0.04563499121221924, 0.06845248681832886, 0.054191552064510345, 0.15972246924276734, 0.07986123462138367, 0.9430680470341676, 0.9828031866200204, 0.8650343696880383, 0.10176874937506332, 0.033271578814038014, 0.9648757856071023, 0.9916727463277669, 0.9566981972902695, 0.9883814175479169, 0.9475366741933744, 0.04548176036128197, 0.9815676608119521, 0.010442209157573958, 0.3716977506570668, 0.1263050609028868, 0.19126194936722854, 0.03608716025796765, 0.16960965321244795, 0.10826148077390295, 0.8485976566946155, 0.08839558923902245, 0.06187691246731571, 0.04947564709594127, 0.2997642147577618, 0.40744650549598693, 0.20954391711222187, 0.034923986185370307, 0.010785503523209831, 0.3451361127427146, 0.032356510569629494, 0.33435060921950477, 0.28042309160345563, 0.025738961160184017, 0.9523415629268086, 0.9411828836006495, 0.11096275183499689, 0.13562114113166288, 0.6411181217133154, 0.11096275183499689, 0.7149267449316793, 0.07440414087524264, 0.019409775880498078, 0.10675376734273943, 0.01293985058699872, 0.04205451440774584, 0.02911466382074712, 0.991883642590257, 0.04027512795025322, 0.9666030708060772, 0.2137443955042266, 0.4559880437423501, 0.3206165932563399, 0.9148987445352909, 0.041586306569785944, 0.08822666782865331, 0.044113333914326654, 0.8602100113293698, 0.3676354509615373, 0.6203848234975943, 0.9898769414014746, 0.8296457074820219, 0.06464771746613159, 0.021549239155377195, 0.08080964683266448, 0.9888028604578971, 0.9814576334528313, 0.839937752375277, 0.03622436589816707, 0.8241043241833009, 0.10867309769450122, 0.027168274423625304, 0.969323629323314, 0.0329487796544313, 0.02353484261030807, 0.6636825616106876, 0.2635902372354504, 0.018827874088246457, 0.972006400694322, 0.8868596408451515, 0.9952279011796812, 0.9822178610683668, 0.8737394770012646, 0.35588676748868703, 0.24392239120011133, 0.003998727724591989, 0.12396055946235165, 0.031989821796735915, 0.20393511395419145, 0.03998727724591989, 0.04993427369589129, 0.9237840633739889, 0.06797638171357065, 0.9290105500854655, 0.9416673650096293, 0.9654117440110153, 0.08070732914909512, 0.9146830636897446, 0.9826412061281323, 0.544333421681334, 0.15670204563553558, 0.00412373804304041, 0.02886616630128287, 0.17732073585073763, 0.0865984989038486, 0.0667843957296904, 0.08348049466211299, 0.8348049466211299, 0.9752975777669738, 0.972252188886288, 0.06767265136567933, 0.39314587936251805, 0.5381587037175452, 0.1950483233920438, 0.10502602028802359, 0.6976728490561567, 0.9592125754760777, 0.04360057161254899, 0.9632525593154617, 0.26345997482891137, 0.09367465771694627, 0.49764661912127706, 0.09952932382425542, 0.04683732885847314, 0.0969740834673648, 0.8889290984508441, 0.9898723546111554, 0.9761259004276748, 0.9821766008225754, 0.1436550374282049, 0.07182751871410245, 0.07182751871410245, 0.010261074102014635, 0.04104429640805854, 0.02052214820402927, 0.646447668426922, 0.9463704272842137, 0.09313330110565576, 0.03921402151817085, 0.6421296023600476, 0.10293680648519847, 0.07352629034657034, 0.0441157742079422, 0.004901752689771356, 0.9660129514576674, 0.9655737886454224, 0.9839441020940198, 0.013858930295674983, 0.06929465147837491, 0.9146893995145489, 0.9632525593154617, 0.9870498095136602, 0.04042831664584692, 0.20214158322923462, 0.1617132665833877, 0.4548185622657779, 0.12128494993754077, 0.08597719439146498, 0.2794258817722612, 0.021494298597866245, 0.15762485638435247, 0.45138027055519114, 0.9590223889169727, 0.019115355862584445, 0.6403644213965789, 0.28991623058253074, 0.0031858926437640742, 0.04460249701269704, 0.9693594145773157, 0.5676241885451515, 0.11786731783997682, 0.1271726324062908, 0.015508857610523267, 0.11786731783997682, 0.049628344353674456, 0.9410943979780982, 0.19032904796402442, 0.2310283412393504, 0.0011970380375095875, 0.5769723340796212, 0.8312615809344456, 0.019331664672894083, 0.14498748504670564, 0.918993441909238, 0.974740761954788, 0.033732271167922094, 0.20239362700753255, 0.742109965694286, 0.9949247973155386, 0.9606984810776726, 0.9729270957840295, 0.02115058903878325, 0.9185350161264162, 0.965693681130931, 0.2389054767278733, 0.17064676909133808, 0.5460696610922818, 0.9075355789728085, 0.13211602353657034, 0.19216876150773868, 0.036031642782701004, 0.5284640941462814, 0.09608438075386934, 0.9693619990279996, 0.9252351692120211, 0.9615887474146726, 0.9550208399272458, 0.8472140852089277, 0.6665370181673608, 0.20556749158432622, 0.0685224971947754, 0.056063861341179876, 0.9816635080529178, 0.9598211604390863, 0.2728832643872746, 0.32536081523098126, 0.14956101990456397, 0.19679081566389994, 0.05247755084370665, 0.0992990588690784, 0.2592808759359269, 0.35306332042338984, 0.005516614381615466, 0.28134733346238877, 0.9677879913151847, 0.9830624114780673, 0.9311538466478736, 0.07219444355031991, 0.07219444355031991, 0.21658333065095972, 0.6497499919528792, 0.9619245221024462, 0.9496257936182022, 0.9730005843261222, 0.04217602149316042, 0.031632016119870314, 0.04569068995092379, 0.695904354637147, 0.04217602149316042, 0.1441014067682981, 0.9748100226348637, 0.6696916090428703, 0.13976172710459903, 0.04658724236819967, 0.05532235031223711, 0.043675539720187194, 0.043675539720187194, 0.6228998033658838, 0.11689379343370054, 0.08326681176099217, 0.035228266514265916, 0.09287452081033742, 0.04803854524672625, 0.9410943979780982, 0.9796326260444652, 0.3951236194007837, 0.3115732505407061, 0.03655328637628396, 0.09399416496758732, 0.05047834785296356, 0.06092214396047326, 0.05047834785296356, 0.8754586870749618, 0.12506552672499455, 0.9790788493582011, 0.02018719277027219, 0.9795093235332131, 0.04471610973253683, 0.8794168247398909, 0.059621479643382436, 0.24090145471652824, 0.12045072735826412, 0.6022536367913206, 0.05621570350605334, 0.9369283917675556, 0.9865869772963843, 0.6705702463447275, 0.027940426931030316, 0.08382128079309094, 0.08382128079309094, 0.1303886590114748, 0.9601933192503767, 0.8646640059533114, 0.016628153960640605, 0.016628153960640605, 0.09976892376384362, 0.9460326215985664, 0.9579789542329306, 0.9704537992028915, 0.5622182398065719, 0.13074842786199348, 0.2876465412963856, 0.05570545563476306, 0.23077974477258983, 0.08753714456891339, 0.3819802672098039, 0.07162130010183822, 0.1671163669042892, 0.9544496039362264, 0.02582962986858368, 0.9470864285147349, 0.02582962986858368, 0.8795916700308877, 0.11149753563771816, 0.08371458680445949, 0.12739176252852533, 0.33485834721783797, 0.3239390532868215, 0.05823623429875443, 0.06915552822977089, 0.4998831322996729, 0.4410733520291231, 0.049008150225458125, 0.9397237307639096, 0.02539793866929485, 0.9880875857428544, 0.9250571878486374, 0.05606407199082651, 0.9657081788545733, 0.03714262226363743, 0.0798198261616316, 0.05321321744108773, 0.3299219481347439, 0.537453496154986, 0.9970013722104903, 0.14715047013112612, 0.8044225700501562, 0.049050156710375374, 0.9589497990613869, 0.9746817310589319, 0.9820871383030315, 0.9744132774565527, 0.8890170207158977, 0.9407263888623462, 0.049511915203281374, 0.41360331959563573, 0.13145531863117105, 0.04168095468793229, 0.29497291009921306, 0.057712091106367776, 0.060918318390054876, 0.8870122272545394, 0.36503659013144807, 0.20603292203738174, 0.05822669535839049, 0.16124315637708136, 0.07614260162251064, 0.06046618364140551, 0.0716636250564806, 0.9654349183916794, 0.02540618206293893, 0.13995474802198307, 0.09330316534798871, 0.04665158267399436, 0.1555052755799812, 0.09330316534798871, 0.4665158267399436, 0.8870677903416584, 0.10448662537521324, 0.8928857077518222, 0.8472144950183752, 0.1519143232446742, 0.21152178601186541, 0.18699752096701147, 0.05824512948152816, 0.23298051792611263, 0.11649025896305631, 0.08276939452638213, 0.11342472583244957, 0.9418466134583214, 0.47655890395021033, 0.14541764233306584, 0.01817720529163323, 0.1383048228711224, 0.03872535040391427, 0.10353103883495449, 0.07903132735492709, 0.9525553066206225, 0.9410943979780982, 0.08164768529000538, 0.3633321995405239, 0.004082384264500269, 0.04082384264500269, 0.41232081071452714, 0.03265907411600215, 0.06940053249650457, 0.30256921577039586, 0.298879347285391, 0.0405885533350531, 0.02951894788003862, 0.14390487091518828, 0.10331631758013517, 0.07748723818510138, 0.9410943979780982, 0.9410943979780982], \"Term\": [\"abort\", \"abort\", \"absolute\", \"absolute\", \"abstracts\", \"accessible\", \"additives\", \"advance\", \"advance\", \"advance\", \"advance\", \"aerospace\", \"aerospace\", \"allen\", \"allen\", \"allen\", \"allen\", \"also\", \"also\", \"also\", \"also\", \"also\", \"also\", \"also\", \"analysis\", \"analysis\", \"anonymous\", \"anonymous\", \"anonymous\", \"ansi\", \"antenna\", \"antenna\", \"anybody\", \"anybody\", \"anybody\", \"anybody\", \"anyone\", \"anyone\", \"anyone\", \"anyone\", \"anyone\", \"anyone\", \"appeared\", \"appeared\", \"apple\", \"apple\", \"april\", \"april\", \"april\", \"april\", \"archive\", \"archive\", \"ariane\", \"arianespace\", \"arrogance\", \"arrogant\", \"article\", \"article\", \"article\", \"article\", \"article\", \"asleep\", \"astronomical\", \"auto\", \"auto\", \"auto\", \"available\", \"available\", \"available\", \"available\", \"available\", \"available\", \"available\", \"awfully\", \"babylon\", \"babylon\", \"back\", \"back\", \"back\", \"back\", \"back\", \"back\", \"back\", \"belief\", \"beliefs\", \"believe\", \"believe\", \"believe\", \"believe\", \"believe\", \"believe\", \"belt\", \"beta\", \"better\", \"better\", \"better\", \"better\", \"better\", \"better\", \"bible\", \"bible\", \"bios\", \"black\", \"black\", \"black\", \"black\", \"black\", \"body\", \"body\", \"body\", \"body\", \"body\", \"boiling\", \"brake\", \"brakes\", \"brakes\", \"brakes\", \"braking\", \"bugs\", \"buried\", \"buried\", \"burst\", \"bursts\", \"buying\", \"buying\", \"buying\", \"buying\", \"card\", \"card\", \"cards\", \"cars\", \"cars\", \"cars\", \"caste\", \"catholic\", \"center\", \"center\", \"center\", \"center\", \"center\", \"centris\", \"christ\", \"christ\", \"christian\", \"christian\", \"christianity\", \"christianity\", \"christianity\", \"christians\", \"christopher\", \"church\", \"church\", \"client\", \"clockwise\", \"clockwise\", \"code\", \"code\", \"code\", \"code\", \"code\", \"color\", \"color\", \"color\", \"colors\", \"cols\", \"commentary\", \"commentary\", \"commercial\", \"commercial\", \"commercial\", \"commercial\", \"communications\", \"communications\", \"communications\", \"comp\", \"comp\", \"comp\", \"compass\", \"compass\", \"computer\", \"computer\", \"computer\", \"computer\", \"computer\", \"computing\", \"condor\", \"contact\", \"contact\", \"contact\", \"contact\", \"contact\", \"contact\", \"contact\", \"contracts\", \"could\", \"could\", \"could\", \"could\", \"could\", \"could\", \"creed\", \"cview\", \"data\", \"data\", \"data\", \"data\", \"data\", \"database\", \"database\", \"dead\", \"dead\", \"dead\", \"dead\", \"debris\", \"decade\", \"declutch\", \"delta\", \"delta\", \"delta\", \"demand\", \"demand\", \"demand\", \"demand\", \"dennis\", \"designation\", \"developed\", \"developed\", \"developed\", \"developed\", \"development\", \"development\", \"development\", \"development\", \"diamond\", \"diane\", \"diesel\", \"disciples\", \"disciples\", \"disk\", \"disk\", \"disk\", \"disk\", \"divine\", \"doctrines\", \"doll\", \"door\", \"door\", \"door\", \"double\", \"double\", \"double\", \"double\", \"double\", \"drawing\", \"drawing\", \"earth\", \"earth\", \"earth\", \"earth\", \"earth\", \"earth\", \"edge\", \"edge\", \"edge\", \"edge\", \"edge\", \"egerter\", \"empty\", \"empty\", \"empty\", \"engine\", \"engine\", \"engine\", \"engine\", \"eternal\", \"eternal\", \"ether\", \"europe\", \"europe\", \"europe\", \"even\", \"even\", \"even\", \"even\", \"even\", \"even\", \"even\", \"ever\", \"ever\", \"ever\", \"ever\", \"ever\", \"ever\", \"evil\", \"exist\", \"exist\", \"exponent\", \"faces\", \"faces\", \"faith\", \"file\", \"file\", \"file\", \"file\", \"files\", \"files\", \"filter\", \"find\", \"find\", \"find\", \"find\", \"find\", \"find\", \"find\", \"firms\", \"first\", \"first\", \"first\", \"first\", \"first\", \"first\", \"first\", \"flight\", \"flight\", \"flight\", \"flight\", \"fluid\", \"fluids\", \"flyby\", \"ford\", \"ford\", \"format\", \"format\", \"formats\", \"formats\", \"freq\", \"front\", \"front\", \"front\", \"fuel\", \"fuel\", \"functionality\", \"funded\", \"funding\", \"funding\", \"geez\", \"germans\", \"good\", \"good\", \"good\", \"good\", \"good\", \"good\", \"good\", \"gopher\", \"gospel\", \"grace\", \"grace\", \"graeme\", \"grafsys\", \"graphics\", \"graphics\", \"graphics\", \"graphics\", \"grbs\", \"heaven\", \"heaven\", \"hell\", \"hell\", \"hell\", \"hello\", \"hello\", \"help\", \"help\", \"help\", \"help\", \"help\", \"help\", \"help\", \"holy\", \"image\", \"image\", \"image\", \"image\", \"image\", \"images\", \"images\", \"images\", \"images\", \"incoming\", \"incredibly\", \"infallible\", \"inflammatory\", \"information\", \"information\", \"information\", \"information\", \"information\", \"information\", \"infrared\", \"instruments\", \"insurance\", \"insurance\", \"insurance\", \"interactive\", \"interactive\", \"internet\", \"internet\", \"internet\", \"internet\", \"interpretation\", \"intervals\", \"iridium\", \"jeep\", \"jesus\", \"jesus\", \"jfif\", \"joseph\", \"joseph\", \"joseph\", \"jpeg\", \"jpeg\", \"judgement\", \"jupiter\", \"jupiter\", \"knew\", \"knew\", \"knew\", \"knew\", \"know\", \"know\", \"know\", \"know\", \"know\", \"know\", \"know\", \"korea\", \"lander\", \"landing\", \"larson\", \"launch\", \"launch\", \"launch\", \"launch\", \"launch\", \"launches\", \"launches\", \"launching\", \"leadership\", \"leadership\", \"left\", \"left\", \"left\", \"left\", \"left\", \"left\", \"left\", \"life\", \"life\", \"life\", \"life\", \"life\", \"like\", \"like\", \"like\", \"like\", \"like\", \"like\", \"like\", \"linux\", \"list\", \"list\", \"list\", \"list\", \"list\", \"list\", \"list\", \"listing\", \"listing\", \"listing\", \"liverpool\", \"lives\", \"lockup\", \"long\", \"long\", \"long\", \"long\", \"long\", \"long\", \"long\", \"looking\", \"looking\", \"looking\", \"looking\", \"looking\", \"looking\", \"lord\", \"lord\", \"love\", \"love\", \"love\", \"love\", \"luna\", \"lunar\", \"lunar\", \"lunar\", \"macintosh\", \"magellan\", \"mail\", \"mail\", \"mail\", \"mail\", \"mail\", \"manufacturers\", \"manufacturers\", \"manufacturers\", \"many\", \"many\", \"many\", \"many\", \"many\", \"many\", \"many\", \"mariner\", \"mark\", \"mark\", \"mark\", \"mark\", \"mark\", \"market\", \"market\", \"market\", \"market\", \"marriage\", \"married\", \"mars\", \"mars\", \"martian\", \"matters\", \"mcdonnell\", \"mean\", \"mean\", \"mean\", \"mean\", \"mean\", \"mean\", \"memory\", \"memory\", \"memory\", \"mercury\", \"mercury\", \"mission\", \"mission\", \"mission\", \"missions\", \"missions\", \"missions\", \"mobile\", \"mode\", \"mode\", \"mode\", \"molecular\", \"moon\", \"moon\", \"moon\", \"moon\", \"mother\", \"motor\", \"movies\", \"much\", \"much\", \"much\", \"much\", \"much\", \"much\", \"much\", \"must\", \"must\", \"must\", \"must\", \"must\", \"must\", \"must\", \"nasa\", \"nasa\", \"nasa\", \"nasa\", \"nasda\", \"national\", \"national\", \"national\", \"national\", \"national\", \"national\", \"need\", \"need\", \"need\", \"need\", \"need\", \"need\", \"need\", \"neutron\", \"never\", \"never\", \"never\", \"never\", \"never\", \"nick\", \"nick\", \"norm\", \"northy\", \"ntheta\", \"ntsb\", \"objects\", \"objects\", \"objects\", \"objects\", \"odometer\", \"oils\", \"optical\", \"optical\", \"orbit\", \"orbit\", \"orbit\", \"others\", \"others\", \"others\", \"others\", \"others\", \"others\", \"others\", \"overhead\", \"overhead\", \"oversteer\", \"pacastro\", \"package\", \"package\", \"package\", \"package\", \"paintbrush\", \"papers\", \"paul\", \"paul\", \"paul\", \"payloads\", \"peace\", \"pedal\", \"pegasus\", \"pegasus\", \"people\", \"people\", \"people\", \"people\", \"people\", \"people\", \"people\", \"person\", \"person\", \"person\", \"pictures\", \"pictures\", \"pictures\", \"pictures\", \"pioneer\", \"pioneer\", \"planet\", \"planet\", \"planet\", \"please\", \"please\", \"please\", \"please\", \"please\", \"please\", \"please\", \"pleasure\", \"plutonium\", \"point\", \"point\", \"point\", \"point\", \"point\", \"point\", \"point\", \"polygons\", \"pope\", \"porsche\", \"porsche\", \"postscript\", \"postscript\", \"prayer\", \"predicts\", \"printer\", \"probe\", \"probe\", \"probes\", \"probes\", \"problem\", \"problem\", \"problem\", \"problem\", \"problem\", \"problem\", \"processing\", \"processing\", \"processing\", \"program\", \"program\", \"program\", \"program\", \"program\", \"project\", \"project\", \"project\", \"project\", \"project\", \"projected\", \"projected\", \"proselytism\", \"quality\", \"quality\", \"quality\", \"quality\", \"question\", \"question\", \"question\", \"question\", \"question\", \"question\", \"question\", \"quicktime\", \"qumran\", \"qumran\", \"radar\", \"radar\", \"radar\", \"radiosity\", \"radiosity\", \"radius\", \"radius\", \"radius\", \"raised\", \"raised\", \"ranger\", \"reason\", \"reason\", \"reason\", \"reason\", \"reasoning\", \"religions\", \"representations\", \"request\", \"request\", \"request\", \"request\", \"requests\", \"research\", \"research\", \"research\", \"research\", \"research\", \"reston\", \"resupply\", \"revelation\", \"revenues\", \"ribbons\", \"right\", \"right\", \"right\", \"right\", \"right\", \"right\", \"right\", \"rise\", \"rise\", \"routines\", \"routines\", \"rows\", \"rtheta\", \"russian\", \"russian\", \"sabbath\", \"said\", \"said\", \"said\", \"said\", \"said\", \"said\", \"sales\", \"sales\", \"sales\", \"salvation\", \"sampling\", \"satellite\", \"satellite\", \"satellite\", \"satellites\", \"satellites\", \"satellites\", \"saturn\", \"saturn\", \"schwartz\", \"science\", \"science\", \"science\", \"science\", \"science\", \"screen\", \"screen\", \"scripture\", \"scrolls\", \"scsi\", \"search\", \"search\", \"search\", \"search\", \"search\", \"search\", \"search\", \"searches\", \"send\", \"send\", \"send\", \"send\", \"send\", \"send\", \"send\", \"sensor\", \"sensors\", \"server\", \"services\", \"services\", \"services\", \"sigkids\", \"silicone\", \"site\", \"site\", \"site\", \"site\", \"site\", \"small\", \"small\", \"small\", \"small\", \"small\", \"snow\", \"software\", \"software\", \"software\", \"software\", \"software\", \"soldiers\", \"something\", \"something\", \"something\", \"something\", \"something\", \"something\", \"southy\", \"space\", \"space\", \"space\", \"space\", \"spacecraft\", \"spacecraft\", \"spacecraft\", \"speeding\", \"speedstar\", \"sphere\", \"sphere\", \"sphere\", \"sphinx\", \"spin\", \"spirit\", \"spirit\", \"sprites\", \"sqrt\", \"stars\", \"stars\", \"stars\", \"static\", \"station\", \"station\", \"station\", \"station\", \"station\", \"stealing\", \"stolen\", \"struct\", \"subdivide\", \"supernova\", \"surface\", \"surface\", \"surface\", \"surface\", \"svga\", \"symposium\", \"system\", \"system\", \"system\", \"system\", \"system\", \"systems\", \"systems\", \"systems\", \"systems\", \"systems\", \"taiwan\", \"targa\", \"targets\", \"technology\", \"technology\", \"technology\", \"technology\", \"telecommunications\", \"temp\", \"temperature\", \"thanks\", \"thanks\", \"thanks\", \"thanks\", \"thanks\", \"thanks\", \"theta\", \"things\", \"things\", \"things\", \"things\", \"things\", \"things\", \"think\", \"think\", \"think\", \"think\", \"think\", \"think\", \"thisy\", \"throttle\", \"time\", \"time\", \"time\", \"time\", \"time\", \"time\", \"time\", \"tire\", \"tire\", \"tires\", \"tires\", \"tomb\", \"tools\", \"tools\", \"tools\", \"tracing\", \"tracing\", \"tracing\", \"tracking\", \"tracking\", \"trident\", \"true\", \"true\", \"true\", \"true\", \"true\", \"trunk\", \"truth\", \"truth\", \"truth\", \"truth\", \"tseng\", \"uars\", \"understeer\", \"universe\", \"universe\", \"universe\", \"university\", \"university\", \"university\", \"university\", \"university\", \"university\", \"usaf\", \"user\", \"user\", \"user\", \"users\", \"users\", \"using\", \"using\", \"using\", \"using\", \"using\", \"using\", \"vehicle\", \"vehicle\", \"vehicle\", \"venera\", \"venera\", \"venture\", \"ventures\", \"ventures\", \"venus\", \"venus\", \"version\", \"version\", \"version\", \"version\", \"vesa\", \"video\", \"video\", \"video\", \"viewer\", \"viscosity\", \"visual\", \"visualization\", \"volvo\", \"voyager\", \"voyager\", \"want\", \"want\", \"want\", \"want\", \"want\", \"want\", \"welch\", \"well\", \"well\", \"well\", \"well\", \"well\", \"well\", \"well\", \"wheels\", \"wheels\", \"white\", \"white\", \"white\", \"white\", \"white\", \"white\", \"wilkerson\", \"windows\", \"windows\", \"word\", \"word\", \"work\", \"work\", \"work\", \"work\", \"work\", \"work\", \"work\", \"workstations\", \"would\", \"would\", \"would\", \"would\", \"would\", \"would\", \"would\", \"wrap\", \"xorg\", \"year\", \"year\", \"year\", \"year\", \"year\", \"year\", \"year\", \"years\", \"years\", \"years\", \"years\", \"years\", \"years\", \"years\", \"yorg\", \"zorg\"]}, \"R\": 30, \"lambda.step\": 0.01, \"plot.opts\": {\"xlab\": \"PC1\", \"ylab\": \"PC2\"}, \"topic.order\": [5, 7, 1, 6, 3, 4, 2]};\n",
       "\n",
       "function LDAvis_load_lib(url, callback){\n",
       "  var s = document.createElement('script');\n",
       "  s.src = url;\n",
       "  s.async = true;\n",
       "  s.onreadystatechange = s.onload = callback;\n",
       "  s.onerror = function(){console.warn(\"failed to load library \" + url);};\n",
       "  document.getElementsByTagName(\"head\")[0].appendChild(s);\n",
       "}\n",
       "\n",
       "if(typeof(LDAvis) !== \"undefined\"){\n",
       "   // already loaded: just create the visualization\n",
       "   !function(LDAvis){\n",
       "       new LDAvis(\"#\" + \"ldavis_el91218908407078082692552016\", ldavis_el91218908407078082692552016_data);\n",
       "   }(LDAvis);\n",
       "}else if(typeof define === \"function\" && define.amd){\n",
       "   // require.js is available: use it to load d3/LDAvis\n",
       "   require.config({paths: {d3: \"https://d3js.org/d3.v5\"}});\n",
       "   require([\"d3\"], function(d3){\n",
       "      window.d3 = d3;\n",
       "      LDAvis_load_lib(\"https://cdn.jsdelivr.net/gh/bmabey/pyLDAvis@3.2.2/pyLDAvis/js/ldavis.v3.0.0.js\", function(){\n",
       "        new LDAvis(\"#\" + \"ldavis_el91218908407078082692552016\", ldavis_el91218908407078082692552016_data);\n",
       "      });\n",
       "    });\n",
       "}else{\n",
       "    // require.js not available: dynamically load d3 & LDAvis\n",
       "    LDAvis_load_lib(\"https://d3js.org/d3.v5.js\", function(){\n",
       "         LDAvis_load_lib(\"https://cdn.jsdelivr.net/gh/bmabey/pyLDAvis@3.2.2/pyLDAvis/js/ldavis.v3.0.0.js\", function(){\n",
       "                 new LDAvis(\"#\" + \"ldavis_el91218908407078082692552016\", ldavis_el91218908407078082692552016_data);\n",
       "            })\n",
       "         });\n",
       "}\n",
       "</script>"
      ],
      "text/plain": [
       "<IPython.core.display.HTML object>"
      ]
     },
     "execution_count": 217,
     "metadata": {},
     "output_type": "execute_result"
    }
   ],
   "source": [
    "import pyLDAvis.gensim\n",
    "pyLDAvis.enable_notebook()\n",
    "vis = pyLDAvis.gensim.prepare(ldamodel, corpus, dictionary)\n",
    "pyLDAvis.display(vis)"
   ]
  },
  {
   "cell_type": "markdown",
   "metadata": {},
   "source": [
    "# 3. K-means Clustering"
   ]
  },
  {
   "cell_type": "markdown",
   "metadata": {},
   "source": [
    "### 3.1. 데이터 불러오기\n",
    "- 20개의 뉴스그룹에서 7개의 뉴스토픽을 추출"
   ]
  },
  {
   "cell_type": "code",
   "execution_count": 281,
   "metadata": {},
   "outputs": [
    {
     "data": {
      "text/plain": [
       "dict_keys(['data', 'filenames', 'target_names', 'target', 'DESCR'])"
      ]
     },
     "execution_count": 281,
     "metadata": {},
     "output_type": "execute_result"
    }
   ],
   "source": [
    "data = fetch_20newsgroups(shuffle=True, random_state=1, remove=('headers', 'footers', 'quotes'))\n",
    "data.keys()"
   ]
  },
  {
   "cell_type": "code",
   "execution_count": 282,
   "metadata": {},
   "outputs": [
    {
     "data": {
      "text/plain": [
       "['alt.atheism',\n",
       " 'comp.os.ms-windows.misc',\n",
       " 'comp.sys.mac.hardware',\n",
       " 'misc.forsale',\n",
       " 'rec.motorcycles',\n",
       " 'rec.sport.hockey',\n",
       " 'sci.electronics',\n",
       " 'sci.space',\n",
       " 'talk.politics.guns',\n",
       " 'talk.politics.misc']"
      ]
     },
     "execution_count": 282,
     "metadata": {},
     "output_type": "execute_result"
    }
   ],
   "source": [
    "topics = data.target_names[0::2]\n",
    "topics"
   ]
  },
  {
   "cell_type": "code",
   "execution_count": 283,
   "metadata": {},
   "outputs": [
    {
     "data": {
      "text/plain": [
       "5627"
      ]
     },
     "execution_count": 283,
     "metadata": {},
     "output_type": "execute_result"
    }
   ],
   "source": [
    "dataset = fetch_20newsgroups(shuffle=True, categories=topics, \n",
    "                             random_state=1, remove=('headers', 'footers', 'quotes'))\n",
    "documents = dataset.data\n",
    "len(documents)"
   ]
  },
  {
   "cell_type": "markdown",
   "metadata": {},
   "source": [
    "### 3.2. 텍스트 전처리"
   ]
  },
  {
   "cell_type": "code",
   "execution_count": 284,
   "metadata": {},
   "outputs": [
    {
     "data": {
      "text/html": [
       "<div>\n",
       "<style scoped>\n",
       "    .dataframe tbody tr th:only-of-type {\n",
       "        vertical-align: middle;\n",
       "    }\n",
       "\n",
       "    .dataframe tbody tr th {\n",
       "        vertical-align: top;\n",
       "    }\n",
       "\n",
       "    .dataframe thead th {\n",
       "        text-align: right;\n",
       "    }\n",
       "</style>\n",
       "<table border=\"1\" class=\"dataframe\">\n",
       "  <thead>\n",
       "    <tr style=\"text-align: right;\">\n",
       "      <th></th>\n",
       "      <th>document</th>\n",
       "      <th>target</th>\n",
       "    </tr>\n",
       "  </thead>\n",
       "  <tbody>\n",
       "    <tr>\n",
       "      <th>0</th>\n",
       "      <td>improve these kids' chances&gt;&gt;of getting anothe...</td>\n",
       "      <td>9</td>\n",
       "    </tr>\n",
       "    <tr>\n",
       "      <th>1</th>\n",
       "      <td></td>\n",
       "      <td>5</td>\n",
       "    </tr>\n",
       "    <tr>\n",
       "      <th>2</th>\n",
       "      <td>So-Called Cool-Hot boxes have been advetised ...</td>\n",
       "      <td>6</td>\n",
       "    </tr>\n",
       "    <tr>\n",
       "      <th>3</th>\n",
       "      <td>\\n\\nThere are several problems with the way th...</td>\n",
       "      <td>5</td>\n",
       "    </tr>\n",
       "    <tr>\n",
       "      <th>4</th>\n",
       "      <td>\\n\\nWait a minute.  I agree with you that peop...</td>\n",
       "      <td>9</td>\n",
       "    </tr>\n",
       "  </tbody>\n",
       "</table>\n",
       "</div>"
      ],
      "text/plain": [
       "                                            document  target\n",
       "0  improve these kids' chances>>of getting anothe...       9\n",
       "1                                                          5\n",
       "2   So-Called Cool-Hot boxes have been advetised ...       6\n",
       "3  \\n\\nThere are several problems with the way th...       5\n",
       "4  \\n\\nWait a minute.  I agree with you that peop...       9"
      ]
     },
     "execution_count": 284,
     "metadata": {},
     "output_type": "execute_result"
    },
    {
     "data": {
      "text/plain": [
       "5    600\n",
       "4    598\n",
       "7    593\n",
       "1    591\n",
       "6    591\n",
       "3    585\n",
       "2    578\n",
       "8    546\n",
       "0    480\n",
       "9    465\n",
       "Name: target, dtype: int64"
      ]
     },
     "execution_count": 284,
     "metadata": {},
     "output_type": "execute_result"
    }
   ],
   "source": [
    "news_df = pd.DataFrame({'document':documents, 'target': dataset.target})\n",
    "news_df.head()\n",
    "news_df.target.value_counts()"
   ]
  },
  {
   "cell_type": "code",
   "execution_count": 285,
   "metadata": {},
   "outputs": [],
   "source": [
    "# 특수 문자 제거\n",
    "news_df['clean_doc'] = news_df['document'].str.replace(\"[^a-zA-Z]\", \" \")\n",
    "# 길이가 3이하인 단어는 제거 (길이가 짧은 단어 제거)\n",
    "news_df['clean_doc'] = news_df['clean_doc'].apply(lambda x: ' '.join([w for w in x.split() if len(w)>3]))\n",
    "# 전체 단어에 대한 소문자 변환\n",
    "news_df['clean_doc'] = news_df['clean_doc'].apply(lambda x: x.lower())"
   ]
  },
  {
   "cell_type": "markdown",
   "metadata": {},
   "source": [
    "### 3.3. TF-IDF 행렬 만들기\n",
    "불용어 제거를 위해 토큰화 작업을 수행하였지만, TfidfVectorizer(TF-IDF 챕터 참고)는 기본적으로 토큰화가 되어있지 않은 텍스트 데이터를 입력으로 사용합니다. 그렇기 때문에 TfidfVectorizer를 사용해서 TF-IDF 행렬을 만들기 위해서 news_df['clean_doc']컬럼을 사용\n"
   ]
  },
  {
   "cell_type": "code",
   "execution_count": 286,
   "metadata": {},
   "outputs": [
    {
     "data": {
      "text/plain": [
       "(5627, 1000)"
      ]
     },
     "execution_count": 286,
     "metadata": {},
     "output_type": "execute_result"
    }
   ],
   "source": [
    "from sklearn.feature_extraction.text import TfidfVectorizer\n",
    "\n",
    "vectorizer = TfidfVectorizer(stop_words='english', \n",
    "                             max_features= 1000, # 상위 1,000개의 단어를 보존\n",
    "                             max_df = 0.5, \n",
    "                             smooth_idf=True)\n",
    "\n",
    "X = vectorizer.fit_transform(news_df['clean_doc'])\n",
    "X.shape # TF-IDF 행렬의 크기 확인"
   ]
  },
  {
   "cell_type": "markdown",
   "metadata": {},
   "source": [
    "### 3.2 Clustering\n",
    "- 클러스터의 그룹 개수는 10개(news_df.target.nunique())"
   ]
  },
  {
   "cell_type": "code",
   "execution_count": 267,
   "metadata": {
    "scrolled": true
   },
   "outputs": [
    {
     "data": {
      "text/plain": [
       "array([[ 7.48000552e-03,  3.53245723e-05,  1.73472348e-18, ...,\n",
       "         9.20962225e-03,  6.98063816e-03,  4.89891965e-03],\n",
       "       [ 8.22595732e-03,  3.89413467e-03,  2.36927693e-03, ...,\n",
       "         4.56702178e-03,  2.66612049e-03,  2.10106400e-03],\n",
       "       [ 4.45129482e-03,  1.72142175e-03,  3.44038511e-03, ...,\n",
       "         2.00500804e-03,  1.36796435e-03,  9.32973685e-04],\n",
       "       ...,\n",
       "       [ 7.34214476e-03,  4.62057714e-03,  1.01266038e-03, ...,\n",
       "         5.60752252e-04,  2.27154794e-03,  1.71964668e-03],\n",
       "       [ 8.44509869e-03,  5.44961818e-04,  2.41692134e-03, ...,\n",
       "         0.00000000e+00,  4.68947275e-03,  1.41354503e-03],\n",
       "       [ 6.59409115e-03,  4.33680869e-19,  9.47728230e-03, ...,\n",
       "         6.06231618e-04,  2.39223599e-03, -2.16840434e-19]])"
      ]
     },
     "execution_count": 267,
     "metadata": {},
     "output_type": "execute_result"
    },
    {
     "data": {
      "text/plain": [
       "array([7, 2, 7, ..., 0, 2, 3])"
      ]
     },
     "execution_count": 267,
     "metadata": {},
     "output_type": "execute_result"
    }
   ],
   "source": [
    "from sklearn.cluster import KMeans\n",
    "kmeans = KMeans(n_clusters=news_df.target.nunique(), random_state=0).fit(X.toarray())\n",
    "kmeans.cluster_centers_\n",
    "kmeans.labels_"
   ]
  },
  {
   "cell_type": "markdown",
   "metadata": {},
   "source": [
    "### 3.3 성능 확인"
   ]
  },
  {
   "cell_type": "code",
   "execution_count": 268,
   "metadata": {},
   "outputs": [
    {
     "data": {
      "text/plain": [
       "array([9, 5, 6, 8, 3, 7, 1, 2, 4, 0], dtype=int64)"
      ]
     },
     "execution_count": 268,
     "metadata": {},
     "output_type": "execute_result"
    },
    {
     "data": {
      "text/plain": [
       "array([7, 2, 1, 4, 5, 3, 8, 6, 0, 9])"
      ]
     },
     "execution_count": 268,
     "metadata": {},
     "output_type": "execute_result"
    }
   ],
   "source": [
    "news_df['k_means'] = kmeans.labels_\n",
    "news_df.target.unique()\n",
    "news_df['k_means'].unique()"
   ]
  },
  {
   "cell_type": "code",
   "execution_count": 270,
   "metadata": {
    "scrolled": true
   },
   "outputs": [
    {
     "data": {
      "text/html": [
       "<div>\n",
       "<style scoped>\n",
       "    .dataframe tbody tr th:only-of-type {\n",
       "        vertical-align: middle;\n",
       "    }\n",
       "\n",
       "    .dataframe tbody tr th {\n",
       "        vertical-align: top;\n",
       "    }\n",
       "\n",
       "    .dataframe thead th {\n",
       "        text-align: right;\n",
       "    }\n",
       "</style>\n",
       "<table border=\"1\" class=\"dataframe\">\n",
       "  <thead>\n",
       "    <tr style=\"text-align: right;\">\n",
       "      <th></th>\n",
       "      <th>document</th>\n",
       "      <th>target</th>\n",
       "      <th>k_means</th>\n",
       "      <th>clean_doc</th>\n",
       "    </tr>\n",
       "  </thead>\n",
       "  <tbody>\n",
       "    <tr>\n",
       "      <th>18</th>\n",
       "      <td>\\nFred Rice answered this already in an early ...</td>\n",
       "      <td>0</td>\n",
       "      <td>7</td>\n",
       "      <td>fred rice answered this already early posting ...</td>\n",
       "    </tr>\n",
       "    <tr>\n",
       "      <th>28</th>\n",
       "      <td>\\n\\nAHA! He admits it! He IS a moral relativis...</td>\n",
       "      <td>0</td>\n",
       "      <td>7</td>\n",
       "      <td>admits moral relativist keith start wafffling ...</td>\n",
       "    </tr>\n",
       "    <tr>\n",
       "      <th>30</th>\n",
       "      <td>I don't think there is really any question abo...</td>\n",
       "      <td>0</td>\n",
       "      <td>7</td>\n",
       "      <td>think there really question about which courts...</td>\n",
       "    </tr>\n",
       "    <tr>\n",
       "      <th>36</th>\n",
       "      <td>\\nNope, Germany has extremely restrictive citi...</td>\n",
       "      <td>0</td>\n",
       "      <td>2</td>\n",
       "      <td>nope germany extremely restrictive citizenship...</td>\n",
       "    </tr>\n",
       "    <tr>\n",
       "      <th>39</th>\n",
       "      <td>\\nI'll take a wild guess and say Freedom is ob...</td>\n",
       "      <td>0</td>\n",
       "      <td>2</td>\n",
       "      <td>take wild guess freedom objectively valuable b...</td>\n",
       "    </tr>\n",
       "  </tbody>\n",
       "</table>\n",
       "</div>"
      ],
      "text/plain": [
       "                                             document  target  k_means  \\\n",
       "18  \\nFred Rice answered this already in an early ...       0        7   \n",
       "28  \\n\\nAHA! He admits it! He IS a moral relativis...       0        7   \n",
       "30  I don't think there is really any question abo...       0        7   \n",
       "36  \\nNope, Germany has extremely restrictive citi...       0        2   \n",
       "39  \\nI'll take a wild guess and say Freedom is ob...       0        2   \n",
       "\n",
       "                                            clean_doc  \n",
       "18  fred rice answered this already early posting ...  \n",
       "28  admits moral relativist keith start wafffling ...  \n",
       "30  think there really question about which courts...  \n",
       "36  nope germany extremely restrictive citizenship...  \n",
       "39  take wild guess freedom objectively valuable b...  "
      ]
     },
     "execution_count": 270,
     "metadata": {},
     "output_type": "execute_result"
    },
    {
     "data": {
      "text/html": [
       "<div>\n",
       "<style scoped>\n",
       "    .dataframe tbody tr th:only-of-type {\n",
       "        vertical-align: middle;\n",
       "    }\n",
       "\n",
       "    .dataframe tbody tr th {\n",
       "        vertical-align: top;\n",
       "    }\n",
       "\n",
       "    .dataframe thead th {\n",
       "        text-align: right;\n",
       "    }\n",
       "</style>\n",
       "<table border=\"1\" class=\"dataframe\">\n",
       "  <thead>\n",
       "    <tr style=\"text-align: right;\">\n",
       "      <th></th>\n",
       "      <th>document</th>\n",
       "      <th>target</th>\n",
       "      <th>k_means</th>\n",
       "      <th>clean_doc</th>\n",
       "    </tr>\n",
       "  </thead>\n",
       "  <tbody>\n",
       "    <tr>\n",
       "      <th>12</th>\n",
       "      <td>\\nIt also runs OS/2 character based apps and P...</td>\n",
       "      <td>1</td>\n",
       "      <td>3</td>\n",
       "      <td>also runs character based apps posix apps wind...</td>\n",
       "    </tr>\n",
       "    <tr>\n",
       "      <th>15</th>\n",
       "      <td>Whenever I start File Manager, the status bar ...</td>\n",
       "      <td>1</td>\n",
       "      <td>2</td>\n",
       "      <td>whenever start file manager status displayed e...</td>\n",
       "    </tr>\n",
       "    <tr>\n",
       "      <th>16</th>\n",
       "      <td>Well, I'm amazed at how successful this exerci...</td>\n",
       "      <td>1</td>\n",
       "      <td>3</td>\n",
       "      <td>well amazed successful this exercise received ...</td>\n",
       "    </tr>\n",
       "    <tr>\n",
       "      <th>43</th>\n",
       "      <td>\\n[stuff about changing windows registration o...</td>\n",
       "      <td>1</td>\n",
       "      <td>3</td>\n",
       "      <td>stuff about changing windows registration omitted</td>\n",
       "    </tr>\n",
       "    <tr>\n",
       "      <th>53</th>\n",
       "      <td>I remember reading about a program that made w...</td>\n",
       "      <td>1</td>\n",
       "      <td>3</td>\n",
       "      <td>remember reading about program that made windo...</td>\n",
       "    </tr>\n",
       "  </tbody>\n",
       "</table>\n",
       "</div>"
      ],
      "text/plain": [
       "                                             document  target  k_means  \\\n",
       "12  \\nIt also runs OS/2 character based apps and P...       1        3   \n",
       "15  Whenever I start File Manager, the status bar ...       1        2   \n",
       "16  Well, I'm amazed at how successful this exerci...       1        3   \n",
       "43  \\n[stuff about changing windows registration o...       1        3   \n",
       "53  I remember reading about a program that made w...       1        3   \n",
       "\n",
       "                                            clean_doc  \n",
       "12  also runs character based apps posix apps wind...  \n",
       "15  whenever start file manager status displayed e...  \n",
       "16  well amazed successful this exercise received ...  \n",
       "43  stuff about changing windows registration omitted  \n",
       "53  remember reading about program that made windo...  "
      ]
     },
     "execution_count": 270,
     "metadata": {},
     "output_type": "execute_result"
    },
    {
     "data": {
      "text/html": [
       "<div>\n",
       "<style scoped>\n",
       "    .dataframe tbody tr th:only-of-type {\n",
       "        vertical-align: middle;\n",
       "    }\n",
       "\n",
       "    .dataframe tbody tr th {\n",
       "        vertical-align: top;\n",
       "    }\n",
       "\n",
       "    .dataframe thead th {\n",
       "        text-align: right;\n",
       "    }\n",
       "</style>\n",
       "<table border=\"1\" class=\"dataframe\">\n",
       "  <thead>\n",
       "    <tr style=\"text-align: right;\">\n",
       "      <th></th>\n",
       "      <th>document</th>\n",
       "      <th>target</th>\n",
       "      <th>k_means</th>\n",
       "      <th>clean_doc</th>\n",
       "    </tr>\n",
       "  </thead>\n",
       "  <tbody>\n",
       "    <tr>\n",
       "      <th>13</th>\n",
       "      <td>\\nHere is a list of the FirstClass systems in ...</td>\n",
       "      <td>2</td>\n",
       "      <td>2</td>\n",
       "      <td>here list firstclass systems illinois chicago ...</td>\n",
       "    </tr>\n",
       "    <tr>\n",
       "      <th>22</th>\n",
       "      <td>Greetings!!\\n\\n\\tI planning to upgrade my Mac ...</td>\n",
       "      <td>2</td>\n",
       "      <td>5</td>\n",
       "      <td>greetings planning upgrade iisi from present m...</td>\n",
       "    </tr>\n",
       "    <tr>\n",
       "      <th>23</th>\n",
       "      <td>I am seeking recommendations/Vendors for a Net...</td>\n",
       "      <td>2</td>\n",
       "      <td>5</td>\n",
       "      <td>seeking recommendations vendors networkable wo...</td>\n",
       "    </tr>\n",
       "    <tr>\n",
       "      <th>24</th>\n",
       "      <td>\\n</td>\n",
       "      <td>2</td>\n",
       "      <td>2</td>\n",
       "      <td></td>\n",
       "    </tr>\n",
       "    <tr>\n",
       "      <th>33</th>\n",
       "      <td>\\n\\nWhat's the latest version of Stepping Out ...</td>\n",
       "      <td>2</td>\n",
       "      <td>2</td>\n",
       "      <td>what latest version stepping that works with</td>\n",
       "    </tr>\n",
       "  </tbody>\n",
       "</table>\n",
       "</div>"
      ],
      "text/plain": [
       "                                             document  target  k_means  \\\n",
       "13  \\nHere is a list of the FirstClass systems in ...       2        2   \n",
       "22  Greetings!!\\n\\n\\tI planning to upgrade my Mac ...       2        5   \n",
       "23  I am seeking recommendations/Vendors for a Net...       2        5   \n",
       "24                                                 \\n       2        2   \n",
       "33  \\n\\nWhat's the latest version of Stepping Out ...       2        2   \n",
       "\n",
       "                                            clean_doc  \n",
       "13  here list firstclass systems illinois chicago ...  \n",
       "22  greetings planning upgrade iisi from present m...  \n",
       "23  seeking recommendations vendors networkable wo...  \n",
       "24                                                     \n",
       "33       what latest version stepping that works with  "
      ]
     },
     "execution_count": 270,
     "metadata": {},
     "output_type": "execute_result"
    },
    {
     "data": {
      "text/html": [
       "<div>\n",
       "<style scoped>\n",
       "    .dataframe tbody tr th:only-of-type {\n",
       "        vertical-align: middle;\n",
       "    }\n",
       "\n",
       "    .dataframe tbody tr th {\n",
       "        vertical-align: top;\n",
       "    }\n",
       "\n",
       "    .dataframe thead th {\n",
       "        text-align: right;\n",
       "    }\n",
       "</style>\n",
       "<table border=\"1\" class=\"dataframe\">\n",
       "  <thead>\n",
       "    <tr style=\"text-align: right;\">\n",
       "      <th></th>\n",
       "      <th>document</th>\n",
       "      <th>target</th>\n",
       "      <th>k_means</th>\n",
       "      <th>clean_doc</th>\n",
       "    </tr>\n",
       "  </thead>\n",
       "  <tbody>\n",
       "    <tr>\n",
       "      <th>6</th>\n",
       "      <td>I am looking for a 286 motherboard, preferable...</td>\n",
       "      <td>3</td>\n",
       "      <td>4</td>\n",
       "      <td>looking motherboard preferable also looking ca...</td>\n",
       "    </tr>\n",
       "    <tr>\n",
       "      <th>11</th>\n",
       "      <td>Posting for a friend: please call Steve, 415 2...</td>\n",
       "      <td>3</td>\n",
       "      <td>5</td>\n",
       "      <td>posting friend please call steve interested se...</td>\n",
       "    </tr>\n",
       "    <tr>\n",
       "      <th>35</th>\n",
       "      <td>I am posting this message for a friend of mine...</td>\n",
       "      <td>3</td>\n",
       "      <td>2</td>\n",
       "      <td>posting this message friend mine does have com...</td>\n",
       "    </tr>\n",
       "    <tr>\n",
       "      <th>41</th>\n",
       "      <td>Hi netters,\\n\\nDoes anyone know have any info ...</td>\n",
       "      <td>3</td>\n",
       "      <td>5</td>\n",
       "      <td>netters does anyone know have info ultrastor l...</td>\n",
       "    </tr>\n",
       "    <tr>\n",
       "      <th>55</th>\n",
       "      <td>If anyone has Joe Venuti's record \"Fiddle on F...</td>\n",
       "      <td>3</td>\n",
       "      <td>2</td>\n",
       "      <td>anyone venuti record fiddle fire would like se...</td>\n",
       "    </tr>\n",
       "  </tbody>\n",
       "</table>\n",
       "</div>"
      ],
      "text/plain": [
       "                                             document  target  k_means  \\\n",
       "6   I am looking for a 286 motherboard, preferable...       3        4   \n",
       "11  Posting for a friend: please call Steve, 415 2...       3        5   \n",
       "35  I am posting this message for a friend of mine...       3        2   \n",
       "41  Hi netters,\\n\\nDoes anyone know have any info ...       3        5   \n",
       "55  If anyone has Joe Venuti's record \"Fiddle on F...       3        2   \n",
       "\n",
       "                                            clean_doc  \n",
       "6   looking motherboard preferable also looking ca...  \n",
       "11  posting friend please call steve interested se...  \n",
       "35  posting this message friend mine does have com...  \n",
       "41  netters does anyone know have info ultrastor l...  \n",
       "55  anyone venuti record fiddle fire would like se...  "
      ]
     },
     "execution_count": 270,
     "metadata": {},
     "output_type": "execute_result"
    },
    {
     "data": {
      "text/html": [
       "<div>\n",
       "<style scoped>\n",
       "    .dataframe tbody tr th:only-of-type {\n",
       "        vertical-align: middle;\n",
       "    }\n",
       "\n",
       "    .dataframe tbody tr th {\n",
       "        vertical-align: top;\n",
       "    }\n",
       "\n",
       "    .dataframe thead th {\n",
       "        text-align: right;\n",
       "    }\n",
       "</style>\n",
       "<table border=\"1\" class=\"dataframe\">\n",
       "  <thead>\n",
       "    <tr style=\"text-align: right;\">\n",
       "      <th></th>\n",
       "      <th>document</th>\n",
       "      <th>target</th>\n",
       "      <th>k_means</th>\n",
       "      <th>clean_doc</th>\n",
       "    </tr>\n",
       "  </thead>\n",
       "  <tbody>\n",
       "    <tr>\n",
       "      <th>14</th>\n",
       "      <td>I was wondering if anybody knows anything abou...</td>\n",
       "      <td>4</td>\n",
       "      <td>8</td>\n",
       "      <td>wondering anybody knows anything about yamaha ...</td>\n",
       "    </tr>\n",
       "    <tr>\n",
       "      <th>20</th>\n",
       "      <td>\\nHell, just save your candle stubs and bring ...</td>\n",
       "      <td>4</td>\n",
       "      <td>7</td>\n",
       "      <td>hell just save your candle stubs bring them li...</td>\n",
       "    </tr>\n",
       "    <tr>\n",
       "      <th>21</th>\n",
       "      <td>\\nThree, actually.  I believe I discussed coun...</td>\n",
       "      <td>4</td>\n",
       "      <td>2</td>\n",
       "      <td>three actually believe discussed countersteeri...</td>\n",
       "    </tr>\n",
       "    <tr>\n",
       "      <th>25</th>\n",
       "      <td>\\n\\nDenmark, eh?  Should have taken a short sw...</td>\n",
       "      <td>4</td>\n",
       "      <td>2</td>\n",
       "      <td>denmark should have taken short sword cleaved ...</td>\n",
       "    </tr>\n",
       "    <tr>\n",
       "      <th>27</th>\n",
       "      <td>\\n\\tAgreed, but, yes, chapstick fits under the...</td>\n",
       "      <td>4</td>\n",
       "      <td>7</td>\n",
       "      <td>agreed chapstick fits under waxy shit category...</td>\n",
       "    </tr>\n",
       "  </tbody>\n",
       "</table>\n",
       "</div>"
      ],
      "text/plain": [
       "                                             document  target  k_means  \\\n",
       "14  I was wondering if anybody knows anything abou...       4        8   \n",
       "20  \\nHell, just save your candle stubs and bring ...       4        7   \n",
       "21  \\nThree, actually.  I believe I discussed coun...       4        2   \n",
       "25  \\n\\nDenmark, eh?  Should have taken a short sw...       4        2   \n",
       "27  \\n\\tAgreed, but, yes, chapstick fits under the...       4        7   \n",
       "\n",
       "                                            clean_doc  \n",
       "14  wondering anybody knows anything about yamaha ...  \n",
       "20  hell just save your candle stubs bring them li...  \n",
       "21  three actually believe discussed countersteeri...  \n",
       "25  denmark should have taken short sword cleaved ...  \n",
       "27  agreed chapstick fits under waxy shit category...  "
      ]
     },
     "execution_count": 270,
     "metadata": {},
     "output_type": "execute_result"
    },
    {
     "data": {
      "text/html": [
       "<div>\n",
       "<style scoped>\n",
       "    .dataframe tbody tr th:only-of-type {\n",
       "        vertical-align: middle;\n",
       "    }\n",
       "\n",
       "    .dataframe tbody tr th {\n",
       "        vertical-align: top;\n",
       "    }\n",
       "\n",
       "    .dataframe thead th {\n",
       "        text-align: right;\n",
       "    }\n",
       "</style>\n",
       "<table border=\"1\" class=\"dataframe\">\n",
       "  <thead>\n",
       "    <tr style=\"text-align: right;\">\n",
       "      <th></th>\n",
       "      <th>document</th>\n",
       "      <th>target</th>\n",
       "      <th>k_means</th>\n",
       "      <th>clean_doc</th>\n",
       "    </tr>\n",
       "  </thead>\n",
       "  <tbody>\n",
       "    <tr>\n",
       "      <th>1</th>\n",
       "      <td></td>\n",
       "      <td>5</td>\n",
       "      <td>2</td>\n",
       "      <td></td>\n",
       "    </tr>\n",
       "    <tr>\n",
       "      <th>3</th>\n",
       "      <td>\\n\\nThere are several problems with the way th...</td>\n",
       "      <td>5</td>\n",
       "      <td>2</td>\n",
       "      <td>there several problems with game being present...</td>\n",
       "    </tr>\n",
       "    <tr>\n",
       "      <th>10</th>\n",
       "      <td>OK, I'll join in the fun and give my playoff p...</td>\n",
       "      <td>5</td>\n",
       "      <td>2</td>\n",
       "      <td>join give playoff predictions round pitt pitt ...</td>\n",
       "    </tr>\n",
       "    <tr>\n",
       "      <th>17</th>\n",
       "      <td>For updated playoff updates (scores, stats, su...</td>\n",
       "      <td>5</td>\n",
       "      <td>5</td>\n",
       "      <td>updated playoff updates scores stats summaries...</td>\n",
       "    </tr>\n",
       "    <tr>\n",
       "      <th>34</th>\n",
       "      <td>Could anyone recommend a mail order distributo...</td>\n",
       "      <td>5</td>\n",
       "      <td>5</td>\n",
       "      <td>could anyone recommend mail order distributor ...</td>\n",
       "    </tr>\n",
       "  </tbody>\n",
       "</table>\n",
       "</div>"
      ],
      "text/plain": [
       "                                             document  target  k_means  \\\n",
       "1                                                           5        2   \n",
       "3   \\n\\nThere are several problems with the way th...       5        2   \n",
       "10  OK, I'll join in the fun and give my playoff p...       5        2   \n",
       "17  For updated playoff updates (scores, stats, su...       5        5   \n",
       "34  Could anyone recommend a mail order distributo...       5        5   \n",
       "\n",
       "                                            clean_doc  \n",
       "1                                                      \n",
       "3   there several problems with game being present...  \n",
       "10  join give playoff predictions round pitt pitt ...  \n",
       "17  updated playoff updates scores stats summaries...  \n",
       "34  could anyone recommend mail order distributor ...  "
      ]
     },
     "execution_count": 270,
     "metadata": {},
     "output_type": "execute_result"
    },
    {
     "data": {
      "text/html": [
       "<div>\n",
       "<style scoped>\n",
       "    .dataframe tbody tr th:only-of-type {\n",
       "        vertical-align: middle;\n",
       "    }\n",
       "\n",
       "    .dataframe tbody tr th {\n",
       "        vertical-align: top;\n",
       "    }\n",
       "\n",
       "    .dataframe thead th {\n",
       "        text-align: right;\n",
       "    }\n",
       "</style>\n",
       "<table border=\"1\" class=\"dataframe\">\n",
       "  <thead>\n",
       "    <tr style=\"text-align: right;\">\n",
       "      <th></th>\n",
       "      <th>document</th>\n",
       "      <th>target</th>\n",
       "      <th>k_means</th>\n",
       "      <th>clean_doc</th>\n",
       "    </tr>\n",
       "  </thead>\n",
       "  <tbody>\n",
       "    <tr>\n",
       "      <th>2</th>\n",
       "      <td>So-Called Cool-Hot boxes have been advetised ...</td>\n",
       "      <td>6</td>\n",
       "      <td>7</td>\n",
       "      <td>called cool boxes have been advetised several ...</td>\n",
       "    </tr>\n",
       "    <tr>\n",
       "      <th>8</th>\n",
       "      <td>\\n\\n\\n\\n\\nI've had very good results from the ...</td>\n",
       "      <td>6</td>\n",
       "      <td>2</td>\n",
       "      <td>very good results from from part analogue devi...</td>\n",
       "    </tr>\n",
       "    <tr>\n",
       "      <th>26</th>\n",
       "      <td>\\n)Do you know what frequencies chanels 17 to ...</td>\n",
       "      <td>6</td>\n",
       "      <td>2</td>\n",
       "      <td>know what frequencies chanels what usually all...</td>\n",
       "    </tr>\n",
       "    <tr>\n",
       "      <th>31</th>\n",
       "      <td>\\n\\nAssuming 68HC11...\\nIn expanded muxed mode...</td>\n",
       "      <td>6</td>\n",
       "      <td>2</td>\n",
       "      <td>assuming expanded muxed mode could much easier...</td>\n",
       "    </tr>\n",
       "    <tr>\n",
       "      <th>32</th>\n",
       "      <td>Hello, \\n\\n   Let me introduce a problem:\\n\\n ...</td>\n",
       "      <td>6</td>\n",
       "      <td>6</td>\n",
       "      <td>hello introduce problem when measure sinusoida...</td>\n",
       "    </tr>\n",
       "  </tbody>\n",
       "</table>\n",
       "</div>"
      ],
      "text/plain": [
       "                                             document  target  k_means  \\\n",
       "2    So-Called Cool-Hot boxes have been advetised ...       6        7   \n",
       "8   \\n\\n\\n\\n\\nI've had very good results from the ...       6        2   \n",
       "26  \\n)Do you know what frequencies chanels 17 to ...       6        2   \n",
       "31  \\n\\nAssuming 68HC11...\\nIn expanded muxed mode...       6        2   \n",
       "32  Hello, \\n\\n   Let me introduce a problem:\\n\\n ...       6        6   \n",
       "\n",
       "                                            clean_doc  \n",
       "2   called cool boxes have been advetised several ...  \n",
       "8   very good results from from part analogue devi...  \n",
       "26  know what frequencies chanels what usually all...  \n",
       "31  assuming expanded muxed mode could much easier...  \n",
       "32  hello introduce problem when measure sinusoida...  "
      ]
     },
     "execution_count": 270,
     "metadata": {},
     "output_type": "execute_result"
    },
    {
     "data": {
      "text/html": [
       "<div>\n",
       "<style scoped>\n",
       "    .dataframe tbody tr th:only-of-type {\n",
       "        vertical-align: middle;\n",
       "    }\n",
       "\n",
       "    .dataframe tbody tr th {\n",
       "        vertical-align: top;\n",
       "    }\n",
       "\n",
       "    .dataframe thead th {\n",
       "        text-align: right;\n",
       "    }\n",
       "</style>\n",
       "<table border=\"1\" class=\"dataframe\">\n",
       "  <thead>\n",
       "    <tr style=\"text-align: right;\">\n",
       "      <th></th>\n",
       "      <th>document</th>\n",
       "      <th>target</th>\n",
       "      <th>k_means</th>\n",
       "      <th>clean_doc</th>\n",
       "    </tr>\n",
       "  </thead>\n",
       "  <tbody>\n",
       "    <tr>\n",
       "      <th>7</th>\n",
       "      <td>That is an idea.. The most efficient moon habi...</td>\n",
       "      <td>7</td>\n",
       "      <td>1</td>\n",
       "      <td>that idea most efficient moon habitat also ide...</td>\n",
       "    </tr>\n",
       "    <tr>\n",
       "      <th>42</th>\n",
       "      <td>\\nActually, the reboost will probably be done ...</td>\n",
       "      <td>7</td>\n",
       "      <td>9</td>\n",
       "      <td>actually reboost will probably done last that ...</td>\n",
       "    </tr>\n",
       "    <tr>\n",
       "      <th>47</th>\n",
       "      <td>From: Gene Wright &lt;gene@theporch.raider.net&gt;\\n...</td>\n",
       "      <td>7</td>\n",
       "      <td>2</td>\n",
       "      <td>from gene wright gene theporch raider imagine ...</td>\n",
       "    </tr>\n",
       "    <tr>\n",
       "      <th>48</th>\n",
       "      <td>...\\n\\nFunny.  A bit disturbing.  Forging a po...</td>\n",
       "      <td>7</td>\n",
       "      <td>9</td>\n",
       "      <td>funny disturbing forging posting seems somewha...</td>\n",
       "    </tr>\n",
       "    <tr>\n",
       "      <th>88</th>\n",
       "      <td>\\n\\nHe's also the one who dubbed it the SR-71 ...</td>\n",
       "      <td>7</td>\n",
       "      <td>2</td>\n",
       "      <td>also dubbed until mippselled fwiw doug page</td>\n",
       "    </tr>\n",
       "  </tbody>\n",
       "</table>\n",
       "</div>"
      ],
      "text/plain": [
       "                                             document  target  k_means  \\\n",
       "7   That is an idea.. The most efficient moon habi...       7        1   \n",
       "42  \\nActually, the reboost will probably be done ...       7        9   \n",
       "47  From: Gene Wright <gene@theporch.raider.net>\\n...       7        2   \n",
       "48  ...\\n\\nFunny.  A bit disturbing.  Forging a po...       7        9   \n",
       "88  \\n\\nHe's also the one who dubbed it the SR-71 ...       7        2   \n",
       "\n",
       "                                            clean_doc  \n",
       "7   that idea most efficient moon habitat also ide...  \n",
       "42  actually reboost will probably done last that ...  \n",
       "47  from gene wright gene theporch raider imagine ...  \n",
       "48  funny disturbing forging posting seems somewha...  \n",
       "88        also dubbed until mippselled fwiw doug page  "
      ]
     },
     "execution_count": 270,
     "metadata": {},
     "output_type": "execute_result"
    },
    {
     "data": {
      "text/html": [
       "<div>\n",
       "<style scoped>\n",
       "    .dataframe tbody tr th:only-of-type {\n",
       "        vertical-align: middle;\n",
       "    }\n",
       "\n",
       "    .dataframe tbody tr th {\n",
       "        vertical-align: top;\n",
       "    }\n",
       "\n",
       "    .dataframe thead th {\n",
       "        text-align: right;\n",
       "    }\n",
       "</style>\n",
       "<table border=\"1\" class=\"dataframe\">\n",
       "  <thead>\n",
       "    <tr style=\"text-align: right;\">\n",
       "      <th></th>\n",
       "      <th>document</th>\n",
       "      <th>target</th>\n",
       "      <th>k_means</th>\n",
       "      <th>clean_doc</th>\n",
       "    </tr>\n",
       "  </thead>\n",
       "  <tbody>\n",
       "    <tr>\n",
       "      <th>5</th>\n",
       "      <td>Actually not Jim.  I just said that everyone e...</td>\n",
       "      <td>8</td>\n",
       "      <td>7</td>\n",
       "      <td>actually just said that everyone else seemed h...</td>\n",
       "    </tr>\n",
       "    <tr>\n",
       "      <th>9</th>\n",
       "      <td>[This is a co-authored report from two of us w...</td>\n",
       "      <td>8</td>\n",
       "      <td>1</td>\n",
       "      <td>this authored report from were there owners ac...</td>\n",
       "    </tr>\n",
       "    <tr>\n",
       "      <th>29</th>\n",
       "      <td>\\n       The relevance is that if you've got x...</td>\n",
       "      <td>8</td>\n",
       "      <td>1</td>\n",
       "      <td>relevance that homicides reduce number homicid...</td>\n",
       "    </tr>\n",
       "    <tr>\n",
       "      <th>57</th>\n",
       "      <td>:\\n:So much for \"infinite patience.\"\\n: \\n;I f...</td>\n",
       "      <td>8</td>\n",
       "      <td>1</td>\n",
       "      <td>much infinite patience find hard swallow that ...</td>\n",
       "    </tr>\n",
       "    <tr>\n",
       "      <th>85</th>\n",
       "      <td>Re: More on Gun Buybacks\\n\\nThe Denver buy bac...</td>\n",
       "      <td>8</td>\n",
       "      <td>1</td>\n",
       "      <td>more buybacks denver back trading guns denver ...</td>\n",
       "    </tr>\n",
       "  </tbody>\n",
       "</table>\n",
       "</div>"
      ],
      "text/plain": [
       "                                             document  target  k_means  \\\n",
       "5   Actually not Jim.  I just said that everyone e...       8        7   \n",
       "9   [This is a co-authored report from two of us w...       8        1   \n",
       "29  \\n       The relevance is that if you've got x...       8        1   \n",
       "57  :\\n:So much for \"infinite patience.\"\\n: \\n;I f...       8        1   \n",
       "85  Re: More on Gun Buybacks\\n\\nThe Denver buy bac...       8        1   \n",
       "\n",
       "                                            clean_doc  \n",
       "5   actually just said that everyone else seemed h...  \n",
       "9   this authored report from were there owners ac...  \n",
       "29  relevance that homicides reduce number homicid...  \n",
       "57  much infinite patience find hard swallow that ...  \n",
       "85  more buybacks denver back trading guns denver ...  "
      ]
     },
     "execution_count": 270,
     "metadata": {},
     "output_type": "execute_result"
    },
    {
     "data": {
      "text/html": [
       "<div>\n",
       "<style scoped>\n",
       "    .dataframe tbody tr th:only-of-type {\n",
       "        vertical-align: middle;\n",
       "    }\n",
       "\n",
       "    .dataframe tbody tr th {\n",
       "        vertical-align: top;\n",
       "    }\n",
       "\n",
       "    .dataframe thead th {\n",
       "        text-align: right;\n",
       "    }\n",
       "</style>\n",
       "<table border=\"1\" class=\"dataframe\">\n",
       "  <thead>\n",
       "    <tr style=\"text-align: right;\">\n",
       "      <th></th>\n",
       "      <th>document</th>\n",
       "      <th>target</th>\n",
       "      <th>k_means</th>\n",
       "      <th>clean_doc</th>\n",
       "    </tr>\n",
       "  </thead>\n",
       "  <tbody>\n",
       "    <tr>\n",
       "      <th>0</th>\n",
       "      <td>improve these kids' chances&gt;&gt;of getting anothe...</td>\n",
       "      <td>9</td>\n",
       "      <td>7</td>\n",
       "      <td>improve these kids chances getting another fut...</td>\n",
       "    </tr>\n",
       "    <tr>\n",
       "      <th>4</th>\n",
       "      <td>\\n\\nWait a minute.  I agree with you that peop...</td>\n",
       "      <td>9</td>\n",
       "      <td>1</td>\n",
       "      <td>wait minute agree with that people have take r...</td>\n",
       "    </tr>\n",
       "    <tr>\n",
       "      <th>19</th>\n",
       "      <td>\\nFine.  Libertarians and anarchists are not a...</td>\n",
       "      <td>9</td>\n",
       "      <td>1</td>\n",
       "      <td>fine libertarians anarchists alone being uncom...</td>\n",
       "    </tr>\n",
       "    <tr>\n",
       "      <th>45</th>\n",
       "      <td>&gt;&gt;&gt;Does the greatly increased rates of inc...</td>\n",
       "      <td>9</td>\n",
       "      <td>1</td>\n",
       "      <td>does greatly increased rates incarceration amo...</td>\n",
       "    </tr>\n",
       "    <tr>\n",
       "      <th>58</th>\n",
       "      <td>\\nNo one is questioning whether Mr. King is bl...</td>\n",
       "      <td>9</td>\n",
       "      <td>7</td>\n",
       "      <td>questioning whether king black question arises...</td>\n",
       "    </tr>\n",
       "  </tbody>\n",
       "</table>\n",
       "</div>"
      ],
      "text/plain": [
       "                                             document  target  k_means  \\\n",
       "0   improve these kids' chances>>of getting anothe...       9        7   \n",
       "4   \\n\\nWait a minute.  I agree with you that peop...       9        1   \n",
       "19  \\nFine.  Libertarians and anarchists are not a...       9        1   \n",
       "45      >>>Does the greatly increased rates of inc...       9        1   \n",
       "58  \\nNo one is questioning whether Mr. King is bl...       9        7   \n",
       "\n",
       "                                            clean_doc  \n",
       "0   improve these kids chances getting another fut...  \n",
       "4   wait minute agree with that people have take r...  \n",
       "19  fine libertarians anarchists alone being uncom...  \n",
       "45  does greatly increased rates incarceration amo...  \n",
       "58  questioning whether king black question arises...  "
      ]
     },
     "execution_count": 270,
     "metadata": {},
     "output_type": "execute_result"
    }
   ],
   "source": [
    "for i, j in news_df.groupby('target'):\n",
    "    j.head()"
   ]
  },
  {
   "cell_type": "markdown",
   "metadata": {},
   "source": [
    "### 3.4 silhouette_visualizer"
   ]
  },
  {
   "cell_type": "markdown",
   "metadata": {},
   "source": [
    "#### yellowbrick 설치 및 예제, conda install yellowbrick"
   ]
  },
  {
   "cell_type": "code",
   "execution_count": 290,
   "metadata": {},
   "outputs": [
    {
     "data": {
      "text/plain": [
       "'d:\\\\HMOT\\\\scripts'"
      ]
     },
     "execution_count": 290,
     "metadata": {},
     "output_type": "execute_result"
    }
   ],
   "source": [
    "pwd"
   ]
  },
  {
   "cell_type": "code",
   "execution_count": 275,
   "metadata": {
    "scrolled": false
   },
   "outputs": [
    {
     "data": {
      "image/png": "[encoded data removed]",
      "text/plain": [
       "<Figure size 576x396 with 1 Axes>"
      ]
     },
     "metadata": {},
     "output_type": "display_data"
    },
    {
     "data": {
      "text/plain": [
       "SilhouetteVisualizer(ax=<AxesSubplot:title={'center':'Silhouette Plot of KMeans Clustering for 18941 Samples in 5 Centers'}, xlabel='silhouette coefficient values', ylabel='cluster label'>,\n",
       "                     colors='yellowbrick',\n",
       "                     estimator=KMeans(n_clusters=5, random_state=42))"
      ]
     },
     "execution_count": 275,
     "metadata": {},
     "output_type": "execute_result"
    }
   ],
   "source": [
    "from yellowbrick.cluster import silhouette_visualizer\n",
    "from yellowbrick.datasets import load_credit\n",
    "\n",
    "# Load a clustering dataset\n",
    "x, y = load_credit()\n",
    "\n",
    "# Specify rows to cluster: under 40 y/o and have either graduate or university education\n",
    "x = x[(x['age'] <= 40) & (x['edu'].isin([1,2]))]\n",
    "\n",
    "# Use the quick method and immediately show the figure\n",
    "silhouette_visualizer(KMeans(5, random_state=42), x, colors='yellowbrick')"
   ]
  },
  {
   "cell_type": "code",
   "execution_count": 289,
   "metadata": {},
   "outputs": [
    {
     "data": {
      "image/png": "[encoded data removed]",
      "text/plain": [
       "<Figure size 576x396 with 1 Axes>"
      ]
     },
     "metadata": {},
     "output_type": "display_data"
    },
    {
     "data": {
      "text/plain": [
       "SilhouetteVisualizer(ax=<AxesSubplot:title={'center':'Silhouette Plot of KMeans Clustering for 5627 Samples in 4 Centers'}, xlabel='silhouette coefficient values', ylabel='cluster label'>,\n",
       "                     colors='yellowbrick',\n",
       "                     estimator=KMeans(n_clusters=4, random_state=42))"
      ]
     },
     "execution_count": 289,
     "metadata": {},
     "output_type": "execute_result"
    },
    {
     "data": {
      "image/png": "[encoded data removed]",
      "text/plain": [
       "<Figure size 576x396 with 1 Axes>"
      ]
     },
     "metadata": {},
     "output_type": "display_data"
    },
    {
     "data": {
      "text/plain": [
       "SilhouetteVisualizer(ax=<AxesSubplot:title={'center':'Silhouette Plot of KMeans Clustering for 5627 Samples in 6 Centers'}, xlabel='silhouette coefficient values', ylabel='cluster label'>,\n",
       "                     colors='yellowbrick',\n",
       "                     estimator=KMeans(n_clusters=6, random_state=42))"
      ]
     },
     "execution_count": 289,
     "metadata": {},
     "output_type": "execute_result"
    },
    {
     "data": {
      "image/png": "[encoded data removed]",
      "text/plain": [
       "<Figure size 576x396 with 1 Axes>"
      ]
     },
     "metadata": {},
     "output_type": "display_data"
    },
    {
     "data": {
      "text/plain": [
       "SilhouetteVisualizer(ax=<AxesSubplot:title={'center':'Silhouette Plot of KMeans Clustering for 5627 Samples in 8 Centers'}, xlabel='silhouette coefficient values', ylabel='cluster label'>,\n",
       "                     colors='yellowbrick', estimator=KMeans(random_state=42))"
      ]
     },
     "execution_count": 289,
     "metadata": {},
     "output_type": "execute_result"
    },
    {
     "data": {
      "image/png": "[encoded data removed]",
      "text/plain": [
       "<Figure size 576x396 with 1 Axes>"
      ]
     },
     "metadata": {},
     "output_type": "display_data"
    },
    {
     "data": {
      "text/plain": [
       "SilhouetteVisualizer(ax=<AxesSubplot:title={'center':'Silhouette Plot of KMeans Clustering for 5627 Samples in 10 Centers'}, xlabel='silhouette coefficient values', ylabel='cluster label'>,\n",
       "                     colors='yellowbrick',\n",
       "                     estimator=KMeans(n_clusters=10, random_state=42))"
      ]
     },
     "execution_count": 289,
     "metadata": {},
     "output_type": "execute_result"
    }
   ],
   "source": [
    "for i in [4,6,8,10]:\n",
    "    silhouette_visualizer(KMeans(i, random_state=42), X.toarray(), colors='yellowbrick')"
   ]
  },
  {
   "cell_type": "code",
   "execution_count": null,
   "metadata": {},
   "outputs": [],
   "source": []
  }
 ],
 "metadata": {
  "anaconda-cloud": {},
  "kernelspec": {
   "display_name": "Python 3",
   "language": "python",
   "name": "python3"
  },
  "language_info": {
   "codemirror_mode": {
    "name": "ipython",
    "version": 3
   },
   "file_extension": ".py",
   "mimetype": "text/x-python",
   "name": "python",
   "nbconvert_exporter": "python",
   "pygments_lexer": "ipython3",
   "version": "3.8.8"
  }
 },
 "nbformat": 4,
 "nbformat_minor": 1
}
