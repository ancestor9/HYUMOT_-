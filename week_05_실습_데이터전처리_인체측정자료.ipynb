{
 "cells": [
  {
   "cell_type": "markdown",
   "metadata": {},
   "source": [
    "# Size Korea"
   ]
  },
  {
   "cell_type": "code",
   "execution_count": 1,
   "metadata": {},
   "outputs": [
    {
     "data": {
      "text/html": [
       "<style>.container { width:100% !important; }</style>"
      ],
      "text/plain": [
       "<IPython.core.display.HTML object>"
      ]
     },
     "metadata": {},
     "output_type": "display_data"
    }
   ],
   "source": [
    "from IPython.core.interactiveshell import InteractiveShell\n",
    "InteractiveShell.ast_node_interactivity = \"all\"\n",
    "\n",
    "from IPython.core.display import display, HTML\n",
    "display(HTML(\"<style>.container { width:100% !important; }</style>\"))\n",
    "\n",
    "import matplotlib.pyplot as plt\n",
    "plt.rcParams['font.family']='Malgun Gothic'\n",
    "import warnings\n",
    "warnings.filterwarnings('ignore')\n",
    "\n",
    "import pandas as pd\n",
    "import numpy as np"
   ]
  },
  {
   "cell_type": "code",
   "execution_count": 2,
   "metadata": {},
   "outputs": [],
   "source": [
    "def summary(df) :\n",
    "    tf = pd.DataFrame({'데이터형태(dtypes)' : df.dtypes,\n",
    "                       '결측치 수(null)' : df.isnull().sum(),\n",
    "                       '결측치 비율' : (df.isnull().sum()/df.shape[0]).round(4)*100,\n",
    "                       '고유값 수(nunique)' : df.nunique()})\n",
    "    return tf"
   ]
  },
  {
   "cell_type": "markdown",
   "metadata": {},
   "source": [
    "## 1. 데이터 불러오고 합치기"
   ]
  },
  {
   "cell_type": "code",
   "execution_count": 7,
   "metadata": {},
   "outputs": [
    {
     "name": "stdout",
     "output_type": "stream",
     "text": [
      "Wall time: 15.3 s\n",
      "Wall time: 6.8 s\n"
     ]
    }
   ],
   "source": [
    "%time df1 = pd.read_excel('../data/2010_6차_직접측정 데이터.xlsx')\n",
    "%time df2 = pd.read_excel('../data/2015_7차_직접측정 데이터.xlsx')"
   ]
  },
  {
   "cell_type": "code",
   "execution_count": 5,
   "metadata": {},
   "outputs": [
    {
     "ename": "ValueError",
     "evalue": "unsupported pickle protocol: 5",
     "output_type": "error",
     "traceback": [
      "\u001b[1;31m---------------------------------------------------------------------------\u001b[0m",
      "\u001b[1;31mValueError\u001b[0m                                Traceback (most recent call last)",
      "\u001b[1;32m<ipython-input-5-f83f209b6a08>\u001b[0m in \u001b[0;36m<module>\u001b[1;34m\u001b[0m\n\u001b[1;32m----> 1\u001b[1;33m \u001b[0mdf1\u001b[0m \u001b[1;33m=\u001b[0m \u001b[0mpd\u001b[0m\u001b[1;33m.\u001b[0m\u001b[0mread_pickle\u001b[0m\u001b[1;33m(\u001b[0m\u001b[1;34m'../data/2010_6차_직접측정 데이터.pkl'\u001b[0m\u001b[1;33m)\u001b[0m\u001b[1;33m\u001b[0m\u001b[1;33m\u001b[0m\u001b[0m\n\u001b[0m\u001b[0;32m      2\u001b[0m \u001b[0mdf2\u001b[0m \u001b[1;33m=\u001b[0m \u001b[0mpd\u001b[0m\u001b[1;33m.\u001b[0m\u001b[0mread_pickle\u001b[0m\u001b[1;33m(\u001b[0m\u001b[1;34m'../data/2010_7차_직접측정 데이터.pkl'\u001b[0m\u001b[1;33m)\u001b[0m\u001b[1;33m\u001b[0m\u001b[1;33m\u001b[0m\u001b[0m\n",
      "\u001b[1;32m~\\Anaconda3\\lib\\site-packages\\pandas\\io\\pickle.py\u001b[0m in \u001b[0;36mread_pickle\u001b[1;34m(filepath_or_buffer, compression)\u001b[0m\n\u001b[0;32m    180\u001b[0m                 \u001b[1;31m# We want to silence any warnings about, e.g. moved modules.\u001b[0m\u001b[1;33m\u001b[0m\u001b[1;33m\u001b[0m\u001b[1;33m\u001b[0m\u001b[0m\n\u001b[0;32m    181\u001b[0m                 \u001b[0mwarnings\u001b[0m\u001b[1;33m.\u001b[0m\u001b[0msimplefilter\u001b[0m\u001b[1;33m(\u001b[0m\u001b[1;34m\"ignore\"\u001b[0m\u001b[1;33m,\u001b[0m \u001b[0mWarning\u001b[0m\u001b[1;33m)\u001b[0m\u001b[1;33m\u001b[0m\u001b[1;33m\u001b[0m\u001b[0m\n\u001b[1;32m--> 182\u001b[1;33m                 \u001b[1;32mreturn\u001b[0m \u001b[0mpickle\u001b[0m\u001b[1;33m.\u001b[0m\u001b[0mload\u001b[0m\u001b[1;33m(\u001b[0m\u001b[0mf\u001b[0m\u001b[1;33m)\u001b[0m\u001b[1;33m\u001b[0m\u001b[1;33m\u001b[0m\u001b[0m\n\u001b[0m\u001b[0;32m    183\u001b[0m         \u001b[1;32mexcept\u001b[0m \u001b[0mexcs_to_catch\u001b[0m\u001b[1;33m:\u001b[0m\u001b[1;33m\u001b[0m\u001b[1;33m\u001b[0m\u001b[0m\n\u001b[0;32m    184\u001b[0m             \u001b[1;31m# e.g.\u001b[0m\u001b[1;33m\u001b[0m\u001b[1;33m\u001b[0m\u001b[1;33m\u001b[0m\u001b[0m\n",
      "\u001b[1;31mValueError\u001b[0m: unsupported pickle protocol: 5"
     ]
    }
   ],
   "source": [
    "df1 = pd.read_pickle('../data/2010_6차_직접측정 데이터.pkl')\n",
    "df2 = pd.read_pickle('../data/2010_7차_직접측정 데이터.pkl')"
   ]
  },
  {
   "cell_type": "code",
   "execution_count": 8,
   "metadata": {
    "scrolled": true
   },
   "outputs": [
    {
     "data": {
      "text/html": [
       "<div>\n",
       "<style scoped>\n",
       "    .dataframe tbody tr th:only-of-type {\n",
       "        vertical-align: middle;\n",
       "    }\n",
       "\n",
       "    .dataframe tbody tr th {\n",
       "        vertical-align: top;\n",
       "    }\n",
       "\n",
       "    .dataframe thead th {\n",
       "        text-align: right;\n",
       "    }\n",
       "</style>\n",
       "<table border=\"1\" class=\"dataframe\">\n",
       "  <thead>\n",
       "    <tr style=\"text-align: right;\">\n",
       "      <th></th>\n",
       "      <th>성별</th>\n",
       "      <th>나이</th>\n",
       "      <th>101:오른쪽어깨경사각</th>\n",
       "      <th>102:왼쪽어깨경사각</th>\n",
       "      <th>103:머리위로뻗은주먹높이</th>\n",
       "      <th>104:키</th>\n",
       "      <th>105:눈높이</th>\n",
       "      <th>106:목뒤높이</th>\n",
       "      <th>107:어깨높이</th>\n",
       "      <th>108:어깨가쪽높이</th>\n",
       "      <th>...</th>\n",
       "      <th>527:왼쪽상체근육발달</th>\n",
       "      <th>528:오른쪽상체근육발달</th>\n",
       "      <th>529:왼쪽하체근육발달</th>\n",
       "      <th>530:오른쪽하체근육발달</th>\n",
       "      <th>531:몸통근육발달</th>\n",
       "      <th>532:왼쪽상체체지방</th>\n",
       "      <th>533:오른쪽상체체지방</th>\n",
       "      <th>534:왼쪽하체체지방</th>\n",
       "      <th>535:오른쪽하체체지방</th>\n",
       "      <th>536:몸통체지방</th>\n",
       "    </tr>\n",
       "  </thead>\n",
       "  <tbody>\n",
       "    <tr>\n",
       "      <th>0</th>\n",
       "      <td>남</td>\n",
       "      <td>23</td>\n",
       "      <td>22</td>\n",
       "      <td>24</td>\n",
       "      <td>2088</td>\n",
       "      <td>1740</td>\n",
       "      <td>1616</td>\n",
       "      <td>1475</td>\n",
       "      <td>1429</td>\n",
       "      <td>1448</td>\n",
       "      <td>...</td>\n",
       "      <td>표준</td>\n",
       "      <td>표준</td>\n",
       "      <td>표준</td>\n",
       "      <td>표준</td>\n",
       "      <td>표준</td>\n",
       "      <td>표준</td>\n",
       "      <td>표준</td>\n",
       "      <td>표준</td>\n",
       "      <td>표준</td>\n",
       "      <td>표준</td>\n",
       "    </tr>\n",
       "    <tr>\n",
       "      <th>1</th>\n",
       "      <td>남</td>\n",
       "      <td>22</td>\n",
       "      <td>24</td>\n",
       "      <td>18</td>\n",
       "      <td>2002</td>\n",
       "      <td>1722</td>\n",
       "      <td>1596</td>\n",
       "      <td>1439</td>\n",
       "      <td>1368</td>\n",
       "      <td>1394</td>\n",
       "      <td>...</td>\n",
       "      <td>표준</td>\n",
       "      <td>표준</td>\n",
       "      <td>표준</td>\n",
       "      <td>표상</td>\n",
       "      <td>표준</td>\n",
       "      <td>표하</td>\n",
       "      <td>표하</td>\n",
       "      <td>표하</td>\n",
       "      <td>표준</td>\n",
       "      <td>표준</td>\n",
       "    </tr>\n",
       "  </tbody>\n",
       "</table>\n",
       "<p>2 rows × 155 columns</p>\n",
       "</div>"
      ],
      "text/plain": [
       "  성별  나이  101:오른쪽어깨경사각  102:왼쪽어깨경사각  103:머리위로뻗은주먹높이  104:키  105:눈높이  106:목뒤높이  \\\n",
       "0  남  23            22           24            2088   1740     1616      1475   \n",
       "1  남  22            24           18            2002   1722     1596      1439   \n",
       "\n",
       "   107:어깨높이  108:어깨가쪽높이  ...  527:왼쪽상체근육발달  528:오른쪽상체근육발달  529:왼쪽하체근육발달  \\\n",
       "0      1429        1448  ...            표준             표준            표준   \n",
       "1      1368        1394  ...            표준             표준            표준   \n",
       "\n",
       "   530:오른쪽하체근육발달  531:몸통근육발달  532:왼쪽상체체지방  533:오른쪽상체체지방  534:왼쪽하체체지방  \\\n",
       "0             표준          표준           표준            표준           표준   \n",
       "1             표상          표준           표하            표하           표하   \n",
       "\n",
       "   535:오른쪽하체체지방  536:몸통체지방  \n",
       "0            표준         표준  \n",
       "1            표준         표준  \n",
       "\n",
       "[2 rows x 155 columns]"
      ]
     },
     "execution_count": 8,
     "metadata": {},
     "output_type": "execute_result"
    },
    {
     "data": {
      "text/html": [
       "<div>\n",
       "<style scoped>\n",
       "    .dataframe tbody tr th:only-of-type {\n",
       "        vertical-align: middle;\n",
       "    }\n",
       "\n",
       "    .dataframe tbody tr th {\n",
       "        vertical-align: top;\n",
       "    }\n",
       "\n",
       "    .dataframe thead th {\n",
       "        text-align: right;\n",
       "    }\n",
       "</style>\n",
       "<table border=\"1\" class=\"dataframe\">\n",
       "  <thead>\n",
       "    <tr style=\"text-align: right;\">\n",
       "      <th></th>\n",
       "      <th>ⓞ_02_성별</th>\n",
       "      <th>ⓞ_06_나이_반올림</th>\n",
       "      <th>ⓞ_12_골격근량</th>\n",
       "      <th>ⓞ_13_체지방량</th>\n",
       "      <th>ⓞ_14_체수분</th>\n",
       "      <th>ⓞ_15_단백질</th>\n",
       "      <th>ⓞ_16_무기질</th>\n",
       "      <th>ⓞ_17_BMI</th>\n",
       "      <th>ⓞ_18_체지방율</th>\n",
       "      <th>ⓞ_19_복부지방율</th>\n",
       "      <th>...</th>\n",
       "      <th>①_124_무릎아래둘레</th>\n",
       "      <th>①_125_장딴지둘레</th>\n",
       "      <th>①_126_종아리최소둘레</th>\n",
       "      <th>①_127_발목최대둘레</th>\n",
       "      <th>①_128_발목너비</th>\n",
       "      <th>①_129_발뒤꿈치너비</th>\n",
       "      <th>①_130_위팔둘레</th>\n",
       "      <th>①_131_팔꿈치둘레</th>\n",
       "      <th>①_132_손목둘레</th>\n",
       "      <th>①_133_머리위로뻗은주먹높이</th>\n",
       "    </tr>\n",
       "  </thead>\n",
       "  <tbody>\n",
       "    <tr>\n",
       "      <th>0</th>\n",
       "      <td>남</td>\n",
       "      <td>25</td>\n",
       "      <td>33.2</td>\n",
       "      <td>13.6</td>\n",
       "      <td>42.9</td>\n",
       "      <td>11.8</td>\n",
       "      <td>3.8</td>\n",
       "      <td>23.924112</td>\n",
       "      <td>18.9</td>\n",
       "      <td>0.9</td>\n",
       "      <td>...</td>\n",
       "      <td>325.0</td>\n",
       "      <td>370.0</td>\n",
       "      <td>209.0</td>\n",
       "      <td>241.0</td>\n",
       "      <td>50.0</td>\n",
       "      <td>62.0</td>\n",
       "      <td>325.0</td>\n",
       "      <td>286.0</td>\n",
       "      <td>153.0</td>\n",
       "      <td>2013.0</td>\n",
       "    </tr>\n",
       "    <tr>\n",
       "      <th>1</th>\n",
       "      <td>남</td>\n",
       "      <td>28</td>\n",
       "      <td>44.5</td>\n",
       "      <td>28.7</td>\n",
       "      <td>56.5</td>\n",
       "      <td>15.5</td>\n",
       "      <td>5.5</td>\n",
       "      <td>31.608187</td>\n",
       "      <td>27.0</td>\n",
       "      <td>0.9</td>\n",
       "      <td>...</td>\n",
       "      <td>396.0</td>\n",
       "      <td>439.0</td>\n",
       "      <td>260.0</td>\n",
       "      <td>295.0</td>\n",
       "      <td>62.0</td>\n",
       "      <td>77.0</td>\n",
       "      <td>395.0</td>\n",
       "      <td>318.0</td>\n",
       "      <td>179.0</td>\n",
       "      <td>2160.0</td>\n",
       "    </tr>\n",
       "  </tbody>\n",
       "</table>\n",
       "<p>2 rows × 148 columns</p>\n",
       "</div>"
      ],
      "text/plain": [
       "  ⓞ_02_성별  ⓞ_06_나이_반올림  ⓞ_12_골격근량  ⓞ_13_체지방량  ⓞ_14_체수분  ⓞ_15_단백질  ⓞ_16_무기질  \\\n",
       "0       남           25       33.2       13.6      42.9      11.8       3.8   \n",
       "1       남           28       44.5       28.7      56.5      15.5       5.5   \n",
       "\n",
       "    ⓞ_17_BMI  ⓞ_18_체지방율  ⓞ_19_복부지방율  ... ①_124_무릎아래둘레  ①_125_장딴지둘레  \\\n",
       "0  23.924112       18.9         0.9  ...        325.0        370.0   \n",
       "1  31.608187       27.0         0.9  ...        396.0        439.0   \n",
       "\n",
       "  ①_126_종아리최소둘레  ①_127_발목최대둘레  ①_128_발목너비  ①_129_발뒤꿈치너비  ①_130_위팔둘레  \\\n",
       "0         209.0         241.0        50.0          62.0       325.0   \n",
       "1         260.0         295.0        62.0          77.0       395.0   \n",
       "\n",
       "   ①_131_팔꿈치둘레  ①_132_손목둘레  ①_133_머리위로뻗은주먹높이  \n",
       "0        286.0       153.0            2013.0  \n",
       "1        318.0       179.0            2160.0  \n",
       "\n",
       "[2 rows x 148 columns]"
      ]
     },
     "execution_count": 8,
     "metadata": {},
     "output_type": "execute_result"
    }
   ],
   "source": [
    "df1.head(2)\n",
    "df2.head(2)"
   ]
  },
  {
   "cell_type": "markdown",
   "metadata": {},
   "source": [
    "### 1.1 컬럼명 동일화"
   ]
  },
  {
   "cell_type": "code",
   "execution_count": 9,
   "metadata": {},
   "outputs": [
    {
     "data": {
      "text/plain": [
       "'성별'"
      ]
     },
     "execution_count": 9,
     "metadata": {},
     "output_type": "execute_result"
    },
    {
     "data": {
      "text/plain": [
       "'나이'"
      ]
     },
     "execution_count": 9,
     "metadata": {},
     "output_type": "execute_result"
    },
    {
     "data": {
      "text/plain": [
       "'101:오른쪽어깨경사각'"
      ]
     },
     "execution_count": 9,
     "metadata": {},
     "output_type": "execute_result"
    },
    {
     "data": {
      "text/plain": [
       "'102:왼쪽어깨경사각'"
      ]
     },
     "execution_count": 9,
     "metadata": {},
     "output_type": "execute_result"
    },
    {
     "data": {
      "text/plain": [
       "'103:머리위로뻗은주먹높이'"
      ]
     },
     "execution_count": 9,
     "metadata": {},
     "output_type": "execute_result"
    },
    {
     "data": {
      "text/plain": [
       "'104:키'"
      ]
     },
     "execution_count": 9,
     "metadata": {},
     "output_type": "execute_result"
    },
    {
     "data": {
      "text/plain": [
       "'105:눈높이'"
      ]
     },
     "execution_count": 9,
     "metadata": {},
     "output_type": "execute_result"
    },
    {
     "data": {
      "text/plain": [
       "'106:목뒤높이'"
      ]
     },
     "execution_count": 9,
     "metadata": {},
     "output_type": "execute_result"
    },
    {
     "data": {
      "text/plain": [
       "'107:어깨높이'"
      ]
     },
     "execution_count": 9,
     "metadata": {},
     "output_type": "execute_result"
    },
    {
     "data": {
      "text/plain": [
       "'108:어깨가쪽높이'"
      ]
     },
     "execution_count": 9,
     "metadata": {},
     "output_type": "execute_result"
    },
    {
     "data": {
      "text/plain": [
       "'109:겨드랑높이'"
      ]
     },
     "execution_count": 9,
     "metadata": {},
     "output_type": "execute_result"
    },
    {
     "data": {
      "text/plain": [
       "'110:굽힌팔꿈치높이'"
      ]
     },
     "execution_count": 9,
     "metadata": {},
     "output_type": "execute_result"
    },
    {
     "data": {
      "text/plain": [
       "'111:엉덩이높이'"
      ]
     },
     "execution_count": 9,
     "metadata": {},
     "output_type": "execute_result"
    },
    {
     "data": {
      "text/plain": [
       "'112:주먹높이'"
      ]
     },
     "execution_count": 9,
     "metadata": {},
     "output_type": "execute_result"
    },
    {
     "data": {
      "text/plain": [
       "'113:허리높이'"
      ]
     },
     "execution_count": 9,
     "metadata": {},
     "output_type": "execute_result"
    },
    {
     "data": {
      "text/plain": [
       "'114:배꼽수준허리높이'"
      ]
     },
     "execution_count": 9,
     "metadata": {},
     "output_type": "execute_result"
    },
    {
     "data": {
      "text/plain": [
       "'115:위앞엉덩뼈가시높이'"
      ]
     },
     "execution_count": 9,
     "metadata": {},
     "output_type": "execute_result"
    },
    {
     "data": {
      "text/plain": [
       "'116:무릎높이'"
      ]
     },
     "execution_count": 9,
     "metadata": {},
     "output_type": "execute_result"
    },
    {
     "data": {
      "text/plain": [
       "'117:가슴너비'"
      ]
     },
     "execution_count": 9,
     "metadata": {},
     "output_type": "execute_result"
    },
    {
     "data": {
      "text/plain": [
       "'118:젖가슴너비'"
      ]
     },
     "execution_count": 9,
     "metadata": {},
     "output_type": "execute_result"
    },
    {
     "data": {
      "text/plain": [
       "'119:허리너비'"
      ]
     },
     "execution_count": 9,
     "metadata": {},
     "output_type": "execute_result"
    },
    {
     "data": {
      "text/plain": [
       "'120:배꼽수준허리너비'"
      ]
     },
     "execution_count": 9,
     "metadata": {},
     "output_type": "execute_result"
    },
    {
     "data": {
      "text/plain": [
       "'121:엉덩이너비'"
      ]
     },
     "execution_count": 9,
     "metadata": {},
     "output_type": "execute_result"
    },
    {
     "data": {
      "text/plain": [
       "'122:겨드랑두께'"
      ]
     },
     "execution_count": 9,
     "metadata": {},
     "output_type": "execute_result"
    },
    {
     "data": {
      "text/plain": [
       "'123:가슴두께'"
      ]
     },
     "execution_count": 9,
     "metadata": {},
     "output_type": "execute_result"
    },
    {
     "data": {
      "text/plain": [
       "'124:젖가슴두께'"
      ]
     },
     "execution_count": 9,
     "metadata": {},
     "output_type": "execute_result"
    },
    {
     "data": {
      "text/plain": [
       "'125:허리두께'"
      ]
     },
     "execution_count": 9,
     "metadata": {},
     "output_type": "execute_result"
    },
    {
     "data": {
      "text/plain": [
       "'126:배꼽수준허리두께'"
      ]
     },
     "execution_count": 9,
     "metadata": {},
     "output_type": "execute_result"
    },
    {
     "data": {
      "text/plain": [
       "'127:엉덩이두께'"
      ]
     },
     "execution_count": 9,
     "metadata": {},
     "output_type": "execute_result"
    },
    {
     "data": {
      "text/plain": [
       "'128:샅높이'"
      ]
     },
     "execution_count": 9,
     "metadata": {},
     "output_type": "execute_result"
    },
    {
     "data": {
      "text/plain": [
       "'129:몸통수직길이'"
      ]
     },
     "execution_count": 9,
     "metadata": {},
     "output_type": "execute_result"
    },
    {
     "data": {
      "text/plain": [
       "'130:엉덩이수직길이'"
      ]
     },
     "execution_count": 9,
     "metadata": {},
     "output_type": "execute_result"
    },
    {
     "data": {
      "text/plain": [
       "'131:허리기준선높이'"
      ]
     },
     "execution_count": 9,
     "metadata": {},
     "output_type": "execute_result"
    },
    {
     "data": {
      "text/plain": [
       "'201:앞중심길이'"
      ]
     },
     "execution_count": 9,
     "metadata": {},
     "output_type": "execute_result"
    },
    {
     "data": {
      "text/plain": [
       "'202:배꼽수준앞중심길이'"
      ]
     },
     "execution_count": 9,
     "metadata": {},
     "output_type": "execute_result"
    },
    {
     "data": {
      "text/plain": [
       "'203:겨드랑앞벽사이길이'"
      ]
     },
     "execution_count": 9,
     "metadata": {},
     "output_type": "execute_result"
    },
    {
     "data": {
      "text/plain": [
       "'204:겨드랑앞접힘사이길이'"
      ]
     },
     "execution_count": 9,
     "metadata": {},
     "output_type": "execute_result"
    },
    {
     "data": {
      "text/plain": [
       "'205:젖꼭지사이수평길이'"
      ]
     },
     "execution_count": 9,
     "metadata": {},
     "output_type": "execute_result"
    },
    {
     "data": {
      "text/plain": [
       "'206:목둘레'"
      ]
     },
     "execution_count": 9,
     "metadata": {},
     "output_type": "execute_result"
    },
    {
     "data": {
      "text/plain": [
       "'207:목밑둘레'"
      ]
     },
     "execution_count": 9,
     "metadata": {},
     "output_type": "execute_result"
    },
    {
     "data": {
      "text/plain": [
       "'208:가슴둘레'"
      ]
     },
     "execution_count": 9,
     "metadata": {},
     "output_type": "execute_result"
    },
    {
     "data": {
      "text/plain": [
       "'209:젖가슴둘레'"
      ]
     },
     "execution_count": 9,
     "metadata": {},
     "output_type": "execute_result"
    },
    {
     "data": {
      "text/plain": [
       "'210:젖가슴아래둘레'"
      ]
     },
     "execution_count": 9,
     "metadata": {},
     "output_type": "execute_result"
    },
    {
     "data": {
      "text/plain": [
       "'211:허리둘레'"
      ]
     },
     "execution_count": 9,
     "metadata": {},
     "output_type": "execute_result"
    },
    {
     "data": {
      "text/plain": [
       "'212:배꼽수준허리둘레'"
      ]
     },
     "execution_count": 9,
     "metadata": {},
     "output_type": "execute_result"
    },
    {
     "data": {
      "text/plain": [
       "'213:배둘레'"
      ]
     },
     "execution_count": 9,
     "metadata": {},
     "output_type": "execute_result"
    },
    {
     "data": {
      "text/plain": [
       "'214:엉덩이둘레'"
      ]
     },
     "execution_count": 9,
     "metadata": {},
     "output_type": "execute_result"
    },
    {
     "data": {
      "text/plain": [
       "'215:배돌출점기준엉덩이둘레'"
      ]
     },
     "execution_count": 9,
     "metadata": {},
     "output_type": "execute_result"
    },
    {
     "data": {
      "text/plain": [
       "'216:어깨길이'"
      ]
     },
     "execution_count": 9,
     "metadata": {},
     "output_type": "execute_result"
    },
    {
     "data": {
      "text/plain": [
       "'217:목뒤등뼈위겨드랑수준길이'"
      ]
     },
     "execution_count": 9,
     "metadata": {},
     "output_type": "execute_result"
    },
    {
     "data": {
      "text/plain": [
       "'218:등길이'"
      ]
     },
     "execution_count": 9,
     "metadata": {},
     "output_type": "execute_result"
    },
    {
     "data": {
      "text/plain": [
       "'219:배꼽수준등길이'"
      ]
     },
     "execution_count": 9,
     "metadata": {},
     "output_type": "execute_result"
    },
    {
     "data": {
      "text/plain": [
       "'220:목뒤오금길이'"
      ]
     },
     "execution_count": 9,
     "metadata": {},
     "output_type": "execute_result"
    },
    {
     "data": {
      "text/plain": [
       "'221:총길이'"
      ]
     },
     "execution_count": 9,
     "metadata": {},
     "output_type": "execute_result"
    },
    {
     "data": {
      "text/plain": [
       "'222:넙다리직선길이'"
      ]
     },
     "execution_count": 9,
     "metadata": {},
     "output_type": "execute_result"
    },
    {
     "data": {
      "text/plain": [
       "'223:어깨사이길이'"
      ]
     },
     "execution_count": 9,
     "metadata": {},
     "output_type": "execute_result"
    },
    {
     "data": {
      "text/plain": [
       "'224:어깨가쪽사이길이'"
      ]
     },
     "execution_count": 9,
     "metadata": {},
     "output_type": "execute_result"
    },
    {
     "data": {
      "text/plain": [
       "'225:겨드랑뒤벽사이길이'"
      ]
     },
     "execution_count": 9,
     "metadata": {},
     "output_type": "execute_result"
    },
    {
     "data": {
      "text/plain": [
       "'226:겨드랑뒤벽접힘사이길이'"
      ]
     },
     "execution_count": 9,
     "metadata": {},
     "output_type": "execute_result"
    },
    {
     "data": {
      "text/plain": [
       "'227:목뒤젖꼭지길이'"
      ]
     },
     "execution_count": 9,
     "metadata": {},
     "output_type": "execute_result"
    },
    {
     "data": {
      "text/plain": [
       "'228:목뒤젖꼭지허리둘레선길이'"
      ]
     },
     "execution_count": 9,
     "metadata": {},
     "output_type": "execute_result"
    },
    {
     "data": {
      "text/plain": [
       "'229:목옆젖꼭지길이'"
      ]
     },
     "execution_count": 9,
     "metadata": {},
     "output_type": "execute_result"
    },
    {
     "data": {
      "text/plain": [
       "'230:목옆허리둘레선길이'"
      ]
     },
     "execution_count": 9,
     "metadata": {},
     "output_type": "execute_result"
    },
    {
     "data": {
      "text/plain": [
       "'231:목옆어깨뼈아래허리둘레선길이'"
      ]
     },
     "execution_count": 9,
     "metadata": {},
     "output_type": "execute_result"
    },
    {
     "data": {
      "text/plain": [
       "'232:위팔길이'"
      ]
     },
     "execution_count": 9,
     "metadata": {},
     "output_type": "execute_result"
    },
    {
     "data": {
      "text/plain": [
       "'233:팔길이'"
      ]
     },
     "execution_count": 9,
     "metadata": {},
     "output_type": "execute_result"
    },
    {
     "data": {
      "text/plain": [
       "'234:팔안쪽길이'"
      ]
     },
     "execution_count": 9,
     "metadata": {},
     "output_type": "execute_result"
    },
    {
     "data": {
      "text/plain": [
       "'235:목뒤손목안쪽길이'"
      ]
     },
     "execution_count": 9,
     "metadata": {},
     "output_type": "execute_result"
    },
    {
     "data": {
      "text/plain": [
       "'236:겨드랑둘레'"
      ]
     },
     "execution_count": 9,
     "metadata": {},
     "output_type": "execute_result"
    },
    {
     "data": {
      "text/plain": [
       "'237:엉덩이옆길이'"
      ]
     },
     "execution_count": 9,
     "metadata": {},
     "output_type": "execute_result"
    },
    {
     "data": {
      "text/plain": [
       "'238:다리가쪽길이'"
      ]
     },
     "execution_count": 9,
     "metadata": {},
     "output_type": "execute_result"
    },
    {
     "data": {
      "text/plain": [
       "'239:몸통세로둘레'"
      ]
     },
     "execution_count": 9,
     "metadata": {},
     "output_type": "execute_result"
    },
    {
     "data": {
      "text/plain": [
       "'240:샅앞뒤길이'"
      ]
     },
     "execution_count": 9,
     "metadata": {},
     "output_type": "execute_result"
    },
    {
     "data": {
      "text/plain": [
       "'241:배꼽수준샅앞뒤길이'"
      ]
     },
     "execution_count": 9,
     "metadata": {},
     "output_type": "execute_result"
    },
    {
     "data": {
      "text/plain": [
       "'301:앉은키'"
      ]
     },
     "execution_count": 9,
     "metadata": {},
     "output_type": "execute_result"
    },
    {
     "data": {
      "text/plain": [
       "'302:앉은눈높이'"
      ]
     },
     "execution_count": 9,
     "metadata": {},
     "output_type": "execute_result"
    },
    {
     "data": {
      "text/plain": [
       "'303:앉은목뒤높이'"
      ]
     },
     "execution_count": 9,
     "metadata": {},
     "output_type": "execute_result"
    },
    {
     "data": {
      "text/plain": [
       "'304:앉은어깨높이'"
      ]
     },
     "execution_count": 9,
     "metadata": {},
     "output_type": "execute_result"
    },
    {
     "data": {
      "text/plain": [
       "'305:앉은팔꿈치높이'"
      ]
     },
     "execution_count": 9,
     "metadata": {},
     "output_type": "execute_result"
    },
    {
     "data": {
      "text/plain": [
       "'306:앉은넙다리높이'"
      ]
     },
     "execution_count": 9,
     "metadata": {},
     "output_type": "execute_result"
    },
    {
     "data": {
      "text/plain": [
       "'307:앉은무릎높이'"
      ]
     },
     "execution_count": 9,
     "metadata": {},
     "output_type": "execute_result"
    },
    {
     "data": {
      "text/plain": [
       "'308:앉은오금높이'"
      ]
     },
     "execution_count": 9,
     "metadata": {},
     "output_type": "execute_result"
    },
    {
     "data": {
      "text/plain": [
       "'309:앉은엉덩이무릎수평길이'"
      ]
     },
     "execution_count": 9,
     "metadata": {},
     "output_type": "execute_result"
    },
    {
     "data": {
      "text/plain": [
       "'310:앉은엉덩이오금수평길이'"
      ]
     },
     "execution_count": 9,
     "metadata": {},
     "output_type": "execute_result"
    },
    {
     "data": {
      "text/plain": [
       "'311:앉은엉덩이배두께'"
      ]
     },
     "execution_count": 9,
     "metadata": {},
     "output_type": "execute_result"
    },
    {
     "data": {
      "text/plain": [
       "'312:위팔수직길이'"
      ]
     },
     "execution_count": 9,
     "metadata": {},
     "output_type": "execute_result"
    },
    {
     "data": {
      "text/plain": [
       "'313:아래팔수평길이'"
      ]
     },
     "execution_count": 9,
     "metadata": {},
     "output_type": "execute_result"
    },
    {
     "data": {
      "text/plain": [
       "'314:팔꿈치손끝수평길이'"
      ]
     },
     "execution_count": 9,
     "metadata": {},
     "output_type": "execute_result"
    },
    {
     "data": {
      "text/plain": [
       "'315:팔꿈치주먹수평길이'"
      ]
     },
     "execution_count": 9,
     "metadata": {},
     "output_type": "execute_result"
    },
    {
     "data": {
      "text/plain": [
       "'316:앉은배두께'"
      ]
     },
     "execution_count": 9,
     "metadata": {},
     "output_type": "execute_result"
    },
    {
     "data": {
      "text/plain": [
       "'317:어깨너비'"
      ]
     },
     "execution_count": 9,
     "metadata": {},
     "output_type": "execute_result"
    },
    {
     "data": {
      "text/plain": [
       "'318:위팔사이너비'"
      ]
     },
     "execution_count": 9,
     "metadata": {},
     "output_type": "execute_result"
    },
    {
     "data": {
      "text/plain": [
       "'319:팔꿈치사이너비'"
      ]
     },
     "execution_count": 9,
     "metadata": {},
     "output_type": "execute_result"
    },
    {
     "data": {
      "text/plain": [
       "'320:앉은엉덩이너비'"
      ]
     },
     "execution_count": 9,
     "metadata": {},
     "output_type": "execute_result"
    },
    {
     "data": {
      "text/plain": [
       "'321:머리수직길이'"
      ]
     },
     "execution_count": 9,
     "metadata": {},
     "output_type": "execute_result"
    },
    {
     "data": {
      "text/plain": [
       "'322:얼굴수직길이'"
      ]
     },
     "execution_count": 9,
     "metadata": {},
     "output_type": "execute_result"
    },
    {
     "data": {
      "text/plain": [
       "'323:벽면앞으로뻗은주먹수평길이'"
      ]
     },
     "execution_count": 9,
     "metadata": {},
     "output_type": "execute_result"
    },
    {
     "data": {
      "text/plain": [
       "'324:벽면몸통두께'"
      ]
     },
     "execution_count": 9,
     "metadata": {},
     "output_type": "execute_result"
    },
    {
     "data": {
      "text/plain": [
       "'325:벽면어깨수평길이'"
      ]
     },
     "execution_count": 9,
     "metadata": {},
     "output_type": "execute_result"
    },
    {
     "data": {
      "text/plain": [
       "'326:엉덩이돌출점-배돌출점두께'"
      ]
     },
     "execution_count": 9,
     "metadata": {},
     "output_type": "execute_result"
    },
    {
     "data": {
      "text/plain": [
       "'401:머리두께'"
      ]
     },
     "execution_count": 9,
     "metadata": {},
     "output_type": "execute_result"
    },
    {
     "data": {
      "text/plain": [
       "'402:머리너비'"
      ]
     },
     "execution_count": 9,
     "metadata": {},
     "output_type": "execute_result"
    },
    {
     "data": {
      "text/plain": [
       "'403:머리둘레'"
      ]
     },
     "execution_count": 9,
     "metadata": {},
     "output_type": "execute_result"
    },
    {
     "data": {
      "text/plain": [
       "'404:귀구슬머리위길이'"
      ]
     },
     "execution_count": 9,
     "metadata": {},
     "output_type": "execute_result"
    },
    {
     "data": {
      "text/plain": [
       "'405:눈살뒤통수길이'"
      ]
     },
     "execution_count": 9,
     "metadata": {},
     "output_type": "execute_result"
    },
    {
     "data": {
      "text/plain": [
       "'406:눈동자사이너비'"
      ]
     },
     "execution_count": 9,
     "metadata": {},
     "output_type": "execute_result"
    },
    {
     "data": {
      "text/plain": [
       "'407:손직선길이'"
      ]
     },
     "execution_count": 9,
     "metadata": {},
     "output_type": "execute_result"
    },
    {
     "data": {
      "text/plain": [
       "'408:손바닥직선길이'"
      ]
     },
     "execution_count": 9,
     "metadata": {},
     "output_type": "execute_result"
    },
    {
     "data": {
      "text/plain": [
       "'409:손너비'"
      ]
     },
     "execution_count": 9,
     "metadata": {},
     "output_type": "execute_result"
    },
    {
     "data": {
      "text/plain": [
       "'410:둘째손가락직선길이'"
      ]
     },
     "execution_count": 9,
     "metadata": {},
     "output_type": "execute_result"
    },
    {
     "data": {
      "text/plain": [
       "'411:둘째손가락첫째관절너비'"
      ]
     },
     "execution_count": 9,
     "metadata": {},
     "output_type": "execute_result"
    },
    {
     "data": {
      "text/plain": [
       "'412:둘째손가락둘째관절너비'"
      ]
     },
     "execution_count": 9,
     "metadata": {},
     "output_type": "execute_result"
    },
    {
     "data": {
      "text/plain": [
       "'413:손두께'"
      ]
     },
     "execution_count": 9,
     "metadata": {},
     "output_type": "execute_result"
    },
    {
     "data": {
      "text/plain": [
       "'414:막대쥔손안둘레'"
      ]
     },
     "execution_count": 9,
     "metadata": {},
     "output_type": "execute_result"
    },
    {
     "data": {
      "text/plain": [
       "'415:손둘레'"
      ]
     },
     "execution_count": 9,
     "metadata": {},
     "output_type": "execute_result"
    },
    {
     "data": {
      "text/plain": [
       "'416:발너비'"
      ]
     },
     "execution_count": 9,
     "metadata": {},
     "output_type": "execute_result"
    },
    {
     "data": {
      "text/plain": [
       "'417:발직선길이'"
      ]
     },
     "execution_count": 9,
     "metadata": {},
     "output_type": "execute_result"
    },
    {
     "data": {
      "text/plain": [
       "'418:가쪽복사높이'"
      ]
     },
     "execution_count": 9,
     "metadata": {},
     "output_type": "execute_result"
    },
    {
     "data": {
      "text/plain": [
       "'419:넙다리둘레'"
      ]
     },
     "execution_count": 9,
     "metadata": {},
     "output_type": "execute_result"
    },
    {
     "data": {
      "text/plain": [
       "'420:넙다리중간둘레'"
      ]
     },
     "execution_count": 9,
     "metadata": {},
     "output_type": "execute_result"
    },
    {
     "data": {
      "text/plain": [
       "'421:무릎둘레'"
      ]
     },
     "execution_count": 9,
     "metadata": {},
     "output_type": "execute_result"
    },
    {
     "data": {
      "text/plain": [
       "'422:무릎아래둘레'"
      ]
     },
     "execution_count": 9,
     "metadata": {},
     "output_type": "execute_result"
    },
    {
     "data": {
      "text/plain": [
       "'423:장딴지둘레'"
      ]
     },
     "execution_count": 9,
     "metadata": {},
     "output_type": "execute_result"
    },
    {
     "data": {
      "text/plain": [
       "'424:종아리최소둘레'"
      ]
     },
     "execution_count": 9,
     "metadata": {},
     "output_type": "execute_result"
    },
    {
     "data": {
      "text/plain": [
       "'425:발목최대둘레'"
      ]
     },
     "execution_count": 9,
     "metadata": {},
     "output_type": "execute_result"
    },
    {
     "data": {
      "text/plain": [
       "'426:팔꿈치둘레'"
      ]
     },
     "execution_count": 9,
     "metadata": {},
     "output_type": "execute_result"
    },
    {
     "data": {
      "text/plain": [
       "'427:손목둘레'"
      ]
     },
     "execution_count": 9,
     "metadata": {},
     "output_type": "execute_result"
    },
    {
     "data": {
      "text/plain": [
       "'428:위팔둘레'"
      ]
     },
     "execution_count": 9,
     "metadata": {},
     "output_type": "execute_result"
    },
    {
     "data": {
      "text/plain": [
       "'510:몸무게'"
      ]
     },
     "execution_count": 9,
     "metadata": {},
     "output_type": "execute_result"
    },
    {
     "data": {
      "text/plain": [
       "'511:골격근량'"
      ]
     },
     "execution_count": 9,
     "metadata": {},
     "output_type": "execute_result"
    },
    {
     "data": {
      "text/plain": [
       "'512:체지방량'"
      ]
     },
     "execution_count": 9,
     "metadata": {},
     "output_type": "execute_result"
    },
    {
     "data": {
      "text/plain": [
       "'513:체수분'"
      ]
     },
     "execution_count": 9,
     "metadata": {},
     "output_type": "execute_result"
    },
    {
     "data": {
      "text/plain": [
       "'514:제지방량'"
      ]
     },
     "execution_count": 9,
     "metadata": {},
     "output_type": "execute_result"
    },
    {
     "data": {
      "text/plain": [
       "'515:단백질'"
      ]
     },
     "execution_count": 9,
     "metadata": {},
     "output_type": "execute_result"
    },
    {
     "data": {
      "text/plain": [
       "'516:무기질'"
      ]
     },
     "execution_count": 9,
     "metadata": {},
     "output_type": "execute_result"
    },
    {
     "data": {
      "text/plain": [
       "'517:BMI'"
      ]
     },
     "execution_count": 9,
     "metadata": {},
     "output_type": "execute_result"
    },
    {
     "data": {
      "text/plain": [
       "'518:BMI 평가'"
      ]
     },
     "execution_count": 9,
     "metadata": {},
     "output_type": "execute_result"
    },
    {
     "data": {
      "text/plain": [
       "'519:체지방률'"
      ]
     },
     "execution_count": 9,
     "metadata": {},
     "output_type": "execute_result"
    },
    {
     "data": {
      "text/plain": [
       "'520:체지방률 평가'"
      ]
     },
     "execution_count": 9,
     "metadata": {},
     "output_type": "execute_result"
    },
    {
     "data": {
      "text/plain": [
       "'521:복부지방률'"
      ]
     },
     "execution_count": 9,
     "metadata": {},
     "output_type": "execute_result"
    },
    {
     "data": {
      "text/plain": [
       "'522:복부지방률 평가'"
      ]
     },
     "execution_count": 9,
     "metadata": {},
     "output_type": "execute_result"
    },
    {
     "data": {
      "text/plain": [
       "'523:기초대사량'"
      ]
     },
     "execution_count": 9,
     "metadata": {},
     "output_type": "execute_result"
    },
    {
     "data": {
      "text/plain": [
       "'524:기초대사량 평가'"
      ]
     },
     "execution_count": 9,
     "metadata": {},
     "output_type": "execute_result"
    },
    {
     "data": {
      "text/plain": [
       "'525:근육조절'"
      ]
     },
     "execution_count": 9,
     "metadata": {},
     "output_type": "execute_result"
    },
    {
     "data": {
      "text/plain": [
       "'526:지방조절'"
      ]
     },
     "execution_count": 9,
     "metadata": {},
     "output_type": "execute_result"
    },
    {
     "data": {
      "text/plain": [
       "'527:왼쪽상체근육발달'"
      ]
     },
     "execution_count": 9,
     "metadata": {},
     "output_type": "execute_result"
    },
    {
     "data": {
      "text/plain": [
       "'528:오른쪽상체근육발달'"
      ]
     },
     "execution_count": 9,
     "metadata": {},
     "output_type": "execute_result"
    },
    {
     "data": {
      "text/plain": [
       "'529:왼쪽하체근육발달'"
      ]
     },
     "execution_count": 9,
     "metadata": {},
     "output_type": "execute_result"
    },
    {
     "data": {
      "text/plain": [
       "'530:오른쪽하체근육발달'"
      ]
     },
     "execution_count": 9,
     "metadata": {},
     "output_type": "execute_result"
    },
    {
     "data": {
      "text/plain": [
       "'531:몸통근육발달'"
      ]
     },
     "execution_count": 9,
     "metadata": {},
     "output_type": "execute_result"
    },
    {
     "data": {
      "text/plain": [
       "'532:왼쪽상체체지방'"
      ]
     },
     "execution_count": 9,
     "metadata": {},
     "output_type": "execute_result"
    },
    {
     "data": {
      "text/plain": [
       "'533:오른쪽상체체지방'"
      ]
     },
     "execution_count": 9,
     "metadata": {},
     "output_type": "execute_result"
    },
    {
     "data": {
      "text/plain": [
       "'534:왼쪽하체체지방'"
      ]
     },
     "execution_count": 9,
     "metadata": {},
     "output_type": "execute_result"
    },
    {
     "data": {
      "text/plain": [
       "'535:오른쪽하체체지방'"
      ]
     },
     "execution_count": 9,
     "metadata": {},
     "output_type": "execute_result"
    },
    {
     "data": {
      "text/plain": [
       "'536:몸통체지방'"
      ]
     },
     "execution_count": 9,
     "metadata": {},
     "output_type": "execute_result"
    }
   ],
   "source": [
    "col = []\n",
    "for i in df1.columns:\n",
    "    i\n",
    "    if len(i.split(':')) > 1:\n",
    "        col.append(i.split(':')[1])\n",
    "    else:\n",
    "        col.append(i.split(':')[0])"
   ]
  },
  {
   "cell_type": "code",
   "execution_count": 10,
   "metadata": {},
   "outputs": [
    {
     "data": {
      "text/plain": [
       "Index(['성별', '나이', '오른쪽어깨경사각', '왼쪽어깨경사각', '머리위로뻗은주먹높이', '키', '눈높이', '목뒤높이',\n",
       "       '어깨높이', '어깨가쪽높이',\n",
       "       ...\n",
       "       '왼쪽상체근육발달', '오른쪽상체근육발달', '왼쪽하체근육발달', '오른쪽하체근육발달', '몸통근육발달', '왼쪽상체체지방',\n",
       "       '오른쪽상체체지방', '왼쪽하체체지방', '오른쪽하체체지방', '몸통체지방'],\n",
       "      dtype='object', length=155)"
      ]
     },
     "execution_count": 10,
     "metadata": {},
     "output_type": "execute_result"
    }
   ],
   "source": [
    "df1.columns = col\n",
    "df1.columns"
   ]
  },
  {
   "cell_type": "code",
   "execution_count": 11,
   "metadata": {},
   "outputs": [
    {
     "data": {
      "text/plain": [
       "'ⓞ_02_성별'"
      ]
     },
     "execution_count": 11,
     "metadata": {},
     "output_type": "execute_result"
    },
    {
     "data": {
      "text/plain": [
       "'ⓞ_06_나이_반올림'"
      ]
     },
     "execution_count": 11,
     "metadata": {},
     "output_type": "execute_result"
    },
    {
     "data": {
      "text/plain": [
       "'ⓞ_12_골격근량'"
      ]
     },
     "execution_count": 11,
     "metadata": {},
     "output_type": "execute_result"
    },
    {
     "data": {
      "text/plain": [
       "'ⓞ_13_체지방량'"
      ]
     },
     "execution_count": 11,
     "metadata": {},
     "output_type": "execute_result"
    },
    {
     "data": {
      "text/plain": [
       "'ⓞ_14_체수분'"
      ]
     },
     "execution_count": 11,
     "metadata": {},
     "output_type": "execute_result"
    },
    {
     "data": {
      "text/plain": [
       "'ⓞ_15_단백질'"
      ]
     },
     "execution_count": 11,
     "metadata": {},
     "output_type": "execute_result"
    },
    {
     "data": {
      "text/plain": [
       "'ⓞ_16_무기질'"
      ]
     },
     "execution_count": 11,
     "metadata": {},
     "output_type": "execute_result"
    },
    {
     "data": {
      "text/plain": [
       "'ⓞ_17_BMI'"
      ]
     },
     "execution_count": 11,
     "metadata": {},
     "output_type": "execute_result"
    },
    {
     "data": {
      "text/plain": [
       "'ⓞ_18_체지방율'"
      ]
     },
     "execution_count": 11,
     "metadata": {},
     "output_type": "execute_result"
    },
    {
     "data": {
      "text/plain": [
       "'ⓞ_19_복부지방율'"
      ]
     },
     "execution_count": 11,
     "metadata": {},
     "output_type": "execute_result"
    },
    {
     "data": {
      "text/plain": [
       "'ⓞ_20_복부지방율평가'"
      ]
     },
     "execution_count": 11,
     "metadata": {},
     "output_type": "execute_result"
    },
    {
     "data": {
      "text/plain": [
       "'ⓞ_21_기초대사량'"
      ]
     },
     "execution_count": 11,
     "metadata": {},
     "output_type": "execute_result"
    },
    {
     "data": {
      "text/plain": [
       "'ⓞ_22_기초대사량평가'"
      ]
     },
     "execution_count": 11,
     "metadata": {},
     "output_type": "execute_result"
    },
    {
     "data": {
      "text/plain": [
       "'ⓞ_23_근육조절'"
      ]
     },
     "execution_count": 11,
     "metadata": {},
     "output_type": "execute_result"
    },
    {
     "data": {
      "text/plain": [
       "'ⓞ_24_지방조절'"
      ]
     },
     "execution_count": 11,
     "metadata": {},
     "output_type": "execute_result"
    },
    {
     "data": {
      "text/plain": [
       "'①_001_오른쪽어깨경사각'"
      ]
     },
     "execution_count": 11,
     "metadata": {},
     "output_type": "execute_result"
    },
    {
     "data": {
      "text/plain": [
       "'①_002_왼쪽어깨경사각'"
      ]
     },
     "execution_count": 11,
     "metadata": {},
     "output_type": "execute_result"
    },
    {
     "data": {
      "text/plain": [
       "'①_003_키'"
      ]
     },
     "execution_count": 11,
     "metadata": {},
     "output_type": "execute_result"
    },
    {
     "data": {
      "text/plain": [
       "'①_004_눈높이'"
      ]
     },
     "execution_count": 11,
     "metadata": {},
     "output_type": "execute_result"
    },
    {
     "data": {
      "text/plain": [
       "'①_005_목뒤높이'"
      ]
     },
     "execution_count": 11,
     "metadata": {},
     "output_type": "execute_result"
    },
    {
     "data": {
      "text/plain": [
       "'①_006_어깨높이'"
      ]
     },
     "execution_count": 11,
     "metadata": {},
     "output_type": "execute_result"
    },
    {
     "data": {
      "text/plain": [
       "'①_007_어깨가쪽높이'"
      ]
     },
     "execution_count": 11,
     "metadata": {},
     "output_type": "execute_result"
    },
    {
     "data": {
      "text/plain": [
       "'①_008_겨드랑높이'"
      ]
     },
     "execution_count": 11,
     "metadata": {},
     "output_type": "execute_result"
    },
    {
     "data": {
      "text/plain": [
       "'①_009_굽힌팔꿈치높이'"
      ]
     },
     "execution_count": 11,
     "metadata": {},
     "output_type": "execute_result"
    },
    {
     "data": {
      "text/plain": [
       "'①_010_허리기준선높이'"
      ]
     },
     "execution_count": 11,
     "metadata": {},
     "output_type": "execute_result"
    },
    {
     "data": {
      "text/plain": [
       "'①_011_엉덩이높이'"
      ]
     },
     "execution_count": 11,
     "metadata": {},
     "output_type": "execute_result"
    },
    {
     "data": {
      "text/plain": [
       "'①_012_주먹높이'"
      ]
     },
     "execution_count": 11,
     "metadata": {},
     "output_type": "execute_result"
    },
    {
     "data": {
      "text/plain": [
       "'①_013_허리높이'"
      ]
     },
     "execution_count": 11,
     "metadata": {},
     "output_type": "execute_result"
    },
    {
     "data": {
      "text/plain": [
       "'①_014_배꼽수준허리높이'"
      ]
     },
     "execution_count": 11,
     "metadata": {},
     "output_type": "execute_result"
    },
    {
     "data": {
      "text/plain": [
       "'①_015_위앞엉덩뼈가시높이'"
      ]
     },
     "execution_count": 11,
     "metadata": {},
     "output_type": "execute_result"
    },
    {
     "data": {
      "text/plain": [
       "'①_016_무릎높이'"
      ]
     },
     "execution_count": 11,
     "metadata": {},
     "output_type": "execute_result"
    },
    {
     "data": {
      "text/plain": [
       "'①_017_샅높이'"
      ]
     },
     "execution_count": 11,
     "metadata": {},
     "output_type": "execute_result"
    },
    {
     "data": {
      "text/plain": [
       "'①_018_가슴너비'"
      ]
     },
     "execution_count": 11,
     "metadata": {},
     "output_type": "execute_result"
    },
    {
     "data": {
      "text/plain": [
       "'①_019_젖가슴너비'"
      ]
     },
     "execution_count": 11,
     "metadata": {},
     "output_type": "execute_result"
    },
    {
     "data": {
      "text/plain": [
       "'①_020_허리너비'"
      ]
     },
     "execution_count": 11,
     "metadata": {},
     "output_type": "execute_result"
    },
    {
     "data": {
      "text/plain": [
       "'①_021_배꼽수준허리너비'"
      ]
     },
     "execution_count": 11,
     "metadata": {},
     "output_type": "execute_result"
    },
    {
     "data": {
      "text/plain": [
       "'①_022_엉덩이너비'"
      ]
     },
     "execution_count": 11,
     "metadata": {},
     "output_type": "execute_result"
    },
    {
     "data": {
      "text/plain": [
       "'①_023_겨드랑두께'"
      ]
     },
     "execution_count": 11,
     "metadata": {},
     "output_type": "execute_result"
    },
    {
     "data": {
      "text/plain": [
       "'①_024_가슴두께'"
      ]
     },
     "execution_count": 11,
     "metadata": {},
     "output_type": "execute_result"
    },
    {
     "data": {
      "text/plain": [
       "'①_025_젖가슴두께'"
      ]
     },
     "execution_count": 11,
     "metadata": {},
     "output_type": "execute_result"
    },
    {
     "data": {
      "text/plain": [
       "'①_026_허리두께'"
      ]
     },
     "execution_count": 11,
     "metadata": {},
     "output_type": "execute_result"
    },
    {
     "data": {
      "text/plain": [
       "'①_027_배꼽수준허리두께'"
      ]
     },
     "execution_count": 11,
     "metadata": {},
     "output_type": "execute_result"
    },
    {
     "data": {
      "text/plain": [
       "'①_028_엉덩이두께'"
      ]
     },
     "execution_count": 11,
     "metadata": {},
     "output_type": "execute_result"
    },
    {
     "data": {
      "text/plain": [
       "'①_029_몸통수직길이'"
      ]
     },
     "execution_count": 11,
     "metadata": {},
     "output_type": "execute_result"
    },
    {
     "data": {
      "text/plain": [
       "'①_030_엉덩이수직길이'"
      ]
     },
     "execution_count": 11,
     "metadata": {},
     "output_type": "execute_result"
    },
    {
     "data": {
      "text/plain": [
       "'①_031_몸무게'"
      ]
     },
     "execution_count": 11,
     "metadata": {},
     "output_type": "execute_result"
    },
    {
     "data": {
      "text/plain": [
       "'①_032_앞중심길이'"
      ]
     },
     "execution_count": 11,
     "metadata": {},
     "output_type": "execute_result"
    },
    {
     "data": {
      "text/plain": [
       "'①_033_배꼽수준앞중심길이'"
      ]
     },
     "execution_count": 11,
     "metadata": {},
     "output_type": "execute_result"
    },
    {
     "data": {
      "text/plain": [
       "'①_034_겨드랑앞벽사이길이'"
      ]
     },
     "execution_count": 11,
     "metadata": {},
     "output_type": "execute_result"
    },
    {
     "data": {
      "text/plain": [
       "'①_035_겨드랑앞접힘사이길이'"
      ]
     },
     "execution_count": 11,
     "metadata": {},
     "output_type": "execute_result"
    },
    {
     "data": {
      "text/plain": [
       "'①_036_젖꼭지사이수평길이_여'"
      ]
     },
     "execution_count": 11,
     "metadata": {},
     "output_type": "execute_result"
    },
    {
     "data": {
      "text/plain": [
       "'①_037_목둘레'"
      ]
     },
     "execution_count": 11,
     "metadata": {},
     "output_type": "execute_result"
    },
    {
     "data": {
      "text/plain": [
       "'①_038_목밑둘레'"
      ]
     },
     "execution_count": 11,
     "metadata": {},
     "output_type": "execute_result"
    },
    {
     "data": {
      "text/plain": [
       "'①_039_가슴둘레'"
      ]
     },
     "execution_count": 11,
     "metadata": {},
     "output_type": "execute_result"
    },
    {
     "data": {
      "text/plain": [
       "'①_040_젖가슴둘레'"
      ]
     },
     "execution_count": 11,
     "metadata": {},
     "output_type": "execute_result"
    },
    {
     "data": {
      "text/plain": [
       "'①_041_젖가슴아래둘레_여'"
      ]
     },
     "execution_count": 11,
     "metadata": {},
     "output_type": "execute_result"
    },
    {
     "data": {
      "text/plain": [
       "'①_042_허리둘레'"
      ]
     },
     "execution_count": 11,
     "metadata": {},
     "output_type": "execute_result"
    },
    {
     "data": {
      "text/plain": [
       "'①_043_배꼽수준허리둘레'"
      ]
     },
     "execution_count": 11,
     "metadata": {},
     "output_type": "execute_result"
    },
    {
     "data": {
      "text/plain": [
       "'①_044_배둘레'"
      ]
     },
     "execution_count": 11,
     "metadata": {},
     "output_type": "execute_result"
    },
    {
     "data": {
      "text/plain": [
       "'①_045_엉덩이둘레'"
      ]
     },
     "execution_count": 11,
     "metadata": {},
     "output_type": "execute_result"
    },
    {
     "data": {
      "text/plain": [
       "'①_046_배돌출점기준엉덩이둘레'"
      ]
     },
     "execution_count": 11,
     "metadata": {},
     "output_type": "execute_result"
    },
    {
     "data": {
      "text/plain": [
       "'①_047_어깨길이'"
      ]
     },
     "execution_count": 11,
     "metadata": {},
     "output_type": "execute_result"
    },
    {
     "data": {
      "text/plain": [
       "'①_048_목뒤등뼈위겨드랑수준길이'"
      ]
     },
     "execution_count": 11,
     "metadata": {},
     "output_type": "execute_result"
    },
    {
     "data": {
      "text/plain": [
       "'①_049_등길이'"
      ]
     },
     "execution_count": 11,
     "metadata": {},
     "output_type": "execute_result"
    },
    {
     "data": {
      "text/plain": [
       "'①_050_배꼽수준등길이'"
      ]
     },
     "execution_count": 11,
     "metadata": {},
     "output_type": "execute_result"
    },
    {
     "data": {
      "text/plain": [
       "'①_051_목뒤오금길이'"
      ]
     },
     "execution_count": 11,
     "metadata": {},
     "output_type": "execute_result"
    },
    {
     "data": {
      "text/plain": [
       "'①_052_총길이'"
      ]
     },
     "execution_count": 11,
     "metadata": {},
     "output_type": "execute_result"
    },
    {
     "data": {
      "text/plain": [
       "'①_053_넙다리직선길이'"
      ]
     },
     "execution_count": 11,
     "metadata": {},
     "output_type": "execute_result"
    },
    {
     "data": {
      "text/plain": [
       "'①_054_어깨사이길이'"
      ]
     },
     "execution_count": 11,
     "metadata": {},
     "output_type": "execute_result"
    },
    {
     "data": {
      "text/plain": [
       "'①_055_어깨가쪽사이길이'"
      ]
     },
     "execution_count": 11,
     "metadata": {},
     "output_type": "execute_result"
    },
    {
     "data": {
      "text/plain": [
       "'①_056_겨드랑뒤벽사이길이'"
      ]
     },
     "execution_count": 11,
     "metadata": {},
     "output_type": "execute_result"
    },
    {
     "data": {
      "text/plain": [
       "'①_057_겨드랑뒤벽접힘사이길이'"
      ]
     },
     "execution_count": 11,
     "metadata": {},
     "output_type": "execute_result"
    },
    {
     "data": {
      "text/plain": [
       "'①_058_목뒤젖꼭지길이'"
      ]
     },
     "execution_count": 11,
     "metadata": {},
     "output_type": "execute_result"
    },
    {
     "data": {
      "text/plain": [
       "'①_059_목뒤젖꼭지허리둘레선길이'"
      ]
     },
     "execution_count": 11,
     "metadata": {},
     "output_type": "execute_result"
    },
    {
     "data": {
      "text/plain": [
       "'①_060_목옆젖꼭지길이_여_'"
      ]
     },
     "execution_count": 11,
     "metadata": {},
     "output_type": "execute_result"
    },
    {
     "data": {
      "text/plain": [
       "'①_061_목옆허리둘레선길이'"
      ]
     },
     "execution_count": 11,
     "metadata": {},
     "output_type": "execute_result"
    },
    {
     "data": {
      "text/plain": [
       "'①_062_목옆어깨뼈아래허리둘레선길이'"
      ]
     },
     "execution_count": 11,
     "metadata": {},
     "output_type": "execute_result"
    },
    {
     "data": {
      "text/plain": [
       "'①_063_위팔길이'"
      ]
     },
     "execution_count": 11,
     "metadata": {},
     "output_type": "execute_result"
    },
    {
     "data": {
      "text/plain": [
       "'①_064_팔길이'"
      ]
     },
     "execution_count": 11,
     "metadata": {},
     "output_type": "execute_result"
    },
    {
     "data": {
      "text/plain": [
       "'①_065_팔안쪽길이'"
      ]
     },
     "execution_count": 11,
     "metadata": {},
     "output_type": "execute_result"
    },
    {
     "data": {
      "text/plain": [
       "'①_066_목뒤손목안쪽길이'"
      ]
     },
     "execution_count": 11,
     "metadata": {},
     "output_type": "execute_result"
    },
    {
     "data": {
      "text/plain": [
       "'①_067_겨드랑둘레'"
      ]
     },
     "execution_count": 11,
     "metadata": {},
     "output_type": "execute_result"
    },
    {
     "data": {
      "text/plain": [
       "'①_068_엉덩이옆길이'"
      ]
     },
     "execution_count": 11,
     "metadata": {},
     "output_type": "execute_result"
    },
    {
     "data": {
      "text/plain": [
       "'①_069_다리가쪽길이'"
      ]
     },
     "execution_count": 11,
     "metadata": {},
     "output_type": "execute_result"
    },
    {
     "data": {
      "text/plain": [
       "'①_070_몸통세로둘레'"
      ]
     },
     "execution_count": 11,
     "metadata": {},
     "output_type": "execute_result"
    },
    {
     "data": {
      "text/plain": [
       "'①_071_샅앞뒤길이'"
      ]
     },
     "execution_count": 11,
     "metadata": {},
     "output_type": "execute_result"
    },
    {
     "data": {
      "text/plain": [
       "'①_072_배꼽수준샅앞뒤길이'"
      ]
     },
     "execution_count": 11,
     "metadata": {},
     "output_type": "execute_result"
    },
    {
     "data": {
      "text/plain": [
       "'①_073_앉은키'"
      ]
     },
     "execution_count": 11,
     "metadata": {},
     "output_type": "execute_result"
    },
    {
     "data": {
      "text/plain": [
       "'①_074_앉은눈높이'"
      ]
     },
     "execution_count": 11,
     "metadata": {},
     "output_type": "execute_result"
    },
    {
     "data": {
      "text/plain": [
       "'①_075_앉은목뒤높이'"
      ]
     },
     "execution_count": 11,
     "metadata": {},
     "output_type": "execute_result"
    },
    {
     "data": {
      "text/plain": [
       "'①_076_앉은어깨높이'"
      ]
     },
     "execution_count": 11,
     "metadata": {},
     "output_type": "execute_result"
    },
    {
     "data": {
      "text/plain": [
       "'①_077_앉은팔꿈치높이'"
      ]
     },
     "execution_count": 11,
     "metadata": {},
     "output_type": "execute_result"
    },
    {
     "data": {
      "text/plain": [
       "'①_078_앉은넙다리높이'"
      ]
     },
     "execution_count": 11,
     "metadata": {},
     "output_type": "execute_result"
    },
    {
     "data": {
      "text/plain": [
       "'①_079_앉은무릎높이'"
      ]
     },
     "execution_count": 11,
     "metadata": {},
     "output_type": "execute_result"
    },
    {
     "data": {
      "text/plain": [
       "'①_080_앉은오금높이'"
      ]
     },
     "execution_count": 11,
     "metadata": {},
     "output_type": "execute_result"
    },
    {
     "data": {
      "text/plain": [
       "'①_081_앉은엉덩이무릎수평길이'"
      ]
     },
     "execution_count": 11,
     "metadata": {},
     "output_type": "execute_result"
    },
    {
     "data": {
      "text/plain": [
       "'①_082_앉은엉덩이오금수평길이'"
      ]
     },
     "execution_count": 11,
     "metadata": {},
     "output_type": "execute_result"
    },
    {
     "data": {
      "text/plain": [
       "'①_083_앉은엉덩이배두께'"
      ]
     },
     "execution_count": 11,
     "metadata": {},
     "output_type": "execute_result"
    },
    {
     "data": {
      "text/plain": [
       "'①_084_위팔수직길이'"
      ]
     },
     "execution_count": 11,
     "metadata": {},
     "output_type": "execute_result"
    },
    {
     "data": {
      "text/plain": [
       "'①_085_아래팔수평길이'"
      ]
     },
     "execution_count": 11,
     "metadata": {},
     "output_type": "execute_result"
    },
    {
     "data": {
      "text/plain": [
       "'①_086_팔꿈치손끝수평길이'"
      ]
     },
     "execution_count": 11,
     "metadata": {},
     "output_type": "execute_result"
    },
    {
     "data": {
      "text/plain": [
       "'①_087_팔꿈치주먹수평길이'"
      ]
     },
     "execution_count": 11,
     "metadata": {},
     "output_type": "execute_result"
    },
    {
     "data": {
      "text/plain": [
       "'①_088_앉은배두께'"
      ]
     },
     "execution_count": 11,
     "metadata": {},
     "output_type": "execute_result"
    },
    {
     "data": {
      "text/plain": [
       "'①_089_어깨너비'"
      ]
     },
     "execution_count": 11,
     "metadata": {},
     "output_type": "execute_result"
    },
    {
     "data": {
      "text/plain": [
       "'①_090_위팔사이너비'"
      ]
     },
     "execution_count": 11,
     "metadata": {},
     "output_type": "execute_result"
    },
    {
     "data": {
      "text/plain": [
       "'①_091_팔꿈치사이너비'"
      ]
     },
     "execution_count": 11,
     "metadata": {},
     "output_type": "execute_result"
    },
    {
     "data": {
      "text/plain": [
       "'①_092_앉은엉덩이너비'"
      ]
     },
     "execution_count": 11,
     "metadata": {},
     "output_type": "execute_result"
    },
    {
     "data": {
      "text/plain": [
       "'①_093_머리수직길이'"
      ]
     },
     "execution_count": 11,
     "metadata": {},
     "output_type": "execute_result"
    },
    {
     "data": {
      "text/plain": [
       "'①_094_얼굴수직길이'"
      ]
     },
     "execution_count": 11,
     "metadata": {},
     "output_type": "execute_result"
    },
    {
     "data": {
      "text/plain": [
       "'①_095_벽면앞으로뻗은주먹수직길이'"
      ]
     },
     "execution_count": 11,
     "metadata": {},
     "output_type": "execute_result"
    },
    {
     "data": {
      "text/plain": [
       "'①_096_벽면몸통두께'"
      ]
     },
     "execution_count": 11,
     "metadata": {},
     "output_type": "execute_result"
    },
    {
     "data": {
      "text/plain": [
       "'①_097_벽면어깨수평길이'"
      ]
     },
     "execution_count": 11,
     "metadata": {},
     "output_type": "execute_result"
    },
    {
     "data": {
      "text/plain": [
       "'①_098_엉덩이돌출점_배돌출점두께'"
      ]
     },
     "execution_count": 11,
     "metadata": {},
     "output_type": "execute_result"
    },
    {
     "data": {
      "text/plain": [
       "'①_099_눈동자사이너비'"
      ]
     },
     "execution_count": 11,
     "metadata": {},
     "output_type": "execute_result"
    },
    {
     "data": {
      "text/plain": [
       "'①_100_눈구석사이너비'"
      ]
     },
     "execution_count": 11,
     "metadata": {},
     "output_type": "execute_result"
    },
    {
     "data": {
      "text/plain": [
       "'①_101_눈살점_눈확아래점사이길이'"
      ]
     },
     "execution_count": 11,
     "metadata": {},
     "output_type": "execute_result"
    },
    {
     "data": {
      "text/plain": [
       "'①_102_손직선길이'"
      ]
     },
     "execution_count": 11,
     "metadata": {},
     "output_type": "execute_result"
    },
    {
     "data": {
      "text/plain": [
       "'①_103_손바닥직선길이'"
      ]
     },
     "execution_count": 11,
     "metadata": {},
     "output_type": "execute_result"
    },
    {
     "data": {
      "text/plain": [
       "'①_104_손너비'"
      ]
     },
     "execution_count": 11,
     "metadata": {},
     "output_type": "execute_result"
    },
    {
     "data": {
      "text/plain": [
       "'①_105_둘째손가락직선길이'"
      ]
     },
     "execution_count": 11,
     "metadata": {},
     "output_type": "execute_result"
    },
    {
     "data": {
      "text/plain": [
       "'①_106_둘째손가락첫째관절너비'"
      ]
     },
     "execution_count": 11,
     "metadata": {},
     "output_type": "execute_result"
    },
    {
     "data": {
      "text/plain": [
       "'①_107_둘째손가락둘째관절너비'"
      ]
     },
     "execution_count": 11,
     "metadata": {},
     "output_type": "execute_result"
    },
    {
     "data": {
      "text/plain": [
       "'①_108_손두께'"
      ]
     },
     "execution_count": 11,
     "metadata": {},
     "output_type": "execute_result"
    },
    {
     "data": {
      "text/plain": [
       "'①_109_막대쥔손안둘레'"
      ]
     },
     "execution_count": 11,
     "metadata": {},
     "output_type": "execute_result"
    },
    {
     "data": {
      "text/plain": [
       "'①_110_손둘레'"
      ]
     },
     "execution_count": 11,
     "metadata": {},
     "output_type": "execute_result"
    },
    {
     "data": {
      "text/plain": [
       "'①_111_머리둘레'"
      ]
     },
     "execution_count": 11,
     "metadata": {},
     "output_type": "execute_result"
    },
    {
     "data": {
      "text/plain": [
       "'①_112_귀구슬머리위길이'"
      ]
     },
     "execution_count": 11,
     "metadata": {},
     "output_type": "execute_result"
    },
    {
     "data": {
      "text/plain": [
       "'①_113_눈살뒤통수길이'"
      ]
     },
     "execution_count": 11,
     "metadata": {},
     "output_type": "execute_result"
    },
    {
     "data": {
      "text/plain": [
       "'①_114_머리두께'"
      ]
     },
     "execution_count": 11,
     "metadata": {},
     "output_type": "execute_result"
    },
    {
     "data": {
      "text/plain": [
       "'①_115_머리너비'"
      ]
     },
     "execution_count": 11,
     "metadata": {},
     "output_type": "execute_result"
    },
    {
     "data": {
      "text/plain": [
       "'①_116_얼굴너비'"
      ]
     },
     "execution_count": 11,
     "metadata": {},
     "output_type": "execute_result"
    },
    {
     "data": {
      "text/plain": [
       "'①_117_아래턱사이너비'"
      ]
     },
     "execution_count": 11,
     "metadata": {},
     "output_type": "execute_result"
    },
    {
     "data": {
      "text/plain": [
       "'①_118_발너비'"
      ]
     },
     "execution_count": 11,
     "metadata": {},
     "output_type": "execute_result"
    },
    {
     "data": {
      "text/plain": [
       "'①_119_발직선길이'"
      ]
     },
     "execution_count": 11,
     "metadata": {},
     "output_type": "execute_result"
    },
    {
     "data": {
      "text/plain": [
       "'①_120_가쪽복사높이'"
      ]
     },
     "execution_count": 11,
     "metadata": {},
     "output_type": "execute_result"
    },
    {
     "data": {
      "text/plain": [
       "'①_121_넙다리둘레'"
      ]
     },
     "execution_count": 11,
     "metadata": {},
     "output_type": "execute_result"
    },
    {
     "data": {
      "text/plain": [
       "'①_122_넙다리중간둘레'"
      ]
     },
     "execution_count": 11,
     "metadata": {},
     "output_type": "execute_result"
    },
    {
     "data": {
      "text/plain": [
       "'①_123_무릎둘레'"
      ]
     },
     "execution_count": 11,
     "metadata": {},
     "output_type": "execute_result"
    },
    {
     "data": {
      "text/plain": [
       "'①_124_무릎아래둘레'"
      ]
     },
     "execution_count": 11,
     "metadata": {},
     "output_type": "execute_result"
    },
    {
     "data": {
      "text/plain": [
       "'①_125_장딴지둘레'"
      ]
     },
     "execution_count": 11,
     "metadata": {},
     "output_type": "execute_result"
    },
    {
     "data": {
      "text/plain": [
       "'①_126_종아리최소둘레'"
      ]
     },
     "execution_count": 11,
     "metadata": {},
     "output_type": "execute_result"
    },
    {
     "data": {
      "text/plain": [
       "'①_127_발목최대둘레'"
      ]
     },
     "execution_count": 11,
     "metadata": {},
     "output_type": "execute_result"
    },
    {
     "data": {
      "text/plain": [
       "'①_128_발목너비'"
      ]
     },
     "execution_count": 11,
     "metadata": {},
     "output_type": "execute_result"
    },
    {
     "data": {
      "text/plain": [
       "'①_129_발뒤꿈치너비'"
      ]
     },
     "execution_count": 11,
     "metadata": {},
     "output_type": "execute_result"
    },
    {
     "data": {
      "text/plain": [
       "'①_130_위팔둘레'"
      ]
     },
     "execution_count": 11,
     "metadata": {},
     "output_type": "execute_result"
    },
    {
     "data": {
      "text/plain": [
       "'①_131_팔꿈치둘레'"
      ]
     },
     "execution_count": 11,
     "metadata": {},
     "output_type": "execute_result"
    },
    {
     "data": {
      "text/plain": [
       "'①_132_손목둘레'"
      ]
     },
     "execution_count": 11,
     "metadata": {},
     "output_type": "execute_result"
    },
    {
     "data": {
      "text/plain": [
       "'①_133_머리위로뻗은주먹높이'"
      ]
     },
     "execution_count": 11,
     "metadata": {},
     "output_type": "execute_result"
    }
   ],
   "source": [
    "col = []\n",
    "for i in df2.columns:\n",
    "    i\n",
    "    col.append(i.split('_')[2])"
   ]
  },
  {
   "cell_type": "code",
   "execution_count": 12,
   "metadata": {
    "scrolled": true
   },
   "outputs": [
    {
     "data": {
      "text/plain": [
       "Index(['성별', '나이', '골격근량', '체지방량', '체수분', '단백질', '무기질', 'BMI', '체지방율', '복부지방율',\n",
       "       ...\n",
       "       '무릎아래둘레', '장딴지둘레', '종아리최소둘레', '발목최대둘레', '발목너비', '발뒤꿈치너비', '위팔둘레',\n",
       "       '팔꿈치둘레', '손목둘레', '머리위로뻗은주먹높이'],\n",
       "      dtype='object', length=148)"
      ]
     },
     "execution_count": 12,
     "metadata": {},
     "output_type": "execute_result"
    }
   ],
   "source": [
    "df2.columns = col\n",
    "df2.columns"
   ]
  },
  {
   "cell_type": "markdown",
   "metadata": {},
   "source": [
    "### 1.2 동일한 컬러명 set로 찾기"
   ]
  },
  {
   "cell_type": "code",
   "execution_count": 13,
   "metadata": {},
   "outputs": [
    {
     "data": {
      "text/plain": [
       "136"
      ]
     },
     "execution_count": 13,
     "metadata": {},
     "output_type": "execute_result"
    }
   ],
   "source": [
    "cols_union = set(df1.columns) & set(df2.columns)\n",
    "len(cols_union)"
   ]
  },
  {
   "cell_type": "code",
   "execution_count": 14,
   "metadata": {},
   "outputs": [
    {
     "data": {
      "text/plain": [
       "(13952, 136)"
      ]
     },
     "execution_count": 14,
     "metadata": {},
     "output_type": "execute_result"
    }
   ],
   "source": [
    "df = df1[cols_union].append(df2[cols_union])\n",
    "df.shape"
   ]
  },
  {
   "cell_type": "markdown",
   "metadata": {},
   "source": [
    "## 컬럼의 개수가 많아 선택시"
   ]
  },
  {
   "cell_type": "code",
   "execution_count": 19,
   "metadata": {},
   "outputs": [],
   "source": [
    "summary(df).to_excel('../working/인체.xlsx')"
   ]
  },
  {
   "cell_type": "code",
   "execution_count": 20,
   "metadata": {},
   "outputs": [
    {
     "data": {
      "text/html": [
       "<div>\n",
       "<style scoped>\n",
       "    .dataframe tbody tr th:only-of-type {\n",
       "        vertical-align: middle;\n",
       "    }\n",
       "\n",
       "    .dataframe tbody tr th {\n",
       "        vertical-align: top;\n",
       "    }\n",
       "\n",
       "    .dataframe thead th {\n",
       "        text-align: right;\n",
       "    }\n",
       "</style>\n",
       "<table border=\"1\" class=\"dataframe\">\n",
       "  <thead>\n",
       "    <tr style=\"text-align: right;\">\n",
       "      <th></th>\n",
       "      <th>Unnamed: 0</th>\n",
       "      <th>데이터형태(dtypes)</th>\n",
       "      <th>결측치 수(null)</th>\n",
       "      <th>결측치 비율</th>\n",
       "      <th>고유값 수(nunique)</th>\n",
       "      <th>choice</th>\n",
       "    </tr>\n",
       "  </thead>\n",
       "  <tbody>\n",
       "    <tr>\n",
       "      <th>0</th>\n",
       "      <td>BMI</td>\n",
       "      <td>float64</td>\n",
       "      <td>8</td>\n",
       "      <td>0.06</td>\n",
       "      <td>7027</td>\n",
       "      <td>1.0</td>\n",
       "    </tr>\n",
       "    <tr>\n",
       "      <th>1</th>\n",
       "      <td>가슴너비</td>\n",
       "      <td>float64</td>\n",
       "      <td>3</td>\n",
       "      <td>0.02</td>\n",
       "      <td>226</td>\n",
       "      <td>NaN</td>\n",
       "    </tr>\n",
       "    <tr>\n",
       "      <th>2</th>\n",
       "      <td>가슴두께</td>\n",
       "      <td>float64</td>\n",
       "      <td>3</td>\n",
       "      <td>0.02</td>\n",
       "      <td>181</td>\n",
       "      <td>NaN</td>\n",
       "    </tr>\n",
       "    <tr>\n",
       "      <th>3</th>\n",
       "      <td>가슴둘레</td>\n",
       "      <td>float64</td>\n",
       "      <td>5</td>\n",
       "      <td>0.04</td>\n",
       "      <td>627</td>\n",
       "      <td>NaN</td>\n",
       "    </tr>\n",
       "    <tr>\n",
       "      <th>4</th>\n",
       "      <td>가쪽복사높이</td>\n",
       "      <td>float64</td>\n",
       "      <td>3</td>\n",
       "      <td>0.02</td>\n",
       "      <td>55</td>\n",
       "      <td>NaN</td>\n",
       "    </tr>\n",
       "  </tbody>\n",
       "</table>\n",
       "</div>"
      ],
      "text/plain": [
       "  Unnamed: 0 데이터형태(dtypes)  결측치 수(null)  결측치 비율  고유값 수(nunique)  choice\n",
       "0        BMI       float64            8    0.06            7027     1.0\n",
       "1       가슴너비       float64            3    0.02             226     NaN\n",
       "2       가슴두께       float64            3    0.02             181     NaN\n",
       "3       가슴둘레       float64            5    0.04             627     NaN\n",
       "4     가쪽복사높이       float64            3    0.02              55     NaN"
      ]
     },
     "execution_count": 20,
     "metadata": {},
     "output_type": "execute_result"
    }
   ],
   "source": [
    "tf = pd.read_excel('../working/인체_choice.xlsx')\n",
    "tf.head()"
   ]
  },
  {
   "cell_type": "code",
   "execution_count": 21,
   "metadata": {
    "scrolled": true
   },
   "outputs": [
    {
     "data": {
      "text/plain": [
       "['BMI',\n",
       " '골격근량',\n",
       " '기초대사량',\n",
       " '나이',\n",
       " '단백질',\n",
       " '목둘레',\n",
       " '몸무게',\n",
       " '무기질',\n",
       " '발너비',\n",
       " '발직선길이',\n",
       " '성별',\n",
       " '체수분',\n",
       " '체지방량',\n",
       " '키']"
      ]
     },
     "execution_count": 21,
     "metadata": {},
     "output_type": "execute_result"
    }
   ],
   "source": [
    "tf[tf['choice'] == 1.0]['Unnamed: 0'].tolist()"
   ]
  },
  {
   "cell_type": "code",
   "execution_count": 22,
   "metadata": {},
   "outputs": [
    {
     "data": {
      "text/html": [
       "<div>\n",
       "<style scoped>\n",
       "    .dataframe tbody tr th:only-of-type {\n",
       "        vertical-align: middle;\n",
       "    }\n",
       "\n",
       "    .dataframe tbody tr th {\n",
       "        vertical-align: top;\n",
       "    }\n",
       "\n",
       "    .dataframe thead th {\n",
       "        text-align: right;\n",
       "    }\n",
       "</style>\n",
       "<table border=\"1\" class=\"dataframe\">\n",
       "  <thead>\n",
       "    <tr style=\"text-align: right;\">\n",
       "      <th></th>\n",
       "      <th>BMI</th>\n",
       "      <th>골격근량</th>\n",
       "      <th>기초대사량</th>\n",
       "      <th>나이</th>\n",
       "      <th>단백질</th>\n",
       "      <th>목둘레</th>\n",
       "      <th>몸무게</th>\n",
       "      <th>무기질</th>\n",
       "      <th>발너비</th>\n",
       "      <th>발직선길이</th>\n",
       "      <th>성별</th>\n",
       "      <th>체수분</th>\n",
       "      <th>체지방량</th>\n",
       "      <th>키</th>\n",
       "    </tr>\n",
       "  </thead>\n",
       "  <tbody>\n",
       "    <tr>\n",
       "      <th>0</th>\n",
       "      <td>23.1</td>\n",
       "      <td>32.6</td>\n",
       "      <td>1609.0</td>\n",
       "      <td>23</td>\n",
       "      <td>11.5</td>\n",
       "      <td>353.0</td>\n",
       "      <td>69.8</td>\n",
       "      <td>3.9</td>\n",
       "      <td>97.0</td>\n",
       "      <td>250.0</td>\n",
       "      <td>남</td>\n",
       "      <td>42</td>\n",
       "      <td>12.4</td>\n",
       "      <td>1740.0</td>\n",
       "    </tr>\n",
       "    <tr>\n",
       "      <th>1</th>\n",
       "      <td>22.6</td>\n",
       "      <td>33.7</td>\n",
       "      <td>1649.0</td>\n",
       "      <td>22</td>\n",
       "      <td>11.8</td>\n",
       "      <td>361.0</td>\n",
       "      <td>66.9</td>\n",
       "      <td>3.86</td>\n",
       "      <td>110.0</td>\n",
       "      <td>259.0</td>\n",
       "      <td>남</td>\n",
       "      <td>43.5</td>\n",
       "      <td>7.7</td>\n",
       "      <td>1722.0</td>\n",
       "    </tr>\n",
       "  </tbody>\n",
       "</table>\n",
       "</div>"
      ],
      "text/plain": [
       "    BMI  골격근량   기초대사량  나이   단백질    목둘레   몸무게   무기질    발너비  발직선길이 성별   체수분  \\\n",
       "0  23.1  32.6  1609.0  23  11.5  353.0  69.8   3.9   97.0  250.0  남    42   \n",
       "1  22.6  33.7  1649.0  22  11.8  361.0  66.9  3.86  110.0  259.0  남  43.5   \n",
       "\n",
       "   체지방량       키  \n",
       "0  12.4  1740.0  \n",
       "1   7.7  1722.0  "
      ]
     },
     "execution_count": 22,
     "metadata": {},
     "output_type": "execute_result"
    }
   ],
   "source": [
    "df = df[tf[tf['choice'] == 1.0]['Unnamed: 0'].tolist()]\n",
    "df.head(2)"
   ]
  },
  {
   "cell_type": "markdown",
   "metadata": {},
   "source": [
    "## 실습을 위해"
   ]
  },
  {
   "cell_type": "markdown",
   "metadata": {},
   "source": [
    "## 2. 결측치 대체와 자료 전환"
   ]
  },
  {
   "cell_type": "markdown",
   "metadata": {},
   "source": [
    "### 2.1. 데이터형태가 'object'를 파악하고 변환(결측치가 있으면 자료형태 변환이 불가)"
   ]
  },
  {
   "cell_type": "code",
   "execution_count": 23,
   "metadata": {},
   "outputs": [
    {
     "data": {
      "text/html": [
       "<div>\n",
       "<style scoped>\n",
       "    .dataframe tbody tr th:only-of-type {\n",
       "        vertical-align: middle;\n",
       "    }\n",
       "\n",
       "    .dataframe tbody tr th {\n",
       "        vertical-align: top;\n",
       "    }\n",
       "\n",
       "    .dataframe thead th {\n",
       "        text-align: right;\n",
       "    }\n",
       "</style>\n",
       "<table border=\"1\" class=\"dataframe\">\n",
       "  <thead>\n",
       "    <tr style=\"text-align: right;\">\n",
       "      <th></th>\n",
       "      <th>데이터형태(dtypes)</th>\n",
       "      <th>결측치 수(null)</th>\n",
       "      <th>결측치 비율</th>\n",
       "      <th>고유값 수(nunique)</th>\n",
       "    </tr>\n",
       "  </thead>\n",
       "  <tbody>\n",
       "    <tr>\n",
       "      <th>BMI</th>\n",
       "      <td>float64</td>\n",
       "      <td>8</td>\n",
       "      <td>0.06</td>\n",
       "      <td>7027</td>\n",
       "    </tr>\n",
       "    <tr>\n",
       "      <th>골격근량</th>\n",
       "      <td>object</td>\n",
       "      <td>910</td>\n",
       "      <td>6.52</td>\n",
       "      <td>412</td>\n",
       "    </tr>\n",
       "    <tr>\n",
       "      <th>기초대사량</th>\n",
       "      <td>float64</td>\n",
       "      <td>930</td>\n",
       "      <td>6.67</td>\n",
       "      <td>1291</td>\n",
       "    </tr>\n",
       "    <tr>\n",
       "      <th>나이</th>\n",
       "      <td>int64</td>\n",
       "      <td>0</td>\n",
       "      <td>0.00</td>\n",
       "      <td>63</td>\n",
       "    </tr>\n",
       "    <tr>\n",
       "      <th>단백질</th>\n",
       "      <td>object</td>\n",
       "      <td>919</td>\n",
       "      <td>6.59</td>\n",
       "      <td>152</td>\n",
       "    </tr>\n",
       "    <tr>\n",
       "      <th>목둘레</th>\n",
       "      <td>float64</td>\n",
       "      <td>35</td>\n",
       "      <td>0.25</td>\n",
       "      <td>335</td>\n",
       "    </tr>\n",
       "    <tr>\n",
       "      <th>몸무게</th>\n",
       "      <td>float64</td>\n",
       "      <td>7</td>\n",
       "      <td>0.05</td>\n",
       "      <td>889</td>\n",
       "    </tr>\n",
       "    <tr>\n",
       "      <th>무기질</th>\n",
       "      <td>object</td>\n",
       "      <td>919</td>\n",
       "      <td>6.59</td>\n",
       "      <td>454</td>\n",
       "    </tr>\n",
       "    <tr>\n",
       "      <th>발너비</th>\n",
       "      <td>float64</td>\n",
       "      <td>3</td>\n",
       "      <td>0.02</td>\n",
       "      <td>58</td>\n",
       "    </tr>\n",
       "    <tr>\n",
       "      <th>발직선길이</th>\n",
       "      <td>float64</td>\n",
       "      <td>4</td>\n",
       "      <td>0.03</td>\n",
       "      <td>127</td>\n",
       "    </tr>\n",
       "    <tr>\n",
       "      <th>성별</th>\n",
       "      <td>object</td>\n",
       "      <td>0</td>\n",
       "      <td>0.00</td>\n",
       "      <td>2</td>\n",
       "    </tr>\n",
       "    <tr>\n",
       "      <th>체수분</th>\n",
       "      <td>object</td>\n",
       "      <td>919</td>\n",
       "      <td>6.59</td>\n",
       "      <td>491</td>\n",
       "    </tr>\n",
       "    <tr>\n",
       "      <th>체지방량</th>\n",
       "      <td>object</td>\n",
       "      <td>910</td>\n",
       "      <td>6.52</td>\n",
       "      <td>416</td>\n",
       "    </tr>\n",
       "    <tr>\n",
       "      <th>키</th>\n",
       "      <td>float64</td>\n",
       "      <td>1</td>\n",
       "      <td>0.01</td>\n",
       "      <td>745</td>\n",
       "    </tr>\n",
       "  </tbody>\n",
       "</table>\n",
       "</div>"
      ],
      "text/plain": [
       "      데이터형태(dtypes)  결측치 수(null)  결측치 비율  고유값 수(nunique)\n",
       "BMI         float64            8    0.06            7027\n",
       "골격근량         object          910    6.52             412\n",
       "기초대사량       float64          930    6.67            1291\n",
       "나이            int64            0    0.00              63\n",
       "단백질          object          919    6.59             152\n",
       "목둘레         float64           35    0.25             335\n",
       "몸무게         float64            7    0.05             889\n",
       "무기질          object          919    6.59             454\n",
       "발너비         float64            3    0.02              58\n",
       "발직선길이       float64            4    0.03             127\n",
       "성별           object            0    0.00               2\n",
       "체수분          object          919    6.59             491\n",
       "체지방량         object          910    6.52             416\n",
       "키           float64            1    0.01             745"
      ]
     },
     "execution_count": 23,
     "metadata": {},
     "output_type": "execute_result"
    }
   ],
   "source": [
    "summary(df)"
   ]
  },
  {
   "cell_type": "code",
   "execution_count": 24,
   "metadata": {
    "scrolled": true
   },
   "outputs": [
    {
     "data": {
      "text/plain": [
       "Index(['골격근량', '단백질', '무기질', '성별', '체수분', '체지방량'], dtype='object')"
      ]
     },
     "execution_count": 24,
     "metadata": {},
     "output_type": "execute_result"
    }
   ],
   "source": [
    "df.columns[df.dtypes =='object']"
   ]
  },
  {
   "cell_type": "code",
   "execution_count": 25,
   "metadata": {},
   "outputs": [
    {
     "data": {
      "text/html": [
       "<div>\n",
       "<style scoped>\n",
       "    .dataframe tbody tr th:only-of-type {\n",
       "        vertical-align: middle;\n",
       "    }\n",
       "\n",
       "    .dataframe tbody tr th {\n",
       "        vertical-align: top;\n",
       "    }\n",
       "\n",
       "    .dataframe thead th {\n",
       "        text-align: right;\n",
       "    }\n",
       "</style>\n",
       "<table border=\"1\" class=\"dataframe\">\n",
       "  <thead>\n",
       "    <tr style=\"text-align: right;\">\n",
       "      <th></th>\n",
       "      <th>BMI</th>\n",
       "      <th>골격근량</th>\n",
       "      <th>기초대사량</th>\n",
       "      <th>나이</th>\n",
       "      <th>단백질</th>\n",
       "      <th>목둘레</th>\n",
       "      <th>몸무게</th>\n",
       "      <th>무기질</th>\n",
       "      <th>발너비</th>\n",
       "      <th>발직선길이</th>\n",
       "      <th>성별</th>\n",
       "      <th>체수분</th>\n",
       "      <th>체지방량</th>\n",
       "      <th>키</th>\n",
       "    </tr>\n",
       "  </thead>\n",
       "  <tbody>\n",
       "    <tr>\n",
       "      <th>0</th>\n",
       "      <td>23.1</td>\n",
       "      <td>32.6</td>\n",
       "      <td>1609.0</td>\n",
       "      <td>23</td>\n",
       "      <td>11.5</td>\n",
       "      <td>353.0</td>\n",
       "      <td>69.8</td>\n",
       "      <td>3.9</td>\n",
       "      <td>97.0</td>\n",
       "      <td>250.0</td>\n",
       "      <td>남</td>\n",
       "      <td>42</td>\n",
       "      <td>12.4</td>\n",
       "      <td>1740.0</td>\n",
       "    </tr>\n",
       "    <tr>\n",
       "      <th>1</th>\n",
       "      <td>22.6</td>\n",
       "      <td>33.7</td>\n",
       "      <td>1649.0</td>\n",
       "      <td>22</td>\n",
       "      <td>11.8</td>\n",
       "      <td>361.0</td>\n",
       "      <td>66.9</td>\n",
       "      <td>3.86</td>\n",
       "      <td>110.0</td>\n",
       "      <td>259.0</td>\n",
       "      <td>남</td>\n",
       "      <td>43.5</td>\n",
       "      <td>7.7</td>\n",
       "      <td>1722.0</td>\n",
       "    </tr>\n",
       "    <tr>\n",
       "      <th>2</th>\n",
       "      <td>18.4</td>\n",
       "      <td>29.6</td>\n",
       "      <td>1507.0</td>\n",
       "      <td>24</td>\n",
       "      <td>10.4</td>\n",
       "      <td>344.0</td>\n",
       "      <td>58.9</td>\n",
       "      <td>3.57</td>\n",
       "      <td>98.0</td>\n",
       "      <td>261.0</td>\n",
       "      <td>남</td>\n",
       "      <td>38.6</td>\n",
       "      <td>6.3</td>\n",
       "      <td>1788.0</td>\n",
       "    </tr>\n",
       "    <tr>\n",
       "      <th>3</th>\n",
       "      <td>21.4</td>\n",
       "      <td>34.4</td>\n",
       "      <td>1686.0</td>\n",
       "      <td>23</td>\n",
       "      <td>12.1</td>\n",
       "      <td>370.0</td>\n",
       "      <td>66.9</td>\n",
       "      <td>3.89</td>\n",
       "      <td>95.0</td>\n",
       "      <td>251.0</td>\n",
       "      <td>남</td>\n",
       "      <td>44.9</td>\n",
       "      <td>6</td>\n",
       "      <td>1770.0</td>\n",
       "    </tr>\n",
       "    <tr>\n",
       "      <th>4</th>\n",
       "      <td>23.0</td>\n",
       "      <td>31.5</td>\n",
       "      <td>1584.0</td>\n",
       "      <td>23</td>\n",
       "      <td>11.1</td>\n",
       "      <td>387.0</td>\n",
       "      <td>66.6</td>\n",
       "      <td>3.98</td>\n",
       "      <td>95.0</td>\n",
       "      <td>251.0</td>\n",
       "      <td>남</td>\n",
       "      <td>41.1</td>\n",
       "      <td>10.4</td>\n",
       "      <td>1697.0</td>\n",
       "    </tr>\n",
       "  </tbody>\n",
       "</table>\n",
       "</div>"
      ],
      "text/plain": [
       "    BMI  골격근량   기초대사량  나이   단백질    목둘레   몸무게   무기질    발너비  발직선길이 성별   체수분  \\\n",
       "0  23.1  32.6  1609.0  23  11.5  353.0  69.8   3.9   97.0  250.0  남    42   \n",
       "1  22.6  33.7  1649.0  22  11.8  361.0  66.9  3.86  110.0  259.0  남  43.5   \n",
       "2  18.4  29.6  1507.0  24  10.4  344.0  58.9  3.57   98.0  261.0  남  38.6   \n",
       "3  21.4  34.4  1686.0  23  12.1  370.0  66.9  3.89   95.0  251.0  남  44.9   \n",
       "4  23.0  31.5  1584.0  23  11.1  387.0  66.6  3.98   95.0  251.0  남  41.1   \n",
       "\n",
       "   체지방량       키  \n",
       "0  12.4  1740.0  \n",
       "1   7.7  1722.0  \n",
       "2   6.3  1788.0  \n",
       "3     6  1770.0  \n",
       "4  10.4  1697.0  "
      ]
     },
     "execution_count": 25,
     "metadata": {},
     "output_type": "execute_result"
    }
   ],
   "source": [
    "df.head()"
   ]
  },
  {
   "cell_type": "markdown",
   "metadata": {},
   "source": [
    "#### 체수분 컬럼에 42, 43.5, Nan 등 정수, 실수, Nan이 혼재되어 있어 astype()으로 자료젼환이 불가"
   ]
  },
  {
   "cell_type": "code",
   "execution_count": 37,
   "metadata": {},
   "outputs": [],
   "source": [
    "for col in ['단백질', '체지방량', '체수분', '무기질', '골격근량']:\n",
    "    df[col] = pd.to_numeric(df[col], errors='coerce')"
   ]
  },
  {
   "cell_type": "code",
   "execution_count": 42,
   "metadata": {},
   "outputs": [],
   "source": [
    "df['성별'] = df['성별'].astype('category')"
   ]
  },
  {
   "cell_type": "code",
   "execution_count": 51,
   "metadata": {},
   "outputs": [
    {
     "data": {
      "text/plain": [
       "array([[<AxesSubplot:title={'center':'단백질'}>,\n",
       "        <AxesSubplot:title={'center':'체지방량'}>,\n",
       "        <AxesSubplot:title={'center':'BMI'}>,\n",
       "        <AxesSubplot:title={'center':'체수분'}>],\n",
       "       [<AxesSubplot:title={'center':'나이'}>,\n",
       "        <AxesSubplot:title={'center':'근육조절'}>,\n",
       "        <AxesSubplot:title={'center':'무기질'}>,\n",
       "        <AxesSubplot:title={'center':'기초대사량'}>],\n",
       "       [<AxesSubplot:title={'center':'골격근량'}>,\n",
       "        <AxesSubplot:title={'center':'목둘레'}>,\n",
       "        <AxesSubplot:title={'center':'키'}>,\n",
       "        <AxesSubplot:title={'center':'발직선길이'}>],\n",
       "       [<AxesSubplot:title={'center':'몸무게'}>, <AxesSubplot:>,\n",
       "        <AxesSubplot:>, <AxesSubplot:>]], dtype=object)"
      ]
     },
     "execution_count": 51,
     "metadata": {},
     "output_type": "execute_result"
    },
    {
     "data": {
      "image/png": "[encoded data removed]",
      "text/plain": [
       "<Figure size 1440x720 with 16 Axes>"
      ]
     },
     "metadata": {
      "needs_background": "light"
     },
     "output_type": "display_data"
    }
   ],
   "source": [
    "df.drop('성별', axis=1).hist(figsize=(20,10))"
   ]
  },
  {
   "cell_type": "markdown",
   "metadata": {},
   "source": [
    "### 2.2. 수치형데이터 결측치 대체"
   ]
  },
  {
   "cell_type": "code",
   "execution_count": 56,
   "metadata": {},
   "outputs": [
    {
     "data": {
      "text/plain": [
       "단백질      0\n",
       "체지방량     0\n",
       "BMI      0\n",
       "체수분      0\n",
       "나이       0\n",
       "근육조절     0\n",
       "무기질      0\n",
       "기초대사량    0\n",
       "골격근량     0\n",
       "목둘레      0\n",
       "키        0\n",
       "발직선길이    0\n",
       "몸무게      0\n",
       "성별       0\n",
       "dtype: int64"
      ]
     },
     "execution_count": 56,
     "metadata": {},
     "output_type": "execute_result"
    }
   ],
   "source": [
    "df.isnull().sum()"
   ]
  },
  {
   "cell_type": "code",
   "execution_count": 55,
   "metadata": {},
   "outputs": [],
   "source": [
    "for i in df.columns:\n",
    "    if i != '성별':\n",
    "        df[i] = df[i].fillna(df[i].mean())"
   ]
  },
  {
   "cell_type": "markdown",
   "metadata": {},
   "source": [
    "## 3. 이상치 확인"
   ]
  },
  {
   "cell_type": "code",
   "execution_count": 59,
   "metadata": {},
   "outputs": [
    {
     "data": {
      "text/plain": [
       "단백질      -0.116682\n",
       "체지방량      1.005971\n",
       "BMI       0.416073\n",
       "체수분      -0.949278\n",
       "나이        0.971575\n",
       "근육조절      1.438822\n",
       "무기질     -31.950827\n",
       "기초대사량    -0.221943\n",
       "골격근량     -0.113881\n",
       "목둘레      -0.137480\n",
       "키        -1.118923\n",
       "발직선길이    -0.760318\n",
       "몸무게      -0.122488\n",
       "dtype: float64"
      ]
     },
     "execution_count": 59,
     "metadata": {},
     "output_type": "execute_result"
    }
   ],
   "source": [
    "df.skew()"
   ]
  },
  {
   "cell_type": "code",
   "execution_count": 69,
   "metadata": {},
   "outputs": [
    {
     "data": {
      "text/plain": [
       "<AxesSubplot:>"
      ]
     },
     "execution_count": 69,
     "metadata": {},
     "output_type": "execute_result"
    },
    {
     "data": {
      "text/plain": [
       "-0.04828481590802577"
      ]
     },
     "execution_count": 69,
     "metadata": {},
     "output_type": "execute_result"
    },
    {
     "data": {
      "image/png": "[encoded data removed]",
      "text/plain": [
       "<Figure size 432x288 with 1 Axes>"
      ]
     },
     "metadata": {
      "needs_background": "light"
     },
     "output_type": "display_data"
    }
   ],
   "source": [
    "np.log1p(df['무기질']).hist() # 무한대를 피하기 위해 1을 더하고 로그값을 \n",
    "np.log1p(df['무기질']).skew()"
   ]
  },
  {
   "cell_type": "code",
   "execution_count": 70,
   "metadata": {},
   "outputs": [
    {
     "data": {
      "text/plain": [
       "<AxesSubplot:>"
      ]
     },
     "execution_count": 70,
     "metadata": {},
     "output_type": "execute_result"
    },
    {
     "data": {
      "text/plain": [
       "3.444364443248738"
      ]
     },
     "execution_count": 70,
     "metadata": {},
     "output_type": "execute_result"
    },
    {
     "data": {
      "image/png": "[encoded data removed]",
      "text/plain": [
       "<Figure size 432x288 with 1 Axes>"
      ]
     },
     "metadata": {
      "needs_background": "light"
     },
     "output_type": "display_data"
    }
   ],
   "source": [
    "np.sqrt(1+df['무기질']).hist()\n",
    "np.sqrt(1+df['무기질']).skew()"
   ]
  },
  {
   "cell_type": "code",
   "execution_count": 58,
   "metadata": {},
   "outputs": [
    {
     "data": {
      "text/plain": [
       "<AxesSubplot:>"
      ]
     },
     "execution_count": 58,
     "metadata": {},
     "output_type": "execute_result"
    },
    {
     "data": {
      "image/png": "[encoded data removed]",
      "text/plain": [
       "<Figure size 1440x288 with 1 Axes>"
      ]
     },
     "metadata": {
      "needs_background": "light"
     },
     "output_type": "display_data"
    }
   ],
   "source": [
    "df.boxplot(figsize=(20,4))"
   ]
  },
  {
   "cell_type": "code",
   "execution_count": 71,
   "metadata": {},
   "outputs": [],
   "source": [
    "df['무기질'] = np.log1p(df['무기질'])"
   ]
  },
  {
   "cell_type": "code",
   "execution_count": 72,
   "metadata": {},
   "outputs": [
    {
     "data": {
      "text/html": [
       "<div>\n",
       "<style scoped>\n",
       "    .dataframe tbody tr th:only-of-type {\n",
       "        vertical-align: middle;\n",
       "    }\n",
       "\n",
       "    .dataframe tbody tr th {\n",
       "        vertical-align: top;\n",
       "    }\n",
       "\n",
       "    .dataframe thead th {\n",
       "        text-align: right;\n",
       "    }\n",
       "</style>\n",
       "<table border=\"1\" class=\"dataframe\">\n",
       "  <thead>\n",
       "    <tr style=\"text-align: right;\">\n",
       "      <th></th>\n",
       "      <th>데이터형태(dtypes)</th>\n",
       "      <th>결측치 수(null)</th>\n",
       "      <th>결측치 비율</th>\n",
       "      <th>고유값 수(nunique)</th>\n",
       "    </tr>\n",
       "  </thead>\n",
       "  <tbody>\n",
       "    <tr>\n",
       "      <th>단백질</th>\n",
       "      <td>float64</td>\n",
       "      <td>0</td>\n",
       "      <td>0.00</td>\n",
       "      <td>152</td>\n",
       "    </tr>\n",
       "    <tr>\n",
       "      <th>체지방량</th>\n",
       "      <td>float64</td>\n",
       "      <td>0</td>\n",
       "      <td>0.00</td>\n",
       "      <td>416</td>\n",
       "    </tr>\n",
       "    <tr>\n",
       "      <th>BMI</th>\n",
       "      <td>float64</td>\n",
       "      <td>0</td>\n",
       "      <td>0.00</td>\n",
       "      <td>7028</td>\n",
       "    </tr>\n",
       "    <tr>\n",
       "      <th>체수분</th>\n",
       "      <td>float64</td>\n",
       "      <td>0</td>\n",
       "      <td>0.00</td>\n",
       "      <td>491</td>\n",
       "    </tr>\n",
       "    <tr>\n",
       "      <th>나이</th>\n",
       "      <td>int64</td>\n",
       "      <td>0</td>\n",
       "      <td>0.00</td>\n",
       "      <td>63</td>\n",
       "    </tr>\n",
       "    <tr>\n",
       "      <th>근육조절</th>\n",
       "      <td>float64</td>\n",
       "      <td>0</td>\n",
       "      <td>0.00</td>\n",
       "      <td>163</td>\n",
       "    </tr>\n",
       "    <tr>\n",
       "      <th>무기질</th>\n",
       "      <td>float64</td>\n",
       "      <td>2</td>\n",
       "      <td>0.01</td>\n",
       "      <td>452</td>\n",
       "    </tr>\n",
       "    <tr>\n",
       "      <th>기초대사량</th>\n",
       "      <td>float64</td>\n",
       "      <td>0</td>\n",
       "      <td>0.00</td>\n",
       "      <td>1292</td>\n",
       "    </tr>\n",
       "    <tr>\n",
       "      <th>골격근량</th>\n",
       "      <td>float64</td>\n",
       "      <td>0</td>\n",
       "      <td>0.00</td>\n",
       "      <td>412</td>\n",
       "    </tr>\n",
       "    <tr>\n",
       "      <th>목둘레</th>\n",
       "      <td>float64</td>\n",
       "      <td>0</td>\n",
       "      <td>0.00</td>\n",
       "      <td>336</td>\n",
       "    </tr>\n",
       "    <tr>\n",
       "      <th>키</th>\n",
       "      <td>float64</td>\n",
       "      <td>0</td>\n",
       "      <td>0.00</td>\n",
       "      <td>746</td>\n",
       "    </tr>\n",
       "    <tr>\n",
       "      <th>발직선길이</th>\n",
       "      <td>float64</td>\n",
       "      <td>0</td>\n",
       "      <td>0.00</td>\n",
       "      <td>128</td>\n",
       "    </tr>\n",
       "    <tr>\n",
       "      <th>몸무게</th>\n",
       "      <td>float64</td>\n",
       "      <td>0</td>\n",
       "      <td>0.00</td>\n",
       "      <td>890</td>\n",
       "    </tr>\n",
       "    <tr>\n",
       "      <th>성별</th>\n",
       "      <td>category</td>\n",
       "      <td>0</td>\n",
       "      <td>0.00</td>\n",
       "      <td>2</td>\n",
       "    </tr>\n",
       "  </tbody>\n",
       "</table>\n",
       "</div>"
      ],
      "text/plain": [
       "      데이터형태(dtypes)  결측치 수(null)  결측치 비율  고유값 수(nunique)\n",
       "단백질         float64            0    0.00             152\n",
       "체지방량        float64            0    0.00             416\n",
       "BMI         float64            0    0.00            7028\n",
       "체수분         float64            0    0.00             491\n",
       "나이            int64            0    0.00              63\n",
       "근육조절        float64            0    0.00             163\n",
       "무기질         float64            2    0.01             452\n",
       "기초대사량       float64            0    0.00            1292\n",
       "골격근량        float64            0    0.00             412\n",
       "목둘레         float64            0    0.00             336\n",
       "키           float64            0    0.00             746\n",
       "발직선길이       float64            0    0.00             128\n",
       "몸무게         float64            0    0.00             890\n",
       "성별         category            0    0.00               2"
      ]
     },
     "execution_count": 72,
     "metadata": {},
     "output_type": "execute_result"
    }
   ],
   "source": [
    "summary(df)"
   ]
  },
  {
   "cell_type": "code",
   "execution_count": 163,
   "metadata": {
    "scrolled": true
   },
   "outputs": [
    {
     "name": "stdout",
     "output_type": "stream",
     "text": [
      "nan, inf & -inf 의 개수는 ?   0\n"
     ]
    }
   ],
   "source": [
    "print('nan, inf & -inf 의 개수는 ?  ', df.isin([np.nan, np.inf, -np.inf]).any(1).sum())"
   ]
  },
  {
   "cell_type": "code",
   "execution_count": 162,
   "metadata": {},
   "outputs": [
    {
     "data": {
      "text/html": [
       "<div>\n",
       "<style scoped>\n",
       "    .dataframe tbody tr th:only-of-type {\n",
       "        vertical-align: middle;\n",
       "    }\n",
       "\n",
       "    .dataframe tbody tr th {\n",
       "        vertical-align: top;\n",
       "    }\n",
       "\n",
       "    .dataframe thead th {\n",
       "        text-align: right;\n",
       "    }\n",
       "</style>\n",
       "<table border=\"1\" class=\"dataframe\">\n",
       "  <thead>\n",
       "    <tr style=\"text-align: right;\">\n",
       "      <th></th>\n",
       "      <th>단백질</th>\n",
       "      <th>체지방량</th>\n",
       "      <th>BMI</th>\n",
       "      <th>체수분</th>\n",
       "      <th>나이</th>\n",
       "      <th>근육조절</th>\n",
       "      <th>무기질</th>\n",
       "      <th>기초대사량</th>\n",
       "      <th>골격근량</th>\n",
       "      <th>목둘레</th>\n",
       "      <th>키</th>\n",
       "      <th>발직선길이</th>\n",
       "      <th>몸무게</th>\n",
       "      <th>성별</th>\n",
       "    </tr>\n",
       "  </thead>\n",
       "  <tbody>\n",
       "  </tbody>\n",
       "</table>\n",
       "</div>"
      ],
      "text/plain": [
       "Empty DataFrame\n",
       "Columns: [단백질, 체지방량, BMI, 체수분, 나이, 근육조절, 무기질, 기초대사량, 골격근량, 목둘레, 키, 발직선길이, 몸무게, 성별]\n",
       "Index: []"
      ]
     },
     "execution_count": 162,
     "metadata": {},
     "output_type": "execute_result"
    }
   ],
   "source": [
    "df[df.isin([np.nan, np.inf, -np.inf]).any(1)]"
   ]
  },
  {
   "cell_type": "code",
   "execution_count": 161,
   "metadata": {},
   "outputs": [],
   "source": [
    "df.dropna(inplace=True)"
   ]
  },
  {
   "cell_type": "markdown",
   "metadata": {},
   "source": [
    "## 4. 표준화"
   ]
  },
  {
   "cell_type": "code",
   "execution_count": 81,
   "metadata": {},
   "outputs": [
    {
     "data": {
      "text/plain": [
       "Index(['단백질', '체지방량', 'BMI', '체수분', '나이', '근육조절', '무기질', '기초대사량', '골격근량',\n",
       "       '목둘레', '키', '발직선길이', '몸무게', '성별'],\n",
       "      dtype='object')"
      ]
     },
     "execution_count": 81,
     "metadata": {},
     "output_type": "execute_result"
    }
   ],
   "source": [
    "df.columns"
   ]
  },
  {
   "cell_type": "code",
   "execution_count": 84,
   "metadata": {},
   "outputs": [],
   "source": [
    "mylist = list(df.columns)\n",
    "mylist.remove('성별')"
   ]
  },
  {
   "cell_type": "code",
   "execution_count": 86,
   "metadata": {},
   "outputs": [],
   "source": [
    "for i in mylist:\n",
    "    df[i] = (df[i] -df[i].mean())/df[i].std()"
   ]
  },
  {
   "cell_type": "markdown",
   "metadata": {},
   "source": [
    "## 5. 인덱스 순번화"
   ]
  },
  {
   "cell_type": "code",
   "execution_count": 88,
   "metadata": {},
   "outputs": [
    {
     "data": {
      "text/html": [
       "<div>\n",
       "<style scoped>\n",
       "    .dataframe tbody tr th:only-of-type {\n",
       "        vertical-align: middle;\n",
       "    }\n",
       "\n",
       "    .dataframe tbody tr th {\n",
       "        vertical-align: top;\n",
       "    }\n",
       "\n",
       "    .dataframe thead th {\n",
       "        text-align: right;\n",
       "    }\n",
       "</style>\n",
       "<table border=\"1\" class=\"dataframe\">\n",
       "  <thead>\n",
       "    <tr style=\"text-align: right;\">\n",
       "      <th></th>\n",
       "      <th>단백질</th>\n",
       "      <th>체지방량</th>\n",
       "      <th>BMI</th>\n",
       "      <th>체수분</th>\n",
       "      <th>나이</th>\n",
       "      <th>근육조절</th>\n",
       "      <th>무기질</th>\n",
       "      <th>기초대사량</th>\n",
       "      <th>골격근량</th>\n",
       "      <th>목둘레</th>\n",
       "      <th>키</th>\n",
       "      <th>발직선길이</th>\n",
       "      <th>몸무게</th>\n",
       "      <th>성별</th>\n",
       "    </tr>\n",
       "  </thead>\n",
       "  <tbody>\n",
       "    <tr>\n",
       "      <th>0</th>\n",
       "      <td>0.920105</td>\n",
       "      <td>-0.296574</td>\n",
       "      <td>0.168989</td>\n",
       "      <td>0.796865</td>\n",
       "      <td>-0.229483</td>\n",
       "      <td>-0.848596</td>\n",
       "      <td>0.830838</td>\n",
       "      <td>0.872322</td>\n",
       "      <td>0.902787</td>\n",
       "      <td>0.181223</td>\n",
       "      <td>0.812328</td>\n",
       "      <td>0.429581</td>\n",
       "      <td>0.570607</td>\n",
       "      <td>남</td>\n",
       "    </tr>\n",
       "    <tr>\n",
       "      <th>1</th>\n",
       "      <td>1.044407</td>\n",
       "      <td>-1.000291</td>\n",
       "      <td>0.042565</td>\n",
       "      <td>0.919035</td>\n",
       "      <td>-0.295233</td>\n",
       "      <td>-0.848596</td>\n",
       "      <td>0.791514</td>\n",
       "      <td>1.027994</td>\n",
       "      <td>1.053796</td>\n",
       "      <td>0.390904</td>\n",
       "      <td>0.679856</td>\n",
       "      <td>0.903878</td>\n",
       "      <td>0.389613</td>\n",
       "      <td>남</td>\n",
       "    </tr>\n",
       "    <tr>\n",
       "      <th>2</th>\n",
       "      <td>0.464330</td>\n",
       "      <td>-1.209908</td>\n",
       "      <td>-1.019400</td>\n",
       "      <td>0.519946</td>\n",
       "      <td>-0.163733</td>\n",
       "      <td>1.760404</td>\n",
       "      <td>0.496349</td>\n",
       "      <td>0.475360</td>\n",
       "      <td>0.490943</td>\n",
       "      <td>-0.054667</td>\n",
       "      <td>1.165586</td>\n",
       "      <td>1.009277</td>\n",
       "      <td>-0.109681</td>\n",
       "      <td>남</td>\n",
       "    </tr>\n",
       "    <tr>\n",
       "      <th>3</th>\n",
       "      <td>1.168709</td>\n",
       "      <td>-1.254826</td>\n",
       "      <td>-0.260854</td>\n",
       "      <td>1.033061</td>\n",
       "      <td>-0.229483</td>\n",
       "      <td>-0.848596</td>\n",
       "      <td>0.821037</td>\n",
       "      <td>1.171990</td>\n",
       "      <td>1.149893</td>\n",
       "      <td>0.626795</td>\n",
       "      <td>1.033114</td>\n",
       "      <td>0.482280</td>\n",
       "      <td>0.389613</td>\n",
       "      <td>남</td>\n",
       "    </tr>\n",
       "    <tr>\n",
       "      <th>4</th>\n",
       "      <td>0.754369</td>\n",
       "      <td>-0.596028</td>\n",
       "      <td>0.143704</td>\n",
       "      <td>0.723563</td>\n",
       "      <td>-0.229483</td>\n",
       "      <td>-0.848596</td>\n",
       "      <td>0.908531</td>\n",
       "      <td>0.775027</td>\n",
       "      <td>0.751777</td>\n",
       "      <td>1.072366</td>\n",
       "      <td>0.495867</td>\n",
       "      <td>0.482280</td>\n",
       "      <td>0.370889</td>\n",
       "      <td>남</td>\n",
       "    </tr>\n",
       "  </tbody>\n",
       "</table>\n",
       "</div>"
      ],
      "text/plain": [
       "        단백질      체지방량       BMI       체수분        나이      근육조절       무기질  \\\n",
       "0  0.920105 -0.296574  0.168989  0.796865 -0.229483 -0.848596  0.830838   \n",
       "1  1.044407 -1.000291  0.042565  0.919035 -0.295233 -0.848596  0.791514   \n",
       "2  0.464330 -1.209908 -1.019400  0.519946 -0.163733  1.760404  0.496349   \n",
       "3  1.168709 -1.254826 -0.260854  1.033061 -0.229483 -0.848596  0.821037   \n",
       "4  0.754369 -0.596028  0.143704  0.723563 -0.229483 -0.848596  0.908531   \n",
       "\n",
       "      기초대사량      골격근량       목둘레         키     발직선길이       몸무게 성별  \n",
       "0  0.872322  0.902787  0.181223  0.812328  0.429581  0.570607  남  \n",
       "1  1.027994  1.053796  0.390904  0.679856  0.903878  0.389613  남  \n",
       "2  0.475360  0.490943 -0.054667  1.165586  1.009277 -0.109681  남  \n",
       "3  1.171990  1.149893  0.626795  1.033114  0.482280  0.389613  남  \n",
       "4  0.775027  0.751777  1.072366  0.495867  0.482280  0.370889  남  "
      ]
     },
     "execution_count": 88,
     "metadata": {},
     "output_type": "execute_result"
    }
   ],
   "source": [
    "df.head()"
   ]
  },
  {
   "cell_type": "code",
   "execution_count": 93,
   "metadata": {},
   "outputs": [
    {
     "data": {
      "text/html": [
       "<div>\n",
       "<style scoped>\n",
       "    .dataframe tbody tr th:only-of-type {\n",
       "        vertical-align: middle;\n",
       "    }\n",
       "\n",
       "    .dataframe tbody tr th {\n",
       "        vertical-align: top;\n",
       "    }\n",
       "\n",
       "    .dataframe thead th {\n",
       "        text-align: right;\n",
       "    }\n",
       "</style>\n",
       "<table border=\"1\" class=\"dataframe\">\n",
       "  <thead>\n",
       "    <tr style=\"text-align: right;\">\n",
       "      <th></th>\n",
       "      <th>단백질</th>\n",
       "      <th>체지방량</th>\n",
       "      <th>BMI</th>\n",
       "      <th>체수분</th>\n",
       "      <th>나이</th>\n",
       "      <th>근육조절</th>\n",
       "      <th>무기질</th>\n",
       "      <th>기초대사량</th>\n",
       "      <th>골격근량</th>\n",
       "      <th>목둘레</th>\n",
       "      <th>키</th>\n",
       "      <th>발직선길이</th>\n",
       "      <th>몸무게</th>\n",
       "      <th>성별</th>\n",
       "    </tr>\n",
       "  </thead>\n",
       "  <tbody>\n",
       "    <tr>\n",
       "      <th>13947</th>\n",
       "      <td>-0.530088</td>\n",
       "      <td>0.601788</td>\n",
       "      <td>-0.493972</td>\n",
       "      <td>-0.164206</td>\n",
       "      <td>-0.426732</td>\n",
       "      <td>1.152829</td>\n",
       "      <td>-0.142763</td>\n",
       "      <td>-0.489803</td>\n",
       "      <td>-0.524938</td>\n",
       "      <td>-0.159508</td>\n",
       "      <td>0.562103</td>\n",
       "      <td>0.007984</td>\n",
       "      <td>-0.065993</td>\n",
       "      <td>여</td>\n",
       "    </tr>\n",
       "    <tr>\n",
       "      <th>13948</th>\n",
       "      <td>-0.612956</td>\n",
       "      <td>0.122662</td>\n",
       "      <td>-0.408481</td>\n",
       "      <td>-0.253798</td>\n",
       "      <td>-0.426732</td>\n",
       "      <td>0.116377</td>\n",
       "      <td>-0.388841</td>\n",
       "      <td>-0.610448</td>\n",
       "      <td>-0.621035</td>\n",
       "      <td>-0.657499</td>\n",
       "      <td>-0.041380</td>\n",
       "      <td>-0.044716</td>\n",
       "      <td>-0.359329</td>\n",
       "      <td>여</td>\n",
       "    </tr>\n",
       "    <tr>\n",
       "      <th>13949</th>\n",
       "      <td>-1.027297</td>\n",
       "      <td>0.152607</td>\n",
       "      <td>-0.101295</td>\n",
       "      <td>-0.547006</td>\n",
       "      <td>1.151262</td>\n",
       "      <td>-0.241020</td>\n",
       "      <td>-1.065660</td>\n",
       "      <td>-1.030761</td>\n",
       "      <td>-1.019151</td>\n",
       "      <td>-0.552659</td>\n",
       "      <td>-0.895087</td>\n",
       "      <td>-0.729812</td>\n",
       "      <td>-0.658905</td>\n",
       "      <td>여</td>\n",
       "    </tr>\n",
       "    <tr>\n",
       "      <th>13950</th>\n",
       "      <td>-1.151599</td>\n",
       "      <td>-0.461273</td>\n",
       "      <td>-1.119985</td>\n",
       "      <td>-0.636598</td>\n",
       "      <td>-0.426732</td>\n",
       "      <td>1.510226</td>\n",
       "      <td>-1.065660</td>\n",
       "      <td>-1.151406</td>\n",
       "      <td>-1.156432</td>\n",
       "      <td>-1.076860</td>\n",
       "      <td>-0.409357</td>\n",
       "      <td>-1.046010</td>\n",
       "      <td>-1.002170</td>\n",
       "      <td>여</td>\n",
       "    </tr>\n",
       "    <tr>\n",
       "      <th>13951</th>\n",
       "      <td>-0.322917</td>\n",
       "      <td>0.856324</td>\n",
       "      <td>0.916458</td>\n",
       "      <td>-0.082760</td>\n",
       "      <td>0.691013</td>\n",
       "      <td>-0.848596</td>\n",
       "      <td>-0.388841</td>\n",
       "      <td>-0.380833</td>\n",
       "      <td>-0.360201</td>\n",
       "      <td>0.102593</td>\n",
       "      <td>-0.585986</td>\n",
       "      <td>-0.729812</td>\n",
       "      <td>0.121242</td>\n",
       "      <td>여</td>\n",
       "    </tr>\n",
       "  </tbody>\n",
       "</table>\n",
       "</div>"
      ],
      "text/plain": [
       "            단백질      체지방량       BMI       체수분        나이      근육조절       무기질  \\\n",
       "13947 -0.530088  0.601788 -0.493972 -0.164206 -0.426732  1.152829 -0.142763   \n",
       "13948 -0.612956  0.122662 -0.408481 -0.253798 -0.426732  0.116377 -0.388841   \n",
       "13949 -1.027297  0.152607 -0.101295 -0.547006  1.151262 -0.241020 -1.065660   \n",
       "13950 -1.151599 -0.461273 -1.119985 -0.636598 -0.426732  1.510226 -1.065660   \n",
       "13951 -0.322917  0.856324  0.916458 -0.082760  0.691013 -0.848596 -0.388841   \n",
       "\n",
       "          기초대사량      골격근량       목둘레         키     발직선길이       몸무게 성별  \n",
       "13947 -0.489803 -0.524938 -0.159508  0.562103  0.007984 -0.065993  여  \n",
       "13948 -0.610448 -0.621035 -0.657499 -0.041380 -0.044716 -0.359329  여  \n",
       "13949 -1.030761 -1.019151 -0.552659 -0.895087 -0.729812 -0.658905  여  \n",
       "13950 -1.151406 -1.156432 -1.076860 -0.409357 -1.046010 -1.002170  여  \n",
       "13951 -0.380833 -0.360201  0.102593 -0.585986 -0.729812  0.121242  여  "
      ]
     },
     "execution_count": 93,
     "metadata": {},
     "output_type": "execute_result"
    }
   ],
   "source": [
    "df = df.reset_index().drop('index', axis=1)\n",
    "df.tail(5)"
   ]
  },
  {
   "cell_type": "markdown",
   "metadata": {},
   "source": [
    "## 7. label encoder"
   ]
  },
  {
   "cell_type": "code",
   "execution_count": 123,
   "metadata": {},
   "outputs": [
    {
     "data": {
      "text/plain": [
       "1    10728\n",
       "0     3224\n",
       "Name: 성별, dtype: int64"
      ]
     },
     "execution_count": 123,
     "metadata": {},
     "output_type": "execute_result"
    }
   ],
   "source": [
    "df['성별'].value_counts(dropna=False)"
   ]
  },
  {
   "cell_type": "code",
   "execution_count": 99,
   "metadata": {},
   "outputs": [],
   "source": [
    "df['성별'] = df['성별'].map({'남':1, '여':0})"
   ]
  },
  {
   "cell_type": "code",
   "execution_count": 125,
   "metadata": {},
   "outputs": [
    {
     "data": {
      "text/html": [
       "<div>\n",
       "<style scoped>\n",
       "    .dataframe tbody tr th:only-of-type {\n",
       "        vertical-align: middle;\n",
       "    }\n",
       "\n",
       "    .dataframe tbody tr th {\n",
       "        vertical-align: top;\n",
       "    }\n",
       "\n",
       "    .dataframe thead th {\n",
       "        text-align: right;\n",
       "    }\n",
       "</style>\n",
       "<table border=\"1\" class=\"dataframe\">\n",
       "  <thead>\n",
       "    <tr style=\"text-align: right;\">\n",
       "      <th></th>\n",
       "      <th>단백질</th>\n",
       "      <th>체지방량</th>\n",
       "      <th>BMI</th>\n",
       "      <th>체수분</th>\n",
       "      <th>나이</th>\n",
       "      <th>근육조절</th>\n",
       "      <th>무기질</th>\n",
       "      <th>기초대사량</th>\n",
       "      <th>골격근량</th>\n",
       "      <th>목둘레</th>\n",
       "      <th>키</th>\n",
       "      <th>발직선길이</th>\n",
       "      <th>몸무게</th>\n",
       "      <th>성별</th>\n",
       "    </tr>\n",
       "  </thead>\n",
       "  <tbody>\n",
       "    <tr>\n",
       "      <th>0</th>\n",
       "      <td>0.920105</td>\n",
       "      <td>-0.296574</td>\n",
       "      <td>0.168989</td>\n",
       "      <td>0.796865</td>\n",
       "      <td>-0.229483</td>\n",
       "      <td>-0.848596</td>\n",
       "      <td>0.830838</td>\n",
       "      <td>0.872322</td>\n",
       "      <td>0.902787</td>\n",
       "      <td>0.181223</td>\n",
       "      <td>0.812328</td>\n",
       "      <td>0.429581</td>\n",
       "      <td>0.570607</td>\n",
       "      <td>1</td>\n",
       "    </tr>\n",
       "    <tr>\n",
       "      <th>1</th>\n",
       "      <td>1.044407</td>\n",
       "      <td>-1.000291</td>\n",
       "      <td>0.042565</td>\n",
       "      <td>0.919035</td>\n",
       "      <td>-0.295233</td>\n",
       "      <td>-0.848596</td>\n",
       "      <td>0.791514</td>\n",
       "      <td>1.027994</td>\n",
       "      <td>1.053796</td>\n",
       "      <td>0.390904</td>\n",
       "      <td>0.679856</td>\n",
       "      <td>0.903878</td>\n",
       "      <td>0.389613</td>\n",
       "      <td>1</td>\n",
       "    </tr>\n",
       "    <tr>\n",
       "      <th>2</th>\n",
       "      <td>0.464330</td>\n",
       "      <td>-1.209908</td>\n",
       "      <td>-1.019400</td>\n",
       "      <td>0.519946</td>\n",
       "      <td>-0.163733</td>\n",
       "      <td>1.760404</td>\n",
       "      <td>0.496349</td>\n",
       "      <td>0.475360</td>\n",
       "      <td>0.490943</td>\n",
       "      <td>-0.054667</td>\n",
       "      <td>1.165586</td>\n",
       "      <td>1.009277</td>\n",
       "      <td>-0.109681</td>\n",
       "      <td>1</td>\n",
       "    </tr>\n",
       "    <tr>\n",
       "      <th>3</th>\n",
       "      <td>1.168709</td>\n",
       "      <td>-1.254826</td>\n",
       "      <td>-0.260854</td>\n",
       "      <td>1.033061</td>\n",
       "      <td>-0.229483</td>\n",
       "      <td>-0.848596</td>\n",
       "      <td>0.821037</td>\n",
       "      <td>1.171990</td>\n",
       "      <td>1.149893</td>\n",
       "      <td>0.626795</td>\n",
       "      <td>1.033114</td>\n",
       "      <td>0.482280</td>\n",
       "      <td>0.389613</td>\n",
       "      <td>1</td>\n",
       "    </tr>\n",
       "    <tr>\n",
       "      <th>4</th>\n",
       "      <td>0.754369</td>\n",
       "      <td>-0.596028</td>\n",
       "      <td>0.143704</td>\n",
       "      <td>0.723563</td>\n",
       "      <td>-0.229483</td>\n",
       "      <td>-0.848596</td>\n",
       "      <td>0.908531</td>\n",
       "      <td>0.775027</td>\n",
       "      <td>0.751777</td>\n",
       "      <td>1.072366</td>\n",
       "      <td>0.495867</td>\n",
       "      <td>0.482280</td>\n",
       "      <td>0.370889</td>\n",
       "      <td>1</td>\n",
       "    </tr>\n",
       "  </tbody>\n",
       "</table>\n",
       "</div>"
      ],
      "text/plain": [
       "        단백질      체지방량       BMI       체수분        나이      근육조절       무기질  \\\n",
       "0  0.920105 -0.296574  0.168989  0.796865 -0.229483 -0.848596  0.830838   \n",
       "1  1.044407 -1.000291  0.042565  0.919035 -0.295233 -0.848596  0.791514   \n",
       "2  0.464330 -1.209908 -1.019400  0.519946 -0.163733  1.760404  0.496349   \n",
       "3  1.168709 -1.254826 -0.260854  1.033061 -0.229483 -0.848596  0.821037   \n",
       "4  0.754369 -0.596028  0.143704  0.723563 -0.229483 -0.848596  0.908531   \n",
       "\n",
       "      기초대사량      골격근량       목둘레         키     발직선길이       몸무게 성별  \n",
       "0  0.872322  0.902787  0.181223  0.812328  0.429581  0.570607  1  \n",
       "1  1.027994  1.053796  0.390904  0.679856  0.903878  0.389613  1  \n",
       "2  0.475360  0.490943 -0.054667  1.165586  1.009277 -0.109681  1  \n",
       "3  1.171990  1.149893  0.626795  1.033114  0.482280  0.389613  1  \n",
       "4  0.775027  0.751777  1.072366  0.495867  0.482280  0.370889  1  "
      ]
     },
     "execution_count": 125,
     "metadata": {},
     "output_type": "execute_result"
    }
   ],
   "source": [
    "df.head()"
   ]
  },
  {
   "cell_type": "markdown",
   "metadata": {},
   "source": [
    "## 6. 분산과 공분산, 상관관계"
   ]
  },
  {
   "cell_type": "code",
   "execution_count": 131,
   "metadata": {},
   "outputs": [
    {
     "data": {
      "text/plain": [
       "<AxesSubplot:>"
      ]
     },
     "execution_count": 131,
     "metadata": {},
     "output_type": "execute_result"
    },
    {
     "data": {
      "image/png": "[encoded data removed]",
      "text/plain": [
       "<Figure size 1440x432 with 2 Axes>"
      ]
     },
     "metadata": {
      "needs_background": "light"
     },
     "output_type": "display_data"
    }
   ],
   "source": [
    "import seaborn as sns\n",
    "fig = plt.figure(figsize = (20, 6))\n",
    "sns.heatmap(df.corr(), annot = True, cmap = 'RdYlBu_r')"
   ]
  },
  {
   "cell_type": "code",
   "execution_count": 136,
   "metadata": {},
   "outputs": [
    {
     "data": {
      "text/plain": [
       "<AxesSubplot:>"
      ]
     },
     "execution_count": 136,
     "metadata": {},
     "output_type": "execute_result"
    },
    {
     "data": {
      "text/plain": [
       "Text(0.5, 1.0, '성별과 다른 변수의 상관관계')"
      ]
     },
     "execution_count": 136,
     "metadata": {},
     "output_type": "execute_result"
    },
    {
     "data": {
      "image/png": "[encoded data removed]",
      "text/plain": [
       "<Figure size 1440x288 with 1 Axes>"
      ]
     },
     "metadata": {
      "needs_background": "light"
     },
     "output_type": "display_data"
    }
   ],
   "source": [
    "X = df.drop('성별', axis=1)\n",
    "y = df['성별']\n",
    "(X.corrwith(y).sort_values().plot.bar(figsize = (20, 4),\n",
    "                                      fontsize = 12, rot = 45, grid = True))\n",
    "plt.title('성별과 다른 변수의 상관관계', fontsize = 22)\n",
    "plt.rc('xtick', labelsize=22)"
   ]
  },
  {
   "cell_type": "markdown",
   "metadata": {},
   "source": [
    "## 4. 이산화(discretinization), 등등"
   ]
  },
  {
   "cell_type": "code",
   "execution_count": 164,
   "metadata": {},
   "outputs": [
    {
     "data": {
      "text/plain": [
       "단백질      0\n",
       "체지방량     0\n",
       "BMI      0\n",
       "체수분      0\n",
       "나이       0\n",
       "근육조절     0\n",
       "무기질      0\n",
       "기초대사량    0\n",
       "골격근량     0\n",
       "목둘레      0\n",
       "키        0\n",
       "발직선길이    0\n",
       "몸무게      0\n",
       "성별       0\n",
       "dtype: int64"
      ]
     },
     "execution_count": 164,
     "metadata": {},
     "output_type": "execute_result"
    }
   ],
   "source": [
    "df.isnull().sum()"
   ]
  },
  {
   "cell_type": "markdown",
   "metadata": {},
   "source": [
    "# END"
   ]
  }
 ],
 "metadata": {
  "kernelspec": {
   "display_name": "Python 3",
   "language": "python",
   "name": "python3"
  },
  "language_info": {
   "codemirror_mode": {
    "name": "ipython",
    "version": 3
   },
   "file_extension": ".py",
   "mimetype": "text/x-python",
   "name": "python",
   "nbconvert_exporter": "python",
   "pygments_lexer": "ipython3",
   "version": "3.7.4"
  }
 },
 "nbformat": 4,
 "nbformat_minor": 5
}
