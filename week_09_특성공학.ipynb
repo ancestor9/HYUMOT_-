{
 "cells": [
  {
   "cell_type": "markdown",
   "metadata": {},
   "source": [
    "# Feature engineering"
   ]
  },
  {
   "cell_type": "code",
   "execution_count": 1,
   "metadata": {},
   "outputs": [
    {
     "data": {
      "text/html": [
       "<style>.container { width:100% !important; }</style>"
      ],
      "text/plain": [
       "<IPython.core.display.HTML object>"
      ]
     },
     "metadata": {},
     "output_type": "display_data"
    }
   ],
   "source": [
    "from IPython.core.interactiveshell import InteractiveShell\n",
    "InteractiveShell.ast_node_interactivity = 'all'\n",
    "import pandas as pd\n",
    "import numpy as np\n",
    "import warnings\n",
    "warnings.filterwarnings('ignore')\n",
    "import matplotlib.pyplot as plt\n",
    "import seaborn as sns; sns.set()\n",
    "plt.rcParams['font.family']='Malgun Gothic'\n",
    "from IPython.core.display import display, HTML\n",
    "display(HTML(\"<style>.container { width:100% !important; }</style>\"))"
   ]
  },
  {
   "cell_type": "code",
   "execution_count": 2,
   "metadata": {},
   "outputs": [],
   "source": [
    "def summary(df) :\n",
    "    tf = pd.DataFrame({'데이터형태(dtypes)' : df.dtypes,\n",
    "                       '비 결측치 수(notnull': df.notnull().sum(),\n",
    "                       '결측치 수(null)' : df.isnull().sum(),\n",
    "                       '고유값 수(nunique)' : df.nunique()})\n",
    "    return tf"
   ]
  },
  {
   "cell_type": "markdown",
   "metadata": {},
   "source": [
    "## 1. 데이터 읽기\n",
    "### kaggle('../data/creditcard.csv'')로 search\n",
    "https://www.kaggle.com/mlg-ulb/creditcardfraud"
   ]
  },
  {
   "cell_type": "code",
   "execution_count": 3,
   "metadata": {},
   "outputs": [
    {
     "data": {
      "text/html": [
       "<div>\n",
       "<style scoped>\n",
       "    .dataframe tbody tr th:only-of-type {\n",
       "        vertical-align: middle;\n",
       "    }\n",
       "\n",
       "    .dataframe tbody tr th {\n",
       "        vertical-align: top;\n",
       "    }\n",
       "\n",
       "    .dataframe thead th {\n",
       "        text-align: right;\n",
       "    }\n",
       "</style>\n",
       "<table border=\"1\" class=\"dataframe\">\n",
       "  <thead>\n",
       "    <tr style=\"text-align: right;\">\n",
       "      <th></th>\n",
       "      <th>Time</th>\n",
       "      <th>V1</th>\n",
       "      <th>V2</th>\n",
       "      <th>V3</th>\n",
       "      <th>V4</th>\n",
       "      <th>V5</th>\n",
       "      <th>V6</th>\n",
       "      <th>V7</th>\n",
       "      <th>V8</th>\n",
       "      <th>V9</th>\n",
       "      <th>...</th>\n",
       "      <th>V21</th>\n",
       "      <th>V22</th>\n",
       "      <th>V23</th>\n",
       "      <th>V24</th>\n",
       "      <th>V25</th>\n",
       "      <th>V26</th>\n",
       "      <th>V27</th>\n",
       "      <th>V28</th>\n",
       "      <th>Amount</th>\n",
       "      <th>Class</th>\n",
       "    </tr>\n",
       "  </thead>\n",
       "  <tbody>\n",
       "    <tr>\n",
       "      <th>0</th>\n",
       "      <td>0.0</td>\n",
       "      <td>-1.359807</td>\n",
       "      <td>-0.072781</td>\n",
       "      <td>2.536347</td>\n",
       "      <td>1.378155</td>\n",
       "      <td>-0.338321</td>\n",
       "      <td>0.462388</td>\n",
       "      <td>0.239599</td>\n",
       "      <td>0.098698</td>\n",
       "      <td>0.363787</td>\n",
       "      <td>...</td>\n",
       "      <td>-0.018307</td>\n",
       "      <td>0.277838</td>\n",
       "      <td>-0.110474</td>\n",
       "      <td>0.066928</td>\n",
       "      <td>0.128539</td>\n",
       "      <td>-0.189115</td>\n",
       "      <td>0.133558</td>\n",
       "      <td>-0.021053</td>\n",
       "      <td>149.62</td>\n",
       "      <td>0</td>\n",
       "    </tr>\n",
       "    <tr>\n",
       "      <th>1</th>\n",
       "      <td>0.0</td>\n",
       "      <td>1.191857</td>\n",
       "      <td>0.266151</td>\n",
       "      <td>0.166480</td>\n",
       "      <td>0.448154</td>\n",
       "      <td>0.060018</td>\n",
       "      <td>-0.082361</td>\n",
       "      <td>-0.078803</td>\n",
       "      <td>0.085102</td>\n",
       "      <td>-0.255425</td>\n",
       "      <td>...</td>\n",
       "      <td>-0.225775</td>\n",
       "      <td>-0.638672</td>\n",
       "      <td>0.101288</td>\n",
       "      <td>-0.339846</td>\n",
       "      <td>0.167170</td>\n",
       "      <td>0.125895</td>\n",
       "      <td>-0.008983</td>\n",
       "      <td>0.014724</td>\n",
       "      <td>2.69</td>\n",
       "      <td>0</td>\n",
       "    </tr>\n",
       "    <tr>\n",
       "      <th>2</th>\n",
       "      <td>1.0</td>\n",
       "      <td>-1.358354</td>\n",
       "      <td>-1.340163</td>\n",
       "      <td>1.773209</td>\n",
       "      <td>0.379780</td>\n",
       "      <td>-0.503198</td>\n",
       "      <td>1.800499</td>\n",
       "      <td>0.791461</td>\n",
       "      <td>0.247676</td>\n",
       "      <td>-1.514654</td>\n",
       "      <td>...</td>\n",
       "      <td>0.247998</td>\n",
       "      <td>0.771679</td>\n",
       "      <td>0.909412</td>\n",
       "      <td>-0.689281</td>\n",
       "      <td>-0.327642</td>\n",
       "      <td>-0.139097</td>\n",
       "      <td>-0.055353</td>\n",
       "      <td>-0.059752</td>\n",
       "      <td>378.66</td>\n",
       "      <td>0</td>\n",
       "    </tr>\n",
       "    <tr>\n",
       "      <th>3</th>\n",
       "      <td>1.0</td>\n",
       "      <td>-0.966272</td>\n",
       "      <td>-0.185226</td>\n",
       "      <td>1.792993</td>\n",
       "      <td>-0.863291</td>\n",
       "      <td>-0.010309</td>\n",
       "      <td>1.247203</td>\n",
       "      <td>0.237609</td>\n",
       "      <td>0.377436</td>\n",
       "      <td>-1.387024</td>\n",
       "      <td>...</td>\n",
       "      <td>-0.108300</td>\n",
       "      <td>0.005274</td>\n",
       "      <td>-0.190321</td>\n",
       "      <td>-1.175575</td>\n",
       "      <td>0.647376</td>\n",
       "      <td>-0.221929</td>\n",
       "      <td>0.062723</td>\n",
       "      <td>0.061458</td>\n",
       "      <td>123.50</td>\n",
       "      <td>0</td>\n",
       "    </tr>\n",
       "    <tr>\n",
       "      <th>4</th>\n",
       "      <td>2.0</td>\n",
       "      <td>-1.158233</td>\n",
       "      <td>0.877737</td>\n",
       "      <td>1.548718</td>\n",
       "      <td>0.403034</td>\n",
       "      <td>-0.407193</td>\n",
       "      <td>0.095921</td>\n",
       "      <td>0.592941</td>\n",
       "      <td>-0.270533</td>\n",
       "      <td>0.817739</td>\n",
       "      <td>...</td>\n",
       "      <td>-0.009431</td>\n",
       "      <td>0.798278</td>\n",
       "      <td>-0.137458</td>\n",
       "      <td>0.141267</td>\n",
       "      <td>-0.206010</td>\n",
       "      <td>0.502292</td>\n",
       "      <td>0.219422</td>\n",
       "      <td>0.215153</td>\n",
       "      <td>69.99</td>\n",
       "      <td>0</td>\n",
       "    </tr>\n",
       "  </tbody>\n",
       "</table>\n",
       "<p>5 rows × 31 columns</p>\n",
       "</div>"
      ],
      "text/plain": [
       "   Time        V1        V2        V3        V4        V5        V6        V7  \\\n",
       "0   0.0 -1.359807 -0.072781  2.536347  1.378155 -0.338321  0.462388  0.239599   \n",
       "1   0.0  1.191857  0.266151  0.166480  0.448154  0.060018 -0.082361 -0.078803   \n",
       "2   1.0 -1.358354 -1.340163  1.773209  0.379780 -0.503198  1.800499  0.791461   \n",
       "3   1.0 -0.966272 -0.185226  1.792993 -0.863291 -0.010309  1.247203  0.237609   \n",
       "4   2.0 -1.158233  0.877737  1.548718  0.403034 -0.407193  0.095921  0.592941   \n",
       "\n",
       "         V8        V9  ...       V21       V22       V23       V24       V25  \\\n",
       "0  0.098698  0.363787  ... -0.018307  0.277838 -0.110474  0.066928  0.128539   \n",
       "1  0.085102 -0.255425  ... -0.225775 -0.638672  0.101288 -0.339846  0.167170   \n",
       "2  0.247676 -1.514654  ...  0.247998  0.771679  0.909412 -0.689281 -0.327642   \n",
       "3  0.377436 -1.387024  ... -0.108300  0.005274 -0.190321 -1.175575  0.647376   \n",
       "4 -0.270533  0.817739  ... -0.009431  0.798278 -0.137458  0.141267 -0.206010   \n",
       "\n",
       "        V26       V27       V28  Amount  Class  \n",
       "0 -0.189115  0.133558 -0.021053  149.62      0  \n",
       "1  0.125895 -0.008983  0.014724    2.69      0  \n",
       "2 -0.139097 -0.055353 -0.059752  378.66      0  \n",
       "3 -0.221929  0.062723  0.061458  123.50      0  \n",
       "4  0.502292  0.219422  0.215153   69.99      0  \n",
       "\n",
       "[5 rows x 31 columns]"
      ]
     },
     "execution_count": 3,
     "metadata": {},
     "output_type": "execute_result"
    },
    {
     "data": {
      "text/plain": [
       "(284807, 31)"
      ]
     },
     "execution_count": 3,
     "metadata": {},
     "output_type": "execute_result"
    }
   ],
   "source": [
    "df = pd.read_csv(\"../data/creditcard.csv\")\n",
    "df.head()\n",
    "df.shape"
   ]
  },
  {
   "cell_type": "code",
   "execution_count": 4,
   "metadata": {},
   "outputs": [],
   "source": [
    "df = df.sample(frac=0.1)"
   ]
  },
  {
   "cell_type": "code",
   "execution_count": 5,
   "metadata": {},
   "outputs": [
    {
     "data": {
      "text/html": [
       "<div>\n",
       "<style scoped>\n",
       "    .dataframe tbody tr th:only-of-type {\n",
       "        vertical-align: middle;\n",
       "    }\n",
       "\n",
       "    .dataframe tbody tr th {\n",
       "        vertical-align: top;\n",
       "    }\n",
       "\n",
       "    .dataframe thead th {\n",
       "        text-align: right;\n",
       "    }\n",
       "</style>\n",
       "<table border=\"1\" class=\"dataframe\">\n",
       "  <thead>\n",
       "    <tr style=\"text-align: right;\">\n",
       "      <th></th>\n",
       "      <th>데이터형태(dtypes)</th>\n",
       "      <th>비 결측치 수(notnull</th>\n",
       "      <th>결측치 수(null)</th>\n",
       "      <th>고유값 수(nunique)</th>\n",
       "    </tr>\n",
       "  </thead>\n",
       "  <tbody>\n",
       "    <tr>\n",
       "      <th>Time</th>\n",
       "      <td>float64</td>\n",
       "      <td>28481</td>\n",
       "      <td>0</td>\n",
       "      <td>25715</td>\n",
       "    </tr>\n",
       "    <tr>\n",
       "      <th>V1</th>\n",
       "      <td>float64</td>\n",
       "      <td>28481</td>\n",
       "      <td>0</td>\n",
       "      <td>28237</td>\n",
       "    </tr>\n",
       "    <tr>\n",
       "      <th>V2</th>\n",
       "      <td>float64</td>\n",
       "      <td>28481</td>\n",
       "      <td>0</td>\n",
       "      <td>28237</td>\n",
       "    </tr>\n",
       "    <tr>\n",
       "      <th>V3</th>\n",
       "      <td>float64</td>\n",
       "      <td>28481</td>\n",
       "      <td>0</td>\n",
       "      <td>28237</td>\n",
       "    </tr>\n",
       "    <tr>\n",
       "      <th>V4</th>\n",
       "      <td>float64</td>\n",
       "      <td>28481</td>\n",
       "      <td>0</td>\n",
       "      <td>28237</td>\n",
       "    </tr>\n",
       "    <tr>\n",
       "      <th>V5</th>\n",
       "      <td>float64</td>\n",
       "      <td>28481</td>\n",
       "      <td>0</td>\n",
       "      <td>28237</td>\n",
       "    </tr>\n",
       "    <tr>\n",
       "      <th>V6</th>\n",
       "      <td>float64</td>\n",
       "      <td>28481</td>\n",
       "      <td>0</td>\n",
       "      <td>28237</td>\n",
       "    </tr>\n",
       "    <tr>\n",
       "      <th>V7</th>\n",
       "      <td>float64</td>\n",
       "      <td>28481</td>\n",
       "      <td>0</td>\n",
       "      <td>28237</td>\n",
       "    </tr>\n",
       "    <tr>\n",
       "      <th>V8</th>\n",
       "      <td>float64</td>\n",
       "      <td>28481</td>\n",
       "      <td>0</td>\n",
       "      <td>28237</td>\n",
       "    </tr>\n",
       "    <tr>\n",
       "      <th>V9</th>\n",
       "      <td>float64</td>\n",
       "      <td>28481</td>\n",
       "      <td>0</td>\n",
       "      <td>28237</td>\n",
       "    </tr>\n",
       "    <tr>\n",
       "      <th>V10</th>\n",
       "      <td>float64</td>\n",
       "      <td>28481</td>\n",
       "      <td>0</td>\n",
       "      <td>28237</td>\n",
       "    </tr>\n",
       "    <tr>\n",
       "      <th>V11</th>\n",
       "      <td>float64</td>\n",
       "      <td>28481</td>\n",
       "      <td>0</td>\n",
       "      <td>28237</td>\n",
       "    </tr>\n",
       "    <tr>\n",
       "      <th>V12</th>\n",
       "      <td>float64</td>\n",
       "      <td>28481</td>\n",
       "      <td>0</td>\n",
       "      <td>28237</td>\n",
       "    </tr>\n",
       "    <tr>\n",
       "      <th>V13</th>\n",
       "      <td>float64</td>\n",
       "      <td>28481</td>\n",
       "      <td>0</td>\n",
       "      <td>28237</td>\n",
       "    </tr>\n",
       "    <tr>\n",
       "      <th>V14</th>\n",
       "      <td>float64</td>\n",
       "      <td>28481</td>\n",
       "      <td>0</td>\n",
       "      <td>28237</td>\n",
       "    </tr>\n",
       "    <tr>\n",
       "      <th>V15</th>\n",
       "      <td>float64</td>\n",
       "      <td>28481</td>\n",
       "      <td>0</td>\n",
       "      <td>28237</td>\n",
       "    </tr>\n",
       "    <tr>\n",
       "      <th>V16</th>\n",
       "      <td>float64</td>\n",
       "      <td>28481</td>\n",
       "      <td>0</td>\n",
       "      <td>28237</td>\n",
       "    </tr>\n",
       "    <tr>\n",
       "      <th>V17</th>\n",
       "      <td>float64</td>\n",
       "      <td>28481</td>\n",
       "      <td>0</td>\n",
       "      <td>28237</td>\n",
       "    </tr>\n",
       "    <tr>\n",
       "      <th>V18</th>\n",
       "      <td>float64</td>\n",
       "      <td>28481</td>\n",
       "      <td>0</td>\n",
       "      <td>28237</td>\n",
       "    </tr>\n",
       "    <tr>\n",
       "      <th>V19</th>\n",
       "      <td>float64</td>\n",
       "      <td>28481</td>\n",
       "      <td>0</td>\n",
       "      <td>28237</td>\n",
       "    </tr>\n",
       "    <tr>\n",
       "      <th>V20</th>\n",
       "      <td>float64</td>\n",
       "      <td>28481</td>\n",
       "      <td>0</td>\n",
       "      <td>28237</td>\n",
       "    </tr>\n",
       "    <tr>\n",
       "      <th>V21</th>\n",
       "      <td>float64</td>\n",
       "      <td>28481</td>\n",
       "      <td>0</td>\n",
       "      <td>28237</td>\n",
       "    </tr>\n",
       "    <tr>\n",
       "      <th>V22</th>\n",
       "      <td>float64</td>\n",
       "      <td>28481</td>\n",
       "      <td>0</td>\n",
       "      <td>28237</td>\n",
       "    </tr>\n",
       "    <tr>\n",
       "      <th>V23</th>\n",
       "      <td>float64</td>\n",
       "      <td>28481</td>\n",
       "      <td>0</td>\n",
       "      <td>28237</td>\n",
       "    </tr>\n",
       "    <tr>\n",
       "      <th>V24</th>\n",
       "      <td>float64</td>\n",
       "      <td>28481</td>\n",
       "      <td>0</td>\n",
       "      <td>28237</td>\n",
       "    </tr>\n",
       "    <tr>\n",
       "      <th>V25</th>\n",
       "      <td>float64</td>\n",
       "      <td>28481</td>\n",
       "      <td>0</td>\n",
       "      <td>28237</td>\n",
       "    </tr>\n",
       "    <tr>\n",
       "      <th>V26</th>\n",
       "      <td>float64</td>\n",
       "      <td>28481</td>\n",
       "      <td>0</td>\n",
       "      <td>28237</td>\n",
       "    </tr>\n",
       "    <tr>\n",
       "      <th>V27</th>\n",
       "      <td>float64</td>\n",
       "      <td>28481</td>\n",
       "      <td>0</td>\n",
       "      <td>28237</td>\n",
       "    </tr>\n",
       "    <tr>\n",
       "      <th>V28</th>\n",
       "      <td>float64</td>\n",
       "      <td>28481</td>\n",
       "      <td>0</td>\n",
       "      <td>28237</td>\n",
       "    </tr>\n",
       "    <tr>\n",
       "      <th>Amount</th>\n",
       "      <td>float64</td>\n",
       "      <td>28481</td>\n",
       "      <td>0</td>\n",
       "      <td>8760</td>\n",
       "    </tr>\n",
       "    <tr>\n",
       "      <th>Class</th>\n",
       "      <td>int64</td>\n",
       "      <td>28481</td>\n",
       "      <td>0</td>\n",
       "      <td>2</td>\n",
       "    </tr>\n",
       "  </tbody>\n",
       "</table>\n",
       "</div>"
      ],
      "text/plain": [
       "       데이터형태(dtypes)  비 결측치 수(notnull  결측치 수(null)  고유값 수(nunique)\n",
       "Time         float64            28481            0           25715\n",
       "V1           float64            28481            0           28237\n",
       "V2           float64            28481            0           28237\n",
       "V3           float64            28481            0           28237\n",
       "V4           float64            28481            0           28237\n",
       "V5           float64            28481            0           28237\n",
       "V6           float64            28481            0           28237\n",
       "V7           float64            28481            0           28237\n",
       "V8           float64            28481            0           28237\n",
       "V9           float64            28481            0           28237\n",
       "V10          float64            28481            0           28237\n",
       "V11          float64            28481            0           28237\n",
       "V12          float64            28481            0           28237\n",
       "V13          float64            28481            0           28237\n",
       "V14          float64            28481            0           28237\n",
       "V15          float64            28481            0           28237\n",
       "V16          float64            28481            0           28237\n",
       "V17          float64            28481            0           28237\n",
       "V18          float64            28481            0           28237\n",
       "V19          float64            28481            0           28237\n",
       "V20          float64            28481            0           28237\n",
       "V21          float64            28481            0           28237\n",
       "V22          float64            28481            0           28237\n",
       "V23          float64            28481            0           28237\n",
       "V24          float64            28481            0           28237\n",
       "V25          float64            28481            0           28237\n",
       "V26          float64            28481            0           28237\n",
       "V27          float64            28481            0           28237\n",
       "V28          float64            28481            0           28237\n",
       "Amount       float64            28481            0            8760\n",
       "Class          int64            28481            0               2"
      ]
     },
     "execution_count": 5,
     "metadata": {},
     "output_type": "execute_result"
    }
   ],
   "source": [
    "summary(df)"
   ]
  },
  {
   "cell_type": "markdown",
   "metadata": {},
   "source": [
    "## 특성추출 및 선택"
   ]
  },
  {
   "cell_type": "markdown",
   "metadata": {},
   "source": [
    "## Feature selection\n",
    "### 가. Removing features with low variance"
   ]
  },
  {
   "cell_type": "code",
   "execution_count": 6,
   "metadata": {},
   "outputs": [
    {
     "data": {
      "text/html": [
       "<div>\n",
       "<style scoped>\n",
       "    .dataframe tbody tr th:only-of-type {\n",
       "        vertical-align: middle;\n",
       "    }\n",
       "\n",
       "    .dataframe tbody tr th {\n",
       "        vertical-align: top;\n",
       "    }\n",
       "\n",
       "    .dataframe thead th {\n",
       "        text-align: right;\n",
       "    }\n",
       "</style>\n",
       "<table border=\"1\" class=\"dataframe\">\n",
       "  <thead>\n",
       "    <tr style=\"text-align: right;\">\n",
       "      <th></th>\n",
       "      <th>0</th>\n",
       "      <th>1</th>\n",
       "      <th>2</th>\n",
       "      <th>3</th>\n",
       "    </tr>\n",
       "  </thead>\n",
       "  <tbody>\n",
       "    <tr>\n",
       "      <th>0</th>\n",
       "      <td>0</td>\n",
       "      <td>2</td>\n",
       "      <td>0</td>\n",
       "      <td>3</td>\n",
       "    </tr>\n",
       "    <tr>\n",
       "      <th>1</th>\n",
       "      <td>0</td>\n",
       "      <td>1</td>\n",
       "      <td>4</td>\n",
       "      <td>3</td>\n",
       "    </tr>\n",
       "    <tr>\n",
       "      <th>2</th>\n",
       "      <td>0</td>\n",
       "      <td>1</td>\n",
       "      <td>1</td>\n",
       "      <td>3</td>\n",
       "    </tr>\n",
       "  </tbody>\n",
       "</table>\n",
       "</div>"
      ],
      "text/plain": [
       "   0  1  2  3\n",
       "0  0  2  0  3\n",
       "1  0  1  4  3\n",
       "2  0  1  1  3"
      ]
     },
     "execution_count": 6,
     "metadata": {},
     "output_type": "execute_result"
    },
    {
     "data": {
      "text/plain": [
       "array([[2, 0],\n",
       "       [1, 4],\n",
       "       [1, 1]])"
      ]
     },
     "execution_count": 6,
     "metadata": {},
     "output_type": "execute_result"
    }
   ],
   "source": [
    "from sklearn.feature_selection import VarianceThreshold\n",
    "X = [[0, 2, 0, 3], [0, 1, 4, 3], [0, 1, 1, 3]]\n",
    "pd.DataFrame(X)\n",
    "selector = VarianceThreshold()\n",
    "selector.fit_transform(X)"
   ]
  },
  {
   "cell_type": "markdown",
   "metadata": {},
   "source": [
    "이항분포(베르누이)를 갖는 변수에서 '1', '0'이 전체의 80% 이상인 변수를 제거할 때, 이항분포의분산은 p*(1-p)\n",
    "첫번쨰와 마지막 컬럼은 p = 5/6 > 0.8 만큼 '1' 혹은 '0'을 포함하고 있어 제거함 "
   ]
  },
  {
   "cell_type": "code",
   "execution_count": 7,
   "metadata": {},
   "outputs": [
    {
     "data": {
      "text/plain": [
       "[[0, 0, 1, 1, 0],\n",
       " [0, 1, 0, 1, 0],\n",
       " [1, 0, 0, 0, 0],\n",
       " [0, 1, 1, 1, 0],\n",
       " [0, 1, 0, 1, 0],\n",
       " [0, 1, 1, 1, 0]]"
      ]
     },
     "execution_count": 7,
     "metadata": {},
     "output_type": "execute_result"
    },
    {
     "data": {
      "text/plain": [
       "array([[0, 1],\n",
       "       [1, 0],\n",
       "       [0, 0],\n",
       "       [1, 1],\n",
       "       [1, 0],\n",
       "       [1, 1]])"
      ]
     },
     "execution_count": 7,
     "metadata": {},
     "output_type": "execute_result"
    }
   ],
   "source": [
    "X = [[0, 0, 1, 1, 0], [0, 1, 0, 1, 0], [1, 0, 0, 0, 0], [0, 1, 1, 1, 0], [0, 1, 0, 1, 0], [0, 1, 1, 1, 0]]\n",
    "X\n",
    "sel = VarianceThreshold(threshold=(.8 * (1 - .8))) # \n",
    "sel.fit_transform(X)"
   ]
  },
  {
   "cell_type": "markdown",
   "metadata": {},
   "source": [
    "## 자료"
   ]
  },
  {
   "cell_type": "code",
   "execution_count": 8,
   "metadata": {},
   "outputs": [
    {
     "data": {
      "text/html": [
       "<div>\n",
       "<style scoped>\n",
       "    .dataframe tbody tr th:only-of-type {\n",
       "        vertical-align: middle;\n",
       "    }\n",
       "\n",
       "    .dataframe tbody tr th {\n",
       "        vertical-align: top;\n",
       "    }\n",
       "\n",
       "    .dataframe thead th {\n",
       "        text-align: right;\n",
       "    }\n",
       "</style>\n",
       "<table border=\"1\" class=\"dataframe\">\n",
       "  <thead>\n",
       "    <tr style=\"text-align: right;\">\n",
       "      <th></th>\n",
       "      <th>Time</th>\n",
       "      <th>V1</th>\n",
       "      <th>V2</th>\n",
       "      <th>V3</th>\n",
       "      <th>V4</th>\n",
       "      <th>V5</th>\n",
       "      <th>V6</th>\n",
       "      <th>V7</th>\n",
       "      <th>V8</th>\n",
       "      <th>V9</th>\n",
       "      <th>...</th>\n",
       "      <th>V20</th>\n",
       "      <th>V21</th>\n",
       "      <th>V22</th>\n",
       "      <th>V23</th>\n",
       "      <th>V24</th>\n",
       "      <th>V25</th>\n",
       "      <th>V26</th>\n",
       "      <th>V27</th>\n",
       "      <th>V28</th>\n",
       "      <th>Amount</th>\n",
       "    </tr>\n",
       "  </thead>\n",
       "  <tbody>\n",
       "    <tr>\n",
       "      <th>11925</th>\n",
       "      <td>20558.0</td>\n",
       "      <td>1.151331</td>\n",
       "      <td>0.085321</td>\n",
       "      <td>0.930061</td>\n",
       "      <td>1.432405</td>\n",
       "      <td>-0.625299</td>\n",
       "      <td>-0.162422</td>\n",
       "      <td>-0.571394</td>\n",
       "      <td>0.126638</td>\n",
       "      <td>1.914226</td>\n",
       "      <td>...</td>\n",
       "      <td>-0.348752</td>\n",
       "      <td>-0.024427</td>\n",
       "      <td>0.132488</td>\n",
       "      <td>-0.006082</td>\n",
       "      <td>-0.040151</td>\n",
       "      <td>0.333934</td>\n",
       "      <td>-0.292094</td>\n",
       "      <td>0.016171</td>\n",
       "      <td>0.017773</td>\n",
       "      <td>10.00</td>\n",
       "    </tr>\n",
       "    <tr>\n",
       "      <th>221229</th>\n",
       "      <td>142483.0</td>\n",
       "      <td>1.485571</td>\n",
       "      <td>-0.664483</td>\n",
       "      <td>-2.120412</td>\n",
       "      <td>1.478630</td>\n",
       "      <td>0.520758</td>\n",
       "      <td>-0.535023</td>\n",
       "      <td>1.014361</td>\n",
       "      <td>-0.427269</td>\n",
       "      <td>0.066394</td>\n",
       "      <td>...</td>\n",
       "      <td>0.367623</td>\n",
       "      <td>0.219599</td>\n",
       "      <td>0.192350</td>\n",
       "      <td>-0.246439</td>\n",
       "      <td>0.639693</td>\n",
       "      <td>0.408821</td>\n",
       "      <td>-0.548922</td>\n",
       "      <td>-0.070670</td>\n",
       "      <td>-0.004165</td>\n",
       "      <td>300.00</td>\n",
       "    </tr>\n",
       "    <tr>\n",
       "      <th>172385</th>\n",
       "      <td>121078.0</td>\n",
       "      <td>1.807695</td>\n",
       "      <td>0.267726</td>\n",
       "      <td>-1.156979</td>\n",
       "      <td>3.298488</td>\n",
       "      <td>1.486452</td>\n",
       "      <td>2.284616</td>\n",
       "      <td>-0.252136</td>\n",
       "      <td>0.562261</td>\n",
       "      <td>-1.024976</td>\n",
       "      <td>...</td>\n",
       "      <td>-0.339183</td>\n",
       "      <td>0.366763</td>\n",
       "      <td>1.180624</td>\n",
       "      <td>0.017288</td>\n",
       "      <td>-0.941325</td>\n",
       "      <td>0.070205</td>\n",
       "      <td>0.326118</td>\n",
       "      <td>0.003542</td>\n",
       "      <td>-0.073047</td>\n",
       "      <td>10.59</td>\n",
       "    </tr>\n",
       "    <tr>\n",
       "      <th>172516</th>\n",
       "      <td>121127.0</td>\n",
       "      <td>-0.601816</td>\n",
       "      <td>0.549951</td>\n",
       "      <td>-0.030954</td>\n",
       "      <td>0.891547</td>\n",
       "      <td>1.536557</td>\n",
       "      <td>-0.554017</td>\n",
       "      <td>1.250124</td>\n",
       "      <td>-0.338585</td>\n",
       "      <td>-0.518762</td>\n",
       "      <td>...</td>\n",
       "      <td>0.095783</td>\n",
       "      <td>0.097125</td>\n",
       "      <td>0.654195</td>\n",
       "      <td>-0.334835</td>\n",
       "      <td>-0.389867</td>\n",
       "      <td>-0.008793</td>\n",
       "      <td>-0.407772</td>\n",
       "      <td>0.151242</td>\n",
       "      <td>0.048397</td>\n",
       "      <td>45.00</td>\n",
       "    </tr>\n",
       "    <tr>\n",
       "      <th>408</th>\n",
       "      <td>294.0</td>\n",
       "      <td>-0.745116</td>\n",
       "      <td>0.446440</td>\n",
       "      <td>1.714154</td>\n",
       "      <td>-0.146626</td>\n",
       "      <td>-0.244287</td>\n",
       "      <td>-0.963058</td>\n",
       "      <td>0.566537</td>\n",
       "      <td>-0.044998</td>\n",
       "      <td>0.274475</td>\n",
       "      <td>...</td>\n",
       "      <td>-0.220636</td>\n",
       "      <td>-0.149227</td>\n",
       "      <td>-0.440704</td>\n",
       "      <td>0.088860</td>\n",
       "      <td>0.708177</td>\n",
       "      <td>-0.570540</td>\n",
       "      <td>0.036992</td>\n",
       "      <td>-0.041732</td>\n",
       "      <td>0.182178</td>\n",
       "      <td>33.33</td>\n",
       "    </tr>\n",
       "  </tbody>\n",
       "</table>\n",
       "<p>5 rows × 30 columns</p>\n",
       "</div>"
      ],
      "text/plain": [
       "            Time        V1        V2        V3        V4        V5        V6  \\\n",
       "11925    20558.0  1.151331  0.085321  0.930061  1.432405 -0.625299 -0.162422   \n",
       "221229  142483.0  1.485571 -0.664483 -2.120412  1.478630  0.520758 -0.535023   \n",
       "172385  121078.0  1.807695  0.267726 -1.156979  3.298488  1.486452  2.284616   \n",
       "172516  121127.0 -0.601816  0.549951 -0.030954  0.891547  1.536557 -0.554017   \n",
       "408        294.0 -0.745116  0.446440  1.714154 -0.146626 -0.244287 -0.963058   \n",
       "\n",
       "              V7        V8        V9  ...       V20       V21       V22  \\\n",
       "11925  -0.571394  0.126638  1.914226  ... -0.348752 -0.024427  0.132488   \n",
       "221229  1.014361 -0.427269  0.066394  ...  0.367623  0.219599  0.192350   \n",
       "172385 -0.252136  0.562261 -1.024976  ... -0.339183  0.366763  1.180624   \n",
       "172516  1.250124 -0.338585 -0.518762  ...  0.095783  0.097125  0.654195   \n",
       "408     0.566537 -0.044998  0.274475  ... -0.220636 -0.149227 -0.440704   \n",
       "\n",
       "             V23       V24       V25       V26       V27       V28  Amount  \n",
       "11925  -0.006082 -0.040151  0.333934 -0.292094  0.016171  0.017773   10.00  \n",
       "221229 -0.246439  0.639693  0.408821 -0.548922 -0.070670 -0.004165  300.00  \n",
       "172385  0.017288 -0.941325  0.070205  0.326118  0.003542 -0.073047   10.59  \n",
       "172516 -0.334835 -0.389867 -0.008793 -0.407772  0.151242  0.048397   45.00  \n",
       "408     0.088860  0.708177 -0.570540  0.036992 -0.041732  0.182178   33.33  \n",
       "\n",
       "[5 rows x 30 columns]"
      ]
     },
     "execution_count": 8,
     "metadata": {},
     "output_type": "execute_result"
    }
   ],
   "source": [
    "X = df.drop(['Class'], axis=1)\n",
    "y = df['Class']\n",
    "feature_name = X.columns\n",
    "best_features = 15\n",
    "X.head()"
   ]
  },
  {
   "cell_type": "code",
   "execution_count": 9,
   "metadata": {},
   "outputs": [
    {
     "data": {
      "text/plain": [
       "VarianceThreshold(threshold=0.7)"
      ]
     },
     "execution_count": 9,
     "metadata": {},
     "output_type": "execute_result"
    },
    {
     "data": {
      "text/plain": [
       "array([ True,  True,  True,  True,  True,  True,  True,  True,  True,\n",
       "        True,  True,  True,  True,  True,  True,  True,  True,  True,\n",
       "        True, False, False, False, False, False, False, False, False,\n",
       "       False, False,  True])"
      ]
     },
     "execution_count": 9,
     "metadata": {},
     "output_type": "execute_result"
    },
    {
     "data": {
      "text/plain": [
       "20"
      ]
     },
     "execution_count": 9,
     "metadata": {},
     "output_type": "execute_result"
    }
   ],
   "source": [
    "sel = VarianceThreshold(threshold = 0.7)\n",
    "sel.fit(X)\n",
    "var_support = sel.get_support()\n",
    "var_support\n",
    "np.sum(var_support*1)"
   ]
  },
  {
   "cell_type": "code",
   "execution_count": 10,
   "metadata": {},
   "outputs": [
    {
     "data": {
      "text/plain": [
       "Index(['Time', 'V1', 'V2', 'V3', 'V4', 'V5', 'V6', 'V7', 'V8', 'V9', 'V10',\n",
       "       'V11', 'V12', 'V13', 'V14', 'V15', 'V16', 'V17', 'V18', 'Amount'],\n",
       "      dtype='object')"
      ]
     },
     "execution_count": 10,
     "metadata": {},
     "output_type": "execute_result"
    }
   ],
   "source": [
    "var_features = X.loc[:, var_support].columns\n",
    "var_features"
   ]
  },
  {
   "cell_type": "code",
   "execution_count": 11,
   "metadata": {
    "scrolled": false
   },
   "outputs": [
    {
     "data": {
      "text/html": [
       "<div>\n",
       "<style scoped>\n",
       "    .dataframe tbody tr th:only-of-type {\n",
       "        vertical-align: middle;\n",
       "    }\n",
       "\n",
       "    .dataframe tbody tr th {\n",
       "        vertical-align: top;\n",
       "    }\n",
       "\n",
       "    .dataframe thead th {\n",
       "        text-align: right;\n",
       "    }\n",
       "</style>\n",
       "<table border=\"1\" class=\"dataframe\">\n",
       "  <thead>\n",
       "    <tr style=\"text-align: right;\">\n",
       "      <th></th>\n",
       "      <th>Time</th>\n",
       "      <th>V1</th>\n",
       "      <th>V2</th>\n",
       "      <th>V3</th>\n",
       "      <th>V4</th>\n",
       "      <th>V5</th>\n",
       "      <th>V6</th>\n",
       "      <th>V7</th>\n",
       "      <th>V8</th>\n",
       "      <th>V9</th>\n",
       "      <th>V10</th>\n",
       "      <th>V11</th>\n",
       "      <th>V12</th>\n",
       "      <th>V13</th>\n",
       "      <th>V14</th>\n",
       "      <th>V15</th>\n",
       "      <th>V16</th>\n",
       "      <th>V17</th>\n",
       "      <th>V18</th>\n",
       "      <th>Amount</th>\n",
       "    </tr>\n",
       "  </thead>\n",
       "  <tbody>\n",
       "    <tr>\n",
       "      <th>0</th>\n",
       "      <td>20558.0</td>\n",
       "      <td>1.151331</td>\n",
       "      <td>0.085321</td>\n",
       "      <td>0.930061</td>\n",
       "      <td>1.432405</td>\n",
       "      <td>-0.625299</td>\n",
       "      <td>-0.162422</td>\n",
       "      <td>-0.571394</td>\n",
       "      <td>0.126638</td>\n",
       "      <td>1.914226</td>\n",
       "      <td>-0.311280</td>\n",
       "      <td>0.312256</td>\n",
       "      <td>-3.543241</td>\n",
       "      <td>-0.684957</td>\n",
       "      <td>2.064848</td>\n",
       "      <td>0.991480</td>\n",
       "      <td>0.237557</td>\n",
       "      <td>0.539302</td>\n",
       "      <td>0.317868</td>\n",
       "      <td>10.00</td>\n",
       "    </tr>\n",
       "    <tr>\n",
       "      <th>1</th>\n",
       "      <td>142483.0</td>\n",
       "      <td>1.485571</td>\n",
       "      <td>-0.664483</td>\n",
       "      <td>-2.120412</td>\n",
       "      <td>1.478630</td>\n",
       "      <td>0.520758</td>\n",
       "      <td>-0.535023</td>\n",
       "      <td>1.014361</td>\n",
       "      <td>-0.427269</td>\n",
       "      <td>0.066394</td>\n",
       "      <td>0.096184</td>\n",
       "      <td>-0.991595</td>\n",
       "      <td>0.593405</td>\n",
       "      <td>0.474567</td>\n",
       "      <td>0.449422</td>\n",
       "      <td>-0.498694</td>\n",
       "      <td>-0.665920</td>\n",
       "      <td>-0.225906</td>\n",
       "      <td>-0.601354</td>\n",
       "      <td>300.00</td>\n",
       "    </tr>\n",
       "    <tr>\n",
       "      <th>2</th>\n",
       "      <td>121078.0</td>\n",
       "      <td>1.807695</td>\n",
       "      <td>0.267726</td>\n",
       "      <td>-1.156979</td>\n",
       "      <td>3.298488</td>\n",
       "      <td>1.486452</td>\n",
       "      <td>2.284616</td>\n",
       "      <td>-0.252136</td>\n",
       "      <td>0.562261</td>\n",
       "      <td>-1.024976</td>\n",
       "      <td>1.512705</td>\n",
       "      <td>0.316526</td>\n",
       "      <td>0.207568</td>\n",
       "      <td>-0.334152</td>\n",
       "      <td>0.460596</td>\n",
       "      <td>-0.652201</td>\n",
       "      <td>0.276486</td>\n",
       "      <td>-0.429932</td>\n",
       "      <td>-0.748095</td>\n",
       "      <td>10.59</td>\n",
       "    </tr>\n",
       "    <tr>\n",
       "      <th>3</th>\n",
       "      <td>121127.0</td>\n",
       "      <td>-0.601816</td>\n",
       "      <td>0.549951</td>\n",
       "      <td>-0.030954</td>\n",
       "      <td>0.891547</td>\n",
       "      <td>1.536557</td>\n",
       "      <td>-0.554017</td>\n",
       "      <td>1.250124</td>\n",
       "      <td>-0.338585</td>\n",
       "      <td>-0.518762</td>\n",
       "      <td>0.554469</td>\n",
       "      <td>0.300026</td>\n",
       "      <td>0.024801</td>\n",
       "      <td>-1.032237</td>\n",
       "      <td>0.579792</td>\n",
       "      <td>-0.837665</td>\n",
       "      <td>-0.967359</td>\n",
       "      <td>-0.244931</td>\n",
       "      <td>0.295369</td>\n",
       "      <td>45.00</td>\n",
       "    </tr>\n",
       "    <tr>\n",
       "      <th>4</th>\n",
       "      <td>294.0</td>\n",
       "      <td>-0.745116</td>\n",
       "      <td>0.446440</td>\n",
       "      <td>1.714154</td>\n",
       "      <td>-0.146626</td>\n",
       "      <td>-0.244287</td>\n",
       "      <td>-0.963058</td>\n",
       "      <td>0.566537</td>\n",
       "      <td>-0.044998</td>\n",
       "      <td>0.274475</td>\n",
       "      <td>-0.686536</td>\n",
       "      <td>-0.788683</td>\n",
       "      <td>-0.213757</td>\n",
       "      <td>-1.215176</td>\n",
       "      <td>-0.056879</td>\n",
       "      <td>-0.700208</td>\n",
       "      <td>-0.096157</td>\n",
       "      <td>-0.079910</td>\n",
       "      <td>-0.625466</td>\n",
       "      <td>33.33</td>\n",
       "    </tr>\n",
       "  </tbody>\n",
       "</table>\n",
       "</div>"
      ],
      "text/plain": [
       "       Time        V1        V2        V3        V4        V5        V6  \\\n",
       "0   20558.0  1.151331  0.085321  0.930061  1.432405 -0.625299 -0.162422   \n",
       "1  142483.0  1.485571 -0.664483 -2.120412  1.478630  0.520758 -0.535023   \n",
       "2  121078.0  1.807695  0.267726 -1.156979  3.298488  1.486452  2.284616   \n",
       "3  121127.0 -0.601816  0.549951 -0.030954  0.891547  1.536557 -0.554017   \n",
       "4     294.0 -0.745116  0.446440  1.714154 -0.146626 -0.244287 -0.963058   \n",
       "\n",
       "         V7        V8        V9       V10       V11       V12       V13  \\\n",
       "0 -0.571394  0.126638  1.914226 -0.311280  0.312256 -3.543241 -0.684957   \n",
       "1  1.014361 -0.427269  0.066394  0.096184 -0.991595  0.593405  0.474567   \n",
       "2 -0.252136  0.562261 -1.024976  1.512705  0.316526  0.207568 -0.334152   \n",
       "3  1.250124 -0.338585 -0.518762  0.554469  0.300026  0.024801 -1.032237   \n",
       "4  0.566537 -0.044998  0.274475 -0.686536 -0.788683 -0.213757 -1.215176   \n",
       "\n",
       "        V14       V15       V16       V17       V18  Amount  \n",
       "0  2.064848  0.991480  0.237557  0.539302  0.317868   10.00  \n",
       "1  0.449422 -0.498694 -0.665920 -0.225906 -0.601354  300.00  \n",
       "2  0.460596 -0.652201  0.276486 -0.429932 -0.748095   10.59  \n",
       "3  0.579792 -0.837665 -0.967359 -0.244931  0.295369   45.00  \n",
       "4 -0.056879 -0.700208 -0.096157 -0.079910 -0.625466   33.33  "
      ]
     },
     "execution_count": 11,
     "metadata": {},
     "output_type": "execute_result"
    }
   ],
   "source": [
    "pd.DataFrame(sel.fit_transform(X), columns = var_features).head()"
   ]
  },
  {
   "cell_type": "markdown",
   "metadata": {},
   "source": [
    "### 독립변수(연속형) : 입력변수(연속형) ---> 상관관계\n",
    "### 독립변수(연속형) : 입력변수(범주형) ---> LDA, Logistic\n",
    "### 독립변수(범주형) : 입력변수(연속형) ---> ANOVA\n",
    "### 독립변수(범주형) : 입력변수(범주형) ---> Chi-Squared"
   ]
  },
  {
   "cell_type": "markdown",
   "metadata": {},
   "source": [
    "- https://scikit-learn.org/stable/modules/feature_selection.html\n",
    "\n",
    "- ANOVA https://scikit-learn.org/stable/modules/generated/sklearn.feature_selection.f_classif.html"
   ]
  },
  {
   "cell_type": "markdown",
   "metadata": {},
   "source": [
    "### 나. 상관계수 (Pearson correlation)"
   ]
  },
  {
   "cell_type": "code",
   "execution_count": 12,
   "metadata": {},
   "outputs": [],
   "source": [
    "def corr_selector(X, y):\n",
    "\n",
    "    cor_list = []\n",
    "    for i in X.columns:\n",
    "        cor = np.corrcoef(X[i], y)[0, 1]\n",
    "        cor_list.append(cor)\n",
    "    cor_feat = X.iloc[:, np.argsort(np.abs(cor_list))[best_features*-1:]].columns.tolist()\n",
    "    cor_support = [True if i in cor_feat else False for i in feature_name]\n",
    "\n",
    "    return cor_feat, cor_support"
   ]
  },
  {
   "cell_type": "code",
   "execution_count": 13,
   "metadata": {
    "scrolled": true
   },
   "outputs": [
    {
     "data": {
      "text/plain": [
       "'V6/V2/V5/V9/V18/V1/V4/V11/V16/V7/V3/V10/V12/V14/V17'"
      ]
     },
     "execution_count": 13,
     "metadata": {},
     "output_type": "execute_result"
    },
    {
     "data": {
      "text/plain": [
       "'[False, True, True, True, True, True, True, True, False, True, True, True, True, False, True, False, True, True, True, False, False, False, False, False, False, False, False, False, False, False]'"
      ]
     },
     "execution_count": 13,
     "metadata": {},
     "output_type": "execute_result"
    }
   ],
   "source": [
    "corr_feature, corr_support = corr_selector(X, y)\n",
    "'/'.join(corr_feature)\n",
    "''.join(str(corr_support))"
   ]
  },
  {
   "cell_type": "markdown",
   "metadata": {},
   "source": [
    "### 다. 카이제곱"
   ]
  },
  {
   "cell_type": "code",
   "execution_count": 14,
   "metadata": {},
   "outputs": [],
   "source": [
    "from sklearn.feature_selection import SelectKBest\n",
    "from sklearn.feature_selection import chi2\n",
    "from sklearn.preprocessing import MinMaxScaler"
   ]
  },
  {
   "cell_type": "code",
   "execution_count": 15,
   "metadata": {},
   "outputs": [
    {
     "data": {
      "text/plain": [
       "15"
      ]
     },
     "execution_count": 15,
     "metadata": {},
     "output_type": "execute_result"
    }
   ],
   "source": [
    "best_features"
   ]
  },
  {
   "cell_type": "code",
   "execution_count": 16,
   "metadata": {
    "scrolled": true
   },
   "outputs": [
    {
     "data": {
      "text/plain": [
       "'V1,V3,V4,V5,V6,V7,V9,V10,V11,V12,V14,V16,V17,V18,V19'"
      ]
     },
     "execution_count": 16,
     "metadata": {},
     "output_type": "execute_result"
    },
    {
     "data": {
      "text/plain": [
       "'[False  True False  True  True  True  True  True False  True  True  True\\n  True False  True False  True  True  True  True False False False False\\n False False False False False False]'"
      ]
     },
     "execution_count": 16,
     "metadata": {},
     "output_type": "execute_result"
    }
   ],
   "source": [
    "def Chi_selector(X, y):\n",
    "    chi_selector = SelectKBest(chi2, k=best_features)\n",
    "    X_norm = MinMaxScaler().fit_transform(X)\n",
    "    chi_selector.fit(X_norm, y)\n",
    "    chi_support = chi_selector.get_support()\n",
    "    chi_feature = X.loc[:, chi_support].columns.tolist()\n",
    "    \n",
    "    return chi_feature, chi_support\n",
    "\n",
    "chi_feature, chi_support = Chi_selector(X, y)\n",
    "','.join(chi_feature)\n",
    "''.join(str(chi_support))"
   ]
  },
  {
   "cell_type": "markdown",
   "metadata": {},
   "source": [
    "### 라. RFE(recursive feature elimination)"
   ]
  },
  {
   "cell_type": "code",
   "execution_count": 17,
   "metadata": {},
   "outputs": [],
   "source": [
    "from sklearn.feature_selection import RFE\n",
    "from sklearn.linear_model import LogisticRegression"
   ]
  },
  {
   "cell_type": "code",
   "execution_count": 18,
   "metadata": {
    "scrolled": true
   },
   "outputs": [
    {
     "data": {
      "text/plain": [
       "'Time,V1,V3,V4,V6,V9,V10,V11,V12,V13,V14,V16,V17,V21,V25'"
      ]
     },
     "execution_count": 18,
     "metadata": {},
     "output_type": "execute_result"
    },
    {
     "data": {
      "text/plain": [
       "'[ True  True False  True  True False  True False False  True  True  True\\n  True  True  True False  True  True False False False  True False False\\n False  True False False False False]'"
      ]
     },
     "execution_count": 18,
     "metadata": {},
     "output_type": "execute_result"
    }
   ],
   "source": [
    "def Wrapper_RFE(X, y):\n",
    "    rfe_selector = RFE(estimator=LogisticRegression(),\n",
    "                        n_features_to_select=best_features, step=20)\n",
    "    X_norm = MinMaxScaler().fit_transform(X)\n",
    "    rfe_selector.fit(X_norm, y)\n",
    "    rfe_support = rfe_selector.get_support()\n",
    "    rfe_feature = X.loc[:,rfe_support].columns.tolist()\n",
    "    \n",
    "    return rfe_support, rfe_feature\n",
    "\n",
    "rfe_support, rfe_feature = Wrapper_RFE(X, y)\n",
    "','.join(rfe_feature)\n",
    "''.join(str(rfe_support))"
   ]
  },
  {
   "cell_type": "markdown",
   "metadata": {},
   "source": [
    "### 마. SelectFromModel"
   ]
  },
  {
   "cell_type": "code",
   "execution_count": 19,
   "metadata": {},
   "outputs": [],
   "source": [
    "from sklearn.feature_selection import SelectFromModel"
   ]
  },
  {
   "cell_type": "code",
   "execution_count": 20,
   "metadata": {},
   "outputs": [
    {
     "data": {
      "text/plain": [
       "'Time,V1,V3,V4,V6,V9,V10,V11,V12,V13,V14,V16,V17,V21,V25'"
      ]
     },
     "execution_count": 20,
     "metadata": {},
     "output_type": "execute_result"
    },
    {
     "data": {
      "text/plain": [
       "15"
      ]
     },
     "execution_count": 20,
     "metadata": {},
     "output_type": "execute_result"
    }
   ],
   "source": [
    "def logistic_regression(X, y):\n",
    "    embeded_lr2_selector = SelectFromModel(LogisticRegression(), # default l2\n",
    "                                           threshold='median') \n",
    "    X_norm = MinMaxScaler().fit_transform(X)\n",
    "    embeded_lr2_selector.fit(X_norm, y)\n",
    "    embeded_lr2_support = embeded_lr2_selector.get_support()\n",
    "    embeded_lr2_feature = X.loc[:,embeded_lr2_support].columns.tolist()\n",
    "    \n",
    "    return embeded_lr2_support, embeded_lr2_feature\n",
    "\n",
    "embeded_lr2_support, embeded_lr2_feature = logistic_regression(X, y)\n",
    "','.join(embeded_lr2_feature)\n",
    "len(embeded_lr2_feature)"
   ]
  },
  {
   "cell_type": "code",
   "execution_count": 21,
   "metadata": {},
   "outputs": [
    {
     "data": {
      "text/plain": [
       "'Time/V4/V6/V7/V9/V10/V11/V12/V14/V16/V17/V18/V19/V26/V27'"
      ]
     },
     "execution_count": 21,
     "metadata": {},
     "output_type": "execute_result"
    }
   ],
   "source": [
    "from sklearn.ensemble import RandomForestClassifier\n",
    "def random_forest(X, y):\n",
    "    embeded_rf_selector = SelectFromModel(RandomForestClassifier(), \n",
    "                                          threshold='median')\n",
    "    embeded_rf_selector.fit(X, y)    \n",
    "    embeded_rf_support = embeded_rf_selector.get_support()\n",
    "    embeded_rf_feature = X.loc[:,embeded_rf_support].columns.tolist()\n",
    "    return embeded_rf_support, embeded_rf_feature\n",
    "\n",
    "embeded_rf_support, embeded_rf_feature = random_forest(X, y)\n",
    "'/'.join(embeded_rf_feature)"
   ]
  },
  {
   "cell_type": "code",
   "execution_count": 22,
   "metadata": {
    "scrolled": false
   },
   "outputs": [
    {
     "data": {
      "text/plain": [
       "RandomForestClassifier()"
      ]
     },
     "execution_count": 22,
     "metadata": {},
     "output_type": "execute_result"
    },
    {
     "data": {
      "text/plain": [
       "<Figure size 1800x432 with 0 Axes>"
      ]
     },
     "execution_count": 22,
     "metadata": {},
     "output_type": "execute_result"
    },
    {
     "data": {
      "text/plain": [
       "Text(0, 0.5, 'Features Importance')"
      ]
     },
     "execution_count": 22,
     "metadata": {},
     "output_type": "execute_result"
    },
    {
     "data": {
      "text/plain": [
       "([<matplotlib.axis.XTick at 0x17e01273c70>,\n",
       "  <matplotlib.axis.XTick at 0x17e01273c40>,\n",
       "  <matplotlib.axis.XTick at 0x17e012677c0>,\n",
       "  <matplotlib.axis.XTick at 0x17e012a85e0>,\n",
       "  <matplotlib.axis.XTick at 0x17e012a8af0>,\n",
       "  <matplotlib.axis.XTick at 0x17e012b1040>,\n",
       "  <matplotlib.axis.XTick at 0x17e012b1550>,\n",
       "  <matplotlib.axis.XTick at 0x17e012b1a60>,\n",
       "  <matplotlib.axis.XTick at 0x17e012a8820>,\n",
       "  <matplotlib.axis.XTick at 0x17e012b15e0>,\n",
       "  <matplotlib.axis.XTick at 0x17e012b8160>,\n",
       "  <matplotlib.axis.XTick at 0x17e012b8670>,\n",
       "  <matplotlib.axis.XTick at 0x17e012b8b80>,\n",
       "  <matplotlib.axis.XTick at 0x17e012bd0d0>,\n",
       "  <matplotlib.axis.XTick at 0x17e012bd5e0>,\n",
       "  <matplotlib.axis.XTick at 0x17e012bdaf0>,\n",
       "  <matplotlib.axis.XTick at 0x17e012c4040>,\n",
       "  <matplotlib.axis.XTick at 0x17e012bd670>,\n",
       "  <matplotlib.axis.XTick at 0x17e012b8700>,\n",
       "  <matplotlib.axis.XTick at 0x17e012a8760>,\n",
       "  <matplotlib.axis.XTick at 0x17e012c4700>,\n",
       "  <matplotlib.axis.XTick at 0x17e012c4c10>,\n",
       "  <matplotlib.axis.XTick at 0x17e012cc160>,\n",
       "  <matplotlib.axis.XTick at 0x17e012cc670>,\n",
       "  <matplotlib.axis.XTick at 0x17e012ccb80>,\n",
       "  <matplotlib.axis.XTick at 0x17e012d10d0>,\n",
       "  <matplotlib.axis.XTick at 0x17e012d15e0>,\n",
       "  <matplotlib.axis.XTick at 0x17e012cc1f0>,\n",
       "  <matplotlib.axis.XTick at 0x17e012c4100>,\n",
       "  <matplotlib.axis.XTick at 0x17e012d1310>],\n",
       " [Text(0, 0, 'Time'),\n",
       "  Text(1, 0, 'V1'),\n",
       "  Text(2, 0, 'V2'),\n",
       "  Text(3, 0, 'V3'),\n",
       "  Text(4, 0, 'V4'),\n",
       "  Text(5, 0, 'V5'),\n",
       "  Text(6, 0, 'V6'),\n",
       "  Text(7, 0, 'V7'),\n",
       "  Text(8, 0, 'V8'),\n",
       "  Text(9, 0, 'V9'),\n",
       "  Text(10, 0, 'V10'),\n",
       "  Text(11, 0, 'V11'),\n",
       "  Text(12, 0, 'V12'),\n",
       "  Text(13, 0, 'V13'),\n",
       "  Text(14, 0, 'V14'),\n",
       "  Text(15, 0, 'V15'),\n",
       "  Text(16, 0, 'V16'),\n",
       "  Text(17, 0, 'V17'),\n",
       "  Text(18, 0, 'V18'),\n",
       "  Text(19, 0, 'V19'),\n",
       "  Text(20, 0, 'V20'),\n",
       "  Text(21, 0, 'V21'),\n",
       "  Text(22, 0, 'V22'),\n",
       "  Text(23, 0, 'V23'),\n",
       "  Text(24, 0, 'V24'),\n",
       "  Text(25, 0, 'V25'),\n",
       "  Text(26, 0, 'V26'),\n",
       "  Text(27, 0, 'V27'),\n",
       "  Text(28, 0, 'V28'),\n",
       "  Text(29, 0, 'Amount')])"
      ]
     },
     "execution_count": 22,
     "metadata": {},
     "output_type": "execute_result"
    },
    {
     "data": {
      "image/png": "[encoded data removed]",
      "text/plain": [
       "<Figure size 1800x432 with 1 Axes>"
      ]
     },
     "metadata": {},
     "output_type": "display_data"
    }
   ],
   "source": [
    "forest = RandomForestClassifier()\n",
    "forest.fit(X, y)\n",
    "plt.figure(figsize=(25,6)); plt.ylabel('Features Importance')\n",
    "plt.xticks(np.arange(X.shape[1]), X.columns, rotation='45')\n",
    "ax = plt.bar(range(X.shape[1]), forest.feature_importances_, color='r')"
   ]
  },
  {
   "cell_type": "markdown",
   "metadata": {},
   "source": [
    "### 종합 평점"
   ]
  },
  {
   "cell_type": "code",
   "execution_count": 23,
   "metadata": {},
   "outputs": [
    {
     "data": {
      "text/plain": [
       "<matplotlib.image.AxesImage at 0x17e013f91f0>"
      ]
     },
     "execution_count": 23,
     "metadata": {},
     "output_type": "execute_result"
    },
    {
     "data": {
      "text/plain": [
       "Text(0.5, 0, '노랑은 True, 빨강은 False')"
      ]
     },
     "execution_count": 23,
     "metadata": {},
     "output_type": "execute_result"
    },
    {
     "data": {
      "text/plain": [
       "([], [])"
      ]
     },
     "execution_count": 23,
     "metadata": {},
     "output_type": "execute_result"
    },
    {
     "data": {
      "text/plain": [
       "<matplotlib.colorbar.Colorbar at 0x17e013f9640>"
      ]
     },
     "execution_count": 23,
     "metadata": {},
     "output_type": "execute_result"
    },
    {
     "data": {
      "text/plain": [
       "<matplotlib.image.AxesImage at 0x17e0146bee0>"
      ]
     },
     "execution_count": 23,
     "metadata": {},
     "output_type": "execute_result"
    },
    {
     "data": {
      "text/plain": [
       "Text(0.5, 0, '노랑은 True, 빨강은 False')"
      ]
     },
     "execution_count": 23,
     "metadata": {},
     "output_type": "execute_result"
    },
    {
     "data": {
      "text/plain": [
       "([], [])"
      ]
     },
     "execution_count": 23,
     "metadata": {},
     "output_type": "execute_result"
    },
    {
     "data": {
      "text/plain": [
       "<matplotlib.colorbar.Colorbar at 0x17e014783d0>"
      ]
     },
     "execution_count": 23,
     "metadata": {},
     "output_type": "execute_result"
    },
    {
     "data": {
      "text/plain": [
       "<matplotlib.image.AxesImage at 0x17e014ddd30>"
      ]
     },
     "execution_count": 23,
     "metadata": {},
     "output_type": "execute_result"
    },
    {
     "data": {
      "text/plain": [
       "Text(0.5, 0, '노랑은 True, 빨강은 False')"
      ]
     },
     "execution_count": 23,
     "metadata": {},
     "output_type": "execute_result"
    },
    {
     "data": {
      "text/plain": [
       "([], [])"
      ]
     },
     "execution_count": 23,
     "metadata": {},
     "output_type": "execute_result"
    },
    {
     "data": {
      "text/plain": [
       "<matplotlib.colorbar.Colorbar at 0x17e014c5c70>"
      ]
     },
     "execution_count": 23,
     "metadata": {},
     "output_type": "execute_result"
    },
    {
     "data": {
      "text/plain": [
       "<matplotlib.image.AxesImage at 0x17e02550a00>"
      ]
     },
     "execution_count": 23,
     "metadata": {},
     "output_type": "execute_result"
    },
    {
     "data": {
      "text/plain": [
       "Text(0.5, 0, '노랑은 True, 빨강은 False')"
      ]
     },
     "execution_count": 23,
     "metadata": {},
     "output_type": "execute_result"
    },
    {
     "data": {
      "text/plain": [
       "([], [])"
      ]
     },
     "execution_count": 23,
     "metadata": {},
     "output_type": "execute_result"
    },
    {
     "data": {
      "text/plain": [
       "<matplotlib.colorbar.Colorbar at 0x17e025509d0>"
      ]
     },
     "execution_count": 23,
     "metadata": {},
     "output_type": "execute_result"
    },
    {
     "data": {
      "text/plain": [
       "<matplotlib.image.AxesImage at 0x17e012dbc70>"
      ]
     },
     "execution_count": 23,
     "metadata": {},
     "output_type": "execute_result"
    },
    {
     "data": {
      "text/plain": [
       "Text(0.5, 0, '노랑은 True, 빨강은 False')"
      ]
     },
     "execution_count": 23,
     "metadata": {},
     "output_type": "execute_result"
    },
    {
     "data": {
      "text/plain": [
       "([], [])"
      ]
     },
     "execution_count": 23,
     "metadata": {},
     "output_type": "execute_result"
    },
    {
     "data": {
      "text/plain": [
       "<matplotlib.colorbar.Colorbar at 0x17e013c0ac0>"
      ]
     },
     "execution_count": 23,
     "metadata": {},
     "output_type": "execute_result"
    },
    {
     "data": {
      "image/png": "[encoded data removed]",
      "text/plain": [
       "<Figure size 1152x144 with 2 Axes>"
      ]
     },
     "metadata": {},
     "output_type": "display_data"
    },
    {
     "data": {
      "image/png": "[encoded data removed]",
      "text/plain": [
       "<Figure size 1152x144 with 2 Axes>"
      ]
     },
     "metadata": {},
     "output_type": "display_data"
    },
    {
     "data": {
      "image/png": "[encoded data removed]",
      "text/plain": [
       "<Figure size 1152x144 with 2 Axes>"
      ]
     },
     "metadata": {},
     "output_type": "display_data"
    },
    {
     "data": {
      "image/png": "[encoded data removed]",
      "text/plain": [
       "<Figure size 1152x144 with 2 Axes>"
      ]
     },
     "metadata": {},
     "output_type": "display_data"
    },
    {
     "data": {
      "image/png": "[encoded data removed]",
      "text/plain": [
       "<Figure size 1152x144 with 2 Axes>"
      ]
     },
     "metadata": {},
     "output_type": "display_data"
    }
   ],
   "source": [
    "supports= [corr_support, chi_support, rfe_support, \n",
    "           embeded_lr2_support, embeded_rf_support]\n",
    "for sp in supports :\n",
    "    plt.matshow(np.array(sp).reshape(1, -1), cmap='autumn')\n",
    "    plt.xlabel('노랑은 True, 빨강은 False')\n",
    "    plt.yticks(());plt.colorbar()"
   ]
  },
  {
   "cell_type": "code",
   "execution_count": 24,
   "metadata": {},
   "outputs": [
    {
     "data": {
      "text/html": [
       "<div>\n",
       "<style scoped>\n",
       "    .dataframe tbody tr th:only-of-type {\n",
       "        vertical-align: middle;\n",
       "    }\n",
       "\n",
       "    .dataframe tbody tr th {\n",
       "        vertical-align: top;\n",
       "    }\n",
       "\n",
       "    .dataframe thead th {\n",
       "        text-align: right;\n",
       "    }\n",
       "</style>\n",
       "<table border=\"1\" class=\"dataframe\">\n",
       "  <thead>\n",
       "    <tr style=\"text-align: right;\">\n",
       "      <th></th>\n",
       "      <th>변수명</th>\n",
       "      <th>Pearson</th>\n",
       "      <th>Chi-2</th>\n",
       "      <th>RFE</th>\n",
       "      <th>Logit_L2</th>\n",
       "      <th>RF</th>\n",
       "      <th>총점</th>\n",
       "    </tr>\n",
       "  </thead>\n",
       "  <tbody>\n",
       "    <tr>\n",
       "      <th>12</th>\n",
       "      <td>V12</td>\n",
       "      <td>True</td>\n",
       "      <td>True</td>\n",
       "      <td>True</td>\n",
       "      <td>True</td>\n",
       "      <td>True</td>\n",
       "      <td>5</td>\n",
       "    </tr>\n",
       "    <tr>\n",
       "      <th>14</th>\n",
       "      <td>V14</td>\n",
       "      <td>True</td>\n",
       "      <td>True</td>\n",
       "      <td>True</td>\n",
       "      <td>True</td>\n",
       "      <td>True</td>\n",
       "      <td>5</td>\n",
       "    </tr>\n",
       "    <tr>\n",
       "      <th>4</th>\n",
       "      <td>V4</td>\n",
       "      <td>True</td>\n",
       "      <td>True</td>\n",
       "      <td>True</td>\n",
       "      <td>True</td>\n",
       "      <td>True</td>\n",
       "      <td>5</td>\n",
       "    </tr>\n",
       "    <tr>\n",
       "      <th>17</th>\n",
       "      <td>V17</td>\n",
       "      <td>True</td>\n",
       "      <td>True</td>\n",
       "      <td>True</td>\n",
       "      <td>True</td>\n",
       "      <td>True</td>\n",
       "      <td>5</td>\n",
       "    </tr>\n",
       "    <tr>\n",
       "      <th>6</th>\n",
       "      <td>V6</td>\n",
       "      <td>True</td>\n",
       "      <td>True</td>\n",
       "      <td>True</td>\n",
       "      <td>True</td>\n",
       "      <td>True</td>\n",
       "      <td>5</td>\n",
       "    </tr>\n",
       "    <tr>\n",
       "      <th>16</th>\n",
       "      <td>V16</td>\n",
       "      <td>True</td>\n",
       "      <td>True</td>\n",
       "      <td>True</td>\n",
       "      <td>True</td>\n",
       "      <td>True</td>\n",
       "      <td>5</td>\n",
       "    </tr>\n",
       "    <tr>\n",
       "      <th>9</th>\n",
       "      <td>V9</td>\n",
       "      <td>True</td>\n",
       "      <td>True</td>\n",
       "      <td>True</td>\n",
       "      <td>True</td>\n",
       "      <td>True</td>\n",
       "      <td>5</td>\n",
       "    </tr>\n",
       "    <tr>\n",
       "      <th>10</th>\n",
       "      <td>V10</td>\n",
       "      <td>True</td>\n",
       "      <td>True</td>\n",
       "      <td>True</td>\n",
       "      <td>True</td>\n",
       "      <td>True</td>\n",
       "      <td>5</td>\n",
       "    </tr>\n",
       "    <tr>\n",
       "      <th>11</th>\n",
       "      <td>V11</td>\n",
       "      <td>True</td>\n",
       "      <td>True</td>\n",
       "      <td>True</td>\n",
       "      <td>True</td>\n",
       "      <td>True</td>\n",
       "      <td>5</td>\n",
       "    </tr>\n",
       "    <tr>\n",
       "      <th>3</th>\n",
       "      <td>V3</td>\n",
       "      <td>True</td>\n",
       "      <td>True</td>\n",
       "      <td>True</td>\n",
       "      <td>True</td>\n",
       "      <td>False</td>\n",
       "      <td>4</td>\n",
       "    </tr>\n",
       "    <tr>\n",
       "      <th>1</th>\n",
       "      <td>V1</td>\n",
       "      <td>True</td>\n",
       "      <td>True</td>\n",
       "      <td>True</td>\n",
       "      <td>True</td>\n",
       "      <td>False</td>\n",
       "      <td>4</td>\n",
       "    </tr>\n",
       "    <tr>\n",
       "      <th>18</th>\n",
       "      <td>V18</td>\n",
       "      <td>True</td>\n",
       "      <td>True</td>\n",
       "      <td>False</td>\n",
       "      <td>False</td>\n",
       "      <td>True</td>\n",
       "      <td>3</td>\n",
       "    </tr>\n",
       "    <tr>\n",
       "      <th>0</th>\n",
       "      <td>Time</td>\n",
       "      <td>False</td>\n",
       "      <td>False</td>\n",
       "      <td>True</td>\n",
       "      <td>True</td>\n",
       "      <td>True</td>\n",
       "      <td>3</td>\n",
       "    </tr>\n",
       "    <tr>\n",
       "      <th>7</th>\n",
       "      <td>V7</td>\n",
       "      <td>True</td>\n",
       "      <td>True</td>\n",
       "      <td>False</td>\n",
       "      <td>False</td>\n",
       "      <td>True</td>\n",
       "      <td>3</td>\n",
       "    </tr>\n",
       "    <tr>\n",
       "      <th>13</th>\n",
       "      <td>V13</td>\n",
       "      <td>False</td>\n",
       "      <td>False</td>\n",
       "      <td>True</td>\n",
       "      <td>True</td>\n",
       "      <td>False</td>\n",
       "      <td>2</td>\n",
       "    </tr>\n",
       "    <tr>\n",
       "      <th>5</th>\n",
       "      <td>V5</td>\n",
       "      <td>True</td>\n",
       "      <td>True</td>\n",
       "      <td>False</td>\n",
       "      <td>False</td>\n",
       "      <td>False</td>\n",
       "      <td>2</td>\n",
       "    </tr>\n",
       "    <tr>\n",
       "      <th>19</th>\n",
       "      <td>V19</td>\n",
       "      <td>False</td>\n",
       "      <td>True</td>\n",
       "      <td>False</td>\n",
       "      <td>False</td>\n",
       "      <td>True</td>\n",
       "      <td>2</td>\n",
       "    </tr>\n",
       "    <tr>\n",
       "      <th>21</th>\n",
       "      <td>V21</td>\n",
       "      <td>False</td>\n",
       "      <td>False</td>\n",
       "      <td>True</td>\n",
       "      <td>True</td>\n",
       "      <td>False</td>\n",
       "      <td>2</td>\n",
       "    </tr>\n",
       "    <tr>\n",
       "      <th>25</th>\n",
       "      <td>V25</td>\n",
       "      <td>False</td>\n",
       "      <td>False</td>\n",
       "      <td>True</td>\n",
       "      <td>True</td>\n",
       "      <td>False</td>\n",
       "      <td>2</td>\n",
       "    </tr>\n",
       "    <tr>\n",
       "      <th>2</th>\n",
       "      <td>V2</td>\n",
       "      <td>True</td>\n",
       "      <td>False</td>\n",
       "      <td>False</td>\n",
       "      <td>False</td>\n",
       "      <td>False</td>\n",
       "      <td>1</td>\n",
       "    </tr>\n",
       "    <tr>\n",
       "      <th>27</th>\n",
       "      <td>V27</td>\n",
       "      <td>False</td>\n",
       "      <td>False</td>\n",
       "      <td>False</td>\n",
       "      <td>False</td>\n",
       "      <td>True</td>\n",
       "      <td>1</td>\n",
       "    </tr>\n",
       "    <tr>\n",
       "      <th>26</th>\n",
       "      <td>V26</td>\n",
       "      <td>False</td>\n",
       "      <td>False</td>\n",
       "      <td>False</td>\n",
       "      <td>False</td>\n",
       "      <td>True</td>\n",
       "      <td>1</td>\n",
       "    </tr>\n",
       "    <tr>\n",
       "      <th>24</th>\n",
       "      <td>V24</td>\n",
       "      <td>False</td>\n",
       "      <td>False</td>\n",
       "      <td>False</td>\n",
       "      <td>False</td>\n",
       "      <td>False</td>\n",
       "      <td>0</td>\n",
       "    </tr>\n",
       "    <tr>\n",
       "      <th>28</th>\n",
       "      <td>V28</td>\n",
       "      <td>False</td>\n",
       "      <td>False</td>\n",
       "      <td>False</td>\n",
       "      <td>False</td>\n",
       "      <td>False</td>\n",
       "      <td>0</td>\n",
       "    </tr>\n",
       "    <tr>\n",
       "      <th>15</th>\n",
       "      <td>V15</td>\n",
       "      <td>False</td>\n",
       "      <td>False</td>\n",
       "      <td>False</td>\n",
       "      <td>False</td>\n",
       "      <td>False</td>\n",
       "      <td>0</td>\n",
       "    </tr>\n",
       "    <tr>\n",
       "      <th>23</th>\n",
       "      <td>V23</td>\n",
       "      <td>False</td>\n",
       "      <td>False</td>\n",
       "      <td>False</td>\n",
       "      <td>False</td>\n",
       "      <td>False</td>\n",
       "      <td>0</td>\n",
       "    </tr>\n",
       "    <tr>\n",
       "      <th>22</th>\n",
       "      <td>V22</td>\n",
       "      <td>False</td>\n",
       "      <td>False</td>\n",
       "      <td>False</td>\n",
       "      <td>False</td>\n",
       "      <td>False</td>\n",
       "      <td>0</td>\n",
       "    </tr>\n",
       "    <tr>\n",
       "      <th>20</th>\n",
       "      <td>V20</td>\n",
       "      <td>False</td>\n",
       "      <td>False</td>\n",
       "      <td>False</td>\n",
       "      <td>False</td>\n",
       "      <td>False</td>\n",
       "      <td>0</td>\n",
       "    </tr>\n",
       "    <tr>\n",
       "      <th>8</th>\n",
       "      <td>V8</td>\n",
       "      <td>False</td>\n",
       "      <td>False</td>\n",
       "      <td>False</td>\n",
       "      <td>False</td>\n",
       "      <td>False</td>\n",
       "      <td>0</td>\n",
       "    </tr>\n",
       "    <tr>\n",
       "      <th>29</th>\n",
       "      <td>Amount</td>\n",
       "      <td>False</td>\n",
       "      <td>False</td>\n",
       "      <td>False</td>\n",
       "      <td>False</td>\n",
       "      <td>False</td>\n",
       "      <td>0</td>\n",
       "    </tr>\n",
       "  </tbody>\n",
       "</table>\n",
       "</div>"
      ],
      "text/plain": [
       "       변수명  Pearson  Chi-2    RFE  Logit_L2     RF  총점\n",
       "12     V12     True   True   True      True   True   5\n",
       "14     V14     True   True   True      True   True   5\n",
       "4       V4     True   True   True      True   True   5\n",
       "17     V17     True   True   True      True   True   5\n",
       "6       V6     True   True   True      True   True   5\n",
       "16     V16     True   True   True      True   True   5\n",
       "9       V9     True   True   True      True   True   5\n",
       "10     V10     True   True   True      True   True   5\n",
       "11     V11     True   True   True      True   True   5\n",
       "3       V3     True   True   True      True  False   4\n",
       "1       V1     True   True   True      True  False   4\n",
       "18     V18     True   True  False     False   True   3\n",
       "0     Time    False  False   True      True   True   3\n",
       "7       V7     True   True  False     False   True   3\n",
       "13     V13    False  False   True      True  False   2\n",
       "5       V5     True   True  False     False  False   2\n",
       "19     V19    False   True  False     False   True   2\n",
       "21     V21    False  False   True      True  False   2\n",
       "25     V25    False  False   True      True  False   2\n",
       "2       V2     True  False  False     False  False   1\n",
       "27     V27    False  False  False     False   True   1\n",
       "26     V26    False  False  False     False   True   1\n",
       "24     V24    False  False  False     False  False   0\n",
       "28     V28    False  False  False     False  False   0\n",
       "15     V15    False  False  False     False  False   0\n",
       "23     V23    False  False  False     False  False   0\n",
       "22     V22    False  False  False     False  False   0\n",
       "20     V20    False  False  False     False  False   0\n",
       "8       V8    False  False  False     False  False   0\n",
       "29  Amount    False  False  False     False  False   0"
      ]
     },
     "execution_count": 24,
     "metadata": {},
     "output_type": "execute_result"
    }
   ],
   "source": [
    "feature_list = pd.DataFrame({'변수명':feature_name, 'Pearson':corr_support, \n",
    "                             'Chi-2':chi_support, 'RFE':rfe_support, \n",
    "                             'Logit_L2':embeded_lr2_support, \n",
    "                             'RF':embeded_rf_support\n",
    "                            })\n",
    "feature_list['총점'] = np.sum(feature_list, axis=1)\n",
    "feature_list = feature_list.sort_values(['총점'] , ascending=False)\n",
    "feature_list"
   ]
  },
  {
   "cell_type": "code",
   "execution_count": 26,
   "metadata": {},
   "outputs": [
    {
     "data": {
      "text/plain": [
       "\"\\nfeature_list.to_excel('../output/feature.xlsx')\\ndata01 = pd.read_excel('../output/feature.xlsx', index_col=0)\\ndata01.head(2)\\n\\nfeature_list.to_pickle('../output/feature.pkl')\\ndata02 = pd.read_pickle('../output/feature.pkl')\\ndata02.head(2)\\n\""
      ]
     },
     "execution_count": 26,
     "metadata": {},
     "output_type": "execute_result"
    }
   ],
   "source": [
    "'''\n",
    "feature_list.to_excel('../output/feature.xlsx')\n",
    "data01 = pd.read_excel('../output/feature.xlsx', index_col=0)\n",
    "data01.head(2)\n",
    "\n",
    "feature_list.to_pickle('../output/feature.pkl')\n",
    "data02 = pd.read_pickle('../output/feature.pkl')\n",
    "data02.head(2)\n",
    "'''"
   ]
  },
  {
   "cell_type": "code",
   "execution_count": 27,
   "metadata": {},
   "outputs": [
    {
     "data": {
      "text/plain": [
       "<AxesSubplot:xlabel='변수명'>"
      ]
     },
     "execution_count": 27,
     "metadata": {},
     "output_type": "execute_result"
    },
    {
     "data": {
      "image/png": "[encoded data removed]",
      "text/plain": [
       "<Figure size 1800x360 with 1 Axes>"
      ]
     },
     "metadata": {},
     "output_type": "display_data"
    }
   ],
   "source": [
    "feature = feature_list.set_index('변수명')\n",
    "pd.DataFrame(feature).총점.plot(kind='bar', rot = '70', figsize = (25, 5))"
   ]
  },
  {
   "cell_type": "code",
   "execution_count": 28,
   "metadata": {},
   "outputs": [
    {
     "data": {
      "text/plain": [
       "(30, 6)"
      ]
     },
     "execution_count": 28,
     "metadata": {},
     "output_type": "execute_result"
    },
    {
     "data": {
      "text/plain": [
       "(14, 6)"
      ]
     },
     "execution_count": 28,
     "metadata": {},
     "output_type": "execute_result"
    },
    {
     "data": {
      "text/plain": [
       "Index(['V12', 'V14', 'V4', 'V17', 'V6', 'V16', 'V9', 'V10', 'V11', 'V3', 'V1',\n",
       "       'V18', 'Time', 'V7'],\n",
       "      dtype='object', name='변수명')"
      ]
     },
     "execution_count": 28,
     "metadata": {},
     "output_type": "execute_result"
    }
   ],
   "source": [
    "feature.shape\n",
    "feature_select = feature[feature['총점'] >= 3]\n",
    "feature_select.shape\n",
    "feature_select.index"
   ]
  },
  {
   "cell_type": "code",
   "execution_count": 29,
   "metadata": {},
   "outputs": [
    {
     "name": "stdout",
     "output_type": "stream",
     "text": [
      "nan, inf & -inf 의 개수는 ?   0\n"
     ]
    }
   ],
   "source": [
    "print('nan, inf & -inf 의 개수는 ?  ', df.isin([np.nan, np.inf, -np.inf]).any(1).sum())"
   ]
  },
  {
   "cell_type": "code",
   "execution_count": 34,
   "metadata": {},
   "outputs": [
    {
     "data": {
      "text/plain": [
       "<AxesSubplot:>"
      ]
     },
     "execution_count": 34,
     "metadata": {},
     "output_type": "execute_result"
    },
    {
     "data": {
      "text/plain": [
       "(array([ 0.5,  1.5,  2.5,  3.5,  4.5,  5.5,  6.5,  7.5,  8.5,  9.5, 10.5,\n",
       "        11.5, 12.5, 13.5]),\n",
       " [Text(0.5, 0, 'V12'),\n",
       "  Text(1.5, 0, 'V14'),\n",
       "  Text(2.5, 0, 'V4'),\n",
       "  Text(3.5, 0, 'V17'),\n",
       "  Text(4.5, 0, 'V6'),\n",
       "  Text(5.5, 0, 'V16'),\n",
       "  Text(6.5, 0, 'V9'),\n",
       "  Text(7.5, 0, 'V10'),\n",
       "  Text(8.5, 0, 'V11'),\n",
       "  Text(9.5, 0, 'V3'),\n",
       "  Text(10.5, 0, 'V1'),\n",
       "  Text(11.5, 0, 'V18'),\n",
       "  Text(12.5, 0, 'Time'),\n",
       "  Text(13.5, 0, 'V7')])"
      ]
     },
     "execution_count": 34,
     "metadata": {},
     "output_type": "execute_result"
    },
    {
     "data": {
      "image/png": "[encoded data removed]",
      "text/plain": [
       "<Figure size 864x576 with 2 Axes>"
      ]
     },
     "metadata": {},
     "output_type": "display_data"
    }
   ],
   "source": [
    "X = X[feature_select.index]\n",
    "corr_matrix = X.corr(method = \"spearman\")\n",
    "fig, ax = plt.subplots(figsize=(12,8))\n",
    "sns.heatmap(data = corr_matrix, annot = True, linewidths=.5, ax=ax)\n",
    "plt.xticks(rotation=45)"
   ]
  },
  {
   "cell_type": "markdown",
   "metadata": {},
   "source": [
    "# VIF(variance_inflation_factor)"
   ]
  },
  {
   "cell_type": "code",
   "execution_count": 31,
   "metadata": {},
   "outputs": [
    {
     "data": {
      "text/html": [
       "<div>\n",
       "<style scoped>\n",
       "    .dataframe tbody tr th:only-of-type {\n",
       "        vertical-align: middle;\n",
       "    }\n",
       "\n",
       "    .dataframe tbody tr th {\n",
       "        vertical-align: top;\n",
       "    }\n",
       "\n",
       "    .dataframe thead th {\n",
       "        text-align: right;\n",
       "    }\n",
       "</style>\n",
       "<table border=\"1\" class=\"dataframe\">\n",
       "  <thead>\n",
       "    <tr style=\"text-align: right;\">\n",
       "      <th></th>\n",
       "      <th>VIF Factor</th>\n",
       "      <th>features</th>\n",
       "    </tr>\n",
       "  </thead>\n",
       "  <tbody>\n",
       "    <tr>\n",
       "      <th>0</th>\n",
       "      <td>1.001447</td>\n",
       "      <td>V9</td>\n",
       "    </tr>\n",
       "    <tr>\n",
       "      <th>1</th>\n",
       "      <td>1.002771</td>\n",
       "      <td>V4</td>\n",
       "    </tr>\n",
       "    <tr>\n",
       "      <th>2</th>\n",
       "      <td>1.003358</td>\n",
       "      <td>V18</td>\n",
       "    </tr>\n",
       "    <tr>\n",
       "      <th>3</th>\n",
       "      <td>1.003572</td>\n",
       "      <td>V16</td>\n",
       "    </tr>\n",
       "    <tr>\n",
       "      <th>4</th>\n",
       "      <td>1.003943</td>\n",
       "      <td>V10</td>\n",
       "    </tr>\n",
       "  </tbody>\n",
       "</table>\n",
       "</div>"
      ],
      "text/plain": [
       "   VIF Factor features\n",
       "0    1.001447       V9\n",
       "1    1.002771       V4\n",
       "2    1.003358      V18\n",
       "3    1.003572      V16\n",
       "4    1.003943      V10"
      ]
     },
     "execution_count": 31,
     "metadata": {},
     "output_type": "execute_result"
    }
   ],
   "source": [
    "from statsmodels.stats.outliers_influence import variance_inflation_factor\n",
    "vif = pd.DataFrame()\n",
    "vif[\"VIF Factor\"] = [variance_inflation_factor(X.values, i) for i in range(X.shape[1])]\n",
    "vif[\"features\"] = X.columns\n",
    "vif = vif.sort_values(\"VIF Factor\").reset_index(drop=True)\n",
    "vif.head()"
   ]
  },
  {
   "cell_type": "code",
   "execution_count": 32,
   "metadata": {
    "scrolled": false
   },
   "outputs": [
    {
     "data": {
      "text/html": [
       "<div>\n",
       "<style scoped>\n",
       "    .dataframe tbody tr th:only-of-type {\n",
       "        vertical-align: middle;\n",
       "    }\n",
       "\n",
       "    .dataframe tbody tr th {\n",
       "        vertical-align: top;\n",
       "    }\n",
       "\n",
       "    .dataframe thead th {\n",
       "        text-align: right;\n",
       "    }\n",
       "</style>\n",
       "<table border=\"1\" class=\"dataframe\">\n",
       "  <thead>\n",
       "    <tr style=\"text-align: right;\">\n",
       "      <th></th>\n",
       "      <th>VIF Factor</th>\n",
       "      <th>features</th>\n",
       "    </tr>\n",
       "  </thead>\n",
       "  <tbody>\n",
       "    <tr>\n",
       "      <th>0</th>\n",
       "      <td>1.001447</td>\n",
       "      <td>V9</td>\n",
       "    </tr>\n",
       "    <tr>\n",
       "      <th>1</th>\n",
       "      <td>1.002771</td>\n",
       "      <td>V4</td>\n",
       "    </tr>\n",
       "    <tr>\n",
       "      <th>2</th>\n",
       "      <td>1.003358</td>\n",
       "      <td>V18</td>\n",
       "    </tr>\n",
       "    <tr>\n",
       "      <th>3</th>\n",
       "      <td>1.003572</td>\n",
       "      <td>V16</td>\n",
       "    </tr>\n",
       "    <tr>\n",
       "      <th>4</th>\n",
       "      <td>1.003943</td>\n",
       "      <td>V10</td>\n",
       "    </tr>\n",
       "    <tr>\n",
       "      <th>5</th>\n",
       "      <td>1.004952</td>\n",
       "      <td>V1</td>\n",
       "    </tr>\n",
       "    <tr>\n",
       "      <th>6</th>\n",
       "      <td>1.005299</td>\n",
       "      <td>V12</td>\n",
       "    </tr>\n",
       "    <tr>\n",
       "      <th>7</th>\n",
       "      <td>1.005710</td>\n",
       "      <td>V14</td>\n",
       "    </tr>\n",
       "    <tr>\n",
       "      <th>8</th>\n",
       "      <td>1.006220</td>\n",
       "      <td>V17</td>\n",
       "    </tr>\n",
       "    <tr>\n",
       "      <th>9</th>\n",
       "      <td>1.010790</td>\n",
       "      <td>V6</td>\n",
       "    </tr>\n",
       "    <tr>\n",
       "      <th>10</th>\n",
       "      <td>1.014417</td>\n",
       "      <td>V11</td>\n",
       "    </tr>\n",
       "    <tr>\n",
       "      <th>11</th>\n",
       "      <td>1.017566</td>\n",
       "      <td>V7</td>\n",
       "    </tr>\n",
       "    <tr>\n",
       "      <th>12</th>\n",
       "      <td>1.042077</td>\n",
       "      <td>V3</td>\n",
       "    </tr>\n",
       "    <tr>\n",
       "      <th>13</th>\n",
       "      <td>1.065444</td>\n",
       "      <td>Time</td>\n",
       "    </tr>\n",
       "  </tbody>\n",
       "</table>\n",
       "</div>"
      ],
      "text/plain": [
       "    VIF Factor features\n",
       "0     1.001447       V9\n",
       "1     1.002771       V4\n",
       "2     1.003358      V18\n",
       "3     1.003572      V16\n",
       "4     1.003943      V10\n",
       "5     1.004952       V1\n",
       "6     1.005299      V12\n",
       "7     1.005710      V14\n",
       "8     1.006220      V17\n",
       "9     1.010790       V6\n",
       "10    1.014417      V11\n",
       "11    1.017566       V7\n",
       "12    1.042077       V3\n",
       "13    1.065444     Time"
      ]
     },
     "execution_count": 32,
     "metadata": {},
     "output_type": "execute_result"
    }
   ],
   "source": [
    "vif"
   ]
  },
  {
   "cell_type": "markdown",
   "metadata": {},
   "source": [
    "# END"
   ]
  },
  {
   "cell_type": "code",
   "execution_count": null,
   "metadata": {},
   "outputs": [],
   "source": []
  }
 ],
 "metadata": {
  "kernelspec": {
   "display_name": "Python 3",
   "language": "python",
   "name": "python3"
  },
  "language_info": {
   "codemirror_mode": {
    "name": "ipython",
    "version": 3
   },
   "file_extension": ".py",
   "mimetype": "text/x-python",
   "name": "python",
   "nbconvert_exporter": "python",
   "pygments_lexer": "ipython3",
   "version": "3.8.8"
  }
 },
 "nbformat": 4,
 "nbformat_minor": 2
}
