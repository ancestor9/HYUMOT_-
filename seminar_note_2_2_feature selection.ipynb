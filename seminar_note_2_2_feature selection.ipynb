{
 "cells": [
  {
   "cell_type": "markdown",
   "metadata": {},
   "source": [
    "# Feature engineering\n",
    "\n",
    "## feature tools\n",
    "- https://featuretools.alteryx.com/en/stable/getting_started/using_entitysets.html\n",
    "\n",
    "## pycaret\n",
    "- https://pycaret.org/preprocessing/\n",
    "\n",
    "## scikit-learn    \n",
    "- https://scikit-learn.org/stable/modules/preprocessing.html#preprocessing \n",
    "\n",
    "## scikit-learn categorical encoder\n",
    "- https://contrib.scikit-learn.org/category_encoders/ \n",
    "\n",
    "## A Short Guide for Feature Engineering and Feature Selection\n",
    "- https://github.com/ashishpatel26/Amazing-Feature-Engineering\n",
    "\n",
    "## O'Relly book : feature_engineering_for_machine_learning\n",
    "- https://www.repath.in/gallery/feature_engineering_for_machine_learning.pdf"
   ]
  },
  {
   "cell_type": "code",
   "execution_count": 5,
   "metadata": {},
   "outputs": [
    {
     "data": {
      "text/html": [
       "<style>.container { width:100% !important; }</style>"
      ],
      "text/plain": [
       "<IPython.core.display.HTML object>"
      ]
     },
     "metadata": {},
     "output_type": "display_data"
    }
   ],
   "source": [
    "from IPython.core.interactiveshell import InteractiveShell\n",
    "InteractiveShell.ast_node_interactivity = 'all'\n",
    "import pandas as pd\n",
    "import numpy as np\n",
    "import warnings\n",
    "warnings.filterwarnings('ignore')\n",
    "import matplotlib.pyplot as plt\n",
    "import seaborn as sns; sns.set()\n",
    "plt.rcParams['font.family']='Malgun Gothic'\n",
    "plt.rcParams['axes.unicode_minus'] = False\n",
    "from IPython.core.display import display, HTML\n",
    "display(HTML(\"<style>.container { width:100% !important; }</style>\"))"
   ]
  },
  {
   "cell_type": "code",
   "execution_count": 6,
   "metadata": {},
   "outputs": [],
   "source": [
    "def summary(df) :\n",
    "    tf = pd.DataFrame({'데이터형태(dtypes)' : df.dtypes,\n",
    "                       '비 결측치 수(notnull': df.notnull().sum(),\n",
    "                       '결측치 수(null)' : df.isnull().sum(),\n",
    "                       '고유값 수(nunique)' : df.nunique()})\n",
    "    return tf"
   ]
  },
  {
   "cell_type": "markdown",
   "metadata": {},
   "source": [
    "- Filtering Methods - Select subsets of variables as a pre-processing step, independently of the chosen predictor.\n",
    "- Wrapper Methods - Utilize the learning machine of interest as a black box to score subsets of variable according to their predictive power.\n",
    "- Embedded Methods - Perform variable selection in the process of training and are usually specific to given learning machines."
   ]
  },
  {
   "cell_type": "markdown",
   "metadata": {},
   "source": [
    "## SVM-Anova: SVM with univariate feature selection\n",
    "https://scikit-learn.org/stable/auto_examples/svm/plot_svm_anova.html"
   ]
  },
  {
   "cell_type": "code",
   "execution_count": 7,
   "metadata": {},
   "outputs": [
    {
     "data": {
      "text/plain": [
       "(150, 4)"
      ]
     },
     "execution_count": 7,
     "metadata": {},
     "output_type": "execute_result"
    },
    {
     "data": {
      "text/plain": [
       "(150, 3)"
      ]
     },
     "execution_count": 7,
     "metadata": {},
     "output_type": "execute_result"
    },
    {
     "data": {
      "text/plain": [
       "(150, 2)"
      ]
     },
     "execution_count": 7,
     "metadata": {},
     "output_type": "execute_result"
    }
   ],
   "source": [
    "from sklearn.datasets import load_iris\n",
    "from sklearn.feature_selection import SelectPercentile, SelectKBest, chi2\n",
    "X, y = load_iris(return_X_y=True)\n",
    "X.shape\n",
    "SelectPercentile(chi2, percentile=70).fit_transform(X, y).shape\n",
    "SelectKBest(chi2, k=2).fit_transform(X, y).shape"
   ]
  },
  {
   "cell_type": "code",
   "execution_count": 8,
   "metadata": {},
   "outputs": [
    {
     "data": {
      "text/plain": [
       "(150, 40)"
      ]
     },
     "execution_count": 8,
     "metadata": {},
     "output_type": "execute_result"
    }
   ],
   "source": [
    "from sklearn.model_selection import cross_val_score\n",
    "from sklearn.pipeline import Pipeline\n",
    "from sklearn.svm import SVC\n",
    "from sklearn.preprocessing import StandardScaler\n",
    "np.random.seed(0)\n",
    "X = np.hstack((X, 2 * np.random.random((X.shape[0], 36))))\n",
    "clf = Pipeline([('anova', SelectPercentile(chi2)),\n",
    "                ('scaler', StandardScaler()),\n",
    "                ('svc', SVC(gamma=\"auto\")),\n",
    "               ])\n",
    "score_means = list()\n",
    "score_stds = list()\n",
    "percentiles = (1, 3, 6, 10, 15, 20, 30, 40, 60, 80, 100)\n",
    "X.shape"
   ]
  },
  {
   "cell_type": "code",
   "execution_count": 9,
   "metadata": {
    "scrolled": false
   },
   "outputs": [
    {
     "data": {
      "text/plain": [
       "Pipeline(steps=[('anova',\n",
       "                 SelectPercentile(percentile=1,\n",
       "                                  score_func=<function chi2 at 0x0000017086CF6820>)),\n",
       "                ('scaler', StandardScaler()), ('svc', SVC(gamma='auto'))])"
      ]
     },
     "execution_count": 9,
     "metadata": {},
     "output_type": "execute_result"
    },
    {
     "data": {
      "text/plain": [
       "Pipeline(steps=[('anova',\n",
       "                 SelectPercentile(percentile=3,\n",
       "                                  score_func=<function chi2 at 0x0000017086CF6820>)),\n",
       "                ('scaler', StandardScaler()), ('svc', SVC(gamma='auto'))])"
      ]
     },
     "execution_count": 9,
     "metadata": {},
     "output_type": "execute_result"
    },
    {
     "data": {
      "text/plain": [
       "Pipeline(steps=[('anova',\n",
       "                 SelectPercentile(percentile=6,\n",
       "                                  score_func=<function chi2 at 0x0000017086CF6820>)),\n",
       "                ('scaler', StandardScaler()), ('svc', SVC(gamma='auto'))])"
      ]
     },
     "execution_count": 9,
     "metadata": {},
     "output_type": "execute_result"
    },
    {
     "data": {
      "text/plain": [
       "Pipeline(steps=[('anova',\n",
       "                 SelectPercentile(score_func=<function chi2 at 0x0000017086CF6820>)),\n",
       "                ('scaler', StandardScaler()), ('svc', SVC(gamma='auto'))])"
      ]
     },
     "execution_count": 9,
     "metadata": {},
     "output_type": "execute_result"
    },
    {
     "data": {
      "text/plain": [
       "Pipeline(steps=[('anova',\n",
       "                 SelectPercentile(percentile=15,\n",
       "                                  score_func=<function chi2 at 0x0000017086CF6820>)),\n",
       "                ('scaler', StandardScaler()), ('svc', SVC(gamma='auto'))])"
      ]
     },
     "execution_count": 9,
     "metadata": {},
     "output_type": "execute_result"
    },
    {
     "data": {
      "text/plain": [
       "Pipeline(steps=[('anova',\n",
       "                 SelectPercentile(percentile=20,\n",
       "                                  score_func=<function chi2 at 0x0000017086CF6820>)),\n",
       "                ('scaler', StandardScaler()), ('svc', SVC(gamma='auto'))])"
      ]
     },
     "execution_count": 9,
     "metadata": {},
     "output_type": "execute_result"
    },
    {
     "data": {
      "text/plain": [
       "Pipeline(steps=[('anova',\n",
       "                 SelectPercentile(percentile=30,\n",
       "                                  score_func=<function chi2 at 0x0000017086CF6820>)),\n",
       "                ('scaler', StandardScaler()), ('svc', SVC(gamma='auto'))])"
      ]
     },
     "execution_count": 9,
     "metadata": {},
     "output_type": "execute_result"
    },
    {
     "data": {
      "text/plain": [
       "Pipeline(steps=[('anova',\n",
       "                 SelectPercentile(percentile=40,\n",
       "                                  score_func=<function chi2 at 0x0000017086CF6820>)),\n",
       "                ('scaler', StandardScaler()), ('svc', SVC(gamma='auto'))])"
      ]
     },
     "execution_count": 9,
     "metadata": {},
     "output_type": "execute_result"
    },
    {
     "data": {
      "text/plain": [
       "Pipeline(steps=[('anova',\n",
       "                 SelectPercentile(percentile=60,\n",
       "                                  score_func=<function chi2 at 0x0000017086CF6820>)),\n",
       "                ('scaler', StandardScaler()), ('svc', SVC(gamma='auto'))])"
      ]
     },
     "execution_count": 9,
     "metadata": {},
     "output_type": "execute_result"
    },
    {
     "data": {
      "text/plain": [
       "Pipeline(steps=[('anova',\n",
       "                 SelectPercentile(percentile=80,\n",
       "                                  score_func=<function chi2 at 0x0000017086CF6820>)),\n",
       "                ('scaler', StandardScaler()), ('svc', SVC(gamma='auto'))])"
      ]
     },
     "execution_count": 9,
     "metadata": {},
     "output_type": "execute_result"
    },
    {
     "data": {
      "text/plain": [
       "Pipeline(steps=[('anova',\n",
       "                 SelectPercentile(percentile=100,\n",
       "                                  score_func=<function chi2 at 0x0000017086CF6820>)),\n",
       "                ('scaler', StandardScaler()), ('svc', SVC(gamma='auto'))])"
      ]
     },
     "execution_count": 9,
     "metadata": {},
     "output_type": "execute_result"
    },
    {
     "data": {
      "text/plain": [
       "<Figure size 1440x360 with 0 Axes>"
      ]
     },
     "execution_count": 9,
     "metadata": {},
     "output_type": "execute_result"
    },
    {
     "data": {
      "text/plain": [
       "<ErrorbarContainer object of 3 artists>"
      ]
     },
     "execution_count": 9,
     "metadata": {},
     "output_type": "execute_result"
    },
    {
     "data": {
      "text/plain": [
       "Text(0.5, 1.0, '추출된(카이제곱) 특성변수 개수에 따른 SVM-Anova 성능도')"
      ]
     },
     "execution_count": 9,
     "metadata": {},
     "output_type": "execute_result"
    },
    {
     "data": {
      "text/plain": [
       "([<matplotlib.axis.XTick at 0x171000c4c40>,\n",
       "  <matplotlib.axis.XTick at 0x171000c4160>,\n",
       "  <matplotlib.axis.XTick at 0x171000b89a0>,\n",
       "  <matplotlib.axis.XTick at 0x171000fbaf0>,\n",
       "  <matplotlib.axis.XTick at 0x17100117040>,\n",
       "  <matplotlib.axis.XTick at 0x171000fb820>,\n",
       "  <matplotlib.axis.XTick at 0x17100117700>,\n",
       "  <matplotlib.axis.XTick at 0x17100117c10>,\n",
       "  <matplotlib.axis.XTick at 0x17100118160>,\n",
       "  <matplotlib.axis.XTick at 0x17100118670>,\n",
       "  <matplotlib.axis.XTick at 0x17100118b80>],\n",
       " [Text(0, 0, ''),\n",
       "  Text(0, 0, ''),\n",
       "  Text(0, 0, ''),\n",
       "  Text(0, 0, ''),\n",
       "  Text(0, 0, ''),\n",
       "  Text(0, 0, ''),\n",
       "  Text(0, 0, ''),\n",
       "  Text(0, 0, ''),\n",
       "  Text(0, 0, ''),\n",
       "  Text(0, 0, ''),\n",
       "  Text(0, 0, '')])"
      ]
     },
     "execution_count": 9,
     "metadata": {},
     "output_type": "execute_result"
    },
    {
     "data": {
      "text/plain": [
       "Text(0.5, 0, 'Percentile')"
      ]
     },
     "execution_count": 9,
     "metadata": {},
     "output_type": "execute_result"
    },
    {
     "data": {
      "text/plain": [
       "Text(0, 0.5, 'Accuracy Score')"
      ]
     },
     "execution_count": 9,
     "metadata": {},
     "output_type": "execute_result"
    },
    {
     "data": {
      "image/png": "[encoded data removed]",
      "text/plain": [
       "<Figure size 1440x360 with 1 Axes>"
      ]
     },
     "metadata": {},
     "output_type": "display_data"
    }
   ],
   "source": [
    "for percentile in percentiles:\n",
    "    clf.set_params(anova__percentile=percentile)\n",
    "    this_scores = cross_val_score(clf, X, y)\n",
    "    score_means.append(this_scores.mean())\n",
    "    score_stds.append(this_scores.std())\n",
    "\n",
    "plt.figure(figsize=(20,5))\n",
    "plt.errorbar(percentiles, score_means, np.array(score_stds))\n",
    "plt.title('추출된(카이제곱) 특성변수 개수에 따른 SVM-Anova 성능도', fontsize=18)\n",
    "plt.xticks(np.linspace(0, 100, 11, endpoint=True))\n",
    "plt.xlabel('Percentile', fontsize=16)\n",
    "plt.ylabel('Accuracy Score', fontsize=16)"
   ]
  },
  {
   "cell_type": "markdown",
   "metadata": {},
   "source": [
    "## 1. 데이터 읽기\n",
    "### kaggle('../data/creditcard.csv'')로 search\n",
    "https://www.kaggle.com/mlg-ulb/creditcardfraud"
   ]
  },
  {
   "cell_type": "code",
   "execution_count": 10,
   "metadata": {},
   "outputs": [
    {
     "data": {
      "text/html": [
       "<div>\n",
       "<style scoped>\n",
       "    .dataframe tbody tr th:only-of-type {\n",
       "        vertical-align: middle;\n",
       "    }\n",
       "\n",
       "    .dataframe tbody tr th {\n",
       "        vertical-align: top;\n",
       "    }\n",
       "\n",
       "    .dataframe thead th {\n",
       "        text-align: right;\n",
       "    }\n",
       "</style>\n",
       "<table border=\"1\" class=\"dataframe\">\n",
       "  <thead>\n",
       "    <tr style=\"text-align: right;\">\n",
       "      <th></th>\n",
       "      <th>Time</th>\n",
       "      <th>V1</th>\n",
       "      <th>V2</th>\n",
       "      <th>V3</th>\n",
       "      <th>V4</th>\n",
       "      <th>V5</th>\n",
       "      <th>V6</th>\n",
       "      <th>V7</th>\n",
       "      <th>V8</th>\n",
       "      <th>V9</th>\n",
       "      <th>...</th>\n",
       "      <th>V21</th>\n",
       "      <th>V22</th>\n",
       "      <th>V23</th>\n",
       "      <th>V24</th>\n",
       "      <th>V25</th>\n",
       "      <th>V26</th>\n",
       "      <th>V27</th>\n",
       "      <th>V28</th>\n",
       "      <th>Amount</th>\n",
       "      <th>target</th>\n",
       "    </tr>\n",
       "  </thead>\n",
       "  <tbody>\n",
       "    <tr>\n",
       "      <th>0</th>\n",
       "      <td>0.0</td>\n",
       "      <td>-1.359807</td>\n",
       "      <td>-0.072781</td>\n",
       "      <td>2.536347</td>\n",
       "      <td>1.378155</td>\n",
       "      <td>-0.338321</td>\n",
       "      <td>0.462388</td>\n",
       "      <td>0.239599</td>\n",
       "      <td>0.098698</td>\n",
       "      <td>0.363787</td>\n",
       "      <td>...</td>\n",
       "      <td>-0.018307</td>\n",
       "      <td>0.277838</td>\n",
       "      <td>-0.110474</td>\n",
       "      <td>0.066928</td>\n",
       "      <td>0.128539</td>\n",
       "      <td>-0.189115</td>\n",
       "      <td>0.133558</td>\n",
       "      <td>-0.021053</td>\n",
       "      <td>149.62</td>\n",
       "      <td>0.0</td>\n",
       "    </tr>\n",
       "    <tr>\n",
       "      <th>1</th>\n",
       "      <td>0.0</td>\n",
       "      <td>1.191857</td>\n",
       "      <td>0.266151</td>\n",
       "      <td>0.166480</td>\n",
       "      <td>0.448154</td>\n",
       "      <td>0.060018</td>\n",
       "      <td>-0.082361</td>\n",
       "      <td>-0.078803</td>\n",
       "      <td>0.085102</td>\n",
       "      <td>-0.255425</td>\n",
       "      <td>...</td>\n",
       "      <td>-0.225775</td>\n",
       "      <td>-0.638672</td>\n",
       "      <td>0.101288</td>\n",
       "      <td>-0.339846</td>\n",
       "      <td>0.167170</td>\n",
       "      <td>0.125895</td>\n",
       "      <td>-0.008983</td>\n",
       "      <td>0.014724</td>\n",
       "      <td>2.69</td>\n",
       "      <td>0.0</td>\n",
       "    </tr>\n",
       "    <tr>\n",
       "      <th>2</th>\n",
       "      <td>1.0</td>\n",
       "      <td>-1.358354</td>\n",
       "      <td>-1.340163</td>\n",
       "      <td>1.773209</td>\n",
       "      <td>0.379780</td>\n",
       "      <td>-0.503198</td>\n",
       "      <td>1.800499</td>\n",
       "      <td>0.791461</td>\n",
       "      <td>0.247676</td>\n",
       "      <td>-1.514654</td>\n",
       "      <td>...</td>\n",
       "      <td>0.247998</td>\n",
       "      <td>0.771679</td>\n",
       "      <td>0.909412</td>\n",
       "      <td>-0.689281</td>\n",
       "      <td>-0.327642</td>\n",
       "      <td>-0.139097</td>\n",
       "      <td>-0.055353</td>\n",
       "      <td>-0.059752</td>\n",
       "      <td>378.66</td>\n",
       "      <td>0.0</td>\n",
       "    </tr>\n",
       "    <tr>\n",
       "      <th>3</th>\n",
       "      <td>1.0</td>\n",
       "      <td>-0.966272</td>\n",
       "      <td>-0.185226</td>\n",
       "      <td>1.792993</td>\n",
       "      <td>-0.863291</td>\n",
       "      <td>-0.010309</td>\n",
       "      <td>1.247203</td>\n",
       "      <td>0.237609</td>\n",
       "      <td>0.377436</td>\n",
       "      <td>-1.387024</td>\n",
       "      <td>...</td>\n",
       "      <td>-0.108300</td>\n",
       "      <td>0.005274</td>\n",
       "      <td>-0.190321</td>\n",
       "      <td>-1.175575</td>\n",
       "      <td>0.647376</td>\n",
       "      <td>-0.221929</td>\n",
       "      <td>0.062723</td>\n",
       "      <td>0.061458</td>\n",
       "      <td>123.50</td>\n",
       "      <td>0.0</td>\n",
       "    </tr>\n",
       "    <tr>\n",
       "      <th>4</th>\n",
       "      <td>2.0</td>\n",
       "      <td>-1.158233</td>\n",
       "      <td>0.877737</td>\n",
       "      <td>1.548718</td>\n",
       "      <td>0.403034</td>\n",
       "      <td>-0.407193</td>\n",
       "      <td>0.095921</td>\n",
       "      <td>0.592941</td>\n",
       "      <td>-0.270533</td>\n",
       "      <td>0.817739</td>\n",
       "      <td>...</td>\n",
       "      <td>-0.009431</td>\n",
       "      <td>0.798278</td>\n",
       "      <td>-0.137458</td>\n",
       "      <td>0.141267</td>\n",
       "      <td>-0.206010</td>\n",
       "      <td>0.502292</td>\n",
       "      <td>0.219422</td>\n",
       "      <td>0.215153</td>\n",
       "      <td>69.99</td>\n",
       "      <td>0.0</td>\n",
       "    </tr>\n",
       "  </tbody>\n",
       "</table>\n",
       "<p>5 rows × 31 columns</p>\n",
       "</div>"
      ],
      "text/plain": [
       "   Time        V1        V2        V3        V4        V5        V6        V7  \\\n",
       "0   0.0 -1.359807 -0.072781  2.536347  1.378155 -0.338321  0.462388  0.239599   \n",
       "1   0.0  1.191857  0.266151  0.166480  0.448154  0.060018 -0.082361 -0.078803   \n",
       "2   1.0 -1.358354 -1.340163  1.773209  0.379780 -0.503198  1.800499  0.791461   \n",
       "3   1.0 -0.966272 -0.185226  1.792993 -0.863291 -0.010309  1.247203  0.237609   \n",
       "4   2.0 -1.158233  0.877737  1.548718  0.403034 -0.407193  0.095921  0.592941   \n",
       "\n",
       "         V8        V9  ...       V21       V22       V23       V24       V25  \\\n",
       "0  0.098698  0.363787  ... -0.018307  0.277838 -0.110474  0.066928  0.128539   \n",
       "1  0.085102 -0.255425  ... -0.225775 -0.638672  0.101288 -0.339846  0.167170   \n",
       "2  0.247676 -1.514654  ...  0.247998  0.771679  0.909412 -0.689281 -0.327642   \n",
       "3  0.377436 -1.387024  ... -0.108300  0.005274 -0.190321 -1.175575  0.647376   \n",
       "4 -0.270533  0.817739  ... -0.009431  0.798278 -0.137458  0.141267 -0.206010   \n",
       "\n",
       "        V26       V27       V28  Amount  target  \n",
       "0 -0.189115  0.133558 -0.021053  149.62     0.0  \n",
       "1  0.125895 -0.008983  0.014724    2.69     0.0  \n",
       "2 -0.139097 -0.055353 -0.059752  378.66     0.0  \n",
       "3 -0.221929  0.062723  0.061458  123.50     0.0  \n",
       "4  0.502292  0.219422  0.215153   69.99     0.0  \n",
       "\n",
       "[5 rows x 31 columns]"
      ]
     },
     "execution_count": 10,
     "metadata": {},
     "output_type": "execute_result"
    }
   ],
   "source": [
    "from sklearn.datasets import fetch_openml\n",
    "data = fetch_openml(name='CreditCardFraudDetection')\n",
    "df = pd.DataFrame(data.data, columns=data.feature_names)\n",
    "# #df = pd.read_csv(\"../data/creditcard.csv\") # from kaggle\n",
    "df['target'] = data.target\n",
    "df.head()"
   ]
  },
  {
   "cell_type": "code",
   "execution_count": 11,
   "metadata": {},
   "outputs": [],
   "source": [
    "df = df.sample(frac=0.1)\n",
    "X = df.drop(['Time', 'Amount', 'target'], axis=1)\n",
    "y = df['target']"
   ]
  },
  {
   "cell_type": "code",
   "execution_count": 12,
   "metadata": {},
   "outputs": [
    {
     "data": {
      "text/plain": [
       "(28481, 28)"
      ]
     },
     "execution_count": 12,
     "metadata": {},
     "output_type": "execute_result"
    },
    {
     "data": {
      "text/plain": [
       "(28481, 5)"
      ]
     },
     "execution_count": 12,
     "metadata": {},
     "output_type": "execute_result"
    },
    {
     "data": {
      "text/plain": [
       "[3, 5, 7, 9, 11, 13, 15]"
      ]
     },
     "execution_count": 12,
     "metadata": {},
     "output_type": "execute_result"
    }
   ],
   "source": [
    "from sklearn.feature_selection import SelectKBest, f_classif\n",
    "X.shape\n",
    "X_new = SelectKBest(f_classif, k=5).fit_transform(X, y)\n",
    "X_new.shape\n",
    "\n",
    "[SelectKBest(f_classif, k=cols).fit_transform(X, y).shape[1] for cols in [3,5,7,9,11,13,15]]"
   ]
  },
  {
   "cell_type": "code",
   "execution_count": 13,
   "metadata": {},
   "outputs": [
    {
     "data": {
      "text/plain": [
       "{'k': 10,\n",
       " 'score_func': <function sklearn.feature_selection._univariate_selection.f_classif(X, y)>}"
      ]
     },
     "execution_count": 13,
     "metadata": {},
     "output_type": "execute_result"
    }
   ],
   "source": [
    "SelectKBest().get_params()"
   ]
  },
  {
   "cell_type": "markdown",
   "metadata": {},
   "source": [
    "## Recursive feature elimination with cross-validation\n",
    "### target에 영향을 주는 특성변수 selection method\n",
    "https://scikit-learn.org/stable/auto_examples/feature_selection/plot_rfe_with_cross_validation.html#sphx-glr-auto-examples-feature-selection-plot-rfe-with-cross-validation-py"
   ]
  },
  {
   "cell_type": "code",
   "execution_count": 14,
   "metadata": {},
   "outputs": [
    {
     "data": {
      "text/plain": [
       "RFECV(cv=StratifiedKFold(n_splits=3, random_state=None, shuffle=False),\n",
       "      estimator=SVC(kernel='linear'), scoring='accuracy')"
      ]
     },
     "execution_count": 14,
     "metadata": {},
     "output_type": "execute_result"
    }
   ],
   "source": [
    "from sklearn.feature_selection import RFECV\n",
    "from sklearn.model_selection import StratifiedKFold\n",
    "from sklearn.svm import SVC\n",
    "\n",
    "svc = SVC(kernel=\"linear\")\n",
    "min_features_to_select = 1 # 최소로 선택할 특성변수 개수\n",
    "rfecv = RFECV(estimator=svc, step=1, \n",
    "              cv=StratifiedKFold(3),\n",
    "              scoring='accuracy',\n",
    "              min_features_to_select=min_features_to_select)\n",
    "\n",
    "rfecv.fit(X, y)"
   ]
  },
  {
   "cell_type": "code",
   "execution_count": 15,
   "metadata": {},
   "outputs": [
    {
     "name": "stdout",
     "output_type": "stream",
     "text": [
      "최적 특성변수는 총 28481개 중에서 5개\n",
      "특성변수의 순위는 : \n"
     ]
    },
    {
     "data": {
      "text/plain": [
       "array([ 1,  5,  9, 11, 20, 24, 18,  7,  1,  1, 17,  8,  3,  1, 10,  2,  1,\n",
       "        4,  6, 16, 13, 19, 21, 23, 14, 22, 15, 12])"
      ]
     },
     "execution_count": 15,
     "metadata": {},
     "output_type": "execute_result"
    },
    {
     "data": {
      "text/plain": [
       "array([ True, False, False, False, False, False, False, False,  True,\n",
       "        True, False, False, False,  True, False, False,  True, False,\n",
       "       False, False, False, False, False, False, False, False, False,\n",
       "       False])"
      ]
     },
     "execution_count": 15,
     "metadata": {},
     "output_type": "execute_result"
    },
    {
     "data": {
      "text/plain": [
       "Index(['V1', 'V9', 'V10', 'V14', 'V17'], dtype='object')"
      ]
     },
     "execution_count": 15,
     "metadata": {},
     "output_type": "execute_result"
    }
   ],
   "source": [
    "print(f'최적 특성변수는 총 {len(X)}개 중에서 {rfecv.n_features_}개')\n",
    "print('특성변수의 순위는 : ')\n",
    "rfecv.ranking_\n",
    "rfecv.get_support()\n",
    "X.loc[:, rfecv.get_support()].columns"
   ]
  },
  {
   "cell_type": "code",
   "execution_count": 16,
   "metadata": {},
   "outputs": [
    {
     "data": {
      "text/plain": [
       "[<matplotlib.lines.Line2D at 0x17100309cd0>]"
      ]
     },
     "execution_count": 16,
     "metadata": {},
     "output_type": "execute_result"
    },
    {
     "data": {
      "text/plain": [
       "Text(0.5, 0, '선택된 특성변수의 개수')"
      ]
     },
     "execution_count": 16,
     "metadata": {},
     "output_type": "execute_result"
    },
    {
     "data": {
      "text/plain": [
       "Text(0, 0.5, '교차검증 평균정확도(Accuracy)')"
      ]
     },
     "execution_count": 16,
     "metadata": {},
     "output_type": "execute_result"
    },
    {
     "data": {
      "image/png": "[encoded data removed]",
      "text/plain": [
       "<Figure size 432x288 with 1 Axes>"
      ]
     },
     "metadata": {},
     "output_type": "display_data"
    }
   ],
   "source": [
    "# Plot number of features VS. cross-validation scores\n",
    "plt.plot(range(min_features_to_select, \n",
    "               len(rfecv.grid_scores_) + min_features_to_select),\n",
    "         rfecv.grid_scores_)\n",
    "plt.xlabel('선택된 특성변수의 개수')\n",
    "plt.ylabel('교차검증 평균정확도(Accuracy)')"
   ]
  },
  {
   "cell_type": "code",
   "execution_count": 17,
   "metadata": {},
   "outputs": [
    {
     "name": "stdout",
     "output_type": "stream",
     "text": [
      "              precision    recall  f1-score   support\n",
      "\n",
      "         0.0       1.00      1.00      1.00     28431\n",
      "         1.0       0.95      0.78      0.86        50\n",
      "\n",
      "    accuracy                           1.00     28481\n",
      "   macro avg       0.98      0.89      0.93     28481\n",
      "weighted avg       1.00      1.00      1.00     28481\n",
      "\n"
     ]
    }
   ],
   "source": [
    "from sklearn.pipeline import Pipeline\n",
    "from sklearn.metrics import classification_report\n",
    "clf = Pipeline([('feature_selection', rfecv), \n",
    "                ('classification', svc)\n",
    "               ])\n",
    "y_pred = clf.fit(X, y).predict(X)\n",
    "print(classification_report(y, y_pred))"
   ]
  },
  {
   "cell_type": "markdown",
   "metadata": {},
   "source": [
    "## 특성추출 및 선택\n",
    "## 1. Filtering Methods\n",
    "- Filter methods uses univariate statistics to evaluate whether there is a statistically significant relationship from each input feature to the target feature (target variable/dependent variable) — what we are attempting to predict.\n",
    "- Advantages\n",
    "         * Robust against overfitting (introduces bias)\n",
    "         * Much faster than wrapper methods\n",
    "- Disadvantages\n",
    "         * Does not consider interactions between other features\n",
    "         * Does not consider the model being employed\n",
    "\n",
    "<img src='https://miro.medium.com/max/500/0*fjJfgmQHgcT3NOc2'>"
   ]
  },
  {
   "cell_type": "markdown",
   "metadata": {},
   "source": [
    "## Feature selection\n",
    "### 가. Removing features with low variance"
   ]
  },
  {
   "cell_type": "code",
   "execution_count": 18,
   "metadata": {},
   "outputs": [
    {
     "data": {
      "text/plain": [
       "VarianceThreshold(threshold=0.7)"
      ]
     },
     "execution_count": 18,
     "metadata": {},
     "output_type": "execute_result"
    },
    {
     "data": {
      "text/plain": [
       "array([ True,  True,  True,  True,  True,  True,  True,  True,  True,\n",
       "        True,  True,  True,  True,  True,  True,  True, False, False,\n",
       "       False, False, False, False, False, False, False, False, False,\n",
       "       False])"
      ]
     },
     "execution_count": 18,
     "metadata": {},
     "output_type": "execute_result"
    },
    {
     "data": {
      "text/plain": [
       "Index(['V1', 'V2', 'V3', 'V4', 'V5', 'V6', 'V7', 'V8', 'V9', 'V10', 'V11',\n",
       "       'V12', 'V13', 'V14', 'V15', 'V16'],\n",
       "      dtype='object')"
      ]
     },
     "execution_count": 18,
     "metadata": {},
     "output_type": "execute_result"
    }
   ],
   "source": [
    "from sklearn.feature_selection import VarianceThreshold\n",
    "sel = VarianceThreshold(threshold = 0.7)\n",
    "sel.fit(X)\n",
    "sel.get_support()\n",
    "X.loc[:, sel.get_support()].columns"
   ]
  },
  {
   "cell_type": "code",
   "execution_count": 19,
   "metadata": {
    "scrolled": false
   },
   "outputs": [
    {
     "data": {
      "text/html": [
       "<div>\n",
       "<style scoped>\n",
       "    .dataframe tbody tr th:only-of-type {\n",
       "        vertical-align: middle;\n",
       "    }\n",
       "\n",
       "    .dataframe tbody tr th {\n",
       "        vertical-align: top;\n",
       "    }\n",
       "\n",
       "    .dataframe thead th {\n",
       "        text-align: right;\n",
       "    }\n",
       "</style>\n",
       "<table border=\"1\" class=\"dataframe\">\n",
       "  <thead>\n",
       "    <tr style=\"text-align: right;\">\n",
       "      <th></th>\n",
       "      <th>V1</th>\n",
       "      <th>V2</th>\n",
       "      <th>V3</th>\n",
       "      <th>V4</th>\n",
       "      <th>V5</th>\n",
       "      <th>V6</th>\n",
       "      <th>V7</th>\n",
       "      <th>V8</th>\n",
       "      <th>V9</th>\n",
       "      <th>V10</th>\n",
       "      <th>V11</th>\n",
       "      <th>V12</th>\n",
       "      <th>V13</th>\n",
       "      <th>V14</th>\n",
       "      <th>V15</th>\n",
       "      <th>V16</th>\n",
       "    </tr>\n",
       "  </thead>\n",
       "  <tbody>\n",
       "    <tr>\n",
       "      <th>0</th>\n",
       "      <td>1.600514</td>\n",
       "      <td>-0.853244</td>\n",
       "      <td>-0.993279</td>\n",
       "      <td>1.032345</td>\n",
       "      <td>0.029043</td>\n",
       "      <td>0.846244</td>\n",
       "      <td>-0.366227</td>\n",
       "      <td>0.177129</td>\n",
       "      <td>0.649900</td>\n",
       "      <td>0.286487</td>\n",
       "      <td>-0.128397</td>\n",
       "      <td>0.669756</td>\n",
       "      <td>0.469240</td>\n",
       "      <td>0.129446</td>\n",
       "      <td>0.198561</td>\n",
       "      <td>1.000447</td>\n",
       "    </tr>\n",
       "    <tr>\n",
       "      <th>1</th>\n",
       "      <td>-1.501197</td>\n",
       "      <td>0.482647</td>\n",
       "      <td>1.939166</td>\n",
       "      <td>0.881938</td>\n",
       "      <td>-0.201387</td>\n",
       "      <td>0.470977</td>\n",
       "      <td>-0.508311</td>\n",
       "      <td>0.886026</td>\n",
       "      <td>-0.313747</td>\n",
       "      <td>-0.405070</td>\n",
       "      <td>0.237952</td>\n",
       "      <td>0.474609</td>\n",
       "      <td>-0.128297</td>\n",
       "      <td>0.304285</td>\n",
       "      <td>0.429261</td>\n",
       "      <td>0.454783</td>\n",
       "    </tr>\n",
       "    <tr>\n",
       "      <th>2</th>\n",
       "      <td>-0.414060</td>\n",
       "      <td>0.978915</td>\n",
       "      <td>-0.873859</td>\n",
       "      <td>4.983313</td>\n",
       "      <td>0.532468</td>\n",
       "      <td>1.341700</td>\n",
       "      <td>3.390867</td>\n",
       "      <td>-1.495876</td>\n",
       "      <td>-1.271300</td>\n",
       "      <td>1.433660</td>\n",
       "      <td>0.309489</td>\n",
       "      <td>-1.115917</td>\n",
       "      <td>1.077233</td>\n",
       "      <td>-4.045450</td>\n",
       "      <td>0.649536</td>\n",
       "      <td>0.506890</td>\n",
       "    </tr>\n",
       "    <tr>\n",
       "      <th>3</th>\n",
       "      <td>-1.944804</td>\n",
       "      <td>1.358311</td>\n",
       "      <td>1.260984</td>\n",
       "      <td>-0.088213</td>\n",
       "      <td>-2.282017</td>\n",
       "      <td>0.903853</td>\n",
       "      <td>0.489231</td>\n",
       "      <td>0.169532</td>\n",
       "      <td>0.758750</td>\n",
       "      <td>0.248219</td>\n",
       "      <td>-0.408857</td>\n",
       "      <td>-0.208690</td>\n",
       "      <td>-0.056050</td>\n",
       "      <td>-0.386241</td>\n",
       "      <td>1.781237</td>\n",
       "      <td>0.578382</td>\n",
       "    </tr>\n",
       "    <tr>\n",
       "      <th>4</th>\n",
       "      <td>-1.960527</td>\n",
       "      <td>1.185463</td>\n",
       "      <td>-0.284360</td>\n",
       "      <td>-2.387371</td>\n",
       "      <td>-0.877436</td>\n",
       "      <td>-0.579237</td>\n",
       "      <td>-0.530803</td>\n",
       "      <td>0.987875</td>\n",
       "      <td>-0.832956</td>\n",
       "      <td>0.170230</td>\n",
       "      <td>-1.323685</td>\n",
       "      <td>-0.071426</td>\n",
       "      <td>1.030957</td>\n",
       "      <td>-0.128074</td>\n",
       "      <td>-0.778312</td>\n",
       "      <td>1.439932</td>\n",
       "    </tr>\n",
       "    <tr>\n",
       "      <th>...</th>\n",
       "      <td>...</td>\n",
       "      <td>...</td>\n",
       "      <td>...</td>\n",
       "      <td>...</td>\n",
       "      <td>...</td>\n",
       "      <td>...</td>\n",
       "      <td>...</td>\n",
       "      <td>...</td>\n",
       "      <td>...</td>\n",
       "      <td>...</td>\n",
       "      <td>...</td>\n",
       "      <td>...</td>\n",
       "      <td>...</td>\n",
       "      <td>...</td>\n",
       "      <td>...</td>\n",
       "      <td>...</td>\n",
       "    </tr>\n",
       "    <tr>\n",
       "      <th>28476</th>\n",
       "      <td>-1.878620</td>\n",
       "      <td>0.917236</td>\n",
       "      <td>0.442278</td>\n",
       "      <td>-1.128513</td>\n",
       "      <td>-0.563680</td>\n",
       "      <td>-1.346478</td>\n",
       "      <td>-0.223243</td>\n",
       "      <td>0.847915</td>\n",
       "      <td>-0.299178</td>\n",
       "      <td>-0.448069</td>\n",
       "      <td>1.116031</td>\n",
       "      <td>0.900186</td>\n",
       "      <td>-0.307402</td>\n",
       "      <td>0.802057</td>\n",
       "      <td>-0.305914</td>\n",
       "      <td>0.889828</td>\n",
       "    </tr>\n",
       "    <tr>\n",
       "      <th>28477</th>\n",
       "      <td>-1.117292</td>\n",
       "      <td>0.045965</td>\n",
       "      <td>1.053005</td>\n",
       "      <td>0.027576</td>\n",
       "      <td>-0.884504</td>\n",
       "      <td>0.009229</td>\n",
       "      <td>-0.172258</td>\n",
       "      <td>0.549695</td>\n",
       "      <td>0.947768</td>\n",
       "      <td>-0.753968</td>\n",
       "      <td>-1.541130</td>\n",
       "      <td>0.667923</td>\n",
       "      <td>0.377953</td>\n",
       "      <td>-0.576787</td>\n",
       "      <td>-1.063107</td>\n",
       "      <td>-0.213015</td>\n",
       "    </tr>\n",
       "    <tr>\n",
       "      <th>28478</th>\n",
       "      <td>2.067052</td>\n",
       "      <td>0.010130</td>\n",
       "      <td>-1.909441</td>\n",
       "      <td>0.198803</td>\n",
       "      <td>0.602713</td>\n",
       "      <td>-0.307927</td>\n",
       "      <td>-0.010848</td>\n",
       "      <td>0.010430</td>\n",
       "      <td>0.450517</td>\n",
       "      <td>-0.172722</td>\n",
       "      <td>0.491250</td>\n",
       "      <td>0.032901</td>\n",
       "      <td>-1.143378</td>\n",
       "      <td>-0.436734</td>\n",
       "      <td>-0.327386</td>\n",
       "      <td>0.710764</td>\n",
       "    </tr>\n",
       "    <tr>\n",
       "      <th>28479</th>\n",
       "      <td>1.616376</td>\n",
       "      <td>-1.323049</td>\n",
       "      <td>-1.000158</td>\n",
       "      <td>0.357426</td>\n",
       "      <td>0.154551</td>\n",
       "      <td>2.143537</td>\n",
       "      <td>-0.812841</td>\n",
       "      <td>0.566534</td>\n",
       "      <td>-0.387038</td>\n",
       "      <td>0.854878</td>\n",
       "      <td>0.435755</td>\n",
       "      <td>0.955485</td>\n",
       "      <td>0.326811</td>\n",
       "      <td>0.050291</td>\n",
       "      <td>-0.247875</td>\n",
       "      <td>-1.934333</td>\n",
       "    </tr>\n",
       "    <tr>\n",
       "      <th>28480</th>\n",
       "      <td>-0.655223</td>\n",
       "      <td>0.902590</td>\n",
       "      <td>-0.688319</td>\n",
       "      <td>-0.638851</td>\n",
       "      <td>0.538767</td>\n",
       "      <td>-0.876147</td>\n",
       "      <td>0.546777</td>\n",
       "      <td>0.404765</td>\n",
       "      <td>0.404133</td>\n",
       "      <td>-1.634242</td>\n",
       "      <td>-1.663723</td>\n",
       "      <td>-0.757364</td>\n",
       "      <td>-1.230161</td>\n",
       "      <td>-1.099546</td>\n",
       "      <td>-0.361830</td>\n",
       "      <td>0.416674</td>\n",
       "    </tr>\n",
       "  </tbody>\n",
       "</table>\n",
       "<p>28481 rows × 16 columns</p>\n",
       "</div>"
      ],
      "text/plain": [
       "             V1        V2        V3        V4        V5        V6        V7  \\\n",
       "0      1.600514 -0.853244 -0.993279  1.032345  0.029043  0.846244 -0.366227   \n",
       "1     -1.501197  0.482647  1.939166  0.881938 -0.201387  0.470977 -0.508311   \n",
       "2     -0.414060  0.978915 -0.873859  4.983313  0.532468  1.341700  3.390867   \n",
       "3     -1.944804  1.358311  1.260984 -0.088213 -2.282017  0.903853  0.489231   \n",
       "4     -1.960527  1.185463 -0.284360 -2.387371 -0.877436 -0.579237 -0.530803   \n",
       "...         ...       ...       ...       ...       ...       ...       ...   \n",
       "28476 -1.878620  0.917236  0.442278 -1.128513 -0.563680 -1.346478 -0.223243   \n",
       "28477 -1.117292  0.045965  1.053005  0.027576 -0.884504  0.009229 -0.172258   \n",
       "28478  2.067052  0.010130 -1.909441  0.198803  0.602713 -0.307927 -0.010848   \n",
       "28479  1.616376 -1.323049 -1.000158  0.357426  0.154551  2.143537 -0.812841   \n",
       "28480 -0.655223  0.902590 -0.688319 -0.638851  0.538767 -0.876147  0.546777   \n",
       "\n",
       "             V8        V9       V10       V11       V12       V13       V14  \\\n",
       "0      0.177129  0.649900  0.286487 -0.128397  0.669756  0.469240  0.129446   \n",
       "1      0.886026 -0.313747 -0.405070  0.237952  0.474609 -0.128297  0.304285   \n",
       "2     -1.495876 -1.271300  1.433660  0.309489 -1.115917  1.077233 -4.045450   \n",
       "3      0.169532  0.758750  0.248219 -0.408857 -0.208690 -0.056050 -0.386241   \n",
       "4      0.987875 -0.832956  0.170230 -1.323685 -0.071426  1.030957 -0.128074   \n",
       "...         ...       ...       ...       ...       ...       ...       ...   \n",
       "28476  0.847915 -0.299178 -0.448069  1.116031  0.900186 -0.307402  0.802057   \n",
       "28477  0.549695  0.947768 -0.753968 -1.541130  0.667923  0.377953 -0.576787   \n",
       "28478  0.010430  0.450517 -0.172722  0.491250  0.032901 -1.143378 -0.436734   \n",
       "28479  0.566534 -0.387038  0.854878  0.435755  0.955485  0.326811  0.050291   \n",
       "28480  0.404765  0.404133 -1.634242 -1.663723 -0.757364 -1.230161 -1.099546   \n",
       "\n",
       "            V15       V16  \n",
       "0      0.198561  1.000447  \n",
       "1      0.429261  0.454783  \n",
       "2      0.649536  0.506890  \n",
       "3      1.781237  0.578382  \n",
       "4     -0.778312  1.439932  \n",
       "...         ...       ...  \n",
       "28476 -0.305914  0.889828  \n",
       "28477 -1.063107 -0.213015  \n",
       "28478 -0.327386  0.710764  \n",
       "28479 -0.247875 -1.934333  \n",
       "28480 -0.361830  0.416674  \n",
       "\n",
       "[28481 rows x 16 columns]"
      ]
     },
     "execution_count": 19,
     "metadata": {},
     "output_type": "execute_result"
    }
   ],
   "source": [
    "pd.DataFrame(sel.fit_transform(X), columns = X.loc[:, sel.get_support()].columns)"
   ]
  },
  {
   "cell_type": "markdown",
   "metadata": {},
   "source": [
    "### 나. 상관계수 (Pearson correlation)"
   ]
  },
  {
   "cell_type": "code",
   "execution_count": 20,
   "metadata": {},
   "outputs": [],
   "source": [
    "feature_name = X.columns\n",
    "best_features = 15"
   ]
  },
  {
   "cell_type": "code",
   "execution_count": 21,
   "metadata": {},
   "outputs": [
    {
     "data": {
      "text/plain": [
       "'V6/V5/V2/V1/V9/V18/V4/V11/V7/V3/V16/V10/V12/V14/V17'"
      ]
     },
     "execution_count": 21,
     "metadata": {},
     "output_type": "execute_result"
    }
   ],
   "source": [
    "def corr_selector(X, y):\n",
    "    cor_list = []\n",
    "    for i in X.columns:\n",
    "        cor = np.corrcoef(X[i], y)[0, 1]\n",
    "        cor_list.append(cor)\n",
    "    cor_feat = X.iloc[:, np.argsort(np.abs(cor_list))[best_features*-1:]].columns.tolist()\n",
    "    cor_support = [True if i in cor_feat else False for i in feature_name]\n",
    "    return cor_feat, cor_support\n",
    "corr_feature, corr_support = corr_selector(X, y)\n",
    "'/'.join(corr_feature)"
   ]
  },
  {
   "cell_type": "markdown",
   "metadata": {},
   "source": [
    "### 다. 카이제곱"
   ]
  },
  {
   "cell_type": "code",
   "execution_count": 22,
   "metadata": {},
   "outputs": [
    {
     "data": {
      "text/plain": [
       "'V1,V3,V4,V5,V6,V7,V9,V10,V11,V12,V14,V16,V17,V18,V19'"
      ]
     },
     "execution_count": 22,
     "metadata": {},
     "output_type": "execute_result"
    }
   ],
   "source": [
    "from sklearn.feature_selection import SelectKBest\n",
    "from sklearn.feature_selection import chi2\n",
    "from sklearn.preprocessing import MinMaxScaler\n",
    "def Chi_selector(X, y):\n",
    "    chi_selector = SelectKBest(chi2, k=best_features)\n",
    "    X_norm = MinMaxScaler().fit_transform(X)\n",
    "    chi_selector.fit(X_norm, y)\n",
    "    chi_support = chi_selector.get_support()\n",
    "    chi_feature = X.loc[:, chi_support].columns.tolist()\n",
    "    return chi_feature, chi_support\n",
    "chi_feature, chi_support = Chi_selector(X, y)\n",
    "','.join(chi_feature)"
   ]
  },
  {
   "cell_type": "markdown",
   "metadata": {},
   "source": [
    "## 2. Wrapper Methods\n",
    "- Wikipedia describes Wrapper methods as using a “predictive model to score feature subsets. Each new subset is used to train a model, which is tested on a hold-out set. Counting the number of mistakes made on that hold-out set (the error rate of the model) gives the score for that subset.”\n",
    "— Wrapper Methods Wikipedia. The algorithms employed by wrapper methods are referred to as greedy because the attempt to find the optimal combination of features that results in the best performing model.\n",
    "- “Wrapper feature selection methods create many models with various different subsets of the input features and select those features that result in the best performing model according to some performance metric.” — Jason Brownlee\n",
    "\n",
    "- Advantages\n",
    "               * Able to detect the interactions that takes place between features\n",
    "               * Often results in better predictive accuracy than filter methods\n",
    "               * Finds the optimal feature subset\n",
    "- Disadvantages\n",
    "               * Computationally expensive\n",
    "               * Prone to overfitting\n",
    "<img src='https://miro.medium.com/max/700/0*bbF5HeycNCV0qNmg'>"
   ]
  },
  {
   "cell_type": "markdown",
   "metadata": {},
   "source": [
    "### 라. RFE(recursive feature elimination)"
   ]
  },
  {
   "cell_type": "code",
   "execution_count": 23,
   "metadata": {},
   "outputs": [
    {
     "data": {
      "text/plain": [
       "'V2,V3,V4,V5,V6,V7,V8,V9,V10,V11,V12,V13,V14,V16,V28'"
      ]
     },
     "execution_count": 23,
     "metadata": {},
     "output_type": "execute_result"
    }
   ],
   "source": [
    "from sklearn.feature_selection import RFE\n",
    "from sklearn.linear_model import LogisticRegression\n",
    "def Wrapper_RFE(X, y):\n",
    "    lasso_selector = RFE(estimator=LogisticRegression(solver='saga', penalty='l1'), \n",
    "                        n_features_to_select=best_features, step=20)\n",
    "    X_norm = MinMaxScaler().fit_transform(X)\n",
    "    lasso_selector.fit(X_norm, y)\n",
    "    lasso_support = lasso_selector.get_support()\n",
    "    lasso_feature = X.loc[:,lasso_support].columns.tolist()\n",
    "    return lasso_support, lasso_feature\n",
    "lasso_support, lasso_feature = Wrapper_RFE(X, y)\n",
    "','.join(lasso_feature)"
   ]
  },
  {
   "cell_type": "markdown",
   "metadata": {},
   "source": [
    "### Embedded Methods \n",
    "- are similar to Wrapper methods because this method also optimizes an objective function of a predictive model, but what separates the two methods is that in embedded methods, there is an intrinsic metric used during learning to build the model. Therefore, Embedded methods requires a supervised learning model which in turn will intrinsically determine the importance of each feature for predicting the target feature.\n",
    "<img src='https://media.istockphoto.com/photos/closeup-electric-green-embedded-microcircuits-in-production-picture-id1320351813?b=1&k=20&m=1320351813&s=170667a&w=0&h=ofwLbm30fBrfpZFyDPJvkTP7n15oi6FawrJ2zQllmis='>"
   ]
  },
  {
   "cell_type": "markdown",
   "metadata": {},
   "source": [
    "### 마. SelectFromModel"
   ]
  },
  {
   "cell_type": "code",
   "execution_count": 24,
   "metadata": {},
   "outputs": [
    {
     "data": {
      "text/plain": [
       "'V1/V2/V3/V4/V7/V9/V10/V11/V12/V14/V16/V17/V18/V20'"
      ]
     },
     "execution_count": 24,
     "metadata": {},
     "output_type": "execute_result"
    }
   ],
   "source": [
    "from sklearn.feature_selection import SelectFromModel\n",
    "from sklearn.ensemble import RandomForestClassifier\n",
    "def random_forest(X, y):\n",
    "    embeded_rf_selector = SelectFromModel(RandomForestClassifier(), \n",
    "                                          threshold='median')\n",
    "    embeded_rf_selector.fit(X, y)    \n",
    "    embeded_rf_support = embeded_rf_selector.get_support()\n",
    "    embeded_rf_feature = X.loc[:,embeded_rf_support].columns.tolist()\n",
    "    return embeded_rf_support, embeded_rf_feature\n",
    "\n",
    "embeded_rf_support, embeded_rf_feature = random_forest(X, y)\n",
    "'/'.join(embeded_rf_feature)"
   ]
  },
  {
   "cell_type": "markdown",
   "metadata": {},
   "source": [
    "### Lassso\n",
    "LASSO (Least Absolute Shrinkage and Selection Operator) is a good example of an embedded method. Wikipedia describes LASSO as “a regression analysis method that performs both variable selection and regularization in order to enhance the prediction accuracy and interpretability of the statistical model it produces.” Going into depth about how LASSO works is beyond the scope of this article but a good article to get to grips with the algorithm can be found on Analytics Vidhya blog by Aarshay Jain,  titled A Complete Tutorial on Ridge and Lasso Regression in Python."
   ]
  },
  {
   "cell_type": "code",
   "execution_count": 28,
   "metadata": {},
   "outputs": [
    {
     "data": {
      "text/plain": [
       "Lasso(alpha=0.01)"
      ]
     },
     "execution_count": 28,
     "metadata": {},
     "output_type": "execute_result"
    },
    {
     "data": {
      "text/plain": [
       "['V3', 'V10', 'V12', 'V14', 'V17']"
      ]
     },
     "execution_count": 28,
     "metadata": {},
     "output_type": "execute_result"
    }
   ],
   "source": [
    "# train model\n",
    "from sklearn import linear_model\n",
    "lasso = linear_model.Lasso(alpha=0.01)\n",
    "lasso.fit(X, y)\n",
    "# perform feature selection\n",
    "kept_cols = [feature for feature, weight in zip(X.columns.values, lasso.coef_) if weight != 0]\n",
    "kept_cols"
   ]
  },
  {
   "cell_type": "markdown",
   "metadata": {},
   "source": [
    "https://towardsdatascience.com/getting-started-with-feature-selection-3ecfb4957fd4"
   ]
  },
  {
   "cell_type": "code",
   "execution_count": 29,
   "metadata": {},
   "outputs": [
    {
     "ename": "NameError",
     "evalue": "name 'go' is not defined",
     "output_type": "error",
     "traceback": [
      "\u001b[1;31m---------------------------------------------------------------------------\u001b[0m",
      "\u001b[1;31mNameError\u001b[0m                                 Traceback (most recent call last)",
      "\u001b[1;32m<ipython-input-29-7f0b2849abbf>\u001b[0m in \u001b[0;36m<module>\u001b[1;34m\u001b[0m\n\u001b[1;32m----> 1\u001b[1;33m figt = go.Figure(\n\u001b[0m\u001b[0;32m      2\u001b[0m          go.Waterfall(name= \"Lasso Coefficients\",\n\u001b[0;32m      3\u001b[0m                       \u001b[0morientation\u001b[0m\u001b[1;33m=\u001b[0m \u001b[1;34m\"h\"\u001b[0m\u001b[1;33m,\u001b[0m\u001b[1;33m\u001b[0m\u001b[1;33m\u001b[0m\u001b[0m\n\u001b[0;32m      4\u001b[0m                       \u001b[0my\u001b[0m \u001b[1;33m=\u001b[0m \u001b[0mX\u001b[0m\u001b[1;33m.\u001b[0m\u001b[0mcolumns\u001b[0m\u001b[1;33m.\u001b[0m\u001b[0mvalues\u001b[0m\u001b[1;33m,\u001b[0m\u001b[1;33m\u001b[0m\u001b[1;33m\u001b[0m\u001b[0m\n\u001b[0;32m      5\u001b[0m                       x = lasso.coef_))\n",
      "\u001b[1;31mNameError\u001b[0m: name 'go' is not defined"
     ]
    }
   ],
   "source": [
    "figt = go.Figure(\n",
    "         go.Waterfall(name= \"Lasso Coefficients\",\n",
    "                      orientation= \"h\",\n",
    "                      y = X.columns.values,\n",
    "                      x = lasso.coef_))\n",
    "fig.update_layout(title = \"Coefficients of Lasso Regression Model\")\n",
    "fig.show()"
   ]
  },
  {
   "cell_type": "code",
   "execution_count": null,
   "metadata": {},
   "outputs": [],
   "source": []
  },
  {
   "cell_type": "markdown",
   "metadata": {},
   "source": [
    "### 종합 평점"
   ]
  },
  {
   "cell_type": "code",
   "execution_count": 54,
   "metadata": {},
   "outputs": [
    {
     "data": {
      "text/plain": [
       "<matplotlib.image.AxesImage at 0x2e0c0754880>"
      ]
     },
     "execution_count": 54,
     "metadata": {},
     "output_type": "execute_result"
    },
    {
     "data": {
      "text/plain": [
       "Text(0.5, 1.0, 'Variance_Feature seletion method')"
      ]
     },
     "execution_count": 54,
     "metadata": {},
     "output_type": "execute_result"
    },
    {
     "data": {
      "text/plain": [
       "([], [])"
      ]
     },
     "execution_count": 54,
     "metadata": {},
     "output_type": "execute_result"
    },
    {
     "data": {
      "text/plain": [
       "<matplotlib.image.AxesImage at 0x2e0c0791640>"
      ]
     },
     "execution_count": 54,
     "metadata": {},
     "output_type": "execute_result"
    },
    {
     "data": {
      "text/plain": [
       "Text(0.5, 1.0, 'Pearson_Feature seletion method')"
      ]
     },
     "execution_count": 54,
     "metadata": {},
     "output_type": "execute_result"
    },
    {
     "data": {
      "text/plain": [
       "([], [])"
      ]
     },
     "execution_count": 54,
     "metadata": {},
     "output_type": "execute_result"
    },
    {
     "data": {
      "text/plain": [
       "<matplotlib.image.AxesImage at 0x2e0c07c8760>"
      ]
     },
     "execution_count": 54,
     "metadata": {},
     "output_type": "execute_result"
    },
    {
     "data": {
      "text/plain": [
       "Text(0.5, 1.0, 'Chi-2_Feature seletion method')"
      ]
     },
     "execution_count": 54,
     "metadata": {},
     "output_type": "execute_result"
    },
    {
     "data": {
      "text/plain": [
       "([], [])"
      ]
     },
     "execution_count": 54,
     "metadata": {},
     "output_type": "execute_result"
    },
    {
     "data": {
      "text/plain": [
       "<matplotlib.image.AxesImage at 0x2e0c07ff670>"
      ]
     },
     "execution_count": 54,
     "metadata": {},
     "output_type": "execute_result"
    },
    {
     "data": {
      "text/plain": [
       "Text(0.5, 1.0, 'RFE_Feature seletion method')"
      ]
     },
     "execution_count": 54,
     "metadata": {},
     "output_type": "execute_result"
    },
    {
     "data": {
      "text/plain": [
       "([], [])"
      ]
     },
     "execution_count": 54,
     "metadata": {},
     "output_type": "execute_result"
    },
    {
     "data": {
      "text/plain": [
       "<matplotlib.image.AxesImage at 0x2e0c083b6a0>"
      ]
     },
     "execution_count": 54,
     "metadata": {},
     "output_type": "execute_result"
    },
    {
     "data": {
      "text/plain": [
       "Text(0.5, 1.0, 'RF_Feature seletion method')"
      ]
     },
     "execution_count": 54,
     "metadata": {},
     "output_type": "execute_result"
    },
    {
     "data": {
      "text/plain": [
       "([], [])"
      ]
     },
     "execution_count": 54,
     "metadata": {},
     "output_type": "execute_result"
    },
    {
     "data": {
      "text/plain": [
       "<matplotlib.image.AxesImage at 0x2e0c08716a0>"
      ]
     },
     "execution_count": 54,
     "metadata": {},
     "output_type": "execute_result"
    },
    {
     "data": {
      "text/plain": [
       "Text(0.5, 1.0, 'RFECV_Feature seletion method')"
      ]
     },
     "execution_count": 54,
     "metadata": {},
     "output_type": "execute_result"
    },
    {
     "data": {
      "text/plain": [
       "([], [])"
      ]
     },
     "execution_count": 54,
     "metadata": {},
     "output_type": "execute_result"
    },
    {
     "data": {
      "image/png": "[encoded data removed]",
      "text/plain": [
       "<Figure size 1152x144 with 1 Axes>"
      ]
     },
     "metadata": {},
     "output_type": "display_data"
    },
    {
     "data": {
      "image/png": "[encoded data removed]",
      "text/plain": [
       "<Figure size 1152x144 with 1 Axes>"
      ]
     },
     "metadata": {},
     "output_type": "display_data"
    },
    {
     "data": {
      "image/png": "[encoded data removed]",
      "text/plain": [
       "<Figure size 1152x144 with 1 Axes>"
      ]
     },
     "metadata": {},
     "output_type": "display_data"
    },
    {
     "data": {
      "image/png": "[encoded data removed]",
      "text/plain": [
       "<Figure size 1152x144 with 1 Axes>"
      ]
     },
     "metadata": {},
     "output_type": "display_data"
    },
    {
     "data": {
      "image/png": "[encoded data removed]",
      "text/plain": [
       "<Figure size 1152x144 with 1 Axes>"
      ]
     },
     "metadata": {},
     "output_type": "display_data"
    },
    {
     "data": {
      "image/png": "[encoded data removed]",
      "text/plain": [
       "<Figure size 1152x144 with 1 Axes>"
      ]
     },
     "metadata": {},
     "output_type": "display_data"
    }
   ],
   "source": [
    "features = {'Variance':sel.get_support(),'Pearson':corr_support, 'Chi-2':chi_support, \n",
    "            'RFE':lasso_support, 'RF':embeded_rf_support, 'RFECV': rfecv.get_support()}\n",
    "for key, value in features.items() :\n",
    "    plt.matshow(np.array(value).reshape(1, -1), cmap='plasma')\n",
    "    plt.title(key + '_Feature seletion method', fontsize='14')\n",
    "    plt.yticks(())"
   ]
  },
  {
   "cell_type": "code",
   "execution_count": 55,
   "metadata": {},
   "outputs": [
    {
     "data": {
      "text/plain": [
       "<AxesSubplot:xlabel='변수명'>"
      ]
     },
     "execution_count": 55,
     "metadata": {},
     "output_type": "execute_result"
    },
    {
     "data": {
      "image/png": "[encoded data removed]",
      "text/plain": [
       "<Figure size 1440x432 with 1 Axes>"
      ]
     },
     "metadata": {},
     "output_type": "display_data"
    }
   ],
   "source": [
    "rank = pd.DataFrame(features)\n",
    "rank['변수명'] = feature_name\n",
    "rank['score'] = rank.sum(1)\n",
    "rank.set_index('변수명', inplace=True)\n",
    "rank.sort_values('score', ascending=False).plot(kind='bar', rot = '70', figsize = (20, 6))"
   ]
  },
  {
   "cell_type": "code",
   "execution_count": null,
   "metadata": {},
   "outputs": [],
   "source": []
  },
  {
   "cell_type": "code",
   "execution_count": 63,
   "metadata": {},
   "outputs": [
    {
     "data": {
      "text/plain": [
       "(array([ 0.5,  2.5,  4.5,  6.5,  8.5, 10.5, 12.5, 14.5]),\n",
       " [Text(0.5, 0, 'V1'),\n",
       "  Text(2.5, 0, 'V3'),\n",
       "  Text(4.5, 0, 'V5'),\n",
       "  Text(6.5, 0, 'V7'),\n",
       "  Text(8.5, 0, 'V10'),\n",
       "  Text(10.5, 0, 'V12'),\n",
       "  Text(12.5, 0, 'V16'),\n",
       "  Text(14.5, 0, 'V18')])"
      ]
     },
     "execution_count": 63,
     "metadata": {},
     "output_type": "execute_result"
    },
    {
     "data": {
      "image/png": "[encoded data removed]",
      "text/plain": [
       "<Figure size 864x576 with 2 Axes>"
      ]
     },
     "metadata": {},
     "output_type": "display_data"
    }
   ],
   "source": [
    "X = X[rank[rank['score'] >= 3].index]\n",
    "corr_matrix = X.corr(method = \"spearman\")\n",
    "fig, ax = plt.subplots(figsize=(12,8))\n",
    "ax = sns.heatmap(data = corr_matrix, annot = True, linewidths=.5, cmap='RdYlBu_r', ax=ax)\n",
    "plt.xticks(rotation=45)"
   ]
  },
  {
   "cell_type": "code",
   "execution_count": 64,
   "metadata": {},
   "outputs": [
    {
     "data": {
      "text/plain": [
       "<AxesSubplot:>"
      ]
     },
     "execution_count": 64,
     "metadata": {},
     "output_type": "execute_result"
    },
    {
     "data": {
      "text/plain": [
       "Text(0.5, 1.0, 'X와 y의 상관관계')"
      ]
     },
     "execution_count": 64,
     "metadata": {},
     "output_type": "execute_result"
    },
    {
     "data": {
      "image/png": "[encoded data removed]",
      "text/plain": [
       "<Figure size 1800x576 with 1 Axes>"
      ]
     },
     "metadata": {},
     "output_type": "display_data"
    }
   ],
   "source": [
    "X = df.drop('target', axis=1)\n",
    "y = df['target']\n",
    "(X.corrwith(y).sort_values().plot.bar(figsize = (25, 8),\n",
    "                                      fontsize = 12, rot = 45, grid = True))\n",
    "plt.title('X와 y의 상관관계', fontsize = 26)"
   ]
  },
  {
   "cell_type": "markdown",
   "metadata": {},
   "source": [
    "# VIF(variance_inflation_factor)"
   ]
  },
  {
   "cell_type": "code",
   "execution_count": 65,
   "metadata": {},
   "outputs": [],
   "source": [
    "from statsmodels.stats.outliers_influence import variance_inflation_factor\n",
    "vif = pd.DataFrame()\n",
    "vif[\"VIF Factor\"] = [variance_inflation_factor(X.values, i) for i in range(X.shape[1])]\n",
    "vif[\"features\"] = X.columns\n",
    "vif = vif.sort_values(\"VIF Factor\").reset_index(drop=True)"
   ]
  },
  {
   "cell_type": "code",
   "execution_count": 66,
   "metadata": {
    "scrolled": false
   },
   "outputs": [
    {
     "data": {
      "text/html": [
       "<div>\n",
       "<style scoped>\n",
       "    .dataframe tbody tr th:only-of-type {\n",
       "        vertical-align: middle;\n",
       "    }\n",
       "\n",
       "    .dataframe tbody tr th {\n",
       "        vertical-align: top;\n",
       "    }\n",
       "\n",
       "    .dataframe thead th {\n",
       "        text-align: right;\n",
       "    }\n",
       "</style>\n",
       "<table border=\"1\" class=\"dataframe\">\n",
       "  <thead>\n",
       "    <tr style=\"text-align: right;\">\n",
       "      <th></th>\n",
       "      <th>VIF Factor</th>\n",
       "      <th>features</th>\n",
       "    </tr>\n",
       "  </thead>\n",
       "  <tbody>\n",
       "    <tr>\n",
       "      <th>0</th>\n",
       "      <td>1.001590</td>\n",
       "      <td>V24</td>\n",
       "    </tr>\n",
       "    <tr>\n",
       "      <th>1</th>\n",
       "      <td>1.001904</td>\n",
       "      <td>V26</td>\n",
       "    </tr>\n",
       "    <tr>\n",
       "      <th>2</th>\n",
       "      <td>1.003741</td>\n",
       "      <td>V13</td>\n",
       "    </tr>\n",
       "    <tr>\n",
       "      <th>3</th>\n",
       "      <td>1.004354</td>\n",
       "      <td>V16</td>\n",
       "    </tr>\n",
       "    <tr>\n",
       "      <th>4</th>\n",
       "      <td>1.006532</td>\n",
       "      <td>V18</td>\n",
       "    </tr>\n",
       "    <tr>\n",
       "      <th>5</th>\n",
       "      <td>1.008553</td>\n",
       "      <td>V17</td>\n",
       "    </tr>\n",
       "    <tr>\n",
       "      <th>6</th>\n",
       "      <td>1.011731</td>\n",
       "      <td>V12</td>\n",
       "    </tr>\n",
       "    <tr>\n",
       "      <th>7</th>\n",
       "      <td>1.014084</td>\n",
       "      <td>V15</td>\n",
       "    </tr>\n",
       "    <tr>\n",
       "      <th>8</th>\n",
       "      <td>1.014976</td>\n",
       "      <td>V25</td>\n",
       "    </tr>\n",
       "    <tr>\n",
       "      <th>9</th>\n",
       "      <td>1.023068</td>\n",
       "      <td>V28</td>\n",
       "    </tr>\n",
       "    <tr>\n",
       "      <th>10</th>\n",
       "      <td>1.023639</td>\n",
       "      <td>V9</td>\n",
       "    </tr>\n",
       "    <tr>\n",
       "      <th>11</th>\n",
       "      <td>1.024443</td>\n",
       "      <td>V11</td>\n",
       "    </tr>\n",
       "    <tr>\n",
       "      <th>12</th>\n",
       "      <td>1.026474</td>\n",
       "      <td>V27</td>\n",
       "    </tr>\n",
       "    <tr>\n",
       "      <th>13</th>\n",
       "      <td>1.038693</td>\n",
       "      <td>V14</td>\n",
       "    </tr>\n",
       "    <tr>\n",
       "      <th>14</th>\n",
       "      <td>1.043681</td>\n",
       "      <td>V19</td>\n",
       "    </tr>\n",
       "    <tr>\n",
       "      <th>15</th>\n",
       "      <td>1.081610</td>\n",
       "      <td>V22</td>\n",
       "    </tr>\n",
       "    <tr>\n",
       "      <th>16</th>\n",
       "      <td>1.094036</td>\n",
       "      <td>V8</td>\n",
       "    </tr>\n",
       "    <tr>\n",
       "      <th>17</th>\n",
       "      <td>1.115009</td>\n",
       "      <td>V21</td>\n",
       "    </tr>\n",
       "    <tr>\n",
       "      <th>18</th>\n",
       "      <td>1.121551</td>\n",
       "      <td>V4</td>\n",
       "    </tr>\n",
       "    <tr>\n",
       "      <th>19</th>\n",
       "      <td>1.126003</td>\n",
       "      <td>V10</td>\n",
       "    </tr>\n",
       "    <tr>\n",
       "      <th>20</th>\n",
       "      <td>1.140930</td>\n",
       "      <td>V23</td>\n",
       "    </tr>\n",
       "    <tr>\n",
       "      <th>21</th>\n",
       "      <td>1.221324</td>\n",
       "      <td>V3</td>\n",
       "    </tr>\n",
       "    <tr>\n",
       "      <th>22</th>\n",
       "      <td>1.485397</td>\n",
       "      <td>V6</td>\n",
       "    </tr>\n",
       "    <tr>\n",
       "      <th>23</th>\n",
       "      <td>1.532453</td>\n",
       "      <td>V1</td>\n",
       "    </tr>\n",
       "    <tr>\n",
       "      <th>24</th>\n",
       "      <td>2.180984</td>\n",
       "      <td>V20</td>\n",
       "    </tr>\n",
       "    <tr>\n",
       "      <th>25</th>\n",
       "      <td>2.234718</td>\n",
       "      <td>V7</td>\n",
       "    </tr>\n",
       "    <tr>\n",
       "      <th>26</th>\n",
       "      <td>2.291534</td>\n",
       "      <td>Time</td>\n",
       "    </tr>\n",
       "    <tr>\n",
       "      <th>27</th>\n",
       "      <td>2.511911</td>\n",
       "      <td>V5</td>\n",
       "    </tr>\n",
       "    <tr>\n",
       "      <th>28</th>\n",
       "      <td>3.298599</td>\n",
       "      <td>V2</td>\n",
       "    </tr>\n",
       "    <tr>\n",
       "      <th>29</th>\n",
       "      <td>9.948170</td>\n",
       "      <td>Amount</td>\n",
       "    </tr>\n",
       "  </tbody>\n",
       "</table>\n",
       "</div>"
      ],
      "text/plain": [
       "    VIF Factor features\n",
       "0     1.001590      V24\n",
       "1     1.001904      V26\n",
       "2     1.003741      V13\n",
       "3     1.004354      V16\n",
       "4     1.006532      V18\n",
       "5     1.008553      V17\n",
       "6     1.011731      V12\n",
       "7     1.014084      V15\n",
       "8     1.014976      V25\n",
       "9     1.023068      V28\n",
       "10    1.023639       V9\n",
       "11    1.024443      V11\n",
       "12    1.026474      V27\n",
       "13    1.038693      V14\n",
       "14    1.043681      V19\n",
       "15    1.081610      V22\n",
       "16    1.094036       V8\n",
       "17    1.115009      V21\n",
       "18    1.121551       V4\n",
       "19    1.126003      V10\n",
       "20    1.140930      V23\n",
       "21    1.221324       V3\n",
       "22    1.485397       V6\n",
       "23    1.532453       V1\n",
       "24    2.180984      V20\n",
       "25    2.234718       V7\n",
       "26    2.291534     Time\n",
       "27    2.511911       V5\n",
       "28    3.298599       V2\n",
       "29    9.948170   Amount"
      ]
     },
     "execution_count": 66,
     "metadata": {},
     "output_type": "execute_result"
    }
   ],
   "source": [
    "vif"
   ]
  },
  {
   "cell_type": "markdown",
   "metadata": {},
   "source": [
    "# END"
   ]
  },
  {
   "cell_type": "markdown",
   "metadata": {},
   "source": [
    "## Test with permutations the significance of a classification score\n",
    "https://scikit-learn.org/stable/auto_examples/feature_selection/plot_permutation_test_for_classification.html#sphx-glr-auto-examples-feature-selection-plot-permutation-test-for-classification-py"
   ]
  },
  {
   "cell_type": "code",
   "execution_count": null,
   "metadata": {},
   "outputs": [],
   "source": [
    "from sklearn.datasets import load_iris\n",
    "\n",
    "iris = load_iris()\n",
    "X = iris.data\n",
    "y = iris.target"
   ]
  },
  {
   "cell_type": "code",
   "execution_count": null,
   "metadata": {},
   "outputs": [],
   "source": [
    "import numpy as np\n",
    "\n",
    "n_uncorrelated_features = 100\n",
    "rng = np.random.RandomState(seed=0)\n",
    "# Use same number of samples as in iris and 2200 features\n",
    "X_rand = rng.normal(size=(X.shape[0], n_uncorrelated_features))"
   ]
  },
  {
   "cell_type": "markdown",
   "metadata": {},
   "source": [
    "### Permutation test score\n",
    "permutation_test_score generates a null distribution by calculating the accuracy of the classifier on 1000 different permutations of the dataset, where features remain the same but labels undergo different permutations. This is the distribution for the null hypothesis which states there is no dependency between the features and labels. An empirical p-value is then calculated as the percentage of permutations for which the score obtained is greater that the score obtained using the original data."
   ]
  },
  {
   "cell_type": "code",
   "execution_count": null,
   "metadata": {},
   "outputs": [],
   "source": [
    "from sklearn.svm import SVC\n",
    "from sklearn.model_selection import StratifiedKFold\n",
    "from sklearn.model_selection import permutation_test_score\n",
    "\n",
    "clf = SVC(kernel='linear', random_state=7)\n",
    "cv = StratifiedKFold(2, shuffle=True, random_state=0)"
   ]
  },
  {
   "cell_type": "code",
   "execution_count": null,
   "metadata": {},
   "outputs": [],
   "source": [
    "score_iris, perm_scores_iris, pvalue_iris = permutation_test_score(clf, X, y, \n",
    "                                                                   scoring=\"accuracy\", cv=cv, n_permutations=1000)\n",
    "\n",
    "score_rand, perm_scores_rand, pvalue_rand = permutation_test_score(clf, X_rand, y, \n",
    "                                                                   scoring=\"accuracy\", cv=cv, n_permutations=1000)"
   ]
  },
  {
   "cell_type": "code",
   "execution_count": null,
   "metadata": {
    "scrolled": false
   },
   "outputs": [],
   "source": [
    "import matplotlib.pyplot as plt\n",
    "\n",
    "fig, ax = plt.subplots()\n",
    "\n",
    "ax.hist(perm_scores_iris, bins=20, density=True)\n",
    "ax.axvline(score_iris, ls='--', color='r')\n",
    "score_label = (f\"Score on original\\ndata: {score_iris:.2f}\\n\"\n",
    "               f\"(p-value: {pvalue_iris:.3f})\")\n",
    "#ax.text(0.7, 260, score_label, fontsize=12)\n",
    "ax.set_xlabel(\"Accuracy score\")\n",
    "_ = ax.set_ylabel(\"Probability\")"
   ]
  },
  {
   "cell_type": "code",
   "execution_count": null,
   "metadata": {
    "scrolled": false
   },
   "outputs": [],
   "source": [
    "fig, ax = plt.subplots()\n",
    "\n",
    "ax.hist(perm_scores_rand, bins=20, density=True)\n",
    "#ax.set_xlim(0.13)\n",
    "ax.axvline(score_rand, ls='--', color='r')\n",
    "score_label = (f\"Score on original\\ndata: {score_rand:.2f}\\n\"\n",
    "               f\"(p-value: {pvalue_rand:.3f})\")\n",
    "#ax.text(0.14, 125, score_label, fontsize=12)\n",
    "ax.set_xlabel(\"Accuracy score\")\n",
    "ax.set_ylabel(\"Probability\")\n",
    "plt.show()"
   ]
  },
  {
   "cell_type": "code",
   "execution_count": null,
   "metadata": {},
   "outputs": [],
   "source": []
  }
 ],
 "metadata": {
  "kernelspec": {
   "display_name": "Python 3",
   "language": "python",
   "name": "python3"
  },
  "language_info": {
   "codemirror_mode": {
    "name": "ipython",
    "version": 3
   },
   "file_extension": ".py",
   "mimetype": "text/x-python",
   "name": "python",
   "nbconvert_exporter": "python",
   "pygments_lexer": "ipython3",
   "version": "3.8.8"
  }
 },
 "nbformat": 4,
 "nbformat_minor": 2
}
