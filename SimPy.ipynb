{
 "cells": [
  {
   "cell_type": "markdown",
   "id": "03b74f62",
   "metadata": {},
   "source": [
    "# Simpy \n",
    "## SimPy is a process-based discrete-event simulation framework based on standard Python.\n",
    "https://simpy.readthedocs.io/en/latest/\n",
    "\n",
    "https://www.youtube.com/watch?v=0osGrraoCX0&list=PL2Wg3oyN-jmMD39JFqejZAzi06BWo_uJa(SimPy Tutorial 1: Introduction to SimPy ~ )"
   ]
  },
  {
   "cell_type": "code",
   "execution_count": 1,
   "id": "c8b5ea88",
   "metadata": {},
   "outputs": [],
   "source": [
    "def generator(n):\n",
    "    while True :\n",
    "        for j in range(n):\n",
    "            yield j"
   ]
  },
  {
   "cell_type": "code",
   "execution_count": 11,
   "id": "698a7d52",
   "metadata": {},
   "outputs": [],
   "source": [
    "def function(n):\n",
    "    for j in range(n):\n",
    "        return j"
   ]
  },
  {
   "cell_type": "code",
   "execution_count": 12,
   "id": "1c9482bf",
   "metadata": {},
   "outputs": [],
   "source": [
    "myGen = generator(3)\n",
    "myFun = function(3)"
   ]
  },
  {
   "cell_type": "code",
   "execution_count": 42,
   "id": "faca492f",
   "metadata": {},
   "outputs": [
    {
     "name": "stdout",
     "output_type": "stream",
     "text": [
      "0\n",
      "0\n",
      "0\n",
      "0\n",
      "0\n",
      "0\n",
      "0\n",
      "0\n",
      "0\n",
      "0\n"
     ]
    }
   ],
   "source": [
    "for i in range(10): \n",
    "    print(myFun)"
   ]
  },
  {
   "cell_type": "code",
   "execution_count": 40,
   "id": "f11cd950",
   "metadata": {
    "scrolled": true
   },
   "outputs": [
    {
     "name": "stdout",
     "output_type": "stream",
     "text": [
      "0\n",
      "1\n",
      "2\n",
      "0\n",
      "1\n",
      "2\n",
      "0\n",
      "1\n",
      "2\n",
      "0\n"
     ]
    }
   ],
   "source": [
    "for i in range(10): \n",
    "    print(next(myGen))"
   ]
  },
  {
   "cell_type": "markdown",
   "id": "5d670fb4",
   "metadata": {},
   "source": [
    "# SimPy Tutorial \n",
    "## 1. Introduction to SimPy\n",
    "### Environment, process"
   ]
  },
  {
   "cell_type": "code",
   "execution_count": 47,
   "id": "cebfa888",
   "metadata": {},
   "outputs": [],
   "source": [
    "env = simpy.Environment()"
   ]
  },
  {
   "cell_type": "code",
   "execution_count": 48,
   "id": "e2618b82",
   "metadata": {},
   "outputs": [],
   "source": [
    "env.now?\n",
    "env."
   ]
  },
  {
   "cell_type": "code",
   "execution_count": 44,
   "id": "2e1e0653",
   "metadata": {},
   "outputs": [
    {
     "name": "stdout",
     "output_type": "stream",
     "text": [
      "파란색 신호등 켜짐 at 0\n",
      "노란색 신호등 켜짐 at 30\n",
      "빨강색 신호등 켜짐 at 35\n",
      "파란색 신호등 켜짐 at 55\n",
      "노란색 신호등 켜짐 at 85\n",
      "빨강색 신호등 켜짐 at 90\n",
      "파란색 신호등 켜짐 at 110\n",
      "simulation complete\n"
     ]
    }
   ],
   "source": [
    "import simpy\n",
    "\n",
    "def main():\n",
    "    env = simpy.Environment()\n",
    "    env.process(traffic_light(env))\n",
    "    env.run(until=120)\n",
    "    print('simulation complete')\n",
    "    \n",
    "def traffic_light(env): # process\n",
    "    while True:\n",
    "        print(f'파란색 신호등 켜짐 at {str(env.now)}')\n",
    "        yield env.timeout(30)\n",
    "        \n",
    "        print(f'노란색 신호등 켜짐 at {str(env.now)}')\n",
    "        yield env.timeout(5)\n",
    "        \n",
    "        print(f'빨강색 신호등 켜짐 at {str(env.now)}')\n",
    "        yield env.timeout(20)\n",
    "        \n",
    "if __name__ == '__main__':\n",
    "    main()"
   ]
  },
  {
   "cell_type": "code",
   "execution_count": 46,
   "id": "131eb811",
   "metadata": {},
   "outputs": [
    {
     "name": "stdout",
     "output_type": "stream",
     "text": [
      "파란색 신호등 켜짐 at 0\n",
      "노란색 신호등 켜짐 at 30\n",
      "빨강색 신호등 켜짐 at 35\n",
      "파란색 신호등 켜짐 at 55\n",
      "노란색 신호등 켜짐 at 85\n",
      "빨강색 신호등 켜짐 at 90\n",
      "파란색 신호등 켜짐 at 110\n",
      "simulation complete\n"
     ]
    }
   ],
   "source": [
    "main()"
   ]
  },
  {
   "cell_type": "markdown",
   "id": "1c9017cc",
   "metadata": {},
   "source": [
    "## 2. Event discrete simulation with SimPy\n",
    "### Event, Resource"
   ]
  },
  {
   "cell_type": "code",
   "execution_count": 54,
   "id": "6ca67c97",
   "metadata": {},
   "outputs": [],
   "source": [
    "def generator(x):\n",
    "    y = yield x + 1\n",
    "    return y + 1\n",
    "\n",
    "g = generator(4)"
   ]
  },
  {
   "cell_type": "code",
   "execution_count": 58,
   "id": "7be5ff21",
   "metadata": {},
   "outputs": [
    {
     "ename": "StopIteration",
     "evalue": "",
     "output_type": "error",
     "traceback": [
      "\u001b[1;31m---------------------------------------------------------------------------\u001b[0m",
      "\u001b[1;31mStopIteration\u001b[0m                             Traceback (most recent call last)",
      "\u001b[1;32m<ipython-input-58-e734f8aca5ac>\u001b[0m in \u001b[0;36m<module>\u001b[1;34m\u001b[0m\n\u001b[1;32m----> 1\u001b[1;33m \u001b[0mnext\u001b[0m\u001b[1;33m(\u001b[0m\u001b[0mg\u001b[0m\u001b[1;33m)\u001b[0m\u001b[1;33m\u001b[0m\u001b[1;33m\u001b[0m\u001b[0m\n\u001b[0m",
      "\u001b[1;31mStopIteration\u001b[0m: "
     ]
    }
   ],
   "source": [
    "next(g)"
   ]
  },
  {
   "cell_type": "markdown",
   "id": "5f7bb841",
   "metadata": {},
   "source": [
    "### Environment : simulate 'as fast as possible'\n",
    "### RealtimeEnvironment : synchronized with wall-clock time\n",
    "- env.timeout() events let time pass"
   ]
  },
  {
   "cell_type": "code",
   "execution_count": 85,
   "id": "9294ccc7",
   "metadata": {},
   "outputs": [],
   "source": [
    "def clock(env, name, tick): # process\n",
    "    while True:\n",
    "        print(name, env.now)\n",
    "        yield env.timeout(tick)\n",
    "        \n",
    "env = simpy.Environment()"
   ]
  },
  {
   "cell_type": "code",
   "execution_count": 86,
   "id": "59ea89fc",
   "metadata": {},
   "outputs": [
    {
     "data": {
      "text/plain": [
       "<Process(clock) object at 0x18493b23100>"
      ]
     },
     "execution_count": 86,
     "metadata": {},
     "output_type": "execute_result"
    }
   ],
   "source": [
    "env.process(clock(env, 'fast', 0.5))\n",
    "env.process(clock(env, 'slow', 1))\n",
    "env.process(clock(env, 'very slow', 3))"
   ]
  },
  {
   "cell_type": "code",
   "execution_count": 87,
   "id": "e69ad8a9",
   "metadata": {},
   "outputs": [
    {
     "name": "stdout",
     "output_type": "stream",
     "text": [
      "fast 0\n",
      "slow 0\n",
      "very slow 0\n",
      "fast 0.5\n",
      "slow 1\n",
      "fast 1.0\n",
      "fast 1.5\n",
      "slow 2\n",
      "fast 2.0\n",
      "fast 2.5\n",
      "very slow 3\n",
      "slow 3\n",
      "fast 3.0\n",
      "fast 3.5\n",
      "slow 4\n",
      "fast 4.0\n",
      "fast 4.5\n",
      "slow 5\n",
      "fast 5.0\n",
      "fast 5.5\n",
      "very slow 6\n",
      "slow 6\n",
      "fast 6.0\n",
      "fast 6.5\n",
      "slow 7\n",
      "fast 7.0\n",
      "fast 7.5\n",
      "slow 8\n",
      "fast 8.0\n",
      "fast 8.5\n",
      "very slow 9\n",
      "slow 9\n",
      "fast 9.0\n",
      "fast 9.5\n"
     ]
    }
   ],
   "source": [
    "env.run(until=10)"
   ]
  },
  {
   "cell_type": "code",
   "execution_count": 107,
   "id": "e915ab41",
   "metadata": {},
   "outputs": [
    {
     "name": "stdout",
     "output_type": "stream",
     "text": [
      "5\n"
     ]
    }
   ],
   "source": [
    "def speaker(env, start):\n",
    "    until_start = start - env.now\n",
    "    print(until_start)\n",
    "    yield env.timeout(until_start)\n",
    "    yield env.timeout(30)\n",
    "\n",
    "env = simpy.Environment()\n",
    "env.now\n",
    "\n",
    "env.process(speaker(env, 5))\n",
    "env.run(until = 100)"
   ]
  },
  {
   "cell_type": "code",
   "execution_count": 118,
   "id": "fd6fab0c",
   "metadata": {},
   "outputs": [],
   "source": [
    "def speaker(env):\n",
    "    yield env.timeout(30)\n",
    "    return 'handout'\n",
    "\n",
    "def moderator(env):\n",
    "    for i in range(5):\n",
    "        val = yield env.process(speaker(env))\n",
    "        print(val)"
   ]
  },
  {
   "cell_type": "code",
   "execution_count": 119,
   "id": "50ec3979",
   "metadata": {},
   "outputs": [
    {
     "name": "stdout",
     "output_type": "stream",
     "text": [
      "handout\n",
      "handout\n",
      "handout\n"
     ]
    }
   ],
   "source": [
    "env = simpy.Environment()\n",
    "env.process(speaker(env))\n",
    "env.process(moderator(env))\n",
    "\n",
    "env.run(until = 100)"
   ]
  },
  {
   "cell_type": "code",
   "execution_count": null,
   "id": "d0e1df84",
   "metadata": {},
   "outputs": [],
   "source": []
  },
  {
   "cell_type": "code",
   "execution_count": null,
   "id": "7ae1ed8f",
   "metadata": {},
   "outputs": [],
   "source": [
    "impo"
   ]
  },
  {
   "cell_type": "code",
   "execution_count": 122,
   "id": "96daa5e7",
   "metadata": {},
   "outputs": [
    {
     "data": {
      "text/plain": [
       "array([186, 780, 783, 732, 452, 268, 395, 953, 414, 528])"
      ]
     },
     "execution_count": 122,
     "metadata": {},
     "output_type": "execute_result"
    }
   ],
   "source": [
    "import numpy as np\n",
    "np.random.choice(1000, 10)"
   ]
  },
  {
   "cell_type": "code",
   "execution_count": null,
   "id": "6c3be9f7",
   "metadata": {},
   "outputs": [],
   "source": []
  },
  {
   "cell_type": "code",
   "execution_count": null,
   "id": "e1503b95",
   "metadata": {},
   "outputs": [],
   "source": []
  },
  {
   "cell_type": "code",
   "execution_count": null,
   "id": "85505c13",
   "metadata": {},
   "outputs": [],
   "source": []
  },
  {
   "cell_type": "code",
   "execution_count": null,
   "id": "7bf0cdd6",
   "metadata": {},
   "outputs": [],
   "source": []
  },
  {
   "cell_type": "code",
   "execution_count": null,
   "id": "e359060e",
   "metadata": {},
   "outputs": [],
   "source": []
  }
 ],
 "metadata": {
  "kernelspec": {
   "display_name": "Python 3",
   "language": "python",
   "name": "python3"
  },
  "language_info": {
   "codemirror_mode": {
    "name": "ipython",
    "version": 3
   },
   "file_extension": ".py",
   "mimetype": "text/x-python",
   "name": "python",
   "nbconvert_exporter": "python",
   "pygments_lexer": "ipython3",
   "version": "3.8.8"
  }
 },
 "nbformat": 4,
 "nbformat_minor": 5
}
