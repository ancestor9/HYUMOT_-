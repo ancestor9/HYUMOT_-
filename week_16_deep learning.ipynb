{
 "cells": [
  {
   "cell_type": "markdown",
   "metadata": {},
   "source": [
    "# Deep Learning algorithm & model"
   ]
  },
  {
   "cell_type": "markdown",
   "metadata": {
    "id": "-jUbvAOq1rQT"
   },
   "source": [
    "# <font color='red'> A. 활성화 함수 - 비선형 함수(Nonlinear function)"
   ]
  },
  {
   "cell_type": "code",
   "execution_count": 1,
   "metadata": {
    "executionInfo": {
     "elapsed": 661,
     "status": "ok",
     "timestamp": 1610106552333,
     "user": {
      "displayName": "sanggoo cho",
      "photoUrl": "",
      "userId": "05013997244878666178"
     },
     "user_tz": -540
    },
    "id": "G51sDkO30_zN"
   },
   "outputs": [],
   "source": [
    "import numpy as np # 넘파이 사용\n",
    "import matplotlib.pyplot as plt # 맷플롯립 사용\n",
    "from IPython.core.interactiveshell import InteractiveShell\n",
    "InteractiveShell.ast_node_interactivity = \"all\""
   ]
  },
  {
   "cell_type": "markdown",
   "metadata": {
    "id": "Bu0n8Wg812Fv"
   },
   "source": [
    "## 1. 계단 함수(Step function)\n"
   ]
  },
  {
   "cell_type": "code",
   "execution_count": 2,
   "metadata": {
    "colab": {
     "base_uri": "https://localhost:8080/",
     "height": 281
    },
    "executionInfo": {
     "elapsed": 891,
     "status": "ok",
     "timestamp": 1610106563593,
     "user": {
      "displayName": "sanggoo cho",
      "photoUrl": "",
      "userId": "05013997244878666178"
     },
     "user_tz": -540
    },
    "id": "rxfhnu9n1ASF",
    "outputId": "cea67ffe-2fbe-4ea6-ea1f-d4e5df23db2a"
   },
   "outputs": [
    {
     "data": {
      "text/plain": [
       "Text(0.5, 1.0, 'Step Function')"
      ]
     },
     "execution_count": 2,
     "metadata": {},
     "output_type": "execute_result"
    },
    {
     "data": {
      "text/plain": [
       "[<matplotlib.lines.Line2D at 0x173a0cf2cc8>]"
      ]
     },
     "execution_count": 2,
     "metadata": {},
     "output_type": "execute_result"
    },
    {
     "data": {
      "image/png": "[encoded data removed]",
      "text/plain": [
       "<Figure size 432x288 with 1 Axes>"
      ]
     },
     "metadata": {
      "needs_background": "light"
     },
     "output_type": "display_data"
    }
   ],
   "source": [
    "def step(x):\n",
    "    return np.array(x > 0, dtype=np.int)\n",
    "    \n",
    "x = np.arange(-5.0, 5.0, 0.1) # -5.0부터 5.0까지 0.1 간격 생성\n",
    "y = step(x)\n",
    "plt.title('Step Function')\n",
    "plt.plot(x,y)\n",
    "plt.show()"
   ]
  },
  {
   "cell_type": "code",
   "execution_count": 3,
   "metadata": {
    "colab": {
     "base_uri": "https://localhost:8080/"
    },
    "executionInfo": {
     "elapsed": 653,
     "status": "ok",
     "timestamp": 1610106683678,
     "user": {
      "displayName": "sanggoo cho",
      "photoUrl": "",
      "userId": "05013997244878666178"
     },
     "user_tz": -540
    },
    "id": "sp7GsuBz1dFs",
    "outputId": "fbd802f9-b419-4e18-94a0-7d686b4cbc84"
   },
   "outputs": [
    {
     "data": {
      "text/plain": [
       "array([0, 0, 0, 0, 0, 0, 0, 0, 0, 0, 0, 0, 0, 0, 0, 0, 0, 0, 0, 0, 0, 0,\n",
       "       0, 0, 0, 0, 0, 0, 0, 0, 0, 0, 0, 0, 0, 0, 0, 0, 0, 0, 0, 0, 0, 0,\n",
       "       0, 0, 0, 0, 0, 0, 0, 1, 1, 1, 1, 1, 1, 1, 1, 1, 1, 1, 1, 1, 1, 1,\n",
       "       1, 1, 1, 1, 1, 1, 1, 1, 1, 1, 1, 1, 1, 1, 1, 1, 1, 1, 1, 1, 1, 1,\n",
       "       1, 1, 1, 1, 1, 1, 1, 1, 1, 1, 1, 1])"
      ]
     },
     "execution_count": 3,
     "metadata": {},
     "output_type": "execute_result"
    }
   ],
   "source": [
    "np.array(np.arange(-5.0, 5.0, 0.1) > 0, dtype= np.int)"
   ]
  },
  {
   "cell_type": "code",
   "execution_count": 4,
   "metadata": {
    "colab": {
     "base_uri": "https://localhost:8080/"
    },
    "executionInfo": {
     "elapsed": 825,
     "status": "ok",
     "timestamp": 1610106641527,
     "user": {
      "displayName": "sanggoo cho",
      "photoUrl": "",
      "userId": "05013997244878666178"
     },
     "user_tz": -540
    },
    "id": "k2MrqEub1Ghn",
    "outputId": "24b8ff36-6e95-4ff1-885a-0284858c38c8"
   },
   "outputs": [
    {
     "data": {
      "text/plain": [
       "array([0, 0, 0, 0, 0, 0, 0, 0, 0, 0, 0, 0, 0, 0, 0, 0, 0, 0, 0, 0, 0, 0,\n",
       "       0, 0, 0, 0, 0, 0, 0, 0, 0, 0, 0, 0, 0, 0, 0, 0, 0, 0, 0, 0, 0, 0,\n",
       "       0, 0, 0, 0, 0, 0, 0, 1, 1, 1, 1, 1, 1, 1, 1, 1, 1, 1, 1, 1, 1, 1,\n",
       "       1, 1, 1, 1, 1, 1, 1, 1, 1, 1, 1, 1, 1, 1, 1, 1, 1, 1, 1, 1, 1, 1,\n",
       "       1, 1, 1, 1, 1, 1, 1, 1, 1, 1, 1, 1])"
      ]
     },
     "execution_count": 4,
     "metadata": {},
     "output_type": "execute_result"
    }
   ],
   "source": [
    "np.array(np.arange(-5.0, 5.0, 0.1) > 0)*1"
   ]
  },
  {
   "cell_type": "markdown",
   "metadata": {
    "id": "e7ZoV3u42EA-"
   },
   "source": [
    "## 2. 시그모이드 함수(Sigmoid function)와 기울기 소실"
   ]
  },
  {
   "cell_type": "markdown",
   "metadata": {
    "id": "vXRWHApt2eCs"
   },
   "source": [
    "시그모이드 함수의 출력값이 0 또는 1에 가까워지면, 그래프의 기울기가 완만해져 그 값은 0에 가까워지는데 역전파 과정에서 0에 가까운 아주 작은 기울기가 곱해지게 되면, 앞단에는 기울기가 잘 전달되지 않게 되는 현상을 기울기 소실(Vanishing Gradient) 문제"
   ]
  },
  {
   "cell_type": "code",
   "execution_count": 5,
   "metadata": {
    "colab": {
     "base_uri": "https://localhost:8080/",
     "height": 281
    },
    "executionInfo": {
     "elapsed": 644,
     "status": "ok",
     "timestamp": 1610106861121,
     "user": {
      "displayName": "sanggoo cho",
      "photoUrl": "",
      "userId": "05013997244878666178"
     },
     "user_tz": -540
    },
    "id": "iLxTthnv1Pys",
    "outputId": "71a7e674-aedd-4d6c-c20d-764443e64454"
   },
   "outputs": [
    {
     "data": {
      "text/plain": [
       "[<matplotlib.lines.Line2D at 0x173a0d9f0c8>]"
      ]
     },
     "execution_count": 5,
     "metadata": {},
     "output_type": "execute_result"
    },
    {
     "data": {
      "text/plain": [
       "[<matplotlib.lines.Line2D at 0x173a0d7a2c8>]"
      ]
     },
     "execution_count": 5,
     "metadata": {},
     "output_type": "execute_result"
    },
    {
     "data": {
      "text/plain": [
       "<matplotlib.lines.Line2D at 0x173a0dae348>"
      ]
     },
     "execution_count": 5,
     "metadata": {},
     "output_type": "execute_result"
    },
    {
     "data": {
      "text/plain": [
       "Text(0.5, 1.0, 'Sigmoid Function')"
      ]
     },
     "execution_count": 5,
     "metadata": {},
     "output_type": "execute_result"
    },
    {
     "data": {
      "image/png": "[encoded data removed]",
      "text/plain": [
       "<Figure size 432x288 with 1 Axes>"
      ]
     },
     "metadata": {
      "needs_background": "light"
     },
     "output_type": "display_data"
    }
   ],
   "source": [
    "def sigmoid(x):\n",
    "    return 1/(1+np.exp(-x))\n",
    "    \n",
    "x = np.arange(-5.0, 5.0, 0.1)\n",
    "y = sigmoid(x)\n",
    "\n",
    "plt.plot(x, y)\n",
    "plt.plot([0,0],[1.0,0.0], ':') # 가운데 점선 추가\n",
    "plt.axhline(y=0.5, color='orange', linestyle='--')\n",
    "plt.title('Sigmoid Function')\n",
    "plt.show()"
   ]
  },
  {
   "cell_type": "markdown",
   "metadata": {
    "id": "u0RVvWgW27z2"
   },
   "source": [
    "## 3. 하이퍼볼릭탄젠트 함수(Hyperbolic tangent function)"
   ]
  },
  {
   "cell_type": "markdown",
   "metadata": {
    "id": "rALTH9Zn3Kvl"
   },
   "source": [
    "하이퍼볼릭탄젠트 함수의 경우에는 시그모이드 함수와는 달리 0을 중심으로 하고 있는데, 이때문에 시그모이드 함수와 비교하면 반환값의 변화폭이 더 커서 시그모이드 함수보다는 기울기 소실 증상이 적은 편이라 은닉층에서 시그모이드 함수보다는 많이 사용"
   ]
  },
  {
   "cell_type": "code",
   "execution_count": 6,
   "metadata": {
    "colab": {
     "base_uri": "https://localhost:8080/",
     "height": 281
    },
    "executionInfo": {
     "elapsed": 664,
     "status": "ok",
     "timestamp": 1610107063488,
     "user": {
      "displayName": "sanggoo cho",
      "photoUrl": "",
      "userId": "05013997244878666178"
     },
     "user_tz": -540
    },
    "id": "8ipipvC62POG",
    "outputId": "d2e53941-35d2-44a3-d903-89105cd5792a"
   },
   "outputs": [
    {
     "data": {
      "text/plain": [
       "[<matplotlib.lines.Line2D at 0x173a0e152c8>]"
      ]
     },
     "execution_count": 6,
     "metadata": {},
     "output_type": "execute_result"
    },
    {
     "data": {
      "text/plain": [
       "[<matplotlib.lines.Line2D at 0x173a0dc3c48>]"
      ]
     },
     "execution_count": 6,
     "metadata": {},
     "output_type": "execute_result"
    },
    {
     "data": {
      "text/plain": [
       "<matplotlib.lines.Line2D at 0x173a0dc8208>"
      ]
     },
     "execution_count": 6,
     "metadata": {},
     "output_type": "execute_result"
    },
    {
     "data": {
      "text/plain": [
       "Text(0.5, 1.0, 'Tanh Function')"
      ]
     },
     "execution_count": 6,
     "metadata": {},
     "output_type": "execute_result"
    },
    {
     "data": {
      "image/png": "[encoded data removed]",
      "text/plain": [
       "<Figure size 432x288 with 1 Axes>"
      ]
     },
     "metadata": {
      "needs_background": "light"
     },
     "output_type": "display_data"
    }
   ],
   "source": [
    "x = np.arange(-5.0, 5.0, 0.1) # -5.0부터 5.0까지 0.1 간격 생성\n",
    "y = np.tanh(x)\n",
    "\n",
    "plt.plot(x, y)\n",
    "plt.plot([0,0],[1.0,-1.0], ':')\n",
    "plt.axhline(y=0, color='orange', linestyle='--')\n",
    "plt.title('Tanh Function')\n",
    "plt.show()"
   ]
  },
  {
   "cell_type": "markdown",
   "metadata": {
    "id": "5QF5w_yc3WUl"
   },
   "source": [
    "## 4. 렐루 함수(ReLU)"
   ]
  },
  {
   "cell_type": "markdown",
   "metadata": {
    "id": "nlgfKcty30PU"
   },
   "source": [
    "렐루 함수는 음수를 입력하면 0을 출력하고, 양수를 입력하면 입력값을 그대로 반환하게 되어 렐루 함수는 특정 양수값에 수렴하지 않으므로 깊은 신경망에서 시그모이드 함수보다 훨씬 더 잘 작동\n",
    "렐루 함수는 시그모이드 함수와 하이퍼볼릭탄젠트 함수와 같이 어떤 연산이 필요한 것이 아니라 단순 임계값이므로 연산 속도도 빠르나 여전히 문제점이 존재하는데, 입력값이 음수면 기울기도 0이 되어 이 뉴런은 다시 회생하는 것이 매우 어렵워 이 문제를 죽은 렐루(dying ReLU)라 함"
   ]
  },
  {
   "cell_type": "code",
   "execution_count": 7,
   "metadata": {
    "colab": {
     "base_uri": "https://localhost:8080/",
     "height": 281
    },
    "executionInfo": {
     "elapsed": 634,
     "status": "ok",
     "timestamp": 1610107175913,
     "user": {
      "displayName": "sanggoo cho",
      "photoUrl": "",
      "userId": "05013997244878666178"
     },
     "user_tz": -540
    },
    "id": "JZDw0re33An8",
    "outputId": "343e5db5-77b5-435a-86e9-6a21e705d221"
   },
   "outputs": [
    {
     "data": {
      "text/plain": [
       "[<matplotlib.lines.Line2D at 0x173a0e87a08>]"
      ]
     },
     "execution_count": 7,
     "metadata": {},
     "output_type": "execute_result"
    },
    {
     "data": {
      "text/plain": [
       "[<matplotlib.lines.Line2D at 0x173a0e64088>]"
      ]
     },
     "execution_count": 7,
     "metadata": {},
     "output_type": "execute_result"
    },
    {
     "data": {
      "text/plain": [
       "Text(0.5, 1.0, 'Relu Function')"
      ]
     },
     "execution_count": 7,
     "metadata": {},
     "output_type": "execute_result"
    },
    {
     "data": {
      "image/png": "[encoded data removed]",
      "text/plain": [
       "<Figure size 432x288 with 1 Axes>"
      ]
     },
     "metadata": {
      "needs_background": "light"
     },
     "output_type": "display_data"
    }
   ],
   "source": [
    "def relu(x):\n",
    "    return np.maximum(0, x)\n",
    "\n",
    "x = np.arange(-5.0, 5.0, 0.1)\n",
    "y = relu(x)\n",
    "\n",
    "plt.plot(x, y)\n",
    "plt.plot([0,0],[5.0,0.0], ':')\n",
    "plt.title('Relu Function')\n",
    "plt.show()"
   ]
  },
  {
   "cell_type": "markdown",
   "metadata": {
    "id": "6m70yhNz8yoj"
   },
   "source": [
    "## 5. 리키 렐루(Leaky ReLU)\n",
    "죽은 렐루를 보완하기 위해 ReLU의 변형 함수들이 등장하기 시작했습니다. 변형 함수는 여러 개가 있지만 Leaky ReLU는 입력값이 음수일 경우에 0이 아니라 0.001과 같은 매우 작은 수를 반환"
   ]
  },
  {
   "cell_type": "code",
   "execution_count": 8,
   "metadata": {
    "colab": {
     "base_uri": "https://localhost:8080/",
     "height": 281
    },
    "executionInfo": {
     "elapsed": 719,
     "status": "ok",
     "timestamp": 1610108652633,
     "user": {
      "displayName": "sanggoo cho",
      "photoUrl": "",
      "userId": "05013997244878666178"
     },
     "user_tz": -540
    },
    "id": "EnvytYse3cEz",
    "outputId": "9c238c78-e049-45fb-985f-c1db001251b8"
   },
   "outputs": [
    {
     "data": {
      "text/plain": [
       "[<matplotlib.lines.Line2D at 0x173a0eed448>]"
      ]
     },
     "execution_count": 8,
     "metadata": {},
     "output_type": "execute_result"
    },
    {
     "data": {
      "text/plain": [
       "[<matplotlib.lines.Line2D at 0x173a0ebf288>]"
      ]
     },
     "execution_count": 8,
     "metadata": {},
     "output_type": "execute_result"
    },
    {
     "data": {
      "text/plain": [
       "Text(0.5, 1.0, 'Leaky ReLU Function')"
      ]
     },
     "execution_count": 8,
     "metadata": {},
     "output_type": "execute_result"
    },
    {
     "data": {
      "image/png": "[encoded data removed]",
      "text/plain": [
       "<Figure size 432x288 with 1 Axes>"
      ]
     },
     "metadata": {
      "needs_background": "light"
     },
     "output_type": "display_data"
    }
   ],
   "source": [
    "a = 0.1\n",
    "\n",
    "def leaky_relu(x):\n",
    "    return np.maximum(a*x, x)\n",
    "\n",
    "x = np.arange(-5.0, 5.0, 0.1)\n",
    "y = leaky_relu(x)\n",
    "\n",
    "plt.plot(x, y)\n",
    "plt.plot([0,0],[5.0,0.0], ':')\n",
    "plt.title('Leaky ReLU Function')\n",
    "plt.show()"
   ]
  },
  {
   "cell_type": "markdown",
   "metadata": {
    "id": "8N_5vmkE9I1u"
   },
   "source": [
    "## 6. 소프트맥스 함수(Softamx function)\n",
    "은닉층에서 ReLU(또는 ReLU 변형) 함수들을 사용하는 것이 일반적이지만 분류 문제를 로지스틱 회귀와 소프트맥스 회귀를 출력층에 적용하여 사용합니다.\n",
    "\n",
    "소프트맥스 함수는 시그모이드 함수처럼 출력층의 뉴런에서 주로 사용되는데, 시그모이드 함수가 두 가지 선택지 중 하나를 고르는 이진 분류 (Binary Classification) 문제에 사용된다면 세 가지 이상의 (상호 배타적인) 선택지 중 하나를 고르는 다중 클래스 분류(MultiClass Classification) 문제에 주로 사용"
   ]
  },
  {
   "cell_type": "code",
   "execution_count": 9,
   "metadata": {
    "colab": {
     "base_uri": "https://localhost:8080/",
     "height": 281
    },
    "executionInfo": {
     "elapsed": 616,
     "status": "ok",
     "timestamp": 1610108740439,
     "user": {
      "displayName": "sanggoo cho",
      "photoUrl": "",
      "userId": "05013997244878666178"
     },
     "user_tz": -540
    },
    "id": "7hJzNXBr9EbN",
    "outputId": "ab3a2315-5692-437a-8d0a-8540773ab4ad"
   },
   "outputs": [
    {
     "data": {
      "text/plain": [
       "[<matplotlib.lines.Line2D at 0x173a0f58f88>]"
      ]
     },
     "execution_count": 9,
     "metadata": {},
     "output_type": "execute_result"
    },
    {
     "data": {
      "text/plain": [
       "Text(0.5, 1.0, 'Softmax Function')"
      ]
     },
     "execution_count": 9,
     "metadata": {},
     "output_type": "execute_result"
    },
    {
     "data": {
      "image/png": "[encoded data removed]",
      "text/plain": [
       "<Figure size 432x288 with 1 Axes>"
      ]
     },
     "metadata": {
      "needs_background": "light"
     },
     "output_type": "display_data"
    }
   ],
   "source": [
    "x = np.arange(-5.0, 5.0, 0.1) # -5.0부터 5.0까지 0.1 간격 생성\n",
    "y = np.exp(x) / np.sum(np.exp(x))\n",
    "\n",
    "plt.plot(x, y)\n",
    "plt.title('Softmax Function')\n",
    "plt.show()"
   ]
  },
  {
   "cell_type": "markdown",
   "metadata": {},
   "source": [
    "# <font color='red'> B. Logistic regression and Neural network\n",
    "### 데이터 생성"
   ]
  },
  {
   "cell_type": "code",
   "execution_count": 10,
   "metadata": {},
   "outputs": [
    {
     "data": {
      "text/plain": [
       "(0.5124399902122166, 0.2946849651183929)"
      ]
     },
     "execution_count": 10,
     "metadata": {},
     "output_type": "execute_result"
    },
    {
     "data": {
      "text/plain": [
       "(1.1889925167216904, 0.5999345520365742)"
      ]
     },
     "execution_count": 10,
     "metadata": {},
     "output_type": "execute_result"
    }
   ],
   "source": [
    "x_train= np.random.random((1000,1))\n",
    "np.mean(x_train), np.std(x_train)\n",
    "y_train = x_train*2 + np.random.random((1000,1))/3.0\n",
    "np.mean(y_train), np.std(y_train)\n",
    "\n",
    "x_test= np.random.random((100,1))\n",
    "y_test = x_test*2 + np.random.random((100,1))/3.0"
   ]
  },
  {
   "cell_type": "code",
   "execution_count": 11,
   "metadata": {},
   "outputs": [
    {
     "data": {
      "text/plain": [
       "[<matplotlib.lines.Line2D at 0x173a0fb4688>]"
      ]
     },
     "execution_count": 11,
     "metadata": {},
     "output_type": "execute_result"
    },
    {
     "data": {
      "text/plain": [
       "[<matplotlib.lines.Line2D at 0x173a0f83308>]"
      ]
     },
     "execution_count": 11,
     "metadata": {},
     "output_type": "execute_result"
    },
    {
     "data": {
      "text/plain": [
       "<matplotlib.legend.Legend at 0x173a0fc4908>"
      ]
     },
     "execution_count": 11,
     "metadata": {},
     "output_type": "execute_result"
    },
    {
     "data": {
      "image/png": "[encoded data removed]",
      "text/plain": [
       "<Figure size 432x288 with 1 Axes>"
      ]
     },
     "metadata": {
      "needs_background": "light"
     },
     "output_type": "display_data"
    }
   ],
   "source": [
    "plt.plot(x_train, y_train, 'ro')\n",
    "plt.plot(x_test, y_test, 'bo')\n",
    "plt.legend(['train', 'test'], loc='upper left')\n",
    "plt.show()"
   ]
  },
  {
   "cell_type": "markdown",
   "metadata": {},
   "source": [
    "# 1. Scikit-learn API의 linear regression"
   ]
  },
  {
   "cell_type": "code",
   "execution_count": 12,
   "metadata": {},
   "outputs": [],
   "source": [
    "from sklearn import linear_model\n",
    "from sklearn.metrics import mean_squared_error\n",
    "\n",
    "# 모델구성하기\n",
    "model = linear_model.LinearRegression()\n",
    "\n",
    "# 학습하고 예측\n",
    "y_pred = model.fit(x_train, y_train).predict(x_test)"
   ]
  },
  {
   "cell_type": "code",
   "execution_count": 13,
   "metadata": {},
   "outputs": [
    {
     "data": {
      "text/plain": [
       "[<matplotlib.lines.Line2D at 0x173bb48f948>]"
      ]
     },
     "execution_count": 13,
     "metadata": {},
     "output_type": "execute_result"
    },
    {
     "data": {
      "text/plain": [
       "[<matplotlib.lines.Line2D at 0x173bb464a88>]"
      ]
     },
     "execution_count": 13,
     "metadata": {},
     "output_type": "execute_result"
    },
    {
     "data": {
      "text/plain": [
       "<matplotlib.legend.Legend at 0x173bb4a0a88>"
      ]
     },
     "execution_count": 13,
     "metadata": {},
     "output_type": "execute_result"
    },
    {
     "data": {
      "image/png": "[encoded data removed]",
      "text/plain": [
       "<Figure size 432x288 with 1 Axes>"
      ]
     },
     "metadata": {
      "needs_background": "light"
     },
     "output_type": "display_data"
    },
    {
     "name": "stdout",
     "output_type": "stream",
     "text": [
      "절편: [0.159568], 기울기:[[2.00886844]], mse: 0.008744938428263866\n"
     ]
    }
   ],
   "source": [
    "plt.plot(x_test, y_pred, 'go')\n",
    "plt.plot(x_test, y_test, 'bo')\n",
    "plt.legend(['prediction', 'test'], loc='upper left')\n",
    "plt.show()\n",
    "\n",
    "# 파라미터 추정과 평가\n",
    "print(f'절편: {model.intercept_}, 기울기:{model.coef_}, mse: {mean_squared_error(y_test, y_pred)}')"
   ]
  },
  {
   "cell_type": "markdown",
   "metadata": {},
   "source": [
    "# 2. 퍼셉트론 신경망"
   ]
  },
  {
   "cell_type": "code",
   "execution_count": 14,
   "metadata": {},
   "outputs": [
    {
     "name": "stderr",
     "output_type": "stream",
     "text": [
      "Using TensorFlow backend.\n"
     ]
    }
   ],
   "source": [
    "from keras.models import Sequential\n",
    "from keras.layers import Dense"
   ]
  },
  {
   "cell_type": "code",
   "execution_count": 15,
   "metadata": {},
   "outputs": [
    {
     "data": {
      "text/plain": [
       "(1000, 1)"
      ]
     },
     "execution_count": 15,
     "metadata": {},
     "output_type": "execute_result"
    }
   ],
   "source": [
    "x_train.shape"
   ]
  },
  {
   "cell_type": "markdown",
   "metadata": {},
   "source": [
    "입력변수가 1d tensor"
   ]
  },
  {
   "cell_type": "code",
   "execution_count": 16,
   "metadata": {},
   "outputs": [],
   "source": [
    "# 모델구성\n",
    "model = Sequential()\n",
    "model.add(Dense(1, input_dim=1))"
   ]
  },
  {
   "cell_type": "markdown",
   "metadata": {},
   "source": [
    "# Parameters (weight, bias)\n",
    "- The # of weights : {입력행렬 차원(1차원) x layer1 뉴런수(1 nodes)} = 1\n",
    "- The # of bias : layer1 뉴런 수(1 nodes) = 1\n",
    "- 추정할 파라미터 개수는 1+1 = 2"
   ]
  },
  {
   "cell_type": "code",
   "execution_count": 17,
   "metadata": {},
   "outputs": [
    {
     "name": "stdout",
     "output_type": "stream",
     "text": [
      "Model: \"sequential_1\"\n",
      "_________________________________________________________________\n",
      "Layer (type)                 Output Shape              Param #   \n",
      "=================================================================\n",
      "dense_1 (Dense)              (None, 1)                 2         \n",
      "=================================================================\n",
      "Total params: 2\n",
      "Trainable params: 2\n",
      "Non-trainable params: 0\n",
      "_________________________________________________________________\n"
     ]
    }
   ],
   "source": [
    "model.summary()"
   ]
  },
  {
   "cell_type": "code",
   "execution_count": 18,
   "metadata": {},
   "outputs": [
    {
     "name": "stdout",
     "output_type": "stream",
     "text": [
      "Epoch 1/50\n",
      "1000/1000 [==============================] - 0s 172us/step - loss: 0.2223\n",
      "Epoch 2/50\n",
      "1000/1000 [==============================] - 0s 8us/step - loss: 0.1973\n",
      "Epoch 3/50\n",
      "1000/1000 [==============================] - 0s 9us/step - loss: 0.1772\n",
      "Epoch 4/50\n",
      "1000/1000 [==============================] - 0s 8us/step - loss: 0.1586\n",
      "Epoch 5/50\n",
      "1000/1000 [==============================] - 0s 9us/step - loss: 0.1412\n",
      "Epoch 6/50\n",
      "1000/1000 [==============================] - 0s 9us/step - loss: 0.1249\n",
      "Epoch 7/50\n",
      "1000/1000 [==============================] - 0s 9us/step - loss: 0.1098\n",
      "Epoch 8/50\n",
      "1000/1000 [==============================] - 0s 8us/step - loss: 0.0960\n",
      "Epoch 9/50\n",
      "1000/1000 [==============================] - 0s 8us/step - loss: 0.0833\n",
      "Epoch 10/50\n",
      "1000/1000 [==============================] - 0s 7us/step - loss: 0.0718\n",
      "Epoch 11/50\n",
      "1000/1000 [==============================] - 0s 8us/step - loss: 0.0614\n",
      "Epoch 12/50\n",
      "1000/1000 [==============================] - 0s 8us/step - loss: 0.0520\n",
      "Epoch 13/50\n",
      "1000/1000 [==============================] - 0s 8us/step - loss: 0.0438\n",
      "Epoch 14/50\n",
      "1000/1000 [==============================] - 0s 8us/step - loss: 0.0368\n",
      "Epoch 15/50\n",
      "1000/1000 [==============================] - 0s 9us/step - loss: 0.0308\n",
      "Epoch 16/50\n",
      "1000/1000 [==============================] - 0s 7us/step - loss: 0.0259\n",
      "Epoch 17/50\n",
      "1000/1000 [==============================] - 0s 8us/step - loss: 0.0220\n",
      "Epoch 18/50\n",
      "1000/1000 [==============================] - 0s 8us/step - loss: 0.0191\n",
      "Epoch 19/50\n",
      "1000/1000 [==============================] - 0s 8us/step - loss: 0.0172\n",
      "Epoch 20/50\n",
      "1000/1000 [==============================] - 0s 8us/step - loss: 0.0160\n",
      "Epoch 21/50\n",
      "1000/1000 [==============================] - 0s 7us/step - loss: 0.0152\n",
      "Epoch 22/50\n",
      "1000/1000 [==============================] - 0s 7us/step - loss: 0.0147\n",
      "Epoch 23/50\n",
      "1000/1000 [==============================] - 0s 8us/step - loss: 0.0142\n",
      "Epoch 24/50\n",
      "1000/1000 [==============================] - 0s 7us/step - loss: 0.0136\n",
      "Epoch 25/50\n",
      "1000/1000 [==============================] - 0s 8us/step - loss: 0.0131\n",
      "Epoch 26/50\n",
      "1000/1000 [==============================] - 0s 7us/step - loss: 0.0127\n",
      "Epoch 27/50\n",
      "1000/1000 [==============================] - 0s 8us/step - loss: 0.0123\n",
      "Epoch 28/50\n",
      "1000/1000 [==============================] - 0s 7us/step - loss: 0.0119\n",
      "Epoch 29/50\n",
      "1000/1000 [==============================] - 0s 8us/step - loss: 0.0116\n",
      "Epoch 30/50\n",
      "1000/1000 [==============================] - 0s 8us/step - loss: 0.0113\n",
      "Epoch 31/50\n",
      "1000/1000 [==============================] - 0s 8us/step - loss: 0.0111\n",
      "Epoch 32/50\n",
      "1000/1000 [==============================] - 0s 7us/step - loss: 0.0108\n",
      "Epoch 33/50\n",
      "1000/1000 [==============================] - 0s 8us/step - loss: 0.0106\n",
      "Epoch 34/50\n",
      "1000/1000 [==============================] - 0s 7us/step - loss: 0.0104\n",
      "Epoch 35/50\n",
      "1000/1000 [==============================] - 0s 8us/step - loss: 0.0103\n",
      "Epoch 36/50\n",
      "1000/1000 [==============================] - 0s 8us/step - loss: 0.0101\n",
      "Epoch 37/50\n",
      "1000/1000 [==============================] - 0s 7us/step - loss: 0.0100\n",
      "Epoch 38/50\n",
      "1000/1000 [==============================] - 0s 7us/step - loss: 0.0099\n",
      "Epoch 39/50\n",
      "1000/1000 [==============================] - 0s 9us/step - loss: 0.0098\n",
      "Epoch 40/50\n",
      "1000/1000 [==============================] - 0s 8us/step - loss: 0.0097\n",
      "Epoch 41/50\n",
      "1000/1000 [==============================] - 0s 8us/step - loss: 0.0097\n",
      "Epoch 42/50\n",
      "1000/1000 [==============================] - 0s 8us/step - loss: 0.0097\n",
      "Epoch 43/50\n",
      "1000/1000 [==============================] - 0s 9us/step - loss: 0.0096\n",
      "Epoch 44/50\n",
      "1000/1000 [==============================] - 0s 8us/step - loss: 0.0096\n",
      "Epoch 45/50\n",
      "1000/1000 [==============================] - 0s 8us/step - loss: 0.0096\n",
      "Epoch 46/50\n",
      "1000/1000 [==============================] - 0s 8us/step - loss: 0.0095\n",
      "Epoch 47/50\n",
      "1000/1000 [==============================] - 0s 8us/step - loss: 0.0095\n",
      "Epoch 48/50\n",
      "1000/1000 [==============================] - 0s 7us/step - loss: 0.0095\n",
      "Epoch 49/50\n",
      "1000/1000 [==============================] - 0s 7us/step - loss: 0.0095\n",
      "Epoch 50/50\n",
      "1000/1000 [==============================] - 0s 7us/step - loss: 0.0095\n"
     ]
    }
   ],
   "source": [
    "# 학습하기\n",
    "model.compile(optimizer='rmsprop', loss='mse')\n",
    "hist = model.fit(x_train, y_train, epochs=50, batch_size=64) # epoch을 증가시켜보기"
   ]
  },
  {
   "cell_type": "code",
   "execution_count": 19,
   "metadata": {},
   "outputs": [
    {
     "name": "stdout",
     "output_type": "stream",
     "text": [
      "절편: [0.16714188], 기울기:[[1.9950792]]\n"
     ]
    },
    {
     "data": {
      "text/plain": [
       "[<matplotlib.lines.Line2D at 0x173c2ae4d08>]"
      ]
     },
     "execution_count": 19,
     "metadata": {},
     "output_type": "execute_result"
    },
    {
     "data": {
      "text/plain": [
       "[<matplotlib.lines.Line2D at 0x173c2ad9948>]"
      ]
     },
     "execution_count": 19,
     "metadata": {},
     "output_type": "execute_result"
    },
    {
     "data": {
      "text/plain": [
       "[<matplotlib.lines.Line2D at 0x173c29d46c8>]"
      ]
     },
     "execution_count": 19,
     "metadata": {},
     "output_type": "execute_result"
    },
    {
     "data": {
      "text/plain": [
       "<matplotlib.legend.Legend at 0x173c2a5ee88>"
      ]
     },
     "execution_count": 19,
     "metadata": {},
     "output_type": "execute_result"
    },
    {
     "data": {
      "image/png": "[encoded data removed]",
      "text/plain": [
       "<Figure size 432x288 with 1 Axes>"
      ]
     },
     "metadata": {
      "needs_background": "light"
     },
     "output_type": "display_data"
    }
   ],
   "source": [
    "w, b = model.get_weights()\n",
    "print(f'절편: {b}, 기울기:{w}')\n",
    "\n",
    "plt.plot(x_test, y_pred, 'go')\n",
    "plt.plot(x_test, y_test, 'bo')\n",
    "plt.plot(x_test, b + w*x_test, 'ro')\n",
    "plt.legend(['prediction', 'test', 'perceptron'], loc='upper left')\n",
    "plt.show()"
   ]
  },
  {
   "cell_type": "markdown",
   "metadata": {},
   "source": [
    "### <font color ='red'> epoch을 200으로 증가시키면 예측을 잘한다. 200 epoch을 훈련후 다시 그려보기"
   ]
  },
  {
   "cell_type": "code",
   "execution_count": 20,
   "metadata": {},
   "outputs": [
    {
     "data": {
      "text/plain": [
       "dict_keys(['loss'])"
      ]
     },
     "execution_count": 20,
     "metadata": {},
     "output_type": "execute_result"
    },
    {
     "data": {
      "text/plain": [
       "[<matplotlib.lines.Line2D at 0x173c2b74c48>]"
      ]
     },
     "execution_count": 20,
     "metadata": {},
     "output_type": "execute_result"
    },
    {
     "data": {
      "text/plain": [
       "Text(0.5, 0, 'epoch')"
      ]
     },
     "execution_count": 20,
     "metadata": {},
     "output_type": "execute_result"
    },
    {
     "data": {
      "text/plain": [
       "Text(0, 0.5, 'MSE')"
      ]
     },
     "execution_count": 20,
     "metadata": {},
     "output_type": "execute_result"
    },
    {
     "data": {
      "image/png": "[encoded data removed]",
      "text/plain": [
       "<Figure size 432x288 with 1 Axes>"
      ]
     },
     "metadata": {
      "needs_background": "light"
     },
     "output_type": "display_data"
    }
   ],
   "source": [
    "# 학습과정 확인하기\n",
    "hist.history.keys()\n",
    "plt.plot(hist.history['loss'])\n",
    "plt.xlabel('epoch'); plt.ylabel('MSE')"
   ]
  },
  {
   "cell_type": "code",
   "execution_count": 21,
   "metadata": {},
   "outputs": [
    {
     "name": "stdout",
     "output_type": "stream",
     "text": [
      "100/100 [==============================] - 0s 209us/step\n",
      "mse: 0.008776204334571958\n"
     ]
    }
   ],
   "source": [
    "# 모델 평가\n",
    "loss = model.evaluate(x_test, y_test, batch_size=30)\n",
    "print(f'mse: {loss}')"
   ]
  },
  {
   "cell_type": "markdown",
   "metadata": {},
   "source": [
    "# 3. FNNM(Forward Neural Network Model) with one hidden layer\n",
    "## Shallow learning model\n",
    "https://keras.io/api/models/"
   ]
  },
  {
   "cell_type": "markdown",
   "metadata": {},
   "source": [
    "### <font color = 'purple'> Regression\n",
    "### <font color = 'purple'>  회귀예측이기 때문에 최종 layer에는 1개로 activation 함수없이 구현"
   ]
  },
  {
   "cell_type": "code",
   "execution_count": 22,
   "metadata": {},
   "outputs": [],
   "source": [
    "# 모델구성\n",
    "model = Sequential()\n",
    "model.add(Dense(10, input_dim=1, activation='relu', name=\"layer1\"))  # Try Hidden layer의 노드(뉴런) 개수 증감\n",
    "model.add(Dense(1, name=\"layer2\"))"
   ]
  },
  {
   "cell_type": "markdown",
   "metadata": {},
   "source": [
    "### Parameters (weight, bias)\n",
    "- The # of weights : {입력행렬 차원(1차원) x layer1 뉴런수(10 nodes)} + {layer1 (노두수(10 nodes) x layer2 노드수(1 node))} = (1x10) + (10) = 20\n",
    "- The # of bias : layer1 뉴런 수(10 nodes) + layer2 뉴런수(1 nodes) = 10+1 = 11\n",
    "- 추정할 파라미터 개수는 20+11 = 31"
   ]
  },
  {
   "cell_type": "code",
   "execution_count": 23,
   "metadata": {
    "scrolled": true
   },
   "outputs": [
    {
     "name": "stdout",
     "output_type": "stream",
     "text": [
      "Model: \"sequential_2\"\n",
      "_________________________________________________________________\n",
      "Layer (type)                 Output Shape              Param #   \n",
      "=================================================================\n",
      "layer1 (Dense)               (None, 10)                20        \n",
      "_________________________________________________________________\n",
      "layer2 (Dense)               (None, 1)                 11        \n",
      "=================================================================\n",
      "Total params: 31\n",
      "Trainable params: 31\n",
      "Non-trainable params: 0\n",
      "_________________________________________________________________\n"
     ]
    }
   ],
   "source": [
    "model.summary()"
   ]
  },
  {
   "cell_type": "code",
   "execution_count": 24,
   "metadata": {},
   "outputs": [],
   "source": [
    "# 학습하기\n",
    "model.compile(optimizer='rmsprop', loss='mse')\n",
    "hist = model.fit(x_train, y_train, epochs=50, batch_size=64, verbose= 0) # epoch을 증가시켜보기"
   ]
  },
  {
   "cell_type": "code",
   "execution_count": 25,
   "metadata": {
    "scrolled": true
   },
   "outputs": [
    {
     "data": {
      "text/plain": [
       "[array([[-0.3458696 , -0.2903016 , -0.02497464,  0.81785154, -0.02911949,\n",
       "         -0.45759052,  0.32359734, -0.13862145, -0.14002585,  0.10756227]],\n",
       "       dtype=float32),\n",
       " array([ 0.        ,  0.        ,  0.        ,  0.29175144,  0.        ,\n",
       "         0.        , -0.32338694,  0.        ,  0.        , -0.10747426],\n",
       "       dtype=float32),\n",
       " array([[-0.3502046 ],\n",
       "        [-0.12552732],\n",
       "        [-0.62019086],\n",
       "        [ 1.3029352 ],\n",
       "        [ 0.52660626],\n",
       "        [-0.6701918 ],\n",
       "        [-0.16973469],\n",
       "        [-0.48846647],\n",
       "        [-0.36572567],\n",
       "        [-0.22068912]], dtype=float32),\n",
       " array([0.28716943], dtype=float32)]"
      ]
     },
     "execution_count": 25,
     "metadata": {},
     "output_type": "execute_result"
    }
   ],
   "source": [
    "# 노드(뉴런) 개수만큼 weight(b, w)가 생성\n",
    "model.get_weights()"
   ]
  },
  {
   "cell_type": "code",
   "execution_count": 26,
   "metadata": {},
   "outputs": [
    {
     "data": {
      "text/plain": [
       "[<matplotlib.lines.Line2D at 0x173c2ccf488>]"
      ]
     },
     "execution_count": 26,
     "metadata": {},
     "output_type": "execute_result"
    },
    {
     "data": {
      "text/plain": [
       "[<matplotlib.lines.Line2D at 0x173c2c34808>]"
      ]
     },
     "execution_count": 26,
     "metadata": {},
     "output_type": "execute_result"
    },
    {
     "data": {
      "text/plain": [
       "[<matplotlib.lines.Line2D at 0x173c2cdde88>]"
      ]
     },
     "execution_count": 26,
     "metadata": {},
     "output_type": "execute_result"
    },
    {
     "data": {
      "text/plain": [
       "[<matplotlib.lines.Line2D at 0x173c2ce9ec8>]"
      ]
     },
     "execution_count": 26,
     "metadata": {},
     "output_type": "execute_result"
    },
    {
     "data": {
      "text/plain": [
       "<matplotlib.legend.Legend at 0x173c2ce4fc8>"
      ]
     },
     "execution_count": 26,
     "metadata": {},
     "output_type": "execute_result"
    },
    {
     "data": {
      "image/png": "[encoded data removed]",
      "text/plain": [
       "<Figure size 432x288 with 1 Axes>"
      ]
     },
     "metadata": {
      "needs_background": "light"
     },
     "output_type": "display_data"
    }
   ],
   "source": [
    "plt.plot(x_test, y_pred, 'go')\n",
    "plt.plot(x_test, y_test, 'bo')\n",
    "plt.plot(x_test, b + w*x_test, 'ro')\n",
    "plt.plot(x_test, model.predict(x_test), 'yo')\n",
    "plt.legend(['prediction', 'test', 'perceptron', 'fnn'], loc='upper left')\n",
    "plt.show()"
   ]
  },
  {
   "cell_type": "code",
   "execution_count": 27,
   "metadata": {},
   "outputs": [
    {
     "name": "stdout",
     "output_type": "stream",
     "text": [
      "100/100 [==============================] - 0s 183us/step\n",
      "mse: 0.08822684288024903\n"
     ]
    }
   ],
   "source": [
    "# 모델 평가\n",
    "loss = model.evaluate(x_test, y_test, batch_size=30)\n",
    "print(f'mse: {loss}')"
   ]
  },
  {
   "cell_type": "code",
   "execution_count": 28,
   "metadata": {},
   "outputs": [
    {
     "data": {
      "text/plain": [
       "dict_keys(['loss'])"
      ]
     },
     "execution_count": 28,
     "metadata": {},
     "output_type": "execute_result"
    },
    {
     "data": {
      "text/plain": [
       "[<matplotlib.lines.Line2D at 0x173c3d3ba48>]"
      ]
     },
     "execution_count": 28,
     "metadata": {},
     "output_type": "execute_result"
    },
    {
     "data": {
      "text/plain": [
       "Text(0.5, 0, 'epoch')"
      ]
     },
     "execution_count": 28,
     "metadata": {},
     "output_type": "execute_result"
    },
    {
     "data": {
      "text/plain": [
       "Text(0, 0.5, 'MSE')"
      ]
     },
     "execution_count": 28,
     "metadata": {},
     "output_type": "execute_result"
    },
    {
     "data": {
      "image/png": "[encoded data removed]",
      "text/plain": [
       "<Figure size 432x288 with 1 Axes>"
      ]
     },
     "metadata": {
      "needs_background": "light"
     },
     "output_type": "display_data"
    }
   ],
   "source": [
    "# 학습과정 확인하기\n",
    "hist.history.keys()\n",
    "plt.plot(hist.history['loss'])\n",
    "plt.xlabel('epoch'); plt.ylabel('MSE')"
   ]
  },
  {
   "cell_type": "markdown",
   "metadata": {},
   "source": [
    "# 4. FNNM(Forward Neural Network Model) with two hidden layer\n",
    "## Deep learning model\n",
    "Hidden layer를 추가할 수록 예측 성능은 높아지게 됨 "
   ]
  },
  {
   "cell_type": "code",
   "execution_count": 29,
   "metadata": {},
   "outputs": [],
   "source": [
    "# 모델구성\n",
    "model = Sequential()\n",
    "model.add(Dense(10, input_dim=1, activation='relu', name=\"layer1\"))\n",
    "model.add(Dense(10, activation='relu', name=\"layer2\"))  \n",
    "model.add(Dense(1, name=\"layer3\"))"
   ]
  },
  {
   "cell_type": "code",
   "execution_count": 30,
   "metadata": {},
   "outputs": [
    {
     "name": "stdout",
     "output_type": "stream",
     "text": [
      "Model: \"sequential_3\"\n",
      "_________________________________________________________________\n",
      "Layer (type)                 Output Shape              Param #   \n",
      "=================================================================\n",
      "layer1 (Dense)               (None, 10)                20        \n",
      "_________________________________________________________________\n",
      "layer2 (Dense)               (None, 10)                110       \n",
      "_________________________________________________________________\n",
      "layer3 (Dense)               (None, 1)                 11        \n",
      "=================================================================\n",
      "Total params: 141\n",
      "Trainable params: 141\n",
      "Non-trainable params: 0\n",
      "_________________________________________________________________\n"
     ]
    }
   ],
   "source": [
    "model.summary()"
   ]
  },
  {
   "cell_type": "code",
   "execution_count": 31,
   "metadata": {},
   "outputs": [],
   "source": [
    "# 학습하기\n",
    "model.compile(optimizer='rmsprop', loss='mse')\n",
    "hist = model.fit(x_train, y_train, epochs=50, batch_size=64, verbose= 0)"
   ]
  },
  {
   "cell_type": "code",
   "execution_count": 32,
   "metadata": {},
   "outputs": [
    {
     "name": "stdout",
     "output_type": "stream",
     "text": [
      "100/100 [==============================] - 0s 200us/step\n",
      "mse: 0.008775849035009742\n"
     ]
    }
   ],
   "source": [
    "# 모델 평가\n",
    "loss = model.evaluate(x_test, y_test, batch_size=30)\n",
    "print(f'mse: {loss}')"
   ]
  },
  {
   "cell_type": "code",
   "execution_count": 33,
   "metadata": {},
   "outputs": [
    {
     "data": {
      "text/plain": [
       "dict_keys(['loss'])"
      ]
     },
     "execution_count": 33,
     "metadata": {},
     "output_type": "execute_result"
    },
    {
     "data": {
      "text/plain": [
       "[<matplotlib.lines.Line2D at 0x173c40bf288>]"
      ]
     },
     "execution_count": 33,
     "metadata": {},
     "output_type": "execute_result"
    },
    {
     "data": {
      "text/plain": [
       "Text(0.5, 0, 'epoch')"
      ]
     },
     "execution_count": 33,
     "metadata": {},
     "output_type": "execute_result"
    },
    {
     "data": {
      "text/plain": [
       "Text(0, 0.5, 'MSE')"
      ]
     },
     "execution_count": 33,
     "metadata": {},
     "output_type": "execute_result"
    },
    {
     "data": {
      "image/png": "[encoded data removed]",
      "text/plain": [
       "<Figure size 432x288 with 1 Axes>"
      ]
     },
     "metadata": {
      "needs_background": "light"
     },
     "output_type": "display_data"
    }
   ],
   "source": [
    "# 학습과정 확인하기\n",
    "hist.history.keys()\n",
    "plt.plot(hist.history['loss'])\n",
    "plt.xlabel('epoch'); plt.ylabel('MSE')"
   ]
  },
  {
   "cell_type": "markdown",
   "metadata": {},
   "source": [
    "# <font color='red'> C. Binary Classification : 실습 diabetes dataset"
   ]
  },
  {
   "cell_type": "markdown",
   "metadata": {},
   "source": [
    "### 1.Loading the diabets dataset in Keras"
   ]
  },
  {
   "cell_type": "code",
   "execution_count": 36,
   "metadata": {},
   "outputs": [
    {
     "data": {
      "text/html": [
       "<div>\n",
       "<style scoped>\n",
       "    .dataframe tbody tr th:only-of-type {\n",
       "        vertical-align: middle;\n",
       "    }\n",
       "\n",
       "    .dataframe tbody tr th {\n",
       "        vertical-align: top;\n",
       "    }\n",
       "\n",
       "    .dataframe thead th {\n",
       "        text-align: right;\n",
       "    }\n",
       "</style>\n",
       "<table border=\"1\" class=\"dataframe\">\n",
       "  <thead>\n",
       "    <tr style=\"text-align: right;\">\n",
       "      <th></th>\n",
       "      <th>Pregnancies</th>\n",
       "      <th>Glucose</th>\n",
       "      <th>BloodPressure</th>\n",
       "      <th>SkinThickness</th>\n",
       "      <th>Insulin</th>\n",
       "      <th>BMI</th>\n",
       "      <th>DiabetesPedigreeFunction</th>\n",
       "      <th>Age</th>\n",
       "      <th>Outcome</th>\n",
       "    </tr>\n",
       "  </thead>\n",
       "  <tbody>\n",
       "    <tr>\n",
       "      <th>0</th>\n",
       "      <td>6</td>\n",
       "      <td>148</td>\n",
       "      <td>72</td>\n",
       "      <td>35</td>\n",
       "      <td>0</td>\n",
       "      <td>33.6</td>\n",
       "      <td>0.627</td>\n",
       "      <td>50</td>\n",
       "      <td>1</td>\n",
       "    </tr>\n",
       "    <tr>\n",
       "      <th>1</th>\n",
       "      <td>1</td>\n",
       "      <td>85</td>\n",
       "      <td>66</td>\n",
       "      <td>29</td>\n",
       "      <td>0</td>\n",
       "      <td>26.6</td>\n",
       "      <td>0.351</td>\n",
       "      <td>31</td>\n",
       "      <td>0</td>\n",
       "    </tr>\n",
       "    <tr>\n",
       "      <th>2</th>\n",
       "      <td>8</td>\n",
       "      <td>183</td>\n",
       "      <td>64</td>\n",
       "      <td>0</td>\n",
       "      <td>0</td>\n",
       "      <td>23.3</td>\n",
       "      <td>0.672</td>\n",
       "      <td>32</td>\n",
       "      <td>1</td>\n",
       "    </tr>\n",
       "    <tr>\n",
       "      <th>3</th>\n",
       "      <td>1</td>\n",
       "      <td>89</td>\n",
       "      <td>66</td>\n",
       "      <td>23</td>\n",
       "      <td>94</td>\n",
       "      <td>28.1</td>\n",
       "      <td>0.167</td>\n",
       "      <td>21</td>\n",
       "      <td>0</td>\n",
       "    </tr>\n",
       "    <tr>\n",
       "      <th>4</th>\n",
       "      <td>0</td>\n",
       "      <td>137</td>\n",
       "      <td>40</td>\n",
       "      <td>35</td>\n",
       "      <td>168</td>\n",
       "      <td>43.1</td>\n",
       "      <td>2.288</td>\n",
       "      <td>33</td>\n",
       "      <td>1</td>\n",
       "    </tr>\n",
       "    <tr>\n",
       "      <th>...</th>\n",
       "      <td>...</td>\n",
       "      <td>...</td>\n",
       "      <td>...</td>\n",
       "      <td>...</td>\n",
       "      <td>...</td>\n",
       "      <td>...</td>\n",
       "      <td>...</td>\n",
       "      <td>...</td>\n",
       "      <td>...</td>\n",
       "    </tr>\n",
       "    <tr>\n",
       "      <th>763</th>\n",
       "      <td>10</td>\n",
       "      <td>101</td>\n",
       "      <td>76</td>\n",
       "      <td>48</td>\n",
       "      <td>180</td>\n",
       "      <td>32.9</td>\n",
       "      <td>0.171</td>\n",
       "      <td>63</td>\n",
       "      <td>0</td>\n",
       "    </tr>\n",
       "    <tr>\n",
       "      <th>764</th>\n",
       "      <td>2</td>\n",
       "      <td>122</td>\n",
       "      <td>70</td>\n",
       "      <td>27</td>\n",
       "      <td>0</td>\n",
       "      <td>36.8</td>\n",
       "      <td>0.340</td>\n",
       "      <td>27</td>\n",
       "      <td>0</td>\n",
       "    </tr>\n",
       "    <tr>\n",
       "      <th>765</th>\n",
       "      <td>5</td>\n",
       "      <td>121</td>\n",
       "      <td>72</td>\n",
       "      <td>23</td>\n",
       "      <td>112</td>\n",
       "      <td>26.2</td>\n",
       "      <td>0.245</td>\n",
       "      <td>30</td>\n",
       "      <td>0</td>\n",
       "    </tr>\n",
       "    <tr>\n",
       "      <th>766</th>\n",
       "      <td>1</td>\n",
       "      <td>126</td>\n",
       "      <td>60</td>\n",
       "      <td>0</td>\n",
       "      <td>0</td>\n",
       "      <td>30.1</td>\n",
       "      <td>0.349</td>\n",
       "      <td>47</td>\n",
       "      <td>1</td>\n",
       "    </tr>\n",
       "    <tr>\n",
       "      <th>767</th>\n",
       "      <td>1</td>\n",
       "      <td>93</td>\n",
       "      <td>70</td>\n",
       "      <td>31</td>\n",
       "      <td>0</td>\n",
       "      <td>30.4</td>\n",
       "      <td>0.315</td>\n",
       "      <td>23</td>\n",
       "      <td>0</td>\n",
       "    </tr>\n",
       "  </tbody>\n",
       "</table>\n",
       "<p>768 rows × 9 columns</p>\n",
       "</div>"
      ],
      "text/plain": [
       "     Pregnancies  Glucose  BloodPressure  SkinThickness  Insulin   BMI  \\\n",
       "0              6      148             72             35        0  33.6   \n",
       "1              1       85             66             29        0  26.6   \n",
       "2              8      183             64              0        0  23.3   \n",
       "3              1       89             66             23       94  28.1   \n",
       "4              0      137             40             35      168  43.1   \n",
       "..           ...      ...            ...            ...      ...   ...   \n",
       "763           10      101             76             48      180  32.9   \n",
       "764            2      122             70             27        0  36.8   \n",
       "765            5      121             72             23      112  26.2   \n",
       "766            1      126             60              0        0  30.1   \n",
       "767            1       93             70             31        0  30.4   \n",
       "\n",
       "     DiabetesPedigreeFunction  Age  Outcome  \n",
       "0                       0.627   50        1  \n",
       "1                       0.351   31        0  \n",
       "2                       0.672   32        1  \n",
       "3                       0.167   21        0  \n",
       "4                       2.288   33        1  \n",
       "..                        ...  ...      ...  \n",
       "763                     0.171   63        0  \n",
       "764                     0.340   27        0  \n",
       "765                     0.245   30        0  \n",
       "766                     0.349   47        1  \n",
       "767                     0.315   23        0  \n",
       "\n",
       "[768 rows x 9 columns]"
      ]
     },
     "execution_count": 36,
     "metadata": {},
     "output_type": "execute_result"
    }
   ],
   "source": [
    "import pandas as pd\n",
    "dataset = pd.read_csv('../data/diabetes.csv')\n",
    "dataset"
   ]
  },
  {
   "cell_type": "markdown",
   "metadata": {},
   "source": [
    "### 2. 데이터셋 생성하기"
   ]
  },
  {
   "cell_type": "code",
   "execution_count": 37,
   "metadata": {},
   "outputs": [],
   "source": [
    "x_train = dataset.iloc[:700,0:8]\n",
    "y_train = dataset.iloc[:700,8]\n",
    "x_test = dataset.iloc[700:,0:8]\n",
    "y_test = dataset.iloc[700:,8]"
   ]
  },
  {
   "cell_type": "markdown",
   "metadata": {},
   "source": [
    "### 3. 모델 구성하기\n",
    "### <font color = 'purple'> Multicalss Classification \n",
    "### <font color = 'purple'> 입력변수 8개를 받아 2개 hidden을 만들고 마지막 레이어는 sigmoid 활성화함수로 모델 구현"
   ]
  },
  {
   "cell_type": "code",
   "execution_count": 38,
   "metadata": {},
   "outputs": [],
   "source": [
    "model = Sequential()\n",
    "model.add(Dense(12, input_dim=8, activation='relu'))\n",
    "model.add(Dense(8, activation='relu'))\n",
    "model.add(Dense(1, activation='sigmoid'))"
   ]
  },
  {
   "cell_type": "markdown",
   "metadata": {},
   "source": [
    "### 4. 모델 학습과정 설정하기"
   ]
  },
  {
   "cell_type": "code",
   "execution_count": 39,
   "metadata": {},
   "outputs": [],
   "source": [
    "model.compile(loss='binary_crossentropy', optimizer='adam', metrics=['accuracy'])"
   ]
  },
  {
   "cell_type": "markdown",
   "metadata": {},
   "source": [
    "### 5. 모델 학습시키기"
   ]
  },
  {
   "cell_type": "code",
   "execution_count": 40,
   "metadata": {},
   "outputs": [
    {
     "name": "stdout",
     "output_type": "stream",
     "text": [
      "Epoch 1/150\n",
      "700/700 [==============================] - 0s 366us/step - loss: 17.0953 - accuracy: 0.6371\n",
      "Epoch 2/150\n",
      "700/700 [==============================] - 0s 13us/step - loss: 11.5002 - accuracy: 0.5900\n",
      "Epoch 3/150\n",
      "700/700 [==============================] - 0s 11us/step - loss: 7.4335 - accuracy: 0.5286\n",
      "Epoch 4/150\n",
      "700/700 [==============================] - 0s 11us/step - loss: 3.1829 - accuracy: 0.4900\n",
      "Epoch 5/150\n",
      "700/700 [==============================] - 0s 13us/step - loss: 2.3284 - accuracy: 0.4700\n",
      "Epoch 6/150\n",
      "700/700 [==============================] - 0s 11us/step - loss: 2.0382 - accuracy: 0.5629\n",
      "Epoch 7/150\n",
      "700/700 [==============================] - 0s 13us/step - loss: 1.8745 - accuracy: 0.5157\n",
      "Epoch 8/150\n",
      "700/700 [==============================] - 0s 11us/step - loss: 1.6309 - accuracy: 0.5414\n",
      "Epoch 9/150\n",
      "700/700 [==============================] - 0s 11us/step - loss: 1.4772 - accuracy: 0.5343\n",
      "Epoch 10/150\n",
      "700/700 [==============================] - 0s 11us/step - loss: 1.3672 - accuracy: 0.5357\n",
      "Epoch 11/150\n",
      "700/700 [==============================] - 0s 11us/step - loss: 1.2552 - accuracy: 0.5557\n",
      "Epoch 12/150\n",
      "700/700 [==============================] - 0s 11us/step - loss: 1.1706 - accuracy: 0.5514\n",
      "Epoch 13/150\n",
      "700/700 [==============================] - 0s 14us/step - loss: 1.1004 - accuracy: 0.5571\n",
      "Epoch 14/150\n",
      "700/700 [==============================] - 0s 14us/step - loss: 1.0051 - accuracy: 0.5614\n",
      "Epoch 15/150\n",
      "700/700 [==============================] - 0s 11us/step - loss: 0.9355 - accuracy: 0.6029\n",
      "Epoch 16/150\n",
      "700/700 [==============================] - 0s 13us/step - loss: 0.9065 - accuracy: 0.6100\n",
      "Epoch 17/150\n",
      "700/700 [==============================] - 0s 11us/step - loss: 0.8587 - accuracy: 0.6100\n",
      "Epoch 18/150\n",
      "700/700 [==============================] - 0s 13us/step - loss: 0.8226 - accuracy: 0.6200\n",
      "Epoch 19/150\n",
      "700/700 [==============================] - 0s 13us/step - loss: 0.7899 - accuracy: 0.6243\n",
      "Epoch 20/150\n",
      "700/700 [==============================] - 0s 13us/step - loss: 0.7569 - accuracy: 0.6257\n",
      "Epoch 21/150\n",
      "700/700 [==============================] - 0s 14us/step - loss: 0.7397 - accuracy: 0.6243\n",
      "Epoch 22/150\n",
      "700/700 [==============================] - 0s 13us/step - loss: 0.7248 - accuracy: 0.6257\n",
      "Epoch 23/150\n",
      "700/700 [==============================] - 0s 14us/step - loss: 0.7045 - accuracy: 0.6357\n",
      "Epoch 24/150\n",
      "700/700 [==============================] - 0s 11us/step - loss: 0.6903 - accuracy: 0.6414\n",
      "Epoch 25/150\n",
      "700/700 [==============================] - 0s 11us/step - loss: 0.6853 - accuracy: 0.6357\n",
      "Epoch 26/150\n",
      "700/700 [==============================] - 0s 11us/step - loss: 0.6775 - accuracy: 0.6414\n",
      "Epoch 27/150\n",
      "700/700 [==============================] - 0s 11us/step - loss: 0.6738 - accuracy: 0.6429\n",
      "Epoch 28/150\n",
      "700/700 [==============================] - 0s 11us/step - loss: 0.6633 - accuracy: 0.6571\n",
      "Epoch 29/150\n",
      "700/700 [==============================] - 0s 11us/step - loss: 0.6512 - accuracy: 0.6500\n",
      "Epoch 30/150\n",
      "700/700 [==============================] - 0s 13us/step - loss: 0.6489 - accuracy: 0.6486\n",
      "Epoch 31/150\n",
      "700/700 [==============================] - 0s 13us/step - loss: 0.6354 - accuracy: 0.6600\n",
      "Epoch 32/150\n",
      "700/700 [==============================] - 0s 13us/step - loss: 0.6321 - accuracy: 0.6557\n",
      "Epoch 33/150\n",
      "700/700 [==============================] - 0s 11us/step - loss: 0.6266 - accuracy: 0.6657\n",
      "Epoch 34/150\n",
      "700/700 [==============================] - 0s 13us/step - loss: 0.6276 - accuracy: 0.6543\n",
      "Epoch 35/150\n",
      "700/700 [==============================] - 0s 11us/step - loss: 0.6223 - accuracy: 0.6571\n",
      "Epoch 36/150\n",
      "700/700 [==============================] - 0s 13us/step - loss: 0.6136 - accuracy: 0.6771\n",
      "Epoch 37/150\n",
      "700/700 [==============================] - 0s 11us/step - loss: 0.6092 - accuracy: 0.6714\n",
      "Epoch 38/150\n",
      "700/700 [==============================] - 0s 13us/step - loss: 0.6025 - accuracy: 0.6829\n",
      "Epoch 39/150\n",
      "700/700 [==============================] - 0s 11us/step - loss: 0.6088 - accuracy: 0.6800\n",
      "Epoch 40/150\n",
      "700/700 [==============================] - 0s 11us/step - loss: 0.6201 - accuracy: 0.6571\n",
      "Epoch 41/150\n",
      "700/700 [==============================] - 0s 13us/step - loss: 0.6193 - accuracy: 0.6586\n",
      "Epoch 42/150\n",
      "700/700 [==============================] - 0s 13us/step - loss: 0.6068 - accuracy: 0.6771\n",
      "Epoch 43/150\n",
      "700/700 [==============================] - 0s 11us/step - loss: 0.5971 - accuracy: 0.6771\n",
      "Epoch 44/150\n",
      "700/700 [==============================] - 0s 13us/step - loss: 0.6154 - accuracy: 0.6471\n",
      "Epoch 45/150\n",
      "700/700 [==============================] - 0s 13us/step - loss: 0.6097 - accuracy: 0.6929\n",
      "Epoch 46/150\n",
      "700/700 [==============================] - 0s 12us/step - loss: 0.5909 - accuracy: 0.6957\n",
      "Epoch 47/150\n",
      "700/700 [==============================] - 0s 11us/step - loss: 0.6094 - accuracy: 0.6714\n",
      "Epoch 48/150\n",
      "700/700 [==============================] - 0s 13us/step - loss: 0.6113 - accuracy: 0.6829\n",
      "Epoch 49/150\n",
      "700/700 [==============================] - 0s 13us/step - loss: 0.5856 - accuracy: 0.7071\n",
      "Epoch 50/150\n",
      "700/700 [==============================] - 0s 13us/step - loss: 0.5874 - accuracy: 0.7029\n",
      "Epoch 51/150\n",
      "700/700 [==============================] - 0s 11us/step - loss: 0.6001 - accuracy: 0.6743\n",
      "Epoch 52/150\n",
      "700/700 [==============================] - 0s 13us/step - loss: 0.6260 - accuracy: 0.6671\n",
      "Epoch 53/150\n",
      "700/700 [==============================] - 0s 12us/step - loss: 0.5977 - accuracy: 0.6757\n",
      "Epoch 54/150\n",
      "700/700 [==============================] - 0s 13us/step - loss: 0.5857 - accuracy: 0.6929\n",
      "Epoch 55/150\n",
      "700/700 [==============================] - 0s 13us/step - loss: 0.5963 - accuracy: 0.6786\n",
      "Epoch 56/150\n",
      "700/700 [==============================] - 0s 11us/step - loss: 0.5793 - accuracy: 0.6957\n",
      "Epoch 57/150\n",
      "700/700 [==============================] - 0s 13us/step - loss: 0.5791 - accuracy: 0.7014\n",
      "Epoch 58/150\n",
      "700/700 [==============================] - 0s 11us/step - loss: 0.5917 - accuracy: 0.6814\n",
      "Epoch 59/150\n",
      "700/700 [==============================] - 0s 11us/step - loss: 0.5789 - accuracy: 0.7086\n",
      "Epoch 60/150\n",
      "700/700 [==============================] - 0s 16us/step - loss: 0.5770 - accuracy: 0.7043\n",
      "Epoch 61/150\n",
      "700/700 [==============================] - 0s 13us/step - loss: 0.5724 - accuracy: 0.7114\n",
      "Epoch 62/150\n",
      "700/700 [==============================] - 0s 13us/step - loss: 0.5823 - accuracy: 0.6943\n",
      "Epoch 63/150\n",
      "700/700 [==============================] - 0s 13us/step - loss: 0.5778 - accuracy: 0.7000\n",
      "Epoch 64/150\n",
      "700/700 [==============================] - 0s 11us/step - loss: 0.5773 - accuracy: 0.7014\n",
      "Epoch 65/150\n",
      "700/700 [==============================] - 0s 16us/step - loss: 0.5797 - accuracy: 0.7000\n",
      "Epoch 66/150\n",
      "700/700 [==============================] - 0s 14us/step - loss: 0.6067 - accuracy: 0.6786\n",
      "Epoch 67/150\n",
      "700/700 [==============================] - 0s 13us/step - loss: 0.5905 - accuracy: 0.6871\n",
      "Epoch 68/150\n",
      "700/700 [==============================] - 0s 14us/step - loss: 0.5774 - accuracy: 0.6929\n",
      "Epoch 69/150\n",
      "700/700 [==============================] - 0s 13us/step - loss: 0.5834 - accuracy: 0.6943\n",
      "Epoch 70/150\n",
      "700/700 [==============================] - 0s 14us/step - loss: 0.5761 - accuracy: 0.6957\n",
      "Epoch 71/150\n",
      "700/700 [==============================] - 0s 11us/step - loss: 0.5755 - accuracy: 0.6914\n",
      "Epoch 72/150\n",
      "700/700 [==============================] - 0s 11us/step - loss: 0.5745 - accuracy: 0.7043\n",
      "Epoch 73/150\n",
      "700/700 [==============================] - 0s 14us/step - loss: 0.5704 - accuracy: 0.7000\n",
      "Epoch 74/150\n",
      "700/700 [==============================] - 0s 11us/step - loss: 0.5955 - accuracy: 0.6986\n",
      "Epoch 75/150\n",
      "700/700 [==============================] - 0s 11us/step - loss: 0.6174 - accuracy: 0.6657\n",
      "Epoch 76/150\n",
      "700/700 [==============================] - 0s 11us/step - loss: 0.6105 - accuracy: 0.6657\n",
      "Epoch 77/150\n",
      "700/700 [==============================] - 0s 13us/step - loss: 0.6046 - accuracy: 0.6757\n",
      "Epoch 78/150\n",
      "700/700 [==============================] - 0s 11us/step - loss: 0.5864 - accuracy: 0.7000\n",
      "Epoch 79/150\n",
      "700/700 [==============================] - 0s 11us/step - loss: 0.6053 - accuracy: 0.6786\n",
      "Epoch 80/150\n"
     ]
    },
    {
     "name": "stdout",
     "output_type": "stream",
     "text": [
      "700/700 [==============================] - 0s 11us/step - loss: 0.5781 - accuracy: 0.6957\n",
      "Epoch 81/150\n",
      "700/700 [==============================] - 0s 11us/step - loss: 0.5761 - accuracy: 0.6986\n",
      "Epoch 82/150\n",
      "700/700 [==============================] - 0s 11us/step - loss: 0.5745 - accuracy: 0.6957\n",
      "Epoch 83/150\n",
      "700/700 [==============================] - 0s 11us/step - loss: 0.5733 - accuracy: 0.7000\n",
      "Epoch 84/150\n",
      "700/700 [==============================] - 0s 11us/step - loss: 0.5707 - accuracy: 0.6986\n",
      "Epoch 85/150\n",
      "700/700 [==============================] - 0s 11us/step - loss: 0.5767 - accuracy: 0.6786\n",
      "Epoch 86/150\n",
      "700/700 [==============================] - 0s 13us/step - loss: 0.5784 - accuracy: 0.6943\n",
      "Epoch 87/150\n",
      "700/700 [==============================] - 0s 11us/step - loss: 0.5734 - accuracy: 0.7000\n",
      "Epoch 88/150\n",
      "700/700 [==============================] - 0s 11us/step - loss: 0.5697 - accuracy: 0.6971\n",
      "Epoch 89/150\n",
      "700/700 [==============================] - 0s 13us/step - loss: 0.5723 - accuracy: 0.7029\n",
      "Epoch 90/150\n",
      "700/700 [==============================] - 0s 11us/step - loss: 0.5909 - accuracy: 0.6914\n",
      "Epoch 91/150\n",
      "700/700 [==============================] - 0s 13us/step - loss: 0.5900 - accuracy: 0.6829\n",
      "Epoch 92/150\n",
      "700/700 [==============================] - 0s 11us/step - loss: 0.6066 - accuracy: 0.6914\n",
      "Epoch 93/150\n",
      "700/700 [==============================] - 0s 11us/step - loss: 0.5794 - accuracy: 0.7057\n",
      "Epoch 94/150\n",
      "700/700 [==============================] - 0s 10us/step - loss: 0.5714 - accuracy: 0.6943\n",
      "Epoch 95/150\n",
      "700/700 [==============================] - 0s 10us/step - loss: 0.5670 - accuracy: 0.7057\n",
      "Epoch 96/150\n",
      "700/700 [==============================] - 0s 11us/step - loss: 0.5794 - accuracy: 0.6886\n",
      "Epoch 97/150\n",
      "700/700 [==============================] - 0s 13us/step - loss: 0.5792 - accuracy: 0.6957\n",
      "Epoch 98/150\n",
      "700/700 [==============================] - 0s 11us/step - loss: 0.5653 - accuracy: 0.7057\n",
      "Epoch 99/150\n",
      "700/700 [==============================] - 0s 10us/step - loss: 0.5641 - accuracy: 0.7014\n",
      "Epoch 100/150\n",
      "700/700 [==============================] - 0s 11us/step - loss: 0.5669 - accuracy: 0.7043\n",
      "Epoch 101/150\n",
      "700/700 [==============================] - 0s 11us/step - loss: 0.5676 - accuracy: 0.6957\n",
      "Epoch 102/150\n",
      "700/700 [==============================] - 0s 13us/step - loss: 0.5679 - accuracy: 0.7029\n",
      "Epoch 103/150\n",
      "700/700 [==============================] - 0s 11us/step - loss: 0.5715 - accuracy: 0.7000\n",
      "Epoch 104/150\n",
      "700/700 [==============================] - 0s 11us/step - loss: 0.5606 - accuracy: 0.7029\n",
      "Epoch 105/150\n",
      "700/700 [==============================] - 0s 11us/step - loss: 0.5594 - accuracy: 0.6986\n",
      "Epoch 106/150\n",
      "700/700 [==============================] - 0s 13us/step - loss: 0.5579 - accuracy: 0.7029\n",
      "Epoch 107/150\n",
      "700/700 [==============================] - 0s 13us/step - loss: 0.5753 - accuracy: 0.6871\n",
      "Epoch 108/150\n",
      "700/700 [==============================] - 0s 13us/step - loss: 0.5634 - accuracy: 0.7014\n",
      "Epoch 109/150\n",
      "700/700 [==============================] - ETA: 0s - loss: 0.5147 - accuracy: 0.70 - 0s 11us/step - loss: 0.5602 - accuracy: 0.7043\n",
      "Epoch 110/150\n",
      "700/700 [==============================] - 0s 11us/step - loss: 0.5622 - accuracy: 0.7143\n",
      "Epoch 111/150\n",
      "700/700 [==============================] - 0s 13us/step - loss: 0.5604 - accuracy: 0.7029\n",
      "Epoch 112/150\n",
      "700/700 [==============================] - 0s 11us/step - loss: 0.5593 - accuracy: 0.7000\n",
      "Epoch 113/150\n",
      "700/700 [==============================] - 0s 11us/step - loss: 0.5669 - accuracy: 0.6986\n",
      "Epoch 114/150\n",
      "700/700 [==============================] - 0s 11us/step - loss: 0.5774 - accuracy: 0.7000\n",
      "Epoch 115/150\n",
      "700/700 [==============================] - 0s 11us/step - loss: 0.5747 - accuracy: 0.6957\n",
      "Epoch 116/150\n",
      "700/700 [==============================] - 0s 11us/step - loss: 0.5703 - accuracy: 0.6943\n",
      "Epoch 117/150\n",
      "700/700 [==============================] - 0s 11us/step - loss: 0.5663 - accuracy: 0.6957\n",
      "Epoch 118/150\n",
      "700/700 [==============================] - 0s 11us/step - loss: 0.5650 - accuracy: 0.6857\n",
      "Epoch 119/150\n",
      "700/700 [==============================] - 0s 11us/step - loss: 0.5595 - accuracy: 0.6986\n",
      "Epoch 120/150\n",
      "700/700 [==============================] - 0s 11us/step - loss: 0.5596 - accuracy: 0.6914\n",
      "Epoch 121/150\n",
      "700/700 [==============================] - 0s 13us/step - loss: 0.5683 - accuracy: 0.6971\n",
      "Epoch 122/150\n",
      "700/700 [==============================] - 0s 11us/step - loss: 0.5860 - accuracy: 0.6929\n",
      "Epoch 123/150\n",
      "700/700 [==============================] - 0s 11us/step - loss: 0.5685 - accuracy: 0.6929\n",
      "Epoch 124/150\n",
      "700/700 [==============================] - 0s 13us/step - loss: 0.5583 - accuracy: 0.7057\n",
      "Epoch 125/150\n",
      "700/700 [==============================] - 0s 13us/step - loss: 0.5523 - accuracy: 0.7043\n",
      "Epoch 126/150\n",
      "700/700 [==============================] - 0s 13us/step - loss: 0.5610 - accuracy: 0.7014\n",
      "Epoch 127/150\n",
      "700/700 [==============================] - 0s 13us/step - loss: 0.5544 - accuracy: 0.7114\n",
      "Epoch 128/150\n",
      "700/700 [==============================] - 0s 13us/step - loss: 0.5553 - accuracy: 0.6971\n",
      "Epoch 129/150\n",
      "700/700 [==============================] - 0s 13us/step - loss: 0.5803 - accuracy: 0.6943\n",
      "Epoch 130/150\n",
      "700/700 [==============================] - 0s 14us/step - loss: 0.5754 - accuracy: 0.6957\n",
      "Epoch 131/150\n",
      "700/700 [==============================] - 0s 19us/step - loss: 0.5752 - accuracy: 0.6971\n",
      "Epoch 132/150\n",
      "700/700 [==============================] - 0s 14us/step - loss: 0.5807 - accuracy: 0.6871\n",
      "Epoch 133/150\n",
      "700/700 [==============================] - 0s 16us/step - loss: 0.5927 - accuracy: 0.6786\n",
      "Epoch 134/150\n",
      "700/700 [==============================] - 0s 14us/step - loss: 0.5757 - accuracy: 0.6914\n",
      "Epoch 135/150\n",
      "700/700 [==============================] - 0s 13us/step - loss: 0.5701 - accuracy: 0.6986\n",
      "Epoch 136/150\n",
      "700/700 [==============================] - 0s 16us/step - loss: 0.5547 - accuracy: 0.6986\n",
      "Epoch 137/150\n",
      "700/700 [==============================] - 0s 14us/step - loss: 0.5517 - accuracy: 0.7071\n",
      "Epoch 138/150\n",
      "700/700 [==============================] - 0s 13us/step - loss: 0.5705 - accuracy: 0.6957\n",
      "Epoch 139/150\n",
      "700/700 [==============================] - 0s 13us/step - loss: 0.5607 - accuracy: 0.6986\n",
      "Epoch 140/150\n",
      "700/700 [==============================] - 0s 11us/step - loss: 0.5586 - accuracy: 0.6986\n",
      "Epoch 141/150\n",
      "700/700 [==============================] - 0s 13us/step - loss: 0.5600 - accuracy: 0.6971\n",
      "Epoch 142/150\n",
      "700/700 [==============================] - 0s 13us/step - loss: 0.5568 - accuracy: 0.7000\n",
      "Epoch 143/150\n",
      "700/700 [==============================] - 0s 13us/step - loss: 0.5530 - accuracy: 0.7100\n",
      "Epoch 144/150\n",
      "700/700 [==============================] - 0s 11us/step - loss: 0.5733 - accuracy: 0.6929\n",
      "Epoch 145/150\n",
      "700/700 [==============================] - 0s 13us/step - loss: 0.5510 - accuracy: 0.7114\n",
      "Epoch 146/150\n",
      "700/700 [==============================] - 0s 14us/step - loss: 0.5663 - accuracy: 0.7057\n",
      "Epoch 147/150\n",
      "700/700 [==============================] - 0s 13us/step - loss: 0.5767 - accuracy: 0.6957\n",
      "Epoch 148/150\n",
      "700/700 [==============================] - 0s 13us/step - loss: 0.5778 - accuracy: 0.6886\n",
      "Epoch 149/150\n",
      "700/700 [==============================] - 0s 16us/step - loss: 0.5841 - accuracy: 0.6900\n",
      "Epoch 150/150\n",
      "700/700 [==============================] - 0s 13us/step - loss: 0.5671 - accuracy: 0.6929\n"
     ]
    },
    {
     "data": {
      "text/plain": [
       "<keras.callbacks.callbacks.History at 0x173c438c3c8>"
      ]
     },
     "execution_count": 40,
     "metadata": {},
     "output_type": "execute_result"
    }
   ],
   "source": [
    "model.fit(x_train, y_train, epochs=150, batch_size=64)"
   ]
  },
  {
   "cell_type": "markdown",
   "metadata": {},
   "source": [
    "## Use Case\n",
    "### SHAP provides multiple explainers for different kind of models.\n",
    "- TreeExplainer: Support XGBoost, LightGBM, CatBoost and scikit-learn models by Tree SHAP.\n",
    "- DeepExplainer (DEEP SHAP): Support TensorFlow and Keras models by using DeepLIFT and Shapley values.\n",
    "- GradientExplainer: Support TensorFlow and Keras models.\n",
    "- KernelExplainer (Kernel SHAP): Applying to any models by using LIME and Shapley values."
   ]
  },
  {
   "cell_type": "code",
   "execution_count": 41,
   "metadata": {},
   "outputs": [],
   "source": [
    "import shap"
   ]
  },
  {
   "cell_type": "code",
   "execution_count": 42,
   "metadata": {},
   "outputs": [
    {
     "name": "stdout",
     "output_type": "stream",
     "text": [
      "WARNING:tensorflow:AutoGraph could not transform <function _TFGradient.gradient.<locals>.grad_graph at 0x00000173C6272A68> and will run it as-is.\n",
      "Please report this to the TensorFlow team. When filing the bug, set the verbosity to 10 (on Linux, `export AUTOGRAPH_VERBOSITY=10`) and attach the full output.\n",
      "Cause: No module named 'tensorflow_core.estimator'\n"
     ]
    },
    {
     "name": "stderr",
     "output_type": "stream",
     "text": [
      "WARNING:tensorflow:AutoGraph could not transform <function _TFGradient.gradient.<locals>.grad_graph at 0x00000173C6272A68> and will run it as-is.\n",
      "Please report this to the TensorFlow team. When filing the bug, set the verbosity to 10 (on Linux, `export AUTOGRAPH_VERBOSITY=10`) and attach the full output.\n",
      "Cause: No module named 'tensorflow_core.estimator'\n"
     ]
    },
    {
     "name": "stdout",
     "output_type": "stream",
     "text": [
      "WARNING: AutoGraph could not transform <function _TFGradient.gradient.<locals>.grad_graph at 0x00000173C6272A68> and will run it as-is.\n",
      "Please report this to the TensorFlow team. When filing the bug, set the verbosity to 10 (on Linux, `export AUTOGRAPH_VERBOSITY=10`) and attach the full output.\n",
      "Cause: No module named 'tensorflow_core.estimator'\n"
     ]
    }
   ],
   "source": [
    "explainer = shap.GradientExplainer(model, x_train.values)\n",
    "shap_values = explainer.shap_values(x_test.values)"
   ]
  },
  {
   "cell_type": "code",
   "execution_count": 43,
   "metadata": {},
   "outputs": [
    {
     "data": {
      "image/png": "[encoded data removed]",
      "text/plain": [
       "<Figure size 576x338.4 with 1 Axes>"
      ]
     },
     "metadata": {
      "needs_background": "light"
     },
     "output_type": "display_data"
    }
   ],
   "source": [
    "shap_values = explainer.shap_values(x_test.values)\n",
    "shap.summary_plot(shap_values, x_test.values)"
   ]
  },
  {
   "cell_type": "code",
   "execution_count": 44,
   "metadata": {},
   "outputs": [
    {
     "data": {
      "text/plain": [
       "[array([[-3.36114727e-02, -1.74470805e-02, -3.98342349e-02,\n",
       "          4.40639146e-02,  5.50300740e-02, -7.42122158e-03,\n",
       "         -9.53931711e-04, -2.79246159e-02],\n",
       "        [ 2.08838228e-02,  6.84852106e-03, -2.24315077e-02,\n",
       "          1.94048230e-02, -9.22564417e-03,  1.30465813e-02,\n",
       "         -6.12828007e-05, -6.20601419e-03],\n",
       "        [-1.61800049e-02,  1.40275480e-03, -8.19057692e-03,\n",
       "          2.54663844e-02,  8.17368254e-02,  4.86789417e-04,\n",
       "          1.45227078e-03,  1.22710792e-02],\n",
       "        [-6.47862302e-03, -4.20408463e-03,  1.09618224e-01,\n",
       "         -8.52450207e-02,  1.67937830e-01, -1.93245860e-03,\n",
       "         -1.59298512e-03, -9.90029797e-03],\n",
       "        [ 2.33881804e-03, -3.07049043e-02, -2.20945925e-02,\n",
       "         -9.00808442e-03, -1.82580486e-01,  8.60463176e-03,\n",
       "         -4.78378171e-03, -1.93714090e-02],\n",
       "        [ 1.27119683e-02, -5.71215339e-02, -2.81485822e-02,\n",
       "          4.70115580e-02, -1.49514023e-02,  1.75031915e-03,\n",
       "         -1.72426039e-03,  6.14571851e-04],\n",
       "        [ 6.26477003e-02,  1.47975171e-02,  4.80309427e-02,\n",
       "         -6.40168190e-02, -2.09359422e-01,  6.24044240e-02,\n",
       "         -9.71161120e-04, -1.18016871e-02],\n",
       "        [-4.29861434e-02, -1.27062935e-03,  2.21878037e-01,\n",
       "         -2.25203633e-02, -1.45380959e-01, -1.46144340e-02,\n",
       "         -6.80989493e-03, -4.49712127e-02],\n",
       "        [ 4.53287996e-02,  4.14625183e-02, -1.13624129e-02,\n",
       "         -1.00821808e-01,  4.23267782e-02,  2.12972658e-03,\n",
       "         -1.20944832e-03, -1.20839020e-02],\n",
       "        [-3.59979570e-02, -6.78474158e-02,  3.82209755e-02,\n",
       "          8.21463466e-02, -2.16208756e-01, -1.80925010e-03,\n",
       "          2.32388196e-03, -3.61811072e-02],\n",
       "        [-2.06576642e-02,  1.17054909e-01, -5.21959225e-03,\n",
       "         -2.62751766e-02, -2.28668973e-01, -7.21368799e-03,\n",
       "         -2.40860484e-03, -4.69491445e-02],\n",
       "        [ 1.09687913e-02,  5.35205938e-02, -1.16297519e-02,\n",
       "          6.05677925e-02,  6.13899231e-02,  1.07123796e-03,\n",
       "         -1.50027615e-03, -2.63186079e-02],\n",
       "        [ 5.09623848e-02,  3.84892663e-03,  1.17276302e-02,\n",
       "          3.36450785e-02, -1.29906133e-01, -1.94028597e-02,\n",
       "         -1.54054476e-04, -1.34343086e-02],\n",
       "        [-7.58356825e-02,  2.54993681e-02,  7.76827186e-02,\n",
       "         -7.04212720e-03,  3.35691422e-02,  6.95084035e-03,\n",
       "         -2.51759076e-03, -4.83614057e-02],\n",
       "        [-2.81567988e-03, -4.61466797e-02,  5.47145773e-03,\n",
       "         -1.40913710e-01,  2.37397656e-01,  8.85201967e-04,\n",
       "         -1.85056613e-03, -2.07734713e-03],\n",
       "        [ 9.26546380e-02,  3.22335511e-01,  2.43744910e-01,\n",
       "          1.19175300e-01, -1.16598867e-01,  1.01666227e-02,\n",
       "          7.23538408e-03, -6.75406381e-02],\n",
       "        [-1.55886402e-02,  1.37447223e-01, -5.60309216e-02,\n",
       "          1.17958456e-01, -1.00213267e-01, -6.68935850e-03,\n",
       "          7.98731670e-03, -2.51153186e-02],\n",
       "        [ 2.20316313e-02, -2.72968728e-02,  7.00080581e-03,\n",
       "         -3.56652364e-02,  1.68431893e-01, -3.72236688e-03,\n",
       "          1.95403554e-05,  1.81471556e-02],\n",
       "        [-7.36466348e-02, -5.45434467e-02,  3.84606607e-02,\n",
       "          9.58249792e-02, -1.30692571e-01, -2.56990958e-02,\n",
       "         -1.52907101e-03, -4.54560071e-02],\n",
       "        [ 2.44013107e-04, -1.47624342e-02, -1.93575083e-03,\n",
       "          2.20702514e-02,  2.04888299e-01,  2.51375139e-03,\n",
       "         -4.11293033e-04, -3.19715473e-04],\n",
       "        [ 2.17669387e-03, -6.05713017e-02, -6.84462041e-02,\n",
       "         -2.86849961e-02,  7.63956681e-02,  1.42648108e-02,\n",
       "         -9.33897099e-04,  4.30778554e-03],\n",
       "        [-5.69826886e-02, -3.39065045e-02,  8.50589015e-03,\n",
       "          5.69195226e-02, -1.15656301e-01, -1.83636565e-02,\n",
       "         -2.90015200e-03, -5.37644923e-02],\n",
       "        [-5.82220927e-02,  2.99681742e-02,  1.54341767e-02,\n",
       "          1.06613159e-01,  7.23396093e-02,  4.61063255e-03,\n",
       "         -1.55075314e-03, -1.77606707e-03],\n",
       "        [ 3.10968235e-02, -3.05201150e-02, -8.65293220e-02,\n",
       "          9.84779671e-02,  5.93638979e-02, -3.21444497e-02,\n",
       "         -2.78553460e-03, -4.77106199e-02],\n",
       "        [-1.08058378e-02, -3.97037305e-02, -1.58065736e-01,\n",
       "         -1.06917121e-01,  3.65648530e-02,  2.11982173e-03,\n",
       "         -8.53566802e-04, -3.45685543e-03],\n",
       "        [ 5.41386195e-03,  1.45825306e-02, -4.64145392e-02,\n",
       "          2.52954196e-02,  4.58385088e-02, -2.98483251e-03,\n",
       "         -1.17180508e-03, -1.05514694e-02],\n",
       "        [-5.38473800e-02, -1.35140289e-02, -3.19015011e-02,\n",
       "          2.65887734e-02, -3.49747017e-02, -1.59483810e-03,\n",
       "         -7.13711634e-05, -3.53468694e-02],\n",
       "        [-2.58006025e-02, -1.20302597e-02, -1.51603892e-02,\n",
       "          6.00551022e-03,  1.89909726e-01, -2.38533341e-03,\n",
       "         -5.53214632e-04, -2.25368515e-03],\n",
       "        [-1.13949394e-02,  4.65290993e-02, -2.76488252e-02,\n",
       "         -9.83216390e-02,  1.11193568e-01,  1.13427555e-02,\n",
       "         -1.00688415e-03,  1.44654848e-02],\n",
       "        [-5.92671940e-03, -2.09982712e-02,  7.31770173e-02,\n",
       "         -8.69266093e-02,  6.59218132e-02, -1.59678038e-03,\n",
       "         -2.00170209e-03,  5.54675329e-03],\n",
       "        [-1.47506427e-02,  7.69111747e-03, -3.11312694e-02,\n",
       "          6.53342111e-03, -2.59166807e-01,  1.03403060e-02,\n",
       "         -1.30409608e-03, -9.65443440e-03],\n",
       "        [ 3.53618450e-02,  2.22039912e-02, -1.74191535e-01,\n",
       "         -1.96654394e-01,  2.78518736e-01, -2.90124048e-03,\n",
       "         -1.10685348e-03,  4.77902927e-02],\n",
       "        [-4.79006991e-02,  2.92956889e-01, -6.21260405e-02,\n",
       "          1.17972396e-01, -3.51118371e-02, -4.65611033e-02,\n",
       "          1.12250086e-03,  5.16325273e-02],\n",
       "        [-4.35845964e-02, -6.67859912e-02,  9.26377773e-02,\n",
       "          3.82583402e-02, -1.51309058e-01,  2.98417406e-04,\n",
       "         -1.15111528e-03, -3.57386321e-02],\n",
       "        [-1.15417887e-03, -3.26285958e-02, -7.50851491e-03,\n",
       "         -1.05467103e-01,  7.03464970e-02, -3.36070359e-02,\n",
       "         -3.40521161e-04,  1.70222651e-02],\n",
       "        [ 1.01154475e-02, -3.59221324e-02,  4.37519848e-02,\n",
       "          4.14916761e-02, -1.36982547e-02,  4.90105432e-03,\n",
       "         -1.67159224e-03, -1.02222618e-02],\n",
       "        [-5.63576221e-02,  4.57683625e-03, -7.72101283e-02,\n",
       "          5.21874614e-02, -1.20280609e-01,  8.74235295e-03,\n",
       "         -2.55445251e-04, -1.01542166e-02],\n",
       "        [ 2.99210548e-02, -5.04004210e-02,  1.01808067e-02,\n",
       "          9.55673214e-03,  7.10314065e-02, -2.33811745e-03,\n",
       "          2.66843621e-04,  2.33149994e-03],\n",
       "        [-2.27979757e-02, -4.48612534e-02,  5.41323572e-02,\n",
       "         -2.07018796e-02, -2.18608696e-02, -1.03486534e-02,\n",
       "         -1.17566099e-03, -3.48459706e-02],\n",
       "        [-1.38343861e-02, -1.38342138e-02,  9.22889356e-03,\n",
       "         -8.76775160e-02,  9.76055935e-02,  1.14498977e-02,\n",
       "         -4.61497053e-04, -1.08519453e-03],\n",
       "        [ 1.63393483e-01, -1.02755483e-02, -6.82126880e-02,\n",
       "          1.59138799e-01,  3.79463546e-02, -3.44304666e-02,\n",
       "          3.73950135e-03,  6.15197700e-03],\n",
       "        [-1.61469989e-02, -2.15216260e-02,  1.04749143e-01,\n",
       "          2.67472789e-02,  3.89117002e-02,  7.75456009e-03,\n",
       "         -9.47600172e-04, -2.61885696e-03],\n",
       "        [-5.41977063e-02, -3.18823010e-02,  5.59080392e-02,\n",
       "          4.97199781e-03, -2.59223357e-02,  4.59372718e-03,\n",
       "         -3.85762216e-03, -2.03556102e-02],\n",
       "        [ 2.10960507e-02,  8.19016993e-02, -1.66403562e-01,\n",
       "         -1.63605437e-01,  5.22993326e-01,  1.40120946e-02,\n",
       "          1.81238144e-03, -1.83276590e-02],\n",
       "        [ 2.04677731e-01,  7.79825523e-02, -1.31809950e-01,\n",
       "          1.87865168e-01, -1.37696758e-01, -2.00944226e-02,\n",
       "          1.08208833e-02, -2.37211818e-03],\n",
       "        [ 1.48595497e-01, -2.84914877e-02, -1.15371101e-01,\n",
       "          2.41107047e-01,  9.60198138e-03,  2.14846991e-03,\n",
       "          2.42233320e-04,  8.31328705e-03],\n",
       "        [-2.49041636e-02, -1.23984478e-02, -2.22673323e-02,\n",
       "          4.52110060e-02,  9.63501558e-02, -1.10641944e-04,\n",
       "         -7.60988798e-04, -8.85015761e-05],\n",
       "        [-2.90893819e-02, -1.01143986e-01, -8.06597248e-03,\n",
       "          1.38661832e-01, -2.92813152e-01, -1.65030733e-02,\n",
       "          3.43503174e-03, -1.05733098e-02],\n",
       "        [-2.44502276e-02,  1.54826432e-01,  1.35516534e-02,\n",
       "          5.73799387e-02,  8.53996202e-02, -1.92746688e-02,\n",
       "         -1.81908789e-03, -5.79748582e-03],\n",
       "        [ 8.73341877e-03,  1.18221901e-03,  1.64417755e-02,\n",
       "         -7.78616145e-02,  1.15982324e-01,  8.30775686e-03,\n",
       "         -1.67203846e-03,  6.24548784e-03],\n",
       "        [ 6.12911396e-03,  4.07399330e-03,  2.27361303e-02,\n",
       "         -1.29295245e-01,  9.06252563e-02,  3.70107475e-04,\n",
       "          3.81496688e-03,  1.89567916e-02],\n",
       "        [-3.79069820e-02, -3.40073882e-03, -1.17003741e-02,\n",
       "          7.56763145e-02, -1.57078817e-01, -1.81391686e-02,\n",
       "         -2.57372204e-03, -1.77839920e-02],\n",
       "        [-8.61326419e-03, -2.68329289e-02,  3.03439423e-02,\n",
       "         -3.47131887e-03,  5.33405878e-02,  4.64690151e-03,\n",
       "         -2.20640562e-03,  7.89352041e-03],\n",
       "        [-8.45740065e-02,  1.66609466e-01, -1.74077421e-01,\n",
       "          9.36391577e-02, -1.86146170e-01, -1.75241306e-02,\n",
       "         -5.24436124e-03, -2.07923558e-02],\n",
       "        [ 3.80797312e-02, -1.74323507e-02, -1.24354176e-02,\n",
       "          1.28694018e-02, -1.72369387e-02,  4.92662890e-03,\n",
       "         -5.22922783e-04, -2.83520501e-02],\n",
       "        [-5.38699776e-02,  2.02361941e-02, -7.23761469e-02,\n",
       "          1.41188323e-01, -1.35695100e-01, -1.85929183e-02,\n",
       "          6.88346336e-03,  2.34527420e-03],\n",
       "        [ 1.85870510e-02,  2.26423554e-02, -2.61672232e-02,\n",
       "          9.44926515e-02, -5.25012463e-02, -2.55219731e-03,\n",
       "         -1.55709804e-05, -7.20917946e-03],\n",
       "        [-1.68099049e-02,  1.94181520e-02,  2.56540836e-03,\n",
       "         -1.01864845e-01,  1.60721257e-01,  1.73856299e-02,\n",
       "         -1.01636571e-03, -1.31078102e-02],\n",
       "        [-1.38050644e-02, -3.80830318e-02, -2.02917289e-02,\n",
       "         -9.19956490e-02,  2.70070255e-01,  2.61290576e-02,\n",
       "         -1.39387045e-03,  8.70462414e-03],\n",
       "        [ 7.72563275e-03, -1.36531536e-02, -1.44718289e-02,\n",
       "         -5.96260205e-02,  5.30553721e-02, -7.55527755e-03,\n",
       "         -5.29053912e-04,  2.42607691e-03],\n",
       "        [-1.40065644e-02, -4.14572768e-02,  4.50101942e-02,\n",
       "          1.44918999e-02,  1.28698409e-01,  1.06315175e-02,\n",
       "          1.43088703e-03, -5.51692070e-03],\n",
       "        [ 4.83299717e-02,  8.68994929e-03, -5.81437768e-03,\n",
       "          2.13554911e-02,  2.42583733e-02, -1.02008609e-02,\n",
       "         -5.17077977e-04, -2.03627162e-02],\n",
       "        [ 3.91905680e-02, -1.21348798e-01,  9.53198597e-02,\n",
       "         -1.84530139e-01,  2.52778023e-01, -3.86701971e-02,\n",
       "         -2.32661003e-03, -9.56811104e-03],\n",
       "        [ 1.45797879e-01, -5.25639579e-02, -4.99893576e-02,\n",
       "          1.85114130e-01,  4.08218950e-02, -1.04203075e-03,\n",
       "         -4.63249814e-03,  1.28992200e-01],\n",
       "        [-1.63810905e-02, -1.50698554e-02,  1.21986680e-02,\n",
       "          1.81424245e-02, -2.78616836e-03,  1.80164631e-03,\n",
       "         -1.51107076e-03,  3.42113920e-03],\n",
       "        [ 2.37145405e-02, -2.57578548e-02, -1.57465821e-03,\n",
       "          6.89954311e-02, -2.54214462e-02,  1.32553186e-02,\n",
       "         -3.54092172e-03, -3.90742160e-03],\n",
       "        [-1.12594496e-02, -1.97121524e-03,  2.51823142e-02,\n",
       "         -6.35599196e-02,  1.78106517e-01,  4.87196026e-03,\n",
       "         -6.77408476e-04,  1.52239883e-02],\n",
       "        [-2.20820997e-02, -2.39743516e-02,  3.21426359e-03,\n",
       "          2.73748692e-02,  5.42032011e-02,  8.77657719e-03,\n",
       "         -1.02263037e-03, -1.69775961e-03]])]"
      ]
     },
     "execution_count": 44,
     "metadata": {},
     "output_type": "execute_result"
    }
   ],
   "source": [
    "shap_values."
   ]
  },
  {
   "cell_type": "markdown",
   "metadata": {},
   "source": [
    "# <font color='red'> D. Multiclass Classification : 실습 The MNIST dataset in Keras"
   ]
  },
  {
   "cell_type": "markdown",
   "metadata": {},
   "source": [
    "### 1.Loading the MNIST dataset in Keras"
   ]
  },
  {
   "cell_type": "code",
   "execution_count": 39,
   "metadata": {
    "id": "i53_mEDU9tmz"
   },
   "outputs": [],
   "source": [
    "from keras.datasets import mnist\n",
    "(train_images, train_labels), (test_images, test_labels) = mnist.load_data()"
   ]
  },
  {
   "cell_type": "code",
   "execution_count": 40,
   "metadata": {},
   "outputs": [
    {
     "data": {
      "text/plain": [
       "(60000, 28, 28)"
      ]
     },
     "execution_count": 40,
     "metadata": {},
     "output_type": "execute_result"
    },
    {
     "data": {
      "text/plain": [
       "60000"
      ]
     },
     "execution_count": 40,
     "metadata": {},
     "output_type": "execute_result"
    },
    {
     "data": {
      "text/plain": [
       "(10000, 28, 28)"
      ]
     },
     "execution_count": 40,
     "metadata": {},
     "output_type": "execute_result"
    },
    {
     "data": {
      "text/plain": [
       "10000"
      ]
     },
     "execution_count": 40,
     "metadata": {},
     "output_type": "execute_result"
    },
    {
     "data": {
      "text/plain": [
       "array([7, 2, 1, ..., 4, 5, 6], dtype=uint8)"
      ]
     },
     "execution_count": 40,
     "metadata": {},
     "output_type": "execute_result"
    }
   ],
   "source": [
    "train_images.shape\n",
    "len(train_labels)\n",
    "test_images.shape\n",
    "len(test_labels)\n",
    "test_labels"
   ]
  },
  {
   "cell_type": "markdown",
   "metadata": {},
   "source": [
    "### 2. The network architecture"
   ]
  },
  {
   "cell_type": "markdown",
   "metadata": {},
   "source": [
    "### <font color = 'purple'> Multicalss Classification \n",
    "### <font color = 'purple'> 10개를 구분하여야 하기 때문에 최종 layer에는 10개로 Softmax로 모델 구현"
   ]
  },
  {
   "cell_type": "code",
   "execution_count": 41,
   "metadata": {},
   "outputs": [],
   "source": [
    "from keras import models\n",
    "from keras import layers\n",
    "network = models.Sequential()\n",
    "network.add(layers.Dense(512, activation='relu', input_shape=(28 * 28,)))\n",
    "network.add(layers.Dense(10, activation='softmax'))"
   ]
  },
  {
   "cell_type": "markdown",
   "metadata": {},
   "source": [
    "### 3. The compilation step\n",
    "### <font color = 'purple'> 다중분류이기 떄문에 'categorical_crossentropy'\n"
   ]
  },
  {
   "cell_type": "code",
   "execution_count": 42,
   "metadata": {},
   "outputs": [],
   "source": [
    "network.compile(optimizer='rmsprop',\n",
    "                loss='categorical_crossentropy', metrics=['accuracy'])"
   ]
  },
  {
   "cell_type": "markdown",
   "metadata": {},
   "source": [
    "4. Preparing the image data (자료표준화)"
   ]
  },
  {
   "cell_type": "code",
   "execution_count": 43,
   "metadata": {},
   "outputs": [],
   "source": [
    "train_images = train_images.reshape((60000, 28 * 28))\n",
    "train_images = train_images.astype('float32') / 255\n",
    "test_images = test_images.reshape((10000, 28 * 28))\n",
    "test_images = test_images.astype('float32') / 255\n",
    "\n",
    "from keras.utils import to_categorical\n",
    "train_labels = to_categorical(train_labels)\n",
    "test_labels = to_categorical(test_labels)"
   ]
  },
  {
   "cell_type": "markdown",
   "metadata": {},
   "source": [
    "5. model fitting"
   ]
  },
  {
   "cell_type": "code",
   "execution_count": 44,
   "metadata": {
    "scrolled": true
   },
   "outputs": [
    {
     "name": "stdout",
     "output_type": "stream",
     "text": [
      "Epoch 1/5\n",
      "469/469 [==============================] - 6s 12ms/step - loss: 0.2574 - accuracy: 0.9257\n",
      "Epoch 2/5\n",
      "469/469 [==============================] - 6s 12ms/step - loss: 0.1028 - accuracy: 0.9696\n",
      "Epoch 3/5\n",
      "469/469 [==============================] - 6s 13ms/step - loss: 0.0672 - accuracy: 0.9797\n",
      "Epoch 4/5\n",
      "469/469 [==============================] - 6s 13ms/step - loss: 0.0490 - accuracy: 0.9854\n",
      "Epoch 5/5\n",
      "469/469 [==============================] - 6s 13ms/step - loss: 0.0367 - accuracy: 0.9892\n"
     ]
    },
    {
     "data": {
      "text/plain": [
       "<tensorflow.python.keras.callbacks.History at 0x21b49366e50>"
      ]
     },
     "execution_count": 44,
     "metadata": {},
     "output_type": "execute_result"
    }
   ],
   "source": [
    "network.fit(train_images, train_labels, epochs=5, batch_size=128)"
   ]
  },
  {
   "cell_type": "code",
   "execution_count": 45,
   "metadata": {},
   "outputs": [
    {
     "name": "stdout",
     "output_type": "stream",
     "text": [
      "313/313 [==============================] - 1s 4ms/step - loss: 0.0687 - accuracy: 0.9802\n"
     ]
    }
   ],
   "source": [
    "test_loss, test_acc = network.evaluate(test_images, test_labels)"
   ]
  },
  {
   "cell_type": "code",
   "execution_count": 46,
   "metadata": {},
   "outputs": [
    {
     "name": "stdout",
     "output_type": "stream",
     "text": [
      "test_acc: 0.9801999926567078\n"
     ]
    }
   ],
   "source": [
    "print('test_acc:', test_acc)"
   ]
  },
  {
   "cell_type": "markdown",
   "metadata": {},
   "source": [
    "# End"
   ]
  },
  {
   "cell_type": "code",
   "execution_count": null,
   "metadata": {},
   "outputs": [],
   "source": []
  }
 ],
 "metadata": {
  "accelerator": "GPU",
  "colab": {
   "authorship_tag": "ABX9TyOoE0W+adNV8lobZqKmsiDr",
   "name": "Week_딥러닝활성화함수.ipynb",
   "provenance": []
  },
  "kernelspec": {
   "display_name": "Python 3",
   "language": "python",
   "name": "python3"
  },
  "language_info": {
   "codemirror_mode": {
    "name": "ipython",
    "version": 3
   },
   "file_extension": ".py",
   "mimetype": "text/x-python",
   "name": "python",
   "nbconvert_exporter": "python",
   "pygments_lexer": "ipython3",
   "version": "3.7.4"
  }
 },
 "nbformat": 4,
 "nbformat_minor": 1
}
