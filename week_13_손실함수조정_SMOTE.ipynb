{
 "cells": [
  {
   "cell_type": "markdown",
   "metadata": {},
   "source": [
    "# 불균형데이터의 예측모형 개선"
   ]
  },
  {
   "cell_type": "code",
   "execution_count": 1,
   "metadata": {},
   "outputs": [],
   "source": [
    "from IPython.core.interactiveshell import InteractiveShell\n",
    "InteractiveShell.ast_node_interactivity = 'all'\n",
    "import warnings\n",
    "warnings.filterwarnings('ignore')\n",
    "import pandas as pd\n",
    "import numpy as np\n",
    "import matplotlib.pyplot as plt\n",
    "import seaborn as sns\n",
    "get_ipython().run_line_magic('matplotlib', 'inline')\n",
    "plt.rcParams['font.family']='Malgun Gothic' # 한글폰트\n",
    "from sklearn.preprocessing import StandardScaler, MinMaxScaler\n",
    "from sklearn.model_selection import train_test_split, cross_validate, cross_val_score\n",
    "from sklearn.model_selection import KFold\n",
    "from sklearn.model_selection import RandomizedSearchCV, GridSearchCV\n",
    "from sklearn.metrics import accuracy_score, plot_roc_curve \n",
    "from sklearn.metrics import plot_confusion_matrix, classification_report\n",
    "from sklearn.pipeline import Pipeline, make_pipeline\n",
    "import scikitplot as skplt\n",
    "from joblib import dump, load"
   ]
  },
  {
   "cell_type": "markdown",
   "metadata": {},
   "source": [
    "# 1. 데이터 불러오기"
   ]
  },
  {
   "cell_type": "code",
   "execution_count": 4,
   "metadata": {},
   "outputs": [
    {
     "data": {
      "text/plain": [
       "(28481, 31)"
      ]
     },
     "execution_count": 4,
     "metadata": {},
     "output_type": "execute_result"
    },
    {
     "data": {
      "text/html": [
       "<div>\n",
       "<style scoped>\n",
       "    .dataframe tbody tr th:only-of-type {\n",
       "        vertical-align: middle;\n",
       "    }\n",
       "\n",
       "    .dataframe tbody tr th {\n",
       "        vertical-align: top;\n",
       "    }\n",
       "\n",
       "    .dataframe thead th {\n",
       "        text-align: right;\n",
       "    }\n",
       "</style>\n",
       "<table border=\"1\" class=\"dataframe\">\n",
       "  <thead>\n",
       "    <tr style=\"text-align: right;\">\n",
       "      <th></th>\n",
       "      <th>Time</th>\n",
       "      <th>V1</th>\n",
       "      <th>V2</th>\n",
       "      <th>V3</th>\n",
       "      <th>V4</th>\n",
       "      <th>V5</th>\n",
       "      <th>V6</th>\n",
       "      <th>V7</th>\n",
       "      <th>V8</th>\n",
       "      <th>V9</th>\n",
       "      <th>...</th>\n",
       "      <th>V21</th>\n",
       "      <th>V22</th>\n",
       "      <th>V23</th>\n",
       "      <th>V24</th>\n",
       "      <th>V25</th>\n",
       "      <th>V26</th>\n",
       "      <th>V27</th>\n",
       "      <th>V28</th>\n",
       "      <th>Amount</th>\n",
       "      <th>Class</th>\n",
       "    </tr>\n",
       "  </thead>\n",
       "  <tbody>\n",
       "    <tr>\n",
       "      <th>188573</th>\n",
       "      <td>128033.0</td>\n",
       "      <td>1.617384</td>\n",
       "      <td>-1.241592</td>\n",
       "      <td>-1.670955</td>\n",
       "      <td>-0.596069</td>\n",
       "      <td>0.316851</td>\n",
       "      <td>0.994479</td>\n",
       "      <td>-0.148911</td>\n",
       "      <td>0.165043</td>\n",
       "      <td>1.487314</td>\n",
       "      <td>...</td>\n",
       "      <td>0.424888</td>\n",
       "      <td>1.401620</td>\n",
       "      <td>-0.156867</td>\n",
       "      <td>-0.169490</td>\n",
       "      <td>0.095090</td>\n",
       "      <td>1.111358</td>\n",
       "      <td>-0.048152</td>\n",
       "      <td>-0.051999</td>\n",
       "      <td>182.00</td>\n",
       "      <td>0</td>\n",
       "    </tr>\n",
       "    <tr>\n",
       "      <th>212078</th>\n",
       "      <td>138702.0</td>\n",
       "      <td>1.979066</td>\n",
       "      <td>-0.152642</td>\n",
       "      <td>-1.025854</td>\n",
       "      <td>0.323935</td>\n",
       "      <td>-0.112247</td>\n",
       "      <td>-0.848707</td>\n",
       "      <td>0.083613</td>\n",
       "      <td>-0.168490</td>\n",
       "      <td>0.279312</td>\n",
       "      <td>...</td>\n",
       "      <td>-0.218627</td>\n",
       "      <td>-0.557859</td>\n",
       "      <td>0.333790</td>\n",
       "      <td>0.017463</td>\n",
       "      <td>-0.361069</td>\n",
       "      <td>0.177105</td>\n",
       "      <td>-0.074034</td>\n",
       "      <td>-0.067612</td>\n",
       "      <td>14.99</td>\n",
       "      <td>0</td>\n",
       "    </tr>\n",
       "    <tr>\n",
       "      <th>180970</th>\n",
       "      <td>124771.0</td>\n",
       "      <td>-1.215397</td>\n",
       "      <td>0.571786</td>\n",
       "      <td>2.158492</td>\n",
       "      <td>-0.007907</td>\n",
       "      <td>-0.308239</td>\n",
       "      <td>0.146475</td>\n",
       "      <td>0.336799</td>\n",
       "      <td>0.055504</td>\n",
       "      <td>0.812124</td>\n",
       "      <td>...</td>\n",
       "      <td>-0.233673</td>\n",
       "      <td>-0.230841</td>\n",
       "      <td>-0.324005</td>\n",
       "      <td>0.006968</td>\n",
       "      <td>0.490469</td>\n",
       "      <td>-0.603385</td>\n",
       "      <td>0.159011</td>\n",
       "      <td>0.176524</td>\n",
       "      <td>65.00</td>\n",
       "      <td>0</td>\n",
       "    </tr>\n",
       "    <tr>\n",
       "      <th>46686</th>\n",
       "      <td>42887.0</td>\n",
       "      <td>1.048021</td>\n",
       "      <td>0.074661</td>\n",
       "      <td>0.483465</td>\n",
       "      <td>1.350541</td>\n",
       "      <td>-0.211418</td>\n",
       "      <td>0.034510</td>\n",
       "      <td>0.020746</td>\n",
       "      <td>0.101333</td>\n",
       "      <td>-0.007038</td>\n",
       "      <td>...</td>\n",
       "      <td>-0.016377</td>\n",
       "      <td>0.089786</td>\n",
       "      <td>-0.078576</td>\n",
       "      <td>0.237560</td>\n",
       "      <td>0.598897</td>\n",
       "      <td>-0.346034</td>\n",
       "      <td>0.031513</td>\n",
       "      <td>0.013450</td>\n",
       "      <td>39.13</td>\n",
       "      <td>0</td>\n",
       "    </tr>\n",
       "    <tr>\n",
       "      <th>54739</th>\n",
       "      <td>46594.0</td>\n",
       "      <td>-0.352781</td>\n",
       "      <td>0.784804</td>\n",
       "      <td>-0.030918</td>\n",
       "      <td>-1.213527</td>\n",
       "      <td>2.459426</td>\n",
       "      <td>3.365564</td>\n",
       "      <td>0.115579</td>\n",
       "      <td>0.937155</td>\n",
       "      <td>-0.521070</td>\n",
       "      <td>...</td>\n",
       "      <td>-0.283099</td>\n",
       "      <td>-0.903428</td>\n",
       "      <td>-0.061688</td>\n",
       "      <td>0.983523</td>\n",
       "      <td>-0.036537</td>\n",
       "      <td>0.086466</td>\n",
       "      <td>0.268068</td>\n",
       "      <td>0.114003</td>\n",
       "      <td>0.89</td>\n",
       "      <td>0</td>\n",
       "    </tr>\n",
       "  </tbody>\n",
       "</table>\n",
       "<p>5 rows × 31 columns</p>\n",
       "</div>"
      ],
      "text/plain": [
       "            Time        V1        V2        V3        V4        V5        V6  \\\n",
       "188573  128033.0  1.617384 -1.241592 -1.670955 -0.596069  0.316851  0.994479   \n",
       "212078  138702.0  1.979066 -0.152642 -1.025854  0.323935 -0.112247 -0.848707   \n",
       "180970  124771.0 -1.215397  0.571786  2.158492 -0.007907 -0.308239  0.146475   \n",
       "46686    42887.0  1.048021  0.074661  0.483465  1.350541 -0.211418  0.034510   \n",
       "54739    46594.0 -0.352781  0.784804 -0.030918 -1.213527  2.459426  3.365564   \n",
       "\n",
       "              V7        V8        V9  ...       V21       V22       V23  \\\n",
       "188573 -0.148911  0.165043  1.487314  ...  0.424888  1.401620 -0.156867   \n",
       "212078  0.083613 -0.168490  0.279312  ... -0.218627 -0.557859  0.333790   \n",
       "180970  0.336799  0.055504  0.812124  ... -0.233673 -0.230841 -0.324005   \n",
       "46686   0.020746  0.101333 -0.007038  ... -0.016377  0.089786 -0.078576   \n",
       "54739   0.115579  0.937155 -0.521070  ... -0.283099 -0.903428 -0.061688   \n",
       "\n",
       "             V24       V25       V26       V27       V28  Amount  Class  \n",
       "188573 -0.169490  0.095090  1.111358 -0.048152 -0.051999  182.00      0  \n",
       "212078  0.017463 -0.361069  0.177105 -0.074034 -0.067612   14.99      0  \n",
       "180970  0.006968  0.490469 -0.603385  0.159011  0.176524   65.00      0  \n",
       "46686   0.237560  0.598897 -0.346034  0.031513  0.013450   39.13      0  \n",
       "54739   0.983523 -0.036537  0.086466  0.268068  0.114003    0.89      0  \n",
       "\n",
       "[5 rows x 31 columns]"
      ]
     },
     "execution_count": 4,
     "metadata": {},
     "output_type": "execute_result"
    }
   ],
   "source": [
    "df = pd.read_csv('../../data/creditcard.csv')\n",
    "df =df.sample(frac=0.1)\n",
    "df.shape; df.head()"
   ]
  },
  {
   "cell_type": "code",
   "execution_count": 7,
   "metadata": {},
   "outputs": [
    {
     "data": {
      "text/plain": [
       "0    0.998631\n",
       "1    0.001369\n",
       "Name: Class, dtype: float64"
      ]
     },
     "execution_count": 7,
     "metadata": {},
     "output_type": "execute_result"
    }
   ],
   "source": [
    "df['Class'].value_counts(normalize=True)"
   ]
  },
  {
   "cell_type": "code",
   "execution_count": 8,
   "metadata": {},
   "outputs": [],
   "source": [
    "from sklearn.preprocessing import StandardScaler\n",
    "df['Amount'] = StandardScaler().fit_transform(df['Amount'].values.reshape(-1,1))"
   ]
  },
  {
   "cell_type": "code",
   "execution_count": 9,
   "metadata": {},
   "outputs": [],
   "source": [
    "X = df.drop(['Class', 'Time'], axis=1)\n",
    "y = df['Class']"
   ]
  },
  {
   "cell_type": "code",
   "execution_count": 10,
   "metadata": {},
   "outputs": [
    {
     "data": {
      "text/plain": [
       "[<matplotlib.lines.Line2D at 0x22f9e365e88>]"
      ]
     },
     "execution_count": 10,
     "metadata": {},
     "output_type": "execute_result"
    },
    {
     "data": {
      "text/plain": [
       "Text(0.5, 0, '주성분 개 수')"
      ]
     },
     "execution_count": 10,
     "metadata": {},
     "output_type": "execute_result"
    },
    {
     "data": {
      "text/plain": [
       "Text(0, 0.5, '총변동량 누적 설명 비율')"
      ]
     },
     "execution_count": 10,
     "metadata": {},
     "output_type": "execute_result"
    },
    {
     "data": {
      "image/png": "[encoded data removed]",
      "text/plain": [
       "<Figure size 432x288 with 1 Axes>"
      ]
     },
     "metadata": {
      "needs_background": "light"
     },
     "output_type": "display_data"
    }
   ],
   "source": [
    "from sklearn.decomposition import PCA\n",
    "pca = PCA().fit(X)\n",
    "plt.plot(np.cumsum(pca.explained_variance_ratio_), 'rs--')\n",
    "plt.xlabel('주성분 개 수', fontsize='16')\n",
    "plt.ylabel('총변동량 누적 설명 비율', fontsize='16')"
   ]
  },
  {
   "cell_type": "code",
   "execution_count": 11,
   "metadata": {},
   "outputs": [
    {
     "data": {
      "text/plain": [
       "PCA(n_components=17)"
      ]
     },
     "execution_count": 11,
     "metadata": {},
     "output_type": "execute_result"
    },
    {
     "name": "stdout",
     "output_type": "stream",
     "text": [
      "총변동량 설명비율 (%) : [12.97 10.11  7.32  6.8   6.25  5.7   5.    4.33  3.73  3.58  3.23  3.17\n",
      "  3.11  2.8   2.65  2.41  2.24]\n"
     ]
    },
    {
     "data": {
      "text/plain": [
       "85.39999999999999"
      ]
     },
     "execution_count": 11,
     "metadata": {},
     "output_type": "execute_result"
    }
   ],
   "source": [
    "pca = PCA(n_components=17)\n",
    "pca.fit(X)\n",
    "X_pca = pca.transform(X)\n",
    "\n",
    "print('총변동량 설명비율 (%) :', np.round(pca.explained_variance_ratio_*100, 2))\n",
    "np.array(np.round(pca.explained_variance_ratio_*100, 2)).sum()"
   ]
  },
  {
   "cell_type": "code",
   "execution_count": 12,
   "metadata": {},
   "outputs": [],
   "source": [
    "X_train, X_test, y_train, y_test=train_test_split(X, y, test_size=0.2, \n",
    "                                                  stratify= y, random_state=11)"
   ]
  },
  {
   "cell_type": "markdown",
   "metadata": {},
   "source": [
    "# 2. 손실함수 조정\n",
    "\n",
    "## 2.1 손실함수 조정전"
   ]
  },
  {
   "cell_type": "code",
   "execution_count": 14,
   "metadata": {},
   "outputs": [
    {
     "name": "stdout",
     "output_type": "stream",
     "text": [
      "              precision    recall  f1-score   support\n",
      "\n",
      "           0       1.00      1.00      1.00      5689\n",
      "           1       1.00      0.25      0.40         8\n",
      "\n",
      "    accuracy                           1.00      5697\n",
      "   macro avg       1.00      0.62      0.70      5697\n",
      "weighted avg       1.00      1.00      1.00      5697\n",
      "\n"
     ]
    },
    {
     "data": {
      "text/plain": [
       "<sklearn.metrics._plot.confusion_matrix.ConfusionMatrixDisplay at 0x22f9e42edc8>"
      ]
     },
     "execution_count": 14,
     "metadata": {},
     "output_type": "execute_result"
    },
    {
     "data": {
      "image/png": "[encoded data removed]",
      "text/plain": [
       "<Figure size 432x288 with 2 Axes>"
      ]
     },
     "metadata": {
      "needs_background": "light"
     },
     "output_type": "display_data"
    }
   ],
   "source": [
    "from sklearn.linear_model import LogisticRegression\n",
    "model = LogisticRegression(random_state=11)\n",
    "\n",
    "parameters = {'C': np.linspace(1, 10, 10)}\n",
    "clf = GridSearchCV(model, parameters, cv=5)\n",
    "\n",
    "y_predict = clf.fit(X_train, y_train).predict(X_test)\n",
    "\n",
    "print(classification_report(y_test, y_predict))\n",
    "plot_confusion_matrix(clf, X_test, y_test)"
   ]
  },
  {
   "cell_type": "markdown",
   "metadata": {},
   "source": [
    "## lasso"
   ]
  },
  {
   "cell_type": "code",
   "execution_count": 15,
   "metadata": {},
   "outputs": [
    {
     "name": "stdout",
     "output_type": "stream",
     "text": [
      "              precision    recall  f1-score   support\n",
      "\n",
      "           0       1.00      1.00      1.00      5689\n",
      "           1       0.80      0.50      0.62         8\n",
      "\n",
      "    accuracy                           1.00      5697\n",
      "   macro avg       0.90      0.75      0.81      5697\n",
      "weighted avg       1.00      1.00      1.00      5697\n",
      "\n"
     ]
    },
    {
     "data": {
      "text/plain": [
       "<sklearn.metrics._plot.confusion_matrix.ConfusionMatrixDisplay at 0x22f9f9f2d48>"
      ]
     },
     "execution_count": 15,
     "metadata": {},
     "output_type": "execute_result"
    },
    {
     "data": {
      "image/png": "[encoded data removed]",
      "text/plain": [
       "<Figure size 432x288 with 2 Axes>"
      ]
     },
     "metadata": {
      "needs_background": "light"
     },
     "output_type": "display_data"
    }
   ],
   "source": [
    "model = LogisticRegression(penalty='l1', solver='saga', random_state=11)\n",
    "parameters = {'C': np.linspace(1, 10, 10)}\n",
    "clf = GridSearchCV(model, parameters, cv=5)\n",
    "\n",
    "y_predict = clf.fit(X_train, y_train).predict(X_test)\n",
    "\n",
    "print(classification_report(y_test, y_predict))\n",
    "plot_confusion_matrix(clf, X_test, y_test)"
   ]
  },
  {
   "cell_type": "markdown",
   "metadata": {},
   "source": [
    "## 2.2 손실함수 조정 후"
   ]
  },
  {
   "cell_type": "code",
   "execution_count": 25,
   "metadata": {},
   "outputs": [
    {
     "name": "stdout",
     "output_type": "stream",
     "text": [
      "              precision    recall  f1-score   support\n",
      "\n",
      "           0       1.00      0.99      1.00      5689\n",
      "           1       0.14      0.62      0.23         8\n",
      "\n",
      "    accuracy                           0.99      5697\n",
      "   macro avg       0.57      0.81      0.61      5697\n",
      "weighted avg       1.00      0.99      1.00      5697\n",
      "\n"
     ]
    },
    {
     "data": {
      "text/plain": [
       "<sklearn.metrics._plot.confusion_matrix.ConfusionMatrixDisplay at 0x22fa3756648>"
      ]
     },
     "execution_count": 25,
     "metadata": {},
     "output_type": "execute_result"
    },
    {
     "data": {
      "image/png": "[encoded data removed]",
      "text/plain": [
       "<Figure size 432x288 with 2 Axes>"
      ]
     },
     "metadata": {
      "needs_background": "light"
     },
     "output_type": "display_data"
    }
   ],
   "source": [
    "model = LogisticRegression(random_state=11, class_weight='balanced')\n",
    "\n",
    "parameters = {'C': np.linspace(1, 10, 10)}\n",
    "clf = GridSearchCV(model, parameters, cv=5)\n",
    "\n",
    "y_predict = clf.fit(X_train, y_train).predict(X_test)\n",
    "\n",
    "print(classification_report(y_test, y_predict))\n",
    "plot_confusion_matrix(clf, X_test, y_test)"
   ]
  },
  {
   "cell_type": "code",
   "execution_count": 26,
   "metadata": {},
   "outputs": [
    {
     "data": {
      "text/plain": [
       "0    0.998639\n",
       "1    0.001361\n",
       "Name: Class, dtype: float64"
      ]
     },
     "execution_count": 26,
     "metadata": {},
     "output_type": "execute_result"
    },
    {
     "name": "stdout",
     "output_type": "stream",
     "text": [
      "              precision    recall  f1-score   support\n",
      "\n",
      "           0       1.00      0.99      0.99      5689\n",
      "           1       0.08      0.62      0.14         8\n",
      "\n",
      "    accuracy                           0.99      5697\n",
      "   macro avg       0.54      0.81      0.57      5697\n",
      "weighted avg       1.00      0.99      0.99      5697\n",
      "\n"
     ]
    },
    {
     "data": {
      "text/plain": [
       "<sklearn.metrics._plot.confusion_matrix.ConfusionMatrixDisplay at 0x22f9fa2ac08>"
      ]
     },
     "execution_count": 26,
     "metadata": {},
     "output_type": "execute_result"
    },
    {
     "data": {
      "image/png": "[encoded data removed]",
      "text/plain": [
       "<Figure size 432x288 with 2 Axes>"
      ]
     },
     "metadata": {
      "needs_background": "light"
     },
     "output_type": "display_data"
    }
   ],
   "source": [
    "y_train.value_counts(normalize=True)\n",
    "major = y_train.value_counts(normalize=True)[0]\n",
    "minor = y_train.value_counts(normalize=True)[1]\n",
    "\n",
    "model = LogisticRegression(random_state=11, class_weight={0: minor, 1:major})\n",
    "\n",
    "parameters = {'C': np.linspace(1, 10, 10)}\n",
    "clf = GridSearchCV(model, parameters, cv=5)\n",
    "\n",
    "y_predict = clf.fit(X_train, y_train).predict(X_test)\n",
    "\n",
    "print(classification_report(y_test, y_predict))\n",
    "plot_confusion_matrix(clf, X_test, y_test)"
   ]
  },
  {
   "cell_type": "code",
   "execution_count": 106,
   "metadata": {},
   "outputs": [
    {
     "data": {
      "text/plain": [
       "(array([9377.,  920.,  377.,  229.,  127.,  100.,   81.,   58.,   60.,\n",
       "          64.]),\n",
       " array([3.29553746e-57, 1.00000000e-01, 2.00000000e-01, 3.00000000e-01,\n",
       "        4.00000000e-01, 5.00000000e-01, 6.00000000e-01, 7.00000000e-01,\n",
       "        8.00000000e-01, 9.00000000e-01, 1.00000000e+00]),\n",
       " <a list of 10 Patch objects>)"
      ]
     },
     "execution_count": 106,
     "metadata": {},
     "output_type": "execute_result"
    },
    {
     "data": {
      "text/plain": [
       "(array([  64.,   60.,   58.,   81.,  100.,  127.,  229.,  377.,  920.,\n",
       "        9377.]),\n",
       " array([0. , 0.1, 0.2, 0.3, 0.4, 0.5, 0.6, 0.7, 0.8, 0.9, 1. ]),\n",
       " <a list of 10 Patch objects>)"
      ]
     },
     "execution_count": 106,
     "metadata": {},
     "output_type": "execute_result"
    },
    {
     "data": {
      "image/png": "[encoded data removed]",
      "text/plain": [
       "<Figure size 432x288 with 1 Axes>"
      ]
     },
     "metadata": {
      "needs_background": "light"
     },
     "output_type": "display_data"
    },
    {
     "data": {
      "text/plain": [
       "<matplotlib.collections.PathCollection at 0x279458311c8>"
      ]
     },
     "execution_count": 106,
     "metadata": {},
     "output_type": "execute_result"
    },
    {
     "data": {
      "image/png": "[encoded data removed]",
      "text/plain": [
       "<Figure size 432x288 with 1 Axes>"
      ]
     },
     "metadata": {
      "needs_background": "light"
     },
     "output_type": "display_data"
    }
   ],
   "source": [
    "y_proba = clf.predict_proba(X_test)\n",
    "plt.hist(y_proba[:,1]);\n",
    "plt.hist(y_proba[:,0]); plt.show()\n",
    "plt.scatter(np.arange(len(y_test)), np.sort(y_proba[:,1]))"
   ]
  },
  {
   "cell_type": "code",
   "execution_count": 104,
   "metadata": {
    "scrolled": true
   },
   "outputs": [
    {
     "data": {
      "text/plain": [
       "0    0.998455\n",
       "1    0.001545\n",
       "Name: Class, dtype: float64"
      ]
     },
     "execution_count": 104,
     "metadata": {},
     "output_type": "execute_result"
    }
   ],
   "source": [
    "df['Class'].value_counts(normalize=True)"
   ]
  },
  {
   "cell_type": "code",
   "execution_count": 105,
   "metadata": {
    "scrolled": true
   },
   "outputs": [
    {
     "data": {
      "text/plain": [
       "<matplotlib.axes._subplots.AxesSubplot at 0x27945705948>"
      ]
     },
     "execution_count": 105,
     "metadata": {},
     "output_type": "execute_result"
    },
    {
     "data": {
      "image/png": "[encoded data removed]",
      "text/plain": [
       "<Figure size 432x288 with 1 Axes>"
      ]
     },
     "metadata": {
      "needs_background": "light"
     },
     "output_type": "display_data"
    }
   ],
   "source": [
    "skplt.estimators.plot_learning_curve(clf, X_train, y_train, scoring='recall_macro')"
   ]
  },
  {
   "cell_type": "markdown",
   "metadata": {},
   "source": [
    "## 1. Sklearn utils\n",
    "### 손실함수 조정이 가능한 알고리즘"
   ]
  },
  {
   "cell_type": "code",
   "execution_count": 107,
   "metadata": {},
   "outputs": [],
   "source": [
    "# Classifiers\n",
    "from sklearn.linear_model import LogisticRegression\n",
    "from sklearn.svm import SVC\n",
    "from sklearn.tree import DecisionTreeClassifier\n",
    "from sklearn.ensemble import (RandomForestClassifier, ExtraTreesClassifier)\n",
    "# metrics\n",
    "from sklearn.metrics import roc_curve, precision_recall_curve, auc, precision_score\n",
    "from sklearn.metrics import confusion_matrix, classification_report, roc_auc_score, average_precision_score\n",
    "from sklearn.metrics import f1_score, recall_score, log_loss, brier_score_loss, matthews_corrcoef\n",
    "from scipy.stats import ks_2samp"
   ]
  },
  {
   "cell_type": "code",
   "execution_count": 108,
   "metadata": {},
   "outputs": [],
   "source": [
    "classifiers = {}\n",
    "classifiers.update({'LGR': LogisticRegression(class_weight='balanced')})\n",
    "classifiers.update({'SVC': SVC(class_weight='balanced', probability=True)})\n",
    "classifiers.update({'Decisiontree': DecisionTreeClassifier(class_weight='balanced')})\n",
    "classifiers.update({'Extratree': ExtraTreesClassifier(class_weight='balanced', n_estimators=250)})\n",
    "classifiers.update({'Random Forest': RandomForestClassifier(class_weight='balanced', n_estimators=100)})"
   ]
  },
  {
   "cell_type": "code",
   "execution_count": 109,
   "metadata": {},
   "outputs": [
    {
     "data": {
      "application/vnd.jupyter.widget-view+json": {
       "model_id": "1208459b6cbe41d7afbe6f55eb6cb737",
       "version_major": 2,
       "version_minor": 0
      },
      "text/plain": [
       "HBox(children=(FloatProgress(value=0.0, max=5.0), HTML(value='')))"
      ]
     },
     "metadata": {},
     "output_type": "display_data"
    },
    {
     "name": "stdout",
     "output_type": "stream",
     "text": [
      "\n"
     ]
    }
   ],
   "source": [
    "from tqdm import tqdm_notebook\n",
    "kf = KFold(n_splits=2)\n",
    "results = {}\n",
    "for classifier_label, classifier in tqdm_notebook(classifiers.items()):\n",
    "    steps = [('classifier', classifier)]\n",
    "    pipeline = Pipeline(steps = steps)\n",
    "    param_grid = {}\n",
    "    \n",
    "    gs = RandomizedSearchCV(pipeline, param_grid, cv = kf,\n",
    "                            n_iter = 2,\n",
    "                            scoring = 'f1_macro')  \n",
    "    y_pred = gs.fit(X_train, y_train).predict(X_test)\n",
    "    y_proba = gs.predict_proba(X_test)\n",
    "    y_score = y_proba[:,1]\n",
    "    \n",
    "    result = {'Best Parameters': gs.best_params_,\n",
    "              'Training recall_macro': gs.best_score_,\n",
    "              'Test recall_macro': recall_score(y_test, y_pred, average='macro'),\n",
    "              'AUROC': roc_auc_score(y_test, y_score),\n",
    "              'Average PR': average_precision_score(y_test, y_score),\n",
    "              'F1-score': f1_score(y_test, y_pred),\n",
    "              'Accuracy': cross_val_score(gs, X_train, y_train).mean(),\n",
    "              'Log_loss': log_loss(y_test, y_proba),\n",
    "              'Brier_score': brier_score_loss(y_test, y_score),\n",
    "              'KS_pvalue': ks_2samp(y_test, y_pred)[1]\n",
    "             }\n",
    " \n",
    "    results.update({classifier_label: result})"
   ]
  },
  {
   "cell_type": "code",
   "execution_count": 110,
   "metadata": {},
   "outputs": [
    {
     "data": {
      "text/html": [
       "<div>\n",
       "<style scoped>\n",
       "    .dataframe tbody tr th:only-of-type {\n",
       "        vertical-align: middle;\n",
       "    }\n",
       "\n",
       "    .dataframe tbody tr th {\n",
       "        vertical-align: top;\n",
       "    }\n",
       "\n",
       "    .dataframe thead th {\n",
       "        text-align: right;\n",
       "    }\n",
       "</style>\n",
       "<table border=\"1\" class=\"dataframe\">\n",
       "  <thead>\n",
       "    <tr style=\"text-align: right;\">\n",
       "      <th></th>\n",
       "      <th>Training recall_macro</th>\n",
       "      <th>Test recall_macro</th>\n",
       "      <th>AUROC</th>\n",
       "      <th>Average PR</th>\n",
       "      <th>F1-score</th>\n",
       "      <th>Accuracy</th>\n",
       "      <th>Log_loss</th>\n",
       "      <th>Brier_score</th>\n",
       "      <th>KS_pvalue</th>\n",
       "    </tr>\n",
       "  </thead>\n",
       "  <tbody>\n",
       "    <tr>\n",
       "      <th>Extratree</th>\n",
       "      <td>0.91245</td>\n",
       "      <td>0.861111</td>\n",
       "      <td>0.999919</td>\n",
       "      <td>0.966414</td>\n",
       "      <td>0.83871</td>\n",
       "      <td>0.908714</td>\n",
       "      <td>0.0013326</td>\n",
       "      <td>0.000317514</td>\n",
       "      <td>1</td>\n",
       "    </tr>\n",
       "    <tr>\n",
       "      <th>Random Forest</th>\n",
       "      <td>0.897671</td>\n",
       "      <td>0.861111</td>\n",
       "      <td>0.999883</td>\n",
       "      <td>0.953208</td>\n",
       "      <td>0.83871</td>\n",
       "      <td>0.891001</td>\n",
       "      <td>0.00144976</td>\n",
       "      <td>0.000347187</td>\n",
       "      <td>1</td>\n",
       "    </tr>\n",
       "    <tr>\n",
       "      <th>SVC</th>\n",
       "      <td>0.702842</td>\n",
       "      <td>0.693346</td>\n",
       "      <td>0.995184</td>\n",
       "      <td>0.174686</td>\n",
       "      <td>0.28</td>\n",
       "      <td>0.669425</td>\n",
       "      <td>0.00626282</td>\n",
       "      <td>0.00157338</td>\n",
       "      <td>1</td>\n",
       "    </tr>\n",
       "    <tr>\n",
       "      <th>Decisiontree</th>\n",
       "      <td>0.835327</td>\n",
       "      <td>0.833158</td>\n",
       "      <td>0.833158</td>\n",
       "      <td>0.500527</td>\n",
       "      <td>0.705882</td>\n",
       "      <td>0.840477</td>\n",
       "      <td>0.0303158</td>\n",
       "      <td>0.000877732</td>\n",
       "      <td>1</td>\n",
       "    </tr>\n",
       "    <tr>\n",
       "      <th>LGR</th>\n",
       "      <td>0.539118</td>\n",
       "      <td>0.984835</td>\n",
       "      <td>0.999937</td>\n",
       "      <td>0.972573</td>\n",
       "      <td>0.0944882</td>\n",
       "      <td>0.533112</td>\n",
       "      <td>0.0974472</td>\n",
       "      <td>0.0249417</td>\n",
       "      <td>5.68522e-05</td>\n",
       "    </tr>\n",
       "  </tbody>\n",
       "</table>\n",
       "</div>"
      ],
      "text/plain": [
       "              Training recall_macro Test recall_macro     AUROC Average PR  \\\n",
       "Extratree                   0.91245          0.861111  0.999919   0.966414   \n",
       "Random Forest              0.897671          0.861111  0.999883   0.953208   \n",
       "SVC                        0.702842          0.693346  0.995184   0.174686   \n",
       "Decisiontree               0.835327          0.833158  0.833158   0.500527   \n",
       "LGR                        0.539118          0.984835  0.999937   0.972573   \n",
       "\n",
       "                F1-score  Accuracy    Log_loss  Brier_score    KS_pvalue  \n",
       "Extratree        0.83871  0.908714   0.0013326  0.000317514            1  \n",
       "Random Forest    0.83871  0.891001  0.00144976  0.000347187            1  \n",
       "SVC                 0.28  0.669425  0.00626282   0.00157338            1  \n",
       "Decisiontree    0.705882  0.840477   0.0303158  0.000877732            1  \n",
       "LGR            0.0944882  0.533112   0.0974472    0.0249417  5.68522e-05  "
      ]
     },
     "execution_count": 110,
     "metadata": {},
     "output_type": "execute_result"
    }
   ],
   "source": [
    "pd.DataFrame(results).T.drop(['Best Parameters'], axis=1).sort_values('Log_loss')"
   ]
  },
  {
   "cell_type": "markdown",
   "metadata": {},
   "source": [
    "# 2. SMOTE"
   ]
  },
  {
   "cell_type": "code",
   "execution_count": 131,
   "metadata": {},
   "outputs": [
    {
     "data": {
      "text/plain": [
       "((45568, 17), (81889, 17))"
      ]
     },
     "execution_count": 131,
     "metadata": {},
     "output_type": "execute_result"
    }
   ],
   "source": [
    "from imblearn.over_sampling import SMOTE # pip install imbalearn\n",
    "sm = SMOTE(sampling_strategy = 0.8, random_state=10)\n",
    "X_train_smote, y_train_smote = sm.fit_sample(X_train, y_train)\n",
    "X_train.shape, X_train_smote.shape"
   ]
  },
  {
   "cell_type": "code",
   "execution_count": 147,
   "metadata": {},
   "outputs": [
    {
     "data": {
      "text/plain": [
       "((90988, 17), (90988, 17))"
      ]
     },
     "execution_count": 147,
     "metadata": {},
     "output_type": "execute_result"
    },
    {
     "data": {
      "text/plain": [
       "((90988, 17), (90988,))"
      ]
     },
     "execution_count": 147,
     "metadata": {},
     "output_type": "execute_result"
    }
   ],
   "source": [
    "sm = SMOTE(random_state=2)\n",
    "X_train_smote, y_train_smote = sm.fit_sample(X_train, y_train)\n",
    "X_train.shape, X_train_smote.shape\n",
    "X_train, y_train = X_train_smote, y_train_smote\n",
    "X_train.shape, y_train.shape"
   ]
  },
  {
   "cell_type": "markdown",
   "metadata": {},
   "source": [
    "## 2.1 로짓 회귀분석 모형"
   ]
  },
  {
   "cell_type": "code",
   "execution_count": 148,
   "metadata": {},
   "outputs": [],
   "source": [
    "model = LogisticRegression(random_state=11)\n",
    "parameters = {'C': np.linspace(1, 10, 10)}\n",
    "clf = GridSearchCV(model, parameters, cv=5)"
   ]
  },
  {
   "cell_type": "code",
   "execution_count": 149,
   "metadata": {},
   "outputs": [
    {
     "data": {
      "text/plain": [
       "GridSearchCV(cv=5, estimator=LogisticRegression(random_state=11),\n",
       "             param_grid={'C': array([ 1.,  2.,  3.,  4.,  5.,  6.,  7.,  8.,  9., 10.])})"
      ]
     },
     "execution_count": 149,
     "metadata": {},
     "output_type": "execute_result"
    }
   ],
   "source": [
    "clf.fit(X_train, y_train)"
   ]
  },
  {
   "cell_type": "code",
   "execution_count": 150,
   "metadata": {},
   "outputs": [
    {
     "data": {
      "text/plain": [
       "{'C': 3.0}"
      ]
     },
     "execution_count": 150,
     "metadata": {},
     "output_type": "execute_result"
    }
   ],
   "source": [
    "clf.best_params_"
   ]
  },
  {
   "cell_type": "code",
   "execution_count": 151,
   "metadata": {},
   "outputs": [
    {
     "name": "stderr",
     "output_type": "stream",
     "text": [
      "[Parallel(n_jobs=1)]: Using backend SequentialBackend with 1 concurrent workers.\n"
     ]
    },
    {
     "name": "stdout",
     "output_type": "stream",
     "text": [
      "convergence after 94 epochs took 3 seconds\n"
     ]
    },
    {
     "name": "stderr",
     "output_type": "stream",
     "text": [
      "[Parallel(n_jobs=1)]: Done   1 out of   1 | elapsed:    2.8s remaining:    0.0s\n",
      "[Parallel(n_jobs=1)]: Done   1 out of   1 | elapsed:    2.8s finished\n"
     ]
    },
    {
     "data": {
      "text/plain": [
       "LogisticRegression(C=3, penalty='l1', solver='saga', verbose=5)"
      ]
     },
     "execution_count": 151,
     "metadata": {},
     "output_type": "execute_result"
    }
   ],
   "source": [
    "lr1 = LogisticRegression(C=3, penalty='l1', solver='saga', verbose=5)\n",
    "lr1.fit(X_train, y_train)"
   ]
  },
  {
   "cell_type": "code",
   "execution_count": 152,
   "metadata": {},
   "outputs": [],
   "source": [
    "y_predict = lr1.predict(X_test)"
   ]
  },
  {
   "cell_type": "code",
   "execution_count": 153,
   "metadata": {
    "scrolled": false
   },
   "outputs": [
    {
     "name": "stdout",
     "output_type": "stream",
     "text": [
      "              precision    recall  f1-score   support\n",
      "\n",
      "           0       1.00      0.97      0.98     11375\n",
      "           1       0.04      0.78      0.07        18\n",
      "\n",
      "    accuracy                           0.97     11393\n",
      "   macro avg       0.52      0.87      0.53     11393\n",
      "weighted avg       1.00      0.97      0.98     11393\n",
      "\n"
     ]
    },
    {
     "data": {
      "text/plain": [
       "<sklearn.metrics._plot.confusion_matrix.ConfusionMatrixDisplay at 0x27945543408>"
      ]
     },
     "execution_count": 153,
     "metadata": {},
     "output_type": "execute_result"
    },
    {
     "data": {
      "image/png": "[encoded data removed]",
      "text/plain": [
       "<Figure size 432x288 with 2 Axes>"
      ]
     },
     "metadata": {
      "needs_background": "light"
     },
     "output_type": "display_data"
    }
   ],
   "source": [
    "print(classification_report(y_test, y_predict))\n",
    "plot_confusion_matrix(lr1, X_test, y_test)"
   ]
  },
  {
   "cell_type": "markdown",
   "metadata": {},
   "source": [
    "## 2.2 랜덤포레스트 모형"
   ]
  },
  {
   "cell_type": "code",
   "execution_count": 136,
   "metadata": {
    "scrolled": true
   },
   "outputs": [
    {
     "name": "stdout",
     "output_type": "stream",
     "text": [
      "              precision    recall  f1-score   support\n",
      "\n",
      "           0       1.00      1.00      1.00     11375\n",
      "           1       0.71      0.56      0.63        18\n",
      "\n",
      "    accuracy                           1.00     11393\n",
      "   macro avg       0.86      0.78      0.81     11393\n",
      "weighted avg       1.00      1.00      1.00     11393\n",
      "\n"
     ]
    }
   ],
   "source": [
    "model = RandomForestClassifier(n_estimators=300)\n",
    "y_predict = model.fit(X_train, y_train).predict(X_test)\n",
    "print(classification_report(y_test, y_predict))"
   ]
  },
  {
   "cell_type": "code",
   "execution_count": 137,
   "metadata": {},
   "outputs": [
    {
     "data": {
      "text/plain": [
       "<sklearn.metrics._plot.confusion_matrix.ConfusionMatrixDisplay at 0x27944e3ba08>"
      ]
     },
     "execution_count": 137,
     "metadata": {},
     "output_type": "execute_result"
    },
    {
     "data": {
      "image/png": "[encoded data removed]",
      "text/plain": [
       "<Figure size 432x288 with 2 Axes>"
      ]
     },
     "metadata": {
      "needs_background": "light"
     },
     "output_type": "display_data"
    }
   ],
   "source": [
    "plot_confusion_matrix(clf, X_test, y_test)"
   ]
  },
  {
   "cell_type": "code",
   "execution_count": 138,
   "metadata": {},
   "outputs": [
    {
     "data": {
      "text/plain": [
       "1    45494\n",
       "0    45494\n",
       "Name: Class, dtype: int64"
      ]
     },
     "execution_count": 138,
     "metadata": {},
     "output_type": "execute_result"
    }
   ],
   "source": [
    "y_train.value_counts()"
   ]
  },
  {
   "cell_type": "markdown",
   "metadata": {},
   "source": [
    "# END"
   ]
  },
  {
   "cell_type": "code",
   "execution_count": null,
   "metadata": {},
   "outputs": [],
   "source": []
  }
 ],
 "metadata": {
  "kernelspec": {
   "display_name": "Python 3",
   "language": "python",
   "name": "python3"
  },
  "language_info": {
   "codemirror_mode": {
    "name": "ipython",
    "version": 3
   },
   "file_extension": ".py",
   "mimetype": "text/x-python",
   "name": "python",
   "nbconvert_exporter": "python",
   "pygments_lexer": "ipython3",
   "version": "3.7.4"
  }
 },
 "nbformat": 4,
 "nbformat_minor": 2
}
