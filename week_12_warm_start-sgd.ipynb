{
 "cells": [
  {
   "cell_type": "code",
   "execution_count": 1,
   "metadata": {},
   "outputs": [
    {
     "data": {
      "text/html": [
       "<style>.container { width:100% !important; }</style>"
      ],
      "text/plain": [
       "<IPython.core.display.HTML object>"
      ]
     },
     "metadata": {},
     "output_type": "display_data"
    }
   ],
   "source": [
    "from IPython.core.interactiveshell import InteractiveShell\n",
    "InteractiveShell.ast_node_interactivity = 'all'\n",
    "from IPython.core.display import display, HTML\n",
    "display(HTML(\"<style>.container { width:100% !important; }</style>\"))\n",
    "import warnings\n",
    "warnings.filterwarnings(action='ignore') \n",
    "\n",
    "import numpy as np\n",
    "import pandas as pd"
   ]
  },
  {
   "cell_type": "markdown",
   "metadata": {},
   "source": [
    "# 2. Warm_start\n",
    "https://frhyme.github.io/python-libs/sklearn_warm_start/\n",
    "- sklearn에서 model의 warm_start의 default는 False임. 이는 .fit을 실행할 때, 이전에 업데이트된 weight(coefficient)를 초기화하고 다시 fitting한다는 것을 의미한다.\n",
    "- 만약 warm_start를 True로 설정하고 진행한다면, .fit을 실행할 때 이전의 weight를 기억하고 그대로 이어서 업데이트되는 것을 말한다.\n",
    "\n",
    "- 일반적인 머신러닝 모델 구축은 그냥 fit - predict가 다죠. 네, 데이터를 전달하고 학습시키고, 예측합니다. 그리고 sklearn의 대부분의 모델들의 메소드도 이렇게 정리되어 있구요.\n",
    "- 다만, 저처럼 컴퓨터의 메모리가 형편없다거나, 하는 경우에는 데이터를 나누어서 학습하는 것이 필요합니다. 한번에 다 넘기면 컴퓨터가 뭔가 느려터지게 되거든요. 따라서, 필요에 따라서 데이터를 나누어 학습하는 것이 필요하다는 이야기죠.네, 텐서플로우를 공부해보신 분은 빠르게 이해하실 텐데, mini-batch로 학습하는 것을 말합니다."
   ]
  },
  {
   "cell_type": "markdown",
   "metadata": {},
   "source": [
    "sklearn - fitting with warmstart=FalsePermalink\n",
    "네 일단은 기본적인 sklearn 모델에 대해서 적용해보겠습니다. 보통 다음과 같은 형태로 코드를 작성해서 사용하죠.\n",
    "아래 코드에서는 SGDRegressor이라고하는, Stochastic Gradient Decent를 사용해서 linear model에 대해 coefficient를 업데이트하는 모델을 사용하였고, X, Y를 임의로 만들어주었습니다.\n",
    "그리고, max_iter는 10으로 매우 작게 세팅했죠. 이 아이는 epoch과 동일한데, weight(coefficient)를 업데이트하는 작업을 10번만 하겠다는 말이 되죠. 물론, 이 값만으로는 절대로 converge하지 않습니다만, 우리는 그냥 weight가 어떻게 달라지는지만 볼 꺼니까요."
   ]
  },
  {
   "cell_type": "code",
   "execution_count": 2,
   "metadata": {},
   "outputs": [],
   "source": [
    "import numpy as np\n",
    "from sklearn.linear_model import SGDRegressor\n",
    "\n",
    "np.random.seed(0)\n",
    "\n",
    "# X, Y\n",
    "X = np.linspace(-1, 1, num=50).reshape(-1, 1)\n",
    "Y = (X*3.3 + 5.6).reshape(50,)\n",
    "\n",
    "# Define Model\n",
    "sgd_reg_model = SGDRegressor(\n",
    "    random_state=0,\n",
    "    verbose=0,\n",
    "    max_iter=10,\n",
    ")"
   ]
  },
  {
   "cell_type": "markdown",
   "metadata": {},
   "source": [
    "그리고, 위에서 정의한 모델에 대해서 fitting을 해줍니다.\n",
    "아래 코드에서 보시면, fitting을 두번 해준 것을 알수 있죠. 네 이렇게 하면 한번에 iteration 10번씩 총 20번 해주는 것이 아닐까요?"
   ]
  },
  {
   "cell_type": "code",
   "execution_count": 3,
   "metadata": {},
   "outputs": [
    {
     "name": "stdout",
     "output_type": "stream",
     "text": [
      "== First  fitting\n"
     ]
    },
    {
     "data": {
      "text/plain": [
       "SGDRegressor(max_iter=10, random_state=0)"
      ]
     },
     "execution_count": 3,
     "metadata": {},
     "output_type": "execute_result"
    },
    {
     "name": "stdout",
     "output_type": "stream",
     "text": [
      "---- Coefficient: [1.26229792]\n",
      "== Second fitting\n"
     ]
    },
    {
     "data": {
      "text/plain": [
       "SGDRegressor(max_iter=10, random_state=0)"
      ]
     },
     "execution_count": 3,
     "metadata": {},
     "output_type": "execute_result"
    },
    {
     "name": "stdout",
     "output_type": "stream",
     "text": [
      "---- Coefficient: [1.26229792]\n"
     ]
    }
   ],
   "source": [
    "print(f\"== First  fitting\")\n",
    "sgd_reg_model.fit(X, Y)\n",
    "print(f\"---- Coefficient: {sgd_reg_model.coef_}\")\n",
    "\n",
    "print(f\"== Second fitting\")\n",
    "sgd_reg_model.fit(X, Y)\n",
    "print(f\"---- Coefficient: {sgd_reg_model.coef_}\")"
   ]
  },
  {
   "cell_type": "markdown",
   "metadata": {},
   "source": [
    "안타깝게도 그렇지 않습니다. 아래 결과를 보시면, 첫번째 fitting과 두번째 fitting 때의 coefficient가 같은 것을 알 수 있죠. 이는 SGDRegressor를 선언해줄 때, 이 아이의 parameter인 warm_start가 False로 되어 있기 때문이죠. warm_start를 한국말로 번역한다면 “따뜻한 시작”정도가 되겠죠. 즉, 이 값이 True이면, 이전에 학습했던 것을 기억한다는 이야기이고, False이면 이 전에 학습했던 것을 기억하지 않는다는 말이 됩니다.\n",
    "따라서, 아래 코드와 같이 warm_start를 True로 바꾸고 진행하면, 첫번째 fitting할 때와 두번째 fitting할 때의 coefficient가 달라지는 것을 알 수 있죠."
   ]
  },
  {
   "cell_type": "code",
   "execution_count": 4,
   "metadata": {},
   "outputs": [
    {
     "name": "stdout",
     "output_type": "stream",
     "text": [
      "== First  fitting\n"
     ]
    },
    {
     "data": {
      "text/plain": [
       "SGDRegressor(max_iter=10, random_state=0, warm_start=True)"
      ]
     },
     "execution_count": 4,
     "metadata": {},
     "output_type": "execute_result"
    },
    {
     "name": "stdout",
     "output_type": "stream",
     "text": [
      "---- Coefficient: [1.26229792]\n",
      "== Second fitting\n"
     ]
    },
    {
     "data": {
      "text/plain": [
       "SGDRegressor(max_iter=10, random_state=0, warm_start=True)"
      ]
     },
     "execution_count": 4,
     "metadata": {},
     "output_type": "execute_result"
    },
    {
     "name": "stdout",
     "output_type": "stream",
     "text": [
      "---- Coefficient: [2.04389939]\n"
     ]
    }
   ],
   "source": [
    "sgd_reg_model = SGDRegressor(\n",
    "    random_state=0,\n",
    "    verbose=0,\n",
    "    max_iter=10,\n",
    "    warm_start=True\n",
    ")\n",
    "print(f\"== First  fitting\")\n",
    "sgd_reg_model.fit(X, Y)\n",
    "print(f\"---- Coefficient: {sgd_reg_model.coef_}\")\n",
    "\n",
    "print(f\"== Second fitting\")\n",
    "sgd_reg_model.fit(X, Y)\n",
    "print(f\"---- Coefficient: {sgd_reg_model.coef_}\")"
   ]
  },
  {
   "cell_type": "code",
   "execution_count": 5,
   "metadata": {
    "scrolled": true
   },
   "outputs": [
    {
     "data": {
      "text/plain": [
       "{'alpha': 0.0001,\n",
       " 'average': False,\n",
       " 'early_stopping': False,\n",
       " 'epsilon': 0.1,\n",
       " 'eta0': 0.01,\n",
       " 'fit_intercept': True,\n",
       " 'l1_ratio': 0.15,\n",
       " 'learning_rate': 'invscaling',\n",
       " 'loss': 'squared_loss',\n",
       " 'max_iter': 1000,\n",
       " 'n_iter_no_change': 5,\n",
       " 'penalty': 'l2',\n",
       " 'power_t': 0.25,\n",
       " 'random_state': None,\n",
       " 'shuffle': True,\n",
       " 'tol': 0.001,\n",
       " 'validation_fraction': 0.1,\n",
       " 'verbose': 0,\n",
       " 'warm_start': False}"
      ]
     },
     "execution_count": 5,
     "metadata": {},
     "output_type": "execute_result"
    }
   ],
   "source": [
    "SGDRegressor().get_params()"
   ]
  },
  {
   "cell_type": "markdown",
   "metadata": {},
   "source": [
    "## What is the difference between partial fit and warm start?\n",
    "I don't know about the Passive Aggressor, but at least when using the SGDRegressor, partial_fit will only fit for 1 epoch, whereas fit will fit for multiple epochs (until the loss converges or max_iter is reached). Therefore, when fitting new data to your model, partial_fit will only correct the model one step towards the new data, but with fit and warm_start it will act as if you would combine your old data and your new data together and fit the model once until convergence."
   ]
  },
  {
   "cell_type": "markdown",
   "metadata": {},
   "source": [
    "https://stackoverflow.com/questions/38052342/what-is-the-difference-between-partial-fit-and-warm-start"
   ]
  },
  {
   "cell_type": "code",
   "execution_count": 6,
   "metadata": {},
   "outputs": [
    {
     "name": "stdout",
     "output_type": "stream",
     "text": [
      "-- Epoch 1\n",
      "Norm: 0.24, NNZs: 1, Bias: 0.791393, T: 50, Avg. loss: 1.611747\n",
      "Total training time: 0.00 seconds.\n",
      "-- Epoch 2\n",
      "Norm: 0.44, NNZs: 1, Bias: 1.274291, T: 100, Avg. loss: 0.701952\n",
      "Total training time: 0.00 seconds.\n",
      "-- Epoch 3\n",
      "Norm: 0.61, NNZs: 1, Bias: 1.554248, T: 150, Avg. loss: 0.337266\n",
      "Total training time: 0.00 seconds.\n",
      "-- Epoch 4\n",
      "Norm: 0.75, NNZs: 1, Bias: 1.731325, T: 200, Avg. loss: 0.180598\n",
      "Total training time: 0.00 seconds.\n",
      "-- Epoch 5\n",
      "Norm: 0.87, NNZs: 1, Bias: 1.837031, T: 250, Avg. loss: 0.105629\n",
      "Total training time: 0.00 seconds.\n",
      "-- Epoch 6\n",
      "Norm: 0.97, NNZs: 1, Bias: 1.903617, T: 300, Avg. loss: 0.066613\n",
      "Total training time: 0.00 seconds.\n",
      "-- Epoch 7\n",
      "Norm: 1.06, NNZs: 1, Bias: 1.942107, T: 350, Avg. loss: 0.044076\n",
      "Total training time: 0.00 seconds.\n",
      "-- Epoch 8\n",
      "Norm: 1.13, NNZs: 1, Bias: 1.964321, T: 400, Avg. loss: 0.030090\n",
      "Total training time: 0.00 seconds.\n",
      "-- Epoch 9\n",
      "Norm: 1.19, NNZs: 1, Bias: 1.976448, T: 450, Avg. loss: 0.020858\n",
      "Total training time: 0.00 seconds.\n",
      "-- Epoch 10\n",
      "Norm: 1.24, NNZs: 1, Bias: 1.984309, T: 500, Avg. loss: 0.014577\n",
      "Total training time: 0.00 seconds.\n",
      "-- Epoch 11\n",
      "Norm: 1.28, NNZs: 1, Bias: 1.990926, T: 550, Avg. loss: 0.010233\n",
      "Total training time: 0.00 seconds.\n",
      "-- Epoch 12\n",
      "Norm: 1.32, NNZs: 1, Bias: 1.995158, T: 600, Avg. loss: 0.007187\n",
      "Total training time: 0.00 seconds.\n",
      "-- Epoch 13\n",
      "Norm: 1.35, NNZs: 1, Bias: 1.997394, T: 650, Avg. loss: 0.005062\n",
      "Total training time: 0.00 seconds.\n",
      "-- Epoch 14\n",
      "Norm: 1.37, NNZs: 1, Bias: 1.997556, T: 700, Avg. loss: 0.003567\n",
      "Total training time: 0.00 seconds.\n",
      "-- Epoch 15\n",
      "Norm: 1.39, NNZs: 1, Bias: 1.997737, T: 750, Avg. loss: 0.002516\n",
      "Total training time: 0.00 seconds.\n",
      "-- Epoch 16\n",
      "Norm: 1.41, NNZs: 1, Bias: 1.998635, T: 800, Avg. loss: 0.001779\n",
      "Total training time: 0.00 seconds.\n",
      "-- Epoch 17\n",
      "Norm: 1.42, NNZs: 1, Bias: 1.999179, T: 850, Avg. loss: 0.001255\n",
      "Total training time: 0.00 seconds.\n",
      "-- Epoch 18\n",
      "Norm: 1.44, NNZs: 1, Bias: 1.999862, T: 900, Avg. loss: 0.000886\n",
      "Total training time: 0.00 seconds.\n",
      "-- Epoch 19\n",
      "Norm: 1.45, NNZs: 1, Bias: 1.999818, T: 950, Avg. loss: 0.000626\n",
      "Total training time: 0.00 seconds.\n",
      "-- Epoch 20\n",
      "Norm: 1.45, NNZs: 1, Bias: 2.000020, T: 1000, Avg. loss: 0.000442\n",
      "Total training time: 0.00 seconds.\n",
      "-- Epoch 21\n",
      "Norm: 1.46, NNZs: 1, Bias: 1.999998, T: 1050, Avg. loss: 0.000353\n",
      "Total training time: 0.00 seconds.\n",
      "-- Epoch 22\n",
      "Norm: 1.46, NNZs: 1, Bias: 2.000002, T: 1100, Avg. loss: 0.000330\n",
      "Total training time: 0.00 seconds.\n",
      "-- Epoch 23\n",
      "Norm: 1.46, NNZs: 1, Bias: 2.000005, T: 1150, Avg. loss: 0.000308\n",
      "Total training time: 0.00 seconds.\n",
      "-- Epoch 24\n",
      "Norm: 1.46, NNZs: 1, Bias: 2.000030, T: 1200, Avg. loss: 0.000287\n",
      "Total training time: 0.00 seconds.\n",
      "-- Epoch 25\n",
      "Norm: 1.46, NNZs: 1, Bias: 2.000031, T: 1250, Avg. loss: 0.000268\n",
      "Total training time: 0.00 seconds.\n",
      "-- Epoch 26\n",
      "Norm: 1.46, NNZs: 1, Bias: 2.000030, T: 1300, Avg. loss: 0.000257\n",
      "Total training time: 0.00 seconds.\n",
      "-- Epoch 27\n",
      "Norm: 1.46, NNZs: 1, Bias: 2.000029, T: 1350, Avg. loss: 0.000253\n",
      "Total training time: 0.00 seconds.\n",
      "-- Epoch 28\n",
      "Norm: 1.46, NNZs: 1, Bias: 2.000029, T: 1400, Avg. loss: 0.000250\n",
      "Total training time: 0.00 seconds.\n",
      "-- Epoch 29\n",
      "Norm: 1.46, NNZs: 1, Bias: 2.000028, T: 1450, Avg. loss: 0.000246\n",
      "Total training time: 0.00 seconds.\n",
      "-- Epoch 30\n",
      "Norm: 1.46, NNZs: 1, Bias: 2.000028, T: 1500, Avg. loss: 0.000243\n",
      "Total training time: 0.00 seconds.\n",
      "-- Epoch 31\n",
      "Norm: 1.46, NNZs: 1, Bias: 2.000028, T: 1550, Avg. loss: 0.000241\n",
      "Total training time: 0.00 seconds.\n",
      "-- Epoch 32\n",
      "Norm: 1.46, NNZs: 1, Bias: 2.000028, T: 1600, Avg. loss: 0.000240\n",
      "Total training time: 0.00 seconds.\n",
      "-- Epoch 33\n",
      "Norm: 1.46, NNZs: 1, Bias: 2.000027, T: 1650, Avg. loss: 0.000240\n",
      "Total training time: 0.00 seconds.\n",
      "-- Epoch 34\n",
      "Norm: 1.46, NNZs: 1, Bias: 2.000027, T: 1700, Avg. loss: 0.000239\n",
      "Total training time: 0.00 seconds.\n",
      "-- Epoch 35\n",
      "Norm: 1.46, NNZs: 1, Bias: 2.000027, T: 1750, Avg. loss: 0.000238\n",
      "Total training time: 0.00 seconds.\n",
      "-- Epoch 36\n",
      "Norm: 1.46, NNZs: 1, Bias: 2.000027, T: 1800, Avg. loss: 0.000238\n",
      "Total training time: 0.00 seconds.\n",
      "-- Epoch 37\n",
      "Norm: 1.46, NNZs: 1, Bias: 2.000027, T: 1850, Avg. loss: 0.000238\n",
      "Total training time: 0.00 seconds.\n",
      "-- Epoch 38\n",
      "Norm: 1.46, NNZs: 1, Bias: 2.000027, T: 1900, Avg. loss: 0.000238\n",
      "Total training time: 0.00 seconds.\n",
      "-- Epoch 39\n",
      "Norm: 1.46, NNZs: 1, Bias: 2.000027, T: 1950, Avg. loss: 0.000237\n",
      "Total training time: 0.00 seconds.\n",
      "-- Epoch 40\n",
      "Norm: 1.46, NNZs: 1, Bias: 2.000027, T: 2000, Avg. loss: 0.000237\n",
      "Total training time: 0.00 seconds.\n",
      "-- Epoch 41\n",
      "Norm: 1.46, NNZs: 1, Bias: 2.000027, T: 2050, Avg. loss: 0.000237\n",
      "Total training time: 0.00 seconds.\n",
      "-- Epoch 42\n",
      "Norm: 1.46, NNZs: 1, Bias: 2.000027, T: 2100, Avg. loss: 0.000237\n",
      "Total training time: 0.00 seconds.\n",
      "-- Epoch 43\n",
      "Norm: 1.46, NNZs: 1, Bias: 2.000027, T: 2150, Avg. loss: 0.000237\n",
      "Total training time: 0.00 seconds.\n",
      "-- Epoch 44\n",
      "Norm: 1.46, NNZs: 1, Bias: 2.000027, T: 2200, Avg. loss: 0.000237\n",
      "Total training time: 0.00 seconds.\n",
      "-- Epoch 45\n",
      "Norm: 1.46, NNZs: 1, Bias: 2.000027, T: 2250, Avg. loss: 0.000237\n",
      "Total training time: 0.00 seconds.\n",
      "-- Epoch 46\n",
      "Norm: 1.46, NNZs: 1, Bias: 2.000027, T: 2300, Avg. loss: 0.000237\n",
      "Total training time: 0.00 seconds.\n",
      "-- Epoch 47\n",
      "Norm: 1.46, NNZs: 1, Bias: 2.000027, T: 2350, Avg. loss: 0.000237\n",
      "Total training time: 0.00 seconds.\n",
      "-- Epoch 48\n",
      "Norm: 1.46, NNZs: 1, Bias: 2.000027, T: 2400, Avg. loss: 0.000237\n",
      "Total training time: 0.00 seconds.\n",
      "-- Epoch 49\n",
      "Norm: 1.46, NNZs: 1, Bias: 2.000027, T: 2450, Avg. loss: 0.000237\n",
      "Total training time: 0.00 seconds.\n",
      "-- Epoch 50\n",
      "Norm: 1.46, NNZs: 1, Bias: 2.000027, T: 2500, Avg. loss: 0.000237\n",
      "Total training time: 0.00 seconds.\n",
      "Convergence after 50 epochs took 0.00 seconds\n"
     ]
    },
    {
     "data": {
      "text/plain": [
       "SGDRegressor(learning_rate='adaptive', max_iter=2000, random_state=0, verbose=1,\n",
       "             warm_start=True)"
      ]
     },
     "execution_count": 6,
     "metadata": {},
     "output_type": "execute_result"
    }
   ],
   "source": [
    "np.random.seed(0)\n",
    "X = np.linspace(-1, 1, num=50).reshape(-1, 1)\n",
    "Y = (X * 1.5 + 2).reshape(50,)\n",
    "\n",
    "modelFit = SGDRegressor(learning_rate=\"adaptive\", eta0=0.01, random_state=0, verbose=1,\n",
    "                     shuffle=True, max_iter=2000, tol=1e-3, warm_start=True)\n",
    "\n",
    "modelPartialFit = SGDRegressor(learning_rate=\"adaptive\", eta0=0.01, random_state=0, verbose=1,\n",
    "                     shuffle=True, max_iter=2000, tol=1e-3, warm_start=False)\n",
    "\n",
    "# first fit some data\n",
    "modelFit.fit(X, Y)"
   ]
  },
  {
   "cell_type": "code",
   "execution_count": 7,
   "metadata": {},
   "outputs": [
    {
     "name": "stdout",
     "output_type": "stream",
     "text": [
      "-- Epoch 1\n",
      "Norm: 0.24, NNZs: 1, Bias: 0.791393, T: 50, Avg. loss: 1.611747\n",
      "Total training time: 0.00 seconds.\n",
      "-- Epoch 2\n",
      "Norm: 0.44, NNZs: 1, Bias: 1.274291, T: 100, Avg. loss: 0.701952\n",
      "Total training time: 0.00 seconds.\n",
      "-- Epoch 3\n",
      "Norm: 0.61, NNZs: 1, Bias: 1.554248, T: 150, Avg. loss: 0.337266\n",
      "Total training time: 0.00 seconds.\n",
      "-- Epoch 4\n",
      "Norm: 0.75, NNZs: 1, Bias: 1.731325, T: 200, Avg. loss: 0.180598\n",
      "Total training time: 0.00 seconds.\n",
      "-- Epoch 5\n",
      "Norm: 0.87, NNZs: 1, Bias: 1.837031, T: 250, Avg. loss: 0.105629\n",
      "Total training time: 0.00 seconds.\n",
      "-- Epoch 6\n",
      "Norm: 0.97, NNZs: 1, Bias: 1.903617, T: 300, Avg. loss: 0.066613\n",
      "Total training time: 0.00 seconds.\n",
      "-- Epoch 7\n",
      "Norm: 1.06, NNZs: 1, Bias: 1.942107, T: 350, Avg. loss: 0.044076\n",
      "Total training time: 0.00 seconds.\n",
      "-- Epoch 8\n",
      "Norm: 1.13, NNZs: 1, Bias: 1.964321, T: 400, Avg. loss: 0.030090\n",
      "Total training time: 0.00 seconds.\n",
      "-- Epoch 9\n",
      "Norm: 1.19, NNZs: 1, Bias: 1.976448, T: 450, Avg. loss: 0.020858\n",
      "Total training time: 0.00 seconds.\n",
      "-- Epoch 10\n",
      "Norm: 1.24, NNZs: 1, Bias: 1.984309, T: 500, Avg. loss: 0.014577\n",
      "Total training time: 0.00 seconds.\n",
      "-- Epoch 11\n",
      "Norm: 1.28, NNZs: 1, Bias: 1.990926, T: 550, Avg. loss: 0.010233\n",
      "Total training time: 0.00 seconds.\n",
      "-- Epoch 12\n",
      "Norm: 1.32, NNZs: 1, Bias: 1.995158, T: 600, Avg. loss: 0.007187\n",
      "Total training time: 0.00 seconds.\n",
      "-- Epoch 13\n",
      "Norm: 1.35, NNZs: 1, Bias: 1.997394, T: 650, Avg. loss: 0.005062\n",
      "Total training time: 0.00 seconds.\n",
      "-- Epoch 14\n",
      "Norm: 1.37, NNZs: 1, Bias: 1.997556, T: 700, Avg. loss: 0.003567\n",
      "Total training time: 0.00 seconds.\n",
      "-- Epoch 15\n",
      "Norm: 1.39, NNZs: 1, Bias: 1.997737, T: 750, Avg. loss: 0.002516\n",
      "Total training time: 0.00 seconds.\n",
      "-- Epoch 16\n",
      "Norm: 1.41, NNZs: 1, Bias: 1.998635, T: 800, Avg. loss: 0.001779\n",
      "Total training time: 0.00 seconds.\n",
      "-- Epoch 17\n",
      "Norm: 1.42, NNZs: 1, Bias: 1.999179, T: 850, Avg. loss: 0.001255\n",
      "Total training time: 0.00 seconds.\n",
      "-- Epoch 18\n",
      "Norm: 1.44, NNZs: 1, Bias: 1.999862, T: 900, Avg. loss: 0.000886\n",
      "Total training time: 0.00 seconds.\n",
      "-- Epoch 19\n",
      "Norm: 1.45, NNZs: 1, Bias: 1.999818, T: 950, Avg. loss: 0.000626\n",
      "Total training time: 0.00 seconds.\n",
      "-- Epoch 20\n",
      "Norm: 1.45, NNZs: 1, Bias: 2.000020, T: 1000, Avg. loss: 0.000442\n",
      "Total training time: 0.00 seconds.\n",
      "-- Epoch 21\n",
      "Norm: 1.46, NNZs: 1, Bias: 1.999998, T: 1050, Avg. loss: 0.000353\n",
      "Total training time: 0.00 seconds.\n",
      "-- Epoch 22\n",
      "Norm: 1.46, NNZs: 1, Bias: 2.000002, T: 1100, Avg. loss: 0.000330\n",
      "Total training time: 0.00 seconds.\n",
      "-- Epoch 23\n",
      "Norm: 1.46, NNZs: 1, Bias: 2.000005, T: 1150, Avg. loss: 0.000308\n",
      "Total training time: 0.00 seconds.\n",
      "-- Epoch 24\n",
      "Norm: 1.46, NNZs: 1, Bias: 2.000030, T: 1200, Avg. loss: 0.000287\n",
      "Total training time: 0.00 seconds.\n",
      "-- Epoch 25\n",
      "Norm: 1.46, NNZs: 1, Bias: 2.000031, T: 1250, Avg. loss: 0.000268\n",
      "Total training time: 0.00 seconds.\n",
      "-- Epoch 26\n",
      "Norm: 1.46, NNZs: 1, Bias: 2.000030, T: 1300, Avg. loss: 0.000257\n",
      "Total training time: 0.00 seconds.\n",
      "-- Epoch 27\n",
      "Norm: 1.46, NNZs: 1, Bias: 2.000029, T: 1350, Avg. loss: 0.000253\n",
      "Total training time: 0.00 seconds.\n",
      "-- Epoch 28\n",
      "Norm: 1.46, NNZs: 1, Bias: 2.000029, T: 1400, Avg. loss: 0.000250\n",
      "Total training time: 0.00 seconds.\n",
      "-- Epoch 29\n",
      "Norm: 1.46, NNZs: 1, Bias: 2.000028, T: 1450, Avg. loss: 0.000246\n",
      "Total training time: 0.00 seconds.\n",
      "-- Epoch 30\n",
      "Norm: 1.46, NNZs: 1, Bias: 2.000028, T: 1500, Avg. loss: 0.000243\n",
      "Total training time: 0.00 seconds.\n",
      "-- Epoch 31\n",
      "Norm: 1.46, NNZs: 1, Bias: 2.000028, T: 1550, Avg. loss: 0.000241\n",
      "Total training time: 0.00 seconds.\n",
      "-- Epoch 32\n",
      "Norm: 1.46, NNZs: 1, Bias: 2.000028, T: 1600, Avg. loss: 0.000240\n",
      "Total training time: 0.00 seconds.\n",
      "-- Epoch 33\n",
      "Norm: 1.46, NNZs: 1, Bias: 2.000027, T: 1650, Avg. loss: 0.000240\n",
      "Total training time: 0.00 seconds.\n",
      "-- Epoch 34\n",
      "Norm: 1.46, NNZs: 1, Bias: 2.000027, T: 1700, Avg. loss: 0.000239\n",
      "Total training time: 0.00 seconds.\n",
      "-- Epoch 35\n",
      "Norm: 1.46, NNZs: 1, Bias: 2.000027, T: 1750, Avg. loss: 0.000238\n",
      "Total training time: 0.00 seconds.\n",
      "-- Epoch 36\n",
      "Norm: 1.46, NNZs: 1, Bias: 2.000027, T: 1800, Avg. loss: 0.000238\n",
      "Total training time: 0.00 seconds.\n",
      "-- Epoch 37\n",
      "Norm: 1.46, NNZs: 1, Bias: 2.000027, T: 1850, Avg. loss: 0.000238\n",
      "Total training time: 0.00 seconds.\n",
      "-- Epoch 38\n",
      "Norm: 1.46, NNZs: 1, Bias: 2.000027, T: 1900, Avg. loss: 0.000238\n",
      "Total training time: 0.00 seconds.\n",
      "-- Epoch 39\n",
      "Norm: 1.46, NNZs: 1, Bias: 2.000027, T: 1950, Avg. loss: 0.000237\n",
      "Total training time: 0.00 seconds.\n",
      "-- Epoch 40\n",
      "Norm: 1.46, NNZs: 1, Bias: 2.000027, T: 2000, Avg. loss: 0.000237\n",
      "Total training time: 0.00 seconds.\n",
      "-- Epoch 41\n",
      "Norm: 1.46, NNZs: 1, Bias: 2.000027, T: 2050, Avg. loss: 0.000237\n",
      "Total training time: 0.00 seconds.\n",
      "-- Epoch 42\n",
      "Norm: 1.46, NNZs: 1, Bias: 2.000027, T: 2100, Avg. loss: 0.000237\n",
      "Total training time: 0.00 seconds.\n",
      "-- Epoch 43\n",
      "Norm: 1.46, NNZs: 1, Bias: 2.000027, T: 2150, Avg. loss: 0.000237\n",
      "Total training time: 0.00 seconds.\n",
      "-- Epoch 44\n",
      "Norm: 1.46, NNZs: 1, Bias: 2.000027, T: 2200, Avg. loss: 0.000237\n",
      "Total training time: 0.00 seconds.\n",
      "-- Epoch 45\n",
      "Norm: 1.46, NNZs: 1, Bias: 2.000027, T: 2250, Avg. loss: 0.000237\n",
      "Total training time: 0.00 seconds.\n",
      "-- Epoch 46\n",
      "Norm: 1.46, NNZs: 1, Bias: 2.000027, T: 2300, Avg. loss: 0.000237\n",
      "Total training time: 0.00 seconds.\n",
      "-- Epoch 47\n",
      "Norm: 1.46, NNZs: 1, Bias: 2.000027, T: 2350, Avg. loss: 0.000237\n",
      "Total training time: 0.00 seconds.\n",
      "-- Epoch 48\n",
      "Norm: 1.46, NNZs: 1, Bias: 2.000027, T: 2400, Avg. loss: 0.000237\n",
      "Total training time: 0.00 seconds.\n",
      "-- Epoch 49\n",
      "Norm: 1.46, NNZs: 1, Bias: 2.000027, T: 2450, Avg. loss: 0.000237\n",
      "Total training time: 0.00 seconds.\n",
      "-- Epoch 50\n",
      "Norm: 1.46, NNZs: 1, Bias: 2.000027, T: 2500, Avg. loss: 0.000237\n",
      "Total training time: 0.00 seconds.\n",
      "Convergence after 50 epochs took 0.00 seconds\n"
     ]
    },
    {
     "data": {
      "text/plain": [
       "SGDRegressor(learning_rate='adaptive', max_iter=2000, random_state=0, verbose=1)"
      ]
     },
     "execution_count": 7,
     "metadata": {},
     "output_type": "execute_result"
    }
   ],
   "source": [
    "modelPartialFit.fit(X, Y)"
   ]
  },
  {
   "cell_type": "markdown",
   "metadata": {},
   "source": [
    "### for both: Convergence after 50 epochs, Norm: 1.46, NNZs: 1, Bias: 2.000027, T: 2500, Avg. loss: 0.000237"
   ]
  },
  {
   "cell_type": "code",
   "execution_count": 8,
   "metadata": {},
   "outputs": [
    {
     "name": "stdout",
     "output_type": "stream",
     "text": [
      "[1.46303288] [1.46303288]\n"
     ]
    }
   ],
   "source": [
    "print(modelFit.coef_, modelPartialFit.coef_) # for both: [1.46303288]"
   ]
  },
  {
   "cell_type": "markdown",
   "metadata": {},
   "source": [
    "### now fit new data (zeros)"
   ]
  },
  {
   "cell_type": "code",
   "execution_count": 9,
   "metadata": {},
   "outputs": [],
   "source": [
    "newX = X\n",
    "newY = 0 * Y"
   ]
  },
  {
   "cell_type": "code",
   "execution_count": 10,
   "metadata": {},
   "outputs": [
    {
     "data": {
      "text/plain": [
       "array([0., 0., 0., 0., 0., 0., 0., 0., 0., 0., 0., 0., 0., 0., 0., 0., 0.,\n",
       "       0., 0., 0., 0., 0., 0., 0., 0., 0., 0., 0., 0., 0., 0., 0., 0., 0.,\n",
       "       0., 0., 0., 0., 0., 0., 0., 0., 0., 0., 0., 0., 0., 0., 0., 0.])"
      ]
     },
     "execution_count": 10,
     "metadata": {},
     "output_type": "execute_result"
    }
   ],
   "source": [
    "newY"
   ]
  },
  {
   "cell_type": "code",
   "execution_count": 11,
   "metadata": {},
   "outputs": [
    {
     "name": "stdout",
     "output_type": "stream",
     "text": [
      "-- Epoch 1\n",
      "Norm: 1.23, NNZs: 1, Bias: 1.208630, T: 50, Avg. loss: 1.595492\n",
      "Total training time: 0.00 seconds.\n"
     ]
    },
    {
     "data": {
      "text/plain": [
       "SGDRegressor(learning_rate='adaptive', max_iter=2000, random_state=0, verbose=1)"
      ]
     },
     "execution_count": 11,
     "metadata": {},
     "output_type": "execute_result"
    }
   ],
   "source": [
    "# fits only for 1 epoch, Norm: 1.23, NNZs: 1, Bias: 1.208630, T: 50, Avg. loss: 1.595492:\n",
    "modelPartialFit.partial_fit(newX, newY)"
   ]
  },
  {
   "cell_type": "code",
   "execution_count": 12,
   "metadata": {},
   "outputs": [
    {
     "name": "stdout",
     "output_type": "stream",
     "text": [
      "-- Epoch 1\n",
      "Norm: 1.23, NNZs: 1, Bias: 1.208630, T: 50, Avg. loss: 1.595492\n",
      "Total training time: 0.00 seconds.\n",
      "-- Epoch 2\n",
      "Norm: 1.04, NNZs: 1, Bias: 0.725842, T: 100, Avg. loss: 0.690465\n",
      "Total training time: 0.00 seconds.\n",
      "-- Epoch 3\n",
      "Norm: 0.87, NNZs: 1, Bias: 0.445650, T: 150, Avg. loss: 0.329124\n",
      "Total training time: 0.00 seconds.\n",
      "-- Epoch 4\n",
      "Norm: 0.73, NNZs: 1, Bias: 0.268633, T: 200, Avg. loss: 0.174809\n",
      "Total training time: 0.00 seconds.\n",
      "-- Epoch 5\n",
      "Norm: 0.61, NNZs: 1, Bias: 0.162929, T: 250, Avg. loss: 0.101544\n",
      "Total training time: 0.00 seconds.\n",
      "-- Epoch 6\n",
      "Norm: 0.51, NNZs: 1, Bias: 0.096413, T: 300, Avg. loss: 0.063724\n",
      "Total training time: 0.00 seconds.\n",
      "-- Epoch 7\n",
      "Norm: 0.43, NNZs: 1, Bias: 0.057920, T: 350, Avg. loss: 0.042030\n",
      "Total training time: 0.00 seconds.\n",
      "-- Epoch 8\n",
      "Norm: 0.36, NNZs: 1, Bias: 0.035678, T: 400, Avg. loss: 0.028636\n",
      "Total training time: 0.00 seconds.\n",
      "-- Epoch 9\n",
      "Norm: 0.30, NNZs: 1, Bias: 0.023499, T: 450, Avg. loss: 0.019825\n",
      "Total training time: 0.00 seconds.\n",
      "-- Epoch 10\n",
      "Norm: 0.25, NNZs: 1, Bias: 0.015620, T: 500, Avg. loss: 0.013842\n",
      "Total training time: 0.00 seconds.\n",
      "-- Epoch 11\n",
      "Norm: 0.21, NNZs: 1, Bias: 0.009042, T: 550, Avg. loss: 0.009708\n",
      "Total training time: 0.00 seconds.\n",
      "-- Epoch 12\n",
      "Norm: 0.18, NNZs: 1, Bias: 0.004840, T: 600, Avg. loss: 0.006813\n",
      "Total training time: 0.00 seconds.\n",
      "-- Epoch 13\n",
      "Norm: 0.15, NNZs: 1, Bias: 0.002614, T: 650, Avg. loss: 0.004794\n",
      "Total training time: 0.00 seconds.\n",
      "-- Epoch 14\n",
      "Norm: 0.13, NNZs: 1, Bias: 0.002424, T: 700, Avg. loss: 0.003375\n",
      "Total training time: 0.00 seconds.\n",
      "-- Epoch 15\n",
      "Norm: 0.11, NNZs: 1, Bias: 0.002227, T: 750, Avg. loss: 0.002378\n",
      "Total training time: 0.00 seconds.\n",
      "-- Epoch 16\n",
      "Norm: 0.09, NNZs: 1, Bias: 0.001344, T: 800, Avg. loss: 0.001679\n",
      "Total training time: 0.00 seconds.\n",
      "-- Epoch 17\n",
      "Norm: 0.07, NNZs: 1, Bias: 0.000808, T: 850, Avg. loss: 0.001183\n",
      "Total training time: 0.00 seconds.\n",
      "-- Epoch 18\n",
      "Norm: 0.06, NNZs: 1, Bias: 0.000143, T: 900, Avg. loss: 0.000833\n",
      "Total training time: 0.00 seconds.\n",
      "-- Epoch 19\n",
      "Norm: 0.05, NNZs: 1, Bias: 0.000181, T: 950, Avg. loss: 0.000587\n",
      "Total training time: 0.00 seconds.\n",
      "-- Epoch 20\n",
      "Norm: 0.05, NNZs: 1, Bias: 0.000158, T: 1000, Avg. loss: 0.000468\n",
      "Total training time: 0.00 seconds.\n",
      "-- Epoch 21\n",
      "Norm: 0.05, NNZs: 1, Bias: 0.000165, T: 1050, Avg. loss: 0.000436\n",
      "Total training time: 0.00 seconds.\n",
      "-- Epoch 22\n",
      "Norm: 0.05, NNZs: 1, Bias: 0.000145, T: 1100, Avg. loss: 0.000407\n",
      "Total training time: 0.00 seconds.\n",
      "-- Epoch 23\n",
      "Norm: 0.05, NNZs: 1, Bias: 0.000128, T: 1150, Avg. loss: 0.000380\n",
      "Total training time: 0.00 seconds.\n",
      "-- Epoch 24\n",
      "Norm: 0.04, NNZs: 1, Bias: 0.000087, T: 1200, Avg. loss: 0.000354\n",
      "Total training time: 0.00 seconds.\n",
      "-- Epoch 25\n",
      "Norm: 0.04, NNZs: 1, Bias: 0.000085, T: 1250, Avg. loss: 0.000339\n",
      "Total training time: 0.00 seconds.\n",
      "-- Epoch 26\n",
      "Norm: 0.04, NNZs: 1, Bias: 0.000083, T: 1300, Avg. loss: 0.000334\n",
      "Total training time: 0.00 seconds.\n",
      "-- Epoch 27\n",
      "Norm: 0.04, NNZs: 1, Bias: 0.000083, T: 1350, Avg. loss: 0.000330\n",
      "Total training time: 0.00 seconds.\n",
      "-- Epoch 28\n",
      "Norm: 0.04, NNZs: 1, Bias: 0.000081, T: 1400, Avg. loss: 0.000325\n",
      "Total training time: 0.00 seconds.\n",
      "-- Epoch 29\n",
      "Norm: 0.04, NNZs: 1, Bias: 0.000079, T: 1450, Avg. loss: 0.000321\n",
      "Total training time: 0.00 seconds.\n",
      "-- Epoch 30\n",
      "Norm: 0.04, NNZs: 1, Bias: 0.000079, T: 1500, Avg. loss: 0.000318\n",
      "Total training time: 0.00 seconds.\n",
      "-- Epoch 31\n",
      "Norm: 0.04, NNZs: 1, Bias: 0.000079, T: 1550, Avg. loss: 0.000317\n",
      "Total training time: 0.00 seconds.\n",
      "-- Epoch 32\n",
      "Norm: 0.04, NNZs: 1, Bias: 0.000078, T: 1600, Avg. loss: 0.000316\n",
      "Total training time: 0.00 seconds.\n",
      "-- Epoch 33\n",
      "Norm: 0.04, NNZs: 1, Bias: 0.000078, T: 1650, Avg. loss: 0.000315\n",
      "Total training time: 0.00 seconds.\n",
      "-- Epoch 34\n",
      "Norm: 0.04, NNZs: 1, Bias: 0.000078, T: 1700, Avg. loss: 0.000314\n",
      "Total training time: 0.00 seconds.\n",
      "-- Epoch 35\n",
      "Norm: 0.04, NNZs: 1, Bias: 0.000078, T: 1750, Avg. loss: 0.000314\n",
      "Total training time: 0.00 seconds.\n",
      "-- Epoch 36\n",
      "Norm: 0.04, NNZs: 1, Bias: 0.000078, T: 1800, Avg. loss: 0.000314\n",
      "Total training time: 0.00 seconds.\n",
      "-- Epoch 37\n",
      "Norm: 0.04, NNZs: 1, Bias: 0.000078, T: 1850, Avg. loss: 0.000313\n",
      "Total training time: 0.00 seconds.\n",
      "-- Epoch 38\n",
      "Norm: 0.04, NNZs: 1, Bias: 0.000078, T: 1900, Avg. loss: 0.000313\n",
      "Total training time: 0.00 seconds.\n",
      "-- Epoch 39\n",
      "Norm: 0.04, NNZs: 1, Bias: 0.000077, T: 1950, Avg. loss: 0.000313\n",
      "Total training time: 0.00 seconds.\n",
      "-- Epoch 40\n",
      "Norm: 0.04, NNZs: 1, Bias: 0.000077, T: 2000, Avg. loss: 0.000313\n",
      "Total training time: 0.00 seconds.\n",
      "-- Epoch 41\n",
      "Norm: 0.04, NNZs: 1, Bias: 0.000077, T: 2050, Avg. loss: 0.000313\n",
      "Total training time: 0.00 seconds.\n",
      "-- Epoch 42\n",
      "Norm: 0.04, NNZs: 1, Bias: 0.000077, T: 2100, Avg. loss: 0.000313\n",
      "Total training time: 0.00 seconds.\n",
      "-- Epoch 43\n",
      "Norm: 0.04, NNZs: 1, Bias: 0.000077, T: 2150, Avg. loss: 0.000313\n",
      "Total training time: 0.00 seconds.\n",
      "-- Epoch 44\n",
      "Norm: 0.04, NNZs: 1, Bias: 0.000077, T: 2200, Avg. loss: 0.000313\n",
      "Total training time: 0.00 seconds.\n",
      "-- Epoch 45\n",
      "Norm: 0.04, NNZs: 1, Bias: 0.000077, T: 2250, Avg. loss: 0.000313\n",
      "Total training time: 0.00 seconds.\n",
      "-- Epoch 46\n",
      "Norm: 0.04, NNZs: 1, Bias: 0.000077, T: 2300, Avg. loss: 0.000313\n",
      "Total training time: 0.00 seconds.\n",
      "-- Epoch 47\n",
      "Norm: 0.04, NNZs: 1, Bias: 0.000077, T: 2350, Avg. loss: 0.000313\n",
      "Total training time: 0.00 seconds.\n",
      "-- Epoch 48\n",
      "Norm: 0.04, NNZs: 1, Bias: 0.000077, T: 2400, Avg. loss: 0.000313\n",
      "Total training time: 0.00 seconds.\n",
      "-- Epoch 49\n",
      "Norm: 0.04, NNZs: 1, Bias: 0.000077, T: 2450, Avg. loss: 0.000313\n",
      "Total training time: 0.00 seconds.\n",
      "Convergence after 49 epochs took 0.00 seconds\n"
     ]
    },
    {
     "data": {
      "text/plain": [
       "SGDRegressor(learning_rate='adaptive', max_iter=2000, random_state=0, verbose=1,\n",
       "             warm_start=True)"
      ]
     },
     "execution_count": 12,
     "metadata": {},
     "output_type": "execute_result"
    }
   ],
   "source": [
    "# Convergence after 49 epochs, Norm: 0.04, NNZs: 1, Bias: 0.000077, T: 2450, Avg. loss: 0.000313:\n",
    "modelFit.fit(newX, newY)"
   ]
  },
  {
   "cell_type": "code",
   "execution_count": 13,
   "metadata": {},
   "outputs": [
    {
     "name": "stdout",
     "output_type": "stream",
     "text": [
      "[0.04245779] [1.22919864]\n"
     ]
    }
   ],
   "source": [
    "print(modelFit.coef_, modelPartialFit.coef_) # [0.04245779] vs. [1.22919864]"
   ]
  },
  {
   "cell_type": "code",
   "execution_count": 14,
   "metadata": {},
   "outputs": [
    {
     "name": "stdout",
     "output_type": "stream",
     "text": [
      "[0.08499296] [3.66702685]\n"
     ]
    }
   ],
   "source": [
    "newX = np.reshape([2], (-1, 1))\n",
    "print(modelFit.predict(newX), modelPartialFit.predict(newX)) # [0.08499296] vs. [3.66702685]"
   ]
  },
  {
   "cell_type": "markdown",
   "metadata": {},
   "source": [
    "If warm_start = False, each subsequent call to .fit() (after an initial call to .fit() or partial_fit()) will reset the model's trainable parameters for the initialisation. If warm_start = True, each subsequent call to .fit() (after an initial call to .fit() or partial_fit()) will retain the values of the model's trainable parameters from the previous run, and use those initially. Regardless of the value of warm_start, each call to partial_fit() will retain the previous run's model parameters and use those initially.\n",
    "\n",
    "Example using MLPRegressor:"
   ]
  },
  {
   "cell_type": "code",
   "execution_count": 15,
   "metadata": {},
   "outputs": [
    {
     "data": {
      "text/plain": [
       "MLPRegressor(hidden_layer_sizes=(), max_iter=1)"
      ]
     },
     "execution_count": 15,
     "metadata": {},
     "output_type": "execute_result"
    },
    {
     "data": {
      "text/plain": [
       "([array([[0.17009494]])], [array([0.74643783])])"
      ]
     },
     "execution_count": 15,
     "metadata": {},
     "output_type": "execute_result"
    }
   ],
   "source": [
    "import sklearn.neural_network\n",
    "import numpy as np\n",
    "np.random.seed(0)\n",
    "x = np.linspace(-1, 1, num=50).reshape(-1, 1)\n",
    "y = (x * 1.5 + 2).reshape(50,)\n",
    "cold_model = sklearn.neural_network.MLPRegressor(hidden_layer_sizes=(), warm_start=False, max_iter=1)\n",
    "warm_model = sklearn.neural_network.MLPRegressor(hidden_layer_sizes=(), warm_start=True, max_iter=1)\n",
    "\n",
    "cold_model.fit(x,y)\n",
    "cold_model.coefs_, cold_model.intercepts_\n",
    "#[array([[0.17009494]])] [array([0.74643783])]"
   ]
  },
  {
   "cell_type": "code",
   "execution_count": 16,
   "metadata": {},
   "outputs": [
    {
     "data": {
      "text/plain": [
       "MLPRegressor(hidden_layer_sizes=(), max_iter=1)"
      ]
     },
     "execution_count": 16,
     "metadata": {},
     "output_type": "execute_result"
    },
    {
     "data": {
      "text/plain": [
       "([array([[-0.60819342]])], [array([-1.21256186])])"
      ]
     },
     "execution_count": 16,
     "metadata": {},
     "output_type": "execute_result"
    }
   ],
   "source": [
    "cold_model.fit(x,y)\n",
    "cold_model.coefs_, cold_model.intercepts_\n",
    "#[array([[-0.60819342]])] [array([-1.21256186])]"
   ]
  },
  {
   "cell_type": "markdown",
   "metadata": {},
   "source": [
    "### after second run of .fit(), values are completely different because they were re-initialised before doing the second run for the cold model"
   ]
  },
  {
   "cell_type": "code",
   "execution_count": 17,
   "metadata": {},
   "outputs": [
    {
     "data": {
      "text/plain": [
       "MLPRegressor(hidden_layer_sizes=(), max_iter=1, warm_start=True)"
      ]
     },
     "execution_count": 17,
     "metadata": {},
     "output_type": "execute_result"
    },
    {
     "data": {
      "text/plain": [
       "([array([[-1.39815616]])], [array([1.651504])])"
      ]
     },
     "execution_count": 17,
     "metadata": {},
     "output_type": "execute_result"
    },
    {
     "data": {
      "text/plain": [
       "MLPRegressor(hidden_layer_sizes=(), max_iter=1, warm_start=True)"
      ]
     },
     "execution_count": 17,
     "metadata": {},
     "output_type": "execute_result"
    },
    {
     "data": {
      "text/plain": [
       "([array([[-1.39715616]])], [array([1.652504])])"
      ]
     },
     "execution_count": 17,
     "metadata": {},
     "output_type": "execute_result"
    }
   ],
   "source": [
    "warm_model.fit(x,y)\n",
    "warm_model.coefs_, warm_model.intercepts_\n",
    "#[array([[-1.39815616]])] [array([1.651504])]\n",
    "\n",
    "warm_model.fit(x,y)\n",
    "warm_model.coefs_, warm_model.intercepts_\n",
    "#[array([[-1.39715616]])] [array([1.652504])]"
   ]
  },
  {
   "cell_type": "markdown",
   "metadata": {},
   "source": [
    "### this time with the warm model, params change relatively little, as params were not re-initialised during second call to .fit()"
   ]
  },
  {
   "cell_type": "code",
   "execution_count": 18,
   "metadata": {},
   "outputs": [
    {
     "data": {
      "text/plain": [
       "MLPRegressor(hidden_layer_sizes=(), max_iter=1)"
      ]
     },
     "execution_count": 18,
     "metadata": {},
     "output_type": "execute_result"
    },
    {
     "data": {
      "text/plain": [
       "([array([[-0.60719343]])], [array([-1.21156187])])"
      ]
     },
     "execution_count": 18,
     "metadata": {},
     "output_type": "execute_result"
    },
    {
     "data": {
      "text/plain": [
       "MLPRegressor(hidden_layer_sizes=(), max_iter=1)"
      ]
     },
     "execution_count": 18,
     "metadata": {},
     "output_type": "execute_result"
    },
    {
     "data": {
      "text/plain": [
       "([array([[-0.60619347]])], [array([-1.21056189])])"
      ]
     },
     "execution_count": 18,
     "metadata": {},
     "output_type": "execute_result"
    }
   ],
   "source": [
    "cold_model.partial_fit(x,y)\n",
    "cold_model.coefs_, cold_model.intercepts_\n",
    "#[array([[-0.60719343]])] [array([-1.21156187])]\n",
    "cold_model.partial_fit(x,y)\n",
    "cold_model.coefs_, cold_model.intercepts_\n",
    "#[array([[-0.60619347]])] [array([-1.21056189])]"
   ]
  },
  {
   "cell_type": "markdown",
   "metadata": {},
   "source": [
    "### with partial_fit(), params barely change even for cold model, as no re-initialisation occurs"
   ]
  },
  {
   "cell_type": "markdown",
   "metadata": {},
   "source": [
    "<font color ='blue'> \n",
    "\n",
    "### About difference. Warm start it just an attribute of class. Partial fit it is method of this class. It's basically different things. About same functionalities. \n",
    "    \n",
    "- Yes, partial fit will use self.coef_ because it still needed to get some values to update on training period. And for empty coef_init we just put zero values to self.coef_ and go to the next step of training.\n",
    "\n",
    "- Description.\n",
    "\n",
    "For first start: Whatever how (with or without warm start). We will train on zero coefficients but in result we will save average of our coefficients.\n",
    "\n",
    "- N+1 start:\n",
    "\n",
    "With warm start. We will check via method _allocate_parameter_mem our previous coefficients and take it to train. In result save our average coefficients. Without warm start. We will put zero coefficients (as first start) and go to training step. In result we will still write average coefficients to memory."
   ]
  },
  {
   "cell_type": "markdown",
   "metadata": {},
   "source": [
    "# 1. k-s test"
   ]
  },
  {
   "cell_type": "code",
   "execution_count": 19,
   "metadata": {
    "scrolled": true
   },
   "outputs": [
    {
     "data": {
      "text/plain": [
       "<AxesSubplot:>"
      ]
     },
     "execution_count": 19,
     "metadata": {},
     "output_type": "execute_result"
    },
    {
     "data": {
      "text/plain": [
       "<Figure size 640x480 with 1 Axes>"
      ]
     },
     "metadata": {},
     "output_type": "display_data"
    }
   ],
   "source": [
    "import seaborn as sns\n",
    "from scipy import stats\n",
    "import matplotlib.pyplot as plt\n",
    "\n",
    "#generate a gaussian r.v X\n",
    "#generate an array of size 1000 - norm stands for normal so this will be gaussian distributed, so X will be X ~N(0,1)\n",
    "x = stats.norm.rvs(size=1000);\n",
    "sns.set_style('whitegrid')\n",
    "sns.kdeplot(np.array(x), bw=0.5)\n",
    "#this should plot a gaussian distribution curve\n",
    "plt.show()"
   ]
  },
  {
   "cell_type": "markdown",
   "metadata": {},
   "source": [
    "compare x with normal distribution - this is a positive case, statistic refers to the D_value. Since the pvalue is high we say x follows normal distribution, The pvalue should be 0, which means y does not follow normal distribution"
   ]
  },
  {
   "cell_type": "code",
   "execution_count": 20,
   "metadata": {},
   "outputs": [
    {
     "data": {
      "text/plain": [
       "KstestResult(statistic=0.027327362827401336, pvalue=0.43635082958022864)"
      ]
     },
     "execution_count": 20,
     "metadata": {},
     "output_type": "execute_result"
    }
   ],
   "source": [
    "stats.kstest(x, 'norm')"
   ]
  },
  {
   "cell_type": "markdown",
   "metadata": {},
   "source": [
    "### lets look at a negative case"
   ]
  },
  {
   "cell_type": "code",
   "execution_count": 21,
   "metadata": {
    "scrolled": true
   },
   "outputs": [
    {
     "data": {
      "text/plain": [
       "<AxesSubplot:>"
      ]
     },
     "execution_count": 21,
     "metadata": {},
     "output_type": "execute_result"
    },
    {
     "data": {
      "image/png": "[encoded data removed]",
      "text/plain": [
       "<Figure size 432x288 with 1 Axes>"
      ]
     },
     "metadata": {
      "needs_background": "light"
     },
     "output_type": "display_data"
    }
   ],
   "source": [
    "y = np.random.uniform(0,1,10000);\n",
    "sns.kdeplot(np.array(y), bw=0.1)\n",
    "#the flat line below should indicate it is an uniform distribution\n",
    "plt.show()"
   ]
  },
  {
   "cell_type": "code",
   "execution_count": 22,
   "metadata": {},
   "outputs": [
    {
     "data": {
      "text/plain": [
       "KstestResult(statistic=0.5000289032239691, pvalue=0.0)"
      ]
     },
     "execution_count": 22,
     "metadata": {},
     "output_type": "execute_result"
    }
   ],
   "source": [
    "stats.kstest(y, 'norm')"
   ]
  },
  {
   "cell_type": "markdown",
   "metadata": {},
   "source": [
    "pvalue should be 0, which means y does not follow normal distribution"
   ]
  },
  {
   "cell_type": "markdown",
   "metadata": {},
   "source": [
    "### End"
   ]
  },
  {
   "cell_type": "code",
   "execution_count": null,
   "metadata": {},
   "outputs": [],
   "source": []
  }
 ],
 "metadata": {
  "kernelspec": {
   "display_name": "Python 3",
   "language": "python",
   "name": "python3"
  },
  "language_info": {
   "codemirror_mode": {
    "name": "ipython",
    "version": 3
   },
   "file_extension": ".py",
   "mimetype": "text/x-python",
   "name": "python",
   "nbconvert_exporter": "python",
   "pygments_lexer": "ipython3",
   "version": "3.7.4"
  }
 },
 "nbformat": 4,
 "nbformat_minor": 5
}
